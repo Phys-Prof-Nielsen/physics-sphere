{
 "cells": [
  {
   "cell_type": "markdown",
   "metadata": {},
   "source": [
    "# A2.2 Numerical Methods - Practice\n",
    "<hr style=\"height:2px;border-width:0;color:gray;background-color:gray\">"
   ]
  },
  {
   "cell_type": "markdown",
   "metadata": {},
   "source": [
    "## A2.2.1 Finite Difference Method \n",
    "\n",
    "In many real-life applications, we deal with differential equations that can not be solved through standard methods\n",
    "(for example through integration). Some examples are scenarios where acceleration (and/or velocity) is time and/or\n",
    "position dependent and we want to know something about velocity (and/or position). Other examples occur when\n",
    "we include frictional interactions in Netwon's Laws, which in many cases we are left with problems that require numerical methods.\n",
    "\n",
    "We have explored one numerical integration method: the **forward finite difference method**. This method may be applicable when we are dealing with a first-order differential equation. In this case, the **instantaneous slope** (or derivative) is approximated through finite differences. Often our variable of interest $f$ is a function of time $t$. Examples are velocity and position.\n",
    "\n",
    "To solve the problem, we must have a known **starting data point** and a **model of the instantaneous slope**. We can then made successive linear approximations to obtain the answer at a given time (or position) by using the following **iterative equation**: \n",
    "\n",
    "<div class=\"alert alert-success\">\n",
    "    \n",
    "$$ f_{i+1} = f_{i} + f_{i}'\\Delta t \\tag{1}$$\n",
    "</div>\n",
    "\n",
    "where the index $i$ is a notation indicating that we have knowledge of the function values at some time $t_i$ while the next \"step\" $t_{i+1}$ is unknown but is what we want to solve for. This method is an iterative approach and is one example of a numerical integration. **It requires an initial data point $(t_i,f_i(t_i)$ to start the iterative process**.\n",
    "\n",
    "<hr style=\"height:2px;border-width:0;color:gray;background-color:gray\">"
   ]
  },
  {
   "cell_type": "markdown",
   "metadata": {},
   "source": [
    "## A2.2.2 Solving Strategy\n",
    "\n",
    "1. Identify the instantaneous slope given.\n",
    "2. Insert the instantaneous slope into Equation (1). This is our **iterative equation**.\n",
    "3. Choose a time step $\\Delta t$. If solving on paper, choose $\\Delta t = 1$ unless otherwise stated. If using a computer to solve the numerical problem, we can choose a smaller step size. The rule of thumb is: <b>the function we are evaluating can not change considerably over one time step. If it does, we may expect large errors in the approximation</b>.\n",
    "4. Use the initial condition $(t_0, f_0)$ to calculate $(t_1,f_1)$ with $t_1 = t_0 + \\Delta t$.\n",
    "5. Repeat step 5 as many times as needed.\n",
    "    \n",
    "<hr style=\"height:2px;border-width:0;color:gray;background-color:gray\">"
   ]
  },
  {
   "cell_type": "markdown",
   "metadata": {},
   "source": [
    "<div style=\"background-color: #D0D0D0 ; padding: 10px; border: 1px solid black;\">       \n",
    "<header>\n",
    "<h3> Example 1</h3>\n",
    "    </header>\n",
    "    \n",
    "The acceleration of a particle is given by\n",
    "\n",
    "$$ a(t) = vt + 1 $$\n",
    "\n",
    "in the positive x-direction. At $t = 0$ s the velocity is $+1.00$ m/s. Find the velocity at $t = 3$ s.\n",
    "\n",
    "**Solution**\n",
    "    \n",
    "We will follow the suggested steps above:\n",
    "\n",
    "**Step 1**\n",
    "    \n",
    "The acceleration is the instantaneous slope of the velocity vs time graph:\n",
    "\n",
    "**Step 2**\n",
    "    \n",
    "Insert the slope into the iterative equation:\n",
    "    \n",
    "$$ v_{i+1} = v_{i} + (v_{i}t_{i} + 1)\\Delta t $$\n",
    "\n",
    "**Step 3**\n",
    "    \n",
    "With the information given, a time step of $\\Delta t = 1$ s is suitable for calculations by hand.\n",
    "\n",
    "**Step 4**\n",
    "    \n",
    "Our initial condition is $(t_0, f_0) = (0, 1)$. Inserting into our iterative equation, we get:\n",
    "\n",
    "$$ v_{1} = v_{0} + (v_{0}t_{0} + 1)\\Delta t $$\n",
    "\n",
    "$$ v_{1} = (1.00) + [(1.00)(0) + (1)](1) $$\n",
    "\n",
    "$$ v_{1} = 2.00~\\textrm{m/s} $$\n",
    "\n",
    "**Step 5**\n",
    "    \n",
    "We repeat Step 4 until we reach our desired time:\n",
    "\n",
    "$$ v_{2} = v_{1} + (v_{1}t_{1} + 1)\\Delta t $$\n",
    "\n",
    "$$ v_{2} = (2.00) + [(2.00)(1) + (1)](1) $$\n",
    "\n",
    "$$ v_{2} = 5.00~\\textrm{m/s} $$\n",
    "\n",
    "\n",
    "$$ v_{3} = v_{2} + (v_{2}t_{2} + 1)\\Delta t $$\n",
    "\n",
    "$$ v_{3} = (5.00) + [(5.00)(2) + (1)](1) $$\n",
    "\n",
    "$$ v_{3} = 16.0~\\textrm{m/s} $$\n",
    "\n",
    "\n",
    "<div class=\"alert alert-success\">    \n",
    "At t = 3 s, the particle is moving with a velocity of 16.0 m/s in the positive x-direction.\n",
    "</div>\n",
    "</div>\n",
    "\n",
    "<hr style=\"height:2px;border-width:0;color:gray;background-color:gray\">"
   ]
  },
  {
   "cell_type": "markdown",
   "metadata": {},
   "source": [
    "<div class=\"alert alert-warning\">\n",
    "<b>Box 1</b><br>\n",
    "    \n",
    "The acceleration of a particle is given by\n",
    "\n",
    "$$ a(t) = \\frac{1}{v} + 1 $$\n",
    "\n",
    "in the positive x-direction. At $t = 0$ s the velocity is $+1.00$ m/s. Find the velocity at $t = 3$ s.\n",
    "</div>\n",
    "\n",
    "<hr style=\"height:2px;border-width:0;color:gray;background-color:gray\">"
   ]
  },
  {
   "cell_type": "markdown",
   "metadata": {},
   "source": [
    "<div class=\"alert alert-warning\">\n",
    "<b>Box 2</b><br>\n",
    "    \n",
    "The velocity and position of a particle traveling in the +x direction is all tangled up in a mathematical mess that we do not know who integrate:\n",
    "\n",
    "$$ v + xt = t + t^2 $$\n",
    "\n",
    "At $t = 0$ s the position is $0.00$ m. Find the position at $t = 3$ s.\n",
    "</div>\n",
    "\n",
    "<hr style=\"height:2px;border-width:0;color:gray;background-color:gray\">"
   ]
  },
  {
   "cell_type": "markdown",
   "metadata": {},
   "source": [
    "<div class=\"alert alert-warning\">\n",
    "<b>Box 3</b><br>\n",
    "    \n",
    "Consider the particle problem in Box 1. Find the position at t = 3 s if the initial velocity is the same as in Box 1 and the initial position is x = 0 m. \n",
    "\n",
    "</div>\n",
    "\n",
    "<hr style=\"height:2px;border-width:0;color:gray;background-color:gray\">"
   ]
  }
 ],
 "metadata": {
  "kernelspec": {
   "display_name": "Python 3 (ipykernel)",
   "language": "python",
   "name": "python3"
  },
  "language_info": {
   "codemirror_mode": {
    "name": "ipython",
    "version": 3
   },
   "file_extension": ".py",
   "mimetype": "text/x-python",
   "name": "python",
   "nbconvert_exporter": "python",
   "pygments_lexer": "ipython3",
   "version": "3.9.12"
  }
 },
 "nbformat": 4,
 "nbformat_minor": 4
}
