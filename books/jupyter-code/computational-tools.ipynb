{
 "cells": [
  {
   "cell_type": "markdown",
   "id": "018c33ed",
   "metadata": {},
   "source": [
    "# 2 Computational Tools\n",
    "<hr style=\"height:2px;border-width:0;color:gray;background-color:gray\">"
   ]
  },
  {
   "cell_type": "markdown",
   "id": "6569a495",
   "metadata": {},
   "source": [
    "## 2.1 Python Libraries\n",
    "\n",
    "The build-in Python compiler is a software that takes your written code and execute according to certain rules it has been programmed to perform. The compiler itself only understands a small number of commands and that's where libraries comes in. Python libraries contains additional commands and functions that are often used in programming. Pythin is particularly suited for scientific analysis due to certain libraries containing functions used in scientific analysis. These functions are ever growing as more and more programmers and scientists are adding to them. \n",
    "\n",
    "We will specifically use the following libraries in the notes.\n",
    "\n",
    "### 2.1.1 Numpy\n",
    "\n",
    "[Numerical Python](https://numpy.org/) (Numpy) is probably the most used library for scientist due to its ability to handle arrays and use in numerical computing, making it very suitable to deal with vectors, matrices, tensors, and linear algebra in general.\n",
    "\n",
    "### 2.1.2 Sympy\n",
    "\n",
    "[Symbolic Python](https://www.sympy.org/en/index.html) allows us to perform symbolic calculations, which we will find helpful when we have problems involving unknown variables (ever heard about finding $x$?). We will use it to solve equations, find derivatives, and calculate integrals.\n",
    "\n",
    "### 2.1.3 Matplotlib\n",
    "\n",
    "[Matplotlib](https://matplotlib.org/) is a library containing functions to help us visualize data, functions, etc. In essence, it is a library used to make a variety of plots.\n",
    "\n",
    "### 2.1.4 Working with Libraries\n",
    "\n",
    "There are different ways of importing libraries into our Python script. The examples here are using numpy:\n",
    "\n",
    "#### Example 1\n",
    "\n",
    "**import numpy as np**\n",
    "\n",
    "This is a preferred approach. This line tells our compiler that we are importing functions from numpy and **each** time we use a numpy function, we **must** use\n",
    "\n",
    "**np.function_name**\n",
    "\n",
    "For example: **np.arange(0,10,0.1)**\n",
    "\n",
    "The reason it is a preferred method is that certain functions like sine, cosine, and pi, exist in different libraries, but may be slightly different. This way, we are very specific to which library the function comes from.\n",
    "\n",
    "#### Example 2\n",
    "\n",
    "**from numpy import function_name**\n",
    "\n",
    "This one is ok as well. Instead of importing an entire library, we control what we import and is available to us. Although, if we need several functions it can become tedious. \n",
    "\n",
    "For example: **from numpy import arange**\n",
    "\n",
    "then when we call it in the code, we can for example just say\n",
    "\n",
    "**arange(0,10,0.1)**\n",
    "\n",
    "#### Example 3\n",
    "\n",
    "<b>from numpy import *</b>\n",
    "\n",
    "This one should be avoided. In this case we import everything and do **not** need specify where the function comes from when using it in the code. If numpy is the only library then it is not an issue. \n",
    "\n",
    "Let us say we import two libraries:\n",
    "\n",
    "<b>from numpy import *</b><br>\n",
    "<b>from sympy import *</b>\n",
    "\n",
    "Now we want to call the sine function\n",
    "\n",
    "**result = sin(0.25)**\n",
    "\n",
    "We want to use sine from numpy. Unfortunately, sympy also have a sine function and since it was called after numpy it will overwrite the numpy sine function. See the problem?\n",
    "\n",
    "<hr style=\"height:2px;border-width:0;color:gray;background-color:gray\">"
   ]
  },
  {
   "cell_type": "markdown",
   "id": "a1b00a63",
   "metadata": {},
   "source": [
    "## 2.2 Pseudo Code and Comments\n",
    "\n",
    "In the following, I will provide example codes as well as a cell with **pseudo code**. Pseudo code is simply a placeholder with comments for you to enter your program. The pseudo code does not contain any executable code, but contains detailed explanations to what goes where and what that segment of code will do. In essense, the structure guides the program and explains how it works. To many people, this is seen as an integral part of programming and help you understand the process.\n",
    "\n",
    "<hr style=\"height:2px;border-width:0;color:gray;background-color:gray\">"
   ]
  },
  {
   "cell_type": "markdown",
   "id": "5f1788db",
   "metadata": {},
   "source": [
    "## 2.3 Solve Single Equation\n",
    "\n",
    "Imagine we have a box sliding across a horizontal surface with friction. The box has a mass of 2.0 kg, the force of friction is 25 N, there is a 35 N pushing force. What is the acceleration of the box? \n",
    "\n",
    "If you have passed College or University Physics I, I hope you can solve this by hand with no issues. This time, we will use the computer to solve it for us.\n",
    "\n",
    "Newton's 2nd law tells us that (if +x-direction is in direction of motion):\n",
    "\n",
    "$$ +F_{px} + F_{fx} = ma_x $$\n",
    "\n",
    "Symbolic Python solves equations in the form of\n",
    "\n",
    "$$ \\textrm{equation} = 0 $$\n",
    "\n",
    "Hence, we need to cast out working equation into that form:\n",
    "\n",
    "$$ 0 = ma_x - F_{px} - F_{fx} $$\n",
    "\n",
    "Now we are ready to work some magic!"
   ]
  },
  {
   "cell_type": "code",
   "execution_count": 6,
   "id": "86c3d5d4",
   "metadata": {},
   "outputs": [
    {
     "name": "stdout",
     "output_type": "stream",
     "text": [
      "The acceleration of the box is: 5.00000000000000 m/s\n"
     ]
    }
   ],
   "source": [
    "#This problem solves Newton's second problem used as example\n",
    "# Import libraries needed\n",
    "import sympy as sym\n",
    "\n",
    "# define given parameters\n",
    "m = 2.0\n",
    "Ffx = -25.0\n",
    "Fpx = 35.0\n",
    "\n",
    "# define unknown parameter\n",
    "ax = sym.Symbol('ax')\n",
    "\n",
    "#define equation to be solved\n",
    "eq = m*ax - Fpx - Ffx\n",
    "\n",
    "#solve the equation for the variable a\n",
    "sol = sym.solve(eq,ax)\n",
    "\n",
    "#print the result: in this case there is only one solution\n",
    "print('The acceleration of the box is: '+str(sol[0])+' m/s')"
   ]
  },
  {
   "cell_type": "markdown",
   "id": "5b8f7a4d",
   "metadata": {},
   "source": [
    "### Pseudo-code"
   ]
  },
  {
   "cell_type": "code",
   "execution_count": null,
   "id": "63d16148",
   "metadata": {},
   "outputs": [],
   "source": [
    "#------------------------\n",
    "# Objective of Code/script\n",
    "#------------------------\n",
    "\n",
    "\n",
    "#------------------------\n",
    "# Import libraries needed\n",
    "#------------------------\n",
    "\n",
    "\n",
    "#------------------------\n",
    "# define given parameters\n",
    "#------------------------\n",
    "\n",
    "\n",
    "#------------------------\n",
    "# define unknown parameter\n",
    "#------------------------\n",
    "\n",
    "\n",
    "#------------------------\n",
    "#define equation to be solved\n",
    "#------------------------\n",
    "\n",
    "\n",
    "#------------------------\n",
    "#solve the equation for the variable a\n",
    "#------------------------\n",
    "\n",
    "\n",
    "#------------------------\n",
    "#print the result: in this case there is only one solution\n",
    "#------------------------\n",
    "\n",
    "\n",
    "#------------------------\n",
    "# The End\n",
    "#------------------------"
   ]
  },
  {
   "cell_type": "markdown",
   "id": "d0c4f7be",
   "metadata": {},
   "source": [
    "<hr style=\"height:2px;border-width:0;color:gray;background-color:gray\">"
   ]
  },
  {
   "cell_type": "markdown",
   "id": "4f0fc613",
   "metadata": {},
   "source": [
    "## 2.3 Solve N Equations and N Unknowns\n",
    "\n",
    "Imagine we have a box sliding across a horizontal surface with friction. The box has a mass of 2.0 kg, the coefficient of friction is 0.25, there is a 35 N pushing force. What is the acceleration of the box? \n",
    "\n",
    "Newton's 2nd law tells us that (if +x-direction is in direction of motion):\n",
    "\n",
    "$$ +F_{px} + F_{fx} = ma_x $$\n",
    "\n",
    "If +y-direction is \"up\", then we have in the vertical direction:\n",
    "\n",
    "$$ +F_{Ny} + F_{gy} = ma_y $$\n",
    "\n",
    "In this problem, we need two additional equations:\n",
    "\n",
    "$$F_g = mg $$\n",
    "\n",
    "$$ F_f = \\mu F_N $$\n",
    "\n",
    "and the equation of constraint:\n",
    "\n",
    "$$ a_y = 0 $$\n",
    "\n",
    "I will solve this in two ways. One where we insert the additonal equations directly into the two equations from Newton's 2nd law, and one where keep them as separate equations."
   ]
  },
  {
   "cell_type": "markdown",
   "id": "460ef7ae",
   "metadata": {},
   "source": [
    "### Method 1"
   ]
  },
  {
   "cell_type": "code",
   "execution_count": 19,
   "id": "b81097ee",
   "metadata": {},
   "outputs": [
    {
     "name": "stdout",
     "output_type": "stream",
     "text": [
      "{ax: 15.0475000000000, Fny: 19.6200000000000}\n",
      "The acceleration is: 15.0475000000000 m/s^2\n"
     ]
    }
   ],
   "source": [
    "#------------------------\n",
    "# Objective of Code/script\n",
    "#------------------------\n",
    "# Solve two equations with two unknowns\n",
    "# obtained by applying N2. \n",
    "# the unknowns are normal force and x-acceleration\n",
    "\n",
    "#------------------------\n",
    "# Import libraries needed\n",
    "#------------------------\n",
    "import sympy as sym\n",
    "\n",
    "#------------------------\n",
    "# define given parameters\n",
    "#------------------------\n",
    "m = 2.0\n",
    "Fpx = 35.0\n",
    "mu = 0.25\n",
    "g = 9.81  #acceleration of gravity\n",
    "\n",
    "#------------------------\n",
    "# define unknown parameters\n",
    "#------------------------\n",
    "ax = sym.Symbol('ax')\n",
    "Fny = sym.Symbol('Fny')\n",
    "\n",
    "#------------------------\n",
    "#define equations to be solved\n",
    "#------------------------\n",
    "eq1 = m*ax - Fpx + mu*Fny   #inserted Ff = mu*Fny directly\n",
    "eq2 = Fny - m*g  #inserted F_gy = -mg directly and used ay = 0 right away\n",
    "\n",
    "#------------------------\n",
    "#solve the equation for the variables\n",
    "#------------------------\n",
    "sol = sym.solve((eq1,eq2),(ax,Fny))\n",
    "\n",
    "#------------------------\n",
    "#print the result\n",
    "#------------------------\n",
    "print(sol)\n",
    "\n",
    "#make it a little nice\n",
    "a = sol[ax]\n",
    "print('The acceleration is: '+str(a)+' m/s^2')\n",
    "\n",
    "#------------------------\n",
    "# The End\n",
    "#------------------------"
   ]
  },
  {
   "cell_type": "markdown",
   "id": "7da81ae7",
   "metadata": {},
   "source": [
    "### Method 2"
   ]
  },
  {
   "cell_type": "markdown",
   "id": "8f281908",
   "metadata": {},
   "source": [
    "Now let us repeat it, but leaving all equations as individual equations."
   ]
  },
  {
   "cell_type": "code",
   "execution_count": 20,
   "id": "e0c80660",
   "metadata": {},
   "outputs": [
    {
     "name": "stdout",
     "output_type": "stream",
     "text": [
      "{ax: 15.0475000000000, ay: 0.0, Ffx: -4.90500000000000, Fny: 19.6200000000000, Fgy: -19.6200000000000}\n",
      "The acceleration is: 15.0475000000000 m/s^2\n"
     ]
    }
   ],
   "source": [
    "#------------------------\n",
    "# Objective of Code/script\n",
    "#------------------------\n",
    "# Solve two equations with two unknowns\n",
    "# obtained by applying N2. \n",
    "# the unknowns are normal force and x-acceleration\n",
    "\n",
    "#------------------------\n",
    "# Import libraries needed\n",
    "#------------------------\n",
    "import sympy as sym\n",
    "\n",
    "#------------------------\n",
    "# define given parameters\n",
    "#------------------------\n",
    "m = 2.0\n",
    "Fpx = 35.0\n",
    "mu = 0.25\n",
    "g = 9.81  #acceleration of gravity\n",
    "\n",
    "#------------------------\n",
    "# define unknown parameters\n",
    "#------------------------\n",
    "ax = sym.Symbol('ax')\n",
    "ay = sym.Symbol('ay')\n",
    "Ffx = sym.Symbol('Ffx')\n",
    "Fny = sym.Symbol('Fny')\n",
    "Fgy = sym.Symbol('Fgy')\n",
    "\n",
    "#------------------------\n",
    "#define equations to be solved\n",
    "#------------------------\n",
    "eq1 = m*ax - Fpx - Ffx  \n",
    "eq2 = m*ay - Fny - Fgy  \n",
    "eq3 = Fgy + m*g  # Fgy = -mg --> 0 = Fgy + mg\n",
    "eq4 = Ffx + mu*Fny  # Ffx = - mu*Fny --> 0 = Ffx + mu*Fny\n",
    "eq5 = ay   # 0 = ay\n",
    "#------------------------\n",
    "#solve the equation for the variables\n",
    "#------------------------\n",
    "sol = sym.solve((eq1,eq2,eq3,eq4,eq5),(ax,ay,Ffx,Fny,Fgy))\n",
    "\n",
    "#------------------------\n",
    "#print the result\n",
    "#------------------------\n",
    "print(sol)\n",
    "\n",
    "#make it a little nice\n",
    "a = sol[ax]\n",
    "print('The acceleration is: '+str(a)+' m/s^2')\n",
    "\n",
    "#------------------------\n",
    "# The End\n",
    "#------------------------"
   ]
  },
  {
   "cell_type": "markdown",
   "id": "8b87ad82",
   "metadata": {},
   "source": [
    "### Pseudo code"
   ]
  },
  {
   "cell_type": "code",
   "execution_count": null,
   "id": "a62cf933",
   "metadata": {},
   "outputs": [],
   "source": [
    "#------------------------\n",
    "# Objective of Code/script\n",
    "#------------------------\n",
    "\n",
    "\n",
    "#------------------------\n",
    "# Import libraries needed\n",
    "#------------------------\n",
    "\n",
    "\n",
    "#------------------------\n",
    "# define given parameters\n",
    "#------------------------\n",
    "\n",
    "\n",
    "#------------------------\n",
    "# define unknown parameters\n",
    "#------------------------\n",
    "\n",
    "\n",
    "#------------------------\n",
    "#define equations to be solved\n",
    "#------------------------\n",
    "\n",
    "\n",
    "\n",
    "\n",
    "#------------------------\n",
    "#solve the equation for the variables\n",
    "#------------------------\n",
    "\n",
    "\n",
    "#------------------------\n",
    "#print the result\n",
    "#------------------------\n",
    "\n",
    "\n",
    "#------------------------\n",
    "# The End\n",
    "#------------------------"
   ]
  },
  {
   "cell_type": "markdown",
   "id": "8f78d99c",
   "metadata": {},
   "source": [
    "<hr style=\"height:2px;border-width:0;color:gray;background-color:gray\">"
   ]
  },
  {
   "cell_type": "markdown",
   "id": "29e17572",
   "metadata": {},
   "source": [
    "## 2.4 Finding Derivatives\n",
    "\n",
    "Find the derivative of\n",
    "\n",
    "$$ f(x) = 5.0\\sin(2x) $$"
   ]
  },
  {
   "cell_type": "markdown",
   "id": "3c263dab",
   "metadata": {},
   "source": [
    "### Example 1"
   ]
  },
  {
   "cell_type": "code",
   "execution_count": 26,
   "id": "e2f1ddc3",
   "metadata": {},
   "outputs": [
    {
     "name": "stdout",
     "output_type": "stream",
     "text": [
      "The derivative is: 10.0*cos(2*x)\n"
     ]
    }
   ],
   "source": [
    "#------------------------\n",
    "# Objective of Code/script\n",
    "#------------------------\n",
    "# Find the n derivative of a function\n",
    "\n",
    "n = 1\n",
    "\n",
    "#------------------------\n",
    "# Import libraries needed\n",
    "#------------------------\n",
    "import sympy as sym\n",
    "\n",
    "#------------------------\n",
    "# define unknown parameters\n",
    "#------------------------\n",
    "x = sym.Symbol('x')\n",
    "\n",
    "#------------------------\n",
    "# define function \n",
    "#------------------------\n",
    "f = 5.0*sym.sin(2*x)   #use the function sine from sympy\n",
    "\n",
    "#------------------------\n",
    "# find the first derivative \n",
    "#------------------------\n",
    "deriv = sym.diff(f,x,n)  #using 1 is first derivative, 2 is second derivative etc.\n",
    "\n",
    "#------------------------\n",
    "#print the result\n",
    "#------------------------\n",
    "print('The derivative is: '+str(deriv))\n",
    "\n",
    "#------------------------\n",
    "# The End\n",
    "#------------------------"
   ]
  },
  {
   "cell_type": "markdown",
   "id": "799f66af",
   "metadata": {},
   "source": [
    "### Example 2\n",
    "\n",
    "In this example, we will make the output look really pretty."
   ]
  },
  {
   "cell_type": "code",
   "execution_count": 27,
   "id": "abd47eae",
   "metadata": {},
   "outputs": [
    {
     "data": {
      "image/png": "[encoded data removed]",
      "text/latex": [
       "$\\displaystyle \\left\\{ \\frac{d}{d x} 5.0 \\sin{\\left(2 x \\right)} : 10.0 \\cos{\\left(2 x \\right)}\\right\\}$"
      ],
      "text/plain": [
       "⎧d                              ⎫\n",
       "⎨──(5.0⋅sin(2⋅x)): 10.0⋅cos(2⋅x)⎬\n",
       "⎩dx                             ⎭"
      ]
     },
     "execution_count": 27,
     "metadata": {},
     "output_type": "execute_result"
    }
   ],
   "source": [
    "#------------------------\n",
    "# Objective of Code/script\n",
    "#------------------------\n",
    "# Find the n derivative of a function\n",
    "\n",
    "n = 1\n",
    "\n",
    "#------------------------\n",
    "# Import libraries needed\n",
    "#------------------------\n",
    "import sympy as sym\n",
    "\n",
    "#------------------------\n",
    "# Make it look pretty\n",
    "#------------------------\n",
    "sym.init_printing()\n",
    "\n",
    "#------------------------\n",
    "# define unknown parameters\n",
    "#------------------------\n",
    "x = sym.Symbol('x')\n",
    "\n",
    "#------------------------\n",
    "# define function \n",
    "#------------------------\n",
    "f = 5.0*sym.sin(2*x)   #use the function sine from sympy\n",
    "\n",
    "#------------------------\n",
    "# find the first derivative \n",
    "#------------------------\n",
    "deriv = sym.diff(f,x,n)\n",
    "\n",
    "#------------------------\n",
    "#print the result\n",
    "#------------------------\n",
    "#display the function f and its derivative\n",
    "{sym.Derivative(f): deriv}\n",
    "\n",
    "#------------------------\n",
    "# The End\n",
    "#------------------------"
   ]
  },
  {
   "cell_type": "markdown",
   "id": "25bae331",
   "metadata": {},
   "source": [
    "### Pseudo Code"
   ]
  },
  {
   "cell_type": "code",
   "execution_count": null,
   "id": "4b8fc757",
   "metadata": {},
   "outputs": [],
   "source": [
    "#------------------------\n",
    "# Objective of Code/script\n",
    "#------------------------\n",
    "# Find the n derivative of a function\n",
    "\n",
    "#------------------------\n",
    "# Import libraries needed\n",
    "#------------------------\n",
    "\n",
    "\n",
    "#------------------------\n",
    "# define unknown parameters\n",
    "#------------------------\n",
    "\n",
    "\n",
    "#------------------------\n",
    "# define function \n",
    "#------------------------\n",
    "\n",
    "\n",
    "#------------------------\n",
    "# find the derivative \n",
    "#------------------------\n",
    "\n",
    "\n",
    "#------------------------\n",
    "#print the result\n",
    "#------------------------\n",
    "\n",
    "#------------------------\n",
    "# The End\n",
    "#------------------------"
   ]
  },
  {
   "cell_type": "markdown",
   "id": "64a99c9d",
   "metadata": {},
   "source": [
    "<hr style=\"height:2px;border-width:0;color:gray;background-color:gray\">"
   ]
  },
  {
   "cell_type": "markdown",
   "id": "c0d9d3e5",
   "metadata": {},
   "source": [
    "## 2.5 Finding Indefinite Integrals\n",
    "\n",
    "Find the indefinite integral of\n",
    "\n",
    "$$ f(x) = 5.0\\sin(2x) $$"
   ]
  },
  {
   "cell_type": "markdown",
   "id": "b54ccfa0",
   "metadata": {},
   "source": [
    "### Example 1"
   ]
  },
  {
   "cell_type": "code",
   "execution_count": 33,
   "id": "9bff2c7c",
   "metadata": {},
   "outputs": [
    {
     "name": "stdout",
     "output_type": "stream",
     "text": [
      "The integral is: -2.5*cos(2*x)\n"
     ]
    }
   ],
   "source": [
    "#------------------------\n",
    "# Objective of Code/script\n",
    "#------------------------\n",
    "# Find the indefinite integral of a function\n",
    "\n",
    "#------------------------\n",
    "# Import libraries needed\n",
    "#------------------------\n",
    "import sympy as sym\n",
    "\n",
    "#------------------------\n",
    "# define unknown parameters\n",
    "#------------------------\n",
    "x = sym.Symbol('x')\n",
    "\n",
    "#------------------------\n",
    "# define function \n",
    "#------------------------\n",
    "f = 5.0*sym.sin(2*x)   #use the function sine from sympy\n",
    "\n",
    "#------------------------\n",
    "# find the integral \n",
    "#------------------------\n",
    "integral = sym.integrate(f,x)  \n",
    "\n",
    "#------------------------\n",
    "#print the result\n",
    "#------------------------\n",
    "print('The integral is: '+str(integral))\n",
    "\n",
    "#------------------------\n",
    "# The End\n",
    "#------------------------"
   ]
  },
  {
   "cell_type": "markdown",
   "id": "dd1b241e",
   "metadata": {},
   "source": [
    "### Example 2"
   ]
  },
  {
   "cell_type": "code",
   "execution_count": 36,
   "id": "c43bf149",
   "metadata": {},
   "outputs": [
    {
     "data": {
      "image/png": "[encoded data removed]",
      "text/latex": [
       "$\\displaystyle \\left\\{ \\int 5.0 \\sin{\\left(2 x \\right)}\\, dx : - 2.5 \\cos{\\left(2 x \\right)}\\right\\}$"
      ],
      "text/plain": [
       "⎧⌠                               ⎫\n",
       "⎨⎮ 5.0⋅sin(2⋅x) dx: -2.5⋅cos(2⋅x)⎬\n",
       "⎩⌡                               ⎭"
      ]
     },
     "execution_count": 36,
     "metadata": {},
     "output_type": "execute_result"
    }
   ],
   "source": [
    "#------------------------\n",
    "# Objective of Code/script\n",
    "#------------------------\n",
    "# Find the indefinite integral of a function\n",
    "\n",
    "#------------------------\n",
    "# Import libraries needed\n",
    "#------------------------\n",
    "import sympy as sym\n",
    "\n",
    "#------------------------\n",
    "# Make it look pretty\n",
    "#------------------------\n",
    "sym.init_printing()\n",
    "\n",
    "#------------------------\n",
    "# define unknown parameters\n",
    "#------------------------\n",
    "x = sym.Symbol('x')\n",
    "\n",
    "#------------------------\n",
    "# define function \n",
    "#------------------------\n",
    "f = 5.0*sym.sin(2*x)   #use the function sine from sympy\n",
    "\n",
    "#------------------------\n",
    "# find the integral \n",
    "#------------------------\n",
    "integral = sym.integrate(f,x)  \n",
    "\n",
    "#------------------------\n",
    "#print the result\n",
    "#------------------------\n",
    "#display the function f and its derivative\n",
    "{sym.Integral(f): integral}\n",
    "\n",
    "#------------------------\n",
    "# The End\n",
    "#------------------------"
   ]
  },
  {
   "cell_type": "markdown",
   "id": "10a7cb6c",
   "metadata": {},
   "source": [
    "### Pseudo Code"
   ]
  },
  {
   "cell_type": "code",
   "execution_count": null,
   "id": "68db8182",
   "metadata": {},
   "outputs": [],
   "source": [
    "#------------------------\n",
    "# Objective of Code/script\n",
    "#------------------------\n",
    "\n",
    "\n",
    "#------------------------\n",
    "# Import libraries needed\n",
    "#------------------------\n",
    "\n",
    "\n",
    "\n",
    "#------------------------\n",
    "# define unknown parameters\n",
    "#------------------------\n",
    "\n",
    "\n",
    "#------------------------\n",
    "# define function \n",
    "#------------------------\n",
    "\n",
    "\n",
    "#------------------------\n",
    "# find the integral \n",
    "#------------------------\n",
    "\n",
    "\n",
    "#------------------------\n",
    "#print the result\n",
    "#------------------------\n",
    "\n",
    "\n",
    "#------------------------\n",
    "# The End\n",
    "#------------------------"
   ]
  },
  {
   "cell_type": "markdown",
   "id": "243a6451",
   "metadata": {},
   "source": [
    "<hr style=\"height:2px;border-width:0;color:gray;background-color:gray\">"
   ]
  },
  {
   "cell_type": "markdown",
   "id": "838b0cd3",
   "metadata": {},
   "source": [
    "## 2.6 Finding Definite Integrals\n",
    "\n",
    "Find the definite integral of\n",
    "\n",
    "$$ f(x) = 5.0\\sin(2x) $$ \n",
    "\n",
    "between $x = 0$ and $x = 2$."
   ]
  },
  {
   "cell_type": "markdown",
   "id": "a5461d51",
   "metadata": {},
   "source": [
    "### Example 1"
   ]
  },
  {
   "cell_type": "code",
   "execution_count": 35,
   "id": "1fb0205c",
   "metadata": {},
   "outputs": [
    {
     "name": "stdout",
     "output_type": "stream",
     "text": [
      "The integral is: 4.13410905215903\n"
     ]
    }
   ],
   "source": [
    "#------------------------\n",
    "# Objective of Code/script\n",
    "#------------------------\n",
    "# Find the indefinite integral of a function\n",
    "\n",
    "#------------------------\n",
    "# Import libraries needed\n",
    "#------------------------\n",
    "import sympy as sym\n",
    "\n",
    "#------------------------\n",
    "# Specify boundaries of integration\n",
    "#------------------------\n",
    "x1 = 0.0\n",
    "x2 = 2.0\n",
    "\n",
    "#------------------------\n",
    "# define unknown parameters\n",
    "#------------------------\n",
    "x = sym.Symbol('x')\n",
    "\n",
    "#------------------------\n",
    "# define function \n",
    "#------------------------\n",
    "f = 5.0*sym.sin(2*x)   #use the function sine from sympy\n",
    "\n",
    "#------------------------\n",
    "# find the integral \n",
    "#------------------------\n",
    "integral = sym.integrate(f,(x,x1,x2))  \n",
    "\n",
    "#------------------------\n",
    "#print the result\n",
    "#------------------------\n",
    "print('The integral is: '+str(integral))\n",
    "\n",
    "#------------------------\n",
    "# The End\n",
    "#------------------------"
   ]
  },
  {
   "cell_type": "markdown",
   "id": "1a067e99",
   "metadata": {},
   "source": [
    "### Example 2"
   ]
  },
  {
   "cell_type": "code",
   "execution_count": 38,
   "id": "eacf7223",
   "metadata": {},
   "outputs": [
    {
     "data": {
      "image/png": "[encoded data removed]",
      "text/latex": [
       "$\\displaystyle \\left\\{ \\int\\limits_{0.0}^{2.0} 5.0 \\sin{\\left(2 x \\right)}\\, dx : 4.13410905215903\\right\\}$"
      ],
      "text/plain": [
       "⎧2.0                                  ⎫\n",
       "⎪ ⌠                                   ⎪\n",
       "⎨ ⎮  5.0⋅sin(2⋅x) dx: 4.13410905215903⎬\n",
       "⎪ ⌡                                   ⎪\n",
       "⎩0.0                                  ⎭"
      ]
     },
     "execution_count": 38,
     "metadata": {},
     "output_type": "execute_result"
    }
   ],
   "source": [
    "#------------------------\n",
    "# Objective of Code/script\n",
    "#------------------------\n",
    "# Find the indefinite integral of a function\n",
    "\n",
    "#------------------------\n",
    "# Import libraries needed\n",
    "#------------------------\n",
    "import sympy as sym\n",
    "\n",
    "#------------------------\n",
    "# Make it look pretty\n",
    "#------------------------\n",
    "sym.init_printing()\n",
    "\n",
    "#------------------------\n",
    "# Specify boundaries of integration\n",
    "#------------------------\n",
    "x1 = 0.0\n",
    "x2 = 2.0\n",
    "\n",
    "#------------------------\n",
    "# define unknown parameters\n",
    "#------------------------\n",
    "x = sym.Symbol('x')\n",
    "\n",
    "#------------------------\n",
    "# define function \n",
    "#------------------------\n",
    "f = 5.0*sym.sin(2*x)   #use the function sine from sympy\n",
    "\n",
    "#------------------------\n",
    "# find the integral \n",
    "#------------------------\n",
    "integral = sym.integrate(f,(x,x1,x2))  \n",
    "\n",
    "#------------------------\n",
    "#print the result\n",
    "#------------------------\n",
    "#display the function f and its derivative\n",
    "{sym.Integral(f,(x,x1,x2)): integral}\n",
    "\n",
    "#------------------------\n",
    "# The End\n",
    "#------------------------"
   ]
  },
  {
   "cell_type": "markdown",
   "id": "b10f37ce",
   "metadata": {},
   "source": [
    "### Pseudo Code"
   ]
  },
  {
   "cell_type": "code",
   "execution_count": 39,
   "id": "14433b32",
   "metadata": {},
   "outputs": [],
   "source": [
    "#------------------------\n",
    "# Objective of Code/script\n",
    "#------------------------\n",
    "\n",
    "\n",
    "#------------------------\n",
    "# Import libraries needed\n",
    "#------------------------\n",
    "\n",
    "\n",
    "#------------------------\n",
    "# Specify boundaries of integration\n",
    "#------------------------\n",
    "\n",
    "\n",
    "#------------------------\n",
    "# define unknown parameters\n",
    "#------------------------\n",
    "\n",
    "\n",
    "#------------------------\n",
    "# define function \n",
    "#------------------------\n",
    "\n",
    "\n",
    "#------------------------\n",
    "# find the integral \n",
    "#------------------------\n",
    "\n",
    "\n",
    "#------------------------\n",
    "#print the result\n",
    "#------------------------\n",
    "\n",
    "\n",
    "#------------------------\n",
    "# The End\n",
    "#------------------------"
   ]
  },
  {
   "cell_type": "markdown",
   "id": "5226f439",
   "metadata": {},
   "source": [
    "<hr style=\"height:2px;border-width:0;color:gray;background-color:gray\">"
   ]
  },
  {
   "cell_type": "markdown",
   "id": "71252267",
   "metadata": {},
   "source": [
    "## 2.7 Basic Plotting\n",
    "\n",
    "Make a plot of the following function:\n",
    "\n",
    "$$ f(x) = 5.0x + 20.0 $$"
   ]
  },
  {
   "cell_type": "code",
   "execution_count": 2,
   "id": "b63904ea",
   "metadata": {},
   "outputs": [
    {
     "data": {
      "image/png": "[encoded data removed]",
      "text/plain": [
       "<Figure size 640x480 with 1 Axes>"
      ]
     },
     "metadata": {},
     "output_type": "display_data"
    }
   ],
   "source": [
    "#------------------------\n",
    "# Objective of Code/script\n",
    "#------------------------\n",
    "# Create a simple plot of a function\n",
    "\n",
    "#------------------------\n",
    "# Import libraries needed\n",
    "#------------------------\n",
    "import numpy as np\n",
    "import matplotlib.pyplot as plt\n",
    "\n",
    "#------------------------\n",
    "# Create an array of the independent variable, for example x or t\n",
    "#------------------------\n",
    "x = np.arange(0,10.1,0.1)   #array from 0-10 in step size of 0.1\n",
    "\n",
    "#------------------------\n",
    "# Calculate the function to be plotted\n",
    "#------------------------\n",
    "f = 5.0*x + 20.0\n",
    "\n",
    "#------------------------\n",
    "# Set up the plot environment\n",
    "#------------------------\n",
    "plt.figure()\n",
    "plt.ylabel('f(x)')\n",
    "plt.xlabel('x')\n",
    "ax = plt.gca()\n",
    "ax.plot(x,f,'-',color='r')    # solid line and red color\n",
    "ax.set_xlim([0, np.max(x)+0.5])   #set axis limits\n",
    "ax.set_ylim([0, np.max(f)+3])\n",
    "\n",
    "plt.show()\n",
    "\n",
    "#------------------------\n",
    "# The End\n",
    "#------------------------"
   ]
  },
  {
   "cell_type": "markdown",
   "id": "3987cd6a",
   "metadata": {},
   "source": [
    "### Pseudo Code"
   ]
  },
  {
   "cell_type": "code",
   "execution_count": null,
   "id": "f423c63b",
   "metadata": {},
   "outputs": [],
   "source": [
    "#------------------------\n",
    "# Objective of Code/script\n",
    "#------------------------\n",
    "\n",
    "\n",
    "#------------------------\n",
    "# Import libraries needed\n",
    "#------------------------\n",
    "\n",
    "#------------------------\n",
    "# Create an array of the independent variable, for example x or t\n",
    "#------------------------\n",
    "\n",
    "\n",
    "#------------------------\n",
    "# Calculate the function to be plotted\n",
    "#------------------------\n",
    "\n",
    "#------------------------\n",
    "# Set up the plot environment\n",
    "#------------------------\n",
    "\n",
    "#------------------------\n",
    "# The End\n",
    "#------------------------"
   ]
  },
  {
   "cell_type": "markdown",
   "id": "d1bc1d7b",
   "metadata": {},
   "source": [
    "<hr style=\"height:2px;border-width:0;color:gray;background-color:gray\">"
   ]
  }
 ],
 "metadata": {
  "kernelspec": {
   "display_name": "Python 3 (ipykernel)",
   "language": "python",
   "name": "python3"
  },
  "language_info": {
   "codemirror_mode": {
    "name": "ipython",
    "version": 3
   },
   "file_extension": ".py",
   "mimetype": "text/x-python",
   "name": "python",
   "nbconvert_exporter": "python",
   "pygments_lexer": "ipython3",
   "version": "3.10.9"
  }
 },
 "nbformat": 4,
 "nbformat_minor": 5
}
