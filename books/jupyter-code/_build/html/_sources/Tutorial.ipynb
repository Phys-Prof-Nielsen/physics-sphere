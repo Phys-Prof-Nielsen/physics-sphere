{
 "cells": [
  {
   "cell_type": "markdown",
   "id": "f3a4f13f",
   "metadata": {},
   "source": [
    "# 3. Tutorial: Using Jupyter to Solve Basic Physics Problems\n",
    "<hr style=\"height:2px;border-width:0;color:gray;background-color:gray\">"
   ]
  },
  {
   "cell_type": "markdown",
   "id": "94381afa",
   "metadata": {},
   "source": [
    "## 1. Motivation\n",
    "\n",
    "Early exposure to computer programming is becoming increasingly vital for the core science education and future careers. As the complexity of physical systems grows and analytical solutions become less practical, computational methods have emerged as a powerful tool for problem-solving. Introducing students to programming early allows them to approach physics problems with greater flexibility, enabling them to tackle complex equations, simulate real-world scenarios, and analyze large datasets. This skill helps bridge the gap between theoretical understanding and practical application, fostering a more comprehensive grasp of the subject. Additionally, programming provides students with immediate feedback, encouraging iterative learning and deeper exploration of physics concepts.\n",
    "\n",
    "From an employment perspective, proficiency in programming opens a wide range of career opportunities for science graduates. Today, many industries such as data science, engineering, finance, and technology demand employees who are not only strong in their core discipline but also adept in computational skills. Whether developing algorithms, modeling physical phenomena, or automating processes, the ability to code is often a prerequisite for these roles. By learning to code alongside physics, students acquire a competitive edge in the job market, ensuring they are equipped to handle the demands of modern scientific and technical careers. Many employers look for candidates who can efficiently work with software tools, write custom programs, and leverage data to solve problems that are cultivated through early exposure to programming.\n",
    "\n",
    "Moreover, computer programming fosters transferable skills like logical thinking, problem decomposition, and algorithmic design, which are highly sought after across various fields. Even for students who may not pursue a career directly related to physics, programming is a versatile tool that enhances their employability in a technology-driven world. As industries continue to adopt automation, artificial intelligence, and machine learning, the demand for professionals who can understand and apply computational techniques will only grow. Thus, integrating programming into the early physics curriculum not only enriches the learning experience but also prepares students for the future job market.\n",
    "\n",
    "It is my own experience that students who embrace the computer as a tool strongly improve the methodological approach to problem solving and thus better at solving more complex problems encountered in university physics.\n",
    "\n",
    "This notebook is an opportunity to use the computer to solve physics problems in a guided approach.\n",
    "\n",
    "<hr style=\"height:2px;border-width:0;color:gray;background-color:gray\">"
   ]
  },
  {
   "cell_type": "markdown",
   "id": "11deff07",
   "metadata": {},
   "source": [
    "## 2. The First Step\n",
    "\n",
    "The cell below is an empty Python code cell. As it is right now, you can't enter anything into the cell. To activate the cell, you need to make it interactive. \n",
    "\n",
    "<div class=\"alert alert-success\">\n",
    "\n",
    "**Active Code Cell**\n",
    "    \n",
    "To activate the code cell, click on the Rocket button in the upper right corner of this web page. It will give you two options: Colab and Live Code. We will be using Live Code.\n",
    "    \n",
    "</div>\n",
    "\n",
    "It may take a little bit of time for the activation to kick in the first time. My experience it can vary from a few seconds to a few minutes, so please be patient.\n",
    "\n",
    "When it is active, you should see three buttons: \"run\", \"restart\", and \"restart & run all\" as well as being able to type into the box.\n",
    "\n",
    "### The '#'\n",
    "\n",
    "You may notice that the cell is not completely empty. I inserted a comment using the \"#\" symbol. This is a way to make comments as Python will ignore what comes after the \"#\" symbol.\n",
    "\n",
    "<hr style=\"height:2px;border-width:0;color:gray;background-color:gray\">"
   ]
  },
  {
   "cell_type": "code",
   "execution_count": 2,
   "id": "00188607",
   "metadata": {},
   "outputs": [],
   "source": [
    "# Empty Cell"
   ]
  },
  {
   "cell_type": "markdown",
   "id": "bedcfe85",
   "metadata": {},
   "source": [
    "## 3. The Print Statement\n",
    "\n",
    "This is always the first thing to do when you make your first program. If you want to print a statement to the screen, the command is simply\n",
    "\n",
    "*print('')*\n",
    "\n",
    "where your statement goes between the quotation marks. Try it in the cell below. I made an example below in case you have problems."
   ]
  },
  {
   "cell_type": "code",
   "execution_count": 3,
   "id": "131d6a6e",
   "metadata": {},
   "outputs": [],
   "source": [
    "# Make a print statement here"
   ]
  },
  {
   "cell_type": "code",
   "execution_count": 4,
   "id": "c2db8f8f",
   "metadata": {
    "tags": [
     "hide-input",
     "hide-output"
    ]
   },
   "outputs": [
    {
     "name": "stdout",
     "output_type": "stream",
     "text": [
      "You are my favorite student\n"
     ]
    }
   ],
   "source": [
    "print('You are my favorite student')"
   ]
  },
  {
   "cell_type": "markdown",
   "id": "934bfd73",
   "metadata": {},
   "source": [
    "Let us try another print example. Let is try to print out the square root of 4. Try this:\n",
    "\n",
    "*print(sqrt(4))*\n",
    "\n",
    "We don't need quotation marks since we are not printing text but a number."
   ]
  },
  {
   "cell_type": "code",
   "execution_count": 7,
   "id": "0dcd6f11",
   "metadata": {},
   "outputs": [],
   "source": [
    "# Calculate and print the square root"
   ]
  },
  {
   "cell_type": "markdown",
   "id": "bf5f9795",
   "metadata": {},
   "source": [
    "You should be getting an error message stating that the *sqrt* is not defined. This is because the program does not know what square root is. The basic Python compiler only have basic arithmetic functions, so we need to import stuff.\n",
    "\n",
    "<hr style=\"height:2px;border-width:0;color:gray;background-color:gray\">"
   ]
  },
  {
   "cell_type": "markdown",
   "id": "f5516f2f",
   "metadata": {},
   "source": [
    "## 4. Python and Importing Packages\n",
    "\n",
    "Python is a great programming language to learn. It is relatively easy to learn basic skills but it is incredible powerful for more in-depth programming. The basic Python compiler is not that helpful for us to solve physics problems, however, additional packages exists that are developed for scientific analysis in mind.\n",
    "\n",
    "We will be using two packages.\n",
    "\n",
    "1. numpy: Numerical Python is a package that allows us to use arrays (don't worry about what that is), trigonometric functions, the value of pi, absolute value, square roots, etc.\n",
    "\n",
    "2. sympy: Symbolic Python is a package that allows us to assign variables, like $x$ and $y$, and solve system of equations, take derivatives, and find integrals, among other things.\n",
    "\n",
    "### Import a Python Package\n",
    "\n",
    "There are multiple ways to import a package. Below I list a few. The italic text is the script you will type in your code cell.\n",
    "\n",
    "#### Method 1\n",
    "\n",
    "<i>from numpy import *</i>\n",
    "\n",
    "The above statement makes **all** functions avaliable to you. \n",
    "\n",
    "<div class=\"alert alert-danger\">\n",
    "\n",
    "This method should be avoided if using multiple packages. For example, say you import all numpy functions and subsequently import all functions from a package named *math*. Both packages contains functions of same names, and the last called package will override those functions from the first package. Unfortunately, they don't necessarily work the same way. Hence, you may think you are using the cosine function from numpy but are really using the cosine function from math and end up not getting the answer you want.\n",
    "    \n",
    "</div>\n",
    "\n",
    "#### Method 2\n",
    "\n",
    "Alternatively, we can prevent the above mishap but doing something like this:\n",
    "\n",
    "*from numpy import cos,sin,sqrt,pi*\n",
    "\n",
    "Try and type this in the cell below, and the repeat the print statement of the square root."
   ]
  },
  {
   "cell_type": "code",
   "execution_count": 11,
   "id": "20265888",
   "metadata": {},
   "outputs": [],
   "source": [
    "# import functions from numerical python below this line\n",
    "\n",
    "# make a print statement printing the square root of your favorite positive, finite number\n"
   ]
  },
  {
   "cell_type": "code",
   "execution_count": 12,
   "id": "8090ca9d",
   "metadata": {
    "tags": [
     "hide-input",
     "hide-output"
    ]
   },
   "outputs": [
    {
     "name": "stdout",
     "output_type": "stream",
     "text": [
      "25.80697580112788\n"
     ]
    }
   ],
   "source": [
    "# import functions from numerical python below this line\n",
    "from numpy import cos,sin,sqrt,pi\n",
    "\n",
    "# make a print statement printing the square root of your favorite positive, finite number\n",
    "print(sqrt(666))"
   ]
  },
  {
   "cell_type": "markdown",
   "id": "94ab9875",
   "metadata": {},
   "source": [
    "#### Method 3\n",
    "\n",
    "My favorite method is to assign all functions from the package imported with a keyword associated to the specific package. For example, the keywork **np** could be used to describe **numpy**. We could also call it **hamster** but that is not very descriptive.\n",
    "\n",
    "*import numpy as np*\n",
    "\n",
    "This tells the program that any functions associated with **np** should be imported from **numpy**. For example,\n",
    "\n",
    "*np.sqrt*\n",
    "\n",
    "implies we are using the square root function from **numpy**.\n",
    "\n",
    "Try it below!"
   ]
  },
  {
   "cell_type": "code",
   "execution_count": 13,
   "id": "c1aad4b3",
   "metadata": {},
   "outputs": [],
   "source": [
    "# import numpy by associating a keyword to numpy\n",
    "\n",
    "\n",
    "# make a print statement using the square root from numpy"
   ]
  },
  {
   "cell_type": "code",
   "execution_count": 14,
   "id": "66e0b58f",
   "metadata": {
    "tags": [
     "hide-input",
     "hide-output"
    ]
   },
   "outputs": [
    {
     "name": "stdout",
     "output_type": "stream",
     "text": [
      "25.80697580112788\n"
     ]
    }
   ],
   "source": [
    "# import numpy by associating a keyword to numpy\n",
    "import numpy as np\n",
    "\n",
    "# make a print statement using the square root from numpy\n",
    "print(np.sqrt(666))"
   ]
  },
  {
   "cell_type": "markdown",
   "id": "1469b04b",
   "metadata": {},
   "source": [
    "<hr style=\"height:2px;border-width:0;color:gray;background-color:gray\">"
   ]
  },
  {
   "cell_type": "markdown",
   "id": "ca0ad327",
   "metadata": {},
   "source": [
    "## 5. Test 1\n",
    "\n",
    "Write a small script that will print out the value of $\\sin(\\pi/4)$"
   ]
  },
  {
   "cell_type": "code",
   "execution_count": 15,
   "id": "c3cb5f42",
   "metadata": {},
   "outputs": [],
   "source": [
    "# Type your solution to Test 1 below"
   ]
  },
  {
   "cell_type": "code",
   "execution_count": 16,
   "id": "632a21e3",
   "metadata": {
    "tags": [
     "hide-input",
     "hide-output"
    ]
   },
   "outputs": [
    {
     "name": "stdout",
     "output_type": "stream",
     "text": [
      "0.7071067811865475\n"
     ]
    }
   ],
   "source": [
    "# import numpy by associating a keyword to numpy\n",
    "import numpy as np\n",
    "\n",
    "# make a print statement using the sine function and the value of pi from numpy\n",
    "print(np.sin(np.pi/4))"
   ]
  },
  {
   "cell_type": "markdown",
   "id": "8483c33c",
   "metadata": {},
   "source": [
    "<hr style=\"height:2px;border-width:0;color:gray;background-color:gray\">"
   ]
  },
  {
   "cell_type": "markdown",
   "id": "d09aa379",
   "metadata": {},
   "source": [
    "## 6. Create Variables\n",
    "\n",
    "Some programming languages require us to declare a variable, but Pythong does not. We simply assign a value to it.\n",
    "\n",
    "For example, we can declare the following variables for mass (in kg) and angle (in degrees):\n",
    "\n",
    "*m = 4.0*\n",
    "\n",
    "*angle = 12.0*\n",
    "\n",
    "Try this for yourself and print out the value of the angle."
   ]
  },
  {
   "cell_type": "code",
   "execution_count": 19,
   "id": "f1ad610d",
   "metadata": {},
   "outputs": [],
   "source": [
    "# Create variables below\n",
    "\n",
    "# Print out the value of the variable: angle"
   ]
  },
  {
   "cell_type": "code",
   "execution_count": 18,
   "id": "f1c4367e",
   "metadata": {
    "tags": [
     "hide-input",
     "hide-output"
    ]
   },
   "outputs": [
    {
     "name": "stdout",
     "output_type": "stream",
     "text": [
      "12.0\n"
     ]
    }
   ],
   "source": [
    "# Create variables below\n",
    "\n",
    "m = 4.0  #mass in kg\n",
    "angle = 12.0  #angle in degrees\n",
    "\n",
    "print(angle)"
   ]
  },
  {
   "cell_type": "markdown",
   "id": "258c385a",
   "metadata": {},
   "source": [
    "<hr style=\"height:2px;border-width:0;color:gray;background-color:gray\">"
   ]
  },
  {
   "cell_type": "markdown",
   "id": "a576a052",
   "metadata": {},
   "source": [
    "## 5. Test 2\n",
    "\n",
    "Write a small script that will create a new variable *theta*, which is the value of *angle* but in radians. Then print out the value of $\\sin(theta)$."
   ]
  },
  {
   "cell_type": "code",
   "execution_count": 20,
   "id": "99db5d18",
   "metadata": {},
   "outputs": [],
   "source": [
    "# Write a script to print out the correct value of sin(theta)"
   ]
  },
  {
   "cell_type": "code",
   "execution_count": 21,
   "id": "eab14039",
   "metadata": {},
   "outputs": [
    {
     "name": "stdout",
     "output_type": "stream",
     "text": [
      "0.20791169081775934\n"
     ]
    }
   ],
   "source": [
    "theta = (angle)*(np.pi/180.0)\n",
    "\n",
    "print(np.sin(theta))"
   ]
  },
  {
   "cell_type": "markdown",
   "id": "ed0f3024",
   "metadata": {},
   "source": [
    "<hr style=\"height:2px;border-width:0;color:gray;background-color:gray\">"
   ]
  },
  {
   "cell_type": "markdown",
   "id": "fcd934d2",
   "metadata": {},
   "source": [
    "## 6. The \"reset\" Function\n",
    "\n",
    "This is a very important function to implement. If you noticed, in the last two code cells, I did not import numpy, and in the last code cell I didn't specify what *angle* was. I didn't have to do it since the last cell will **remember** what was typed in the previous cells. That is both good and bad. It is good since we don't have to keep typing the same thing over and over. However, if we are doing our activity problems on the Physics Sphere, we are doing several problems on the same web page and the following problem may arise:\n",
    "\n",
    "<div class=\"alert alert-danger\">\n",
    "\n",
    "Say we have a problem where we defined the mass of particle to be 4.0 kg. Then in the following problem, we have a problem with a mass of 0.5 kg. Unfortunately, we forget to define that new mass. The program will then remember that is a variable defined as m = 4.0 and use that instead. **NOT GOOD**. I speak from experience :)\n",
    "</div>\n",
    "\n",
    "To circumvent this problem, we can erase all information from previous cells by using\n",
    "\n",
    "*reset -f*\n",
    "\n",
    "The key parameter *f* simply means we are **forcing** a reset.\n",
    "\n",
    "<hr style=\"height:2px;border-width:0;color:gray;background-color:gray\">"
   ]
  },
  {
   "cell_type": "code",
   "execution_count": null,
   "id": "53669dbc",
   "metadata": {},
   "outputs": [],
   "source": []
  }
 ],
 "metadata": {
  "celltoolbar": "Tags",
  "kernelspec": {
   "display_name": "Python 3 (ipykernel)",
   "language": "python",
   "name": "python3"
  },
  "language_info": {
   "codemirror_mode": {
    "name": "ipython",
    "version": 3
   },
   "file_extension": ".py",
   "mimetype": "text/x-python",
   "name": "python",
   "nbconvert_exporter": "python",
   "pygments_lexer": "ipython3",
   "version": "3.10.9"
  }
 },
 "nbformat": 4,
 "nbformat_minor": 5
}
