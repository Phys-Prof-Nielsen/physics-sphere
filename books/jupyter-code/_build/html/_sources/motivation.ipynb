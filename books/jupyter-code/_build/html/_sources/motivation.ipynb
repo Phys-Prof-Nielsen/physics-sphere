{
 "cells": [
  {
   "cell_type": "markdown",
   "metadata": {},
   "source": [
    "# 1 Introduction\n",
    "<hr style=\"height:2px;border-width:0;color:gray;background-color:gray\">"
   ]
  },
  {
   "cell_type": "markdown",
   "metadata": {},
   "source": [
    "## 1.1 Motivation\n",
    "\n",
    "Jupyter Notebook is an extremely powerful and very useful tool to a scientist for many reasons. My reasons to use it in my classes are:\n",
    "\n",
    "* I firmly believe that as a modern-day scientist, you will need to know some basic programming skills, however, most students are not required to take a course in programming. I want to point out: the courses are not programming classes, and you will not become a programming expert from these notes. Instead, I expose you to how we can use programming in our science courses to our advantage. I strongly encourage you to accept the challenge. I will provide the computer scripts, and at times, ask you to make small modifications to it. I repeat, you are not expected to have prior knowledge of computer coding to perform these exercises. \n",
    "\n",
    "* Jupyter allows us to write formatted text, nice looking equations, and executing computer code within the same document, which makes it very suitable for homework, small projects, summaries, etc.\n",
    "\n",
    "* Embedded in Jupyter is the Python computer language, which is widely used in the scientific communities. With that comes tools for analysis, plotting, and even solving equations symbolically. Way cool!\n",
    "    \n",
    "<hr style=\"height:2px;border-width:0;color:gray;background-color:gray\">"
   ]
  },
  {
   "cell_type": "markdown",
   "metadata": {},
   "source": [
    "## 1.2 Using Jupyter for Coding\n",
    "\n",
    "The default compiler used in Jupyter is a Python compiler. \n",
    "\n",
    "### Stand-alone\n",
    "\n",
    "While [Jupyter](https://jupyter.org/) can be deployed directly from a web browser, I strongly recommend you install it on your computer if you are serious about learning it. The version I recommend to install comes as part of a scientific software package called [Anaconda](https://www.anaconda.com/), and it has all the python packages included that we will be using in our courses.\n",
    "\n",
    "There is an app to run Jupyter on iOS too called [Carnet](https://holzschu.github.io/Carnets_Jupyter/).\n",
    "\n",
    "In this compendium, I will use the following option.\n",
    "\n",
    "### Embedded in the Physics Sphere Notes\n",
    "\n",
    "The notes you are reading are created using [Jupyter Book](https://jupyterbook.org/en/stable/intro.html). There are many advantages to using Jupyter book when dealing with many notebooks aside from organization. One of them is the ability to make the code cells **interactive** in the browser using the **Thebe Project**. In your e-books/notes you will see a small rocket ship in the top navigation bar. \n",
    "\n",
    "<div class=\"alert alert-success\">\n",
    "    \n",
    "The small rocket ship in the navigation bar can be used to make all the code cells in your e-books/notes interactive and allow you to run/edit Python programs within the e-book/note. \n",
    "</div>\n",
    "\n",
    "This feature can be a great help in doing homework, test problems, etc., but I also hope it will encourage you to sit down and take a moment to analyze the code, understand what it is doing, and maybe inspire you to utilize it on a regular basis.\n",
    "\n",
    "Let us try a simple examle here. In the box below you find a simple multiplication calculator. I have programmed two numbers by default. Try and use the rocket ship button, run the program and then edit it to multiply other numbers."
   ]
  },
  {
   "cell_type": "code",
   "execution_count": 1,
   "metadata": {},
   "outputs": [
    {
     "name": "stdout",
     "output_type": "stream",
     "text": [
      "15.0\n"
     ]
    }
   ],
   "source": [
    "a = 3.0\n",
    "b = 5.0\n",
    "\n",
    "result = a*b\n",
    "\n",
    "print(result)"
   ]
  },
  {
   "cell_type": "markdown",
   "metadata": {},
   "source": [
    "<hr style=\"height:2px;border-width:0;color:gray;background-color:gray\">"
   ]
  }
 ],
 "metadata": {
  "celltoolbar": "Tags",
  "kernelspec": {
   "display_name": "Python 3 (ipykernel)",
   "language": "python",
   "name": "python3"
  },
  "language_info": {
   "codemirror_mode": {
    "name": "ipython",
    "version": 3
   },
   "file_extension": ".py",
   "mimetype": "text/x-python",
   "name": "python",
   "nbconvert_exporter": "python",
   "pygments_lexer": "ipython3",
   "version": "3.10.9"
  }
 },
 "nbformat": 4,
 "nbformat_minor": 2
}
