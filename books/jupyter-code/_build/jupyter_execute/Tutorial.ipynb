{
 "cells": [
  {
   "cell_type": "markdown",
   "id": "3271f3db",
   "metadata": {},
   "source": [
    "# Tutorial: Using Jupyter to Solve Basic Physics Problems\n",
    "<hr style=\"height:2px;border-width:0;color:gray;background-color:gray\">"
   ]
  },
  {
   "cell_type": "markdown",
   "id": "c168ab0e",
   "metadata": {},
   "source": [
    "## 1. Motivation\n",
    "\n",
    "Early exposure to computer programming is becoming increasingly vital for the core science education and future careers. As the complexity of physical systems grows and analytical solutions become less practical, computational methods have emerged as a powerful tool for problem-solving. Introducing students to programming early allows them to approach physics problems with greater flexibility, enabling them to tackle complex equations, simulate real-world scenarios, and analyze large datasets. This skill helps bridge the gap between theoretical understanding and practical application, fostering a more comprehensive grasp of the subject. Additionally, programming provides students with immediate feedback, encouraging iterative learning and deeper exploration of physics concepts.\n",
    "\n",
    "From an employment perspective, proficiency in programming opens a wide range of career opportunities for science graduates. Today, many industries such as data science, engineering, finance, and technology demand employees who are not only strong in their core discipline but also adept in computational skills. Whether developing algorithms, modeling physical phenomena, or automating processes, the ability to code is often a prerequisite for these roles. By learning to code alongside physics, students acquire a competitive edge in the job market, ensuring they are equipped to handle the demands of modern scientific and technical careers. Many employers look for candidates who can efficiently work with software tools, write custom programs, and leverage data to solve problems that are cultivated through early exposure to programming.\n",
    "\n",
    "Moreover, computer programming fosters transferable skills like logical thinking, problem decomposition, and algorithmic design, which are highly sought after across various fields. Even for students who may not pursue a career directly related to physics, programming is a versatile tool that enhances their employability in a technology-driven world. As industries continue to adopt automation, artificial intelligence, and machine learning, the demand for professionals who can understand and apply computational techniques will only grow. Thus, integrating programming into the early physics curriculum not only enriches the learning experience but also prepares students for the future job market.\n",
    "\n",
    "It is my own experience that students who embrace the computer as a tool strongly improve the methodological approach to problem solving and thus better at solving more complex problems encountered in university physics.\n",
    "\n",
    "This notebook is an opportunity to use the computer to solve physics problems in a guided approach.\n",
    "\n",
    "<hr style=\"height:2px;border-width:0;color:gray;background-color:gray\">"
   ]
  },
  {
   "cell_type": "markdown",
   "id": "d2e9a204",
   "metadata": {},
   "source": [
    "## 2. The First Step\n",
    "\n",
    "The box below is an empty Python code cell. As it is right now, you can't enter anything into the cell. To activate the cell, you need to make it interactive. \n",
    "\n",
    "<div class=\"alert alert-success\">\n",
    "\n",
    "**Active Code Cell**\n",
    "    \n",
    "To activate the code cell, click on the Rocket button in the upper right corner of this web page. It will give you two options: Colab and Live Code. We will be using Live Code.\n",
    "    \n",
    "</div>\n",
    "\n",
    "It may take a little bit of time for the activation to kick in the first time. My experience it can vary from a few seconds to a few minutes, so please be patient.\n",
    "\n",
    "When it is active, you should see three buttons: \"run\", \"restart\", and \"restart & run all\" as well as being able to type into the box. \n",
    "\n",
    "<hr style=\"height:2px;border-width:0;color:gray;background-color:gray\">"
   ]
  },
  {
   "cell_type": "code",
   "execution_count": null,
   "id": "670b790d",
   "metadata": {},
   "outputs": [],
   "source": []
  },
  {
   "cell_type": "markdown",
   "id": "71930c4c",
   "metadata": {},
   "source": [
    "## 3. About Python\n",
    "\n",
    "Python is a great programming language to learn. It is relatively easy to learn basic skills but it is incredible powerful for more in-depth programming. The basic Python compiler is not that helpful for us to solve physics problems, however, additional packages exists that are developed for scientific analysis in mind.\n",
    "\n",
    "We will be using two packages.\n",
    "\n",
    "1. numpy: Numerical Python is a package that allows us to use arrays (don't worry about what that is), trigonometric functions, the value of pi, absolute value, square roots, etc.\n",
    "\n",
    "2. sympy: Symbolic Python is a package that allows us to assign variables, like $x$ and $y$, and solve system of equations, take derivatives, and find integrals, among other things.\n",
    "\n"
   ]
  },
  {
   "cell_type": "code",
   "execution_count": null,
   "id": "ed993d86",
   "metadata": {},
   "outputs": [],
   "source": []
  }
 ],
 "metadata": {
  "kernelspec": {
   "display_name": "Python 3 (ipykernel)",
   "language": "python",
   "name": "python3"
  },
  "language_info": {
   "codemirror_mode": {
    "name": "ipython",
    "version": 3
   },
   "file_extension": ".py",
   "mimetype": "text/x-python",
   "name": "python",
   "nbconvert_exporter": "python",
   "pygments_lexer": "ipython3",
   "version": "3.10.9"
  }
 },
 "nbformat": 4,
 "nbformat_minor": 5
}