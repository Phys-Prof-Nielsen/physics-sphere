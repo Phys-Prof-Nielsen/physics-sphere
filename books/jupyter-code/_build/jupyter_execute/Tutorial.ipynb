{
 "cells": [
  {
   "cell_type": "markdown",
   "id": "61f3453e",
   "metadata": {},
   "source": [
    "# 3. Tutorial: Using Jupyter to Solve Basic Physics Problems\n",
    "<hr style=\"height:2px;border-width:0;color:gray;background-color:gray\">"
   ]
  },
  {
   "cell_type": "markdown",
   "id": "be65ba58",
   "metadata": {},
   "source": [
    "## 1. Motivation\n",
    "\n",
    "Early exposure to computer programming is becoming increasingly vital for the core science education and future careers. As the complexity of physical systems grows and analytical solutions become less practical, computational methods have emerged as a powerful tool for problem-solving. Introducing students to programming early allows them to approach physics problems with greater flexibility, enabling them to tackle complex equations, simulate real-world scenarios, and analyze large datasets. This skill helps bridge the gap between theoretical understanding and practical application, fostering a more comprehensive grasp of the subject. Additionally, programming provides students with immediate feedback, encouraging iterative learning and deeper exploration of physics concepts.\n",
    "\n",
    "From an employment perspective, proficiency in programming opens a wide range of career opportunities for science graduates. Today, many industries such as data science, engineering, finance, and technology demand employees who are not only strong in their core discipline but also adept in computational skills. Whether developing algorithms, modeling physical phenomena, or automating processes, the ability to code is often a prerequisite for these roles. By learning to code alongside physics, students acquire a competitive edge in the job market, ensuring they are equipped to handle the demands of modern scientific and technical careers. Many employers look for candidates who can efficiently work with software tools, write custom programs, and leverage data to solve problems that are cultivated through early exposure to programming.\n",
    "\n",
    "Moreover, computer programming fosters transferable skills like logical thinking, problem decomposition, and algorithmic design, which are highly sought after across various fields. Even for students who may not pursue a career directly related to physics, programming is a versatile tool that enhances their employability in a technology-driven world. As industries continue to adopt automation, artificial intelligence, and machine learning, the demand for professionals who can understand and apply computational techniques will only grow. Thus, integrating programming into the early physics curriculum not only enriches the learning experience but also prepares students for the future job market.\n",
    "\n",
    "It is my own experience that students who embrace the computer as a tool strongly improve the methodological approach to problem solving and thus better at solving more complex problems encountered in university physics.\n",
    "\n",
    "This notebook is an opportunity to use the computer to solve physics problems in a guided approach.\n",
    "\n",
    "<hr style=\"height:2px;border-width:0;color:gray;background-color:gray\">"
   ]
  },
  {
   "cell_type": "markdown",
   "id": "91cc16ca",
   "metadata": {},
   "source": [
    "## 2. The First Step\n",
    "\n",
    "The cell below is an empty Python code cell. As it is right now, you can't enter anything into the cell. To activate the cell, you need to make it interactive. \n",
    "\n",
    "<div class=\"alert alert-success\">\n",
    "\n",
    "**Active Code Cell**\n",
    "    \n",
    "To activate the code cell, click on the Rocket button in the upper right corner of this web page. It will give you two options: Colab and Live Code. We will be using Live Code.\n",
    "    \n",
    "</div>\n",
    "\n",
    "It may take a little bit of time for the activation to kick in the first time. My experience it can vary from a few seconds to a few minutes, so please be patient.\n",
    "\n",
    "When it is active, you should see three buttons: \"run\", \"restart\", and \"restart & run all\" as well as being able to type into the box.\n",
    "\n",
    "### The '#'\n",
    "\n",
    "You may notice that the cell is not completely empty. I inserted a comment using the \"#\" symbol. This is a way to make comments as Python will ignore what comes after the \"#\" symbol.\n",
    "\n",
    "<hr style=\"height:2px;border-width:0;color:gray;background-color:gray\">"
   ]
  },
  {
   "cell_type": "code",
   "execution_count": 1,
   "id": "c211908d",
   "metadata": {},
   "outputs": [],
   "source": [
    "# Empty Cell"
   ]
  },
  {
   "cell_type": "markdown",
   "id": "781e3223",
   "metadata": {},
   "source": [
    "## 3. The Print Statement\n",
    "\n",
    "This is always the first thing to do when you make your first program. If you want to print a statement to the screen, the command is simply\n",
    "\n",
    "*print('')*\n",
    "\n",
    "where your statement goes between the quotation marks. Try it in the cell below. I made an example below in case you have problems."
   ]
  },
  {
   "cell_type": "code",
   "execution_count": 2,
   "id": "711beea6",
   "metadata": {},
   "outputs": [],
   "source": [
    "# Make a print statement here"
   ]
  },
  {
   "cell_type": "code",
   "execution_count": 3,
   "id": "ecc72d58",
   "metadata": {
    "tags": [
     "hide-input",
     "hide-output"
    ]
   },
   "outputs": [
    {
     "name": "stdout",
     "output_type": "stream",
     "text": [
      "You are my favorite student\n"
     ]
    }
   ],
   "source": [
    "print('You are my favorite student')"
   ]
  },
  {
   "cell_type": "markdown",
   "id": "a17fa398",
   "metadata": {},
   "source": [
    "Let us try another print example. Let is try to print out the square root of 4. Try this:\n",
    "\n",
    "*print(sqrt(4))*\n",
    "\n",
    "We don't need quotation marks since we are not printing text but a number."
   ]
  },
  {
   "cell_type": "code",
   "execution_count": 4,
   "id": "11fc4e27",
   "metadata": {},
   "outputs": [],
   "source": [
    "# Calculate and print the square root"
   ]
  },
  {
   "cell_type": "markdown",
   "id": "c80c76e8",
   "metadata": {},
   "source": [
    "You should be getting an error message stating that the *sqrt* is not defined. This is because the program does not know what square root is. The basic Python compiler only have basic arithmetic functions, so we need to import stuff.\n",
    "\n",
    "<hr style=\"height:2px;border-width:0;color:gray;background-color:gray\">"
   ]
  },
  {
   "cell_type": "markdown",
   "id": "996968ce",
   "metadata": {},
   "source": [
    "## 4. Python and Importing Packages\n",
    "\n",
    "Python is a great programming language to learn. It is relatively easy to learn basic skills but it is incredible powerful for more in-depth programming. The basic Python compiler is not that helpful for us to solve physics problems, however, additional packages exists that are developed for scientific analysis in mind.\n",
    "\n",
    "We will be using two packages.\n",
    "\n",
    "1. numpy: Numerical Python is a package that allows us to use arrays (don't worry about what that is), trigonometric functions, the value of pi, absolute value, square roots, etc.\n",
    "\n",
    "2. sympy: Symbolic Python is a package that allows us to assign variables, like $x$ and $y$, and solve system of equations, take derivatives, and find integrals, among other things.\n",
    "\n",
    "### Import a Python Package\n",
    "\n",
    "There are multiple ways to import a package. Below I list a few. The italic text is the script you will type in your code cell.\n",
    "\n",
    "#### Method 1\n",
    "\n",
    "<i>from numpy import *</i>\n",
    "\n",
    "The above statement makes **all** functions avaliable to you. \n",
    "\n",
    "<div class=\"alert alert-danger\">\n",
    "\n",
    "This method should be avoided if using multiple packages. For example, say you import all numpy functions and subsequently import all functions from a package named *math*. Both packages contains functions of same names, and the last called package will override those functions from the first package. Unfortunately, they don't necessarily work the same way. Hence, you may think you are using the cosine function from numpy but are really using the cosine function from math and end up not getting the answer you want.\n",
    "    \n",
    "</div>\n",
    "\n",
    "#### Method 2\n",
    "\n",
    "Alternatively, we can prevent the above mishap but doing something like this:\n",
    "\n",
    "*from numpy import cos,sin,sqrt,pi*\n",
    "\n",
    "Try and type this in the cell below, and the repeat the print statement of the square root."
   ]
  },
  {
   "cell_type": "code",
   "execution_count": 5,
   "id": "ccf14395",
   "metadata": {},
   "outputs": [],
   "source": [
    "# import functions from numerical python below this line\n",
    "\n",
    "# make a print statement printing the square root of your favorite positive, finite number\n"
   ]
  },
  {
   "cell_type": "code",
   "execution_count": 6,
   "id": "1d11e87b",
   "metadata": {
    "tags": [
     "hide-input",
     "hide-output"
    ]
   },
   "outputs": [
    {
     "name": "stdout",
     "output_type": "stream",
     "text": [
      "25.80697580112788\n"
     ]
    }
   ],
   "source": [
    "# import functions from numerical python below this line\n",
    "from numpy import cos,sin,sqrt,pi\n",
    "\n",
    "# make a print statement printing the square root of your favorite positive, finite number\n",
    "print(sqrt(666))"
   ]
  },
  {
   "cell_type": "markdown",
   "id": "10964c7d",
   "metadata": {},
   "source": [
    "#### Method 3\n",
    "\n",
    "My favorite method is to assign all functions from the package imported with a keyword associated to the specific package. For example, the keywork **np** could be used to describe **numpy**. We could also call it **hamster** but that is not very descriptive.\n",
    "\n",
    "*import numpy as np*\n",
    "\n",
    "This tells the program that any functions associated with **np** should be imported from **numpy**. For example,\n",
    "\n",
    "*np.sqrt*\n",
    "\n",
    "implies we are using the square root function from **numpy**.\n",
    "\n",
    "Try it below!"
   ]
  },
  {
   "cell_type": "code",
   "execution_count": 7,
   "id": "8c163863",
   "metadata": {},
   "outputs": [],
   "source": [
    "# import numpy by associating a keyword to numpy\n",
    "\n",
    "\n",
    "# make a print statement using the square root from numpy"
   ]
  },
  {
   "cell_type": "code",
   "execution_count": 8,
   "id": "fb0ff100",
   "metadata": {
    "tags": [
     "hide-input",
     "hide-output"
    ]
   },
   "outputs": [
    {
     "name": "stdout",
     "output_type": "stream",
     "text": [
      "25.80697580112788\n"
     ]
    }
   ],
   "source": [
    "# import numpy by associating a keyword to numpy\n",
    "import numpy as np\n",
    "\n",
    "# make a print statement using the square root from numpy\n",
    "print(np.sqrt(666))"
   ]
  },
  {
   "cell_type": "markdown",
   "id": "df92a4cf",
   "metadata": {},
   "source": [
    "<hr style=\"height:2px;border-width:0;color:gray;background-color:gray\">"
   ]
  },
  {
   "cell_type": "markdown",
   "id": "f2cea834",
   "metadata": {},
   "source": [
    "## 5. Test 1\n",
    "\n",
    "Write a small script that will print out the value of $\\sin(\\pi/4)$"
   ]
  },
  {
   "cell_type": "code",
   "execution_count": 9,
   "id": "95f3be55",
   "metadata": {},
   "outputs": [],
   "source": [
    "# Type your solution to Test 1 below"
   ]
  },
  {
   "cell_type": "code",
   "execution_count": 10,
   "id": "4aa0e4ab",
   "metadata": {
    "tags": [
     "hide-input",
     "hide-output"
    ]
   },
   "outputs": [
    {
     "name": "stdout",
     "output_type": "stream",
     "text": [
      "0.7071067811865475\n"
     ]
    }
   ],
   "source": [
    "# import numpy by associating a keyword to numpy\n",
    "import numpy as np\n",
    "\n",
    "# make a print statement using the sine function and the value of pi from numpy\n",
    "print(np.sin(np.pi/4))"
   ]
  },
  {
   "cell_type": "markdown",
   "id": "d131612d",
   "metadata": {},
   "source": [
    "<hr style=\"height:2px;border-width:0;color:gray;background-color:gray\">"
   ]
  },
  {
   "cell_type": "markdown",
   "id": "71071e47",
   "metadata": {},
   "source": [
    "## 6. Create Variables\n",
    "\n",
    "Some programming languages require us to declare a variable, but Pythong does not. We simply assign a value to it.\n",
    "\n",
    "For example, we can declare the following variables for mass (in kg) and angle (in degrees):\n",
    "\n",
    "*m = 4.0*\n",
    "\n",
    "*angle = 12.0*\n",
    "\n",
    "Try this for yourself and print out the value of the angle."
   ]
  },
  {
   "cell_type": "code",
   "execution_count": 11,
   "id": "12bc908c",
   "metadata": {},
   "outputs": [],
   "source": [
    "# Create variables below\n",
    "\n",
    "# Print out the value of the variable: angle"
   ]
  },
  {
   "cell_type": "code",
   "execution_count": 12,
   "id": "36b1950d",
   "metadata": {
    "tags": [
     "hide-input",
     "hide-output"
    ]
   },
   "outputs": [
    {
     "name": "stdout",
     "output_type": "stream",
     "text": [
      "12.0\n"
     ]
    }
   ],
   "source": [
    "# Create variables below\n",
    "\n",
    "m = 4.0  #mass in kg\n",
    "angle = 12.0  #angle in degrees\n",
    "\n",
    "print(angle)"
   ]
  },
  {
   "cell_type": "markdown",
   "id": "53e928e3",
   "metadata": {},
   "source": [
    "<hr style=\"height:2px;border-width:0;color:gray;background-color:gray\">"
   ]
  },
  {
   "cell_type": "markdown",
   "id": "bababe9c",
   "metadata": {},
   "source": [
    "## 5. Test 2\n",
    "\n",
    "Write a small script that will create a new variable *theta*, which is the value of *angle* but in radians. Then print out the value of $\\sin(theta)$."
   ]
  },
  {
   "cell_type": "code",
   "execution_count": 13,
   "id": "3593c3b0",
   "metadata": {},
   "outputs": [],
   "source": [
    "# Write a script to print out the correct value of sin(theta)"
   ]
  },
  {
   "cell_type": "code",
   "execution_count": 14,
   "id": "a3db17ae",
   "metadata": {},
   "outputs": [
    {
     "name": "stdout",
     "output_type": "stream",
     "text": [
      "0.20791169081775934\n"
     ]
    }
   ],
   "source": [
    "theta = (angle)*(np.pi/180.0)\n",
    "\n",
    "print(np.sin(theta))"
   ]
  },
  {
   "cell_type": "markdown",
   "id": "328235db",
   "metadata": {},
   "source": [
    "<hr style=\"height:2px;border-width:0;color:gray;background-color:gray\">"
   ]
  },
  {
   "cell_type": "markdown",
   "id": "dbec14b5",
   "metadata": {},
   "source": [
    "## 6. The \"reset\" Function\n",
    "\n",
    "This is a very important function to implement. If you noticed, in the last two code cells, I did not import numpy, and in the last code cell I didn't specify what *angle* was. I didn't have to do it since the last cell will **remember** what was typed in the previous cells. That is both good and bad. It is good since we don't have to keep typing the same thing over and over. However, if we are doing our activity problems on the Physics Sphere, we are doing several problems on the same web page and the following problem may arise:\n",
    "\n",
    "<div class=\"alert alert-danger\">\n",
    "\n",
    "Say we have a problem where we defined the mass of particle to be 4.0 kg. Then in the following problem, we have a problem with a mass of 0.5 kg. Unfortunately, we forget to define that new mass. The program will then remember that is a variable defined as m = 4.0 and use that instead. **NOT GOOD**. I speak from experience :)\n",
    "</div>\n",
    "\n",
    "To circumvent this problem, we can erase all information from previous cells by using\n",
    "\n",
    "*%reset -f*\n",
    "\n",
    "The key parameter *f* simply means we are **forcing** a reset.\n",
    "\n",
    "Try and type the following in the cell below:\n",
    "\n",
    "*%reset -f*\n",
    "\n",
    "*print(m)*\n",
    "\n",
    "You should get an error stating that the variable *m* is not defined."
   ]
  },
  {
   "cell_type": "code",
   "execution_count": 15,
   "id": "4a02044d",
   "metadata": {},
   "outputs": [],
   "source": [
    "# Try and use the reset function here"
   ]
  },
  {
   "cell_type": "markdown",
   "id": "56702a0b",
   "metadata": {},
   "source": [
    "<hr style=\"height:2px;border-width:0;color:gray;background-color:gray\">"
   ]
  },
  {
   "cell_type": "markdown",
   "id": "bac6cdbc",
   "metadata": {},
   "source": [
    "## 7. Example: Use Python as a Calculator to Solve Physics Problem\n",
    "\n",
    "We are now ready to try and solve a physics problem. Let us consider a problem from Phase C.\n",
    "\n",
    "### Problem\n",
    "A block is constrained to move on a horizontal surface, say x-direction. The box has a mass of 2.5 kg and there is a kinetic coefficient of friction of 0.3. If there is a pushing force of 12 N applied to the box in the +x direction, what is the acceleration of the box?\n",
    "\n",
    "In the code box below, I have made a guided approach where you fill in the code. Good luck...you can do it!"
   ]
  },
  {
   "cell_type": "code",
   "execution_count": 16,
   "id": "113d9f48",
   "metadata": {},
   "outputs": [],
   "source": [
    "#Insert the reset function here\n",
    "\n",
    "# Import numpy here...if needed (in this example, we do not need numpy)\n",
    "\n",
    "#define given parameters below as well as acceleration of gravity and the constraint acceleration in y\n",
    "\n",
    "# define the vector components below: force of push, force of gravity, normal force, force of friction\n",
    "\n",
    "# calculate the acceleration in x using Newton's second law\n",
    "\n",
    "# print out the answer\n"
   ]
  },
  {
   "cell_type": "code",
   "execution_count": 17,
   "id": "f0db3ee5",
   "metadata": {
    "tags": [
     "hide-input",
     "hide-output"
    ]
   },
   "outputs": [
    {
     "name": "stdout",
     "output_type": "stream",
     "text": [
      "1.857\n"
     ]
    }
   ],
   "source": [
    "#Insert the reset function here\n",
    "%reset -f\n",
    "\n",
    "# Import numpy here...if needed (in this example, we do not need numpy)\n",
    "\n",
    "#define given parameters below as well as acceleration of gravity and the constraint acceleration in y\n",
    "m = 2.5\n",
    "mu = 0.3\n",
    "fp = 12.0\n",
    "g = 9.81\n",
    "ay = 0.0\n",
    "\n",
    "# define the vector components below: force of push, force of gravity, normal force, force of friction\n",
    "fpx = fp\n",
    "fpy = 0\n",
    "fgx = 0\n",
    "fgy = -m*g\n",
    "fnx = 0\n",
    "fny = -fgy\n",
    "ffx = mu*fny\n",
    "ffy = 0\n",
    "\n",
    "# calculate the acceleration in x using Newton's second law\n",
    "ax = (fpx - ffx)/m\n",
    "\n",
    "# print out the answer\n",
    "print(ax)"
   ]
  },
  {
   "cell_type": "markdown",
   "id": "3040cfb8",
   "metadata": {},
   "source": [
    "In this problem, we simply used Python as a calculator. The calculations in the program are probably the same ones you would do on a piece of paper. The advantage using the computer is that you are forced to think about the structure of the solution, which is exactly a solving methodology you can use for any problems no matter how complex.\n",
    "\n",
    "Next, we will try and solve the problem using **symbolic python** and see how it differ.\n",
    "\n",
    "<hr style=\"height:2px;border-width:0;color:gray;background-color:gray\">"
   ]
  },
  {
   "cell_type": "markdown",
   "id": "ed17295f",
   "metadata": {},
   "source": [
    "## 8. Symbolic Python: Solving an Equation With One Unknown\n",
    "\n",
    "Symbolic Python is a very powerful tool that allows us to solve systems of equations, taking derivatives, and perform integrals. In this approach, we declare unknown parameters that are not assigned a value and we can obtain solutions in terms of those variables.\n",
    "\n",
    "### Import Symbolic Python\n",
    "\n",
    "The package is called **sympy**. Common nicknames to use are **sp** or **sym**:\n",
    "\n",
    "*import sympy as sp*\n",
    "\n",
    "### Declare unknown parameters\n",
    "\n",
    "Let us say we have an unknown parameter called $x$. We can declare it as an unknown variable as:\n",
    "\n",
    "*x = sp.Symbol('x')*\n",
    "\n",
    "We have now assigned a symbol $x$ to the unknown.\n",
    "\n",
    "\n",
    "### Solve equation  \n",
    "\n",
    "We can now write the equation to be solved. For example\n",
    "\n",
    "$$ 6x^2 - 17x = -12 $$\n",
    "\n",
    "Symbolic Python requires the equation to be written in the format \n",
    "\n",
    "$$ 0 = 6x^2 - 17x + 12 $$\n",
    "\n",
    "or \n",
    "\n",
    "$$ 0 = -12 - 6x^2 + 17x $$\n",
    "\n",
    "If we assign the variable **eq** to the equation, it would look like this in Python:\n",
    "\n",
    "<i>eq = 6\\*x\\*\\*2 - 17\\*x + 12</i>\n",
    "\n",
    "and it can be solved using the **solve** function:\n",
    "\n",
    "*sol = sp.solve(eq,x)*\n",
    "\n",
    "Here, **sol** is a variable name you assign to the solution, and the **solve** command states that we are solving the equation **eq** with respect to the variable **x**.\n",
    "\n",
    "Try and put that together in a script below."
   ]
  },
  {
   "cell_type": "code",
   "execution_count": 18,
   "id": "f5ae891e",
   "metadata": {},
   "outputs": [],
   "source": [
    "#Insert the reset function here\n",
    "\n",
    "# Import numpy and sympy if needed (in this example, we need sympy)\n",
    "\n",
    "# declare the unknown parameter\n",
    "\n",
    "# write out the equation to be solved\n",
    "\n",
    "# solve for the unknown parameter\n",
    "\n",
    "# print out the answer"
   ]
  },
  {
   "cell_type": "code",
   "execution_count": 19,
   "id": "b8bbf7ee",
   "metadata": {
    "tags": [
     "hide-input",
     "hide-output"
    ]
   },
   "outputs": [
    {
     "name": "stdout",
     "output_type": "stream",
     "text": [
      "[4/3, 3/2]\n"
     ]
    }
   ],
   "source": [
    "#Insert the reset function here\n",
    "%reset -f\n",
    "\n",
    "# Import numpy and sympy if needed (in this example, we need sympy)\n",
    "import sympy as sp\n",
    "\n",
    "# declare the unknown parameter\n",
    "x = sp.Symbol('x')\n",
    "\n",
    "# write out the equation to be solved\n",
    "eq = 6*x**2 - 17*x + 12\n",
    "\n",
    "# solve for the unknown parameter\\\n",
    "sol = sp.solve(eq,x)\n",
    "\n",
    "# print out the answer\n",
    "print(sol)"
   ]
  },
  {
   "cell_type": "markdown",
   "id": "014e9e8a",
   "metadata": {},
   "source": [
    "Since this was an quadratic equation, there were two solutions. The printed output showed both of those contained in square brackets. Depending on what is being solved, Symbolic Python returns what is called a dictionary in a list or a dictionary without a list. One way to extract one solution only is\n",
    "\n",
    "*sol[0]*\n",
    "\n",
    "which returns the first member of the dictionary or\n",
    "\n",
    "*sol[1]*\n",
    "\n",
    "which returns the second member of the dictionary.\n",
    "\n",
    "<hr style=\"height:2px;border-width:0;color:gray;background-color:gray\">"
   ]
  },
  {
   "cell_type": "markdown",
   "id": "9b8e88e5",
   "metadata": {},
   "source": [
    "## 9. Symbolic Python: Solving N Equations With N Unknowns\n",
    "\n",
    "The structure is the same as before, but the syntax is slightly different.\n",
    "\n",
    "### Declare unknown parameters\n",
    "\n",
    "Let us say we have two unknown parameters called $x$ and $y$. We can declare the unknown variables as:\n",
    "\n",
    "*x = sp.Symbol('x')*\n",
    "\n",
    "*y = sp.Symbol('y')*\n",
    "\n",
    "This may be fine if we have just a few variables. However, we can make it shorter:\n",
    "\n",
    "*x,y = sp.symbols('x, y')*\n",
    "\n",
    "### Solve Equations\n",
    "\n",
    "We define both equations just like we did before, but will need different identifiers, say *eq1* and *eq2*:\n",
    "\n",
    "*eq1 = 2\\*x + y - 5*\n",
    "\n",
    "*eq2 = -3\\*x + 6\\*y*\n",
    "\n",
    "The syntax for the **solve** function is modified to:\n",
    "\n",
    "*sol = sp.solve((eq1,eq2),(x,y))*\n",
    "\n",
    "Let's try it!"
   ]
  },
  {
   "cell_type": "code",
   "execution_count": 20,
   "id": "2f07554a",
   "metadata": {},
   "outputs": [],
   "source": [
    "#Insert the reset function here\n",
    "\n",
    "# Import numpy and sympy if needed (in this example, we need sympy)\n",
    "\n",
    "# declare the unknown parameters\n",
    "\n",
    "# write out the equations to be solved\n",
    "\n",
    "# solve for the unknown parameters\n",
    "\n",
    "# print out the answers"
   ]
  },
  {
   "cell_type": "code",
   "execution_count": 21,
   "id": "b105f7e1",
   "metadata": {
    "tags": [
     "hide-input",
     "hide-output"
    ]
   },
   "outputs": [
    {
     "name": "stdout",
     "output_type": "stream",
     "text": [
      "{x: 2, y: 1}\n"
     ]
    }
   ],
   "source": [
    "#Insert the reset function here\n",
    "%reset -f\n",
    "\n",
    "# Import numpy and sympy if needed (in this example, we need sympy)\n",
    "import sympy as sp\n",
    "\n",
    "# declare the unknown parameters\n",
    "x,y = sp.symbols('x, y')\n",
    "\n",
    "# write out the equations to be solved\n",
    "eq1 = 2*x + y - 5\n",
    "eq2 = -3*x + 6*y\n",
    "\n",
    "# solve for the unknown parameters\n",
    "sol = sp.solve((eq1,eq2),(x,y))\n",
    "\n",
    "# print out the answers\n",
    "print(sol)"
   ]
  },
  {
   "cell_type": "markdown",
   "id": "2086b473",
   "metadata": {},
   "source": [
    "<hr style=\"height:2px;border-width:0;color:gray;background-color:gray\">"
   ]
  },
  {
   "cell_type": "markdown",
   "id": "bc8fe4a7",
   "metadata": {},
   "source": [
    "## 10. Test 3\n",
    "\n",
    "Write a script to solve the following system of equations:\n",
    "\n",
    "$$ x + 2y - 3z = -3$$\n",
    "$$ 2x -5y + 4z = 13$$\n",
    "$$ 5x + 4y - z = 5$$"
   ]
  },
  {
   "cell_type": "code",
   "execution_count": 22,
   "id": "6b4d8185",
   "metadata": {},
   "outputs": [],
   "source": [
    "# DIY Cell"
   ]
  },
  {
   "cell_type": "code",
   "execution_count": 23,
   "id": "1395e139",
   "metadata": {
    "tags": [
     "hide-input",
     "hide-output"
    ]
   },
   "outputs": [
    {
     "name": "stdout",
     "output_type": "stream",
     "text": [
      "{x: 2, y: -1, z: 1}\n"
     ]
    }
   ],
   "source": [
    "#Insert the reset function here\n",
    "%reset -f\n",
    "\n",
    "# Import numpy and sympy if needed (in this example, we need sympy)\n",
    "import sympy as sp\n",
    "\n",
    "# declare the unknown parameters\n",
    "x,y,z = sp.symbols('x, y, z')\n",
    "\n",
    "# write out the equations to be solved\n",
    "eq1 = x + 2*y - 3*z + 3\n",
    "eq2 = 2*x - 5*y + 4*z - 13\n",
    "eq3 = 5*x + 4*y - z - 5\n",
    "\n",
    "# solve for the unknown parameters\n",
    "sol = sp.solve((eq1,eq2,eq3),(x,y,z))\n",
    "\n",
    "# print out the answers\n",
    "print(sol)"
   ]
  },
  {
   "cell_type": "markdown",
   "id": "d4835813",
   "metadata": {},
   "source": [
    "<hr style=\"height:2px;border-width:0;color:gray;background-color:gray\">"
   ]
  },
  {
   "cell_type": "markdown",
   "id": "ef4e4da8",
   "metadata": {},
   "source": [
    "## 11. Example: Use Python as an Equation Solver to Solve Physics Problem\n",
    "\n",
    "Let us repeat the problem from Section 7, but now set it up as a system of equations.\n",
    "\n",
    "### Problem\n",
    "A block is constrained to move on a horizontal surface, say x-direction. The box has a mass of 2.5 kg and there is a kinetic coefficient of friction of 0.3. If there is a pushing force of 12 N applied to the box in the +x direction, what is the acceleration of the box?\n",
    "\n",
    "We will proceed in a very general way without skipping steps.\n",
    "\n",
    "In this case, our unknowns are now the accelerations in x and y, normal force, friction force, and force of gravity: 5 unknowns so we need 5 equations:: Newton's 2nd law gives us an equation for $x$ and one for $y$, there are helpful equations for force of gravity ($f_g = mg$) and force of friction ($f_f = \\mu f_N$), and lastly, the equation of constraint $y = constant$ implies that $a_y = 0$. Those are our 5 equations.\n",
    "\n",
    "Below is a guided script (we refer to that as a **pseudo-code**)."
   ]
  },
  {
   "cell_type": "code",
   "execution_count": 24,
   "id": "71fdafcf",
   "metadata": {},
   "outputs": [],
   "source": [
    "#Insert the reset function here\n",
    "\n",
    "# Import numpy and sympy if needed (in this example, we need sympy)\n",
    "\n",
    "# declare the known parameters: m, mu, fp, g\n",
    "\n",
    "# declare the unknown parameters: ax, ay, fn, ff, fg\n",
    "\n",
    "# find vector components of the forces\n",
    "\n",
    "# write out the equations to be solved\n",
    "#-------------------------------------\n",
    "# Newton's 2nd law in x\n",
    "\n",
    "# Newton's 2nd law in y\n",
    "\n",
    "# Helpful equations: force of gravity and friction force\n",
    "\n",
    "# Equation of constraint (y is constant so ay = 0)\n",
    "\n",
    "# solve for the unknown parameters\n",
    "\n",
    "# print out the answers"
   ]
  },
  {
   "cell_type": "code",
   "execution_count": 25,
   "id": "b553b39a",
   "metadata": {
    "tags": [
     "hide-input",
     "hide-output"
    ]
   },
   "outputs": [
    {
     "name": "stdout",
     "output_type": "stream",
     "text": [
      "{ax: 1.85700000000000, ay: 0.0, fn: 24.5250000000000, ff: 7.35750000000000, fg: 24.5250000000000}\n"
     ]
    }
   ],
   "source": [
    "#Insert the reset function here\n",
    "%reset -f\n",
    "\n",
    "# Import numpy and sympy if needed (in this example, we need sympy)\n",
    "import sympy as sp\n",
    "\n",
    "# declare the known parameters: m, mu, fp, g\n",
    "m = 2.5\n",
    "mu = 0.3\n",
    "fp = 12\n",
    "g = 9.81\n",
    "\n",
    "# declare the unknown parameters: ax, ay, fn, ff, fg\n",
    "ax, ay, fn, ff, fg = sp.symbols('ax,ay,fn,ff,fg')\n",
    "\n",
    "# find vector components of the forces\n",
    "fnx = 0.0\n",
    "fny = fn\n",
    "ffx = -ff\n",
    "ffy = 0.0\n",
    "fgx = 0.0\n",
    "fgy = -fg\n",
    "fpx = fp\n",
    "fpy = 0.0\n",
    "\n",
    "# write out the equations to be solved\n",
    "# -----------------------\n",
    "# Newton's second law in x: fnx + ffx + fgx + fpx = max\n",
    "eq1 = m*ax - fnx - ffx - fgx - fpx\n",
    "\n",
    "# Newton's second law in y: fny + ffy + fgy + fpy = may\n",
    "eq2 = m*ay - fny - ffy - fgy - fpy\n",
    "\n",
    "# Helpful equations\n",
    "# ----------------\n",
    "eq3 = fg - m*g\n",
    "eq4 = ff - mu*fn\n",
    "\n",
    "# Equation of constraint: y = constant --> ay = 0\n",
    "eq5 = ay\n",
    "\n",
    "# solve for the unknown parameters\n",
    "sol = sp.solve((eq1,eq2,eq3,eq4,eq5),(ax, ay, fn, ff, fg))\n",
    "\n",
    "# print out the answers\n",
    "print(sol)"
   ]
  },
  {
   "cell_type": "markdown",
   "id": "ba9353e8",
   "metadata": {},
   "source": [
    "If you made it this far, you just need some practice to become star students. It is now time to go back to some of the problems you have worked through in Phase C and try to solve them using the computer. \n",
    "\n",
    "Module 2 in the Jupter Code e-book (this is Module 3 in the Jupyter Code e-book), you will find code that shows you how to perfom derivatives and integration. If you will comfortable, feel free to try solve Phase B problems.\n",
    "\n",
    "<hr style=\"height:2px;border-width:0;color:gray;background-color:gray\">"
   ]
  }
 ],
 "metadata": {
  "celltoolbar": "Tags",
  "kernelspec": {
   "display_name": "Python 3 (ipykernel)",
   "language": "python",
   "name": "python3"
  },
  "language_info": {
   "codemirror_mode": {
    "name": "ipython",
    "version": 3
   },
   "file_extension": ".py",
   "mimetype": "text/x-python",
   "name": "python",
   "nbconvert_exporter": "python",
   "pygments_lexer": "ipython3",
   "version": "3.10.9"
  }
 },
 "nbformat": 4,
 "nbformat_minor": 5
}