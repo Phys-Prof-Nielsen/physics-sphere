{
 "cells": [
  {
   "cell_type": "markdown",
   "id": "dfbfa965",
   "metadata": {},
   "source": [
    "# 3. Tutorial: Using Jupyter to Solve Basic Physics Problems\n",
    "<hr style=\"height:2px;border-width:0;color:gray;background-color:gray\">"
   ]
  },
  {
   "cell_type": "markdown",
   "id": "f04bd47e",
   "metadata": {},
   "source": [
    "## 1. Motivation\n",
    "\n",
    "Early exposure to computer programming is becoming increasingly vital for the core science education and future careers. As the complexity of physical systems grows and analytical solutions become less practical, computational methods have emerged as a powerful tool for problem-solving. Introducing students to programming early allows them to approach physics problems with greater flexibility, enabling them to tackle complex equations, simulate real-world scenarios, and analyze large datasets. This skill helps bridge the gap between theoretical understanding and practical application, fostering a more comprehensive grasp of the subject. Additionally, programming provides students with immediate feedback, encouraging iterative learning and deeper exploration of physics concepts.\n",
    "\n",
    "From an employment perspective, proficiency in programming opens a wide range of career opportunities for science graduates. Today, many industries such as data science, engineering, finance, and technology demand employees who are not only strong in their core discipline but also adept in computational skills. Whether developing algorithms, modeling physical phenomena, or automating processes, the ability to code is often a prerequisite for these roles. By learning to code alongside physics, students acquire a competitive edge in the job market, ensuring they are equipped to handle the demands of modern scientific and technical careers. Many employers look for candidates who can efficiently work with software tools, write custom programs, and leverage data to solve problems that are cultivated through early exposure to programming.\n",
    "\n",
    "Moreover, computer programming fosters transferable skills like logical thinking, problem decomposition, and algorithmic design, which are highly sought after across various fields. Even for students who may not pursue a career directly related to physics, programming is a versatile tool that enhances their employability in a technology-driven world. As industries continue to adopt automation, artificial intelligence, and machine learning, the demand for professionals who can understand and apply computational techniques will only grow. Thus, integrating programming into the early physics curriculum not only enriches the learning experience but also prepares students for the future job market.\n",
    "\n",
    "It is my own experience that students who embrace the computer as a tool strongly improve the methodological approach to problem solving and thus better at solving more complex problems encountered in university physics.\n",
    "\n",
    "This notebook is an opportunity to use the computer to solve physics problems in a guided approach.\n",
    "\n",
    "<hr style=\"height:2px;border-width:0;color:gray;background-color:gray\">"
   ]
  },
  {
   "cell_type": "markdown",
   "id": "6015e2fe",
   "metadata": {},
   "source": [
    "## 2. The First Step\n",
    "\n",
    "The cell below is an empty Python code cell. As it is right now, you can't enter anything into the cell. To activate the cell, you need to make it interactive. \n",
    "\n",
    "<div class=\"alert alert-success\">\n",
    "\n",
    "**Active Code Cell**\n",
    "    \n",
    "To activate the code cell, click on the Rocket button in the upper right corner of this web page. It will give you two options: Colab and Live Code. We will be using Live Code.\n",
    "    \n",
    "</div>\n",
    "\n",
    "It may take a little bit of time for the activation to kick in the first time. My experience it can vary from a few seconds to a few minutes, so please be patient.\n",
    "\n",
    "When it is active, you should see three buttons: \"run\", \"restart\", and \"restart & run all\" as well as being able to type into the box.\n",
    "\n",
    "### The '#'\n",
    "\n",
    "You may notice that the cell is not completely empty. I inserted a comment using the \"#\" symbol. This is a way to make comments as Python will ignore what comes after the \"#\" symbol.\n",
    "\n",
    "<hr style=\"height:2px;border-width:0;color:gray;background-color:gray\">"
   ]
  },
  {
   "cell_type": "code",
   "execution_count": 2,
   "id": "fb8afd1f",
   "metadata": {},
   "outputs": [],
   "source": [
    "# Empty Cell"
   ]
  },
  {
   "cell_type": "markdown",
   "id": "0773d4d0",
   "metadata": {},
   "source": [
    "## 3. The Print Statement\n",
    "\n",
    "This is always the first thing to do when you make your first program. If you want to print a statement to the screen, the command is simply\n",
    "\n",
    "*print('')*\n",
    "\n",
    "where your statement goes between the quotation marks. Try it in the cell below. I made an example below in case you have problems."
   ]
  },
  {
   "cell_type": "code",
   "execution_count": 3,
   "id": "43e6c3c8",
   "metadata": {},
   "outputs": [],
   "source": [
    "# Make a print statement here"
   ]
  },
  {
   "cell_type": "code",
   "execution_count": 4,
   "id": "e1488c14",
   "metadata": {
    "tags": [
     "hide-input",
     "hide-output"
    ]
   },
   "outputs": [
    {
     "name": "stdout",
     "output_type": "stream",
     "text": [
      "You are my favorite student\n"
     ]
    }
   ],
   "source": [
    "print('You are my favorite student')"
   ]
  },
  {
   "cell_type": "markdown",
   "id": "719c9b81",
   "metadata": {},
   "source": [
    "Let us try another print example. Let is try to print out the square root of 4. Try this:\n",
    "\n",
    "*print(sqrt(4))*\n",
    "\n",
    "We don't need quotation marks since we are not printing text but a number."
   ]
  },
  {
   "cell_type": "code",
   "execution_count": 7,
   "id": "021a4a83",
   "metadata": {},
   "outputs": [],
   "source": [
    "# Calculate and print the square root"
   ]
  },
  {
   "cell_type": "markdown",
   "id": "0360a60a",
   "metadata": {},
   "source": [
    "You should be getting an error message stating that the *sqrt* is not defined. This is because the program does not know what square root is. The basic Python compiler only have basic arithmetic functions, so we need to import stuff."
   ]
  },
  {
   "cell_type": "markdown",
   "id": "52ea298d",
   "metadata": {},
   "source": [
    "## 4. Python and Importing Packages\n",
    "\n",
    "Python is a great programming language to learn. It is relatively easy to learn basic skills but it is incredible powerful for more in-depth programming. The basic Python compiler is not that helpful for us to solve physics problems, however, additional packages exists that are developed for scientific analysis in mind.\n",
    "\n",
    "We will be using two packages.\n",
    "\n",
    "1. numpy: Numerical Python is a package that allows us to use arrays (don't worry about what that is), trigonometric functions, the value of pi, absolute value, square roots, etc.\n",
    "\n",
    "2. sympy: Symbolic Python is a package that allows us to assign variables, like $x$ and $y$, and solve system of equations, take derivatives, and find integrals, among other things.\n",
    "\n",
    "### Import a Python Package\n",
    "\n",
    "There are multiple ways to import a package. Below I list a few. The italic text is the script you will type in your code cell.\n",
    "\n",
    "<i>from numpy import *</i>\n",
    "\n",
    "The above statement makes **all** functions avaliable to you. \n",
    "\n",
    "<div class=\"alert alert-danger\">\n",
    "\n",
    "This method should be avoided if using multiple packages. For example, say you import all numpy functions and subsequently import all functions from a package named *math*. Both packages contains functions of same names, and the last called package will override those functions from the first package. Unfortunately, they don't necessarily work the same way. Hence, you may think you are using the cosine function from numpy but are really using the cosine function from math and end up not getting the answer you want.\n",
    "    \n",
    "</div>\n",
    "\n",
    "Alternatively, we can prevent the above mishap but doing something like this:\n",
    "\n",
    "*from numpy import cos,sin,sqrt,pi*\n",
    "\n",
    "Try and type this in the cell below, and the repeat the print statement of the square root."
   ]
  },
  {
   "cell_type": "code",
   "execution_count": 11,
   "id": "4438f4f0",
   "metadata": {},
   "outputs": [],
   "source": [
    "# import functions from numerical python below this line\n",
    "\n",
    "# make a print statement printing the square root of your favorite positive, finite number\n"
   ]
  },
  {
   "cell_type": "code",
   "execution_count": 12,
   "id": "09fad0c7",
   "metadata": {
    "tags": [
     "hide-input",
     "hide-output"
    ]
   },
   "outputs": [
    {
     "name": "stdout",
     "output_type": "stream",
     "text": [
      "25.80697580112788\n"
     ]
    }
   ],
   "source": [
    "# import functions from numerical python below this line\n",
    "from numpy import cos,sin,sqrt,pi\n",
    "\n",
    "# make a print statement printing the square root of your favorite positive, finite number\n",
    "print(sqrt(666))"
   ]
  },
  {
   "cell_type": "code",
   "execution_count": null,
   "id": "af4b5696",
   "metadata": {},
   "outputs": [],
   "source": []
  }
 ],
 "metadata": {
  "celltoolbar": "Tags",
  "kernelspec": {
   "display_name": "Python 3 (ipykernel)",
   "language": "python",
   "name": "python3"
  },
  "language_info": {
   "codemirror_mode": {
    "name": "ipython",
    "version": 3
   },
   "file_extension": ".py",
   "mimetype": "text/x-python",
   "name": "python",
   "nbconvert_exporter": "python",
   "pygments_lexer": "ipython3",
   "version": "3.10.9"
  }
 },
 "nbformat": 4,
 "nbformat_minor": 5
}
