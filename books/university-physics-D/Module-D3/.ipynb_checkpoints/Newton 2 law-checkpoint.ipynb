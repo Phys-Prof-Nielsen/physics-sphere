{
 "cells": [
  {
   "cell_type": "markdown",
   "metadata": {},
   "source": [
    "# Newton's Laws: Point Particle\n",
    "<hr style=\"height:2px\">"
   ]
  },
  {
   "cell_type": "markdown",
   "metadata": {},
   "source": [
    "## 1. Newton's First Two Laws:  Point Particle\n",
    "We can proceed to write the relationship between the net force (cause) and the change in momentum (effect) in a form that is most likely more familiar to you, but also simplified due to certain assumptions. We will start with the <b>Impulse-Momentum Theorem</b> where we introduced the concept of net average force (I will omit the \"av\" subscript now):\n",
    "\n",
    "$$ \\Delta p_x = f_{{net}_x}\\Delta t $$\n",
    "\n",
    "and solve for the force:\n",
    "\n",
    "$$ f_{{net}_x} = \\frac{\\Delta p_x}{\\Delta t} $$\n",
    "\n",
    "We will now maipulate this equation according to the rules of algebra. Writing the momentum in terms of mass and velocity:\n",
    "\n",
    "$$ f_{{net}_x} = \\frac{\\Delta (mv_x)}{\\Delta t} $$\n",
    "\n",
    "and write out the difference in the numerator:\n",
    "\n",
    "$$ f_{{net}_x} = \\frac{mv_{x_f} - mv_{x_i}}{\\Delta t}$$\n",
    "\n",
    "Here, we do not need to have a subscript on the mass since a change in mass makes no sense for a point particle. \n",
    "If we follow the logic that a point particle have constant mass (or we can make the assumption that mass is constant), then this reduces to\n",
    "\n",
    "$$ f_{{net}_x} = m\\frac{\\left(v_{x_f} - v_{x_i}\\right)}{\\Delta t} = m\\frac{\\Delta v_x}{\\Delta t}$$\n",
    "\n",
    "The fraction $\\frac{\\Delta v_x}{\\Delta t}$ is representing <b>the rate of change of velocity</b> and is termed the <b>acceleration</b> of the object. With that in mind and let $a_x$ represent the acceleration, we get\n",
    "\n",
    "<div class=\"alert alert-success\">\n",
    "$$ f_{{net}_x} = ma_x \\tag{1}$$\n",
    "</div>\n",
    "\n",
    "<b>which is the most famous version of Newton's 2nd law, but it only applies to a point particle with constant mass</b>.\n",
    "\n",
    "Another common way of writing Newton's second law is\n",
    "\n",
    "$$ \\sum f_x = ma_x $$\n",
    "\n",
    "<div class=\"alert alert-danger\">\n",
    "The acceleration is calculated over a time interval $\\Delta t$ based on to velocities. However, we do not know the <b>instantaneous</b> acceleration at a given time during the time interval. Instead, we can only say something about the <b>average</b> acceleration across the interval. Similarly, the force is the <b>average</b> net force acting on the particle during this time interval. To gain knowledge of the instantaneous acceleration and force, we must use calculus.\n",
    "</div>\n",
    "\n",
    "<hr style=\"height:2px\">"
   ]
  },
  {
   "cell_type": "markdown",
   "metadata": {},
   "source": [
    "<div class=\"alert alert-warning\">\n",
    "<b>Box 1</b><br>\n",
    "A particle of mass 0.5 kg is subject to a net average force according to $F_{x,net} = +80.0$ N. The particle is initially moving with a velocity of +2.0 m/s in the positive x-direction.\n",
    "    <ol>\n",
    "        <li> Find the average acceleration of the particle during the time period from t = 0 s to t = 5 s.\n",
    "        <li> What is the final velocity of the particle?\n",
    "        <li> What is the final speed of the particle?\n",
    "            <li> What is the instantaenous acceleration at $t = 3.0$ s?\n",
    "    </ol>\n",
    "</div>\n",
    "\n",
    "<hr style=\"height:2px\">"
   ]
  },
  {
   "cell_type": "markdown",
   "metadata": {},
   "source": [
    "## 2. Newton's Third Law\n",
    "\n",
    "Newton's third law is known as the <b>law of action and re-action</b> and details how individual forces acting as pairs on on separate interacting objects relate. We will postpone this law until PHASE C, where we will discuss individual forces from interactions.\n",
    "\n",
    "<hr style=\"height:2px\">"
   ]
  }
 ],
 "metadata": {
  "kernelspec": {
   "display_name": "Python 3 (ipykernel)",
   "language": "python",
   "name": "python3"
  },
  "language_info": {
   "codemirror_mode": {
    "name": "ipython",
    "version": 3
   },
   "file_extension": ".py",
   "mimetype": "text/x-python",
   "name": "python",
   "nbconvert_exporter": "python",
   "pygments_lexer": "ipython3",
   "version": "3.10.9"
  }
 },
 "nbformat": 4,
 "nbformat_minor": 2
}
