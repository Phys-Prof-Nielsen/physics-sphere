{
 "cells": [
  {
   "cell_type": "markdown",
   "metadata": {},
   "source": [
    "# D7.X Problems\n",
    "<hr style=\"height:2px;border-width:0;color:gray;background-color:gray\">"
   ]
  },
  {
   "cell_type": "markdown",
   "metadata": {},
   "source": [
    "<h2>Problem D7.1</h2>\n",
    "    </header>\n",
    "\n",
    "A car accelerates from rest at a constant rate of 3.0 m/s$^2$ for 10.0 seconds. Calculate its final velocity and the distance it travels during this time."
   ]
  },
  {
   "cell_type": "code",
   "execution_count": null,
   "metadata": {},
   "outputs": [],
   "source": [
    "# DIY Cell"
   ]
  },
  {
   "cell_type": "code",
   "execution_count": 2,
   "metadata": {
    "tags": [
     "hide-input",
     "hide-output"
    ]
   },
   "outputs": [
    {
     "name": "stdout",
     "output_type": "stream",
     "text": [
      "The final velocity is 3.0e+01 m/s\n",
      " \n",
      "The distance traveled is 1.5e+02 m\n"
     ]
    }
   ],
   "source": [
    "%reset -f\n",
    "\n",
    "import numpy as np\n",
    "\n",
    "ax = 3.0\n",
    "t = 10.0\n",
    "v0x = 0.0\n",
    "\n",
    "vx = v0x + ax*t\n",
    "\n",
    "answer = \"{:.1e}\".format(float(vx))\n",
    "print('The final velocity is '+str(answer)+' m/s')\n",
    "\n",
    "dx = v0x*t + 0.5*ax*t**2\n",
    "d = np.abs(dx)   #distance is the magnitude of displacement\n",
    "\n",
    "answer = \"{:.1e}\".format(float(d))\n",
    "print(' ')\n",
    "print('The distance traveled is '+str(answer)+' m')"
   ]
  },
  {
   "cell_type": "markdown",
   "metadata": {},
   "source": [
    "<h2>Problem D7.2</h2>\n",
    "    </header>\n",
    "\n",
    "A UVU rocket is launched vertically upward. After the engine burn-out the speed of the rocket is 740.0 m/s. How high above the burn-out altitude is the speed 120.0 m/s?"
   ]
  },
  {
   "cell_type": "code",
   "execution_count": null,
   "metadata": {},
   "outputs": [],
   "source": [
    "# DIU Cell"
   ]
  },
  {
   "cell_type": "code",
   "execution_count": 8,
   "metadata": {
    "tags": [
     "hide-input",
     "hide-output"
    ]
   },
   "outputs": [
    {
     "name": "stdout",
     "output_type": "stream",
     "text": [
      "Altitude above burn-out height is 2.718e+04 m\n"
     ]
    }
   ],
   "source": [
    "%reset -f\n",
    "\n",
    "import sympy as sym\n",
    "\n",
    "v1y = 740.0\n",
    "v2y = 120.0\n",
    "ay = -9.81\n",
    "\n",
    "dy = sym.Symbol('dy')\n",
    "\n",
    "eq = v2y**2 - v1y**2 - 2*ay*dy\n",
    "sol = sym.solve(eq,dy)\n",
    "\n",
    "answer = \"{:.3e}\".format(float(sol[0]))\n",
    "print('Altitude above burn-out height is '+str(answer)+' m')"
   ]
  },
  {
   "cell_type": "markdown",
   "metadata": {},
   "source": [
    "<hr style=\"height:2px;border-width:0;color:gray;background-color:gray\">"
   ]
  },
  {
   "cell_type": "markdown",
   "metadata": {},
   "source": [
    "<h2>Problem D7.3</h2>\n",
    "    </header>\n",
    "\n",
    "A particle moves in a straight line with an initial velocity of 30.0 m/s and constant acceleration 30.0 m/s$^2$. \n",
    "\n",
    "1. What is its displacement at t = 5.0 s? \n",
    "2. What is its velocity at this same time?\n",
    "\n",
    "[This problem is a slightly modified version from OpenStax. Access for free here](https://openstax.org/books/university-physics-volume-1/pages/3-problems)"
   ]
  },
  {
   "cell_type": "code",
   "execution_count": null,
   "metadata": {},
   "outputs": [],
   "source": [
    "# DIY Cell"
   ]
  },
  {
   "cell_type": "code",
   "execution_count": 10,
   "metadata": {
    "tags": [
     "hide-input",
     "hide-output"
    ]
   },
   "outputs": [
    {
     "name": "stdout",
     "output_type": "stream",
     "text": [
      "Displacement: 5.2e+02 m\n",
      "Velocity: 1.8e+02 m/s\n"
     ]
    }
   ],
   "source": [
    "%reset -f\n",
    "\n",
    "import sympy as sym\n",
    "\n",
    "v0x = 30.0\n",
    "ax = 30.0\n",
    "\n",
    "# PART 1\n",
    "dx = sym.Symbol('dx')\n",
    "t = 5.0\n",
    "\n",
    "eq = dx - v0x*t - 0.5*ax*t**2\n",
    "sol = sym.solve(eq,dx)\n",
    "\n",
    "answer = \"{:.1e}\".format(float(sol[0]))\n",
    "print('Displacement: '+str(answer)+' m')\n",
    "\n",
    "# PART 2\n",
    "# vx = v0x + ax*t\n",
    "\n",
    "vx = sym.Symbol('vx')\n",
    "eq = vx - v0x - ax*t\n",
    "sol = sym.solve(eq,vx)\n",
    "\n",
    "answer = \"{:.1e}\".format(float(sol[0]))\n",
    "print('Velocity: '+str(answer)+' m/s')"
   ]
  },
  {
   "cell_type": "markdown",
   "metadata": {},
   "source": [
    "<h2>Problem D7.4</h2>\n",
    "    </header>\n",
    "\n",
    "1. A light-rail commuter train accelerates at a rate of 1.35 m/s$^2$. How long does it take to reach its top speed of 80.0 km/h, starting from rest? \n",
    "2. The same train ordinarily accelerates opposite to the motion at a rate of 1.65 m/s$^2$. How long does it take to come to a stop from its top speed? \n",
    "3. In emergencies, the train can accelerate opposite to the motion more rapidly, coming to rest from 80.0 km/h in 8.30 s. What is its emergency acceleration in meters per second squared?\n",
    "\n",
    "[This problem is a slightly modified version from OpenStax. Access for free here](https://openstax.org/books/university-physics-volume-1/pages/3-problems)"
   ]
  },
  {
   "cell_type": "code",
   "execution_count": null,
   "metadata": {},
   "outputs": [],
   "source": [
    "# DIY Cell"
   ]
  },
  {
   "cell_type": "code",
   "execution_count": 16,
   "metadata": {
    "tags": [
     "hide-input",
     "hide-output"
    ]
   },
   "outputs": [
    {
     "name": "stdout",
     "output_type": "stream",
     "text": [
      "Elapsed time: 7.41e-01 s\n",
      "Elapsed time: 4.49e-01 s\n",
      "Acceleration: -2.68e+00 m/s²\n"
     ]
    }
   ],
   "source": [
    "%reset -f\n",
    "\n",
    "import sympy as sym\n",
    "\n",
    "# PART 1\n",
    "\n",
    "v1x = 0.0\n",
    "v2x = (80.0)*(1000/1)*(1/3600) #convert from km/hr to m/s\n",
    "ax = 30.0\n",
    "\n",
    "dt = sym.Symbol('dt')\n",
    "\n",
    "eq = ax - (v2x - v1x)/dt\n",
    "sol = sym.solve(eq,dt)\n",
    "\n",
    "answer = \"{:.2e}\".format(float(sol[0]))\n",
    "print('Elapsed time: '+str(answer)+' s')\n",
    "\n",
    "# Part 2\n",
    "ax = -1.65\n",
    "v1x = sol[0]\n",
    "v2x = 0.0\n",
    "\n",
    "eq = ax - (v2x - v1x)/dt\n",
    "sol = sym.solve(eq,dt)\n",
    "\n",
    "answer = \"{:.2e}\".format(float(sol[0]))\n",
    "print('Elapsed time: '+str(answer)+' s')\n",
    "\n",
    "# Part 3\n",
    "dt = 8.30\n",
    "v1x = (80.0)*(1000/1)*(1/3600) #convert from km/hr to m/s\n",
    "v2x = 0.0\n",
    "\n",
    "ax = sym.Symbol('ax')\n",
    "\n",
    "eq = ax - (v2x - v1x)/dt\n",
    "sol = sym.solve(eq,ax)\n",
    "\n",
    "answer = \"{:.2e}\".format(float(sol[0]))\n",
    "print('Acceleration: '+str(answer)+' m/s\\u00b2')"
   ]
  },
  {
   "cell_type": "markdown",
   "metadata": {},
   "source": [
    "<hr style=\"height:2px;border-width:0;color:gray;background-color:gray\">"
   ]
  },
  {
   "cell_type": "markdown",
   "metadata": {},
   "source": [
    "<h2>Problem D7.5</h2>\n",
    "    </header>\n",
    "\n",
    "1. Calculate the height of a cliff if it takes 2.35 s for a rock to hit the ground when it is thrown straight up from the cliff with an initial velocity of 8.00 m/s. \n",
    "2. How long a time would it take to reach the ground if it is thrown straight down with the same speed?\n",
    "\n",
    "[This problem is a slightly modified version from OpenStax. Access for free here](https://openstax.org/books/university-physics-volume-1/pages/3-problems)"
   ]
  },
  {
   "cell_type": "code",
   "execution_count": null,
   "metadata": {},
   "outputs": [],
   "source": [
    "# DIY Cell"
   ]
  },
  {
   "cell_type": "code",
   "execution_count": 23,
   "metadata": {
    "tags": [
     "hide-input",
     "hide-output"
    ]
   },
   "outputs": [
    {
     "name": "stdout",
     "output_type": "stream",
     "text": [
      "Height of cliff : 8.29e+00 m\n",
      "[-2.35000000000000, 0.719011213047911]\n",
      "Time elapsed : 7.19e-01 s\n"
     ]
    }
   ],
   "source": [
    "%reset -f\n",
    "\n",
    "import sympy as sym\n",
    "import numpy as np\n",
    "\n",
    "# PART 1\n",
    "\n",
    "# up is positive here\n",
    "v0y = 8.00\n",
    "ay = -9.81\n",
    "dt = 2.35\n",
    "\n",
    "dy = sym.Symbol('dy')\n",
    "\n",
    "eq = dy - v0y*dt - 0.5*ay*dt**2\n",
    "sol = sym.solve(eq,dy)\n",
    "dy = sol[0]\n",
    "\n",
    "H = np.abs(dy) #dy is displacement, we just want the height\n",
    "\n",
    "answer = \"{:.2e}\".format(float(H))\n",
    "print('Height of cliff : '+str(answer)+' m')\n",
    "\n",
    "# PART 2\n",
    "\n",
    "# up is positive here\n",
    "v0y = -8.00\n",
    "ay = -9.81\n",
    "\n",
    "dt = sym.Symbol('dt')\n",
    "\n",
    "eq = dy - v0y*dt - 0.5*ay*dt**2\n",
    "sol = sym.solve(eq,dt)\n",
    "\n",
    "answer = \"{:.2e}\".format(float(sol[1]))\n",
    "print('Time elapsed : '+str(answer)+' s')"
   ]
  },
  {
   "cell_type": "markdown",
   "metadata": {},
   "source": [
    "<hr style=\"height:2px;border-width:0;color:gray;background-color:gray\">"
   ]
  },
  {
   "cell_type": "markdown",
   "metadata": {},
   "source": [
    "<h2>Problem D7.7</h2>\n",
    "    </header>\n",
    "\n",
    "A police car waits in hiding slightly off the highway. A speeding car is spotted by the police car doing 40.0 m/s. At the instant the speeding car passes the police car, the police car accelerates from rest at 4.00 m/s$^2$ to catch the speeding car. How long does it take the police car to catch the speeding car?\n",
    "\n",
    "[This problem is a slightly modified version from OpenStax. Access for free here](https://openstax.org/books/university-physics-volume-1/pages/3-problems)"
   ]
  },
  {
   "cell_type": "code",
   "execution_count": null,
   "metadata": {},
   "outputs": [],
   "source": [
    "# DIY Cell"
   ]
  },
  {
   "cell_type": "code",
   "execution_count": 28,
   "metadata": {
    "tags": [
     "hide-input",
     "hide-output"
    ]
   },
   "outputs": [
    {
     "name": "stdout",
     "output_type": "stream",
     "text": [
      "The police catches the speeding car 2.00e+01 s later, and travels8.00e+02 m.\n"
     ]
    }
   ],
   "source": [
    "%reset -f\n",
    "\n",
    "import sympy as sym\n",
    "import numpy as np\n",
    "\n",
    "# two equations with two unknowns: where they meet and when they meet\n",
    "# speeding car: x = x0 + vx*t --> dx = vx*t\n",
    "# police: x = x0 + v0x*t + 0.5*ax*t^2\n",
    "\n",
    "# let x0 = 0 : starting position where the overlap first.\n",
    "\n",
    "x,t = sym.symbols('x,t')\n",
    "\n",
    "# speeding car\n",
    "eq_car = x - 40.0*t\n",
    "\n",
    "# police\n",
    "eq_police = x - 0*t - 0.5*4.00*t**2\n",
    "\n",
    "sol = sym.solve((eq_car,eq_police),(x,t))\n",
    "\n",
    "x = sol[1][0]\n",
    "t = sol[1][1]\n",
    "\n",
    "answerx = \"{:.2e}\".format(float(x))\n",
    "answert = \"{:.2e}\".format(float(t))\n",
    "print('The police catches the speeding car '+str(answert)+' s later, and travels '+str(answerx)+' m.')"
   ]
  },
  {
   "cell_type": "markdown",
   "metadata": {},
   "source": [
    "<hr style=\"height:2px;border-width:0;color:gray;background-color:gray\">"
   ]
  }
 ],
 "metadata": {
  "celltoolbar": "Tags",
  "kernelspec": {
   "display_name": "Python 3 (ipykernel)",
   "language": "python",
   "name": "python3"
  },
  "language_info": {
   "codemirror_mode": {
    "name": "ipython",
    "version": 3
   },
   "file_extension": ".py",
   "mimetype": "text/x-python",
   "name": "python",
   "nbconvert_exporter": "python",
   "pygments_lexer": "ipython3",
   "version": "3.10.9"
  }
 },
 "nbformat": 4,
 "nbformat_minor": 4
}
