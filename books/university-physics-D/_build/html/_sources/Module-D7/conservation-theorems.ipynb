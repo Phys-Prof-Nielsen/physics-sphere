{
 "cells": [
  {
   "cell_type": "markdown",
   "metadata": {},
   "source": [
    "# D7.1 Conservation Theorems: Momentum and Kinetic Energy\n",
    "<hr style=\"height:2px;border-width:0;color:gray;background-color:gray\">"
   ]
  },
  {
   "cell_type": "markdown",
   "metadata": {},
   "source": [
    "## 7.1.1 Motivation\n",
    "\n",
    "Conservation laws in physics have many practical applications, especially when we consider applications involving collisions. We will here consider two sich conservation laws: conservation of momentum and conservation of kinetic energy. Later in Phase B we could consider conservation of energy. \n",
    "\n",
    "<hr style=\"height:2px;border-width:0;color:gray;background-color:gray\">"
   ]
  },
  {
   "cell_type": "markdown",
   "metadata": {},
   "source": [
    "## D7.1.2 Conservation of Momentum\n",
    "\n",
    "The impulse-momentum theorem states that\n",
    "    \n",
    "$$ \\Delta p_x = f_{net,x}\\Delta t $$\n",
    "\n",
    "The conclusion from this theorem must be: **if there is no net force acting on the particle, then the momentum transfer is zero: its momentum is conserved**.\n",
    "\n",
    "This consequence is not too interesting for a single particle. However, if we consider a collection of particles, it becomes a lot more useful.\n",
    "\n",
    "### Two-Particle System\n",
    "\n",
    "Consider two particles constituting a system (we will discuss system of particles in more details in Phase B), let us say, particle A and particle B with masses $m_A$ and $m_B$, respectively.\n",
    "\n",
    "The momentum of the system is the sum of individual momentums (upper case letter indicating a system of particles):\n",
    "\n",
    "$$ P_{x} = p_{A,x} + p_{B,x} \\tag{1}$$\n",
    "\n",
    "The impulse-momentum thereom for the system is\n",
    "\n",
    "$$ \\Delta P_{x} = F_{net,x}\\Delta t $$\n",
    "\n",
    "where $F_{net,x}$ is the **net force acting on the system**.\n",
    "\n",
    "### Internal vs. external forces\n",
    "For a system of particles, only the net external force is capable of changing the system's total momentum. We won't prove that here, but it relates to Newton's 3rd law: action and re-action. This is helpful in colliding systems as the collision forces (which are internal) are often unknown. **If there is no net external force acting on the system, then the total momentum of the system is conserved**. \n",
    "\n",
    "For a two-particle system that implies that\n",
    "\n",
    "$$ P_{1,x} = P_{2,x} $$\n",
    "\n",
    "where subscripts $1$ and $2$ represents two different states: before and after a collision (or any form of internal interaction that may have taken place).\n",
    "\n",
    "If we use Equation 1 to write out conservation of system momentum in terms of individual momentums, we have:\n",
    "\n",
    "<div class=\"alert alert-success\">\n",
    "    \n",
    "$$ m_{A}v_{A,1_{x}} + m_{B}v_{B,1_{x}} = m_{A}v_{A,2_{x}} + m_{B}v_{B,2_{x}} \\tag{2}$$ \n",
    "</div>\n",
    "    \n",
    "\n",
    "<hr style=\"height:2px;border-width:0;color:gray;background-color:gray\">"
   ]
  },
  {
   "cell_type": "markdown",
   "metadata": {},
   "source": [
    "<div class=\"alert alert-warning\">\n",
    "<b>Box 1</b><br>\n",
    "    \n",
    "An astronaut with a mass of 75 kg is holding a 5.0 kg space rock. They are both at rest. Suddenly the astronaut throws the rock at a velocity of +5.0 m/s. What is the velocity of the astronaut after throwing the rock?\n",
    "</div>\n",
    "    \n",
    "<hr style=\"height:2px;border-width:0;color:gray;background-color:gray\">"
   ]
  },
  {
   "cell_type": "markdown",
   "metadata": {},
   "source": [
    "<div class=\"alert alert-warning\">\n",
    "<b>Box 2</b><br>\n",
    "    \n",
    "Consider two disco roller skaters A and B are on a hot date at Classic Skating and Fun Center in Orem. Skater A has a mass of 75 kg and is traveling with a velocity of +3.0 m/s. Skater B has a mass of 55 kg and is traveling at a velocity of -3.5 m/s. In a love-struck collision they stick together afterwards (ignore friction as they roll). What is the final velocity of the newly formed skating pair?\n",
    "</div>\n",
    "    \n",
    "<hr style=\"height:2px;border-width:0;color:gray;background-color:gray\">"
   ]
  },
  {
   "cell_type": "markdown",
   "metadata": {},
   "source": [
    "## D7.1.2 Conservation of Kinetic Energy\n",
    "\n",
    "The work-energy theorem states that\n",
    "    \n",
    "$$ \\Delta k = f_{net,x}\\Delta x $$\n",
    "\n",
    "The conclusion from this theorem must be: **if there is no net force acting on the particle, then the kinetic energy transfer is zero: its kinetic energy is conserved**.\n",
    "\n",
    "Just as with the case of momentum, this consequence is not too interesting for a single particle. \n",
    "\n",
    "### Two-Particle System\n",
    "\n",
    "As above, let us consider two particles constituting a system. The kinetic energy of the system is the sum of individual kinetic energies (upper case letter indicating a system of particles):\n",
    "\n",
    "$$ K = k_A + k_B \\tag{3}$$\n",
    "\n",
    "The work-energy thereom for the system is\n",
    "\n",
    "$$ \\Delta K = F_{net,x}\\Delta x $$\n",
    "\n",
    "where $F_{net,x}$ is the **net force acting on the system**.\n",
    "\n",
    "### Internal vs. external forces\n",
    "Unfortunately, we cannot use the argument used in conservation of momemtum. Instead, both internal and external forces are important when considering the work. Instead, we will consider cases of collisions.\n",
    "\n",
    "### Elastic Collision\n",
    "\n",
    "An elastic collision is a collision between particles where there is not kinetic energy loss of the system due to dissipative forces (see below for inelastic collision). \n",
    "\n",
    "If the collision is elastic the system kinetic energy is conserved and we have \n",
    "\n",
    "$$ K_1 = K_2 $$\n",
    "\n",
    "where subscripts $1$ and $2$ represents two different states: before and after a collision (or any form of internal interaction that may have taken place).\n",
    "\n",
    "If we use Equation 3 to write out conservation of system kinetic energy in terms of individual kinetic energies, we have:\n",
    "\n",
    "<div class=\"alert alert-success\">\n",
    "    \n",
    "$$ \\frac{1}{2}m_{A}v^{2}_{A,1} + \\frac{1}{2}m_{B}v^{2}_{B,1} = \\frac{1}{2}m_{A}v^{2}_{A,2} + \\frac{1}{2}m_{B}v^{2}_{B,2}\\tag{4}$$ \n",
    "</div>\n",
    "\n",
    "### Inelastic Collision\n",
    "\n",
    "This is a collision where kinetic energy of the system is **not** conserved.\n",
    "    \n",
    "Examples are: \n",
    "\n",
    "* if there are deformations of the objects work is done and kinetic energy is no conserved.\n",
    "* if there is a sound, then energy is carried away through sound waves and kinetic energy is not conserved.\n",
    "* if object(s) change their temperature there is energy carried away and kinetic energy is not conserved.\n",
    "\n",
    "\n",
    "<hr style=\"height:2px;border-width:0;color:gray;background-color:gray\">"
   ]
  },
  {
   "cell_type": "code",
   "execution_count": null,
   "metadata": {},
   "outputs": [],
   "source": []
  }
 ],
 "metadata": {
  "celltoolbar": "Tags",
  "kernelspec": {
   "display_name": "Python 3 (ipykernel)",
   "language": "python",
   "name": "python3"
  },
  "language_info": {
   "codemirror_mode": {
    "name": "ipython",
    "version": 3
   },
   "file_extension": ".py",
   "mimetype": "text/x-python",
   "name": "python",
   "nbconvert_exporter": "python",
   "pygments_lexer": "ipython3",
   "version": "3.10.9"
  }
 },
 "nbformat": 4,
 "nbformat_minor": 4
}
