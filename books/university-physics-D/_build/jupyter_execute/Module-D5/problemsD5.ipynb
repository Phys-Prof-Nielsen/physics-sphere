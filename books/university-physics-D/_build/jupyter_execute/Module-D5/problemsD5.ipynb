{
 "cells": [
  {
   "cell_type": "markdown",
   "metadata": {},
   "source": [
    "# D5.4 Problems\n",
    "<hr style=\"height:2px;border-width:0;color:gray;background-color:gray\">"
   ]
  },
  {
   "cell_type": "markdown",
   "metadata": {},
   "source": [
    "<h2>Problem D5.1</h2>\n",
    "    </header>\n",
    "\n",
    "A 5.0 kg box is being pushed across a horizontal surface through a +235 N net force. The box is initially at rest at $x = 0$ m. After being pushed a distance of 45 m,\n",
    "\n",
    "1. how much work was done on the box?\n",
    "2. what is the kinetic energy at 45 m?\n",
    "3. how fast is it traveling at 45 m?\n",
    "4. what is its velocity at 45 m?"
   ]
  },
  {
   "cell_type": "code",
   "execution_count": 1,
   "metadata": {
    "tags": [
     "hide-input",
     "hide-output"
    ]
   },
   "outputs": [
    {
     "name": "stdout",
     "output_type": "stream",
     "text": [
      "The work done on the box is: 1.1e+04 J.\n",
      "The kinetic energy at 45 m is: 1.1e+04 J.\n",
      "The speed at 45 m is: 6.5e+01 m/s.\n",
      "The velocity at 45 m is: +6.5e+01 m/s.\n"
     ]
    }
   ],
   "source": [
    "%reset -f\n",
    "\n",
    "import sympy as sym\n",
    "\n",
    "m = 5.0\n",
    "fx = 235\n",
    "dx = 45\n",
    "v1 = 0.0\n",
    "k1 = 0.0\n",
    "\n",
    "# Part 1\n",
    "# ------\n",
    "w = sym.Symbol('w')\n",
    "eq1 = w - fx*dx\n",
    "sol1 = sym.solve(eq1, w)\n",
    "w = sol1[0]\n",
    "answer = \"{:.1e}\".format(float(w))\n",
    "print('The work done on the box is: '+str(answer)+' J.')\n",
    "\n",
    "# Part 2\n",
    "# ------\n",
    "k2 = sym.Symbol('k2')\n",
    "eq2 = (k2 - k1) - w\n",
    "sol2 = sym.solve(eq2, k2)\n",
    "k2 = sol2[0]\n",
    "answer = \"{:.1e}\".format(float(k2))\n",
    "print('The kinetic energy at 45 m is: '+str(answer)+' J.')\n",
    "\n",
    "# Part 3\n",
    "# ------\n",
    "v2 = sym.Symbol('v2')\n",
    "eq3 = k2 - 0.5*m*(v2**2)\n",
    "sol3 = sym.solve(eq3, v2)\n",
    "v2 = sol3[1]\n",
    "answer = \"{:.1e}\".format(float(v2))\n",
    "print('The speed at 45 m is: '+str(answer)+' m/s.')\n",
    "\n",
    "# Part 3\n",
    "# ------\n",
    "# Since the object is moving in +x direction, the velocity is positive.\n",
    "print('The velocity at 45 m is: +'+str(answer)+' m/s.')\n"
   ]
  },
  {
   "cell_type": "markdown",
   "metadata": {},
   "source": [
    "<hr style=\"height:2px;border-width:0;color:gray;background-color:gray\">"
   ]
  },
  {
   "cell_type": "markdown",
   "metadata": {},
   "source": [
    "<h2>Problem D5.2</h2>\n",
    "    </header>\n",
    "\n",
    "During a pumpkin drop, a 9.5 kg pumpkin is dropped from the roof of a 35 m building. The force exterted by gravity on the pumpkin is $ f_g = mg $, where $g = 9.8~\\textrm{m/s}^2$. Ignore air resistance. How fast is the pumpkin traveling upon impact with the ground assuming it is being thrown downwards with an intial speed of 25 m/s?"
   ]
  },
  {
   "cell_type": "code",
   "execution_count": 2,
   "metadata": {
    "tags": [
     "hide-input",
     "hide-output"
    ]
   },
   "outputs": [
    {
     "name": "stdout",
     "output_type": "stream",
     "text": [
      "The speed of the pumpkin right before impact is 3.6e+01 m/s.\n"
     ]
    }
   ],
   "source": [
    "%reset -f\n",
    "import sympy as sym\n",
    "\n",
    "m = 9.5\n",
    "h = 35\n",
    "g = 9.8\n",
    "v1 = 25\n",
    "\n",
    "# work\n",
    "fx = m*g\n",
    "dx = 35\n",
    "\n",
    "w = fx*dx\n",
    "\n",
    "# solve using work-energy theorem\n",
    "v2 = sym.Symbol('v2')\n",
    "eq = w - (0.5*m*v2**2 - 0.5*m*v1**2)\n",
    "sol = sym.solve(eq,v2)\n",
    "v2 = sol[1]\n",
    "answer = \"{:.1e}\".format(float(v2))\n",
    "print('The speed of the pumpkin right before impact is '+str(answer)+' m/s.')"
   ]
  },
  {
   "cell_type": "markdown",
   "metadata": {},
   "source": [
    "<hr style=\"height:2px;border-width:0;color:gray;background-color:gray\">"
   ]
  },
  {
   "cell_type": "markdown",
   "metadata": {},
   "source": [
    "<h2>Problem D5.3</h2>\n",
    "    </header>\n",
    "\n",
    "How much work does a supermarket checkout attendant do on a can of soup he pushes $0.600$ m horizontally with a force of $5.00$ N?\n",
    "\n",
    "[This problem is a slightly modified version from OpenStax. Access for free here](https://openstax.org/books/university-physics-volume-1/pages/7-problems)"
   ]
  },
  {
   "cell_type": "code",
   "execution_count": 3,
   "metadata": {
    "tags": [
     "hide-input",
     "hide-output"
    ]
   },
   "outputs": [
    {
     "name": "stdout",
     "output_type": "stream",
     "text": [
      "The work done is 3.00e+00 J.\n"
     ]
    }
   ],
   "source": [
    "%reset -f\n",
    "\n",
    "dx = 0.600\n",
    "fx = 5.00\n",
    "\n",
    "w = fx*dx\n",
    "\n",
    "answer = \"{:.2e}\".format(float(w))\n",
    "print('The work done is '+str(answer)+' J.')"
   ]
  },
  {
   "cell_type": "markdown",
   "metadata": {},
   "source": [
    "<hr style=\"height:2px;border-width:0;color:gray;background-color:gray\">"
   ]
  },
  {
   "cell_type": "markdown",
   "metadata": {},
   "source": [
    "<h2>Problem D5.4</h2>\n",
    "    </header>\n",
    "\n",
    "1. Calculate the work done on a $1500$ kg elevator car by its cable to lift it $40.0$ m at constant speed, assuming friction averages $100.0$ N. HINT: find the work done by gravity, friction, and the lift. The force of gravity can be found using $f_g = mg$ where $g = 9.8~\\textrm{m/s}^2$.\n",
    "2. What is the total work done on the elevator car?\n",
    "\n",
    "[This problem is a slightly modified version from OpenStax. Access for free here](https://openstax.org/books/university-physics-volume-1/pages/7-problems)"
   ]
  },
  {
   "cell_type": "code",
   "execution_count": 4,
   "metadata": {
    "tags": [
     "hide-input",
     "hide-output"
    ]
   },
   "outputs": [
    {
     "name": "stdout",
     "output_type": "stream",
     "text": [
      "Work done by lift is 5.9e+05 J.\n",
      "Since there is no change in kinetic energy (constant speed) the net work is zero.\n"
     ]
    }
   ],
   "source": [
    "%reset -f\n",
    "\n",
    "import sympy as sym\n",
    "\n",
    "#let positive direction be upward\n",
    "\n",
    "m = 1500\n",
    "dx = 40.0\n",
    "ffx = -100.0 #friction force\n",
    "g = 9.81\n",
    "\n",
    "w_net = 0.0\n",
    "\n",
    "# Part 1\n",
    "\n",
    "fgx = -m*g  # gravitional force\n",
    "\n",
    "w_lift = sym.Symbol('w_lift')\n",
    "\n",
    "# work-energy: k2 - k1 = w_net   (w_net = w_lift + w_gravity + w_friction) \n",
    "# no change in kinetic energy\n",
    "\n",
    "w_gravity = fgx*dx\n",
    "w_friction = ffx*dx\n",
    "\n",
    "eq = w_lift + w_gravity + w_friction\n",
    "sol = sym.solve(eq,w_lift)\n",
    "\n",
    "answer = \"{:.1e}\".format(float(sol[0]))\n",
    "print('Work done by lift is '+str(answer)+' J.')\n",
    "\n",
    "print('Since there is no change in kinetic energy (constant speed) the net work is zero.')"
   ]
  },
  {
   "cell_type": "markdown",
   "metadata": {},
   "source": [
    "<hr style=\"height:2px;border-width:0;color:gray;background-color:gray\">"
   ]
  },
  {
   "cell_type": "markdown",
   "metadata": {},
   "source": [
    "<h2>Problem D5.5</h2>\n",
    "    </header>\n",
    "\n",
    "How fast must a $3000.0$ kg elephant move to have the same kinetic energy as a $65.0$ kg sprinter running at $10.0$ m/s?\n",
    "\n",
    "[This problem is a slightly modified version from OpenStax. Access for free here](https://openstax.org/books/university-physics-volume-1/pages/7-problems)"
   ]
  },
  {
   "cell_type": "code",
   "execution_count": 5,
   "metadata": {
    "tags": [
     "hide-input",
     "hide-output"
    ]
   },
   "outputs": [
    {
     "name": "stdout",
     "output_type": "stream",
     "text": [
      "The elephant must be moving at 1.47e+00 m/s.\n"
     ]
    }
   ],
   "source": [
    "%reset -f\n",
    "\n",
    "import sympy as sym\n",
    "\n",
    "m_e = 3000.0\n",
    "m_s = 65.0\n",
    "\n",
    "v_s = 10.0\n",
    "\n",
    "k_s = 0.5*m_s*v_s**2\n",
    "\n",
    "v_e = sym.Symbol('v_e')\n",
    "k_e = 0.5*m_e*v_e**2\n",
    "\n",
    "# k_s = k_e \n",
    "eq = k_e - k_s\n",
    "sol = sym.solve(eq,v_e)\n",
    "v_e = sol[1]   #pick the positive root\n",
    "\n",
    "answer = \"{:.2e}\".format(float(v_e))\n",
    "print('The elephant must be moving at '+str(answer)+' m/s.')\n"
   ]
  },
  {
   "cell_type": "markdown",
   "metadata": {},
   "source": [
    "<hr style=\"height:2px;border-width:0;color:gray;background-color:gray\">"
   ]
  },
  {
   "cell_type": "markdown",
   "metadata": {},
   "source": [
    "<h2>Problem D5.6</h2>\n",
    "    </header>\n",
    "\n",
    "An $8.0$ g bullet has a speed of $800.0$ m/s. \n",
    "\n",
    "1. What is its kinetic energy? \n",
    "2. What is its kinetic energy if the speed is halved?\n",
    "\n",
    "[This problem is a slightly modified version from OpenStax. Access for free here](https://openstax.org/books/university-physics-volume-1/pages/7-problems)"
   ]
  },
  {
   "cell_type": "code",
   "execution_count": 6,
   "metadata": {
    "tags": [
     "hide-input",
     "hide-output"
    ]
   },
   "outputs": [
    {
     "name": "stdout",
     "output_type": "stream",
     "text": [
      "Kinetic energy is 2.6e+03 J.\n",
      "Kinetic energy is 6.4e+02 J.\n",
      "The kinetic energy depends on speed squared. Hence, if the speed is cut in half, the kinetic energy is cut in 4.\n"
     ]
    }
   ],
   "source": [
    "%reset -f\n",
    "\n",
    "m = 8.0E-3\n",
    "v1 = 800.0\n",
    "\n",
    "k1 = 0.5*m*v1**2\n",
    "\n",
    "answer = \"{:.1e}\".format(float(k1))\n",
    "print('Kinetic energy is '+str(answer)+' J.')\n",
    "\n",
    "v2 = 0.5*v1\n",
    "\n",
    "k2 = 0.5*m*v2**2\n",
    "\n",
    "answer = \"{:.1e}\".format(float(k2))\n",
    "print('Kinetic energy is '+str(answer)+' J.')\n",
    "\n",
    "print('The kinetic energy depends on speed squared. Hence, if the speed is cut in half, the kinetic energy is cut in 4.')"
   ]
  },
  {
   "cell_type": "markdown",
   "metadata": {},
   "source": [
    "<hr style=\"height:2px;border-width:0;color:gray;background-color:gray\">"
   ]
  }
 ],
 "metadata": {
  "celltoolbar": "Tags",
  "kernelspec": {
   "display_name": "Python 3 (ipykernel)",
   "language": "python",
   "name": "python3"
  },
  "language_info": {
   "codemirror_mode": {
    "name": "ipython",
    "version": 3
   },
   "file_extension": ".py",
   "mimetype": "text/x-python",
   "name": "python",
   "nbconvert_exporter": "python",
   "pygments_lexer": "ipython3",
   "version": "3.10.9"
  }
 },
 "nbformat": 4,
 "nbformat_minor": 4
}