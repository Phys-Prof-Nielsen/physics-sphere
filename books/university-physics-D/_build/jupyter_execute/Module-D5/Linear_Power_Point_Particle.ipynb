{
 "cells": [
  {
   "cell_type": "markdown",
   "metadata": {},
   "source": [
    "# D5.4 Linear Power: Point Particle\n",
    "<hr style=\"height:2px;border-width:0;color:gray;background-color:gray\">"
   ]
  },
  {
   "cell_type": "markdown",
   "metadata": {},
   "source": [
    "# NEED TO WAIT UNTIL INDIVIDUAL FORCES...will make more sense then\n",
    "\n",
    "## D5.1.1 Concept of Power\n",
    "Work defined through\n",
    "\n",
    "$$ w = f_{net,x}\\Delta x $$\n",
    "\n",
    "is a measure of energy transfer but does not say anything about <b>how fast the energy was transferred</b>. This is where power comes in.\n",
    "\n",
    "<div class=\"alert alert-success\">\n",
    "Power is a measure of the rate of energy transfer.\n",
    "</div>\n",
    "        \n",
    "<hr style=\"height:2px;border-width:0;color:gray;background-color:gray\">"
   ]
  },
  {
   "cell_type": "markdown",
   "metadata": {},
   "source": [
    "## D5.1.2 Power\n",
    "We define the <b>average linear power</b> as\n",
    "\n",
    "<div class=\"alert alert-success\">\n",
    "    <b>Average Power</b>\n",
    "  \n",
    "$$ p_{av} = \\frac{\\Delta w}{\\Delta t} \\tag{1}$$\n",
    "</div>\n",
    "\n",
    "where $\\Delta w$ is understood to be the amount of work done during the time interval $\\Delta t$.\n",
    "\n",
    "### Unit\n",
    "Unit of work is J/s, which we define as a Watt (W).\n",
    "\n",
    "<hr style=\"height:2px;border-width:0;color:gray;background-color:gray\">"
   ]
  },
  {
   "cell_type": "markdown",
   "metadata": {},
   "source": [
    "## D5.1.3 Alternative Expression of Power\n",
    "Since the amount of work done during $\\Delta t$ is\n",
    "\n",
    "$$ \\Delta w = f_{net,x}\\Delta x $$\n",
    "\n",
    "the power must be\n",
    "\n",
    "$$ p_{av} = \\frac{f_{net,x}\\Delta x}{\\Delta t} $$\n",
    "\n",
    "We recognize that \n",
    "\n",
    "$$ \\frac{\\Delta x}{\\Delta t} = v_x $$\n",
    "\n",
    "and we have an alternative form of calculating the average power:\n",
    "\n",
    "<div class=\"alert alert-success\">\n",
    "    <b>Average Power</b>\n",
    "  \n",
    "$$ p_{av} = f_{net,x}v_x \\tag{2}$$\n",
    "</div>\n",
    "\n",
    "where $\\Delta w$ is understood to be the amount of work done during the time interval $\\Delta t$.\n",
    "\n",
    "### Unit\n",
    "Unit of work is J/s, which we define as a Watt (W).\n",
    "\n",
    "<hr style=\"height:2px;border-width:0;color:gray;background-color:gray\">"
   ]
  },
  {
   "cell_type": "markdown",
   "metadata": {},
   "source": [
    "<div style=\"background-color: #D0D0D0 ; padding: 10px; border: 1px solid black;\">\n",
    "<header>\n",
    "<h3> Example 1</h3>\n",
    "    </header>\n",
    "\n",
    "<b>Problem</b>\n",
    "<br>\n",
    "A gym rat is lifting a 150.0 kg loaded barbell up in a straightline over a distance of 0.60 cm in 0.50 s by appplying a net average force of 1700 N on the barbell. How much power did the gym rat exert?\n",
    "\n",
    "<b>Methodology</b>\n",
    "<br>\n",
    "We can combine the work done\n",
    "   \n",
    "$$ \\Delta w = f_{net,x}\\Delta x $$ \n",
    "    \n",
    "with the definition of power to obtain\n",
    "    \n",
    "$$ p_{av} = \\frac{f_{net,x}\\Delta x}{\\Delta t} $$\n",
    "\n",
    "<b>Solution</b>\n",
    "<br>\n",
    "The power is then:\n",
    "\n",
    "$$ p_{av} = \\frac{(1700)(0.60)}{(0.50)} = 2040~\\textrm{W} \\rightarrow 2.0\\times 10^3~\\textrm{W} $$\n",
    "    \n",
    "</div>\n",
    "<hr style=\"height:2px;border-width:0;color:gray;background-color:gray\">"
   ]
  },
  {
   "cell_type": "markdown",
   "metadata": {},
   "source": [
    "## D5.1.3 Test Yourself"
   ]
  },
  {
   "cell_type": "code",
   "execution_count": 1,
   "metadata": {},
   "outputs": [
    {
     "ename": "FileNotFoundError",
     "evalue": "[Errno 2] No such file or directory: 'quiz-linear-power.json'",
     "output_type": "error",
     "traceback": [
      "\u001b[0;31m---------------------------------------------------------------------------\u001b[0m",
      "\u001b[0;31mFileNotFoundError\u001b[0m                         Traceback (most recent call last)",
      "Input \u001b[0;32mIn [1]\u001b[0m, in \u001b[0;36m<cell line: 3>\u001b[0;34m()\u001b[0m\n\u001b[1;32m      1\u001b[0m \u001b[38;5;28;01mfrom\u001b[39;00m \u001b[38;5;21;01mjupyterquiz\u001b[39;00m \u001b[38;5;28;01mimport\u001b[39;00m display_quiz\n\u001b[1;32m      2\u001b[0m \u001b[38;5;28;01mimport\u001b[39;00m \u001b[38;5;21;01mjson\u001b[39;00m\n\u001b[0;32m----> 3\u001b[0m \u001b[38;5;28;01mwith\u001b[39;00m \u001b[38;5;28;43mopen\u001b[39;49m\u001b[43m(\u001b[49m\u001b[38;5;124;43m\"\u001b[39;49m\u001b[38;5;124;43mquiz-linear-power.json\u001b[39;49m\u001b[38;5;124;43m\"\u001b[39;49m\u001b[43m,\u001b[49m\u001b[43m \u001b[49m\u001b[38;5;124;43m\"\u001b[39;49m\u001b[38;5;124;43mr\u001b[39;49m\u001b[38;5;124;43m\"\u001b[39;49m\u001b[43m)\u001b[49m \u001b[38;5;28;01mas\u001b[39;00m file:\n\u001b[1;32m      4\u001b[0m     questions\u001b[38;5;241m=\u001b[39mjson\u001b[38;5;241m.\u001b[39mload(file)\n\u001b[1;32m      6\u001b[0m display_quiz(questions)\n",
      "\u001b[0;31mFileNotFoundError\u001b[0m: [Errno 2] No such file or directory: 'quiz-linear-power.json'"
     ]
    }
   ],
   "source": [
    "from jupyterquiz import display_quiz\n",
    "import json\n",
    "with open(\"quiz-linear-power.json\", \"r\") as file:\n",
    "    questions=json.load(file)\n",
    "\n",
    "display_quiz(questions)"
   ]
  },
  {
   "cell_type": "markdown",
   "metadata": {},
   "source": [
    "<hr style=\"height:2px;border-width:0;color:gray;background-color:gray\">"
   ]
  }
 ],
 "metadata": {
  "kernelspec": {
   "display_name": "Python 3 (ipykernel)",
   "language": "python",
   "name": "python3"
  },
  "language_info": {
   "codemirror_mode": {
    "name": "ipython",
    "version": 3
   },
   "file_extension": ".py",
   "mimetype": "text/x-python",
   "name": "python",
   "nbconvert_exporter": "python",
   "pygments_lexer": "ipython3",
   "version": "3.9.12"
  }
 },
 "nbformat": 4,
 "nbformat_minor": 4
}