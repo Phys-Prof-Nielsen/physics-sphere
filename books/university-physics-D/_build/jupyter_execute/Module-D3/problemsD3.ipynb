{
 "cells": [
  {
   "cell_type": "markdown",
   "metadata": {},
   "source": [
    "# D3.2 Problems\n",
    "<hr style=\"height:2px;border-width:0;color:gray;background-color:gray\">"
   ]
  },
  {
   "cell_type": "markdown",
   "metadata": {},
   "source": [
    "<h2>Problem D3.1</h2>\n",
    "    </header>\n",
    "\n",
    "Before a crash-test collision, a dummy of mass 75-kg is traveling at +25.0 m/s towards a wall. What is the impulse during the collision?"
   ]
  },
  {
   "cell_type": "markdown",
   "metadata": {},
   "source": [
    "### Solution"
   ]
  },
  {
   "cell_type": "code",
   "execution_count": 1,
   "metadata": {},
   "outputs": [],
   "source": [
    "#DIY Cell"
   ]
  },
  {
   "cell_type": "code",
   "execution_count": 2,
   "metadata": {
    "tags": [
     "hide-input",
     "hide-output"
    ]
   },
   "outputs": [
    {
     "name": "stdout",
     "output_type": "stream",
     "text": [
      "The impulse experienced by the dummy during the collision is: -1.9e+03 kgm/s.\n"
     ]
    }
   ],
   "source": [
    "%reset -f\n",
    "\n",
    "# declare given parameters\n",
    "m = 75.0   #mass\n",
    "v1x = 25.0  # initial x-velocity\n",
    "\n",
    "# indirect information\n",
    "# in a crash test, the final velocity is zero\n",
    "v2x = 0.0\n",
    "# impulse\n",
    "ix = m*(v2x - v1x)\n",
    "\n",
    "# print the answer\n",
    "answer = \"{:.1e}\".format(ix)\n",
    "print('The impulse experienced by the dummy during the collision is: '+answer+' kgm/s.')"
   ]
  },
  {
   "cell_type": "markdown",
   "metadata": {},
   "source": [
    "<hr style=\"height:2px;border-width:0;color:gray;background-color:gray\">"
   ]
  },
  {
   "cell_type": "markdown",
   "metadata": {},
   "source": [
    "<h2>Problem D3.2</h2>\n",
    "    </header>\n",
    "\n",
    "A 5.0E-3 kg particle is traveling in 1D with a speed of 335 m/s in the -z direction. After some elapsed time, the particle has a velocity of -875 m/s.\n",
    "\n",
    "1. What is the initial velocity of the particle?\n",
    "2. What is the initial and final momentums of the particle?\n",
    "3. Before calculating the impulse, make a prediction about the direction of impulse. Explain your reasoning.\n",
    "4. Calculate the momentum transfer for the particle. (Remember that impulse is momentum transfer.)"
   ]
  },
  {
   "cell_type": "markdown",
   "metadata": {},
   "source": [
    "### Solution"
   ]
  },
  {
   "cell_type": "code",
   "execution_count": 3,
   "metadata": {},
   "outputs": [],
   "source": [
    "#DIY Cell"
   ]
  },
  {
   "cell_type": "code",
   "execution_count": 4,
   "metadata": {
    "tags": [
     "hide-input",
     "hide-output"
    ]
   },
   "outputs": [
    {
     "name": "stdout",
     "output_type": "stream",
     "text": [
      "Initial velocity is: -3.35e+02 m/s.\n",
      "Initial mommentum is: -1.7e+00 kgm/s.\n",
      "Final mommentum is: -4.4e+00 kgm/s.\n",
      "It is speeding up in negative direction, so something must transfer momentum to the particle in the negative direction: impulse must be negative!\n",
      "Momentum transfer to particle is -2.7e+00 kgm/s.\n"
     ]
    }
   ],
   "source": [
    "%reset -f\n",
    "\n",
    "# declare given parameters\n",
    "m = 5.0E-3\n",
    "v1z = -335.0\n",
    "v2z = -875.0\n",
    "\n",
    "# Part 1\n",
    "# ------\n",
    "# velocity is speed + direction\n",
    "answer = \"{:.2e}\".format(v1z)\n",
    "print('Initial velocity is: '+answer+' m/s.')\n",
    "\n",
    "# Part 2\n",
    "# ------\n",
    "p1z = m*v1z\n",
    "answer = \"{:.1e}\".format(p1z)\n",
    "print('Initial mommentum is: '+answer+' kgm/s.')\n",
    "p2z = m*v2z\n",
    "answer = \"{:.1e}\".format(p2z)\n",
    "print('Final mommentum is: '+answer+' kgm/s.')\n",
    "\n",
    "# Part 3\n",
    "# ------\n",
    "print('It is speeding up in negative direction, so something must transfer momentum to the particle in the negative direction: impulse must be negative!')\n",
    "\n",
    "# Part 4\n",
    "# ------\n",
    "iz = p2z - p1z\n",
    "answer = \"{:.1e}\".format(iz)\n",
    "print('Momentum transfer to particle is '+answer+' kgm/s.')"
   ]
  },
  {
   "cell_type": "markdown",
   "metadata": {},
   "source": [
    "<hr style=\"height:2px;border-width:0;color:gray;background-color:gray\">"
   ]
  },
  {
   "cell_type": "markdown",
   "metadata": {},
   "source": [
    "<h2>Problem D3.3</h2>\n",
    "    </header>\n",
    "\n",
    "You observe a 2.0 kg point particle-like object initially moving at -45 m/s. The object is only subjected to a frictional force and comes to a stop after 8.0 s. What is the frictional force. "
   ]
  },
  {
   "cell_type": "markdown",
   "metadata": {},
   "source": [
    "### Solution"
   ]
  },
  {
   "cell_type": "code",
   "execution_count": 5,
   "metadata": {},
   "outputs": [],
   "source": [
    "#DIY Cell"
   ]
  },
  {
   "cell_type": "code",
   "execution_count": 6,
   "metadata": {
    "tags": [
     "hide-input",
     "hide-output"
    ]
   },
   "outputs": [
    {
     "name": "stdout",
     "output_type": "stream",
     "text": [
      "The friction (net) force is 1.1e+01 N.\n"
     ]
    }
   ],
   "source": [
    "%reset -f\n",
    "\n",
    "#declare given variables\n",
    "m = 2.0\n",
    "#let motion be along x\n",
    "v1x = -45.0   #initial velocity\n",
    "v2x = 0.0     #final velocity\n",
    "dt = 8.0      #elapsed time\n",
    "\n",
    "p1x = m*v1x  #initial momentum\n",
    "p2x = m*v2x  # final momentum\n",
    "\n",
    "dpx = p2x - p1x #change in momentum\n",
    "\n",
    "fx = dpx/dt  #impulse-momentum theorem...only force is friction\n",
    "\n",
    "answer = \"{:.1e}\".format(fx)\n",
    "print('The friction (net) force is '+answer+' N.')"
   ]
  },
  {
   "cell_type": "markdown",
   "metadata": {},
   "source": [
    "<hr style=\"height:2px;border-width:0;color:gray;background-color:gray\">"
   ]
  },
  {
   "cell_type": "markdown",
   "metadata": {},
   "source": [
    "<h2>Problem D3.4</h2>\n",
    "    </header>\n",
    "\n",
    "Consider a 2.0 kg particle traveling at 25 m/s towards the fixed wall. The particle is subject to two different collisions with the same impact time of 0.020 s:\n",
    "\n",
    "* Head-on collision where the particle stick to the collision surface.\n",
    "* Head-on collision where the particle bounces of the collision surface with the same speed.\n",
    "\n",
    "1. Make a prediction to which of those two collisions the particle will experience the larger impact force. \n",
    "2. Quantify your prediction by calculating the impact force in both cases. Assume the impact force is much greater than any other forces involved in the collision. "
   ]
  },
  {
   "cell_type": "markdown",
   "metadata": {},
   "source": [
    "### Solution"
   ]
  },
  {
   "cell_type": "code",
   "execution_count": 7,
   "metadata": {},
   "outputs": [],
   "source": [
    "#DIY Cell"
   ]
  },
  {
   "cell_type": "code",
   "execution_count": 8,
   "metadata": {
    "tags": [
     "hide-input",
     "hide-output"
    ]
   },
   "outputs": [
    {
     "name": "stdout",
     "output_type": "stream",
     "text": [
      "Bouncing off the wall requires a greater momentum transfer and this greater impact force.\n",
      "Stick: Impact force is -2.5e+03 N.\n",
      "Bounce: Impact force is -5.0e+03 N.\n"
     ]
    }
   ],
   "source": [
    "%reset -f\n",
    "# declare given parameters\n",
    "m = 2.0\n",
    "#let direction towards wall be +x\n",
    "v1x = +25.0\n",
    "dt = 0.020\n",
    "\n",
    "v2x_stick = 0\n",
    "v2x_bounce = -25.0\n",
    "\n",
    "# Part 1\n",
    "# ------\n",
    "print('Bouncing off the wall requires a greater momentum transfer and this greater impact force.')\n",
    "\n",
    "# Part 2\n",
    "\n",
    "# stick\n",
    "fx_stick = (m*(v2x_stick - v1x))/dt  #impulse-momentum theorem\n",
    "answer = \"{:.1e}\".format(fx_stick)\n",
    "print('Stick: Impact force is '+answer+' N.')\n",
    "\n",
    "# bounce\n",
    "fx_bounce = (m*(v2x_bounce - v1x))/dt\n",
    "answer = \"{:.1e}\".format(fx_bounce)\n",
    "print('Bounce: Impact force is '+answer+' N.')"
   ]
  },
  {
   "cell_type": "markdown",
   "metadata": {},
   "source": [
    "<hr style=\"height:2px;border-width:0;color:gray;background-color:gray\">"
   ]
  }
 ],
 "metadata": {
  "celltoolbar": "Tags",
  "kernelspec": {
   "display_name": "Python 3 (ipykernel)",
   "language": "python",
   "name": "python3"
  },
  "language_info": {
   "codemirror_mode": {
    "name": "ipython",
    "version": 3
   },
   "file_extension": ".py",
   "mimetype": "text/x-python",
   "name": "python",
   "nbconvert_exporter": "python",
   "pygments_lexer": "ipython3",
   "version": "3.10.9"
  }
 },
 "nbformat": 4,
 "nbformat_minor": 4
}