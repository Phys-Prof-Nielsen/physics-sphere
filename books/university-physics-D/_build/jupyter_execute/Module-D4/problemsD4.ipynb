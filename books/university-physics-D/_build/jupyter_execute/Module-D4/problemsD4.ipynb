{
 "cells": [
  {
   "cell_type": "markdown",
   "metadata": {},
   "source": [
    "# D4.2 Problems\n",
    "<hr style=\"height:2px;border-width:0;color:gray;background-color:gray\">"
   ]
  },
  {
   "cell_type": "markdown",
   "metadata": {},
   "source": [
    "<h2>Problem D4.1</h2>\n",
    "    </header>\n",
    "\n",
    "Before a crash-test collision, a car with a crash test dummy of mass 75-kg is traveling at 25.0 m/s towards a wall. The impact time is 10.00 ms. Assume the impact force is much greater than any other forces involved in the collision. \n",
    "\n",
    "1. If the crast test dummy is fasten to the car, what impact force is experienced by the dummy?\n",
    "2. Instead of being fasten to the car, the dummy is wearing seat belts and the impact time is increased to 20.0 ms. What is the impact force then?\n",
    "3. In addition to seat belt, the car is equipped with airbags increasing the impact time to a whooping 0.100 s. What is the impact force in this scenario?\n",
    "4. The acceleration of gravity is 9.81 m/s$^2$. How many g's did the dummy experience in each crash scenario? HINT: take the acceleration and divide by 9.81 to obtain it in units of g."
   ]
  },
  {
   "cell_type": "code",
   "execution_count": 1,
   "metadata": {
    "tags": [
     "hide-input",
     "hide-output"
    ]
   },
   "outputs": [
    {
     "name": "stdout",
     "output_type": "stream",
     "text": [
      "Impact force is -1.9e+05 N.\n",
      "Impact force is -9.4e+04 N.\n",
      "Impact force is -1.9e+04 N.\n",
      " \n",
      "Scenario 1: -2.55e+02 g.\n",
      "Scenario 2: -1.27e+02 g.\n",
      "Scenario 2: -2.55e+01 g.\n"
     ]
    }
   ],
   "source": [
    "%reset -f\n",
    "\n",
    "# declare given parameters\n",
    "m = 75.0\n",
    "#let +x be in initial direction of travel\n",
    "v1x = 25.0\n",
    "v2x = 0.0  # crash test dummy comes to a stop\n",
    "dt = 10.0E-3   # time in seconds\n",
    "\n",
    "# part 1\n",
    "# ------\n",
    "p1x = m*v1x\n",
    "p2x = m*v2x\n",
    "fx = (p2x - p1x)/(dt)\n",
    "\n",
    "answer = \"{:.1e}\".format(fx)\n",
    "print('Impact force is '+answer+' N.')\n",
    "\n",
    "# Part 2\n",
    "# ------\n",
    "dt = 20.0E-3\n",
    "fx = (p2x - p1x)/(dt)\n",
    "\n",
    "answer = \"{:.1e}\".format(fx)\n",
    "print('Impact force is '+answer+' N.')\n",
    "\n",
    "# Part 3\n",
    "# ------\n",
    "dt = 0.100\n",
    "fx = (p2x - p1x)/(dt)\n",
    "\n",
    "answer = \"{:.1e}\".format(fx)\n",
    "print('Impact force is '+answer+' N.')\n",
    "\n",
    "print(' ')\n",
    "\n",
    "# Part 4\n",
    "# ------\n",
    "g = 9.81\n",
    "dt = 10.0E-3\n",
    "ax = (v2x - v1x)/dt\n",
    "g_acc = ax/g\n",
    "\n",
    "answer = \"{:.2e}\".format(g_acc)\n",
    "print('Scenario 1: '+answer+' g.')\n",
    "\n",
    "dt = 20.0E-3\n",
    "ax = (v2x - v1x)/dt\n",
    "g_acc = ax/g\n",
    "\n",
    "answer = \"{:.2e}\".format(g_acc)\n",
    "print('Scenario 2: '+answer+' g.')\n",
    "\n",
    "dt = 0.100\n",
    "ax = (v2x - v1x)/dt\n",
    "g_acc = ax/g\n",
    "\n",
    "answer = \"{:.2e}\".format(g_acc)\n",
    "print('Scenario 2: '+answer+' g.')"
   ]
  },
  {
   "cell_type": "markdown",
   "metadata": {},
   "source": [
    "<hr style=\"height:2px;border-width:0;color:gray;background-color:gray\">"
   ]
  },
  {
   "cell_type": "markdown",
   "metadata": {},
   "source": [
    "<h2>Problem D4.2</h2>\n",
    "    </header>\n",
    "\n",
    "A 5.0 kg particle is traveling in 1D at -35 m/s when it interacts with another particle. After the interaction the velocity is -5.0 m/s.\n",
    "\n",
    "1. Make a prediction about the direction of the interaction in terms (positive or negative direction) and explain your answer.\n",
    "2. If the net average force during the collision was 3.0E3 N, what was the impact time?\n",
    "3. What was the acceleration of the of the particle during the interaction? "
   ]
  },
  {
   "cell_type": "code",
   "execution_count": 2,
   "metadata": {
    "tags": [
     "hide-input",
     "hide-output"
    ]
   },
   "outputs": [
    {
     "name": "stdout",
     "output_type": "stream",
     "text": [
      "Since the particle is slowing down, the interaction must be in opposite direction of motion.\n",
      "The impact time was: 5.0e-02 s.\n",
      "Acceleration was: 6.0e+02 m/s².\n"
     ]
    }
   ],
   "source": [
    "%reset -f\n",
    "\n",
    "# declare given parameters\n",
    "m = 5.0\n",
    "v1x = -35.0\n",
    "v2x = -5.0\n",
    "\n",
    "# Part 1\n",
    "# ------\n",
    "print('Since the particle is slowing down, the interaction must be in opposite direction of motion.')\n",
    "\n",
    "# Part 2\n",
    "# ------\n",
    "fx = 3.0E3\n",
    "p1x = m*v1x\n",
    "p2x = m*v2x\n",
    "dpx = p2x - p1x\n",
    "dt = dpx/fx\n",
    "\n",
    "answer = \"{:.1e}\".format(dt)\n",
    "print('The impact time was: '+answer+' s.')\n",
    "\n",
    "# Part 3\n",
    "# ------\n",
    "ax = (v2x - v1x)/dt   #could also use f = ma to find acceleration.\n",
    "\n",
    "answer = \"{:.1e}\".format(ax)\n",
    "print('Acceleration was: '+answer+' m/s\\u00B2.')"
   ]
  },
  {
   "cell_type": "markdown",
   "metadata": {},
   "source": [
    "<hr style=\"height:2px;border-width:0;color:gray;background-color:gray\">"
   ]
  },
  {
   "cell_type": "markdown",
   "metadata": {},
   "source": [
    "<h2>Problem D4.3</h2>\n",
    "    </header>\n",
    "\n",
    "A net force of $f_x = +5.0$ N is in contact with a 0.50 kg particle over the duration of 8.0 s. \n",
    "\n",
    "1. Is momentum transferred to or from the particle? Explain your answer.\n",
    "2. What is the momentum transfer experienced by the particle?\n",
    "3. If the initial velocity of the particle was +25 m/s, what is the velocity of the particle after the interaction?\n",
    "4. What acceleration did the particle experience during the interaction?"
   ]
  },
  {
   "cell_type": "code",
   "execution_count": 3,
   "metadata": {
    "tags": [
     "hide-input",
     "hide-output"
    ]
   },
   "outputs": [
    {
     "name": "stdout",
     "output_type": "stream",
     "text": [
      "Since force is positive, momentum is transferred to the particle.\n",
      "The momentum transfer is: 40.0 kgm/s.\n",
      "Final velocity is: 105.0 m/s.\n",
      "Acceleration is: 10.0 m/s².\n"
     ]
    }
   ],
   "source": [
    "%reset -f\n",
    "# declare given parameters\n",
    "fx = 5.0\n",
    "m = 0.50\n",
    "dt = 8.0\n",
    "\n",
    "# Part 1\n",
    "# ------\n",
    "print('Since force is positive, momentum is transferred to the particle.')\n",
    "\n",
    "# Part 2\n",
    "# ------\n",
    "dpx = fx*dt\n",
    "\n",
    "print('The momentum transfer is: '+str(dpx)+' kgm/s.')\n",
    "\n",
    "# Part 3\n",
    "# ------\n",
    "v1x = 25.0\n",
    "p1x = m*v1x\n",
    "\n",
    "p2x = p1x + dpx\n",
    "v2x = p2x/m\n",
    "\n",
    "print('Final velocity is: '+str(v2x)+' m/s.')\n",
    "\n",
    "# Part 4\n",
    "# ------\n",
    "ax = (v2x - v1x)/dt\n",
    "\n",
    "print('Acceleration is: '+str(ax)+' m/s\\u00B2.')"
   ]
  },
  {
   "cell_type": "markdown",
   "metadata": {},
   "source": [
    "<hr style=\"height:2px;border-width:0;color:gray;background-color:gray\">"
   ]
  },
  {
   "cell_type": "markdown",
   "metadata": {},
   "source": [
    "<h2>Problem D4.4</h2>\n",
    "    </header>\n",
    "\n",
    "Andrea, a $63.0$ kg sprinter, starts a race with an acceleration of $+4.200$ m/s$^2$. What is the net external force on her?\n",
    "\n",
    "[This problem is a slightly modified version from OpenStax. Access for free here](https://openstax.org/books/university-physics-volume-1/pages/5-problems)"
   ]
  },
  {
   "cell_type": "code",
   "execution_count": 4,
   "metadata": {
    "tags": [
     "hide-input",
     "hide-output"
    ]
   },
   "outputs": [
    {
     "name": "stdout",
     "output_type": "stream",
     "text": [
      "The force on Andrea is: 264.6 N.\n"
     ]
    }
   ],
   "source": [
    "%reset -f\n",
    "\n",
    "m = 63.0\n",
    "ax = 4.200\n",
    "\n",
    "fx = m*ax\n",
    "\n",
    "print('The force on Andrea is: '+str(fx)+' N.')"
   ]
  },
  {
   "cell_type": "code",
   "execution_count": 5,
   "metadata": {
    "tags": [
     "hide-input",
     "hide-output"
    ]
   },
   "outputs": [
    {
     "name": "stdout",
     "output_type": "stream",
     "text": [
      "The force on Andrea is: 264.600000000000 N.\n"
     ]
    }
   ],
   "source": [
    "#alternative method using equation solver\n",
    "\n",
    "%reset -f\n",
    "\n",
    "import sympy as sym\n",
    "\n",
    "m = 63.0\n",
    "ax = 4.200\n",
    "\n",
    "#declare unknown variable\n",
    "fx = sym.Symbol('fx')\n",
    "\n",
    "#equation to solve: 0 = f - ma (comes from f = ma)\n",
    "eq = fx - m*ax\n",
    "\n",
    "sol = sym.solve(eq,fx)\n",
    "fx = sol[0]\n",
    "print('The force on Andrea is: '+str(fx)+' N.')"
   ]
  },
  {
   "cell_type": "markdown",
   "metadata": {},
   "source": [
    "<hr style=\"height:2px;border-width:0;color:gray;background-color:gray\">"
   ]
  },
  {
   "cell_type": "markdown",
   "metadata": {},
   "source": [
    "<h2>Problem D4.5</h2>\n",
    "    </header>\n",
    "\n",
    "A cleaner pushes a $4.50$ kg laundry cart in such a way that the net external force on it is $60.0$ N. Calculate the magnitude of his cart’s acceleration.\n",
    "\n",
    "[This problem is a slightly modified version from OpenStax. Access for free here](https://openstax.org/books/university-physics-volume-1/pages/5-problems)"
   ]
  },
  {
   "cell_type": "code",
   "execution_count": 6,
   "metadata": {
    "tags": [
     "hide-input",
     "hide-output"
    ]
   },
   "outputs": [
    {
     "name": "stdout",
     "output_type": "stream",
     "text": [
      "The magnitude of the acceleration is: 13.333333333333334 m/s².\n"
     ]
    }
   ],
   "source": [
    "%reset -f\n",
    "import numpy as np\n",
    "\n",
    "m = 4.50\n",
    "fx = 60.0\n",
    "\n",
    "ax = fx/m\n",
    "\n",
    "#in principle ax can be either positive or negative, so we need to use the absolute value\n",
    "a = np.abs(ax)\n",
    "\n",
    "print('The magnitude of the acceleration is: '+str(a)+' m/s\\u00B2.')"
   ]
  },
  {
   "cell_type": "code",
   "execution_count": 7,
   "metadata": {
    "tags": [
     "hide-input",
     "hide-output"
    ]
   },
   "outputs": [
    {
     "name": "stdout",
     "output_type": "stream",
     "text": [
      "The magnitude of the acceleration is: 13.3333333333333 m/s².\n"
     ]
    }
   ],
   "source": [
    "#alternative method using equation solver\n",
    "\n",
    "%reset -f\n",
    "\n",
    "import sympy as sym\n",
    "\n",
    "m = 4.50\n",
    "fx = 60.0\n",
    "\n",
    "#declare unknown variable\n",
    "ax = sym.Symbol('ax')\n",
    "\n",
    "#equation to solve: 0 = f - ma (comes from f = ma)\n",
    "eq = fx - m*ax\n",
    "\n",
    "sol = sym.solve(eq,ax)\n",
    "ax = sol[0]\n",
    "a = sym.Abs(ax)\n",
    "\n",
    "print('The magnitude of the acceleration is: '+str(a)+' m/s\\u00B2.')"
   ]
  },
  {
   "cell_type": "markdown",
   "metadata": {},
   "source": [
    "<hr style=\"height:2px;border-width:0;color:gray;background-color:gray\">"
   ]
  },
  {
   "cell_type": "markdown",
   "metadata": {},
   "source": [
    "<h2>Problem D4.6</h2>\n",
    "    </header>\n",
    "\n",
    "A car with a mass of $1000.0$ kg accelerates from $0$ to $+90.0$ km/h in $10.0$ s. \n",
    "\n",
    "1. What is its acceleration?\n",
    "2. What is the net force on the car?\n",
    "\n",
    "[This problem is a slightly modified version from OpenStax. Access for free here](https://openstax.org/books/university-physics-volume-1/pages/5-problems)"
   ]
  },
  {
   "cell_type": "code",
   "execution_count": 8,
   "metadata": {
    "tags": [
     "hide-input",
     "hide-output"
    ]
   },
   "outputs": [
    {
     "name": "stdout",
     "output_type": "stream",
     "text": [
      "Acceleration is: 2.5 m/s²."
     ]
    },
    {
     "name": "stdout",
     "output_type": "stream",
     "text": [
      "\n",
      "Net force is: 2500.0 N.\n"
     ]
    }
   ],
   "source": [
    "%reset -f\n",
    "\n",
    "m = 1000.0\n",
    "v1x = 0.0\n",
    "v2x = 90.0\n",
    "dt = 10.0\n",
    "\n",
    "#convert v2x from km/hr to m/s\n",
    "v2x = (90.0)*(1000./1.0)*(1.0/3600.0)\n",
    "\n",
    "#Part 1\n",
    "# -----\n",
    "ax = (v2x - v1x)/dt\n",
    "\n",
    "print('Acceleration is: '+str(ax)+' m/s\\u00B2.')\n",
    "\n",
    "# Part 2\n",
    "# ------\n",
    "fx = m*ax\n",
    "\n",
    "print('Net force is: '+str(fx)+' N.')"
   ]
  },
  {
   "cell_type": "code",
   "execution_count": 9,
   "metadata": {
    "tags": [
     "hide-input",
     "hide-output"
    ]
   },
   "outputs": [
    {
     "name": "stdout",
     "output_type": "stream",
     "text": [
      "The acceleration is: 2.50000000000000 m/s².\n",
      "The force is: 2500.00000000000 N.\n"
     ]
    }
   ],
   "source": [
    "#alternative method using equation solver\n",
    "\n",
    "%reset -f\n",
    "\n",
    "import sympy as sym\n",
    "\n",
    "m = 1000.0\n",
    "v1x = 0.0\n",
    "v2x = 90.0\n",
    "dt = 10.0\n",
    "\n",
    "#convert v2x from km/hr to m/s\n",
    "v2x = (90.0)*(1000./1.0)*(1.0/3600.0)\n",
    "\n",
    "# Part 1\n",
    "# -----\n",
    "#declare unknown variable\n",
    "ax = sym.Symbol('ax')\n",
    "\n",
    "#equation to solve: 0 = a - (v2 - v1)/(t2 - t1) \n",
    "eq1 = ax - (v2x - v1x)/dt\n",
    "\n",
    "sol1 = sym.solve(eq1,ax)\n",
    "ax = sol1[0]\n",
    "\n",
    "print('The acceleration is: '+str(ax)+' m/s\\u00B2.')\n",
    "\n",
    "# Part 2\n",
    "# -----\n",
    "#declare unknown variable\n",
    "fx = sym.Symbol('fx')\n",
    "\n",
    "#equation to solve\n",
    "eq2 = fx - m*ax\n",
    "\n",
    "sol2 = sym.solve(eq2,fx)\n",
    "fx = sol2[0]\n",
    "\n",
    "print('The force is: '+str(fx)+' N.')"
   ]
  },
  {
   "cell_type": "markdown",
   "metadata": {},
   "source": [
    "<hr style=\"height:2px;border-width:0;color:gray;background-color:gray\">"
   ]
  }
 ],
 "metadata": {
  "celltoolbar": "Tags",
  "kernelspec": {
   "display_name": "Python 3 (ipykernel)",
   "language": "python",
   "name": "python3"
  },
  "language_info": {
   "codemirror_mode": {
    "name": "ipython",
    "version": 3
   },
   "file_extension": ".py",
   "mimetype": "text/x-python",
   "name": "python",
   "nbconvert_exporter": "python",
   "pygments_lexer": "ipython3",
   "version": "3.10.9"
  }
 },
 "nbformat": 4,
 "nbformat_minor": 4
}