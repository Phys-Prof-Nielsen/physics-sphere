{
 "cells": [
  {
   "cell_type": "markdown",
   "metadata": {},
   "source": [
    "# D1.5 Problems\n",
    "<hr style=\"height:2px;border-width:0;color:gray;background-color:gray\">"
   ]
  },
  {
   "cell_type": "markdown",
   "metadata": {},
   "source": [
    "<h2>Problem D1.1</h2>\n",
    "    </header>\n",
    "\n",
    "Write the following numbers in scientific notation using standard metric units and 3 significant units. \n",
    "1. Earth's radius: 3,958.8 mi.\n",
    "2. Speed of sound: 1234.8 km/hr.\n",
    "3. Acceleration of gravity at top of Mt. Everest: 32.02 ft/s$ ^2 $. \n",
    "4. Density of water: 62.416 lbs/ft$ ^3 $. \n",
    "\n",
    "<hr style=\"height:2px;border-width:0;color:gray;background-color:gray\">"
   ]
  },
  {
   "cell_type": "markdown",
   "metadata": {},
   "source": [
    "### Solution"
   ]
  },
  {
   "cell_type": "code",
   "execution_count": 1,
   "metadata": {},
   "outputs": [],
   "source": [
    "# DIY Cell"
   ]
  },
  {
   "cell_type": "code",
   "execution_count": 2,
   "metadata": {
    "tags": [
     "hide-input",
     "hide-output"
    ]
   },
   "outputs": [
    {
     "name": "stdout",
     "output_type": "stream",
     "text": [
      "Earth's radius: 6.37e+06 m\n",
      "Speed of sound: 3.43e+02 m/s\n",
      "Acceleration of gravity on top of Mt. Everest: 9.76e+00 m/s²\n",
      "Density of water: 1.00e+03 kg/m³\n"
     ]
    }
   ],
   "source": [
    "%reset -f\n",
    "\n",
    "# Part 1\n",
    "#-------\n",
    "number = 3958.8  # in miles\n",
    "cf1 = (1609.34)/(1)   #1609.34 m per 1 mi\n",
    "answer = number*cf1\n",
    "answer = \"{:.2e}\".format(answer)\n",
    "print('Earth\\'s radius: '+answer+' m')\n",
    "\n",
    "# Part 2\n",
    "#-------\n",
    "number = 1234.8  # km/hr\n",
    "cf1 = (1000)/(1)   #1000 m per 1 km\n",
    "cf2 = (1)/(3600)   #1 hr per 3600 s\n",
    "answer = number*cf1*cf2\n",
    "answer = \"{:.2e}\".format(answer)\n",
    "print('Speed of sound: '+answer+' m/s')\n",
    "\n",
    "# Part 3\n",
    "#-------\n",
    "number = 32.02  # ft/s^2\n",
    "cf1 = (1)/(3.281)   #1 m per 3.281 ft\n",
    "answer = number*cf1\n",
    "answer = \"{:.2e}\".format(answer)\n",
    "print('Acceleration of gravity on top of Mt. Everest: '+answer+' m/s\\u00B2')\n",
    "\n",
    "# Part 4\n",
    "#-------\n",
    "number = 62.416  # lbs/ft^3\n",
    "cf1 = (1)/(2.205)   #1 kg per 2.205 lbs\n",
    "cf2 = (3.281)/(1)   #3.281 ft per 1 m\n",
    "answer = number*cf1*(cf2)**3\n",
    "answer = \"{:.2e}\".format(answer)\n",
    "print('Density of water: '+answer+' kg/m\\u00B3')"
   ]
  },
  {
   "cell_type": "markdown",
   "metadata": {},
   "source": [
    "<hr style=\"height:2px;border-width:0;color:gray;background-color:gray\">"
   ]
  },
  {
   "cell_type": "markdown",
   "metadata": {},
   "source": [
    "<h2>Problem D1.2</h2>\n",
    "    </header>\n",
    "\n",
    "UVU students launched a high-altitude weather balloon for student research projects. To reach the peak altitude of 120,000 ft, the balloon had to be filled with 6447 L of Helium (launch volume). Using appropriate relationships express \n",
    "\n",
    "1. the volume of the balloon at launch in cubic inches and \n",
    "2. surface area in square feet (assuming a perfect sphere). \n",
    "\n",
    "<img src=\"P2.png\" width=\"400\">\n",
    "   \n",
    "<hr style=\"height:2px;border-width:0;color:gray;background-color:gray\">"
   ]
  },
  {
   "cell_type": "markdown",
   "metadata": {},
   "source": [
    "### Solution"
   ]
  },
  {
   "cell_type": "code",
   "execution_count": 3,
   "metadata": {},
   "outputs": [],
   "source": [
    "# DIY Cell"
   ]
  },
  {
   "cell_type": "code",
   "execution_count": 4,
   "metadata": {
    "tags": [
     "hide-input",
     "hide-output"
    ]
   },
   "outputs": [
    {
     "name": "stdout",
     "output_type": "stream",
     "text": [
      "Volume of balloon: 3.934e+05 cui\n"
     ]
    },
    {
     "name": "stdout",
     "output_type": "stream",
     "text": [
      "Area of balloon: 1.803e+2 sft\n"
     ]
    }
   ],
   "source": [
    "%reset -f\n",
    "\n",
    "import sympy as sp  #import symbolic python to solve equation for radius\n",
    "import numpy as np  #import numerical python to calculate area (it uses the function pi)\n",
    "\n",
    "vol_l = 6447  # volume in l. NOTE: 1 l = 1000 cm^3\n",
    "\n",
    "# PART 1\n",
    "# -------\n",
    "# Conversion problem\n",
    "cf1 = (1000)/(1)    # 1000 cm^3 per 1 l\n",
    "cf2 = (1)/(2.54)    #1 in per 2.54 cm\n",
    "\n",
    "vol_cui = vol_l*cf1*(cf2)**3  #volume in cubic inches\n",
    "answer1 = \"{:.3e}\".format(vol_cui)   #sig figs and scientific notion\n",
    "print('Volume of balloon: '+answer1+' cui')\n",
    "\n",
    "\n",
    "# PART 2\n",
    "#-------\n",
    "# Use symbolic python to solve a simple equation\n",
    "# First find the radius from the volume and then calculate the area\n",
    "\n",
    "R = sp.Symbol('R')  # create a variable for the radius\n",
    "vol_sphere = (4/3)*sp.pi*R**3  # volume of a sphere\n",
    "\n",
    "# solve the equation: vol_sphere = vol --> vol_sphere - vol = 0 is the actual equation to solve\n",
    "eq = vol_sphere - vol_cui  \n",
    "sol = sp.solve(eq,R) # radius in inches\n",
    "\n",
    "#only the real solution counts\n",
    "R_in = sol[0]\n",
    "\n",
    "#convert to ft\n",
    "cf1 = (1)/(12)  # 1 ft per 12 in\n",
    "R_ft = R_in*cf1\n",
    "\n",
    "A_sphere = 4*np.pi*(R_ft)**2\n",
    "answer2 = \"{:.3e}\".format(A_sphere)   #sig figs and scientific notion\n",
    "print('Area of balloon: '+answer2+' sft')"
   ]
  },
  {
   "cell_type": "markdown",
   "metadata": {},
   "source": [
    "<hr style=\"height:2px;border-width:0;color:gray;background-color:gray\">"
   ]
  },
  {
   "cell_type": "markdown",
   "metadata": {},
   "source": [
    "<h2>Problem D1.3</h2>\n",
    "    </header>\n",
    "\n",
    "During a procedure a 85-kg patient is to receive oxycodone through an IV. The suggested dosage per bodyweight is 0.165 mg/kg. Oxycodone is available in bottles with a strength of 100.0 mg/2.00 mL solution. In addition to oxycodone, a variety of other drugs are co-administered, among them robinul available in bottles with a solution strength of 200.0 $\\mu$g/mL. The required amount of robinul for this patient is 1.60 mg. The syringe used have its own units such that 1 unit is equivalent of 0.0100 mL. \n",
    "\n",
    "<ol>\n",
    "    <li>How many syringe units are needed the oxycodone?</li>\n",
    "    <li>Is a 30-units syringe appropriate to use for the oxycodone?</li>\n",
    "    <li>How many mL is to be administered of robinul?</li>\n",
    "    </ol>\n",
    "    \n",
    "<hr style=\"height:2px;border-width:0;color:gray;background-color:gray\">"
   ]
  },
  {
   "cell_type": "markdown",
   "metadata": {},
   "source": [
    "### Solution"
   ]
  },
  {
   "cell_type": "code",
   "execution_count": 5,
   "metadata": {},
   "outputs": [],
   "source": [
    "# DIY Cell"
   ]
  },
  {
   "cell_type": "code",
   "execution_count": 6,
   "metadata": {
    "tags": [
     "hide-input",
     "hide-output"
    ]
   },
   "outputs": [
    {
     "name": "stdout",
     "output_type": "stream",
     "text": [
      "Amount of oxycodone required: 2.8e+01 syringe units\n",
      "Yes, a 30-unit syringe is sufficient\n",
      "Amount of robinul required: 8.00e+00 mL\n"
     ]
    }
   ],
   "source": [
    "%reset -f\n",
    "\n",
    "m = 85   #mass of patient in kg\n",
    "dosage_per_kg = 0.165 #dosage in mg per kg bodyweight\n",
    "oxy_solution = (100.0)/(2.00)  #solution in mg per mL\n",
    "rob_solution = 200.0  #robinul solution in micro-grams per mL\n",
    "rob_required_mg = 1.60  #robinul required in mg\n",
    "\n",
    "# PART 1\n",
    "#-------\n",
    "\n",
    "oxy_required_mg = m*dosage_per_kg #oxycodone required in mg\n",
    "oxy_required_ml = oxy_required_mg/oxy_solution #oxycodone required in mL. NOTE: the number given is mg/mL, we need mL/mg\n",
    "cf1 = (1)/(0.0100) # 1 suringe unit per 0.0100 mL\n",
    "oxy_required_syringe_units = oxy_required_ml*cf1\n",
    "\n",
    "answer1 = \"{:.1e}\".format(oxy_required_syringe_units)   #sig figs and scientific notion\n",
    "print('Amount of oxycodone required: '+answer1+' syringe units')\n",
    "\n",
    "# PART 2\n",
    "#-------\n",
    "print('Yes, a 30-unit syringe is sufficient')\n",
    "\n",
    "# PART 3\n",
    "#-------\n",
    "cf1 = 1/rob_solution   #we need mL per micro-grams\n",
    "cf2 = (1000)/(1)  # 1000 micro-grams per milligram\n",
    "rob_required_mL = rob_required_mg*cf1*cf2\n",
    "\n",
    "answer2 = \"{:.2e}\".format(rob_required_mL)   #sig figs and scientific notion\n",
    "print('Amount of robinul required: '+answer2+' mL')"
   ]
  },
  {
   "cell_type": "markdown",
   "metadata": {},
   "source": [
    "<hr style=\"height:2px;border-width:0;color:gray;background-color:gray\">"
   ]
  },
  {
   "cell_type": "markdown",
   "metadata": {},
   "source": [
    "<h2>Problem D1.4</h2>\n",
    "    </header>\n",
    "\n",
    "The length and width of a rectangle are given to you as 23 cm by 8.45 cm. Use the correct significant figures to express the following: \n",
    "\n",
    "1. the ratio of the width to length.\n",
    "2. the difference between the length and width in cm.\n",
    "3. the perimeter of the rectangle in cm.\n",
    "4. the area of the rectangle in cm$^2$.\n",
    "    \n",
    "<hr style=\"height:2px;border-width:0;color:gray;background-color:gray\">"
   ]
  },
  {
   "cell_type": "markdown",
   "metadata": {},
   "source": [
    "### Solution"
   ]
  },
  {
   "cell_type": "code",
   "execution_count": 7,
   "metadata": {},
   "outputs": [],
   "source": [
    "# DIY Cell"
   ]
  },
  {
   "cell_type": "code",
   "execution_count": 8,
   "metadata": {
    "tags": [
     "hide-input",
     "hide-output"
    ]
   },
   "outputs": [
    {
     "name": "stdout",
     "output_type": "stream",
     "text": [
      "Width to length ratio: 3.7e-01\n",
      "Difference between length and width: 1.5e+01 cm\n",
      "Perimeter: 6.3e+01 cm\n",
      "Area: 1.9e+02 cm²\n"
     ]
    }
   ],
   "source": [
    "%reset -f\n",
    "\n",
    "l = 23\n",
    "w = 8.45\n",
    "\n",
    "# PART 1\n",
    "#-------\n",
    "ratio = w/l\n",
    "answer1 = \"{:.1e}\".format(ratio)   #sig figs and scientific notion\n",
    "print('Width to length ratio: '+answer1)\n",
    "\n",
    "# PART 2\n",
    "#-------\n",
    "diff = l - w\n",
    "answer2 = \"{:.1e}\".format(diff)   #sig figs and scientific notion\n",
    "print('Difference between length and width: '+answer2+' cm')\n",
    "\n",
    "# PART 3\n",
    "#-------\n",
    "perimeter = 2*l + 2*w\n",
    "answer3 = \"{:.1e}\".format(perimeter)   #sig figs and scientific notion\n",
    "print('Perimeter: '+answer3+' cm')\n",
    "\n",
    "# PART 4\n",
    "#-------\n",
    "area = l*w\n",
    "answer4 = \"{:.1e}\".format(area)   #sig figs and scientific notion\n",
    "print('Area: '+answer4+' cm\\u00B2')"
   ]
  },
  {
   "cell_type": "markdown",
   "metadata": {},
   "source": [
    "<hr style=\"height:2px;border-width:0;color:gray;background-color:gray\">"
   ]
  },
  {
   "cell_type": "markdown",
   "metadata": {},
   "source": [
    "<h2>Problem D1.5</h2>\n",
    "    </header>\n",
    "\n",
    "A 55 gl barrell is used to collect water. The heigth is 33.5 in. What is the radius of the barrell in cm?\n",
    "\n",
    "<hr style=\"height:2px;border-width:0;color:gray;background-color:gray\">"
   ]
  },
  {
   "cell_type": "markdown",
   "metadata": {},
   "source": [
    "### Solution"
   ]
  },
  {
   "cell_type": "code",
   "execution_count": 9,
   "metadata": {},
   "outputs": [],
   "source": [
    "# DIY Cell"
   ]
  },
  {
   "cell_type": "code",
   "execution_count": 10,
   "metadata": {
    "tags": [
     "hide-input",
     "hide-output"
    ]
   },
   "outputs": [
    {
     "name": "stdout",
     "output_type": "stream",
     "text": [
      "Radius of barrell: 2.8e+1 cm\n"
     ]
    }
   ],
   "source": [
    "%reset -f\n",
    "\n",
    "import sympy as sp #use symbolic python to find the radius\n",
    "\n",
    "vol_gl = 55\n",
    "H_in = 33.5\n",
    "\n",
    "#convert from gl to cubic cm\n",
    "cf1 = (3.7854)/(1)  #3.7854 L per gl\n",
    "cf2 = (1)/(1000)  #1 cubic m per 1000 L\n",
    "cf3 = (100)/(1)  #100 cm per 1 m\n",
    "\n",
    "vol_cu_cm = vol_gl*cf1*cf2*(cf3)**3\n",
    "\n",
    "#convert the height from in to cm\n",
    "cf1 = (2.54)/(1)  #2.54 cm per 1 in\n",
    "H_cm = H_in*cf1\n",
    "\n",
    "R = sp.Symbol('R')  # create a variable for the radius\n",
    "vol_cylinder = H_cm*sp.pi*R**2  # volume of a cylinder\n",
    "\n",
    "#solve the equation: vol_cylinder = vol_cu_cm --> vol_cylinder - vol_cu_cm = 0\n",
    "eq = vol_cylinder - vol_cu_cm\n",
    "sol = sp.solve(eq,R)\n",
    "answer = sol[1]  #positive root of the solution\n",
    "\n",
    "answer = \"{:.1e}\".format(answer)   #sig figs and scientific notion\n",
    "print('Radius of barrell: '+answer+' cm')\n"
   ]
  },
  {
   "cell_type": "markdown",
   "metadata": {},
   "source": [
    "<hr style=\"height:2px;border-width:0;color:gray;background-color:gray\">"
   ]
  }
 ],
 "metadata": {
  "celltoolbar": "Tags",
  "kernelspec": {
   "display_name": "Python 3 (ipykernel)",
   "language": "python",
   "name": "python3"
  },
  "language_info": {
   "codemirror_mode": {
    "name": "ipython",
    "version": 3
   },
   "file_extension": ".py",
   "mimetype": "text/x-python",
   "name": "python",
   "nbconvert_exporter": "python",
   "pygments_lexer": "ipython3",
   "version": "3.10.9"
  }
 },
 "nbformat": 4,
 "nbformat_minor": 4
}