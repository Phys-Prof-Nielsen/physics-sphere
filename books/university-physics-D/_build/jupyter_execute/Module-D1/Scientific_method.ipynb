{
 "cells": [
  {
   "cell_type": "markdown",
   "metadata": {},
   "source": [
    "# D1.1 The Scientific Method\n",
    "<hr style=\"height:2px;border-width:0;color:gray;background-color:gray\">"
   ]
  },
  {
   "cell_type": "markdown",
   "metadata": {},
   "source": [
    "## D1.1.1 Steps to Conduct Science\n",
    "The scientific method is not a theory but a set it steps that naturally follow human curiosity for understanding the physical universe or universes &#128526;. The steps are:\n",
    "\n",
    "<div class=\"alert alert-info\">\n",
    "    \n",
    "<ol>\n",
    "    <li>Make an <b>observation</b>.</li>\n",
    "    <li>Explain the observation through a <b>hypothesis</b>.</li>\n",
    "    <li>Design and <b>experiment</b> to test the hypothesis.</li>\n",
    "    <li>If the experiment verifies the hypothesis, establish a <b>theory</b>.</li>\n",
    "    </ol>\n",
    "</div>\n",
    "\n",
    "where the buzz words are in bold face.\n",
    "\n",
    "Sometimes, there is listed a fifth step: **law**, but this one should be omitted as science is an ever evolving subject. While the theories we have today can explain all our current observations and may suggest labeling that theory as a law, we may find a contradictory observation tomorrow. \n",
    "\n",
    "<p style=\"color:red\">NOTE: Any theory is wrong if not in agreement with observation(s).</p>\n",
    "\n",
    "This fact was best put in words by physicist extraordinaire [Richard Feynman](https://en.wikipedia.org/wiki/Richard_Feynman): \"We can only prove we are not wrong according to our current understanding, but never prove we are right.\"\n",
    "<hr style=\"height:2px;border-width:0;color:gray;background-color:gray\">"
   ]
  },
  {
   "cell_type": "markdown",
   "metadata": {},
   "source": [
    "[The Scientific Method as explained by Feynman](https://www.youtube.com/watch?v=0KmimDq4cSU)\n",
    "\n",
    "![Richard Feyman](https://archinect.imgix.net/uploads/13/134be369dc0c3c9081e4a6acfa22c416.jpg?auto=compress%2Cformat)"
   ]
  },
  {
   "cell_type": "markdown",
   "metadata": {},
   "source": [
    "<hr style=\"height:2px;border-width:0;color:gray;background-color:gray\">\n",
    "While concducting experiments in physics is most often a long and challenging process, we may encounter ourselves conducting the scientific method on daily phenomena without even realizing it. This is illustrated in this video from Mythbusters where Adam conducts (maybe unknowningly) the scientific method in about 5 seconds.\n",
    "\n",
    "[The Scientific Method According to Adam on Mythbusters](https://www.youtube.com/watch?v=a3ZtLgcJmxc)\n",
    "![Mythbusters](https://upload.wikimedia.org/wikipedia/en/2/24/MythBusters_title_screen.jpg)\n",
    "\n",
    "<hr style=\"height:2px;border-width:0;color:gray;background-color:gray\">"
   ]
  },
  {
   "cell_type": "markdown",
   "metadata": {},
   "source": [
    "## D1.1.2 A More Rigorous Approach\n",
    "We are often presented with a problem where there is no known solution, in the sense that no one else has previosly solved the problem. Hence, the list above can present itself in several ways. \n",
    "\n",
    "When we attempt to solve the problem or explain the observation, we must carefully design an experiment that is capable of addressing the issue at hand. Here are two examples of conducting the same experiment:\n",
    "\n",
    "### Example\n",
    "I went running the other day and observed that I could run a 100-m dash in 14.2 seconds. My hypothesis is, that on a good day, I could run a sub-14 s 100-m dash. To conduct the experiment I bring a friend and a stopwatch, and we perfom the experiment at the local running track at Springville High School. As I predicted, my measured time was 13.9 s. However, this experiment is flawed since the reaction time by the time keeper is anywhere between 0.1 and 0.3 s, which is affecting the experiment. The result will therefore have an <b>observational bias</b>. \n",
    "\n",
    "### Improved Example\n",
    "This time around I fire my friend, the time keeper, and instead construct motion sensors using Arduino micro controller systems. These are accurately timed by GPS down to the millisecond. With that accuracy, I am confident that a measured time of 13.9 will be accurate within the uncertainty of the system.\n",
    "\n",
    "<hr style=\"height:2px;border-width:0;color:gray;background-color:gray\">\n",
    "As scientists, we should avoid relying on human observations as our senses are not scientifically qualified! \n",
    "<hr style=\"height:2px;border-width:0;color:gray;background-color:gray\">"
   ]
  }
 ],
 "metadata": {
  "kernelspec": {
   "display_name": "Python 3 (ipykernel)",
   "language": "python",
   "name": "python3"
  },
  "language_info": {
   "codemirror_mode": {
    "name": "ipython",
    "version": 3
   },
   "file_extension": ".py",
   "mimetype": "text/x-python",
   "name": "python",
   "nbconvert_exporter": "python",
   "pygments_lexer": "ipython3",
   "version": "3.10.9"
  }
 },
 "nbformat": 4,
 "nbformat_minor": 2
}