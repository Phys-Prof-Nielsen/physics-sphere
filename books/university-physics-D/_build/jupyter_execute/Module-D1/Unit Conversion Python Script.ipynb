{
 "cells": [
  {
   "cell_type": "markdown",
   "metadata": {},
   "source": [
    "# Unit Conversion Using Python\n",
    "<hr style=\"height:2px;border-width:0;color:gray;background-color:gray\">\n",
    "Since converting units appear to be a standard operation that is used often, it may be time saving to write a small code that can do it for us (sure, we could also use Google, but what do we learn from that?). There is an additional benefit to have a computer convert for you. Although we know the unit conversion number to be used and can use our calculators to perform the task, we are prone to enter numbers incorrectly. A computer, once the result has been verified, will perform the same calculation each time with no error in the conversion number. \n",
    "\n",
    "<hr style=\"height:2px;border-width:0;color:gray;background-color:gray\">"
   ]
  },
  {
   "cell_type": "markdown",
   "metadata": {},
   "source": [
    "## Example 1: Simple code to convert from meters to feet"
   ]
  },
  {
   "cell_type": "code",
   "execution_count": 1,
   "metadata": {},
   "outputs": [
    {
     "ename": "StdinNotImplementedError",
     "evalue": "raw_input was called, but this frontend does not support input requests.",
     "output_type": "error",
     "traceback": [
      "\u001b[0;31m---------------------------------------------------------------------------\u001b[0m",
      "\u001b[0;31mStdinNotImplementedError\u001b[0m                  Traceback (most recent call last)",
      "Input \u001b[0;32mIn [1]\u001b[0m, in \u001b[0;36m<cell line: 5>\u001b[0;34m()\u001b[0m\n\u001b[1;32m      2\u001b[0m m_to_ft \u001b[38;5;241m=\u001b[39m \u001b[38;5;241m3.281\u001b[39m\u001b[38;5;241m/\u001b[39m\u001b[38;5;241m1.\u001b[39m\n\u001b[1;32m      4\u001b[0m \u001b[38;5;66;03m#ask the user for the numeric value to be converted\u001b[39;00m\n\u001b[0;32m----> 5\u001b[0m value \u001b[38;5;241m=\u001b[39m \u001b[38;5;28mfloat\u001b[39m(\u001b[38;5;28;43minput\u001b[39;49m\u001b[43m(\u001b[49m\u001b[38;5;124;43m'\u001b[39;49m\u001b[38;5;124;43mEnter numeric value: \u001b[39;49m\u001b[38;5;124;43m'\u001b[39;49m\u001b[43m)\u001b[49m)\n\u001b[1;32m      7\u001b[0m \u001b[38;5;66;03m#convert\u001b[39;00m\n\u001b[1;32m      8\u001b[0m new_value \u001b[38;5;241m=\u001b[39m value \u001b[38;5;241m*\u001b[39m m_to_ft\n",
      "File \u001b[0;32m~/opt/anaconda3/lib/python3.9/site-packages/ipykernel/kernelbase.py:1072\u001b[0m, in \u001b[0;36mKernel.raw_input\u001b[0;34m(self, prompt)\u001b[0m\n\u001b[1;32m   1065\u001b[0m \u001b[38;5;124;03m\"\"\"Forward raw_input to frontends\u001b[39;00m\n\u001b[1;32m   1066\u001b[0m \n\u001b[1;32m   1067\u001b[0m \u001b[38;5;124;03mRaises\u001b[39;00m\n\u001b[1;32m   1068\u001b[0m \u001b[38;5;124;03m------\u001b[39;00m\n\u001b[1;32m   1069\u001b[0m \u001b[38;5;124;03mStdinNotImplementedError if active frontend doesn't support stdin.\u001b[39;00m\n\u001b[1;32m   1070\u001b[0m \u001b[38;5;124;03m\"\"\"\u001b[39;00m\n\u001b[1;32m   1071\u001b[0m \u001b[38;5;28;01mif\u001b[39;00m \u001b[38;5;129;01mnot\u001b[39;00m \u001b[38;5;28mself\u001b[39m\u001b[38;5;241m.\u001b[39m_allow_stdin:\n\u001b[0;32m-> 1072\u001b[0m     \u001b[38;5;28;01mraise\u001b[39;00m StdinNotImplementedError(\n\u001b[1;32m   1073\u001b[0m         \u001b[38;5;124m\"\u001b[39m\u001b[38;5;124mraw_input was called, but this frontend does not support input requests.\u001b[39m\u001b[38;5;124m\"\u001b[39m\n\u001b[1;32m   1074\u001b[0m     )\n\u001b[1;32m   1075\u001b[0m \u001b[38;5;28;01mreturn\u001b[39;00m \u001b[38;5;28mself\u001b[39m\u001b[38;5;241m.\u001b[39m_input_request(\n\u001b[1;32m   1076\u001b[0m     \u001b[38;5;28mstr\u001b[39m(prompt),\n\u001b[1;32m   1077\u001b[0m     \u001b[38;5;28mself\u001b[39m\u001b[38;5;241m.\u001b[39m_parent_ident[\u001b[38;5;124m\"\u001b[39m\u001b[38;5;124mshell\u001b[39m\u001b[38;5;124m\"\u001b[39m],\n\u001b[1;32m   1078\u001b[0m     \u001b[38;5;28mself\u001b[39m\u001b[38;5;241m.\u001b[39mget_parent(\u001b[38;5;124m\"\u001b[39m\u001b[38;5;124mshell\u001b[39m\u001b[38;5;124m\"\u001b[39m),\n\u001b[1;32m   1079\u001b[0m     password\u001b[38;5;241m=\u001b[39m\u001b[38;5;28;01mFalse\u001b[39;00m,\n\u001b[1;32m   1080\u001b[0m )\n",
      "\u001b[0;31mStdinNotImplementedError\u001b[0m: raw_input was called, but this frontend does not support input requests."
     ]
    }
   ],
   "source": [
    "#Establish the unit conversion factor (it is our number \"1\")\n",
    "m_to_ft = 3.281/1.\n",
    "\n",
    "#ask the user for the numeric value to be converted\n",
    "value = float(input('Enter numeric value: '))\n",
    "\n",
    "#convert\n",
    "new_value = value * m_to_ft\n",
    "\n",
    "print(new_value)\n",
    "\n",
    "print('Done')"
   ]
  },
  {
   "cell_type": "markdown",
   "metadata": {},
   "source": [
    "## Example 2: Slightly more advanced by adding options:"
   ]
  },
  {
   "cell_type": "code",
   "execution_count": 2,
   "metadata": {},
   "outputs": [
    {
     "name": "stdout",
     "output_type": "stream",
     "text": [
      "Conversion Options\n",
      "a. meter to feet\n",
      "b. feet to meter\n",
      "Choose option: b\n",
      "Enter numeric value: 300\n",
      "91.43553794574824\n",
      "Done\n"
     ]
    }
   ],
   "source": [
    "#Establish the unit conversions\n",
    "m_to_ft = 3.281/1.\n",
    "ft_to_m = 1./3.281\n",
    "\n",
    "#print conversion options \n",
    "print('Conversion Options')\n",
    "print('a. meter to feet')\n",
    "print('b. feet to meter')\n",
    "\n",
    "#ask the user which options they want\n",
    "option = input('Choose option: ')\n",
    "#ask the user for the numeric value to be converted\n",
    "value = float(input('Enter numeric value: '))\n",
    "\n",
    "#convert\n",
    "if option == 'a':\n",
    "    new_value = value * m_to_ft\n",
    "    print(new_value)\n",
    "if option == 'b':\n",
    "    new_value = value * ft_to_m\n",
    "    print(new_value)\n",
    "\n",
    "print('Done')"
   ]
  },
  {
   "cell_type": "markdown",
   "metadata": {},
   "source": [
    "## Explore on your own\n",
    "We can add more options for conversions. Try and add options to convert from mph to m/s and test the results of your script with answers provided by Google. You can copy and paste the above code into the code box below and modify it as necessary. \n",
    "\n",
    "<div class=\"alert alert-block alert-info\">\n",
    "NOTE: there are better and more elegant ways of programming this task, but this is a straightforward and simple approach that I think is more suitable for students that may never have done programming before.\n",
    "</div>\n",
    "\n",
    "<hr style=\"height:2px;border-width:0;color:gray;background-color:gray\">"
   ]
  },
  {
   "cell_type": "markdown",
   "metadata": {},
   "source": [
    "<div class=\"alert alert-block alert-warning\">\n",
    "<h2>Box 1</h2>\n",
    "    Extend the Python script above to convert back and forth between mph and m/s.\n",
    "</div>\n",
    "\n",
    "<hr style=\"height:2px;border-width:0;color:gray;background-color:gray\">"
   ]
  }
 ],
 "metadata": {
  "kernelspec": {
   "display_name": "Python 3 (ipykernel)",
   "language": "python",
   "name": "python3"
  },
  "language_info": {
   "codemirror_mode": {
    "name": "ipython",
    "version": 3
   },
   "file_extension": ".py",
   "mimetype": "text/x-python",
   "name": "python",
   "nbconvert_exporter": "python",
   "pygments_lexer": "ipython3",
   "version": "3.9.12"
  }
 },
 "nbformat": 4,
 "nbformat_minor": 4
}