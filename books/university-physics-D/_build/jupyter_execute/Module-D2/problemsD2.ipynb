{
 "cells": [
  {
   "cell_type": "markdown",
   "metadata": {},
   "source": [
    "# D2.3 Problems\n",
    "<hr style=\"height:2px;border-width:0;color:gray;background-color:gray\">"
   ]
  },
  {
   "cell_type": "markdown",
   "metadata": {},
   "source": [
    "<h2>Problem D2.1</h2>\n",
    "    </header>\n",
    "\n",
    "Calculate the linear momentum of the following:\n",
    "\n",
    "1. A proton moving with in the +x-direction with a speed that is 99.9% the speed of light.\n",
    "2. A 2000.0 kg sedan traveling with a velocity of -70.0 mph."
   ]
  },
  {
   "cell_type": "markdown",
   "metadata": {},
   "source": [
    "### Solution"
   ]
  },
  {
   "cell_type": "code",
   "execution_count": 1,
   "metadata": {},
   "outputs": [],
   "source": [
    "#DIY Cell"
   ]
  },
  {
   "cell_type": "code",
   "execution_count": 2,
   "metadata": {
    "tags": [
     "hide-input",
     "hide-output"
    ]
   },
   "outputs": [
    {
     "name": "stdout",
     "output_type": "stream",
     "text": [
      "Linear momentum of proton: 5.01e-19 kgm/s\n",
      "Linear momentum of sedan: -6.26e+04 kgm/s\n"
     ]
    }
   ],
   "source": [
    "%reset -f\n",
    "\n",
    "# PART 1\n",
    "#-------\n",
    "\n",
    "c = 2.9979e8\n",
    "m = 1.6726e-27\n",
    "\n",
    "v = 0.999*c\n",
    "\n",
    "p = m*v\n",
    "answer = \"{:.2e}\".format(p)\n",
    "print('Linear momentum of proton: '+answer+' kgm/s')\n",
    "\n",
    "# PART 2\n",
    "#-------\n",
    "\n",
    "m = 2000.0\n",
    "v = -70.0  #mi/hr\n",
    "\n",
    "cf1 = (1609.34)/(1)  # 1609.34 m per 1 mi\n",
    "cf2 = (1)/(3600)  # 1 hr per 3600 s\n",
    "\n",
    "v = v*cf1*cf2\n",
    "\n",
    "p = m*v\n",
    "answer = \"{:.2e}\".format(p)\n",
    "print('Linear momentum of sedan: '+answer+' kgm/s')"
   ]
  },
  {
   "cell_type": "markdown",
   "metadata": {},
   "source": [
    "<hr style=\"height:2px;border-width:0;color:gray;background-color:gray\">"
   ]
  },
  {
   "cell_type": "markdown",
   "metadata": {},
   "source": [
    "<h2>Problem D2.2</h2>\n",
    "    </header>\n",
    "\n",
    "A semi truck with a mass of 1.20E4 kg and speed of 65 mph is northbound on I-15. At the same time, a sedan with a mass of 2.40E3 kg is southbound on I-15 with a speed of 85 mph. What are the individual momentums and the magnitudes of momentums of the two vehicles? Consider the northbound direction to be positive.\n",
    "   \n",
    "<hr style=\"height:2px;border-width:0;color:gray;background-color:gray\">"
   ]
  },
  {
   "cell_type": "markdown",
   "metadata": {},
   "source": [
    "### Solution"
   ]
  },
  {
   "cell_type": "code",
   "execution_count": 3,
   "metadata": {},
   "outputs": [],
   "source": [
    "#DIY Cell"
   ]
  },
  {
   "cell_type": "code",
   "execution_count": 4,
   "metadata": {
    "tags": [
     "hide-input",
     "hide-output"
    ]
   },
   "outputs": [
    {
     "name": "stdout",
     "output_type": "stream",
     "text": [
      "Linear momentum of semitruck: 3.49e+05 kgm/s\n",
      "Magnitude of linear momentum of semitruck: 3.49e+05 kgm/s\n",
      " \n",
      "Linear momentum of sedan: -9.12e+04 kgm/s\n",
      "Magnitude of linear momentum of sedan: 9.12e+04 kgm/s\n"
     ]
    }
   ],
   "source": [
    "%reset -f\n",
    "\n",
    "import numpy as np  #we will use the fucntion \"abs\" to find the magnitude of momentum\n",
    "\n",
    "cf1 = (1609.34)/(1)  # 1609.34 m per 1 mi\n",
    "cf2 = (1)/(3600)  # 1 hr per 3600 s\n",
    "\n",
    "#semi-truck\n",
    "#-------\n",
    "m = 1.20e4\n",
    "v = 65*cf1*cf2\n",
    "\n",
    "p = m*v\n",
    "answer = \"{:.2e}\".format(p)\n",
    "print('Linear momentum of semitruck: '+answer+' kgm/s')\n",
    "\n",
    "p_mag = np.abs(p)\n",
    "answer = \"{:.2e}\".format(p_mag)\n",
    "print('Magnitude of linear momentum of semitruck: '+answer+' kgm/s')\n",
    "\n",
    "print(' ') #provide a space between the answers of semi and sedan\n",
    "#sedan\n",
    "#-------\n",
    "m = 2.40e3\n",
    "v = -85*cf1*cf2  #negative since it is velocity and moving in negative direction\n",
    "\n",
    "p = m*v\n",
    "answer = \"{:.2e}\".format(p)\n",
    "print('Linear momentum of sedan: '+answer+' kgm/s')\n",
    "\n",
    "p_mag = np.abs(p)\n",
    "answer = \"{:.2e}\".format(p_mag)\n",
    "print('Magnitude of linear momentum of sedan: '+answer+' kgm/s')\n"
   ]
  },
  {
   "cell_type": "markdown",
   "metadata": {},
   "source": [
    "<hr style=\"height:2px;border-width:0;color:gray;background-color:gray\">"
   ]
  }
 ],
 "metadata": {
  "celltoolbar": "Tags",
  "kernelspec": {
   "display_name": "Python 3 (ipykernel)",
   "language": "python",
   "name": "python3"
  },
  "language_info": {
   "codemirror_mode": {
    "name": "ipython",
    "version": 3
   },
   "file_extension": ".py",
   "mimetype": "text/x-python",
   "name": "python",
   "nbconvert_exporter": "python",
   "pygments_lexer": "ipython3",
   "version": "3.10.9"
  }
 },
 "nbformat": 4,
 "nbformat_minor": 4
}