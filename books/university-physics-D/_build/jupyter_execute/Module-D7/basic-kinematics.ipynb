{
 "cells": [
  {
   "cell_type": "markdown",
   "metadata": {},
   "source": [
    "# D7.1 Basic Kinematics: Definitions\n",
    "<hr style=\"height:2px;border-width:0;color:gray;background-color:gray\">"
   ]
  },
  {
   "cell_type": "markdown",
   "metadata": {},
   "source": [
    "## D7.1.1 Recap Basic Concepts\n",
    "\n",
    "We have briefly introduced the concept of speed and velocity when we introduced momentum. Here we will dig a little deeper into the formal definitions.\n",
    "\n",
    "The concept that most people are familiar with is the speed. For example, the speedometer in a car shows how fast the car is moving. However, the speedometer does not provide *any* information about the direction the car is moving: <span style=\"color:red\">the speed is a scalar</span>.\n",
    "\n",
    "In contrast, many people may use the the concept of velocity but not understanding the difference between speed and velocity. If we have information about how fast an object is moving *and* its direction, then we have the velocity: <span style=\"color:red\">the velocity is a vector</span>. We will discuss vectors in details in Phase C.\n",
    "\n",
    "<hr style=\"height:2px;border-width:0;color:gray;background-color:gray\">"
   ]
  },
  {
   "cell_type": "markdown",
   "metadata": {},
   "source": [
    "## D7.1.2 Average Speed: Definition\n",
    "The speed is a measure of the rate of change of the distance traveled by an object. I personally prefer to state it as (the reason will become more clear in more advanced phases):\n",
    "\n",
    "<div class=\"alert alert-success\">\n",
    "The average speed is the path length traveled by an object over an elapsed time interval.\n",
    "</div>\n",
    "\n",
    "If we let $\\Delta s$ be the path length traveled and $\\Delta t$ be the elapsed time interval, then the average speed is\n",
    "\n",
    "$$ v_{av} = \\frac{\\Delta s}{\\Delta t} $$\n",
    "\n",
    "Since we are dealing with 1D motion only in Phase D, we can also write the path length (distance) as $d$:\n",
    "\n",
    "$$ v_{av} = \\frac{d}{\\Delta t} $$\n",
    "\n",
    "<hr style=\"height:2px;border-width:0;color:gray;background-color:gray\">"
   ]
  },
  {
   "cell_type": "markdown",
   "metadata": {},
   "source": [
    "<div style=\"background-color: #D0D0D0 ; padding: 10px; border: 1px solid black;\">       \n",
    "<header>\n",
    "<h3> Example 1</h3>\n",
    "    </header>\n",
    "    \n",
    "We are traveling from Orem to Las Vegas. Our travel distance is 385 miles and it takes us exactly 6 hours to get there. What is our average speed?\n",
    "\n",
    "<b>Solution</b><br>\n",
    "Inserting into the equation:\n",
    "\n",
    "$$ v_{av} = \\frac{(385)}{(6)} = 64.2~\\textrm{mph} $$\n",
    "\n",
    "We notice the following:\n",
    "1. There is no indication of a direction.\n",
    "2. We have no information about how the speed varied during this time interval. We can only say something about the average speed.\n",
    "\n",
    "</div>\n",
    "\n",
    "<hr style=\"height:2px;border-width:0;color:gray;background-color:gray\">"
   ]
  },
  {
   "cell_type": "markdown",
   "metadata": {},
   "source": [
    "<div style=\"background-color: #D0D0D0 ; padding: 10px; border: 1px solid black;\">       \n",
    "<header>\n",
    "<h3> Example 2</h3>\n",
    "    </header>\n",
    "    \n",
    "During a 400.0 m spring event, a runner is finishing in a time of 45 s. What was the average speed of the runner assuming a circular 400.0-m track?\n",
    "\n",
    "<b>Solution</b><br>\n",
    "Inserting into the equation:\n",
    "\n",
    "$$ v_{av} = \\frac{(400.0)}{(45)} = 8.9~\\textrm{m/s} $$\n",
    "\n",
    "We notice the following:\n",
    "1. The initial and final positions do not play a role. The fact that the track was circular played no role in the problem. \n",
    "2. This person is pretty fast.\n",
    "    \n",
    "</div>\n",
    "\n",
    "<hr style=\"height:2px;border-width:0;color:gray;background-color:gray\">"
   ]
  },
  {
   "cell_type": "markdown",
   "metadata": {},
   "source": [
    "## D7.1.3 Average Velocity: Definition\n",
    "\n",
    "Velocity is the rate of change of position of an object. This may sound like the same as the definition for speed, however, path lenght (or distance traveled) is *not necessarily* the same as a change in position. The change in position is what we call *displacement*, so we can also say that *the velocity is the displacement over some elapsed time*. \n",
    "\n",
    "<div class=\"alert alert-success\">\n",
    "The average velocity is the displacement experienced by an object over an elapsed time interval.\n",
    "</div>\n",
    "\n",
    "We define the displacement as $\\Delta x = x_2 - x_1$, where $x_1$ and $x_2$ are positions at event 1 and 2, respectively, and $\\Delta t$ be the elapsed time interval, then the average velocity is\n",
    "\n",
    "$$ v_{av,x} = \\frac{\\Delta x}{\\Delta t} $$\n",
    "\n",
    "<hr style=\"height:2px;border-width:0;color:gray;background-color:gray\">"
   ]
  },
  {
   "cell_type": "markdown",
   "metadata": {},
   "source": [
    "<div style=\"background-color: #D0D0D0 ; padding: 10px; border: 1px solid black;\">       \n",
    "<header>\n",
    "<h3> Example 3</h3>\n",
    "    </header>\n",
    "    \n",
    "We are traveling from Orem to Las Vegas. Our travel distance is 385 miles southbound and it takes us exactly 6 hours to get there. What is our average velocity?\n",
    "\n",
    "<b>Solution</b><br>\n",
    "Inserting into the equation:\n",
    "\n",
    "$$ v_{av,x} = \\frac{(385)}{(6)} = 64.2~\\textrm{mph} + \\textrm{direction} $$\n",
    "\n",
    "We notice the following:\n",
    "1. There is no direct indication of a direction.\n",
    "2. We have no information about how the velocity varied during this time interval. We can only say something about the average velocity.\n",
    "\n",
    "Since it is average velocity, we must address the direction as well. The magnitude of the average velocity is 64.2 mph and from the problem it stated we were southbound. Hence, we can say\n",
    "\n",
    "The average velocity is 64.2 mph southbound.\n",
    "\n",
    "\n",
    "</div>\n",
    "\n",
    "<hr style=\"height:2px;border-width:0;color:gray;background-color:gray\">"
   ]
  },
  {
   "cell_type": "markdown",
   "metadata": {},
   "source": [
    "<div style=\"background-color: #D0D0D0 ; padding: 10px; border: 1px solid black;\">       \n",
    "<header>\n",
    "<h3> Example 4</h3>\n",
    "    </header>\n",
    "    \n",
    "During a 200.0 m out-and-back spring event, a runner is finishing in a time of 40.0 s. \n",
    "    \n",
    "### Part 1\n",
    "What was the average velocity?\n",
    "\n",
    "<b>Solution</b><br>\n",
    "In this case, our initial and final positions are the same position, and our displacement is therefore:\n",
    "\n",
    "$$ \\Delta x = x_{final} - x_{initial} = 0 $$\n",
    "\n",
    "Inserting into the equation:\n",
    "\n",
    "$$ v_{av,x} = \\frac{0}{45} = 0.0~\\textrm{m/s} $$\n",
    "\n",
    "We notice the following:\n",
    "1. The initial and final positions are important! \n",
    "2. This person is still pretty fast although his average velocity is zero.\n",
    "    \n",
    "### Part 2\n",
    "What was the average speed?\n",
    "\n",
    "<b>Solution</b><br>\n",
    "The total distance traveled is 400.0 m, so the average speed was:\n",
    "\n",
    "$$ v_{av} = \\frac{400.0}{40.0} = 20.0~\\textrm{m/s} $$\n",
    "\n",
    "We notice the following:\n",
    "    \n",
    "**The speed was not the magnitude of the velocity because there was a change of direction during the elapsed interval**.\n",
    "    \n",
    "</div>\n",
    "\n",
    "<hr style=\"height:2px;border-width:0;color:gray;background-color:gray\">"
   ]
  },
  {
   "cell_type": "markdown",
   "metadata": {},
   "source": [
    "<div class=\"alert alert-danger\">\n",
    "    \n",
    "We must be very mindful of distinguishing between speed and velocity.\n",
    "</div>\n",
    "\n",
    "<hr style=\"height:2px;border-width:0;color:gray;background-color:gray\">"
   ]
  },
  {
   "cell_type": "markdown",
   "metadata": {},
   "source": [
    "<div class=\"alert alert-warning\">\n",
    "<b>Box 1</b><br>\n",
    "    \n",
    "An object is traveling from $x = 3.0$ m to $x = -4.0$ m in 3.0 s. \n",
    "    <ol>\n",
    "        <li>What is the object's displacement?\n",
    "        <li>What is the object's average velocity?\n",
    "        <li>What is the object's distance traveled?\n",
    "        <li>What is the object's average speed?\n",
    "    </ol>\n",
    "</div>\n",
    "\n",
    "<hr style=\"height:2px;border-width:0;color:gray;background-color:gray\">"
   ]
  },
  {
   "cell_type": "markdown",
   "metadata": {},
   "source": [
    "<div class=\"alert alert-warning\">\n",
    "<b>Box 2</b><br>\n",
    "    \n",
    "A proton in a linear particle accelerator travels with an average velocity of $2.4\\times 10^6$ m/s in a direction considered to be positive and starting at $x = 0.2$ m. \n",
    "    <ol>\n",
    "        <li>What is the displacement during a time interval of $5.0$ $\\mu$s? </li>\n",
    "        <li>What is the final position of the particle?</li>\n",
    "    </ol>\n",
    "</div>\n",
    "\n",
    "<hr style=\"height:2px;border-width:0;color:gray;background-color:gray\">"
   ]
  },
  {
   "cell_type": "markdown",
   "metadata": {},
   "source": [
    "## D7.1.4 Average Acceleration: Definition\n",
    "\n",
    "The approaches we made regarding the relationship between position vector and velocity can be directly applied to the concept of acceleration with the position replaced with velocity and velocity replaced with acceleration. So let us try that!\n",
    "\n",
    "<div class=\"alert alert-success\">\n",
    "The average acceleration is the change in velocity experienced by an object over an elapsed time interval.\n",
    "</div>\n",
    "\n",
    "If we let $\\Delta v_x$ be the change in velocity and $\\Delta t$ be the elapsed time interval, then the average acceleration is\n",
    "\n",
    "$$ a_{av,x} = \\frac{\\Delta v_x}{\\Delta t} $$\n",
    "\n",
    "<hr style=\"height:2px;border-width:0;color:gray;background-color:gray\">"
   ]
  },
  {
   "cell_type": "markdown",
   "metadata": {},
   "source": [
    "<div style=\"background-color: #D0D0D0 ; padding: 10px; border: 1px solid black;\">       \n",
    "<header>\n",
    "<h3> Example 1</h3>\n",
    "    </header>\n",
    "    \n",
    "To a physics professor, acceleration is always a fascinating concept. To get a rush of science, the professor is going to determine the accelearion of his Kawasaki ZX-14. Starting from rest at t = 0 s, the beast reaches a speed of 100.0 km/hr in mere 2.8 s. What was the magnitude of average the acceleration?\n",
    "\n",
    "<b>Solution</b><br>\n",
    "We notice that since we are only given the speed, we can not determine the direction of the velocity or the direction of the acceleration, only its magnitude.\n",
    "\n",
    "The magnitude of the acceleration is (converting from km/hr to m/s):\n",
    "\n",
    "$$ |a_{av,x}| = \\left|\\frac{\\Delta v_x}{\\Delta t}\\right|$$\n",
    "\n",
    "$$ |a_{av,x}| = \\left|\\frac{27.78 - 0}{2.8}\\right| = 9.9~\\textrm{m/s}^2$$\n",
    "\n",
    "Note: the acceleration due to gravity is 9.8 m/s$^2$, so the professor is experiencing an acceleration slightly over 1-g during this acceleration.\n",
    "    \n",
    "</div>\n",
    "\n",
    "<hr style=\"height:2px;border-width:0;color:gray;background-color:gray\">"
   ]
  },
  {
   "cell_type": "markdown",
   "metadata": {},
   "source": [
    "<div style=\"background-color: #D0D0D0 ; padding: 10px; border: 1px solid black;\">       \n",
    "<header>\n",
    "<h3> Example 2</h3>\n",
    "    </header>\n",
    "    \n",
    "A particle is starting from rest and then starts traveling in the positive y-direction. After 5.0 s, the speed of the particle is 15 m/s. Find the average acceleration of the particle during this time interval.\n",
    "\n",
    "<b>Solution</b><br>\n",
    "In this case, we can deduce that the initial velocity is $v_{1,x} = 0$ and the final velocity is $v_{2,x} = +15$, both in units of m/s. The average acceleration is\n",
    "\n",
    "$$ a_{av,x} = \\frac{[(+15) - (0)]}{5.0} = +3.0~\\textrm{m/s}^2  $$\n",
    "\n",
    "</div>\n",
    "<hr style=\"height:2px;border-width:0;color:gray;background-color:gray\">"
   ]
  },
  {
   "cell_type": "markdown",
   "metadata": {},
   "source": [
    "<div class=\"alert alert-warning\">\n",
    "<b>Box 1</b><br>\n",
    "    \n",
    "An object is traveling in the positive x-direction. At a given time its speed is 10 m/s and 7 s later its speed is 8 m/s. What is its average acceeleration between these two instances?\n",
    " \n",
    "</div>\n",
    "\n",
    "<hr style=\"height:2px;border-width:0;color:gray;background-color:gray\">"
   ]
  },
  {
   "cell_type": "markdown",
   "metadata": {},
   "source": [
    "<div class=\"alert alert-warning\">\n",
    "<b>Box 2</b><br>\n",
    "    \n",
    "An object is at rest at t = 0 s. After 5 s, the object has sped up to 50 m/s in a negative direction. Find its average acceleration during this time interval.\n",
    " \n",
    "</div>\n",
    "\n",
    "<hr style=\"height:2px;border-width:0;color:gray;background-color:gray\">"
   ]
  },
  {
   "cell_type": "markdown",
   "metadata": {},
   "source": [
    "<div class=\"alert alert-danger\">\n",
    "    \n",
    "NOTE: In Box 2, even though the object was speeding up its acceleration was negative.\n",
    "    \n",
    "**Negative acceleration does not imply a particle is slowing down**. It is simply a matter of choice of reference frame (which direction is considered positive). Hence, we should avoid using a terms such as **deceleration**, which implies a reduction in speed.\n",
    "    \n",
    "</div>\n",
    "\n",
    "<hr style=\"height:2px;border-width:0;color:gray;background-color:gray\">"
   ]
  },
  {
   "cell_type": "code",
   "execution_count": null,
   "metadata": {},
   "outputs": [],
   "source": []
  }
 ],
 "metadata": {
  "kernelspec": {
   "display_name": "Python 3 (ipykernel)",
   "language": "python",
   "name": "python3"
  },
  "language_info": {
   "codemirror_mode": {
    "name": "ipython",
    "version": 3
   },
   "file_extension": ".py",
   "mimetype": "text/x-python",
   "name": "python",
   "nbconvert_exporter": "python",
   "pygments_lexer": "ipython3",
   "version": "3.10.9"
  }
 },
 "nbformat": 4,
 "nbformat_minor": 4
}