{
 "cells": [
  {
   "cell_type": "markdown",
   "metadata": {},
   "source": [
    "# D7.X Problems\n",
    "<hr style=\"height:2px;border-width:0;color:gray;background-color:gray\">"
   ]
  },
  {
   "cell_type": "markdown",
   "metadata": {},
   "source": [
    "<h2>Problem D7.1</h2>\n",
    "    </header>\n",
    "\n",
    "A car accelerates from rest at a constant rate of 3.0 m/s$^2$ for 10.0 seconds. Calculate its final velocity and the distance it travels during this time."
   ]
  },
  {
   "cell_type": "code",
   "execution_count": 1,
   "metadata": {},
   "outputs": [],
   "source": [
    "# DIY Cell"
   ]
  },
  {
   "cell_type": "code",
   "execution_count": 2,
   "metadata": {
    "tags": [
     "hide-input",
     "hide-output"
    ]
   },
   "outputs": [
    {
     "name": "stdout",
     "output_type": "stream",
     "text": [
      "The final velocity is 30.0 m/s\n",
      " \n",
      "The distance traveled is 150.0 m\n"
     ]
    }
   ],
   "source": [
    "%reset -f\n",
    "\n",
    "import numpy as np\n",
    "\n",
    "ax = 3.0\n",
    "t = 10.0\n",
    "v0x = 0.0\n",
    "\n",
    "vx = v0x + ax*t\n",
    "print('The final velocity is '+str(vx)+' m/s')\n",
    "\n",
    "dx = v0x*t + 0.5*ax*t**2\n",
    "d = np.abs(dx)   #distance is the magnitude of displacement\n",
    "print(' ')\n",
    "print('The distance traveled is '+str(d)+' m')"
   ]
  },
  {
   "cell_type": "markdown",
   "metadata": {},
   "source": [
    "<h2>Problem D7.2</h2>\n",
    "    </header>\n",
    "\n",
    "A UVU rocket is launched vertically upward. After the engine burn-out the speed of the rocket is 740.0 m/s. How high above the burn-out altitude is the speed 120.0 m/s?"
   ]
  },
  {
   "cell_type": "code",
   "execution_count": 3,
   "metadata": {},
   "outputs": [],
   "source": [
    "# DIU Cell"
   ]
  },
  {
   "cell_type": "code",
   "execution_count": 4,
   "metadata": {
    "tags": [
     "hide-input",
     "hide-output"
    ]
   },
   "outputs": [
    {
     "name": "stdout",
     "output_type": "stream",
     "text": [
      "Altitude above burn-out height is 27176.3506625892 m\n"
     ]
    }
   ],
   "source": [
    "%reset -f\n",
    "\n",
    "import sympy as sym\n",
    "\n",
    "v1y = 740.0\n",
    "v2y = 120.0\n",
    "ay = -9.81\n",
    "\n",
    "dy = sym.Symbol('dy')\n",
    "\n",
    "eq = v2y**2 - v1y**2 - 2*ay*dy\n",
    "sol = sym.solve(eq,dy)\n",
    "\n",
    "print('Altitude above burn-out height is '+str(sol[0])+' m')"
   ]
  },
  {
   "cell_type": "markdown",
   "metadata": {},
   "source": [
    "<hr style=\"height:2px;border-width:0;color:gray;background-color:gray\">"
   ]
  },
  {
   "cell_type": "markdown",
   "metadata": {},
   "source": [
    "<h2>Problem D7.3</h2>\n",
    "    </header>\n",
    "\n",
    "A particle moves in a straight line with an initial velocity of 30.0 m/s and constant acceleration 30.0 m/s$^2$. \n",
    "\n",
    "1. What is its displacement at t = 5.0 s? \n",
    "2. What is its velocity at this same time?\n",
    "\n",
    "[This problem is a slightly modified version from OpenStax. Access for free here](https://openstax.org/books/university-physics-volume-1/pages/3-problems)"
   ]
  },
  {
   "cell_type": "markdown",
   "metadata": {},
   "source": [
    "<h2>Problem D7.4</h2>\n",
    "    </header>\n",
    "\n",
    "1. A light-rail commuter train accelerates at a rate of 1.35 m/s$^2$. How long does it take to reach its top speed of 80.0 km/h, starting from rest? \n",
    "2. The same train ordinarily accelerates opposite to the motion at a rate of 1.65 m/s$^2$. How long does it take to come to a stop from its top speed? \n",
    "3. In emergencies, the train can accelerate opposite to the motion more rapidly, coming to rest from 80.0 km/h in 8.30 s. What is its emergency acceleration in meters per second squared?\n",
    "\n",
    "[This problem is a slightly modified version from OpenStax. Access for free here](https://openstax.org/books/university-physics-volume-1/pages/3-problems)"
   ]
  },
  {
   "cell_type": "markdown",
   "metadata": {},
   "source": [
    "<hr style=\"height:2px;border-width:0;color:gray;background-color:gray\">"
   ]
  },
  {
   "cell_type": "markdown",
   "metadata": {},
   "source": [
    "<h2>Problem D7.5</h2>\n",
    "    </header>\n",
    "\n",
    "1. Calculate the height of a cliff if it takes 2.35 s for a rock to hit the ground when it is thrown straight up from the cliff with an initial velocity of 8.00 m/s. \n",
    "2. How long a time would it take to reach the ground if it is thrown straight down with the same speed?\n",
    "\n",
    "[This problem is a slightly modified version from OpenStax. Access for free here](https://openstax.org/books/university-physics-volume-1/pages/3-problems)"
   ]
  },
  {
   "cell_type": "markdown",
   "metadata": {},
   "source": [
    "<hr style=\"height:2px;border-width:0;color:gray;background-color:gray\">"
   ]
  },
  {
   "cell_type": "markdown",
   "metadata": {},
   "source": [
    "<h2>Problem D7.6</h2>\n",
    "    </header>\n",
    "\n",
    "An electron is moving in a straight line with a velocity of $4.0\\times 10^5$\n",
    " m/s. It enters a region $5.0$ cm long where it undergoes an acceleration of $6.0\\times 10^{12}$ m/s$^2$\n",
    " along the same straight line. \n",
    " \n",
    "1. What is the electron’s velocity when it emerges from this region? \n",
    "2. How long does the electron take to cross the region?\n",
    "\n",
    "[This problem is a slightly modified version from OpenStax. Access for free here](https://openstax.org/books/university-physics-volume-1/pages/3-problems)"
   ]
  },
  {
   "cell_type": "markdown",
   "metadata": {},
   "source": [
    "<h2>Problem D7.7</h2>\n",
    "    </header>\n",
    "\n",
    "A police car waits in hiding slightly off the highway. A speeding car is spotted by the police car doing 40.0 m/s. At the instant the speeding car passes the police car, the police car accelerates from rest at 4.00 m/s$^2$ to catch the speeding car. How long does it take the police car to catch the speeding car?\n",
    "\n",
    "[This problem is a slightly modified version from OpenStax. Access for free here](https://openstax.org/books/university-physics-volume-1/pages/3-problems)"
   ]
  },
  {
   "cell_type": "code",
   "execution_count": null,
   "metadata": {},
   "outputs": [],
   "source": []
  },
  {
   "cell_type": "markdown",
   "metadata": {},
   "source": [
    "<h2>Problem D7.8</h2>\n",
    "    </header>\n",
    "\n",
    "In a 100-m race, the winner is timed at 11.2 s. The second-place finisher’s time is 11.6 s. How far is the second-place finisher behind the winner when she crosses the finish line? Assume the velocity of each runner is constant throughout the race.\n",
    "\n",
    "[This problem is a slightly modified version from OpenStax. Access for free here](https://openstax.org/books/university-physics-volume-1/pages/3-problems)"
   ]
  },
  {
   "cell_type": "markdown",
   "metadata": {},
   "source": [
    "<h2>Problem D7.9</h2>\n",
    "    </header>\n",
    "\n",
    "A cyclist sprints at the end of a race to clinch a victory. She has an initial velocity of 11.5 m/s and accelerates at a rate of 0.500 m/s$^2$ for 7.00 s. \n",
    "\n",
    "\n",
    "1. What is her final velocity? \n",
    "2. The cyclist continues at this velocity to the finish line. If she is 300.0 m from the finish line when she starts to accelerate, how much time did she save? \n",
    "3. The second-place winner was 5.00 m ahead when the winner started to accelerate, but he was unable to accelerate, and traveled at 11.8 m/s until the finish line. What was the difference in finish time in seconds between the winner and runner-up? \n",
    "4. How far back was the runner-up when the winner crossed the finish line?\n",
    "\n",
    "[This problem is a slightly modified version from OpenStax. Access for free here](https://openstax.org/books/university-physics-volume-1/pages/3-problems)"
   ]
  },
  {
   "cell_type": "code",
   "execution_count": null,
   "metadata": {},
   "outputs": [],
   "source": []
  }
 ],
 "metadata": {
  "celltoolbar": "Tags",
  "kernelspec": {
   "display_name": "Python 3 (ipykernel)",
   "language": "python",
   "name": "python3"
  },
  "language_info": {
   "codemirror_mode": {
    "name": "ipython",
    "version": 3
   },
   "file_extension": ".py",
   "mimetype": "text/x-python",
   "name": "python",
   "nbconvert_exporter": "python",
   "pygments_lexer": "ipython3",
   "version": "3.10.9"
  }
 },
 "nbformat": 4,
 "nbformat_minor": 4
}