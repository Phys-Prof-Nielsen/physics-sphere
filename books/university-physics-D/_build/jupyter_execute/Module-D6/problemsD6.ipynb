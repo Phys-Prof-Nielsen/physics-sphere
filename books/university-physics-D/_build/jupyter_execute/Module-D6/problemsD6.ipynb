{
 "cells": [
  {
   "cell_type": "markdown",
   "metadata": {},
   "source": [
    "# C5.X Problems\n",
    "<hr style=\"height:2px;border-width:0;color:gray;background-color:gray\">"
   ]
  },
  {
   "cell_type": "markdown",
   "metadata": {},
   "source": [
    "<h2>Problem C5.1</h2>\n",
    "    </header>\n",
    "\n",
    "A car accelerates from rest at a constant rate of 3.0 m/s$^2$ for 10.0 seconds. Calculate its final velocity and the distance it travels during this time."
   ]
  },
  {
   "cell_type": "code",
   "execution_count": 1,
   "metadata": {},
   "outputs": [],
   "source": [
    "# DIY Cell"
   ]
  },
  {
   "cell_type": "code",
   "execution_count": 2,
   "metadata": {
    "tags": [
     "hide-input",
     "hide-output"
    ]
   },
   "outputs": [
    {
     "name": "stdout",
     "output_type": "stream",
     "text": [
      "The final velocity is 30.0 m/s\n",
      " \n",
      "The distance traveled is 150.0 m\n"
     ]
    }
   ],
   "source": [
    "%reset -f\n",
    "\n",
    "import numpy as np\n",
    "\n",
    "ax = 3.0\n",
    "t = 10.0\n",
    "v0x = 0.0\n",
    "\n",
    "vx = v0x + ax*t\n",
    "print('The final velocity is '+str(vx)+' m/s')\n",
    "\n",
    "dx = v0x*t + 0.5*ax*t**2\n",
    "d = np.abs(dx)   #distance is the magnitude of displacement\n",
    "print(' ')\n",
    "print('The distance traveled is '+str(d)+' m')"
   ]
  },
  {
   "cell_type": "markdown",
   "metadata": {},
   "source": [
    "<h2>Problem C5.2</h2>\n",
    "    </header>\n",
    "\n",
    "A UVU rocket is launched vertically upward. After the engine burn-out the speed of the rocket is 740.0 m/s. How high above the burn-out altitude is the speed 120.0 m/s?"
   ]
  },
  {
   "cell_type": "code",
   "execution_count": 3,
   "metadata": {},
   "outputs": [],
   "source": [
    "# DIU Cell"
   ]
  },
  {
   "cell_type": "code",
   "execution_count": 4,
   "metadata": {
    "tags": [
     "hide-input",
     "hide-output"
    ]
   },
   "outputs": [
    {
     "name": "stdout",
     "output_type": "stream",
     "text": [
      "Altitude above burn-out height is 27176.3506625892 m\n"
     ]
    }
   ],
   "source": [
    "%reset -f\n",
    "\n",
    "import sympy as sym\n",
    "\n",
    "v1y = 740.0\n",
    "v2y = 120.0\n",
    "ay = -9.81\n",
    "\n",
    "dy = sym.Symbol('dy')\n",
    "\n",
    "eq = v2y**2 - v1y**2 - 2*ay*dy\n",
    "sol = sym.solve(eq,dy)\n",
    "\n",
    "print('Altitude above burn-out height is '+str(sol[0])+' m')"
   ]
  },
  {
   "cell_type": "markdown",
   "metadata": {},
   "source": [
    "<hr style=\"height:2px;border-width:0;color:gray;background-color:gray\">"
   ]
  }
 ],
 "metadata": {
  "celltoolbar": "Tags",
  "kernelspec": {
   "display_name": "Python 3 (ipykernel)",
   "language": "python",
   "name": "python3"
  },
  "language_info": {
   "codemirror_mode": {
    "name": "ipython",
    "version": 3
   },
   "file_extension": ".py",
   "mimetype": "text/x-python",
   "name": "python",
   "nbconvert_exporter": "python",
   "pygments_lexer": "ipython3",
   "version": "3.10.9"
  }
 },
 "nbformat": 4,
 "nbformat_minor": 4
}