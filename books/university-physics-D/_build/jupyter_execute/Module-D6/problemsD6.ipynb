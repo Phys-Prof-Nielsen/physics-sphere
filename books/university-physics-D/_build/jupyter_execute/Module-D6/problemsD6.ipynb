{
 "cells": [
  {
   "cell_type": "markdown",
   "metadata": {},
   "source": [
    "# D6.X Problems\n",
    "<hr style=\"height:2px;border-width:0;color:gray;background-color:gray\">"
   ]
  },
  {
   "cell_type": "markdown",
   "metadata": {},
   "source": [
    "<h2>Problem D6.1</h2>\n",
    "    </header>\n",
    "    \n",
    "The figure below shows a bullet of mass 200.0 g traveling horizontally towards the east with speed 400.0 m/s, which strikes a block of mass 1.5 kg that is initially at rest on a frictionless table.\n",
    "\n",
    "<img src=\"P6-1.png\" width=\"400\">\n",
    "\n",
    "After striking the block, the bullet is embedded in the block and the block and the bullet move together as one unit, while heat is generated between the bullet and the block due to friction.\n",
    "\n",
    "1. What is the magnitude and direction of the velocity of the block/bullet combination immediately after the impact?\n",
    "2. What is the magnitude and direction of the impulse by the block on the bullet?\n",
    "3. What is the magnitude and direction of the impulse from the bullet on the block?\n",
    "4. If it took 3.00 ms for the bullet to change the speed from 400.0 m/s to the final speed after impact, what is the average force between the block and the bullet during this time?\n",
    "\n",
    "[This problem is a slightly modified version from OpenStax. Access for free here](https://openstax.org/books/university-physics-volume-1/pages/9-problems)"
   ]
  },
  {
   "cell_type": "code",
   "execution_count": 1,
   "metadata": {},
   "outputs": [],
   "source": [
    "# DIY Cell"
   ]
  },
  {
   "cell_type": "code",
   "execution_count": 2,
   "metadata": {
    "tags": [
     "hide-input",
     "hide-output"
    ]
   },
   "outputs": [
    {
     "name": "stdout",
     "output_type": "stream",
     "text": [
      "Part 1: Final speed of bullet+block system is 4.7e+01 m/s\n",
      " \n",
      "Part 2: Impulse experienced by bullet -7.1e+01 kgm/s\n",
      " \n",
      "Part 3: Impulse experienced by block 7.1e+01 kgm/s\n",
      " \n",
      "Part 4: Impact force: -2.4e+04 N\n"
     ]
    }
   ],
   "source": [
    "%reset -f\n",
    "\n",
    "import sympy as sp\n",
    "\n",
    "mA = 2.000e-1\n",
    "vA1 = 400.0  #let +x be direction of bullet motion\n",
    "\n",
    "mB = 1.5\n",
    "vB1 = 0.0 #block is at rest\n",
    "\n",
    "\n",
    "# PART 1\n",
    "#due to heat, kinetic energy is NOT conserved, but momentum is\n",
    "\n",
    "#conservation of momentum: (P1 = P2)\n",
    "# mA*vA1 + mB*mvB1 = (mA + mB)*v2\n",
    "\n",
    "#unknown variable is final velocity\n",
    "v2 = sp.Symbol('v2')\n",
    "\n",
    "P1 = mA*vA1 + mB*vB1\n",
    "P2 = (mA + mB)*v2\n",
    "\n",
    "eq = P2 - P1\n",
    "sol = sp.solve(eq,v2)\n",
    "v2 = sol[0]\n",
    "answer = \"{:.1e}\".format(float(v2))\n",
    "print('Part 1: Final speed of bullet+block system is '+answer+' m/s')\n",
    "\n",
    "# Part 2\n",
    "# impulse is delivered to the bullet from the block: final momentum - initial momentum\n",
    "dp_bullet = mA*v2 - mA*vA1\n",
    "\n",
    "answer = \"{:.1e}\".format(float(dp_bullet))\n",
    "print(' ')\n",
    "print('Part 2: Impulse experienced by bullet '+answer+' kgm/s')\n",
    "\n",
    "# Part 3\n",
    "# impulse is delivered to the block from the bullet: final momentum - initial momentum\n",
    "dp_block = mB*v2 - mB*vB1\n",
    "\n",
    "answer = \"{:.1e}\".format(float(dp_block))\n",
    "print(' ')\n",
    "print('Part 3: Impulse experienced by block '+answer+' kgm/s')\n",
    "\n",
    "# Part 4\n",
    "# impacy force = impulse/elapsed time\n",
    "dt = 3.00e-3\n",
    "f_impact = dp_bullet/dt\n",
    "\n",
    "answer = \"{:.1e}\".format(float(f_impact))\n",
    "print(' ')\n",
    "print('Part 4: Impact force: '+answer+' N')"
   ]
  },
  {
   "cell_type": "markdown",
   "metadata": {},
   "source": [
    "<h2>Problem D6.2</h2>\n",
    "    </header>\n",
    "\n",
    "A 4.5 kg puffer fish expands to 40.0% of its mass by taking in water. When the puffer fish is threatened, it releases the water toward the threat to move quickly forward. What is the ratio of the speed of the puffer fish forward to the speed of the expelled water backwards?\n",
    "\n",
    "[This problem is a slightly modified version from OpenStax. Access for free here](https://openstax.org/books/university-physics-volume-1/pages/9-problems)"
   ]
  },
  {
   "cell_type": "code",
   "execution_count": 3,
   "metadata": {},
   "outputs": [],
   "source": [
    "# DIY Cell"
   ]
  },
  {
   "cell_type": "code",
   "execution_count": 4,
   "metadata": {
    "tags": [
     "hide-input",
     "hide-output"
    ]
   },
   "outputs": [
    {
     "name": "stdout",
     "output_type": "stream",
     "text": [
      "Ratio: 2.5e+0\n"
     ]
    }
   ],
   "source": [
    "%reset -f\n",
    "\n",
    "import sympy as sp\n",
    "import numpy as np\n",
    "\n",
    "mA = 4.5\n",
    "vA1 = 0.0\n",
    "\n",
    "mB = 0.400*mA\n",
    "vB1 = 0.0 \n",
    "\n",
    "#conservation of momentum: (P1 = P2)\n",
    "# mA*vA1 + mB*vB1 = mA*vA2 + mB*vB2\n",
    "\n",
    "#unknown variables are final speeds and their ratio \n",
    "vA2,vB2 = sp.symbols('vA2,vB2')\n",
    "\n",
    "P1 = mA*vA1 + mB*vB1\n",
    "P2 = mA*vA2 + mB*vB2\n",
    "\n",
    "eq = P2 - P1\n",
    "sol = sp.solve(eq,vA2,vB2)\n",
    "\n",
    "vA2 = sol[0][1]\n",
    "vB2 = sol[0][0]\n",
    "ratio = np.abs(vA2/vB2)\n",
    "\n",
    "answer = \"{:.1e}\".format(ratio)\n",
    "print('Ratio: '+answer)"
   ]
  },
  {
   "cell_type": "markdown",
   "metadata": {},
   "source": [
    "<hr style=\"height:2px;border-width:0;color:gray;background-color:gray\">"
   ]
  },
  {
   "cell_type": "markdown",
   "metadata": {},
   "source": [
    "<h2>Problem D6.3</h2>\n",
    "    </header>\n",
    "\n",
    "In an elastic collision, a 400.0 kg bumper car collides directly from behind with a second, identical bumper car that is traveling in the same direction. The initial speed of the leading bumper car is 5.60 m/s and that of the trailing car is 6.00 m/s. Assuming that the mass of the drivers is much, much less than that of the bumper cars, what are their final speeds?\n",
    "\n",
    "[This problem is a slightly modified version from OpenStax. Access for free here](https://openstax.org/books/university-physics-volume-1/pages/9-problems)"
   ]
  },
  {
   "cell_type": "code",
   "execution_count": 5,
   "metadata": {},
   "outputs": [],
   "source": [
    "# DIY Cell"
   ]
  },
  {
   "cell_type": "code",
   "execution_count": 6,
   "metadata": {
    "tags": [
     "hide-input",
     "hide-output"
    ]
   },
   "outputs": [
    {
     "name": "stdout",
     "output_type": "stream",
     "text": [
      "They simply swap speeds: 5.60e+0 m/s and 6.00e+0 m/s\n"
     ]
    }
   ],
   "source": [
    "%reset -f\n",
    "\n",
    "import sympy as sp\n",
    "import numpy as np\n",
    "\n",
    "mA = 400.0\n",
    "vA1 = 6.00\n",
    "\n",
    "mB = 400.0\n",
    "vB1 = 5.60 \n",
    "\n",
    "# both final speeds are unknown, so we have two unknowns\n",
    "# elastic collision so kinetic energy is also conserved (together with momentum)\n",
    "\n",
    "#conservation of momentum: (P1 = P2)\n",
    "# mA*vA1 + mB*vB1 = mA*vA2 + mB*vB2\n",
    "\n",
    "#unknown variables are final speeds\n",
    "vA2,vB2 = sp.symbols('vA2,vB2')\n",
    "\n",
    "#momentum\n",
    "P1 = mA*vA1 + mB*vB1\n",
    "P2 = mA*vA2 + mB*vB2\n",
    "\n",
    "#kinetic energy\n",
    "K1 = 0.5*mA*vA1**2 + 0.5*mB*vB1**2\n",
    "K2 = 0.5*mA*vA2**2 + 0.5*mB*vB2**2\n",
    "\n",
    "eq1 = P2 - P1\n",
    "eq2 = K2 - K1\n",
    "sol = sp.solve((eq1,eq2),(vA2,vB2))\n",
    "\n",
    "vA2 = sol[0][0]\n",
    "vB2= sol[0][1]\n",
    "\n",
    "answer1 = \"{:.2e}\".format(vA2)\n",
    "answer2 = \"{:.2e}\".format(vB2)\n",
    "print('They simply swap speeds: '+answer1+' m/s and '+answer2+' m/s')"
   ]
  },
  {
   "cell_type": "markdown",
   "metadata": {},
   "source": [
    "<hr style=\"height:2px;border-width:0;color:gray;background-color:gray\">"
   ]
  },
  {
   "cell_type": "markdown",
   "metadata": {},
   "source": [
    "<h2>Problem D6.4</h2>\n",
    "    </header>\n",
    "\n",
    "An alpha particle ($^{4}$He) undergoes an elastic collision with a stationary uranium nucleus ($^{235}$U). What percent of the kinetic energy of the alpha particle is transferred to the uranium nucleus? Assume the collision is one-dimensional.\n",
    "\n",
    "[This problem is a slightly modified version from OpenStax. Access for free here](https://openstax.org/books/university-physics-volume-1/pages/9-problems)"
   ]
  },
  {
   "cell_type": "code",
   "execution_count": 7,
   "metadata": {},
   "outputs": [],
   "source": [
    "# DIY Cell"
   ]
  },
  {
   "cell_type": "code",
   "execution_count": 8,
   "metadata": {
    "tags": [
     "hide-input",
     "hide-output"
    ]
   },
   "outputs": [
    {
     "name": "stdout",
     "output_type": "stream",
     "text": [
      "Percent of initial alpha particle KE transferred to Uranium nuclei: 7e+0%\n"
     ]
    }
   ],
   "source": [
    "%reset -f\n",
    "\n",
    "import sympy as sp\n",
    "import numpy as np\n",
    "\n",
    "mA = 4. #mass in atomic mass units\n",
    "mB = 235\n",
    "vB1 = 0  # uranimum is initially at rest\n",
    "\n",
    "# elastic collision so both momentum and kinetic energy are conserved.\n",
    "\n",
    "#unknown variables \n",
    "vA1,vA2,vB2 = sp.symbols('vA1,vA2,vB2')\n",
    "\n",
    "#momentum\n",
    "P1 = mA*vA1 + mB*vB1\n",
    "P2 = mA*vA2 + mB*vB2\n",
    "\n",
    "#kinetic energy\n",
    "K1 = 0.5*mA*vA1**2 + 0.5*mB*vB1**2\n",
    "K2 = 0.5*mA*vA2**2 + 0.5*mB*vB2**2\n",
    "\n",
    "eq1 = P2 - P1\n",
    "eq2 = K2 - K1\n",
    "sol = sp.solve((eq1,eq2),(vA1,vA2,vB2))\n",
    "\n",
    "vA1 = sol[0][0]\n",
    "vA2= sol[0][1]\n",
    "vB2 = sol[0][2]\n",
    "\n",
    "# percent of alpha KE to U KE\n",
    "k_alpha_i = 0.5*mA*(vA1**2)\n",
    "k_U = 0.5*mB*vB2**2\n",
    "\n",
    "percent = (k_U/k_alpha_i)*100\n",
    "\n",
    "answer = \"{:.0e}\".format(percent)\n",
    "print('Percent of initial alpha particle KE transferred to Uranium nuclei: '+answer+'%')"
   ]
  },
  {
   "cell_type": "markdown",
   "metadata": {},
   "source": [
    "### <hr style=\"height:2px;border-width:0;color:gray;background-color:gray\">"
   ]
  },
  {
   "cell_type": "markdown",
   "metadata": {},
   "source": [
    "<h2>Problem D6.5</h2>\n",
    "    </header>\n",
    "\n",
    "A 20.0 kg child is coasting at 3.3 m/s over flat ground in a 4.0 kg wagon.\n",
    "\n",
    "1. If the child drops a 1.0 kg ball out the back of the wagon, what is the final speed of the child and wagon?\n",
    "2. If the child drops a 1.0kg ball out the back of the wagon so that the ball is at rest relative to the ground, what is the final speed of the child and wagon?\n",
    "\n",
    "[This problem is a slightly modified version from OpenStax. Access for free here](https://openstax.org/books/university-physics-volume-1/pages/9-problems)"
   ]
  },
  {
   "cell_type": "code",
   "execution_count": 9,
   "metadata": {},
   "outputs": [],
   "source": [
    "#DIY Cell"
   ]
  },
  {
   "cell_type": "code",
   "execution_count": 10,
   "metadata": {
    "tags": [
     "hide-input",
     "hide-output"
    ]
   },
   "outputs": [
    {
     "name": "stdout",
     "output_type": "stream",
     "text": [
      "1. There is no internal forces (or impact force) to change the motion of either ball or child_wagon: 3.3e+0 m/s\n",
      " \n",
      "2. Final speed of child+wagon: 3.4e+0m/s\n"
     ]
    }
   ],
   "source": [
    "%reset -f\n",
    "\n",
    "import sympy as sp\n",
    "import numpy as np\n",
    "\n",
    "mA = 20.0 + 4.0\n",
    "mB = 1.0\n",
    "\n",
    "v1 = 3.3 #all three are moving together initially\n",
    "\n",
    "# Conservation of momentum\n",
    "\n",
    "#-------\n",
    "# Part 1\n",
    "#-------\n",
    "#simply dropping the ball implies that the ball will move at the same horizontal speed as it was \n",
    "#moving at when dropped as long as we ignore air drag.\n",
    "vB2 = 3.3  \n",
    "\n",
    "#unknown variable \n",
    "vA2 = sp.Symbol('vA2')\n",
    "\n",
    "#momentum\n",
    "P1 = (mA + mB)*v1 #the system is child,wagon, and ball all moving together\n",
    "P2 = mA*vA2 + mB*vB2\n",
    "\n",
    "eq =P2 - P1\n",
    "sol = sp.solve(eq,vA2)\n",
    "\n",
    "answer = \"{:.1e}\".format(sol[0])\n",
    "print('1. There is no internal forces (or impact force) to change the motion of either ball or child_wagon: '+answer+' m/s')\n",
    "\n",
    "#-------\n",
    "# Part 2\n",
    "#-------\n",
    "#now the child is exerting a force on the ball and there is momentum transfer between the child and ball,\n",
    "#but the net momentum of the system stays the same.\n",
    "vB2 = 0 \n",
    "\n",
    "#unknown variable \n",
    "vA2 = sp.Symbol('vA2')\n",
    "\n",
    "#momentum\n",
    "P1 = (mA + mB)*v1 #the system is child,wagon, and ball all moving together\n",
    "P2 = mA*vA2 + mB*vB2\n",
    "\n",
    "eq =P2 - P1\n",
    "sol = sp.solve(eq,vA2)\n",
    "\n",
    "answer = \"{:.1e}\".format(sol[0])\n",
    "print(' ')\n",
    "print('2. Final speed of child+wagon: '+answer+ 'm/s')\n"
   ]
  },
  {
   "cell_type": "markdown",
   "metadata": {},
   "source": [
    "<hr style=\"height:2px;border-width:0;color:gray;background-color:gray\">"
   ]
  }
 ],
 "metadata": {
  "celltoolbar": "Tags",
  "kernelspec": {
   "display_name": "Python 3 (ipykernel)",
   "language": "python",
   "name": "python3"
  },
  "language_info": {
   "codemirror_mode": {
    "name": "ipython",
    "version": 3
   },
   "file_extension": ".py",
   "mimetype": "text/x-python",
   "name": "python",
   "nbconvert_exporter": "python",
   "pygments_lexer": "ipython3",
   "version": "3.10.9"
  }
 },
 "nbformat": 4,
 "nbformat_minor": 4
}