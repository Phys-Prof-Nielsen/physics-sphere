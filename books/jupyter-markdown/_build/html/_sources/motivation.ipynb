{
 "cells": [
  {
   "cell_type": "markdown",
   "metadata": {},
   "source": [
    "# 1 Introduction"
   ]
  },
  {
   "cell_type": "markdown",
   "metadata": {},
   "source": [
    "## 1.1 Motivation\n",
    "\n",
    "Jupyter Notebook is an extremely powerful and very useful tool to a scientist for many reasons. My reasons to use it in my classes are:\n",
    "\n",
    "* I firmly believe that as a modern-day scientist, you will need to know some basic programming skills, however, most students are not required to take a course in programming. I want to point out: the courses are not programming classes, and you will not become a programming expert from these notes. Instead, I expose you to how we can use programming in our science courses to our advantage. I strongly encourage you to accept the challenge. I will provide the computer scripts, and at times, ask you to make small modifications to it. I repeat, you are not expected to have prior knowledge of computer coding to perform these exercises. \n",
    "\n",
    "* Jupyter allows us to write formatted text, nice looking equations, and executing computer code within the same document, which makes it very suitable for homework, small projects, summaries, etc.\n",
    "\n",
    "* Embedded in Jupyter is the Python computer language, which is widely used in the scientific communities. With that comes tools for analysis, plotting, and even solving equations symbolically. Way cool!\n",
    "    \n",
    "<hr style=\"height:2px;border-width:0;color:gray;background-color:gray\">"
   ]
  },
  {
   "cell_type": "markdown",
   "metadata": {},
   "source": [
    "## 1.2 Getting Jupyter\n",
    "\n",
    "While [Jupyter](https://jupyter.org/) can be deployed directly from a web browser, I strongly recommend you install it on your computer if you are serious about learning it. The version I recommend to install comes as part of a scientific software package called [Anaconda](https://www.anaconda.com/), and it has all the python packages included that we will be using in our courses.\n",
    "\n",
    "There is an app to run Jupyter on iOS too called [Carnet](https://holzschu.github.io/Carnets_Jupyter/).\n",
    "\n",
    "In this compendium, I will show examples through the Jupyter Project webpage.\n",
    "\n",
    "<hr style=\"height:2px;border-width:0;color:gray;background-color:gray\">"
   ]
  },
  {
   "cell_type": "markdown",
   "metadata": {},
   "source": [
    "## 1.3 About Formatting\n",
    "\n",
    "## Markdown\n",
    "Jupyter is capable of utilizing various formatting (or languages). When we first start using Jupyter Notebook, we will see there are two basic formatting cells: Markdown and Code. The markdown cell is used to display regular text as well as equations similar. This may sound similar to using a word document, however, the difference is significant as the text can be formatted using [Markdown language](https://en.wikipedia.org/wiki/Markdown). This allows the user to have more control of the text formatting. Markdown is a basic text formatting language used in basic text editors, but is also supported in frequently used software such as ChatGPT, Microsoft Teams, and Discord.\n",
    "\n",
    "Here are some links that are useful for Markdown syntax:\n",
    "\n",
    "[Markdown Guide](https://www.markdownguide.org/)\n",
    "\n",
    "[Wordpress Quick Guide](https://wordpress.com/support/markdown-quick-reference/)\n",
    "\n",
    "[w3Schools Markdown](https://www.w3schools.io/file/markdown-introduction/)\n",
    "\n",
    "[The Ultimate Markdown Guide (for Jupyter Notebook)](https://medium.com/analytics-vidhya/the-ultimate-markdown-guide-for-jupyter-notebook-d5e5abf728fd)\n",
    "\n",
    "\n",
    "## HTML\n",
    "While Markdown is easy to provide simple formatting it is limited to what can be done. Since Markdown is a superset of [HTML](https://en.wikipedia.org/wiki/HTML), it does allow for some HTML syntax to be programmed as well. HTML can augment the usage of the markdown cells by introducing color etc.\n",
    "\n",
    "For some basic introduction to HTML syntax:\n",
    "\n",
    "[w3School HTML Guide](https://www.w3schools.com/html/)\n",
    "\n",
    "## Equations\n",
    "The markdown cell can be used to display professional equations. It does so through [MathJax](https://www.mathjax.org/) and [LaTeX](https://en.wikipedia.org/wiki/LaTeX), the later is the default standard for publishing in physics journals. \n",
    "\n",
    "In this compendium, I will provide examples on how to display equations.\n",
    "\n",
    "\n",
    "<hr style=\"height:2px;border-width:0;color:gray;background-color:gray\">"
   ]
  }
 ],
 "metadata": {
  "celltoolbar": "Tags",
  "kernelspec": {
   "display_name": "Python 3 (ipykernel)",
   "language": "python",
   "name": "python3"
  },
  "language_info": {
   "codemirror_mode": {
    "name": "ipython",
    "version": 3
   },
   "file_extension": ".py",
   "mimetype": "text/x-python",
   "name": "python",
   "nbconvert_exporter": "python",
   "pygments_lexer": "ipython3",
   "version": "3.9.12"
  }
 },
 "nbformat": 4,
 "nbformat_minor": 2
}
