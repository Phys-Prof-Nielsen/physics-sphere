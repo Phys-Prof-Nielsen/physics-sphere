{
 "cells": [
  {
   "cell_type": "markdown",
   "metadata": {},
   "source": [
    "# 1 Motivation\n",
    "\n",
    "Jupyter Notebook is an extremely powerful and very useful tool to a scientist for many reasons. My reasons to use it in my classes are:\n",
    "\n",
    "* I firmly believe that as a modern-day scientist, you will need to know some basic programming skills, however, most students are not required to take a course in programming. I want to point out: the courses are not programming classes, and you will not become a programming expert from these notes. Instead, I expose you to how we can use programming in our science courses to our advantage. I strongly encourage you to accept the challenge. I will provide the computer scripts, and at times, ask you to make small modifications to it. I repeat, you are not expected to have prior knowledge of computer coding to perform these exercises. \n",
    "\n",
    "* Jupyter allows us to write formatted text, nice looking equations, and executing computer code within the same document, which makes it very suitable for homework, small projects, summaries, etc.\n",
    "\n",
    "* Embedded in Jupyter is the Python computer language, which is widely used in the scientific communities. With that comes tools for analysis, plotting, and even solving equations symbolically. Way cool!\n",
    "    \n",
    "<hr style=\"height:2px;border-width:0;color:gray;background-color:gray\">"
   ]
  }
 ],
 "metadata": {
  "celltoolbar": "Tags",
  "kernelspec": {
   "display_name": "Python 3 (ipykernel)",
   "language": "python",
   "name": "python3"
  },
  "language_info": {
   "codemirror_mode": {
    "name": "ipython",
    "version": 3
   },
   "file_extension": ".py",
   "mimetype": "text/x-python",
   "name": "python",
   "nbconvert_exporter": "python",
   "pygments_lexer": "ipython3",
   "version": "3.9.12"
  }
 },
 "nbformat": 4,
 "nbformat_minor": 2
}
