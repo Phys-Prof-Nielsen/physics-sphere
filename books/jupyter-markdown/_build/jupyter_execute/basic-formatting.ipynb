{
 "cells": [
  {
   "cell_type": "markdown",
   "metadata": {},
   "source": [
    "# 2 Basic Markdown Cell Formatting\n",
    "<hr style=\"height:2px;border-width:0;color:gray;background-color:gray\">"
   ]
  },
  {
   "cell_type": "markdown",
   "metadata": {},
   "source": [
    "## 2.1 Basic Instructions\n",
    "\n",
    "### Access Jupyter Notebook\n",
    "\n",
    "I recommend using the on-line tool to get started:\n",
    "\n",
    "[Empty Notebook](https://jupyter.org/try-jupyter/notebooks/?path=Untitled1.ipynb)\n",
    "\n",
    "Select the default kernel displayed by clicking \"Select\".\n",
    "\n",
    "### Read Code\n",
    "In the following we will see basic formatting tools that can be used in a markdown cell in Jupyter Notebook. In the following, I will use --> to direct to the syntax/code used to produce the output. \n",
    "\n",
    "### Execute Markdown Cell\n",
    "After entering the code into a markdown box (don't include the -->), simply hit \"Shift\"+\"Enter\" together to execute the cell.\n",
    "<hr style=\"height:2px;border-width:0;color:gray;background-color:gray\">"
   ]
  },
  {
   "cell_type": "markdown",
   "metadata": {},
   "source": [
    "## 2.2 Markdown Cell vs. Code Cell\n",
    "\n",
    "We will be working with text formatting and therefore need a **Markdown Cell**. The default is a **Code Cell**. In the top navigation bar in your notebook, click on \"Code\" dropdown and choose \"Markdown\". We are now ready to enter some code.\n",
    "\n",
    "<hr style=\"height:2px;border-width:0;color:gray;background-color:gray\">"
   ]
  },
  {
   "cell_type": "markdown",
   "metadata": {},
   "source": [
    "## 2.3 Creating Headers\n",
    "\n",
    "Headers are used to lead chapters and sections and are great tools to structure a document. The syntax is simple: use the hashtag followed by a break and then the chapter/section name. Try and type the following lines into your Markdown cell (do not include the -->), then execute by using \"Shift\"+\"Enter\".\n",
    "\n",
    "--> # MainHeader\n",
    "\n",
    "--> ## SubHeader\n",
    "\n",
    "--> ### SubsubHeader\n",
    "\n",
    "--> #### SubsubsubHeader\n",
    "\n",
    "Your screen should look like something this before executing\n",
    "\n",
    "<img src=\"fig2.1.png\" width=\"1000\">\n",
    "\n",
    "and after executing\n",
    "\n",
    "<img src=\"fig2.2.png\" width=\"1000\">\n",
    "\n",
    "Notice that we get a new default code cell after executing a cell.\n",
    "\n",
    "<hr style=\"height:2px;border-width:0;color:gray;background-color:gray\">"
   ]
  },
  {
   "cell_type": "markdown",
   "metadata": {},
   "source": [
    "## 2.4 Bold Text\n",
    "\n",
    "To type bold text, we can use asterisk symbol\n",
    "\n",
    "<img src=\"fig2.3.png\" width=\"1000\">\n",
    "\n",
    "<img src=\"fig2.4.png\" width=\"1000\">\n",
    "\n",
    "<hr style=\"height:2px;border-width:0;color:gray;background-color:gray\">"
   ]
  },
  {
   "cell_type": "markdown",
   "metadata": {},
   "source": [
    "## 2.5 Italic Text\n",
    "\n",
    "To type italic text, we can also use asterisk symbol\n",
    "\n",
    "<img src=\"fig2.5.png\" width=\"1000\">\n",
    "\n",
    "<img src=\"fig2.6a.png\" width=\"1000\">\n",
    "\n",
    "<hr style=\"height:2px;border-width:0;color:gray;background-color:gray\">"
   ]
  },
  {
   "cell_type": "markdown",
   "metadata": {},
   "source": [
    "## 2.6 Bold and Italic Text\n",
    "\n",
    "To type both bold and italic text, we can still use asterisk symbol\n",
    "\n",
    "<img src=\"fig2.7.png\" width=\"1000\">\n",
    "\n",
    "<img src=\"fig2.8.png\" width=\"1000\">\n",
    "\n",
    "<hr style=\"height:2px;border-width:0;color:gray;background-color:gray\">"
   ]
  },
  {
   "cell_type": "markdown",
   "metadata": {},
   "source": [
    "## 2.7 Different Font and Text Color\n",
    "\n",
    "To my knowledge, Markdown does not allow for colored text. In this case, we can use HTML structures to make colored font as well as change font style.\n",
    "\n",
    "<img src=\"fig2.9.png\" width=\"1000\">\n",
    "\n",
    "<img src=\"fig2.10.png\" width=\"1000\">\n",
    "\n",
    "<hr style=\"height:2px;border-width:0;color:gray;background-color:gray\">"
   ]
  },
  {
   "cell_type": "markdown",
   "metadata": {},
   "source": [
    "## 2.8 Ordered List\n",
    "\n",
    "<img src=\"fig2.11.png\" width=\"1000\">\n",
    "\n",
    "<img src=\"fig2.12.png\" width=\"1000\">\n",
    "\n",
    "<hr style=\"height:2px;border-width:0;color:gray;background-color:gray\">"
   ]
  },
  {
   "cell_type": "markdown",
   "metadata": {},
   "source": [
    "## 2.9 Bullet List\n",
    "\n",
    "<img src=\"fig2.13.png\" width=\"1000\">\n",
    "\n",
    "<img src=\"fig2.14.png\" width=\"1000\">\n",
    "\n",
    "<hr style=\"height:2px;border-width:0;color:gray;background-color:gray\">"
   ]
  },
  {
   "cell_type": "markdown",
   "metadata": {},
   "source": [
    "## 2.10 Horizontal Line\n",
    "\n",
    "In Markdown, we can use\n",
    "\n",
    "--> ***\n",
    "\n",
    "or --> ---\n",
    "\n",
    "These lines are not very visible and allows very little control over them. Instead, HTML provides greater user control.\n",
    "\n",
    "<img src=\"fig2.15.png\" width=\"1000\">\n",
    "\n",
    "<img src=\"fig2.16.png\" width=\"1000\">\n",
    "\n",
    "<hr style=\"height:2px;border-width:0;color:gray;background-color:gray\">"
   ]
  },
  {
   "cell_type": "markdown",
   "metadata": {},
   "source": [
    "## 2.11 Inserting Images\n",
    "\n",
    "### Adding Website Image -  Example 1\n",
    "\n",
    "<img src=\"fig2.17.png\" width=\"1000\">\n",
    "\n",
    "<img src=\"fig2.18.png\" width=\"1000\">\n",
    "\n",
    "### Adding Website Image -  Example 2\n",
    "\n",
    "<img src=\"fig2.19.png\" width=\"1000\">\n",
    "\n",
    "<img src=\"fig2.20.png\" width=\"1000\">\n",
    "\n",
    "### Adding File Image - Example 1\n",
    "You can simply drag and drop the image into the cell and it will write out the code for you, or you can type it out. Notice that the image will not appear unless the image file follows the Jupyter file.\n",
    "\n",
    "<img src=\"fig2.21.png\" width=\"1000\">\n",
    "\n",
    "<img src=\"fig2.22.png\" width=\"1000\">\n",
    "\n",
    "### Adding File Image - Example 2\n",
    "The above is a simple syntax used by Markdown, but it does not allow for size adjustments. As you can see, the image is relatively large. Instead, the HTML code allows for greater control:\n",
    "\n",
    "<img src=\"fig2.23.png\" width=\"1000\">\n",
    "\n",
    "A disadvantage of using the web browswer version is that I can't display local file. Instead, I have inserted the output below.\n",
    "\n",
    "<img src=\"jupyter-markdown.png\" width=\"400\">\n",
    "\n",
    "<hr style=\"height:2px;border-width:0;color:gray;background-color:gray\">"
   ]
  },
  {
   "cell_type": "markdown",
   "metadata": {},
   "source": [
    "## 2.12 Hyperlinks\n",
    "\n",
    "In Markdown, we can simple insert the link itself or use a similar approach as to inserting images.\n",
    "\n",
    "<img src=\"fig2.24.png\" width=\"1000\">\n",
    "\n",
    "<img src=\"fig2.25.png\" width=\"1000\">\n",
    "\n",
    "<hr style=\"height:2px;border-width:0;color:gray;background-color:gray\">"
   ]
  },
  {
   "cell_type": "markdown",
   "metadata": {},
   "source": [
    "## 2.13 Equations\n",
    "\n",
    "## In-line Equations\n",
    "\n",
    "<img src=\"fig2.26.png\" width=\"1000\">\n",
    "\n",
    "<img src=\"fig2.27.png\" width=\"1000\">\n",
    "\n",
    "## Separate Line Equation\n",
    "\n",
    "<img src=\"fig2.28.png\" width=\"1000\">\n",
    "\n",
    "<img src=\"fig2.29.png\" width=\"1000\">\n",
    "\n",
    "<hr style=\"height:2px;border-width:0;color:gray;background-color:gray\">"
   ]
  },
  {
   "cell_type": "markdown",
   "metadata": {},
   "source": [
    "## 2.14 Tables\n",
    "\n",
    "<img src=\"fig2.30.png\" width=\"1000\">\n",
    "\n",
    "<img src=\"fig2.31.png\" width=\"1000\">\n",
    "\n",
    "<hr style=\"height:2px;border-width:0;color:gray;background-color:gray\">"
   ]
  },
  {
   "cell_type": "markdown",
   "metadata": {},
   "source": [
    "## 2.15 Textcolored Boxes\n",
    "\n",
    "There are no way of doing this in Markdown syntax, but several ways of doing it in HTML. An easy approach is to use the alert class. It provides four different colors\"\n",
    "\n",
    "<img src=\"fig2.32.png\" width=\"1000\">\n",
    "\n",
    "<img src=\"fig2.33.png\" width=\"1000\">\n",
    "\n",
    "<hr style=\"height:2px;border-width:0;color:gray;background-color:gray\">"
   ]
  }
 ],
 "metadata": {
  "kernelspec": {
   "display_name": "Python 3 (ipykernel)",
   "language": "python",
   "name": "python3"
  },
  "language_info": {
   "codemirror_mode": {
    "name": "ipython",
    "version": 3
   },
   "file_extension": ".py",
   "mimetype": "text/x-python",
   "name": "python",
   "nbconvert_exporter": "python",
   "pygments_lexer": "ipython3",
   "version": "3.9.12"
  }
 },
 "nbformat": 4,
 "nbformat_minor": 4
}