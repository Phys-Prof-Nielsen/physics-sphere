{
 "cells": [
  {
   "cell_type": "markdown",
   "id": "d5fc9afc",
   "metadata": {},
   "source": [
    "# D1.2 Electrical Charges\n",
    "<hr style=\"height:2px;border-width:0;color:gray;background-color:gray\">"
   ]
  },
  {
   "cell_type": "markdown",
   "id": "c15ab004",
   "metadata": {},
   "source": [
    "## D1.2.1 Background\n",
    "\n",
    "Electric charges were known before the development of field theories. Some of the earliest human application using electrical charge may be the <a href=\"https://en.wikipedia.org/wiki/Baghdad_Battery\">Baghdad battery</a>. A later invention was the <a href=\"https://en.wikipedia.org/wiki/Leyden_jar\">Leyden jar</a> which is the precursor to the more modern capacitor. One may say that the Leyden jar was the capacitor of the times of Benjamin Franklin. It is difficult to talk about electrical charges without mention good ol' Ben. Most people have heard about kis famous <a href=\"https://en.wikipedia.org/wiki/Kite_experiment\">kite experiment</a>. In the wiki description is the mention of a Leyden jar, and the print below illustrates Franklin and his son performing the experiment. Notice the cannister by Franklin's foot, which is the Leyden jar.\n",
    "\n",
    "<img src=\"D1-ffig1.png\" width=\"800\">\n",
    "\n",
    "Another experiment/invention by Franklin involving electrical charges is the <a href=\"https://en.wikipedia.org/wiki/Franklin_bells\">Franklin bells</a>, which is a device to demonstrate electrical charge accumulation in the surrounding air and convert stored electrical energy into mechanical energy. fig2\n",
    "\n",
    "<img src=\"fig2.png\" width=\"400\">\n",
    "\n",
    "The modern view of charge is a fundamental concept with deep roots in field theory. In fact, it is the charge that is the source of the fields. We have four field theories and four charges associated with these theories:\n",
    "\n",
    "* Gravity Field Theory: mass charge \n",
    "* Electric Field Theory: electric charge\n",
    "* Weak Field Theory: flavor charge\n",
    "* Strong Field Theory: color charge\n",
    "\n",
    "The mass charge is simply mass in plain language. The flavor and color charges we will discuss later in the course and now focus on the electric charge.\n",
    "\n",
    "<hr style=\"height:2px;border-width:0;color:gray;background-color:gray\">"
   ]
  },
  {
   "cell_type": "markdown",
   "id": "d4cf2c58",
   "metadata": {},
   "source": [
    "## Electric Point Charge\n",
    "\n",
    "We will here focus our attention to point charges. Similar to our discussion of mass in Newtonian mechanics, we define a point as\n",
    "\n",
    "<div class=\"alert alert-success\">\n",
    "An electric charge where the size and shape does not play a role.\n",
    "</div>\n",
    "\n",
    "We will give the point charge the symbol $q$.\n",
    "\n",
    "<hr style=\"height:2px;border-width:0;color:gray;background-color:gray\">"
   ]
  },
  {
   "cell_type": "markdown",
   "id": "cafbe012",
   "metadata": {},
   "source": [
    "## The Elementary Charge and Unit of Charge\n",
    "The smallest amount of charge that can exists is known as the <i>elementary charge</i> and has a value of $e = 1.602176634\\times 10^{-19}~\\textrm{C}$, where Coulomb (C) is the SI unit of electrical charge. The smallest electric charge particle with know of without size and shape is the <i>electron</i>, and the electron therefore has a magnitude charge of $e$. Since an atom is electrically neutral (no net charge), the proton must also have a charge magnitude of $e$. By convention, the charge of a proton is $+e$ while the charge of the elecron is $-e$.\n",
    "\n",
    "<img src=\"fig3.png\" width=\"300\">\n",
    "\n",
    "<hr style=\"height:2px;border-width:0;color:gray;background-color:gray\">"
   ]
  },
  {
   "cell_type": "markdown",
   "id": "62279138",
   "metadata": {},
   "source": [
    "## Properties of Electrical Charges\n",
    "\n",
    "1. Two types exist: positive and negative (these terms were named by Benjamin Franklin).\n",
    "2. Like charges repel and unlike charges attract one another.\n",
    "3. Charge is a conserved quantity.\n",
    "4. All non-elementary particles have electrical charge in multiple of $e$.\n",
    "4. Some elementary particles, like quarks, have electrical charge in fractions of $e$.\n",
    "\n",
    "Although quarks have fractional charge of $e$, they do not appear naturally (or free) in nature but always come in sets that make up integer multiple charge of $e$.\n",
    "\n",
    "<hr style=\"height:2px;border-width:0;color:gray;background-color:gray\">"
   ]
  },
  {
   "cell_type": "markdown",
   "id": "6bd9ac97",
   "metadata": {},
   "source": [
    "## Example 1: Charge Conservation\n",
    "Consider the following nuclear $\\beta^-$ decay, where carbon-14 decays into nitrogen-14 and emitting an antineutrino (no charge) and an unknown particle $X$:\n",
    "\n",
    "$$ ^{14}_{6}C  \\rightarrow ^{14}_{7}N + X + \\bar{\\nu} $$\n",
    "\n",
    "Since the carbon-14 is neutral, the right side of the reaction must also be neutral. Nitrogen-14 has one more proton than carbon-14, so the $X$ particle must have a charge of $-e$ for the reaction to conserve charge. It turns out that $X$ is an electron and $\\bar{\\nu} = \\bar{\\nu}_e$ is an anti-electron neutrino. For the curious student, this is an example of a neutron decay (shown in a Feynman diagram below)\n",
    "\n",
    "<img src=\"fig4.png\" width=\"300\">\n",
    "\n",
    "<hr style=\"height:2px;border-width:0;color:gray;background-color:gray\">"
   ]
  },
  {
   "cell_type": "markdown",
   "id": "90bb7568",
   "metadata": {},
   "source": [
    "<div class=\"alert alert-warning\">\n",
    "    <b> Box 1 </b><br>\n",
    "\tA large tank capacitor used in a Tesla coil is charged to a net charge of $2.0~\\textrm{mC}$. If this excess charge is caused by electrons, approximately how many extra electrons are placed on the capacitor compared to its neutral state?\n",
    "    \n",
    "\n",
    "</div>\n",
    "\n",
    "<hr style=\"height:2px;border-width:0;color:gray;background-color:gray\">"
   ]
  }
 ],
 "metadata": {
  "kernelspec": {
   "display_name": "Python 3 (ipykernel)",
   "language": "python",
   "name": "python3"
  },
  "language_info": {
   "codemirror_mode": {
    "name": "ipython",
    "version": 3
   },
   "file_extension": ".py",
   "mimetype": "text/x-python",
   "name": "python",
   "nbconvert_exporter": "python",
   "pygments_lexer": "ipython3",
   "version": "3.9.12"
  }
 },
 "nbformat": 4,
 "nbformat_minor": 5
}
