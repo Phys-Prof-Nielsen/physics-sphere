{
 "cells": [
  {
   "cell_type": "markdown",
   "metadata": {},
   "source": [
    "# D1.4 Conductors and Insulators\n",
    "<hr style=\"height:2px;border-width:0;color:gray;background-color:gray\">"
   ]
  },
  {
   "cell_type": "markdown",
   "metadata": {},
   "source": [
    "## D1.4.1 Definition - Conductors\n",
    "In very simple terms:\n",
    "\n",
    "<div class=\"alert alert-success\">\n",
    "Conductors are materials in which the electric charges move freely in response to an electric force.\n",
    "</div>\n",
    "\n",
    "I know that we have not discussed the electric force yet, but we are probably aware that like charges repel and unlike charges attrack due to some sort of electrical interaction. This interaction is the electric force. Many metals such as copper, aluminum, gold, and silver are good conductors, and the reason they are used in wires. Conductors do not have to be metals. For example, water is a conductor as well. In biological systems, charges are often carried by ions such as *Na$^+$* and *K$^+$*, which are suspended in an aqueous solution.\n",
    "\n",
    "When a conductor is charged in a small region, the charge readily distributes itself over the entire surface of the conductor to minize the interaction. For example, if we place two electrons on a wire, they will move to opposite ends due to the mutual repulsion.\n",
    "\n",
    "<hr style=\"height:2px;border-width:0;color:gray;background-color:gray\">"
   ]
  },
  {
   "cell_type": "markdown",
   "metadata": {},
   "source": [
    "<div style=\"background-color: #D0D0D0 ; padding: 10px; border: 1px solid black;\">\n",
    "<header>\n",
    "<h3> Example 1</h3>\n",
    "    </header>\n",
    "    \n",
    "Consider a conducting ring where we place two positive charges as shown in the figure below. As soon as the charges are placed on the ring, they will repel each other until they reach an equilibrium position (such that the interaction is a minimum). \n",
    "\n",
    "<img src=\"D1-fig3.1.png\" width=\"400\">\n",
    "</div>\n",
    "\n",
    "This brings to my mind the phenomenon known as Schr&ouml;dinger's urinal:\n",
    "\n",
    "<img src=\"D1-fig3.2.png\" width=\"400\">\n",
    "\n",
    "<hr style=\"height:2px;border-width:0;color:gray;background-color:gray\">"
   ]
  },
  {
   "cell_type": "markdown",
   "metadata": {},
   "source": [
    "<div class=\"alert alert-warning\">\n",
    "    <b> Box 1 </b><br>\n",
    "\n",
    "Consider Example 1, but now place 6 positive charges on the ring instead of 6. Make a sketch showing possible loctions of the charges. \n",
    "</div>"
   ]
  },
  {
   "cell_type": "markdown",
   "metadata": {
    "tags": [
     "hide-input"
    ]
   },
   "source": [
    "<img src=\"D1-fig3-box1.png\" width=\"200\">\n",
    "<hr style=\"height:2px;border-width:0;color:gray;background-color:gray\">"
   ]
  },
  {
   "cell_type": "markdown",
   "metadata": {},
   "source": [
    "<div class=\"alert alert-warning\">\n",
    "    <b> Box 2 </b><br>\n",
    "    \n",
    "Consider a straight conducting rod. Place two positive charges on the rod and show their final positions on the rod when they reach equilibrium. \n",
    "</div>"
   ]
  },
  {
   "cell_type": "markdown",
   "metadata": {
    "tags": [
     "hide-input"
    ]
   },
   "source": [
    "<img src=\"D1-fig3-box2.png\" width=\"200\">\n",
    "<hr style=\"height:2px;border-width:0;color:gray;background-color:gray\">"
   ]
  },
  {
   "cell_type": "markdown",
   "metadata": {},
   "source": [
    "<div class=\"alert alert-warning\">\n",
    "    <b> Box 3 </b><br>\n",
    "    \n",
    "Consider a straight conducting rod. Place five positive charges on the rod and show their final positions on the rod when they reach equilibrium. This one is tricky! It is this distriubution of charges here that explains why lightning strikes more towards the pointy objects such as antennas, trees, etc.\n",
    "</div>"
   ]
  },
  {
   "cell_type": "markdown",
   "metadata": {
    "tags": [
     "hide-input"
    ]
   },
   "source": [
    "<img src=\"D1-fig3-box3.png\" width=\"200\">\n",
    "<hr style=\"height:2px;border-width:0;color:gray;background-color:gray\">"
   ]
  },
  {
   "cell_type": "markdown",
   "metadata": {},
   "source": [
    "## D1.4.2 Definition - Insulators\n",
    "\n",
    "<div class=\"alert alert-success\">\n",
    "Insulators are materials in which electric charges do not move freely. \n",
    "</div>\n",
    "\n",
    "Examples of insulators are glass, rubber, and most standard ceramics (however, some ceramics are in fact super conductors). For example, glass insulators were used in early telegraph lines while <a href=\"https://steemit.com/science/@asbonclz/power-line-insulation-using-ceramic-electrical-insulators\">ceramic insulators are used in modern day power lines</a>.\n",
    "\n",
    "When an insulator is charged, the charges remain in place. There are no tendencies for the charge to move into other regions of the material. An example is when you rub a balloon against your hair and transfer charges to the balloon. Both rubber and latex are insulators and the transferred charges remain at the transfer location on the balloon.\n",
    "\n",
    "<img src=\"D1-fig3.3.jpg\" width=\"600\">\n",
    "\n",
    "<hr style=\"height:2px;border-width:0;color:gray;background-color:gray\">"
   ]
  },
  {
   "cell_type": "markdown",
   "metadata": {},
   "source": [
    "## 1.4.3 Charging Mechanisms\n",
    "There are several ways an object can become charged or act as a charged object.\n",
    "\n",
    "### Charge by Friction\n",
    "This is the mechanism most people are familiar with. Examples are: rubbing a rod with animal fur, rubbing balloon against your hair or sweater, and walking across carpet. Charge by friction occurs when two objects are rubbed against each other and one object (the electron acceptor) has a greater electron affinity than the other (the electron donor). \n",
    "\n",
    "As an example, consider a neutral rod made of rubber and a neutral animal fur. \n",
    "\n",
    "<div class=\"alert alert-info\">\n",
    "By neutral, we mean that there are equal amounts of negative and positive charge such that the total net charge is zero. \n",
    "</div>\n",
    "\n",
    "Rubber has a greater electron affinity than the animal fur, and after the rubbing process, the rubber will have a net negative charge while the animal fur will have a net positive charge (total charge is still the same as before since charge is a conserved quantity).<br>\n",
    "<br>\n",
    "<hr style=\"height:2px;border-width:0;color:gray;background-color:gray\">\n",
    "<figure>\n",
    "<img src=\"D1-fig3.4.png\" width=\"800\">\n",
    "    <figcaption class=\"figure-caption text-center\">No animals were hurt in the charge transfer experiments shown here. </figcaption>\n",
    "</figure>\n",
    "<hr style=\"height:2px;border-width:0;color:gray;background-color:gray\">\n",
    "\n",
    "#### Pollination by Charge\n",
    "As bumble bees flies through the air, the air drag is causing charging by friction. This happens to be a quite clever design as the pollen carries a slight opposite charge to the bees. Hence, the pollen will attach itself to the bees through electrical interaction due to the opposite charges. Read more about it in this research paper <a href=\"http://www.esalq.usp.br/lepse/imgs/conteudo_thumb/Detection-and-Learning-of-Floral-Electric-Fields-by-Bumblebees.pdf\">Detection and Learning of Floral Electric Fields by Bumblebees by Clarke et al.</a>. \n",
    "\n",
    "<img src=\"D1-fig3.5.png\" width=\"800\">\n",
    "\n",
    "#### Death by Charge\n",
    "Unfortunately for the bees, the spiders realized this out too, and somehow figured out how to make a spiderweb with the opposite charge of the bees (and flies etc.). Check out this research paper (it is open source, so you can download a pdf file of the paper from this link) <a href=\"https://www.nature.com/articles/srep02108\">Spiderweb deformation induced by electrostatically charge insects by Ortega-Jimenez and Dudley</a>. \n",
    "\n",
    "<img src=\"D1-fig3.6a.png\" width=\"600\">\n",
    "\n",
    "### Charge by Induction: Method 1\n",
    "Consider two neutral, conducting objects that are in contact with each other. Since they are in contact, all charges are even distributed across the combined surcface. If a third object with a net charge is placed in close proximity to the two objects, it will cause the charges on the two objects to re-distribut themselves due to the net interaction occurring. While the third object is close, the first two objects are separated, and the third object is then removed. This process leaves the two original objects with opposite net charges.\n",
    "\n",
    "**Notice that charging by induction requires no contact with the object inducing the charge.**\n",
    "\n",
    "<img src=\"D1-fig3.7a.png\" width=\"200\">\n",
    "\n",
    "### Charge by Induction: Method 2\n",
    "Consider a neutral object. A second object with a net charge is places in close proximity to the first object resulting in a re-distribution of the charges on the first object. The first object is then grounded (connected to another object which is capable of accepting charges, for example, the Earth is capable of accepting a lot of charge from an object). While the second object is still in close proximity, the ground connection is removed, and the second object is then removed as well. This process leaves the main object with a net charge.\n",
    "\n",
    "**Notice that charging by induction requires no contact with the object inducing the charge.**\n",
    "\n",
    "<img src=\"D1-fig3.8a.png\" width=\"300\">\n",
    "\n",
    "### Polarization\n",
    "This process is not causing an object to have a net charge, but does cause the object to be able to interact through electrical forces. In most atoms and molecules the center of the positive charge coincides with the center of negative charge: think of the electron structure around a nuclei. However, it is possible in some cases to distort this configuration slightly in the presence of a charged object. The result is one \"side\" of the molecule is an opposite charge in comparison to the other \"side\". This realignment can occur on insulators and is known as polarization. Below are a few examples of this phenomenon.\n",
    "\n",
    "<img src=\"D1-fig3.9a.png\" width=\"400\">\n",
    "\n",
    "<hr style=\"height:2px;border-width:0;color:gray;background-color:gray\">"
   ]
  },
  {
   "cell_type": "markdown",
   "metadata": {},
   "source": [
    "<div class=\"alert alert-warning\">\n",
    "    <b> Box 4 </b><br>\n",
    "We have four identical conducting spheres: A, B, C, and D. A starts with a charge of +Q, while B, C, and D initially carry no net charge. Now let A and B touch and then separate. Then A touch C and separate. Finally, A touch D and then separate. What is the final charge of sphere D?\n",
    "\n",
    "</div>\n",
    "\n",
    "[Video Solution](https://youtu.be/fbwlwBm_-xM)\n",
    "<hr style=\"height:2px;border-width:0;color:gray;background-color:gray\">"
   ]
  }
 ],
 "metadata": {
  "celltoolbar": "Tags",
  "kernelspec": {
   "display_name": "Python 3 (ipykernel)",
   "language": "python",
   "name": "python3"
  },
  "language_info": {
   "codemirror_mode": {
    "name": "ipython",
    "version": 3
   },
   "file_extension": ".py",
   "mimetype": "text/x-python",
   "name": "python",
   "nbconvert_exporter": "python",
   "pygments_lexer": "ipython3",
   "version": "3.10.9"
  }
 },
 "nbformat": 4,
 "nbformat_minor": 2
}
