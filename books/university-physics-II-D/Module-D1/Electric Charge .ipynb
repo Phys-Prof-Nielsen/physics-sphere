{
 "cells": [
  {
   "cell_type": "markdown",
   "metadata": {},
   "source": [
    "# Electric Charge\n",
    "<hr style=\"border:1px solid gray\"> </hr>"
   ]
  },
  {
   "cell_type": "markdown",
   "metadata": {},
   "source": [
    "In Physics 2210 we initially considered a point mass and then progressed into looking at objects with distributed mass. We will take an approach to electrical charges that are identical to the mass discussion in Physics 2210. \n",
    "\n",
    "## Point Charge\n",
    "Just as the point mass is hypothetical and used to introduce concepts of force etc. in Physics 2210, we define the **point charge** $q$. While a point charge is hypotehtical, our closest object to a point charge is the electron. We have yet to determine the size of it but there is an upper bound of $\\sim 10^{-18}$ m. For our current purposes, we will consider particles such as electrons and protons as point charges. Later in the semester, we will see that the proton can indeed be broken into smaller charge particles known as quarks.\n",
    "\n",
    "## Discrete System\n",
    "If we have a collection of $N$ discrete point charges the total charge of the system is\n",
    "\n",
    "$$ Q = \\sum_{i=1}^{N}q_i $$\n",
    "\n",
    "This is in comparison to the total mass of a discrete system: $ M = \\sum_{i=1}^{N}m_i $\n",
    "\n",
    "## Continuous System of Point Particles\n",
    "If $N \\rightarrow \\infty$ in our summation above, we are dealing with a continuous system and the summation is replaced by an integral\n",
    "\n",
    "<div class=\"alert alert-success\">\n",
    "$$ Q = \\int dq \\tag{1}$$\n",
    "    </div>\n",
    "\n",
    "This is in comparison to the total mass of a continuous system: $ M = \\int dm $\n",
    "\n",
    "<hr style=\"border:1px solid gray\"> </hr>\n",
    "\n",
    "We may now notice that these concepts are identical to our analysis of mass in Physics 2210 if we replace $q \\rightarrow m$ and $Q \\rightarrow M$. Recall from Physics 2210 that we considered linear, surface, and volume mass density. In similar fashion, we can now consider **linear ($\\lambda$), surface ($\\sigma$), and volume ($\\varrho$) charge density**:\n",
    "\n",
    "$$ Q = \\lambda L \\tag{1D} $$\n",
    "\n",
    "$$ Q = \\sigma A \\tag{2D} $$\n",
    "\n",
    "$$ Q = \\varrho V \\tag{3D} $$\n",
    "\n",
    "where $L$ is length, $A$ is area, and $V$ is volume.\n",
    "\n",
    "<hr style=\"border:1px solid gray\"> </hr>"
   ]
  },
  {
   "cell_type": "markdown",
   "metadata": {},
   "source": [
    "<div class=\"alert alert-warning\">\n",
    "    <b> Box 1 </b><br>\n",
    "\tA large tank capacitor used in a Tesla coil is charged to a net charge of 2.0 mC. If this excess charge is caused by electrons, approximately how many extra electrons are placed on the capacitor compared to its neutral state?\n",
    "    \n",
    "\n",
    "</div>\n",
    "\n",
    "<hr style=\"border:1px solid gray\"> </hr>"
   ]
  },
  {
   "cell_type": "markdown",
   "metadata": {},
   "source": [
    "<div class=\"alert alert-warning\">\n",
    "    <b> Box 2 </b><br>\n",
    "\tA wire with a length $L = 10$ m and mass $2.0$ kg has a constant linear charge density $\\lambda = 2.0\\times 10^{-2}$ C/m (Coulombs per meter). Find the total charge of the wire.\n",
    "    \n",
    "\n",
    "</div>\n",
    "\n",
    "<hr style=\"border:1px solid gray\"> </hr>"
   ]
  },
  {
   "cell_type": "markdown",
   "metadata": {},
   "source": [
    "<div class=\"alert alert-warning\">\n",
    "    <b> Box 3 </b><br>\n",
    "\tThe quesiton in Box 2 was probabnly easy since the charge density was constant and you could simply multiple the length times the charge density to obtain the total charge. However, sometimes the charge density is not constant, and we must use the integral approacg, just as you did in Physics 2210 for non-constant mss distributions.\n",
    "    \n",
    "Consider a wire with a length $L$ and mass $m$ and a linear charge density $\\lambda$. The linear charge density is defined through $Q = \\lambda L$. If we consider the wire to be directed along the x-direction, then an infinitesimal charge element of the wire $dq$ must have a charge of $dq = \\lambda dx$, where $dx$ is the length of the infinitesimal wire/charge element. If we let one end of the wire be at $x = 0$ and the other end at $x = L$, then our total charge is\n",
    "\n",
    "$$ Q = \\int dq $$\n",
    "\n",
    "$$ Q = \\int_{x = 0}^{x = L}\\lambda dx $$\n",
    "\n",
    "This is a general approach that can always be used for a line charge. Apply it to the wire from Box 1 and confirm that the answers are the same. \n",
    "    \n",
    "\n",
    "</div>\n",
    "\n",
    "<hr style=\"border:1px solid gray\"> </hr>"
   ]
  },
  {
   "cell_type": "markdown",
   "metadata": {},
   "source": [
    "<div class=\"alert alert-warning\">\n",
    "    <b> Box 4 </b><br>\n",
    "\t\tA wire $30.0$ m wire has a varying linear charge density given by $\\lambda = 75.0\\frac{x}{L}$, where $L$ is the length of the wire and the constant $75.0$ is provided in mC/m. Find the total charge of the wire.\n",
    "    \n",
    "\n",
    "</div>\n",
    "\n",
    "<hr style=\"border:1px solid gray\"> </hr>"
   ]
  },
  {
   "cell_type": "markdown",
   "metadata": {},
   "source": [
    "<div class=\"alert alert-warning\">\n",
    "    <b> Box 5 </b><br>\n",
    "\t\tConsider a disk with surface area $A = \\pi r^2$. Use the definition of the differential to show that the area differential is\n",
    "\t\n",
    "$$ dA = 2\\pi rdr $$\n",
    "\t\n",
    "In case we forgot the definition of differential, this may be helpful: $df = \\frac{df}{dx}dx$. if that is not helpful, we (by that, I mean you) need to go back and review or come and ask me.\n",
    "\n",
    "</div>\n",
    "\n",
    "<hr style=\"border:1px solid gray\"> </hr>"
   ]
  },
  {
   "cell_type": "markdown",
   "metadata": {},
   "source": [
    "<div class=\"alert alert-warning\">\n",
    "    <b> Box 6 </b><br>\n",
    "After gaining confidence in 1D, let us move up to 2D. After getting a wire, we are now looking at a plate capacitor. This is a big capacitor, in fact, so big that its diameter is much larger than its thickness and we can approximately say it is 2D. Assume the charge density on its plates are uniform (surface charge density: $\\sigma = 5.0$ mC/m$^2$), and the radius of the capacitor plate is $R = 0.30$ m. \n",
    "    \n",
    "Calculate the charge on one plate by using two different methods:\n",
    "1. Multiply the density by the area (works because the surface density is constant).\n",
    "2. Use the integral form in Equation 1.\n",
    "\n",
    "</div>\n",
    "\n",
    "<hr style=\"border:1px solid gray\"> </hr>"
   ]
  },
  {
   "cell_type": "markdown",
   "metadata": {},
   "source": [
    "<div class=\"alert alert-warning\">\n",
    "    <b> Box 7 </b><br>\n",
    "Another charged plate has a more complex charge density $\\sigma = 45.0\\left(\\frac{r}{R}\\right)^{2}$, and the radius of the capacitor is $R = 0.50$ cm. The unit of the density constant is $\\mu$C/m$^2$.\n",
    "\t\n",
    "Calculate the charge of this plate.\n",
    "\n",
    "</div>\n",
    "\n",
    "<hr style=\"border:1px solid gray\"> </hr>"
   ]
  },
  {
   "cell_type": "markdown",
   "metadata": {},
   "source": [
    "<div class=\"alert alert-warning\">\n",
    "    <b> Box 8 </b><br>\n",
    "A spherical  object with a radius of $1.5\\times 10^{-2}$ m has a uniform charge density $\\rho = 50.0$ $\\mu$C/m$^3$. What is the total charge of this sphere? HINT: Consider the approach from Box 6, but apply it to a sphere.\n",
    "\n",
    "</div>\n",
    "\n",
    "<hr style=\"border:1px solid gray\"> </hr>"
   ]
  },
  {
   "cell_type": "markdown",
   "metadata": {},
   "source": [
    "<div class=\"alert alert-warning\">\n",
    "    <b> Box 9 </b><br>\n",
    "A spherical object with a radius of $1.5\\times 10^{-2}$ m has a total charge $Q = 250.0$ $\\mu$C. An identical, but smaller, sphere has a radius of $0.50\\times 10^{-2}$ m. How much charge is on the smaller sphere? HINT: Assume uniform charge density.\n",
    "\n",
    "</div>\n",
    "\n",
    "<hr style=\"border:1px solid gray\"> </hr>"
   ]
  }
 ],
 "metadata": {
  "kernelspec": {
   "display_name": "Python 3 (ipykernel)",
   "language": "python",
   "name": "python3"
  },
  "language_info": {
   "codemirror_mode": {
    "name": "ipython",
    "version": 3
   },
   "file_extension": ".py",
   "mimetype": "text/x-python",
   "name": "python",
   "nbconvert_exporter": "python",
   "pygments_lexer": "ipython3",
   "version": "3.9.12"
  }
 },
 "nbformat": 4,
 "nbformat_minor": 2
}
