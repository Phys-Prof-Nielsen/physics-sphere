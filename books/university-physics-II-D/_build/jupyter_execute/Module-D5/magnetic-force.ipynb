{
 "cells": [
  {
   "cell_type": "markdown",
   "metadata": {},
   "source": [
    "# D5.1 Magnetic Force\n",
    "<hr style=\"height:2px;border-width:0;color:gray;background-color:gray\">"
   ]
  },
  {
   "cell_type": "markdown",
   "metadata": {},
   "source": [
    "## D5.1.1 Motivation\n",
    "\n",
    "It would have been convenient of the magnetic field had the same origin and similar behavior as the electric field. Unfortunately that is not the case as magnetic field appears significantly more complex than the electric field. \n",
    "\n",
    "Magnetic fields were arguable discovered before electric fields and applications such as compasses and permanent magnets were used well before the enlightment period and beginning of modern science. The true nature of magnetic fields was revealed with the development of special relativity. One may notice that physics as of today is explained through four field theories: gravity, electric, weak, and strong. There is no magnetic field theory. In turns out that **magnetic fields are relativistic electric fields due to charges in motion**. Pretty f...... awesome. \n",
    "\n",
    "We will later in this course explore moving charges as the source of magnetic fields but for now we will assume the existence of an external magnetic field and see how it interact with electrical charges.\n",
    "\n",
    "<hr style=\"height:2px;border-width:0;color:gray;background-color:gray\">"
   ]
  },
  {
   "cell_type": "markdown",
   "metadata": {},
   "source": [
    "## D5.1.1 Magnetic Force on Point Charge\n",
    "\n",
    "Early experiments showed that only **moving charges** would experience a force in the presence of a magnetic field. It was also shown that the magnetic force would alter the direction of the particle but not its speed, suggesting that the magnetic force was perpendicular to the direction of motion. The magnetic force was found to objet the following equation:\n",
    "\n",
    "<div class=\"alert alert-success\">\n",
    "    \n",
    "$$ \\vec{f}_{b} = q\\vec{v}\\times\\vec{B} \\tag{1}$$\n",
    "</div>\n",
    "\n",
    "where the magnetic field $\\vec{B}$ is measured in Tesla (T).\n",
    "\n",
    "If we have both $\\vec{E}$ and $\\vec{B}$ fields, the force is\n",
    "\n",
    "<div class=\"alert alert-success\">\n",
    "    \n",
    "$$ \\vec{f}_{b} = q(\\vec{E} + \\vec{v}\\times\\vec{B})$$\n",
    "</div>\n",
    "\n",
    "which is known as the **Lorentz force**.\n",
    "\n",
    "<hr style=\"height:2px;border-width:0;color:gray;background-color:gray\">"
   ]
  },
  {
   "cell_type": "markdown",
   "metadata": {},
   "source": [
    "<div class=\"alert alert-warning\">\n",
    "<b>Box 1 </b>\n",
    "\n",
    "A proton is traveling at a speed of $4.0\\textrm{E}6$ m/s in the positive x-direction in the presence of a magnetic field of $2.5$ T directed in the +z-direction.\n",
    "    \n",
    "1. What is the direction of the magnetic force?\n",
    "2. What is the magnitude of the magnetic force?\n",
    "               \n",
    "</div>"
   ]
  },
  {
   "cell_type": "code",
   "execution_count": 1,
   "metadata": {},
   "outputs": [],
   "source": [
    "# DIY Cell"
   ]
  },
  {
   "cell_type": "code",
   "execution_count": 2,
   "metadata": {
    "tags": [
     "hide-input",
     "hide-output"
    ]
   },
   "outputs": [
    {
     "name": "stdout",
     "output_type": "stream",
     "text": [
      "From the RHR we determine the direction to be: -y\n",
      "The magnitude of the magnetic force is 1.6019999999999998e-12 N\n"
     ]
    }
   ],
   "source": [
    "%reset -f\n",
    "\n",
    "import numpy as np\n",
    "\n",
    "q = 1.602E-19\n",
    "v = 4.0E6\n",
    "B = 2.5\n",
    "theta = np.radians(90.0)\n",
    "\n",
    "# Part 1\n",
    "print('From the RHR we determine the direction to be: -y')\n",
    "\n",
    "#Part 2\n",
    "fb = q*v*B*np.sin(theta)\n",
    "print('The magnitude of the magnetic force is '+str(fb)+' N')"
   ]
  },
  {
   "cell_type": "markdown",
   "metadata": {},
   "source": [
    "<hr style=\"height:2px;border-width:0;color:gray;background-color:gray\">"
   ]
  },
  {
   "cell_type": "markdown",
   "metadata": {},
   "source": [
    "<div class=\"alert alert-warning\">\n",
    "<b>Box 2 </b>\n",
    "\n",
    "A proton is traveling at a velocity of $\\vec{v} = 3.5\\textrm{E}6\\hat{i} - 4.5\\textrm{E}6\\hat{j} + 2.0\\textrm{E}6\\hat{k}$ m/s in the presence of a magnetic field $\\vec{B} = 1.0\\hat{j} - 1.5\\hat{k}$ T. What is the magnetic force on the particle?\n",
    "    \n",
    "</div>"
   ]
  },
  {
   "cell_type": "code",
   "execution_count": 3,
   "metadata": {},
   "outputs": [],
   "source": [
    "# DIY Cell"
   ]
  },
  {
   "cell_type": "code",
   "execution_count": 4,
   "metadata": {
    "tags": [
     "hide-input",
     "hide-output"
    ]
   },
   "outputs": [
    {
     "name": "stdout",
     "output_type": "stream",
     "text": [
      "Magnetic force is [7.6095e-13 8.6508e-13 5.7672e-13] N\n"
     ]
    }
   ],
   "source": [
    "%reset -f\n",
    "\n",
    "import numpy as np\n",
    "\n",
    "def cross_product(v1, v2):\n",
    "    x = v1[1]*v2[2] - v1[2]*v2[1]\n",
    "    y = v1[2]*v2[0] - v1[0]*v2[2]\n",
    "    z = v1[0]*v2[1] - v1[1]*v2[0]\n",
    "    vector = np.array([x,y,z])\n",
    "    return vector\n",
    "\n",
    "q = 1.602E-19\n",
    "v = np.array([3.6E6, -4.5E6, 2.0E6])\n",
    "B = np.array([0.0, 1.0, -1.5])\n",
    "\n",
    "fb = q*cross_product(v,B)\n",
    "print('Magnetic force is '+str(fb)+' N')"
   ]
  },
  {
   "cell_type": "markdown",
   "metadata": {},
   "source": [
    "<hr style=\"height:2px;border-width:0;color:gray;background-color:gray\">"
   ]
  },
  {
   "cell_type": "markdown",
   "metadata": {},
   "source": [
    "<div class=\"alert alert-warning\">\n",
    "<b>Box 3 </b>\n",
    "\n",
    "An electron moving in a circular motion in the xy-plane is subject to a magnetic force of $B_z = +2.5$ T. If the electron is moving with a speed of $3.5\\textrm{E}5$ m/s, what is the radius of its circular motion?\n",
    "    \n",
    "</div>"
   ]
  },
  {
   "cell_type": "code",
   "execution_count": 5,
   "metadata": {},
   "outputs": [],
   "source": [
    "# DIY Cell"
   ]
  },
  {
   "cell_type": "code",
   "execution_count": 6,
   "metadata": {
    "tags": [
     "hide-input",
     "hide-output"
    ]
   },
   "outputs": [
    {
     "name": "stdout",
     "output_type": "stream",
     "text": [
      " Radius of circular motion is 0.27861485642946315 m\n"
     ]
    }
   ],
   "source": [
    "%reset -f\n",
    "\n",
    "import numpy as np\n",
    "\n",
    "q = -1.602E-19\n",
    "m = 9.109E-31\n",
    "Bz = 2.5\n",
    "v = 3.5E5\n",
    "\n",
    "# N2 in cylindrical coordinates: radial component :: -qvB = - mv^2/R\n",
    "\n",
    "R = (m*v**2)/(np.abs(q)*Bz)\n",
    "print(' Radius of circular motion is '+str(R)+' m')"
   ]
  },
  {
   "cell_type": "markdown",
   "metadata": {},
   "source": [
    "<hr style=\"height:2px;border-width:0;color:gray;background-color:gray\">"
   ]
  },
  {
   "cell_type": "markdown",
   "metadata": {},
   "source": [
    "## D5.1.2 Magnetic Force on Straight Wire Segment\n",
    "\n",
    "Let us consider a segment with a length $l$ and cross-sectional area $A$. The volume is then $V = Al$. The charges moves with drift velocity $\\vec{v}_D$ and the number of charges is $N = nV$, where $n$ is the charge number density.\n",
    "\n",
    "The accumulative magnetic force is\n",
    "\n",
    "$$ \\vec{F}_B = Nq\\vec{v}_{D}\\times\\vec{B} $$\n",
    "\n",
    "Inserting the number density relationship:\n",
    "\n",
    "$$ \\vec{F}_B =  nVq\\vec{v}_{D}\\times\\vec{B} $$\n",
    "\n",
    "The current is $I = nqAv_{D}$ and we can write $\\vec{v}_{D} = v_{D}\\hat{v}$ where $\\hat{v}$ is a unit vector in the direction of the flow. With that, we have \n",
    "    \n",
    "$$ \\vec{F}_{b} = Il\\hat{v}\\times\\vec{B} $$\n",
    "\n",
    "Often the lenght segment and unit vector are combined to $\\vec{l} = l\\hat{v}$\n",
    "\n",
    "<div class=\"alert alert-success\">\n",
    "    \n",
    "$$ \\vec{F}_{b} = I\\vec{l}\\times\\vec{B} \\tag{2}$$\n",
    "</div>\n",
    "\n",
    "\n",
    "<hr style=\"height:2px;border-width:0;color:gray;background-color:gray\">"
   ]
  },
  {
   "cell_type": "markdown",
   "metadata": {},
   "source": [
    "<div class=\"alert alert-warning\">\n",
    "<b>Box 4 </b>\n",
    "\n",
    "In Utah the Earth's magnetic field is directed $65^\\circ$ with respect to and towards the surface (the inclination) with a strength of $50.7$ nT in the North-South (meridional) plane. A $15$ m and $3.0$ kg house-hold wire is running East-West. If the wire carries a current of $15$ A in the East direction, what is the magnitude and direction of the magnetic force on the wire?\n",
    "    \n",
    "</div>"
   ]
  },
  {
   "cell_type": "code",
   "execution_count": 7,
   "metadata": {},
   "outputs": [],
   "source": [
    "# DIY Cell"
   ]
  },
  {
   "cell_type": "code",
   "execution_count": 8,
   "metadata": {
    "tags": [
     "hide-input",
     "hide-output"
    ]
   },
   "outputs": [
    {
     "name": "stdout",
     "output_type": "stream",
     "text": [
      "The magnetic force is [-0.00000000e+00  1.03387061e-05  4.82101782e-06] N\n",
      " \n",
      "The magnitude is 1.1407499999999999e-05 N\n",
      " \n",
      "The direction is 25.0 degrees up from North in the meridional plane.\n"
     ]
    }
   ],
   "source": [
    "%reset -f\n",
    "\n",
    "import numpy as np\n",
    "\n",
    "B_mag = 50.7E-9\n",
    "inclination = np.radians(65.0)\n",
    "\n",
    "# East --> +x, North --> +y, Up --> +z\n",
    "Bx = 0\n",
    "By = B_mag*np.cos(inclination)\n",
    "Bz = -B_mag*np.sin(inclination)\n",
    "\n",
    "B = np.array([Bx, By, Bz])\n",
    "\n",
    "I = 15\n",
    "l = np.array([15, 0, 0])\n",
    "\n",
    "fb = I*np.cross(l,B)\n",
    "\n",
    "fb_mag = np.sqrt(fb[0]**2 + fb[1]**2 + fb[2]**2)\n",
    "\n",
    "print('The magnetic force is '+str(fb)+' N')\n",
    "print(' ')\n",
    "print('The magnitude is '+str(fb_mag)+' N')\n",
    "print(' ')\n",
    "#based on the vector for fb, the force is in the meridional plane\n",
    "theta = np.degrees(np.arctan(fb[2]/fb[1]))\n",
    "print('The direction is '+str(theta)+' degrees up from North in the meridional plane.')"
   ]
  },
  {
   "cell_type": "markdown",
   "metadata": {},
   "source": [
    "<hr style=\"height:2px;border-width:0;color:gray;background-color:gray\">"
   ]
  }
 ],
 "metadata": {
  "celltoolbar": "Tags",
  "kernelspec": {
   "display_name": "Python 3 (ipykernel)",
   "language": "python",
   "name": "python3"
  },
  "language_info": {
   "codemirror_mode": {
    "name": "ipython",
    "version": 3
   },
   "file_extension": ".py",
   "mimetype": "text/x-python",
   "name": "python",
   "nbconvert_exporter": "python",
   "pygments_lexer": "ipython3",
   "version": "3.9.12"
  }
 },
 "nbformat": 4,
 "nbformat_minor": 2
}