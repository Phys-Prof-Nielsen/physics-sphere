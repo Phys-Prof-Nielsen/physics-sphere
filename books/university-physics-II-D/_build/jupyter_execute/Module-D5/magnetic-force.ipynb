{
 "cells": [
  {
   "cell_type": "markdown",
   "metadata": {},
   "source": [
    "# D5.1 Magnetic Force\n",
    "<hr style=\"height:2px;border-width:0;color:gray;background-color:gray\">"
   ]
  },
  {
   "cell_type": "markdown",
   "metadata": {},
   "source": [
    "## D5.1.1 Motivation\n",
    "\n",
    "It would have been convenient of the magnetic field had the same origin and similar behavior as the electric field. Unfortunately that is not the case as magnetic field appears significantly more complex than the electric field. \n",
    "\n",
    "Magnetic fields were arguable discovered before electric fields and applications such as compasses and permanent magnets were used well before the enlightment period and beginning of modern science. The true nature of magnetic fields was revealed with the development of special relativity. One may notice that physics as of today is explained through four field theories: gravity, electric, weak, and strong. There is no magnetic field theory. In turns out that **magnetic fields are relativistic electric fields due to charges in motion**. Pretty f...... awesome. \n",
    "\n",
    "We will later in this course explore moving charges as the source of magnetic fields but for now we will assume the existence of an external magnetic field and see how it interact with electrical charges.\n",
    "\n",
    "<hr style=\"height:2px;border-width:0;color:gray;background-color:gray\">"
   ]
  },
  {
   "cell_type": "markdown",
   "metadata": {},
   "source": [
    "## D5.1.1 Magnetic Force on Point Charge\n",
    "\n",
    "Early experiments showed that only **moving charges** would experience a force in the presence of a magnetic field. It was also shown that the magnetic force would alter the direction of the particle but not its speed, suggesting that the magnetic force was perpendicular to the direction of motion. The magnetic force was found to objet the following equation:\n",
    "\n",
    "<div class=\"alert alert-success\">\n",
    "    \n",
    "$$ \\vec{f}_{b} = q\\vec{v}\\times\\vec{B} \\tag{1}$$\n",
    "</div>\n",
    "\n",
    "where the magnetic field $\\vec{B}$ is measured in Tesla (T).\n",
    "\n",
    "If we have both $\\vec{E}$ and $\\vec{B}$ fields, the force is\n",
    "\n",
    "<div class=\"alert alert-success\">\n",
    "    \n",
    "$$ \\vec{f}_{b} = q(\\vec{E} + \\vec{v}\\times\\vec{B})$$\n",
    "</div>\n",
    "\n",
    "which is known as the **Lorentz force**.\n",
    "\n",
    "<hr style=\"height:2px;border-width:0;color:gray;background-color:gray\">"
   ]
  },
  {
   "cell_type": "markdown",
   "metadata": {},
   "source": [
    "<div class=\"alert alert-warning\">\n",
    "<b>Box 1 </b>\n",
    "\n",
    "A proton is traveling at a speed of $4.0E6$ m/s in the positive x-direction in the presence of a magnetic field of $2.5$ T directed in the +z-direction.\n",
    "    \n",
    "1. What is the direction of the magnetic force?\n",
    "2. What is the magnitude of the magnetic force?\n",
    "               \n",
    "</div>"
   ]
  },
  {
   "cell_type": "code",
   "execution_count": 1,
   "metadata": {
    "tags": [
     "hide-input",
     "hide-output"
    ]
   },
   "outputs": [],
   "source": [
    "%reset -f"
   ]
  },
  {
   "cell_type": "markdown",
   "metadata": {},
   "source": [
    "<hr style=\"height:2px;border-width:0;color:gray;background-color:gray\">"
   ]
  },
  {
   "cell_type": "markdown",
   "metadata": {},
   "source": [
    "<div class=\"alert alert-warning\">\n",
    "<b>Box 2 </b>\n",
    "\n",
    "A proton is traveling at a velocity of $\\vec{v} = 3.5E6\\hat{i} - 4.5\\hat{j} + 2.0\\hat{k}$ m/s in the presence of a magnetic field $\\vec{B} = 1.0\\hat{j} - 1.5\\hat{k}$ T. What is the magnetic force on the particle?\n",
    "    \n",
    "</div>"
   ]
  },
  {
   "cell_type": "markdown",
   "metadata": {},
   "source": [
    "<hr style=\"height:2px;border-width:0;color:gray;background-color:gray\">"
   ]
  },
  {
   "cell_type": "markdown",
   "metadata": {},
   "source": [
    "<div class=\"alert alert-warning\">\n",
    "<b>Box 3 </b>\n",
    "\n",
    "An electron moving in a circular motion in the xy-plane is subject to a magnetic force of $B_z = +2.5$ T. If the electron is moving with a speed of $3.5E5$ m/s, what is the radius of its circular motion?\n",
    "    \n",
    "</div>"
   ]
  },
  {
   "cell_type": "markdown",
   "metadata": {},
   "source": [
    "<hr style=\"height:2px;border-width:0;color:gray;background-color:gray\">"
   ]
  },
  {
   "cell_type": "markdown",
   "metadata": {},
   "source": [
    "## D5.1.2 Magnetic Force on Straight Wire Segment\n",
    "\n",
    "Let us consider a segment with a length $l$ and cross-sectional area $A$. The volume is then $V = Al$. The charges moves with drift velocity $\\vec{v}_D$ and the number of charges is $N = nV$, where $n$ is the charge number density.\n",
    "\n",
    "The accumulative magnetic force is\n",
    "\n",
    "$$ \\vec{F}_B = Nq\\vec{v}_{D}\\times\\vec{B} $$\n",
    "\n",
    "Inserting the number density relationship:\n",
    "\n",
    "$$ \\vec{F}_B =  nVq\\vec{v}_{D}\\times\\vec{B} $$\n",
    "\n",
    "The current is $I = nqAv_{D}$ and we can write $\\vec{v}_{D} = v_{D}\\hat{v}$ where $\\hat{v}$ is a unit vector in the direction of the flow. With that, we have \n",
    "    \n",
    "$$ \\vec{F}_{b} = Il\\hat{v}\\times\\vec{B} $$\n",
    "\n",
    "Often the lenght segment and unit vector are combined to $\\vec{l} = l\\hat{v}$\n",
    "\n",
    "<div class=\"alert alert-success\">\n",
    "    \n",
    "$$ \\vec{F}_{b} = I\\vec{l}\\times\\vec{B} \\tag{2}$$\n",
    "</div>\n",
    "\n",
    "\n",
    "<hr style=\"height:2px;border-width:0;color:gray;background-color:gray\">"
   ]
  },
  {
   "cell_type": "markdown",
   "metadata": {},
   "source": [
    "<div class=\"alert alert-warning\">\n",
    "<b>Box 4 </b>\n",
    "\n",
    "In Utah the Earth's magnetic field is directed $65^\\circ$ with respect to and towards the surface  with a strength of $50.7$ nT in the North-South (meridional) plane. A $15$ m and $3.0$ kg house-hold wire is running East-West. If the wire carries a current of $15$ A in the East direction, what is the magnitude and direction of the magnetic force on the wire?\n",
    "    \n",
    "</div>"
   ]
  },
  {
   "cell_type": "markdown",
   "metadata": {},
   "source": [
    "<hr style=\"height:2px;border-width:0;color:gray;background-color:gray\">"
   ]
  }
 ],
 "metadata": {
  "celltoolbar": "Tags",
  "kernelspec": {
   "display_name": "Python 3 (ipykernel)",
   "language": "python",
   "name": "python3"
  },
  "language_info": {
   "codemirror_mode": {
    "name": "ipython",
    "version": 3
   },
   "file_extension": ".py",
   "mimetype": "text/x-python",
   "name": "python",
   "nbconvert_exporter": "python",
   "pygments_lexer": "ipython3",
   "version": "3.10.9"
  }
 },
 "nbformat": 4,
 "nbformat_minor": 2
}