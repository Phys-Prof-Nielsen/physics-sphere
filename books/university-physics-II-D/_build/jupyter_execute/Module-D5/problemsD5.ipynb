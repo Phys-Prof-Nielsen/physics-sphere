{
 "cells": [
  {
   "cell_type": "markdown",
   "metadata": {},
   "source": [
    "# D5.2 Problems\n",
    "<hr style=\"height:2px;border-width:0;color:gray;background-color:gray\">"
   ]
  },
  {
   "cell_type": "markdown",
   "metadata": {},
   "source": [
    "<h2>Problem D5.1</h2>\n",
    "    </header>\n",
    "\n",
    "What is the direction of the magnetic force on a positive charge that moves as shown in each of the six cases? Ignore the $\\vec{F}$ on top of Part (a).\n",
    "\n",
    "<img src=\"D5-P5.1.png\" width=\"400\">\n",
    " \n",
    "[This problem is a slightly modified version from OpenStax. Access for free here](https://openstax.org/books/university-physics-volume-2/pages/11-problems)"
   ]
  },
  {
   "cell_type": "code",
   "execution_count": 1,
   "metadata": {},
   "outputs": [],
   "source": [
    "# DIY Cell"
   ]
  },
  {
   "cell_type": "code",
   "execution_count": 2,
   "metadata": {
    "tags": [
     "hide-input",
     "hide-output"
    ]
   },
   "outputs": [
    {
     "name": "stdout",
     "output_type": "stream",
     "text": [
      "(a): to the left on the page\n",
      "(b): into the page\n",
      "(c): up on the page\n",
      "(d): no magnetic force\n",
      "(e): to the right on the page\n",
      "(f): down on the page\n"
     ]
    }
   ],
   "source": [
    "%reset -f\n",
    "\n",
    "#Use RHR\n",
    "print('(a): to the left on the page')\n",
    "print('(b): into the page')\n",
    "print('(c): up on the page')\n",
    "print('(d): no magnetic force')\n",
    "print('(e): to the right on the page')\n",
    "print('(f): down on the page')"
   ]
  },
  {
   "cell_type": "markdown",
   "metadata": {},
   "source": [
    "<hr style=\"height:2px;border-width:0;color:gray;background-color:gray\">"
   ]
  },
  {
   "cell_type": "markdown",
   "metadata": {},
   "source": [
    "<h2>Problem D5.2</h2>\n",
    "    </header>\n",
    "\n",
    "What is the direction of the velocity of a negative charge that experiences the magnetic force shown in each of the three cases, assuming it moves perpendicular to B?\n",
    "\n",
    "<img src=\"D5-P5.2.png\" width=\"300\">\n",
    "\n",
    "[This problem is a slightly modified version from OpenStax. Access for free here](https://openstax.org/books/university-physics-volume-2/pages/11-problems)"
   ]
  },
  {
   "cell_type": "code",
   "execution_count": 3,
   "metadata": {},
   "outputs": [],
   "source": [
    "# DIY Cell"
   ]
  },
  {
   "cell_type": "code",
   "execution_count": 4,
   "metadata": {
    "tags": [
     "hide-input",
     "hide-output"
    ]
   },
   "outputs": [
    {
     "name": "stdout",
     "output_type": "stream",
     "text": [
      "(a): to the right on the page\n",
      "(b): into the page\n",
      "(c): down on the page\n"
     ]
    }
   ],
   "source": [
    "%reset -f\n",
    "\n",
    "#Use RHR\n",
    "print('(a): to the right on the page')\n",
    "print('(b): into the page')\n",
    "print('(c): down on the page')"
   ]
  },
  {
   "cell_type": "markdown",
   "metadata": {},
   "source": [
    "<hr style=\"height:2px;border-width:0;color:gray;background-color:gray\">"
   ]
  },
  {
   "cell_type": "markdown",
   "metadata": {},
   "source": [
    "<h2>Problem D5.3</h2>\n",
    "    </header>\n",
    "\n",
    "1. A cosmic ray proton moving toward Earth at $5.00\\times 10^7$ m/s experiences a magnetic force of $1.70\\times 10^{-16}$ N. What is the strength of the magnetic field if there is a $45^\\circ$ angle between it and the proton’s velocity?\n",
    "2. Is the value obtained in part 1 consistent with the known strength of Earth’s magnetic field on its surface? \n",
    "\n",
    "[This problem is a slightly modified version from OpenStax. Access for free here](https://openstax.org/books/university-physics-volume-2/pages/11-problems)"
   ]
  },
  {
   "cell_type": "code",
   "execution_count": 5,
   "metadata": {},
   "outputs": [],
   "source": [
    "# DIY Cell"
   ]
  },
  {
   "cell_type": "code",
   "execution_count": 6,
   "metadata": {
    "tags": [
     "hide-input",
     "hide-output"
    ]
   },
   "outputs": [
    {
     "name": "stdout",
     "output_type": "stream",
     "text": [
      "The magnetic field is 3.00145200503653e-5 T\n",
      "The order of magnitude is reasonable\n"
     ]
    }
   ],
   "source": [
    "%reset -f\n",
    "\n",
    "import sympy as sym\n",
    "import numpy as np\n",
    "\n",
    "q = 1.602E-19\n",
    "v = 5.00E7\n",
    "fb = 1.70E-16\n",
    "theta = np.radians(45)\n",
    "\n",
    "#Part 1\n",
    "B = sym.Symbol('B')\n",
    "\n",
    "eq = fb - q*v*B*sym.sin(theta)\n",
    "sol = sym.solve(eq,B)\n",
    "print('The magnetic field is '+str(sol[0])+' T')\n",
    "\n",
    "# Part 2\n",
    "print('The order of magnitude is reasonable')"
   ]
  },
  {
   "cell_type": "markdown",
   "metadata": {},
   "source": [
    "<hr style=\"height:2px;border-width:0;color:gray;background-color:gray\">"
   ]
  },
  {
   "cell_type": "markdown",
   "metadata": {},
   "source": [
    "<h2>Problem D5.4</h2>\n",
    "    </header>\n",
    "    \n",
    "A cosmic-ray electron moves at $7.5\\times 10^6$ m/s perpendicular to Earth’s magnetic field at an altitude where the field strength is $1.0\\times 10^{−5}$ T. What is the radius of the circular path the electron follows?\n",
    "\n",
    "[This problem is a slightly modified version from OpenStax. Access for free here](https://openstax.org/books/university-physics-volume-2/pages/11-problems)"
   ]
  },
  {
   "cell_type": "code",
   "execution_count": 7,
   "metadata": {},
   "outputs": [],
   "source": [
    "# DIY Cell"
   ]
  },
  {
   "cell_type": "code",
   "execution_count": 8,
   "metadata": {
    "tags": [
     "hide-input",
     "hide-output"
    ]
   },
   "outputs": [
    {
     "name": "stdout",
     "output_type": "stream",
     "text": [
      "Radius is 4.264513108614231 m\n"
     ]
    }
   ],
   "source": [
    "%reset -f\n",
    "\n",
    "import numpy as np\n",
    "\n",
    "q = -1.602E-19\n",
    "m = 9.109E-31\n",
    "v = 7.5E6\n",
    "B = 1.0E-5\n",
    "\n",
    "R = (m*v)/(np.abs(q)*B)\n",
    "\n",
    "print('Radius is '+str(R)+' m')"
   ]
  },
  {
   "cell_type": "markdown",
   "metadata": {},
   "source": [
    "<hr style=\"height:2px;border-width:0;color:gray;background-color:gray\">"
   ]
  },
  {
   "cell_type": "markdown",
   "metadata": {},
   "source": [
    "<h2>Problem D5.5</h2>\n",
    "    </header>\n",
    "\n",
    "1. Viewers of Star Trek have heard of an antimatter drive on the Starship Enterprise. One possibility for such a futuristic energy source is to store antimatter charged particles in a vacuum chamber, circulating in a magnetic field, and then extract them as needed. Antimatter annihilates normal matter, producing pure energy. What strength magnetic field is needed to hold antiprotons, moving at $5.0\\times 10^7$ m/s in a circular path $2.00$ m in radius? Antiprotons have the same mass as protons but the opposite (negative) charge. \n",
    "2. Is this field strength obtainable with today’s technology or is it a futuristic possibility considering the strongest laboratory magnet today is 45 T?\n",
    "\n",
    "[This problem is a slightly modified version from OpenStax. Access for free here](https://openstax.org/books/university-physics-volume-2/pages/11-problems)"
   ]
  },
  {
   "cell_type": "code",
   "execution_count": 9,
   "metadata": {},
   "outputs": [],
   "source": [
    "# DIY Cell"
   ]
  },
  {
   "cell_type": "code",
   "execution_count": 10,
   "metadata": {
    "tags": [
     "hide-input",
     "hide-output"
    ]
   },
   "outputs": [
    {
     "name": "stdout",
     "output_type": "stream",
     "text": [
      "The magnetic field is 0.260611735330836 T\n",
      " \n",
      "Yes, it is reasonable\n"
     ]
    }
   ],
   "source": [
    "%reset -f\n",
    "\n",
    "import numpy as np\n",
    "import sympy as sym\n",
    "\n",
    "m = 1.67E-27\n",
    "q = -1.602E-19\n",
    "v = 5.0E7\n",
    "R = 2.00\n",
    "\n",
    "#Part 1\n",
    "B = sym.Symbol('B')\n",
    "\n",
    "# F_net = mv^2/R \n",
    "eq = np.abs(q)*v*B - (m*v**2)/R\n",
    "sol = sym.solve(eq,B)\n",
    "print('The magnetic field is '+str(sol[0])+' T')\n",
    "print(' ')\n",
    "print('Yes, it is reasonable')"
   ]
  },
  {
   "cell_type": "markdown",
   "metadata": {},
   "source": [
    "<hr style=\"height:2px;border-width:0;color:gray;background-color:gray\">"
   ]
  },
  {
   "cell_type": "markdown",
   "metadata": {},
   "source": [
    "<h2>Problem D5.6</h2>\n",
    "    </header>\n",
    "\n",
    "1. What voltage will accelerate electrons to a speed of $6.00\\times 10^7$ m/s?\n",
    "2. Find the radius of curvature of the path of a proton accelerated through this potential in a $0.500$ T field and compare this with the radius of curvature of an electron accelerated through the same potential.\n",
    "\n",
    "[This problem is a slightly modified version from OpenStax. Access for free here](https://openstax.org/books/university-physics-volume-2/pages/11-problems)"
   ]
  },
  {
   "cell_type": "code",
   "execution_count": 11,
   "metadata": {},
   "outputs": [],
   "source": [
    "# DIY Cell"
   ]
  },
  {
   "cell_type": "code",
   "execution_count": 12,
   "metadata": {
    "tags": [
     "hide-input",
     "hide-output"
    ]
   },
   "outputs": [],
   "source": [
    "%reset -f"
   ]
  },
  {
   "cell_type": "markdown",
   "metadata": {},
   "source": [
    "<hr style=\"height:2px;border-width:0;color:gray;background-color:gray\">"
   ]
  },
  {
   "cell_type": "markdown",
   "metadata": {},
   "source": [
    "<h2>Problem D5.7</h2>\n",
    "    </header>\n",
    "\n",
    "An alpha-particle ($m = 6.64\\times 10^{−27}$ kg, $q = 3.2\\times 10^{−19}$ C)travels in a circular path of radius $25$ cm in a uniform magnetic field of magnitude $1.5$ T. \n",
    "\n",
    "1. What is the speed of the particle? \n",
    "2. What is the kinetic energy in electron-volts? \n",
    "3. Through what potential difference must the particle be accelerated in order to give it this kinetic energy?\n",
    "\n",
    "[This problem is a slightly modified version from OpenStax. Access for free here](https://openstax.org/books/university-physics-volume-2/pages/11-problems)"
   ]
  },
  {
   "cell_type": "code",
   "execution_count": 13,
   "metadata": {},
   "outputs": [],
   "source": [
    "# DIY Cell"
   ]
  },
  {
   "cell_type": "code",
   "execution_count": 14,
   "metadata": {
    "tags": [
     "hide-input",
     "hide-output"
    ]
   },
   "outputs": [],
   "source": [
    "%reset -f"
   ]
  },
  {
   "cell_type": "markdown",
   "metadata": {},
   "source": [
    "<hr style=\"height:2px;border-width:0;color:gray;background-color:gray\">"
   ]
  },
  {
   "cell_type": "markdown",
   "metadata": {},
   "source": [
    "<h2>Problem D5.8</h2>\n",
    "    </header>\n",
    "\n",
    "1. A dc power line for a light-rail system carries $1000.0$ A at an angle of $30.0^\\circ$ to Earth’s $5.0\\times 10^{−5}$ T field. \n",
    "\n",
    "1. What is the force on a $100$-m section of this line? \n",
    "2. Discuss practical concerns this presents, if any.\n",
    "\n",
    "[This problem is a slightly modified version from OpenStax. Access for free here](https://openstax.org/books/university-physics-volume-2/pages/11-problems)"
   ]
  },
  {
   "cell_type": "code",
   "execution_count": 15,
   "metadata": {},
   "outputs": [],
   "source": [
    "# DIY Cell"
   ]
  },
  {
   "cell_type": "code",
   "execution_count": 16,
   "metadata": {
    "tags": [
     "hide-input",
     "hide-output"
    ]
   },
   "outputs": [],
   "source": [
    "%reset -f"
   ]
  },
  {
   "cell_type": "markdown",
   "metadata": {},
   "source": [
    "<hr style=\"height:2px;border-width:0;color:gray;background-color:gray\">"
   ]
  },
  {
   "cell_type": "markdown",
   "metadata": {},
   "source": [
    "<h2>Problem D5.9</h2>\n",
    "    </header>\n",
    "\n",
    "The strengths of the fields in the velocity selector of a Bainbridge mass spectrometer are $B = 0.500$ T and $E = 1.2\\times 10^5$ V/m, and the strength of the magnetic field that separates the ions is $B_0 =0.750$ T. A stream of singly charged Li ions is found to bend in a circular arc of radius $2.32$ cm. What is the mass of the Li ions?\n",
    "\n",
    "[This problem is a slightly modified version from OpenStax. Access for free here](https://openstax.org/books/university-physics-volume-2/pages/11-problems)"
   ]
  },
  {
   "cell_type": "code",
   "execution_count": 17,
   "metadata": {},
   "outputs": [],
   "source": [
    "# DIY Cell"
   ]
  },
  {
   "cell_type": "code",
   "execution_count": 18,
   "metadata": {
    "tags": [
     "hide-input",
     "hide-output"
    ]
   },
   "outputs": [],
   "source": [
    "%reset -f"
   ]
  },
  {
   "cell_type": "markdown",
   "metadata": {},
   "source": [
    "<hr style=\"height:2px;border-width:0;color:gray;background-color:gray\">"
   ]
  },
  {
   "cell_type": "markdown",
   "metadata": {},
   "source": [
    "<h2>Problem D5.10</h2>\n",
    "    </header>\n",
    "\n",
    "1. Triply charged uranium-235 and uranium-238 ions are being separated in a mass spectrometer. (The much rarer uranium-235 is used as reactor fuel.) The masses of the ions are $3.90\\times 10^{−25}$ kg and $3.95\\times 10^{−25}$ kg, respectively, and they travel at $3.0\\times 10^5$ m/s in a $0.250$ T field. What is the separation between their paths when they hit a target after traversing a semicircle? \n",
    "2. Discuss whether this distance between their paths seems to be big enough to be practical in the separation of uranium-235 from uranium-238.\n",
    "\n",
    "[This problem is a slightly modified version from OpenStax. Access for free here](https://openstax.org/books/university-physics-volume-2/pages/9-problems)"
   ]
  },
  {
   "cell_type": "code",
   "execution_count": 19,
   "metadata": {},
   "outputs": [],
   "source": [
    "# DIY Cell"
   ]
  },
  {
   "cell_type": "code",
   "execution_count": 20,
   "metadata": {
    "tags": [
     "hide-input"
    ]
   },
   "outputs": [],
   "source": [
    "%reset -f"
   ]
  },
  {
   "cell_type": "markdown",
   "metadata": {},
   "source": [
    "<hr style=\"height:2px;border-width:0;color:gray;background-color:gray\">"
   ]
  }
 ],
 "metadata": {
  "celltoolbar": "Tags",
  "kernelspec": {
   "display_name": "Python 3 (ipykernel)",
   "language": "python",
   "name": "python3"
  },
  "language_info": {
   "codemirror_mode": {
    "name": "ipython",
    "version": 3
   },
   "file_extension": ".py",
   "mimetype": "text/x-python",
   "name": "python",
   "nbconvert_exporter": "python",
   "pygments_lexer": "ipython3",
   "version": "3.9.12"
  }
 },
 "nbformat": 4,
 "nbformat_minor": 4
}