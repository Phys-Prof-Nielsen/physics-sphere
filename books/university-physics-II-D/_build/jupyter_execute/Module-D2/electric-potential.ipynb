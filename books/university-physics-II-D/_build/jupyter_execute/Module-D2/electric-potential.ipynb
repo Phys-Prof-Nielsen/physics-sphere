{
 "cells": [
  {
   "cell_type": "markdown",
   "metadata": {},
   "source": [
    "# D2.2 Electric Potential Energy and Potential\n",
    "<hr style=\"height:2px\">"
   ]
  },
  {
   "cell_type": "markdown",
   "metadata": {},
   "source": [
    "## D2.2.1 Background\n",
    "\n",
    "The title may appear a little odd, but the key is that we are talking about to different concepts and one of the objectives of these notes is to point out and understand that difference. The main difference is\n",
    "\n",
    "<div class=\"alert alert-success\">\n",
    "    \n",
    "<b>Electric potential energy</b> arises when we have interaction (or force) between two charged objects. In contrast, <b>electric potential</b> is a property of the electric field and does not require an interaction to exist.\n",
    "</div>\n",
    "\n",
    "Before we introde the concept of potential, let us first recap what we have learned about potential energy from *University Physics I*.\n",
    "<hr style=\"height:2px;border-width:0;color:gray;background-color:gray\">"
   ]
  },
  {
   "cell_type": "markdown",
   "metadata": {},
   "source": [
    "## D2.2.2 Review of Potential Energy\n",
    "\n",
    "The energy transfer, or work, done by a force $\\vec{f}$ acting on a particle being displaced $\\Delta\\vec{r}$ is\n",
    "\n",
    "$$ w = \\int_{r_1}^{r_2} \\vec{f}\\cdot d\\vec{r} $$\n",
    "\n",
    "If the path is a **closed** path and the net work done by the force, the force is said to be **conservative**.\n",
    "\n",
    "A property of the work done by conservative force is that it only depends on the end points of the path taken not the path itself. It is then possible to define a scalar function that depends on those end points.\n",
    "\n",
    "We name this scalar function the **potential energy** $u$ associated with the **conservative force** $f_x$. In *University Physics I*, we defined the relation in the 1D case as:\n",
    "\n",
    "<div class=\"alert alert-success\">\n",
    "\n",
    "<b>Derivative form</b><br>\n",
    "    \n",
    "$$f_x = -\\frac{du}{dx} \\tag{1}$$\n",
    "</div>\n",
    "\n",
    "<div class=\"alert alert-success\">\n",
    "\n",
    "<b>Differential form</b><br>\n",
    "    \n",
    "$$du = -{f}_x{dx} \\tag{2}$$\n",
    "</div>\n",
    "\n",
    "<div class=\"alert alert-success\">\n",
    "\n",
    "<b>Integral form</b><br>\n",
    "    \n",
    "$$ \\Delta u = -\\int_{x_A}^{x_B}f_xdx \\tag{3}$$\n",
    "</div>\n",
    "\n",
    "<hr style=\"height:2px;border-width:0;color:gray;background-color:gray\">"
   ]
  },
  {
   "cell_type": "markdown",
   "metadata": {},
   "source": [
    "## D2.2.3 Electric Potential Energy\n",
    "\n",
    "For now we are considering the electrostatic force associated with a conservative $\\vec{E}$ field. The force therefore is a conservative force. Later in the semester, we will encounter non-conservative $\\vec{E}$ fields.\n",
    "\n",
    "For the time being, our $f_x = qE_x$ is a conservative force and we can apply the above relations to relate it to the electric potential energy.\n",
    "\n",
    "For example, for a **constant** electric field $E_x$, we have\n",
    "\n",
    "$$ \\Delta u = - qE_x\\Delta x \\tag{4}$$\n",
    "\n",
    "<hr style=\"height:2px;border-width:0;color:gray;background-color:gray\">"
   ]
  },
  {
   "cell_type": "markdown",
   "metadata": {},
   "source": [
    "<div class=\"alert alert-warning\">\n",
    "<b>Box 1</b>\n",
    "    <br>\n",
    "    \n",
    "Between the plates of a capacitor exists an uniform electric field directed from the positive plate towards the negative plate. The field strength is $5.0\\times 10^9$ N/C and the plate separation is $2.0$ mm. A proton is moved from the positive plate to the negative plate.\n",
    "\n",
    "1. Does the potential energy of the proton increase or decrease? Explain.\n",
    "2. By how much doe the potential energy of the proton change?\n",
    "3. Repeat (1) and (2) but for an electron.\n",
    "                \n",
    "</div>"
   ]
  },
  {
   "cell_type": "code",
   "execution_count": 1,
   "metadata": {
    "tags": [
     "hide-input",
     "hide-output"
    ]
   },
   "outputs": [
    {
     "name": "stdout",
     "output_type": "stream",
     "text": [
      "Since the proton is moved in the direction of the force, its potential energy decreases.\n",
      "The change in potential energy is -1.602e-12 J.\n",
      "Since the electron is moved in the opposite direction of the force, its potential energy increases.\n",
      "The change in potential energy is 1.602e-12 J.\n"
     ]
    }
   ],
   "source": [
    "%reset -f\n",
    "# Part 1\n",
    "# ------\n",
    "print('Since the proton is moved in the direction of the force, its potential energy decreases.')\n",
    "\n",
    "# Part 2\n",
    "# ------\n",
    "q = 1.602E-19\n",
    "Ex = 5.0E9\n",
    "dx = 2.0E-3\n",
    "\n",
    "du = -q*Ex*dx\n",
    "\n",
    "print('The change in potential energy is '+str(du)+' J.')\n",
    "\n",
    "# Part 3\n",
    "# -----\n",
    "print('Since the electron is moved in the opposite direction of the force, its potential energy increases.')\n",
    "\n",
    "# Part 4\n",
    "# ------\n",
    "q = -1.602E-19\n",
    "Ex = 5.0E9\n",
    "dx = 2.0E-3\n",
    "\n",
    "du = -q*Ex*dx\n",
    "\n",
    "print('The change in potential energy is '+str(du)+' J.')"
   ]
  },
  {
   "cell_type": "markdown",
   "metadata": {},
   "source": [
    "<hr style=\"height:2px;border-width:0;color:gray;background-color:gray\">"
   ]
  },
  {
   "cell_type": "markdown",
   "metadata": {},
   "source": [
    "<div class=\"alert alert-warning\">\n",
    "<b>Box 2</b>\n",
    "    <br>\n",
    "    \n",
    "Consider a proton and an electron separated by a distance of $1.0\\times 10^{-3}$ m. \n",
    "    \n",
    "1. How much work is done by the electric force if the proton and electron separation distance is changed to $1.0\\times 10^{-6}$ m? \n",
    "2. Does the potential energy of the proton-electron system increase or decrease and by how much? Explain.\n",
    "    \n",
    "</div>"
   ]
  },
  {
   "cell_type": "code",
   "execution_count": 2,
   "metadata": {
    "tags": [
     "hide-input",
     "hide-output"
    ]
   },
   "outputs": [
    {
     "name": "stdout",
     "output_type": "stream",
     "text": [
      "Work done by electric force is 2.30488999880400e+16 J.\n",
      "Since change in potential energy is the negative of work, the potential energy will decrease\n",
      "The change in potential energy is -2.30488999880400e+16 J.\n"
     ]
    }
   ],
   "source": [
    "%reset -f\n",
    "\n",
    "import sympy as sym\n",
    "\n",
    "q1 = 1.602E-19\n",
    "q2 = -1.602E19\n",
    "k = 8.99E9\n",
    "\n",
    "#let the proton be fixed in space and move the electron\n",
    "r1 = 1.0E-3\n",
    "r2 = 1.0E-6\n",
    "\n",
    "r = sym.Symbol('r')\n",
    "\n",
    "fr = k*q1*q2/r**2  #polar coordinates...let proton be at origin\n",
    "\n",
    "# work\n",
    "w = sym.integrate(fr,(r,r1,r2))\n",
    "\n",
    "print('Work done by electric force is '+str(w)+' J.')\n",
    "\n",
    "print('Since change in potential energy is the negative of work, the potential energy will decrease')\n",
    "\n",
    "du = -w\n",
    "print('The change in potential energy is '+str(du)+' J.')"
   ]
  },
  {
   "cell_type": "markdown",
   "metadata": {},
   "source": [
    "<hr style=\"height:2px;border-width:0;color:gray;background-color:gray\">"
   ]
  },
  {
   "cell_type": "markdown",
   "metadata": {},
   "source": [
    "<div class=\"alert alert-warning\">\n",
    "<b>Box 3</b>\n",
    "    <br>\n",
    "\n",
    "We may recall that the value of potential energy at a given location has no meaning as we are free to assing it a value, instead it is the change in potential energy that is meaningful. Nonetheless, it is often used as a standard to assign a potential energy of 0 J at a point at infinity (no interaction). Using that reference, what would the potential energy of a $-2.0~\\mu$C point charge be if it was $0.50$ m from a $+5.0~\\mu$C point charge?   \n",
    "</div>"
   ]
  },
  {
   "cell_type": "code",
   "execution_count": 3,
   "metadata": {
    "tags": [
     "hide-input",
     "hide-output"
    ]
   },
   "outputs": [
    {
     "name": "stdout",
     "output_type": "stream",
     "text": [
      "Potential energy of electron at the given location is -0.179800000000000 J.\n"
     ]
    }
   ],
   "source": [
    "%reset -f\n",
    "\n",
    "import sympy as sym\n",
    "\n",
    "q1 = 5.0E-6\n",
    "q2 = -2.0E-6\n",
    "k = 8.99E9\n",
    "u1 = 0.0\n",
    "\n",
    "#let the proton be fixed in space and move the electron\n",
    "r1 = float('inf')\n",
    "r2 = 0.50\n",
    "\n",
    "r = sym.Symbol('r')\n",
    "\n",
    "fr = k*q1*q2/r**2  #polar coordinates...let proton be at origin\n",
    "\n",
    "# work\n",
    "w = sym.integrate(fr,(r,r1,r2))\n",
    "\n",
    "u2 = u1 - w\n",
    "\n",
    "print('Potential energy of electron at the given location is '+str(u2)+' J.')"
   ]
  },
  {
   "cell_type": "markdown",
   "metadata": {},
   "source": [
    "<hr style=\"height:2px;border-width:0;color:gray;background-color:gray\">"
   ]
  },
  {
   "cell_type": "markdown",
   "metadata": {},
   "source": [
    "## D2.2.4 Moment of Reflection\n",
    "\n",
    "We have now seen that the way we find the electric potential energy is the same way as we found the gravitational potential energy in *University Physics I*. However, there is a slight difference with the electric potential energy as compared to the gravitational potential energy: the direction of which it increases/decreases will depend on the sign of the charge. Since mass is always a positive quantity, we might have been accustomed to think that the potential energy always increases as we move away from the source (or against the field). That way of thinking will get us into trouble here. \n",
    "\n",
    "<div class=\"alert alert-danger\">\n",
    "    \n",
    "The sign of the change in potential energy depends on the sign of the charge being displaced:<br>\n",
    "  \n",
    "* A positive charge will decrease its potential energy when it moves in its <b>natural</b> direction, that is, in the <b>same direction</b> as the field.\n",
    "* A negative charge will decrease its potential energy when it moves in its <b>natural</b> direction, that is, in the <b>opposite direction</b> of the field.\n",
    "    </div>\n",
    "    \n",
    "<hr style=\"height:2px;border-width:0;color:gray;background-color:gray\">"
   ]
  },
  {
   "cell_type": "markdown",
   "metadata": {},
   "source": [
    "## D2.2.5 Electric Potential\n",
    "While the electric potential energy is a measure of the interaction over distance between two objects, the **potential** is field specific and is not associated with an interaction. This is a new concept to many of you, although there is an equivalent definition for the gravitation field (just not used very often in *University Physics I*). We define the **change in electric potential** $v$ as\n",
    "\n",
    "<div class=\"alert alert-success\">\n",
    "    \n",
    "$$ \\Delta v = \\frac{\\Delta u}{q} \\tag{5}$$\n",
    "</div>\n",
    "\n",
    "or in differential form\n",
    "\n",
    "<div class=\"alert alert-success\">\n",
    "    \n",
    "$$ dv = \\frac{du}{q} \\tag{6}$$\n",
    "</div>\n",
    "\n",
    "If we, for example, use Equations (4) and (5), it becomes more obvious that the electric potential is associated with the field and not the interaction:\n",
    "   \n",
    "$$ \\Delta v = -E_x\\Delta x$$\n",
    "\n",
    "<hr style=\"height:2px;border-width:0;color:gray;background-color:gray\">"
   ]
  },
  {
   "cell_type": "markdown",
   "metadata": {},
   "source": [
    "<div class=\"alert alert-warning\">\n",
    "<b>Box 4</b>\n",
    "    <br>\n",
    "    \n",
    "If there exists an electric potential difference of $1.0\\times 10^3$ J/C across the plates of a plate capacitor with a plate separation of $0.1\\times 10^{-3}$ mm, what is magnitude of the electric field between the plates?\n",
    "    \n",
    "</div>"
   ]
  },
  {
   "cell_type": "code",
   "execution_count": 4,
   "metadata": {
    "tags": [
     "hide-input",
     "hide-output"
    ]
   },
   "outputs": [
    {
     "name": "stdout",
     "output_type": "stream",
     "text": [
      "The electric field is -10000000000.0 V/m.\n"
     ]
    }
   ],
   "source": [
    "%reset -f\n",
    "\n",
    "dv = 1.0E3\n",
    "dx = 0.1E-6\n",
    "\n",
    "Ex = -dv/dx\n",
    "\n",
    "print('The electric field is '+str(Ex)+' V/m.')"
   ]
  },
  {
   "cell_type": "markdown",
   "metadata": {},
   "source": [
    "<hr style=\"height:2px;border-width:0;color:gray;background-color:gray\">"
   ]
  },
  {
   "cell_type": "markdown",
   "metadata": {},
   "source": [
    "<div class=\"alert alert-warning\">\n",
    "<b>Box 5</b>\n",
    "    <br>\n",
    "    \n",
    "Between the plates of a capacitor exists an uniform electric field directed from the positive plate towards the negative plate. The field strength is $5.0\\times 10^9$ N/C and the plate separation is $2.0$ mm.\n",
    "\n",
    "1. For a proton moving from the positive plate to the negative plate, what is the change in electric potential?\n",
    "2. For an electron moving from the positive plate to the negative plate, what is the change in electric potential?\n",
    "  \n",
    "</div>"
   ]
  },
  {
   "cell_type": "code",
   "execution_count": 5,
   "metadata": {
    "tags": [
     "hide-input",
     "hide-output"
    ]
   },
   "outputs": [
    {
     "name": "stdout",
     "output_type": "stream",
     "text": [
      "The change in electric potential for the proton is -10000000.0 V.\n",
      "The change in electric potential for the electron is -10000000.0 V.\n"
     ]
    }
   ],
   "source": [
    "%reset -f\n",
    "\n",
    "Ex = 5.0E9\n",
    "dx = 2.0E-3\n",
    "\n",
    "# Part 1\n",
    "# ------\n",
    "dv = -Ex*dx\n",
    "print('The change in electric potential for the proton is '+str(dv)+' V.')\n",
    "\n",
    "# Part 2\n",
    "# ------\n",
    "dv = -Ex*dx\n",
    "print('The change in electric potential for the electron is '+str(dv)+' V.')"
   ]
  },
  {
   "cell_type": "markdown",
   "metadata": {},
   "source": [
    "<hr style=\"height:2px;border-width:0;color:gray;background-color:gray\">"
   ]
  },
  {
   "cell_type": "markdown",
   "metadata": {},
   "source": [
    "Notice how in Box 5, the change in electric potential was the same for both the positive and the negative charge, while the change in electric potential energy would have opposite signs. \n",
    "\n",
    "<hr style=\"height:2px;border-width:0;color:gray;background-color:gray\">"
   ]
  },
  {
   "cell_type": "markdown",
   "metadata": {},
   "source": [
    "<div class=\"alert alert-warning\">\n",
    "<b>Box 6</b>\n",
    "    <br>\n",
    "    \n",
    "Between the plates of a capacitor exists an uniform electric field directed from the positive plate towards the negative plate. The field strength is $5.0\\times 10^9$ N/C and the plate separation is $2.0$ mm. What is the electric potential difference between the two plates as measured with respect to the positive plate?\n",
    "    \n",
    "</div>"
   ]
  },
  {
   "cell_type": "code",
   "execution_count": 6,
   "metadata": {
    "tags": [
     "hide-input",
     "hide-output"
    ]
   },
   "outputs": [
    {
     "name": "stdout",
     "output_type": "stream",
     "text": [
      "Potential difference relative to positive plate is -10000000.0 V.\n"
     ]
    }
   ],
   "source": [
    "%reset -f\n",
    "\n",
    "Ex = 5.0E9\n",
    "dx = 2.0E-3\n",
    "\n",
    "dv = -Ex*dx\n",
    "\n",
    "print('Potential difference relative to positive plate is '+str(dv)+' V.')"
   ]
  },
  {
   "cell_type": "markdown",
   "metadata": {},
   "source": [
    "<hr style=\"height:2px;border-width:0;color:gray;background-color:gray\">"
   ]
  },
  {
   "cell_type": "markdown",
   "metadata": {},
   "source": [
    "The last Box problem may have seem a little useless, however, its sole purpose (and a very important one) is to point out that the electric potential difference is a feature assigned to the field and **not** associated with an interaction!\n",
    "\n",
    "<hr style=\"height:2px\">\n",
    "\n",
    "## D2.2.6 Voltage and Electron Volt\n",
    "<div class=\"alert alert-success\">\n",
    "The electric potential difference has a different, and more commonly used, name: <b>voltage</b>\n",
    "    </div>\n",
    "    \n",
    "The electric potential $V$ itself is not voltage, it is the electric potential **difference** that is termed voltage.\n",
    "\n",
    "With that new name, we introduce a new unit for the electric potential difference: Volts (V). Unfortunately, we are now using the same symbol for both the variable and the unit, so we have to be careful and make sure we understand when it is one or the other.\n",
    "\n",
    "The unit of volts relates as follows:\n",
    "\n",
    "$$ V = J/C $$\n",
    "\n",
    "Another often used unit is the **electronvolt** (eV), which is a new unit of energy. It is defined as the kinetic energy gained by an electron being accelerated across an electric potential of $1$ V.\n",
    "<hr style=\"height:2px;border-width:0;color:gray;background-color:gray\">"
   ]
  },
  {
   "cell_type": "markdown",
   "metadata": {},
   "source": [
    "<div class=\"alert alert-warning\">\n",
    "<b>Box 7</b>\n",
    "    <br>\n",
    "    \n",
    "Use $\\Delta U = q\\Delta V$ to find the value of $1$ eV expressed in Joules.\n",
    "    \n",
    "</div>"
   ]
  },
  {
   "cell_type": "code",
   "execution_count": 7,
   "metadata": {
    "tags": [
     "hide-input",
     "hide-output"
    ]
   },
   "outputs": [
    {
     "name": "stdout",
     "output_type": "stream",
     "text": [
      "1 ev is 1.602e-19 J.\n"
     ]
    }
   ],
   "source": [
    "%reset -f\n",
    "q = -1.602E-19\n",
    "dv = 1.0 \n",
    "\n",
    "# qdv = du = - w = -dk\n",
    "\n",
    "dk = -q*dv\n",
    "print('1 ev is '+str(dk)+' J.')"
   ]
  },
  {
   "cell_type": "markdown",
   "metadata": {},
   "source": [
    "<hr style=\"height:2px;border-width:0;color:gray;background-color:gray\">"
   ]
  }
 ],
 "metadata": {
  "celltoolbar": "Tags",
  "kernelspec": {
   "display_name": "Python 3 (ipykernel)",
   "language": "python",
   "name": "python3"
  },
  "language_info": {
   "codemirror_mode": {
    "name": "ipython",
    "version": 3
   },
   "file_extension": ".py",
   "mimetype": "text/x-python",
   "name": "python",
   "nbconvert_exporter": "python",
   "pygments_lexer": "ipython3",
   "version": "3.9.12"
  }
 },
 "nbformat": 4,
 "nbformat_minor": 4
}