{
 "cells": [
  {
   "cell_type": "markdown",
   "metadata": {},
   "source": [
    "# D2.1 Work\n",
    "<hr style=\"height:2px;border-width:0;color:gray;background-color:gray\">"
   ]
  },
  {
   "cell_type": "markdown",
   "metadata": {},
   "source": [
    "## D2.1.1 Review of Mechanical Work \n",
    "\n",
    "In *University Physics I*, we learned that **mechanical work** (or energy transfer) done by a force acting on a particle **through** some displacement was\n",
    "\n",
    "$$ w = \\int_{r_1}^{r_2}\\vec{f}\\cdot d\\vec{r} $$\n",
    "\n",
    "We could express the work in terms of the vector **magnitudes** and relative orientation\n",
    "\n",
    "$$ w = \\int_{r_1}^{r_2}f\\cos\\theta dr $$\n",
    "\n",
    "or in component form\n",
    "\n",
    "$$ w = \\int_{x_1}^{x_2}f_{x}dx + \\int_{y_1}^{y_2}f_{y}dy + \\int_{z_1}^{z_2}f_{z}dz  $$\n",
    "\n",
    "### Conservative Force\n",
    "\n",
    "If the particle is moved along a closed path and the net work done by a specific force is zero, that specific force is said to be **conservative**.\n",
    "\n",
    "<hr style=\"height:2px;border-width:0;color:gray;background-color:gray\">"
   ]
  },
  {
   "cell_type": "markdown",
   "metadata": {},
   "source": [
    "## D2.1.2 Work by Electric Force\n",
    "\n",
    "Electric work discussed here is a case of mechanical work due to the electrostatic force\n",
    "\n",
    "$$ \\vec{f}_E = q\\vec{E} $$\n",
    "\n",
    "Inserting the force into the definition of mechanical work, we have\n",
    "\n",
    "<div class=\"alert alert-success\">\n",
    "    \n",
    "$$ w = \\int_{r_1}^{r_2}q\\vec{E}\\cdot d\\vec{r} $$\n",
    "</div>\n",
    "    \n",
    "<hr style=\"height:2px;border-width:0;color:gray;background-color:gray\">"
   ]
  },
  {
   "cell_type": "markdown",
   "metadata": {},
   "source": [
    "<div class=\"alert alert-warning\">\n",
    "    <b> Box 1 </b><br>\n",
    "    \n",
    "Between the plates of a parallel plate capacitor exists a *uniform* $E$-field with a strength of $5.00\\times 10^9$ N/C directed from the positive plate to negative plate. The spacing (gab) between the plates is $2.00$ mm. \n",
    "    \n",
    "1. How much work is done by the electric force in moving a proton from the positive plate to the negative plate across the gab?\n",
    "2. How much work is done by the electric force in moving an electron from the positive plate to the negative plate across the gab?\n",
    "\n",
    "</div>\n"
   ]
  },
  {
   "cell_type": "code",
   "execution_count": 1,
   "metadata": {
    "tags": [
     "hide-input",
     "hide-output"
    ]
   },
   "outputs": [
    {
     "name": "stdout",
     "output_type": "stream",
     "text": [
      "The work done is: 1.602e-11 J\n",
      "The work done is: -1.602e-11 J\n"
     ]
    }
   ],
   "source": [
    "%reset -f\n",
    "Ex = 5.00E9\n",
    "x1 = 0.0\n",
    "x2 = 2.00E-2\n",
    "dx = x2 - x1\n",
    "\n",
    "# Part 1\n",
    "q1 = 1.602E-19\n",
    "w1 = q1*Ex*dx\n",
    "print('The work done is: '+str(w1)+' J')\n",
    "\n",
    "# Part 2\n",
    "q2 = -1.602E-19\n",
    "w2 = q2*Ex*dx\n",
    "print('The work done is: '+str(w2)+' J')"
   ]
  },
  {
   "cell_type": "markdown",
   "metadata": {},
   "source": [
    "<hr style=\"height:2px;border-width:0;color:gray;background-color:gray\">"
   ]
  },
  {
   "cell_type": "markdown",
   "metadata": {},
   "source": [
    "<div class=\"alert alert-warning\">\n",
    "    <b> Box 2 </b><br>\n",
    "    \n",
    "An electric field is given by $E_x = 1.5x\\times 10^9$ N/C. An electron is moved from $x_1 = 2.5\\times 10^{-3}$ m to $x_1 = 4.5\\times 10^{-3}$ m. What is the electric work done on the electron?\n",
    "\n",
    "</div>"
   ]
  },
  {
   "cell_type": "code",
   "execution_count": 2,
   "metadata": {},
   "outputs": [
    {
     "name": "stdout",
     "output_type": "stream",
     "text": [
      "The work done by the electric force is: -1.68210000000000e-15 J\n"
     ]
    }
   ],
   "source": [
    "%reset -f\n",
    "import sympy as sym\n",
    "\n",
    "x = sym.Symbol('x')\n",
    "\n",
    "Ex = 1.5*x*1E9\n",
    "q = -1.602E-19\n",
    "fE = q*Ex\n",
    "x1 = 2.5E-3\n",
    "x2 = 4.5E-3\n",
    "\n",
    "w = sym.integrate(fE,(x,x1,x2))\n",
    "print('The work done by the electric force is: '+str(w)+' J')"
   ]
  },
  {
   "cell_type": "markdown",
   "metadata": {},
   "source": [
    "<hr style=\"height:2px;border-width:0;color:gray;background-color:gray\">"
   ]
  },
  {
   "cell_type": "markdown",
   "metadata": {},
   "source": [
    "<div class=\"alert alert-warning\">\n",
    "    <b> Box 3 </b><br>\n",
    "    \n",
    "A proton is immersed in a constant $E$-field given by $\\vec{E} = [(2.5\\times 10^{12})\\hat{i} + (5.0\\times 10^{12})\\hat{j}]$ N/C. The proton is initially situated at $(x,y) = (0,0)$ m. How much work is done by the electric force in moving the proton from (straight line segments only) \n",
    "    \n",
    "1. the origin to $(x,y) = (2.00,0)$ m?\n",
    "2. $(x,y) = (2.00,0)$ m to $(x,y) = (2.00,2.00)$?\n",
    "3. $(x,y) = (2.00,2.00)$ m to $(x,y) = (0,2.00)$?\n",
    "4. $(x,y) = (0,2.00)$ m back to the origin?\n",
    "5. Is the electric force conservative?\n",
    "\n",
    "</div>"
   ]
  },
  {
   "cell_type": "code",
   "execution_count": 3,
   "metadata": {
    "tags": [
     "hide-input",
     "hide-output"
    ]
   },
   "outputs": [
    {
     "name": "stdout",
     "output_type": "stream",
     "text": [
      "The work done is: 8.01e-07 J\n",
      "The work done is: 1.602e-06 J\n",
      "The work done is: -8.01e-07 J\n",
      "The work done is: -1.602e-06 J\n",
      "Force is conservative\n"
     ]
    }
   ],
   "source": [
    "%reset -f\n",
    "import numpy as np\n",
    "\n",
    "#define function to calculate dot product between two 2D vectors\n",
    "def dot(a,b):\n",
    "    \n",
    "    dot_product = a[0]*b[0] + a[1]*b[1]    \n",
    "    \n",
    "    return dot_product\n",
    "\n",
    "E = np.array([2.5E12, 5.0E12])\n",
    "q = 1.602E-19\n",
    "fE = q*E\n",
    "\n",
    "r1 = np.array([0.0, 0.0])\n",
    "r2 = np.array([2.00,0.0])\n",
    "r3 = np.array([2.00,2.00])\n",
    "r4 = np.array([0,2.00])\n",
    "\n",
    "# Part 1\n",
    "d1 = r2 - r1 #displacement vector\n",
    "w1 = dot(fE,d1)\n",
    "print('The work done is: '+str(w1)+' J')\n",
    "\n",
    "# Part 2\n",
    "d2 = r3 - r2 #displacement vector\n",
    "w2 = dot(fE,d2)\n",
    "print('The work done is: '+str(w2)+' J')\n",
    "\n",
    "# Part 3\n",
    "d3 = r4 - r3 #displacement vector\n",
    "w3 = dot(fE,d3)\n",
    "print('The work done is: '+str(w3)+' J')\n",
    "\n",
    "# Part 4\n",
    "d4 = r1 - r4 #displacement vector\n",
    "w4 = dot(fE,d4)\n",
    "print('The work done is: '+str(w4)+' J')\n",
    "\n",
    "# Part 5\n",
    "w_net = w1 + w2 + w3 + w4\n",
    "if w_net == 0.0:\n",
    "    print('Force is conservative')\n",
    "else:\n",
    "    print('Force is non-conservative')"
   ]
  },
  {
   "cell_type": "markdown",
   "metadata": {},
   "source": [
    "<hr style=\"height:2px;border-width:0;color:gray;background-color:gray\">"
   ]
  }
 ],
 "metadata": {
  "celltoolbar": "Tags",
  "kernelspec": {
   "display_name": "Python 3 (ipykernel)",
   "language": "python",
   "name": "python3"
  },
  "language_info": {
   "codemirror_mode": {
    "name": "ipython",
    "version": 3
   },
   "file_extension": ".py",
   "mimetype": "text/x-python",
   "name": "python",
   "nbconvert_exporter": "python",
   "pygments_lexer": "ipython3",
   "version": "3.9.12"
  }
 },
 "nbformat": 4,
 "nbformat_minor": 2
}