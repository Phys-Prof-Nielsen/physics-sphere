{
 "cells": [
  {
   "cell_type": "markdown",
   "metadata": {},
   "source": [
    "# D2.3 Problems\n",
    "<hr style=\"height:2px;border-width:0;color:gray;background-color:gray\">"
   ]
  },
  {
   "cell_type": "markdown",
   "metadata": {},
   "source": [
    "<h2>Problem D2.1</h2>\n",
    "    </header>\n",
    "\n",
    "Consider a charge $q_1 = +5.0~\\mu$C fixed at a site with another charge $q_2 = +3.0~\\mu$C, mass of $6.0~\\mu$g, moving in the neighboring space.\n",
    "\n",
    "1. Evaluate the potential energy of $q_2$ when it is 4.0 cm from $q_1$.\n",
    "2. If $q_2$ starts from rest from a point 4.0 cm from $q_1$, what will be its speed when it is 8.0 cm from $q_1$ assuming $q_1$ is fixed in its place.?\n",
    " \n",
    "[This problem is a slightly modified version from OpenStax. Access for free here](https://openstax.org/books/university-physics-volume-2/pages/7-problems)"
   ]
  },
  {
   "cell_type": "markdown",
   "metadata": {},
   "source": [
    "<hr style=\"height:2px;border-width:0;color:gray;background-color:gray\">"
   ]
  },
  {
   "cell_type": "markdown",
   "metadata": {},
   "source": [
    "<h2>Problem D2.2</h2>\n",
    "    </header>\n",
    "\n",
    "An evacuated tube uses an accelerating voltage of $40.0$ kV to accelerate electrons to hit a copper plate and produce X-rays. Non-relativistically, what would be the maximum speed of these electrons?\n",
    "\n",
    "[This problem is a slightly modified version from OpenStax. Access for free here](https://openstax.org/books/university-physics-volume-2/pages/7-problems)"
   ]
  },
  {
   "cell_type": "markdown",
   "metadata": {},
   "source": [
    "<hr style=\"height:2px;border-width:0;color:gray;background-color:gray\">"
   ]
  },
  {
   "cell_type": "markdown",
   "metadata": {},
   "source": [
    "<h2>Problem D2.3</h2>\n",
    "    </header>\n",
    "\n",
    "What is the strength of the electric field between two parallel conducting plates separated by $1.00$ cm and having a potential difference (voltage) between them of $1.50\\times 10^4$ V?\n",
    "\n",
    "[This problem is a slightly modified version from OpenStax. Access for free here](https://openstax.org/books/university-physics-volume-2/pages/7-problems)"
   ]
  },
  {
   "cell_type": "markdown",
   "metadata": {},
   "source": [
    "<hr style=\"height:2px;border-width:0;color:gray;background-color:gray\">"
   ]
  },
  {
   "cell_type": "markdown",
   "metadata": {},
   "source": [
    "<h2>Problem D2.4</h2>\n",
    "    </header>\n",
    "\n",
    "Two parallel conducting plates are separated by $10.0$ cm, and one of them is taken to be at zero volts. (a) What is the electric field strength between them, if the potential $8.00$ cm from the zero volt plate (and $2.00$ cm from the other) is $450$ V? (b) What is the voltage between the plates?\n",
    "\n",
    "\n",
    "[This problem is a slightly modified version from OpenStax. Access for free here](https://openstax.org/books/university-physics-volume-2/pages/7-problems)"
   ]
  },
  {
   "cell_type": "markdown",
   "metadata": {},
   "source": [
    "<hr style=\"height:2px;border-width:0;color:gray;background-color:gray\">"
   ]
  },
  {
   "cell_type": "markdown",
   "metadata": {},
   "source": [
    "<h2>Problem D2.5</h2>\n",
    "    </header>\n",
    "    \n",
    "1. How far from a $1.00~\\mu$C point charge is the potential $100.0$ V? \n",
    "2. At what distance is it $2.00\\times 10^2$ V?\n",
    "\n",
    "[This problem is a slightly modified version from OpenStax. Access for free here](https://openstax.org/books/university-physics-volume-2/pages/7-problems)"
   ]
  },
  {
   "cell_type": "markdown",
   "metadata": {},
   "source": [
    "<hr style=\"height:2px;border-width:0;color:gray;background-color:gray\">"
   ]
  },
  {
   "cell_type": "markdown",
   "metadata": {},
   "source": [
    "<h2>Problem D2.6</h2>\n",
    "    </header>\n",
    "\n",
    "Find the potential at points $P_1$, $P_2$, $P_3$, and $P_4$ in the diagram due to the two given charges.\n",
    "  \n",
    "<img src=\"P-D2.6.png\"  width=\"400\"/>\n",
    "\n",
    "[This problem is a slightly modified version from OpenStax. Access for free here](https://openstax.org/books/university-physics-volume-2/pages/7-problems)"
   ]
  },
  {
   "cell_type": "markdown",
   "metadata": {},
   "source": [
    "<hr style=\"height:2px;border-width:0;color:gray;background-color:gray\">"
   ]
  },
  {
   "cell_type": "markdown",
   "metadata": {},
   "source": [
    "<h2>Problem D2.7</h2>\n",
    "    </header>\n",
    "\n",
    "An electron enters a region between two large parallel plates made of aluminum separated by a distance of $2.0$ cm and kept at a potential difference of $200.0$ V. The electron enters through a small hole in the negative plate and moves toward the positive plate. At the time the electron is near the negative plate, its speed is  $4.0\\times10^5$ m/s. Assume the electric field between the plates to be uniform, and find the speed of electron at (from the negative plate)\n",
    "\n",
    "1. 0.10 cm\n",
    "2. 0.50 cm\n",
    "3. 1.0 cm\n",
    "4. 1.5 cm \n",
    "5. immediately before it hits the positive plate.\n",
    "  \n",
    "<img src=\"P-D2.7.png\"  width=\"200\"/>\n",
    "\n",
    "[This problem is a slightly modified version from OpenStax. Access for free here](https://openstax.org/books/university-physics-volume-2/pages/7-problems)"
   ]
  },
  {
   "cell_type": "markdown",
   "metadata": {},
   "source": [
    "<hr style=\"height:2px;border-width:0;color:gray;background-color:gray\">"
   ]
  },
  {
   "cell_type": "markdown",
   "metadata": {},
   "source": [
    "<h2>Problem D2.8</h2>\n",
    "    </header>\n",
    "\n",
    "A lightning bolt strikes a tree, moving $20.0$ C of charge through a potential difference of $1.00\\times 10^2$ MV.\n",
    "\n",
    "1. What energy was dissipated?\n",
    "2. What mass of water could be raised from $15~^\\circ$C to the boiling point and then boiled by this energy? \n",
    "3. Discuss the damage that could be caused to the tree by the expansion of the boiling steam.\n",
    "\n",
    "[This problem is a slightly modified version from OpenStax. Access for free here](https://openstax.org/books/university-physics-volume-2/pages/7-problems)"
   ]
  },
  {
   "cell_type": "markdown",
   "metadata": {},
   "source": [
    "<hr style=\"height:2px;border-width:0;color:gray;background-color:gray\">"
   ]
  },
  {
   "cell_type": "markdown",
   "metadata": {},
   "source": [
    "<h2>Problem D2.9</h2>\n",
    "    </header>\n",
    "\n",
    "What are the sign and magnitude of a point charge that produces a potential of –2.00 V at a distance of 1.00 mm?\n",
    "\n",
    "[This problem is a slightly modified version from OpenStax. Access for free here](https://openstax.org/books/university-physics-volume-2/pages/7-problems)"
   ]
  },
  {
   "cell_type": "markdown",
   "metadata": {},
   "source": [
    "<hr style=\"height:2px;border-width:0;color:gray;background-color:gray\">"
   ]
  },
  {
   "cell_type": "markdown",
   "metadata": {},
   "source": [
    "<h2>Problem D2.10</h2>\n",
    "    </header>\n",
    "\n",
    "What are the sign and magnitude of a point charge that produces a potential of –2.00 V at a distance of 1.00 mm?\n",
    "\n",
    "[This problem is a slightly modified version from OpenStax. Access for free here](https://openstax.org/books/university-physics-volume-2/pages/7-problems)"
   ]
  },
  {
   "cell_type": "markdown",
   "metadata": {},
   "source": [
    "<hr style=\"height:2px;border-width:0;color:gray;background-color:gray\">"
   ]
  }
 ],
 "metadata": {
  "celltoolbar": "Tags",
  "kernelspec": {
   "display_name": "Python 3 (ipykernel)",
   "language": "python",
   "name": "python3"
  },
  "language_info": {
   "codemirror_mode": {
    "name": "ipython",
    "version": 3
   },
   "file_extension": ".py",
   "mimetype": "text/x-python",
   "name": "python",
   "nbconvert_exporter": "python",
   "pygments_lexer": "ipython3",
   "version": "3.9.12"
  }
 },
 "nbformat": 4,
 "nbformat_minor": 4
}