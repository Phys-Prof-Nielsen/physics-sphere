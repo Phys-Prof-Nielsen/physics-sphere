{
 "cells": [
  {
   "cell_type": "markdown",
   "metadata": {},
   "source": [
    "# D3.2 Problems\n",
    "<hr style=\"height:2px;border-width:0;color:gray;background-color:gray\">"
   ]
  },
  {
   "cell_type": "markdown",
   "metadata": {},
   "source": [
    "<h2>Problem D3.1</h2>\n",
    "    </header>\n",
    "\n",
    "Calculate the voltage applied to a $2.00~\\mu$F capacitor when it holds $3.10~\\mu$C of charge.\n",
    " \n",
    "[This problem is a slightly modified version from OpenStax. Access for free here](https://openstax.org/books/university-physics-volume-2/pages/8-problems)"
   ]
  },
  {
   "cell_type": "code",
   "execution_count": 1,
   "metadata": {
    "tags": [
     "hide-input",
     "hide-output"
    ]
   },
   "outputs": [
    {
     "name": "stdout",
     "output_type": "stream",
     "text": [
      "The voltage applied is 1.55 V.\n"
     ]
    }
   ],
   "source": [
    "%reset -f\n",
    "\n",
    "C = 2.00E-6\n",
    "Q = 3.10E-6\n",
    "\n",
    "V = Q/C\n",
    "\n",
    "print('The voltage applied is '+str(V)+' V.')"
   ]
  },
  {
   "cell_type": "markdown",
   "metadata": {},
   "source": [
    "<hr style=\"height:2px;border-width:0;color:gray;background-color:gray\">"
   ]
  },
  {
   "cell_type": "markdown",
   "metadata": {},
   "source": [
    "<h2>Problem D3.2</h2>\n",
    "    </header>\n",
    "\n",
    "What capacitance is needed to store $3.00~\\mu$C of charge at a voltage of 120 V?\n",
    "\n",
    "[This problem is a slightly modified version from OpenStax. Access for free here](https://openstax.org/books/university-physics-volume-2/pages/8-problems)"
   ]
  },
  {
   "cell_type": "code",
   "execution_count": 2,
   "metadata": {
    "tags": [
     "hide-input",
     "hide-output"
    ]
   },
   "outputs": [
    {
     "name": "stdout",
     "output_type": "stream",
     "text": [
      "Capacitance needed is 2.5000000000000002e-08 F.\n"
     ]
    }
   ],
   "source": [
    "%reset -f\n",
    "\n",
    "Q = 3.00E-6\n",
    "V = 120\n",
    "\n",
    "C = Q/V\n",
    "\n",
    "print('Capacitance needed is '+str(C)+' F.')"
   ]
  },
  {
   "cell_type": "markdown",
   "metadata": {},
   "source": [
    "<hr style=\"height:2px;border-width:0;color:gray;background-color:gray\">"
   ]
  },
  {
   "cell_type": "markdown",
   "metadata": {},
   "source": [
    "<h2>Problem D3.3</h2>\n",
    "    </header>\n",
    "\n",
    "How much energy is stored in an $8.00~\\mu$F capacitor whose plates are at a potential difference of 6.00 V?\n",
    "\n",
    "[This problem is a slightly modified version from OpenStax. Access for free here](https://openstax.org/books/university-physics-volume-2/pages/8-problems)"
   ]
  },
  {
   "cell_type": "code",
   "execution_count": 3,
   "metadata": {
    "tags": [
     "hide-input",
     "hide-output"
    ]
   },
   "outputs": [
    {
     "name": "stdout",
     "output_type": "stream",
     "text": [
      "Potential energy stored in capacitor is 0.000144 J.\n"
     ]
    }
   ],
   "source": [
    "%reset -f\n",
    "\n",
    "C = 8.00E-6\n",
    "V = 6.00\n",
    "\n",
    "# U = 0.5*Q^2/(2C) = 0.5*C*V^2\n",
    "U = 0.5*C*V**2\n",
    "\n",
    "print('Potential energy stored in capacitor is '+str(U)+' J.')"
   ]
  },
  {
   "cell_type": "markdown",
   "metadata": {},
   "source": [
    "<hr style=\"height:2px;border-width:0;color:gray;background-color:gray\">"
   ]
  },
  {
   "cell_type": "markdown",
   "metadata": {},
   "source": [
    "<h2>Problem D3.4</h2>\n",
    "    </header>\n",
    "\n",
    "A capacitor has a charge of $2.5~\\mu$C when connected to a 6.0 V battery. How much energy is stored in this capacitor?\n",
    "\n",
    "\n",
    "[This problem is a slightly modified version from OpenStax. Access for free here](https://openstax.org/books/university-physics-volume-2/pages/8-problems)"
   ]
  },
  {
   "cell_type": "code",
   "execution_count": 4,
   "metadata": {
    "tags": [
     "hide-input",
     "hide-output"
    ]
   },
   "outputs": [
    {
     "name": "stdout",
     "output_type": "stream",
     "text": [
      "Potential energy stored in capacitor is 7.500000000000001e-06 J.\n"
     ]
    }
   ],
   "source": [
    "%reset -f\n",
    "\n",
    "Q = 2.5E-6\n",
    "V = 6.00\n",
    "\n",
    "# U = 0.5*Q^2/(2C) = 0.5*C*V^2 = 0.5*Q*V\n",
    "U = 0.5*Q*V\n",
    "\n",
    "print('Potential energy stored in capacitor is '+str(U)+' J.')"
   ]
  },
  {
   "cell_type": "markdown",
   "metadata": {},
   "source": [
    "<hr style=\"height:2px;border-width:0;color:gray;background-color:gray\">"
   ]
  },
  {
   "cell_type": "markdown",
   "metadata": {},
   "source": [
    "<h2>Problem D3.5</h2>\n",
    "    </header>\n",
    "    \n",
    "In open-heart surgery, a much smaller amount of energy will defibrillate the heart. \n",
    "\n",
    "1. What voltage is applied to the $8.00~\\mu$F capacitor of a heart defibrillator that stores 40.0 J of energy\n",
    "2. Find the amount of the stored charge.\n",
    "\n",
    "[This problem is a slightly modified version from OpenStax. Access for free here](https://openstax.org/books/university-physics-volume-2/pages/8-problems)"
   ]
  },
  {
   "cell_type": "code",
   "execution_count": 5,
   "metadata": {
    "tags": [
     "hide-input",
     "hide-output"
    ]
   },
   "outputs": [
    {
     "name": "stdout",
     "output_type": "stream",
     "text": [
      "Voltage applied to capacitor is 10.0000000000000 V.\n"
     ]
    }
   ],
   "source": [
    "%reset -f\n",
    "\n",
    "import sympy as sym\n",
    "\n",
    "C = 8.00\n",
    "U = 40.0\n",
    "\n",
    "# U = 0.5*C*V^2 \n",
    "V = sym.Symbol('V')\n",
    "eq = U - 0.5*C*V\n",
    "sol = sym.solve(eq,V)\n",
    "\n",
    "print('Voltage applied to capacitor is '+str(sol[0])+' V.')"
   ]
  },
  {
   "cell_type": "markdown",
   "metadata": {},
   "source": [
    "<hr style=\"height:2px;border-width:0;color:gray;background-color:gray\">"
   ]
  },
  {
   "cell_type": "markdown",
   "metadata": {},
   "source": [
    "<h2>Problem D3.6</h2>\n",
    "    </header>\n",
    "\n",
    "An anxious physicist worries that the two metal shelves of a wood frame bookcase might obtain a high voltage if charged by static electricity, perhaps produced by friction. \n",
    "\n",
    "1. What is the capacitance of the empty shelves if they have area $1.00\\times 10^2$ m$^2$ and are $0.200$ m apart? \n",
    "2. What is the voltage between them if opposite charges of magnitude $2.00$ nC are placed on them? \n",
    "3. To show that this voltage poses a small hazard, calculate the energy stored. \n",
    "4. The actual shelves have an area 100 times smaller than these hypothetical shelves with a connection to the same voltage. Are his fears justified?\n",
    "\n",
    "[This problem is a slightly modified version from OpenStax. Access for free here](https://openstax.org/books/university-physics-volume-2/pages/8-problems)"
   ]
  },
  {
   "cell_type": "markdown",
   "metadata": {},
   "source": [
    "<hr style=\"height:2px;border-width:0;color:gray;background-color:gray\">"
   ]
  },
  {
   "cell_type": "markdown",
   "metadata": {},
   "source": [
    "<h2>Problem D3.7</h2>\n",
    "    </header>\n",
    "\n",
    "A capacitor is made from two flat parallel plates placed $0.40$ mm apart. When a charge of $0.020~\\mu$C is placed on the plates the potential difference between them is $250$ V. \n",
    "\n",
    "1. What is the capacitance of the plates? \n",
    "2. What is the area of each plate? \n",
    "3. What is the charge on the plates when the potential difference between them is $500.0$ V? \n",
    "4. What maximum potential difference can be applied between the plates so that the magnitude of electrical fields between the plates does not exceed $3.0$ MV/m?\n",
    "\n",
    "[This problem is a slightly modified version from OpenStax. Access for free here](https://openstax.org/books/university-physics-volume-2/pages/8-problems)"
   ]
  },
  {
   "cell_type": "markdown",
   "metadata": {},
   "source": [
    "<hr style=\"height:2px;border-width:0;color:gray;background-color:gray\">"
   ]
  },
  {
   "cell_type": "markdown",
   "metadata": {},
   "source": [
    "<h2>Problem D3.8</h2>\n",
    "    </header>\n",
    "\n",
    "A prankster applies $450$ V to an $80.0~\\mu$F capacitor and then tosses it to an unsuspecting victim. The victim’s finger is burned by the discharge of the capacitor through $0.200$ g of flesh. Estimate, what is the temperature increase of the flesh?\n",
    "\n",
    "[This problem is a slightly modified version from OpenStax. Access for free here](https://openstax.org/books/university-physics-volume-2/pages/8-problems)"
   ]
  },
  {
   "cell_type": "markdown",
   "metadata": {},
   "source": [
    "<hr style=\"height:2px;border-width:0;color:gray;background-color:gray\">"
   ]
  },
  {
   "cell_type": "markdown",
   "metadata": {},
   "source": [
    "<h2>Problem D3.9</h2>\n",
    "    </header>\n",
    "\n",
    "Electronic flash units for cameras contain a capacitor for storing the energy used to produce the flash. In one such unit the flash lasts for $1/675$ fraction of a second with an average light power output of $270$ kW. \n",
    "\n",
    "1. If the conversion of electrical energy to light is $95\\%$ efficient (because the rest of the energy goes to thermal energy), how much energy must be stored in the capacitor for one flash? \n",
    "2. The capacitor has a potential difference between its plates of $125$ V when the stored energy equals the value stored in part (a). What is the capacitance?\n",
    "\n",
    "[This problem is a slightly modified version from OpenStax. Access for free here](https://openstax.org/books/university-physics-volume-2/pages/8-problems)"
   ]
  },
  {
   "cell_type": "markdown",
   "metadata": {},
   "source": [
    "<hr style=\"height:2px;border-width:0;color:gray;background-color:gray\">"
   ]
  }
 ],
 "metadata": {
  "celltoolbar": "Tags",
  "kernelspec": {
   "display_name": "Python 3 (ipykernel)",
   "language": "python",
   "name": "python3"
  },
  "language_info": {
   "codemirror_mode": {
    "name": "ipython",
    "version": 3
   },
   "file_extension": ".py",
   "mimetype": "text/x-python",
   "name": "python",
   "nbconvert_exporter": "python",
   "pygments_lexer": "ipython3",
   "version": "3.9.12"
  }
 },
 "nbformat": 4,
 "nbformat_minor": 4
}