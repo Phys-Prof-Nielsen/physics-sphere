{
 "cells": [
  {
   "cell_type": "markdown",
   "metadata": {},
   "source": [
    "# D4.3 Ohm's Law\n",
    "<hr style=\"height:2px;border-width:0;color:gray;background-color:gray\">"
   ]
  },
  {
   "cell_type": "markdown",
   "metadata": {},
   "source": [
    "## D4.3.1 Motivation\n",
    "\n",
    "Ohm's law is one of the most recognized laws/equations in Physics. It provides a conceptual as well as working tool to analyze and design electric circuits, so it is needless to explain its importance to science.\n",
    "\n",
    "<hr style=\"height:2px;border-width:0;color:gray;background-color:gray\">"
   ]
  },
  {
   "cell_type": "markdown",
   "metadata": {},
   "source": [
    "## D4.3.2 Ohm's Law\n",
    "\n",
    "Let us take the relationship defining the resistivity from previous note:\n",
    "    \n",
    "$$ \\vec{E} = \\rho\\vec{J} $$\n",
    "\n",
    "While the above can be defined at a single point, we can express the average field and average current density over small distance in a conducting (wire) segment:\n",
    "\n",
    "$$ \\frac{\\Delta V}{\\Delta x} = \\rho\\frac{I}{A} $$ \n",
    "\n",
    "Solving for the voltage, we have\n",
    "\n",
    "$$ \\Delta V = \\frac{\\rho\\Delta x}{A}I $$\n",
    "\n",
    "We define the **resistance** as\n",
    "\n",
    "$$ R = \\frac{\\rho\\Delta x}{A} $$\n",
    "\n",
    "and we have **Ohm's Law**\n",
    "\n",
    "<div class=\"alert alert-success\">\n",
    "    \n",
    "$$ \\Delta V = RI $$\n",
    "</div>\n",
    "\n",
    "<div class=\"alert alert-success\">\n",
    "    \n",
    "Conceptually Ohm's law states that as a current **passes through** a resistive element a voltage exists **across** the element.\n",
    "</div>\n",
    "\n",
    "Materials that responds in a linear fashion to electric fields are often called **ohmic materials**.\n",
    "\n",
    "<hr style=\"height:2px;border-width:0;color:gray;background-color:gray\">"
   ]
  },
  {
   "cell_type": "markdown",
   "metadata": {},
   "source": [
    "<div class=\"alert alert-warning\">\n",
    "<b>Box 1 </b>\n",
    "\n",
    "Using an amp-meter, we measure a current through a $500.0~\\Omega$ resistor to be $150.0$ mA. What is the potential difference across the resistor?\n",
    "               \n",
    "</div>"
   ]
  },
  {
   "cell_type": "code",
   "execution_count": 1,
   "metadata": {
    "tags": [
     "hide-input",
     "hide-output"
    ]
   },
   "outputs": [
    {
     "name": "stdout",
     "output_type": "stream",
     "text": [
      "The potential difference across the resistor is 75.0 V\n"
     ]
    }
   ],
   "source": [
    "%reset -f\n",
    "\n",
    "R = 500.0\n",
    "I = 150.0E-3\n",
    "\n",
    "dV = I*R\n",
    "\n",
    "print('The potential difference across the resistor is '+str(dV)+ ' V')"
   ]
  },
  {
   "cell_type": "markdown",
   "metadata": {},
   "source": [
    "<hr style=\"height:2px;border-width:0;color:gray;background-color:gray\">"
   ]
  }
 ],
 "metadata": {
  "celltoolbar": "Tags",
  "kernelspec": {
   "display_name": "Python 3 (ipykernel)",
   "language": "python",
   "name": "python3"
  },
  "language_info": {
   "codemirror_mode": {
    "name": "ipython",
    "version": 3
   },
   "file_extension": ".py",
   "mimetype": "text/x-python",
   "name": "python",
   "nbconvert_exporter": "python",
   "pygments_lexer": "ipython3",
   "version": "3.9.12"
  }
 },
 "nbformat": 4,
 "nbformat_minor": 2
}