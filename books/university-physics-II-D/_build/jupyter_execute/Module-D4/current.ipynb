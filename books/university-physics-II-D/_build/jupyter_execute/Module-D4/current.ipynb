{
 "cells": [
  {
   "cell_type": "markdown",
   "metadata": {},
   "source": [
    "# D4.1 Current\n",
    "<hr style=\"height:2px;border-width:0;color:gray;background-color:gray\">"
   ]
  },
  {
   "cell_type": "markdown",
   "metadata": {},
   "source": [
    "## D4.1.1 Current\n",
    "An isolated neutral conductor has an equal amount of positive and negative charges distributed such that they are in an equilibrium state, that is, no net electric field produced by these charges exists inside the conductor.\n",
    "\n",
    "If an external electric field, $\\vec{E}$, is imposed upon the conductor, these charges can move according to this external field. We define the **average current** as the transport of charges in response to an external electric field, and it is quantified as the amount of charge passing through a cross-section of a conductor per unit time:\n",
    "\n",
    "<div class=\"alert alert-success\">\n",
    "    \n",
    "$$ I_{av} = \\frac{\\Delta Q}{\\Delta t} \\tag{1}$$\n",
    "</div>\n",
    "\n",
    "The **instantaneous current** is defined in the limit of $\\Delta t \\rightarrow 0$:\n",
    "\n",
    "<div class=\"alert alert-success\">\n",
    "    \n",
    "$$ I = \\frac{dQ}{dt} \\tag{2}$$\n",
    "</div>\n",
    "\n",
    "<div class=\"alert alert-info\">\n",
    "    \n",
    "We characterize a current as **positive** in the direction of positive charge flow. NOTE: current is not a vector even though we associate a direction with it. We will see later that the vector object associated with current is the **current density**.\n",
    "</div>\n",
    "<hr style=\"height:2px;border-width:0;color:gray;background-color:gray\">"
   ]
  },
  {
   "cell_type": "markdown",
   "metadata": {},
   "source": [
    "## D4.1.2 Drift Velocity\n",
    "\n",
    "A standard conductor has a large number of charges and while all positive charges will experience a net acceleration in the direction of the  electric field (and the negative charges a net acceleration in the opposite direction), there is a significant retarded force due to \"collisions\" (in reality it is Coulomb interactions) between the charges. However, there is a net flow of positive charges in the direction of the electric field and it is characteried by the **drift velocity** ($\\vec{v}_d$), which is an average velocity attributed to the ensemble of charges. The **drift speed** is can be found by the following reasoning.\n",
    "\n",
    "Consider a wire segment of length $dx$, cross-sectional area $A$, and an ensemble of $N$ positive charges drifting through the wire.\n",
    "\n",
    "<img src=\"D4-fig1.1.png\" width=\"500\">\n",
    "\n",
    "The distance traveled by the charges can be expressed through the drift speed and elapsed time to cover the wire segment. If one charge carrier has a charge $q$, then the total charge passing through the wire segment is\n",
    "\n",
    "$$ dQ = Nq $$\n",
    "\n",
    "We can write the number of charges, $N$, in terms of **charge density**\n",
    "\n",
    "$$ n = \\frac{N}{V} $$\n",
    "\n",
    "where $V$ is the volume of the wire segment: $V = Adx = Av_{D}dt$.\n",
    "\n",
    "Combining these relationships gives us\n",
    "\n",
    "$$ dQ = nqAv_{D}dt $$\n",
    "\n",
    "or in terms of the current\n",
    "\n",
    "<div class=\"alert alert-success\">\n",
    "    \n",
    "$$ I = nqAv_{D} $$\n",
    "</div>\n",
    "<hr style=\"height:2px;border-width:0;color:gray;background-color:gray\">"
   ]
  },
  {
   "cell_type": "markdown",
   "metadata": {},
   "source": [
    "## D4.1.3 Current Density\n",
    "    \n",
    "For many practical applications, the concept of density is prefered. For example, if we want to know the mass of water in a swiming pool, we would measure the volume of the pool and multiply it by the density of water to obtain the mass. Similarly, we have a concept of **current density**, which is a **directed volume current density**. \n",
    "\n",
    "The magnitude of the current density is defined as \n",
    "\n",
    "$$ J = \\frac{I}{A} = nqv_D $$\n",
    "\n",
    "or the vector form\n",
    "\n",
    "$$ \\vec{J} = nq\\vec{v}_D $$\n",
    "\n",
    "<div class=\"alert alert-info\">\n",
    "    \n",
    "The current density is a measure at a given point and we can therefore designate it as a vector. In contrast, current is a measure across a certain volume element and we cannot designate a unique vector to current.\n",
    "</div>\n",
    "<hr style=\"height:2px;border-width:0;color:gray;background-color:gray\">"
   ]
  },
  {
   "cell_type": "markdown",
   "metadata": {},
   "source": [
    "<div class=\"alert alert-warning\">\n",
    "<b>Box 1 </b>\n",
    "\n",
    "A current flows in an aluminum wire of diameter 2.0 mm, the drift speed of the conduction electrons is $2.5\\times 10^{-4}$ m/s.\n",
    "\n",
    "1. What is the electron current in the wire? The conduction electron density in aluminum is $6.00\\times 10^{28}$ m$^{-3}$.\n",
    "2. How long time does it take the electrons to travel 10 m?\n",
    "               \n",
    "</div>"
   ]
  },
  {
   "cell_type": "code",
   "execution_count": 1,
   "metadata": {
    "tags": [
     "hide-input",
     "hide-output"
    ]
   },
   "outputs": [
    {
     "name": "stdout",
     "output_type": "stream",
     "text": [
      "The current is 7.549247146576272 A\n",
      " \n",
      "The elapsed time is 40000.0 s\n"
     ]
    }
   ],
   "source": [
    "%reset -f\n",
    "\n",
    "import numpy as np\n",
    "\n",
    "D = 2.0E-3\n",
    "v_D = 2.5E-4\n",
    "\n",
    "q = -1.602E-19\n",
    "n = 6.00E28\n",
    "\n",
    "A = np.pi*(D/2)**2\n",
    "\n",
    "I = n*np.abs(q)*A*v_D\n",
    "print('The current is '+str(I)+' A')\n",
    "print(' ')\n",
    "\n",
    "dx = 10\n",
    "dt = dx/v_D\n",
    "print('The elapsed time is '+str(dt)+' s')"
   ]
  },
  {
   "cell_type": "markdown",
   "metadata": {},
   "source": [
    "<hr style=\"height:2px;border-width:0;color:gray;background-color:gray\">"
   ]
  },
  {
   "cell_type": "markdown",
   "metadata": {},
   "source": [
    "<div class=\"alert alert-info\">\n",
    "    \n",
    "The drift velocity if very small in a common household wire. Obviously, the light does not take 4000 s to turn in. Instead, the electric field interaction propagates near the speed of light from the origin of the disturbance and throughout the circuit.\n",
    "    \n",
    "An analogue is a person making a complete run around a crowded stadium vs. the mexican wave\n",
    "</div>\n",
    "<hr style=\"height:2px;border-width:0;color:gray;background-color:gray\">"
   ]
  }
 ],
 "metadata": {
  "celltoolbar": "Tags",
  "kernelspec": {
   "display_name": "Python 3 (ipykernel)",
   "language": "python",
   "name": "python3"
  },
  "language_info": {
   "codemirror_mode": {
    "name": "ipython",
    "version": 3
   },
   "file_extension": ".py",
   "mimetype": "text/x-python",
   "name": "python",
   "nbconvert_exporter": "python",
   "pygments_lexer": "ipython3",
   "version": "3.10.9"
  }
 },
 "nbformat": 4,
 "nbformat_minor": 2
}