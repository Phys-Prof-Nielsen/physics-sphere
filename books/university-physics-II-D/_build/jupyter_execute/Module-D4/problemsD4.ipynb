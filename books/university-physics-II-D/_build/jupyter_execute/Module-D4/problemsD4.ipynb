{
 "cells": [
  {
   "cell_type": "markdown",
   "metadata": {},
   "source": [
    "# D4.5 Problems\n",
    "<hr style=\"height:2px;border-width:0;color:gray;background-color:gray\">"
   ]
  },
  {
   "cell_type": "markdown",
   "metadata": {},
   "source": [
    "<h2>Problem D4.1</h2>\n",
    "    </header>\n",
    "\n",
    "How many electrons flow through a point in a wire in $3.00$ s if there is a constant current of $I = 4.00$ A?\n",
    " \n",
    "[This problem is a slightly modified version from OpenStax. Access for free here](https://openstax.org/books/university-physics-volume-2/pages/9-problems)"
   ]
  },
  {
   "cell_type": "code",
   "execution_count": 1,
   "metadata": {},
   "outputs": [],
   "source": [
    "# Create your own solution script here"
   ]
  },
  {
   "cell_type": "code",
   "execution_count": 2,
   "metadata": {
    "tags": [
     "hide-input",
     "hide-output"
    ]
   },
   "outputs": [
    {
     "name": "stdout",
     "output_type": "stream",
     "text": [
      "Number of electrons: 7.49063670411985e+19\n"
     ]
    }
   ],
   "source": [
    "%reset -f\n",
    "\n",
    "import numpy as np\n",
    "import sympy as sym\n",
    "\n",
    "q = -1.602E-19\n",
    "dt = 3.00\n",
    "I = 4.00\n",
    "\n",
    "N = sym.Symbol('N')\n",
    "dQ = N*np.abs(q)\n",
    "\n",
    "eq = I - dQ/dt\n",
    "sol = sym.solve(eq,N)\n",
    "\n",
    "print('Number of electrons: '+str(sol[0]))"
   ]
  },
  {
   "cell_type": "markdown",
   "metadata": {},
   "source": [
    "<hr style=\"height:2px;border-width:0;color:gray;background-color:gray\">"
   ]
  },
  {
   "cell_type": "markdown",
   "metadata": {},
   "source": [
    "<h2>Problem D4.2</h2>\n",
    "    </header>\n",
    "\n",
    "The quantity of charge through a conductor is modeled as $Q = (4.00~\\textrm{C/s}^4)~t^4 - (1.00~\\textrm{C/s})~t + (6.00~\\textrm{mC})$. What is the current at time $t = 3.00$ s?\n",
    "\n",
    "[This problem is a slightly modified version from OpenStax. Access for free here](https://openstax.org/books/university-physics-volume-2/pages/9-problems)"
   ]
  },
  {
   "cell_type": "code",
   "execution_count": 3,
   "metadata": {},
   "outputs": [],
   "source": [
    "# Create your own solution script here"
   ]
  },
  {
   "cell_type": "code",
   "execution_count": 4,
   "metadata": {
    "tags": [
     "hide-input",
     "hide-output"
    ]
   },
   "outputs": [
    {
     "name": "stdout",
     "output_type": "stream",
     "text": [
      "Current function: 16.0*t**3 - 1.0\n",
      " \n",
      "The current at t = 3.00 s is 431.000000000000 A\n"
     ]
    }
   ],
   "source": [
    "%reset -f\n",
    "\n",
    "import sympy as sym\n",
    "\n",
    "t = sym.Symbol('t')\n",
    "Q = 4.00*t**4 - 1.00*t + 6.00E-3\n",
    "I = sym.diff(Q,t)\n",
    "print('Current function: '+str(I))\n",
    "print(' ')\n",
    "\n",
    "t3 = 3.00\n",
    "I3 = I.evalf(subs={t:t3})\n",
    "print('The current at t = 3.00 s is '+str(I3)+' A')"
   ]
  },
  {
   "cell_type": "markdown",
   "metadata": {},
   "source": [
    "<hr style=\"height:2px;border-width:0;color:gray;background-color:gray\">"
   ]
  },
  {
   "cell_type": "markdown",
   "metadata": {},
   "source": [
    "<h2>Problem D4.3</h2>\n",
    "    </header>\n",
    "\n",
    "The charge on a capacitor in a circuit is modeled as $Q(t) = Q_{max}\\cos(\\omega t + \\phi)$. What is the current through the circuit as a function of time?\n",
    "\n",
    "[This problem is a slightly modified version from OpenStax. Access for free here](https://openstax.org/books/university-physics-volume-2/pages/9-problems)"
   ]
  },
  {
   "cell_type": "code",
   "execution_count": 5,
   "metadata": {},
   "outputs": [],
   "source": [
    "# Create your own solution script here"
   ]
  },
  {
   "cell_type": "code",
   "execution_count": 6,
   "metadata": {
    "tags": [
     "hide-input",
     "hide-output"
    ]
   },
   "outputs": [
    {
     "name": "stdout",
     "output_type": "stream",
     "text": [
      "Current function: -Q_max*w*sin(phi + t*w)\n"
     ]
    }
   ],
   "source": [
    "%reset -f\n",
    "\n",
    "import sympy as sym\n",
    "\n",
    "t = sym.Symbol('t')\n",
    "Q_max = sym.Symbol('Q_max')\n",
    "w = sym.Symbol('w')  \n",
    "phi = sym.Symbol('phi')\n",
    "\n",
    "Q = Q_max*sym.cos(w*t + phi)\n",
    "I = sym.diff(Q,t)\n",
    "print('Current function: '+str(I))"
   ]
  },
  {
   "cell_type": "markdown",
   "metadata": {},
   "source": [
    "<hr style=\"height:2px;border-width:0;color:gray;background-color:gray\">"
   ]
  },
  {
   "cell_type": "markdown",
   "metadata": {},
   "source": [
    "<h2>Problem D4.4</h2>\n",
    "    </header>\n",
    "\n",
    "The current through a conductor is modeled as $I = I_{m}\\sin(2\\pi[60~\\textrm{Hz}]~t)$. Write an equation for the charge as a function of time.\n",
    "\n",
    "[This problem is a slightly modified version from OpenStax. Access for free here](https://openstax.org/books/university-physics-volume-2/pages/9-problems)"
   ]
  },
  {
   "cell_type": "code",
   "execution_count": 7,
   "metadata": {},
   "outputs": [],
   "source": [
    "# Create your own solution script here"
   ]
  },
  {
   "cell_type": "code",
   "execution_count": 8,
   "metadata": {
    "tags": [
     "hide-input",
     "hide-output"
    ]
   },
   "outputs": [
    {
     "name": "stdout",
     "output_type": "stream",
     "text": [
      "Current function: -I_m*cos(120*pi*t)/(120*pi)\n"
     ]
    }
   ],
   "source": [
    "%reset -f\n",
    "\n",
    "import sympy as sym\n",
    "\n",
    "t = sym.Symbol('t')\n",
    "I_m = sym.Symbol('I_m')\n",
    "\n",
    "I = I_m*sym.sin(2*sym.pi*60*t )\n",
    "Q = sym.integrate(I,t)\n",
    "print('Current function: '+str(Q))"
   ]
  },
  {
   "cell_type": "markdown",
   "metadata": {},
   "source": [
    "<hr style=\"height:2px;border-width:0;color:gray;background-color:gray\">"
   ]
  },
  {
   "cell_type": "markdown",
   "metadata": {},
   "source": [
    "<h2>Problem D4.5</h2>\n",
    "    </header>\n",
    "    \n",
    "What current flows through the bulb of a $3.00$ V flashlight when its hot resistance is $3.60~\\Omega$?\n",
    "\n",
    "[This problem is a slightly modified version from OpenStax. Access for free here](https://openstax.org/books/university-physics-volume-2/pages/9-problems)"
   ]
  },
  {
   "cell_type": "code",
   "execution_count": 9,
   "metadata": {},
   "outputs": [],
   "source": [
    "# Create your own solution script here"
   ]
  },
  {
   "cell_type": "code",
   "execution_count": 10,
   "metadata": {
    "tags": [
     "hide-input",
     "hide-output"
    ]
   },
   "outputs": [
    {
     "name": "stdout",
     "output_type": "stream",
     "text": [
      "The current is 0.8333333333333333 A\n"
     ]
    }
   ],
   "source": [
    "%reset -f\n",
    "\n",
    "dV = 3.00\n",
    "R = 3.60\n",
    "\n",
    "I = dV/R\n",
    "\n",
    "print('The current is '+str(I)+' A')"
   ]
  },
  {
   "cell_type": "markdown",
   "metadata": {},
   "source": [
    "<hr style=\"height:2px;border-width:0;color:gray;background-color:gray\">"
   ]
  },
  {
   "cell_type": "markdown",
   "metadata": {},
   "source": [
    "<h2>Problem D4.6</h2>\n",
    "    </header>\n",
    "\n",
    "What is the resistance of a $20.0$ m long piece of 12-gauge copper wire having a $2.053$ mm diameter? HINT: look up the resistivity of copper.\n",
    "\n",
    "[This problem is a slightly modified version from OpenStax. Access for free here](https://openstax.org/books/university-physics-volume-2/pages/9-problems)"
   ]
  },
  {
   "cell_type": "code",
   "execution_count": 11,
   "metadata": {},
   "outputs": [],
   "source": [
    "# Create your own solution script here"
   ]
  },
  {
   "cell_type": "code",
   "execution_count": 12,
   "metadata": {
    "tags": [
     "hide-input",
     "hide-output"
    ]
   },
   "outputs": [
    {
     "name": "stdout",
     "output_type": "stream",
     "text": [
      "The resistance is 0.10150127491685025 Ohm\n"
     ]
    }
   ],
   "source": [
    "%reset -f \n",
    "\n",
    "import numpy as np\n",
    "\n",
    "dx = 20.0\n",
    "D = 2.053E-3\n",
    "rho = 1.68E-8\n",
    "\n",
    "A = np.pi*(D/2)**2\n",
    "\n",
    "R = rho*dx/A\n",
    "\n",
    "print('The resistance is '+str(R)+' Ohm')"
   ]
  },
  {
   "cell_type": "markdown",
   "metadata": {},
   "source": [
    "<hr style=\"height:2px;border-width:0;color:gray;background-color:gray\">"
   ]
  },
  {
   "cell_type": "markdown",
   "metadata": {},
   "source": [
    "<h2>Problem D4.7</h2>\n",
    "    </header>\n",
    "\n",
    "A resistor rated at $250.0~\\textrm{k}\\Omega$ is connected across two D cell batteries (each $1.50$ V) in series, with a total voltage of $3.00$ V. The manufacturer advertises that their resistors are within $5\\%$ of the rated value. What are the possible minimum current and maximum current through the resistor?\n",
    "\n",
    "[This problem is a slightly modified version from OpenStax. Access for free here](https://openstax.org/books/university-physics-volume-2/pages/9-problems)"
   ]
  },
  {
   "cell_type": "code",
   "execution_count": 13,
   "metadata": {},
   "outputs": [],
   "source": [
    "# Create your own solution script here"
   ]
  },
  {
   "cell_type": "code",
   "execution_count": 14,
   "metadata": {
    "tags": [
     "hide-input",
     "hide-output"
    ]
   },
   "outputs": [
    {
     "name": "stdout",
     "output_type": "stream",
     "text": [
      "Maximum current is 1.2060301507537688e-05 A\n",
      "Minimum current is 1.1940298507462688e-05 A\n"
     ]
    }
   ],
   "source": [
    "%reset -f\n",
    "\n",
    "import numpy as np\n",
    "\n",
    "R = 250.0E3\n",
    "dV = 3.00\n",
    "err = 0.005\n",
    "\n",
    "R_max = R*(1+err)\n",
    "R_min = R*(1-err)\n",
    "\n",
    "I = np.array([dV/R_max, dV/R_min])\n",
    "\n",
    "print('Maximum current is '+str(np.max(I))+' A')\n",
    "print('Minimum current is '+str(np.min(I))+' A')"
   ]
  },
  {
   "cell_type": "markdown",
   "metadata": {},
   "source": [
    "<hr style=\"height:2px;border-width:0;color:gray;background-color:gray\">"
   ]
  },
  {
   "cell_type": "markdown",
   "metadata": {},
   "source": [
    "<h2>Problem D4.8</h2>\n",
    "    </header>\n",
    "\n",
    "A $20.00$ V battery is used to supply current to a $10.0~\\textrm{k}\\Omega$ resistor. Assume the voltage drop across any wires used for connections is negligible. \n",
    "\n",
    "1. What is the current through the resistor? \n",
    "2. What is the power dissipated by the resistor? \n",
    "3. What is the power input from the battery, assuming all the electrical power is dissipated by the resistor?\n",
    "4. What happens to the energy dissipated by the resistor?\n",
    "\n",
    "[This problem is a slightly modified version from OpenStax. Access for free here](https://openstax.org/books/university-physics-volume-2/pages/9-problems)"
   ]
  },
  {
   "cell_type": "code",
   "execution_count": 15,
   "metadata": {},
   "outputs": [],
   "source": [
    "# Create your own solution script here"
   ]
  },
  {
   "cell_type": "code",
   "execution_count": 16,
   "metadata": {
    "tags": [
     "hide-input",
     "hide-output"
    ]
   },
   "outputs": [
    {
     "name": "stdout",
     "output_type": "stream",
     "text": [
      "Current through resistor: 0.002 A\n",
      " \n",
      "Power dissipated in resistor: 0.04 W\n",
      " \n",
      "Power delivered by battery: 0.04 W\n",
      " \n",
      "The power dissipated in resistor is converted into heat through Joule heating and the resistor will increase its temperature.\n"
     ]
    }
   ],
   "source": [
    "%reset -f\n",
    "\n",
    "EMF = 20.00\n",
    "R = 10.0E3\n",
    "\n",
    "# Part 1\n",
    "dV_R = EMF\n",
    "I_R = dV_R/R\n",
    "\n",
    "print('Current through resistor: '+str(I_R)+' A')\n",
    "print(' ')\n",
    "\n",
    "# Part 2\n",
    "P_R = R*I_R**2\n",
    "\n",
    "print('Power dissipated in resistor: '+str(P_R)+' W')\n",
    "print(' ')\n",
    "\n",
    "# Part 3\n",
    "I_B = I_R\n",
    "P_B = EMF*I_B\n",
    "\n",
    "print('Power delivered by battery: '+str(P_B)+' W')\n",
    "print(' ')\n",
    "\n",
    "# Part 3\n",
    "print('The power dissipated in resistor is converted into heat through Joule heating and the resistor will increase its temperature.')\n"
   ]
  },
  {
   "cell_type": "markdown",
   "metadata": {},
   "source": [
    "<hr style=\"height:2px;border-width:0;color:gray;background-color:gray\">"
   ]
  },
  {
   "cell_type": "markdown",
   "metadata": {},
   "source": [
    "<h2>Problem D4.9</h2>\n",
    "    </header>\n",
    "\n",
    "A heater is being designed that uses a coil of 14-gauge nichrome wire to generate $300.0$ W using a voltage of\n",
    "$110.0$ V. How long should the engineer make the wire? HINT: look up the diameter for a 14-gauge wire and resistivity of nichrome.\n",
    "\n",
    "[This problem is a slightly modified version from OpenStax. Access for free here](https://openstax.org/books/university-physics-volume-2/pages/9-problems)"
   ]
  },
  {
   "cell_type": "code",
   "execution_count": 17,
   "metadata": {},
   "outputs": [],
   "source": [
    "# Create your own solution script here"
   ]
  },
  {
   "cell_type": "code",
   "execution_count": 18,
   "metadata": {
    "tags": [
     "hide-input",
     "hide-output"
    ]
   },
   "outputs": [
    {
     "name": "stdout",
     "output_type": "stream",
     "text": [
      "Length of wire should be 103.632499644136 m\n"
     ]
    }
   ],
   "source": [
    "%reset -f\n",
    "\n",
    "import sympy as sym\n",
    "\n",
    "D = 1.897E-3  #14 gauge thickness\n",
    "P = 300.0\n",
    "dV = 110.0\n",
    "\n",
    "rho = 110E-8\n",
    "\n",
    "dx = sym.Symbol('dx')\n",
    "A = sym.pi*(D/2)**2\n",
    "R = rho*dx/A\n",
    "\n",
    "\n",
    "eq = P - (dV**2)/R\n",
    "sol = sym.solve(eq,dx)\n",
    "print('Length of wire should be '+str(sol[0])+' m')"
   ]
  },
  {
   "cell_type": "markdown",
   "metadata": {},
   "source": [
    "<hr style=\"height:2px;border-width:0;color:gray;background-color:gray\">"
   ]
  },
  {
   "cell_type": "markdown",
   "metadata": {},
   "source": [
    "<h2>Problem D4.10</h2>\n",
    "    </header>\n",
    "\n",
    "An alternative to CFL bulbs and incandescent bulbs are light-emitting diode (LED) bulbs. A 100-W incandescent bulb can be replaced by a 16-W LED bulb. Both produce 1600 lumens of light. Assuming the cost of electricity is $\\$$0.10 per kilowatt-hour, how much does it cost to run the bulbs for one year if they run for four hours a day?\n",
    "\n",
    "[This problem is a slightly modified version from OpenStax. Access for free here](https://openstax.org/books/university-physics-volume-2/pages/9-problems)"
   ]
  },
  {
   "cell_type": "code",
   "execution_count": 19,
   "metadata": {},
   "outputs": [],
   "source": [
    "# Create your own solution script here"
   ]
  },
  {
   "cell_type": "code",
   "execution_count": 20,
   "metadata": {
    "tags": [
     "hide-input",
     "hide-output"
    ]
   },
   "outputs": [
    {
     "name": "stdout",
     "output_type": "stream",
     "text": [
      "The cost of incandescent bulb: $14.600000000000001\n",
      "The cost of led bulb: $2.336\n",
      "Savings per year of replacing one incadescent buld with an led bulb: $12.264000000000001\n"
     ]
    }
   ],
   "source": [
    "%reset -f\n",
    "\n",
    "P_i = 100E-3 #convert to kW\n",
    "P_l = 16E-3\n",
    "\n",
    "rate = 0.10\n",
    "\n",
    "hpd = 4.00 #hours per day\n",
    "ann_hours = hpd*365\n",
    "\n",
    "E_i = P_i*ann_hours\n",
    "E_l = P_l*ann_hours\n",
    "\n",
    "cost_i = E_i*rate\n",
    "cost_l = E_l*rate\n",
    "\n",
    "print('The cost of incandescent bulb: $'+str(cost_i))\n",
    "print('The cost of led bulb: $'+str(cost_l))\n",
    "print('Savings per year of replacing one incadescent buld with an led bulb: $'+str(cost_i-cost_l))"
   ]
  },
  {
   "cell_type": "markdown",
   "metadata": {},
   "source": [
    "<hr style=\"height:2px;border-width:0;color:gray;background-color:gray\">"
   ]
  },
  {
   "cell_type": "markdown",
   "metadata": {},
   "source": [
    "<h2>Problem D4.11</h2>\n",
    "    </header>\n",
    "\n",
    "A resistor is placed in a circuit with an adjustable voltage source. The voltage across and the current through the resistor and the measurements are shown below. Estimate the resistance of the resistor.\n",
    "\n",
    "[This problem is a slightly modified version from OpenStax. Access for free here](https://openstax.org/books/university-physics-volume-2/pages/9-problems)"
   ]
  },
  {
   "cell_type": "code",
   "execution_count": 21,
   "metadata": {
    "tags": [
     "hide-input"
    ]
   },
   "outputs": [
    {
     "data": {
      "image/png": "[encoded data removed]",
      "text/plain": [
       "<Figure size 432x288 with 1 Axes>"
      ]
     },
     "metadata": {
      "needs_background": "light"
     },
     "output_type": "display_data"
    }
   ],
   "source": [
    "import matplotlib.pyplot as plt\n",
    "import numpy as np\n",
    "\n",
    "I = np.arange(0.0, 10.1, 1)\n",
    "V = 100*I\n",
    "\n",
    "fig, ax = plt.subplots()\n",
    "ax.scatter(I, V, color='r')\n",
    "ax.set(xlabel='Current (A)', ylabel='Voltage (V)',\n",
    "       title='Ohms Law')\n",
    "ax.set_xlim(0, 10)\n",
    "ax.set_ylim(np.min(V), np.max(V))\n",
    "ax.grid()\n",
    "ax.set_axisbelow(True) \n",
    "plt.show()"
   ]
  },
  {
   "cell_type": "code",
   "execution_count": 22,
   "metadata": {},
   "outputs": [],
   "source": [
    "# Create your own solution script here"
   ]
  },
  {
   "cell_type": "code",
   "execution_count": 23,
   "metadata": {
    "tags": [
     "hide-input",
     "hide-output"
    ]
   },
   "outputs": [
    {
     "name": "stdout",
     "output_type": "stream",
     "text": [
      "The resistance is the slope of the graph since V/I = R\n",
      "The slope is 100 Ohm\n"
     ]
    }
   ],
   "source": [
    "%reset -f\n",
    "\n",
    "print('The resistance is the slope of the graph since V/I = R')\n",
    "print('The slope is 100 Ohm')"
   ]
  },
  {
   "cell_type": "markdown",
   "metadata": {},
   "source": [
    "<hr style=\"height:2px;border-width:0;color:gray;background-color:gray\">"
   ]
  }
 ],
 "metadata": {
  "celltoolbar": "Tags",
  "kernelspec": {
   "display_name": "Python 3 (ipykernel)",
   "language": "python",
   "name": "python3"
  },
  "language_info": {
   "codemirror_mode": {
    "name": "ipython",
    "version": 3
   },
   "file_extension": ".py",
   "mimetype": "text/x-python",
   "name": "python",
   "nbconvert_exporter": "python",
   "pygments_lexer": "ipython3",
   "version": "3.9.12"
  }
 },
 "nbformat": 4,
 "nbformat_minor": 4
}