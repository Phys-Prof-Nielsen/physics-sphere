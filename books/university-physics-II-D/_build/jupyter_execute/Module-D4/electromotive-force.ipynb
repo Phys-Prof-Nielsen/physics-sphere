{
 "cells": [
  {
   "cell_type": "markdown",
   "metadata": {},
   "source": [
    "# D4.4 Electromotive Force and Circuit\n",
    "<hr style=\"height:2px;border-width:0;color:gray;background-color:gray\">"
   ]
  },
  {
   "cell_type": "markdown",
   "metadata": {},
   "source": [
    "## D4.4.1 Motivation\n",
    "\n",
    "Imagine we impose an external electric field across a wire. The positive charges will move to the one end of the wire and the negative charges will flow to the opposite end. **We have a current**. As the charges reaches the ends, a **polarization electric field** is created by the separating charges. This field will oppose the external field and the net field will be zero. **The current cease to exists**.\n",
    "\n",
    "Hence, for a steady current to persist in a circuit, we need a **closed system** with an external energy source. This external energy source is the **electromotive force**.\n",
    "\n",
    "<hr style=\"height:2px;border-width:0;color:gray;background-color:gray\">"
   ]
  },
  {
   "cell_type": "markdown",
   "metadata": {},
   "source": [
    "## D4.4.2 Basic Circuit\n",
    "\n",
    "Let us consider a basic **open resistive circuit**. \n",
    "\n",
    "### Straight Lines\n",
    "The straigh lines are conducting elements used to connect various other circuit elements. They play no other role. We assume there are no resistance in this lines and can think of them as having the same electric potential in a given connected segment. In a standard circuit these may be wires. NOTE: if wires are long, their resistance becomes appreciable.\n",
    "\n",
    "### Resistive Element\n",
    "The resistive element is symblized through $R$. Most materials have resistance, but in a circuit usually resistive elements are known as **resistors** or **loads**. For example, lightbulbs and kitchen appliances are load elements. \n",
    "\n",
    "<img src=\"D4-fig4.1.png\" width=\"200\">\n",
    "\n",
    "Imagine a charge at Point A with a certain energy. As it moves from Point A to Point 1 it maintains its energy as the straight lines are not resistive and do no work on the charge. In contrast, moving from Point 1 to Point 2, it will loose energy through the resistive element. Now the charge moves from Point 2 to Point B with no loss of energy. As it arrives at Point B it will have less energy than at Point A.\n",
    "\n",
    "If we consider the points as being energy states, then there is no way for the particle to be back at A unless work is done on it. We must insert an energy source, like a battery, into the circuit between Points A and B. This source is the **electromotive force** symbolized through $\\mathcal{E}$\n",
    "\n",
    "<img src=\"D4-fig4.2.png\" width=\"200\">\n",
    "\n",
    "Now we have a **closed** circuit that can support a steady-state current.\n",
    "\n",
    "In this circuit we have two energy transfers:\n",
    "\n",
    "### Energy Loss\n",
    "\n",
    "The resistive energy loss is given by Ohm's law in terms of the **electric potential loss**\n",
    "\n",
    "<div class=\"alert alert-success\">\n",
    "    \n",
    "$$ \\Delta V_R = RI \\tag{1}$$\n",
    "</div>\n",
    "\n",
    "### Energy Gain\n",
    "\n",
    "The energy gain is provided by the electromotive force through the voltage provided by it\n",
    "\n",
    "$$ \\Delta V_{EMF} = \\mathcal{E} $$\n",
    "\n",
    "In real applications, the EMF source will also have an internal resistance $r$, and the voltage provided to the circuit will then be\n",
    "\n",
    "$$ \\Delta V_{EMF} = \\mathcal{E} - Ir $$\n",
    "\n",
    "<hr style=\"height:2px;border-width:0;color:gray;background-color:gray\">"
   ]
  },
  {
   "cell_type": "markdown",
   "metadata": {},
   "source": [
    "## D4.4.3 Power in Circuit\n",
    "\n",
    "As the positive charge moves throug the resistive element, it is change in potential energy is\n",
    "\n",
    "$$ \\Delta U = q\\Delta V $$\n",
    "\n",
    "Since  work is $W = - \\Delta U$\n",
    "\n",
    "Combining these expressions together, the work done on the charge is:\n",
    "\n",
    "$ W = -q\\Delta V $\n",
    "\n",
    "$\\Delta V$ is negative in going from Point 1 to Point 2 so a positive charge will experience positive work from the electric field through the resistive element.\n",
    "\n",
    "Based on our experience we may say that the charge will change its kinetic energy, but that does not happen as current into the resistive element must be the same as out of it. Instead, energy is transferred to the resistive element in a process similar to work done by friction. \n",
    "\n",
    "We define power as energy transfer per time:\n",
    "\n",
    "$$ P = \\frac{W}{\\Delta t} $$\n",
    "\n",
    "The total amount of work done on the amount of charge passing through is $-\\Delta Q\\Delta V $\n",
    "\n",
    "and power delivered to the charge is therefore\n",
    "\n",
    "$$ P = -I\\Delta V $$\n",
    "\n",
    "Since the net power delivered is zero, we must conclude that there is a **power loss to the resistive element** of\n",
    "\n",
    "<div class=\"alert alert-success\">\n",
    "    \n",
    "$$ P_{loss} = I\\Delta V_R \\tag{2}$$\n",
    "</div>\n",
    "\n",
    "The resistive power loss can be expressed in variouos forms using Equations (1) and (2):\n",
    "\n",
    "<div class=\"alert alert-success\">\n",
    "    \n",
    "$$ P_{loss} = I\\Delta V_R = I^2R = \\frac{V_R^2}{R}$$\n",
    "</div>\n",
    "\n",
    "<hr style=\"height:2px;border-width:0;color:gray;background-color:gray\">"
   ]
  },
  {
   "cell_type": "code",
   "execution_count": null,
   "metadata": {},
   "outputs": [],
   "source": []
  }
 ],
 "metadata": {
  "kernelspec": {
   "display_name": "Python 3 (ipykernel)",
   "language": "python",
   "name": "python3"
  },
  "language_info": {
   "codemirror_mode": {
    "name": "ipython",
    "version": 3
   },
   "file_extension": ".py",
   "mimetype": "text/x-python",
   "name": "python",
   "nbconvert_exporter": "python",
   "pygments_lexer": "ipython3",
   "version": "3.9.12"
  }
 },
 "nbformat": 4,
 "nbformat_minor": 2
}