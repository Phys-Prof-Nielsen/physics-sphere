{
 "cells": [
  {
   "cell_type": "markdown",
   "metadata": {},
   "source": [
    "# D1.5 Electric Field and Field Lines\n",
    "<hr style=\"height:2px;border-width:0;color:gray;background-color:gray\">"
   ]
  },
  {
   "cell_type": "markdown",
   "metadata": {},
   "source": [
    "## D1.5.1 Connection to University Physics I\n",
    "\n",
    "Let us take a step back to Physics 2210. There is nothing like realizing that what we learned before is actually quite useful for learning new things.\n",
    "\n",
    "Consider the gravitational interaction between the Earth and a satellite. If we removed the satellite, the Earth's gravitational field still exists since the source of the gravitational field is the mass of the Earth and not related to the satellite. We cannot see, feel, or otherwise determine this field unless we place an object into the field that allows for an interaction to take place. We often say: **we place a test mass $m$ (satellite) into the field**.\n",
    "\n",
    "In this case the interaction is the gravitaional force. For a satellite of mass $m$, the magnitude of the gravitational interaction is\n",
    "\n",
    "$$ F_g = mg $$ \n",
    "\n",
    "or in vector form\n",
    "\n",
    "$$ \\vec{F}_g = m\\vec{g} $$\n",
    "\n",
    "where $g$ is the gravitational field due to the Earth at the location of the satellite.\n",
    "\n",
    "How do we know the direction of this field $g$? We know that an object with a mass $m$, when placed in a gravitational field will accelerate in the same direction as the field if there are no other interactions acting on the object. If we make a sketch of the Earth and place a small **test mass** at random points outside the Earth, this approach will **visualize** the gravitational field of the Earth as being **spherical symmetric and pointing towards the center of the Earth**.\n",
    "\n",
    "<figure>\n",
    "<img src=\"D1-fig5.1.png\" width=\"400\">\n",
    "    <figcaption class=\"figure-caption text-center\">Figure 1: Three test masses placed in the gravitational field of the blue object allows us to assess the direction of the field. </figcaption>\n",
    "</figure>\n",
    "\n",
    "The arrows that we sketch to represent the gravitational field is referred to as **field lines** and are not a real thing but merely a tool to visualize the field.\n",
    "\n",
    "<hr style=\"height:2px;border-width:0;color:gray;background-color:gray\">"
   ]
  },
  {
   "cell_type": "markdown",
   "metadata": {},
   "source": [
    "## D1.5.2 The Electric Field Interaction\n",
    "\n",
    "The electric field does not act on mass, but instead on electrical charge, and the magnitude of the electric interaction on a **test charge** of charge $q$ is given by\n",
    "\n",
    "<div class=\"alert alert-success\">\n",
    "    \n",
    "$$ F_E = qE \\tag{1}$$\n",
    "</div>\n",
    "    \n",
    "where $E$ is the magnitude of the **electric field** due to some charge/charge distribution and $q$ is the electrical charge immersed in the field (analogy: Earth creating a gravitational field and the satellite immersed in the field and feeling a gravitational force due to the field interaction). \n",
    "\n",
    "<div class=\"alert alert-success\">\n",
    "The direction of the electric field is defined as follows: the direction a <b>positive test charge</b> will accelerate towards if embedded in an electric field and no other interactions are present.\n",
    "    </div>\n",
    "    \n",
    "In vector form, we have\n",
    "\n",
    "<div class=\"alert alert-success\">\n",
    "    \n",
    "$$ \\vec{F}_E = q\\vec{E}\\tag{2}$$\n",
    "</div>\n",
    "    \n",
    "<hr style=\"height:2px;border-width:0;color:gray;background-color:gray\">"
   ]
  },
  {
   "cell_type": "markdown",
   "metadata": {},
   "source": [
    "<div class=\"alert alert-warning\">\n",
    "    <b> Box 1 </b><br>\n",
    "    Draw a <b>positive</b> charged point particle as the source of an electric field. Sketch five <b>positive</b> test charges at various positions, and sketch the electric field lines according to the definition above (remember to indicate directions). \n",
    "\n",
    "</div>\n"
   ]
  },
  {
   "cell_type": "code",
   "execution_count": 1,
   "metadata": {
    "tags": [
     "hide-input",
     "hide-output"
    ]
   },
   "outputs": [
    {
     "data": {
      "image/png": "[encoded data removed]",
      "text/plain": [
       "<Figure size 432x288 with 1 Axes>"
      ]
     },
     "metadata": {
      "needs_background": "light"
     },
     "output_type": "display_data"
    }
   ],
   "source": [
    "import numpy as np\n",
    "import matplotlib.pyplot as plt\n",
    "\n",
    "x,y = np.meshgrid(np.arange(-6,6.5,3),np.arange(-6,6.5,3))\n",
    "\n",
    "x[2,2] = np.nan\n",
    "y[2,2] = np.nan\n",
    "\n",
    "u = x/(x**2 + y**2)**1.5 \n",
    "v = y/(x**2 + y**2)**1.5\n",
    "\n",
    "fig, ax = plt.subplots()\n",
    "q = ax.quiver(x,y,u,v,color='red')\n",
    "\n",
    "circle = plt.Circle((0, 0), 0.5, color='r')\n",
    "ax.add_patch(circle)\n",
    "\n",
    "ax.axes.set_aspect('equal')\n",
    "\n",
    "plt.show()"
   ]
  },
  {
   "cell_type": "markdown",
   "metadata": {},
   "source": [
    "<hr style=\"height:2px;border-width:0;color:gray;background-color:gray\">"
   ]
  },
  {
   "cell_type": "markdown",
   "metadata": {},
   "source": [
    "<div class=\"alert alert-warning\">\n",
    "    <b> Box 2 </b><br>\n",
    "    Repeat Box 1 but for a negative point source.\n",
    "    \n",
    "\n",
    "</div>"
   ]
  },
  {
   "cell_type": "code",
   "execution_count": 2,
   "metadata": {
    "tags": [
     "hide-input",
     "hide-output"
    ]
   },
   "outputs": [
    {
     "data": {
      "image/png": "[encoded data removed]",
      "text/plain": [
       "<Figure size 432x288 with 1 Axes>"
      ]
     },
     "metadata": {
      "needs_background": "light"
     },
     "output_type": "display_data"
    }
   ],
   "source": [
    "import numpy as np\n",
    "import matplotlib.pyplot as plt\n",
    "\n",
    "x,y = np.meshgrid(np.arange(-6,6.5,3),np.arange(-6,6.5,3))\n",
    "\n",
    "x[2,2] = np.nan\n",
    "y[2,2] = np.nan\n",
    "\n",
    "u = -x/(x**2 + y**2)**1.5\n",
    "v = -y/(x**2 + y**2)**1.5\n",
    "\n",
    "fig, ax = plt.subplots()\n",
    "q = ax.quiver(x,y,u,v,color='blue')\n",
    "\n",
    "circle = plt.Circle((0, 0), 0.5, color='b')\n",
    "ax.add_patch(circle)\n",
    "\n",
    "ax.axes.set_aspect('equal')\n",
    "\n",
    "plt.show()"
   ]
  },
  {
   "cell_type": "markdown",
   "metadata": {},
   "source": [
    "<hr style=\"height:2px;border-width:0;color:gray;background-color:gray\">"
   ]
  },
  {
   "cell_type": "markdown",
   "metadata": {},
   "source": [
    "<div class=\"alert alert-warning\">\n",
    "    <b> Box 3 </b><br>\n",
    "    Summarize your results from Boxes 1 and 2. Make sure to comment on direction and symmetry (if any).\n",
    "    \n",
    "\n",
    "</div>\n",
    "\n",
    "<hr style=\"height:2px;border-width:0;color:gray;background-color:gray\">"
   ]
  },
  {
   "cell_type": "markdown",
   "metadata": {},
   "source": [
    "## D1.5.3 Electric Field of a Point Charge\n",
    "\n",
    "If we have knowledge of the interaction between point (or point-like) charges then we may be able to determine the electric field. Another method that we will encounter later is applying Gauss's law to a charge distribution. \n",
    "\n",
    "At this point, we know the electric force between two point charges as given by **Coulomb's law**:\n",
    "\n",
    "$$ F = \\frac{kq_{1}q_{2}}{r^2}$$\n",
    "\n",
    "We can make the interpretation that one charge, say $q_1$ is creating an electric field $E_1$ and a second charge, $q_2$, is inserted into that field and experience an electric force. We can write Coulomb's law again but slightly different arrangement\n",
    "\n",
    "$$ F = q_2\\frac{kq_{1}}{r^2} \\tag{3}$$\n",
    "\n",
    "If we compare Equations (1) and (2), we can by inspection see that the electric field due to $q_1$ must be\n",
    "\n",
    "$$ E = \\frac{kq_{1}}{r^2}$$\n",
    "\n",
    "We conclude that **the magnitude of the electric field due to a source point charge $q'$ is**\n",
    "\n",
    "<div class=\"alert alert-success\">\n",
    "    \n",
    "$$ E = \\frac{kq'}{r^2} \\tag{4}$$\n",
    "</div>\n",
    "\n",
    "where $r$ is the **distance** away from the **source** point charge $q'$.\n",
    "\n",
    "We can take the vector froms of Coulomb's law and express the **vector electric field due to a point charge $q'$**:\n",
    "\n",
    "<div class=\"alert alert-success\">\n",
    "    \n",
    "$$ \\vec{E} = kq'\\frac{\\vec{r} - \\vec{r}'}{|\\vec{r} - \\vec{r}'|^3} \\tag{5}$$\n",
    "</div>\n",
    "\n",
    "where $\\vec{r}$ is the position vector of a point P where we specify the field at, and $\\vec{r}'$ is the position vector of the source charge $q'$.\n",
    "\n",
    "<hr style=\"height:2px;border-width:0;color:gray;background-color:gray\">"
   ]
  },
  {
   "cell_type": "markdown",
   "metadata": {},
   "source": [
    "<div class=\"alert alert-warning\">\n",
    "    <b> Box 4 </b><br>\n",
    "    \n",
    "A ground-state electron in the hydrogen atom is most likely to be found at a distance of $5.29\\times 10^{-11}$ m from the nucleus (a proton). Assume the proton to be a point charge with a charge of $q = 1.602\\times 10^{-19}$ C.  In this naive approach, what is the electric field at the most probable electron location? (specify both magnitude and direction.)    \n",
    "    \n",
    "\n",
    "</div>"
   ]
  },
  {
   "cell_type": "code",
   "execution_count": 3,
   "metadata": {
    "tags": [
     "hide-input",
     "hide-output"
    ]
   },
   "outputs": [
    {
     "name": "stdout",
     "output_type": "stream",
     "text": [
      "The magnitude of the electric field is: 514648675497.872 N/C, directed away from the proton.\n"
     ]
    }
   ],
   "source": [
    "# Input parameters\n",
    "# ---------------\n",
    "q = 1.602E-19\n",
    "k = 8.99E9\n",
    "r = 5.29E-11\n",
    "\n",
    "# E-field from point charge (use Equation 4 from above)\n",
    "# --------------\n",
    "E = (k*q)/(r**2)\n",
    "\n",
    "# direction\n",
    "# ---------\n",
    "# since the charge is positive it is away from the charge\n",
    "\n",
    "# print answer\n",
    "# ------------\n",
    "print('The magnitude of the electric field is: '+str(E)+' N/C, directed away from the proton.')"
   ]
  },
  {
   "cell_type": "markdown",
   "metadata": {},
   "source": [
    "<div class=\"alert alert-warning\">\n",
    "    <b> Box 5 </b><br>\n",
    "    \n",
    "Consider two charged particles with charges $q_1 = +5.0$ mC and $q_2 = -3.0$ mC positioned at $y = 0.0$ m and at $x_1 = 0.0$ m and $x_2 = 0.2$ m, respectively. Consider a point $P$ located at $(x,y) = (3.5~\\textrm{m},2.2~\\textrm{m})$. Find the $x$- and $y$-components of $\\vec{E}_1$ at point $P$.   \n",
    "    \n",
    "\n",
    "</div>"
   ]
  },
  {
   "cell_type": "code",
   "execution_count": 4,
   "metadata": {
    "tags": [
     "hide-input",
     "hide-output"
    ]
   },
   "outputs": [
    {
     "name": "stdout",
     "output_type": "stream",
     "text": [
      "The components of the electric field are: [18717213.46430883, 11765105.606136981] N/C.\n"
     ]
    }
   ],
   "source": [
    "import numpy as np\n",
    "\n",
    "# Input parameters\n",
    "# ---------------\n",
    "q1 = 5.0E-3\n",
    "k = 8.99E9\n",
    "\n",
    "x1 = 0.0\n",
    "y1 = 0.0\n",
    "\n",
    "Px = 3.5\n",
    "Py = 2.2\n",
    "\n",
    "r1x = Px - x1\n",
    "r1y = Py - y1\n",
    "r1 = np.sqrt(r1x**2 + r1y**2)\n",
    "\n",
    "# E-field components at point P from point charges 1 and 2\n",
    "# --------------\n",
    "E1x = (k*q1*r1x)/(r1**1.5)\n",
    "E1y = (k*q1*r1y)/(r1**1.5)\n",
    "\n",
    "E = [E1x,E1y]\n",
    "\n",
    "# print answer\n",
    "# ------------\n",
    "print('The components of the electric field are: '+str(E)+' N/C.')"
   ]
  },
  {
   "cell_type": "markdown",
   "metadata": {},
   "source": [
    "<hr style=\"height:2px;border-width:0;color:gray;background-color:gray\">"
   ]
  },
  {
   "cell_type": "markdown",
   "metadata": {},
   "source": [
    "<div class=\"alert alert-warning\">\n",
    "    <b> Box 6 </b><br>\n",
    "    \n",
    "In the scenario from Box 5, what is the net electric field at point $P$?   \n",
    "    \n",
    "\n",
    "</div>"
   ]
  },
  {
   "cell_type": "code",
   "execution_count": 5,
   "metadata": {
    "tags": [
     "hide-input",
     "hide-output"
    ]
   },
   "outputs": [
    {
     "name": "stdout",
     "output_type": "stream",
     "text": [
      "Components of total field: [10134207.529876458, -2759981.359825503] N/C.\n",
      "Magnitude of total field: 10503316.588829879 N/C.\n",
      "Direction CCW from +x-axis: -15.234628391254939 degrees.\n"
     ]
    }
   ],
   "source": [
    "import numpy as np\n",
    "\n",
    "# Input parameters\n",
    "# ---------------\n",
    "q1 = 5.0E-3\n",
    "q2 = -3.0E-3\n",
    "k = 8.99E9\n",
    "\n",
    "x1 = 0.0\n",
    "y1 = 0.0\n",
    "x2 = 2.2\n",
    "y2 = 0.0\n",
    "\n",
    "Px = 3.5\n",
    "Py = 2.2\n",
    "\n",
    "r1x = Px - x1\n",
    "r1y = Py - y1\n",
    "r1 = np.sqrt(r1x**2 + r1y**2)\n",
    "\n",
    "r2x = Px - x2\n",
    "r2y = Py - y2\n",
    "r2 = np.sqrt(r2x**2 + r2y**2)\n",
    "\n",
    "# E-field components at point P from point charges 1 and 2\n",
    "# --------------\n",
    "E1x = (k*q1*r1x)/(r1**1.5)\n",
    "E1y = (k*q1*r1y)/(r1**1.5)\n",
    "\n",
    "E2x = (k*q2*r2x)/(r2**1.5)\n",
    "E2y = (k*q2*r2y)/(r2**1.5)\n",
    "\n",
    "# net field\n",
    "# ----------\n",
    "Ex = E1x + E2x\n",
    "Ey = E1y + E2y\n",
    "E = [Ex,Ey]\n",
    "\n",
    "print('Components of total field: '+str(E)+' N/C.')\n",
    "\n",
    "#magnitude\n",
    "E_mag = np.sqrt(Ex**2 + Ey**2)\n",
    "#direction\n",
    "theta = np.arctan(Ey/Ex)*180./np.pi\n",
    "\n",
    "print('Magnitude of total field: '+str(E_mag)+' N/C.')\n",
    "print('Direction CCW from +x-axis: '+str(theta)+' degrees.')\n"
   ]
  },
  {
   "cell_type": "markdown",
   "metadata": {},
   "source": [
    "<hr style=\"height:2px;border-width:0;color:gray;background-color:gray\">"
   ]
  },
  {
   "cell_type": "markdown",
   "metadata": {},
   "source": [
    "<div class=\"alert alert-warning\">\n",
    "    <b> Box 7</b><br>\n",
    "    \n",
    "Consider two charged particles with charges $q_1 = +5.0$ mC and $q_2 = -3.0$ mC positioned at $y = 0.0$ m and at $x_1 = 0.0$ m and $x_2 = 0.2$ m, respectively. Consider a point $P$ located at $(x,y) = (3.5~\\textrm{m},2.2~\\textrm{m})$. Make a sketch showing the fields $\\vec{E}_1$ and $\\vec{E}_2$ at point $P$. Be as exact as you can with directions and relative scale.    \n",
    "    \n",
    "\n",
    "</div>\n",
    "\n",
    "<hr style=\"height:2px;border-width:0;color:gray;background-color:gray\">"
   ]
  },
  {
   "cell_type": "code",
   "execution_count": 6,
   "metadata": {
    "tags": [
     "hide-input",
     "hide-output"
    ]
   },
   "outputs": [
    {
     "data": {
      "image/png": "[encoded data removed]",
      "text/plain": [
       "<Figure size 432x288 with 1 Axes>"
      ]
     },
     "metadata": {
      "needs_background": "light"
     },
     "output_type": "display_data"
    }
   ],
   "source": [
    "import numpy as np\n",
    "import matplotlib.pyplot as plt\n",
    "\n",
    "def draw(px,py,v1, v2): \n",
    "    \n",
    "    array = np.array([[px, py, v1[0], v1[1]], \n",
    "                      [px, py, v2[0], v2[1]]])\n",
    "    X, Y, U, V = zip(*array)\n",
    "    \n",
    "    plt.figure()\n",
    "    plt.ylabel('y (m)')\n",
    "    plt.xlabel('x (m)')\n",
    "    ax = plt.gca()\n",
    "    ax.quiver(X, Y, U, V, angles='xy', scale_units='xy',color=['r','b'], scale=1)\n",
    "    ax.set_xlim([0,5])\n",
    "    ax.set_ylim([0,5])\n",
    "    ax.grid()\n",
    "    plt.draw()\n",
    "    plt.show()\n",
    "    \n",
    "\n",
    "# Input parameters\n",
    "# ---------------\n",
    "q1 = 5.0E-3\n",
    "q2 = -3.0E-3\n",
    "k = 8.99E9\n",
    "\n",
    "x1 = 0.0\n",
    "y1 = 0.0\n",
    "x2 = 2.2\n",
    "y2 = 0.0\n",
    "\n",
    "Px = 3.5\n",
    "Py = 2.2\n",
    "\n",
    "r1x = Px - x1\n",
    "r1y = Py - y1\n",
    "r1 = np.sqrt(r1x**2 + r1y**2)\n",
    "\n",
    "r2x = Px - x2\n",
    "r2y = Py - y2\n",
    "r2 = np.sqrt(r2x**2 + r2y**2)\n",
    "\n",
    "# E-field components at point P from point charges 1 and 2\n",
    "# --------------\n",
    "E1x = (k*q1*r1x)/(r1**1.5)\n",
    "E1y = (k*q1*r1y)/(r1**1.5)\n",
    "\n",
    "E2x = (k*q2*r2x)/(r2**1.5)\n",
    "E2y = (k*q2*r2y)/(r2**1.5)\n",
    "\n",
    "# normalize: make E2 a unit vector\n",
    "# --------------------\n",
    "n2x = E2x/np.sqrt(E2x**2 + E2y**2)\n",
    "n2y = E2y/np.sqrt(E2x**2 + E2y**2)\n",
    "\n",
    "\n",
    "n1x = E1x/np.sqrt(E2x**2 + E2y**2)\n",
    "n1y = E1y/np.sqrt(E2x**2 + E2y**2)\n",
    "\n",
    "draw(Px,Py,[n1x,n1y],[n2x,n2y])"
   ]
  },
  {
   "cell_type": "markdown",
   "metadata": {},
   "source": [
    "<hr style=\"height:2px;border-width:0;color:gray;background-color:gray\">"
   ]
  }
 ],
 "metadata": {
  "celltoolbar": "Tags",
  "kernelspec": {
   "display_name": "Python 3 (ipykernel)",
   "language": "python",
   "name": "python3"
  },
  "language_info": {
   "codemirror_mode": {
    "name": "ipython",
    "version": 3
   },
   "file_extension": ".py",
   "mimetype": "text/x-python",
   "name": "python",
   "nbconvert_exporter": "python",
   "pygments_lexer": "ipython3",
   "version": "3.9.12"
  }
 },
 "nbformat": 4,
 "nbformat_minor": 2
}