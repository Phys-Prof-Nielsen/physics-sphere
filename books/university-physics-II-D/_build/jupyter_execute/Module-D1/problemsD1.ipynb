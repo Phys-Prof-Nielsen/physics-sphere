{
 "cells": [
  {
   "cell_type": "markdown",
   "metadata": {},
   "source": [
    "# D1.6 Problems\n",
    "<hr style=\"height:2px;border-width:0;color:gray;background-color:gray\">"
   ]
  },
  {
   "cell_type": "markdown",
   "metadata": {},
   "source": [
    "<h2>Problem D1.1</h2>\n",
    "    </header>\n",
    "\n",
    "A 2.5 g copper penny is given a charge of  $−2.0\\times 10^{−9}$ C. \n",
    "\n",
    "1. How many excess electrons are on the penny? \n",
    "2. By what percent do the excess electrons change the mass of the penny?\n",
    " \n",
    "[This problem is a slightly modified version from OpenStax. Access for free here](https://openstax.org/books/university-physics-volume-2/pages/5-problems)"
   ]
  },
  {
   "cell_type": "code",
   "execution_count": 1,
   "metadata": {
    "tags": [
     "hide-input",
     "hide-output"
    ]
   },
   "outputs": [
    {
     "name": "stdout",
     "output_type": "stream",
     "text": [
      "Number of excess electrons: 12484394507\n",
      "Percent change in mass: 4.548813982570519e-16\n"
     ]
    }
   ],
   "source": [
    "%reset -f \n",
    "from math import ceil\n",
    "\n",
    "# provided info\n",
    "Q = -2.0E-9\n",
    "M = 2.5E-3\n",
    "\n",
    "# loop-up info: \n",
    "q = -1.602E-19  #charge of electron  \n",
    "m = 9.109E-31   #mass of electron\n",
    "\n",
    "# Part 1\n",
    "N = ceil(Q/q)\n",
    "\n",
    "print('Number of excess electrons: '+str(N))\n",
    "\n",
    "# Part 2\n",
    "#percent change: (change/original)*100\n",
    "percent = ((N*m)/M)*100.\n",
    "\n",
    "print('Percent change in mass: '+str(percent))"
   ]
  },
  {
   "cell_type": "markdown",
   "metadata": {},
   "source": [
    "<hr style=\"height:2px;border-width:0;color:gray;background-color:gray\">"
   ]
  },
  {
   "cell_type": "markdown",
   "metadata": {},
   "source": [
    "<h2>Problem D1.2</h2>\n",
    "    </header>\n",
    "\n",
    "Point charges $q_1 = 50.0~\\mu$C and $q_2 = −25.0~\\mu$C are placed $1.00$ m apart. What is the force on a third charge $q_3 = 20.0~\\mu$C placed midway between $q_1$ and $q_2$?\n",
    "\n",
    "[This problem is a slightly modified version from OpenStax. Access for free here](https://openstax.org/books/university-physics-volume-2/pages/5-problems)"
   ]
  },
  {
   "cell_type": "code",
   "execution_count": 2,
   "metadata": {
    "tags": [
     "hide-input",
     "hide-output"
    ]
   },
   "outputs": [
    {
     "name": "stdout",
     "output_type": "stream",
     "text": [
      "Net force on q3: 53.94 N\n"
     ]
    }
   ],
   "source": [
    "%reset -f \n",
    "#import numpy\n",
    "import numpy as np\n",
    "\n",
    "# provided info\n",
    "q1 = 50.0E-6\n",
    "q2 = -25.0E-6\n",
    "q3 = 20.0E-6\n",
    "\n",
    "# let q1 be at x0 and q2 at x = 1.00\n",
    "x1 = 0.00\n",
    "x2 = 1.00\n",
    "x3 = 0.500\n",
    "\n",
    "# look-up info\n",
    "k = 8.99E9\n",
    "\n",
    "r31 = np.sqrt((x3 - x1)**2)\n",
    "f31x = (k*q1*q3)*(x3 - x1)/r31**3  #force component in x due to q1 on q3\n",
    "\n",
    "r32 = np.sqrt((x3 - x2)**2)\n",
    "f32x = (k*q2*q3)*(x3 - x2)/r32**3  #force component in x due to q2 on q3\n",
    "\n",
    "f = f31x + f32x\n",
    "\n",
    "print('Net force on q3: '+str(f)+' N')"
   ]
  },
  {
   "cell_type": "markdown",
   "metadata": {},
   "source": [
    "<hr style=\"height:2px;border-width:0;color:gray;background-color:gray\">"
   ]
  },
  {
   "cell_type": "markdown",
   "metadata": {},
   "source": [
    "<h2>Problem D1.3</h2>\n",
    "    </header>\n",
    "\n",
    "Where must $q_3$ of the preceding problem be placed so that the net force on it is zero?\n",
    "\n",
    "[This problem is a slightly modified version from OpenStax. Access for free here](https://openstax.org/books/university-physics-volume-2/pages/5-problems)"
   ]
  },
  {
   "cell_type": "code",
   "execution_count": 3,
   "metadata": {
    "tags": [
     "hide-input",
     "hide-output"
    ]
   },
   "outputs": [
    {
     "name": "stdout",
     "output_type": "stream",
     "text": [
      "Location of q3 with no net force: x = 3.41421356237309 m\n"
     ]
    }
   ],
   "source": [
    "%reset -f \n",
    "#import libraries\n",
    "import sympy as sym\n",
    "\n",
    "# provided info\n",
    "q1 = 50.0E-6\n",
    "q2 = -25.0E-6\n",
    "q3 = 20.0E-6\n",
    "\n",
    "# let q1 be at x0 and q2 at x = 1.00\n",
    "x1 = 0.00\n",
    "x2 = 1.00\n",
    "\n",
    "# look-up info\n",
    "k = 8.99E9\n",
    "\n",
    "# declare unknown\n",
    "x3 = sym.Symbol('x3')\n",
    "# set net force = 0\n",
    "eq = (k*q1*q3)*(x3 - x1)/(sym.sqrt((x3 - x1)**2))**3 + (k*q2*q3)*(x3 - x2)/(sym.sqrt((x3 - x2)**2))**3 \n",
    "\n",
    "sol = sym.solve(eq,x3)\n",
    "\n",
    "print('Location of q3 with no net force: x = '+str(sol[0])+' m')"
   ]
  },
  {
   "cell_type": "markdown",
   "metadata": {},
   "source": [
    "<hr style=\"height:2px;border-width:0;color:gray;background-color:gray\">"
   ]
  },
  {
   "cell_type": "markdown",
   "metadata": {},
   "source": [
    "<h2>Problem D1.4</h2>\n",
    "    </header>\n",
    "    \n",
    "Two small balls, each of mass $5.0$ g, are attached to silk threads $50.0$ cm long, which are in turn tied to the same point on the ceiling, as shown below. When the balls are given the same charge $Q$, the threads hang at  $5.0^\\circ$ to the vertical, as shown below. \n",
    "\n",
    "1. What is the magnitude of $Q$? \n",
    "2. What are the signs of the two charges?\n",
    "\n",
    "<img src=\"P-D1.4.png\"  width=\"200\"/>\n",
    "\n",
    "[This problem is a slightly modified version from OpenStax. Access for free here](https://openstax.org/books/university-physics-volume-2/pages/5-problems)"
   ]
  },
  {
   "cell_type": "code",
   "execution_count": 4,
   "metadata": {
    "tags": [
     "hide-input",
     "hide-output"
    ]
   },
   "outputs": [
    {
     "name": "stdout",
     "output_type": "stream",
     "text": [
      "The charge of Q is: -6.02159523661844e-8 C, or : 6.02159523661844e-8 C\n"
     ]
    }
   ],
   "source": [
    "%reset -f \n",
    "#import library\n",
    "import sympy as sym\n",
    "import numpy as np\n",
    "\n",
    "# given parameters\n",
    "m1 = 5.0E-3\n",
    "m2 = 5.0E-3\n",
    "l = 50.0E-2\n",
    "theta = 5.0*np.pi/180.0\n",
    "\n",
    "# look-up values\n",
    "k = 8.99E9\n",
    "g = 9.81\n",
    "\n",
    "# Part 1\n",
    "# ------\n",
    "\n",
    "#find x-positions\n",
    "x1 = -l*sym.sin(theta)\n",
    "x2 = l*sym.sin(theta)\n",
    "\n",
    "#declare unknowns:\n",
    "Ft = sym.Symbol('Ft')\n",
    "Q = sym.Symbol('Q')\n",
    "\n",
    "# x-equation\n",
    "eqx = (k*Q*Q)*(x2 - x1)/(sym.sqrt((x2 - x1)**2))**3 - Ft*sym.sin(theta)\n",
    "\n",
    "#y-equation\n",
    "eqy = Ft*sym.cos(theta) - m2*g\n",
    "\n",
    "#solve it\n",
    "sol = sym.solve((eqx,eqy),(Ft,Q))\n",
    "\n",
    "print('The charge of Q is: '+str(sol[0][1])+' C, or : '+str(sol[1][1])+' C')\n"
   ]
  },
  {
   "cell_type": "markdown",
   "metadata": {},
   "source": [
    "<hr style=\"height:2px;border-width:0;color:gray;background-color:gray\">"
   ]
  },
  {
   "cell_type": "markdown",
   "metadata": {},
   "source": [
    "<h2>Problem D1.5</h2>\n",
    "    </header>\n",
    "\n",
    "Point charges $q_1 = 2.0~\\mu$C and $q_2 = 4.0~\\mu$C are located at $\\vec{r}_1 = (4.0\\hat{i} - 2.0\\hat{j} + 5.0\\hat{k})$ m and $\\vec{r}_2 = (8.0\\hat{i} + 5.0\\hat{j} - 9.0\\hat{k})$ m, respectively. What is the force of $q_2$ on $q_1$?\n",
    "\n",
    "\n",
    "[This problem is a slightly modified version from OpenStax. Access for free here](https://openstax.org/books/university-physics-volume-2/pages/5-problems)"
   ]
  },
  {
   "cell_type": "code",
   "execution_count": 5,
   "metadata": {
    "tags": [
     "hide-input",
     "hide-output"
    ]
   },
   "outputs": [
    {
     "name": "stdout",
     "output_type": "stream",
     "text": [
      "The force vector on q1 due to q2 is [-0.01780694 -0.03116215  0.06232431] N\n"
     ]
    }
   ],
   "source": [
    "%reset -f \n",
    "import numpy as np\n",
    "\n",
    "#declare given parameters\n",
    "q1 = 2.0E-6\n",
    "q2 = 4.0E-6\n",
    "\n",
    "#look-up \n",
    "k = 8.99E9\n",
    "\n",
    "r1 = np.array([4.0, -2.0, 5.0])   #arrays\n",
    "r2 = np.array([8.0, 5.0, -9.0])\n",
    "\n",
    "d12 = np.sqrt((r1[0] - r2[0])**2 + (r1[1] - r2[1])**2 + (r1[2] - r2[2])**2)   #pythagorean theorem\n",
    "\n",
    "r12 = r1 - r2  #directed line segment from source (charge 2) to test (charge1)\n",
    "\n",
    "f12 = (k*q1*q2)*r12/d12\n",
    "\n",
    "print('The force vector on q1 due to q2 is '+str(f12)+ ' N')"
   ]
  },
  {
   "cell_type": "markdown",
   "metadata": {},
   "source": [
    "<hr style=\"height:2px;border-width:0;color:gray;background-color:gray\">"
   ]
  },
  {
   "cell_type": "markdown",
   "metadata": {},
   "source": [
    "<h2>Problem D1.6</h2>\n",
    "    </header>\n",
    "    \n",
    "The charges $q_1 = 2.0\\times 10^{-7}$ C, $q_2 = -4.0\\times 10^{-7}$ C, and $q_3 = -1.0\\times 10^{-7}$ C are placed at the corners of the triangle shown below. What is the force on $q_1$?\n",
    " \n",
    "<img src=\"P-D1.6.png\"  width=\"300\"/>\n",
    "\n",
    "[This problem is a slightly modified version from OpenStax. Access for free here](https://openstax.org/books/university-physics-volume-2/pages/5-problems)"
   ]
  },
  {
   "cell_type": "code",
   "execution_count": 6,
   "metadata": {
    "tags": [
     "hide-input",
     "hide-output"
    ]
   },
   "outputs": [
    {
     "name": "stdout",
     "output_type": "stream",
     "text": [
      "The force vector on q1 due to q2 and q3 is [ 0.00057536 -0.00043152] N\n"
     ]
    }
   ],
   "source": [
    "%reset -f \n",
    "import numpy as np\n",
    "\n",
    "q1 = 2.0E-7\n",
    "q2 = -4.0E-7\n",
    "q3 = -1.0E-7\n",
    "\n",
    "k = 8.99E9\n",
    "\n",
    "#let q3 be at origin of reference frame\n",
    "r1 = np.array([0.0, 3.0])\n",
    "r2 = np.array([4.0, 0.0])\n",
    "r3 = np.array([0.0, 0.0])\n",
    "\n",
    "d12 = np.sqrt((r1[0] - r2[0])**2 + (r1[1] - r2[1])**2)   #pythagorean theorem\n",
    "d13 = np.sqrt((r1[0] - r3[0])**2 + (r1[1] - r3[1])**2)   #pythagorean theorem\n",
    "\n",
    "r12 = r1 - r2\n",
    "r13 = r1 = r3\n",
    "\n",
    "f12 = (k*q1*q2)*r12/d12\n",
    "f13 = (k*q1*q3)*r13/d13\n",
    "\n",
    "f = f12 + f13\n",
    "\n",
    "print('The force vector on q1 due to q2 and q3 is '+str(f)+ ' N')"
   ]
  },
  {
   "cell_type": "markdown",
   "metadata": {},
   "source": [
    "<hr style=\"height:2px;border-width:0;color:gray;background-color:gray\">"
   ]
  },
  {
   "cell_type": "markdown",
   "metadata": {},
   "source": [
    "<h2>Problem D1.7</h2>\n",
    "    </header>\n",
    "\n",
    "On a typical clear day, the atmospheric electric field points downward and has a magnitude of approximately $100.0$ N/C. \n",
    "\n",
    "1. Compare the gravitational and electric forces on a small dust particle of mass $2.0\\times 10^{−15}$ g that carries a single electron charge. \n",
    "2. What is the acceleration (both magnitude and direction) of the dust particle?\n",
    "\n",
    "[This problem is a slightly modified version from OpenStax. Access for free here](https://openstax.org/books/university-physics-volume-2/pages/5-problems)"
   ]
  },
  {
   "cell_type": "code",
   "execution_count": 7,
   "metadata": {
    "tags": [
     "hide-input",
     "hide-output"
    ]
   },
   "outputs": [
    {
     "name": "stdout",
     "output_type": "stream",
     "text": [
      "The ratio between gravitational and electric forces is: 1.2247191011235956\n",
      "The acceleration is: -1.8000000000000012 m/s^2\n"
     ]
    }
   ],
   "source": [
    "%reset -f \n",
    "import numpy as np\n",
    "\n",
    "#declare variable\n",
    "E = -100.0   #positive up\n",
    "m = 2.0E-18\n",
    "q = -1.602E-19   \n",
    "\n",
    "g = 9.81\n",
    "\n",
    "fgy = -m*g\n",
    "fEy = q*E   \n",
    "\n",
    "ratio = np.abs(fgy/fEy)\n",
    "\n",
    "print('The ratio between gravitational and electric forces is: '+str(ratio))\n",
    "\n",
    "f_net = fEy + fgy\n",
    "\n",
    "a = f_net/m\n",
    "\n",
    "print('The acceleration is: '+str(a)+' m/s^2')"
   ]
  },
  {
   "cell_type": "markdown",
   "metadata": {},
   "source": [
    "<hr style=\"height:2px;border-width:0;color:gray;background-color:gray\">"
   ]
  },
  {
   "cell_type": "markdown",
   "metadata": {},
   "source": [
    "<h2>Problem D1.8</h2>\n",
    "    </header>\n",
    "\n",
    "What is the electric field at a point where the force on a $−2.0\\times 10^{−6}$ C charge is  $(4.0\\hat{i} − 6.0\\hat{j})\\times 10^{−6}$ N?\n",
    "\n",
    "[This problem is a slightly modified version from OpenStax. Access for free here](https://openstax.org/books/university-physics-volume-2/pages/5-problems)"
   ]
  },
  {
   "cell_type": "code",
   "execution_count": 8,
   "metadata": {
    "tags": [
     "hide-input",
     "hide-output"
    ]
   },
   "outputs": [
    {
     "name": "stdout",
     "output_type": "stream",
     "text": [
      "The electric field vector is: [-2.  3.] N/C\n"
     ]
    }
   ],
   "source": [
    "%reset -f \n",
    "import numpy as np\n",
    "\n",
    "q = -2.0E-6\n",
    "f = np.array([4.0, -6.0])*1E-6\n",
    "\n",
    "E = f/q\n",
    "\n",
    "print('The electric field vector is: '+str(E)+' N/C')"
   ]
  },
  {
   "cell_type": "markdown",
   "metadata": {},
   "source": [
    "<hr style=\"height:2px;border-width:0;color:gray;background-color:gray\">"
   ]
  },
  {
   "cell_type": "markdown",
   "metadata": {},
   "source": [
    "<h2>Problem D1.9</h2>\n",
    "    </header>\n",
    "\n",
    "Can you arrange the two point charges $q_1 = -2.0\\times 10^{-6}$ C and $q_2 = 4.0\\times 10^{-6}$ C along the x-axis so that $E = 0$ at the origin?\n",
    "\n",
    "[This problem is a slightly modified version from OpenStax. Access for free here](https://openstax.org/books/university-physics-volume-2/pages/5-problems)"
   ]
  },
  {
   "cell_type": "code",
   "execution_count": 9,
   "metadata": {
    "tags": [
     "hide-input",
     "hide-output"
    ]
   },
   "outputs": [
    {
     "name": "stdout",
     "output_type": "stream",
     "text": [
      "The E-field will be zero if the (x1, x2) = (0.707106781186548*x2, x2) m\n"
     ]
    },
    {
     "ename": "StdinNotImplementedError",
     "evalue": "raw_input was called, but this frontend does not support input requests.",
     "output_type": "error",
     "traceback": [
      "\u001b[0;31m---------------------------------------------------------------------------\u001b[0m",
      "\u001b[0;31mStdinNotImplementedError\u001b[0m                  Traceback (most recent call last)",
      "Input \u001b[0;32mIn [9]\u001b[0m, in \u001b[0;36m<cell line: 26>\u001b[0;34m()\u001b[0m\n\u001b[1;32m     23\u001b[0m sol \u001b[38;5;241m=\u001b[39m sym\u001b[38;5;241m.\u001b[39msolve(eq,x1,x2)\n\u001b[1;32m     24\u001b[0m \u001b[38;5;28mprint\u001b[39m(\u001b[38;5;124m'\u001b[39m\u001b[38;5;124mThe E-field will be zero if the (x1, x2) = \u001b[39m\u001b[38;5;124m'\u001b[39m\u001b[38;5;241m+\u001b[39m\u001b[38;5;28mstr\u001b[39m(sol[\u001b[38;5;241m1\u001b[39m])\u001b[38;5;241m+\u001b[39m \u001b[38;5;124m'\u001b[39m\u001b[38;5;124m m\u001b[39m\u001b[38;5;124m'\u001b[39m)\n\u001b[0;32m---> 26\u001b[0m val \u001b[38;5;241m=\u001b[39m \u001b[38;5;28;43minput\u001b[39;49m\u001b[43m(\u001b[49m\u001b[38;5;124;43m'\u001b[39;49m\u001b[38;5;124;43mDo you want to test it? [Y/N]\u001b[39;49m\u001b[38;5;124;43m'\u001b[39;49m\u001b[43m)\u001b[49m\n\u001b[1;32m     27\u001b[0m \u001b[38;5;28;01mif\u001b[39;00m val \u001b[38;5;241m==\u001b[39m \u001b[38;5;124m'\u001b[39m\u001b[38;5;124mY\u001b[39m\u001b[38;5;124m'\u001b[39m \u001b[38;5;129;01mor\u001b[39;00m val \u001b[38;5;241m==\u001b[39m \u001b[38;5;124m'\u001b[39m\u001b[38;5;124my\u001b[39m\u001b[38;5;124m'\u001b[39m:\n\u001b[1;32m     28\u001b[0m     xb \u001b[38;5;241m=\u001b[39m \u001b[38;5;28minput\u001b[39m(\u001b[38;5;124m\"\u001b[39m\u001b[38;5;124mEnter a x2 position (in m): \u001b[39m\u001b[38;5;124m\"\u001b[39m) \n",
      "File \u001b[0;32m~/opt/anaconda3/lib/python3.9/site-packages/ipykernel/kernelbase.py:1072\u001b[0m, in \u001b[0;36mKernel.raw_input\u001b[0;34m(self, prompt)\u001b[0m\n\u001b[1;32m   1065\u001b[0m \u001b[38;5;124;03m\"\"\"Forward raw_input to frontends\u001b[39;00m\n\u001b[1;32m   1066\u001b[0m \n\u001b[1;32m   1067\u001b[0m \u001b[38;5;124;03mRaises\u001b[39;00m\n\u001b[1;32m   1068\u001b[0m \u001b[38;5;124;03m------\u001b[39;00m\n\u001b[1;32m   1069\u001b[0m \u001b[38;5;124;03mStdinNotImplementedError if active frontend doesn't support stdin.\u001b[39;00m\n\u001b[1;32m   1070\u001b[0m \u001b[38;5;124;03m\"\"\"\u001b[39;00m\n\u001b[1;32m   1071\u001b[0m \u001b[38;5;28;01mif\u001b[39;00m \u001b[38;5;129;01mnot\u001b[39;00m \u001b[38;5;28mself\u001b[39m\u001b[38;5;241m.\u001b[39m_allow_stdin:\n\u001b[0;32m-> 1072\u001b[0m     \u001b[38;5;28;01mraise\u001b[39;00m StdinNotImplementedError(\n\u001b[1;32m   1073\u001b[0m         \u001b[38;5;124m\"\u001b[39m\u001b[38;5;124mraw_input was called, but this frontend does not support input requests.\u001b[39m\u001b[38;5;124m\"\u001b[39m\n\u001b[1;32m   1074\u001b[0m     )\n\u001b[1;32m   1075\u001b[0m \u001b[38;5;28;01mreturn\u001b[39;00m \u001b[38;5;28mself\u001b[39m\u001b[38;5;241m.\u001b[39m_input_request(\n\u001b[1;32m   1076\u001b[0m     \u001b[38;5;28mstr\u001b[39m(prompt),\n\u001b[1;32m   1077\u001b[0m     \u001b[38;5;28mself\u001b[39m\u001b[38;5;241m.\u001b[39m_parent_ident[\u001b[38;5;124m\"\u001b[39m\u001b[38;5;124mshell\u001b[39m\u001b[38;5;124m\"\u001b[39m],\n\u001b[1;32m   1078\u001b[0m     \u001b[38;5;28mself\u001b[39m\u001b[38;5;241m.\u001b[39mget_parent(\u001b[38;5;124m\"\u001b[39m\u001b[38;5;124mshell\u001b[39m\u001b[38;5;124m\"\u001b[39m),\n\u001b[1;32m   1079\u001b[0m     password\u001b[38;5;241m=\u001b[39m\u001b[38;5;28;01mFalse\u001b[39;00m,\n\u001b[1;32m   1080\u001b[0m )\n",
      "\u001b[0;31mStdinNotImplementedError\u001b[0m: raw_input was called, but this frontend does not support input requests."
     ]
    }
   ],
   "source": [
    "%reset -f \n",
    "import sympy as sym\n",
    "import numpy as np\n",
    "\n",
    "q1 = -2.0E-6\n",
    "q2 = 4.0E-6\n",
    "\n",
    "k = 8.99E9\n",
    "\n",
    "x = 0.0\n",
    "\n",
    "x1 = sym.Symbol('x1')\n",
    "x2 = sym.Symbol('x2')\n",
    "\n",
    "d1 = sym.sqrt((x - x1)**2)\n",
    "d2 = sym.sqrt((x - x2)**2)\n",
    "\n",
    "E1 = k*q1*(x - x1)/d1**3\n",
    "E2 = k*q2*(x - x2)/d2**3\n",
    "\n",
    "eq = E1 + E2\n",
    "\n",
    "sol = sym.solve(eq,x1,x2)\n",
    "print('The E-field will be zero if the (x1, x2) = '+str(sol[1])+ ' m')\n",
    "\n",
    "val = input('Do you want to test it? [Y/N]')\n",
    "if val == 'Y' or val == 'y':\n",
    "    xb = input(\"Enter a x2 position (in m): \") \n",
    "    xb = float(xb)\n",
    "    xa = 0.707106781186548*xb\n",
    "    da = sym.sqrt((x - xa)**2)\n",
    "    db = sym.sqrt((x - xb)**2)\n",
    "    Ea = k*q1*(x - xa)/da**3\n",
    "    Eb = k*q2*(x - xb)/db**3\n",
    "\n",
    "    E = Ea + Eb\n",
    "    print('The electric field at x = 0 is: '+str(E)+' N/m')"
   ]
  },
  {
   "cell_type": "markdown",
   "metadata": {},
   "source": [
    "<hr style=\"height:2px;border-width:0;color:gray;background-color:gray\">"
   ]
  },
  {
   "cell_type": "markdown",
   "metadata": {},
   "source": [
    "<h2>Problem D1.10</h2>\n",
    "    </header>\n",
    "\n",
    "Point charges $q_1 = q_2 = 4.0\\times 10^{-6}$ C are fixed on the x-axis at $x = −3.0$ m and $x = 3.0$ m.\n",
    "What charge q must be placed at the origin so that the electric field vanishes at  (x,y) = (0,3) m?\n",
    "\n",
    "[This problem is a slightly modified version from OpenStax. Access for free here](https://openstax.org/books/university-physics-volume-2/pages/5-problems)"
   ]
  },
  {
   "cell_type": "code",
   "execution_count": 129,
   "metadata": {
    "tags": [
     "hide-input",
     "hide-output"
    ]
   },
   "outputs": [
    {
     "name": "stdout",
     "output_type": "stream",
     "text": [
      "The charge at the origin must be: -2.82842712474619e-6 C\n"
     ]
    }
   ],
   "source": [
    "import sympy as sym\n",
    "\n",
    "q1 = 4.0E-6\n",
    "q2 = 4.0E-6\n",
    "\n",
    "k = 8.99E9\n",
    "\n",
    "x1 = -3.0\n",
    "y1 = 0.0\n",
    "x2 = 3.0\n",
    "y2 = 0.0\n",
    "x3 = 0.0\n",
    "y3 = 0.0\n",
    "\n",
    "x = 0.0\n",
    "y = 3.0\n",
    "\n",
    "d1 = sym.sqrt((x - x1)**2 + (y - y1)**2)\n",
    "d2 = sym.sqrt((x - x2)**2 + (y - y2)**2)\n",
    "d3 = sym.sqrt((x - x3)**2 + (y - y3)**2)\n",
    "\n",
    "q3 = sym.Symbol('q3')\n",
    "\n",
    "E1x = k*q1*(x - x1)/d1**3\n",
    "E1y = k*q1*(y - y1)/d1**3\n",
    "\n",
    "E2x = k*q2*(x - x2)/d2**3\n",
    "E2y = k*q2*(y - y2)/d2**3\n",
    "\n",
    "E3x = k*q3*(x - x3)/d3**3\n",
    "E3y = k*q3*(y - y3)/d3**3\n",
    "\n",
    "eqx = E1x + E2x + E3x\n",
    "eqy = E1y + E2y + E3y\n",
    "\n",
    "sol = sym.solve((eqx,eqy),q3)\n",
    "print('The charge at the origin must be: '+str(sol[q3])+' C')"
   ]
  },
  {
   "cell_type": "markdown",
   "metadata": {},
   "source": [
    "<hr style=\"height:2px;border-width:0;color:gray;background-color:gray\">"
   ]
  }
 ],
 "metadata": {
  "celltoolbar": "Tags",
  "kernelspec": {
   "display_name": "Python 3 (ipykernel)",
   "language": "python",
   "name": "python3"
  },
  "language_info": {
   "codemirror_mode": {
    "name": "ipython",
    "version": 3
   },
   "file_extension": ".py",
   "mimetype": "text/x-python",
   "name": "python",
   "nbconvert_exporter": "python",
   "pygments_lexer": "ipython3",
   "version": "3.9.12"
  }
 },
 "nbformat": 4,
 "nbformat_minor": 4
}