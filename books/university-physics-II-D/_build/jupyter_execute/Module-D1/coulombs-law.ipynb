{
 "cells": [
  {
   "cell_type": "markdown",
   "metadata": {},
   "source": [
    "# D1.4 Coulomb's Law\n",
    "<hr style=\"height:2px;border-width:0;color:gray;background-color:gray\">"
   ]
  },
  {
   "cell_type": "markdown",
   "metadata": {},
   "source": [
    "## D1.4.1 Coulomb's Law\n",
    "\n",
    "Coulomb derived his law based on experiments by observing the interaction between two charged (point-like) objects using a torsion balance setup. The charges werer obviously not point charges but simply conducting objects. Knowing how to add/remove charges and the relationship between how much was added/removed (see for example Box 4 in notes on conductors), he found the interaction to be\n",
    "\n",
    "* proportional to the product between the charges on the two objects.\n",
    "* inverse proportional to the distance between the two objects squared.\n",
    "* directed along a straight-line segment connecting the to objects.\n",
    "* attractive if the charges had opposite signs and repulsive if the charges has similar signs.\n",
    "* connected through a proportionality constant, which he labeled as $k$: the <b>Coulomb's constant</b>. \n",
    "\n",
    "In summary, the magnitude of the force acting on charge 2 due to charge 1 was found to be:\n",
    "\n",
    "<div class=\"alert alert-success\">\n",
    "    \n",
    "$$ F = \\frac{k|q_{1}||q_{2}|}{r^2} \\tag{1}$$\n",
    "</div>\n",
    "    \n",
    "and is known as **Coulomb's Law**, and provided that \n",
    "\n",
    "$$ k = \\frac{1}{4\\pi\\varepsilon_0}$$\n",
    "\n",
    "The values of the constants are: $\\epsilon_0 = 8.85\\times 10^{-12}$ N$^{-1} $m$^{-2} $C$^{2}$ and $k = 8.99\\times 10^9$ Nm$^2$C$^{-2}$.\n",
    "\n",
    "NOTE: sometimes $r$ is written as $d$ to make the point that it is the **distance** between the source location and the point of interest. However, using $r$ makes the connection to Gauss's Law more clear (we will discuss Gauss's Law later in the semester).\n",
    "\n",
    "<div class=\"alert alert-danger\">\n",
    "Coulomb's Law is only applicable to point charges or point-like objects!\n",
    "</div>\n",
    "\n",
    "[Wikipedia Page on Coulomb](https://en.wikipedia.org/wiki/Coulomb%27s_law)\n",
    "    \n",
    "<hr style=\"height:2px;border-width:0;color:gray;background-color:gray\">"
   ]
  },
  {
   "cell_type": "markdown",
   "metadata": {},
   "source": [
    "<div class=\"alert alert-warning\">\n",
    "    <b> Box 1 </b><br>\n",
    "    \n",
    "A ground-state electron in the hydrogen atom is most likely to be found at a distance of $5.29\\times 10^{-11}$ m from the nucleus (a proton). Assume the proton to be a point charge with a charge of $q = 1.602\\times 10^{-19}$ C.  In this naive approach, what is the electric force experienced by the electron? (specify both magnitude and direction.)     \n",
    "    \n",
    "\n",
    "</div>"
   ]
  },
  {
   "cell_type": "code",
   "execution_count": 1,
   "metadata": {
    "tags": [
     "hide-input",
     "hide-output"
    ]
   },
   "outputs": [
    {
     "name": "stdout",
     "output_type": "stream",
     "text": [
      "The magnitude of the force is: 8.24467178147591e-08 N, directed away from the proton.\n"
     ]
    }
   ],
   "source": [
    "# Input parameters\n",
    "# ---------------\n",
    "q1 = 1.602E-19\n",
    "q2 = 1.602E-19\n",
    "k = 8.99E9\n",
    "r = 5.29E-11\n",
    "\n",
    "# Coulomb's law\n",
    "# --------------\n",
    "F = (k*q1*q2)/(r**2)\n",
    "\n",
    "# direction\n",
    "# ---------\n",
    "# since the charges are of opposite charge, they repel each other. The force must be away from the proton.\n",
    "\n",
    "# print answer\n",
    "# ------------\n",
    "print('The magnitude of the force is: '+str(F)+' N, directed away from the proton.')"
   ]
  },
  {
   "cell_type": "markdown",
   "metadata": {},
   "source": [
    "<hr style=\"height:2px;border-width:0;color:gray;background-color:gray\">"
   ]
  },
  {
   "cell_type": "markdown",
   "metadata": {},
   "source": [
    "<div class=\"alert alert-warning\">\n",
    "    <b> Box 2 </b><br>\n",
    "    \n",
    "A ground-state electron in the hydrogen atom is most likely to be found at a distance of $5.29\\times 10^{-11}$ m from the nucleus (a proton). Assume the proton to be a point charge with a charge of $q = 1.602\\times 10^{-19}$ C.  Using a classical mechanics approach, how fast is the electron moving around the nucleus if we assume a circular orbit?\n",
    "    \n",
    "HINT: Think polar coordinates.\n",
    "   \n",
    "</div>"
   ]
  },
  {
   "cell_type": "code",
   "execution_count": 2,
   "metadata": {
    "tags": [
     "hide-input",
     "hide-output"
    ]
   },
   "outputs": [
    {
     "name": "stdout",
     "output_type": "stream",
     "text": [
      "The speed of the electron is: 2188112.44023539 m/s.\n"
     ]
    }
   ],
   "source": [
    "#use symbolic python to solve it\n",
    "import sympy as sym\n",
    "\n",
    "# We need the force from before, so copy the script from Box 1\n",
    "# Input parameters\n",
    "# ---------------\n",
    "q1 = 1.602E-19\n",
    "q2 = 1.602E-19\n",
    "k = 8.99E9\n",
    "r = 5.29E-11\n",
    "\n",
    "# Coulomb's law\n",
    "# --------------\n",
    "F = (k*q1*q2)/(r**2)\n",
    "\n",
    "# Since the force is radial and constant in magnitude for a circular motion, \n",
    "# it cannot change the speed of the particle (zero work). This is a case of\n",
    "# uniform circular motion.\n",
    "# in this case, the only acceleration term in polar coordinates is the centripetal acceleration:\n",
    "\n",
    "# F_net = mv/r^2\n",
    "\n",
    "# setup the unknown and equation\n",
    "m = 9.1094E-31\n",
    "v = sym.Symbol('v')\n",
    "eq = F - m*v**2/r\n",
    "sol = sym.solve(eq,v)\n",
    "\n",
    "# print answer\n",
    "# ------------\n",
    "print('The speed of the electron is: '+str(sol[1])+' m/s.')"
   ]
  },
  {
   "cell_type": "markdown",
   "metadata": {},
   "source": [
    "## 1.4.2 Coulomb's Law in Vector Form\n",
    "\n",
    "Depending on the problem we are presented with, it may be more appropriate to deploy Coulomb's law in vector form:\n",
    "\n",
    "<div class=\"alert alert-success\">\n",
    "    \n",
    "$$ \\vec{F} = \\frac{kq_{1}q_{2}}{r_{21}^2}\\hat{r}_{21} \\tag{2}$$\n",
    "</div>\n",
    "\n",
    "where $\\hat{r}_{21}$ is a unit vector of $\\vec{r}_{21}$, which is the **directed line segment from the source charge $q_1$ to the test charge $q_2$**: $\\vec{r}_{21} = \\vec{r}_2 - \\vec{r}_1$. This approach will provide us with the proper direction of the force for either positive and/or negative charge interactions.\n",
    "\n",
    "Alternatively, and often more useful, we can use the definition of the unit vector:\n",
    "\n",
    "$$ \\hat{r}_{21} = \\frac{\\vec{r}_{21}}{r_{21}} $$\n",
    "\n",
    "to write Coulomb's force as \n",
    "\n",
    "<div class=\"alert alert-success\">\n",
    "    \n",
    "$$ \\vec{F} = \\frac{kq_{1}q_{2}}{r_{21}^3}\\vec{r}_{21} \\tag{3}$$\n",
    "</div>\n",
    "\n",
    "The later form is more applicable if we insert the actual position vectors for the source $\\vec{r}_1$ and the test $\\vec{r}_2$ charges:\n",
    "\n",
    "<div class=\"alert alert-success\">\n",
    "    \n",
    "$$ \\vec{F} = kq_{1}q_{2}\\frac{\\vec{r}_2 - \\vec{r}_1}{|\\vec{r}_2 - \\vec{r}_1|^3} \\tag{4}$$\n",
    "</div>\n",
    "<hr style=\"height:2px;border-width:0;color:gray;background-color:gray\">"
   ]
  },
  {
   "cell_type": "markdown",
   "metadata": {},
   "source": [
    "<div class=\"alert alert-warning\">\n",
    "    <b> Box 3 </b><br>\n",
    "    \n",
    "A 5.00 mC point charge is located at $(x,y) = (2.00~\\textrm{m}, 3.00~\\textrm{m})$. A second point charge with a charge of 2.00 mC is located at $(x,y) = (3.00~\\textrm{m}, 1.50~\\textrm{m})$. What is the force on the 2.00 mC charge due to the 5.00 mC point charge?\n",
    "   \n",
    "</div>"
   ]
  },
  {
   "cell_type": "code",
   "execution_count": 3,
   "metadata": {
    "tags": [
     "hide-input",
     "hide-output"
    ]
   },
   "outputs": [
    {
     "name": "stdout",
     "output_type": "stream",
     "text": [
      "The force components are: [Fx, Fy] = [15343.86081250711, -23015.791218760663] N\n"
     ]
    }
   ],
   "source": [
    "import numpy as np\n",
    "\n",
    "# Input parameters\n",
    "# ---------------\n",
    "q1 = 5.00E-3\n",
    "q2 = 2.00E-3\n",
    "k = 8.99E9\n",
    "\n",
    "x1 = 2.00\n",
    "y1 = 3.00\n",
    "x2 = 3.00\n",
    "y2 = 1.50\n",
    "\n",
    "# components of directed line segment from source charge (1) to test charge (2)\n",
    "rx = x2 - x1\n",
    "ry = y2 - y1\n",
    "# magnitiude of directed line segment from source charge (1) to test charge (2)\n",
    "r = np.sqrt(rx**2 + ry**2)\n",
    "\n",
    "# component form of Coulomb's law (Equation 3 in notes above)\n",
    "Fx = k*q1*q2*rx/r**3\n",
    "Fy = k*q1*q2*ry/r**3\n",
    "\n",
    "# combine the components into an array (easier to print, that's all)\n",
    "F = [Fx,Fy]\n",
    "\n",
    "print('The force components are: [Fx, Fy] = '+str(F)+' N')"
   ]
  },
  {
   "cell_type": "markdown",
   "metadata": {},
   "source": [
    "<hr style=\"height:2px;border-width:0;color:gray;background-color:gray\">"
   ]
  }
 ],
 "metadata": {
  "celltoolbar": "Tags",
  "kernelspec": {
   "display_name": "Python 3 (ipykernel)",
   "language": "python",
   "name": "python3"
  },
  "language_info": {
   "codemirror_mode": {
    "name": "ipython",
    "version": 3
   },
   "file_extension": ".py",
   "mimetype": "text/x-python",
   "name": "python",
   "nbconvert_exporter": "python",
   "pygments_lexer": "ipython3",
   "version": "3.10.9"
  }
 },
 "nbformat": 4,
 "nbformat_minor": 2
}