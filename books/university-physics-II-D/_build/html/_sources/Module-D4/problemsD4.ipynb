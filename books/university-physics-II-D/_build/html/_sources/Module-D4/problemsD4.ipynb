{
 "cells": [
  {
   "cell_type": "markdown",
   "metadata": {},
   "source": [
    "# D4.5 Problems\n",
    "<hr style=\"height:2px;border-width:0;color:gray;background-color:gray\">"
   ]
  },
  {
   "cell_type": "markdown",
   "metadata": {},
   "source": [
    "<h2>Problem D4.1</h2>\n",
    "    </header>\n",
    "\n",
    "How many electrons flow through a point in a wire in $3.00$ s if there is a constant current of $I = 4.00$ A?\n",
    " \n",
    "[This problem is a slightly modified version from OpenStax. Access for free here](https://openstax.org/books/university-physics-volume-2/pages/9-problems)"
   ]
  },
  {
   "cell_type": "code",
   "execution_count": 1,
   "metadata": {
    "tags": [
     "hide-input",
     "hide-output"
    ]
   },
   "outputs": [],
   "source": [
    "%reset -f"
   ]
  },
  {
   "cell_type": "markdown",
   "metadata": {},
   "source": [
    "<hr style=\"height:2px;border-width:0;color:gray;background-color:gray\">"
   ]
  },
  {
   "cell_type": "markdown",
   "metadata": {},
   "source": [
    "<h2>Problem D4.2</h2>\n",
    "    </header>\n",
    "\n",
    "The quantity of charge through a conductor is modeled as $Q = (4.00~\\textrm{C/s}^4)~t^4 - (1.00~\\textrm{C/s})~t + (6.00~\\textrm{mC})$. What is the current at time $t = 3.00$ s?\n",
    "\n",
    "[This problem is a slightly modified version from OpenStax. Access for free here](https://openstax.org/books/university-physics-volume-2/pages/9-problems)"
   ]
  },
  {
   "cell_type": "code",
   "execution_count": 2,
   "metadata": {
    "tags": [
     "hide-input",
     "hide-output"
    ]
   },
   "outputs": [],
   "source": [
    "%reset -f"
   ]
  },
  {
   "cell_type": "markdown",
   "metadata": {},
   "source": [
    "<hr style=\"height:2px;border-width:0;color:gray;background-color:gray\">"
   ]
  },
  {
   "cell_type": "markdown",
   "metadata": {},
   "source": [
    "<h2>Problem D4.3</h2>\n",
    "    </header>\n",
    "\n",
    "The charge on a capacitor in a circuit is modeled as $Q(t) = Q_{max}\\cos(\\omega t + \\phi)$. What is the current through the circuit as a function of time?\n",
    "\n",
    "[This problem is a slightly modified version from OpenStax. Access for free here](https://openstax.org/books/university-physics-volume-2/pages/9-problems)"
   ]
  },
  {
   "cell_type": "code",
   "execution_count": 3,
   "metadata": {
    "tags": [
     "hide-input",
     "hide-output"
    ]
   },
   "outputs": [],
   "source": [
    "%reset -f"
   ]
  },
  {
   "cell_type": "markdown",
   "metadata": {},
   "source": [
    "<hr style=\"height:2px;border-width:0;color:gray;background-color:gray\">"
   ]
  },
  {
   "cell_type": "markdown",
   "metadata": {},
   "source": [
    "<h2>Problem D4.4</h2>\n",
    "    </header>\n",
    "\n",
    "The current through a conductor is modeled as $I = I_{m}\\sin(2\\pi[60~\\textrm{Hz}]~t)$. Write an equation for the charge as a function of time.\n",
    "\n",
    "[This problem is a slightly modified version from OpenStax. Access for free here](https://openstax.org/books/university-physics-volume-2/pages/9-problems)"
   ]
  },
  {
   "cell_type": "code",
   "execution_count": 4,
   "metadata": {
    "tags": [
     "hide-input",
     "hide-output"
    ]
   },
   "outputs": [],
   "source": [
    "%reset -f"
   ]
  },
  {
   "cell_type": "markdown",
   "metadata": {},
   "source": [
    "<hr style=\"height:2px;border-width:0;color:gray;background-color:gray\">"
   ]
  },
  {
   "cell_type": "markdown",
   "metadata": {},
   "source": [
    "<h2>Problem D4.5</h2>\n",
    "    </header>\n",
    "    \n",
    "What current flows through the bulb of a $3.00$ V flashlight when its hot resistance is $3.60~\\Omega$?\n",
    "\n",
    "[This problem is a slightly modified version from OpenStax. Access for free here](https://openstax.org/books/university-physics-volume-2/pages/9-problems)"
   ]
  },
  {
   "cell_type": "code",
   "execution_count": 5,
   "metadata": {
    "tags": [
     "hide-input",
     "hide-output"
    ]
   },
   "outputs": [],
   "source": [
    "%reset -f"
   ]
  },
  {
   "cell_type": "markdown",
   "metadata": {},
   "source": [
    "<hr style=\"height:2px;border-width:0;color:gray;background-color:gray\">"
   ]
  },
  {
   "cell_type": "markdown",
   "metadata": {},
   "source": [
    "<h2>Problem D4.6</h2>\n",
    "    </header>\n",
    "\n",
    "What is the resistance of a $20.0$ m long piece of 12-gauge copper wire having a $2.053$ mm diameter? HINT: look up the resistivity of copper.\n",
    "\n",
    "[This problem is a slightly modified version from OpenStax. Access for free here](https://openstax.org/books/university-physics-volume-2/pages/9-problems)"
   ]
  },
  {
   "cell_type": "markdown",
   "metadata": {},
   "source": [
    "<hr style=\"height:2px;border-width:0;color:gray;background-color:gray\">"
   ]
  },
  {
   "cell_type": "markdown",
   "metadata": {},
   "source": [
    "<h2>Problem D4.7</h2>\n",
    "    </header>\n",
    "\n",
    "A resistor rated at $250.0~\\textrm{k}\\Omega$ is connected across two D cell batteries (each $1.50$ V) in series, with a total voltage of $3.00$ V. The manufacturer advertises that their resistors are within $5\\%$ of the rated value. What are the possible minimum current and maximum current through the resistor?\n",
    "\n",
    "[This problem is a slightly modified version from OpenStax. Access for free here](https://openstax.org/books/university-physics-volume-2/pages/9-problems)"
   ]
  },
  {
   "cell_type": "markdown",
   "metadata": {},
   "source": [
    "<hr style=\"height:2px;border-width:0;color:gray;background-color:gray\">"
   ]
  },
  {
   "cell_type": "markdown",
   "metadata": {},
   "source": [
    "<h2>Problem D4.8</h2>\n",
    "    </header>\n",
    "\n",
    "A $20.00$ V battery is used to supply current to a $10.0~\\textrm{k}\\Omega$ resistor. Assume the voltage drop across any wires used for connections is negligible. \n",
    "\n",
    "1. What is the current through the resistor? \n",
    "2. What is the power dissipated by the resistor? \n",
    "3. What is the power input from the battery, assuming all the electrical power is dissipated by the resistor? 4. What happens to the energy dissipated by the resistor?\n",
    "\n",
    "[This problem is a slightly modified version from OpenStax. Access for free here](https://openstax.org/books/university-physics-volume-2/pages/9-problems)"
   ]
  },
  {
   "cell_type": "markdown",
   "metadata": {},
   "source": [
    "<hr style=\"height:2px;border-width:0;color:gray;background-color:gray\">"
   ]
  },
  {
   "cell_type": "markdown",
   "metadata": {},
   "source": [
    "<h2>Problem D4.9</h2>\n",
    "    </header>\n",
    "\n",
    "A heater is being designed that uses a coil of 14-gauge nichrome wire to generate $300.0$ W using a voltage of\n",
    "$110.0$ V. How long should the engineer make the wire? HINT: look up the diameter for a 14-gauge wire and resistivity of nichrome.\n",
    "\n",
    "[This problem is a slightly modified version from OpenStax. Access for free here](https://openstax.org/books/university-physics-volume-2/pages/9-problems)"
   ]
  },
  {
   "cell_type": "markdown",
   "metadata": {},
   "source": [
    "<hr style=\"height:2px;border-width:0;color:gray;background-color:gray\">"
   ]
  },
  {
   "cell_type": "markdown",
   "metadata": {},
   "source": [
    "<h2>Problem D4.10</h2>\n",
    "    </header>\n",
    "\n",
    "An alternative to CFL bulbs and incandescent bulbs are light-emitting diode (LED) bulbs. A 100-W incandescent bulb can be replaced by a 16-W LED bulb. Both produce 1600 lumens of light. Assuming the cost of electricity is $\\$$0.10 per kilowatt-hour, how much does it cost to run the bulb for one year if it runs for four hours a day?\n",
    "\n",
    "[This problem is a slightly modified version from OpenStax. Access for free here](https://openstax.org/books/university-physics-volume-2/pages/9-problems)"
   ]
  },
  {
   "cell_type": "markdown",
   "metadata": {},
   "source": [
    "<hr style=\"height:2px;border-width:0;color:gray;background-color:gray\">"
   ]
  },
  {
   "cell_type": "markdown",
   "metadata": {},
   "source": [
    "<h2>Problem D4.11</h2>\n",
    "    </header>\n",
    "\n",
    "A resistor is placed in a circuit with an adjustable voltage source. The voltage across and the current through the resistor and the measurements are shown below. Estimate the resistance of the resistor.\n",
    "\n",
    "[This problem is a slightly modified version from OpenStax. Access for free here](https://openstax.org/books/university-physics-volume-2/pages/9-problems)"
   ]
  },
  {
   "cell_type": "code",
   "execution_count": 11,
   "metadata": {
    "tags": [
     "hide-input"
    ]
   },
   "outputs": [
    {
     "data": {
      "image/png": "[encoded data removed]",
      "text/plain": [
       "<Figure size 640x480 with 1 Axes>"
      ]
     },
     "metadata": {},
     "output_type": "display_data"
    }
   ],
   "source": [
    "import matplotlib.pyplot as plt\n",
    "import numpy as np\n",
    "\n",
    "I = np.arange(0.0, 10.1, 1)\n",
    "V = 100*I\n",
    "\n",
    "fig, ax = plt.subplots()\n",
    "ax.scatter(I, V, color='r')\n",
    "ax.set(xlabel='Current (A)', ylabel='Voltage (V)',\n",
    "       title='Ohms Law')\n",
    "ax.set_xlim(0, 10)\n",
    "ax.set_ylim(np.min(V), np.max(V))\n",
    "ax.grid()\n",
    "ax.set_axisbelow(True) \n",
    "plt.show()"
   ]
  },
  {
   "cell_type": "markdown",
   "metadata": {},
   "source": [
    "<hr style=\"height:2px;border-width:0;color:gray;background-color:gray\">"
   ]
  }
 ],
 "metadata": {
  "celltoolbar": "Tags",
  "kernelspec": {
   "display_name": "Python 3 (ipykernel)",
   "language": "python",
   "name": "python3"
  },
  "language_info": {
   "codemirror_mode": {
    "name": "ipython",
    "version": 3
   },
   "file_extension": ".py",
   "mimetype": "text/x-python",
   "name": "python",
   "nbconvert_exporter": "python",
   "pygments_lexer": "ipython3",
   "version": "3.10.9"
  }
 },
 "nbformat": 4,
 "nbformat_minor": 4
}
