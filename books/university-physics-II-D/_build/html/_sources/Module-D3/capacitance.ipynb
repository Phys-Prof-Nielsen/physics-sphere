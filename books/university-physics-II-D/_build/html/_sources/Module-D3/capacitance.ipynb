{
 "cells": [
  {
   "cell_type": "markdown",
   "metadata": {},
   "source": [
    "# D3.1 Capacitance\n",
    "<hr style=\"height:2px;border-width:0;color:gray;background-color:gray\">"
   ]
  },
  {
   "cell_type": "markdown",
   "metadata": {},
   "source": [
    "## D3.1.1 Motivation\n",
    "\n",
    "Capacitors plays a major role in electronic circuits as well as other electrical appliancesOne application of capacitors in circuits are to act as storage banks for electric charge that can be readily discharged as needed for example in pulsed lasers and defibrilators. Other applications are in band-pass filters, AC couplers, and \n",
    "sensor systems such as a stud finder (finding studs hidden behind drywall, not cool physics professors wandering the halls of UVU). \n",
    "\n",
    "[Wiki for more info](https://en.wikipedia.org/wiki/Applications_of_capacitors)\n",
    "\n",
    "<hr style=\"height:2px;border-width:0;color:gray;background-color:gray\">"
   ]
  },
  {
   "cell_type": "markdown",
   "metadata": {},
   "source": [
    "## D3.1.2 Definition\n",
    "\n",
    "A **capacitor** is simply any two (or more) separated conductors and we can assign it a **capacitance** $C$:\n",
    "\n",
    "<div class=\"alert alert-success\">\n",
    "    \n",
    "$$ C = \\frac{Q}{\\Delta V} \\tag{1}$$\n",
    "</div>\n",
    "\n",
    "where $Q$ is the charge stored on the conductors (we assume charges on the two conductors to be $+Q$ and $-Q$, respectively) while $\\Delta V$ is the electric potential difference (or voltage) across the two conductors. The unit of capacitance is C/V and we define that as a **Farad** (F).\n",
    "\n",
    "<div class=\"alert alert-info\">\n",
    "    Conceptually the capacitance is a measure of charge stored on the conductors provided a given voltage. Hence, capacitors are means of storing charge (and energy) in an electrical system.\n",
    "    </div>\n",
    "    \n",
    "Since voltage refers to a electric potential difference ($\\Delta V$) and we are free to choose a zero electric potential reference, we often let one conductor have electric potential $V = 0$ and the other an electric potential $V$. In this case, $\\Delta V = V - 0 = V$, and Eq. (1) is often written as \n",
    "\n",
    "$$ C = \\frac{Q}{V} \\tag{2}$$\n",
    "        \n",
    "However, we should be aware that the $V$ in this equation refers to the electric potential difference (or voltage) across the capacitor \n",
    "    \n",
    " There are many forms and shapes of capacitors. For now, we will focus our attention to the simplest system (which is also widely used in electronics): the **parallel plate capacitor**.\n",
    " \n",
    "<hr style=\"height:2px;border-width:0;color:gray;background-color:gray\">"
   ]
  },
  {
   "cell_type": "markdown",
   "metadata": {},
   "source": [
    "<div class=\"alert alert-warning\">\n",
    "<b>Box 1 </b>\n",
    "\n",
    "A defibrillator is a capacitor used to establish a voltage **across** the human heart to drive a current **through** the heart to restore normal heartbeat. A specific defibrillator is charged through an electrical outlet providing a voltage of $120$ V across it. The capacitance of the defibrillator is $220$ $\\mu$F. How much charge is stored on its plates?\n",
    "               \n",
    "</div>"
   ]
  },
  {
   "cell_type": "code",
   "execution_count": 1,
   "metadata": {
    "tags": [
     "hide-input",
     "hide-output"
    ]
   },
   "outputs": [
    {
     "name": "stdout",
     "output_type": "stream",
     "text": [
      "Charge on capacitor is 0.0264 C.\n"
     ]
    }
   ],
   "source": [
    "%reset -f\n",
    "\n",
    "dv = 120\n",
    "c = 220E-6\n",
    "\n",
    "q = c*dv\n",
    "\n",
    "print('Charge on capacitor is '+str(q)+' C.')"
   ]
  },
  {
   "cell_type": "markdown",
   "metadata": {},
   "source": [
    "<hr style=\"height:2px;border-width:0;color:gray;background-color:gray\">"
   ]
  },
  {
   "cell_type": "markdown",
   "metadata": {},
   "source": [
    "## D3.1.3 Parallel Plate Capacitor\n",
    "\n",
    "Later in the course, we will derive the following equations, but for now we just want to become familiar with them and practice using them.\n",
    "\n",
    "The capacitance of a parallel plate capacitor with a **vacuum** between the plates is\n",
    "\n",
    "<div class=\"alert alert-success\">\n",
    "\n",
    "$$ C = \\frac{\\varepsilon_0 A}{d} \\tag{3}$$\n",
    "</div>\n",
    "\n",
    "where $\\varepsilon = 8.854\\times 10^{-12}$ F/m is the **vacuum permitivity**, $A$ is the area of one plate, and $d$ is the spacing between the plates. **We notice that the capacitance of the parallel plate capacitor is determined through by spatial properties only (aside from a constant)**.\n",
    "\n",
    "The electric field between the plates is constant, uniform, and given in **magnitude** by\n",
    "\n",
    "$$ E = \\frac{Q}{\\varepsilon A}  = \\frac{\\sigma}{\\varepsilon} $$\n",
    "\n",
    "where $\\sigma$ is the **surface charge density**.\n",
    "\n",
    "<hr style=\"height:2px;border-width:0;color:gray;background-color:gray\">"
   ]
  },
  {
   "cell_type": "markdown",
   "metadata": {},
   "source": [
    "<div class=\"alert alert-warning\">\n",
    "<b>Box 2</b>\n",
    "    <br>\n",
    "    \n",
    "How much work is done by the electric field force in charging the capacitor from $Q = 0$ to $Q$? Hint: the differential amount of work is the change in potential energy being build up as charges accumulates on the plates:\n",
    "    \n",
    "$$ dU = Vdq $$\n",
    "    \n",
    "Use Equation (2) and integrate from $q = 0$ to $q = Q$ and then recognize that $\\Delta U = W$.\n",
    "                    \n",
    "</div>\n",
    "\n",
    "<hr style=\"height:2px;border-width:0;color:gray;background-color:gray\">"
   ]
  },
  {
   "cell_type": "code",
   "execution_count": 9,
   "metadata": {
    "tags": [
     "hide-input",
     "hide-output"
    ]
   },
   "outputs": [
    {
     "name": "stdout",
     "output_type": "stream",
     "text": [
      "Work is Q**2/(2*C)\n"
     ]
    }
   ],
   "source": [
    "%reset -f\n",
    "\n",
    "import sympy as sym\n",
    "\n",
    "Q = sym.Symbol('Q')\n",
    "q1 = 0\n",
    "q2 = Q\n",
    "\n",
    "V = sym.Symbol('V')\n",
    "q = sym.Symbol('q')\n",
    "C = sym.Symbol('C')\n",
    "\n",
    "V = q/C\n",
    "\n",
    "w = sym.integrate(V,(q,q1,q2)) \n",
    "print('Work is '+str(w))"
   ]
  },
  {
   "cell_type": "markdown",
   "metadata": {},
   "source": [
    "<div class=\"alert alert-warning\">\n",
    "<b>Box 3</b>\n",
    "    <br>\n",
    "\n",
    "A rather large, but typical, plate capacitor in an electrical circuit has a capacitance of $2.2\\times 10^{-3}$ F and a gab spacing of $1.00$ mm. If this capacitor is build as a standard parallel plate capacitor, what is the surface area of the plates?\n",
    "    \n",
    "</div>"
   ]
  },
  {
   "cell_type": "code",
   "execution_count": 8,
   "metadata": {
    "tags": [
     "hide-input",
     "hide-output"
    ]
   },
   "outputs": [
    {
     "name": "stdout",
     "output_type": "stream",
     "text": [
      "The surface area of a plate is 248475.2654167608 m^2.\n"
     ]
    }
   ],
   "source": [
    "%reset -f\n",
    "\n",
    "C = 2.2E-3\n",
    "d = 1.0E-3\n",
    "per = 8.854E-12\n",
    "\n",
    "A = C*d/per\n",
    "\n",
    "print('The surface area of a plate is '+str(A)+' m^2.')\n"
   ]
  },
  {
   "cell_type": "markdown",
   "metadata": {},
   "source": [
    "<hr style=\"height:2px;border-width:0;color:gray;background-color:gray\">"
   ]
  },
  {
   "cell_type": "markdown",
   "metadata": {},
   "source": [
    "Obviously, the result from Box 3 would not make sense in an electrical circuite. Instead, these capacitors have dielectric material (like paper) that have large surface areas, but are folded into very small sizes. It is the origami of electronics.\n",
    "\n",
    "<img src=\"D3-fig1.1.jpg\" width=\"300\">"
   ]
  },
  {
   "cell_type": "markdown",
   "metadata": {},
   "source": [
    "<hr style=\"height:2px;border-width:0;color:gray;background-color:gray\">"
   ]
  }
 ],
 "metadata": {
  "celltoolbar": "Tags",
  "kernelspec": {
   "display_name": "Python 3 (ipykernel)",
   "language": "python",
   "name": "python3"
  },
  "language_info": {
   "codemirror_mode": {
    "name": "ipython",
    "version": 3
   },
   "file_extension": ".py",
   "mimetype": "text/x-python",
   "name": "python",
   "nbconvert_exporter": "python",
   "pygments_lexer": "ipython3",
   "version": "3.9.12"
  }
 },
 "nbformat": 4,
 "nbformat_minor": 4
}
