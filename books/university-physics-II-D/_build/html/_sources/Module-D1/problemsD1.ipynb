{
 "cells": [
  {
   "cell_type": "markdown",
   "metadata": {},
   "source": [
    "# D1.6 Problems\n",
    "<hr style=\"height:2px;border-width:0;color:gray;background-color:gray\">"
   ]
  },
  {
   "cell_type": "markdown",
   "metadata": {},
   "source": [
    "<h2>Problem D1.1</h2>\n",
    "    </header>\n",
    "\n",
    "A 2.5 g copper penny is given a charge of  $−2.0\\times 10^{−9}$ C. \n",
    "\n",
    "1. How many excess electrons are on the penny? \n",
    "2. By what percent do the excess electrons change the mass of the penny?\n",
    " \n",
    "[This problem is a slightly modified version from OpenStax. Access for free here](https://openstax.org/books/university-physics-volume-2/pages/5-problems)"
   ]
  },
  {
   "cell_type": "markdown",
   "metadata": {},
   "source": [
    "<hr style=\"height:2px;border-width:0;color:gray;background-color:gray\">"
   ]
  },
  {
   "cell_type": "markdown",
   "metadata": {},
   "source": [
    "<h2>Problem D1.2</h2>\n",
    "    </header>\n",
    "\n",
    "Point charges $q_1 = 50.0~\\mu$C and $q_2 = −25.0~\\mu$C are placed $1.00$ m apart. What is the force on a third charge $q_3 = 20.0~\\mu$C placed midway between $q_1$ and $q_2$?\n",
    "\n",
    "[This problem is a slightly modified version from OpenStax. Access for free here](https://openstax.org/books/university-physics-volume-2/pages/5-problems)"
   ]
  },
  {
   "cell_type": "markdown",
   "metadata": {},
   "source": [
    "<hr style=\"height:2px;border-width:0;color:gray;background-color:gray\">"
   ]
  },
  {
   "cell_type": "markdown",
   "metadata": {},
   "source": [
    "<h2>Problem D1.3</h2>\n",
    "    </header>\n",
    "\n",
    "Where must $q_3$ of the preceding problem be placed so that the net force on it is zero?\n",
    "\n",
    "[This problem is a slightly modified version from OpenStax. Access for free here](https://openstax.org/books/university-physics-volume-2/pages/5-problems)"
   ]
  },
  {
   "cell_type": "markdown",
   "metadata": {},
   "source": [
    "<hr style=\"height:2px;border-width:0;color:gray;background-color:gray\">"
   ]
  },
  {
   "cell_type": "markdown",
   "metadata": {},
   "source": [
    "<h2>Problem D1.4</h2>\n",
    "    </header>\n",
    "    \n",
    "Two small balls, each of mass $5.0$ g, are attached to silk threads $50.0$ cm long, which are in turn tied to the same point on the ceiling, as shown below. When the balls are given the same charge $Q$, the threads hang at  $5.0^\\circ$ to the vertical, as shown below. \n",
    "\n",
    "1. What is the magnitude of $Q$? \n",
    "2. What are the signs of the two charges?\n",
    "\n",
    "<img src=\"P-D1.4.png\"  width=\"200\"/>\n",
    "\n",
    "[This problem is a slightly modified version from OpenStax. Access for free here](https://openstax.org/books/university-physics-volume-2/pages/5-problems)"
   ]
  },
  {
   "cell_type": "markdown",
   "metadata": {},
   "source": [
    "<hr style=\"height:2px;border-width:0;color:gray;background-color:gray\">"
   ]
  },
  {
   "cell_type": "markdown",
   "metadata": {},
   "source": [
    "<h2>Problem D1.5</h2>\n",
    "    </header>\n",
    "\n",
    "Point charges $q_1 = 2.0~\\mu$C and $q_2 = 4.0~\\mu$C are located at $\\vec{r}_1 = (4.0\\hat{i} - 2.0\\hat{j} + 5.0\\hat{k}$ m and $\\vec{r}_2 = (8.0\\hat{i} + 5.0\\hat{j} - 9.0\\hat{k}$ m, respectively. What is the force of $q_2$ on $q_1$?\n",
    "\n",
    "\n",
    "[This problem is a slightly modified version from OpenStax. Access for free here](https://openstax.org/books/university-physics-volume-2/pages/5-problems)"
   ]
  },
  {
   "cell_type": "markdown",
   "metadata": {},
   "source": [
    "<hr style=\"height:2px;border-width:0;color:gray;background-color:gray\">"
   ]
  },
  {
   "cell_type": "markdown",
   "metadata": {},
   "source": [
    "<h2>Problem D1.6</h2>\n",
    "    </header>\n",
    "    \n",
    "The charges $q_1 = 2.0\\times 10^{-7}$ C, $q_2 = -4.0\\times 10^{-7}$ C, and $q_3 = -1.0\\times 10^{07}$ C are placed at the corners of the triangle shown below. What is the force on $q_1$?\n",
    " \n",
    "<img src=\"P-D1.6.png\"  width=\"300\"/>\n",
    "\n",
    "[This problem is a slightly modified version from OpenStax. Access for free here](https://openstax.org/books/university-physics-volume-2/pages/5-problems)"
   ]
  },
  {
   "cell_type": "markdown",
   "metadata": {},
   "source": [
    "<hr style=\"height:2px;border-width:0;color:gray;background-color:gray\">"
   ]
  },
  {
   "cell_type": "markdown",
   "metadata": {},
   "source": [
    "<h2>Problem D1.7</h2>\n",
    "    </header>\n",
    "\n",
    "On a typical clear day, the atmospheric electric field points downward and has a magnitude of approximately $100.0$ N/C. \n",
    "\n",
    "1. Compare the gravitational and electric forces on a small dust particle of mass $2.0\\times 10^{−15}$ g that carries a single electron charge. \n",
    "2. What is the acceleration (both magnitude and direction) of the dust particle?\n",
    "\n",
    "[This problem is a slightly modified version from OpenStax. Access for free here](https://openstax.org/books/university-physics-volume-2/pages/5-problems)"
   ]
  },
  {
   "cell_type": "markdown",
   "metadata": {},
   "source": [
    "<hr style=\"height:2px;border-width:0;color:gray;background-color:gray\">"
   ]
  },
  {
   "cell_type": "markdown",
   "metadata": {},
   "source": [
    "<h2>Problem D1.8</h2>\n",
    "    </header>\n",
    "\n",
    "What is the electric field at a point where the force on a $−2.0\\times 10^{−6}$ C charge is  $(4.0\\hat{i} − 6.0\\hat{j})\\times 10^{−6}$ N?\n",
    "\n",
    "[This problem is a slightly modified version from OpenStax. Access for free here](https://openstax.org/books/university-physics-volume-2/pages/5-problems)"
   ]
  },
  {
   "cell_type": "markdown",
   "metadata": {},
   "source": [
    "<hr style=\"height:2px;border-width:0;color:gray;background-color:gray\">"
   ]
  },
  {
   "cell_type": "markdown",
   "metadata": {},
   "source": [
    "<h2>Problem D1.9</h2>\n",
    "    </header>\n",
    "\n",
    "Can you arrange the two point charges $q_1 = -2.0\\times 10^{-6}$ C and $q_2 = 4.0\\times 10^{-6}$ C along the x-axis so that $E = 0$ at the origin?\n",
    "\n",
    "[This problem is a slightly modified version from OpenStax. Access for free here](https://openstax.org/books/university-physics-volume-2/pages/5-problems)"
   ]
  },
  {
   "cell_type": "markdown",
   "metadata": {},
   "source": [
    "<hr style=\"height:2px;border-width:0;color:gray;background-color:gray\">"
   ]
  },
  {
   "cell_type": "markdown",
   "metadata": {},
   "source": [
    "<h2>Problem D1.10</h2>\n",
    "    </header>\n",
    "\n",
    "Point charges $q_1 = q_2 = 4.0\\times 10^{-6}$ C are fixed on the x-axis at $x = −3.0$ m and $x = 3.0$ m.\n",
    "What charge q must be placed at the origin so that the electric field vanishes at  (x,y) = (0,3) m?\n",
    "\n",
    "[This problem is a slightly modified version from OpenStax. Access for free here](https://openstax.org/books/university-physics-volume-2/pages/5-problems)"
   ]
  },
  {
   "cell_type": "markdown",
   "metadata": {},
   "source": [
    "<hr style=\"height:2px;border-width:0;color:gray;background-color:gray\">"
   ]
  }
 ],
 "metadata": {
  "celltoolbar": "Tags",
  "kernelspec": {
   "display_name": "Python 3 (ipykernel)",
   "language": "python",
   "name": "python3"
  },
  "language_info": {
   "codemirror_mode": {
    "name": "ipython",
    "version": 3
   },
   "file_extension": ".py",
   "mimetype": "text/x-python",
   "name": "python",
   "nbconvert_exporter": "python",
   "pygments_lexer": "ipython3",
   "version": "3.10.9"
  }
 },
 "nbformat": 4,
 "nbformat_minor": 4
}
