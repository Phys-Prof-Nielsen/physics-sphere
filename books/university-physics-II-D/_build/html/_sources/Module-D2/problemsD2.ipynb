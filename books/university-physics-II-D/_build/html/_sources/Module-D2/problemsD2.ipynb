{
 "cells": [
  {
   "cell_type": "markdown",
   "metadata": {},
   "source": [
    "# D2.3 Problems\n",
    "<hr style=\"height:2px;border-width:0;color:gray;background-color:gray\">"
   ]
  },
  {
   "cell_type": "markdown",
   "metadata": {},
   "source": [
    "<h2>Problem D2.1</h2>\n",
    "    </header>\n",
    "\n",
    "Consider a charge $q_1 = +5.0~\\mu$C fixed at a site with another charge $q_2 = +3.0~\\mu$C, mass of $6.0~\\mu$g, moving in the neighboring space.\n",
    "\n",
    "1. Evaluate the potential energy of $q_2$ when it is 4.0 cm from $q_1$.\n",
    "2. If $q_2$ starts from rest from a point 4.0 cm from $q_1$, what will be its speed when it is 8.0 cm from $q_1$ assuming $q_1$ is fixed in its place.?\n",
    " \n",
    "[This problem is a slightly modified version from OpenStax. Access for free here](https://openstax.org/books/university-physics-volume-2/pages/7-problems)"
   ]
  },
  {
   "cell_type": "code",
   "execution_count": 11,
   "metadata": {
    "tags": [
     "hide-input",
     "hide-output"
    ]
   },
   "outputs": [
    {
     "name": "stdout",
     "output_type": "stream",
     "text": [
      "Easy solution: the potential energy at that location is 0 J.\n",
      "The potential energy at that location is 3.3712500000000007 J.\n",
      "The speed of the charge is 23703.9026322671 m/s.\n"
     ]
    }
   ],
   "source": [
    "%reset -f\n",
    "\n",
    "import sympy as sym\n",
    "\n",
    "q1 = 5.0E-6\n",
    "q2 = 3.0E-6\n",
    "m = 6.0E-9\n",
    "r1 = 4.0E-2\n",
    "k = 8.99E9\n",
    "\n",
    "# Part 1\n",
    "# ------\n",
    "# easy solution: the actualy value of poetntial energy has no meaning and we are free to set our zero level\n",
    "print('Easy solution: the potential energy at that location is 0 J.')\n",
    "\n",
    "# more conventional but less smart...use du = kq1q2/r...this assumes that u = 0 at r = infinity\n",
    "\n",
    "du = k*q1*q2/r1\n",
    "\n",
    "print('The potential energy at that location is '+str(du)+' J.')\n",
    "\n",
    "# Part 2\n",
    "# ------\n",
    "r2 = 8.0E-2\n",
    "v1 = 0.0\n",
    "\n",
    "v2 = sym.Symbol('v2')\n",
    "\n",
    "k1 = 0.0\n",
    "k2 = 0.5*m*v2**2\n",
    "du = (k*q1*q2*(1/r2 - 1/r1))\n",
    "\n",
    "eq = (k2 - k1) + du  # -du = +dk\n",
    "sol = sym.solve(eq,v2)\n",
    "v2 = sol[1] #positive root\n",
    "\n",
    "print('The speed of the charge is '+str(v2)+' m/s.')"
   ]
  },
  {
   "cell_type": "markdown",
   "metadata": {},
   "source": [
    "<hr style=\"height:2px;border-width:0;color:gray;background-color:gray\">"
   ]
  },
  {
   "cell_type": "markdown",
   "metadata": {},
   "source": [
    "<h2>Problem D2.2</h2>\n",
    "    </header>\n",
    "\n",
    "An evacuated tube uses an accelerating voltage of $40.0$ kV to accelerate electrons to hit a copper plate and produce X-rays. Non-relativistically, what would be the maximum speed of these electrons?\n",
    "\n",
    "[This problem is a slightly modified version from OpenStax. Access for free here](https://openstax.org/books/university-physics-volume-2/pages/7-problems)"
   ]
  },
  {
   "cell_type": "code",
   "execution_count": 4,
   "metadata": {
    "tags": [
     "hide-input",
     "hide-output"
    ]
   },
   "outputs": [
    {
     "name": "stdout",
     "output_type": "stream",
     "text": [
      "Maximum speed is 3750946746.22673 m/s.\n"
     ]
    }
   ],
   "source": [
    "%reset -f\n",
    "\n",
    "import sympy as sym\n",
    "\n",
    "dv = 40.0E3\n",
    "q = -1602E-19\n",
    "m = 9.109E-31\n",
    "\n",
    "#max speed happens if ALL the potential energy is converted into kinetic energy: -du = +dk\n",
    "# assuming they start from rest: -du = 0.5mv^2\n",
    "\n",
    "v = sym.Symbol('v')\n",
    "eq = 0.5*m*v**2 + q*dv\n",
    "sol = sym.solve(eq,v)\n",
    "v = sol[1] #pick positive root\n",
    "\n",
    "print('Maximum speed is '+str(v)+' m/s.')"
   ]
  },
  {
   "cell_type": "markdown",
   "metadata": {},
   "source": [
    "<hr style=\"height:2px;border-width:0;color:gray;background-color:gray\">"
   ]
  },
  {
   "cell_type": "markdown",
   "metadata": {},
   "source": [
    "<h2>Problem D2.3</h2>\n",
    "    </header>\n",
    "\n",
    "What is the strength of the electric field between two parallel conducting plates separated by $1.00$ cm and having a potential difference (voltage) between them of $1.50\\times 10^4$ V?\n",
    "\n",
    "[This problem is a slightly modified version from OpenStax. Access for free here](https://openstax.org/books/university-physics-volume-2/pages/7-problems)"
   ]
  },
  {
   "cell_type": "code",
   "execution_count": 5,
   "metadata": {
    "tags": [
     "hide-input",
     "hide-output"
    ]
   },
   "outputs": [
    {
     "name": "stdout",
     "output_type": "stream",
     "text": [
      "Magnitude of electric field 1500000.0 V/m.\n"
     ]
    }
   ],
   "source": [
    "%reset -f\n",
    "\n",
    "import numpy as np\n",
    "\n",
    "dx = 1.00E-2\n",
    "dv = 1.50E4\n",
    "\n",
    "#just looking for magnitude\n",
    "\n",
    "Ex = -dv/dx\n",
    "\n",
    "E = np.abs(Ex)\n",
    "\n",
    "print('Magnitude of electric field '+str(E)+' V/m.')"
   ]
  },
  {
   "cell_type": "markdown",
   "metadata": {},
   "source": [
    "<hr style=\"height:2px;border-width:0;color:gray;background-color:gray\">"
   ]
  },
  {
   "cell_type": "markdown",
   "metadata": {},
   "source": [
    "<h2>Problem D2.4</h2>\n",
    "    </header>\n",
    "\n",
    "Two parallel conducting plates are separated by $10.0$ cm, and one of them is taken to be at zero volts.\n",
    "\n",
    "1. What is the electric field strength between them, if the potential $8.00$ cm from the zero volt plate (and $2.00$ cm from the other) is $450$ V? \n",
    "2. What is the voltage between the plates?\n",
    "\n",
    "\n",
    "[This problem is a slightly modified version from OpenStax. Access for free here](https://openstax.org/books/university-physics-volume-2/pages/7-problems)"
   ]
  },
  {
   "cell_type": "code",
   "execution_count": 8,
   "metadata": {
    "tags": [
     "hide-input",
     "hide-output"
    ]
   },
   "outputs": [
    {
     "name": "stdout",
     "output_type": "stream",
     "text": [
      "The magnitude of the electric field is 5625.0 V/m.\n",
      "The voltage between the plates is 562.5 V.\n"
     ]
    }
   ],
   "source": [
    "%reset -f\n",
    "\n",
    "import numpy as np\n",
    "\n",
    "dx = 10.0E-2\n",
    "v0 = 0.0\n",
    "\n",
    "# Part 1\n",
    "# ------\n",
    "dx1 = 8.00E-2\n",
    "v1 = 450\n",
    "Ex = -(v1 - v0)/dx1\n",
    "E = np.abs(Ex)\n",
    "\n",
    "print('The magnitude of the electric field is '+str(E)+' V/m.')\n",
    "\n",
    "# Part 2\n",
    "# ------\n",
    "dv = -Ex*dx\n",
    "dv = np.abs(dv)\n",
    "\n",
    "print('The voltage between the plates is '+str(dv)+' V.')"
   ]
  },
  {
   "cell_type": "markdown",
   "metadata": {},
   "source": [
    "<hr style=\"height:2px;border-width:0;color:gray;background-color:gray\">"
   ]
  },
  {
   "cell_type": "markdown",
   "metadata": {},
   "source": [
    "<h2>Problem D2.5</h2>\n",
    "    </header>\n",
    "    \n",
    "1. How far from a $1.00~\\mu$C point charge is the potential $100.0$ V? \n",
    "2. At what distance is it $2.00\\times 10^2$ V?\n",
    "\n",
    "[This problem is a slightly modified version from OpenStax. Access for free here](https://openstax.org/books/university-physics-volume-2/pages/7-problems)"
   ]
  },
  {
   "cell_type": "markdown",
   "metadata": {},
   "source": [
    "<hr style=\"height:2px;border-width:0;color:gray;background-color:gray\">"
   ]
  },
  {
   "cell_type": "markdown",
   "metadata": {},
   "source": [
    "<h2>Problem D2.6</h2>\n",
    "    </header>\n",
    "\n",
    "Find the potential at points $P_1$, $P_2$, $P_3$, and $P_4$ in the diagram due to the two given charges.\n",
    "  \n",
    "<img src=\"P-D2.6.png\"  width=\"400\"/>\n",
    "\n",
    "[This problem is a slightly modified version from OpenStax. Access for free here](https://openstax.org/books/university-physics-volume-2/pages/7-problems)"
   ]
  },
  {
   "cell_type": "markdown",
   "metadata": {},
   "source": [
    "<hr style=\"height:2px;border-width:0;color:gray;background-color:gray\">"
   ]
  },
  {
   "cell_type": "markdown",
   "metadata": {},
   "source": [
    "<h2>Problem D2.7</h2>\n",
    "    </header>\n",
    "\n",
    "An electron enters a region between two large parallel plates made of aluminum separated by a distance of $2.0$ cm and kept at a potential difference of $200.0$ V. The electron enters through a small hole in the negative plate and moves toward the positive plate. At the time the electron is near the negative plate, its speed is  $4.0\\times10^5$ m/s. Assume the electric field between the plates to be uniform, and find the speed of electron at (from the negative plate)\n",
    "\n",
    "1. 0.10 cm\n",
    "2. 0.50 cm\n",
    "3. 1.0 cm\n",
    "4. 1.5 cm \n",
    "5. immediately before it hits the positive plate.\n",
    "  \n",
    "<img src=\"P-D2.7.png\"  width=\"200\"/>\n",
    "\n",
    "[This problem is a slightly modified version from OpenStax. Access for free here](https://openstax.org/books/university-physics-volume-2/pages/7-problems)"
   ]
  },
  {
   "cell_type": "markdown",
   "metadata": {},
   "source": [
    "<hr style=\"height:2px;border-width:0;color:gray;background-color:gray\">"
   ]
  },
  {
   "cell_type": "markdown",
   "metadata": {},
   "source": [
    "<h2>Problem D2.8</h2>\n",
    "    </header>\n",
    "\n",
    "A lightning bolt strikes a tree, moving $20.0$ C of charge through a potential difference of $1.00\\times 10^2$ MV.\n",
    "\n",
    "1. What energy was dissipated?\n",
    "2. What mass of water could be raised from $15~^\\circ$C to the boiling point and then boiled by this energy? \n",
    "3. Discuss the damage that could be caused to the tree by the expansion of the boiling steam.\n",
    "\n",
    "[This problem is a slightly modified version from OpenStax. Access for free here](https://openstax.org/books/university-physics-volume-2/pages/7-problems)"
   ]
  },
  {
   "cell_type": "markdown",
   "metadata": {},
   "source": [
    "<hr style=\"height:2px;border-width:0;color:gray;background-color:gray\">"
   ]
  },
  {
   "cell_type": "markdown",
   "metadata": {},
   "source": [
    "<h2>Problem D2.9</h2>\n",
    "    </header>\n",
    "\n",
    "What are the sign and magnitude of a point charge that produces a potential of –2.00 V at a distance of 1.00 mm?\n",
    "\n",
    "[This problem is a slightly modified version from OpenStax. Access for free here](https://openstax.org/books/university-physics-volume-2/pages/7-problems)"
   ]
  },
  {
   "cell_type": "markdown",
   "metadata": {},
   "source": [
    "<hr style=\"height:2px;border-width:0;color:gray;background-color:gray\">"
   ]
  },
  {
   "cell_type": "markdown",
   "metadata": {},
   "source": [
    "<h2>Problem D2.10</h2>\n",
    "    </header>\n",
    "\n",
    "What are the sign and magnitude of a point charge that produces a potential of –2.00 V at a distance of 1.00 mm?\n",
    "\n",
    "[This problem is a slightly modified version from OpenStax. Access for free here](https://openstax.org/books/university-physics-volume-2/pages/7-problems)"
   ]
  },
  {
   "cell_type": "markdown",
   "metadata": {},
   "source": [
    "<hr style=\"height:2px;border-width:0;color:gray;background-color:gray\">"
   ]
  }
 ],
 "metadata": {
  "celltoolbar": "Tags",
  "kernelspec": {
   "display_name": "Python 3 (ipykernel)",
   "language": "python",
   "name": "python3"
  },
  "language_info": {
   "codemirror_mode": {
    "name": "ipython",
    "version": 3
   },
   "file_extension": ".py",
   "mimetype": "text/x-python",
   "name": "python",
   "nbconvert_exporter": "python",
   "pygments_lexer": "ipython3",
   "version": "3.10.9"
  }
 },
 "nbformat": 4,
 "nbformat_minor": 4
}
