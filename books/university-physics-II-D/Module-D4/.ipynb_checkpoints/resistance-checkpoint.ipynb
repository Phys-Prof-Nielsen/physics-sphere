{
 "cells": [
  {
   "cell_type": "markdown",
   "metadata": {},
   "source": [
    "# D4.2 Resistance and Conductivity\n",
    "<hr style=\"height:2px;border-width:0;color:gray;background-color:gray\">"
   ]
  },
  {
   "cell_type": "markdown",
   "metadata": {},
   "source": [
    "## D4.2.1 Resistivity\n",
    "\n",
    "The resistivity is a measure of the resistance to a change in motion of charged particles when subject to an electric field. We know that positive charge particles will move in the direction of an electric field, but materials can pose different resistivities in different directions due to their structural bonding. Hence, the relationshipe between current density (sort of a measure of change in motion for charged particles) and electric field can become quite complicated.\n",
    "\n",
    "In some cases, there is a linear relationship and we define the resistivity $\\rho$ through\n",
    "\n",
    "<div class=\"alert alert-success\">\n",
    "    \n",
    "$$ \\vec{E} = \\rho\\vec{J} \\tag{1}$$\n",
    "</div>\n",
    "We may notice the resemblence to Newton's 2nd law here. \n",
    "\n",
    "<hr style=\"height:2px;border-width:0;color:gray;background-color:gray\">"
   ]
  },
  {
   "cell_type": "markdown",
   "metadata": {},
   "source": [
    "## D4.2.2 Conductivity\n",
    "\n",
    "If resistivity is the resistance to a change in motion under the influence of an electric field, the conductivity is a measure of the ability to move under the influence of an electric field.\n",
    "\n",
    "The conductivity is defined as\n",
    "\n",
    "$$ \\sigma = \\frac{1}{\\rho} $$\n",
    "\n",
    "and expressed in terms of the electric field and current density\n",
    "\n",
    "<div class=\"alert alert-success\">\n",
    "    \n",
    "$$ \\vec{J} = \\sigma\\vec{E} \\tag{2}$$\n",
    "</div>\n",
    "\n",
    "We will see shortly how Equation 1 is used to obtain Ohm's Law. In more complicated scenarios, the conductivity is not a scalar but a **tensor** with 9 components. In this case, Equation (2) is sometimes referred to as the **Generalized Ohm's Law**.\n",
    "\n",
    "<hr style=\"height:2px;border-width:0;color:gray;background-color:gray\">"
   ]
  }
 ],
 "metadata": {
  "kernelspec": {
   "display_name": "Python 3 (ipykernel)",
   "language": "python",
   "name": "python3"
  },
  "language_info": {
   "codemirror_mode": {
    "name": "ipython",
    "version": 3
   },
   "file_extension": ".py",
   "mimetype": "text/x-python",
   "name": "python",
   "nbconvert_exporter": "python",
   "pygments_lexer": "ipython3",
   "version": "3.10.9"
  }
 },
 "nbformat": 4,
 "nbformat_minor": 2
}
