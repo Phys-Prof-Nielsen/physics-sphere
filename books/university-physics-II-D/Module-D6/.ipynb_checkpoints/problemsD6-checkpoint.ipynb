{
 "cells": [
  {
   "cell_type": "markdown",
   "metadata": {},
   "source": [
    "# D6.X Problems\n",
    "<hr style=\"height:2px;border-width:0;color:gray;background-color:gray\">"
   ]
  },
  {
   "cell_type": "markdown",
   "metadata": {},
   "source": [
    "<h2>Problem D6.1</h2>\n",
    "    </header>\n",
    "\n",
    "What is the speed of light (use [Table 11.1.1 in OpenStax Vol.3](https://openstax.org/books/university-physics-volume-3/pages/1-1-the-propagation-of-light#fs-id1172100491857))\n",
    "\n",
    "1. in water? \n",
    "2. In glycerine?\n",
    " \n",
    "[This problem is a slightly modified version from OpenStax. Access for free here](https://openstax.org/books/university-physics-volume-3/pages/1-problems)"
   ]
  },
  {
   "cell_type": "code",
   "execution_count": null,
   "metadata": {},
   "outputs": [],
   "source": [
    "# DIY Cell"
   ]
  },
  {
   "cell_type": "code",
   "execution_count": 11,
   "metadata": {
    "tags": [
     "hide-input",
     "hide-output"
    ]
   },
   "outputs": [
    {
     "name": "stdout",
     "output_type": "stream",
     "text": [
      "Speed of light in water: 2.249e+08 m/s\n",
      " \n",
      "Speed of light in glycerine: 2.035e+08 m/s\n"
     ]
    }
   ],
   "source": [
    "%reset -f\n",
    "\n",
    "c = 2.9979E8\n",
    "\n",
    "# Part 1\n",
    "n = 1.333\n",
    "v = c/n\n",
    "v = \"{:.3e}\".format(v)\n",
    "print('Speed of light in water: '+str(v)+' m/s')\n",
    "\n",
    "# Part 2\n",
    "n = 1.473\n",
    "v = c/n\n",
    "v = \"{:.3e}\".format(v)\n",
    "print(' ')\n",
    "print('Speed of light in glycerine: '+str(v)+' m/s')"
   ]
  },
  {
   "cell_type": "markdown",
   "metadata": {},
   "source": [
    "<hr style=\"height:2px;border-width:0;color:gray;background-color:gray\">"
   ]
  },
  {
   "cell_type": "markdown",
   "metadata": {},
   "source": [
    "<h2>Problem D6.2</h2>\n",
    "    </header>\n",
    "\n",
    "Calculate the index of refraction for a medium in which the speed of light is $2.012\\times 10^8$ m/s,\n",
    "and identify the most likely substance based on [Table 11.1.1 in OpenStax Vol.3](https://openstax.org/books/university-physics-volume-3/pages/1-1-the-propagation-of-light#fs-id1172100491857)\n",
    "\n",
    "[This problem is a slightly modified version from OpenStax. Access for free here](https://openstax.org/books/university-physics-volume-3/pages/1-problems)"
   ]
  },
  {
   "cell_type": "code",
   "execution_count": null,
   "metadata": {},
   "outputs": [],
   "source": [
    "# DIY Cell"
   ]
  },
  {
   "cell_type": "code",
   "execution_count": 13,
   "metadata": {
    "tags": [
     "hide-input",
     "hide-output"
    ]
   },
   "outputs": [
    {
     "name": "stdout",
     "output_type": "stream",
     "text": [
      "Index of refraction is: 1.490e+00\n",
      " \n",
      "Based on the table, the substance is Polystyrene.\n"
     ]
    }
   ],
   "source": [
    "%reset -f\n",
    "\n",
    "v = 2.012E8\n",
    "c = 2.9979E8\n",
    "\n",
    "n = c/v\n",
    "n = \"{:.3e}\".format(n)\n",
    "print('Index of refraction is: '+str(n))\n",
    "print(' ')\n",
    "print('Based on the table, the substance is Polystyrene.')"
   ]
  },
  {
   "cell_type": "markdown",
   "metadata": {},
   "source": [
    "<hr style=\"height:2px;border-width:0;color:gray;background-color:gray\">"
   ]
  },
  {
   "cell_type": "markdown",
   "metadata": {},
   "source": [
    "<h2>Problem D6.3</h2>\n",
    "    </header>\n",
    "\n",
    "A light beam in air is incident on the surface of a pond, making an angle of $20.0^\\circ$ with respect to the surface. What are the angles of reflection and refraction?\n",
    "\n",
    "[This problem is a slightly modified version from OpenStax. Access for free here](https://openstax.org/books/university-physics-volume-3/pages/1-problems)"
   ]
  },
  {
   "cell_type": "code",
   "execution_count": null,
   "metadata": {},
   "outputs": [],
   "source": [
    "# DIY Cell"
   ]
  },
  {
   "cell_type": "code",
   "execution_count": 27,
   "metadata": {
    "tags": [
     "hide-input",
     "hide-output"
    ]
   },
   "outputs": [
    {
     "name": "stdout",
     "output_type": "stream",
     "text": [
      "Refracted angle is: 44.8418454982804 degrees\n"
     ]
    }
   ],
   "source": [
    "%reset -f\n",
    "\n",
    "import numpy as np\n",
    "import sympy as sym\n",
    "\n",
    "n_air = 1.000293 #incident medium\n",
    "n_water = 1.333 #transmitted medium\n",
    "theta_i = np.radians(70.0) #incident angle is measured with respect to the surface normal\n",
    "\n",
    "theta_r = theta_i\n",
    "\n",
    "theta_t = sym.Symbol('theta_t')\n",
    "eq = n_air*sym.sin(theta_i) - n_water*sym.sin(theta_t)\n",
    "sol = sym.solve(eq,theta_t)\n",
    "angle = np.degrees(float(sol[0]))\n",
    "print('Refracted angle is: '+str(angle)+' degrees')"
   ]
  },
  {
   "cell_type": "markdown",
   "metadata": {},
   "source": [
    "<hr style=\"height:2px;border-width:0;color:gray;background-color:gray\">"
   ]
  },
  {
   "cell_type": "markdown",
   "metadata": {},
   "source": [
    "<h2>Problem D6.4</h2>\n",
    "    </header>\n",
    "    \n",
    "An optical fiber uses flint glass clad with crown glass. What is the critical angle?\n",
    "\n",
    "[This problem is a slightly modified version from OpenStax. Access for free here](https://openstax.org/books/university-physics-volume-3/pages/1-problems)"
   ]
  },
  {
   "cell_type": "code",
   "execution_count": null,
   "metadata": {},
   "outputs": [],
   "source": [
    "# DIY Cell"
   ]
  },
  {
   "cell_type": "code",
   "execution_count": 4,
   "metadata": {
    "tags": [
     "hide-input",
     "hide-output"
    ]
   },
   "outputs": [],
   "source": [
    "%reset -f"
   ]
  },
  {
   "cell_type": "markdown",
   "metadata": {},
   "source": [
    "<hr style=\"height:2px;border-width:0;color:gray;background-color:gray\">"
   ]
  },
  {
   "cell_type": "markdown",
   "metadata": {},
   "source": [
    "<h2>Problem D6.5</h2>\n",
    "    </header>\n",
    "\n",
    "1. A narrow beam of light containing yellow ($580$ nm) and green ($550$ nm) wavelengths goes from polystyrene to air, striking the surface at a $30.0^\\circ$ incident angle. What is the angle between the colors when they emerge? \n",
    "2. How far would they have to travel to be separated by $1.00$ mm?\n",
    "\n",
    "Use [OpenStax Table 11.1.2 in this problem](https://openstax.org/books/university-physics-volume-3/pages/1-5-dispersion#fs-id1172102138232)\n",
    "\n",
    "[This problem is a slightly modified version from OpenStax. Access for free here](https://openstax.org/books/university-physics-volume-3/pages/1-problems)"
   ]
  },
  {
   "cell_type": "code",
   "execution_count": null,
   "metadata": {},
   "outputs": [],
   "source": [
    "# DIY Cell"
   ]
  },
  {
   "cell_type": "code",
   "execution_count": 5,
   "metadata": {
    "tags": [
     "hide-input",
     "hide-output"
    ]
   },
   "outputs": [],
   "source": [
    "%reset -f"
   ]
  },
  {
   "cell_type": "markdown",
   "metadata": {},
   "source": [
    "<hr style=\"height:2px;border-width:0;color:gray;background-color:gray\">"
   ]
  }
 ],
 "metadata": {
  "celltoolbar": "Tags",
  "kernelspec": {
   "display_name": "Python 3 (ipykernel)",
   "language": "python",
   "name": "python3"
  },
  "language_info": {
   "codemirror_mode": {
    "name": "ipython",
    "version": 3
   },
   "file_extension": ".py",
   "mimetype": "text/x-python",
   "name": "python",
   "nbconvert_exporter": "python",
   "pygments_lexer": "ipython3",
   "version": "3.9.12"
  }
 },
 "nbformat": 4,
 "nbformat_minor": 4
}
