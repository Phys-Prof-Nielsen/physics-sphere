{
 "cells": [
  {
   "cell_type": "markdown",
   "metadata": {},
   "source": [
    "## Electric Potential and Energy\n",
    "<hr style=\"height:2px\">"
   ]
  },
  {
   "cell_type": "markdown",
   "metadata": {},
   "source": [
    "The title may appear a little odd, but the key is that we are talking about to different concepts and one of the objectives of these notes is to point out and understand that difference. Let us first recap what we have learned about potential energy from Physics I.\n",
    "\n",
    "There are numerous lecture videos on the Teams channel: [Electric Potential and Energy](https://teams.microsoft.com/l/channel/19%3a1eeeac1ef64d4343be7839545205c7e2%40thread.tacv2/Electric%2520Potential%2520and%2520Energy?groupId=509a822a-be75-4f81-a381-2271ac03dbf0&tenantId=1ea2b65f-2f5e-440e-b025-dfdfafd8e097)\n",
    "\n",
    "## Review\n",
    "The energy transfer, or work, done by a force $F$ acting on an object displaced along a path $L$ is\n",
    "\n",
    "$$ W = \\int_L \\vec{F}\\cdot d\\vec{l} $$\n",
    "\n",
    "If the path is a **closed** path, then we can distinguish it by the following notation:\n",
    "\n",
    "$$ W = \\oint_L \\vec{F}\\cdot d\\vec{l} $$\n",
    "\n",
    "Forces can be divided into two groups: **conservative** and **non--conservative**. The conservative forces are characterized by the fact that the work done along a path only depends on the conditions of the start and end points, not which path is followed. That implies that the work done by a conservative force along a **closed** path is zero:\n",
    "\n",
    "$$ W_C = \\oint_L \\vec{F_C}\\cdot d\\vec{l} = 0 $$\n",
    "\n",
    "where the subscript $C$ is to indicate that we are considering a conservative force. We will not be using the subscript in the subsequent discussions, so be careful that you understand the restriction.\n",
    "\n",
    "From more advanced mathematics, there is a beautiful theorem that states the following:\n",
    "**if the closed path integral of a vector field is zero, then the said vector field can be written as the negative gradient of a scalar field**. \n",
    "\n",
    "We will name this scalar field the **potential energy** associated with the **conservative force** $\\vec{F}$:\n",
    "\n",
    "<div class=\"alert alert-success\">\n",
    "$$\\vec{F} = -\\nabla U \\tag{1}$$\n",
    "</div>\n",
    "This equation tells us how to find the force $\\vec{F}$ if we know the associated energy function $U$.\n",
    "\n",
    "If we employ our differentials and integrate corresponding components of the vectors, we obtain\n",
    "<div class=\"alert alert-success\">\n",
    "$$ \\Delta U = -\\int_{A}^{B}\\vec{F}\\cdot d\\vec{l} \\tag{2}$$\n",
    "</div>\n",
    "which tells us how to find the potential energy function $U$ if we know the work done by the conservative force in moving an object from point $A$ to point $B$.\n",
    "\n",
    "Aside from the new mathematical introductions, you should be very familiar with these concepts from Physics I. If you are not, then it is important to go back and re-visit your book/notes on this matter and ask questions to make sure you understand it.\n",
    "\n",
    "In applications where we are dealing with straightline displacements, say along x-direction, we can reduce the above to the familiar tools from Physics I:\n",
    "\n",
    "<div class=\"alert alert-success\">\n",
    "$$\\vec{F} = -\\frac{dU}{dx}\\hat{i} \\tag{2}$$\n",
    "</div>\n",
    "\n",
    "<div class=\"alert alert-success\">\n",
    "$$ \\Delta U = -\\int_{x_A}^{x_B}\\vec{F}\\cdot d\\vec{x} \\tag{4}$$\n",
    "</div>\n",
    "\n",
    "<hr style=\"height:2px\">"
   ]
  },
  {
   "cell_type": "markdown",
   "metadata": {},
   "source": [
    "## Electric Potential Energy\n",
    "This form of energy is simply associated with the work done by the electric force given by\n",
    "\n",
    "<div class=\"alert alert-success\">\n",
    "$$\t\\vec{F} = q\\vec{E} \\tag{5}$$\n",
    "</div>\n",
    "\n",
    "where a charge $q$ is experiencing an interaction $\\vec{F}$ due to a field $\\vec{E}$, which is produced by some other charge(s).\n",
    "\n",
    "<hr style=\"height:2px\">"
   ]
  },
  {
   "cell_type": "markdown",
   "metadata": {},
   "source": [
    "<div class=\"alert alert-warning\">\n",
    "<b>Box 1</b>:<br>\n",
    "    <br>\n",
    "Between the plates of a capacitor exists an uniform electric field directed from the positive plate towards the negative plate. The field strength is $5.0\\times 10^9$ N/C and the plate separation is $2.0$ mm. \n",
    "\n",
    "<ol>\n",
    "    <li> Use Equation 4 to show that the work done by the electric field force in moving a positive charge from the positive plate to the negatve plate is <br>\n",
    "        <br>\n",
    "        $$ W = qEd $$\n",
    "        <br>\n",
    "        where $d$ is the distance between the plates.\n",
    "        <li> How much work is done by the electric force in order to move a proton from the positive plate to the negative plate?\n",
    "            <li> Does the potential energy of the proton increase or decrease? Explain.\n",
    "            <li> How much work is done by the electric force in order to move an electron from the positive plate to the negative plate?\n",
    "                <li> Does the potential energy of the electron increase or decrease? Explain.\n",
    "    </ol>\n",
    "                    <br>\n",
    "                    <br>\n",
    "    <b>Answers</b>: $+1.6 \\times 10^{-12}$ J, decrease, $-1.6 \\times 10^{-12}$ J, increase. \n",
    "                \n",
    "</div>\n",
    "\n",
    "<hr style=\"height:2px\">"
   ]
  },
  {
   "cell_type": "markdown",
   "metadata": {},
   "source": [
    "<div class=\"alert alert-warning\">\n",
    "<b>Box 2</b>:<br>\n",
    "    <br>\n",
    "Consider a proton and an electron separated by a distance of $1.0\\times 10^{-3}$ m. How much work is done by the electric force if the proton and electron separation distance is changed to $1.0\\times 10^{-6}$ m? Does the potential energy of the proton-electron system increase or decrease? Explain.<br> HINT: use Equation 4 and Coulmb's law. \n",
    "</div>\n",
    "<hr style=\"height:2px\">"
   ]
  },
  {
   "cell_type": "markdown",
   "metadata": {},
   "source": [
    "<div class=\"alert alert-warning\">\n",
    "<b>Box 3</b>:<br>\n",
    "    <br>\n",
    "We should know by now that the potential energy function depends on the charge distribution (or electric field configuration). Based on Boxes 1 and 2, deduce the following:\n",
    "    <ol>\n",
    "        <li>What is the potential energy function of a charge $q$ emerged into a uniform electric field?\n",
    "            <li>What is the potential energy function of a charge $q$ emerged into an electric field produced by a point charge?</ol>\n",
    "</div>\n",
    "<hr style=\"height:2px\">"
   ]
  },
  {
   "cell_type": "markdown",
   "metadata": {},
   "source": [
    "We have now seen that the way we find the electric potential energy is the same way as we found the gravitational potential energy in Physics I. However, there is a slight difference with the electric potential energy as compared to the gravitational potential energy: the direction of which it increases/decreases will depend on the sign of the charge. Since mass is always a positive quantity, we might have been accustomed to think that the potential energy always increases as we move away from the source (or against the field). That way of thinking will get us into trouble here. \n",
    "\n",
    "<div class=\"alert alert-danger\">\n",
    "    The sign of the change in potential energy depends on the sign of the charge being displaced.<br>\n",
    "    <br>\n",
    "    <li>A positive charge will decrease its potential energy when it moves in its <b>natural</b> direction, that is, in the <b>same direction</b> as the field.\n",
    "    <li>A negative charge will decrease its potential energy when it moves in its <b>natural</b> direction, that is, in the <b>opposite direction</b> of the field.\n",
    "    </div>\n",
    "    \n",
    "<hr style=\"height:2px\">"
   ]
  },
  {
   "cell_type": "markdown",
   "metadata": {},
   "source": [
    "## Electric Potential\n",
    "While the electric potential energy is a measure of the interaction over distance between two objects, the **potential** is field specific and is not associated with an interaction. This is a new concept to many of you, although there is an equivalent definition for the gravitation field (just not used very often on Physics I). We define the **change in electric potential** $V$ as\n",
    "\n",
    "<div class=\"alert alert-success\">\n",
    "$$ \\Delta V = \\frac{\\Delta U}{q} \\tag{6}$$\n",
    "</div>\n",
    "\n",
    "If we use Equations (1) and (5), it becomes more obvious that the electric potential is associated with the field and not the interaction:\n",
    "\n",
    "<div class=\"alert alert-success\">\n",
    "$$ \\vec{E} = -\\nabla V \\tag{7}$$\n",
    "    </div>\n",
    "    \n",
    "<hr style=\"height:2px\">"
   ]
  },
  {
   "cell_type": "markdown",
   "metadata": {},
   "source": [
    "<div class=\"alert alert-warning\">\n",
    "<b>Box 4</b>:<br>\n",
    "    <br>\n",
    "If there exists an electric potential difference of $1.0\\times 10^3$ J/C across the plates of a plate capacitor with a plate separation of $0.1\\times 10^{-3}$ mm, what is the electric field between the plates?<br>\n",
    "    <br>\n",
    "<b>Answer</b>: $1.0\\times 10^4$ N/C directed from the positive plate towards the negative plate.\n",
    "</div>\n",
    "<hr style=\"height:2px\">"
   ]
  },
  {
   "cell_type": "markdown",
   "metadata": {},
   "source": [
    "<div class=\"alert alert-warning\">\n",
    "<b>Box 5</b>:<br>\n",
    "    <br>\n",
    "\tBetween the plates of a capacitor exists an uniform electric field directed from the positive plate towards the negative plate. The field strength is $5.0\\times 10^9$ N/C and the plate separation is $2.0$ mm.\n",
    "    <ol>\n",
    "        <li>For a proton moving from the positive plate to the negative plate, what is the change in electric potential?\n",
    "            <li>For an electron moving from the positive plate to the negative plate, what is the change in electric potential?\n",
    "    </ol>\n",
    "HINT: This is 1D system, so we can use $\\vec{E} = -\\frac{dV}{dx}\\hat{i}$<br> \n",
    "      <br> \n",
    "<b>Answer</b>: $-1.0 \\times 10^{7}$ J/C and $-1.0 \\times 10^{7}$ J/C \n",
    "</div>\n",
    "<hr style=\"height:2px\">"
   ]
  },
  {
   "cell_type": "markdown",
   "metadata": {},
   "source": [
    "Notice how in Box 5, the change in electric potential was the same for both the positive and the negative charge, while the change in electric potential energy would have opposite signs.\n",
    "\n",
    "<hr style=\"height:2px\">"
   ]
  },
  {
   "cell_type": "markdown",
   "metadata": {},
   "source": [
    "<div class=\"alert alert-warning\">\n",
    "<b>Box 6</b>:<br>\n",
    "    <br>\n",
    "\tBetween the plates of a capacitor exists an uniform electric field directed from the positive plate towards the negative plate. The field strength is $5.0\\times 10^9$ N/C and the plate separation is $2.0$ mm. What is the electric potential difference between the two plates as measured with respect to the positive plate?<br>\n",
    "    <br>\t\n",
    "    <b>Answers</b>: $-1.0 \\times 10^{7}$ J/C \n",
    "</div>\n",
    "<hr style=\"height:2px\">"
   ]
  },
  {
   "cell_type": "markdown",
   "metadata": {},
   "source": [
    "The last Box problem may have seem a little useless, however, its sole purpose (and a very important one) is to point out that the electric potential difference is a feature assigned to the field and **not** associatd with an interaction!\n",
    "\n",
    "<hr style=\"height:2px\">\n",
    "\n",
    "## Voltage and Electron Volt\n",
    "<div class=\"alert alert-success\">\n",
    "The electric potential difference has a different, and more commonly used, name: <b>voltage</b>\n",
    "    </div>\n",
    "    \n",
    "The electric potential $V$ itself is not voltage, it is the electric potential **difference** that is termed voltage.\n",
    "\n",
    "With that new name, we introduce a new unit for the electric potential difference: Volts (V). Unfortunately, we are now using the same symbol for both the variable and the unit, so we have to be careful and make sure we understand when it is one or the other.\n",
    "\n",
    "The unit of volts relates as follows:\n",
    "$$ V = J/C $$\n",
    "\n",
    "Another often used unit is the **electronvolt** (eV), which is a new unit of energy. It is defined as the electric potential energy difference experienced by an electron being accelerated across an electric potential of $1$ V.\n",
    "<hr style=\"height:2px\">"
   ]
  },
  {
   "cell_type": "markdown",
   "metadata": {},
   "source": [
    "<div class=\"alert alert-warning\">\n",
    "<b>Box 7</b>:<br>\n",
    "    <br>\n",
    "\tUse $\\Delta U = -q\\Delta V$ to find the value of $1$ eV.\n",
    "    <br>\n",
    "    <br>\t\n",
    "    <b>Answers</b>: $1.6 \\times 10^{-19}$ J \n",
    "</div>\n",
    "<hr style=\"height:2px\">"
   ]
  }
 ],
 "metadata": {
  "kernelspec": {
   "display_name": "Python 3 (ipykernel)",
   "language": "python",
   "name": "python3"
  },
  "language_info": {
   "codemirror_mode": {
    "name": "ipython",
    "version": 3
   },
   "file_extension": ".py",
   "mimetype": "text/x-python",
   "name": "python",
   "nbconvert_exporter": "python",
   "pygments_lexer": "ipython3",
   "version": "3.9.12"
  }
 },
 "nbformat": 4,
 "nbformat_minor": 4
}
