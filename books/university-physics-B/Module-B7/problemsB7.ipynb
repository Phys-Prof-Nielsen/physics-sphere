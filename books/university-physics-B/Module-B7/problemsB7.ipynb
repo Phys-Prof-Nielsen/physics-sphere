{
 "cells": [
  {
   "cell_type": "markdown",
   "metadata": {},
   "source": [
    "# B7.x Problems\n",
    "<hr style=\"height:2px;border-width:0;color:gray;background-color:gray\">"
   ]
  },
  {
   "cell_type": "markdown",
   "metadata": {},
   "source": [
    "<h2>Problem B7.1</h2>\n",
    "    </header>\n",
    "\n",
    "An ultracentrifuge accelerates from rest to 100,000 rpm in 2.00 min.\n",
    "\n",
    "1. What is its angular acceleration in  rad/s$^2$? \n",
    "2. What is the tangential acceleration of a point 9.50 cm from the axis of rotation?\n",
    "\n",
    "This problem is a slightly modified version from OpenStax. Access for free at [https://openstax.org/books/college-physics-2e/pages/10-problems-exercises](https://openstax.org/books/college-physics-2e/pages/10-problems-exercises)"
   ]
  },
  {
   "cell_type": "markdown",
   "metadata": {},
   "source": [
    "<hr style=\"height:2px;border-width:0;color:gray;background-color:gray\">"
   ]
  },
  {
   "cell_type": "markdown",
   "metadata": {},
   "source": [
    "<h2>Problem B7.2</h2>\n",
    "    </header>\n",
    "\n",
    "During a very quick stop, a car decelerates at 7.00 m/s$^2$.\n",
    "\n",
    "1. What is the angular acceleration of its 0.280 m radius tires, assuming they do not slip on the pavement?\n",
    "2. How many revolutions do the tires make before coming to rest, given their initial angular velocity is  95.0 rad/s?\n",
    "3. How long does the car take to stop completely?\n",
    "4. What distance does the car travel in this time?\n",
    "5. What was the car’s initial velocity?\n",
    "6. Do the values obtained seem reasonable, considering that this stop happens very quickly?\n",
    "\n",
    "This problem is a slightly modified version from OpenStax. Access for free at [https://openstax.org/books/college-physics-2e/pages/10-problems-exercises](https://openstax.org/books/college-physics-2e/pages/10-problems-exercises)"
   ]
  },
  {
   "cell_type": "markdown",
   "metadata": {},
   "source": [
    "<hr style=\"height:2px;border-width:0;color:gray;background-color:gray\">"
   ]
  },
  {
   "cell_type": "markdown",
   "metadata": {},
   "source": [
    "<h2>Problem B7.3</h2>\n",
    "    </header>\n",
    "\n",
    "A wheel has a constant angular acceleration of 5.0 rad/s$^2$. Starting from rest, it turns through 300 rad. \n",
    "\n",
    "1. What is its final angular velocity? \n",
    "2. How much time elapses while it turns through the 300 radians?\n",
    "\n",
    "This problem is a slightly modified version from OpenStax. Access for free at [https://openstax.org/books/university-physics-volume-1/pages/10-problems](https://openstax.org/books/university-physics-volume-1/pages/10-problems)"
   ]
  },
  {
   "cell_type": "markdown",
   "metadata": {},
   "source": [
    "<hr style=\"height:2px;border-width:0;color:gray;background-color:gray\">"
   ]
  },
  {
   "cell_type": "markdown",
   "metadata": {},
   "source": [
    "<h2>Problem B7.4</h2>\n",
    "    </header>\n",
    "\n",
    "On takeoff, the propellers on a UAV (unmanned aerial vehicle) increase their angular velocity for 3.0 s from rest at a rate of $(25.0t)~\\textrm{rad/s}$ where t is measured in seconds. \n",
    "\n",
    "1. What is the instantaneous angular velocity of the propellers at t = 2.0s?\n",
    "2. What is the angular acceleration?\n",
    "\n",
    "This problem is a slightly modified version from OpenStax. Access for free at [https://openstax.org/books/university-physics-volume-1/pages/10-problems](https://openstax.org/books/university-physics-volume-1/pages/10-problems)"
   ]
  },
  {
   "cell_type": "markdown",
   "metadata": {},
   "source": [
    "<hr style=\"height:2px;border-width:0;color:gray;background-color:gray\">"
   ]
  },
  {
   "cell_type": "markdown",
   "metadata": {},
   "source": [
    "<h2>Problem B7.5</h2>\n",
    "    </header>\n",
    "\n",
    "The angular velocity vs. time for a fan on a hovercraft is shown below. \n",
    "\n",
    "1. What is the angle through which the fan blades rotate in the first 8 seconds? \n",
    "2. Verify your result using the kinematic equations.\n",
    "\n",
    "<img src=\"B7-P7.5.png\"  width=\"400\"/>\n",
    "\n",
    "This problem is a slightly modified version from OpenStax. Access for free at [https://openstax.org/books/university-physics-volume-1/pages/10-problems](https://openstax.org/books/university-physics-volume-1/pages/10-problems)"
   ]
  },
  {
   "cell_type": "markdown",
   "metadata": {},
   "source": [
    "<hr style=\"height:2px;border-width:0;color:gray;background-color:gray\">"
   ]
  },
  {
   "cell_type": "markdown",
   "metadata": {},
   "source": [
    "<h2>Problem B7.6</h2>\n",
    "    </header>\n",
    "\n",
    "The angular acceleration of a rotating rigid body is given by $\\alpha = (2.0 - 3.0t)~\\textrm{rad/s}^2$. If the body starts rotating from rest at t = 0 s and at $\\theta_0 = 0.15~\\textrm{rad}$, \n",
    "\n",
    "1. what is the angular velocity as a function of time? \n",
    "2. Angular position as function of time? \n",
    "3. What angle does it rotate through in 10 s? \n",
    "\n",
    "This problem is a slightly modified version from OpenStax. Access for free at [https://openstax.org/books/university-physics-volume-1/pages/10-problems](https://openstax.org/books/university-physics-volume-1/pages/10-problems)"
   ]
  },
  {
   "cell_type": "markdown",
   "metadata": {},
   "source": [
    "<hr style=\"height:2px;border-width:0;color:gray;background-color:gray\">"
   ]
  },
  {
   "cell_type": "markdown",
   "metadata": {},
   "source": [
    "<h2>Problem B7.7</h2>\n",
    "    </header>\n",
    "\n",
    "A fairground ride spins its occupants inside a flying saucer-shaped container. If the horizontal circular path the riders follow has an 8.00 m radius, at how many revolutions per minute are the riders subjected to a centripetal acceleration equal to that of gravity?\n",
    "\n",
    "This problem is a slightly modified version from OpenStax. Access for free at [https://openstax.org/books/university-physics-volume-1/pages/4-problems](https://openstax.org/books/university-physics-volume-1/pages/4-problems)"
   ]
  },
  {
   "cell_type": "markdown",
   "metadata": {},
   "source": [
    "<hr style=\"height:2px;border-width:0;color:gray;background-color:gray\">"
   ]
  },
  {
   "cell_type": "markdown",
   "metadata": {},
   "source": [
    "<h2>Problem B7.8</h2>\n",
    "    </header>\n",
    "\n",
    "What is the ideal banking angle for a gentle turn of 1.20-km radius on a highway with a 105 km/h speed limit (about 65 mi/h), assuming everyone travels at the limit?\n",
    "\n",
    "This problem is a slightly modified version from OpenStax. Access for free at [https://openstax.org/books/university-physics-volume-1/pages/6-problems](https://openstax.org/books/university-physics-volume-1/pages/6-problems)"
   ]
  },
  {
   "cell_type": "markdown",
   "metadata": {},
   "source": [
    "<hr style=\"height:2px;border-width:0;color:gray;background-color:gray\">"
   ]
  },
  {
   "cell_type": "markdown",
   "metadata": {},
   "source": [
    "<h2>Problem B7.9</h2>\n",
    "    </header>\n",
    "\n",
    "If a car takes a banked curve at less than the ideal speed, friction is needed to keep it from sliding toward the inside of the curve (a problem on icy mountain roads).\n",
    "\n",
    "1. Calculate the ideal speed to take a 100.0 m radius curve banked at 15.0$^\\circ$.\n",
    "2. What is the minimum coefficient of friction needed for a frightened driver to take the same curve at 20.0 km/h?\n",
    "\n",
    "This problem is a slightly modified version from OpenStax. Access for free at [https://openstax.org/books/university-physics-volume-1/pages/6-problems](https://openstax.org/books/university-physics-volume-1/pages/6-problems)"
   ]
  },
  {
   "cell_type": "markdown",
   "metadata": {},
   "source": [
    "<hr style=\"height:2px;border-width:0;color:gray;background-color:gray\">"
   ]
  },
  {
   "cell_type": "markdown",
   "metadata": {},
   "source": [
    "<h2>Problem B7.10</h2>\n",
    "    </header>\n",
    "\n",
    "A car rounds an unbanked curve of radius 65 m. If the coefficient of static friction between the road and car is 0.70, what is the maximum speed at which the car can traverse the curve without slipping?\n",
    "\n",
    "This problem is a slightly modified version from OpenStax. Access for free at [https://openstax.org/books/university-physics-volume-1/pages/6-problems](https://openstax.org/books/university-physics-volume-1/pages/6-problems)"
   ]
  },
  {
   "cell_type": "markdown",
   "metadata": {},
   "source": [
    "<hr style=\"height:2px;border-width:0;color:gray;background-color:gray\">"
   ]
  }
 ],
 "metadata": {
  "celltoolbar": "Tags",
  "kernelspec": {
   "display_name": "Python 3 (ipykernel)",
   "language": "python",
   "name": "python3"
  },
  "language_info": {
   "codemirror_mode": {
    "name": "ipython",
    "version": 3
   },
   "file_extension": ".py",
   "mimetype": "text/x-python",
   "name": "python",
   "nbconvert_exporter": "python",
   "pygments_lexer": "ipython3",
   "version": "3.10.9"
  }
 },
 "nbformat": 4,
 "nbformat_minor": 4
}
