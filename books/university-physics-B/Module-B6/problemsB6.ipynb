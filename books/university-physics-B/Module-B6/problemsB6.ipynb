{
 "cells": [
  {
   "cell_type": "markdown",
   "metadata": {},
   "source": [
    "# B6.X Problems\n",
    "<hr style=\"height:2px;border-width:0;color:gray;background-color:gray\">"
   ]
  },
  {
   "cell_type": "markdown",
   "metadata": {},
   "source": [
    "<h2>Problem B6.1</h2>\n",
    "    </header>\n",
    "\n",
    "Three point masses are placed at the corners of a triangle as shown in the figure below.\n",
    "\n",
    "<img src=\"P-B6.1.png\"  width=\"200\"/>\n",
    "\n",
    "Find the center of mass of the three-mass system.\n",
    "\n",
    "[This problem is a slightly modified version from OpenStax. Access for free here](https://openstax.org/books/university-physics-volume-1/pages/9-problems)"
   ]
  },
  {
   "cell_type": "code",
   "execution_count": null,
   "metadata": {},
   "outputs": [],
   "source": [
    "# DIY Cell"
   ]
  },
  {
   "cell_type": "code",
   "execution_count": 18,
   "metadata": {
    "tags": [
     "hide-input",
     "hide-output"
    ]
   },
   "outputs": [
    {
     "name": "stdout",
     "output_type": "stream",
     "text": [
      "The CM coordinate is: (0.027692307692307693,0.006923076923076922) m\n"
     ]
    }
   ],
   "source": [
    "%reset -f\n",
    "# assume the 100 g object is at the origin of a standard xy-coordinate system\n",
    "\n",
    "m1 = 0.100\n",
    "x1 = 0.0\n",
    "y1 = 0.0\n",
    "\n",
    "m2 = 0.150\n",
    "x2 = 0.04\n",
    "y2 = 0.0\n",
    "\n",
    "m3 = 0.075\n",
    "x3 = 0.04\n",
    "y3 = 0.03\n",
    "\n",
    "X_CM = (m1*x1 + m2*x2 + m3*x3)/(m1 + m2 + m3)\n",
    "Y_CM = (m1*y1 + m2*y2 + m3*y3)/(m1 + m2 + m3)\n",
    "\n",
    "print('The CM coordinate is: ('+str(X_CM)+','+str(Y_CM)+') m')"
   ]
  },
  {
   "cell_type": "markdown",
   "metadata": {},
   "source": [
    "<hr style=\"height:2px;border-width:0;color:gray;background-color:gray\">"
   ]
  },
  {
   "cell_type": "markdown",
   "metadata": {},
   "source": [
    "<h2>Problem B6.2</h2>\n",
    "    </header>\n",
    "\n",
    "Two particles of masses $m_1$ and $m_2$ move uniformly in different circles of radii $R_1$ and $R_2$ about the origin in the $x$, $y$-plane. The coordinates of the two particles in meters are given as follows ($z = 0$ for both). Here $t$ is in seconds:\n",
    "\n",
    "\\begin{align*}\n",
    " x_{1}(t) &= \\,4\\cos(2t) \\\\ \n",
    " y_{1}(t) &= \\,4\\sin(2t) \\\\ \n",
    " x_{2}(t) &= \\,2\\cos\\left(3t - \\frac{\\pi}{2}\\right) \\\\ \n",
    " y_{2}(t) &= \\,2\\sin\\left(3t - \\frac{\\pi}{2}\\right) \\\\ \n",
    "\\end{align*}\n",
    " \n",
    "\n",
    "1. Find the radii of the circles of motion of both particles.\n",
    "2. Find the x- and y-coordinates of the center of mass. Express the solution as a function of time and the two masses.\n",
    "3. Decide if the center of mass moves in a circle by plotting its trajectory.\n",
    "\n",
    "[This problem is a slightly modified version from OpenStax. Access for free here](https://openstax.org/books/university-physics-volume-1/pages/9-problems)"
   ]
  },
  {
   "cell_type": "code",
   "execution_count": null,
   "metadata": {},
   "outputs": [],
   "source": [
    "# DIY Cell"
   ]
  },
  {
   "cell_type": "code",
   "execution_count": 17,
   "metadata": {
    "tags": [
     "hide-input",
     "hide-output"
    ]
   },
   "outputs": [
    {
     "name": "stdout",
     "output_type": "stream",
     "text": [
      "The radius of circle 1: 4 m\n",
      "The radius of circle 2: 2 m\n",
      " \n",
      "X-coordinate of Center of Mass: (4*m1*cos(2*t) + 2*m2*sin(3*t))/(m1 + m2)\n",
      "Y-coordinate of Center of Mass: (4*m1*sin(2*t) - 2*m2*cos(3*t))/(m1 + m2)\n",
      " \n"
     ]
    }
   ],
   "source": [
    "%reset -f\n",
    "#-------\n",
    "# PART 1\n",
    "#-------\n",
    "\n",
    "# The parametric equation for a circle is given by: x = Rcos() and y = Rsin()\n",
    "# Read of the radius:\n",
    "R1 = 4\n",
    "R2 = 2\n",
    "print('The radius of circle 1: '+str(R1)+' m')\n",
    "print('The radius of circle 2: '+str(R2)+' m')\n",
    "print(' ')\n",
    "\n",
    "#-------\n",
    "# PART 2\n",
    "#-------\n",
    "import sympy as sp\n",
    "\n",
    "t,m1,m2 = sp.symbols('t,m1,m2')\n",
    "\n",
    "x1 = 4*sp.cos(2*t)\n",
    "y1 = 4*sp.sin(2*t)\n",
    "x2 = 2*sp.cos(3*t - sp.pi/2)\n",
    "y2 = 2*sp.sin(3*t - sp.pi/2)\n",
    "\n",
    "X = (m1*x1 + m2*x2)/(m1 + m2)\n",
    "Y = (m1*y1 + m2*y2)/(m1 + m2)\n",
    "\n",
    "print('X-coordinate of Center of Mass: '+str(X))\n",
    "print('Y-coordinate of Center of Mass: '+str(Y))\n",
    "print(' ')"
   ]
  },
  {
   "cell_type": "markdown",
   "metadata": {},
   "source": [
    "<hr style=\"height:2px;border-width:0;color:gray;background-color:gray\">"
   ]
  },
  {
   "cell_type": "markdown",
   "metadata": {},
   "source": [
    "<h2>Problem B6.3</h2>\n",
    "    </header>\n",
    "\n",
    "Find the center of mass of a rod of length $L$ whose mass density changes from one end to the other quadratically. That is, if the rod is laid out along the $x$-axis with one end at the origin and the other end at $x = L$, the density is given by\n",
    "\n",
    "$$\\rho(x) = \\rho_0 + (\\rho_1 - \\rho_0)\\left(\\frac{x}{L}\\right)^2$$\n",
    "\n",
    "where $\\rho_0$ and $\\rho_1$ are constant values.\n",
    "\n",
    "[This problem is a slightly modified version from OpenStax. Access for free here](https://openstax.org/books/university-physics-volume-1/pages/9-problems)"
   ]
  },
  {
   "cell_type": "code",
   "execution_count": null,
   "metadata": {},
   "outputs": [],
   "source": [
    "# DIY Cell"
   ]
  },
  {
   "cell_type": "code",
   "execution_count": 29,
   "metadata": {
    "tags": [
     "hide-input",
     "hide-output"
    ]
   },
   "outputs": [
    {
     "data": {
      "image/png": "[encoded data removed]",
      "text/latex": [
       "$\\displaystyle \\left\\{\\frac{\\frac{L^{2} p_{0}}{2} + \\frac{L^{2} \\left(- p_{0} + p_{1}\\right)}{4}}{L p_{0} + \\frac{L \\left(- p_{0} + p_{1}\\right)}{3}}\\right\\}$"
      ],
      "text/plain": [
       "⎧ 2       2           ⎫\n",
       "⎪L ⋅p₀   L ⋅(-p₀ + p₁)⎪\n",
       "⎪───── + ─────────────⎪\n",
       "⎪  2           4      ⎪\n",
       "⎨─────────────────────⎬\n",
       "⎪        L⋅(-p₀ + p₁) ⎪\n",
       "⎪ L⋅p₀ + ──────────── ⎪\n",
       "⎪             3       ⎪\n",
       "⎩                     ⎭"
      ]
     },
     "execution_count": 29,
     "metadata": {},
     "output_type": "execute_result"
    }
   ],
   "source": [
    "%reset -f\n",
    "\n",
    "import sympy as sp\n",
    "\n",
    "p0,p1,x,L = sp.symbols('p0,p1,x,L')\n",
    "\n",
    "# dm = density*dx\n",
    "\n",
    "\n",
    "p = p0 + (p1 - p0)*(x/L)**2\n",
    "\n",
    "X = sp.integrate(x*p,(x,0,L))/sp.integrate(p,(x,0,L))\n",
    "\n",
    "# make it look pretty\n",
    "sp.init_printing()\n",
    "{X}\n"
   ]
  },
  {
   "cell_type": "markdown",
   "metadata": {},
   "source": [
    "<hr style=\"height:2px;border-width:0;color:gray;background-color:gray\">"
   ]
  },
  {
   "cell_type": "markdown",
   "metadata": {},
   "source": [
    "<h2>Problem B6.4</h2>\n",
    "    </header>\n",
    "\n",
    "Find the center of mass of a sphere of mass M and radius R and a cylinder of mass m, radius r, and height h arranged as shown below. Express your answers in a coordinate system that has the origin at the center of the cylinder.\n",
    "\n",
    "<img src=\"P-B6.4.png\"  width=\"300\"/>\n",
    "\n",
    "[This problem is a slightly modified version from OpenStax. Access for free here](https://openstax.org/books/university-physics-volume-1/pages/9-problems)"
   ]
  },
  {
   "cell_type": "code",
   "execution_count": null,
   "metadata": {},
   "outputs": [],
   "source": [
    "# DIY Cell"
   ]
  },
  {
   "cell_type": "markdown",
   "metadata": {},
   "source": [
    "<hr style=\"height:2px;border-width:0;color:gray;background-color:gray\">"
   ]
  },
  {
   "cell_type": "markdown",
   "metadata": {},
   "source": [
    "<h2>Problem B6.5</h2>\n",
    "    </header>\n",
    "\n",
    "Find the center of mass of the structure given in the figure below. Assume a uniform thickness of $20.0$ cm, and a uniform density of  $1.00$ g/cm$^3$. Assume the structure has vertical symmetry.\n",
    "\n",
    "<img src=\"P-B6.5.png\"  width=\"400\"/>\n",
    "\n",
    "[This problem is a slightly modified version from OpenStax. Access for free here](https://openstax.org/books/university-physics-volume-1/pages/9-challenge-problems)"
   ]
  },
  {
   "cell_type": "code",
   "execution_count": null,
   "metadata": {},
   "outputs": [],
   "source": [
    "# DIY Cell"
   ]
  },
  {
   "cell_type": "markdown",
   "metadata": {},
   "source": [
    "<hr style=\"height:2px;border-width:0;color:gray;background-color:gray\">"
   ]
  }
 ],
 "metadata": {
  "celltoolbar": "Tags",
  "kernelspec": {
   "display_name": "Python 3 (ipykernel)",
   "language": "python",
   "name": "python3"
  },
  "language_info": {
   "codemirror_mode": {
    "name": "ipython",
    "version": 3
   },
   "file_extension": ".py",
   "mimetype": "text/x-python",
   "name": "python",
   "nbconvert_exporter": "python",
   "pygments_lexer": "ipython3",
   "version": "3.10.9"
  }
 },
 "nbformat": 4,
 "nbformat_minor": 4
}
