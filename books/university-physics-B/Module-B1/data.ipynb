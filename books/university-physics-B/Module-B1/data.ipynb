{
 "cells": [
  {
   "cell_type": "markdown",
   "metadata": {},
   "source": [
    "# B1.1 Working with Data\n",
    "<hr style=\"height:2px;border-width:0;color:gray;background-color:gray\">"
   ]
  },
  {
   "cell_type": "markdown",
   "metadata": {},
   "source": [
    "## B1.1.1 Motivation\n",
    "Physics is the way to explain the observable nature/universe(s) surrounding us and the theories behind physics are motivated through scientific observations. These observations constitute our data sets. Often we make observations of a parameter that varies with time or position. We may call time (or position) our **independent variable** and the measurable parameter that is depending on time (or position) the **dependent variable**. However, that is not a requirement. Sometimes we have hypotheses that may suggest we make observations using different independent variable. \n",
    "\n",
    "What we do with the data sets will depend on our objectives. Here are a few options that we will explore in this course:\n",
    "\n",
    "* graphical interpretations.\n",
    "* numerical calculations.\n",
    "\n",
    "\n",
    "<hr style=\"height:2px;border-width:0;color:gray;background-color:gray\">"
   ]
  },
  {
   "cell_type": "markdown",
   "metadata": {},
   "source": [
    "## B1.1.2 Examples\n",
    "Based on our current established theories from previous modules, we can give a few examples:\n",
    "\n",
    "* Position vs. time: we have a relationship stating that $x = x_0 + v_{0x}t + \\frac{1}{2}a_{x}t^2$, which is valid for **constant** acceleration. In this case, time is the independent variable and position is the dependent variable.\n",
    "* Force vs. position: the work-energy theorem states that $w = \\vec{f}\\cdot \\Delta\\vec{r}$, which relates force to displacement. This relationship is not as direct as the previous example. Nonetheless, the force vs. position data set will allow us to extract very useful information.\n",
    "* Normal force vs. mass: If we have a scale (which measure normal force), we can stack blocks on it and investigate the relationship $f_n = mg$. In this case, mass is the independent variable and normal the dependent variable.\n",
    "\n",
    "<hr style=\"height:2px;border-width:0;color:gray;background-color:gray\">"
   ]
  },
  {
   "cell_type": "markdown",
   "metadata": {},
   "source": [
    "## B1.1.3 Differences\n",
    "\n",
    "One of the most essential objects when dealing with data sets is the **difference**. It is quite simple and we have seen numerous examples of it. The difference is expressed through the greek capital letter $\\Delta$ and simply reads as **a change in**. With data, we form differences in various clever ways to investigate the data set. For example, the average velocity is defined as the difference in position over the difference in time:\n",
    "\n",
    "$$ \\vec{v}_{av} = \\frac{\\Delta\\vec{r}}{\\Delta t} $$\n",
    "\n",
    "and the momentum transfer (impulse) is defined as:\n",
    "\n",
    "$$ \\Delta\\vec{p} = \\vec{f}_{net}\\Delta t $$\n",
    "\n",
    "where $\\vec{f}$ is the average net force. \n",
    "\n",
    "<div class=\"alert alert-danger\">\n",
    "    We notice that the parameter not associated with the differences is an <b>average</b> parameter across the differences.\n",
    "</div>\n",
    "\n",
    "<hr style=\"height:2px;border-width:0;color:gray;background-color:gray\">"
   ]
  },
  {
   "cell_type": "markdown",
   "metadata": {},
   "source": [
    "## B1.1.4 Scientific Plots\n",
    "\n",
    "Graphical representation is the most straightforward way to manipulate data into a way of interrogation the observations. When plotting we often have the independent variable on the horizontal axis and the dependent variable along the vertical axis, but there is no rule against flipping them around. In this common way of plotting we say that we are plotting the **dependent variable vs. the independent variable**. For example, position vs. time would show time on the horizontal axis and the position along the vertical axis. \n",
    "\n",
    "Sometimes, we may also be a little inventive in terms of what we are plotting. For example, if we have a data set of position as a function of time, we may plot position vs. time square instead of position vs. time. Other times we may consider logarithmic plots. These decisions can often be made if we have some sort of a theoretical model for the data. For example, exponential growth may suggest a logarithmic plot. \n",
    "\n",
    "If we do not have a theoretical model to suggest plotting profile, the data itself can guide us in the correct direction and we may use a **curve-fitting algorithm** to tell us how the data behave.\n",
    "\n",
    "<hr style=\"height:2px;border-width:0;color:gray;background-color:gray\">"
   ]
  }
 ],
 "metadata": {
  "kernelspec": {
   "display_name": "Python 3 (ipykernel)",
   "language": "python",
   "name": "python3"
  },
  "language_info": {
   "codemirror_mode": {
    "name": "ipython",
    "version": 3
   },
   "file_extension": ".py",
   "mimetype": "text/x-python",
   "name": "python",
   "nbconvert_exporter": "python",
   "pygments_lexer": "ipython3",
   "version": "3.10.9"
  }
 },
 "nbformat": 4,
 "nbformat_minor": 4
}
