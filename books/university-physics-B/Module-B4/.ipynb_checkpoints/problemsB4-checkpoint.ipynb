{
 "cells": [
  {
   "cell_type": "markdown",
   "metadata": {},
   "source": [
    "# B4.4 Problems\n",
    "<hr style=\"height:2px;border-width:0;color:gray;background-color:gray\">"
   ]
  },
  {
   "cell_type": "markdown",
   "metadata": {},
   "source": [
    "<h2>Problem B4.1</h2>\n",
    "    </header>\n",
    "\n",
    "The amateur rocket engine is labeled according to its impulse and average thrust. One such engine has a thrust curve shown below. The rocket curve is copied from [Aerotech](https://aerotech-rocketry.com/products/product_83b63096-bb03-e999-143a-548a10f8c58e) and you can get the answer from the link.\n",
    "\n",
    "<img src=\"P-B4.1.png\"  width=\"500\"/>\n",
    "\n",
    "Using the [rocket classification table](https://en.wikipedia.org/wiki/Model_rocket_motor_classification) to estimate the impulse class of the engine. "
   ]
  },
  {
   "cell_type": "markdown",
   "metadata": {},
   "source": [
    "<hr style=\"height:2px;border-width:0;color:gray;background-color:gray\">"
   ]
  },
  {
   "cell_type": "markdown",
   "metadata": {},
   "source": [
    "<h2>Problem B4.2</h2>\n",
    "    </header>\n",
    "\n",
    "A 0.0050 kg particle is subject to a force given by $f_x = (2.0t^2 + 0.3t^5)~\\textrm{N}$ in the time interval $t = [0,3]~\\textrm{s}$. If the particle is traveling at +120.0 m/s initially, what is its velocity at $t = 3$ s?"
   ]
  },
  {
   "cell_type": "code",
   "execution_count": 15,
   "metadata": {
    "tags": [
     "hide-input",
     "hide-output"
    ]
   },
   "outputs": [
    {
     "name": "stdout",
     "output_type": "stream",
     "text": [
      "Velocity at 3 s = 11010.0000000000\n"
     ]
    }
   ],
   "source": [
    "import sympy as sym\n",
    "\n",
    "#integral variable\n",
    "t = sym.Symbol('t')\n",
    "\n",
    "#function to integrate\n",
    "f = 2.0*t**2 + 0.3*t**5 \n",
    "\n",
    "#limits\n",
    "t1 = 0.0\n",
    "t2 = 3.0\n",
    "impulse = sym.integrate(f,(t,t1,t2))\n",
    "\n",
    "#values giving\n",
    "m = 0.005\n",
    "v1 = 120.0\n",
    "\n",
    "v2 = sym.Symbol('v2')\n",
    "\n",
    "#equation to be solved: 0 = impulse - mv2 + mv1\n",
    "eq1 = impulse - m*v2 + m*v1\n",
    "\n",
    "sol = sym.solve(eq1,v2)\n",
    "\n",
    "#print only positive and real solution\n",
    "print('Velocity at 3 s = '+str(sol[0]))"
   ]
  },
  {
   "cell_type": "markdown",
   "metadata": {},
   "source": [
    "<hr style=\"height:2px;border-width:0;color:gray;background-color:gray\">"
   ]
  },
  {
   "cell_type": "markdown",
   "metadata": {},
   "source": [
    "<h2>Problem B4.3</h2>\n",
    "    </header>\n",
    "\n",
    "A particle is subject to a net force shown on the graph below.\n",
    "\n",
    "1. Find the momentum transfer to/from the particle due to this net force.\n",
    "2. If the particle has a mass of 0.40 kg and travels at +250.0 m/s at t = 5 s, what was its velocity at t = 0 s?\n",
    "3. What is its velocity at t = 8 s?"
   ]
  },
  {
   "cell_type": "code",
   "execution_count": 12,
   "metadata": {
    "tags": [
     "hide-input"
    ]
   },
   "outputs": [
    {
     "data": {
      "image/png": "[encoded data removed]",
      "text/plain": [
       "<Figure size 640x480 with 1 Axes>"
      ]
     },
     "metadata": {},
     "output_type": "display_data"
    }
   ],
   "source": [
    "import numpy as np\n",
    "import matplotlib.pyplot as plt\n",
    "\n",
    "%matplotlib inline\n",
    "\n",
    "t1 = np.arange(0,5.1,0.1)\n",
    "f1 = 0.0 + 3.0*t1\n",
    "t2 = np.arange(0,5.1,0.1)+5.0\n",
    "f2 = np.zeros(len(t2))+15\n",
    "\n",
    "plt.figure()\n",
    "plt.ylabel('$f_x$ (N)')\n",
    "plt.xlabel('Time (s)')\n",
    "ax = plt.gca()\n",
    "ax.plot(t1,f1,'-',color='b')\n",
    "ax.plot(t2,f2,'-',color='b')\n",
    "ax.set_xlim([0, 10])\n",
    "ax.set_ylim([0, 20])\n",
    "ax.grid()\n",
    "plt.show()"
   ]
  },
  {
   "cell_type": "markdown",
   "metadata": {},
   "source": [
    "<hr style=\"height:2px;border-width:0;color:gray;background-color:gray\">"
   ]
  },
  {
   "cell_type": "markdown",
   "metadata": {},
   "source": [
    "<h2>Problem B4.4</h2>\n",
    "    </header>\n",
    "\n",
    "A helicopter with mass $2.35\\times 10^4~\\textrm{kg}$ has a position (in meters) given by $\\vec{r} = (0.020t^3)\\hat{i} + (2.2t)\\hat{j} + (-0.060t^2)\\hat{k}$. Find the net force on the helicopter at  t = 3.0 s.\n",
    "\n",
    "This problem is a slightly modified version from OpenStax. Access for free at [https://openstax.org/books/university-physics-volume-1/pages/6-additional-problems](https://openstax.org/books/university-physics-volume-1/pages/6-additional-problems)"
   ]
  },
  {
   "cell_type": "markdown",
   "metadata": {},
   "source": [
    "<hr style=\"height:2px;border-width:0;color:gray;background-color:gray\">"
   ]
  },
  {
   "cell_type": "markdown",
   "metadata": {},
   "source": [
    "<h2>Problem B4.5</h2>\n",
    "    </header>\n",
    "\n",
    "A 2.25 kg box is moving across a horizontal floor. There is a coefficient of kinetic friction between the box and the floor of 0.400. A time-dependent applied pushing force of $f_x = 2.00t^2 - 0.500t^3$ is applied over the time interval of $t = [0.00,3.00]$ s. Assume the box is initially at rest and starting at $x = 0.00$ m.\n",
    "\n",
    "1. What are the impulses delivered by each forces acting on the box during the first 3 seconds?\n",
    "2. What is the net acceleration of the box during the first three seconds?\n",
    "3. What is the velocity of the box at t = 3.00 s?\n",
    "4. What is the position of the box at t = 3.00 s?\n",
    "5. After 3 s, the pushing force is no longer applied. How long time does it take the box to come to a stop?\n",
    "6. What is its position when it comes to a stop?"
   ]
  },
  {
   "cell_type": "markdown",
   "metadata": {},
   "source": [
    "<hr style=\"height:2px;border-width:0;color:gray;background-color:gray\">"
   ]
  },
  {
   "cell_type": "markdown",
   "metadata": {},
   "source": [
    "<h2>Problem B4.5</h2>\n",
    "    </header>\n",
    "\n",
    "A UVU student has been tasked with pulling a 10.0 kg box full of research equipment up a slick rock hill in Capitol Reef National Park. The hill is sloped with an angle of $12.0^\\circ$ from the horizontal. There is a coefficient of friction between the rock surface and the box of 0.75. The student is optimistic at first but quickly runs out of stamina as evidenced by the measured pulling force (in N) of $f(t) = 225 - 5.00t$ along the incline of the hill. The student and box starts out from rest.\n",
    "\n",
    "1. How long time did it take before the net acceleration is zero?\n",
    "2. What is the speed of the box at that time?\n",
    "3. How far up the incline hill is the box at that time?\n",
    "4. The student continues to move up the hill until the student can no longer pull at which the speed zero. At what time does that occur?\n",
    "5. What distance up the hill did the box make it before the student need to take a break?"
   ]
  },
  {
   "cell_type": "markdown",
   "metadata": {},
   "source": [
    "<hr style=\"height:2px;border-width:0;color:gray;background-color:gray\">"
   ]
  }
 ],
 "metadata": {
  "celltoolbar": "Tags",
  "kernelspec": {
   "display_name": "Python 3 (ipykernel)",
   "language": "python",
   "name": "python3"
  },
  "language_info": {
   "codemirror_mode": {
    "name": "ipython",
    "version": 3
   },
   "file_extension": ".py",
   "mimetype": "text/x-python",
   "name": "python",
   "nbconvert_exporter": "python",
   "pygments_lexer": "ipython3",
   "version": "3.10.9"
  }
 },
 "nbformat": 4,
 "nbformat_minor": 4
}
