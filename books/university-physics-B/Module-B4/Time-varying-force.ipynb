{
 "cells": [
  {
   "cell_type": "markdown",
   "metadata": {},
   "source": [
    "# B4.3 Time-varying Force\n",
    "<hr style=\"height:2px;border-width:0;color:gray;background-color:gray\">"
   ]
  },
  {
   "cell_type": "markdown",
   "metadata": {},
   "source": [
    "## B4.3.1 Time-dependent Force and N2\n",
    "\n",
    "This is pretty simple. Up until now, all our forces have been constant or average forces (also constant). Now we will let them vary with time. That is\n",
    "\n",
    "$$\\vec{f} \\rightarrow \\vec{f}(t) $$\n",
    "\n",
    "This also implies that we now will consider cases such that N2 is time dependent:\n",
    "\n",
    "$$ \\vec{f}_{net}(t) = m\\vec{a}(t) $$\n",
    "\n",
    "<hr style=\"height:2px;border-width:0;color:gray;background-color:gray\">"
   ]
  },
  {
   "cell_type": "markdown",
   "metadata": {},
   "source": [
    "<div style=\"background-color: #D0D0D0 ; padding: 10px; border: 1px solid black;\">       \n",
    "<header>\n",
    "<h3> Example 1</h3>\n",
    "    </header>\n",
    "    \n",
    "A net force acting on a 2.0 kg particle is given by $\\vec{f} = [(2.0t + 4.0t^3)\\hat{i}]~\\textrm{N}$. Initially, the particle is located at $x = 0.0$ m and is at rest. Conceptually, describe how we can find its position at t = 5.0 s? \n",
    "\n",
    "**Solution**\n",
    "    \n",
    "We can use N2 to find the acceleration of the particle as a function of time. We can then integrate the acceleration twice to obtain the position at t = 5.0 s since we are given the initial position and velocity. \n",
    "    \n",
    "</div>"
   ]
  },
  {
   "cell_type": "markdown",
   "metadata": {},
   "source": [
    "<hr style=\"height:2px;border-width:0;color:gray;background-color:gray\">"
   ]
  },
  {
   "cell_type": "markdown",
   "metadata": {},
   "source": [
    "<div class=\"alert alert-warning\">\n",
    "<b>Box 1</b><br>\n",
    "    \n",
    "Carry out the calculations outlined in Example 1.\n",
    "\n",
    "</div>\n",
    "\n",
    "<hr style=\"height:2px;border-width:0;color:gray;background-color:gray\">"
   ]
  }
 ],
 "metadata": {
  "celltoolbar": "Tags",
  "kernelspec": {
   "display_name": "Python 3 (ipykernel)",
   "language": "python",
   "name": "python3"
  },
  "language_info": {
   "codemirror_mode": {
    "name": "ipython",
    "version": 3
   },
   "file_extension": ".py",
   "mimetype": "text/x-python",
   "name": "python",
   "nbconvert_exporter": "python",
   "pygments_lexer": "ipython3",
   "version": "3.10.9"
  }
 },
 "nbformat": 4,
 "nbformat_minor": 4
}
