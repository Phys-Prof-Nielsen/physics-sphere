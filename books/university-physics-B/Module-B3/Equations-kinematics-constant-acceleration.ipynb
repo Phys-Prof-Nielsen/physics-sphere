{
 "cells": [
  {
   "cell_type": "markdown",
   "metadata": {},
   "source": [
    "# B3.3 Equations of Kinematics: Constant Acceleration\n",
    "<hr style=\"height:2px;border-width:0;color:gray;background-color:gray\">"
   ]
  },
  {
   "cell_type": "markdown",
   "metadata": {},
   "source": [
    "## B3.3.1 From Previous Previous \n",
    "\n",
    "We have showed how we can obtain both **general** and **specific** functions of position and velocity through indefinite integration if we had analytical knowledge of velocity and acceleration, respectively. Let us summarize the equations here:\n",
    "\n",
    "<div class=\"alert alert-success\">\n",
    "    \n",
    "$$ \\vec{r}(t) = \\int \\vec{v}(t)dt + \\vec{C} \\label{eq:1} \\tag{1}$$\n",
    "</div>\n",
    "\n",
    "<div class=\"alert alert-success\">\n",
    "    \n",
    "$$ \\vec{v}(t) = \\int \\vec{a}(t)dt + \\vec{C} \\label{eq:2} \\tag{2}$$\n",
    "</div>\n",
    "\n",
    "In this Notebook, we will explore how these derived equations reduce when we are dealing with constant acceleration.\n",
    "<hr style=\"height:2px;border-width:0;color:gray;background-color:gray\">"
   ]
  },
  {
   "cell_type": "markdown",
   "metadata": {},
   "source": [
    "## B3.3.2  Velocity with constant acceleration\n",
    "\n",
    "We can follow the same approach as in previous note, where we found the position with constant velocity, to find a function for the velocity, provided we have information about the initial velocity, and a constant acceleration. Without further ado:\n",
    "\n",
    "<div class=\"alert alert-success\">\n",
    "    \n",
    "$$ \\vec{v}(t) = \\vec{v}_0 + \\vec{a}t \\label{eq:3} \\tag{3}$$\n",
    "</div>\n",
    "\n",
    "In a 1D scenario, we will often write this as\n",
    "\n",
    "<div class=\"alert alert-success\">\n",
    "    \n",
    "$$ v_x(t) = v_{0x} + a_{x}t \\tag{4}$$\n",
    "</div>\n",
    "\n",
    "The 1D form of the equation is also true if we replace x with y or z. \n",
    "\n",
    "<div class=\"alert alert-danger\">\n",
    "    \n",
    "The above relation is <b>only</b> valid for cases with a <b>constant</b> acceleration. If you apply the above equation to a problem with non-constant acceleration, you will get a wrong answer. Plain out wrong!\n",
    "</div>\n",
    "\n",
    "<hr style=\"height:2px;border-width:0;color:gray;background-color:gray\">"
   ]
  },
  {
   "cell_type": "markdown",
   "metadata": {},
   "source": [
    "## B3.3.3 Position with constant acceleration\n",
    "\n",
    "One of the most known and used equations of kinematics is derived from starting with the defintion of velocity, assume a constant acceleration, and integrate twice. The result can also be derived using arithmetic by considering the average acceleration and average velocity. The textbook uses that approach (see Equation 2.12 in textbook), and these notes will show the calculus approach.\n",
    "\n",
    "Again, we will consider a standard xyz coordinate system and consider one component.\n",
    "\n",
    "Starting with Equation (2) we obtain Equation (4) above (following the same procedure as when we derived the position function):\n",
    "\n",
    "$$ v_x(t) = v_{0x} + a_{x}t $$\n",
    "\n",
    "We will now integrate with respect to time again:\n",
    "\n",
    "$$ \\int v_x(t)dt = \\int v_{0x}dt + \\int a_{x}tdt $$\n",
    "\n",
    "Recall that $v_{0x}$ and $a_x$ are constants:\n",
    "\n",
    "$$ \\int v_x(t)dt = v_{0x}\\int dt + a_{x}\\int tdt $$\n",
    "\n",
    "The term on the left-hand side is just the position plus/minus a constant (see Equation 1), while the terms on the right-hand side follows the power rule of integration:\n",
    "\n",
    "$$ x(t) + \\textrm{constant} = v_{0x}t + \\textrm{constant} + a_{x}\\frac{1}{2}t^2 + \\textrm{constant}$$\n",
    "\n",
    "If we group all the constants into one and recognize that it represents the position at t = 0 s, we have:\n",
    "\n",
    "<div class=\"alert alert-success\">\n",
    "    \n",
    "$$ x(t)  = x_0 +  v_{0x}t +  \\frac{1}{2}a_{x}t^2 \\label{eq:5} \\tag{5} $$\n",
    "</div>\n",
    "\n",
    "or in vector form:\n",
    "\n",
    "\n",
    "<div class=\"alert alert-success\">\n",
    "    \n",
    "$$ \\vec{r}(t)  = \\vec{r}_0 +  \\vec{v}_{0}t +  \\frac{1}{2}\\vec{a}t^2 \\label{eq:6} \\tag{6} $$\n",
    "</div>\n",
    "\n",
    "Wer recognize that is one of the most important derived equations of kinematics with **constant acceleration**.\n",
    "\n",
    "<hr style=\"height:2px;border-width:0;color:gray;background-color:gray\">"
   ]
  }
 ],
 "metadata": {
  "kernelspec": {
   "display_name": "Python 3 (ipykernel)",
   "language": "python",
   "name": "python3"
  },
  "language_info": {
   "codemirror_mode": {
    "name": "ipython",
    "version": 3
   },
   "file_extension": ".py",
   "mimetype": "text/x-python",
   "name": "python",
   "nbconvert_exporter": "python",
   "pygments_lexer": "ipython3",
   "version": "3.10.9"
  }
 },
 "nbformat": 4,
 "nbformat_minor": 4
}
