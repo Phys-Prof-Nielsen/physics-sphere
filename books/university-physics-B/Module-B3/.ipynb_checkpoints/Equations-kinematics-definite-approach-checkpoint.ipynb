{
 "cells": [
  {
   "cell_type": "markdown",
   "metadata": {},
   "source": [
    "# B3.4 Equations of Kinematics - Definite Integral Approach\n",
    "<hr style=\"height:2px;border-width:0;color:gray;background-color:gray\">"
   ]
  },
  {
   "cell_type": "markdown",
   "metadata": {},
   "source": [
    "In previous notes we worked with relations through the indefinite integral and we discovered the role of the integration constant as a parameter that described **initial conditions** of the position and velocity, respectively. Sometimes, we are may be more concerned about changes in position and velocity that happens over a time interval (and not necessarily starting at t = 0). This is where the definite integral comes in.\n",
    "\n",
    "<hr style=\"height:2px;border-width:0;color:gray;background-color:gray\">"
   ]
  },
  {
   "cell_type": "markdown",
   "metadata": {},
   "source": [
    "## B3.4.1 Infinitesimal Changes in Position\n",
    "\n",
    "In the following we will consider a traditional xyz coordinate system and consider one component.\n",
    "\n",
    "We can consider an infinitesimal change in position as $dx$ taking place over an infinitesimal time interval $dt$. Since both the displacement and time interval are infinitesimal (extremely small), we can assume that the velocity across that displacement segment and time interval is the instantanous velocity. The length of the segment is then\n",
    "\n",
    "$$ dx = v_{x}(t)dt $$\n",
    "\n",
    "If we want to know the displacement $\\Delta x = x_2 - x_1$ taking place over the time interval $t = [t_1, t_2]$, we can perform the definite integral:\n",
    "\n",
    "$$ \\int_{x_{1}}^{x_2} dx = \\int_{t_1}^{t_2}v_{x}(t)dt $$\n",
    "\n",
    "The integral on the left-hand side is\n",
    "\n",
    "$$ \\int_{x_{1}}^{x_2} dx = x_{2} - x_{1}$$\n",
    "\n",
    "and the right-hand side integral we can not evaluate unless we know something about the velocity function. Hence, we have\n",
    "\n",
    "$$ x_{2} - x_{1} = \\int_{t_1}^{t_2}v_{x}(t)dt $$\n",
    "\n",
    "If we re-arrange stuff, we can obtain\n",
    "\n",
    "<div class=\"alert alert-success\">\n",
    "    \n",
    "$$ x_{2}  = x_{1} + \\int_{t_1}^{t_2}v_{x}(t)dt \\label{eq:1} \\tag{1}$$\n",
    "</div>\n",
    "\n",
    "and as a vector in 3D\n",
    "\n",
    "<div class=\"alert alert-success\">\n",
    "    \n",
    "$$ \\vec{r}_{2}  = \\vec{r}_{1} + \\int_{t_1}^{t_2}\\vec{v}(t)dt \\label{eq:2} \\tag{2}$$\n",
    "</div>\n",
    "\n",
    "These equations should be compared to Equations (1) and (2) in the Notebook: *Equations of Kinematics- General Poition and Velocity*. Then we see that the the constant now is equivalent to $x_1$ (or $\\vec{r}_1$) and signifies the position of the object at t = t$_1$.\n",
    "\n",
    "<hr style=\"height:2px;border-width:0;color:gray;background-color:gray\">"
   ]
  },
  {
   "cell_type": "markdown",
   "metadata": {},
   "source": [
    "<div class=\"alert alert-warning\">\n",
    "<b>Box 1</b><br>\n",
    "    \n",
    "A particle is moving in 1D with a velocity given by $\\vec{v}_{z}(t) = [At^3 + B]~\\hat{k}$, where A = 0.0050 m/s$^4$ and B = 1.8 m/s. At t = 2.0 s, the particle is located at z = 30.0 m. What is the particle's position at t = 4.0 s?\n",
    "\n",
    "</div>\n",
    "\n",
    "<hr style=\"height:2px;border-width:0;color:gray;background-color:gray\">"
   ]
  },
  {
   "cell_type": "markdown",
   "metadata": {},
   "source": [
    "## B3.4.2 Infinitesimal Changes in Velocity\n",
    "\n",
    "By now you are probably asking if we can extend this analysis to the acceleration/velocity relationship, and yes we can. Simply replace the letters:\n",
    "\n",
    "<div class=\"alert alert-success\">\n",
    "    \n",
    "$$ v_{2x}  = v_{1x} + \\int_{t_1}^{t_2}a_{x}(t)dt \\label{eq:5} \\tag{5}$$\n",
    "</div>\n",
    "\n",
    "and as a vector in 3D\n",
    "\n",
    "<div class=\"alert alert-success\">\n",
    "    \n",
    "$$ \\vec{v}_{2}  = \\vec{v}_{1} + \\int_{t_1}^{t_2}\\vec{a}(t)dt \\label{eq:6} \\tag{6}$$\n",
    "</div>\n",
    "\n",
    "<hr style=\"height:2px;border-width:0;color:gray;background-color:gray\">"
   ]
  },
  {
   "cell_type": "markdown",
   "metadata": {},
   "source": [
    "<div class=\"alert alert-warning\">\n",
    "<b>Box 3</b><br>\n",
    "    \n",
    "A UVU rocket is launched using a progressive engine that provides the rocket with an upward (positive direction) acceleration of $a_{z}(t) = (30.0~\\textrm{m/s}^4)t^2$ over an elapsed time of 3 s. If the rockets is launched from rest, what is its velocity after 3 s?\n",
    "\n",
    "</div>\n",
    "\n",
    "<hr style=\"height:2px;border-width:0;color:gray;background-color:gray\">"
   ]
  }
 ],
 "metadata": {
  "kernelspec": {
   "display_name": "Python 3 (ipykernel)",
   "language": "python",
   "name": "python3"
  },
  "language_info": {
   "codemirror_mode": {
    "name": "ipython",
    "version": 3
   },
   "file_extension": ".py",
   "mimetype": "text/x-python",
   "name": "python",
   "nbconvert_exporter": "python",
   "pygments_lexer": "ipython3",
   "version": "3.10.9"
  }
 },
 "nbformat": 4,
 "nbformat_minor": 4
}
