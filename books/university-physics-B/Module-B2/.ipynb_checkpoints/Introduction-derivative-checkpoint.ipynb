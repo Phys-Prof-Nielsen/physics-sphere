{
 "cells": [
  {
   "cell_type": "markdown",
   "metadata": {},
   "source": [
    "# B2.1 Introduction to the Derivative\n",
    "<hr style=\"height:2px;border-width:0;color:gray;background-color:gray\">"
   ]
  },
  {
   "cell_type": "markdown",
   "metadata": {},
   "source": [
    "## B2.1.1 Conceptual Approach: The slope of a graph\n",
    "\n",
    "Consider an arbitrary, smooth function $f(x)$. Take two data points $x$ and $x + \\Delta x$ such that the two points are\n",
    "separated by $\\Delta x$ , and the corresponding function values are $f(x)$ and $f(x + \\Delta x)$. If we want to estimate the slope at point $x$, we can to an approximation say that the slope can be represented as a straight-line slope between the two data points. That slope is given by (remember: rise over run)\n",
    "\n",
    "$$ \\textrm{slope} = \\frac{f(x + \\Delta x) - f(x)}{\\Delta x} $$\n",
    "\n",
    "In the figure below, we illustrate this concept where the blue line is the straight line with the slope given by the above equation.\n",
    "\n",
    "<img src=\"B2-fig1.png\"  width=\"600\"/>\n",
    "\n",
    "We notice that the slope calculated by the differences$^*$ is not exactly the slope of the function\n",
    "$f(x)$ at $x$, but only an approximation. This approximation may be good or bad depending on the function and the appliction we need the slope for. It\n",
    "may not take much imagination to think that the approximation of the slope at $x$ could be improved if we picked a\n",
    "data point closer to $x$ as shown in the next figure. The slope of the red line is an improved approximation for the\n",
    "slope at point $x$ compared to the slope of the blue line.\n",
    "\n",
    "$^*$**by differences we mean quantities that are given by $\\Delta $ which we read as \"a change in \" or as \"a difference in\"**. \n",
    "\n",
    "<img src=\"B2-fig2.png\"  width=\"600\"/>\n",
    "\n",
    "We can continue this process of chosing smaller and smaller $\\Delta x$ to improve our estimate as shown in the next figure, where the slope of the green line is a much better approximation for the slope of $f(x)$ at $x$ compared to the slopes of either the blue or red lines.\n",
    "\n",
    "<img src=\"B2-fig3.png\"  width=\"600\"/>\n",
    "\n",
    "It should be evident from these figures that as we choose smaller and smaller values of $\\Delta x$, we obtain a better\n",
    "approximation for the slope of $f(x)$ at $x$. The slopes of the straight lines are referred to as the **average** slope between two data points, whereas the actually slope at the given point is the **instantaneous** slope. The line tangent to the data point is the straight line passing through that point with a slope that is the instantaneous slope at that point.\n",
    "\n",
    "<hr style=\"height:2px;border-width:0;color:gray;background-color:gray\">"
   ]
  },
  {
   "cell_type": "markdown",
   "metadata": {},
   "source": [
    "## B2.1.2 Definition of the Derivative\n",
    "\n",
    "The derivative is a mathematical tool to obtain the instantaneous slope provided we know the analytical function\n",
    "$f(x)$. Based on the above reasoning, we will let $\\Delta x$ become really small, in fact, we will let it approach zero. We\n",
    "define the derivative as (read as: the derivative of $f$ with respect to $x$)\n",
    "\n",
    "$$ \\frac{d}{dx}[f] = \\lim_{\\Delta x\\to 0} \\frac{f(x + \\Delta x) - f(x)}{\\Delta x} $$\n",
    "\n",
    "**In words, we may say that the derivative is the instantaneous change of function f at location x with respect to x**.\n",
    "\n",
    "### Warning\n",
    "<div class=\"alert alert-danger\">\n",
    "    \n",
    "We must point out that the $\\frac{d}{dx}$ is a mathematical operator and not a fraction. We\n",
    "read this as \"the derivative of $f$ with respect to $x$\".\n",
    "</div>\n",
    "\n",
    "The equation is often written as\n",
    "\n",
    "$$ \\frac{df}{dx} = \\lim_{\\Delta x\\to 0} \\frac{f(x + \\Delta x) - f(x)}{\\Delta x} $$\n",
    "\n",
    "but I wrote it as $ \\frac{d}{dx}[f]$ to enforce the notion that we are dealing with an operator $\\frac{d}{dx}$ acting on a function $[f]$. In the future, we will often omit the $[]$ as it will be understood to be an operator acting on a function.\n",
    "\n",
    "### Other notations\n",
    "The derivative is sometimes written as\n",
    "\n",
    "$$ f'(x) $$\n",
    "\n",
    "where it is understood that the derivative is with respect to the variable $x$ (read as \"f-prime\"). This notation was introduced by [Lagrange](https://en.wikipedia.org/wiki/Joseph-Louis_Lagrange), while the notation\n",
    "\n",
    "$$\\frac{df}{dx}$$ \n",
    "\n",
    "was introduced by [Leibniz](https://en.wikipedia.org/wiki/Gottfried_Wilhelm_Leibniz).\n",
    "\n",
    "Calculus was, independently of each other, developed by Leibniz and [Newton](https://en.wikipedia.org/wiki/Isaac_Newton). Newton also has a notation, which we will use in physics, but it is not a general notation like the ones by Lagrange and Leibniz. Instead, Newton used a specific notation when the derivative was taken with respect to time as a variable:\n",
    "\n",
    "$$\\dot{f}$$ \n",
    "\n",
    "where it is now understood that the derivative is with respect to $t$ (read as\"f-dot\").\n",
    "\n",
    "A great discussion regarding Newton vs. Leibniz from the [Big Bang Theory](https://www.youtube.com/watch?v=1Zkb8Cn-N28).\n",
    "\n",
    "<hr style=\"height:2px;border-width:0;color:gray;background-color:gray\">"
   ]
  },
  {
   "cell_type": "markdown",
   "metadata": {},
   "source": [
    "<div style=\"background-color: #D0D0D0 ; padding: 10px; border: 1px solid black;\">       \n",
    "<header>\n",
    "<h3> Example 1</h3>\n",
    "    </header>\n",
    "    \n",
    "Find the derivative of $f(x) = x^2$.\n",
    "    \n",
    "**Solution**\n",
    "\n",
    "We will use the above definition of the derivative and the knowledge of the analytic function. Since $f(x) = x^2$, we have that $f(x+ \\Delta x) = (x + \\Delta x)^2 = x^2 + 2x~\\Delta x + (\\Delta x)^2$, which we will need for calculating the derivative according to the definition. From the definition we have\n",
    "\n",
    "$$ \\frac{d}{dx}[f] = \\lim_{\\Delta x\\to 0} \\frac{f(x + \\Delta x) - f(x)}{\\Delta x} $$\n",
    "\n",
    "Insert our particular function of interest:\n",
    "    \n",
    "$$ \\frac{d}{dx}[x^2] = \\lim_{\\Delta x\\to 0} \\frac{x^2 + 2x~\\Delta x + (\\Delta x)^2 - x^2}{\\Delta x} $$\n",
    "\n",
    "where we inserted our expressions for $f(x)$ and $f(x + \\Delta x)$.\n",
    "\n",
    "We can eliminate $x^2$ as it subtracts out:\n",
    "\n",
    "$$ \\frac{d}{dx}[x^2] = \\lim_{\\Delta x\\to 0} \\frac{2x~\\Delta x + (\\Delta x)^2}{\\Delta x} $$\n",
    "\n",
    "If we divide through both terms in the numerator by $\\Delta x$, we get\n",
    "\n",
    "$$ \\frac{d}{dx}[x^2] = \\lim_{\\Delta x\\to 0} (2x + \\Delta x) $$\n",
    "\n",
    "Now we can execute the limit evaluation by setting $\\Delta x = 0$ (we could not do that before since $\\Delta x$ was in the denominator):\n",
    "\n",
    "$$ \\frac{d}{dx}[x^2] = 2x + 0 $$\n",
    "\n",
    "or \n",
    "\n",
    "$$ \\frac{d}{dx}[x^2] = 2x $$\n",
    "\n",
    "**Answer**\n",
    "    \n",
    "The derivative of $f(x) = x^2$ with respect to $x$ is\n",
    "    \n",
    "$$ \\frac{d}{dx}[f] = 2x $$\n",
    "    \n",
    "</div>\n",
    "<hr style=\"height:2px;border-width:0;color:gray;background-color:gray\">"
   ]
  },
  {
   "cell_type": "markdown",
   "metadata": {},
   "source": [
    "<div style=\"background-color: #D0D0D0 ; padding: 10px; border: 1px solid black;\">       \n",
    "<header>\n",
    "<h3> Example 2</h3>\n",
    "    </header>\n",
    "    \n",
    "Find the instantaneous slope of $f(x) = x^2$ at $x = 3$.\n",
    "\n",
    "**Solution**\n",
    "    \n",
    "The instantanous slope of a function at a given point is the derivative evaluated at that point. We write this as\n",
    "\n",
    "$$ \\frac{df}{dx}\\bigg|_{x=3} $$\n",
    "\n",
    "Since our derivative is $\\frac{df}{dx} = 2x$, we have\n",
    "\n",
    "$$ \\frac{df}{dx}\\bigg|_{x=3} = 2x~\\bigg|_{x=3} = (2)(3) = 6 $$\n",
    "\n",
    "**Answer**\n",
    "The instantanous slope of $f(x) = x^2$ at $x = 3$ is 6.\n",
    "\n",
    "</div>\n",
    "<hr style=\"height:2px;border-width:0;color:gray;background-color:gray\">"
   ]
  },
  {
   "cell_type": "markdown",
   "metadata": {},
   "source": [
    "<div class=\"alert alert-warning\">\n",
    "<b>Box 1</b><br>\n",
    "    \n",
    "Use the approach in Example 1 to find the derivative of $f(x) = x^3$    \n",
    "</div>\n",
    "\n",
    "<hr style=\"height:2px;border-width:0;color:gray;background-color:gray\">"
   ]
  },
  {
   "cell_type": "markdown",
   "metadata": {},
   "source": [
    "<div class=\"alert alert-warning\">\n",
    "<b>Box 2</b><br>\n",
    "    \n",
    "Use the approach in Example 2 to find the instantanous slope of $f(x) = x^3$ at $x = 2$.   \n",
    "</div>\n",
    "\n",
    "<hr style=\"height:2px;border-width:0;color:gray;background-color:gray\">"
   ]
  },
  {
   "cell_type": "markdown",
   "metadata": {},
   "source": [
    "## B2.1.3 Application Examples: Momentum and Force\n",
    "If a net force is applied to a particle its momentum will change. This is quantified through Newton's 2nd law:\n",
    "\n",
    "$$ \\vec{f} = \\frac{d\\vec{p}}{dt} $$\n",
    "\n",
    "The graphical implication is: <b>on a graph showing momentum vs. time, the slope represents the force</b>.\n",
    "\n",
    "Let us consider two cases here: one with a constant net force and one with a varying net force.\n",
    "\n",
    "<hr style=\"height:2px;border-width:0;color:gray;background-color:gray\">"
   ]
  },
  {
   "cell_type": "markdown",
   "metadata": {},
   "source": [
    "### Case 1: Constant Force\n",
    "In this case, the slope on a momentum vs. time graph must be constant (a straight line). Using the little Python script below, we can creat such an example graph."
   ]
  },
  {
   "cell_type": "code",
   "execution_count": 1,
   "metadata": {
    "tags": [
     "hide-input"
    ]
   },
   "outputs": [
    {
     "data": {
      "image/png": "[encoded data removed]",
      "text/plain": [
       "<Figure size 432x288 with 1 Axes>"
      ]
     },
     "metadata": {
      "needs_background": "light"
     },
     "output_type": "display_data"
    }
   ],
   "source": [
    "import numpy as np\n",
    "from matplotlib import pyplot as plt\n",
    "from math import pi\n",
    "\n",
    "t = np.arange(0,10.0,0.1)\n",
    "p = 3*t\n",
    "\n",
    "plt.plot(t,p)\n",
    "plt.plot(2,3*2, 'ko')\n",
    "plt.plot(8,3*8, 'ko')\n",
    "plt.hlines(y=6,xmin=2,xmax=8,color='k', linestyle='--')\n",
    "plt.vlines(x=8,ymin=6,ymax=24,color='k', linestyle='--')\n",
    "plt.xlabel('Time (s)')\n",
    "plt.ylabel('Momentum (kgm/s)')\n",
    "plt.show()"
   ]
  },
  {
   "cell_type": "markdown",
   "metadata": {},
   "source": [
    "What is the magnitude of the force acting on the object according to the momentum vs. time graph shown above? Since the force is represented by the slope, we can choose two points along the graph to evaluate the slope:\n",
    "\n",
    "$$ f_x = \\frac{\\Delta p_x}{\\Delta t} = \\frac{24 - 6}{8 - 2} = \\frac{18}{6} = 3~\\textrm{N}$$\n",
    "\n"
   ]
  },
  {
   "cell_type": "markdown",
   "metadata": {},
   "source": [
    "### Case 2: Varying Force\n",
    "Let us consider a net momentum given by a magnitude of \n",
    "\n",
    "$$p_x(t) = 0.5t^3$$\n",
    "\n",
    "where $t$ is time. What is the instantaneous force at $t = 5$s ?\n",
    "\n",
    "Well, imagine that we do not know calculus. Then we would approximate the force with the slope a $t = 5$ s. Let us plot it:"
   ]
  },
  {
   "cell_type": "code",
   "execution_count": 2,
   "metadata": {
    "tags": [
     "hide-input"
    ]
   },
   "outputs": [
    {
     "data": {
      "image/png": "[encoded data removed]",
      "text/plain": [
       "<Figure size 432x288 with 1 Axes>"
      ]
     },
     "metadata": {
      "needs_background": "light"
     },
     "output_type": "display_data"
    }
   ],
   "source": [
    "import numpy as np\n",
    "from matplotlib import pyplot as plt\n",
    "from math import pi\n",
    "\n",
    "t = np.arange(0,10.0,0.1)\n",
    "p = 0.5*t**3\n",
    "\n",
    "plt.plot(t,p)\n",
    "plt.plot(2,0.5*2**3, 'ko')\n",
    "plt.plot(8,0.5*8**3, 'ko')\n",
    "plt.hlines(y=6,xmin=2,xmax=8,color='k', linestyle='--')\n",
    "plt.vlines(x=8,ymin=0.5*2**3,ymax=0.5*8**3,color='k', linestyle='--')\n",
    "plt.plot(4,0.5*4**3, 'ro')\n",
    "plt.plot(6,0.5*6**3, 'ro')\n",
    "plt.hlines(y=0.5*4**3,xmin=4,xmax=6,color='r', linestyle='--')\n",
    "plt.vlines(x=6,ymin=0.5*4**3,ymax=0.5*6**3,color='r', linestyle='--')\n",
    "plt.xlabel('Time (s)')\n",
    "plt.ylabel('Momentum (kgm/s)')\n",
    "plt.show()"
   ]
  },
  {
   "cell_type": "markdown",
   "metadata": {},
   "source": [
    "We could approxiate the slope at $t = 5$ by picking two points, say the values at $t = 2$ s and $t = 8$ s. However, we would get an even better approximation by picking the two points at $t = 4$ s and $t = 6$ s. Now that we know calculus, we recognize this approach as leading to the derivative, which is how the force and momentum are related. The magnitude of the force is\n",
    "\n",
    "$$f_x = \\frac{dp_x}{dt} $$\n",
    "\n",
    "Inserting the expression for the momentum, we get:\n",
    "\n",
    "$$ f_x = \\frac{d}{dt}[0.5t^3] = (0.5)(3t^2) = 1.5t^2 $$\n",
    "\n",
    "This is the general expression for the net force. We can evaluate it at $t = 5$ s to obtain the answer to the question:\n",
    "\n",
    "$$ f(t = 5) = (1.5)(5)^2 = 38~\\textrm{N}$$\n",
    "\n",
    "where we used two significant figures.\n",
    "\n",
    "<hr style=\"height:2px;border-width:0;color:gray;background-color:gray\">"
   ]
  }
 ],
 "metadata": {
  "celltoolbar": "Tags",
  "kernelspec": {
   "display_name": "Python 3 (ipykernel)",
   "language": "python",
   "name": "python3"
  },
  "language_info": {
   "codemirror_mode": {
    "name": "ipython",
    "version": 3
   },
   "file_extension": ".py",
   "mimetype": "text/x-python",
   "name": "python",
   "nbconvert_exporter": "python",
   "pygments_lexer": "ipython3",
   "version": "3.9.12"
  }
 },
 "nbformat": 4,
 "nbformat_minor": 4
}
