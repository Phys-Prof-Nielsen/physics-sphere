{
 "cells": [
  {
   "cell_type": "markdown",
   "metadata": {},
   "source": [
    "# B2.9 Differentials\n",
    "<hr style=\"height:2px;border-width:0;color:gray;background-color:gray\">"
   ]
  },
  {
   "cell_type": "markdown",
   "metadata": {},
   "source": [
    "The concept of differential is covered early in Calculus 1 together with derivatives. However, it is a concept that is often not valued or given much importance as the focus are given to the mastodons of calculus: derivatives and integrals. \n",
    "\n",
    "Frankly, the vast majority of you will never even notice the importance of the differential in your fields. It is like the vast majority of the population go around their everyday life without knowing trigonometry and seems to be doing just fine. But just think about all the cool stuff they miss out on! Similarly, you can perform basic derivatives and integrals without having a solid understanding of the differential. Now, if you choose math or physics as your major, you will inevitably need a more proper understanding of the differential. \n",
    "\n",
    "So why put the emphasis here?\n",
    "1. It will be a reminder from Calculus 1 for those of you who have taken it. For those of you are are in Calculus 1 now, you will be aware of its importance when you see it in Calculus 1 and hopefully make it slightly easier on you.\n",
    "2. I think having a greater understanding of the differential makes it easier to understand integration and perform integrations.\n",
    "\n",
    "<hr style=\"height:2px;border-width:0;color:gray;background-color:gray\">"
   ]
  },
  {
   "cell_type": "markdown",
   "metadata": {},
   "source": [
    "## 1. Difference\n",
    "We have defined the gab on the x-axis between two data data points as $\\Delta x$. For example, we can say that $\\Delta x = x_2 - x_1$. Similarly, the gab between to data points on the y-axis is $\\Delta y = y_2 - y_1$. We call these gabs for <span style=\"color:red\">differences</span> and use\n",
    "the symbol $\\Delta$ to denote a difference: read as \"a difference in _____\".\n",
    "\n",
    "<div class=\"alert alert-success\">\n",
    "In all pratical applications, the difference is a number. It can be a small number, it can be a large number, there is no restrictions on it (unless you are dividing by it, then it can't be zero of course).\n",
    "</div>\n",
    "\n",
    "Since differences are associated with numbers, we can create the ratio of differences (provided the denominator is\n",
    "not zero). For example the ratio between the differences in some dependent function $f$ and its independent variable $x$ is what we traditionally call the slope:\n",
    "\n",
    "$$ \\textrm{slope} = \\frac{\\Delta f}{\\Delta x} $$\n",
    "\n",
    "<hr style=\"height:2px;border-width:0;color:gray;background-color:gray\">"
   ]
  },
  {
   "cell_type": "markdown",
   "metadata": {},
   "source": [
    "## 2. Differential\n",
    "The differential is very similar to the difference, but in some sense we can say that it is the connection between\n",
    "algebra and calculus in terms of change. We will consider a small change in x. We will avoid what we mean by small\n",
    "for now, but understand that it is in fact a number and give the it symbol $dx$. \n",
    "\n",
    "<div class=\"alert alert-success\">\n",
    "While $dx$ is considered a number, it is more of a mathematical concept as its meaning is truly a small number, in fact, so small that we will later let it approach zero.\n",
    "</div>\n",
    "\n",
    "What implications does it have for $df$ vs. $\\Delta f$? Let us find out. Let us use a figure to investigate\n",
    "properties of this $dx$ and let us just say that $dx = \\Delta x$. \n",
    "\n",
    "<img src=\"B2-fig4.png\"  width=\"400\"/>\n",
    "\n",
    "The red line in the figure is the tangent line to the point $(x, f(x))$ and is a straight line described by (remember how to write the equation of a straight line by using rise = slope times run?) You may remember it better if I write $$y_2 - y_1 = a(x_2 - x_1) \\tag{1}$$\n",
    "\n",
    "Now, since we know the slope, $a$, is the derivative, and we want to use grown-up notation $y \\rightarrow f$ and consider small differences (aka differentials), we write Equation (1) as\n",
    "\n",
    "$$ df = \\frac{df}{dx}dx $$\n",
    "\n",
    "Here, $df$ is the rise of the red, straight line and $dx$ is its run. We have used the derivative $\\frac{df}{dx}$ as the slope of the red line. We keep in mind, that this *must* be the slope evalutated at the point x.\n",
    "\n",
    "We notice from the figure that $df \\neq \\Delta f$. \n",
    "\n",
    "We use the term *differential* for $df$ and the term *difference* for $\\Delta f$. Only when $dx$\n",
    "approaches zero is $\\Delta f = df$. Key point: both $dx$ and $df$ can be assigned values and we can create the ratio (provided\n",
    "$dx \\neq 0$):\n",
    "\n",
    "$$ \\frac{df}{dx} $$\n",
    "\n",
    "which we can manipulate just like other ratios.\n",
    "\n",
    "<span style=\"color:red\">NOTE: although this ratio looks like the derivative, it is not! The derivative is not a ratio, but an operator, which should be read as \"derivative of $f$ with respect to $x$\"</span>.\n",
    "\n",
    "Now you see why I in the beginning wrote the derivative as\n",
    "\n",
    "$$ \\frac{d}{dx}[f] $$ \n",
    "\n",
    "as it clearly distinguish it from the ration of differentials. \n",
    "\n",
    "<div class=\"alert alert-danger\">\n",
    "We will often write the derivative as $\\frac{df}{dx}$ and the ratio of differentials as $\\frac{df}{dx}$ , and we must use the context of the problem/situation to find out if we are talking about one or the other. One is an operator while the other is simply a ratio between numbers (small numbers).\n",
    "</div>\n",
    "\n",
    "To find the differential of a function, we can use the above as a definition\n",
    "\n",
    "<div class=\"alert alert-success\">\n",
    "The differential of a function $f$ with respect to its independent variable $x$ is:\n",
    "    $$ df = \\frac{df}{dx}dx $$\n",
    "</div>\n",
    "\n",
    "<hr style=\"height:2px;border-width:0;color:gray;background-color:gray\">"
   ]
  },
  {
   "cell_type": "markdown",
   "metadata": {},
   "source": [
    "### Example 1\n",
    "Find the differential of $f(x) = 3x^2$ in terms of the differential $dx$.\n",
    "\n",
    "#### Solution\n",
    "The differential is defined as\n",
    "\n",
    "$$ df = \\frac{df}{dx}dx $$\n",
    "\n",
    "If we write the derivative more explicitly to demonstrate that we understand this definition, we have\n",
    "\n",
    "$$ df = \\frac{d}{dx}[f]~dx $$\n",
    "\n",
    "The derivative is\n",
    "\n",
    "$$ \\frac{d}{dx}[f] = \\frac{d}{dx} \\left[3x^2\\right] $$\n",
    "\n",
    "$$ \\frac{d}{dx}[f] = 6x $$\n",
    "\n",
    "Substituting this into our definition for the differential $df$:\n",
    "\n",
    "<div class=\"alert alert-success\">\n",
    "$$ df = 6xdx $$\n",
    "</div>\n",
    "\n",
    "<div class=\"alert alert-info\">\n",
    "The interpretation is as follows: if we are moving a small amount $dx$ away from $x$ then the function $f$ is going\n",
    "to change by $6xdx$.\n",
    "</div>\n",
    "\n",
    "<hr style=\"height:2px\">"
   ]
  },
  {
   "cell_type": "markdown",
   "metadata": {},
   "source": [
    "<div class=\"alert alert-warning\">\n",
    "<b>Box 1</b><br>\n",
    "Find the differential of $f(x) = 4x^3 - 2x^2$ in terms of $dx$.   \n",
    "</div>\n",
    "\n",
    "<hr style=\"height:2px\">"
   ]
  },
  {
   "cell_type": "markdown",
   "metadata": {},
   "source": [
    "<div class=\"alert alert-warning\">\n",
    "<b>Box 2</b><br>\n",
    "The area of a circle is $A(r) = \\pi r^2$. If we change the radius by a small amount $dr$, by how much would the area change? HINT: find $dA$ in terms of $dr$.  \n",
    "</div>\n",
    "\n",
    "<hr style=\"height:2px\">"
   ]
  },
  {
   "cell_type": "markdown",
   "metadata": {},
   "source": [
    "## Final Note\n",
    "We will jump into integration next and the differential plays a major role there. Often, students in Calculus 1 go into a mode of memorization instead of understanding. I really want to emphasize the understanding and that is why I made this short note in differentials. We will see something called *method of substitution*, which is a very powerful method to solve integrals and the key to this method is the differential: <b>how does a small change in something relate to a change in something else</b>.\n",
    "\n",
    "<hr style=\"height:2px\">"
   ]
  }
 ],
 "metadata": {
  "kernelspec": {
   "display_name": "Python 3 (ipykernel)",
   "language": "python",
   "name": "python3"
  },
  "language_info": {
   "codemirror_mode": {
    "name": "ipython",
    "version": 3
   },
   "file_extension": ".py",
   "mimetype": "text/x-python",
   "name": "python",
   "nbconvert_exporter": "python",
   "pygments_lexer": "ipython3",
   "version": "3.10.9"
  }
 },
 "nbformat": 4,
 "nbformat_minor": 4
}
