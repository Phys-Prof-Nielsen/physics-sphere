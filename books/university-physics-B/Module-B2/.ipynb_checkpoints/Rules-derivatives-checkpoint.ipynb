{
 "cells": [
  {
   "cell_type": "markdown",
   "metadata": {},
   "source": [
    "# B2.2 Rules of Derivatives\n",
    "<hr style=\"height:2px;border-width:0;color:gray;background-color:gray\">"
   ]
  },
  {
   "cell_type": "markdown",
   "metadata": {},
   "source": [
    "| Comment | Rule |\n",
    "| :------- | ---- |\n",
    "| 1. The derivative of a constant is zero: | <img width=250/> $\\frac{d}{dx}[c] = 0 $ |\n",
    "| 2. Power Rule: If $r$ is a real number, then: | $\\frac{d}{dx}[x^r] = rx^{r-1}$ |\n",
    "| 3. If $f$ is differentiable at $x$ and $c$ is any real number, then $cf$ is also differentiable at point: $x$ | $\\frac{d}{dx}[cf] = c\\frac{d}{dx}[f] $ |\n",
    "| 4. If $f$ and $g$ are differentiable at $x$, then so are $f + g$ and $f - g$: | $\\frac{d}{dx}[f\\pm g] = \\frac{d}{dx}[f] \\pm \\frac{d}{dx}[g]  $ |\n",
    "| 5. Product Rule: If $f$ and $g$ are differentiable at $x$, then so is the product $fg$ | $\\frac{d}{dx}[fg] = f\\frac{d}{dx}[g] + g\\frac{d}{dx}[f]  $ |\n",
    "| 6. Chain Rule: If $g$ is differentiable at point $x$ and $f$ is differentiable at point $g(x)$, then the composition $f[g(x)]$ is differentiable at point $x$: | $\\frac{d}{dx}[f] = \\frac{d}{dg}[f]\\frac{d}{dx}[g]  $ |\n",
    "\n",
    "<hr style=\"height:2px;border-width:0;color:gray;background-color:gray\">"
   ]
  },
  {
   "cell_type": "markdown",
   "metadata": {},
   "source": [
    "<div style=\"background-color: #D0D0D0 ; padding: 10px; border: 1px solid black;\">       \n",
    "<header>\n",
    "<h3> Example 1</h3>\n",
    "    </header>\n",
    "    \n",
    "Find the derivative of $f(x) = 3x^2$.\n",
    "\n",
    "**Solution**\n",
    "    \n",
    "Here we have a constant (3) multiplied by $x$ to some power (2). Hence, the proper rule to apply first is Rule 3, followed by Rule 2:\n",
    "\n",
    "$$ \\frac{d}{dx}[3x^2] = 3\\frac{d}{dx}[x^2] $$\n",
    "\n",
    "where we moved the constant outside the derivative as per Rule 3.\n",
    "\n",
    "Next, we identify $r = 2$ and apply the Power Rule (Rule 2) :\n",
    "\n",
    "$$ \\frac{d}{dx}[3x^2] = 3\\frac{d}{dx}[x^2] = 3\\left(2x^{2-1}\\right) $$\n",
    "\n",
    "and then we simplify for the final answer:\n",
    "\n",
    "**Answer**\n",
    "    \n",
    "$$ \\frac{d}{dx}[3x^2] = 6x $$\n",
    "  \n",
    "</div>   \n",
    "<hr style=\"height:2px;border-width:0;color:gray;background-color:gray\">"
   ]
  },
  {
   "cell_type": "markdown",
   "metadata": {},
   "source": [
    "<div class=\"alert alert-warning\">\n",
    "<b>Box 1</b><br>\n",
    "    \n",
    "Use the approach in Example 1 to find the derivative of $f(x) = 4x^3$    \n",
    "</div>\n",
    "\n",
    "<hr style=\"height:2px;border-width:0;color:gray;background-color:gray\">"
   ]
  },
  {
   "cell_type": "markdown",
   "metadata": {},
   "source": [
    "<div class=\"alert alert-warning\">\n",
    "<b>Box 2</b><br>\n",
    "    \n",
    "Find the derivative of $f(x) = 4x^3$. I hope this will make you appreciate the derived rules above :)   \n",
    "</div>\n",
    "\n",
    "<hr style=\"height:2px;border-width:0;color:gray;background-color:gray\">"
   ]
  },
  {
   "cell_type": "markdown",
   "metadata": {},
   "source": [
    "<div class=\"alert alert-warning\">\n",
    "<b>Box 3</b><br>\n",
    "    \n",
    "Use the approach of your choice to find the derivative of $f(x) = 2x^5$    \n",
    "</div>\n",
    "\n",
    "<hr style=\"height:2px;border-width:0;color:gray;background-color:gray\">"
   ]
  },
  {
   "cell_type": "markdown",
   "metadata": {},
   "source": [
    "<div style=\"background-color: #D0D0D0 ; padding: 10px; border: 1px solid black;\">       \n",
    "<header>\n",
    "<h3> Example 2</h3>\n",
    "    </header>\n",
    "    \n",
    "Find the derivative of $f(x) = x^3 + 2x - 1$.\n",
    "\n",
    "**Solution**\n",
    "    \n",
    "This function can be considered a sum/difference of three individual functions ($f_1 = x^3$, $f_2 = 2x$, and $f_3 = 1$).\n",
    "\n",
    "Let's start:\n",
    "\n",
    "$$ \\frac{d}{dx}[f] = \\frac{d}{dx}\\left[x^3 + 2x - 1\\right] $$\n",
    "\n",
    "We will now apply Rule 4:\n",
    "\n",
    "$$ \\frac{d}{dx}[f] = \\frac{d}{dx}\\left[x^3\\right] + \\frac{d}{dx}[2x] - \\frac{d}{dx}[1] $$\n",
    "\n",
    "For the first term, we will apply Rule 2 (the power rule), for the second term we will apply Rule 3 (as you become proficient you can skip steps and perform multiple rules in one step, but this is not the time or place to do that yet), and for the third time we apply Rule 1:\n",
    "\n",
    "$$ \\frac{d}{dx}[f] = \\left[3x^{3-1}\\right] + 2\\frac{d}{dx}[x] - 0 $$\n",
    "\n",
    "We can now simplify term 1 and apply Rule 2 to the second term (remember that $x = x^1$):\n",
    "\n",
    "$$ \\frac{d}{dx}[f] = 3x^2 + 2\\frac{d}{dx}\\left[1x^{1-1}\\right] $$\n",
    "\n",
    "Now simplify the second term to get the final answer (remember that $x^0 = 1$):\n",
    "\n",
    "**Answer**\n",
    "    \n",
    "$$ \\frac{d}{dx}[f] = 3x^2 + 2$$\n",
    "\n",
    "</div>\n",
    "    \n",
    "<hr style=\"height:2px;border-width:0;color:gray;background-color:gray\">"
   ]
  },
  {
   "cell_type": "markdown",
   "metadata": {},
   "source": [
    "<div class=\"alert alert-warning\">\n",
    "<b>Box 3</b><br>\n",
    "    \n",
    "Find the derivative of $f(x) = 3x^4 - 2x^2 + 5 $    \n",
    "</div>\n",
    "\n",
    "<hr style=\"height:2px;border-width:0;color:gray;background-color:gray\">"
   ]
  },
  {
   "cell_type": "markdown",
   "metadata": {},
   "source": [
    "<div style=\"background-color: #D0D0D0 ; padding: 10px; border: 1px solid black;\">       \n",
    "<header>\n",
    "<h3> Example 3</h3>\n",
    "    </header>\n",
    "    \n",
    "The chain rule is the most complicated rule in the table, and it will take a fair amount of practice to master this rule. Many students who have taken *Calculus I* still struggle with this rule, so do not feel bad if it seems overwhelming to begin with. By the end of the semester you will feel much better about it and that is what matters!\n",
    "\n",
    "Let us take an example: \n",
    "\n",
    "Find the derivative of $f(x) = \\sqrt{x^3 + 2x - 1}$.\n",
    "\n",
    "**Solution**\n",
    "    \n",
    "This is a composite function where the inner function is $g(x) = x^3+2x -1$ and the outer function is $f(u) = \\sqrt{u}$, where we can identify $u = g(x)$ (this is a typical substitution to simplify the problem). We can then rewrite the chain rule as\n",
    "\n",
    "$$ \\frac{d}{dx}[f] = \\frac{d}{du}[f]~\\frac{d}{dx}[u] $$\n",
    "\n",
    "We are now tasked to find two derivatives. Let us start with $\\frac{d}{du}[f]$. Since $f(u) = \\sqrt{u} = u^{\\frac{1}{2}}$ is a power law function, we can apply Rule 2:\n",
    "\n",
    "$$ \\frac{d}{du}[f] = \\frac{d}{du}\\left[u^{\\frac{1}{2}}\\right] $$\n",
    "\n",
    "We should not be fooled that the variable is now $u$ instead of $x$. Since the derivative is with respect to $u$ the rules can be applied by swapping out $x$ by $u$.\n",
    "\n",
    "We then get\n",
    "\n",
    "$$ \\frac{d}{du}[f] = \\frac{1}{2}u^{\\frac{1}{2} - 1} = \\frac{1}{2}u^{-\\frac{1}{2}}  $$\n",
    "\n",
    "We now place our attention on the *inside* function. The inside function is $ u = g(x) = x^3 + 2x - 1$. However, what a fortunate event: we found the derivative of this function in Example 2:\n",
    "\n",
    "$$ \\frac{d}{dx}[u] = 3x^2 + 2  $$\n",
    "\n",
    "Our derivative of $f(x) = \\sqrt{x^3 + 2x - 1}$ is then:\n",
    "\n",
    "$$ \\frac{d}{dx}[f] = \\frac{d}{du}[f]~\\frac{d}{dx}[u] $$\n",
    "\n",
    "$$ \\frac{d}{dx}[f] = \\left(\\frac{1}{2}u^{-\\frac{1}{2}}\\right)~\\left(3x^2 + 2\\right) $$\n",
    "\n",
    "We can now substitute $u = g(x) = x^3 + 2x - 1$ back into the equation above:\n",
    "\n",
    "$$ \\frac{d}{dx}[f] = \\left[\\frac{1}{2}\\left(x^3 + 2x - 1\\right)^{-\\frac{1}{2}}\\right]~\\left(3x^2 + 2\\right) $$\n",
    "\n",
    "This is our answer, but we can write it in a more conventional manner if we like:\n",
    "\n",
    "**Answer**\n",
    "    \n",
    "$$ \\frac{d}{dx}[f] = \\frac{1}{2}\\frac{3x^2 + 2}{ \\sqrt{x^3 + 2x - 1} } $$\n",
    "\n",
    "</div>\n",
    "    \n",
    "<hr style=\"height:2px;border-width:0;color:gray;background-color:gray\">"
   ]
  },
  {
   "cell_type": "markdown",
   "metadata": {},
   "source": [
    "<div class=\"alert alert-warning\">\n",
    "<b>Box 4</b><br>\n",
    "    \n",
    "Try and test your derivative skill on the following function. Do not be sad if you can not solve this problem, you still have a great shot at succeeding in the class. Find the derivative of $f(x) = \\left(x^3 + 2x\\right)^2 $ by two approaches:\n",
    "    <ol>\n",
    "        <li> Computing the square and apply Rules 1-4.\n",
    "        <li> Apply the Chain Rule.\n",
    "    </ol>\n",
    "</div>\n",
    "\n",
    "<hr style=\"height:2px;border-width:0;color:gray;background-color:gray\">"
   ]
  },
  {
   "cell_type": "markdown",
   "metadata": {},
   "source": [
    "## Derivatives of Transcendental Functions\n",
    "We will encounter functions in physics that are not polynomials and we will need to know the derivatives of these functions. You will learn how to do that in *Calculus I*, but here we will simply list them:\n",
    "\n",
    "$$ \\frac{d}{dx}[\\sin x] = \\cos x $$\n",
    "\n",
    "$$ \\frac{d}{dx}[\\cos x] = -\\sin x $$\n",
    "\n",
    "$$ \\frac{d}{dx}[\\ln x] = \\frac{1}{x}, x \\neq 0 $$\n",
    "\n",
    "$$ \\frac{d}{dx}[e^x] = e^x $$\n",
    "\n",
    "<hr style=\"height:2px;border-width:0;color:gray;background-color:gray\">"
   ]
  },
  {
   "cell_type": "markdown",
   "metadata": {},
   "source": [
    "<div style=\"background-color: #D0D0D0 ; padding: 10px; border: 1px solid black;\">       \n",
    "<header>\n",
    "<h3> Example 4</h3>\n",
    "    </header>\n",
    "    \n",
    "Find the derivative of\n",
    "    \n",
    "$$ f(x) = x^2\\sin(x)$$\n",
    "\n",
    "**Solution**\n",
    "    \n",
    "This function is an example of products between two functions $f_1 = x^2$ and $f_2 = \\sin(x)$. The derivative is\n",
    "\n",
    "$$ \\frac{d}{dx} [f] = \\frac{d}{dx}[x^2\\sin(x)] $$\n",
    "\n",
    "Apply Rule 5 (the product rule):\n",
    "\n",
    "$$ \\frac{d}{dx} [f] = x^2\\frac{d}{dx}[\\sin(x)] + \\sin(x)\\frac{d}{dx}[x^2] $$\n",
    "\n",
    "For the first term, we apply the rules from *transcendental functions* above, and for the second term, we apply the power rule:\n",
    "\n",
    "$$ \\frac{d}{dx} [f] = x^2\\cos(x) + \\sin(x)(2x) $$\n",
    "\n",
    "Hence, we have\n",
    "\n",
    "**Answer**\n",
    "    \n",
    "$$ \\frac{d}{dx}[f] = x^2\\cos(x) + 2x\\sin(x) $$\n",
    "</div>\n",
    "    \n",
    "<hr style=\"height:2px;border-width:0;color:gray;background-color:gray\">"
   ]
  },
  {
   "cell_type": "markdown",
   "metadata": {},
   "source": [
    "<div class=\"alert alert-warning\">\n",
    "<b>Box 5</b><br>\n",
    "    \n",
    "Find the derivative of $f(x) = x^2\\cos(x) $    \n",
    "</div>\n",
    "\n",
    "<hr style=\"height:2px;border-width:0;color:gray;background-color:gray\">"
   ]
  },
  {
   "cell_type": "markdown",
   "metadata": {},
   "source": [
    "<div class=\"alert alert-warning\">\n",
    "<b>Box 6</b><br>\n",
    "    \n",
    "Find the derivative of $f(x) = e^x\\sin(x) $    \n",
    "</div>\n",
    "\n",
    "<hr style=\"height:2px;border-width:0;color:gray;background-color:gray\">"
   ]
  },
  {
   "cell_type": "markdown",
   "metadata": {},
   "source": [
    "<div class=\"alert alert-warning\">\n",
    "<b>Box 7</b><br>\n",
    "    \n",
    "Find the derivative of $f(x) = \\sin(x^4) $. \n",
    "    \n",
    "HINT: you will need to involve the chain rule here    \n",
    "</div>\n",
    "\n",
    "<hr style=\"height:2px;border-width:0;color:gray;background-color:gray\">"
   ]
  }
 ],
 "metadata": {
  "kernelspec": {
   "display_name": "Python 3 (ipykernel)",
   "language": "python",
   "name": "python3"
  },
  "language_info": {
   "codemirror_mode": {
    "name": "ipython",
    "version": 3
   },
   "file_extension": ".py",
   "mimetype": "text/x-python",
   "name": "python",
   "nbconvert_exporter": "python",
   "pygments_lexer": "ipython3",
   "version": "3.9.12"
  }
 },
 "nbformat": 4,
 "nbformat_minor": 4
}
