{
 "cells": [
  {
   "cell_type": "markdown",
   "metadata": {},
   "source": [
    "# B2.10 Integrals Using Symbolic Python\n",
    "<hr style=\"height:2px;border-width:0;color:gray;background-color:gray\">"
   ]
  },
  {
   "cell_type": "markdown",
   "metadata": {},
   "source": [
    "## B2.3.1 Motivation\n",
    "\n",
    "Similarly to the derivatives, often it is faster to use a computer to solve it for us or use it to check our answer. \n",
    "\n",
    "[Wolfram Alpha Integral Calculator](https://www.wolframalpha.com/calculators/integral-calculator/)\n",
    "\n",
    "Personally, I use Symbolic Python. Below are a few examples.\n",
    "\n",
    "<hr style=\"height:2px;border-width:0;color:gray;background-color:gray\">"
   ]
  },
  {
   "cell_type": "markdown",
   "metadata": {},
   "source": [
    "<div style=\"background-color: #D0D0D0 ; padding: 10px; border: 1px solid black;\">       \n",
    "<header>\n",
    "<h3> Example 1: Indefinite integral in basic output format</h3>\n",
    "    </header>\n",
    "    \n",
    "Find the integral of $f(x) = 5.0\\sin(2x)$.\n",
    "  \n",
    "</div>   "
   ]
  },
  {
   "cell_type": "code",
   "execution_count": 1,
   "metadata": {},
   "outputs": [
    {
     "name": "stdout",
     "output_type": "stream",
     "text": [
      "-2.5*cos(2*x)\n"
     ]
    }
   ],
   "source": [
    "import sympy as sym\n",
    "\n",
    "x = sym.Symbol('x')\n",
    "\n",
    "f = 5.0*sym.sin(2*x)\n",
    "\n",
    "integral = sym.integrate(f,x)\n",
    "\n",
    "print(integral)"
   ]
  },
  {
   "cell_type": "markdown",
   "metadata": {},
   "source": [
    "<hr style=\"height:2px;border-width:0;color:gray;background-color:gray\">"
   ]
  },
  {
   "cell_type": "markdown",
   "metadata": {},
   "source": [
    "<div style=\"background-color: #D0D0D0 ; padding: 10px; border: 1px solid black;\">       \n",
    "<header>\n",
    "<h3> Example 2: Definite integral in basic output format</h3>\n",
    "    </header>\n",
    "    \n",
    "Find the definite integral of $f(x) = 5.0x^3$ with limits of $x = [0,2]$.\n",
    "  \n",
    "</div>   "
   ]
  },
  {
   "cell_type": "code",
   "execution_count": 2,
   "metadata": {},
   "outputs": [
    {
     "name": "stdout",
     "output_type": "stream",
     "text": [
      "20.0000000000000\n"
     ]
    }
   ],
   "source": [
    "import sympy as sym\n",
    "\n",
    "x = sym.Symbol('x')\n",
    "\n",
    "f = 5.0*x**3\n",
    "\n",
    "integral = sym.integrate(f,(x,0,2))\n",
    "\n",
    "print(integral)"
   ]
  },
  {
   "cell_type": "markdown",
   "metadata": {},
   "source": [
    "<hr style=\"height:2px;border-width:0;color:gray;background-color:gray\">"
   ]
  },
  {
   "cell_type": "markdown",
   "metadata": {},
   "source": [
    "<div style=\"background-color: #D0D0D0 ; padding: 10px; border: 1px solid black;\">       \n",
    "<header>\n",
    "<h3> Example 3: Indefinte integral in LaTex output format</h3>\n",
    "    </header>\n",
    "    \n",
    "Find the indefinite integral of $f(x) = 3.0x^5 - 3.0x^2 + 5$   \n",
    "\n",
    "</div>"
   ]
  },
  {
   "cell_type": "code",
   "execution_count": 3,
   "metadata": {},
   "outputs": [
    {
     "name": "stdout",
     "output_type": "stream",
     "text": [
      "NOTE: add a constant C to the answer since it is an indefinite integral\n"
     ]
    },
    {
     "data": {
      "image/png": "[encoded data removed]",
      "text/latex": [
       "$\\displaystyle \\left\\{ \\int \\left(3.0 x^{5} - 3.0 x^{2} + 5\\right)\\, dx : 0.5 x^{6} - 1.0 x^{3} + 5.0 x\\right\\}$"
      ],
      "text/plain": [
       "⎧⌠                                              ⎫\n",
       "⎪⎮ ⎛     5        2    ⎞          6    3        ⎪\n",
       "⎨⎮ ⎝3.0⋅x  - 3.0⋅x  + 5⎠ dx: 0.5⋅x  - x  + 5.0⋅x⎬\n",
       "⎪⌡                                              ⎪\n",
       "⎩                                               ⎭"
      ]
     },
     "execution_count": 3,
     "metadata": {},
     "output_type": "execute_result"
    }
   ],
   "source": [
    "from sympy import *\n",
    "\n",
    "#make output look nice\n",
    "init_printing()\n",
    "\n",
    "#declare our independent variable and assign a symbol to it\n",
    "x = Symbol('x')\n",
    "\n",
    "#declare the dependent function f as a function of x\n",
    "f = 3.0*x**5 - 3.0*x**2 + 5\n",
    "\n",
    "#calculate the indefinite integral\n",
    "F = integrate(f,x)\n",
    "\n",
    "#display the function f and its antiderivative (integral)\n",
    "print('NOTE: add a constant C to the answer since it is an indefinite integral' )\n",
    "{Integral(f) : F }"
   ]
  },
  {
   "cell_type": "markdown",
   "metadata": {},
   "source": [
    "<hr style=\"height:2px;border-width:0;color:gray;background-color:gray\">"
   ]
  },
  {
   "cell_type": "markdown",
   "metadata": {},
   "source": [
    "<div style=\"background-color: #D0D0D0 ; padding: 10px; border: 1px solid black;\">       \n",
    "<header>\n",
    "<h3> Example 4: Definite integral in LaTex output format</h3>\n",
    "    </header>\n",
    "    \n",
    "Find the definite integral of $f(x) = 3.0x^5 - 3.0x^2 + 5$ across the interval $x =[0,3]$.   \n",
    "\n",
    "</div>"
   ]
  },
  {
   "cell_type": "code",
   "execution_count": 4,
   "metadata": {},
   "outputs": [
    {
     "data": {
      "image/png": "[encoded data removed]",
      "text/latex": [
       "$\\displaystyle \\left\\{ \\int\\limits_{0}^{3} \\left(3.0 x^{5} - 3.0 x^{2} + 5\\right)\\, dx : 352.5\\right\\}$"
      ],
      "text/plain": [
       "⎧3                                ⎫\n",
       "⎪⌠                                ⎪\n",
       "⎪⎮ ⎛     5        2    ⎞          ⎪\n",
       "⎨⎮ ⎝3.0⋅x  - 3.0⋅x  + 5⎠ dx: 352.5⎬\n",
       "⎪⌡                                ⎪\n",
       "⎪0                                ⎪\n",
       "⎩                                 ⎭"
      ]
     },
     "execution_count": 4,
     "metadata": {},
     "output_type": "execute_result"
    }
   ],
   "source": [
    "from sympy import *\n",
    "\n",
    "#make output look nice\n",
    "init_printing()\n",
    "\n",
    "#declare our independent variable and assign a symbol to it\n",
    "x = Symbol('x')\n",
    "\n",
    "#declare the dependent function f as a function of x\n",
    "f = 3.0*x**5 - 3.0*x**2 + 5\n",
    "\n",
    "x1 = 0\n",
    "x2 = 3\n",
    "\n",
    "#calculate the definite integral\n",
    "F = integrate(f,(x,x1,x2))\n",
    "\n",
    "#display the function f and its definte integral value\n",
    "{Integral(f,(x,x1,x2)) : F }"
   ]
  },
  {
   "cell_type": "markdown",
   "metadata": {},
   "source": [
    "<hr style=\"height:2px;border-width:0;color:gray;background-color:gray\">"
   ]
  }
 ],
 "metadata": {
  "kernelspec": {
   "display_name": "Python 3 (ipykernel)",
   "language": "python",
   "name": "python3"
  },
  "language_info": {
   "codemirror_mode": {
    "name": "ipython",
    "version": 3
   },
   "file_extension": ".py",
   "mimetype": "text/x-python",
   "name": "python",
   "nbconvert_exporter": "python",
   "pygments_lexer": "ipython3",
   "version": "3.10.9"
  }
 },
 "nbformat": 4,
 "nbformat_minor": 4
}
