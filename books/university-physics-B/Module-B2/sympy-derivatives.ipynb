{
 "cells": [
  {
   "cell_type": "markdown",
   "metadata": {},
   "source": [
    "# B2.3 Derivatives Using Symbolic Python\n",
    "<hr style=\"height:2px;border-width:0;color:gray;background-color:gray\">"
   ]
  },
  {
   "cell_type": "markdown",
   "metadata": {},
   "source": [
    "## B2.3.1 Motivation\n",
    "\n",
    "The deeper theory and understanding of derivatives is presumably covered in a calculus course. You are more than welcome to use a tool to calculate the derivative for you. There are a few good ones on-line. My favorite on-line calculator for various calculations is Wolfram Alpha. The following link will take you to the derivative calculator:\n",
    "\n",
    "[Wolfram Alpha Derivative Calculator](https://www.wolframalpha.com/calculators/derivative-calculator)\n",
    "\n",
    "Personally, I use Symbolic Python. Below are a few examples.\n",
    "\n",
    "<hr style=\"height:2px;border-width:0;color:gray;background-color:gray\">"
   ]
  },
  {
   "cell_type": "markdown",
   "metadata": {},
   "source": [
    "<div style=\"background-color: #D0D0D0 ; padding: 10px; border: 1px solid black;\">       \n",
    "<header>\n",
    "<h3> Example 1: First derivative in basic output format</h3>\n",
    "    </header>\n",
    "    \n",
    "Find the derivative of $f(x) = 3x^2$.\n",
    "  \n",
    "</div>   "
   ]
  },
  {
   "cell_type": "code",
   "execution_count": 2,
   "metadata": {},
   "outputs": [
    {
     "name": "stdout",
     "output_type": "stream",
     "text": [
      "6*x\n"
     ]
    }
   ],
   "source": [
    "import sympy as sym\n",
    "\n",
    "x = sym.Symbol('x')\n",
    "\n",
    "f = 3*x**2\n",
    "\n",
    "deriv = sym.diff(f,x)\n",
    "\n",
    "print(deriv)"
   ]
  },
  {
   "cell_type": "markdown",
   "metadata": {},
   "source": [
    "<hr style=\"height:2px;border-width:0;color:gray;background-color:gray\">"
   ]
  },
  {
   "cell_type": "markdown",
   "metadata": {},
   "source": [
    "<div style=\"background-color: #D0D0D0 ; padding: 10px; border: 1px solid black;\">       \n",
    "<header>\n",
    "<h3> Example 2: Second derivative in basic output format</h3>\n",
    "    </header>\n",
    "    \n",
    "Find the second derivative of $f(x) = 5.0\\sin(2x)$.\n",
    "  \n",
    "</div>   "
   ]
  },
  {
   "cell_type": "code",
   "execution_count": 4,
   "metadata": {},
   "outputs": [
    {
     "name": "stdout",
     "output_type": "stream",
     "text": [
      "-20.0*sin(2*x)\n"
     ]
    }
   ],
   "source": [
    "import sympy as sym\n",
    "\n",
    "x = sym.Symbol('x')\n",
    "\n",
    "f = 5.0*sym.sin(2*x)\n",
    "\n",
    "deriv = sym.diff(f,x,2)\n",
    "\n",
    "print(deriv)"
   ]
  },
  {
   "cell_type": "markdown",
   "metadata": {},
   "source": [
    "<hr style=\"height:2px;border-width:0;color:gray;background-color:gray\">"
   ]
  },
  {
   "cell_type": "markdown",
   "metadata": {},
   "source": [
    "<div style=\"background-color: #D0D0D0 ; padding: 10px; border: 1px solid black;\">       \n",
    "<header>\n",
    "<h3> Example 3: First derivative in LaTex output format</h3>\n",
    "    </header>\n",
    "    \n",
    "Find the derivative of $f(x) = 2.0x^5 - 3.0x^2 + 5$   \n",
    "\n",
    "</div>"
   ]
  },
  {
   "cell_type": "code",
   "execution_count": 5,
   "metadata": {},
   "outputs": [
    {
     "data": {
      "image/png": "[encoded data removed]",
      "text/latex": [
       "$\\displaystyle \\left\\{ \\frac{d}{d x} \\left(2.0 x^{5} - 3.0 x^{2} + 5\\right) : 10.0 x^{4} - 6.0 x\\right\\}$"
      ],
      "text/plain": [
       "⎧d ⎛     5        2    ⎞        4        ⎫\n",
       "⎨──⎝2.0⋅x  - 3.0⋅x  + 5⎠: 10.0⋅x  - 6.0⋅x⎬\n",
       "⎩dx                                      ⎭"
      ]
     },
     "execution_count": 5,
     "metadata": {},
     "output_type": "execute_result"
    }
   ],
   "source": [
    "from sympy import *\n",
    "\n",
    "#make output look nice\n",
    "init_printing()\n",
    "\n",
    "#declare our independent variable and assign a symbol to it\n",
    "x = Symbol('x')\n",
    "\n",
    "#declare the dependent function f as a function of x\n",
    "f = 2.0*x**5 - 3.0*x**2 + 5\n",
    "\n",
    "#calculate the derivative\n",
    "dfdx = diff(f)\n",
    "\n",
    "#display the function f and its derivative\n",
    "{Derivative(f): dfdx}"
   ]
  },
  {
   "cell_type": "markdown",
   "metadata": {},
   "source": [
    "<hr style=\"height:2px;border-width:0;color:gray;background-color:gray\">"
   ]
  }
 ],
 "metadata": {
  "kernelspec": {
   "display_name": "Python 3 (ipykernel)",
   "language": "python",
   "name": "python3"
  },
  "language_info": {
   "codemirror_mode": {
    "name": "ipython",
    "version": 3
   },
   "file_extension": ".py",
   "mimetype": "text/x-python",
   "name": "python",
   "nbconvert_exporter": "python",
   "pygments_lexer": "ipython3",
   "version": "3.9.12"
  }
 },
 "nbformat": 4,
 "nbformat_minor": 4
}
