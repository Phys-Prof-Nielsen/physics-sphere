{
 "cells": [
  {
   "cell_type": "markdown",
   "metadata": {},
   "source": [
    "# B10.x Problems\n",
    "<hr style=\"height:2px;border-width:0;color:gray;background-color:gray\">"
   ]
  },
  {
   "cell_type": "markdown",
   "metadata": {},
   "source": [
    "<h2>Problem B10.1</h2>\n",
    "    </header>\n",
    "\n",
    "Calculate the rotational kinetic energy of a 12.0 kg motorcycle wheel if its angular velocity is 120.0 rad/s and its inner radius is 0.280 m and outer radius 0.330 m.\n",
    "\n",
    "\n",
    "This problem is a slightly modified version from OpenStax. Access for free at [https://openstax.org/books/university-physics-volume-1/pages/10-problems](https://openstax.org/books/university-physics-volume-1/pages/10-problems)"
   ]
  },
  {
   "cell_type": "code",
   "execution_count": 29,
   "metadata": {
    "tags": [
     "hide-input",
     "hide-output"
    ]
   },
   "outputs": [
    {
     "name": "stdout",
     "output_type": "stream",
     "text": [
      "Kinetic energy: 8091.360000000001\n"
     ]
    }
   ],
   "source": [
    "%reset -f\n",
    "M = 12.0\n",
    "R1 = 0.280\n",
    "R2 = 0.330\n",
    "omega = 120.0\n",
    "\n",
    "I = 0.5*M*(R1**2 + R2**2)\n",
    "\n",
    "K = 0.5*I*omega**2\n",
    "\n",
    "print('Kinetic energy: '+str(K))"
   ]
  },
  {
   "cell_type": "markdown",
   "metadata": {},
   "source": [
    "<hr style=\"height:2px;border-width:0;color:gray;background-color:gray\">"
   ]
  },
  {
   "cell_type": "markdown",
   "metadata": {},
   "source": [
    "<h2>Problem B10.2</h2>\n",
    "    </header>\n",
    "\n",
    "A baseball pitcher throws the ball in a motion where there is rotation of the forearm about the elbow joint as well as other movements. If the linear velocity of the ball relative to the elbow joint is 20.0 m/s at a distance of 0.480 m from the joint and the moment of inertia of the forearm is 0.500 kgm$^2$, what is the rotational kinetic energy of the forearm?\n",
    "\n",
    "This problem is a slightly modified version from OpenStax. Access for free at [https://openstax.org/books/university-physics-volume-1/pages/10-problems](https://openstax.org/books/university-physics-volume-1/pages/10-problems)"
   ]
  },
  {
   "cell_type": "code",
   "execution_count": 28,
   "metadata": {
    "tags": [
     "hide-input",
     "hide-output"
    ]
   },
   "outputs": [
    {
     "name": "stdout",
     "output_type": "stream",
     "text": [
      "Kinetic energy: 434.0277777777779\n"
     ]
    }
   ],
   "source": [
    "%reset -f\n",
    "v_t = 20.0\n",
    "R = 0.480\n",
    "I = 0.500\n",
    "\n",
    "omega = v_t/R\n",
    "\n",
    "K = 0.5*I*omega**2\n",
    "\n",
    "print('Kinetic energy: '+str(K))"
   ]
  },
  {
   "cell_type": "markdown",
   "metadata": {},
   "source": [
    "<hr style=\"height:2px;border-width:0;color:gray;background-color:gray\">"
   ]
  },
  {
   "cell_type": "markdown",
   "metadata": {},
   "source": [
    "<h2>Problem B10.3</h2>\n",
    "    </header>\n",
    "\n",
    "A system consists of a disk of mass 2.0 kg and radius 50.0 cm upon which is mounted an annular cylinder of mass 1.0 kg with inner radius 20.0 cm and outer radius 30.0 cm (see below). The system rotates about an axis through the center of the disk and annular cylinder at 10.0 rev/s.\n",
    "\n",
    "1. What is the moment of inertia of the system? \n",
    "2. What is its rotational kinetic energy?\n",
    "\n",
    "<img src=\"P10.3.png\" width=\"300\">\n",
    "\n",
    "This problem is a slightly modified version from OpenStax. Access for free at [https://openstax.org/books/university-physics-volume-1/pages/10-problems](https://openstax.org/books/university-physics-volume-1/pages/10-problems)"
   ]
  },
  {
   "cell_type": "code",
   "execution_count": 27,
   "metadata": {
    "tags": [
     "hide-input",
     "hide-output"
    ]
   },
   "outputs": [
    {
     "name": "stdout",
     "output_type": "stream",
     "text": [
      "Moment of inertia: 0.315\n",
      "Kinetic energy: 621.7850772686296\n"
     ]
    }
   ],
   "source": [
    "%reset -f\n",
    "import numpy as np\n",
    "\n",
    "M = 2.0\n",
    "R = 0.50\n",
    "M2 = 1.0\n",
    "R1 = 0.20\n",
    "R2 = 0.30\n",
    "omega = (10.0)*(2.0*np.pi/1.0)\n",
    "\n",
    "#------------\n",
    "# PART 1\n",
    "#------------\n",
    "I1 = 0.5*M*R**2\n",
    "I2 = 0.5*M2*(R1**2 + R2**2)\n",
    "\n",
    "I = I1 + I2\n",
    "\n",
    "print('Moment of inertia: '+str(I))\n",
    "\n",
    "#------------\n",
    "# PART 2\n",
    "#------------\n",
    "K = 0.5*I*omega**2\n",
    "print('Kinetic energy: '+str(K))"
   ]
  },
  {
   "cell_type": "markdown",
   "metadata": {},
   "source": [
    "<hr style=\"height:2px;border-width:0;color:gray;background-color:gray\">"
   ]
  },
  {
   "cell_type": "markdown",
   "metadata": {},
   "source": [
    "<h2>Problem B10.4</h2>\n",
    "    </header>\n",
    "\n",
    "A uniform cylindrical grindstone has a mass of 10.0 kg and a radius of 12.0 cm. \n",
    "\n",
    "1. What is the rotational kinetic energy of the grindstone when it is rotating at $1.50\\times 10^3$ rev/min?\n",
    "2. After the grindstone’s motor is turned off, a knife blade is pressed against the outer edge of the grindstone with a perpendicular force of 5.00 N. The coefficient of kinetic friction between the grindstone and the blade is 0.800. Use the work energy theorem to determine how many turns the grindstone makes before it stops.\n",
    "\n",
    "This problem is a slightly modified version from OpenStax. Access for free at [https://openstax.org/books/university-physics-volume-1/pages/10-problems](https://openstax.org/books/university-physics-volume-1/pages/10-problems)"
   ]
  },
  {
   "cell_type": "code",
   "execution_count": 26,
   "metadata": {
    "tags": [
     "hide-input",
     "hide-output"
    ]
   },
   "outputs": [
    {
     "name": "stdout",
     "output_type": "stream",
     "text": [
      "Kinetic energy: 888.2643960980422\n",
      "Number of turns: 294.5243112740431\n"
     ]
    }
   ],
   "source": [
    "%reset -f\n",
    "import numpy as np\n",
    "\n",
    "M = 10.0\n",
    "R = 0.120\n",
    "\n",
    "#------------\n",
    "# PART 1\n",
    "#------------\n",
    "omega = (1.50E3)*(2.0*np.pi/1.0)*(1.0/60.0)\n",
    "\n",
    "I = 0.5*M*R**2\n",
    "\n",
    "K = 0.5*I*omega**2\n",
    "\n",
    "print('Kinetic energy: '+str(K))\n",
    "\n",
    "#------------\n",
    "# PART 2\n",
    "#------------\n",
    "F = 5.00\n",
    "mu = 0.800\n",
    "\n",
    "#friction force\n",
    "Ff = mu*F\n",
    "\n",
    "#friction torque (negative)\n",
    "Tf = -R*Ff\n",
    "\n",
    "omega_f = 0.0\n",
    "omega_i = omega\n",
    "\n",
    "dtheta = (0.5*I*omega_f**2 - 0.5*I*omega_i**2)/Tf #in radians\n",
    "\n",
    "dtheta_rev = dtheta*(1.0/(2.0*np.pi))\n",
    "\n",
    "print('Number of turns: '+str(dtheta_rev))"
   ]
  },
  {
   "cell_type": "markdown",
   "metadata": {},
   "source": [
    "<hr style=\"height:2px;border-width:0;color:gray;background-color:gray\">"
   ]
  },
  {
   "cell_type": "markdown",
   "metadata": {},
   "source": [
    "<h2>Problem B10.5</h2>\n",
    "    </header>\n",
    "\n",
    "A propeller is accelerated from rest to an angular velocity of 1000.0 rev/min over a period of 6.0 seconds by a constant torque of $2.0\\times 10^3$ Nm.\n",
    "\n",
    "1. What is the moment of inertia of the propeller? \n",
    "2. What power is being provided to the propeller 3.0 s after it starts rotating?\n",
    "\n",
    "This problem is a slightly modified version from OpenStax. Access for free at [https://openstax.org/books/university-physics-volume-1/pages/10-problems](https://openstax.org/books/university-physics-volume-1/pages/10-problems)"
   ]
  },
  {
   "cell_type": "code",
   "execution_count": 25,
   "metadata": {
    "tags": [
     "hide-input",
     "hide-output"
    ]
   },
   "outputs": [
    {
     "name": "stdout",
     "output_type": "stream",
     "text": [
      "Moment of inertia: 114.59155902616466\n",
      "Power at t = 3 s: 104719.75511965976\n"
     ]
    }
   ],
   "source": [
    "%reset -f\n",
    "import sympy as sym\n",
    "import numpy as np\n",
    "\n",
    "omega1 = 0.0\n",
    "omega2 = (1000.0)*(2.0*np.pi/1.0)*(1.0/60.0)\n",
    "dt = 6.0\n",
    "T = 2.0E3\n",
    "\n",
    "#-------\n",
    "# Part 1\n",
    "#-------\n",
    "A = (omega2 - omega1)/dt\n",
    "I = T/A\n",
    "\n",
    "print('Moment of inertia: '+str(I))\n",
    "\n",
    "#-------\n",
    "# Part 2\n",
    "#-------\n",
    "dt = 3.0\n",
    "omega = omega1 + A*dt\n",
    "P = T*omega\n",
    "\n",
    "print('Power at t = 3 s: '+str(P))"
   ]
  },
  {
   "cell_type": "markdown",
   "metadata": {},
   "source": [
    "<hr style=\"height:2px;border-width:0;color:gray;background-color:gray\">"
   ]
  },
  {
   "cell_type": "markdown",
   "metadata": {},
   "source": [
    "<h2>Problem B10.6</h2>\n",
    "    </header>\n",
    "\n",
    "A sphere of mass 1.0 kg and radius 0.50 m is attached to the end of a massless rod of length 3.0 m. The rod rotates about an axis that is at the opposite end of the sphere (see below). The system rotates horizontally about the axis at a constant 400.0 rev/min. After rotating at this angular speed in a vacuum, air resistance is introduced and provides a force 0.15 N on the sphere opposite to the direction of motion. What is the power provided by air resistance to the system 100.0 s after air resistance is introduced?\n",
    "\n",
    "<img src=\"P10.6.png\" width=\"300\">\n",
    "\n",
    "This problem is a slightly modified version from OpenStax. Access for free at [https://openstax.org/books/university-physics-volume-1/pages/10-problems](https://openstax.org/books/university-physics-volume-1/pages/10-problems)"
   ]
  },
  {
   "cell_type": "code",
   "execution_count": 21,
   "metadata": {
    "tags": [
     "hide-input",
     "hide-output"
    ]
   },
   "outputs": [
    {
     "name": "stdout",
     "output_type": "stream",
     "text": [
      "Power at 100 s: -16.624281196264036\n"
     ]
    }
   ],
   "source": [
    "%reset -f\n",
    "\n",
    "import numpy as np\n",
    "\n",
    "M = 1.0\n",
    "R = 0.50\n",
    "D = 3.0  \n",
    "Omega1 = (400.0)*(2*np.pi/1.0)*(1.0/60.0)\n",
    "F = 0.15\n",
    "dt = 100.0\n",
    "\n",
    "#moment of inertia: parallel axis theorem applied\n",
    "#Assuming rod is attached at the center of the sphere (if not D = 3.0 + 0.5)\n",
    "I = (2/5)*M*R**2 + M*D**2\n",
    "\n",
    "#Torque (negative as it resist rotational motion)\n",
    "T = -F*D  #assuming rod is attached at center of sphere\n",
    "\n",
    "#angular speed after 100.s s:  impulse-momentum theorem L2 - L1 = T*dt\n",
    "Omega2 = Omega1 + (T*dt/I)\n",
    "\n",
    "#Power = T*omega\n",
    "P = T*Omega2\n",
    "\n",
    "print('Power at 100 s: '+str(P))"
   ]
  },
  {
   "cell_type": "markdown",
   "metadata": {},
   "source": [
    "<hr style=\"height:2px;border-width:0;color:gray;background-color:gray\">"
   ]
  },
  {
   "cell_type": "markdown",
   "metadata": {},
   "source": [
    "<h2>Problem B10.7</h2>\n",
    "    </header>\n",
    "\n",
    "A cord is wrapped around the rim of a solid cylinder of radius 0.25 m, and a constant force of 40.0 N is exerted on the cord shown, as shown in the following figure. The cylinder is mounted on frictionless bearings, and its moment of inertia is  6.0 kgm$^2$. \n",
    "\n",
    "1. Use the work energy theorem to calculate the angular velocity of the cylinder after 5.0 m of cord have been removed assuming it starts from rest. \n",
    "2. If the 40.0 N force is replaced by a 40.0 N weight, what is the angular velocity of the cylinder after 5.0 m of cord have unwound?\n",
    "\n",
    "<img src=\"P10.7.png\" width=\"300\">\n",
    "\n",
    "This problem is a slightly modified version from OpenStax. Access for free at [https://openstax.org/books/university-physics-volume-1/pages/10-problems](https://openstax.org/books/university-physics-volume-1/pages/10-problems)"
   ]
  },
  {
   "cell_type": "code",
   "execution_count": 23,
   "metadata": {
    "tags": [
     "hide-input",
     "hide-output"
    ]
   },
   "outputs": [
    {
     "name": "stdout",
     "output_type": "stream",
     "text": [
      "Part 1: Angular velocity: -8.16496580927726\n",
      "Comment: negative is CW rotation or into the plane shown in the figure.\n",
      "Part 2: Same...the disk do not care about the source of the force.\n"
     ]
    }
   ],
   "source": [
    "%reset -f\n",
    "\n",
    "import sympy as sym\n",
    "\n",
    "R = 0.25\n",
    "F = 40.0\n",
    "I = 6.0\n",
    "\n",
    "#---------\n",
    "# PART 1\n",
    "#---------\n",
    "ds = 5.0\n",
    "# relate linear length (or distance) to rotational distane\n",
    "dtheta = ds/R\n",
    "\n",
    "#rotational work: W = T*dtheta\n",
    "T = R*F\n",
    "W = T*dtheta\n",
    "\n",
    "#rotational work-energy theorem: W = dK\n",
    "Omega1 = 0.0\n",
    "#unknown\n",
    "Omega2 = sym.Symbol('omega2')\n",
    "\n",
    "eq = W - 0.5*I*Omega2**2 + 0.5*I*Omega1**2\n",
    "sol = sym.solve(eq,Omega2)\n",
    "\n",
    "print('Part 1: Angular velocity: '+str(sol[0]))\n",
    "print('Comment: negative is CW rotation or into the plane shown in the figure.')\n",
    "\n",
    "#---------\n",
    "# PART 1\n",
    "#---------\n",
    "print('Part 2: Same...the disk do not care about the source of the force.')"
   ]
  },
  {
   "cell_type": "markdown",
   "metadata": {},
   "source": [
    "<hr style=\"height:2px;border-width:0;color:gray;background-color:gray\">"
   ]
  }
 ],
 "metadata": {
  "celltoolbar": "Tags",
  "kernelspec": {
   "display_name": "Python 3 (ipykernel)",
   "language": "python",
   "name": "python3"
  },
  "language_info": {
   "codemirror_mode": {
    "name": "ipython",
    "version": 3
   },
   "file_extension": ".py",
   "mimetype": "text/x-python",
   "name": "python",
   "nbconvert_exporter": "python",
   "pygments_lexer": "ipython3",
   "version": "3.9.12"
  }
 },
 "nbformat": 4,
 "nbformat_minor": 4
}
