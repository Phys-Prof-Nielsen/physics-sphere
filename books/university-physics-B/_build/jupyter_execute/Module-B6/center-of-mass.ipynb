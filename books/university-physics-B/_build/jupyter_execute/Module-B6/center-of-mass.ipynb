{
 "cells": [
  {
   "cell_type": "markdown",
   "metadata": {},
   "source": [
    "# B6.1 Mass of System and Center of Mass\n",
    "<hr style=\"height:2px;border-width:0;color:gray;background-color:gray\">"
   ]
  },
  {
   "cell_type": "markdown",
   "metadata": {},
   "source": [
    "## B6.1.1 Motivation\n",
    "\n",
    "We are now moving into the regime of investigating extended objects, that is, objects where size and shape may play a role. This is in contrast to the point particle concept. In doing so, explaining the dynamics quickly becomes complicated as we keep track of individual particles making up an object.\n",
    "\n",
    "Fortunately, in many instances, we do not worry about the dynamics of each particle in an object but instead interested in the **collective** dynamics. The **center of mass** or **CM** is a key parameter to describe such collective behavior.\n",
    "\n",
    "<hr style=\"height:2px;border-width:0;color:gray;background-color:gray\">"
   ]
  },
  {
   "cell_type": "markdown",
   "metadata": {},
   "source": [
    "## B6.1.2 Mass of a system\n",
    "\n",
    "In a classical, or everyday life, the mass $M$ of a discrete system of  $N$ particles is the sum of the masses $m_i$ of the individual particles\n",
    "\n",
    "$$ M = \\displaystyle\\sum_{i=1}^{N} m_i $$\n",
    "\n",
    "If the system is a continuous system, that is $N \\rightarrow \\infty$, we find the mass through\n",
    "\n",
    "$$ M = \\int dm $$\n",
    "\n",
    "<hr style=\"height:2px;border-width:0;color:gray;background-color:gray\">"
   ]
  },
  {
   "cell_type": "markdown",
   "metadata": {},
   "source": [
    "## B6.1.3 Concept of Density\n",
    "\n",
    "The definition of mass used for example in chemistry is not based on physical principles (physics arrogance shining bright). Instead, it is based on common sense approach: **a measure of how much matter there is in a substance** and does **not** apply to a point particle. \n",
    "\n",
    "For example, if you are lifting a bucket of rocks with a total mass of 12 kg and add a rock with a mass of 1.5 kg, then the total mass is 13.5 kg, common sense, right? Yes, for macroscopic and every objects this makes sense. \n",
    "\n",
    "However, when we are dealing with objects in the quantum realm such as atoms and nuclei, we find that it does not work that way. For example, consider a Helium consisting of 2 protons, 2 neutrons, and 2 electrons. If we add the individual masses of these particles, we do **not** get the total mass of the Helium atom. Instead, the Helium atom has slight less mass due to conversion of mass to energy to bind the nucleons together. This was realized by Albert Einstein in 1905 and made famous through his $E = mc^2$ equation.\n",
    "\n",
    "For the purpose of our class, we will deal with macroscopic objects and can take the common sense approach. In this approach, we will need to know how dense an object is, or its **mass density**. Depending on whether we are considering 1D, 2D, or 3D objects we can describe the mass through its mass density (linear, surface, volume) and its geometrical space (length, area, volume).\n",
    "\n",
    "Let us consider the three spatial extends separately.\n",
    "\n",
    "### 1D Object\n",
    "\n",
    "A 1D object is something that can be described by a length $L$. If we consider a straight line object like a rope straigthen out in the x-direction, then a small segment of the rope will have a length $dx$. The mass of that small segment is then the **linear mass density** ($\\lambda$) of that segment times its length:\n",
    "\n",
    "$$ dm = \\lambda dx $$\n",
    "\n",
    "and the mass of the rope is\n",
    "\n",
    "$$ M = \\int_{x_1}^{x_2} \\lambda dx $$\n",
    "\n",
    "where we integrate over a length of interest bounded by $x_1$ and $x_2$.\n",
    "\n",
    "If the linear mass density is constant, then we have\n",
    "\n",
    "$$ M = \\lambda L $$\n",
    "\n",
    "where $L$ is the length of the object. \n",
    "<hr style=\"height:2px;border-width:0;color:gray;background-color:gray\">"
   ]
  },
  {
   "cell_type": "markdown",
   "metadata": {},
   "source": [
    "<div style=\"background-color: #D0D0D0 ; padding: 10px; border: 1px solid black;\">       \n",
    "<header>\n",
    "<h3> Example 1</h3>\n",
    "    </header>\n",
    "\n",
    "A copper wire has a linear mass density of 30.0 g/m. To wire a house, a contractor used 300.0 m of this copper wire. How much mass does this amount of copper have?\n",
    "\n",
    "**Solution**\n",
    "    \n",
    "In this case the linear mass density is constant, and the total mass is (converting from g to kg)\n",
    "\n",
    "$$ M = \\lambda L = (30.0)(300.0) = 9.00~\\textrm{kg} $$\n",
    "</div>\n",
    "<hr style=\"height:2px;border-width:0;color:gray;background-color:gray\">"
   ]
  },
  {
   "cell_type": "markdown",
   "metadata": {},
   "source": [
    "<div style=\"background-color: #D0D0D0 ; padding: 10px; border: 1px solid black;\">       \n",
    "<header>\n",
    "<h3> Example 2</h3>\n",
    "    </header>\n",
    "    \n",
    "A tapered copper wire of length $L$ has a linear mass density giving by $\\lambda (x) = (30.0~\\textrm{g/m})(1-\\frac{x}{L})$. If the length of the wire is exactly 100 m, what is its mass?\n",
    "\n",
    "**Solution**\n",
    "    \n",
    "In this case the linear mass density is **not** constant and we must integrate across the wire to obtain the mass:\n",
    "\n",
    "$$ M = \\int_{x = 0}^{x = L}\\lambda(x)dx $$\n",
    "\n",
    "$$ M = \\int_{x = 0}^{x = L}(30.0)(1-\\frac{x}{L})dx $$\n",
    "\n",
    "$$ M = \\int_{x = 0}^{x = L}(30.0)~dx - 30.0\\int_{x = 0}^{x = L}\\frac{x}{L}dx $$\n",
    "\n",
    "$$ M = 30.0\\left[x\\right]^{L}_{0} - 30.0\\left[\\frac{1}{2}\\frac{x^2}{L}\\right]^{L}_{0} $$\n",
    "\n",
    "Evaluating the limits and using $L = 100$:\n",
    "\n",
    "$$ M = (30.0)(100) - (30.0)\\frac{(1)}{(2)}\\frac{(100)^2}{(100)} $$\n",
    "\n",
    "$$ M = 1.50~\\textrm{kg} $$\n",
    "    \n",
    "</div>\n",
    "<hr style=\"height:2px;border-width:0;color:gray;background-color:gray\">"
   ]
  },
  {
   "cell_type": "markdown",
   "metadata": {},
   "source": [
    "### 2D Object\n",
    "\n",
    "We can extend the 1D formulation above to the 2D case by introducing the **area mass density**: $\\sigma$. The mass of an object with a small area element $dA$ is then\n",
    "\n",
    "$$ dm = \\sigma dA $$\n",
    "\n",
    "and the total mass of an object is \n",
    "\n",
    "$$ M = \\int \\sigma dA $$\n",
    "\n",
    "where we are integrating over some area.\n",
    "\n",
    "If the area mass density is constant, we have \n",
    "\n",
    "$$ M = \\sigma A $$\n",
    "\n",
    "<hr style=\"height:2px;border-width:0;color:gray;background-color:gray\">"
   ]
  },
  {
   "cell_type": "markdown",
   "metadata": {},
   "source": [
    "<div class=\"alert alert-warning\">\n",
    "<b>Box 1</b><br>\n",
    "\n",
    "<img src=\"fig1.jpg\" width=\"500\">\n",
    "    \n",
    "After gaining confidence in 1D, let us move up to 2D. After getting a rope for our whip, we are now looking\n",
    "at a wheel of cheese. This is a big disk of cheese, in fact, so big that its diameter is much larger than its\n",
    "thickness and we can approximately say it is 2D. The cheese is full of holes and its density is (area mass density) $\\sigma = 45.0\\left(\\frac{r}{R}\\right)^2$, and the radius of\n",
    "the cheese is $R = 0.30$ m. The unit of the density constant is kg/m$^2$.\n",
    "    \n",
    "1. Consider a disk with surface area $A = \\pi r^2$. Use the definition of the differential to show that the area\n",
    "differential is $dA = 2\\pi rdr$\n",
    "2. Calculate the mass of the cheese.\n",
    "</div>\n",
    "\n",
    "<hr style=\"height:2px;border-width:0;color:gray;background-color:gray\">"
   ]
  },
  {
   "cell_type": "markdown",
   "metadata": {},
   "source": [
    "### 3D Object\n",
    "\n",
    "Guess what? We can extend the 1D an 2D formulations above to the 3D case by introducing the **volume mass density**: $\\rho$. The mass of an object with a small volume element $dV$ is then\n",
    "\n",
    "$$ dm = \\rho dV $$\n",
    "\n",
    "and the total mass of an object is \n",
    "\n",
    "$$ M = \\int \\rho dV $$\n",
    "\n",
    "where we are integrating over some volume.\n",
    "\n",
    "If the area mass density is constant, we have \n",
    "\n",
    "$$ M = \\rho V $$\n",
    "<hr style=\"height:2px;border-width:0;color:gray;background-color:gray\">"
   ]
  },
  {
   "cell_type": "markdown",
   "metadata": {},
   "source": [
    "<div class=\"alert alert-warning\">\n",
    "<b>Box 2</b><br>\n",
    "    \n",
    "<img src=\"fig2.jpg\" width=\"500\">\n",
    "    \n",
    "A bottle of wine goes with the cheese. We find a cylindrical bottle of wine with a radius of $R = 3.00$ cm and height\n",
    "$H = 0.30$ m. The density (volume) of the wine is $\\rho = 998.0\\left(\\frac{h}{H}\\right)^2$, with h = 0 m being the bottom of the\n",
    "wine bottle. The unit of the density constant is kg/m$^3$.\n",
    "\n",
    "1. Write down the volume of a cylinder.\n",
    "2. Find the volume differential in terms of the height differential.\n",
    "3. Find the total mass of the wine. \n",
    "\n",
    "</div>\n",
    "<hr style=\"height:2px;border-width:0;color:gray;background-color:gray\">"
   ]
  },
  {
   "cell_type": "markdown",
   "metadata": {},
   "source": [
    "## B6.1.4 Center of Mass\n",
    "\n",
    "The center of mass of a concept describing the statistically weighted distribution of mass in a system. In plain words: if all the mass of a system was concentrated in a single spatial point, that point/position would the be center of mass.\n",
    "\n",
    "For a system of discrete objects the center of mass is defined as\n",
    "\n",
    "<div class=\"alert alert-success\">\n",
    "    \n",
    "\n",
    "$$ \\vec{R}_{CM} = \\frac{\\displaystyle\\sum_{i=1}^{N} m_{i}\\vec{r}_i}{\\displaystyle\\sum_{i=1}^{N} m_i} $$\n",
    "\n",
    "</div>\n",
    "\n",
    "It may be helpful to write out the summations\n",
    "\n",
    "\n",
    "$$ \\vec{R}_{CM} = \\frac{m_{1}\\vec{r}_{1} + m_{2}\\vec{r}_{2} + \\dots + m_{N}\\vec{r}_{N}}{m_{1} + m_{2} + \\dots + m_{N}}$$\n",
    "\n",
    "In the case of a continuous system we have\n",
    "\n",
    "<div class=\"alert alert-success\">\n",
    "    \n",
    "$$ \\vec{R}_{CM} = \\frac{\\int \\vec{r}dm}{\\int dm} $$ \n",
    "</div>\n",
    "\n",
    "\n",
    "<hr style=\"height:2px;border-width:0;color:gray;background-color:gray\">"
   ]
  },
  {
   "cell_type": "markdown",
   "metadata": {},
   "source": [
    "<div style=\"background-color: #D0D0D0 ; padding: 10px; border: 1px solid black;\">       \n",
    "<header>\n",
    "<h3> Example 3</h3>\n",
    "    </header>\n",
    "\n",
    "Consider three point masses ($m_1 = m_2 = 1.00$ kg and $m_3 = 2.00$ kg) located at $(x,y) = (1.0~\\textrm{m},0.0~\\textrm{m}),~(2.0~\\textrm{m},0.0~\\textrm{m})$, and $(0.0~\\textrm{m},2.0~\\textrm{m})$, respectively. Find the center of mass of this system.\n",
    "\n",
    "**Solution**\n",
    "    \n",
    "We have the individual masses and components of the particles, so we can plug into the equation defining the CM position vector:\n",
    "\n",
    "    \n",
    "$$ \\vec{R}_{CM} = \\frac{(1.00)\\left(\\begin{bmatrix} 1.0  \\\\ 0.0  \\end{bmatrix}\\right) + (1.00)\\left(\\begin{bmatrix} 2.0  \\\\ 0.0  \\end{bmatrix}\\right) + (2.00)\\left(\\begin{bmatrix} 0.0  \\\\ 2.0  \\end{bmatrix}\\right)}{(1.0) + (1.0) + (2.0)} = \\begin{bmatrix} 0.75~\\textrm{m}  \\\\ 1.0~\\textrm{m}  \\end{bmatrix}$$\n",
    "\n",
    "    \n",
    "</div>"
   ]
  },
  {
   "cell_type": "markdown",
   "metadata": {},
   "source": [
    "<hr style=\"height:2px;border-width:0;color:gray;background-color:gray\">"
   ]
  },
  {
   "cell_type": "markdown",
   "metadata": {},
   "source": [
    "<div class=\"alert alert-warning\">\n",
    "<b>Box 3</b><br>\n",
    "    \n",
    "The water molecule consist of an oxygen atom ($m_{O} = 16$ u) and two hydrogen atoms ($m_{H} = 1.0$ u), where $u$ is the atomic mass unit. The hydrogen atoms are  located at a distance of $d = 9.57\\times 10^{-11}$ m from the center of the oxygen atom and separated by an angle of $105^\\circ$. Find the center of mass of the water molecule and make a sketch to illustrate its location.\t\n",
    "    \n",
    "</div>\n",
    "\n",
    "<hr style=\"height:2px;border-width:0;color:gray;background-color:gray\">"
   ]
  },
  {
   "cell_type": "markdown",
   "metadata": {},
   "source": [
    "<div class=\"alert alert-warning\">\n",
    "<b>Box 4</b><br>\n",
    "    \n",
    "A $2000.0$ kg SUV is moving along a straight, flat highway at $+10.0$ m/s. At a given instant a sedan, with a mass of $1000.0$ kg and velocity of $+20.0$ m/s, has its center of mass $40.0$ m ahead of the center of mass of the SUV. Where is the center of mass of the system at this instant? Give your answer relative to the SUV.\n",
    "    \n",
    "</div>\n",
    "\n",
    "<hr style=\"height:2px;border-width:0;color:gray;background-color:gray\">"
   ]
  },
  {
   "cell_type": "markdown",
   "metadata": {},
   "source": [
    "## B6.1.5 Linear Velocity of Center of Mass\n",
    "\n",
    "The definitions and equations of kinematics can be applied to the CM as well. The linear velocity of the CM is\n",
    "\n",
    "<div class=\"alert alert-success\">\n",
    "    \n",
    "\n",
    "$$\\vec{V}_{CM} = \\frac{\\displaystyle\\sum_{i=1}^{N} m_{i}\\vec{v}_i}{\\displaystyle\\sum_{i=1}^{N} m_i}$$\n",
    "\n",
    "</div>\n",
    "\n",
    "It may be helpful to write out the summations\n",
    "\n",
    "$$ \\vec{V}_{CM} = \\frac{m_{1}\\vec{v}_{1} + m_{2}\\vec{v}_{2} + \\dots + m_{N}\\vec{v}_{N}}{m_{1} + m_{2} + \\dots + m_{N}}$$\n",
    "\n",
    "In the case of a continuous system we have\n",
    "\n",
    "<div class=\"alert alert-success\">\n",
    "    \n",
    "$$ \\vec{V}_{CM} = \\frac{\\int \\vec{v}dm}{\\int dm} $$ \n",
    "</div>\n",
    "\n",
    "<hr style=\"height:2px;border-width:0;color:gray;background-color:gray\">"
   ]
  },
  {
   "cell_type": "markdown",
   "metadata": {},
   "source": [
    "<div class=\"alert alert-warning\">\n",
    "<b>Box 3</b><br>\n",
    "    \n",
    "A 2000.0 kg SUV is moving along a straight, flat highway at +10.0 m/s. A sedan, with a mass of 1000.0 kg and velocity of +20.0  m/s, has its center of mass 40.0 m ahead of the center of mass of the SUV. \n",
    "\n",
    "1. Find the velocity of the center of mass relative to the SUV.\n",
    "2. Find the velocity of the center of mass relative to a stationary ground-based observer.\n",
    "    \n",
    "</div>\n",
    "\n",
    "<hr style=\"height:2px;border-width:0;color:gray;background-color:gray\">"
   ]
  },
  {
   "cell_type": "markdown",
   "metadata": {},
   "source": [
    "## B6.1.6 Linear Acceleration of Center of Mass\n",
    "\n",
    "Similarly to velocity, the linear acceleration of the CM is\n",
    "\n",
    "<div class=\"alert alert-success\">\n",
    "    \n",
    "\n",
    "$$\\vec{A}_{CM} = \\frac{\\displaystyle\\sum_{i=1}^{N} m_{i}\\vec{a}_i}{\\displaystyle\\sum_{i=1}^{N} m_i}$$\n",
    "\n",
    "</div>\n",
    "\n",
    "It may be helpful to write out the summations\n",
    "\n",
    "$$ \\vec{A}_{CM} = \\frac{m_{1}\\vec{a}_{1} + m_{2}\\vec{a}_{2} + \\dots + m_{N}\\vec{a}_{N}}{m_{1} + m_{2} + \\dots + m_{N}}$$\n",
    "\n",
    "In the case of a continuous system we have\n",
    "\n",
    "<div class=\"alert alert-success\">\n",
    "    \n",
    "$$ \\vec{A}_{CM} = \\frac{\\int \\vec{a}dm}{\\int dm} $$ \n",
    "</div>\n",
    "\n",
    "<hr style=\"height:2px;border-width:0;color:gray;background-color:gray\">"
   ]
  },
  {
   "cell_type": "markdown",
   "metadata": {},
   "source": [
    "## B6.1.7 Center of Mass vs. Center of Gravity\n",
    "\n",
    "We will often hear the term **Center of Gravity** (CG). For example, if you balance an object on your finger, the CG is located somewhere along a vertical line above your finger. Hence, when we disucss rotation and balanced objects, the CG plays an important role. \n",
    "\n",
    "Center of Mass is the average location of all the mass in an object. Similarly, \n",
    "\n",
    "<div class=\"alert alert-success\">\n",
    "    \n",
    "The Center of Gravity is the average location of the weight (or force of gravity) acting on an object.\n",
    "\n",
    "</div>\n",
    "\n",
    "For all our purposes, the CG and CM are the exact same location. \n",
    "\n",
    "When is that not the case? It will require a change in the gravitational field across the body. This happens for very large distances/objects (like satellites and our solar system) or when we are in very strong gravitational systems (like close to a smaller black hole). \n",
    "\n",
    "<hr style=\"height:2px;border-width:0;color:gray;background-color:gray\">"
   ]
  }
 ],
 "metadata": {
  "kernelspec": {
   "display_name": "Python 3 (ipykernel)",
   "language": "python",
   "name": "python3"
  },
  "language_info": {
   "codemirror_mode": {
    "name": "ipython",
    "version": 3
   },
   "file_extension": ".py",
   "mimetype": "text/x-python",
   "name": "python",
   "nbconvert_exporter": "python",
   "pygments_lexer": "ipython3",
   "version": "3.10.9"
  }
 },
 "nbformat": 4,
 "nbformat_minor": 4
}