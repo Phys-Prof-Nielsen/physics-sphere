{
 "cells": [
  {
   "cell_type": "markdown",
   "metadata": {},
   "source": [
    "# B9.1 Rotational Force: Point Particle Part 1\n",
    "<hr style=\"height:2px;border-width:0;color:gray;background-color:gray\">"
   ]
  },
  {
   "cell_type": "markdown",
   "metadata": {},
   "source": [
    "## B9.1.1 Motivation\n",
    "\n",
    "The net force we discussed previously were responsible for producing a **linear** acceleration of a particle or an object. Therefore, it is sometimes referred to as **linear force**. The counterpart for causing a **rotational** (or angular) acceleration of a point particle or an object is known as the **torque** and is sometimes referred to as a **rotational force** \n",
    "\n",
    "<div class=\"alert alert-info\">\n",
    "    \n",
    "The force contributing to the torque itself is no different from the linear force. What is different is the effect. For example, take a yardstick and put on a table. If you apply horizontal force at the mid point, the yardstick will begin to move in a straight line: it accelerates in a linear direction. If you apply the same horizontal force at one end point, it will likely start to rotate: it accelerates in an angular direction. Same force, but different effects.\n",
    "    <br>\n",
    "    <br>\n",
    "    <b>The torque (or rotational force) depends on where the force is applied</b>.\n",
    "</div>\n",
    "\n",
    "Similar to rotational momentum, the torque is inherently more complex than the linear force and detailed description fo it is beyond the scope of this course. Instead, a full description is given in the course *Classical Mechanics*.\n",
    "\n",
    "<hr style=\"height:2px;border-width:0;color:gray;background-color:gray\">"
   ]
  },
  {
   "cell_type": "markdown",
   "metadata": {},
   "source": [
    "## B9.1.2 Remember Rotational Momentum?\n",
    "\n",
    "Earlier, we defined the rotational momentum for a point particle as\n",
    "\n",
    "$$\\vec{l} = i\\vec{\\omega} $$\n",
    "\n",
    "where $i$ is the moment of inertia tensor and $\\vec{\\omega}$ is the rotational or angular velocity. We recognized the complexity of the moment of inertia and instead limited our discussion to point particls and objects with certain symmetries. For example, we wrote the angular momentum about the z-axis as\n",
    "\n",
    "$$ l_z = i_z\\omega_z $$\n",
    "\n",
    "We can without hesitation swap the subscripts with $x$ and $y$. In the following, we will keep using $z$ as the example axis.\n",
    "\n",
    "<hr style=\"height:2px;border-width:0;color:gray;background-color:gray\">"
   ]
  },
  {
   "cell_type": "markdown",
   "metadata": {},
   "source": [
    "##  B9.1.3 Torque on Point Particle\n",
    "\n",
    "The **average net rotational interaction** (or torque), $\\tau_{net,z}$ acting during a time interval on a point particle will cause a **change in rotational momentum** :\n",
    "\n",
    "<div class=\"alert alert-success\">\n",
    "    \n",
    "$$ \\Delta l_z = \\tau_{net,av,z}\\Delta t $$\n",
    "</div>\n",
    "\n",
    "For a time-varying torque, we have\n",
    "\n",
    "<div class=\"alert alert-success\">\n",
    "    \n",
    "$$ \\Delta l_z = \\int_{t_1}^{t_2}\\tau_{net,z}dt $$\n",
    "</div>\n",
    "\n",
    "\n",
    "<hr style=\"height:2px;border-width:0;color:gray;background-color:gray\">"
   ]
  },
  {
   "cell_type": "markdown",
   "metadata": {},
   "source": [
    "<div style=\"background-color: #D0D0D0 ; padding: 10px; border: 1px solid black;\">       \n",
    "<header>\n",
    "<h3> Example 1</h3>\n",
    "    </header>\n",
    "    \n",
    "Consider a 0.1 kg point particle moving in a circular motion around the z-axis with a raidus 0.5 m and with an initial angular speed of 2.0 rad/s. It is subject to a constant net torque of 8.0 Nm. What is its angular speed after 5 s?\n",
    "\n",
    "**Solution**\n",
    "    \n",
    "The angular impulse during the 5 s is:\n",
    "\n",
    "$$ \\Delta l_z = \\tau_{net,av,z}\\Delta t $$\n",
    "\n",
    "$$ \\Delta l_z = (8.0)(5) = 40~\\textrm{kgm$^2$/s} $$\n",
    "\n",
    "The angular impulse is the change in angular momentum: $l_{z,2} - l_{z,1}$. Since the moment of inertia for a point particle is $I = mr^2$, where we identfy $r$ as being the radius of the circular motion, we get\n",
    "\n",
    "$$ l_{z,2} - l_{z,1} = 40$$\n",
    "\n",
    "$$ i_{z,2}\\omega_{z,2} - i_{z,1}\\omega_{z,1} = 40 $$\n",
    "\n",
    "$$ mr^2_{2}\\omega_{z,2} - mr^2_{1}\\omega_{z,1} = 40 $$\n",
    "\n",
    "Solving for $\\omega_{z,2}$:\n",
    "\n",
    "$$ \\omega_{z,2}  = \\frac{40 +  mr^2_{1}\\omega_{z,1}}{mr^2_{2}}$$\n",
    "\n",
    "and inserting the numbers:\n",
    "\n",
    "$$ \\omega_{z,2}  = \\frac{(40) +  (0.1)(0.5)^2(2.0)}{(0.1)(0.5)^2} = 1600~\\textrm{rad/s}$$\n",
    "</div>\n",
    "<hr style=\"height:2px;border-width:0;color:gray;background-color:gray\">"
   ]
  },
  {
   "cell_type": "markdown",
   "metadata": {},
   "source": [
    "## B9.1.4 Graphical Intrepreation\n",
    "\n",
    "Equations (1) and (2) inform us that we can draw a similar conclusion to the graphical relationship between net torque and angular impulse as linear force and linear impulse:\n",
    "\n",
    "<div class=\"alert alert-info\">\n",
    "    \n",
    "Net torque vs time graph: The area bounded by the net torque graph and time axis is the angular impulse  \n",
    "</div>\n",
    "\n",
    "<hr style=\"height:2px;border-width:0;color:gray;background-color:gray\">"
   ]
  },
  {
   "cell_type": "markdown",
   "metadata": {},
   "source": [
    "## B9.1.5 Newton's Second Law for a Point Particle\n",
    "\n",
    "In an analogous approach to the linear case, we can formulate **Newtons second law for rotational motion**:\n",
    "\n",
    "<div class=\"alert alert-success\">\n",
    "    \n",
    "$$  \\tau_{net,z} = \\frac{dl_z}{dt} \\tag{3}$$\n",
    "</div>\n",
    "\n",
    "where $\\tau_{net,z}$ is now the **instantaneous** net torque. For a particle with constant moment of inertia, we have\n",
    "\n",
    "<div class=\"alert alert-success\">\n",
    "    \n",
    "$$ \\tau_{net,z} = i_{z}\\alpha_z \\tag{4}$$\n",
    "</div>\n",
    "\n",
    "where $\\alpha_z$ is the angular acceleration around the z-axis.\n",
    "\n",
    "<hr style=\"height:2px;border-width:0;color:gray;background-color:gray\">"
   ]
  },
  {
   "cell_type": "markdown",
   "metadata": {},
   "source": [
    "<div class=\"alert alert-warning\">\n",
    "<b>Box 1</b><br>\n",
    "    \n",
    "Use Equation (2) to derive equations (3) and (4).\n",
    "</div>\n",
    "    \n",
    "<hr style=\"height:2px;border-width:0;color:gray;background-color:gray\">"
   ]
  },
  {
   "cell_type": "markdown",
   "metadata": {},
   "source": [
    "<div class=\"alert alert-warning\">\n",
    "<b>Box 2</b><br>\n",
    "    \n",
    "What is the angular acceleration in Box 1? Use this result and Equation (4) to calculate the net torque on the particle in Box 1 (you should get 8.0 Nm).\n",
    "</div>\n",
    "    \n",
    "<hr style=\"height:2px;border-width:0;color:gray;background-color:gray\">"
   ]
  }
 ],
 "metadata": {
  "kernelspec": {
   "display_name": "Python 3 (ipykernel)",
   "language": "python",
   "name": "python3"
  },
  "language_info": {
   "codemirror_mode": {
    "name": "ipython",
    "version": 3
   },
   "file_extension": ".py",
   "mimetype": "text/x-python",
   "name": "python",
   "nbconvert_exporter": "python",
   "pygments_lexer": "ipython3",
   "version": "3.9.12"
  }
 },
 "nbformat": 4,
 "nbformat_minor": 4
}