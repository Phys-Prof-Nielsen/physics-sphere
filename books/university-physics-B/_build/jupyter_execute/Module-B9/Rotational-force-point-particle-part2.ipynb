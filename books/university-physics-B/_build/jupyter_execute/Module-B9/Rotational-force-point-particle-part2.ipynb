{
 "cells": [
  {
   "cell_type": "markdown",
   "metadata": {},
   "source": [
    "# Rotational Force - Point Particle Part 2\n",
    "***"
   ]
  },
  {
   "cell_type": "markdown",
   "metadata": {},
   "source": [
    "If you recall, we have to approaches to define the angular momentum of a point particle :\n",
    "\n",
    "1. $$\\vec{L} = I\\vec{\\omega}_z \\tag{1} $$\n",
    "<br>\n",
    "2. $$\\vec{L} = \\vec{r} \\times \\vec{p} \\tag{2}$$\n",
    "\n",
    "In the *Rotational Force: Point Particle Part 1*, we showed how we could define the net torque on a point particle by using Equation (1). In this note, we will see how we can use Equation (2) to define the torque, and realize a major difference in the two approaches.\n",
    "\n",
    "***"
   ]
  },
  {
   "cell_type": "markdown",
   "metadata": {},
   "source": [
    "## 1. Net Torque in terms of Net Force\n",
    "We will start with Equation (3) from *Rotational Force: Point Particle Part 1* notes, but in vector form:\n",
    "\n",
    "<div class=\"alert alert-success\">\n",
    "    $$  \\vec{\\tau}_{net} = \\frac{d\\vec{L}}{dt} \\tag{3}$$\n",
    "</div>\n",
    "\n",
    "If we insert Equation (2) into the above equation, we have\n",
    "\n",
    "$$  \\vec{\\tau}_{net} = \\frac{d\\vec{\\vec{r} \\times \\vec{p}}}{dt}$$\n",
    "\n",
    "Apply the product rule for derivatives:\n",
    "\n",
    "$$  \\vec{\\tau}_{net} = \\vec{r} \\times \\frac{d\\vec{p}}{dt} + \\frac{d\\vec{r}}{dt}\\times \\vec{p}$$\n",
    "\n",
    "Since $\\frac{d\\vec{r}}{dt} = \\vec{v}$ and $\\vec{p} = m\\vec{v}$, the second term on the right side is a cross-product between the same velocity vector and is therefore zero. We then have\n",
    "\n",
    "$$  \\vec{\\tau}_{net} = \\vec{r} \\times \\frac{d\\vec{p}}{dt}$$\n",
    "\n",
    "The derivaitve is simply the net force acting on the particle:\n",
    "\n",
    "<div class=\"alert alert-success\">\n",
    "$$  \\vec{\\tau}_{net} = \\vec{r} \\times \\vec{F}_{net} \\tag{4}$$\n",
    "    </div>\n",
    "    \n",
    "Equation (4) is useful when we have direct knowledge about the net force applied to the particle instead of knowledge of its change in motion. However, Equation (4) goes beyond the net force as we will see in the next section.\n",
    "***"
   ]
  },
  {
   "cell_type": "markdown",
   "metadata": {},
   "source": [
    "## 2. Torque due to Individual Forces\n",
    "Let us write Equation (4) slightlit different using summation notation:\n",
    "\n",
    "$$  \\vec{\\tau}_{net} = \\vec{r} \\times \\sum_{i=1}^{N}\\vec{F}_{i} $$\n",
    "\n",
    "where we are summing over each indiviual force acting on the particle. We can distribut the cross product:\n",
    "\n",
    "$$  \\vec{\\tau}_{net} =  \\sum_{i=1}^{N}\\vec{r} \\times\\vec{F}_{i} $$\n",
    "\n",
    "The term we are summing over can be interpretated as the torque due to a single force acting on the particle:\n",
    "\n",
    "$$  \\vec{\\tau}_{net} =  \\sum_{i=1}^{N}\\vec{\\tau}_{i} $$\n",
    "\n",
    "and we identify the **torque acting on a point particle due to a single force** as\n",
    "\n",
    "<div class=\"alert alert-success\">\n",
    "$$  \\vec{\\tau} =  \\vec{r} \\times\\vec{F} \\tag{5}$$\n",
    "</div>\n",
    "\n",
    "<div class=\"alert alert-info\">\n",
    "    It is very important to understand the difference between Equations (4) and (5). They look very similar but their meanings are different!\n",
    "    </div>\n",
    "    \n",
    "<div class=\"alert alert-danger\">\n",
    "    The vecor $\\vec{r}$ is the directed line segment from a point of interest (poi) to the point where the force is acting. In some cases it is the position vector, in other cases it is not. We say: <b>the torque about the point of interest</b>\n",
    "    </div>\n",
    "    \n",
    "<div class=\"alert alert-info\">\n",
    "    The point of interest is often referred to as the <b>pivot point</b>.\n",
    "    </div>\n",
    "    \n",
    "***"
   ]
  },
  {
   "cell_type": "markdown",
   "metadata": {},
   "source": [
    "## 3. Examples\n",
    "***"
   ]
  },
  {
   "cell_type": "markdown",
   "metadata": {},
   "source": [
    "### Example 1\n",
    "A point particle is located at $x = 3.0$ m and a force $F = 2.0$ N is acting on the particle in a direction of the positive x-axis as shown in the Figure below.\n",
    "\n",
    "<img src=\"B8.5-fig2.png\" width=\"400\">\n",
    "\n",
    "Find the torque on the particle around the orgin due to the applied force.\n",
    "\n",
    "#### Solution\n",
    "First, we recognize that the position vector is the directed line segment from the POI to the point of interaction. We also recognize that the position vector and force vector are parallel. Using the geometric definition of the cross product, we have for the magnitude of the torque:\n",
    "\n",
    "$$ |\\vec{\\tau}| = |\\vec{r}||\\vec{F}|\\sin\\theta $$\n",
    "\n",
    "Inserting our numbers:\n",
    "\n",
    "$$ |\\vec{\\tau}| = (3.0)(2.0)\\sin(0^\\circ) = 0~\\textrm{Nm}$$\n",
    "\n",
    "There is no torque, and the particle will not experience an angular acceleration due to this force, but will simply experience a linear acceleration.\n",
    "\n",
    "***"
   ]
  },
  {
   "cell_type": "markdown",
   "metadata": {},
   "source": [
    "### Example 2\n",
    "Consider the same particle as in Example 1, but now the direction of the applide force is along the +y-direction. \n",
    "<img src=\"B8.5-fig3.png\" width=\"300\">\n",
    "\n",
    "In this case, we have for the magnitude of the torque around the origin:\n",
    "\n",
    "$$ |\\vec{\\tau}| = |\\vec{r}||\\vec{F}|\\sin\\theta $$\n",
    "\n",
    "Inserting our numbers:\n",
    "\n",
    "$$ |\\vec{\\tau}| = (3.0)(2.0)\\sin(90^\\circ) = 6.0~\\textrm{Nm}$$\n",
    "\n",
    "The direction is obtained by using the right-hand rule and yields a torque in the direction of the positive z-axis. Our final answer is:\n",
    "\n",
    "$$ \\vec{\\tau} = (6.0~\\textrm{Nm})~\\hat{k} $$\n",
    "\n",
    "NOTE: the torque is along the z-axis since the particle will experience a change in rotational motion around the z-axis (its motin is in the xy-plane, rotating around the z-axis).\n",
    "\n",
    "***"
   ]
  },
  {
   "cell_type": "markdown",
   "metadata": {},
   "source": [
    "<div class=\"alert alert-warning\">\n",
    "<b>Box 1</b><br>\n",
    "A point particle is located at $x = 3.0$ m and a force $F = 2.0$ N is acting on the particle. The force is directed as shown in Example 2 above.\n",
    "    <ol>\n",
    "        <li> Find the torque on the particle due to the force around the point x = 3.0 m.\n",
    "        <li> Find the torque on the particle due to the force around the point y = 4.0 m.\n",
    "        <li> Find the torque on the particle due to the force around the point (x,y) = (1.0 m, 1.0 m).\n",
    "    </ol>\n",
    "</div>\n",
    "\n",
    "***"
   ]
  },
  {
   "cell_type": "markdown",
   "metadata": {},
   "source": [
    "<div class=\"alert alert-warning\">\n",
    "<b>Box 2</b><br>\n",
    "A point particle is located at $(x,y,z) = (3.0,2.0,-1.0)$ m and a force $\\vec{F} = (0.0 ,2.0,3.0)$ N is acting on the particle. \n",
    "    <ol>\n",
    "        <li> Find the torque on the particle due to the force around the origin.\n",
    "        <li> Find the torque on the particle due to the force around the point y = 4.0 m.\n",
    "        <li> Find the torque on the particle due to the force around the point (x,y) = (1.0 m, 1.0 m).\n",
    "    </ol>\n",
    "</div>\n",
    "\n",
    "***"
   ]
  },
  {
   "cell_type": "markdown",
   "metadata": {},
   "source": [
    "<div class=\"alert alert-warning\">\n",
    "<b>Box 3</b><br>\n",
    "A point particle is located at a position given by $\\vec{r}$ and subject to a force $\\vec{F}$ in the three scenarios shown below.\n",
    "<img src=\"B8.4-fig4.png\" width=\"600\">\n",
    "Rank the torque around the origin from smallest to largest.\n",
    " </div> \n",
    " \n",
    "***"
   ]
  },
  {
   "cell_type": "markdown",
   "metadata": {},
   "source": [
    "<div class=\"alert alert-warning\">\n",
    "<b>Box 3</b><br>\n",
    "A point particle is located at a position given by $\\vec{r}$ and subject to a force $\\vec{F}$ in the three scenarios shown below.\n",
    "<img src=\"B8.5-fig5.png\" width=\"600\">\n",
    "Rank the torque around the origin from smallest to largest.\n",
    " </div> \n",
    " \n",
    "***"
   ]
  },
  {
   "cell_type": "markdown",
   "metadata": {},
   "source": [
    "<div class=\"alert alert-warning\">\n",
    "<b>Box 4</b><br>\n",
    "The four forces shown all have the same magnitude: F1 = F2 = F3 = F4. Which force produces the greatest torque about the point O (marked by the blue dot)?\n",
    "\n",
    "<img src=\"B8.5-fig6.png\" width=\"300\" style=\"background-color:black\">\n",
    " </div> \n",
    " \n",
    "***"
   ]
  },
  {
   "cell_type": "markdown",
   "metadata": {},
   "source": [
    "<div class=\"alert alert-warning\">\n",
    "<b>Box 5</b><br>\n",
    "Which of the four forces shown here produces a torque about O that is directed out of the plane of the drawing?\n",
    "\n",
    "<img src=\"B8.5-fig6.png\" width=\"300\" style=\"background-color:black\">\n",
    " </div> \n",
    " \n",
    "***"
   ]
  },
  {
   "cell_type": "markdown",
   "metadata": {},
   "source": [
    "## 4. The Lever Arm\n",
    "In engineering, the torque is sometimes referred to as the **moment**, but this is not the time to ridicule engineers. Another term that is often used in engineering and may be familar to you is the **lever arm**. The lever arm is the **perpendicular vector component directed line segment from the pivot point (or POI) to the point of interaction**. If we denote $\\vec{r}_\\perp$ as the lever arm, then the magnitude of the torque around a pivot point acting on a particle due to an interaction $\\vec{F}$ is\n",
    "\n",
    "$$ \\tau = r_\\perp F $$\n",
    "\n",
    "since the angle between the two vectors is $90^\\circ$.\n",
    "\n",
    "***"
   ]
  },
  {
   "cell_type": "markdown",
   "metadata": {},
   "source": [
    "<div class=\"alert alert-warning\">\n",
    "<b>Box 6</b><br>\n",
    "A force F acts on the particle shown, which dashed line represents the magnitude of the lever arm component vector for the force about\n",
    "point O?\n",
    "<img src=\"B8.5-fig7.png\" width=\"300\" style=\"background-color:gray\">\n",
    " </div> \n",
    " \n",
    "***"
   ]
  },
  {
   "cell_type": "code",
   "execution_count": null,
   "metadata": {},
   "outputs": [],
   "source": []
  }
 ],
 "metadata": {
  "kernelspec": {
   "display_name": "Python 3 (ipykernel)",
   "language": "python",
   "name": "python3"
  },
  "language_info": {
   "codemirror_mode": {
    "name": "ipython",
    "version": 3
   },
   "file_extension": ".py",
   "mimetype": "text/x-python",
   "name": "python",
   "nbconvert_exporter": "python",
   "pygments_lexer": "ipython3",
   "version": "3.10.9"
  }
 },
 "nbformat": 4,
 "nbformat_minor": 4
}