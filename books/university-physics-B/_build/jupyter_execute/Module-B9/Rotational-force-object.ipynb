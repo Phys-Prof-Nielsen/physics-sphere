{
 "cells": [
  {
   "cell_type": "markdown",
   "metadata": {},
   "source": [
    "# B9.3 Rotational Force - Extended Object\n",
    "<hr style=\"height:2px;border-width:0;color:gray;background-color:gray\">"
   ]
  },
  {
   "cell_type": "markdown",
   "metadata": {},
   "source": [
    "## B9.3.1 Motivation\n",
    "\n",
    "We have seen how forces acting on a point particle can give rise to a torque about a point, causing the particle to experience a change in its angular motion. In this case, the forces all act at the same location and thus have the same position vector. \n",
    "\n",
    "In contrast, for the case of an extended objects, forces may act at different locations. For example, gravity may act at the center of the object, while friction acts at the edge of the object. Another example, take a yardstick and put on a table. If you apply horizontal force at the mid point, the yardstick will begin to move in a straight line: it accelerates in a linear direction. If you apply the same horizontal force at one end point, it will likely start to rotate: it accelerates in an angular direction. Same force, but different effects due to point of contact being different.\n",
    "\n",
    "**The torque (or rotational force) depends on WHERE the force is applied**.\n",
    "\n",
    "Our beloved point particle only posseses orbital angular motion whereas the extended object can possess both orbital and spin angular momentum. We will restrict our current discussion on the spin motion only.\n",
    "\n",
    "<hr style=\"height:2px;border-width:0;color:gray;background-color:gray\">"
   ]
  },
  {
   "cell_type": "markdown",
   "metadata": {},
   "source": [
    "## B9.3.2 Pure Spin Motion\n",
    "\n",
    "The spin angular momentum about the z-axis for an extended about is\n",
    "\n",
    "$$L_z = I_{zz}\\Omega_z$$\n",
    "\n",
    "Similar to the definition from the point particle discussion, the net torque is the applied cause through some time that will cause the motion to change (impulse-momentum theorem):\n",
    "\n",
    "$$ dL_z = \\mathcal{T}_{net_z}dt $$\n",
    "\n",
    "or written in the form of **Newton's 2nd law for rotational motion**:\n",
    "\n",
    "<div class=\"alert alert-success\">\n",
    "    \n",
    "$$ \\mathcal{T}_{net_z} = \\frac{dL_z}{dt} $$\n",
    "</div>\n",
    "\n",
    "If the moment of inertia is constant, we have\n",
    "\n",
    "<div class=\"alert alert-success\">\n",
    "    \n",
    "$$ \\mathcal{T}_{net_z} = I_{zz}\\mathcal{A} $$\n",
    "</div>\n",
    "\n",
    "where $\\mathcal{A}$ is the angular acceleration of the object. This form is equivalent to Newton's 2nd law for linear motion.\n",
    "\n",
    "<hr style=\"height:2px;border-width:0;color:gray;background-color:gray\">"
   ]
  },
  {
   "cell_type": "markdown",
   "metadata": {},
   "source": [
    "<div style=\"background-color: #D0D0D0 ; padding: 10px; border: 1px solid black;\">       \n",
    "<header>\n",
    "<h3> Example 1</h3>\n",
    "    </header>\n",
    "    \n",
    "A solid disk (mass 12.0 kg and radius 0.100 m) is laying in a horizontal plane and mounted on a vertical axle through its center. Assume there is no friction between the disk and the axle. The disk is initially at rest. A tangential force of 80.0 N is applied at the rim of the disk to spin it up in a positive direction. What is the angular acceleration of the disk?\n",
    "\n",
    "**Solution**\n",
    "    \n",
    "Let the pivot point be the center of the disk. The only force producing a torque about the pivot point is the applied tangential force. Let the disk reside in the xy-plane, then the magnitude of the torque is\n",
    "    \n",
    "$$ \\mathcal{T} = rf\\sin\\theta $$\n",
    "    \n",
    "with $\\theta = 90^\\circ$.\n",
    "    \n",
    "The moment of inertia for a solid disk is $I_{zz} = \\frac{1}{2}MR^2 $. Combine these expressions with Newton's 2nd law of motion and solve for the angular acceleration:\n",
    "    \n",
    "$$ \\mathcal{A} = \\frac{rf}{0.5MR^2} = \\frac{(0.1)(80)}{(0.5)(12)(0.1)^2} = 133~\\textrm{rad/s}^2$$\n",
    "   \n",
    "The direction will be in the designated positive direction.\n",
    "    \n",
    "\n",
    "\n",
    "</div>\n",
    "<hr style=\"height:2px;border-width:0;color:gray;background-color:gray\">"
   ]
  },
  {
   "cell_type": "code",
   "execution_count": null,
   "metadata": {},
   "outputs": [],
   "source": []
  }
 ],
 "metadata": {
  "kernelspec": {
   "display_name": "Python 3 (ipykernel)",
   "language": "python",
   "name": "python3"
  },
  "language_info": {
   "codemirror_mode": {
    "name": "ipython",
    "version": 3
   },
   "file_extension": ".py",
   "mimetype": "text/x-python",
   "name": "python",
   "nbconvert_exporter": "python",
   "pygments_lexer": "ipython3",
   "version": "3.10.9"
  }
 },
 "nbformat": 4,
 "nbformat_minor": 4
}