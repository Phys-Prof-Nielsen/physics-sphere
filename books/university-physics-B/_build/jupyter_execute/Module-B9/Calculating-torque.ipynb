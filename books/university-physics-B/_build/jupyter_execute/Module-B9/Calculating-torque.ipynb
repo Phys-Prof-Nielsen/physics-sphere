{
 "cells": [
  {
   "cell_type": "markdown",
   "metadata": {},
   "source": [
    "# B9.2 Calculating Torque - Point Particle \n",
    "<hr style=\"height:2px;border-width:0;color:gray;background-color:gray\">"
   ]
  },
  {
   "cell_type": "markdown",
   "metadata": {},
   "source": [
    "## B9.2.1 Motivation\n",
    "\n",
    "In *B9.1 Rotational Force - Point Particle* we introduced the **concepts** and **concept equations**. In order to apply them, we often need to be able to calculate the torques due to various forces on a particle (or object for that matter).\n",
    "\n",
    "<hr style=\"height:2px;border-width:0;color:gray;background-color:gray\">"
   ]
  },
  {
   "cell_type": "markdown",
   "metadata": {},
   "source": [
    "## B9.2.2 Net Torque in terms of Net Force\n",
    "\n",
    "We will start with Newton's 2nd law of rotational motion (see Equation 4 in previous note), but in vector form:\n",
    "\n",
    "<div class=\"alert alert-success\">\n",
    "    \n",
    "$$  \\vec{\\tau}_{net} = \\frac{d\\vec{l}}{dt}$$\n",
    "</div>\n",
    "\n",
    "If we insert the definition of orbital angular momentum on point particle into the above equation, we have\n",
    "\n",
    "$$  \\vec{\\tau}_{net} = \\frac{d({\\vec{r} \\times \\vec{p}})}{dt}$$\n",
    "\n",
    "Apply the product rule for derivatives:\n",
    "\n",
    "$$  \\vec{\\tau}_{net} = \\vec{r} \\times \\frac{d\\vec{p}}{dt} + \\frac{d\\vec{r}}{dt}\\times \\vec{p}$$\n",
    "\n",
    "Since $\\frac{d\\vec{r}}{dt} = \\vec{v}$ and $\\vec{p} = m\\vec{v}$, the second term on the right side is a cross-product between the same velocity vector ($\\vec{v}\\times\\vec{v}$) and is therefore zero. We then have\n",
    "\n",
    "$$  \\vec{\\tau}_{net} = \\vec{r} \\times \\frac{d\\vec{p}}{dt}$$\n",
    "\n",
    "The derivaitve is simply the net force acting on the particle:\n",
    "\n",
    "<div class=\"alert alert-success\">\n",
    "    \n",
    "$$  \\vec{\\tau}_{net} = \\vec{r} \\times \\vec{f}_{net} \\tag{1}$$\n",
    "</div>\n",
    "    \n",
    "Equation (1) is useful when we have direct knowledge about the net force applied to the particle instead of knowledge of its change in motion. However, Equation (1) goes beyond the net force as we will see in the next section.\n",
    "<hr style=\"height:2px;border-width:0;color:gray;background-color:gray\">"
   ]
  },
  {
   "cell_type": "markdown",
   "metadata": {},
   "source": [
    "## B9.2.3 Torque due to Individual Forces\n",
    "Let us write Equation (1) slightly different using summation notation:\n",
    "\n",
    "$$  \\vec{\\tau}_{net} = \\vec{r} \\times \\sum_{i=1}^{N}\\vec{f}_{i} $$\n",
    "\n",
    "where we are summing over each indiviual force acting on the particle. We can distribut the cross product:\n",
    "\n",
    "$$  \\vec{\\tau}_{net} =  \\sum_{i=1}^{N}\\vec{r} \\times\\vec{f}_{i} $$\n",
    "\n",
    "The term we are summing over can be interpretated as the torque due to a single force acting on the particle:\n",
    "\n",
    "$$  \\vec{\\tau}_{net} =  \\sum_{i=1}^{N}\\vec{\\tau}_{i} $$\n",
    "\n",
    "and we identify the **torque acting on a point particle due to a single force** as\n",
    "\n",
    "<div class=\"alert alert-success\">\n",
    "    \n",
    "$$  \\vec{\\tau} =  \\vec{r} \\times\\vec{f} \\tag{2}$$\n",
    "</div>\n",
    "\n",
    "<div class=\"alert alert-info\">\n",
    "    \n",
    "It is very important to understand the difference between Equations (1) and (2). They look very similar but their meanings are different! It is the difference between individual vs. net torques. \n",
    "    </div>\n",
    "    \n",
    "<div class=\"alert alert-danger\">\n",
    "We are free to choose about which point to find the torque on a particle. If we understand $\\vec{r}$ as being the position vector, then the point of which we find the torque is the origin. If we want to find it about a different point, we simply shift the coordinate system to put the origin at that location and re-calculate the new position vector.\n",
    "    \n",
    "</div>\n",
    "    \n",
    "<div class=\"alert alert-info\">\n",
    "    \n",
    "The point of which we find the torque is often referred to as the **pivot point**.\n",
    "</div>\n",
    "    \n",
    "<hr style=\"height:2px;border-width:0;color:gray;background-color:gray\">"
   ]
  },
  {
   "cell_type": "markdown",
   "metadata": {},
   "source": [
    "<div style=\"background-color: #D0D0D0 ; padding: 10px; border: 1px solid black;\">       \n",
    "<header>\n",
    "<h3> Example 1</h3>\n",
    "    </header>\n",
    "    \n",
    "A point particle is located at $x = 3.0$ m and a force $f = 2.0$ N is acting on the particle in a direction of the positive x-axis as shown in the Figure below.\n",
    "\n",
    "<img src=\"B9.2-fig2.png\" width=\"400\">\n",
    "\n",
    "Find the torque on the particle around the orgin due to the applied force.\n",
    "\n",
    "**Solution**\n",
    "    \n",
    "First, we recognize that the position vector is the directed line segment from the POI to the point of interaction. We also recognize that the position vector and force vector are parallel. Using the geometric definition of the cross product, we have for the magnitude of the torque:\n",
    "\n",
    "$$ \\tau = rf\\sin\\theta $$\n",
    "\n",
    "Inserting our numbers:\n",
    "\n",
    "$$ \\tau = (3.0)(2.0)\\sin(0^\\circ) = 0~\\textrm{Nm}$$\n",
    "\n",
    "There is no torque, and the particle will not experience an angular acceleration due to this force, but will simply experience a linear acceleration.\n",
    "</div>\n",
    "<hr style=\"height:2px;border-width:0;color:gray;background-color:gray\">"
   ]
  },
  {
   "cell_type": "markdown",
   "metadata": {},
   "source": [
    "<div style=\"background-color: #D0D0D0 ; padding: 10px; border: 1px solid black;\">       \n",
    "<header>\n",
    "<h3> Example 2</h3>\n",
    "    </header>\n",
    "    \n",
    "Consider the same particle as in Example 1, but now the direction of the applide force is along the +y-direction.\n",
    "    \n",
    "<img src=\"B9.2-fig3.png\" width=\"300\">\n",
    "\n",
    "In this case, we have for the magnitude of the torque around the origin:\n",
    "\n",
    "$$ \\tau = rf\\sin\\theta $$\n",
    "\n",
    "Inserting our numbers:\n",
    "\n",
    "$$ \\tau = (3.0)(2.0)\\sin(90^\\circ) = 6.0~\\textrm{Nm}$$\n",
    "\n",
    "The direction is obtained by using the right-hand rule and yields a torque in the direction of the positive z-axis. Our final answer is:\n",
    "\n",
    "$$ \\vec{\\tau} = (6.0~\\textrm{Nm})~\\hat{k} $$\n",
    "\n",
    "NOTE: the torque is along the z-axis since the particle will experience a change in rotational motion around the z-axis (its motin is in the xy-plane, rotating around the z-axis).\n",
    "</div>\n",
    "<hr style=\"height:2px;border-width:0;color:gray;background-color:gray\">"
   ]
  },
  {
   "cell_type": "markdown",
   "metadata": {},
   "source": [
    "<div class=\"alert alert-warning\">\n",
    "<b>Box 1</b><br>\n",
    "    \n",
    "A point particle is located at $x = 3.0$ m and a force $f = 2.0$ N is acting on the particle. The force is directed as shown in Example 2 above.\n",
    "\n",
    "1. Find the torque on the particle due to the force around the point x = 3.0 m.\n",
    "2. Find the torque on the particle due to the force around the point y = 4.0 m.\n",
    "3. Find the torque on the particle due to the force around the point (x,y) = (1.0 m, 1.0 m).\n",
    "\n",
    "</div>\n",
    "\n",
    "<hr style=\"height:2px;border-width:0;color:gray;background-color:gray\">"
   ]
  },
  {
   "cell_type": "markdown",
   "metadata": {},
   "source": [
    "<div class=\"alert alert-warning\">\n",
    "<b>Box 2</b><br>\n",
    "    \n",
    "A point particle is located at $(x,y,z) = (3.0,2.0,-1.0)$ m and a force $\\vec{f} = (0.0 ,2.0,3.0)$ N is acting on the particle. \n",
    "\n",
    "1. Find the torque on the particle due to the force around the origin.\n",
    "2. Find the torque on the particle due to the force around the point y = 4.0 m.\n",
    "3. Find the torque on the particle due to the force around the point (x,y) = (1.0 m, 1.0 m).\n",
    "\n",
    "</div>\n",
    "\n",
    "<hr style=\"height:2px;border-width:0;color:gray;background-color:gray\">"
   ]
  },
  {
   "cell_type": "markdown",
   "metadata": {},
   "source": [
    "<div class=\"alert alert-warning\">\n",
    "<b>Box 3</b><br>\n",
    "    \n",
    "A point particle is located at a position given by $\\vec{r}$ and subject to a force $\\vec{F}$ in the three scenarios shown below.\n",
    "    \n",
    "<img src=\"B9.2-fig4.png\" width=\"600\">\n",
    "    \n",
    "Rank the torque around the origin from smallest to largest.\n",
    " </div> \n",
    " \n",
    "<hr style=\"height:2px;border-width:0;color:gray;background-color:gray\">"
   ]
  },
  {
   "cell_type": "markdown",
   "metadata": {},
   "source": [
    "<div class=\"alert alert-warning\">\n",
    "<b>Box 4</b><br>\n",
    "    \n",
    "A point particle is located at a position given by $\\vec{r}$ and subject to a force $\\vec{F}$ in the three scenarios shown below.\n",
    "    \n",
    "<img src=\"B9.2-fig5.png\" width=\"600\">\n",
    "    \n",
    "Rank the torque around the origin from smallest to largest.\n",
    " </div> \n",
    " \n",
    "<hr style=\"height:2px;border-width:0;color:gray;background-color:gray\">"
   ]
  },
  {
   "cell_type": "markdown",
   "metadata": {},
   "source": [
    "<div class=\"alert alert-warning\">\n",
    "<b>Box 5</b><br>\n",
    "    \n",
    "The four forces shown all have the same magnitude: F1 = F2 = F3 = F4. Which force produces the greatest torque about the point O (marked by the blue dot)?\n",
    "\n",
    "<img src=\"B9.2-fig6.png\" width=\"300\" style=\"background-color:black\">\n",
    " </div> \n",
    " \n",
    "<hr style=\"height:2px;border-width:0;color:gray;background-color:gray\">"
   ]
  },
  {
   "cell_type": "markdown",
   "metadata": {},
   "source": [
    "<div class=\"alert alert-warning\">\n",
    "<b>Box 6</b><br>\n",
    "    \n",
    "Which of the four forces shown here produces a torque about O that is directed out of the plane of the drawing?\n",
    "\n",
    "<img src=\"B9.2-fig6.png\" width=\"300\" style=\"background-color:black\">\n",
    " </div> \n",
    " \n",
    "<hr style=\"height:2px;border-width:0;color:gray;background-color:gray\">"
   ]
  },
  {
   "cell_type": "markdown",
   "metadata": {},
   "source": [
    "## B9.2.4 The Lever Arm\n",
    "\n",
    "In engineering, the torque is sometimes referred to as the **moment**, but this is not the time to ridicule engineers. Another term that is often used in engineering and may be familar to you is the **lever arm**. The lever arm is the **perpendicular vector component directed line segment from the pivot point (or POI) to the point of interaction**. If we denote $\\vec{r}_\\perp$ as the lever arm, then the magnitude of the torque around a pivot point acting on a particle due to an interaction $\\vec{f}$ is\n",
    "\n",
    "$$ \\tau = r_\\perp f $$\n",
    "\n",
    "since the angle between the two vectors is $90^\\circ$.\n",
    "\n",
    "<hr style=\"height:2px;border-width:0;color:gray;background-color:gray\">"
   ]
  },
  {
   "cell_type": "markdown",
   "metadata": {},
   "source": [
    "<div class=\"alert alert-warning\">\n",
    "<b>Box 7</b><br>\n",
    "    \n",
    "A force F acts on the particle shown, which dashed line represents the magnitude of the lever arm component vector for the force about\n",
    "point O?\n",
    "    \n",
    "<img src=\"B9.2-fig7.png\" width=\"300\" style=\"background-color:gray\">\n",
    " </div> \n",
    " \n",
    "<hr style=\"height:2px;border-width:0;color:gray;background-color:gray\">"
   ]
  }
 ],
 "metadata": {
  "kernelspec": {
   "display_name": "Python 3 (ipykernel)",
   "language": "python",
   "name": "python3"
  },
  "language_info": {
   "codemirror_mode": {
    "name": "ipython",
    "version": 3
   },
   "file_extension": ".py",
   "mimetype": "text/x-python",
   "name": "python",
   "nbconvert_exporter": "python",
   "pygments_lexer": "ipython3",
   "version": "3.10.9"
  }
 },
 "nbformat": 4,
 "nbformat_minor": 4
}