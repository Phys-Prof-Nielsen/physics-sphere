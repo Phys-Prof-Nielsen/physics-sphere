{
 "cells": [
  {
   "cell_type": "markdown",
   "metadata": {},
   "source": [
    "# B9.1 Rotational Force - Point Particle \n",
    "<hr style=\"height:2px;border-width:0;color:gray;background-color:gray\">"
   ]
  },
  {
   "cell_type": "markdown",
   "metadata": {},
   "source": [
    "## B9.1.1 Motivation\n",
    "\n",
    "The net force we discussed previously were responsible for producing a **linear** acceleration of a particle or an object. Therefore, it is sometimes referred to as **linear force**. The counterpart for causing a **rotational** (or angular) acceleration of a point particle or an object is known as the **torque** and is sometimes referred to as a **rotational force** \n",
    "\n",
    "In these notes, we will see how we can introduce the torque and explore the similarities as well as differences to our linear equivalence.\n",
    "\n",
    "<hr style=\"height:2px;border-width:0;color:gray;background-color:gray\">"
   ]
  },
  {
   "cell_type": "markdown",
   "metadata": {},
   "source": [
    "##  B9.1.2 Rotational Impulse-Momentum Theorem\n",
    "\n",
    "In the linear momentum case, we saw that momentum itself was not that interesting. Instead, it was the **change in momentum** that was of greater interest. Such a change required an interaction on the object in form of a **linear net force** and the change in linear momentum was calculated in form of the **impulse-momentum theorem**. Similarly, a change in **orbital rotational (angular) momentum** of a point particle requires a **net rotational force**. Such a rotational force is called **torque**.\n",
    "\n",
    "The **average net rotational interaction** (or torque), $\\tau_{net,z}$ acting during a time interval on a point particle will cause a **change in rotational momentum**.\n",
    "\n",
    "As in previous section, we restrict our discussion to a single component of the angular momentum, say the z-component. **The impulse-momentum theorem for a point particle then states**:\n",
    "\n",
    "### Differential Form\n",
    "\n",
    "<div class=\"alert alert-success\">\n",
    "       \n",
    "$$ dl_z = \\tau_{net,z}dt \\tag{1}$$\n",
    "</div>\n",
    "\n",
    "### Integral Form\n",
    "\n",
    "<div class=\"alert alert-success\">\n",
    "       \n",
    "$$ \\Delta l_z = \\int_{t_1}^{t_2}\\tau_{net,z}dt \\tag{2}$$\n",
    "</div>\n",
    "\n",
    "### Algebraic Form\n",
    "If the net torque is constant with time, we have\n",
    "\n",
    "<div class=\"alert alert-success\">\n",
    "    \n",
    "$$ \\Delta l_z = \\tau_{net,av,z}\\Delta t \\tag{3}$$\n",
    "</div>\n",
    "\n",
    "\n",
    "<hr style=\"height:2px;border-width:0;color:gray;background-color:gray\">"
   ]
  },
  {
   "cell_type": "markdown",
   "metadata": {},
   "source": [
    "<div style=\"background-color: #D0D0D0 ; padding: 10px; border: 1px solid black;\">       \n",
    "<header>\n",
    "<h3> Example 1</h3>\n",
    "    </header>\n",
    "    \n",
    "Consider a 0.1 kg point particle moving in a circular motion around the z-axis with a radius 0.5 m and with an initial angular speed of 2.0 rad/s. It is subject to a constant net torque of 8.0 Nm. What is its angular speed after 5 s?\n",
    "\n",
    "**Solution**\n",
    "    \n",
    "The angular impulse during the 5 s is:\n",
    "\n",
    "$$ \\Delta l_z = \\tau_{net,av,z}\\Delta t $$\n",
    "\n",
    "$$ \\Delta l_z = (8.0)(5) = 40~\\textrm{kgm$^2$/s} $$\n",
    "\n",
    "The angular impulse is the change in angular momentum: $l_{z,2} - l_{z,1}$. Since the abgular momentum for a particle in circular motion is $l_z = mr^{2}\\omega_z$, where we identfy $r$ as being the radius of the circular motion, we get\n",
    "\n",
    "$$ l_{z,2} - l_{z,1} = 40$$\n",
    "\n",
    "$$ mr^2_{2}\\omega_{z,2} - mr^2_{1}\\omega_{z,1} = 40 $$\n",
    "\n",
    "Solving for $\\omega_{z,2}$:\n",
    "\n",
    "$$ \\omega_{z,2}  = \\frac{40 +  mr^2_{1}\\omega_{z,1}}{mr^2_{2}}$$\n",
    "\n",
    "and inserting the numbers:\n",
    "\n",
    "$$ \\omega_{z,2}  = \\frac{(40) +  (0.1)(0.5)^2(2.0)}{(0.1)(0.5)^2} = 1600~\\textrm{rad/s}$$\n",
    "</div>\n",
    "<hr style=\"height:2px;border-width:0;color:gray;background-color:gray\">"
   ]
  },
  {
   "cell_type": "markdown",
   "metadata": {},
   "source": [
    "## B9.1.3 Graphical Interpretation\n",
    "\n",
    "Equation ((2) inform us that we can draw a similar conclusion to the graphical relationship between net torque and angular impulse as linear force and linear impulse:\n",
    "\n",
    "<div class=\"alert alert-info\">\n",
    "    \n",
    "Net torque vs time graph: The area bounded by the net torque graph and time axis is the angular impulse  \n",
    "</div>\n",
    "\n",
    "<hr style=\"height:2px;border-width:0;color:gray;background-color:gray\">"
   ]
  },
  {
   "cell_type": "markdown",
   "metadata": {},
   "source": [
    "## B9.1.4 Newton's Second Law for a Point Particle\n",
    "\n",
    "In an analogous approach to the linear case, we can formulate **Newtons second law for rotational motion**:\n",
    "\n",
    "<div class=\"alert alert-success\">\n",
    "    \n",
    "$$  \\tau_{net,z} = \\frac{dl_z}{dt} \\tag{4}$$\n",
    "</div>\n",
    "\n",
    "where $\\tau_{net,z}$ is now the **instantaneous** net torque. For a particle with constant moment of inertia, we have\n",
    "\n",
    "<hr style=\"height:2px;border-width:0;color:gray;background-color:gray\">"
   ]
  }
 ],
 "metadata": {
  "kernelspec": {
   "display_name": "Python 3 (ipykernel)",
   "language": "python",
   "name": "python3"
  },
  "language_info": {
   "codemirror_mode": {
    "name": "ipython",
    "version": 3
   },
   "file_extension": ".py",
   "mimetype": "text/x-python",
   "name": "python",
   "nbconvert_exporter": "python",
   "pygments_lexer": "ipython3",
   "version": "3.10.9"
  }
 },
 "nbformat": 4,
 "nbformat_minor": 4
}