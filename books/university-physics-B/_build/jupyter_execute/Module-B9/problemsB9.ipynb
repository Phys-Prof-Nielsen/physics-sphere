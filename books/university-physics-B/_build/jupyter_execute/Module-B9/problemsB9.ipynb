{
 "cells": [
  {
   "cell_type": "markdown",
   "metadata": {},
   "source": [
    "# B9.x Problems\n",
    "<hr style=\"height:2px;border-width:0;color:gray;background-color:gray\">"
   ]
  },
  {
   "cell_type": "markdown",
   "metadata": {},
   "source": [
    "<h2>Problem B9.1</h2>\n",
    "    </header>\n",
    "\n",
    "A flywheel (I = 50.0 kgm$^2$) starting from rest acquires an angular velocity of +200.0 rad/s while subject to a constant torque from a motor for 5.0 s. \n",
    "\n",
    "1. What is the angular acceleration of the flywheel? \n",
    "2. What is the torque?\n",
    "\n",
    "\n",
    "This problem is a slightly modified version from OpenStax. Access for free at [https://openstax.org/books/university-physics-volume-1/pages/10-problems](https://openstax.org/books/university-physics-volume-1/pages/10-problems)"
   ]
  },
  {
   "cell_type": "code",
   "execution_count": 1,
   "metadata": {
    "tags": [
     "hide-input",
     "hide-output"
    ]
   },
   "outputs": [
    {
     "name": "stdout",
     "output_type": "stream",
     "text": [
      "Angular acceleration: 40.0\n"
     ]
    }
   ],
   "source": [
    "%reset -f\n",
    "#----------------\n",
    "# Part 1\n",
    "#----------------\n",
    "w0 = 0.0\n",
    "w1 = 200.0\n",
    "dt = 5.0\n",
    "\n",
    "alpha = (w1 - w0)/dt\n",
    "\n",
    "print('Angular acceleration: '+str(alpha))\n",
    "\n",
    "#----------------\n",
    "# Part 2\n",
    "#----------------\n",
    "I = 50.0\n",
    "\n",
    "T = I*alpha\n",
    "\n"
   ]
  },
  {
   "cell_type": "markdown",
   "metadata": {},
   "source": [
    "<hr style=\"height:2px;border-width:0;color:gray;background-color:gray\">"
   ]
  },
  {
   "cell_type": "markdown",
   "metadata": {},
   "source": [
    "<h2>Problem B9.2</h2>\n",
    "    </header>\n",
    "\n",
    "Suppose you exert a force of 180 N tangential to a 0.280 m radius, 75.0 kg grindstone (a solid disk). \n",
    "\n",
    "1. What magnitude of the torque is exerted? \n",
    "2. What is the magnitude of the angular acceleration assuming negligible opposing friction? \n",
    "3. What is the magnitude of the angular acceleration if there is an opposing frictional force of 50.0 N exerted 1.50 cm from the axis?\n",
    "\n",
    "This problem is a slightly modified version from OpenStax. Access for free at [https://openstax.org/books/university-physics-volume-1/pages/10-problems](https://openstax.org/books/university-physics-volume-1/pages/10-problems)"
   ]
  },
  {
   "cell_type": "code",
   "execution_count": 2,
   "metadata": {
    "tags": [
     "hide-input",
     "hide-output"
    ]
   },
   "outputs": [
    {
     "name": "stdout",
     "output_type": "stream",
     "text": [
      "Torque: 50.400000000000006\n",
      "Angular acceleration: 17.142857142857142\n",
      "Angular acceleration: 16.887755102040817\n"
     ]
    }
   ],
   "source": [
    "%reset -f\n",
    "#----------------\n",
    "# Part 1\n",
    "#----------------\n",
    "F1 = 180.0\n",
    "R1 = 0.280\n",
    "\n",
    "T1 = R1*F1   #angle is 90 degrees\n",
    "print('Torque: '+str(T1))\n",
    "\n",
    "#----------------\n",
    "# Part 2\n",
    "#----------------\n",
    "M = 75.0\n",
    "\n",
    "I = 0.5*M*R1**2\n",
    "\n",
    "A = T1/I\n",
    "print('Angular acceleration: '+str(A))\n",
    "\n",
    "#----------------\n",
    "# Part 3\n",
    "#----------------\n",
    "F2 = 50.0\n",
    "R2 = 0.015\n",
    "T2 = R2*F2\n",
    "\n",
    "T_net = T1 - T2\n",
    "A_net = T_net/I\n",
    "print('Angular acceleration: '+str(A_net))"
   ]
  },
  {
   "cell_type": "markdown",
   "metadata": {},
   "source": [
    "<hr style=\"height:2px;border-width:0;color:gray;background-color:gray\">"
   ]
  },
  {
   "cell_type": "markdown",
   "metadata": {},
   "source": [
    "<h2>Problem B9.3</h2>\n",
    "    </header>\n",
    "\n",
    "A torque of 50.0 Nm is applied to a grinding wheel (I = 20.0 kgm$^2$) for 20.0 s. \n",
    "\n",
    "1. If it starts from rest, what is the magnitude of the angular velocity of the grinding wheel after the torque is removed? \n",
    "2. Through what angle does the wheel move while the torque is applied?\n",
    "\n",
    "This problem is a slightly modified version from OpenStax. Access for free at [https://openstax.org/books/university-physics-volume-1/pages/10-problems](https://openstax.org/books/university-physics-volume-1/pages/10-problems)"
   ]
  },
  {
   "cell_type": "code",
   "execution_count": 3,
   "metadata": {
    "tags": [
     "hide-input",
     "hide-output"
    ]
   },
   "outputs": [
    {
     "name": "stdout",
     "output_type": "stream",
     "text": [
      "Angular speed: 50.0\n",
      "Angular distance (in radians): 500.0\n"
     ]
    }
   ],
   "source": [
    "%reset -f\n",
    "#----------------\n",
    "# Part 1\n",
    "#----------------\n",
    "T = 50.0\n",
    "I = 20.0\n",
    "dt = 20.0\n",
    "w0 = 0.0\n",
    "\n",
    "A = T/I\n",
    "w1 = w0 + A*dt\n",
    "\n",
    "print('Angular speed: '+str(w1))\n",
    "\n",
    "#----------------\n",
    "# Part 2\n",
    "#----------------\n",
    "dtheta = w0*dt + 0.5*A*dt**2\n",
    "\n",
    "print('Angular distance (in radians): '+str(dtheta))"
   ]
  },
  {
   "cell_type": "markdown",
   "metadata": {},
   "source": [
    "<hr style=\"height:2px;border-width:0;color:gray;background-color:gray\">"
   ]
  },
  {
   "cell_type": "markdown",
   "metadata": {},
   "source": [
    "<h2>Problem B9.4</h2>\n",
    "    </header>\n",
    "\n",
    "A uniform cylindrical grinding wheel of mass 50.0 kg and diameter 1.0 m is turned on by an electric motor. The friction in the bearings is negligible. \n",
    "\n",
    "1. What torque must be applied to the wheel to bring it from rest to +120.0 rev/min in 20.0 revolutions? \n",
    "2. A tool whose coefficient of kinetic friction with the wheel is 0.60 is pressed perpendicularly against the wheel with a force of 40.0 N. What torque must be supplied by the motor to keep the wheel rotating at a constant angular velocity?\n",
    "\n",
    "This problem is a slightly modified version from OpenStax. Access for free at [https://openstax.org/books/university-physics-volume-1/pages/10-problems](https://openstax.org/books/university-physics-volume-1/pages/10-problems)"
   ]
  },
  {
   "cell_type": "code",
   "execution_count": 4,
   "metadata": {
    "tags": [
     "hide-input",
     "hide-output"
    ]
   },
   "outputs": [
    {
     "name": "stdout",
     "output_type": "stream",
     "text": [
      "Torque: 15.70796326794896\n",
      "Applied Torque: 24.0\n"
     ]
    }
   ],
   "source": [
    "%reset -f\n",
    "import numpy as np\n",
    "\n",
    "#----------------\n",
    "# Part 1\n",
    "#----------------\n",
    "M = 50.0\n",
    "R = 1.0\n",
    "w0 = 0.0\n",
    "w1 = (120.0)*(2*np.pi/1.0)*(1.0/60.0) \n",
    "dtheta = (20.0)*(2*np.pi)\n",
    "\n",
    "I = 0.5*M*R**2\n",
    "A = (w1**2 - w0**2)/(2*dtheta)\n",
    "\n",
    "T = I*A\n",
    "\n",
    "print('Torque: '+str(T))\n",
    "\n",
    "#----------------\n",
    "# Part 2\n",
    "#----------------\n",
    "# applied torque must counter the frictional torque \n",
    "\n",
    "F2 = 40.0\n",
    "mu = 0.60\n",
    "\n",
    "Ff = mu*F2\n",
    "Tf = R*Ff\n",
    "\n",
    "print('Applied Torque: '+str(Tf))"
   ]
  },
  {
   "cell_type": "markdown",
   "metadata": {},
   "source": [
    "<hr style=\"height:2px;border-width:0;color:gray;background-color:gray\">"
   ]
  },
  {
   "cell_type": "markdown",
   "metadata": {},
   "source": [
    "<h2>Problem B9.5</h2>\n",
    "    </header>\n",
    "\n",
    "A pulley of moment of inertia 2.0 kgm$^2$ is mounted on a wall as shown in the following figure. Light strings are wrapped around two circumferences of the pulley and weights are attached. Assume the following data:  $r_1 = 50.0~\\textrm{cm}$, $r_2 = 20.0~\\textrm{cm}$, $m_1 = 1.0~\\textrm{kg}$, and $m_2 = 2.0~\\textrm{kg}$, what are \n",
    "\n",
    "1. the angular acceleration of the pulley?\n",
    "2. the linear acceleration of the weights? \n",
    "\n",
    "<img src=\"P9.4.png\" width=\"300\">\n",
    "\n",
    "This problem is a slightly modified version from OpenStax. Access for free at [https://openstax.org/books/university-physics-volume-1/pages/10-problems](https://openstax.org/books/university-physics-volume-1/pages/10-problems)"
   ]
  },
  {
   "cell_type": "code",
   "execution_count": 5,
   "metadata": {
    "tags": [
     "hide-input",
     "hide-output"
    ]
   },
   "outputs": [
    {
     "name": "stdout",
     "output_type": "stream",
     "text": [
      "{A1: -0.210515021459227, A2: -0.0842060085836910, F_T1: 9.59948497854077, F_T2: 19.7884120171674, A: -0.421030042918455}\n"
     ]
    }
   ],
   "source": [
    "%reset -f\n",
    "import sympy as sym\n",
    "\n",
    "I = 2.0\n",
    "R1 = 0.500\n",
    "R2 = 0.200\n",
    "M1 = 1.0\n",
    "M2 = 2.0\n",
    "g = 9.81\n",
    "\n",
    "#unknowns\n",
    "A1 = sym.Symbol('A1')\n",
    "A2 = sym.Symbol('A2')\n",
    "F_T1 = sym.Symbol('F_T1')\n",
    "F_T2 = sym.Symbol('F_T2')\n",
    "A = sym.Symbol('A')\n",
    "\n",
    "# Positive up for 1, CW for pulley, down for 2\n",
    "#linear N2 on blocks\n",
    "eq1 = M1*A1 - F_T1 + M1*g\n",
    "eq2 = M2*A2 + F_T2 - M2*g\n",
    "\n",
    "#rotational N2 on pulley\n",
    "eq3 = I*A + F_T1*R1 - F_T2*R2\n",
    "\n",
    "#relating accelerations\n",
    "eq4 = A1 - R1*A\n",
    "eq5 = A2 - R2*A\n",
    "\n",
    "sol = sym.solve((eq1,eq2,eq3,eq4,eq5),(A1,A2,F_T1,F_T2,A))\n",
    "\n",
    "print(sol)"
   ]
  },
  {
   "cell_type": "markdown",
   "metadata": {},
   "source": [
    "<hr style=\"height:2px;border-width:0;color:gray;background-color:gray\">"
   ]
  }
 ],
 "metadata": {
  "celltoolbar": "Tags",
  "kernelspec": {
   "display_name": "Python 3 (ipykernel)",
   "language": "python",
   "name": "python3"
  },
  "language_info": {
   "codemirror_mode": {
    "name": "ipython",
    "version": 3
   },
   "file_extension": ".py",
   "mimetype": "text/x-python",
   "name": "python",
   "nbconvert_exporter": "python",
   "pygments_lexer": "ipython3",
   "version": "3.9.12"
  }
 },
 "nbformat": 4,
 "nbformat_minor": 4
}