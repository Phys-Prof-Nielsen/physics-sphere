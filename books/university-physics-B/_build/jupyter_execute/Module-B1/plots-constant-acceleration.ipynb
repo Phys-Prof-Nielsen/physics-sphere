{
 "cells": [
  {
   "cell_type": "markdown",
   "metadata": {},
   "source": [
    "# B1.3 Plots with Constant Acceleration\n",
    "<hr style=\"height:2px;border-width:0;color:gray;background-color:gray\">"
   ]
  },
  {
   "cell_type": "markdown",
   "metadata": {},
   "source": [
    "## B1.3.1 Summary from Previous Note\n",
    "In previous note, we considered position and velocity plots vs. time. We found the following:\n",
    "\n",
    "1. The slope of the position vs. time graph is the average velocity between the data points used to calculate the slope.\n",
    "2. The area bound by the velocity vs. time graph and the time axis (at v = 0) is the displacement.\n",
    "\n",
    "These two observations are expressed mathematically trough\n",
    "\n",
    "$$ v_{av,x} = \\frac{\\Delta x}{\\Delta t} $$\n",
    "\n",
    "and\n",
    "\n",
    "$$ \\Delta x = v_{av,x}\\Delta t $$\n",
    "\n",
    "Since we have the following relationships between velocity and acceleration:\n",
    "\n",
    "$$ a_{av,x} = \\frac{\\Delta v_x}{\\Delta t} $$\n",
    "\n",
    "and\n",
    "\n",
    "$$ \\Delta v_x = a_{av,x}\\Delta t $$\n",
    "\n",
    "we can conclude a similar relationship\n",
    "\n",
    "<div class=\"alert alert-success\">\n",
    "    \n",
    "1. The slope of the velocity vs. time graph is the average acceleration between the data points used to calculate the slope.\n",
    "2. The area bound by the acceleration vs. time graph and the time axis (at v = 0) is the change in velocity.\n",
    "</div>"
   ]
  },
  {
   "cell_type": "markdown",
   "metadata": {},
   "source": [
    "## B1.3.2 Zero Acceleration\n",
    "The simplest case we can have is an object experiencing zero acceleration (I guess it would be an object at rest, but it would be trivial as both acceleration and velocity would be zero and position would remain fixed).\n",
    "\n",
    "In this example, we will consider the kinematics of an object over a time interval $t = [0~\\textrm{s},10~\\textrm{s}]$ with an initial velocity of 5.0 m/s and initial position of x = 20.0 m. We will start out plotting the acceleraion: "
   ]
  },
  {
   "cell_type": "code",
   "execution_count": 1,
   "metadata": {
    "scrolled": false,
    "tags": [
     "hide-input"
    ]
   },
   "outputs": [
    {
     "data": {
      "image/png": "[encoded data removed]",
      "text/plain": [
       "<Figure size 432x288 with 1 Axes>"
      ]
     },
     "metadata": {
      "needs_background": "light"
     },
     "output_type": "display_data"
    }
   ],
   "source": [
    "import numpy as np\n",
    "import matplotlib.pyplot as plt\n",
    "\n",
    "%matplotlib inline\n",
    "\n",
    "t = np.arange(0,10.1,0.1)\n",
    "a = np.zeros(len(t))\n",
    "\n",
    "plt.figure()\n",
    "plt.ylabel('Acceleration (m/s$^2$)')\n",
    "plt.xlabel('Time (s)')\n",
    "ax = plt.gca()\n",
    "ax.plot(t,a,'-',color='r', linewidth = 5)\n",
    "ax.set_xlim([0, np.max(t)+0.5])\n",
    "ax.set_ylim([0, np.max(a)+5])\n",
    "\n",
    "plt.show()"
   ]
  },
  {
   "cell_type": "markdown",
   "metadata": {},
   "source": [
    "Not a very exciting graph as it is zero throughout the interval. The next step will be the velocity graph. We know the following:\n",
    "\n",
    "* the area bounded by the acceleration graph and the horizontal time axis represents the **change in velocity**.\n",
    "\n",
    "Since this area is zero in our example, we must conclude that there is no change in velocity, or in other words, the velocity is constant. So let us plot a velocity graph that satisfy the above statement:"
   ]
  },
  {
   "cell_type": "code",
   "execution_count": 2,
   "metadata": {
    "tags": [
     "hide-input"
    ]
   },
   "outputs": [
    {
     "data": {
      "image/png": "[encoded data removed]",
      "text/plain": [
       "<Figure size 432x288 with 1 Axes>"
      ]
     },
     "metadata": {
      "needs_background": "light"
     },
     "output_type": "display_data"
    }
   ],
   "source": [
    "import numpy as np\n",
    "import matplotlib.pyplot as plt\n",
    "\n",
    "%matplotlib inline\n",
    "\n",
    "t = np.arange(0,10.1,0.1)\n",
    "v = 2.0*np.ones(len(t))\n",
    "\n",
    "plt.figure()\n",
    "plt.ylabel('Velocity (m/s)')\n",
    "plt.xlabel('Time (s)')\n",
    "ax = plt.gca()\n",
    "ax.plot(t,v,'--',color='b', linewidth=3)\n",
    "ax.set_xlim([0, np.max(t)+0.5])\n",
    "ax.set_ylim([0, np.max(v)+3])\n",
    "\n",
    "plt.show()"
   ]
  },
  {
   "cell_type": "markdown",
   "metadata": {},
   "source": [
    "The two graph does satisfy our the mathematical relationship between velocity and acceleration:\n",
    "\n",
    "* the slope of the velocity graph is the acceleration: it is zero &#10003;\n",
    "* the area bounded between the acceleration graph and the horizontal time axis is the change in velocity: it is zero &#10003;\n",
    "\n",
    "**However, the velocity graph does not satisfy the physics in the example. Our initial velocity is not 2.0 m/s (it is 5.0 m/s)**. \n",
    " \n",
    "<div class=\"alert alert-danger\">\n",
    "    \n",
    "The acceleration graph cannot inform us about <b>where</b> to put the velocity graph, it can only inform us of the shape of the graph!\n",
    "</div>\n",
    "    \n",
    "To find out **where** the graph should be located, we must apply the equation of kinematics that relate velocity and acceleration (constant acceleration):\n",
    "\n",
    "$$ v_{x}(t) = v_{0x} + a_{x}t $$\n",
    "\n",
    "With $a_x = 0$ m/s$^2$, we get that \n",
    "\n",
    "$$ v_{x}(t) =  v_{0x} $$\n",
    "\n",
    "which shows that the velocity is constant. If we use our initial condition given in the problem ($v_{0x} = +5.0$ m/s), we get\n",
    "\n",
    "$$ v_{x}(t) = 5.0~\\textrm{m/s} $$\n",
    "\n",
    "We can now make our correct velocity plot:\n",
    "\n",
    "<hr style=\"height:2px;border-width:0;color:gray;background-color:gray\">"
   ]
  },
  {
   "cell_type": "code",
   "execution_count": 3,
   "metadata": {
    "tags": [
     "hide-input"
    ]
   },
   "outputs": [
    {
     "data": {
      "image/png": "[encoded data removed]",
      "text/plain": [
       "<Figure size 432x288 with 1 Axes>"
      ]
     },
     "metadata": {
      "needs_background": "light"
     },
     "output_type": "display_data"
    }
   ],
   "source": [
    "import numpy as np\n",
    "import matplotlib.pyplot as plt\n",
    "\n",
    "%matplotlib inline\n",
    "\n",
    "t = np.arange(0,10.1,0.1)\n",
    "v = 5.0*np.ones(len(t))\n",
    "\n",
    "plt.figure()\n",
    "plt.ylabel('Velocity (m/s)')\n",
    "plt.xlabel('Time (s)')\n",
    "ax = plt.gca()\n",
    "ax.plot(t,v,'-',color='b', linewidth = 3)\n",
    "ax.set_xlim([0, np.max(t)+0.5])\n",
    "ax.set_ylim([0, np.max(v)+3])\n",
    "\n",
    "plt.show()"
   ]
  },
  {
   "cell_type": "markdown",
   "metadata": {},
   "source": [
    "We now move onto the position graph. We know the following:\n",
    "\n",
    "* the area bounded by the velcoity graph and the horizontal axis represents the **change** in position (also known as the displacement).\n",
    "\n",
    "In our example, this is represented by a rectangle with sides $10$ s and $5.0$ m/s. The area is\n",
    "\n",
    "$$\\textrm{Area} = (10)(+5.0) = +50 ~\\textrm{m} $$\n",
    "\n",
    "Notice that the unit of this area is in meters, as it should be for it to represent the displacement. Hence, we know that the position is changing by +50 m over the time period of 10 seconds. Let us naively plot that:"
   ]
  },
  {
   "cell_type": "code",
   "execution_count": 4,
   "metadata": {
    "tags": [
     "hide-input"
    ]
   },
   "outputs": [
    {
     "data": {
      "image/png": "[encoded data removed]",
      "text/plain": [
       "<Figure size 432x288 with 1 Axes>"
      ]
     },
     "metadata": {
      "needs_background": "light"
     },
     "output_type": "display_data"
    }
   ],
   "source": [
    "import numpy as np\n",
    "import matplotlib.pyplot as plt\n",
    "\n",
    "%matplotlib inline\n",
    "\n",
    "t = np.arange(0,10.1,0.1)\n",
    "x = 5.0*t\n",
    "\n",
    "plt.figure()\n",
    "plt.ylabel('Position (m)')\n",
    "plt.xlabel('Time (s)')\n",
    "ax = plt.gca()\n",
    "ax.plot(t,x,'--',color='g', linewidth = 3)\n",
    "ax.set_xlim([0, np.max(t)+0.5])\n",
    "ax.set_ylim([0, np.max(x)+3])\n",
    "\n",
    "plt.show()"
   ]
  },
  {
   "cell_type": "markdown",
   "metadata": {},
   "source": [
    "Just as was the case with the acceleration/velocity relationship, this graph does satisfy our the mathematical relationship between position and velocity: \n",
    "\n",
    "* the slope of the position graph is the average velocity: +5.0 m/s &#10003;\n",
    "* the area bounded between the velocity graph and the horizontal time axis is the change in position (displacement): +50 m &#10003;\n",
    "\n",
    "**However, it does not satisfy the physics in the example. Our initial position is not 0 m (it is 20.0 m)**. \n",
    " \n",
    "<div class=\"alert alert-danger\">\n",
    "    \n",
    "The velocity graph cannot inform us about <b>where</b> to put the position graph, it can only inform us of the shape of the graph!\n",
    "</div>\n",
    "    \n",
    "To find out **where** the graph should be located, we must apply the relationship between position and velocity (constant velocity):\n",
    "\n",
    "$$ x(t) = x_0 + v_{x}t $$\n",
    "\n",
    "With $v_x = 5.0$ m/s and $x_0 = 20.0$ m (initial conditions given in the example), we have: \n",
    "\n",
    "$$ x(t) =  20.0 + 5.0t $$\n",
    "\n",
    "which is a straight line with a x-intercept at 20.0 m and a slope of 5.0 m/s.\n",
    "\n",
    "We can now make our correct position plot:"
   ]
  },
  {
   "cell_type": "code",
   "execution_count": 5,
   "metadata": {
    "tags": [
     "hide-input"
    ]
   },
   "outputs": [
    {
     "data": {
      "image/png": "[encoded data removed]",
      "text/plain": [
       "<Figure size 432x288 with 1 Axes>"
      ]
     },
     "metadata": {
      "needs_background": "light"
     },
     "output_type": "display_data"
    }
   ],
   "source": [
    "import numpy as np\n",
    "import matplotlib.pyplot as plt\n",
    "\n",
    "%matplotlib inline\n",
    "\n",
    "t = np.arange(0,10.1,0.1)\n",
    "x = 5.0*t + 20.0\n",
    "\n",
    "plt.figure()\n",
    "plt.ylabel('Position (m)')\n",
    "plt.xlabel('Time (s)')\n",
    "ax = plt.gca()\n",
    "ax.plot(t,x,'-',color='g', linewidth=3)\n",
    "ax.set_xlim([0, np.max(t)+0.5])\n",
    "ax.set_ylim([0, np.max(x)+3])\n",
    "\n",
    "plt.show()"
   ]
  },
  {
   "cell_type": "markdown",
   "metadata": {},
   "source": [
    "###  Summary\n",
    "In conclusion:\n",
    "\n",
    "* we see that a non-stationary object subject to a zero acceleration exhibit a straight line in a position vs. time plot, and a horizontal line in a velocity vs. time plot. \n",
    "* the slope of the position vs. time dictates the shape AND location of the velocity vs. time graph (in this example: shape = constant (or horizontal) and location = 5.0 m/s.\n",
    "* the slope of the velocity vs. time dictates the shape AND location of the acceleration vs. time graph (in this example: shape = constant (or horizontal) and location = 0.0 m/s.\n",
    "* the area bounded by the acceleration graph and the time axis dictates the shape but NOT the location of the velocity graph.\n",
    "* the area bounded by the velocity graph and the time axis dictates the shape but NOT the location of the position graph.\n",
    "\n",
    "<hr style=\"height:2px;border-width:0;color:gray;background-color:gray\">"
   ]
  },
  {
   "cell_type": "markdown",
   "metadata": {},
   "source": [
    "## B1.3.3 Non-zero Constant Acceleration\n",
    "The next simplest case we can have is an object experiencing a constant non-zero acceleration.\n",
    "\n",
    "In this example, we will consider the kinematics of an object over a time interval $t = [0~\\textrm{s},10~\\textrm{s}]$ with an initial velocity of 5.00 m/s, initial position of x = 20.0 m, and a constant acceleration of 10.0 m/s$^2$. We will start out plotting the acceleraion:"
   ]
  },
  {
   "cell_type": "code",
   "execution_count": 6,
   "metadata": {
    "tags": [
     "hide-input"
    ]
   },
   "outputs": [
    {
     "data": {
      "image/png": "[encoded data removed]",
      "text/plain": [
       "<Figure size 432x288 with 1 Axes>"
      ]
     },
     "metadata": {
      "needs_background": "light"
     },
     "output_type": "display_data"
    }
   ],
   "source": [
    "import numpy as np\n",
    "import matplotlib.pyplot as plt\n",
    "\n",
    "%matplotlib inline\n",
    "\n",
    "t = np.arange(0,10.1,0.1)\n",
    "a = 10.0*np.ones(len(t))\n",
    "\n",
    "plt.figure()\n",
    "plt.ylabel('Acceleration (m/s$^2$)')\n",
    "plt.xlabel('Time (s)')\n",
    "ax = plt.gca()\n",
    "ax.plot(t,a,'-',color='r', linewidth=3)\n",
    "ax.set_xlim([0, np.max(t)+0.5])\n",
    "ax.set_ylim([0, np.max(a)+5])\n",
    "\n",
    "plt.show()"
   ]
  },
  {
   "cell_type": "markdown",
   "metadata": {},
   "source": [
    "The area bounded by the acceleration graph and the time axis is the **change** in velocity. The area is\n",
    "\n",
    "$$ \\textrm{Area} = \\Delta v_x = a_x t = (+10.0~\\textrm{m/s}^2)(10~\\textrm{s}) = +100~\\textrm{m/s}$$\n",
    " \n",
    "Similar to the previous case, we notice that this result does not provide us with enough information to create the graph for the specific problem. However, adding the initial velocity information given, we have enough information to create the correct velocity vs. time graph: it must change by 100 m/s over 10 s, and it must start at v = +5.00 m/s at t = 0 s, that is, its equation must be:\n",
    "\n",
    "$$ v_x(t) = v_{x,0} + a_{x}t $$\n",
    "\n",
    "$$ v_x(t) = 5.00 + 10.0t $$\n",
    "\n",
    "Let's plot it!"
   ]
  },
  {
   "cell_type": "code",
   "execution_count": 7,
   "metadata": {
    "tags": [
     "hide-input"
    ]
   },
   "outputs": [
    {
     "data": {
      "image/png": "[encoded data removed]",
      "text/plain": [
       "<Figure size 432x288 with 1 Axes>"
      ]
     },
     "metadata": {
      "needs_background": "light"
     },
     "output_type": "display_data"
    }
   ],
   "source": [
    "import numpy as np\n",
    "import matplotlib.pyplot as plt\n",
    "\n",
    "%matplotlib inline\n",
    "\n",
    "t = np.arange(0,10.1,0.1)\n",
    "v = 5.0 + 10.0*t\n",
    "\n",
    "plt.figure()\n",
    "plt.ylabel('Velocity (m/s)')\n",
    "plt.xlabel('Time (s)')\n",
    "ax = plt.gca()\n",
    "ax.plot(t,v,'-',color='b', linewidth=3)\n",
    "ax.set_xlim([0, np.max(t)+0.5])\n",
    "ax.set_ylim([0, np.max(v)+3])\n",
    "\n",
    "plt.show()"
   ]
  },
  {
   "cell_type": "markdown",
   "metadata": {},
   "source": [
    "The area under the velocity vs. time graph represents the displacement (or change in position):\n",
    "\n",
    "$$ \\textrm{Area} = \\Delta x $$\n",
    "\n",
    "We can find the area by breaking it into to parts: a rectangle with length $t = 10$ s and heigth $v_{x,0} = +5.00$ m/s, and a triangle with base $t = 10$ s and height $\\Delta v_x = +100$ m/s. I want to write this out explicitly with the variables first and the reason will become clear, I hope :)\n",
    "\n",
    "$$ \\Delta x =  v_{x,0}t + \\frac{1}{2}\\Delta v_x t$$\n",
    "\n",
    "From the acceleration graph, we determined that the area was $\\Delta v_x = a_x t$. If we insert this into the area for the velocity vs. time graph, we get:\n",
    "\n",
    "$$ \\Delta x =  v_{x,0}t + \\frac{1}{2}(a_x t) t$$\n",
    "\n",
    "$$ \\Delta x =  v_{x,0}t + \\frac{1}{2}a_{x}t^2$$\n",
    "\n",
    "which is exactly the most famous equation of kinematics that we used in Phase C. How cool is that? &#128526;\n",
    "\n",
    "Inserting our numbers, we have for the displacement:\n",
    "\n",
    "$$ \\Delta x =  (+5.00)(10) + \\frac{1}{2}(+100)(10) = 550~\\textrm{m}$$\n",
    "\n",
    "Again, this only tells us the change in position, not where we are starting from and without an initial condition, we can not determine the specific graph. The initial position at t = 0 s is given to be 20.0 m, and with that final piece of the puzzle, we can create our specific position vs. time graph as the analytic position is\n",
    "\n",
    "$$ x(t)  = x_0 +  v_{x,0}t + \\frac{1}{2}a_{x}t^2$$\n",
    "\n",
    "$$ x(t) = 20.0 + 5.00t + \\frac{1}{2}10.0t^2 $$"
   ]
  },
  {
   "cell_type": "code",
   "execution_count": 8,
   "metadata": {
    "tags": [
     "hide-input"
    ]
   },
   "outputs": [
    {
     "data": {
      "image/png": "[encoded data removed]",
      "text/plain": [
       "<Figure size 432x288 with 1 Axes>"
      ]
     },
     "metadata": {
      "needs_background": "light"
     },
     "output_type": "display_data"
    }
   ],
   "source": [
    "import numpy as np\n",
    "import matplotlib.pyplot as plt\n",
    "\n",
    "%matplotlib inline\n",
    "\n",
    "t = np.arange(0,10.1,0.1)\n",
    "x = 20.0 + 5.0*t + 0.5*10.0*t**2\n",
    "\n",
    "plt.figure()\n",
    "plt.ylabel('Position (m)')\n",
    "plt.xlabel('Time (s)')\n",
    "ax = plt.gca()\n",
    "ax.plot(t,x,'-',color='g',linewidth=3)\n",
    "ax.set_xlim([0, np.max(t)+0.5])\n",
    "ax.set_ylim([0, np.max(x)+5])\n",
    "\n",
    "plt.show()"
   ]
  },
  {
   "cell_type": "markdown",
   "metadata": {},
   "source": [
    "The summary from previous case applies here as well. We can start from the position graph and, in principle, fully determine the velocy graph, and then the acceleration graph.\n",
    "\n",
    "### Non-constant Acceleration\n",
    "The approaches from above are the same, however, we may have more difficulties with visualizing the graphs in the same manner as above. We are very familiar with horizontal, straight, and even parabolas, but after that we tend to struggle as it is not something we are used to. \n",
    "\n",
    "<hr style=\"height:2px;border-width:0;color:gray;background-color:gray\">"
   ]
  },
  {
   "cell_type": "markdown",
   "metadata": {},
   "source": [
    "<div style=\"background-color: #D0D0D0 ; padding: 10px; border: 1px solid black;\">       \n",
    "<header>\n",
    "<h3> Example 1</h3>\n",
    "    </header>\n",
    "    \n",
    "Consider the velocity function shown below (using the Python script).\n",
    "Answer the following questions:\n",
    "    \n",
    "1. What is the initial velocity?\n",
    "2. What is the acceleration?\n",
    "3. What is the displacement?\n",
    "4. What is the position of the object at t = 10 s?\n",
    "5. What is the analytic equation of the velocity?\n",
    "</div>"
   ]
  },
  {
   "cell_type": "code",
   "execution_count": 9,
   "metadata": {
    "tags": [
     "hide-input"
    ]
   },
   "outputs": [
    {
     "data": {
      "image/png": "[encoded data removed]",
      "text/plain": [
       "<Figure size 432x288 with 1 Axes>"
      ]
     },
     "metadata": {
      "needs_background": "light"
     },
     "output_type": "display_data"
    }
   ],
   "source": [
    "import numpy as np\n",
    "import matplotlib.pyplot as plt\n",
    "\n",
    "%matplotlib inline\n",
    "\n",
    "t = np.arange(0,10.1,0.1)\n",
    "v = 50 - 10.0*t\n",
    "\n",
    "plt.figure()\n",
    "plt.ylabel('Velocity (m/s)')\n",
    "plt.xlabel('Time (s)')\n",
    "ax = plt.gca()\n",
    "ax.plot(t,v,'-',color='r', linewidth = 3)\n",
    "ax.set_xlim([0, np.max(t)+0.5])\n",
    "ax.set_ylim([np.min(v), np.max(v)])\n",
    "\n",
    "ax.hlines(0, 0, 10, colors='k', linestyles='dotted')\n",
    "\n",
    "\n",
    "plt.show()"
   ]
  },
  {
   "cell_type": "markdown",
   "metadata": {},
   "source": [
    "<div style=\"background-color: #D0D0D0 ; padding: 10px; border: 1px solid black;\"> \n",
    "\n",
    "**Solution**\n",
    "    \n",
    "1. The initial velocity is the velocity of the object at t = 0 s. From the graph, we see that the initial velocity is +50 m/s.\n",
    "2. The acceleration is the slope of the velocity vs. time graph. The slope is constant and equal to -10 m/s$^2$.\n",
    "3. The displacement is the area bounded between the velocity graph and the time axis. In this case, the area, and displacement, is 0 m. Reason: consider the two triangles bounded by the graph and the time axis: one is positive area (+125 m) while the other represents a negative area (-125 m) with a total of zero! We can also look at it this way. The object is starting out with a speed of 50 m/s moving in the positive direction, but slowing down. At t = 5 s, it reverses its direction and speeds up to 50 m/s after an additional 5 s. Hence, the object will be back at its starting position!\n",
    "4. Oh, this is a trick one again! The velocity vs. time graph can only say something aboout the displacement. Since we do NOT know anything about the initial position, we can not say anything about the final position either!\n",
    "5. Since we have a constant acceleration: \n",
    "    \n",
    "$$v(t) = v_{x,0} + a_{x}t $$\n",
    "\n",
    "$$ v(t) = 50 - 10t $$\n",
    "\n",
    "</div>\n",
    "<hr style=\"height:2px;border-width:0;color:gray;background-color:gray\">"
   ]
  },
  {
   "cell_type": "markdown",
   "metadata": {},
   "source": [
    "<div class=\"alert alert-warning\">\n",
    "<b>Box 1</b><br>\n",
    "    \n",
    "Consider the velocity graph below and answer the following questions:\n",
    "\n",
    "1. What is the initial velocity?\n",
    "2. What is the acceleration?\n",
    "3. What is the displacement?\n",
    "4. What is the position of the object at t = 10 s?\n",
    "5. What is the position of the object at t = 0 s?\n",
    "6. What is the analytic equation of the velocity? \n",
    "    \n",
    "</div>"
   ]
  },
  {
   "cell_type": "code",
   "execution_count": 10,
   "metadata": {
    "tags": [
     "hide-input"
    ]
   },
   "outputs": [
    {
     "data": {
      "image/png": "[encoded data removed]",
      "text/plain": [
       "<Figure size 432x288 with 1 Axes>"
      ]
     },
     "metadata": {
      "needs_background": "light"
     },
     "output_type": "display_data"
    }
   ],
   "source": [
    "import numpy as np\n",
    "import matplotlib.pyplot as plt\n",
    "\n",
    "%matplotlib inline\n",
    "\n",
    "t = np.arange(0,10.1,0.1)\n",
    "v = -50 + 10.0*t\n",
    "\n",
    "plt.figure()\n",
    "plt.ylabel('Velocity (m/s)')\n",
    "plt.xlabel('Time (s)')\n",
    "ax = plt.gca()\n",
    "ax.plot(t,v,'-',color='r', linewidth=3)\n",
    "ax.set_xlim([0, np.max(t)+0.5])\n",
    "ax.set_ylim([np.min(v), np.max(v)])\n",
    "\n",
    "ax.hlines(0, 0, 10, colors='k', linestyles='dotted')\n",
    "\n",
    "\n",
    "plt.show()"
   ]
  },
  {
   "cell_type": "markdown",
   "metadata": {},
   "source": [
    "<hr style=\"height:2px;border-width:0;color:gray;background-color:gray\">"
   ]
  },
  {
   "cell_type": "markdown",
   "metadata": {},
   "source": [
    "<div class=\"alert alert-warning\">\n",
    "<b>Box 2</b><br>\n",
    "    \n",
    "Consider the position graph below and answer the following questions:\n",
    "\n",
    "1. What is the initial position?\n",
    "2. What is the velocity?\n",
    "3. What is the acceleration?\n",
    "4. What is the displacement?\n",
    "5. What is the analytic equation of the position? \n",
    "\n",
    "</div>"
   ]
  },
  {
   "cell_type": "code",
   "execution_count": 11,
   "metadata": {
    "tags": [
     "hide-input"
    ]
   },
   "outputs": [
    {
     "data": {
      "image/png": "[encoded data removed]",
      "text/plain": [
       "<Figure size 432x288 with 1 Axes>"
      ]
     },
     "metadata": {
      "needs_background": "light"
     },
     "output_type": "display_data"
    }
   ],
   "source": [
    "import numpy as np\n",
    "import matplotlib.pyplot as plt\n",
    "\n",
    "%matplotlib inline\n",
    "\n",
    "t = np.arange(0,10.1,0.1)\n",
    "x = -5 + 2.0*t\n",
    "\n",
    "plt.figure()\n",
    "plt.ylabel('Position (m)')\n",
    "plt.xlabel('Time (s)')\n",
    "ax = plt.gca()\n",
    "ax.plot(t,x,'-',color='r',linewidth=3)\n",
    "ax.set_xlim([0, np.max(t)+0.5])\n",
    "ax.set_ylim([np.min(x), np.max(x)])\n",
    "\n",
    "ax.hlines(0, 0, 10, colors='k', linestyles='dotted')\n",
    "\n",
    "\n",
    "plt.show()"
   ]
  },
  {
   "cell_type": "markdown",
   "metadata": {},
   "source": [
    "<hr style=\"height:2px;border-width:0;color:gray;background-color:gray\">"
   ]
  },
  {
   "cell_type": "markdown",
   "metadata": {},
   "source": [
    "<div class=\"alert alert-warning\">\n",
    "<b>Box 3</b><br>\n",
    "    \n",
    "Consider the acceleration graph below and answer the following questions:\n",
    "\n",
    "1. What is the change in velocity?\n",
    "2. What is the velocity at t = 10 s?\n",
    "3. What shape does the velocity vs. time graph have?\n",
    "4. What is the displacement?\n",
    "5. What shape does the position vs. time graph have? \n",
    "    \n",
    "</div>"
   ]
  },
  {
   "cell_type": "code",
   "execution_count": 12,
   "metadata": {
    "tags": [
     "hide-input"
    ]
   },
   "outputs": [
    {
     "data": {
      "image/png": "[encoded data removed]",
      "text/plain": [
       "<Figure size 432x288 with 1 Axes>"
      ]
     },
     "metadata": {
      "needs_background": "light"
     },
     "output_type": "display_data"
    }
   ],
   "source": [
    "import numpy as np\n",
    "import matplotlib.pyplot as plt\n",
    "\n",
    "%matplotlib inline\n",
    "\n",
    "t = np.arange(0,10.1,0.1)\n",
    "a = -10*np.ones(len(t))\n",
    "\n",
    "plt.figure()\n",
    "plt.ylabel('Acceleration (m/s$^2$)')\n",
    "plt.xlabel('Time (s)')\n",
    "ax = plt.gca()\n",
    "ax.plot(t,a,'-',color='r', linewidth=3)\n",
    "ax.set_xlim([0, np.max(t)+0.5])\n",
    "ax.set_ylim([-12, 5])\n",
    "\n",
    "ax.hlines(0, 0, 10.5, colors='k', linestyles='dotted')\n",
    "\n",
    "\n",
    "plt.show()"
   ]
  },
  {
   "cell_type": "markdown",
   "metadata": {},
   "source": [
    "<hr style=\"height:2px;border-width:0;color:gray;background-color:gray\">"
   ]
  }
 ],
 "metadata": {
  "celltoolbar": "Tags",
  "kernelspec": {
   "display_name": "Python 3 (ipykernel)",
   "language": "python",
   "name": "python3"
  },
  "language_info": {
   "codemirror_mode": {
    "name": "ipython",
    "version": 3
   },
   "file_extension": ".py",
   "mimetype": "text/x-python",
   "name": "python",
   "nbconvert_exporter": "python",
   "pygments_lexer": "ipython3",
   "version": "3.9.12"
  }
 },
 "nbformat": 4,
 "nbformat_minor": 4
}