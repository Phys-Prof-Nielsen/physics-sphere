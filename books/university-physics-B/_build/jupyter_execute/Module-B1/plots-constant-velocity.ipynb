{
 "cells": [
  {
   "cell_type": "markdown",
   "metadata": {},
   "source": [
    "# B1.2 Plots with Constant Velocities\n",
    "<hr style=\"height:2px;border-width:0;color:gray;background-color:gray\">"
   ]
  },
  {
   "cell_type": "markdown",
   "metadata": {},
   "source": [
    "In the following, we will consider motion, or segments of motion, with constant velocity (or zero acceleration).\n",
    "<hr style=\"height:2px;border-width:0;color:gray;background-color:gray\">"
   ]
  },
  {
   "cell_type": "markdown",
   "metadata": {},
   "source": [
    "## B1.2.1 Graphical Representation: Position vs. Time\n",
    "Imagine we are observing an object moving along a straight line and at certain times we measure the object's position and input them into a table:\n",
    "\n",
    "| Position (m) | Time (s) |\n",
    "| ------------ | -------- |\n",
    "| $ x_0 = 10 $ | $t_0 = 0$ |\n",
    "| $ x_1 = 20 $ | $t_1 = 1$ |\n",
    "| $ x_2 = 50 $ | $t_2 = 2$ |\n",
    "| $ x_3 = 40$ | $t_3 = 3$ |\n",
    "| $ x_4 = 40 $ | $t_4 = 4$ |\n",
    "| $ x_5 = 25 $ | $t_5 = 5$ |\n",
    "| $ x_6 = -10 $ | $t_6 = 6$ |\n",
    "| $ x_7 = 5 $ | $t_7 = 7$ |\n",
    "\n",
    "We say that each measurement is an **event**. \n",
    "\n",
    "In principle we could have thousands or more events and looking through a table to make sense of the data would be an impossible task. Instead, let us employ Python and plot it:"
   ]
  },
  {
   "cell_type": "code",
   "execution_count": 1,
   "metadata": {
    "scrolled": false,
    "tags": [
     "hide-input"
    ]
   },
   "outputs": [
    {
     "data": {
      "image/png": "[encoded data removed]",
      "text/plain": [
       "<Figure size 432x288 with 1 Axes>"
      ]
     },
     "metadata": {
      "needs_background": "light"
     },
     "output_type": "display_data"
    }
   ],
   "source": [
    "import numpy as np\n",
    "import matplotlib.pyplot as plt\n",
    "\n",
    "%matplotlib inline\n",
    "\n",
    "t = [0,1,2,3,4,5,6,7]\n",
    "x = [10,20,50,40,40,25,-10,5]\n",
    "\n",
    "plt.figure()\n",
    "plt.ylabel('x-position (m)')\n",
    "plt.xlabel('Time (s)')\n",
    "ax = plt.gca()\n",
    "ax.scatter(t,x)\n",
    "ax.set_xlim([-0.5, np.max(t)+0.5])\n",
    "ax.set_ylim([np.min(x)-5, np.max(x)+5])\n",
    "plt.show()"
   ]
  },
  {
   "cell_type": "markdown",
   "metadata": {},
   "source": [
    "<div class=\"alert alert-danger\">\n",
    "We may be tempted to connect the data points. However, we have absolutely no knowledge of the position between the measured times, so if we connect the data points, we make some assumption about the position and may lead somebody else to the false conclusion that we have knowledge of the whereabouts when we are not taking a measurements.\n",
    "</div>\n",
    "\n",
    "Of course, we often make some qualified guesses based on physics, e.g., if we **assume constant velocity** between the data points, then we can connect the data points by straight line segments.\n",
    "\n",
    "<hr style=\"height:2px;border-width:0;color:gray;background-color:gray\">"
   ]
  },
  {
   "cell_type": "markdown",
   "metadata": {},
   "source": [
    "## B1.2.2 Velocity from Position vs. Time Graph\n",
    "\n",
    "We can attempt to calculate the average velocity as well by calculating the displacement and elapsed time between each event:"
   ]
  },
  {
   "cell_type": "code",
   "execution_count": 2,
   "metadata": {
    "tags": [
     "hide-input"
    ]
   },
   "outputs": [
    {
     "name": "stdout",
     "output_type": "stream",
     "text": [
      "[10.0, 30.0, -10.0, 0.0, -15.0, -35.0, 15.0]\n"
     ]
    }
   ],
   "source": [
    "import numpy as np\n",
    "import matplotlib.pyplot as plt\n",
    "\n",
    "%matplotlib inline\n",
    "\n",
    "t = [0,1,2,3,4,5,6,7]\n",
    "x = [10,20,50,40,40,25,-10,5]\n",
    "\n",
    "vx = []\n",
    "#find the average velocity between events\n",
    "for i in range(len(t)-1):\n",
    "    dx = x[i+1] - x[i]   #finding the difference in position between events: displacement\n",
    "    dt = t[i+1] - t[i]     #finding the elapsed time between events (of course, it is just 1 s in this example)\n",
    "    \n",
    "    v = dx/dt\n",
    "    vx.append(v)\n",
    "    \n",
    "print(vx)"
   ]
  },
  {
   "cell_type": "markdown",
   "metadata": {},
   "source": [
    "In the last step of the code, I asked it to print the values of the calculated average velocities. We notice that we only have 7 average velocities while we have 8 data position data points (8 data points implies 7 intervals). These average velocities are representative of the **average velocities between the measured postions**. How would we plot that? The most appropriate way is to plot the average velocity as horizontal segments spanning the elapsed time intervals:"
   ]
  },
  {
   "cell_type": "code",
   "execution_count": 3,
   "metadata": {
    "tags": [
     "hide-input"
    ]
   },
   "outputs": [
    {
     "data": {
      "image/png": "[encoded data removed]",
      "text/plain": [
       "<Figure size 432x288 with 1 Axes>"
      ]
     },
     "metadata": {
      "needs_background": "light"
     },
     "output_type": "display_data"
    }
   ],
   "source": [
    "import numpy as np\n",
    "import matplotlib.pyplot as plt\n",
    "\n",
    "%matplotlib inline\n",
    "\n",
    "t = [0,1,2,3,4,5,6,7]\n",
    "x = [10,20,50,40,40,25,-10,5]\n",
    "\n",
    "plt.figure()\n",
    "plt.ylabel('Average Velocity (m/s)')\n",
    "plt.xlabel('Time (s)')\n",
    "ax = plt.gca()\n",
    "\n",
    "vx = []\n",
    "#find the average velocity between events\n",
    "for i in range(len(t)-1):\n",
    "    dx = x[i+1] - x[i]   #finding the difference in position between events: displacement\n",
    "    dt = t[i+1] - t[i]     #finding the elapsed time between events (of course, it is just 1 s in this example)\n",
    "    \n",
    "    v = dx/dt\n",
    "    vx.append(v)\n",
    "    \n",
    "    ax.plot([t[i],t[i+1]],[v,v],color = 'r')\n",
    "    \n",
    "ax.set_xlim([-0.5, np.max(t)+0.5])\n",
    "ax.set_ylim([np.min(vx)-5, np.max(vx)+5])\n",
    "ax.grid()\n",
    "plt.show()"
   ]
  },
  {
   "cell_type": "markdown",
   "metadata": {},
   "source": [
    "Let us try and put these two plots on the same \"page\" and connect the position data points with stright segments (we are now assuming a constant velocity between the two):"
   ]
  },
  {
   "cell_type": "code",
   "execution_count": 4,
   "metadata": {
    "tags": [
     "hide-input"
    ]
   },
   "outputs": [
    {
     "data": {
      "image/png": "[encoded data removed]",
      "text/plain": [
       "<Figure size 720x720 with 2 Axes>"
      ]
     },
     "metadata": {
      "needs_background": "light"
     },
     "output_type": "display_data"
    }
   ],
   "source": [
    "import numpy as np\n",
    "import matplotlib.pyplot as plt\n",
    "\n",
    "%matplotlib inline\n",
    "\n",
    "t = [0,1,2,3,4,5,6,7]\n",
    "x = [10,20,50,40,40,25,-10,5]\n",
    "\n",
    "fig, (ax1,ax2) = plt.subplots(2,figsize=(10,10))\n",
    "\n",
    "ax1.set(ylabel='x-position (m)', xlabel='Time (s)')\n",
    "\n",
    "ax1.plot(t,x,'-o')\n",
    "ax1.set_xlim([-0.5, np.max(t)+0.5])\n",
    "ax1.set_ylim([np.min(x)-5, np.max(x)+5])\n",
    "ax1.grid()\n",
    "\n",
    "ax2.set(ylabel='Average Velocity (m/s)',xlabel='Time (s)')\n",
    "\n",
    "vx = []\n",
    "#find the average velocity between events\n",
    "for i in range(len(t)-1):\n",
    "    dx = x[i+1] - x[i]   #finding the difference in position between events: displacement\n",
    "    dt = t[i+1] - t[i]     #finding the elapsed time between events (of course, it is just 1 s in this example)\n",
    "    \n",
    "    v = dx/dt\n",
    "    vx.append(v)\n",
    "    \n",
    "    ax2.plot([t[i],t[i+1]],[v,v],color = 'r')\n",
    "    \n",
    "ax2.set_xlim([-0.5, np.max(t)+0.5])\n",
    "ax2.set_ylim([np.min(vx)-5, np.max(vx)+5])\n",
    "ax2.grid()\n",
    "plt.show()"
   ]
  },
  {
   "cell_type": "markdown",
   "metadata": {},
   "source": [
    "The observant student may recognize that the average velocity across a time interval is the equivalent of the slope of the corresponding segment in the position vs time graph. This is a direct consequence of the definition:\n",
    "\n",
    "$$ v_{av,x} = \\frac{\\Delta x}{\\Delta t} $$\n",
    "\n",
    "as it is the same as *rise over run*. \n",
    "\n",
    "<div class=\"alert alert-success\">\n",
    "The average slope between two data points of the position vs. time graph is the average velocity between the two points.\n",
    "</div>\n",
    "\n",
    "<hr style=\"height:2px;border-width:0;color:gray;background-color:gray\">"
   ]
  },
  {
   "cell_type": "markdown",
   "metadata": {},
   "source": [
    "## B1.2.3 Displacement from Velocity vs. Time Graph\n",
    "\n",
    "Let us consider the velocity vs. time graph in more detail. In the plot below, the zero-velocity line is emphasized. In addition, the focus will be on the rectangle shown. "
   ]
  },
  {
   "cell_type": "code",
   "execution_count": 5,
   "metadata": {
    "tags": [
     "hide-input"
    ]
   },
   "outputs": [
    {
     "data": {
      "image/png": "[encoded data removed]",
      "text/plain": [
       "<Figure size 432x288 with 1 Axes>"
      ]
     },
     "metadata": {
      "needs_background": "light"
     },
     "output_type": "display_data"
    }
   ],
   "source": [
    "import numpy as np\n",
    "import matplotlib.pyplot as plt\n",
    "from matplotlib.patches import Rectangle\n",
    "\n",
    "%matplotlib inline\n",
    "\n",
    "t = [0,1,2,3,4,5,6,7]\n",
    "x = [10,20,50,40,40,25,-10,5]\n",
    "\n",
    "plt.figure()\n",
    "plt.ylabel('Average Velocity (m/s)')\n",
    "plt.xlabel('Time (s)')\n",
    "ax = plt.gca()\n",
    "ax.axhline(y=0, xmin=0.0, xmax=7, color='k', linewidth=3)\n",
    "\n",
    "vx = []\n",
    "#find the average velocity between events\n",
    "for i in range(len(t)-1):\n",
    "    dx = x[i+1] - x[i]   #finding the difference in position between events: displacement\n",
    "    dt = t[i+1] - t[i]     #finding the elapsed time between events (of course, it is just 1 s in this example)\n",
    "    \n",
    "    v = dx/dt\n",
    "    vx.append(v)\n",
    "    \n",
    "    ax.plot([t[i],t[i+1]],[v,v],color = 'r')\n",
    "    \n",
    "ax.add_patch(Rectangle((0, 0), 1, 10, color='grey'))\n",
    "ax.set_xlim([-0.5, np.max(t)+0.5])\n",
    "ax.set_ylim([np.min(vx)-5, np.max(vx)+5])\n",
    "ax.grid()\n",
    "plt.show()"
   ]
  },
  {
   "cell_type": "markdown",
   "metadata": {},
   "source": [
    "The area of the rectangle is\n",
    "\n",
    "$$ \\textrm{Area} = (1~\\textrm{s})(10~\\textrm{m/s}) = +10~\\textrm{m} $$\n",
    "\n",
    "The rectangle has unit of meter and we recognize that the numeric value corresponds to the **displacement** on the position vs. time graph. This may not be a complete surprise as we have\n",
    "\n",
    "$$ \\Delta x = v\\Delta t $$\n",
    "\n",
    "which is exactly the calculation for the area above. Similarly, the rectangel spanning from 1 s to 2 s will give a displacement of +30 m in agreement with the position vs. time graph. \n",
    "\n",
    "In general, we have\n",
    "\n",
    "<div class=\"alert alert-success\">\n",
    "    \n",
    "The area bound by the velocity vs. time graph and the time axis at v = 0 is the displacement.\n",
    "</div>\n",
    "\n",
    "<hr style=\"height:2px;border-width:0;color:gray;background-color:gray\">"
   ]
  },
  {
   "cell_type": "markdown",
   "metadata": {},
   "source": [
    "<div class=\"alert alert-warning\">\n",
    "<b>Box 1</b><br>\n",
    "    \n",
    "Consider the graph below, determine the average velocity for the following time intervals: \n",
    "    \n",
    "1. 0-5 s\n",
    "2. 5-10 s\n",
    "3. 10-15 s\n",
    "4. 15-20 s\n",
    "   \n",
    "</div>"
   ]
  },
  {
   "cell_type": "code",
   "execution_count": 6,
   "metadata": {
    "tags": [
     "hide-input"
    ]
   },
   "outputs": [
    {
     "data": {
      "image/png": "[encoded data removed]",
      "text/plain": [
       "<Figure size 432x288 with 1 Axes>"
      ]
     },
     "metadata": {
      "needs_background": "light"
     },
     "output_type": "display_data"
    }
   ],
   "source": [
    "import numpy as np\n",
    "import matplotlib.pyplot as plt\n",
    "\n",
    "%matplotlib inline\n",
    "\n",
    "t = [0,5,10,15,20]\n",
    "px = [0,20,20,-5,5]\n",
    "\n",
    "plt.figure()\n",
    "plt.ylabel('x-position (m)')\n",
    "plt.xlabel('Time (s)')\n",
    "ax = plt.gca()\n",
    "ax.plot(t,px,'-o')\n",
    "ax.set_xlim([-0.5, np.max(t)+0.5])\n",
    "ax.set_ylim([np.min(px)-5, np.max(px)+5])\n",
    "ax.grid()\n",
    "plt.show()"
   ]
  },
  {
   "cell_type": "markdown",
   "metadata": {},
   "source": [
    "<hr style=\"height:2px;border-width:0;color:gray;background-color:gray\">"
   ]
  },
  {
   "cell_type": "markdown",
   "metadata": {},
   "source": [
    "<div class=\"alert alert-warning\">\n",
    "<b>Box 2</b><br>\n",
    "    \n",
    "In your own words, explain how you would find the average velocity from a position vs. time graph and the displacement from a velocity vs. time graph\n",
    "</div>\n",
    "<hr style=\"height:2px;border-width:0;color:gray;background-color:gray\">"
   ]
  },
  {
   "cell_type": "markdown",
   "metadata": {},
   "source": [
    "<div class=\"alert alert-warning\">\n",
    "<b>Box 3</b><br>\n",
    "    \n",
    "If a segment on a position vs. time graph is flat (horizontal), then the object must be at rest?\n",
    "</div>\n",
    "<hr style=\"height:2px;border-width:0;color:gray;background-color:gray\">"
   ]
  },
  {
   "cell_type": "markdown",
   "metadata": {},
   "source": [
    "<div class=\"alert alert-warning\">\n",
    "<b>Box 4</b><br>\n",
    "    \n",
    "With respect to a given coordinate system, a segment of the position vs. time graph has a negative slope. Does this imply that the velocity is negative and that the object is moving in a negative direction? \n",
    "</div>\n",
    "<hr style=\"height:2px;border-width:0;color:gray;background-color:gray\">"
   ]
  },
  {
   "cell_type": "markdown",
   "metadata": {},
   "source": [
    "<div class=\"alert alert-warning\">\n",
    "<b>Box 5</b><br>\n",
    "    \n",
    "The velocity vs. time graph tells us about the displacement. Without any other information, can we determine the position as well?\n",
    "</div>\n",
    "<hr style=\"height:2px;border-width:0;color:gray;background-color:gray\">"
   ]
  },
  {
   "cell_type": "markdown",
   "metadata": {},
   "source": [
    "We have now seen how the slope of the position vs. time graph represents the average velocity between any given to data points used to calculate the slope. In addition, we also saw how the area bounded by the velocity vs. time graph and the time axis represented the displacement. In the next note, we will see how the acceleration fit into to this picture.\n",
    "\n",
    "<hr style=\"height:2px;border-width:0;color:gray;background-color:gray\">"
   ]
  }
 ],
 "metadata": {
  "celltoolbar": "Tags",
  "kernelspec": {
   "display_name": "Python 3 (ipykernel)",
   "language": "python",
   "name": "python3"
  },
  "language_info": {
   "codemirror_mode": {
    "name": "ipython",
    "version": 3
   },
   "file_extension": ".py",
   "mimetype": "text/x-python",
   "name": "python",
   "nbconvert_exporter": "python",
   "pygments_lexer": "ipython3",
   "version": "3.9.12"
  }
 },
 "nbformat": 4,
 "nbformat_minor": 4
}