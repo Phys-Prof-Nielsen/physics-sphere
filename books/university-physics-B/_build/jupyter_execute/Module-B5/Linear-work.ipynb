{
 "cells": [
  {
   "cell_type": "markdown",
   "metadata": {},
   "source": [
    "# B5.1 Linear Work and Energy \n",
    "<hr style=\"height:2px;border-width:0;color:gray;background-color:gray\">"
   ]
  },
  {
   "cell_type": "markdown",
   "metadata": {},
   "source": [
    "## B5.1.1 Review\n",
    "\n",
    "The energy transfer (or work) done on a particle by a single force acting through a distance is\n",
    "\n",
    "$$ w = \\vec{f}\\cdot\\Delta\\vec{r} $$\n",
    "\n",
    "We can write it in component form as (in 2D)\n",
    "\n",
    "$$ w = f_{x}\\Delta x + f_{y}\\Delta y $$\n",
    "\n",
    "and geometrical form:\n",
    "\n",
    "$$ w = f\\Delta r\\cos\\theta $$\n",
    "\n",
    "### Conservative Forces\n",
    "\n",
    "Conservative forces are characterized by the fact that the work done is the negative of the change in potential energy:\n",
    "\n",
    "$$ \\Delta u = -\\vec{f}_{C}\\cdot\\Delta\\vec{r} \\tag{1}$$\n",
    "\n",
    "It may also be appropriate to refresh our memory what a conservative force is: **the work done by a conservative force along a closed path is zero**.\n",
    "\n",
    "### Non-conservative Forces\n",
    "\n",
    "Non-conservative forces are characterized by the fact that the work done is the change in mechanical energy:\n",
    "\n",
    "$$ \\Delta e = \\vec{f}_{NC}\\cdot\\Delta\\vec{r} \\tag{2}$$\n",
    "\n",
    "### Work-Energy Theorem\n",
    "\n",
    "Finally, we have the **work-energy theorem**, which can be stated in short as\n",
    "\n",
    "$$ w_{net} = \\Delta k $$\n",
    "\n",
    "or written out as\n",
    "\n",
    "$$ \\frac{1}{2}mv_{1}^2 + u_1 + w_{NC} = \\frac{1}{2}mv_{2}^2 + u_2 $$\n",
    "\n",
    "<hr style=\"height:2px;border-width:0;color:gray;background-color:gray\">"
   ]
  },
  {
   "cell_type": "markdown",
   "metadata": {},
   "source": [
    "## B5.1.2  Position-varying Force in 1D\n",
    "\n",
    "In previous module we saw, how we could apply the impulse-momentum theorem in terms of a force varying with time. Sometimes our forces are not known as a function of time, but instead as a function of position. In this scenario, the work-energy theorem is the concept/tool to use. \n",
    "\n",
    "For now we will restrict ourselves to 1D case. In Phase A we will expand to 2D and 3D but need some more calculus tools to do so. In the following, we have\n",
    "\n",
    "$$ \\vec{f} \\rightarrow \\vec{f}(x) $$\n",
    "\n",
    "<hr style=\"height:2px;border-width:0;color:gray;background-color:gray\">"
   ]
  },
  {
   "cell_type": "markdown",
   "metadata": {},
   "source": [
    "## B5.1.3  Calculus Forms\n",
    "\n",
    "In Equations (1) and (2) we simply replace the differences with differentials. \n",
    "\n",
    "### Conservative Forces\n",
    "\n",
    "In 1D component form we have\n",
    "\n",
    "$$ du = -f_{Cx}dx $$\n",
    "\n",
    "This is a differential equation, which is very useful in more advanced physics courses. For our purpose, we restrict ourselves to derivatives and integral versions. \n",
    "\n",
    "The derivative form is\n",
    "\n",
    "<div class=\"alert alert-success\">\n",
    "    \n",
    "$$ f_{Cx} = -\\frac{du}{dx} $$\n",
    "</div>\n",
    "\n",
    "and the integral form is\n",
    "\n",
    "<div class=\"alert alert-success\">\n",
    "    \n",
    "$$ \\Delta u = -\\int_{x_1}^{x_2}f_{Cx}dx $$\n",
    "</div>\n",
    "\n",
    "Since the change in potential energy is the negative work done by the conservative force, we can also write is as\n",
    "\n",
    "<div class=\"alert alert-success\">\n",
    "    \n",
    "$$ w_{C} = \\int_{x_1}^{x_2}f_{Cx}dx $$\n",
    "</div>\n",
    "\n",
    "### Non-conservative Forces\n",
    "\n",
    "In 1D component form we have\n",
    "\n",
    "$$ de = -f_{NCx}dx $$\n",
    "\n",
    "This is a differential equation, which is very useful in more advanced physics courses. For our purpose, we restrict ourselves to derivatives and integral versions. \n",
    "\n",
    "The derivative form is\n",
    "\n",
    "<div class=\"alert alert-success\">\n",
    "    \n",
    "$$ f_{NCx} = -\\frac{de}{dx} $$\n",
    "</div>\n",
    "\n",
    "and the integral form is\n",
    "\n",
    "<div class=\"alert alert-success\">\n",
    "    \n",
    "$$ \\Delta e = -\\int_{x_1}^{x_2}f_{NCx}dx $$\n",
    "</div>\n",
    "\n",
    "Since the change in mechanical energy is the negative work done by the non-conservative force, we can also write is as\n",
    "\n",
    "<div class=\"alert alert-success\">\n",
    "    \n",
    "$$ w_{NC} = \\int_{x_1}^{x_2}f_{NCx}dx $$\n",
    "</div>\n",
    "\n",
    "### General Work\n",
    "\n",
    "<div class=\"alert alert-info\">\n",
    "\n",
    "We notice that the work done by either a conservative or non-conservative force has exactly the same form. It is only when we relate it to energies that there are differences. Hence, for the work only, it may be more convenient to drop the distinction between conservative vs. non-conservative:\n",
    "    \n",
    "$$ w = \\int_{x_1}^{x_2}f_{x}dx $$\n",
    "</div>\n",
    "\n",
    "<hr style=\"height:2px;border-width:0;color:gray;background-color:gray\">"
   ]
  },
  {
   "cell_type": "markdown",
   "metadata": {},
   "source": [
    "<div style=\"background-color: #D0D0D0 ; padding: 10px; border: 1px solid black;\">       \n",
    "<header>\n",
    "<h3> Example 1</h3>\n",
    "    </header>\n",
    "    \n",
    "A force is given by $f_x = [(2.0x + 4.0x^3)]~\\textrm{N}$ and is applied to an object with a mass of 5.00 kg initially at rest. What is the net force done by this force in moving the particle from x = 0.0 m to x = 3.0 m?\n",
    "\n",
    "**Solution**\n",
    "    \n",
    "We have the force given as a function of position and can integrate it to find the work done:\n",
    "    \n",
    "$$ w = \\int_{x_1}^{x_2}f_{x}dx $$\n",
    "    \n",
    "Inserting all our information:\n",
    "    \n",
    "$$ w = \\int_{x_1=0.0}^{x_2=3.0}(2.0x + 4.0x^3)dx $$\n",
    "    \n",
    "Evaluate the integral (using Symbolic Python below):\n",
    "    \n",
    "</div>"
   ]
  },
  {
   "cell_type": "code",
   "execution_count": 1,
   "metadata": {
    "tags": [
     "hide-input"
    ]
   },
   "outputs": [
    {
     "name": "stdout",
     "output_type": "stream",
     "text": [
      "Work = 90.0000000000000\n"
     ]
    }
   ],
   "source": [
    "import sympy as sym\n",
    "\n",
    "#values giving\n",
    "x1 = 0.0\n",
    "x2 = 3.0\n",
    "\n",
    "x = sym.Symbol('x')\n",
    "f = 2.0*x + 4.0*x**3\n",
    "integral = sym.integrate(f,(x,x1,x2))\n",
    "\n",
    "#print only positive and real solution\n",
    "print('Work = '+str(integral))"
   ]
  },
  {
   "cell_type": "markdown",
   "metadata": {},
   "source": [
    "<hr style=\"height:2px;border-width:0;color:gray;background-color:gray\">"
   ]
  },
  {
   "cell_type": "markdown",
   "metadata": {},
   "source": [
    "<div style=\"background-color: #D0D0D0 ; padding: 10px; border: 1px solid black;\">       \n",
    "<header>\n",
    "<h3> Example 2</h3>\n",
    "    </header>\n",
    "    \n",
    "A force is given by $f_x = [-(1.5x + 4.0x^2)]~\\textrm{N}$. Find the potential energy function associated with this force.\n",
    "\n",
    "**Solution**\n",
    "    \n",
    "First, we need to check if the force is conservative. Let us consider the net work going from x = 0.0 m to x = 2.0 m (path 1), and then from x = 2.0 m to x = 0.0 (path 2). I will use Symbolic Python as shown below   \n",
    "</div>"
   ]
  },
  {
   "cell_type": "code",
   "execution_count": 2,
   "metadata": {
    "tags": [
     "hide-input"
    ]
   },
   "outputs": [
    {
     "name": "stdout",
     "output_type": "stream",
     "text": [
      "Net work = 0\n"
     ]
    }
   ],
   "source": [
    "import sympy as sym\n",
    "\n",
    "#values giving\n",
    "x1 = 0.0\n",
    "x2 = 2.0\n",
    "\n",
    "x = sym.Symbol('x')\n",
    "f = -(1.5*x + 4.0*x**2)\n",
    "integral1 = sym.integrate(f,(x,x1,x2))\n",
    "integral2 = sym.integrate(f,(x,x2,x1))\n",
    "#print only positive and real solution\n",
    "print('Net work = '+str(integral1+integral2))"
   ]
  },
  {
   "cell_type": "markdown",
   "metadata": {},
   "source": [
    "<div style=\"background-color: #D0D0D0 ; padding: 10px; border: 1px solid black;\"> \n",
    "It appears that the force is conservative and we will proceed by finding the potential energy from\n",
    "    \n",
    "$$ \\Delta u = -\\int_{x_1}^{x_2}f_{Cx}dx $$\n",
    "</div>"
   ]
  },
  {
   "cell_type": "code",
   "execution_count": 3,
   "metadata": {
    "tags": [
     "hide-input"
    ]
   },
   "outputs": [
    {
     "data": {
      "image/png": "[encoded data removed]",
      "text/latex": [
       "$\\displaystyle \\left\\{ \\int\\limits_{x_{1}}^{x_{2}} \\left(- 4.0 x^{2} - 1.5 x\\right)\\, dx : 1.33333333333333 x_{1}^{3} + 0.75 x_{1}^{2} - 1.33333333333333 x_{2}^{3} - 0.75 x_{2}^{2}\\right\\}$"
      ],
      "text/plain": [
       "⎧x₂                                                                                         \n",
       "⎪⌠                                                                                          \n",
       "⎪⎮  ⎛       2        ⎞                        3          2                      3          2\n",
       "⎨⎮  ⎝- 4.0⋅x  - 1.5⋅x⎠ dx: 1.33333333333333⋅x₁  + 0.75⋅x₁  - 1.33333333333333⋅x₂  - 0.75⋅x₂ \n",
       "⎪⌡                                                                                          \n",
       "⎪x₁                                                                                         \n",
       "⎩                                                                                           \n",
       "\n",
       "⎫\n",
       "⎪\n",
       "⎪\n",
       "⎬\n",
       "⎪\n",
       "⎪\n",
       "⎭"
      ]
     },
     "execution_count": 3,
     "metadata": {},
     "output_type": "execute_result"
    }
   ],
   "source": [
    "from sympy import *\n",
    "\n",
    "#make output look nice\n",
    "init_printing()\n",
    "\n",
    "#declare our independent variable and assign a symbol to it\n",
    "x = Symbol('x')\n",
    "x1 = Symbol('x1')\n",
    "x2 = Symbol('x2')\n",
    "\n",
    "#declare the dependent function f as a function of x\n",
    "f = -(1.5*x + 4.0*x**2)\n",
    "\n",
    "#calculate the definite integral\n",
    "F = integrate(f,(x,x1,x2))\n",
    "\n",
    "#display the function f and its definte integral value\n",
    "{Integral(f,(x,x1,x2)) : F }"
   ]
  },
  {
   "cell_type": "markdown",
   "metadata": {},
   "source": [
    "<div style=\"background-color: #D0D0D0 ; padding: 10px; border: 1px solid black;\"> \n",
    "\n",
    "Inserting the result of the integration into our equation:\n",
    "    \n",
    "$$ u_2 - u_1 = (1.3x_{2}^3 + 0.75x_{2}^2) - (1.3x_{1}^3 + 0.75x_{1}^2) $$\n",
    "    \n",
    "From inspection of this result, we conclude that the potential energy function (in units of J) associated with this force is\n",
    "    \n",
    "$$ u = 1.3x^3 + 0.75x^2 $$\n",
    "</div>"
   ]
  },
  {
   "cell_type": "markdown",
   "metadata": {},
   "source": [
    "<hr style=\"height:2px;border-width:0;color:gray;background-color:gray\">"
   ]
  },
  {
   "cell_type": "markdown",
   "metadata": {},
   "source": [
    "<div style=\"background-color: #D0D0D0 ; padding: 10px; border: 1px solid black;\">       \n",
    "<header>\n",
    "<h3> Example 3</h3>\n",
    "    </header>\n",
    "    \n",
    "A potential energy function (in J) is given by $u = -5.0x^{-1} + 2.0x^{-2}$. Find the conservative force associated with this force.\n",
    "\n",
    "**Solution**\n",
    "    \n",
    "We are given the potential energy as a function of position and can therefore find the force from\n",
    "    \n",
    "$$ f_{Cx} = -\\frac{du}{dx} $$\n",
    "    \n",
    "Inserting our function and finding the derivative:\n",
    "\n",
    "</div>"
   ]
  },
  {
   "cell_type": "code",
   "execution_count": 4,
   "metadata": {
    "tags": [
     "hide-input"
    ]
   },
   "outputs": [
    {
     "data": {
      "image/png": "[encoded data removed]",
      "text/latex": [
       "$\\displaystyle \\left\\{ \\frac{d}{d x} \\left(- \\frac{5.0}{x} + \\frac{2.0}{x^{2}}\\right) : \\frac{5.0}{x^{2}} - \\frac{4.0}{x^{3}}\\right\\}$"
      ],
      "text/plain": [
       "⎧d ⎛  5.0   2.0⎞  5.0   4.0⎫\n",
       "⎪──⎜- ─── + ───⎟: ─── - ───⎪\n",
       "⎨dx⎜   x      2⎟    2     3⎬\n",
       "⎪  ⎝         x ⎠   x     x ⎪\n",
       "⎩                          ⎭"
      ]
     },
     "execution_count": 4,
     "metadata": {},
     "output_type": "execute_result"
    }
   ],
   "source": [
    "from sympy import *\n",
    "\n",
    "#make output look nice\n",
    "init_printing()\n",
    "\n",
    "#declare our independent variable and assign a symbol to it\n",
    "x = Symbol('x')\n",
    "\n",
    "#declare the dependent function f as a function of x\n",
    "f = -5.0*x**(-1) + 2.0*x**(-2)\n",
    "\n",
    "#calculate the derivative\n",
    "dfdx = diff(f)\n",
    "\n",
    "#display the function f and its derivative\n",
    "{Derivative(f): dfdx}"
   ]
  },
  {
   "cell_type": "markdown",
   "metadata": {},
   "source": [
    "<div style=\"background-color: #D0D0D0 ; padding: 10px; border: 1px solid black;\">       \n",
    "\n",
    "The force (in N) is then\n",
    "    \n",
    "$$\\vec{f}_C = \\left(\\frac{5.0}{x^2} - \\frac{4.0}{x^3} \\right)\\hat{i} $$\n",
    "\n",
    "</div>"
   ]
  },
  {
   "cell_type": "markdown",
   "metadata": {},
   "source": [
    "<hr style=\"height:2px;border-width:0;color:gray;background-color:gray\">"
   ]
  },
  {
   "cell_type": "markdown",
   "metadata": {},
   "source": [
    "## B5.1.4 Graphical Consequence\n",
    "\n",
    "### Slope Considerations\n",
    "From\n",
    "\n",
    "$$ f_{Cx} = -\\frac{du}{dx} $$\n",
    "\n",
    "we conclude that on a **potential energy graph the negative of the slope is the conservative force**. \n",
    "\n",
    "\n",
    "### Area Considerations\n",
    "Since we have\n",
    "    \n",
    "$$ w = \\int_{x_1}^{x_2}f_{x}dx $$\n",
    "\n",
    "\n",
    "**The work or energy transfer due to a single force is the area bounded by the single force graph and the position axis**.\n",
    "\n",
    "If the force in consideration is the **net force** then we have\n",
    "\n",
    "$$ \\Delta k = \\int_{x_1}^{x_2}f_{net,x}dx $$\n",
    "\n",
    "that is, **the bound area is the change in the particle's kinetic energy**.\n",
    "\n"
   ]
  },
  {
   "cell_type": "markdown",
   "metadata": {},
   "source": [
    "<hr style=\"height:2px;border-width:0;color:gray;background-color:gray\">"
   ]
  },
  {
   "cell_type": "markdown",
   "metadata": {},
   "source": [
    "## B5.1.5 Work-Energy Theorem\n",
    "\n",
    "The famed work-energy theorem does not change.\n",
    "\n",
    "$$ \\frac{1}{2}mv_{1}^2 + u_1 + w_{NC} = \\frac{1}{2}mv_{2}^2 + u_2 $$\n",
    "\n",
    "The difference now is that we may use calculus to find the potential energies and the work by non-conservative forces as outlined above."
   ]
  },
  {
   "cell_type": "markdown",
   "metadata": {},
   "source": [
    "<hr style=\"height:2px;border-width:0;color:gray;background-color:gray\">"
   ]
  }
 ],
 "metadata": {
  "celltoolbar": "Tags",
  "kernelspec": {
   "display_name": "Python 3 (ipykernel)",
   "language": "python",
   "name": "python3"
  },
  "language_info": {
   "codemirror_mode": {
    "name": "ipython",
    "version": 3
   },
   "file_extension": ".py",
   "mimetype": "text/x-python",
   "name": "python",
   "nbconvert_exporter": "python",
   "pygments_lexer": "ipython3",
   "version": "3.10.9"
  }
 },
 "nbformat": 4,
 "nbformat_minor": 4
}