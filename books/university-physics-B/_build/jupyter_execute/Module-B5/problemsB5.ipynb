{
 "cells": [
  {
   "cell_type": "markdown",
   "metadata": {},
   "source": [
    "# B5.X Problems\n",
    "<hr style=\"height:2px;border-width:0;color:gray;background-color:gray\">"
   ]
  },
  {
   "cell_type": "markdown",
   "metadata": {},
   "source": [
    "<h2>Problem B5.1</h2>\n",
    "    </header>\n",
    "\n",
    "A force $f_x = (-5.0x^2 + 7.0x)~\\textrm{N}$ acts on a particle. How much work does the force do on the particle as it moves from x = 2.0 m to x = 5.0 m?\n",
    "\n",
    "This problem is a slightly modified version from OpenStax. Access for free at [https://openstax.org/books/university-physics-volume-1/pages/8-problems](https://openstax.org/books/university-physics-volume-1/pages/8-problems)"
   ]
  },
  {
   "cell_type": "code",
   "execution_count": 1,
   "metadata": {},
   "outputs": [],
   "source": [
    "# DIY Cell"
   ]
  },
  {
   "cell_type": "markdown",
   "metadata": {},
   "source": [
    "<hr style=\"height:2px;border-width:0;color:gray;background-color:gray\">"
   ]
  },
  {
   "cell_type": "markdown",
   "metadata": {},
   "source": [
    "<h2>Problem B5.2</h2>\n",
    "    </header>\n",
    "\n",
    "A particle of mass 2.0 kg moves under the influence of the force $f_x = (-5.0x^2 + 7.0x)~\\textrm{N}$. If its speed at x = -4.0 m is  20.0 m/s, what is its speed at x = 4.0 m?\n",
    "\n",
    "This problem is a slightly modified version from OpenStax. Access for free at [https://openstax.org/books/university-physics-volume-1/pages/8-problems](https://openstax.org/books/university-physics-volume-1/pages/8-problems)"
   ]
  },
  {
   "cell_type": "code",
   "execution_count": 2,
   "metadata": {},
   "outputs": [],
   "source": [
    "# DIY Cell"
   ]
  },
  {
   "cell_type": "markdown",
   "metadata": {},
   "source": [
    "<hr style=\"height:2px;border-width:0;color:gray;background-color:gray\">"
   ]
  },
  {
   "cell_type": "markdown",
   "metadata": {},
   "source": [
    "<h2>Problem B5.3</h2>\n",
    "    </header>\n",
    "\n",
    "A 4.0-kg particle moving along the x-axis is acted upon by the force whose functional form appears below. The velocity of the particle at x = 0.0 m is 6.0 m/s. Find the particle’s speed at x = (a) 2.0m, (b) 4.0m, (c) 10.0m,(d) Does the particle turn around at some point and head back toward the origin? (e) Repeat part (d) if at x = 0.0 m the velocity is 2.0 m/s.\n",
    "\n",
    "<img src=\"P-B5.3.png\"  width=\"500\"/>\n",
    " \n",
    "This problem is a slightly modified version from OpenStax. Access for free at [https://openstax.org/books/university-physics-volume-1/pages/8-problems](https://openstax.org/books/university-physics-volume-1/pages/8-problems)"
   ]
  },
  {
   "cell_type": "code",
   "execution_count": 3,
   "metadata": {},
   "outputs": [],
   "source": [
    "# DIY Cell"
   ]
  },
  {
   "cell_type": "markdown",
   "metadata": {},
   "source": [
    "<hr style=\"height:2px;border-width:0;color:gray;background-color:gray\">"
   ]
  },
  {
   "cell_type": "markdown",
   "metadata": {},
   "source": [
    "<h2>Problem B5.4</h2>\n",
    "    </header>\n",
    "\n",
    "A particle of mass 2.0 kg moves under the influence of the force $f_x = (-5.0x^2 + 7.0x)~\\textrm{N}$.\n",
    "Suppose a frictional force also acts on the particle. If the particle’s speed when it starts at x = -4.0 m\n",
    "is 0.0 m/s and when it arrives at x = 4.0 m is 9.0 m/s, how much work is done on it by the frictional force between x = -4.0 m and x = 4.0 m?\n",
    "\n",
    "This problem is a slightly modified version from OpenStax. Access for free at [https://openstax.org/books/university-physics-volume-1/pages/8-additional-problems](https://openstax.org/books/university-physics-volume-1/pages/8-additional-problems)"
   ]
  },
  {
   "cell_type": "code",
   "execution_count": 4,
   "metadata": {},
   "outputs": [],
   "source": [
    "# DIY Cell"
   ]
  },
  {
   "cell_type": "markdown",
   "metadata": {},
   "source": [
    "<hr style=\"height:2px;border-width:0;color:gray;background-color:gray\">"
   ]
  },
  {
   "cell_type": "markdown",
   "metadata": {},
   "source": [
    "<h2>Problem B5.5</h2>\n",
    "    </header>\n",
    "\n",
    "A particle is subject to a net force shown on the graph below.\n",
    "\n",
    "1. Find the kinetic energy transfer to/from the particle due to this net force.\n",
    "2. If the particle has a mass of 0.50 kg and is at rest at x = 0 m, what is its speed at x = 10 m?\n",
    "3. What is its speed at x = 3 m?"
   ]
  },
  {
   "cell_type": "code",
   "execution_count": 5,
   "metadata": {
    "tags": [
     "hide-input"
    ]
   },
   "outputs": [
    {
     "data": {
      "image/png": "[encoded data removed]",
      "text/plain": [
       "<Figure size 432x288 with 1 Axes>"
      ]
     },
     "metadata": {
      "needs_background": "light"
     },
     "output_type": "display_data"
    }
   ],
   "source": [
    "import numpy as np\n",
    "import matplotlib.pyplot as plt\n",
    "\n",
    "%matplotlib inline\n",
    "\n",
    "t1 = np.arange(0,4.1,0.1)\n",
    "f1 = -5.0 + 5.0*t1\n",
    "t2 = np.arange(0,3.1,0.1)+4.0\n",
    "f2 = np.zeros(len(t2))+15\n",
    "t3 = np.arange(0,3.1,0.1)+7.0\n",
    "f3 = 15 - (5/3)*(t3-7)\n",
    "\n",
    "plt.figure()\n",
    "plt.ylabel('$f_x$ (N)')\n",
    "plt.xlabel('Position (m)')\n",
    "ax = plt.gca()\n",
    "ax.plot(t1,f1,'-',color='b')\n",
    "ax.plot(t2,f2,'-',color='b')\n",
    "ax.plot(t3,f3,'-',color='b')\n",
    "ax.set_xlim([0, 10])\n",
    "ax.set_ylim([-5, 20])\n",
    "ax.grid()\n",
    "plt.show()"
   ]
  },
  {
   "cell_type": "code",
   "execution_count": 6,
   "metadata": {},
   "outputs": [],
   "source": [
    "# DIY Cell"
   ]
  },
  {
   "cell_type": "markdown",
   "metadata": {},
   "source": [
    "<hr style=\"height:2px;border-width:0;color:gray;background-color:gray\">"
   ]
  },
  {
   "cell_type": "markdown",
   "metadata": {},
   "source": [
    "<h2>Problem B5.6</h2>\n",
    "    </header>\n",
    "\n",
    "A bungee cord exerts a nonlinear elastic force of magnitude $f_x = k_{1}x + k_{2}x^3$, where x is the distance the cord is stretched, $k_1$ = 204 N/m and $k_2$ = −0.233 N/m$^3$. How much work must be done on the cord to stretch it 16.7 m?\n",
    "\n",
    "This problem is a slightly modified version from OpenStax. Access for free at [https://openstax.org/books/university-physics-volume-1/pages/7-problems](https://openstax.org/books/university-physics-volume-1/pages/7-problems)"
   ]
  },
  {
   "cell_type": "code",
   "execution_count": 7,
   "metadata": {},
   "outputs": [],
   "source": [
    "# DIY Cell"
   ]
  },
  {
   "cell_type": "markdown",
   "metadata": {},
   "source": [
    "<hr style=\"height:2px;border-width:0;color:gray;background-color:gray\">"
   ]
  },
  {
   "cell_type": "markdown",
   "metadata": {},
   "source": [
    "<h2>Problem B5.7</h2>\n",
    "    </header>\n",
    "\n",
    "When a $3.0$ kg block is pushed against a massless spring of force constant  $4.5\\times 10^3$ N/m, the spring is compressed $8.0$ cm. The block is released, and it slides $2.0$ m (from the point at which it is released) across a horizontal surface before friction stops it. What is the coefficient of kinetic friction between the block and the surface?\n",
    "\n",
    "This problem is a slightly modified version from OpenStax. Access for free at [https://openstax.org/books/university-physics-volume-1/pages/7-problems](https://openstax.org/books/university-physics-volume-1/pages/7-problems)"
   ]
  },
  {
   "cell_type": "code",
   "execution_count": 8,
   "metadata": {},
   "outputs": [],
   "source": [
    "# DIY Cell"
   ]
  },
  {
   "cell_type": "markdown",
   "metadata": {},
   "source": [
    "<hr style=\"height:2px;border-width:0;color:gray;background-color:gray\">"
   ]
  },
  {
   "cell_type": "markdown",
   "metadata": {},
   "source": [
    "<h2>Problem B5.8</h2>\n",
    "    </header>\n",
    "\n",
    "A $5.00\\times 10^5$ kg subway train is brought to a stop from a speed of 0.500 m/s in 0.400 m by a large spring bumper at the end of its track. What is the spring constant k of the spring?\n",
    "\n",
    "This problem is a slightly modified version from OpenStax. Access for free at [https://openstax.org/books/university-physics-volume-1/pages/8-problems](https://openstax.org/books/university-physics-volume-1/pages/8-problems)"
   ]
  },
  {
   "cell_type": "code",
   "execution_count": 9,
   "metadata": {},
   "outputs": [],
   "source": [
    "# DIY Cell"
   ]
  },
  {
   "cell_type": "markdown",
   "metadata": {},
   "source": [
    "<hr style=\"height:2px;border-width:0;color:gray;background-color:gray\">"
   ]
  },
  {
   "cell_type": "markdown",
   "metadata": {},
   "source": [
    "<h2>Problem B5.9</h2>\n",
    "    </header>\n",
    "\n",
    "A block of mass 500.0 g is attached to a spring of spring constant 80.0 N/m (see the following figure). The other end of the spring is attached to a support while the mass rests on a rough surface with a coefficient of friction of 0.200 that is inclined at angle of  30.0$^\\circ$. The block is pushed along the surface till the spring compresses by 10.0 cm and is then released from rest.\n",
    "\n",
    "1. How much potential energy was stored in the block-spring-support system when the block was just released? \n",
    "2. Determine the speed of the block when it crosses the point when the spring is neither compressed nor stretched. \n",
    "3. Determine the position of the block where it just comes to rest on its way up the incline.\n",
    "\n",
    "<img src=\"P-B5.9.png\"  width=\"500\"/>\n",
    "\n",
    "This problem is a slightly modified version from OpenStax. Access for free at [https://openstax.org/books/university-physics-volume-1/pages/8-problems](https://openstax.org/books/university-physics-volume-1/pages/8-problems)"
   ]
  },
  {
   "cell_type": "code",
   "execution_count": 10,
   "metadata": {},
   "outputs": [],
   "source": [
    "# DIY Cell"
   ]
  },
  {
   "cell_type": "markdown",
   "metadata": {},
   "source": [
    "<hr style=\"height:2px;border-width:0;color:gray;background-color:gray\">"
   ]
  },
  {
   "cell_type": "markdown",
   "metadata": {},
   "source": [
    "<h2>Problem B5.10</h2>\n",
    "    </header>\n",
    "\n",
    "An object of mass 10.0 kg is released at point A, slides to the bottom of the 30.0$^\\circ$ incline, then collides with a horizontal massless spring, compressing it a maximum distance of 0.75 m. (See below.) The spring constant is 500.0 N/m, the height of the incline is 2.00 m, and the horizontal surface is frictionless.\n",
    "\n",
    "1. What is the speed of the object at the bottom of the incline?\n",
    "2. What is the work of friction on the object while it is on the incline?\n",
    "3. The spring recoils and sends the object back toward the incline. What is the speed of the object when it reaches the base of the incline? \n",
    "4. What vertical distance does it move back up the incline?\n",
    "\n",
    "<img src=\"P-B5.10.png\"  width=\"500\"/>\n",
    "\n",
    "This problem is a slightly modified version from OpenStax. Access for free at [https://openstax.org/books/university-physics-volume-1/pages/8-problems](https://openstax.org/books/university-physics-volume-1/pages/8-problems)"
   ]
  },
  {
   "cell_type": "code",
   "execution_count": 11,
   "metadata": {},
   "outputs": [],
   "source": [
    "# DIY Cell"
   ]
  },
  {
   "cell_type": "markdown",
   "metadata": {},
   "source": [
    "<hr style=\"height:2px;border-width:0;color:gray;background-color:gray\">"
   ]
  },
  {
   "cell_type": "markdown",
   "metadata": {},
   "source": [
    "<h2>Problem B5.11</h2>\n",
    "    </header>\n",
    "\n",
    "Consider a block of mass 0.200 kg attached to a spring of spring constant 100.0 N/m. The block is placed on a frictionless table, and the other end of the spring is attached to the wall so that the spring is level with the table. The block is then pushed in so that the spring is compressed by 10.0 cm. Find the speed of the block as it crosses\n",
    "\n",
    "1. the point when the spring is not stretched\n",
    "2. 5.00 cm to the left of point in (a), \n",
    "3. 5.00 cm to the right of point in (a).\n",
    "\n",
    "This problem is a slightly modified version from OpenStax. Access for free at [https://openstax.org/books/university-physics-volume-1/pages/8-problems](https://openstax.org/books/university-physics-volume-1/pages/8-problems)"
   ]
  },
  {
   "cell_type": "code",
   "execution_count": 12,
   "metadata": {},
   "outputs": [],
   "source": [
    "# DIY Cell"
   ]
  },
  {
   "cell_type": "markdown",
   "metadata": {},
   "source": [
    "<hr style=\"height:2px;border-width:0;color:gray;background-color:gray\">"
   ]
  },
  {
   "cell_type": "markdown",
   "metadata": {},
   "source": [
    "## Detailed Solutions"
   ]
  },
  {
   "cell_type": "markdown",
   "metadata": {},
   "source": [
    "```{admonition} Problem B5.9\n",
    ":class: tip, dropdown\n",
    "\n",
    "<div style=\"background-color: #D0D0D0 ; padding: 10px; border: 1px solid black;\">\n",
    "<header>\n",
    "<h3> Problem B5.9</h3>\n",
    "    </header>\n",
    "    \n",
    "**Problem**<br>\n",
    "\n",
    "A block of mass 500.0 g is attached to a spring of spring constant 80.0 N/m (see the following figure). The other end of the spring is attached to a support while the mass rests on a rough surface with a coefficient of friction of 0.200 that is inclined at angle of  30.0$^\\circ$. The block is pushed along the surface till the spring compresses by 10.0 cm and is then released from rest.\n",
    "\n",
    "1. How much potential energy was stored in the block-spring-support system when the block was just released? \n",
    "2. Determine the speed of the block when it crosses the point when the spring is neither compressed nor stretched. \n",
    "3. Determine the position of the block where it just comes to rest on its way up the incline.\n",
    "    \n",
    "**Pseudo Solution**<br>\n",
    "\n",
    "Part one is straightforward since we are given the spring constant and the distance the spring is compressed. The second part requires a little bit more consideration. We can use our beloved work-energy theorem as we must include the work done by friction. If we let $x$ be the position along the surface away from equilibrium of the system, then the total distance friction does work is $x + 0.10$. That distance combined with the incline angle also allows us to evaluate the change in height to evaluate change in gravitational potential energy. A free-body diagram will allow us to find the frictional force. However, we have done this kind of problem multiple times by now and should know that the normal force is given by \n",
    "    \n",
    "$$ f_N = mg\\cos\\theta $$\n",
    "    \n",
    "from which we can determine the frictional force and work done by friction.\n",
    "    \n",
    "**Solution**<br>\n",
    "    \n",
    "**Part 1**<br>\n",
    "\n",
    "Let the compressed state be event 1, +x direction up the incline, x = 0 the equilibrium position of the system. Inserting given values into the equation for spring potential energy:\n",
    "    \n",
    "$$ u_{s_1} = \\frac{1}{2}kx_{1}^2 = (0.5)(80.0)(-0.100)^2 = 0.400~\\textrm{J}$$\n",
    "    \n",
    "**Part 2**<br>\n",
    "\n",
    "Let the uncompressed/stretched state be event 2. The work-energy theorem tells us that\n",
    "    \n",
    "$$ e_1 + w_{NC} = e_2 $$\n",
    "    \n",
    "We can write it out using kinetic and potential energies and work:\n",
    "    \n",
    "$$ \\frac{1}{2}mv_{1}^2 + mgh_1 + \\frac{1}{2}kx_{1}^2 + f_{f}\\Delta r\\cos\\phi = \\frac{1}{2}mv_{2}^2 + mgh_2 + \\frac{1}{2}kx_{2}^2 $$\n",
    "    \n",
    "We can reduce it by observing that the initial speed is zero, the final displacement from equilibrium is zero. We also notice that $\\Delta r = \\Delta x$ and $\\phi = 180^\\circ$. For the height, it may make sense to set the height equal to zero at the equilibrium position for consistency, but it is certainly not required. After all, it is only the change in height that truly matters. If we choose this scenario, then the final height is zero while the intial height (position) will be negative:\n",
    "    \n",
    "$$ mgh_1 + \\frac{1}{2}kx_{1}^2 - f_{f}\\Delta x = \\frac{1}{2}mv_{2}^2 $$\n",
    "    \n",
    "The initial height is\n",
    "    \n",
    "$$ h_1 = -\\Delta x\\sin\\theta$$\n",
    "    \n",
    "The magnitude of the force of friction is \n",
    "    \n",
    "$$ f_f = \\mu mg\\cos\\theta $$\n",
    "   \n",
    "We now have everything we need to solve the problem:\n",
    "    \n",
    "$$ v_2 = 0.528~\\textrm{m/s} $$\n",
    "    \n",
    "**Part 3**<br>\n",
    "    \n",
    "Let the position in question be event 3 and we can proceed as in Part (2). We can choose our intial state to be either event 1 or event 2. I will choose event 2. In this case, the initial height is zero, the spring is intially uncompressed. The displacement along the inclince is\n",
    "\n",
    "$$ \\Delta x = x_3 - 0 $$\n",
    "    \n",
    "where $x_3$ is the position from equilibrium at event 3 along the incline. \n",
    "    \n",
    "At event 3, the speed is zero, the spring is stretched by $x$ and the height above equilibrium is\n",
    "    \n",
    "$$ h_3 = x_{3}\\sin\\theta $$\n",
    "\n",
    "We then have\n",
    "    \n",
    "$$ \\frac{1}{2}mv_{2}^2 + f_{f}x_{3}\\cos\\phi =  mgh_3 + \\frac{1}{2}kx_{3}^2 $$\n",
    "    \n",
    "Solving for $x_3$:\n",
    "    \n",
    "$$ x_3 = 1.74~\\textrm{cm} $$    \n",
    "    \n",
    "</div>\n",
    "```"
   ]
  },
  {
   "cell_type": "code",
   "execution_count": 13,
   "metadata": {
    "tags": [
     "hide-input",
     "hide-output"
    ]
   },
   "outputs": [
    {
     "name": "stdout",
     "output_type": "stream",
     "text": [
      "Spring potential energy: 0.4000000000000001\n",
      "Speed at equilibrium: 0.528366947826022\n"
     ]
    },
    {
     "name": "stdout",
     "output_type": "stream",
     "text": [
      "Position: 0.0174482269721867\n"
     ]
    }
   ],
   "source": [
    "import sympy as sym\n",
    "import numpy as np\n",
    "\n",
    "# --------------------\n",
    "# Part 1\n",
    "k = 80.0\n",
    "x1 = -0.100\n",
    "\n",
    "u_s1 = (0.5)*k*x1**2\n",
    "\n",
    "print('Spring potential energy: '+str(u_s1))\n",
    "\n",
    "# --------------------\n",
    "# Part 2\n",
    "m = 0.500\n",
    "g = 9.81\n",
    "theta = 30.0*np.pi/180.0\n",
    "x2 = 0.0\n",
    "mu = 0.200\n",
    "v1 = 0.0\n",
    "h2 = 0.0\n",
    "phi = 180*np.pi/180.0\n",
    "\n",
    "dx_12 = x2 - x1\n",
    "h1 = -dx_12*np.sin(theta)\n",
    "ff = mu*m*g*np.cos(theta) \n",
    "wf_12 = ff*dx_12*np.cos(phi)\n",
    "\n",
    "# unknown: event 2 speed\n",
    "v2 = sym.Symbol('v2')\n",
    "\n",
    "eq1 = 0.5*m*v2**2 + m*g*h2 + 0.5*k*x2**2 - (0.5*m*v1**2 + m*g*h1 + 0.5*k*x1**2) - wf_12\n",
    "sol1 = sym.solve(eq1,v2)\n",
    "print('Speed at equilibrium: '+str(sol1[1]))\n",
    "v2 = sol1[1]\n",
    "\n",
    "# -----------------------------------------\n",
    "# Part 3\n",
    "\n",
    "# unknown: event 3 position\n",
    "v3 = 0.0\n",
    "x3 = sym.Symbol('x3')\n",
    "\n",
    "dx_23 = x3 - x2\n",
    "h3 = dx_23*np.sin(theta)\n",
    "wf_23 = ff*dx_23*np.cos(phi)\n",
    "\n",
    "eq2 = 0.5*m*v3**2 + m*g*h3 + 0.5*k*x3**2 - (0.5*m*v2**2 + m*g*h2 + 0.5*k*x2**2) - wf_23\n",
    "sol2 = sym.solve(eq2,x3)\n",
    "print('Position: '+str(sol2[1]))"
   ]
  },
  {
   "cell_type": "markdown",
   "metadata": {},
   "source": [
    "<hr style=\"height:2px;border-width:0;color:gray;background-color:gray\">"
   ]
  },
  {
   "cell_type": "markdown",
   "metadata": {},
   "source": [
    "```{admonition} Problem B5.10\n",
    ":class: tip, dropdown\n",
    "\n",
    "<div style=\"background-color: #D0D0D0 ; padding: 10px; border: 1px solid black;\">\n",
    "<header>\n",
    "<h3> Problem B5.10</h3>\n",
    "    </header>\n",
    "    \n",
    "**Problem**<br>\n",
    "\n",
    "An object of mass 10.0 kg is released at point A, slides to the bottom of the 30.0$^\\circ$ incline, then collides with a horizontal massless spring, compressing it a maximum distance of 0.75 m. (See below.) The spring constant is 500.0 N/m, the height of the incline is 2.00 m, and the horizontal surface is frictionless.\n",
    "\n",
    "1. What is the speed of the object at the bottom of the incline?\n",
    "2. What is the work of friction on the object while it is on the incline?\n",
    "3. The spring recoils and sends the object back toward the incline. What is the speed of the object when it reaches the base of the incline? \n",
    "4. What vertical distance does it move back up the incline?\n",
    "\n",
    "**Pseudo Solution**<br>\n",
    "\n",
    "1. Since the horizontal surface is frictionless mechanical energy must be conserved for motion along it. From the spring potential energy we can then find the kinetic energy and the corresponding speed prior to compressing the spring. This is the speed anywhere on the horizontal surface and at the bottom of the incline. \n",
    "    \n",
    "2. There is friction along the incline and mechanical energy is not conserved. Since we know the mechanical energy at the bottom (all kinetic) and the mechanical energy at the top (all gravitational potential), we can find out how much was lost due to friction.\n",
    "    \n",
    "3. Since the horizontal surface is frictionless and spring force is conservative, the speed along the incline must be the same moving towards the spring and away from the spring. \n",
    "    \n",
    "4. From the work done by friction and the length of the incline (from trigonometry), we can find the frictional force. With that knowledge we can figure out how high the object makes it back up the incline.\n",
    "\n",
    "**Solution**<br>\n",
    "    \n",
    "We need to have some identifiers for each event. I will choose the following:\n",
    "\n",
    "* Top of incline: event 1\n",
    "* botton of incline moving down: event 2\n",
    "* compressed spring: event 3\n",
    "* botton of incline moving up: event 4\n",
    "* final destination: event 5\n",
    "    \n",
    "    \n",
    "**Part 1**<br>\n",
    "\n",
    "Setting up conservation of energy along a horizontal surface (this implies there is no change in gravational potential energy and it can be ignored). This involves events 2 (initial) and 3 (final):\n",
    "\n",
    "$$\\frac{1}{2}mv_{2}^2 + \\frac{1}{2}kx_{2}^2 = \\frac{1}{2}mv_{3}^2 + \\frac{1}{2}kx_{3}^2$$\n",
    "\n",
    "With $x_2 = 0$ and $v_3 = 0 $, we can solve for the initial speed:\n",
    "    \n",
    "$$ v_2 = 5.3~\\textrm{m/s} $$\n",
    "    \n",
    "**Part 2**<br>\n",
    "    \n",
    "The amazing work-energy theorem, which now hopefully reside deep in both the concious and unconcious minds, tells us that\n",
    "    \n",
    "$$ e_1 + w_{NC} = e_2 $$\n",
    "    \n",
    "Since we are working on the incline plane, we can write it out:\n",
    "    \n",
    "$$ \\frac{1}{2}mv_{1}^2 + mgh_1 + w_f = \\frac{1}{2}mv_{2}^2 + mgh_2 $$\n",
    "\n",
    "The initial speed is zero and the final height is zero, allowing us to solve for the work done by friction:\n",
    "\n",
    "$$ w_f = -56~\\textrm{J} $$\n",
    "\n",
    "**Part 3**<br>\n",
    "    \n",
    "The horizontal surface is frictionless. This implies that the mechanical energy has the same value **anywhere** along that surface. It also implies that the kinetic coming off the incline must be the same as returning onto the incline. The speed is\n",
    "    \n",
    "$$ v_4 = 5.3~\\textrm{m/s} $$\n",
    "    \n",
    "**Part 3**<br>\n",
    "    \n",
    "This part requires a little extra work. Again, we set up the work-energy theorem since there is work done by non-conservative force:\n",
    "    \n",
    "$$ e_4 + w{NC} = e_5 $$\n",
    "    \n",
    "The work done by a constant force (we have to assume the frictional force is constant) is\n",
    "   \n",
    "$$ w_f = f_{f}\\Delta r\\cos\\phi $$\n",
    "    \n",
    "where $\\phi$ is the angle between the frictional force and the displacement (in this case it is $180^\\circ$). Inserting our known expressions:\n",
    "    \n",
    "$$ \\frac{1}{2}mv_{4}^2 + mgh_4 + f_{f}\\Delta r\\cos\\phi = \\frac{1}{2}mv_{5}^2 + mgh_5 $$\n",
    "    \n",
    "We can find the frictional force from Part (2):\n",
    "    \n",
    "$$ -56 = f_{f}\\Delta r\\cos\\phi $$\n",
    "    \n",
    "knowing that $\\phi = 180^\\circ$ and the magnitude of the displacement is\n",
    "    \n",
    "$$ \\Delta r_{12} = \\frac{2.0}{\\sin(30.0)} $$\n",
    "    \n",
    "where the subscript indicates it is the displacement taking place between events 1 and 2.\n",
    "    \n",
    "The magnitude of the displacement between events 4 and 5 is\n",
    "    \n",
    "$$ \\Delta r_{45} = \\frac{h_5}{\\sin(30.0)} $$\n",
    "    \n",
    "We now have all the information to solve for $h_5$:\n",
    "    \n",
    "$$ h_5 = 1.1~\\textrm{m} $$\n",
    "    \n",
    "</div>\n",
    "```"
   ]
  },
  {
   "cell_type": "code",
   "execution_count": 14,
   "metadata": {
    "tags": [
     "hide-input",
     "hide-output"
    ]
   },
   "outputs": [
    {
     "name": "stdout",
     "output_type": "stream",
     "text": [
      "Speed at bottom of incline: 5.30330085889911\n",
      "Work done by friction: -55.5750000000000\n",
      "Speed at bottom of incline: 5.30330085889911\n",
      "Final Height: 1.11706881143878\n"
     ]
    }
   ],
   "source": [
    "import sympy as sym\n",
    "import numpy as np\n",
    "\n",
    "#mass\n",
    "m = 10.0\n",
    "#spring constant\n",
    "k = 500.0\n",
    "# event 2 compression\n",
    "x2 = 0.0\n",
    "# event 3 compression\n",
    "x3 = 0.75\n",
    "#event 3 speed\n",
    "v3 = 0.0\n",
    "# event 1 height\n",
    "h1 = 2.0\n",
    "# event 2 height\n",
    "h2 = 0.0\n",
    "#acceleration of gravity\n",
    "g = 9.81\n",
    "# event 1 speed\n",
    "v1 = 0.0\n",
    "\n",
    "# -----------------------------------------\n",
    "# PART 1\n",
    "# unknown: event 2 speed\n",
    "v2 = sym.Symbol('v2')\n",
    "# event 2 mechanical energy\n",
    "e2 = 0.5*m*v2**2 + 0.5*k*x2**2\n",
    "# event 3 mechanical energy\n",
    "e3 = 0.5*m*v3**2 + 0.5*k*x3**2\n",
    "#equation to be solved: e2 = e3 or 0 = e3 - e2\n",
    "eq1 = e3 - e2\n",
    "sol1 = sym.solve(eq1,v2)\n",
    "v2 = sol1[1]\n",
    "print('Speed at bottom of incline: '+str(v2))\n",
    "# -----------------------------------------\n",
    "\n",
    "# -----------------------------------------\n",
    "# PART 2\n",
    "# unknown: work done by friction between events 1 and 2\n",
    "wf_12 = sym.Symbol('wf_12')\n",
    "# event 1 mechanical energy\n",
    "e1 = 0.5*m*v1**2 + m*g*h1\n",
    "# event 2 mechanical energy\n",
    "e2 = 0.5*m*v2**2 + m*g*h2\n",
    "#equation to be solved: e1 + wf = e2 or 0 = e2 - e1 - wf\n",
    "eq2 = e2 - e1 - wf_12\n",
    "sol2 = sym.solve(eq2,wf_12)\n",
    "print('Work done by friction: '+str(sol2[0]))\n",
    "wf_12 = sol2[0]\n",
    "# -----------------------------------------\n",
    "\n",
    "# Part 3\n",
    "v4 = v2\n",
    "print('Speed at bottom of incline: '+str(v4))\n",
    "# -----------------------------------------\n",
    "# PART 4\n",
    "# unknowns: \n",
    "# final height\n",
    "h5 = sym.Symbol('h5')\n",
    "# force of friction\n",
    "ff = sym.Symbol('ff')\n",
    "# magnitude of displacement moving up\n",
    "dr_45 = sym.Symbol('dr_45')\n",
    "# work moving up\n",
    "wf_45 = sym.Symbol('wf_45')\n",
    "\n",
    "\n",
    "#the height at the bottom is the same moving down and up\n",
    "h4 = h2\n",
    "# incline angle\n",
    "theta = 30.0*np.pi/180.0\n",
    "# speed at end\n",
    "v5 = 0.0\n",
    "# angle between displacement and friction force\n",
    "phi = 180.0*np.pi/180.0\n",
    "# magnitude of displacement on the way down\n",
    "dr_12 = h1/np.sin(theta)\n",
    "\n",
    "# event 4 mechanical energy\n",
    "e4 = 0.5*m*v4**2 + m*g*h4\n",
    "# event 5 mechanical energy\n",
    "e5 = 0.5*m*v5**2 + m*g*h5\n",
    "# magnitude of frictional force\n",
    "ff = wf_12/(dr_12*np.cos(phi))\n",
    "\n",
    "#we have three unknowns: work by friction, final displacement, and final height...need three equations:\n",
    "#work done by friction\n",
    "eq3 = wf_45 - ff*dr_45*np.cos(phi)\n",
    "\n",
    "#work-energy equation\n",
    "eq4 = e5 - e4 - wf_45\n",
    "\n",
    "#trigonometry\n",
    "eq5 = h5 - dr_45*np.sin(theta)\n",
    "\n",
    "sol3 = sym.solve((eq3,eq4,eq5),h5,dr_45, wf_45)\n",
    "print('Final Height: '+str(sol3[h5]))\n",
    "# -----------------------------------------\n"
   ]
  },
  {
   "cell_type": "markdown",
   "metadata": {},
   "source": [
    "<hr style=\"height:2px;border-width:0;color:gray;background-color:gray\">"
   ]
  },
  {
   "cell_type": "markdown",
   "metadata": {},
   "source": [
    "```{admonition} Problem B5.11\n",
    ":class: tip, dropdown\n",
    "\n",
    "<div style=\"background-color: #D0D0D0 ; padding: 10px; border: 1px solid black;\">\n",
    "<header>\n",
    "<h3> Problem B5.11</h3>\n",
    "    </header>\n",
    "    \n",
    "**Problem**<br>\n",
    "\n",
    "Consider a block of mass 0.200 kg attached to a spring of spring constant 100.0 N/m. The block is placed on a frictionless table, and the other end of the spring is attached to the wall so that the spring is level with the table. The block is then pushed in so that the spring is compressed by 10.0 cm. Find the speed of the block as it crosses\n",
    "\n",
    "1. the point when the spring is not stretched\n",
    "2. 5.00 cm to the left of point in (a), \n",
    "3. 5.00 cm to the right of point in (a).\n",
    "\n",
    "**Pseudo Solution**<br>\n",
    "\n",
    "Since there are no non-conservative forces, the mechanical energy is conserved, that is:\n",
    "\n",
    "$$e_1 = e_2$$\n",
    "\n",
    "Hence, the sum of the kinetic and potential energies remains a constant:\n",
    "\n",
    "$$ k + u = ~\\textrm{constant}$$\n",
    "\n",
    "Since we know the spring constant and its original compression at the location where the kinetica energy is zero, we can calculate the value of the mechanical energy. From that value, we can find the speed at any given position.\n",
    "\n",
    "**Solution**<br>\n",
    "\n",
    "Find the mechanical energy at the endpoint (speed = 0 m/s):\n",
    "\n",
    "$$e_1 = k_1 + u_1 = (0) + (0.5)(100.0)(0.10)^2 = 0.500~\\textrm{J}$$\n",
    "\n",
    "We can now proceed to find the speeds at any given positions:\n",
    "\n",
    "**Part 1**<br>\n",
    "\n",
    "The displacement from equilibrium is $x = 0$. Let this position be event 2:\n",
    "\n",
    "$$ e_1 = e_2 $$\n",
    "\n",
    "From which we have \n",
    "\n",
    "$$ 0.500 = \\frac{1}{2}mv_{2}^{2} + \\frac{1}{2}kx_{2}^{2} $$\n",
    "\n",
    "Solving for the speed, we get:\n",
    "\n",
    "$$ v_2 = 2.24~\\textrm{m/s} $$\n",
    "    \n",
    "**Part 2**<br>\n",
    "    \n",
    "Assuming a positive x-direction to the right, we now have $x = -0.0500~\\textrm{m}$. Let this position be event 3:\n",
    "\n",
    "$$ e_1 = e_3 $$\n",
    "\n",
    "From which we have \n",
    "\n",
    "$$ 0.500 = \\frac{1}{2}mv_{3}^{2} + \\frac{1}{2}kx_{3}^{2} $$\n",
    "\n",
    "Solving for the speed, we get:\n",
    "\n",
    "$$ v_3 = 1.94~\\textrm{m/s} $$\n",
    "    \n",
    "**Part 3**<br>\n",
    "    \n",
    "We now have $x = +0.0500~\\textrm{m}$. Let this position be event 4. Based on symmetry considerations, we would conclude that the speed must be same as in Part 2. Let us do the calculation anyway:\n",
    "\n",
    "$$ e_1 = e_4 $$\n",
    "\n",
    "From which we have \n",
    "\n",
    "$$ 0.500 = \\frac{1}{2}mv_{4}^{2} + \\frac{1}{2}kx_{4}^{2} $$\n",
    "\n",
    "Solving for the speed, we get:\n",
    "\n",
    "$$ v_4 = 1.94~\\textrm{m/s} $$\n",
    "\n",
    "</div>\n",
    "\n",
    "```"
   ]
  },
  {
   "cell_type": "code",
   "execution_count": 15,
   "metadata": {
    "tags": [
     "hide-input",
     "hide-output"
    ]
   },
   "outputs": [
    {
     "name": "stdout",
     "output_type": "stream",
     "text": [
      "Initial mechanical energy: 0.5000000000000001\n",
      "Speed at x = 0: 2.23606797749979\n",
      "Speed at x = 0: 1.93649167310371\n",
      "Speed at x = 0: 1.93649167310371\n"
     ]
    }
   ],
   "source": [
    "import sympy as sym\n",
    "\n",
    "#mass\n",
    "m = 0.200\n",
    "#spring constant\n",
    "k = 100.0\n",
    "# initial displacement\n",
    "x1 = 0.10\n",
    "#initial speed \n",
    "v1 = 0\n",
    "\n",
    "#initial mechanical energy\n",
    "e1 = 0.5*m*v1**2 + 0.5*k*x1**2\n",
    "print('Initial mechanical energy: '+str(e1))\n",
    "\n",
    "#Part 1\n",
    "x2 = 0.0\n",
    "v2 = sym.Symbol('v2')\n",
    "#equation to be solved: 0 = e1 - 0.5*m*v2**2 - 0.5*k*x2**aerå´njnnnnn nmm 2\n",
    "eq1 = e1 - 0.5*m*v2**2 - 0.5*k*x2**2\n",
    "sol1 = sym.solve(eq1,v2)\n",
    "print('Speed at x = 0: '+str(sol1[1]))\n",
    "\n",
    "#Part 2\n",
    "x3 = -0.05\n",
    "v3 = sym.Symbol('v3')\n",
    "#equation to be solved: 0 = e1 - 0.5*m*v4**2 - 0.5*k*x4**2\n",
    "eq2 = e1 - 0.5*m*v3**2 - 0.5*k*x3**2\n",
    "sol2 = sym.solve(eq2,v3)\n",
    "print('Speed at x = 0: '+str(sol2[1]))\n",
    "\n",
    "#Part 3\n",
    "x4 = +0.05\n",
    "v4 = sym.Symbol('v4')\n",
    "#equation to be solved: 0 = e1 - 0.5*m*v4**2 - 0.5*k*x4**2\n",
    "eq3 = e1 - 0.5*m*v4**2 - 0.5*k*x4**2\n",
    "sol3 = sym.solve(eq3,v4)\n",
    "print('Speed at x = 0: '+str(sol3[1]))"
   ]
  },
  {
   "cell_type": "code",
   "execution_count": null,
   "metadata": {},
   "outputs": [],
   "source": []
  }
 ],
 "metadata": {
  "celltoolbar": "Tags",
  "kernelspec": {
   "display_name": "Python 3 (ipykernel)",
   "language": "python",
   "name": "python3"
  },
  "language_info": {
   "codemirror_mode": {
    "name": "ipython",
    "version": 3
   },
   "file_extension": ".py",
   "mimetype": "text/x-python",
   "name": "python",
   "nbconvert_exporter": "python",
   "pygments_lexer": "ipython3",
   "version": "3.9.12"
  }
 },
 "nbformat": 4,
 "nbformat_minor": 4
}