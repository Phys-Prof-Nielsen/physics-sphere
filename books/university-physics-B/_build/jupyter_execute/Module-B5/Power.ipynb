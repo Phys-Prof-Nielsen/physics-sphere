{
 "cells": [
  {
   "cell_type": "markdown",
   "metadata": {},
   "source": [
    "# B5.4 Power\n",
    "<hr style=\"height:2px;border-width:0;color:gray;background-color:gray\">"
   ]
  },
  {
   "cell_type": "markdown",
   "metadata": {},
   "source": [
    "## B5.4.1 Motivation\n",
    "\n",
    "We could in principle easily have defined and used the power concept in Phase D. However, I have a personal disorder that makes me not so happy about how we introduce power without calculus. I will explain that as we proceed. Power is a concept that is often used in everyday language, but not necessarily with a proper physical understanding of it. We will try and get that understanding here.\n",
    "\n",
    "<hr style=\"height:2px;border-width:0;color:gray;background-color:gray\">"
   ]
  },
  {
   "cell_type": "markdown",
   "metadata": {},
   "source": [
    "## B5.4.2  Instantaneous Power\n",
    "\n",
    "With pretty much much any other concepts, we have defined the average parameters first and then used calculus to define the instantaneous parameters. With power we will switch the order around.\n",
    "\n",
    "### Conceptual Definition\n",
    "\n",
    "<div class=\"alert alert-success\">\n",
    "    \n",
    "Power is the rate of energy transfer.\n",
    "</div>\n",
    "\n",
    "### Analytic Definition\n",
    "\n",
    "Since energy transfer is work, we have\n",
    "\n",
    "<div class=\"alert alert-success\">\n",
    "    \n",
    "$$ p = \\frac{dw}{dt} \\tag{1}$$\n",
    "</div>\n",
    "\n",
    "Equation (1) is a proper conceptual equation but we often use a derived version of it. Let us see how it looks.\n",
    "\n",
    "Since work is\n",
    "\n",
    "$$ w = \\int\\vec{f}\\cdot d\\vec{r} $$\n",
    "\n",
    "we have\n",
    "\n",
    "$$ p = \\frac{d}{dt}\\int\\vec{f}\\cdot d\\vec{r} $$\n",
    "\n",
    "Although the derivative undo the integral operator, we can not apply that here since the derivative is with respect to $t$ and not $\\vec{r}$. Instead, we perform a change of variable through the differential\n",
    "\n",
    "$$ d\\vec{r} = \\vec{r}'dt = \\vec{v}dt $$\n",
    "\n",
    "Inserting this into the equation:\n",
    "\n",
    "$$ p = \\frac{d}{dt}\\int\\vec{f}\\cdot \\vec{v}dt $$\n",
    "\n",
    "Now we can undo the integral and we have our desired result:\n",
    "\n",
    "<div class=\"alert alert-success\">\n",
    "    \n",
    "$$ p = \\vec{f}\\cdot \\vec{v} \\tag{2}$$\n",
    "</div>\n",
    "\n",
    "<hr style=\"height:2px;border-width:0;color:gray;background-color:gray\">"
   ]
  },
  {
   "cell_type": "markdown",
   "metadata": {},
   "source": [
    "## B5.4.3  Average Power\n",
    "\n",
    "The average power is the energy transfer over some period of time:\n",
    "\n",
    "$$ p_{av} = \\frac{w}{\\Delta t} $$\n",
    "\n",
    "This equation should upset all of us: we only have one difference factor and that is mathematically not acceptable and is the pickle I have with this definition. Sometimes it is written in terms of $\\Delta W$ which is the change of the energy transfer and does not make sense per definition of power. \n",
    "\n",
    "Instead, we can save our mathematical ass by writing the work as $ w = \\vec{f}\\cdot\\Delta\\vec{r} $. In this case, we then have\n",
    "\n",
    "<div class=\"alert alert-success\">\n",
    "    \n",
    "$$ p_{av} = \\frac{\\vec{f}\\cdot\\Delta\\vec{r}}{\\Delta t} $$\n",
    "</div>\n",
    "\n",
    "We now have as a proper ratio of differences suggesting that the result is an **average** parameter. Since $\\Delta\\vec{r}/\\Delta t = \\vec{v}_{av}$, we can also write it as\n",
    "\n",
    "<div class=\"alert alert-success\">\n",
    "    \n",
    "$$ p_{av} = \\vec{f}\\cdot\\vec{v}_{av} $$\n",
    "</div>\n",
    "\n",
    "<hr style=\"height:2px;border-width:0;color:gray;background-color:gray\">"
   ]
  }
 ],
 "metadata": {
  "celltoolbar": "Tags",
  "kernelspec": {
   "display_name": "Python 3 (ipykernel)",
   "language": "python",
   "name": "python3"
  },
  "language_info": {
   "codemirror_mode": {
    "name": "ipython",
    "version": 3
   },
   "file_extension": ".py",
   "mimetype": "text/x-python",
   "name": "python",
   "nbconvert_exporter": "python",
   "pygments_lexer": "ipython3",
   "version": "3.9.12"
  }
 },
 "nbformat": 4,
 "nbformat_minor": 4
}