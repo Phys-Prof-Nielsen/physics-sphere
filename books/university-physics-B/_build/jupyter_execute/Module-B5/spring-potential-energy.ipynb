{
 "cells": [
  {
   "cell_type": "markdown",
   "metadata": {},
   "source": [
    "# B5.3 Spring Potential Energy\n",
    "<hr style=\"height:2px;border-width:0;color:gray;background-color:gray\">"
   ]
  },
  {
   "cell_type": "markdown",
   "metadata": {},
   "source": [
    "## B5.3.1 Motivation\n",
    "\n",
    "Springs are often encountered in physics problems, both in textbook problems but also in everyday life applications. In principle, anything that can stretch or compress can be modeled as a spring system. For example, a concrete pillar in a construction. More direct examples of spring system in everyday life are suspension systems in construction and vehicles.\n",
    "\n",
    "<hr style=\"height:2px;border-width:0;color:gray;background-color:gray\">"
   ]
  },
  {
   "cell_type": "markdown",
   "metadata": {},
   "source": [
    "## B5.3.2  Hooke's Law\n",
    "\n",
    "When we first began the subject of forces, we briefly introduced the spring force for a linear spring. However, due to its position-dependent nature we deferred the spring force to this phase of the course.\n",
    "\n",
    "A spring that exhibits a restoring force that varies **linear** with position is known to obey **Hooke's law**:\n",
    "\n",
    "<div class=\"alert alert-success\">\n",
    "    \n",
    "$$ f_s = kx $$\n",
    "</div>\n",
    "\n",
    "where $k$ is the **spring constant** and $x$ is the displacement stretched/compressed from the equilibrium state of the spring. The spring constant is a measure the amount of force required to stretch/compress the spring by 1 m. The spring force is always a **restoring force** in the sense that it always is directed towards the equilibrium state of the spring.\n",
    "\n",
    "Plenty of springs exists that do not obey Hooke's law. It is just that Hooke's law is relatively simple and many spring systems encountered do to a good approximation follow this law.\n",
    "\n",
    "<hr style=\"height:2px;border-width:0;color:gray;background-color:gray\">"
   ]
  },
  {
   "cell_type": "markdown",
   "metadata": {},
   "source": [
    "## B5.3.3  Spring Potential Energy\n",
    "\n",
    "From Hooke's law, it is quite evident that it is a conservative force. For example, if we strecth the spring by an amount $x$ to the right the spring force is directed to the left: negative work is done. If we then relax the spring back to its original position, the displacement is the left and the force remains to the left as well: positive work. We can also confirm it through the following integrals:\n",
    "\n",
    "$$ w_1 = \\int_{0}^{x}(-kx')dx = -\\frac{1}{2}kx^2 $$\n",
    "\n",
    "and \n",
    "\n",
    "$$ w_2 = \\int_{x}^{0}(-kx')dx = \\frac{1}{2}kx^2 $$\n",
    "\n",
    "with a net work of $w_{net} = 0$.\n",
    "\n",
    "To find the potential energy, say we stretch the spring from $x_1$ to $x_2$ in the positive x-direction. We then have\n",
    "\n",
    "$$ u_2 - u_1 = -\\int_{x_1}^{x_2} (-kx)dx = \\frac{1}{2}kx_{2}^2 - \\frac{1}{2}kx_{1}^2 $$\n",
    "\n",
    "From this result, we conclude that\n",
    "\n",
    "<div class=\"alert alert-success\">\n",
    "    \n",
    "$$ u = \\frac{1}{2}kx^2 $$\n",
    "</div>\n",
    "\n",
    "<hr style=\"height:2px;border-width:0;color:gray;background-color:gray\">"
   ]
  },
  {
   "cell_type": "markdown",
   "metadata": {},
   "source": [
    "<div style=\"background-color: #D0D0D0 ; padding: 10px; border: 1px solid black;\">       \n",
    "<header>\n",
    "<h3> Example 1</h3>\n",
    "    </header>\n",
    "    \n",
    "A spring with a spring constant of 45 N/m is compressed by 0.25 m from its equilibrium length. How much potential energy is stored in the spring?\n",
    "\n",
    "**Solution**\n",
    "    \n",
    "Assuming a linear spring, we apply the potential energy function associated with a linear spring:\n",
    "    \n",
    "$$ u = \\frac{1}{2}kx^2 = (0.5)(45)(0.25) = 5.6~\\textrm{J} $$\n",
    "    \n",
    "</div>"
   ]
  },
  {
   "cell_type": "markdown",
   "metadata": {},
   "source": [
    "<hr style=\"height:2px;border-width:0;color:gray;background-color:gray\">"
   ]
  },
  {
   "cell_type": "markdown",
   "metadata": {},
   "source": [
    "<div style=\"background-color: #D0D0D0 ; padding: 10px; border: 1px solid black;\">       \n",
    "<header>\n",
    "<h3> Example 2</h3>\n",
    "    </header>\n",
    "    \n",
    "A block of mass 2.5 kg is attached to a linear massless spring with a spring constant of 575 N/m. Initially the system is in equilibrium on a horizontal surface. The spring-block system is then stretched 0.10 m from equilibrium and then released. If there is no friction, how fast is the block moving as it returns to equilibrium position?\n",
    "\n",
    "**Solution**\n",
    "    \n",
    "Since there is no non-conservative forces, the mechanical energy must be conserved. Since there is no change in vertical, we can set the gravitational potential energy to zero. We then have\n",
    "    \n",
    "$$ \\frac{1}{2}mv_{1}^2 + \\frac{1}{2}kx_{1}^2 = \\frac{1}{2}mv_{1}^2 + \\frac{1}{2}kx_{1}^2 $$\n",
    "\n",
    "Upon release the speed is zero and in equilibrium the displacement is zero:\n",
    "    \n",
    "$$ \\frac{1}{2}kx_{1}^2 = \\frac{1}{2}mv_{1}^2 $$\n",
    "    \n",
    "Solving for the speed:\n",
    "    \n",
    "$$ v_1 =\\sqrt{\\frac{k}{m}}x = \\sqrt{\\frac{(575)}{(2.5)}}(0.10) = 1.5~\\textrm{m/s} $$\n",
    "\n",
    "</div>"
   ]
  },
  {
   "cell_type": "markdown",
   "metadata": {},
   "source": [
    "<hr style=\"height:2px;border-width:0;color:gray;background-color:gray\">"
   ]
  }
 ],
 "metadata": {
  "celltoolbar": "Tags",
  "kernelspec": {
   "display_name": "Python 3 (ipykernel)",
   "language": "python",
   "name": "python3"
  },
  "language_info": {
   "codemirror_mode": {
    "name": "ipython",
    "version": 3
   },
   "file_extension": ".py",
   "mimetype": "text/x-python",
   "name": "python",
   "nbconvert_exporter": "python",
   "pygments_lexer": "ipython3",
   "version": "3.9.12"
  }
 },
 "nbformat": 4,
 "nbformat_minor": 4
}