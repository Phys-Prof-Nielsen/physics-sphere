{
 "cells": [
  {
   "cell_type": "markdown",
   "metadata": {},
   "source": [
    "# B3.2 Equations of Kinematics: Constant Velocity\n",
    "<hr style=\"height:2px\">"
   ]
  },
  {
   "cell_type": "markdown",
   "metadata": {},
   "source": [
    "## B3.2.1 From Previous\n",
    "In the previous note, we showed how we could obtain both **general** and **specific** functions of position through indefinite integration if we had analytical knowledge of velocity. Let us summarize the result here:\n",
    "\n",
    "<div class=\"alert alert-success\">\n",
    "    \n",
    "$$ \\vec{r}(t) = \\int \\vec{v}(t)dt + \\vec{C} \\label{eq:1} \\tag{1}$$\n",
    "</div>\n",
    "\n",
    "In this Notebook, we will explore how this derived equation reduce when we are dealing with constant velocity.\n",
    "<hr style=\"height:2px;border-width:0;color:gray;background-color:gray\">"
   ]
  },
  {
   "cell_type": "markdown",
   "metadata": {},
   "source": [
    "## B3.2.2 Position with constant velocity\n",
    "\n",
    "As in previous note, we will consider one component, say the x-component:\n",
    "\n",
    "$$ x(t) = \\int v_{x}(t)dt + C_x $$\n",
    "\n",
    "Since the velocity is inferred to be constant, we can pull it outside the integration:\n",
    "\n",
    "$$ x(t) = v_{x}\\int dt + C_x $$\n",
    "\n",
    "**Notice, that we removed the time dependency in the notation for $v_x$ to reinforce that it is a constant**.\n",
    "\n",
    "We are now integrating over $dt$, or more specifically, ($1dt$), and we thus have\n",
    "\n",
    "$$ x(t) = v_{x}t + C + C_x $$\n",
    "\n",
    "As we did in previous note, we will combine the constants into one:\n",
    "\n",
    "<div class=\"alert alert-success\">\n",
    "    \n",
    "$$ x(t) = v_{x}t + C_x \\label{eq:2} \\tag{2}$$\n",
    "</div>\n",
    "    \n",
    "or in vector form\n",
    "\n",
    "<div class=\"alert alert-success\">\n",
    "    \n",
    "$$ \\vec{r}(t) = \\vec{v}t + \\vec{C} \\label{eq:3} \\tag{3}$$\n",
    "</div>\n",
    "    \n",
    "This is obviously a much simpler general function than in previous note and it is due to the fact that the velocity is now a constant. The constant $C$ plays the same role as before: an initial condition imposed on the position and specific the location of the object at t = 0 s. It is custom to write this initial position as $x_0$ or $\\vec{r}_0$ and re-arrange the terms:\n",
    "\n",
    "<div class=\"alert alert-success\">\n",
    "    \n",
    "$$ x(t) = x_0 + v_{x}t \\label{eq:4} \\tag{4}$$\n",
    "</div>\n",
    "    \n",
    "or in vector form\n",
    "\n",
    "<div class=\"alert alert-success\">\n",
    "    \n",
    "$$ \\vec{r}(t) = \\vec{r}_0 + \\vec{v}t \\label{eq:5} \\tag{5}$$\n",
    "</div>\n",
    "    \n",
    "We should hopefully recognize this as a relationship we used in Phase D and C.\n",
    "\n",
    "<div class=\"alert alert-danger\">\n",
    "    \n",
    "The above relation is <b>only</b> valid for cases with a <b>constant</b> velocity. If you apply the above equation to a problem with non-constant velocity, you will get a wrong answer. Plain out wrong!\n",
    "</div>\n",
    "\n",
    "\n",
    "<hr style=\"height:2px;border-width:0;color:gray;background-color:gray\">"
   ]
  }
 ],
 "metadata": {
  "kernelspec": {
   "display_name": "Python 3 (ipykernel)",
   "language": "python",
   "name": "python3"
  },
  "language_info": {
   "codemirror_mode": {
    "name": "ipython",
    "version": 3
   },
   "file_extension": ".py",
   "mimetype": "text/x-python",
   "name": "python",
   "nbconvert_exporter": "python",
   "pygments_lexer": "ipython3",
   "version": "3.10.9"
  }
 },
 "nbformat": 4,
 "nbformat_minor": 4
}