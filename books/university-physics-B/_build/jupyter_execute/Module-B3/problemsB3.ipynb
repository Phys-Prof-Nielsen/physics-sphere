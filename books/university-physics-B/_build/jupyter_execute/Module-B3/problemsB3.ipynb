{
 "cells": [
  {
   "cell_type": "markdown",
   "metadata": {},
   "source": [
    "# B3.5 Problems\n",
    "<hr style=\"height:2px;border-width:0;color:gray;background-color:gray\">"
   ]
  },
  {
   "cell_type": "markdown",
   "metadata": {},
   "source": [
    "<h2>Problem B3.1</h2>\n",
    "    </header>\n",
    "\n",
    "A particle moves along the x-axis according to $x(t) = (10t - 2t^2)~\\textrm{m}$. \n",
    "1. What is the instantaneous velocity at t = 2 s and t = 3 s? \n",
    "2. What is the instantaneous speed at these times? \n",
    "3. What is the average velocity between t = 2 s and t = 3 s?\n",
    "\n",
    "This problem is a slightly modified version from OpenStax. Access for free at [https://openstax.org/books/university-physics-volume-1/pages/3-problems](https://openstax.org/books/university-physics-volume-1/pages/3-problems)"
   ]
  },
  {
   "cell_type": "code",
   "execution_count": 1,
   "metadata": {},
   "outputs": [],
   "source": [
    "# DIY Cell"
   ]
  },
  {
   "cell_type": "code",
   "execution_count": 2,
   "metadata": {
    "tags": [
     "hide-input",
     "hide-output"
    ]
   },
   "outputs": [
    {
     "name": "stdout",
     "output_type": "stream",
     "text": [
      "Instantaneous velocity at t = 2 s: 2.00000000000000 m/s\n",
      " \n",
      "Instantaneous velocity at t = 3 s: -2.00000000000000 m/s\n",
      " \n",
      "Instantaneous speed at t = 2 s: 2.00000000000000 m/s\n",
      " \n",
      "Instantaneous speed at t = 3 s: 2.00000000000000 m/s\n",
      " \n",
      "Average acceleration between t = 2 s and t = 3 s: -4.00000000000000 m/s^2\n"
     ]
    }
   ],
   "source": [
    "%reset -f\n",
    "\n",
    "import sympy as sym\n",
    "import numpy as np\n",
    "\n",
    "from sympy.abc import t\n",
    "\n",
    "x = 10*t - 2*t**2\n",
    "\n",
    "# Part 1\n",
    "vx = sym.diff(x,t)\n",
    "t2 = 2\n",
    "vx2 = vx.evalf(subs={t:t2})\n",
    "print('Instantaneous velocity at t = 2 s: '+str(vx2)+' m/s')\n",
    "\n",
    "t3 = 3\n",
    "vx3 = vx.evalf(subs={t:t3})\n",
    "print(' ')\n",
    "print('Instantaneous velocity at t = 3 s: '+str(vx3)+' m/s')\n",
    "\n",
    "# Part 2\n",
    "print(' ')\n",
    "print('Instantaneous speed at t = 2 s: '+str(np.abs(vx2))+' m/s')\n",
    "print(' ')\n",
    "print('Instantaneous speed at t = 3 s: '+str(np.abs(vx3))+' m/s')\n",
    "\n",
    "# Part 3\n",
    "dvx = vx3 - vx2\n",
    "dt = 1.0\n",
    "ax_av = dvx/dt\n",
    "print(' ')\n",
    "print('Average acceleration between t = 2 s and t = 3 s: '+str(ax_av)+' m/s^2')"
   ]
  },
  {
   "cell_type": "markdown",
   "metadata": {},
   "source": [
    "<hr style=\"height:2px;border-width:0;color:gray;background-color:gray\">"
   ]
  },
  {
   "cell_type": "markdown",
   "metadata": {},
   "source": [
    "<h2>Problem B3.2</h2>\n",
    "    </header>\n",
    "\n",
    "Between t$_0 = 0$ and t = t', a rocket moves straight upward with an acceleration given by $a(t) = A - Bt^{1/2}$, where A and B are constants. \n",
    "1. If x is in meters and t is in seconds, what are the units of A and B? \n",
    "2. If the rocket starts from rest, how does the velocity vary between t$_0$ and t'? \n",
    "3. If its initial position is zero, what is the rocket’s position as a function of time during this same time interval?\n",
    "\n",
    "This problem is a slightly modified version from OpenStax. Access for free at [https://openstax.org/books/university-physics-volume-1/pages/3-problems](https://openstax.org/books/university-physics-volume-1/pages/3-problems)"
   ]
  },
  {
   "cell_type": "code",
   "execution_count": 3,
   "metadata": {},
   "outputs": [],
   "source": [
    "# DIY Cell"
   ]
  },
  {
   "cell_type": "code",
   "execution_count": 4,
   "metadata": {
    "tags": [
     "hide-input",
     "hide-output"
    ]
   },
   "outputs": [
    {
     "name": "stdout",
     "output_type": "stream",
     "text": [
      "Unit of A: m/s^2\n",
      "Unit of B: m/s^(2.5)\n",
      "Velocity function: A*t - 0.666666666666667*B*t**1.5\n",
      "Position function: A*t**2/2 - 0.266666666666667*B*t**2.5\n"
     ]
    }
   ],
   "source": [
    "%reset -f\n",
    "\n",
    "import sympy as sym\n",
    "from sympy.abc import A, B, t\n",
    "\n",
    "t0 = 0\n",
    "\n",
    "az = A - B*t**0.5\n",
    "\n",
    "# Part 1\n",
    "print('Unit of A: m/s^2')\n",
    "print('Unit of B: m/s^(2.5)')\n",
    "\n",
    "# Part 2\n",
    "v0z = 0\n",
    "vz = sym.integrate(az,t)\n",
    "vz = vz + v0z\n",
    "print('Velocity function: '+str(vz))\n",
    "\n",
    "# Part 3\n",
    "z0 = 0\n",
    "z = sym.integrate(vz,t)\n",
    "z = z + z0\n",
    "print('Position function: '+str(z))"
   ]
  },
  {
   "cell_type": "markdown",
   "metadata": {},
   "source": [
    "<hr style=\"height:2px;border-width:0;color:gray;background-color:gray\">"
   ]
  },
  {
   "cell_type": "markdown",
   "metadata": {},
   "source": [
    "<h2>Problem B3.3</h2>\n",
    "    </header>\n",
    "\n",
    "The position of a particle moving along the x-axis varies with time according to $x(t) = (5.0t^2 - 4.0t^3)~\\textrm{m}$. Find \n",
    "1. the velocity and acceleration of the particle as functions of time.\n",
    "2. the velocity and acceleration at t = 2.0 s.\n",
    "2. the time at which the position is a maximum.\n",
    "4. the time at which the velocity is zero.\n",
    "5. the maximum position.\n",
    "\n",
    "This problem is a slightly modified version from OpenStax. Access for free at [https://openstax.org/books/university-physics-volume-1/pages/3-problems](https://openstax.org/books/university-physics-volume-1/pages/3-problems)"
   ]
  },
  {
   "cell_type": "code",
   "execution_count": 5,
   "metadata": {},
   "outputs": [],
   "source": [
    "# DIY Cell"
   ]
  },
  {
   "cell_type": "code",
   "execution_count": 6,
   "metadata": {
    "tags": [
     "hide-input",
     "hide-output"
    ]
   },
   "outputs": [
    {
     "name": "stdout",
     "output_type": "stream",
     "text": [
      "Velocity function: -12.0*t**2 + 10.0*t\n",
      "Acceleration function: 10.0 - 24.0*t\n",
      " \n",
      "Instantaneous velocity at t = 2 s: -28.0000000000000 m/s\n",
      "Instantaneous velocity at t = 2 s: -38.0000000000000 m/s^2\n",
      " \n",
      "Position is a maximum at: 0.833333333333333 s\n",
      " \n",
      "Velocity is zero at: t = 0 s and at t = 0.833333333333333 s\n",
      "Maximum position: 1.15740740740741 m\n"
     ]
    }
   ],
   "source": [
    "%reset -f\n",
    "\n",
    "import sympy as sym\n",
    "from sympy.abc import t\n",
    "\n",
    "x = 5.0*t**2 - 4.0*t**3\n",
    "\n",
    "# Part 1\n",
    "vx = sym.diff(x,t)\n",
    "print('Velocity function: '+str(vx))\n",
    "\n",
    "ax = sym.diff(vx,t)\n",
    "print('Acceleration function: '+str(ax))\n",
    "print(' ')\n",
    "\n",
    "# Part 2\n",
    "t2 = 2\n",
    "vx2 = vx.evalf(subs={t:t2})\n",
    "print('Instantaneous velocity at t = 2 s: '+str(vx2)+' m/s')\n",
    "ax2 = ax.evalf(subs={t:t2})\n",
    "print('Instantaneous velocity at t = 2 s: '+str(ax2)+' m/s^2')\n",
    "print(' ')\n",
    "\n",
    "# Part 3\n",
    "# x is max when vx = 0\n",
    "sol = sym.solve(vx,t)\n",
    "t_max = sol[1]\n",
    "print('Position is a maximum at: '+str(t_max)+' s')\n",
    "print(' ')\n",
    "\n",
    "# Part 4\n",
    "print('Velocity is zero at: t = 0 s and at t = '+str(t_max)+' s')\n",
    "\n",
    "# Part 5\n",
    "x_max = x.evalf(subs={t:t_max})\n",
    "print('Maximum position: '+str(x_max)+' m')"
   ]
  },
  {
   "cell_type": "markdown",
   "metadata": {},
   "source": [
    "<hr style=\"height:2px;border-width:0;color:gray;background-color:gray\">"
   ]
  },
  {
   "cell_type": "markdown",
   "metadata": {},
   "source": [
    "<h2>Problem B3.4</h2>\n",
    "    </header>\n",
    "\n",
    "The position of a particle for t > 0 is given by $\\vec{r} = [(3.0t^2)\\hat{i} + (-7.0t^3)\\hat{j} + (-5.0t^{-2})\\hat{k}]~\\textrm{m}$. \n",
    "\n",
    "1. What is the velocity as a function of time?\n",
    "2. What is the acceleration as a function of time?\n",
    "3. What is the particle’s velocity at t = 2.0 s?\n",
    "4. What is its speed at t = 1.0 s and t = 3.0 s? \n",
    "5. What is the average velocity between t = 1.0 s and t = 2.0 s?\n",
    "\n",
    "This problem is a slightly modified version from OpenStax. Access for free at [https://openstax.org/books/university-physics-volume-1/pages/4-problems](https://openstax.org/books/university-physics-volume-1/pages/4-problems)"
   ]
  },
  {
   "cell_type": "markdown",
   "metadata": {},
   "source": [
    "<hr style=\"height:2px;border-width:0;color:gray;background-color:gray\">"
   ]
  },
  {
   "cell_type": "markdown",
   "metadata": {},
   "source": [
    "<h2>Problem B3.5</h2>\n",
    "    </header>\n",
    "\n",
    "1. Sketch the acceleration-versus-time graph from the following velocity-versus-time graph.\n",
    "2. What is the displacement between t = 0 s and t = 20 s?\n",
    "3. What is the displacement between t = 90 s and t = 100 s?\n",
    "4. What is the displacement between t = 0 and t = 100 s?\n",
    "\n",
    "<img src=\"P-B3.5.png\"  width=\"300\"/>\n",
    "\n",
    "This problem is a slightly modified version from OpenStax. Access for free at [https://openstax.org/books/university-physics-volume-1/pages/3-problems](https://openstax.org/books/university-physics-volume-1/pages/3-problems)"
   ]
  },
  {
   "cell_type": "markdown",
   "metadata": {},
   "source": [
    "<hr style=\"height:2px;border-width:0;color:gray;background-color:gray\">"
   ]
  }
 ],
 "metadata": {
  "celltoolbar": "Tags",
  "kernelspec": {
   "display_name": "Python 3 (ipykernel)",
   "language": "python",
   "name": "python3"
  },
  "language_info": {
   "codemirror_mode": {
    "name": "ipython",
    "version": 3
   },
   "file_extension": ".py",
   "mimetype": "text/x-python",
   "name": "python",
   "nbconvert_exporter": "python",
   "pygments_lexer": "ipython3",
   "version": "3.9.12"
  }
 },
 "nbformat": 4,
 "nbformat_minor": 4
}