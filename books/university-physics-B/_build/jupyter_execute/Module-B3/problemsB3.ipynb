{
 "cells": [
  {
   "cell_type": "markdown",
   "metadata": {},
   "source": [
    "# B3.5 Problems\n",
    "<hr style=\"height:2px;border-width:0;color:gray;background-color:gray\">"
   ]
  },
  {
   "cell_type": "markdown",
   "metadata": {},
   "source": [
    "<h2>Problem B3.1</h2>\n",
    "    </header>\n",
    "\n",
    "A particle moves along the x-axis according to $x(t) = (10t - 2t^2)~\\textrm{m}$. \n",
    "1. What is the instantaneous velocity at t = 2 s and t = 3 s? \n",
    "2. What is the instantaneous speed at these times? \n",
    "3. What is the average velocity between t = 2 s and t = 3 s?\n",
    "\n",
    "This problem is a slightly modified version from OpenStax. Access for free at [https://openstax.org/books/university-physics-volume-1/pages/3-problems](https://openstax.org/books/university-physics-volume-1/pages/3-problems)"
   ]
  },
  {
   "cell_type": "markdown",
   "metadata": {},
   "source": [
    "<hr style=\"height:2px;border-width:0;color:gray;background-color:gray\">"
   ]
  },
  {
   "cell_type": "markdown",
   "metadata": {},
   "source": [
    "<h2>Problem B3.2</h2>\n",
    "    </header>\n",
    "\n",
    "Between t$_0 = 0$ and t = t', a rocket moves straight upward with an acceleration given by $a(t) = A - Bt^{1/2}$, where A and B are constants. \n",
    "1. If x is in meters and t is in seconds, what are the units of A and B? \n",
    "2. If the rocket starts from rest, how does the velocity vary between t$_0$ and t'? \n",
    "3. If its initial position is zero, what is the rocket’s position as a function of time during this same time interval?\n",
    "\n",
    "This problem is a slightly modified version from OpenStax. Access for free at [https://openstax.org/books/university-physics-volume-1/pages/3-problems](https://openstax.org/books/university-physics-volume-1/pages/3-problems)"
   ]
  },
  {
   "cell_type": "markdown",
   "metadata": {},
   "source": [
    "<hr style=\"height:2px;border-width:0;color:gray;background-color:gray\">"
   ]
  },
  {
   "cell_type": "markdown",
   "metadata": {},
   "source": [
    "<h2>Problem B3.3</h2>\n",
    "    </header>\n",
    "\n",
    "The position of a particle moving along the x-axis varies with time according to $x(t) = (5.0t^2 - 4.0t^3)~\\textrm{m}$. Find \n",
    "1. the velocity and acceleration of the particle as functions of time.\n",
    "2. the velocity and acceleration at t = 2.0 s.\n",
    "2. the time at which the position is a maximum.\n",
    "4. the time at which the velocity is zero.\n",
    "5. the maximum position.\n",
    "\n",
    "This problem is a slightly modified version from OpenStax. Access for free at [https://openstax.org/books/university-physics-volume-1/pages/3-problems](https://openstax.org/books/university-physics-volume-1/pages/3-problems)"
   ]
  },
  {
   "cell_type": "markdown",
   "metadata": {},
   "source": [
    "<hr style=\"height:2px;border-width:0;color:gray;background-color:gray\">"
   ]
  },
  {
   "cell_type": "markdown",
   "metadata": {},
   "source": [
    "<h2>Problem B3.4</h2>\n",
    "    </header>\n",
    "\n",
    "The position of a particle for t > 0 is given by $\\vec{r} = [(3.0t^2)\\hat{i} + (-7.0t^3)\\hat{j} + (-5.0t^{-2})\\hat{k}]~\\textrm{m}$. \n",
    "\n",
    "1. What is the velocity as a function of time?\n",
    "2. What is the acceleration as a function of time?\n",
    "3. What is the particle’s velocity at t = 2.0 s?\n",
    "4. What is its speed at t = 1.0 s and t = 3.0 s? \n",
    "5. What is the average velocity between t = 1.0 s and t = 2.0 s?\n",
    "\n",
    "This problem is a slightly modified version from OpenStax. Access for free at [https://openstax.org/books/university-physics-volume-1/pages/4-problems](https://openstax.org/books/university-physics-volume-1/pages/4-problems)"
   ]
  },
  {
   "cell_type": "markdown",
   "metadata": {},
   "source": [
    "<hr style=\"height:2px;border-width:0;color:gray;background-color:gray\">"
   ]
  }
 ],
 "metadata": {
  "celltoolbar": "Tags",
  "kernelspec": {
   "display_name": "Python 3 (ipykernel)",
   "language": "python",
   "name": "python3"
  },
  "language_info": {
   "codemirror_mode": {
    "name": "ipython",
    "version": 3
   },
   "file_extension": ".py",
   "mimetype": "text/x-python",
   "name": "python",
   "nbconvert_exporter": "python",
   "pygments_lexer": "ipython3",
   "version": "3.9.12"
  }
 },
 "nbformat": 4,
 "nbformat_minor": 4
}