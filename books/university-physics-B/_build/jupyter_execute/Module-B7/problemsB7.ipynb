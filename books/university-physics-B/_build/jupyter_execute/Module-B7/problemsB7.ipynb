{
 "cells": [
  {
   "cell_type": "markdown",
   "metadata": {},
   "source": [
    "# B7.x Problems\n",
    "<hr style=\"height:2px;border-width:0;color:gray;background-color:gray\">"
   ]
  },
  {
   "cell_type": "markdown",
   "metadata": {},
   "source": [
    "<h2>Problem B7.1</h2>\n",
    "    </header>\n",
    "\n",
    "An ultracentrifuge accelerates from rest to 100,000 rpm in 2.00 min.\n",
    "\n",
    "1. What is its angular acceleration in  rad/s$^2$? \n",
    "2. What is the tangential acceleration of a point 9.50 cm from the axis of rotation?\n",
    "\n",
    "This problem is a slightly modified version from OpenStax. Access for free at [https://openstax.org/books/college-physics-2e/pages/10-problems-exercises](https://openstax.org/books/college-physics-2e/pages/10-problems-exercises)"
   ]
  },
  {
   "cell_type": "code",
   "execution_count": 1,
   "metadata": {},
   "outputs": [],
   "source": [
    "# DIY Cell"
   ]
  },
  {
   "cell_type": "code",
   "execution_count": 2,
   "metadata": {
    "tags": [
     "hide-input",
     "hide-output"
    ]
   },
   "outputs": [
    {
     "name": "stdout",
     "output_type": "stream",
     "text": [
      "Angular acceleration: 87.26646259971648 rad/s²\n",
      " \n",
      "Tangential acceleration: 8.290313946973065 m/s²\n"
     ]
    }
   ],
   "source": [
    "%reset -f\n",
    "\n",
    "import numpy as np\n",
    "\n",
    "w1 = 0.0\n",
    "w2 = 1e5*(2*np.pi/1)*(1/60) #convert rev to rad and min to sec\n",
    "dt = 2.00*(60/1) #elapsed time in sec\n",
    "\n",
    "alpha = (w2 - w1)/dt\n",
    "print('Angular acceleration: '+str(alpha)+' rad/s\\u00b2')\n",
    "print(' ')\n",
    "\n",
    "R = 9.50e-2\n",
    "vt = R*alpha\n",
    "print('Tangential acceleration: '+str(vt)+' m/s\\u00b2')"
   ]
  },
  {
   "cell_type": "markdown",
   "metadata": {},
   "source": [
    "<hr style=\"height:2px;border-width:0;color:gray;background-color:gray\">"
   ]
  },
  {
   "cell_type": "markdown",
   "metadata": {},
   "source": [
    "<h2>Problem B7.2</h2>\n",
    "    </header>\n",
    "\n",
    "A wheel has a constant angular acceleration of 5.0 rad/s$^2$. Starting from rest, it turns through 300 rad. \n",
    "\n",
    "1. What is its final angular velocity? \n",
    "2. How much time elapses while it turns through the 300 radians?\n",
    "\n",
    "This problem is a slightly modified version from OpenStax. Access for free at [https://openstax.org/books/university-physics-volume-1/pages/10-problems](https://openstax.org/books/university-physics-volume-1/pages/10-problems)"
   ]
  },
  {
   "cell_type": "code",
   "execution_count": 3,
   "metadata": {},
   "outputs": [],
   "source": [
    "# DIY Cell"
   ]
  },
  {
   "cell_type": "code",
   "execution_count": 4,
   "metadata": {
    "tags": [
     "hide-input",
     "hide-output"
    ]
   },
   "outputs": [
    {
     "name": "stdout",
     "output_type": "stream",
     "text": [
      "Final angular speed: 54.7722557505166 rad/s\n",
      " \n",
      "Elapsed time: 10.9544511501033 s\n"
     ]
    }
   ],
   "source": [
    "%reset -f\n",
    "\n",
    "import sympy as sp\n",
    "\n",
    "alpha = 5.0\n",
    "dtheta = 300\n",
    "wi = 0.0\n",
    "\n",
    "wf = sp.Symbol('wf')\n",
    "eq1 = wf**2 - wi*2 - 2*alpha*dtheta\n",
    "sol1 = sp.solve(eq1,wf)\n",
    "print('Final angular speed: '+str(sol1[1])+' rad/s')\n",
    "print(' ')\n",
    "\n",
    "wf = sol1[1]\n",
    "dt = (wf - wi)/alpha\n",
    "print('Elapsed time: '+str(dt)+' s')"
   ]
  },
  {
   "cell_type": "markdown",
   "metadata": {},
   "source": [
    "<hr style=\"height:2px;border-width:0;color:gray;background-color:gray\">"
   ]
  },
  {
   "cell_type": "markdown",
   "metadata": {},
   "source": [
    "<h2>Problem B7.3</h2>\n",
    "    </header>\n",
    "\n",
    "On takeoff, the propellers on a UAV (unmanned aerial vehicle) increase their angular velocity for 3.0 s from rest at a rate of $\\omega = (25.0t)~\\textrm{rad/s}$ where t is measured in seconds. \n",
    "\n",
    "1. What is the instantaneous angular velocity of the propellers at t = 2.0s?\n",
    "2. What is the angular acceleration?\n",
    "\n",
    "This problem is a slightly modified version from OpenStax. Access for free at [https://openstax.org/books/university-physics-volume-1/pages/10-problems](https://openstax.org/books/university-physics-volume-1/pages/10-problems)"
   ]
  },
  {
   "cell_type": "code",
   "execution_count": 5,
   "metadata": {},
   "outputs": [],
   "source": [
    "# DIY Cell"
   ]
  },
  {
   "cell_type": "code",
   "execution_count": 6,
   "metadata": {
    "tags": [
     "hide-input",
     "hide-output"
    ]
   },
   "outputs": [
    {
     "name": "stdout",
     "output_type": "stream",
     "text": [
      "Inst. angular speed at t = 3 s: 50. rad/s\n",
      " \n",
      "Angular acceleration: 25.0000000000000 rad/s²\n"
     ]
    }
   ],
   "source": [
    "%reset -f\n",
    "\n",
    "import sympy as sp\n",
    "\n",
    "w1 = 0.0\n",
    "\n",
    "t = sp.Symbol('t')\n",
    "w = 25.0*t\n",
    "\n",
    "w3 = w.evalf(2,subs={t:2}) \n",
    "print('Inst. angular speed at t = 3 s: '+str(w3)+' rad/s')\n",
    "print(' ')\n",
    "\n",
    "alpha = sp.diff(w,t)\n",
    "print('Angular acceleration: '+str(alpha)+' rad/s\\u00b2')"
   ]
  },
  {
   "cell_type": "markdown",
   "metadata": {},
   "source": [
    "<hr style=\"height:2px;border-width:0;color:gray;background-color:gray\">"
   ]
  },
  {
   "cell_type": "markdown",
   "metadata": {},
   "source": [
    "<h2>Problem B7.4</h2>\n",
    "    </header>\n",
    "\n",
    "The angular velocity vs. time for a fan on a hovercraft is shown below. \n",
    "\n",
    "1. What is the angle through which the fan blades rotate in the first 8 seconds? \n",
    "2. Verify your result using the kinematic equations.\n",
    "\n",
    "<img src=\"B7-P7.5.png\"  width=\"400\"/>\n",
    "\n",
    "This problem is a slightly modified version from OpenStax. Access for free at [https://openstax.org/books/university-physics-volume-1/pages/10-problems](https://openstax.org/books/university-physics-volume-1/pages/10-problems)"
   ]
  },
  {
   "cell_type": "code",
   "execution_count": 7,
   "metadata": {},
   "outputs": [],
   "source": [
    "# DIY Cell"
   ]
  },
  {
   "cell_type": "code",
   "execution_count": 8,
   "metadata": {
    "tags": [
     "hide-input",
     "hide-output"
    ]
   },
   "outputs": [
    {
     "name": "stdout",
     "output_type": "stream",
     "text": [
      "The angular displacement is: 167.55160819145564 rad\n",
      " \n",
      "Using a derived equation of kinemetics: 167.551608191456 rad\n"
     ]
    }
   ],
   "source": [
    "%reset -f\n",
    "\n",
    "import numpy as np\n",
    "import sympy as sp\n",
    "\n",
    "#displacement is the area on a velocity vs time graph\n",
    "\n",
    "run = 8.0 # in seconds\n",
    "rise = 400*(2*np.pi/1)*(1/60) #in rad/s\n",
    "\n",
    "area = 0.5*run*rise\n",
    "\n",
    "print('The angular displacement is: '+str(area)+' rad')\n",
    "print(' ')\n",
    "\n",
    "dtheta = sp.Symbol('dtheta')\n",
    "t = 8.0\n",
    "w0 = 0.0\n",
    "\n",
    "#acceleration is constant\n",
    "alpha = rise/run\n",
    "eq = dtheta - w0*t -0.5*alpha*t**2  \n",
    "sol = sp.solve(eq,dtheta)\n",
    "print('Using a derived equation of kinemetics: '+str(sol[0])+' rad')"
   ]
  },
  {
   "cell_type": "markdown",
   "metadata": {},
   "source": [
    "<hr style=\"height:2px;border-width:0;color:gray;background-color:gray\">"
   ]
  },
  {
   "cell_type": "markdown",
   "metadata": {},
   "source": [
    "<h2>Problem B7.5</h2>\n",
    "    </header>\n",
    "\n",
    "The angular acceleration of a rotating rigid body is given by $\\alpha = (2.0 - 3.0t)~\\textrm{rad/s}^2$. If the body starts rotating from rest at t = 0 s and at $\\theta_0 = 0.15~\\textrm{rad}$, \n",
    "\n",
    "1. what is the angular speed as a function of time? \n",
    "2. Angular position as function of time? \n",
    "3. What angle does it rotate through in 10 s? \n",
    "\n",
    "This problem is a slightly modified version from OpenStax. Access for free at [https://openstax.org/books/university-physics-volume-1/pages/10-problems](https://openstax.org/books/university-physics-volume-1/pages/10-problems)"
   ]
  },
  {
   "cell_type": "code",
   "execution_count": 9,
   "metadata": {},
   "outputs": [],
   "source": [
    "# DIY Cell"
   ]
  },
  {
   "cell_type": "code",
   "execution_count": 10,
   "metadata": {
    "tags": [
     "hide-input",
     "hide-output"
    ]
   },
   "outputs": [
    {
     "name": "stdout",
     "output_type": "stream",
     "text": [
      "Angular speed (in rad/s): -1.5*t**2 + 2.0*t\n",
      "Angular position (in rad): -0.5*t**3 + 1.0*t**2 + 0.15\n",
      "Angular distance (in rad): -400.000000000000\n"
     ]
    }
   ],
   "source": [
    "%reset -f\n",
    "import sympy as sym\n",
    "\n",
    "w0 = 0.0\n",
    "theta0 = 0.15\n",
    "\n",
    "#integral variable\n",
    "t = sym.Symbol('t')\n",
    "\n",
    "# PART 1\n",
    "#-------------------\n",
    "#function to integrate\n",
    "alpha = 2.0 - 3.0*t \n",
    "\n",
    "omega = sym.integrate(alpha,t)\n",
    "\n",
    "print('Angular speed (in rad/s): '+str(omega))\n",
    "#-------------------\n",
    "\n",
    "# PART 2\n",
    "#-------------------\n",
    "theta = sym.integrate(omega,t)\n",
    "print('Angular position (in rad): '+str(theta+theta0))\n",
    "#-------------------\n",
    "\n",
    "# PART 3\n",
    "#-------------------\n",
    "t1 = 0.0\n",
    "t2 = 10.0\n",
    "\n",
    "dtheta = sym.integrate(omega,(t,t1,t2))\n",
    "print('Angular distance (in rad): '+str(dtheta))\n",
    "#-------------------"
   ]
  },
  {
   "cell_type": "markdown",
   "metadata": {},
   "source": [
    "<hr style=\"height:2px;border-width:0;color:gray;background-color:gray\">"
   ]
  },
  {
   "cell_type": "markdown",
   "metadata": {},
   "source": [
    "<h2>Problem B7.6</h2>\n",
    "    </header>\n",
    "\n",
    "A fairground ride spins its occupants inside a flying saucer-shaped container. If the horizontal circular path the riders follow has an 8.00 m radius, at how many revolutions per minute are the riders subjected to a centripetal acceleration equal to that of gravity?\n",
    "\n",
    "This problem is a slightly modified version from OpenStax. Access for free at [https://openstax.org/books/university-physics-volume-1/pages/4-problems](https://openstax.org/books/university-physics-volume-1/pages/4-problems)"
   ]
  },
  {
   "cell_type": "code",
   "execution_count": 11,
   "metadata": {},
   "outputs": [],
   "source": [
    "# DIY Cell"
   ]
  },
  {
   "cell_type": "code",
   "execution_count": 12,
   "metadata": {
    "tags": [
     "hide-input",
     "hide-output"
    ]
   },
   "outputs": [
    {
     "name": "stdout",
     "output_type": "stream",
     "text": [
      "Angular velocity in rad/s = 1.10736172951751\n",
      "Angular velocity in rev/min = 10.5745255826101\n"
     ]
    }
   ],
   "source": [
    "%reset -f\n",
    "import sympy as sym\n",
    "import numpy as np\n",
    "\n",
    "a = -9.81\n",
    "R = 8.00\n",
    "\n",
    "#unknown variable: omega (angular speed)\n",
    "w = sym.Symbol('w')\n",
    "\n",
    "#equation to be solved: a = -rw^2 --> 0 = a + Rw^2\n",
    "eq1 = a + R*w**2\n",
    "\n",
    "sol1 = sym.solve(eq1,w)\n",
    "\n",
    "print('Angular velocity in rad/s = '+str(sol1[1]))\n",
    "\n",
    "w_rad = sol1[1]\n",
    "w_rev = w_rad*(1.0/(2*np.pi))*(60.0/1)\n",
    "print('Angular velocity in rev/min = '+str(w_rev))"
   ]
  },
  {
   "cell_type": "markdown",
   "metadata": {},
   "source": [
    "<hr style=\"height:2px;border-width:0;color:gray;background-color:gray\">"
   ]
  },
  {
   "cell_type": "markdown",
   "metadata": {},
   "source": [
    "<h2>Problem B7.7</h2>\n",
    "    </header>\n",
    "\n",
    "What is the ideal banking angle for a gentle turn of 1.20-km radius on a highway with a 105 km/h speed limit (about 65 mi/h), assuming everyone travels at the limit?\n",
    "\n",
    "This problem is a slightly modified version from OpenStax. Access for free at [https://openstax.org/books/university-physics-volume-1/pages/6-problems](https://openstax.org/books/university-physics-volume-1/pages/6-problems)"
   ]
  },
  {
   "cell_type": "code",
   "execution_count": 13,
   "metadata": {},
   "outputs": [],
   "source": [
    "# DIY Cell"
   ]
  },
  {
   "cell_type": "code",
   "execution_count": 14,
   "metadata": {
    "tags": [
     "hide-input",
     "hide-output"
    ]
   },
   "outputs": [
    {
     "name": "stdout",
     "output_type": "stream",
     "text": [
      "Ideal banking angle in degrees: 4.13325026089175\n"
     ]
    }
   ],
   "source": [
    "%reset -f\n",
    "import sympy as sym\n",
    "import numpy as np\n",
    "\n",
    "v = 105.0\n",
    "g = 9.81\n",
    "R = 1.20E3 #in meters\n",
    "\n",
    "#convert speed from km/hr to m/s\n",
    "v = v*(1000.0/1.0)*(1.0/3600.0)\n",
    "\n",
    "#unknown variables \n",
    "theta = sym.Symbol('theta')   #banking angle\n",
    "fn = sym.Symbol('fn')   #normal force\n",
    "m = sym.Symbol('m')   #mass\n",
    "\n",
    "#horizontal normal force provides the force for centripetal acceleration\n",
    "#vertical normal force is balanced by force of gravity\n",
    "\n",
    "eq1 = fn*sym.cos(theta) - m*g\n",
    "eq2 = -m*(v**2)/R + fn*sym.sin(theta)\n",
    "\n",
    "sol = sym.solve((eq1,eq2),(theta,fn))\n",
    "\n",
    "print('Ideal banking angle in degrees: '+str(sol[0][0]*180.0/np.pi))"
   ]
  },
  {
   "cell_type": "markdown",
   "metadata": {},
   "source": [
    "<hr style=\"height:2px;border-width:0;color:gray;background-color:gray\">"
   ]
  },
  {
   "cell_type": "markdown",
   "metadata": {},
   "source": [
    "<h2>Problem B7.8</h2>\n",
    "    </header>\n",
    "\n",
    "If a car takes a banked curve at less than the ideal speed, friction is needed to keep it from sliding toward the inside of the curve (a problem on icy mountain roads).\n",
    "\n",
    "1. Calculate the ideal speed to take a 100.0 m radius curve banked at 15.0$^\\circ$.\n",
    "2. What is the minimum coefficient of friction needed for a frightened driver to take the same curve at 20.0 km/h?\n",
    "\n",
    "This problem is a slightly modified version from OpenStax. Access for free at [https://openstax.org/books/university-physics-volume-1/pages/6-problems](https://openstax.org/books/university-physics-volume-1/pages/6-problems)"
   ]
  },
  {
   "cell_type": "code",
   "execution_count": 15,
   "metadata": {},
   "outputs": [],
   "source": [
    "# DIY Cell"
   ]
  },
  {
   "cell_type": "code",
   "execution_count": 16,
   "metadata": {
    "tags": [
     "hide-input",
     "hide-output"
    ]
   },
   "outputs": [
    {
     "name": "stdout",
     "output_type": "stream",
     "text": [
      "Ideal speed in m/s: 16.2129009672832\n",
      "Ideal speed in km/hr: 58.3664434822194\n",
      "Coefficient of friction: 0.234510246558863\n"
     ]
    }
   ],
   "source": [
    "%reset -f\n",
    "import sympy as sym\n",
    "import numpy as np\n",
    "\n",
    "# PART 1\n",
    "#-------------------------\n",
    "# no friction\n",
    "g = 9.81\n",
    "R = 1.00E2 #in meters\n",
    "theta = 15.0*np.pi/180.0  #converted to radians\n",
    "\n",
    "#unknown variables \n",
    "v = sym.Symbol('v')   #speed\n",
    "fn = sym.Symbol('fn')   #normal force\n",
    "m = sym.Symbol('m')   #mass\n",
    "\n",
    "#horizontal forces provides the force for centripetal acceleration\n",
    "#vertical normal force is balanced by force of gravity\n",
    "\n",
    "eq1 = fn*sym.cos(theta) - m*g\n",
    "eq2 = -m*(v**2)/R + fn*sym.sin(theta)\n",
    "\n",
    "sol = sym.solve((eq1,eq2),(v,fn))\n",
    "\n",
    "print('Ideal speed in m/s: '+str(sol[1][0]))\n",
    "print('Ideal speed in km/hr: '+str(sol[1][0]*3600.0/1000.))\n",
    "#---------------------------\n",
    "\n",
    "# PART 1\n",
    "#-------------------------\n",
    "#with friction\n",
    "g = 9.81\n",
    "R = 1.00E2 #in meters\n",
    "theta = 15.0*np.pi/180.0  #converted to radians\n",
    "v = 20.0   #km/hr\n",
    "\n",
    "v = 20.0*(1000.0/1.0)*(1.0/3600.0)   #m/s\n",
    "\n",
    "#unknown variables \n",
    "mu = sym.Symbol('mu')   #coefficient of friction\n",
    "fn = sym.Symbol('fn')   #normal force\n",
    "ff = sym.Symbol('ff')   #friction force\n",
    "m = sym.Symbol('m')   #mass\n",
    "\n",
    "#horizontal forces provides the force for centripetal acceleration\n",
    "#vertical forces are balanced\n",
    "\n",
    "eq1 = fn*sym.cos(theta) - m*g + ff*sym.sin(theta)\n",
    "eq2 = -m*(v**2)/R + fn*sym.sin(theta) - ff*sym.cos(theta)\n",
    "eq3 = ff - fn*mu\n",
    "\n",
    "sol = sym.solve((eq1,eq2,eq3),(v,fn,ff,mu))\n",
    "\n",
    "print('Coefficient of friction: '+str(sol[0][3]))\n",
    "#---------------------------"
   ]
  },
  {
   "cell_type": "markdown",
   "metadata": {},
   "source": [
    "<hr style=\"height:2px;border-width:0;color:gray;background-color:gray\">"
   ]
  },
  {
   "cell_type": "markdown",
   "metadata": {},
   "source": [
    "<h2>Problem B7.9</h2>\n",
    "    </header>\n",
    "\n",
    "A car rounds an unbanked curve of radius 65 m. If the coefficient of static friction between the road and car is 0.70, what is the maximum speed at which the car can traverse the curve without slipping?\n",
    "\n",
    "This problem is a slightly modified version from OpenStax. Access for free at [https://openstax.org/books/university-physics-volume-1/pages/6-problems](https://openstax.org/books/university-physics-volume-1/pages/6-problems)"
   ]
  },
  {
   "cell_type": "code",
   "execution_count": 17,
   "metadata": {},
   "outputs": [],
   "source": [
    "# DIY Cell"
   ]
  },
  {
   "cell_type": "code",
   "execution_count": 18,
   "metadata": {
    "tags": [
     "hide-input",
     "hide-output"
    ]
   },
   "outputs": [
    {
     "name": "stdout",
     "output_type": "stream",
     "text": [
      "Speed: 21.1271152787123\n"
     ]
    }
   ],
   "source": [
    "%reset -f\n",
    "import sympy as sym\n",
    "import numpy as np\n",
    "\n",
    "\n",
    "g = 9.81\n",
    "R = 65.0\n",
    "mu = 0.70\n",
    "\n",
    "#unknown variables \n",
    "v = sym.Symbol('v')   #speed\n",
    "fn = sym.Symbol('fn')   #normal force\n",
    "ff = sym.Symbol('ff')   #friction force\n",
    "m = sym.Symbol('m')   #mass\n",
    "\n",
    "#horizontal frictional force provides the force for centripetal acceleration\n",
    "#vertical forces are balanced\n",
    "\n",
    "eq1 = fn - m*g \n",
    "eq2 = -m*(v**2)/R + ff\n",
    "eq3 = ff - fn*mu\n",
    "\n",
    "sol = sym.solve((eq1,eq2,eq3),(v,fn,ff))\n",
    "\n",
    "print('Speed: '+str(sol[1][0]))\n",
    "#---------------------------"
   ]
  },
  {
   "cell_type": "markdown",
   "metadata": {},
   "source": [
    "<hr style=\"height:2px;border-width:0;color:gray;background-color:gray\">"
   ]
  },
  {
   "cell_type": "markdown",
   "metadata": {},
   "source": [
    "<h2>Problem B7.10</h2>\n",
    "    </header>\n",
    "\n",
    "Part of riding a bicycle involves leaning at the correct angle when making a turn, as seen below. To be stable, the force exerted by the ground must be on a line going through the center of gravity. The force on the bicycle wheel can be resolved into two perpendicular components: friction parallel to the road (this must supply the centripetal force) and the vertical normal force (which must equal the system’s weight). \n",
    "\n",
    "1. Show that $\\theta$ (as defined as shown) is related to the speed $v$ and radius of curvature $r$ of the turn in the same way as for an ideally banked roadway—that is, $\\theta = \\tan^{-1}\\left(\\frac{v^2}{gr}\\right)$.\n",
    " \n",
    "2. Calculate $\\theta$ for a 12.0 m/s turn of radius 30.0 m (as in a race).\n",
    "\n",
    "<img src=\"B7-P7.11.png\"  width=\"400\"/>\n",
    "\n",
    "[This problem is a slightly modified version from OpenStax. Access for free here](https://openstax.org/books/university-physics-volume-1/pages/6-problems)"
   ]
  },
  {
   "cell_type": "code",
   "execution_count": 19,
   "metadata": {},
   "outputs": [],
   "source": [
    "# DIY Cell"
   ]
  },
  {
   "cell_type": "code",
   "execution_count": 20,
   "metadata": {
    "tags": [
     "hide-input",
     "hide-output"
    ]
   },
   "outputs": [],
   "source": [
    "%reset -f"
   ]
  },
  {
   "cell_type": "markdown",
   "metadata": {},
   "source": [
    "<hr style=\"height:2px;border-width:0;color:gray;background-color:gray\">"
   ]
  },
  {
   "cell_type": "markdown",
   "metadata": {},
   "source": [
    "<h2>Problem B7.11</h2>\n",
    "    </header>\n",
    "\n",
    "Modern roller coasters have vertical loops like the one shown here. The radius of curvature is smaller at the top than on the sides so that the downward centripetal acceleration at the top will be greater than the acceleration due to gravity, keeping the passengers pressed firmly into their seats. What is the speed of the roller coaster at the top of the loop if the radius of curvature there is 15.0 m and the downward acceleration of the car is 1.50 g?\n",
    "\n",
    "<img src=\"B7-P7.12.png\"  width=\"400\"/>\n",
    "\n",
    "[This problem is a slightly modified version from OpenStax. Access for free here](https://openstax.org/books/university-physics-volume-1/pages/6-problems)"
   ]
  },
  {
   "cell_type": "code",
   "execution_count": 21,
   "metadata": {},
   "outputs": [],
   "source": [
    "# DIY Cell"
   ]
  },
  {
   "cell_type": "code",
   "execution_count": 22,
   "metadata": {
    "tags": [
     "hide-input",
     "hide-output"
    ]
   },
   "outputs": [
    {
     "name": "stdout",
     "output_type": "stream",
     "text": [
      "The speed is: 14.8568166172973 m/s\n"
     ]
    }
   ],
   "source": [
    "%reset -f\n",
    "\n",
    "import sympy as sym\n",
    "\n",
    "R = 15.0\n",
    "g = 9.81\n",
    "a_c = 1.50*g\n",
    "\n",
    "v_t = sym.Symbol('v_t')\n",
    "eq = a_c - v_t**2/R\n",
    "sol = sym.solve(eq,v_t)\n",
    "print('The speed is: '+str(sol[1])+' m/s')"
   ]
  },
  {
   "cell_type": "markdown",
   "metadata": {},
   "source": [
    "<hr style=\"height:2px;border-width:0;color:gray;background-color:gray\">"
   ]
  },
  {
   "cell_type": "markdown",
   "metadata": {},
   "source": [
    "<h2>Problem B7.12</h2>\n",
    "    </header>\n",
    "\n",
    "A child of mass 40.0 kg is in a roller coaster car that travels in a loop of radius 7.00 m. At point A the speed of the car is 10.0 m/s, and at point B, the speed is 10.5 m/s. Assume the child is not holding on and does not wear a seat belt. \n",
    "\n",
    "1. What is the force of the car seat on the child at point A? \n",
    "2. What is the force of the car seat on the child at point B? \n",
    "3. What minimum speed is required to keep the child in his seat at point A?\n",
    "\n",
    "<img src=\"B7-P7.13.png\"  width=\"400\"/>\n",
    "\n",
    "[This problem is a slightly modified version from OpenStax. Access for free here](https://openstax.org/books/university-physics-volume-1/pages/6-problems)"
   ]
  },
  {
   "cell_type": "code",
   "execution_count": 23,
   "metadata": {},
   "outputs": [],
   "source": [
    "# DIY Cell"
   ]
  },
  {
   "cell_type": "code",
   "execution_count": 24,
   "metadata": {
    "tags": [
     "hide-input",
     "hide-output"
    ]
   },
   "outputs": [
    {
     "name": "stdout",
     "output_type": "stream",
     "text": [
      "The normal force is: 179.028571428571 N"
     ]
    },
    {
     "name": "stdout",
     "output_type": "stream",
     "text": [
      "\n",
      " \n",
      "The normal force is: 290.171631554986 N\n",
      " \n",
      "The minimum speed is: 8.28673639015988 m/s\n"
     ]
    }
   ],
   "source": [
    "%reset -f\n",
    "\n",
    "import sympy as sym\n",
    "import numpy as np\n",
    "\n",
    "m = 40.0\n",
    "R = 7.00\n",
    "vA = 10.0\n",
    "vB = 10.5\n",
    "\n",
    "g = 9.81\n",
    "\n",
    "# Part 1\n",
    "fn = sym.Symbol('fn')\n",
    "fg = m*g\n",
    "\n",
    "#both forces are radial towards the origin\n",
    "eqA = -fn - fg + m*(vA**2)/R\n",
    "sol = sym.solve(eqA, fn)\n",
    "print('The normal force is: '+str(sol[0])+' N')\n",
    "\n",
    "# Part 2\n",
    "theta = np.radians(30.0)\n",
    "\n",
    "#normal force is radial, but only part of force of gravity is radial\n",
    "fg_r = fg*sym.cos(theta)\n",
    "eqB = -fn - fg_r + m*(vB**2)/R\n",
    "sol = sym.solve(eqB, fn)\n",
    "print(' ')\n",
    "print('The normal force is: '+str(sol[0])+' N')\n",
    "\n",
    "# Part 3\n",
    "# minimum speed when fn = 0\n",
    "fn = 0\n",
    "v_t = sym.Symbol('v_t')\n",
    "\n",
    "eq = -fn - fg + m*(v_t**2)/R\n",
    "sol = sym.solve(eq, v_t)\n",
    "print(' ')\n",
    "print('The minimum speed is: '+str(sol[1])+' m/s')"
   ]
  },
  {
   "cell_type": "markdown",
   "metadata": {},
   "source": [
    "<hr style=\"height:2px;border-width:0;color:gray;background-color:gray\">"
   ]
  }
 ],
 "metadata": {
  "celltoolbar": "Tags",
  "kernelspec": {
   "display_name": "Python 3 (ipykernel)",
   "language": "python",
   "name": "python3"
  },
  "language_info": {
   "codemirror_mode": {
    "name": "ipython",
    "version": 3
   },
   "file_extension": ".py",
   "mimetype": "text/x-python",
   "name": "python",
   "nbconvert_exporter": "python",
   "pygments_lexer": "ipython3",
   "version": "3.10.9"
  }
 },
 "nbformat": 4,
 "nbformat_minor": 4
}