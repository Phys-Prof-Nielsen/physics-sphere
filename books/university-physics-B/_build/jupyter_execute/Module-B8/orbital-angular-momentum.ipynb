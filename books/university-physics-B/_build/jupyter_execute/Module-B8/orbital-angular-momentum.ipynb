{
 "cells": [
  {
   "cell_type": "markdown",
   "metadata": {},
   "source": [
    "# B8.2 Orbital Angular Momentum\n",
    "<hr style=\"height:2px;border-width:0;color:gray;background-color:gray\">"
   ]
  },
  {
   "cell_type": "markdown",
   "metadata": {},
   "source": [
    "## B8.2.1 Motivation\n",
    "\n",
    "Rotational dynamics is inherently a lot more complicated than linear dynamics as we will see shortly. Here in Phase B, we will slowly introduce the basic of rotational dynamics through **pure** rotational motion about a **single and fixed axis**.\n",
    "\n",
    "In this procees, we will encounter two forms of rotational motions: \n",
    "\n",
    "1. orbital motion of a particle or the center of mass of a system rotating about an axis exterior to the system.\n",
    "2. spin motion of a system rotating about its center of mass (or any interior axis). \n",
    "\n",
    "<hr style=\"height:2px;border-width:0;color:gray;background-color:gray\">"
   ]
  },
  {
   "cell_type": "markdown",
   "metadata": {},
   "source": [
    "## B8.2.2 Orbital Angular Momentum of a Point Particle\n",
    "\n",
    "A point particle is an object where size and shape does not play a role for the dynamics of it. By this definition it does not make sense to talk about a **spinning** motion of the particle. Instead, we can talk about the particle **rotating** or **orbiting** a point or axis. By the virtue of a point particle, the axis of rotation **must be external**.\n",
    "\n",
    "We define the **orbital angular momentum** as\n",
    "\n",
    "<div class=\"alert alert-success\">\n",
    "    \n",
    "$$ \\vec{l} = \\vec{r}\\times\\vec{p} $$\n",
    "</div>\n",
    "\n",
    "where $\\vec{r}$ is the directed line segment from a point of reference (most often the origin of the coordinate system in which case $\\vec{r}$ is simply the position vector) to the location of the particle, and $\\vec{p}$ is the linear momentum of the particle."
   ]
  },
  {
   "cell_type": "markdown",
   "metadata": {},
   "source": [
    "<hr style=\"height:2px;border-width:0;color:gray;background-color:gray\">"
   ]
  },
  {
   "cell_type": "markdown",
   "metadata": {},
   "source": [
    "<div class=\"alert alert-warning\">\n",
    "<b>Box 1</b><br>\n",
    "    \n",
    "Consider a $0.50$ kg particle traveling in a straight-line motion in the (x,y) plane with a velocity of $\\vec{v} = 25.0~\\hat{i}$ m/s. At a given instant, the particle is at $(x,y) = (5.0,3.0)$ m, find the particle's orbital angular momentum about the following points:\n",
    "    \n",
    "1. $(x,y,z) = (0.0, 0.0, 0.0)$ m.\n",
    "2. $(x,y,z) = (0.0 , 3.0, 0.0)$ m.\n",
    "\n",
    "</div>"
   ]
  },
  {
   "cell_type": "code",
   "execution_count": 1,
   "metadata": {
    "tags": [
     "hide-input",
     "hide-output"
    ]
   },
   "outputs": [
    {
     "name": "stdout",
     "output_type": "stream",
     "text": [
      "1. The orbital angular momentum is [  0.    0.  -37.5]\n",
      " \n",
      "2. The orbital angular momentum is [0. 0. 0.]\n"
     ]
    }
   ],
   "source": [
    "%reset -f\n",
    "\n",
    "import numpy as np\n",
    "\n",
    "def cross_product(v1, v2):\n",
    "    x = v1[1]*v2[2] - v1[2]*v2[1]\n",
    "    y = v1[2]*v2[0] - v1[0]*v2[2]\n",
    "    z = v1[0]*v2[1] - v1[1]*v2[0]\n",
    "    vector = np.array([x,y,z])\n",
    "    return vector\n",
    "\n",
    "m = 0.50\n",
    "v = np.array([25, 0, 0])\n",
    "r_particle = np.array([5.0,3.0,0.0])\n",
    "\n",
    "# Part 1\n",
    "r_pivot = np.array([0, 0, 0])\n",
    "r = r_particle - r_pivot\n",
    "\n",
    "p = m*v\n",
    "l = cross_product(r,p)\n",
    "print('1. The orbital angular momentum is '+str(l))\n",
    "print(' ')\n",
    "\n",
    "# Part 2\n",
    "r_pivot = np.array([0, 3.0, 0])\n",
    "r = r_particle - r_pivot\n",
    "\n",
    "l = cross_product(r,p)\n",
    "print('2. The orbital angular momentum is '+str(l))"
   ]
  },
  {
   "cell_type": "markdown",
   "metadata": {},
   "source": [
    "<hr style=\"height:2px;border-width:0;color:gray;background-color:gray\">"
   ]
  },
  {
   "cell_type": "markdown",
   "metadata": {},
   "source": [
    "<div class=\"alert alert-warning\">\n",
    "<b>Box 2</b><br>\n",
    "    \n",
    "1. Based on the previous Box, can a particle moving in straight-line motion have non-zero orbital angular momentum? \n",
    "2. Under what circumstances can the orbital angular momentum be zero for a particle moving in straight-line motion?\n",
    "\n",
    "</div>"
   ]
  },
  {
   "cell_type": "code",
   "execution_count": 2,
   "metadata": {
    "tags": [
     "hide-input",
     "hide-output"
    ]
   },
   "outputs": [
    {
     "name": "stdout",
     "output_type": "stream",
     "text": [
      "1. Yes, as shown in part 1 above.\n",
      " \n",
      "2. When the r-vector and p-vector are along the same line.\n"
     ]
    }
   ],
   "source": [
    "print('1. Yes, as shown in part 1 above.')\n",
    "print(' ')\n",
    "print('2. When the r-vector and p-vector are along the same line.')"
   ]
  },
  {
   "cell_type": "markdown",
   "metadata": {},
   "source": [
    "<hr style=\"height:2px;border-width:0;color:gray;background-color:gray\">"
   ]
  },
  {
   "cell_type": "markdown",
   "metadata": {},
   "source": [
    "## B8.2.3 Orbital Angular Momemtum for a Rigid Object\n",
    "\n",
    "A rigid object has the complexity that it can rotate about an internal axis, say an axis through the center of mass. Rotational motion about an **internal** axis is referred to as the **spin angular momentum**. In addition to this **intrinsic** spinning, the object's center of mass may also move relative to a given **external** axis just like a point particle, and we refer to the object's **orbital angular momentum**. Spin angular momentum will be the discussion of the next section. For now, we focus on the orbital angular momentum.\n",
    "\n",
    "The orbital angualr momentum of a system is defined in a similar way as for the point particle, where the point particle is replaced by the **Center of Mass** concept of the object:\n",
    "\n",
    "<div class=\"alert alert-success\">\n",
    "    \n",
    "$$ \\vec{L}_o = \\vec{R}\\times\\vec{P} $$\n",
    "</div>"
   ]
  },
  {
   "cell_type": "markdown",
   "metadata": {},
   "source": [
    "<hr style=\"height:2px;border-width:0;color:gray;background-color:gray\">"
   ]
  },
  {
   "cell_type": "markdown",
   "metadata": {},
   "source": [
    "<div class=\"alert alert-warning\">\n",
    "<b>Box 3</b><br>\n",
    "    \n",
    "Consider the Earth's motiong around the Sun. What is the Earth's **orbital** angular momentum as measured from the center of the Sun?\n",
    "\n",
    "</div>"
   ]
  },
  {
   "cell_type": "code",
   "execution_count": 3,
   "metadata": {
    "tags": [
     "hide-input",
     "hide-output"
    ]
   },
   "outputs": [
    {
     "name": "stdout",
     "output_type": "stream",
     "text": [
      "Orbital angular momentum is 2.5795543223110204e+40\n"
     ]
    }
   ],
   "source": [
    "%reset -f\n",
    "\n",
    "import numpy as np\n",
    "\n",
    "M_e = 5.972E24\n",
    "R_e = 6.371E6\n",
    "\n",
    "#orbital\n",
    "R = 1.4724E11\n",
    "T = 365*(24/1)*(60/1)*(60/1)\n",
    "V = 2*np.pi*R/T\n",
    "P = M_e*V\n",
    "\n",
    "#R and P vectors are perpendicular\n",
    "Lo = R*P\n",
    "\n",
    "print('Orbital angular momentum is '+str(Lo))"
   ]
  },
  {
   "cell_type": "markdown",
   "metadata": {},
   "source": [
    "<hr style=\"height:2px;border-width:0;color:gray;background-color:gray\">"
   ]
  }
 ],
 "metadata": {
  "celltoolbar": "Tags",
  "kernelspec": {
   "display_name": "Python 3 (ipykernel)",
   "language": "python",
   "name": "python3"
  },
  "language_info": {
   "codemirror_mode": {
    "name": "ipython",
    "version": 3
   },
   "file_extension": ".py",
   "mimetype": "text/x-python",
   "name": "python",
   "nbconvert_exporter": "python",
   "pygments_lexer": "ipython3",
   "version": "3.10.9"
  }
 },
 "nbformat": 4,
 "nbformat_minor": 2
}