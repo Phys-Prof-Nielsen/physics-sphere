{
 "cells": [
  {
   "cell_type": "markdown",
   "metadata": {},
   "source": [
    "# B4.2 Newton's 2nd Law\n",
    "<hr style=\"height:2px;border-width:0;color:gray;background-color:gray\">"
   ]
  },
  {
   "cell_type": "markdown",
   "metadata": {},
   "source": [
    "## B4.2.1 Derivation of Newton's Second Law\n",
    "\n",
    "We are now ready to fully derive Newton's 2nd law. Our starting point is the **impulse-momentum theorem**, which is the differential form of Newton's second form. We will consider it in component form:\n",
    "\n",
    "$$f_{net,x}dt = dp_x$$\n",
    "\n",
    "Since the $d$'s are differentials, we can divide both sides by $dt$:\n",
    "  \n",
    "$$f_{net,x} = \\frac{dp_x}{dt}$$\n",
    "\n",
    "Since the ratio of differentials is the same as the derivative, we have that\n",
    "\n",
    "<div class=\"alert alert-success\">\n",
    "\n",
    "<b>Newton's 2nd law</b><br>\n",
    "    \n",
    "The <b>instantaneous</b> net force is causing an <b>instantaneous</b> rate of change in the particle's momentum:\n",
    "    \n",
    "$$\\vec{f}_{net} = \\frac{d\\vec{p}}{dt}$$\n",
    "</div>\n",
    "\n",
    "If the mass is constant as it is for a point particle, then we have\n",
    "\n",
    "$$f_{net,x} = \\frac{dp_x}{dt} = m\\frac{dv_x}{dt}$$\n",
    "\n",
    "and the more familiar version of N2:\n",
    "\n",
    "<div class=\"alert alert-success\">\n",
    "<b>Newton's 2nd law</b><br>\n",
    "    \n",
    "$$\\vec{f}_{net} = m\\vec{a}$$\n",
    "</div>\n",
    "\n",
    "\n",
    "<hr style=\"height:2px;border-width:0;color:gray;background-color:gray\">"
   ]
  }
 ],
 "metadata": {
  "celltoolbar": "Tags",
  "kernelspec": {
   "display_name": "Python 3 (ipykernel)",
   "language": "python",
   "name": "python3"
  },
  "language_info": {
   "codemirror_mode": {
    "name": "ipython",
    "version": 3
   },
   "file_extension": ".py",
   "mimetype": "text/x-python",
   "name": "python",
   "nbconvert_exporter": "python",
   "pygments_lexer": "ipython3",
   "version": "3.10.9"
  }
 },
 "nbformat": 4,
 "nbformat_minor": 4
}