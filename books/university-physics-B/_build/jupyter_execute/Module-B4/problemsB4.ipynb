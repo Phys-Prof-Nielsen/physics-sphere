{
 "cells": [
  {
   "cell_type": "markdown",
   "metadata": {},
   "source": [
    "# B4.4 Problems\n",
    "<hr style=\"height:2px;border-width:0;color:gray;background-color:gray\">"
   ]
  },
  {
   "cell_type": "markdown",
   "metadata": {},
   "source": [
    "<h2>Problem B4.1</h2>\n",
    "    </header>\n",
    "\n",
    "The amateur rocket engine is labeled according to its impulse and average thrust. One such engine has a thrust curve shown below. The rocket curve is copied from [Aerotech](https://aerotech-rocketry.com/products/product_83b63096-bb03-e999-143a-548a10f8c58e) and you can get the answer from the link.\n",
    "\n",
    "<img src=\"P-B4.1.png\"  width=\"500\"/>\n",
    "\n",
    "Using the [rocket classification table](https://en.wikipedia.org/wiki/Model_rocket_motor_classification) to estimate the impulse class of the engine. "
   ]
  },
  {
   "cell_type": "markdown",
   "metadata": {},
   "source": [
    "<hr style=\"height:2px;border-width:0;color:gray;background-color:gray\">"
   ]
  },
  {
   "cell_type": "markdown",
   "metadata": {},
   "source": [
    "<h2>Problem B4.2</h2>\n",
    "    </header>\n",
    "\n",
    "A 0.0050 kg particle is subject to a force given by $f_x = (2.0t^2 + 0.3t^5)~\\textrm{N}$ in the time interval $t = [0,3]~\\textrm{s}$. If the particle is traveling at +120.0 m/s initially, what is its velocity at $t = 3$ s?"
   ]
  },
  {
   "cell_type": "code",
   "execution_count": 1,
   "metadata": {
    "tags": [
     "hide-input",
     "hide-output"
    ]
   },
   "outputs": [
    {
     "name": "stdout",
     "output_type": "stream",
     "text": [
      "Velocity at 3 s = 11010.0000000000\n"
     ]
    }
   ],
   "source": [
    "import sympy as sym\n",
    "\n",
    "#integral variable\n",
    "t = sym.Symbol('t')\n",
    "\n",
    "#function to integrate\n",
    "f = 2.0*t**2 + 0.3*t**5 \n",
    "\n",
    "#limits\n",
    "t1 = 0.0\n",
    "t2 = 3.0\n",
    "impulse = sym.integrate(f,(t,t1,t2))\n",
    "\n",
    "#values giving\n",
    "m = 0.005\n",
    "v1 = 120.0\n",
    "\n",
    "v2 = sym.Symbol('v2')\n",
    "\n",
    "#equation to be solved: 0 = impulse - mv2 + mv1\n",
    "eq1 = impulse - m*v2 + m*v1\n",
    "\n",
    "sol = sym.solve(eq1,v2)\n",
    "\n",
    "#print only positive and real solution\n",
    "print('Velocity at 3 s = '+str(sol[0]))"
   ]
  },
  {
   "cell_type": "markdown",
   "metadata": {},
   "source": [
    "<hr style=\"height:2px;border-width:0;color:gray;background-color:gray\">"
   ]
  },
  {
   "cell_type": "markdown",
   "metadata": {},
   "source": [
    "<h2>Problem B4.3</h2>\n",
    "    </header>\n",
    "\n",
    "A particle is subject to a net force shown on the graph below.\n",
    "\n",
    "1. Find the momentum transfer to/from the particle due to this net force.\n",
    "2. If the particle has a mass of 0.40 kg and travels at +250.0 m/s at t = 5 s, what was its velocity at t = 0 s?\n",
    "3. What is its velocity at t = 8 s?"
   ]
  },
  {
   "cell_type": "code",
   "execution_count": 2,
   "metadata": {
    "tags": [
     "hide-input"
    ]
   },
   "outputs": [
    {
     "data": {
      "image/png": "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\n",
      "text/plain": [
       "<Figure size 640x480 with 1 Axes>"
      ]
     },
     "metadata": {},
     "output_type": "display_data"
    }
   ],
   "source": [
    "import numpy as np\n",
    "import matplotlib.pyplot as plt\n",
    "\n",
    "%matplotlib inline\n",
    "\n",
    "t1 = np.arange(0,5.1,0.1)\n",
    "f1 = 0.0 + 3.0*t1\n",
    "t2 = np.arange(0,5.1,0.1)+5.0\n",
    "f2 = np.zeros(len(t2))+15\n",
    "\n",
    "plt.figure()\n",
    "plt.ylabel('$f_x$ (N)')\n",
    "plt.xlabel('Time (s)')\n",
    "ax = plt.gca()\n",
    "ax.plot(t1,f1,'-',color='b')\n",
    "ax.plot(t2,f2,'-',color='b')\n",
    "ax.set_xlim([0, 10])\n",
    "ax.set_ylim([0, 20])\n",
    "ax.grid()\n",
    "plt.show()"
   ]
  },
  {
   "cell_type": "markdown",
   "metadata": {},
   "source": [
    "<hr style=\"height:2px;border-width:0;color:gray;background-color:gray\">"
   ]
  },
  {
   "cell_type": "markdown",
   "metadata": {},
   "source": [
    "<h2>Problem B4.4</h2>\n",
    "    </header>\n",
    "\n",
    "A helicopter with mass $2.35\\times 10^4~\\textrm{kg}$ has a position (in meters) given by $\\vec{r} = (0.020t^3)\\hat{i} + (2.2t)\\hat{j} + (-0.060t^2)\\hat{k}$. Find the net force on the helicopter at  t = 3.0 s.\n",
    "\n",
    "This problem is a slightly modified version from OpenStax. Access for free at [https://openstax.org/books/university-physics-volume-1/pages/6-additional-problems](https://openstax.org/books/university-physics-volume-1/pages/6-additional-problems)"
   ]
  },
  {
   "cell_type": "code",
   "execution_count": 3,
   "metadata": {
    "tags": [
     "hide-input",
     "hide-output"
    ]
   },
   "outputs": [
    {
     "name": "stdout",
     "output_type": "stream",
     "text": [
      "Net force at 3 s = [8460.00000000000, 0, -2820.00000000000]\n"
     ]
    }
   ],
   "source": [
    "import sympy as sym\n",
    "\n",
    "m = 2.35E4\n",
    "#independent variable\n",
    "t = sym.Symbol('t')\n",
    "\n",
    "#position\n",
    "rx = 0.020*t**3\n",
    "ry = 2.2*t\n",
    "rz = -0.060*t**2\n",
    "\n",
    "ax = sym.diff(rx,t,2)\n",
    "ay = sym.diff(ry,t,2)\n",
    "az = sym.diff(rz,t,2)\n",
    "\n",
    "ax = ax.evalf(subs={t: 3.0})\n",
    "ay = ay.evalf(subs={t: 3.0})\n",
    "az = az.evalf(subs={t: 3.0})\n",
    "\n",
    "fx = m*ax\n",
    "fy = m*ay\n",
    "fz = m*az\n",
    "\n",
    "f = [fx, fy, fz]\n",
    "\n",
    "print('Net force at 3 s = '+str(f))"
   ]
  },
  {
   "cell_type": "markdown",
   "metadata": {},
   "source": [
    "<hr style=\"height:2px;border-width:0;color:gray;background-color:gray\">"
   ]
  },
  {
   "cell_type": "markdown",
   "metadata": {},
   "source": [
    "<h2>Problem B4.5</h2>\n",
    "    </header>\n",
    "\n",
    "A 2.25 kg box is moving across a horizontal floor. There is a coefficient of kinetic friction between the box and the floor of 0.400. A time-dependent applied pushing force of $f_x = 11 + 3.00t^2 - 0.500t^3$ is applied over the time interval of $t = [0.00,3.00]$ s. Assume the box is initially at rest and starting at $x = 0.00$ m.\n",
    "\n",
    "1. What are the impulses delivered by each forces acting on the box during the first 3 seconds?\n",
    "2. What is the net acceleration of the box during the first three seconds?\n",
    "3. What is the velocity of the box at t = 3.00 s?\n",
    "4. What is the position of the box at t = 3.00 s?\n",
    "5. After 3 s, the pushing force is no longer applied. How long time from t = 0 s does it take the box to come to a stop?\n",
    "6. What is its position when it comes to a stop?"
   ]
  },
  {
   "cell_type": "code",
   "execution_count": 4,
   "metadata": {
    "tags": [
     "hide-input",
     "hide-output"
    ]
   },
   "outputs": [
    {
     "name": "stdout",
     "output_type": "stream",
     "text": [
      "Part 1\n",
      "Force of gravity impulse: -66.2175000000000\n",
      "Normal force impulse: 66.2175000000000\n",
      "Force of friction impulse: -26.4870000000000\n",
      "Push force impulse: 49.8750000000000\n",
      " \n",
      "Part 2\n",
      "a_x = -0.222222222222222*t**3 + 1.33333333333333*t**2 + 0.964888888888889\n",
      " \n",
      "Part 3\n",
      "v2_x = 10.3946666666667\n",
      " \n",
      "Part 4\n",
      "x = 10.6420000000000\n",
<<<<<<< HEAD
      " \n"
     ]
    },
    {
     "name": "stdout",
     "output_type": "stream",
     "text": [
=======
      " \n",
>>>>>>> 630cc07de35b4d97c80d8b91d559dbe7ec708a43
      "Part 5\n",
      "Elapsed time: 5.64899762147469\n",
      " \n",
      "Part 6\n",
      "Final position = 24.4097236380111\n"
     ]
    }
   ],
   "source": [
    "import sympy as sym\n",
    "\n",
    "m = 2.25\n",
    "mu = 0.400\n",
    "t1 = 0.0\n",
    "t2 = 3.0\n",
    "x1 = 0.0\n",
    "v1x = 0.0\n",
    "g = 9.81\n",
    "\n",
    "\n",
    "# PART 1\n",
    "#integral variable\n",
    "t = sym.Symbol('t')\n",
    "\n",
    "#forces: standard coordinate system\n",
    "\n",
    "#gravity\n",
    "fgy = -m*g\n",
    "\n",
    "#normal\n",
    "fny = -fgy\n",
    "\n",
    "#friction \n",
    "ffx = -mu*fny\n",
    "\n",
    "#push force\n",
    "fpx = 11 + 3*t**2 - 0.500*t**3\n",
    "\n",
    "#impulse: integral of force with respect to time\n",
    "\n",
    "ifgy = sym.integrate(fgy,(t,t1,t2))\n",
    "ifny = sym.integrate(fny,(t,t1,t2))\n",
    "iffx = sym.integrate(ffx,(t,t1,t2))\n",
    "ifpx = sym.integrate(fpx,(t,t1,t2))\n",
    "print('Part 1')\n",
    "print('Force of gravity impulse: '+ str(ifgy))\n",
    "print('Normal force impulse: '+ str(ifny))\n",
    "print('Force of friction impulse: '+ str(iffx))\n",
    "print('Push force impulse: '+ str(ifpx))\n",
    "print(' ')\n",
    "\n",
    "# PART 2: Use f_net = ma --> 0 = ma - f_net\n",
    "\n",
    "# x-direction\n",
    "ax = sym.Symbol('ax')\n",
    "eqx = m*ax - fpx - ffx\n",
    "solx = sym.solve(eqx,ax)\n",
    "print('Part 2')\n",
    "print('a_x = '+str(solx[0]))\n",
    "print(' ')\n",
    "ax = solx[0]\n",
    "\n",
    "# PART 3: integrate acceleration to find change in velocity, then add initial to get final\n",
    "dvx = sym.integrate(ax,(t,t1,t2))\n",
    "v2x = v1x + dvx\n",
    "print('Part 3')\n",
    "print('v2_x = '+str(v2x))\n",
    "print(' ')\n",
    "\n",
    "# PART 4\n",
    "#integrate acceleration to get velocity (start from rest)\n",
    "vx = sym.integrate(ax,t)\n",
    "#integrate velocity to get position  (start at x = 0)\n",
    "x = sym.integrate(vx,t)\n",
    "x = x.evalf(subs={t: 3.0})\n",
    "print('Part 4')\n",
    "print('x = '+ str(x))\n",
    "print(' ')\n",
    "\n",
    "# Part 5: only force is friction and it is constant\n",
    "# find acceleration and use kinematics equation to find time\n",
    "a = sym.Symbol('a')\n",
    "eq1 = m*a - ffx\n",
    "sol1 = sym.solve(eq1,a)\n",
    "a = sol1[0]\n",
    "dt = (0.0 - v2x)/a\n",
    "t = 3.0 + dt\n",
    "print('Part 5')\n",
    "print('Elapsed time: '+str(t))\n",
    "print(' ')\n",
    "\n",
    "# Part 6: find the additional distance after t = 3 s. \n",
    "# acceleration is constant so we can use derived equation of kinematics\n",
    "dx = (0.0**2 - v2x**2)/(2*a)\n",
    "xf = x + dx\n",
    "print('Part 6')\n",
    "print('Final position = '+str(xf))"
   ]
  },
  {
   "cell_type": "markdown",
   "metadata": {},
   "source": [
    "<hr style=\"height:2px;border-width:0;color:gray;background-color:gray\">"
   ]
  },
  {
   "cell_type": "markdown",
   "metadata": {},
   "source": [
    "<h2>Problem B4.6</h2>\n",
    "    </header>\n",
    "\n",
    "A UVU student has been tasked with pulling a 10.0 kg box full of research equipment up a slick rock hill in Capitol Reef National Park. The hill is sloped with an angle of $12.0^\\circ$ from the horizontal. There is a coefficient of friction between the rock surface and the box of 0.55. The student is optimistic at first but quickly runs out of stamina as evidenced by the measured pulling force (in N) of $f(t) = 74 - 0.07t$ along the incline of the hill. The student and box starts out from rest.\n",
    "\n",
    "1. How long time did it take before the net acceleration is zero?\n",
    "2. What is the speed of the box at that time?\n",
    "3. How far up the incline hill is the box at that time?\n",
    "4. The student continues to move up the hill until the student can no longer pull at which the speed zero. At what time does that occur?\n",
    "5. What distance up the hill did the box make it before the student need to take a break?\n",
    "6. Create plots of the acceleration, velocity, and distance up the incline."
   ]
  },
  {
   "cell_type": "code",
   "execution_count": 5,
   "metadata": {
    "tags": [
     "hide-input",
     "hide-output"
    ]
   },
   "outputs": [
    {
     "name": "stdout",
     "output_type": "stream",
     "text": [
<<<<<<< HEAD
      "Time to zero acceleration: 11.8272761883619\n"
     ]
    },
    {
     "name": "stdout",
     "output_type": "stream",
     "text": [
=======
      "Time to zero acceleration: 11.8272761883619\n",
>>>>>>> 630cc07de35b4d97c80d8b91d559dbe7ec708a43
      "Speed: 4.89595617125276\n",
      "Distance up incline: 38.6038838956809\n",
      "Time to exhaustion: 23.6545523767239\n",
      "Distance to breaking point: 77.2077677913618\n"
     ]
    },
    {
     "data": {
      "image/png": "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\n",
      "text/plain": [
       "<Figure size 500x1000 with 3 Axes>"
      ]
     },
     "metadata": {},
     "output_type": "display_data"
    }
   ],
   "source": [
    "# import sympy as sym\n",
    "import numpy as np\n",
    "from matplotlib import pyplot as plt \n",
    "\n",
    "m = 10.0\n",
    "mu = 0.55\n",
    "g = 9.81\n",
    "theta = 12.0*np.pi/180.0\n",
    "t1 = 0.0\n",
    "\n",
    "# PART 1\n",
    "# Use N2 in x and y. x positive up the incline\n",
    "\n",
    "ax = 0.0\n",
    "t = sym.Symbol('t')\n",
    "fny = sym.Symbol('fny')\n",
    "\n",
    "fgy = -m*g*np.cos(theta)\n",
    "fgx = -m*g*np.sin(theta)\n",
    "ffx = -mu*fny\n",
    "fpx = 74 - 0.07*t\n",
    "\n",
    "eqx = ax - fpx - ffx - fgx\n",
    "eqy = 0 - fny - fgy\n",
    "sol1 = sym.solve((eqx,eqy),(t,fny))\n",
    "\n",
    "t2 = sol1[t]\n",
    "print('Time to zero acceleration: '+str(t2))\n",
    "\n",
    "# PART 2\n",
    "del ax\n",
    "\n",
    "ax = sym.Symbol('ax')\n",
    "eqx = ax - fpx - ffx - fgx\n",
    "eqy = 0 - fny - fgy\n",
    "sol2 = sym.solve((eqx,eqy),(ax,fny))\n",
    "\n",
    "ax = sol2[ax]\n",
    "vx = sym.integrate(ax,t)\n",
    "v = vx.evalf(subs={t: t2})\n",
    "print('Speed: '+str(v))\n",
    "\n",
    "# Part 3\n",
    "x = sym.integrate(vx,t)\n",
    "d1 = x.evalf(subs={t: t2})\n",
    "print('Distance up incline: '+str(d1))\n",
    "\n",
    "# Part 4\n",
    "eq3 = vx\n",
    "sol2 = sym.solve(eq3,t)\n",
    "print('Time to exhaustion: '+str(sol2[1]))\n",
    "\n",
    "# Part 5\n",
    "t3 = sol2[1]\n",
    "d2 = x.evalf(subs={t: t3})\n",
    "print('Distance to breaking point: '+str(d2))\n",
    "\n",
    "\n",
    "t_array = np.arange(0,t3,1)\n",
    "a_array = []\n",
    "v_array = []\n",
    "x_array = []\n",
    "for i in range(len(t_array)):\n",
    "    a_result = ax.evalf(subs={t: t_array[i]})\n",
    "    a_array.append(a_result)\n",
    "    v_result = vx.evalf(subs={t: t_array[i]})\n",
    "    v_array.append(v_result)\n",
    "    x_result = x.evalf(subs={t: t_array[i]})\n",
    "    x_array.append(x_result)\n",
    "\n",
    "fig, (ax1,ax2,ax3) = plt.subplots(3,figsize=(5,10))\n",
    "\n",
    "ax1.set(ylabel='Acceleration (m/s$^2$)', xlabel='Time (s)')\n",
    "ax1.plot(t_array,a_array,'-')\n",
    "ax1.set_xlim([0, np.max(t_array)+0.5])\n",
    "\n",
    "ax2.set(ylabel='Velocity (m/s)', xlabel='Time (s)')\n",
    "ax2.plot(t_array,v_array,'-')\n",
    "ax2.set_xlim([0, np.max(t_array)+0.5])\n",
    "\n",
    "ax3.set(ylabel='Distance (m)', xlabel='Time (s)')\n",
    "ax3.plot(t_array,x_array,'-')\n",
    "ax3.set_xlim([0, np.max(t_array)+0.5])\n",
    "\n",
    "plt.show()"
   ]
  },
  {
   "cell_type": "markdown",
   "metadata": {},
   "source": [
    "<hr style=\"height:2px;border-width:0;color:gray;background-color:gray\">"
   ]
  }
 ],
 "metadata": {
  "celltoolbar": "Tags",
  "kernelspec": {
   "display_name": "Python 3 (ipykernel)",
   "language": "python",
   "name": "python3"
  },
  "language_info": {
   "codemirror_mode": {
    "name": "ipython",
    "version": 3
   },
   "file_extension": ".py",
   "mimetype": "text/x-python",
   "name": "python",
   "nbconvert_exporter": "python",
   "pygments_lexer": "ipython3",
   "version": "3.10.9"
  }
 },
 "nbformat": 4,
 "nbformat_minor": 4
}