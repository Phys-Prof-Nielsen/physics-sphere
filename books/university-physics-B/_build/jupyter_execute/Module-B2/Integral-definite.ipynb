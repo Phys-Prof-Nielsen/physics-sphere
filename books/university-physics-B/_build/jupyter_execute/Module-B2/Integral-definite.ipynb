{
 "cells": [
  {
   "cell_type": "markdown",
   "metadata": {},
   "source": [
    "# B2.8 Integrals - Definite Integrals\n",
    "<hr style=\"height:2px;border-width:0;color:gray;background-color:gray\">"
   ]
  },
  {
   "cell_type": "markdown",
   "metadata": {},
   "source": [
    "## B2.8.1 Indefinite vs. Definite Integrals\n",
    "\n",
    "We have now explored without too much mathematical details, the antiderivative approach to integrals as well as the infinite sum approach. To recap, the two versions are written as\n",
    "\n",
    "**Indefinite Integral**\n",
    "\n",
    "$$ \\int f(x)dx $$\n",
    "\n",
    "**Definite Integral**\n",
    "\n",
    "$$\\int_{a}^{b} f(x)dx$$\n",
    "\n",
    "In the definite integral, it is possible that $a$ and $b$ can be $\\pm\\infty$.\n",
    "\n",
    "We have a few key items here:\n",
    "\n",
    "* Indefinite Integral: we must add a constant $C$ to our antiderivative function.\n",
    "* Definite Integral: the integration represents the area bounded by the function $f(x)$ and the x-axis in the interval between $x = [a,b]$. \n",
    "\n",
    "Below, we will see how we calculate the definite integral.\n",
    "\n",
    "<hr style=\"height:2px;border-width:0;color:gray;background-color:gray\">"
   ]
  },
  {
   "cell_type": "markdown",
   "metadata": {},
   "source": [
    "<div style=\"background-color: #D0D0D0 ; padding: 10px; border: 1px solid black;\">       \n",
    "<header>\n",
    "<h3> Application Example</h3>\n",
    "    </header>\n",
    "\n",
    "**Indefinite Integral**\n",
    "    \n",
    "From Example 1 in the notes on the *Integral-antiderivative*, we had the following question:\n",
    "\n",
    "Consider the function $f(x) = x^2$. Find the integral of $f(x)$. There we understood it as being the indefinite integral. Our result was\n",
    "\n",
    "<div class=\"alert alert-success\">\n",
    "    \n",
    "$$\\int x^{2}dx = \\frac{1}{3}x^3 + C $$\n",
    "</div>\n",
    "\n",
    "where we pay attention to the added constant!\n",
    "\n",
    "\n",
    "**Definite Integral**\n",
    "    \n",
    "The calculation of the definite integral involves connecting it to the indefinite integral and is well beyond our scope, and to some extend even beyond the scope of introductory calculus as the meaning behind it is deep, really deep! Here, we will just show how we apply it and not worry about the *why*.\n",
    "\n",
    "<div class=\"alert alert-success\">\n",
    "    \n",
    "The evalution of the definite integral is done by evaluating the antideriative (or indefinte integral) at the two limits $a$ and $b$. We call $a$ the <b>lower limit</b> and $b$ the <b>upper limit</b>. In the evaluation, we subtract the antiderivative evaluated at the lower limit from the antiderivative evaluated at the upper limit. \n",
    "</div>\n",
    "\n",
    "Applying this to our example, we have for the definite integral:\n",
    "\n",
    "$$\\int_{a}^{b} x^{2}dx = \\left[\\frac{1}{3}x^3 + C\\right]_{x = b} - \\left[\\frac{1}{3}x^3 + C\\right]_{x = a}$$\n",
    "\n",
    "$$\\int_{a}^{b} x^{2}dx = \\frac{1}{3}b^3  - \\frac{1}{3}a^3 $$\n",
    "\n",
    "We see that the constant $C$ subtracts to zero and it is not playing a role in our result.\n",
    "\n",
    "<div class=\"alert alert-info\">\n",
    "    \n",
    "In the definite integral, we do not have the constant $C$\n",
    "</div>\n",
    "</div>\n",
    "<hr style=\"height:2px;border-width:0;color:gray;background-color:gray\">"
   ]
  },
  {
   "cell_type": "markdown",
   "metadata": {},
   "source": [
    "<div style=\"background-color: #D0D0D0 ; padding: 10px; border: 1px solid black;\">       \n",
    "<header>\n",
    "<h3> Example 1</h3>\n",
    "    </header>\n",
    "\n",
    "Consider the function $f(x) = x^2$. Find the area bounded between the function and the interval $x = [-2,2]$.\n",
    "\n",
    "**Solution**\n",
    "    \n",
    "The indefinite integral is \n",
    "\n",
    "$$\\int x^{2}dx = \\frac{1}{3}x^3 + C$$\n",
    "\n",
    "Applying this to our rule above and letting go of the constant $C$, we have for the definite integral:\n",
    "\n",
    "$$\\int_{x = -2}^{x = 2} x^{2}dx = \\left[\\frac{1}{3}x^3 \\right]_{x = 2} - \\left[\\frac{1}{3}x^3 \\right]_{x = -2}$$\n",
    "\n",
    "Substituting in the values for $x$ at the lower and upper limit:\n",
    "\n",
    "$$\\int_{x = -2}^{x = 2} x^{2}dx = \\frac{1}{3}(2)^3  - \\frac{1}{3}(-2)^3 $$\n",
    "\n",
    "$$\\int_{x = -2}^{x = 2} x^{2}dx = \\frac{1}{3}(8)  - \\frac{1}{3}(-8) $$\n",
    "\n",
    "$$\\int_{x = -2}^{x = 2} x^{2}dx = \\frac{16}{3} $$\n",
    "\n",
    "</div>\n",
    "<hr style=\"height:2px;border-width:0;color:gray;background-color:gray\">"
   ]
  },
  {
   "cell_type": "markdown",
   "metadata": {},
   "source": [
    "<div class=\"alert alert-warning\">\n",
    "<b>Box 1</b><br>\n",
    "    \n",
    "Find the definite integral of $f(x) = 2x^2$ over the range $x = [0,2]$.   \n",
    "</div>\n",
    "\n",
    "<hr style=\"height:2px;border-width:0;color:gray;background-color:gray\">"
   ]
  },
  {
   "cell_type": "markdown",
   "metadata": {},
   "source": [
    "<div class=\"alert alert-warning\">\n",
    "<b>Box 2</b><br>\n",
    "    \n",
    "Find the definite integral of $f(x) = x^3$ over the range $x = [-2,2]$.   \n",
    "</div>\n",
    "\n",
    "<hr style=\"height:2px;border-width:0;color:gray;background-color:gray\">"
   ]
  },
  {
   "cell_type": "markdown",
   "metadata": {},
   "source": [
    "The observation student may observe from Box 2, that $f(x) = x^3$ is an odd function and we integrate across a symmetric interval around zero. Conceptually, we are adding a positive area with a negative area and the total area is zero.\n",
    "\n",
    "<div class=\"alert alert-info\">\n",
    "The definite integral of an odd function over a symmetric interval around zero is zero!\n",
    "</div>\n",
    "\n",
    "<hr style=\"height:2px;border-width:0;color:gray;background-color:gray\">"
   ]
  },
  {
   "cell_type": "markdown",
   "metadata": {},
   "source": [
    "<div class=\"alert alert-warning\">\n",
    "<b>Box 3</b><br>\n",
    "    \n",
    "Consider the function $f(x) = 3x^5$. Find the definite integral of $f(x)$ over the range $x = [-5,5]$.   \n",
    "</div>\n",
    "\n",
    "<hr style=\"height:2px;border-width:0;color:gray;background-color:gray\">"
   ]
  },
  {
   "cell_type": "markdown",
   "metadata": {},
   "source": [
    "<div class=\"alert alert-warning\">\n",
    "<b>Box 4</b><br>\n",
    "    \n",
    "Consider the function $f(x) = 3x^4 - 5x^3$. Find the definite integral of $f(x)$ over the range $x = [0,5]$.   \n",
    "</div>\n",
    "\n",
    "<hr style=\"height:2px;border-width:0;color:gray;background-color:gray\">"
   ]
  }
 ],
 "metadata": {
  "kernelspec": {
   "display_name": "Python 3 (ipykernel)",
   "language": "python",
   "name": "python3"
  },
  "language_info": {
   "codemirror_mode": {
    "name": "ipython",
    "version": 3
   },
   "file_extension": ".py",
   "mimetype": "text/x-python",
   "name": "python",
   "nbconvert_exporter": "python",
   "pygments_lexer": "ipython3",
   "version": "3.9.12"
  }
 },
 "nbformat": 4,
 "nbformat_minor": 4
}