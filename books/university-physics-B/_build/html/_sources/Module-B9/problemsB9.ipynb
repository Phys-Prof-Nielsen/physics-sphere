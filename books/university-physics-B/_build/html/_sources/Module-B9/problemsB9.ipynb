{
 "cells": [
  {
   "cell_type": "markdown",
   "metadata": {},
   "source": [
    "# B9.x Problems\n",
    "<hr style=\"height:2px;border-width:0;color:gray;background-color:gray\">"
   ]
  },
  {
   "cell_type": "markdown",
   "metadata": {},
   "source": [
    "<h2>Problem B9.1</h2>\n",
    "    </header>\n",
    "\n",
    "A flywheel (I = 50.0 kgm$^2$) starting from rest acquires an angular velocity of 200.0 rad/s while subject to a constant torque from a motor for 5.0 s. \n",
    "\n",
    "1. What is the angular acceleration of the flywheel? \n",
    "2. What is the magnitude of the torque?\n",
    "\n",
    "\n",
    "This problem is a slightly modified version from OpenStax. Access for free at [https://openstax.org/books/university-physics-volume-1/pages/10-problems](https://openstax.org/books/university-physics-volume-1/pages/10-problems)"
   ]
  },
  {
   "cell_type": "markdown",
   "metadata": {},
   "source": [
    "<hr style=\"height:2px;border-width:0;color:gray;background-color:gray\">"
   ]
  },
  {
   "cell_type": "markdown",
   "metadata": {},
   "source": [
    "<h2>Problem B9.2</h2>\n",
    "    </header>\n",
    "\n",
    "Suppose you exert a force of 180 N tangential to a 0.280-m-radius, 75.0-kg grindstone (a solid disk). \n",
    "\n",
    "1. What torque is exerted? \n",
    "2. What is the angular acceleration assuming negligible opposing friction? \n",
    "3. What is the angular acceleration if there is an opposing frictional force of 20.0 N exerted 1.50 cm from the axis?\n",
    "\n",
    "This problem is a slightly modified version from OpenStax. Access for free at [https://openstax.org/books/university-physics-volume-1/pages/10-problems](https://openstax.org/books/university-physics-volume-1/pages/10-problems)"
   ]
  },
  {
   "cell_type": "markdown",
   "metadata": {},
   "source": [
    "<hr style=\"height:2px;border-width:0;color:gray;background-color:gray\">"
   ]
  },
  {
   "cell_type": "markdown",
   "metadata": {},
   "source": [
    "<h2>Problem B9.3</h2>\n",
    "    </header>\n",
    "\n",
    "A torque of 50.0 N-m is applied to a grinding wheel (I = 20.0 kgm$^2$) for 20.0 s. \n",
    "\n",
    "1. If it starts from rest, what is the angular velocity of the grinding wheel after the torque is removed? \n",
    "2. Through what angle does the wheel move while the torque is applied?\n",
    "\n",
    "This problem is a slightly modified version from OpenStax. Access for free at [https://openstax.org/books/university-physics-volume-1/pages/10-problems](https://openstax.org/books/university-physics-volume-1/pages/10-problems)"
   ]
  },
  {
   "cell_type": "markdown",
   "metadata": {},
   "source": [
    "<hr style=\"height:2px;border-width:0;color:gray;background-color:gray\">"
   ]
  },
  {
   "cell_type": "markdown",
   "metadata": {},
   "source": [
    "<h2>Problem B9.4</h2>\n",
    "    </header>\n",
    "\n",
    "A uniform cylindrical grinding wheel of mass 50.0 kg and diameter 1.0 m is turned on by an electric motor. The friction in the bearings is negligible. \n",
    "\n",
    "1. What torque must be applied to the wheel to bring it from rest to 120.0 rev/min in 20.0 revolutions? \n",
    "2. A tool whose coefficient of kinetic friction with the wheel is 0.60 is pressed perpendicularly against the wheel with a force of 40.0 N. What torque must be supplied by the motor to keep the wheel rotating at a constant angular velocity?\n",
    "\n",
    "This problem is a slightly modified version from OpenStax. Access for free at [https://openstax.org/books/university-physics-volume-1/pages/10-problems](https://openstax.org/books/university-physics-volume-1/pages/10-problems)"
   ]
  },
  {
   "cell_type": "markdown",
   "metadata": {},
   "source": [
    "<hr style=\"height:2px;border-width:0;color:gray;background-color:gray\">"
   ]
  },
  {
   "cell_type": "markdown",
   "metadata": {},
   "source": [
    "<h2>Problem B9.5</h2>\n",
    "    </header>\n",
    "\n",
    "A pulley of moment of inertia 2.0 kgm$^2$ is mounted on a wall as shown in the following figure. Light strings are wrapped around two circumferences of the pulley and weights are attached. Assume the following data:  $r_1 = 50.0~\\textrm{cm}$, $r_2 = 20.0~\\textrm{cm}$, $m_1 = 1.0~\\textrm{kg}$, and $m_2 = 2.0~\\textrm{kg}$, what are \n",
    "\n",
    "1. the angular acceleration of the pulley?\n",
    "2. the linear acceleration of the weights? \n",
    "\n",
    "<img src=\"P9.4.png\" width=\"300\">\n",
    "\n",
    "This problem is a slightly modified version from OpenStax. Access for free at [https://openstax.org/books/university-physics-volume-1/pages/10-problems](https://openstax.org/books/university-physics-volume-1/pages/10-problems)"
   ]
  },
  {
   "cell_type": "markdown",
   "metadata": {},
   "source": [
    "<hr style=\"height:2px;border-width:0;color:gray;background-color:gray\">"
   ]
  }
 ],
 "metadata": {
  "celltoolbar": "Tags",
  "kernelspec": {
   "display_name": "Python 3 (ipykernel)",
   "language": "python",
   "name": "python3"
  },
  "language_info": {
   "codemirror_mode": {
    "name": "ipython",
    "version": 3
   },
   "file_extension": ".py",
   "mimetype": "text/x-python",
   "name": "python",
   "nbconvert_exporter": "python",
   "pygments_lexer": "ipython3",
   "version": "3.9.12"
  }
 },
 "nbformat": 4,
 "nbformat_minor": 4
}
