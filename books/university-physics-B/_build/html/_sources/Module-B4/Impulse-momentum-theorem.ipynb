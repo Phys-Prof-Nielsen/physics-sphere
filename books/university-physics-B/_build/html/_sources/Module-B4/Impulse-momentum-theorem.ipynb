{
 "cells": [
  {
   "cell_type": "markdown",
   "metadata": {},
   "source": [
    "# B4.1 Impulse-Momentum Theorem\n",
    "<hr style=\"height:2px;border-width:0;color:gray;background-color:gray\">"
   ]
  },
  {
   "cell_type": "markdown",
   "metadata": {},
   "source": [
    "## B4.1.1 Review\n",
    "\n",
    "Here, we briefly summarize what we have so far in terms of impulse-momentum.\n",
    "\n",
    "Momentum of a particle is\n",
    "\n",
    "$$ \\vec{p} = m\\vec{v} $$\n",
    "\n",
    "The change in momentum is\n",
    "\n",
    "$$ \\Delta\\vec{p} = \\vec{p}_2 - \\vec{p}_1 $$\n",
    "\n",
    "The impulse (or momentum transfer) due to a single force acting on the particle through an elapsed time is\n",
    "\n",
    "$$ \\vec{j} = \\vec{f}\\Delta t $$\n",
    "\n",
    "The sum of all forces acting on the particle (the net force) through a time interval is the net momentum transfer to/from the particle:\n",
    "\n",
    "$$ \\vec{f}_{net}\\Delta t = \\Delta\\vec{p} $$\n",
    "\n",
    "The latter is known as the **impulse-momentum theorem** and is an example of **cause and consequence**.\n",
    "\n",
    "We notice that the symbol for impulse ($\\vec{j}$) does not directly suggest a parameter that is associated with a chance, but keep in mind the concept is **change in momentum**: if we have a change on one side of the eqution, the other side must also have a change.\n",
    "\n",
    "<hr style=\"height:2px;border-width:0;color:gray;background-color:gray\">"
   ]
  },
  {
   "cell_type": "markdown",
   "metadata": {},
   "source": [
    "## B4.1.2  Calculus Form\n",
    "\n",
    "Only physics object defined as changes will ve affected by introducing calculus as it describes an instantaneous change in an object/parameter. In this case, all differences are writting as differentials. The above definitions now become:\n",
    "\n",
    "<div class=\"alert alert-success\">\n",
    "    \n",
    "$$ \\vec{p} = m\\vec{v}$$\n",
    "</div>\n",
    "\n",
    "<div class=\"alert alert-success\">\n",
    "    \n",
    "$$ d\\vec{p} = \\vec{p}_2 - \\vec{p}_1 $$\n",
    "</div>\n",
    "\n",
    "<div class=\"alert alert-success\">\n",
    "    \n",
    "$$ \\vec{j} = \\vec{f}dt \\tag{1}$$\n",
    "</div>\n",
    "\n",
    "<div class=\"alert alert-success\">\n",
    "    \n",
    "$$ \\vec{f}_{net}dt = d\\vec{p} \\tag{2}$$\n",
    "</div>\n",
    "\n",
    "<hr style=\"height:2px;border-width:0;color:gray;background-color:gray\">"
   ]
  },
  {
   "cell_type": "markdown",
   "metadata": {},
   "source": [
    "## B4.1.3 Impulse by Single Force\n",
    "\n",
    "We will consider the definition of impulse (Equation 1) in component form (say x-component):\n",
    "\n",
    "$$ j_x = f_{x}dt $$\n",
    "\n",
    "From a mathematical point of view this is a horrible notation. Since we know that impulse is a momentum transfer due to the specific force, we can say that the the $i$th force is transferring a certain momentum $dp_ix$. We can then write it as\n",
    "\n",
    "$$ dp_{ix} = f_{ix}dt $$\n",
    "\n",
    "Now we have a properly written differential equation. The meaning is obviously the same as above, but our mathematical heart is now warm and fuzzy. Why is that so? Well, we can now perform integration on both side of the equation:\n",
    "\n",
    "$$ \\int_{p_1}^{p_2}dp_{ix} = \\int_{t_1}^{t_2}f_{ix}dt $$\n",
    "\n",
    "The right side integral we cannot do anything about **unless** we have analytic information about the force as a function of time. The left side is simply the momentum transfer (or impulse) to/from the particle due to the single force:\n",
    "\n",
    "<div class=\"alert alert-success\">\n",
    "    \n",
    "$$ j_{ix} = \\int_{t_1}^{t_2}f_{ix}dt $$\n",
    "</div>\n",
    "\n",
    "**If we have information about how the force varies with time, we can find the momentum transfer to/from the particle through some time interval by integrating said force over the elapsed time interval**.\n",
    "\n",
    "<hr style=\"height:2px;border-width:0;color:gray;background-color:gray\">"
   ]
  },
  {
   "cell_type": "markdown",
   "metadata": {},
   "source": [
    "## B4.1.3 Impulse by Net Force\n",
    "\n",
    "Similar to above, we also have\n",
    "\n",
    "<div class=\"alert alert-success\">\n",
    "    \n",
    "$$ \\int_{t_1}^{t_2}f_{net,x}dt = \\Delta p_x $$\n",
    "</div>\n",
    "\n",
    "If we have information about how the **net force** varies with time, we can find the **net momentum transfer** to/from the particle through some time interval by integrating said force over the elapsed time interval.\n",
    "\n",
    "<hr style=\"height:2px;border-width:0;color:gray;background-color:gray\">"
   ]
  },
  {
   "cell_type": "markdown",
   "metadata": {},
   "source": [
    "<div style=\"background-color: #D0D0D0 ; padding: 10px; border: 1px solid black;\">       \n",
    "<header>\n",
    "<h3> Example 1</h3>\n",
    "    </header>\n",
    "    \n",
    "A net force is given by $\\vec{f} = [(2.0t + 4.0t^3)\\hat{i}]~\\textrm{N}$ and is applied to an object with a mass of 5.00 kg initially at rest. How long time does it take for the object to move at a speed of 20.0 m/s?\n",
    "\n",
    "**Solution**\n",
    "    \n",
    "We will solve this in component form. We know that the change in momentum is $\\Delta p_x = p_{2x} - p_{1x}$ so we have:\n",
    "    \n",
    "$$ \\int_{t_1}^{t_2}f_{net,x}dt =  p_{2x} - p_{1x}$$\n",
    "    \n",
    "Inserting all our information:\n",
    "    \n",
    "$$ \\int_{t_1=0}^{t_2=t'}(2.0t + 4.0t^3)dt =  mv_{2x} - mv_{1x}$$\n",
    "    \n",
    "Evaluate the integral and use the fact that the object is at rest at $t_1 = 0$ s: \n",
    "\n",
    "$$ t^2 + t^4 = (5.00)(20.0) $$\n",
    "    \n",
    "Now we solve for time:\n",
    "    \n",
    "</div>"
   ]
  },
  {
   "cell_type": "code",
   "execution_count": 14,
   "metadata": {
    "tags": [
     "hide-input"
    ]
   },
   "outputs": [
    {
     "name": "stdout",
     "output_type": "stream",
     "text": [
      "Time = 3.08423283771676\n"
     ]
    }
   ],
   "source": [
    "import sympy as sym\n",
    "\n",
    "\n",
    "\n",
    "#values giving\n",
    "m = 5.00\n",
    "v1 = 0.0\n",
    "v2 = 20.0\n",
    "\n",
    "t = sym.Symbol('t')\n",
    "\n",
    "#equation to be solved: t^2 + t^4 - mv2 + mv1\n",
    "eq1 = t**2 + t**4 - m*v2 + m*v1\n",
    "\n",
    "sol = sym.solve(eq1,t)\n",
    "\n",
    "#print only positive and real solution\n",
    "print('Time = '+str(sol[1]))"
   ]
  },
  {
   "cell_type": "markdown",
   "metadata": {},
   "source": [
    "<hr style=\"height:2px;border-width:0;color:gray;background-color:gray\">"
   ]
  },
  {
   "cell_type": "markdown",
   "metadata": {},
   "source": [
    "## B4.1.5 Graphical Consequence\n",
    "\n",
    "Since we have\n",
    "    \n",
    "$$ j_{ix} = \\int_{t_1}^{t_2}f_{ix}dt $$\n",
    "\n",
    "\n",
    "**The impulse or momentum transfer due to a single force is the area bounded by the single force graph and the time axis**.\n",
    "\n",
    "and \n",
    "\n",
    "$$ \\int_{t_1}^{t_2}f_{net,x}dt = \\Delta p_x$$\n",
    "\n",
    "The **net momentum transfer** due to the **net force** is the area bounded by the force graph and the time axis."
   ]
  },
  {
   "cell_type": "code",
   "execution_count": 10,
   "metadata": {
    "tags": [
     "hide-input"
    ]
   },
   "outputs": [
    {
     "data": {
      "image/png": "[encoded data removed]",
      "text/plain": [
       "<Figure size 640x480 with 1 Axes>"
      ]
     },
     "metadata": {},
     "output_type": "display_data"
    }
   ],
   "source": [
    "import numpy as np\n",
    "import matplotlib.pyplot as plt\n",
    "from matplotlib.patches import Polygon\n",
    "\n",
    "\n",
    "def func(x):\n",
    "    return (x - 3) * (x - 5) * (x - 7) + 85\n",
    "\n",
    "\n",
    "a, b = 2, 9  # integral limits\n",
    "x = np.linspace(0, 10)\n",
    "y = func(x)\n",
    "\n",
    "fig, ax = plt.subplots()\n",
    "ax.plot(x, y, 'r', linewidth=2)\n",
    "ax.set_ylim(bottom=0)\n",
    "\n",
    "# Make the shaded region\n",
    "ix = np.linspace(a, b)\n",
    "iy = func(ix)\n",
    "verts = [(a, 0), *zip(ix, iy), (b, 0)]\n",
    "poly = Polygon(verts, facecolor='0.9', edgecolor='0.5')\n",
    "ax.add_patch(poly)\n",
    "\n",
    "ax.text(0.5 * (a + b), 30, \"Impulse\",\n",
    "        horizontalalignment='center', fontsize=20)\n",
    "\n",
    "fig.text(0.9, 0.05, '$+t$')\n",
    "fig.text(0.1, 0.9, '$+f_{ix}(t)$')\n",
    "\n",
    "ax.spines['right'].set_visible(False)\n",
    "ax.spines['top'].set_visible(False)\n",
    "ax.xaxis.set_ticks_position('bottom')\n",
    "\n",
    "ax.set_xticks((a, b))\n",
    "ax.set_xticklabels(('$t_1$', '$t_2$'))\n",
    "ax.set_yticks([])\n",
    "\n",
    "plt.show()"
   ]
  },
  {
   "cell_type": "markdown",
   "metadata": {},
   "source": [
    "Information from such a graph is a very valuable tool to a scientist. We often do not measure momentum, impulse, or even velocity directly. For example, velocity is often inferred from postion measurements as a function of time. We have several tools that allow us to indirectly measure force as a function of time, some examples are scales or force probes. \n",
    "\n",
    "If we have a plot of **net force vs. time** the bounded area is the total momentum transfer. If we **in addition** have information about mass and initial (final) velocity, we can determine the final (initial) velocity. \n",
    "\n",
    "<hr style=\"height:2px;border-width:0;color:gray;background-color:gray\">"
   ]
  }
 ],
 "metadata": {
  "celltoolbar": "Tags",
  "kernelspec": {
   "display_name": "Python 3 (ipykernel)",
   "language": "python",
   "name": "python3"
  },
  "language_info": {
   "codemirror_mode": {
    "name": "ipython",
    "version": 3
   },
   "file_extension": ".py",
   "mimetype": "text/x-python",
   "name": "python",
   "nbconvert_exporter": "python",
   "pygments_lexer": "ipython3",
   "version": "3.10.9"
  }
 },
 "nbformat": 4,
 "nbformat_minor": 4
}
