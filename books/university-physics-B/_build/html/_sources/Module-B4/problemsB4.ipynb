{
 "cells": [
  {
   "cell_type": "markdown",
   "metadata": {},
   "source": [
    "# B4.4 Problems\n",
    "<hr style=\"height:2px;border-width:0;color:gray;background-color:gray\">"
   ]
  },
  {
   "cell_type": "markdown",
   "metadata": {},
   "source": [
    "<h2>Problem B4.1</h2>\n",
    "    </header>\n",
    "\n",
    "The amateur rocket engine is labeled according to its impulse and average thrust. One such engine has a thrust curve shown below. The rocket curve is copied from [Aerotech](https://aerotech-rocketry.com/products/product_83b63096-bb03-e999-143a-548a10f8c58e) and you can get the answer from the link.\n",
    "\n",
    "<img src=\"P-B4.1.png\"  width=\"500\"/>\n",
    "\n",
    "Using the graph and the [rocket classification table](https://en.wikipedia.org/wiki/Model_rocket_motor_classification) to estimate the impulse class of the engine. "
   ]
  },
  {
   "cell_type": "code",
   "execution_count": null,
   "metadata": {},
   "outputs": [],
   "source": [
    "# DIY Cell"
   ]
  },
  {
   "cell_type": "markdown",
   "metadata": {},
   "source": [
    "<hr style=\"height:2px;border-width:0;color:gray;background-color:gray\">"
   ]
  },
  {
   "cell_type": "markdown",
   "metadata": {},
   "source": [
    "<h2>Problem B4.2</h2>\n",
    "    </header>\n",
    "\n",
    "A 0.0050 kg particle is subject to a force given by $f_x = (2.0t^2 + 0.3t^5)~\\textrm{N}$ in the time interval $t = [0,3]~\\textrm{s}$. If the particle is traveling at +120.0 m/s initially, what is its velocity at $t = 3$ s?"
   ]
  },
  {
   "cell_type": "code",
   "execution_count": null,
   "metadata": {},
   "outputs": [],
   "source": [
    "# DIY Cell"
   ]
  },
  {
   "cell_type": "code",
   "execution_count": 1,
   "metadata": {
    "tags": [
     "hide-input",
     "hide-output"
    ]
   },
   "outputs": [
    {
     "name": "stdout",
     "output_type": "stream",
     "text": [
      "Velocity at 3 s = 11010.0000000000\n"
     ]
    }
   ],
   "source": [
    "%reset -f\n",
    "import sympy as sym\n",
    "\n",
    "#integral variable\n",
    "t = sym.Symbol('t')\n",
    "\n",
    "#function to integrate\n",
    "f = 2.0*t**2 + 0.3*t**5 \n",
    "\n",
    "#limits\n",
    "t1 = 0.0\n",
    "t2 = 3.0\n",
    "impulse = sym.integrate(f,(t,t1,t2))\n",
    "\n",
    "#values giving\n",
    "m = 0.005\n",
    "v1 = 120.0\n",
    "\n",
    "v2 = sym.Symbol('v2')\n",
    "\n",
    "#equation to be solved: 0 = impulse - mv2 + mv1\n",
    "eq1 = impulse - m*v2 + m*v1\n",
    "\n",
    "sol = sym.solve(eq1,v2)\n",
    "\n",
    "#print only positive and real solution\n",
    "print('Velocity at 3 s = '+str(sol[0]))"
   ]
  },
  {
   "cell_type": "markdown",
   "metadata": {},
   "source": [
    "<hr style=\"height:2px;border-width:0;color:gray;background-color:gray\">"
   ]
  },
  {
   "cell_type": "markdown",
   "metadata": {},
   "source": [
    "<h2>Problem B4.3</h2>\n",
    "    </header>\n",
    "\n",
    "A particle is subject to a net force shown on the graph below.\n",
    "\n",
    "1. Find the momentum transfer to/from the particle due to this net force across the shown time interval.\n",
    "2. If the particle has a mass of 0.40 kg and travels at +250.0 m/s at t = 5 s, what was its velocity at t = 0 s?\n",
    "3. What is its velocity at t = 8 s?"
   ]
  },
  {
   "cell_type": "code",
   "execution_count": null,
   "metadata": {},
   "outputs": [],
   "source": [
    "# DIY Cell"
   ]
  },
  {
   "cell_type": "code",
   "execution_count": 2,
   "metadata": {
    "tags": [
     "hide-input"
    ]
   },
   "outputs": [
    {
     "data": {
      "image/png": "[encoded data removed]",
      "text/plain": [
       "<Figure size 432x288 with 1 Axes>"
      ]
     },
     "metadata": {
      "needs_background": "light"
     },
     "output_type": "display_data"
    }
   ],
   "source": [
    "%reset -f\n",
    "import numpy as np\n",
    "import matplotlib.pyplot as plt\n",
    "\n",
    "%matplotlib inline\n",
    "\n",
    "t1 = np.arange(0,5.1,0.1)\n",
    "f1 = 0.0 + 3.0*t1\n",
    "t2 = np.arange(0,5.1,0.1)+5.0\n",
    "f2 = np.zeros(len(t2))+15\n",
    "\n",
    "plt.figure()\n",
    "plt.ylabel('$f_x$ (N)')\n",
    "plt.xlabel('Time (s)')\n",
    "ax = plt.gca()\n",
    "ax.plot(t1,f1,'-',color='b')\n",
    "ax.plot(t2,f2,'-',color='b')\n",
    "ax.set_xlim([0, 10])\n",
    "ax.set_ylim([0, 20])\n",
    "ax.grid()\n",
    "plt.show()"
   ]
  },
  {
   "cell_type": "code",
   "execution_count": 11,
   "metadata": {
    "tags": [
     "hide-input",
     "hide-output"
    ]
   },
   "outputs": [
    {
     "name": "stdout",
     "output_type": "stream",
     "text": [
      "Momentum transfer is 112.5 kgm/s\n",
      "Velocity at t = 0 s: [156.250000000000] m/s\n",
      "Velocity at t = 8 s: [362.500000000000] m/s\n"
     ]
    }
   ],
   "source": [
    "%reset -f\n",
    "\n",
    "import sympy as sym\n",
    "\n",
    "# Part 1\n",
    "# momentum transfer is the area bound by the graph and horizontal axis.\n",
    "# Area below triangle\n",
    "A1 = (0.5)*(5)*(15.0)\n",
    "# Area below rectangle\n",
    "A2 = (5)*(15)\n",
    "A = A1 + A2\n",
    "print('Momentum transfer is '+str(A)+' kgm/s')\n",
    "\n",
    "# Part 2\n",
    "m = 0.40\n",
    "v5 = 250.0\n",
    "dp = A1\n",
    "\n",
    "v0 = sym.Symbol('v0')\n",
    "eq = dp - m*v5 + m*v0\n",
    "sol = sym.solve(eq,v0)\n",
    "print('Velocity at t = 0 s: '+str(sol)+' m/s')\n",
    "\n",
    "# Part 3\n",
    "#momentum transfer from t = 5 to t=9\n",
    "dp = (3)*(15)\n",
    "v8 = sym.Symbol('v8')\n",
    "eq = dp - m*v8 + m*v5\n",
    "sol = sym.solve(eq,v8)\n",
    "print('Velocity at t = 8 s: '+str(sol)+' m/s')"
   ]
  },
  {
   "cell_type": "markdown",
   "metadata": {},
   "source": [
    "<hr style=\"height:2px;border-width:0;color:gray;background-color:gray\">"
   ]
  },
  {
   "cell_type": "markdown",
   "metadata": {},
   "source": [
    "<h2>Problem B4.4</h2>\n",
    "    </header>\n",
    "\n",
    "A helicopter with mass $2.35\\times 10^4~\\textrm{kg}$ has a position (in meters) given by $\\vec{r} = (0.020t^3)\\hat{i} + (2.2t)\\hat{j} + (-0.060t^2)\\hat{k}$. Find the net force on the helicopter at  t = 3.0 s.\n",
    "\n",
    "This problem is a slightly modified version from OpenStax. Access for free at [https://openstax.org/books/university-physics-volume-1/pages/6-additional-problems](https://openstax.org/books/university-physics-volume-1/pages/6-additional-problems)"
   ]
  },
  {
   "cell_type": "code",
   "execution_count": null,
   "metadata": {},
   "outputs": [],
   "source": [
    "# DIY Cell"
   ]
  },
  {
   "cell_type": "code",
   "execution_count": 3,
   "metadata": {
    "tags": [
     "hide-input",
     "hide-output"
    ]
   },
   "outputs": [
    {
     "name": "stdout",
     "output_type": "stream",
     "text": [
      "Net force at 3 s = [8460.00000000000, 0, -2820.00000000000]\n"
     ]
    }
   ],
   "source": [
    "%reset -f\n",
    "import sympy as sym\n",
    "\n",
    "m = 2.35E4\n",
    "#independent variable\n",
    "t = sym.Symbol('t')\n",
    "\n",
    "#position\n",
    "rx = 0.020*t**3\n",
    "ry = 2.2*t\n",
    "rz = -0.060*t**2\n",
    "\n",
    "ax = sym.diff(rx,t,2)\n",
    "ay = sym.diff(ry,t,2)\n",
    "az = sym.diff(rz,t,2)\n",
    "\n",
    "ax = ax.evalf(subs={t: 3.0})\n",
    "ay = ay.evalf(subs={t: 3.0})\n",
    "az = az.evalf(subs={t: 3.0})\n",
    "\n",
    "fx = m*ax\n",
    "fy = m*ay\n",
    "fz = m*az\n",
    "\n",
    "f = [fx, fy, fz]\n",
    "\n",
    "print('Net force at 3 s = '+str(f))"
   ]
  },
  {
   "cell_type": "markdown",
   "metadata": {},
   "source": [
    "<hr style=\"height:2px;border-width:0;color:gray;background-color:gray\">"
   ]
  },
  {
   "cell_type": "markdown",
   "metadata": {},
   "source": [
    "<h2>Problem B4.5</h2>\n",
    "    </header>\n",
    "\n",
    "A 2.25 kg box is moving across a horizontal floor. There is a coefficient of kinetic friction between the box and the floor of 0.400. A time-dependent applied pushing force of $f_x = 11 + 3.00t^2 - 0.500t^3$ is applied over the time interval of $t = [0.00,3.00]$ s. Assume the box is initially at rest and starting at $x = 0.00$ m.\n",
    "\n",
    "1. What are the impulses delivered by each forces acting on the box during the first 3 seconds?\n",
    "2. What is the net acceleration of the box during the first three seconds?\n",
    "3. What is the velocity of the box at t = 3.00 s?\n",
    "4. What is the position of the box at t = 3.00 s?\n",
    "5. After 3 s, the pushing force is no longer applied. How long time from t = 0 s does it take the box to come to a stop?\n",
    "6. What is its position when it comes to a stop?"
   ]
  },
  {
   "cell_type": "code",
   "execution_count": null,
   "metadata": {},
   "outputs": [],
   "source": [
    "# DIY Cell"
   ]
  },
  {
   "cell_type": "code",
   "execution_count": 4,
   "metadata": {
    "tags": [
     "hide-input",
     "hide-output"
    ]
   },
   "outputs": [
    {
     "name": "stdout",
     "output_type": "stream",
     "text": [
      "Part 1\n",
      "Force of gravity impulse: -66.2175000000000\n",
      "Normal force impulse: 66.2175000000000\n",
      "Force of friction impulse: -26.4870000000000\n",
      "Push force impulse: 49.8750000000000\n",
      " \n",
      "Part 2\n",
      "a_x = -0.222222222222222*t**3 + 1.33333333333333*t**2 + 0.964888888888889\n",
      " \n",
      "Part 3\n",
      "v2_x = 10.3946666666667\n",
      " \n",
      "Part 4\n",
      "x = 10.6420000000000\n",
      " \n",
      "Part 5\n",
      "Elapsed time: 5.64899762147469\n",
      " \n",
      "Part 6\n",
      "Final position = 24.4097236380111\n"
     ]
    }
   ],
   "source": [
    "%reset -f\n",
    "import sympy as sym\n",
    "\n",
    "m = 2.25\n",
    "mu = 0.400\n",
    "t1 = 0.0\n",
    "t2 = 3.0\n",
    "x1 = 0.0\n",
    "v1x = 0.0\n",
    "g = 9.81\n",
    "\n",
    "\n",
    "# PART 1\n",
    "#integral variable\n",
    "t = sym.Symbol('t')\n",
    "\n",
    "#forces: standard coordinate system\n",
    "\n",
    "#gravity\n",
    "fgy = -m*g\n",
    "\n",
    "#normal\n",
    "fny = -fgy\n",
    "\n",
    "#friction \n",
    "ffx = -mu*fny\n",
    "\n",
    "#push force\n",
    "fpx = 11 + 3*t**2 - 0.500*t**3\n",
    "\n",
    "#impulse: integral of force with respect to time\n",
    "\n",
    "ifgy = sym.integrate(fgy,(t,t1,t2))\n",
    "ifny = sym.integrate(fny,(t,t1,t2))\n",
    "iffx = sym.integrate(ffx,(t,t1,t2))\n",
    "ifpx = sym.integrate(fpx,(t,t1,t2))\n",
    "print('Part 1')\n",
    "print('Force of gravity impulse: '+ str(ifgy))\n",
    "print('Normal force impulse: '+ str(ifny))\n",
    "print('Force of friction impulse: '+ str(iffx))\n",
    "print('Push force impulse: '+ str(ifpx))\n",
    "print(' ')\n",
    "\n",
    "# PART 2: Use f_net = ma --> 0 = ma - f_net\n",
    "\n",
    "# x-direction\n",
    "ax = sym.Symbol('ax')\n",
    "eqx = m*ax - fpx - ffx\n",
    "solx = sym.solve(eqx,ax)\n",
    "print('Part 2')\n",
    "print('a_x = '+str(solx[0]))\n",
    "print(' ')\n",
    "ax = solx[0]\n",
    "\n",
    "# PART 3: integrate acceleration to find change in velocity, then add initial to get final\n",
    "dvx = sym.integrate(ax,(t,t1,t2))\n",
    "v2x = v1x + dvx\n",
    "print('Part 3')\n",
    "print('v2_x = '+str(v2x))\n",
    "print(' ')\n",
    "\n",
    "# PART 4\n",
    "#integrate acceleration to get velocity (start from rest)\n",
    "vx = sym.integrate(ax,t)\n",
    "#integrate velocity to get position  (start at x = 0)\n",
    "x = sym.integrate(vx,t)\n",
    "x = x.evalf(subs={t: 3.0})\n",
    "print('Part 4')\n",
    "print('x = '+ str(x))\n",
    "print(' ')\n",
    "\n",
    "# Part 5: only force is friction and it is constant\n",
    "# find acceleration and use kinematics equation to find time\n",
    "a = sym.Symbol('a')\n",
    "eq1 = m*a - ffx\n",
    "sol1 = sym.solve(eq1,a)\n",
    "a = sol1[0]\n",
    "dt = (0.0 - v2x)/a\n",
    "t = 3.0 + dt\n",
    "print('Part 5')\n",
    "print('Elapsed time: '+str(t))\n",
    "print(' ')\n",
    "\n",
    "# Part 6: find the additional distance after t = 3 s. \n",
    "# acceleration is constant so we can use derived equation of kinematics\n",
    "dx = (0.0**2 - v2x**2)/(2*a)\n",
    "xf = x + dx\n",
    "print('Part 6')\n",
    "print('Final position = '+str(xf))"
   ]
  },
  {
   "cell_type": "markdown",
   "metadata": {},
   "source": [
    "<hr style=\"height:2px;border-width:0;color:gray;background-color:gray\">"
   ]
  },
  {
   "cell_type": "markdown",
   "metadata": {},
   "source": [
    "<h2>Problem B4.6</h2>\n",
    "    </header>\n",
    "\n",
    "A UVU student has been tasked with pulling a 10.0 kg box full of research equipment up a slick rock hill in Capitol Reef National Park. The hill is sloped with an angle of $12.0^\\circ$ from the horizontal. There is a coefficient of friction between the rock surface and the box of 0.55. The student is optimistic at first but quickly runs out of stamina as evidenced by the measured pulling force (in N) of $f(t) = 74 - 0.07t$ along the incline of the hill. The student and box starts out from rest.\n",
    "\n",
    "1. How long time did it take before the net acceleration is zero?\n",
    "2. What is the speed of the box at that time?\n",
    "3. How far up the incline hill is the box at that time?\n",
    "4. The student continues to move up the hill until the student can no longer pull at which the speed zero. At what time does that occur?\n",
    "5. What distance up the hill did the box make it before the student need to take a break?\n",
    "6. Create plots of the acceleration, velocity, and distance up the incline."
   ]
  },
  {
   "cell_type": "code",
   "execution_count": null,
   "metadata": {},
   "outputs": [],
   "source": [
    "# DIY Cell"
   ]
  },
  {
   "cell_type": "code",
   "execution_count": 37,
   "metadata": {
    "tags": [
     "hide-input",
     "hide-output"
    ]
   },
   "outputs": [
    {
     "name": "stdout",
     "output_type": "stream",
     "text": [
      "Time to zero acceleration: 11.8272761883619\n",
      "Speed: 0.489595617125276\n",
      "Distance up incline: 3.86038838956809\n",
      "Time to exhaustion: 23.6545523767239\n",
      "Distance to breaking point: 7.72077677913618\n"
     ]
    },
    {
     "data": {
      "image/png": "[encoded data removed]",
      "text/plain": [
       "<Figure size 500x1000 with 3 Axes>"
      ]
     },
     "metadata": {},
     "output_type": "display_data"
    }
   ],
   "source": [
    "%reset -f\n",
    "import sympy as sym\n",
    "import numpy as np\n",
    "from matplotlib import pyplot as plt \n",
    "\n",
    "m = 10.0\n",
    "mu = 0.55\n",
    "g = 9.81\n",
    "theta = 12.0*np.pi/180.0\n",
    "t1 = 0.0\n",
    "\n",
    "# PART 1\n",
    "# Use N2 in x and y. x positive up the incline\n",
    "\n",
    "ax = 0.0\n",
    "t = sym.Symbol('t')\n",
    "fny = sym.Symbol('fny')\n",
    "\n",
    "fgy = -m*g*np.cos(theta)\n",
    "fgx = -m*g*np.sin(theta)\n",
    "ffx = -mu*fny\n",
    "fpx = 74 - 0.07*t\n",
    "\n",
    "eqx = m*ax - fpx - ffx - fgx\n",
    "eqy = 0 - fny - fgy\n",
    "sol1 = sym.solve((eqx,eqy),(t,fny))\n",
    "\n",
    "t2 = sol1[t]\n",
    "print('Time to zero acceleration: '+str(t2))\n",
    "\n",
    "# PART 2\n",
    "del ax\n",
    "\n",
    "ax = sym.Symbol('ax')\n",
    "eqx = m*ax - fpx - ffx - fgx\n",
    "eqy = 0 - fny - fgy\n",
    "sol2 = sym.solve((eqx,eqy),(ax,fny))\n",
    "\n",
    "ax = sol2[ax]\n",
    "vx = sym.integrate(ax,t)\n",
    "v = vx.evalf(subs={t: t2})\n",
    "print('Speed: '+str(v))\n",
    "\n",
    "# Part 3\n",
    "x = sym.integrate(vx,t)\n",
    "d1 = x.evalf(subs={t: t2})\n",
    "print('Distance up incline: '+str(d1))\n",
    "\n",
    "# Part 4\n",
    "eq3 = vx\n",
    "sol2 = sym.solve(eq3,t)\n",
    "print('Time to exhaustion: '+str(sol2[1]))\n",
    "\n",
    "# Part 5\n",
    "t3 = sol2[1]\n",
    "d2 = x.evalf(subs={t: t3})\n",
    "print('Distance to breaking point: '+str(d2))\n",
    "\n",
    "\n",
    "t_array = np.arange(0,t3,1)\n",
    "a_array = []\n",
    "v_array = []\n",
    "x_array = []\n",
    "for i in range(len(t_array)):\n",
    "    a_result = ax.evalf(subs={t: t_array[i]})\n",
    "    a_array.append(a_result)\n",
    "    v_result = vx.evalf(subs={t: t_array[i]})\n",
    "    v_array.append(v_result)\n",
    "    x_result = x.evalf(subs={t: t_array[i]})\n",
    "    x_array.append(x_result)\n",
    "\n",
    "fig, (ax1,ax2,ax3) = plt.subplots(3,figsize=(5,10))\n",
    "\n",
    "ax1.set(ylabel='Acceleration (m/s$^2$)', xlabel='Time (s)')\n",
    "ax1.plot(t_array,a_array,'-')\n",
    "ax1.set_xlim([0, np.max(t_array)+0.5])\n",
    "\n",
    "ax2.set(ylabel='Velocity (m/s)', xlabel='Time (s)')\n",
    "ax2.plot(t_array,v_array,'-')\n",
    "ax2.set_xlim([0, np.max(t_array)+0.5])\n",
    "\n",
    "ax3.set(ylabel='Distance (m)', xlabel='Time (s)')\n",
    "ax3.plot(t_array,x_array,'-')\n",
    "ax3.set_xlim([0, np.max(t_array)+0.5])\n",
    "\n",
    "plt.show()"
   ]
  },
  {
   "cell_type": "markdown",
   "metadata": {},
   "source": [
    "<hr style=\"height:2px;border-width:0;color:gray;background-color:gray\">"
   ]
  },
  {
   "cell_type": "markdown",
   "metadata": {},
   "source": [
    "<h2>Problem B4.7</h2>\n",
    "    </header>\n",
    "\n",
    "The terminal velocity of a person falling in air depends upon the weight and the area of the person facing the fluid. Find the terminal velocity of an $80.0$ kg skydiver falling in a headfirst position with a surface area of $0.140$ m$^2$.\n",
    "\n",
    "This problem is a slightly modified version from OpenStax. Access for free at [https://openstax.org/books/university-physics-volume-1/pages/6-problems](https://openstax.org/books/university-physics-volume-1/pages/6-problems)"
   ]
  },
  {
   "cell_type": "code",
   "execution_count": 1,
   "metadata": {},
   "outputs": [],
   "source": [
    "#DIY Cell"
   ]
  },
  {
   "cell_type": "code",
   "execution_count": 36,
   "metadata": {
    "tags": [
     "hide-input",
     "hide-output"
    ]
   },
   "outputs": [
    {
     "name": "stdout",
     "output_type": "stream",
     "text": [
      "Terminal velocity in m/s: 115.050569300520 m/s\n"
     ]
    }
   ],
   "source": [
    "%reset -f\n",
    "\n",
    "import sympy as sp\n",
    "\n",
    "m = 80.0\n",
    "A = 0.140\n",
    "g = 9.81\n",
    "\n",
    "rho_air = 1.21 #according to google\n",
    "C = 0.70  #according to google\n",
    "\n",
    "# unknown: terminal velocity\n",
    "vt = sp.Symbol('vt')\n",
    "\n",
    "fd = 0.5*C*rho_air*A*vt**2\n",
    "fg = m*g\n",
    "\n",
    "# Newton's second law. At terminal velocity the acceleration is zero and the two forces must balance\n",
    "eq = fg - fd\n",
    "sol = sp.solve(eq,vt)\n",
    "\n",
    "print('Terminal velocity in m/s: '+str(sol[1])+' m/s')"
   ]
  },
  {
   "cell_type": "markdown",
   "metadata": {},
   "source": [
    "<hr style=\"height:2px;border-width:0;color:gray;background-color:gray\">"
   ]
  },
  {
   "cell_type": "markdown",
   "metadata": {},
   "source": [
    "<h2>Problem B4.8</h2>\n",
    "    </header>\n",
    "\n",
    "By what factor does the drag force on a car increase as it goes from $65$ to $110$ km/h?\n",
    "\n",
    "This problem is a slightly modified version from OpenStax. Access for free at [https://openstax.org/books/university-physics-volume-1/pages/6-problems](https://openstax.org/books/university-physics-volume-1/pages/6-problems)"
   ]
  },
  {
   "cell_type": "code",
   "execution_count": 7,
   "metadata": {},
   "outputs": [],
   "source": [
    "# DIY Cell"
   ]
  },
  {
   "cell_type": "code",
   "execution_count": 8,
   "metadata": {
    "tags": [
     "hide-output",
     "hide-input"
    ]
   },
   "outputs": [
    {
     "name": "stdout",
     "output_type": "stream",
     "text": [
      "The air drag force increases by a factor of 2.863905325443787\n"
     ]
    }
   ],
   "source": [
    "%reset -f\n",
    "\n",
    "# the drag force goes as the speed squared.\n",
    "\n",
    "factor = (110/65)**2\n",
    "print('The air drag force increases by a factor of '+str(factor))"
   ]
  },
  {
   "cell_type": "markdown",
   "metadata": {},
   "source": [
    "<hr style=\"height:2px;border-width:0;color:gray;background-color:gray\">"
   ]
  },
  {
   "cell_type": "markdown",
   "metadata": {},
   "source": [
    "<h2>Problem B4.9</h2>\n",
    "    </header>\n",
    "\n",
    "The weight of a particle varies with altitude such that $w = \\frac{mgr_{0}^2}{r^2}$ where $r_0$ is the radius of Earth and $r$ is the distance from Earth’s center. If the particle is fired vertically with velocity $v_0$ from Earth’s surface, determine its velocity as a function of position r. (Hint: use $adr = vdv$.)\n",
    "\n",
    "This problem is a slightly modified version from OpenStax. Access for free at [https://openstax.org/books/university-physics-volume-1/pages/6-challenge-problems](https://openstax.org/books/university-physics-volume-1/pages/6-challenge-problems)"
   ]
  },
  {
   "cell_type": "code",
   "execution_count": 9,
   "metadata": {},
   "outputs": [],
   "source": [
    "# DIY Cell"
   ]
  },
  {
   "cell_type": "code",
   "execution_count": 26,
   "metadata": {
    "tags": [
     "hide-input",
     "hide-output"
    ]
   },
   "outputs": [
    {
     "name": "stdout",
     "output_type": "stream",
     "text": [
      "Velocity function = sqrt(2*g*r0**2/r1 - 2*g*r0 + v0**2)\n"
     ]
    }
   ],
   "source": [
    "%reset -f\n",
    "\n",
    "import sympy as sp\n",
    "\n",
    "# weigth is force of gravity: w = fg = mg\n",
    "\n",
    "g,r0,r,v,v0,r1,v1 = sp.symbols('g,r0,r,v,v0,r1,v1')\n",
    "\n",
    "# Newton's 2nd law: w = ma --> -mgr0**2/r**2 = ma\n",
    "\n",
    "# multiply by the differential dr on both sides (divide m out)\n",
    "\n",
    "# -(gr0**2/r**2)*dr = a*dr\n",
    "\n",
    "# Use hint\n",
    "\n",
    "# -(gr0**2/r**2)*dr = vdv\n",
    "\n",
    "eq1 = -g*r0**2/r**2\n",
    "eq2 = v\n",
    "eq = sp.integrate(eq1,(r,r0,r1)) - sp.integrate(eq2,(v,v0,v1))\n",
    "\n",
    "sol = sp.solve(eq,v1)\n",
    "\n",
    "print('Velocity function = '+str(sol[1]))"
   ]
  },
  {
   "cell_type": "markdown",
   "metadata": {},
   "source": [
    "<hr style=\"height:2px;border-width:0;color:gray;background-color:gray\">"
   ]
  },
  {
   "cell_type": "markdown",
   "metadata": {},
   "source": [
    "<h2>Problem B4.10</h2>\n",
    "    </header>\n",
    "\n",
    "A car of mass $1000.0$ kg is traveling along a level road at $100.0$ km/h when its brakes are applied. Calculate the stopping distance if the coefficient of kinetic friction of the tires is $0.500$. Neglect air resistance. (Hint: since the distance traveled is of interest rather than the time, $x$ is the desired independent variable and not $t$. Use the Chain Rule to change the variable: $\\frac{dv}{dt} = \\frac{dv}{dx}\\frac{dx}{dt}$.)\n",
    "\n",
    "This problem is a slightly modified version from OpenStax. Access for free at [https://openstax.org/books/university-physics-volume-1/pages/6-challenge-problems](https://openstax.org/books/university-physics-volume-1/pages/6-challenge-problems)"
   ]
  },
  {
   "cell_type": "code",
   "execution_count": null,
   "metadata": {},
   "outputs": [],
   "source": [
    "# DIY Cell"
   ]
  },
  {
   "cell_type": "code",
   "execution_count": 34,
   "metadata": {
    "tags": [
     "hide-input",
     "hide-output"
    ]
   },
   "outputs": [
    {
     "name": "stdout",
     "output_type": "stream",
     "text": [
      "Distance = 78.6549376423654 m\n"
     ]
    }
   ],
   "source": [
    "%reset -f\n",
    "\n",
    "import sympy as sp\n",
    "\n",
    "m = 1000.0\n",
    "v0 = 100.0*(1000/1)*(1/3600) #km/hr to m/s\n",
    "mu = 0.500\n",
    "v1 = 0.0 # final velocity\n",
    "g = 9.81\n",
    "\n",
    "# let x0 = 0.0\n",
    "\n",
    "x0 = 0.0\n",
    "\n",
    "#normal force balance force of gravity\n",
    "fn = m*g\n",
    "\n",
    "#friction force\n",
    "ff = mu*fn\n",
    "\n",
    "# Newton's 2nd law: -ff = ma --> -ff = m*dv/dt\n",
    "\n",
    "# Use hint\n",
    "# -ff/m = (dv/dx)*(dx/dt)   : dx/dt = v\n",
    "\n",
    "# multiply both sides by the dx differential\n",
    "# -ff*dx/m = v*dv\n",
    "\n",
    "#solve it\n",
    "x,v,x1 = sp.symbols('x,v,x1')\n",
    "\n",
    "eq1 = -ff/m\n",
    "eq2 = v\n",
    "eq = sp.integrate(eq1,(x,x0,x1)) - sp.integrate(eq2,(v,v0,v1))\n",
    "\n",
    "sol = sp.solve(eq,x1)\n",
    "#value = sol.evalf(subs={v0})\n",
    "\n",
    "print('Distance = '+str(sol[0])+' m')\n",
    "\n"
   ]
  },
  {
   "cell_type": "markdown",
   "metadata": {},
   "source": [
    "<hr style=\"height:2px;border-width:0;color:gray;background-color:gray\">"
   ]
  }
 ],
 "metadata": {
  "celltoolbar": "Tags",
  "kernelspec": {
   "display_name": "Python 3 (ipykernel)",
   "language": "python",
   "name": "python3"
  },
  "language_info": {
   "codemirror_mode": {
    "name": "ipython",
    "version": 3
   },
   "file_extension": ".py",
   "mimetype": "text/x-python",
   "name": "python",
   "nbconvert_exporter": "python",
   "pygments_lexer": "ipython3",
   "version": "3.10.9"
  }
 },
 "nbformat": 4,
 "nbformat_minor": 4
}
