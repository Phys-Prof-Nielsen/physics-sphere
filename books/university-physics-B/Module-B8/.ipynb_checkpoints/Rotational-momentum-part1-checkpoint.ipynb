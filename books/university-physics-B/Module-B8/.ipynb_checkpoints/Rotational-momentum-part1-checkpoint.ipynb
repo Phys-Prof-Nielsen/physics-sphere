{
 "cells": [
  {
   "cell_type": "markdown",
   "metadata": {},
   "source": [
    "# B8.2 Rotational Momentum: Part 1\n",
    "<hr style=\"height:2px;border-width:0;color:gray;background-color:gray\">"
   ]
  },
  {
   "cell_type": "markdown",
   "metadata": {},
   "source": [
    "Angular momentum, or rotational momentum, is the measure of rotational motion just as linear momentum is the measure of linear motion. We will first define angular momentum in a similar fashion as the linear counterpart, but we will quickly realize that the angular momentum is a beast compared to linear momemtum. We will make certain assumptions that will restrict its complexity and hopefully help us gain some confidence in those simpler scenarios. For a more rigorous discussion, you will need to take the course on classical mechanics.\n",
    "\n",
    "<img src=\"Picture1.png\" width=\"500\">\n",
    "\n",
    "***"
   ]
  },
  {
   "cell_type": "markdown",
   "metadata": {},
   "source": [
    "## 1. Angular Momentum: Point Object\n",
    "We defined the **linear momentum** in terms of its **resistance to a change in linear motion** and its **linear velocity** as\n",
    "\n",
    "$$ \\vec{p} = m\\vec{v} $$\n",
    "\n",
    "It would be tempting to define the rotational (or angular momentum) as\n",
    "\n",
    "$$ \\vec{l} = I\\vec{\\omega} $$\n",
    "\n",
    "where $I$ is the moment of inertia and is the particle's **resistance to a change rotational motion** and $\\omega$ is its **rotational velocity**. This is in principle corret, but only if we consider the moment of inertia as a **tensor**. Since we are not ready to handle the truth on that matter, we will define the moment of inertia differently.\n",
    "\n",
    "Instead, we will first disucss the meaning of rotational motion as restricted to this course. We restrict our discussion to motion around a given axis. That implies that we consider the moment of inertia around that given axis as well as the **components of rotational velocity** around that given axis. We can then define the **angular momentum components** around the respective axis as \n",
    "\n",
    "<div class=\"alert alert-success\">\n",
    "$$ l_x = I_{x}\\omega_{x} $$\n",
    "\n",
    "$$ l_y = I_{y}\\omega_{y} $$\n",
    "\n",
    "$$ l_z = I_{z}\\omega_{z} $$\n",
    "    </div>\n",
    "\n",
    "<div class=\"alert alert-info\">\n",
    "<li>This is only true when we that pure rotation around one of the principal axis.\n",
    "<li>The angular speeds are actually the angular components of the angular velocity and can thus be negative.\n",
    "<li>The angluar velocity components have units of rad/s in this equation.\n",
    "</div>\n",
    "\n",
    "***"
   ]
  },
  {
   "cell_type": "markdown",
   "metadata": {},
   "source": [
    "## Example 1\n",
    "A point particle of mass 0.5 kg is moving in a circular motion in the xy-plane with radius 0.5 m and an angular speed of 25 rad/s. What is its angular momentum around the three principal axes?\n",
    "\n",
    "### Solution\n",
    "We will consider each principal axis separately. We note that the particle is rotating about the z-axis since it is confined to the xy-plane.\n",
    "\n",
    "#### x-axis\n",
    "The angular speed around the x-axis is zero: $l_x = 0$\n",
    "\n",
    "### y-axis\n",
    "The angular speed around the y-axis is zero: $l_y = 0$\n",
    "\n",
    "### z-axis\n",
    "The moment of inertia about the z-axis is\n",
    "\n",
    "$$ I_z = md_z^2 = (0.5)(0.5)^2 = 0.125~\\textrm{kgm$^2$} $$\n",
    "\n",
    "and the rotational momentum around the z-axis is then\n",
    "\n",
    "$$ l_z = I_{z}\\omega_{z} = (0.125)(25) = 3~\\textrm{kgm$^2$/s} $$\n",
    "\n",
    "***"
   ]
  },
  {
   "cell_type": "markdown",
   "metadata": {},
   "source": [
    "<div class=\"alert alert-warning\">\n",
    "<b>Box 1</b><br>\n",
    "A turntable disc is spinning at a rate of $5.0~\\textrm{rev/s}$. There is a bug with a mass of 5.0 g on the turntable at location 8 cm from the center of the disc.\n",
    "    <ol>\n",
    "        <li> Convert the angular speed from rev/s to rad/s.\n",
    "            <li> Consider the bug to be point particle, what is its angular momentum around the rotation axis?\n",
    "\n",
    "</div>\n",
    "\n",
    "***"
   ]
  },
  {
   "cell_type": "markdown",
   "metadata": {},
   "source": [
    "<div class=\"alert alert-warning\">\n",
    "<b>Box 2</b><br>\n",
    "   <img src=\"lhc.jpg\" width=\"300\">\n",
    "    \n",
    "At full power, trillions of protons will race around the <a href=\"https://home.cern/science/accelerators/large-hadron-collider\">Large Hadron Collider (LHC)</a> accelerator ring 11,245 times a second, travelling at 99.9999991$\\%$ the speed of light. The collider is contained in a circular tunnel, with a circumference of 26.7 kilometers. What is the angular momentum of a single proton (considered a point particle) around the axis of rotation? HINT: You will need to look up the mass of a proton.\n",
    "</div>\n",
    "\n",
    "***"
   ]
  },
  {
   "cell_type": "markdown",
   "metadata": {},
   "source": [
    "# 2. Angular Momentum: System of Particles\n",
    "This is a similar approach as for the linear case: we simply add the components together. Let us consider one component, say the z-component. The total angular momentum is\n",
    "\n",
    "<div class=\"alert alert-success\">\n",
    "$$ L_z = \\sum_{i = 1}^{N}l_{i,z} $$\n",
    "    </div>\n",
    "    \n",
    "A similar relation hold for the x- and y-axis as well.\n",
    "\n",
    "***"
   ]
  },
  {
   "cell_type": "markdown",
   "metadata": {},
   "source": [
    "## Example 2\n",
    "Two particles are moving in circular motions but opposite directions. Particle A has a mass of 1.0 kg and is traveling in CCW direction with a rotational speed of 2.0 rad/s at a radius of 0.1 cm. Particle B has a mass of 0.25 kg and is traveling in CW direction with an angular speed of 5.0 rad/s at a radius of 0.5 cm. What is the rotational momentum of this system.\n",
    "\n",
    "### Solution\n",
    "Let us consider CCW direciton to be positive, that implies that particle A has a **positive** angular velocity component and particle B has a **negative** angular velocity component. We will also say that the particles are moving in the xy-plane and the angular momentum is therefore equivalent to finding the z-component.\n",
    "\n",
    "The total angular momemtum is \n",
    "\n",
    "$$ L_z = l_{1,z} + l_{2,z} $$\n",
    "\n",
    "$$ L_z = I_{1,z}\\omega_{1,z} + I_{2,z}\\omega_{2,z} $$\n",
    "\n",
    "$$ L_z = m_{1}d_{1,z}^2\\omega_{1,z} + m_{2}d_{2,z}^2\\omega_{2,z} $$\n",
    "\n",
    "$$ L_z = (1.0)(0.001)^2(2.0) + (0.25)(0.005)^2(-5.0) = 0.003~\\textrm{kgm$^2$/s} $$\n",
    "\n",
    "***"
   ]
  },
  {
   "cell_type": "markdown",
   "metadata": {},
   "source": [
    "<div class=\"alert alert-warning\">\n",
    "<b>Box 2</b><br>\n",
    "A turntable disc is spinning at a rate of $5.0~\\textrm{rev/s}$. There is a 5.0 g bug on the turntable at location 8 cm from the center of the disc. A second identical bug is positioned at a loction of 4 cm from the center of the disc. What is the magnitude of the angular momentum of the system of bugs? HINT: Remember to convert the angular speed to rad/s. \n",
    "\n",
    "</div>\n",
    "\n",
    "***"
   ]
  },
  {
   "cell_type": "markdown",
   "metadata": {},
   "source": [
    "<div class=\"alert alert-warning\">\n",
    "<b>Box 3</b><br>\n",
    "Two point objects A and B with masses 2.0 kg and 3.0 kg, respectively, are moving in circular motions with radii 0.5 m and 0.75 m, respectively. Object A is moving in a CW direction while object B is moving in a CCW direction. What is the angular momentum of this system?\n",
    "\n",
    "</div>\n",
    "\n",
    "***"
   ]
  },
  {
   "cell_type": "markdown",
   "metadata": {},
   "source": [
    "# 3. Angular Momentum: Continuous System\n",
    "Remember, a continuous system is a system where the number of point particles approaches infinity (in real applications: the number is too large to count). In this discussion, we must make another restriction on our continuous system as we will see.\n",
    "\n",
    "In this case, the angular momentum is (we consider only around one axis, but we can extrapolate the result to the other two axis as well)\n",
    "\n",
    "$$ L_z = \\sum_{i = 1}^{\\infty}l_{i,z} $$\n",
    "\n",
    "$$ L_z = \\sum_{i = 1}^{\\infty}I_{i,z}\\omega_{i,z}$$\n",
    "\n",
    "Now, the infinite sum is over the individual products between the moment of inertia and angular velocity component. **This is tricky** unless we consider **rigid objects**. In a rigid object **all particles must travel at the same angular speed**. That implies that\n",
    "\n",
    "$$ \\omega_{1,z} = \\omega_{2,z} = \\cdots $$\n",
    "\n",
    "We can then label the angular speeds for all the particles as $\\omega_z$ and pull it outside the summation:\n",
    "\n",
    "$$ L_z = \\left(\\sum_{i = 1}^{\\infty}I_{i,z}\\right)\\omega_{z}$$\n",
    "\n",
    "The summation inside the parathensis is (in the limit $N \\rightarrow \\infty$) the moment of inertia of the continuous system:\n",
    "\n",
    "<div class=\"alert alert-success\">\n",
    "$$ L_z = I_z\\omega_z $$\n",
    "    </div>\n",
    "   \n",
    "Hence, our rotational momentum for a continuous system appears similar in equation shape as for a point particle."
   ]
  },
  {
   "cell_type": "markdown",
   "metadata": {},
   "source": [
    "## Example 3\n",
    "A turntable disc with a mass of 10.0 kg and radius 15 cm is spinning at a rate of $8.0~\\textrm{rad/s}$. What is the rotational momentum of the disc?\n",
    "\n",
    "### Solution\n",
    "We will need to know the moment of inertia of a disc. From looking it up in a table in the textbook, we determine that the moment of inertia of a disc rotating about an axis through its center and perpendicular to the plane of the disc to be:\n",
    "\n",
    "$$ I_{disc} = \\frac{1}{2}MR^2 $$\n",
    "\n",
    "If we let the plane of the disc to be in the xy-plane, then the rotational momentum is along the z-axis and is:\n",
    "\n",
    "$$ L_z = I_{z}\\omega_{z} $$\n",
    "\n",
    "$$ L_z = \\frac{1}{2}MR^2\\omega_{z} $$\n",
    "\n",
    "$$ L_z = (0.5)(10.0)(0.15)^2(8.0) = 0.90~\\textrm{kgm$^2$/s} $$\n",
    "\n",
    "***"
   ]
  },
  {
   "cell_type": "markdown",
   "metadata": {},
   "source": [
    "<div class=\"alert alert-warning\">\n",
    "<b>Box 4</b><br>\n",
    "A turntable disc with a mass of 10.0 kg and radius 15 cm is spinning at a rate of $8.0~\\textrm{rad/s}$. There is a 5.0 g bug on the turntable at location 8 cm from the center of the disc. A second identical bug is positioned at a loction of 4 cm from the center of the disc. What is the magnitude of the angular momentum of the total system o(turntable and bugs)? HINT: the total angular momentum is the sum of individual momenta. \n",
    "\n",
    "</div>\n",
    "\n",
    "***"
   ]
  },
  {
   "cell_type": "markdown",
   "metadata": {},
   "source": [
    "<div class=\"alert alert-warning\">\n",
    "<b>Box 5</b><br>\n",
    "A solid sphere of mass 5.0 kg and radius 5.0 cm is spinning at a rate of 20 rad/s around an axis through its center. What is the angular momentum of the sphere around the rotation axis?\n",
    "\n",
    "</div>\n",
    "\n",
    "***"
   ]
  },
  {
   "cell_type": "markdown",
   "metadata": {},
   "source": [
    "<div class=\"alert alert-warning\">\n",
    "<b>Box 6</b><br>\n",
    "    <img src=\"fig5.png\" width=\"400\">\n",
    "    \n",
    "A solid sphere of mass 5.0 kg and radius 5.0 cm is rotating at a rate of 20 rad/s around an axis that is shifted a distance of 25 cm away from the center of the sphere. What is the angular momentum of the sphere around this axis? HINT: Use the parallel axis theorem. \n",
    "</div>\n",
    "\n",
    "***"
   ]
  },
  {
   "cell_type": "markdown",
   "metadata": {},
   "source": [
    "<div class=\"alert alert-warning\">\n",
    "<b>Box 7</b><br> \n",
    "A solid sphere of mass 5.0 kg and radius 5.0 cm is attached to the end of a rod of mass 2.0 kg and length 0.5 m. The system is in the horizontal xy-plane and spinning around an axis perpendicalur to this plane and through the end point of the rod opposite to the sphere. If the system is rotating at a rate of 20 rad/s what is the angular momentum of the system around this axis? <br>\n",
    "    <br>\n",
    "    HINTS: Use the parallel axis theorem for the sphere, look up moment of inertia of a rod and choose the proper version, calculate the angualr momenta of both sphere and rod and add them together. \n",
    "</div>\n",
    "\n",
    "***"
   ]
  },
  {
   "cell_type": "markdown",
   "metadata": {},
   "source": [
    "<div class=\"alert alert-warning\">\n",
    "<b>Box 8</b><br> \n",
    "A fun demonstration of conservation of angular momentum is to sit in a rotating chair, put your arms out and start spinning around. Then move your arms in as observe how much faster you spin. A key element here is the change in distribution of mass, or the change moment of inertia, which is causing a significant change in angular momentum. We will discuss the topic of conservation of angular momentum in later module. \n",
    "    \n",
    "For now, let us try and estimate the angular momentum of a person holding two dumbbells straight out from his/her torso. We will model the torso as a cylinder, ignore the mass of the arms, and assume the dumbbells are spherical.\n",
    "    \n",
    "An typical torso modeled as a cylinder has a mass of 54 kg and radius of 13 cm and a typical arm length is 80 cm. Consider each dumbbell to have a mass of 5.0 kg. \n",
    "    <ol>\n",
    "        <li> What is the moment of inertia of the person + dumbbell?\n",
    "        <li> If the rotation rate is 0.5 rev/s, what is the angular momentum of the person+dumbbell?\n",
    "    </ol>\n",
    "</div>\n",
    "\n",
    "***"
   ]
  },
  {
   "cell_type": "code",
   "execution_count": null,
   "metadata": {},
   "outputs": [],
   "source": []
  }
 ],
 "metadata": {
  "kernelspec": {
   "display_name": "Python 3 (ipykernel)",
   "language": "python",
   "name": "python3"
  },
  "language_info": {
   "codemirror_mode": {
    "name": "ipython",
    "version": 3
   },
   "file_extension": ".py",
   "mimetype": "text/x-python",
   "name": "python",
   "nbconvert_exporter": "python",
   "pygments_lexer": "ipython3",
   "version": "3.9.12"
  }
 },
 "nbformat": 4,
 "nbformat_minor": 4
}
