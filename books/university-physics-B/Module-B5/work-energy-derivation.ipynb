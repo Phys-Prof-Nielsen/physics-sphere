{
 "cells": [
  {
   "cell_type": "markdown",
   "metadata": {},
   "source": [
    "# B5.2 Deriving Work-Energy Theorem\n",
    "<hr style=\"height:2px;border-width:0;color:gray;background-color:gray\">"
   ]
  },
  {
   "cell_type": "markdown",
   "metadata": {},
   "source": [
    "## B5.2.1 Motivation\n",
    "\n",
    "In Phases D and C we defined the work-energy theorem, but briefly mentioned that it can be derived from Newton's 2nd law. We are now ready to do so. It should be noted, that Newton's 2nd law could also be derived from the work-energy theorem. Which one is more fundamental is more of a philosophical question. To Newton, the interactions (forces) and the related change in motion was fundamental\n",
    "\n",
    "<hr style=\"height:2px;border-width:0;color:gray;background-color:gray\">"
   ]
  },
  {
   "cell_type": "markdown",
   "metadata": {},
   "source": [
    "## B5.2.2  Derivation\n",
    "\n",
    "We will start with Newton's second law for a point particle:\n",
    "\n",
    "$$ \\vec{f}_{net} = m\\vec{a} $$\n",
    "\n",
    "It will be helpfull to write the acceleration as the derivative of velocity:\n",
    "\n",
    "$$ \\vec{f}_{net} = m\\frac{d\\vec{v}}{dt} $$\n",
    "\n",
    "Our goal is to relate this to work energy. We can do so by vector multiply each side by $d\\vec{r}$:\n",
    "\n",
    "$$ \\vec{f}_{net}\\cdot d\\vec{r} = m\\frac{d\\vec{v}}{dt}\\cdot d\\vec{r} $$\n",
    "\n",
    "The right side can be manipulated to\n",
    "\n",
    "$$ \\vec{f}_{net}\\cdot d\\vec{r} = m\\frac{d\\vec{r}}{dt}\\cdot d\\vec{v} $$\n",
    "\n",
    "since differentials can be treated as numbers and it does not matter which number we divide $dt$ by.\n",
    "\n",
    "The derivative of position with respect to time is the velocity:\n",
    "\n",
    "$$ \\vec{f}_{net}\\cdot d\\vec{r} = m\\vec{v}\\cdot d\\vec{v} \\tag{1}$$\n",
    "\n",
    "Now we need to investigate the product $\\vec{v}\\cdot d\\vec{v} $ a little closer. Recall that the magnitude of a vector squared is the product between the vector and itself:\n",
    "\n",
    "$$ v^2 = \\vec{v}\\cdot\\vec{v} $$\n",
    "\n",
    "The rules of differentials are the same as rules for derivatives. Using the chain rule on the left side (in implicit form) and product rule on the right side:\n",
    "\n",
    "$$ 2vdv = d\\vec{v}\\cdot\\vec{v} + \\vec{v}\\cdot d\\vec{v} = 2\\vec{v}\\cdot d\\vec{v} $$\n",
    "\n",
    "We can insert this into Equation (1):\n",
    "\n",
    "$$ \\vec{f}_{net}\\cdot d\\vec{r} = mvdv $$\n",
    "\n",
    "We can now integrate on both sides of the equation:\n",
    "\n",
    "$$ \\int_{x_1}^{x_2}\\vec{f}_{net}\\cdot d\\vec{r} = \\int_{v_1}^{v_2}mvdv $$\n",
    "\n",
    "and we end up\n",
    "\n",
    "$$ \\int_{x_1}^{x_2}\\vec{f}_{net}\\cdot d\\vec{r} = \\frac{1}{2}mv_{2}^2 - \\frac{1}{2}mv_{1}^2 $$\n",
    "\n",
    "which is the **work-energy theorem**:\n",
    "\n",
    "$$ w_{net} = \\Delta k $$"
   ]
  },
  {
   "cell_type": "markdown",
   "metadata": {},
   "source": [
    "<hr style=\"height:2px;border-width:0;color:gray;background-color:gray\">"
   ]
  }
 ],
 "metadata": {
  "celltoolbar": "Tags",
  "kernelspec": {
   "display_name": "Python 3 (ipykernel)",
   "language": "python",
   "name": "python3"
  },
  "language_info": {
   "codemirror_mode": {
    "name": "ipython",
    "version": 3
   },
   "file_extension": ".py",
   "mimetype": "text/x-python",
   "name": "python",
   "nbconvert_exporter": "python",
   "pygments_lexer": "ipython3",
   "version": "3.9.12"
  }
 },
 "nbformat": 4,
 "nbformat_minor": 4
}
