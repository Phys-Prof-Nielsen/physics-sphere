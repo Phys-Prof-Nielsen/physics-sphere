{
 "cells": [
  {
   "cell_type": "markdown",
   "metadata": {},
   "source": [
    "# B6.3 Power\n",
    "<hr style=\"height:2px;border-width:0;color:gray;background-color:gray\">"
   ]
  },
  {
   "cell_type": "markdown",
   "metadata": {},
   "source": [
    "## B6.3.1 Summary from Linear Motion\n",
    "\n",
    "We define power as the rate of change of energy transfer (or work):\n",
    "\n",
    "$$ p = \\frac{\\vec{f}\\cdot\\Delta\\vec{r}}{\\Delta t} \\tag{1}$$\n",
    "\n",
    "or for an extended system\n",
    "\n",
    "$$ P = \\frac{\\vec{F}\\cdot\\Delta\\vec{R}}{dt} \\tag{2}$$\n",
    "\n",
    "In linear motion, we can express the power in more useful ways:\n",
    "\n",
    "$$ p = \\vec{f}\\cdot\\vec{v} \\tag{3}$$\n",
    "\n",
    "or \n",
    "\n",
    "$$ P = \\vec{F}\\cdot\\vec{V} \\tag{4}$$\n",
    "\n",
    "<hr style=\"height:2px;border-width:0;color:gray;background-color:gray\">"
   ]
  },
  {
   "cell_type": "markdown",
   "metadata": {},
   "source": [
    "## B6.3.2  Power in Rotational Motion\n",
    "\n",
    "The concept equations (1) and (2) do not distinguish between linear or rotational motion and are valid with either form of motion. \n",
    "\n",
    "The working equations (3) and (4) can be extended through analogy from linear to rotational motion:\n",
    "\n",
    "<div class=\"alert alert-success\">\n",
    "    \n",
    "$$ p = \\tau_z\\omega_z $$\n",
    "</div>\n",
    "\n",
    "where we used component form as we are restricting our analysis to rotational motion in a plane, in this case the xy-plane. Here, $\\omega_z$ is the angular velocity component as the point particle moves in a circle about the z-axis\n",
    "\n",
    "Similarly for an extended object:\n",
    "\n",
    "<div class=\"alert alert-success\">\n",
    "    \n",
    "$$ P = T_z\\Omega_z $$\n",
    "</div>\n",
    "\n",
    "where $\\Omega_z$ is the velocity component of the object as it moves around an axis through its CM.\n",
    "\n",
    "<hr style=\"height:2px;border-width:0;color:gray;background-color:gray\">"
   ]
  }
 ],
 "metadata": {
  "celltoolbar": "Tags",
  "kernelspec": {
   "display_name": "Python 3 (ipykernel)",
   "language": "python",
   "name": "python3"
  },
  "language_info": {
   "codemirror_mode": {
    "name": "ipython",
    "version": 3
   },
   "file_extension": ".py",
   "mimetype": "text/x-python",
   "name": "python",
   "nbconvert_exporter": "python",
   "pygments_lexer": "ipython3",
   "version": "3.9.12"
  }
 },
 "nbformat": 4,
 "nbformat_minor": 4
}
