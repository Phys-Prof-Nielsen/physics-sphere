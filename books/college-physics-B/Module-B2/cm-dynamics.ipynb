{
 "cells": [
  {
   "cell_type": "markdown",
   "metadata": {},
   "source": [
    "# B2.2 Center of Mass Dynamics\n",
    "<hr style=\"height:2px;border-width:0;color:gray;background-color:gray\">"
   ]
  },
  {
   "cell_type": "markdown",
   "metadata": {},
   "source": [
    "## B2.2.1 Point Particle vs. Center of Mass\n",
    "\n",
    "The CM is the position vector of an object where the object will **behave like a point particle** with a mass equal to that of the object.\n",
    "\n",
    "The implications of this is: **the center of mass of an object will follow the same laws of physics as a point particle and everything we have discussed for a point particle can be applied to the CM concept of an object**.\n",
    "\n",
    "<div class=\"alert alert-danger\">\n",
    "    \n",
    "In this process, we can only describe the dynamics of the CM location of the object. We can not say anything about the specific dynamics of the object itself. Is it rotating or not? Is it stretching or contracting? We can not tell from the linear CM dynamics.\n",
    "    \n",
    "</div>\n",
    "\n",
    "\n",
    "<hr style=\"height:2px;border-width:0;color:gray;background-color:gray\">"
   ]
  },
  {
   "cell_type": "markdown",
   "metadata": {},
   "source": [
    "## B2.2.2 Equations for CM\n",
    "\n",
    "**Linear Momentum**\n",
    "\n",
    "$$ \\vec{P} = M\\vec{V} $$\n",
    "\n",
    "**Impulse**\n",
    "\n",
    "$$ \\vec{J} = \\vec{F}\\Delta t $$\n",
    "\n",
    "**Impulse-Momentum Theorem**\n",
    "\n",
    "$$\\Delta P = \\vec{F}_{net}\\Delta t $$\n",
    "\n",
    "**Kinetic Energy**\n",
    "\n",
    "$$ K = \\frac{1}{2}MV^2 $$\n",
    "\n",
    "**Work**\n",
    "\n",
    "$$ W = \\vec{F}\\cdot\\Delta \\vec{R} $$\n",
    "\n",
    "**Work-Energy Theorem**\n",
    "\n",
    "$$ \\Delta K = \\vec{F}_{net}\\cdot\\vec{R} $$\n",
    "\n",
    "Similarly, all derived equations, including kinematics and potential energy, can be expressed by replacing the lower case letters representing particles with the upper case letters representing CM.\n",
    "\n",
    "<hr style=\"height:2px;border-width:0;color:gray;background-color:gray\">"
   ]
  }
 ],
 "metadata": {
  "kernelspec": {
   "display_name": "Python 3 (ipykernel)",
   "language": "python",
   "name": "python3"
  },
  "language_info": {
   "codemirror_mode": {
    "name": "ipython",
    "version": 3
   },
   "file_extension": ".py",
   "mimetype": "text/x-python",
   "name": "python",
   "nbconvert_exporter": "python",
   "pygments_lexer": "ipython3",
   "version": "3.9.12"
  }
 },
 "nbformat": 4,
 "nbformat_minor": 4
}
