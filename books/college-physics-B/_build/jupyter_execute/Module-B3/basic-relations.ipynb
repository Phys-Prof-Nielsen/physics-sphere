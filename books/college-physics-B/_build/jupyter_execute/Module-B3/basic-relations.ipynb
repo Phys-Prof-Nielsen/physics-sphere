{
 "cells": [
  {
   "cell_type": "markdown",
   "metadata": {},
   "source": [
    "# B3.1 Basic Relationships\n",
    "<hr style=\"height:2px;border-width:0;color:gray;background-color:gray\">"
   ]
  },
  {
   "cell_type": "markdown",
   "metadata": {},
   "source": [
    "## B3.1.1 Motivation\n",
    "\n",
    "When dealing with rotational dynamics, we need to be able to address the problems and solutions in terms of rotational parameters such as angle, rotational speed, and rotational acceleration. In this module, we will see how we can define these concepts and how they relate.\n",
    "\n",
    "<hr style=\"height:2px;border-width:0;color:gray;background-color:gray\">"
   ]
  },
  {
   "cell_type": "markdown",
   "metadata": {},
   "source": [
    "## B3.1.2 Arc Lenght vs. Straigh Line Segment \n",
    "\n",
    "Consider a fixed point on a circle and let the circle roll without slipping. The are length is then the same as the straight line segment shown in the illustration below. \n",
    "\n",
    "<video width=\" \" height=\" \" \n",
    "       src=\"arc-length.m4v\"  \n",
    "       controls>\n",
    "</video>\n",
    "\n",
    "From geometry, we have a relationship between the arc length, radius and angle spanned by the two contact points:\n",
    "\n",
    "<div class=\"alert alert-success\">\n",
    "    \n",
    "$$ \\Delta s = R\\Delta\\theta \\tag{1}$$\n",
    "</div>\n",
    "\n",
    "**We have a relationship between a straight-line segment and a angular segment**.\n",
    "\n",
    "The fixed point moved through the straigh line segment $\\Delta s$ and the angular segment $\\Delta\\theta$ in an elapsed time $\\Delta t$. We can then find the average speed:\n",
    "\n",
    "$$ v = \\frac{\\Delta s}{\\Delta t} $$\n",
    "\n",
    "What is the meaning of this speed in terms of the rotational motion? Let us consider the instantaneous velocity at a few points as shown in the Figure below:\n",
    "\n",
    "<img src=\"B3-fig1.png\"  width=\"200\"/>\n",
    "\n",
    "The velocity vector is always in the instantaneous direction of motion and we observe that it is **tangential** to the circle. We refer to this as the **tangential velocity** or in our case, the **tangential speed**. We will insert a subscript to emphasize this.\n",
    "\n",
    "$$ v_t = \\frac{\\Delta s}{\\Delta t} $$\n",
    "\n",
    "Inserting Equation (1) into this equation gives us\n",
    "\n",
    "$$ v_t = R\\frac{\\Delta \\theta}{\\Delta t} $$\n",
    "\n",
    "We define the angular (or rotational) speed as \n",
    "\n",
    "<div class=\"alert alert-success\">\n",
    "    \n",
    "$$ \\omega = \\frac{\\Delta \\theta}{\\Delta t} $$\n",
    "</div>\n",
    "\n",
    "and we have a relationship between tangential and rotational speeds:\n",
    "\n",
    "<div class=\"alert alert-success\">\n",
    "    \n",
    "$$ v_t = R\\omega $$\n",
    "</div>\n",
    "\n",
    "Similarly, we can define the angular (or rotational) acceleration as\n",
    "\n",
    "<div class=\"alert alert-success\">\n",
    "    \n",
    "$$ \\alpha = \\frac{\\Delta \\omega}{\\Delta t} $$\n",
    "</div>\n",
    "\n",
    "and we have a relationship between tangential and rotational accelerations:\n",
    "\n",
    "<div class=\"alert alert-success\">\n",
    "    \n",
    "$$ a_t = R\\alpha $$\n",
    "</div> \n",
    "\n",
    "<div class=\"alert alert-danger\">\n",
    "    \n",
    "<b>IMPORTANT</b>: in the equations above, the angular (or rotational) parameters must be in units of radians, radians/s, and radians/s$^2$, respectively.\n",
    "</div> \n",
    "<hr style=\"height:2px;border-width:0;color:gray;background-color:gray\">"
   ]
  },
  {
   "cell_type": "markdown",
   "metadata": {},
   "source": [
    "<div style=\"background-color: #D0D0D0 ; padding: 10px; border: 1px solid black;\">       \n",
    "<header>\n",
    "<h3> Example 1</h3>\n",
    "    </header>\n",
    "\n",
    "A flywheel is spinning at a rate of 34 rad/s before it is accelerated to a rate of 72 rad/s over an elapsed time of 0.40 s. What was the average angular acceleration of the flywheel during this elapsed time?\n",
    "\n",
    "**Solution**\n",
    "    \n",
    "Plug in our numbers:\n",
    "    \n",
    "$$ \\alpha = \\frac{\\Delta\\omega}{\\Delta t} = \\frac{(72) - (34)}{(0.40)} = 95~\\textrm{rad/s}^2 $$\n",
    "\n",
    "    \n",
    "</div>"
   ]
  },
  {
   "cell_type": "markdown",
   "metadata": {},
   "source": [
    "<hr style=\"height:2px;border-width:0;color:gray;background-color:gray\">"
   ]
  },
  {
   "cell_type": "markdown",
   "metadata": {},
   "source": [
    "<div style=\"background-color: #D0D0D0 ; padding: 10px; border: 1px solid black;\">       \n",
    "<header>\n",
    "<h3> Example 2</h3>\n",
    "    </header>\n",
    "\n",
    "A disk is rotating at a rate of 45 rad/s. How many revolutions does it rotate in 2.0 s?\n",
    "\n",
    "**Solution**\n",
    "    \n",
    "We are looking for the angular distance:\n",
    "   \n",
    "$$ \\Delta\\theta = \\omega\\Delta t = (45)(2.0) = 90~\\textrm{rad} $$\n",
    "    \n",
    "We need the answer in revolutions and not radians, so we need to convert:\n",
    "    \n",
    "$$ 1~\\textrm{rev} = 2\\pi~\\textrm{rad} $$\n",
    "    \n",
    "Hence, our answer is\n",
    "    \n",
    "$$ \\Delta\\theta = (90~\\textrm{rad})\\left(\\frac{1~\\textrm{rev}}{2\\pi~\\textrm{rad}}\\right) = 14~\\textrm{rev}$$\n",
    "\n",
    "    \n",
    "</div>"
   ]
  },
  {
   "cell_type": "markdown",
   "metadata": {},
   "source": [
    "<hr style=\"height:2px;border-width:0;color:gray;background-color:gray\">"
   ]
  }
 ],
 "metadata": {
  "kernelspec": {
   "display_name": "Python 3 (ipykernel)",
   "language": "python",
   "name": "python3"
  },
  "language_info": {
   "codemirror_mode": {
    "name": "ipython",
    "version": 3
   },
   "file_extension": ".py",
   "mimetype": "text/x-python",
   "name": "python",
   "nbconvert_exporter": "python",
   "pygments_lexer": "ipython3",
   "version": "3.10.9"
  }
 },
 "nbformat": 4,
 "nbformat_minor": 4
}