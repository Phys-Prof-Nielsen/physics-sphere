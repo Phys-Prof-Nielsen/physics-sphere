{
 "cells": [
  {
   "cell_type": "markdown",
   "metadata": {},
   "source": [
    "# B4.x Problems\n",
    "<hr style=\"height:2px;border-width:0;color:gray;background-color:gray\">"
   ]
  },
  {
   "cell_type": "markdown",
   "metadata": {},
   "source": [
    "<h2>Problem B4.1</h2>\n",
    "    </header>\n",
    "\n",
    "A 0.2-kg particle is travelling in the xy-plane along the line  y = 2.0 m with a velocity 5.0 m/s. What is the angular momentum of the particle about the origin when x = 5.0 m?\n",
    "\n",
    "This problem is a slightly modified version from OpenStax. Access for free at [https://openstax.org/books/university-physics-volume-1/pages/11-problems](https://openstax.org/books/university-physics-volume-1/pages/11-problems)"
   ]
  },
  {
   "cell_type": "code",
   "execution_count": 1,
   "metadata": {
    "tags": [
     "hide-input",
     "hide-output"
    ]
   },
   "outputs": [
    {
     "name": "stdout",
     "output_type": "stream",
     "text": [
      "Magnitude of angular momentum: 1.9999999999999998\n",
      "Direction: negative z-direction\n"
     ]
    }
   ],
   "source": [
    "import numpy as np\n",
    "\n",
    "# use l = r x p = rpsin(theta)\n",
    "# p is the linear momentum: px = m*vx\n",
    "# r is the directed line segment from origin to the particle's location at that instant.\n",
    "\n",
    "m = 0.2\n",
    "v = 5.0\n",
    "y = 2.0\n",
    "x = 5.0\n",
    "\n",
    "#magnitude of vector r\n",
    "r = np.sqrt(x**2 + y**2)\n",
    "#magnitude of momentum vector\n",
    "p = m*v\n",
    "\n",
    "#angle between r and p vectors\n",
    "theta = np.arctan(y/x)\n",
    "\n",
    "l = r*p*np.sin(theta)\n",
    "\n",
    "print('Magnitude of angular momentum: '+str(l))\n",
    "\n",
    "#direction from RHR: negative z-direction\n",
    "print('Direction: negative z-direction')"
   ]
  },
  {
   "cell_type": "markdown",
   "metadata": {},
   "source": [
    "<hr style=\"height:2px;border-width:0;color:gray;background-color:gray\">"
   ]
  },
  {
   "cell_type": "markdown",
   "metadata": {},
   "source": [
    "<h2>Problem B4.2</h2>\n",
    "    </header>\n",
    "\n",
    "A particle of mass 5.0 kg has position vector $\\vec{r} = (2.0\\hat{i} - 3.0\\hat{j})~\\textrm{m}$ at a particular instant of time when its velocity is $\\vec{v} = (3.0\\hat{i})~\\textrm{m/s}$ with respect to the origin. What is the angular momentum of the particle? \n",
    "\n",
    "This problem is a slightly modified version from OpenStax. Access for free at [https://openstax.org/books/university-physics-volume-1/pages/11-problems](https://openstax.org/books/university-physics-volume-1/pages/11-problems)"
   ]
  },
  {
   "cell_type": "code",
   "execution_count": 2,
   "metadata": {
    "tags": [
     "hide-input",
     "hide-output"
    ]
   },
   "outputs": [
    {
     "name": "stdout",
     "output_type": "stream",
     "text": [
      "Magnityude of angular momentum: 45.0\n",
      "Direction: +z direction\n"
     ]
    }
   ],
   "source": [
    "# use l = r x p\n",
    "# since i x i = 0, only the product jxi = -k will remain:\n",
    "# l = r x p = (2.0i - 3.0j) x (5.0)(3.0i) \n",
    "\n",
    "#magnitude \n",
    "l = (3.0)*(5.0)*(3.0) \n",
    "#direction: (-)(j x i) = (-)(-k) = k\n",
    "\n",
    "print('Magnityude of angular momentum: '+str(l))\n",
    "print('Direction: +z direction')"
   ]
  },
  {
   "cell_type": "markdown",
   "metadata": {},
   "source": [
    "<hr style=\"height:2px;border-width:0;color:gray;background-color:gray\">"
   ]
  },
  {
   "cell_type": "markdown",
   "metadata": {},
   "source": [
    "<h2>Problem B4.3</h2>\n",
    "    </header>\n",
    "\n",
    "Use the right-hand rule to determine the directions of the angular momenta about the origin of the particles as shown below. The z-axis is out of the page.\n",
    "\n",
    "<img src=\"P4.3.png\" width=\"300\">\n",
    "\n",
    "This problem is a slightly modified version from OpenStax. Access for free at [https://openstax.org/books/university-physics-volume-1/pages/11-problems](https://openstax.org/books/university-physics-volume-1/pages/11-problems)"
   ]
  },
  {
   "cell_type": "code",
   "execution_count": 3,
   "metadata": {
    "tags": [
     "hide-input",
     "hide-output"
    ]
   },
   "outputs": [
    {
     "name": "stdout",
     "output_type": "stream",
     "text": [
      "Particle 1: -z\n",
      "Particle 1: zero angular momentum\n",
      "Particle 1: +z\n",
      "Particle 1: zero angular momentum\n"
     ]
    }
   ],
   "source": [
    "# Particle 1\n",
    "# directed line segment is from origin to (x,y) = (0,2): CW rotation\n",
    "print('Particle 1: -z')\n",
    "\n",
    "# Particle 2\n",
    "# directed line segment is from origin to (x,y) = (2,-2): no rotation\n",
    "print('Particle 1: zero angular momentum')\n",
    "\n",
    "# Particle 3\n",
    "# directed line segment is from origin to (x,y) = (-3,1): CCW rotation\n",
    "print('Particle 1: +z')\n",
    "\n",
    "# Particle 4\n",
    "# directed line segment is from origin to (x,y) = (4,0): no rotation\n",
    "print('Particle 1: zero angular momentum')"
   ]
  },
  {
   "cell_type": "markdown",
   "metadata": {},
   "source": [
    "<hr style=\"height:2px;border-width:0;color:gray;background-color:gray\">"
   ]
  },
  {
   "cell_type": "markdown",
   "metadata": {},
   "source": [
    "<h2>Problem B4.4</h2>\n",
    "    </header>\n",
    "\n",
    "Suppose the particles in the preceding problem have masses (in kg): $m_1 = 0.10$, $m_2 = 0.20$, $m_3 = 0.30$, and $m_4 = 0.40$. The velocities (in m/s) of the particles are: $\\vec{v}_1 = 2.0\\hat{i}$, $\\vec{v}_2 = 3.0\\hat{i} - 3.0\\hat{j}$, $\\vec{v}_3 = -1.5\\hat{j}$, $\\vec{v}_4 = -4.0\\hat{i}$.\n",
    "\n",
    "1. Calculate the angular momentum of each particle about the origin. \n",
    "2. What is the total angular momentum of the four-particle system about the origin?\n",
    "\n",
    "This problem is a slightly modified version from OpenStax. Access for free at [https://openstax.org/books/university-physics-volume-1/pages/11-problems](https://openstax.org/books/university-physics-volume-1/pages/11-problems)"
   ]
  },
  {
   "cell_type": "code",
   "execution_count": 4,
   "metadata": {
    "tags": [
     "hide-input",
     "hide-output"
    ]
   },
   "outputs": [
    {
     "name": "stdout",
     "output_type": "stream",
     "text": [
      "Particle 1: -0.4\n",
      "Particle 2: 0\n",
      "Particle 3: +1.3499999999999999\n",
      "Particle 4: 0\n",
      "Total angular momentum: 0.9499999999999998\n"
     ]
    }
   ],
   "source": [
    "import numpy as np\n",
    "\n",
    "# Particle 1: negative angular momentum\n",
    "# directed line segment is from origin to (x,y) = (0,2): \n",
    "r1 = 2.0\n",
    "m1 = 0.10\n",
    "v1 = 2.0\n",
    "theta1 = np.pi/2\n",
    "l1 = r1*m1*v1*np.sin(theta1) #magnitude\n",
    "l1 = -l1  #negative direction\n",
    "print('Particle 1: '+str(l1))\n",
    "\n",
    "# Particle 2: 0\n",
    "print('Particle 2: '+str(0))\n",
    "\n",
    "# Particle 3: positive angular momentum\n",
    "# directed line segment is from origin to (x,y) = (-3,1):\n",
    "r3 = np.sqrt((-3.0)**2 + (1)**2)\n",
    "m3 = 0.30\n",
    "v3 = 1.5\n",
    "theta3 = np.arctan(1.0/3.0)+np.pi/2\n",
    "l3 = r3*m3*v3*np.sin(theta3)\n",
    "print('Particle 3: +'+str(l3))\n",
    "\n",
    "# Particle 4: 0\n",
    "print('Particle 4: '+str(0))\n",
    "\n",
    "#total\n",
    "l_tot = l1 + l3\n",
    "print('Total angular momentum: '+str(l_tot))"
   ]
  },
  {
   "cell_type": "markdown",
   "metadata": {},
   "source": [
    "<hr style=\"height:2px;border-width:0;color:gray;background-color:gray\">"
   ]
  },
  {
   "cell_type": "markdown",
   "metadata": {},
   "source": [
    "<h2>Problem B4.5</h2>\n",
    "    </header>\n",
    "\n",
    "1. Calculate the angular momentum of Earth in its orbit around the Sun. \n",
    "2. Compare this angular momentum with the angular momentum of Earth about its axis.\n",
    "\n",
    "This problem is a slightly modified version from OpenStax. Access for free at [https://openstax.org/books/university-physics-volume-1/pages/11-problems](https://openstax.org/books/university-physics-volume-1/pages/11-problems)"
   ]
  },
  {
   "cell_type": "code",
   "execution_count": 5,
   "metadata": {
    "tags": [
     "hide-input",
     "hide-output"
    ]
   },
   "outputs": [
    {
     "name": "stdout",
     "output_type": "stream",
     "text": [
      "Orbital angular momentum: 2.662908522058627e+40\n",
      "Spin angular momentum: 7.066672196816025e+33\n"
     ]
    }
   ],
   "source": [
    "import numpy as np\n",
    "\n",
    "# center to center distance Sun-Earth: 1 AU = 1.496 x 10^11 m\n",
    "# mass of earth: 5.972 x 10^24 kg\n",
    "# radius of earth: 6.378 x 10^6 m\n",
    "\n",
    "#-----------------\n",
    "# PART 1\n",
    "#-----------------\n",
    "R = 1.496E11\n",
    "M = 5.972E24\n",
    "# Find the orbital angular momentum\n",
    "# L = R x P = RPsin(theta) \n",
    "# theta = 90 degrees\n",
    "# tangential speed: distance/time\n",
    "D = 2*np.pi*R\n",
    "T = (365)*(24)*(3600)  # (365 days)*(24 hrs/day)*(3600 s/1 hr)\n",
    "V = D/T\n",
    "\n",
    "L_o = R*M*V\n",
    "print('Orbital angular momentum: '+str(L_o))\n",
    "\n",
    "#-----------------\n",
    "# PART 2\n",
    "#-----------------\n",
    "R_E = 6.378E6\n",
    "M = 5.972E24\n",
    "# Find the spin angular momentum\n",
    "# L = I*Omega \n",
    "# Assume solid, uniform sphere\n",
    "I = (2.0/5.0)*M*R_E**2\n",
    "Omega = (1.0/24)*(2*np.pi)*(1.0/3600)  # (1 rev/24 hr)*(2 pi rad/ 1 rev)*(1 hr/ 3600 s)\n",
    "\n",
    "L_s = I*Omega\n",
    "print('Spin angular momentum: '+str(L_s))"
   ]
  },
  {
   "cell_type": "markdown",
   "metadata": {},
   "source": [
    "<hr style=\"height:2px;border-width:0;color:gray;background-color:gray\">"
   ]
  }
 ],
 "metadata": {
  "celltoolbar": "Tags",
  "kernelspec": {
   "display_name": "Python 3 (ipykernel)",
   "language": "python",
   "name": "python3"
  },
  "language_info": {
   "codemirror_mode": {
    "name": "ipython",
    "version": 3
   },
   "file_extension": ".py",
   "mimetype": "text/x-python",
   "name": "python",
   "nbconvert_exporter": "python",
   "pygments_lexer": "ipython3",
   "version": "3.10.9"
  }
 },
 "nbformat": 4,
 "nbformat_minor": 4
}