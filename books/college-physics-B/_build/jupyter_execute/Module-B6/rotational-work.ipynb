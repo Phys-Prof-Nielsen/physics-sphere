{
 "cells": [
  {
   "cell_type": "markdown",
   "metadata": {},
   "source": [
    "# B6.1 Rotational Work\n",
    "<hr style=\"height:2px;border-width:0;color:gray;background-color:gray\">"
   ]
  },
  {
   "cell_type": "markdown",
   "metadata": {},
   "source": [
    "## B6.1.1 Linear Review\n",
    "\n",
    "We have defined the work by a **constant** force on a particle as\n",
    "\n",
    "$$ w = \\vec{f}\\cdot\\Delta\\vec{r} $$\n",
    "\n",
    "In 1D, we defined the work as\n",
    "\n",
    "$$ w = f_x\\Delta x $$\n",
    "\n",
    "<hr style=\"height:2px;border-width:0;color:gray;background-color:gray\">"
   ]
  },
  {
   "cell_type": "markdown",
   "metadata": {},
   "source": [
    "## B6.1.2  Rotational Work\n",
    "\n",
    "The derivation for rotational work is similar to that of linear work, and we have seen how the linear concepts and equations transforms into rotational forms with ease:\n",
    "\n",
    "* the linear force is replaced by rotational force (torque).\n",
    "* the linear velocity is replaced by the rotational velocity.\n",
    "\n",
    "Since we restricting our rotational motion to a plane (say xy-plane), then we will only consider the work done through the vector components:\n",
    "\n",
    "<div class=\"alert alert-success\">\n",
    "    \n",
    "$$ w = \\tau_{z}\\Delta\\theta_z $$\n",
    "</div>\n",
    "\n",
    "\n",
    "\n",
    "<hr style=\"height:2px;border-width:0;color:gray;background-color:gray\">"
   ]
  },
  {
   "cell_type": "markdown",
   "metadata": {},
   "source": [
    "## B6.1.3 Graphical Consequence\n",
    "\n",
    "Since we have\n",
    "    \n",
    "$$ w = \\tau_{z}\\Delta\\theta_z $$\n",
    "\n",
    "**The work or energy transfer due to a single force is the area bounded by the single torque graph and the angular axis**.\n",
    "\n",
    "If the force in consideration is the **net torque** then we have\n",
    "\n",
    "$$ \\Delta k = w_{net} $$\n",
    "\n",
    "that is, **the bound area is the change in the particle's rotational kinetic energy**.\n",
    "\n"
   ]
  },
  {
   "cell_type": "markdown",
   "metadata": {},
   "source": [
    "<hr style=\"height:2px;border-width:0;color:gray;background-color:gray\">"
   ]
  }
 ],
 "metadata": {
  "celltoolbar": "Tags",
  "kernelspec": {
   "display_name": "Python 3 (ipykernel)",
   "language": "python",
   "name": "python3"
  },
  "language_info": {
   "codemirror_mode": {
    "name": "ipython",
    "version": 3
   },
   "file_extension": ".py",
   "mimetype": "text/x-python",
   "name": "python",
   "nbconvert_exporter": "python",
   "pygments_lexer": "ipython3",
   "version": "3.9.12"
  }
 },
 "nbformat": 4,
 "nbformat_minor": 4
}