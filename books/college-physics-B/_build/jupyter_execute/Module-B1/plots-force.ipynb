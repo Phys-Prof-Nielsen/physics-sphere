{
 "cells": [
  {
   "cell_type": "markdown",
   "metadata": {},
   "source": [
    "# B1.4 Plots with Force\n",
    "<hr style=\"height:2px;border-width:0;color:gray;background-color:gray\">"
   ]
  },
  {
   "cell_type": "markdown",
   "metadata": {},
   "source": [
    "## B1.4.1 Essentials\n",
    "\n",
    "On our journey so far, we have seen force acting on a particle through time (impulse) and through position (work). Let us quickly summarize them here in component form:\n",
    "\n",
    "### Impulse by a single force\n",
    "\n",
    "Momentum transfer by a single force acting on a particle through an elapsed time:\n",
    "\n",
    "$$ j_x = f_{x}\\Delta t \\tag{1}$$\n",
    "\n",
    "### Impulse by net force\n",
    "\n",
    "The change in momentum (net momentum transfer) is\n",
    "\n",
    "$$ \\Delta p_x = f_{net,x}\\Delta t \\tag{2}$$\n",
    "\n",
    "### Work by a single force\n",
    "\n",
    "Energy transfer by a single force acting on a particle through a distance:\n",
    "\n",
    "$$ w = f_{x}\\Delta x \\tag{3}$$\n",
    "\n",
    "### Work by net force\n",
    "\n",
    "The change in kinetic energy is\n",
    "\n",
    "$$ \\Delta k = f_{net,x}\\Delta x \\tag{4}$$\n",
    "\n",
    "<hr style=\"height:2px;border-width:0;color:gray;background-color:gray\">"
   ]
  },
  {
   "cell_type": "markdown",
   "metadata": {},
   "source": [
    "## B1.4.2 Graphical Representation: Force vs. Time\n",
    "\n",
    "From Equations (1) and (2) we observe that multiplying force by elapsed time, we get the momentum transfer. This is reminescent of the relationships to obtain displacement from velocity and change in velocity from acceleration. Both of these could be obtained from a graph by considering the area from the velocity vs. time and acceleration vs. time graphs. We can extend this observation:\n",
    "\n",
    "<div class=\"alert alert-success\">\n",
    "    \n",
    "The area associated with a force vs. time graph is the impulse delivered to/from the particle.    \n",
    "</div>\n",
    "<hr style=\"height:2px;border-width:0;color:gray;background-color:gray\">"
   ]
  },
  {
   "cell_type": "markdown",
   "metadata": {},
   "source": [
    "<div style=\"background-color: #D0D0D0 ; padding: 10px; border: 1px solid black;\">       \n",
    "<header>\n",
    "<h3> Example 1</h3>\n",
    "    </header>\n",
    "    \n",
    "Consider the force vs. time graph shown below. Assume all measurements are given to two significant figures. We will consider to cases here.\n",
    "    \n",
    "1. Consider the force shown to be a single force. What is the impulse delivered to the particle by this force during the 10 s?\n",
    "2. Consider the force shown to the net force. What is the net momentum transfer between t = 0 s and t = 5 s? If the particle has a mass of 0.50 kg and initially at rest, what is its velocity at t = 5 s?\n",
    "    \n",
    "**Solution**\n",
    "\n",
    "Part 1:<br>\n",
    "    \n",
    "The impulse delivered by a single force is the area bounded by the graph and the horizontal time axis intersecting at f = 0. That area can be found by dividing it into a rectangle and a triangle. The area (and impulse) is then\n",
    "    \n",
    "$$ j_x = (10)(+4.0) + \\left[ \\frac{1}{2}(10)(+20) \\right] = +140~\\textrm{kgm/s} $$\n",
    "\n",
    "Part 2:<br>\n",
    "    \n",
    "When considering a net force, the impulse is also the net momentum transfer. The net momentum transfer between t = 0 and t = 5 s is the area within that time interval. From the graph, we have\n",
    "    \n",
    "$$ \\Delta p_x = (5.0)(+4.0) + \\left[ \\frac{1}{2}(5.0)(+10) \\right] = +45~\\textrm{kgm/s} $$\n",
    "    \n",
    "We also have \n",
    "    \n",
    "$$ \\Delta p_x = p_{2x} - p_{1x} = mv_{2x} - mv_{1x}$$\n",
    "    \n",
    "Using our calculated and given values, we can solve for the velocity at t = 5 s:\n",
    "    \n",
    "$$ v_{2x} = \\frac{\\Delta p_x + p_{1x}}{m} = \\frac{(+45) + (0.50)(0)}{(0.50)} = 90~\\textrm{m/s}$$\n",
    "    \n",
    "</div>"
   ]
  },
  {
   "cell_type": "code",
   "execution_count": 1,
   "metadata": {
    "scrolled": false,
    "tags": [
     "hide-input"
    ]
   },
   "outputs": [
    {
     "data": {
      "image/png": "[encoded data removed]",
      "text/plain": [
       "<Figure size 432x288 with 1 Axes>"
      ]
     },
     "metadata": {
      "needs_background": "light"
     },
     "output_type": "display_data"
    }
   ],
   "source": [
    "import numpy as np\n",
    "import matplotlib.pyplot as plt\n",
    "\n",
    "%matplotlib inline\n",
    "\n",
    "t = np.arange(0,11,1)\n",
    "f = 4.0 + 2.0*t\n",
    "\n",
    "plt.figure()\n",
    "plt.ylabel('Force (N)')\n",
    "plt.xlabel('Time (s)')\n",
    "ax = plt.gca()\n",
    "ax.plot(t,f,'-o')\n",
    "ax.set_xlim([0, np.max(t)+0.5])\n",
    "ax.set_ylim([0, np.max(f)+1])\n",
    "plt.show()"
   ]
  },
  {
   "cell_type": "markdown",
   "metadata": {},
   "source": [
    "<hr style=\"height:2px;border-width:0;color:gray;background-color:gray\">"
   ]
  },
  {
   "cell_type": "markdown",
   "metadata": {},
   "source": [
    "## B1.4.3 Graphical Representation: Force vs. Position\n",
    "\n",
    "From Equations (3) and (4) we observe that multiplying force by displacement, we get the energy transfer. Based on our experience above, we conclude\n",
    "\n",
    "<div class=\"alert alert-success\">\n",
    "    \n",
    "The area associated with a force vs. position graph is the work done on the particle.    \n",
    "</div>\n",
    "<hr style=\"height:2px;border-width:0;color:gray;background-color:gray\">"
   ]
  },
  {
   "cell_type": "markdown",
   "metadata": {},
   "source": [
    "<div style=\"background-color: #D0D0D0 ; padding: 10px; border: 1px solid black;\">       \n",
    "<header>\n",
    "<h3> Example 2</h3>\n",
    "    </header>\n",
    "    \n",
    "Consider the net force vs. position graph shown below experienced by a 1.5 kg particle initially at rest. Assume all measurements are given to two significant figures. What is the particles speed at t = 10 s?\n",
    "    \n",
    "**Solution**\n",
    "\n",
    "Since it is the net force shown, the area is the net work:\n",
    "        \n",
    "$$ w_{net} = \\left[\\frac{1}{2}(10)(+30)\\right] = +150~\\textrm{J} $$\n",
    "    \n",
    "From the work-energy theorem we have\n",
    "    \n",
    "$$ w_{net} = \\frac{1}{2}mv_{2}^2 - \\frac{1}{2}mv_{1}^2 $$\n",
    "    \n",
    "Solve for the final speed at t = 10 s:\n",
    "    \n",
    "$$ v_2 = 14~\\textrm{m/s} $$\n",
    "    \n",
    "</div>"
   ]
  },
  {
   "cell_type": "code",
   "execution_count": 2,
   "metadata": {
    "tags": [
     "hide-input"
    ]
   },
   "outputs": [
    {
     "data": {
      "image/png": "[encoded data removed]",
      "text/plain": [
       "<Figure size 432x288 with 1 Axes>"
      ]
     },
     "metadata": {
      "needs_background": "light"
     },
     "output_type": "display_data"
    }
   ],
   "source": [
    "import numpy as np\n",
    "import matplotlib.pyplot as plt\n",
    "\n",
    "%matplotlib inline\n",
    "\n",
    "x = np.arange(0,11,1)\n",
    "f = 0.0 + 3.0*t\n",
    "\n",
    "plt.figure()\n",
    "plt.ylabel('Force (N)')\n",
    "plt.xlabel('Position (m)')\n",
    "ax = plt.gca()\n",
    "ax.plot(x,f,'-o')\n",
    "ax.set_xlim([0, np.max(x)+0.5])\n",
    "ax.set_ylim([0, np.max(f)+1])\n",
    "plt.show()"
   ]
  },
  {
   "cell_type": "markdown",
   "metadata": {},
   "source": [
    "<hr style=\"height:2px;border-width:0;color:gray;background-color:gray\">"
   ]
  },
  {
   "cell_type": "markdown",
   "metadata": {},
   "source": [
    "<div class=\"alert alert-warning\">\n",
    "<b>Box 1</b><br>\n",
    "    \n",
    "Consider Example 1. If the force is the net force, what is velocity of the particle at t = 7 s?\n",
    "</div>\n",
    "<hr style=\"height:2px;border-width:0;color:gray;background-color:gray\">"
   ]
  },
  {
   "cell_type": "markdown",
   "metadata": {},
   "source": [
    "<div class=\"alert alert-warning\">\n",
    "<b>Box 2</b><br>\n",
    "    \n",
    "Consider Example 2. If the force is the net force, what is speed of the particle at t = 7 s?\n",
    "</div>\n",
    "<hr style=\"height:2px;border-width:0;color:gray;background-color:gray\">"
   ]
  }
 ],
 "metadata": {
  "celltoolbar": "Tags",
  "kernelspec": {
   "display_name": "Python 3 (ipykernel)",
   "language": "python",
   "name": "python3"
  },
  "language_info": {
   "codemirror_mode": {
    "name": "ipython",
    "version": 3
   },
   "file_extension": ".py",
   "mimetype": "text/x-python",
   "name": "python",
   "nbconvert_exporter": "python",
   "pygments_lexer": "ipython3",
   "version": "3.9.12"
  }
 },
 "nbformat": 4,
 "nbformat_minor": 4
}