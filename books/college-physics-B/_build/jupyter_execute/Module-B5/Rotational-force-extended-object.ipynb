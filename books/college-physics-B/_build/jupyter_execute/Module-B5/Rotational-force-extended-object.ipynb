{
 "cells": [
  {
   "cell_type": "markdown",
   "metadata": {},
   "source": [
    "# B5.3 Rotational Force - Extended Object\n",
    "<hr style=\"height:2px;border-width:0;color:gray;background-color:gray\">"
   ]
  },
  {
   "cell_type": "markdown",
   "metadata": {},
   "source": [
    "## B5.3.1 Motivation\n",
    "\n",
    "Real-life applications are associated with extended objects. We will restrict the discussion to solid objects.\n",
    "\n",
    "<hr style=\"height:2px;border-width:0;color:gray;background-color:gray\">"
   ]
  },
  {
   "cell_type": "markdown",
   "metadata": {},
   "source": [
    "## B5.3.2 Net Torque in terms of Net Force\n",
    "\n",
    "For an extended object/system, we are considering the dynamics of the center of mass of the system, and it is defined in a similar manner as for a point particle:\n",
    "\n",
    "<div class=\"alert alert-success\">\n",
    "    \n",
    "$$  T_{net,z} = I_{z}A_{z} \\tag{1}$$\n",
    "</div>\n",
    "\n",
    "where $I_z$ is the moment of inertia about the z-axis and $A_z$ is the **rotational acceleration** about the z-axis. Similarly,\n",
    "\n",
    "<div class=\"alert alert-success\">\n",
    "    \n",
    "$$  \\vec{T}_{net} = \\vec{R} \\times \\vec{F}_{net} \\tag{2}$$\n",
    "</div>\n",
    "    \n",
    "<hr style=\"height:2px;border-width:0;color:gray;background-color:gray\">"
   ]
  },
  {
   "cell_type": "markdown",
   "metadata": {},
   "source": [
    "## B5.3.3 Torque due to Individual Forces\n",
    "\n",
    "We can define the individual torque in a similar way:\n",
    "\n",
    "<div class=\"alert alert-success\">\n",
    "    \n",
    "$$  \\vec{T}_F =  \\vec{R}_F \\times\\vec{F} \\tag{3}$$\n",
    "</div>\n",
    "\n",
    "<div class=\"alert alert-danger\">\n",
    "    \n",
    "While the $\\vec{r}$ was the same for all forces acting on a point particle, the vector $\\vec{R}_F$ may be different for the various forces acting on the object.\n",
    "    </div>\n",
    "    \n",
    "<div class=\"alert alert-info\">\n",
    "\n",
    "The vecor $\\vec{r}$ is the directed line segment from a point of interest (poi) to the point where the force is acting. In some cases it is the position vector, in other cases it is not. We say: **the torque about the point of interest**\n",
    "    </div>\n",
    "    \n",
    "<div class=\"alert alert-info\">\n",
    "    \n",
    "The point of interest is often referred to as the **pivot point**.\n",
    "    </div>\n",
    "    \n",
    "<hr style=\"height:2px;border-width:0;color:gray;background-color:gray\">"
   ]
  },
  {
   "cell_type": "markdown",
   "metadata": {},
   "source": [
    "<div style=\"background-color: #D0D0D0 ; padding: 10px; border: 1px solid black;\">       \n",
    "<header>\n",
    "<h3> Example 1</h3>\n",
    "    </header>\n",
    "    \n",
    "A force of 175 N is applied tangential to the edge of a uniform solid disk. The disk has a mass of 15 kg, radius of 0.10 m, and is mounted vertically on a frictionless horizontal axis through its center. What is the resulting magnitude of the angular acceleration of the disk?\n",
    "\n",
    "**Solution**\n",
    "    \n",
    "There are three forces acting on the disk: the applied force, force of gravity, and normal force due to the axle. The pivot point is the center of the disk. The later two forces do not produce a torque about the pivot point and the only torque is due to the applied force. \n",
    "    \n",
    "Using Newton's 2nd law for rotational motion (let the disk be in the xy-plane):\n",
    "    \n",
    "$$ T_z = I_{z}A_z $$\n",
    "    \n",
    "The moment of inertia for a uniform solid disk about an axis through its center is $I_z = \\frac{1}{2}MR^2$. We use Equation (3) to find the torque due to the applied force. In this case, $R_F = R$ and the angle between $\\vec{R}_F$ and $\\vec{F}$ is 90$^\\circ$. With this in mind, the magnitude relates through\n",
    "    \n",
    "$$ RF\\sin\\theta = \\frac{1}{2}MR^2A_z $$\n",
    "\n",
    "Solving for the angular acceleration and inserting numbers:\n",
    "    \n",
    "$$ A_z = \\frac{2F\\sin\\theta}{MR} = \\frac{(2)(175)\\sin(90)}{(15)(0.10)} = 230~\\textrm{rad/s}^2$$\n",
    "    \n",
    "</div>\n",
    "<hr style=\"height:2px;border-width:0;color:gray;background-color:gray\">"
   ]
  }
 ],
 "metadata": {
  "kernelspec": {
   "display_name": "Python 3 (ipykernel)",
   "language": "python",
   "name": "python3"
  },
  "language_info": {
   "codemirror_mode": {
    "name": "ipython",
    "version": 3
   },
   "file_extension": ".py",
   "mimetype": "text/x-python",
   "name": "python",
   "nbconvert_exporter": "python",
   "pygments_lexer": "ipython3",
   "version": "3.9.12"
  }
 },
 "nbformat": 4,
 "nbformat_minor": 4
}