{
 "cells": [
  {
   "cell_type": "markdown",
   "metadata": {},
   "source": [
    "# B5.x Problems\n",
    "<hr style=\"height:2px;border-width:0;color:gray;background-color:gray\">"
   ]
  },
  {
   "cell_type": "markdown",
   "metadata": {},
   "source": [
    "<h2>Problem B5.1</h2>\n",
    "    </header>\n",
    "\n",
    "The triceps muscle in the back of the upper arm extends the forearm. This muscle in a professional boxer exerts a force of $2.00\\times 10^3~\\textrm{N}$ with an effective perpendicular lever arm of 3.00 cm, producing an angular acceleration of the forearm of 120 rad/s$^2$. What is the moment of inertia of the boxer’s forearm?\n",
    "\n",
    "This problem is a slightly modified version from OpenStax. Access for free at [https://openstax.org/books/college-physics-2e/pages/10-problems-exercises](https://openstax.org/books/college-physics-2e/pages/10-problems-exercises)"
   ]
  },
  {
   "cell_type": "code",
   "execution_count": 1,
   "metadata": {
    "tags": [
     "hide-input",
     "hide-output"
    ]
   },
   "outputs": [
    {
     "name": "stdout",
     "output_type": "stream",
     "text": [
      "Moment of inertia: 0.5\n"
     ]
    }
   ],
   "source": [
    "import numpy as np\n",
    "\n",
    "# T_net = I_z*A_z\n",
    "# assuming only the triceps muscle is contributing to the torque: T_F = RF\n",
    "\n",
    "F = 2.00E3\n",
    "R = 0.0300\n",
    "A_z = 120\n",
    "\n",
    "T_net = R*F\n",
    "I_z = T_net/A_z\n",
    "\n",
    "print('Moment of inertia: '+str(I_z))"
   ]
  },
  {
   "cell_type": "markdown",
   "metadata": {},
   "source": [
    "<hr style=\"height:2px;border-width:0;color:gray;background-color:gray\">"
   ]
  },
  {
   "cell_type": "markdown",
   "metadata": {},
   "source": [
    "<h2>Problem B5.2</h2>\n",
    "    </header>\n",
    "\n",
    "A soccer player extends her lower leg in a kicking motion by exerting a force with the muscle above the knee in the front of her leg. She produces an angular acceleration of 30.00 rad/s$^2$ and her lower leg has a moment of inertia of  0.750 kgm$^2$. What is the force exerted by the muscle if its effective perpendicular lever arm is 1.90 cm?\n",
    " \n",
    "This problem is a slightly modified version from OpenStax. Access for free at [https://openstax.org/books/college-physics-2e/pages/10-problems-exercises](https://openstax.org/books/college-physics-2e/pages/10-problems-exercises)"
   ]
  },
  {
   "cell_type": "code",
   "execution_count": 2,
   "metadata": {
    "tags": [
     "hide-input",
     "hide-output"
    ]
   },
   "outputs": [
    {
     "name": "stdout",
     "output_type": "stream",
     "text": [
      "Magnityude of force: 1184.2105263157896\n"
     ]
    }
   ],
   "source": [
    "#assuming only the quadriceps is contributing a torque\n",
    "\n",
    "# T_net = RFsin(theta) -- theta is 90\n",
    "# T_net = IA\n",
    "\n",
    "A = 30.00\n",
    "I = 0.750\n",
    "R = 0.0190\n",
    "\n",
    "F = I*A/R\n",
    "\n",
    "print('Magnityude of force: '+str(F))"
   ]
  },
  {
   "cell_type": "markdown",
   "metadata": {},
   "source": [
    "<hr style=\"height:2px;border-width:0;color:gray;background-color:gray\">"
   ]
  },
  {
   "cell_type": "markdown",
   "metadata": {},
   "source": [
    "<h2>Problem B5.3</h2>\n",
    "    </header>\n",
    "\n",
    "Suppose you exert a force of 180 N tangential to a 0.280-m-radius 75.0-kg grindstone (a solid disk).\n",
    "\n",
    "1. What torque is exerted? \n",
    "2. What is the angular acceleration assuming negligible opposing friction? \n",
    "3. What is the angular acceleration if there is an opposing frictional force of 20.0 N exerted 1.50 cm from the axis?\n",
    "\n",
    "This problem is a slightly modified version from OpenStax. Access for free at [https://openstax.org/books/college-physics-2e/pages/10-problems-exercises](https://openstax.org/books/college-physics-2e/pages/10-problems-exercises)"
   ]
  },
  {
   "cell_type": "code",
   "execution_count": 3,
   "metadata": {
    "tags": [
     "hide-input",
     "hide-output"
    ]
   },
   "outputs": [
    {
     "name": "stdout",
     "output_type": "stream",
     "text": [
      "Torque: 50.400000000000006\n",
      "Magnitude of angular acceleration: 17.142857142857142\n",
      "Magnitude of angular acceleration: 17.040816326530614\n"
     ]
    }
   ],
   "source": [
    "# Part 1\n",
    "#----------------\n",
    "# T = R*F*sin(theta)  - theta is 90\n",
    "R = 0.280\n",
    "F = 180.0\n",
    "T = R*F \n",
    "print('Torque: '+str(T))\n",
    "\n",
    "# Part 2\n",
    "#----------------\n",
    "# T_net = IA\n",
    "# I_disk = 0.5*M*R^2\n",
    "M = 75.0\n",
    "I = 0.5*M*R**2\n",
    "\n",
    "A = T/I\n",
    "print('Magnitude of angular acceleration: '+str(A))\n",
    "\n",
    "# Part 3\n",
    "#--------------\n",
    "# applied force produce +torque and friction -torque:\n",
    "R_f = 0.0150\n",
    "Ff = 20.0\n",
    "Tf = R_f*Ff\n",
    "\n",
    "T_net = T - Tf\n",
    "A_net = T_net/I\n",
    "print('Magnitude of angular acceleration: '+str(A_net))"
   ]
  },
  {
   "cell_type": "markdown",
   "metadata": {},
   "source": [
    "<h2>Problem B5.4</h2>\n",
    "    </header>\n",
    "\n",
    "Consider the 12.0 kg motorcycle wheel shown in the Figure. Assume it to be approximately an annular ring with an inner radius of 0.280 m and an outer radius of 0.330 m. The motorcycle is on its center stand, so that the wheel can spin freely. \n",
    "\n",
    "1. If the drive chain exerts a force of 2200 N at a radius of 5.00 cm, what is the angular acceleration of the wheel? \n",
    "2. What is the tangential acceleration of a point on the outer edge of the tire? \n",
    "3. How long, starting from rest, does it take to reach an angular velocity of 80.0 rad/s?\n",
    "\n",
    "<img src=\"B5-p4.png\" width=\"300\">\n",
    "\n",
    "This problem is a slightly modified version from OpenStax. Access for free at [https://openstax.org/books/college-physics-2e/pages/10-problems-exercises](https://openstax.org/books/college-physics-2e/pages/10-problems-exercises)"
   ]
  },
  {
   "cell_type": "markdown",
   "metadata": {},
   "source": [
    "<hr style=\"height:2px;border-width:0;color:gray;background-color:gray\">"
   ]
  },
  {
   "cell_type": "code",
   "execution_count": 4,
   "metadata": {
    "tags": [
     "hide-input",
     "hide-output"
    ]
   },
   "outputs": [
    {
     "name": "stdout",
     "output_type": "stream",
     "text": [
      "Angular acceleration: 97.8821854422495\n",
      "Tangential acceleration: 32.301121195942336\n",
      "Time: 0.8173090909090911\n"
     ]
    }
   ],
   "source": [
    "# Part 1\n",
    "#-------------\n",
    "# moment of inertia of an annular ring: I = 0.5*M*(R1^2 + R2^2) \n",
    "M = 12.0\n",
    "R1 = 0.280\n",
    "R2 = 0.330\n",
    "\n",
    "I = 0.5*M*(R1**2 + R2**2)\n",
    "# normal force and force of gravity do not produce a torque about the pivot point here\n",
    "R = 0.05\n",
    "F = 2200.0\n",
    "\n",
    "T_net = R*F\n",
    "A = T_net/I\n",
    "print('Angular acceleration: '+str(A))\n",
    "\n",
    "# Part 2\n",
    "#--------------\n",
    "At = R2*A\n",
    "print('Tangential acceleration: '+str(At))\n",
    "\n",
    "# Part 3\n",
    "#---------------\n",
    "# A = (Omega2 - Omega1)/(Delta t)\n",
    "Omega1 = 0.0\n",
    "Omega2 = 80.0\n",
    "\n",
    "dt = (Omega2 - Omega1)/A\n",
    "print('Time: '+str(dt))"
   ]
  },
  {
   "cell_type": "markdown",
   "metadata": {},
   "source": [
    "<hr style=\"height:2px;border-width:0;color:gray;background-color:gray\">"
   ]
  },
  {
   "cell_type": "markdown",
   "metadata": {},
   "source": [
    "<h2>Problem B5.5</h2>\n",
    "    </header>\n",
    "\n",
    "Zorch, an archenemy of Superman, decides to slow Earth’s rotation to once per 28.0 h by exerting an opposing force at and parallel to the equator. Superman is not immediately concerned, because he knows Zorch can only exert a force of $4.00\\times 10^7$ N (a little greater than a Saturn V rocket’s thrust). How long must Zorch push with this force to accomplish his goal? (This period gives Superman time to devote to other villains.)\n",
    "\n",
    "This problem is a slightly modified version from OpenStax. Access for free at [https://openstax.org/books/college-physics-2e/pages/10-problems-exercises](https://openstax.org/books/college-physics-2e/pages/10-problems-exercises)"
   ]
  },
  {
   "cell_type": "code",
   "execution_count": 5,
   "metadata": {
    "tags": [
     "hide-input",
     "hide-output"
    ]
   },
   "outputs": [
    {
     "name": "stdout",
     "output_type": "stream",
     "text": [
      "Time: 3.9570578533441e+21\n"
     ]
    }
   ],
   "source": [
    "import numpy as np\n",
    "\n",
    "#inital angular speed: 1 rev/24 hr\n",
    "Omega1 = (1.0/24.0)*(2*np.pi/1.0)*(1.0/3600.0)\n",
    "Omega2 = (1.0/28.0)*(2*np.pi/1.0)*(1.0/3600.0)\n",
    "\n",
    "#torque is only due to Zorch:\n",
    "R_E = 6378.0E6\n",
    "F = 4.00E7\n",
    "\n",
    "#since Zorch is slowing it down, torque must be negative\n",
    "T_net = -R_E*F\n",
    "\n",
    "# T_net = IA\n",
    "#I for a solid sphere: (2/5)MR^2\n",
    "M_E = 5.972E24\n",
    "\n",
    "I = (2.0/5.0)*M_E*R_E**2\n",
    "A = T_net/I\n",
    "\n",
    "dt = (Omega2 - Omega1)/A\n",
    "\n",
    "print('Time: '+str(dt))"
   ]
  },
  {
   "cell_type": "markdown",
   "metadata": {},
   "source": [
    "<hr style=\"height:2px;border-width:0;color:gray;background-color:gray\">"
   ]
  }
 ],
 "metadata": {
  "celltoolbar": "Tags",
  "kernelspec": {
   "display_name": "Python 3 (ipykernel)",
   "language": "python",
   "name": "python3"
  },
  "language_info": {
   "codemirror_mode": {
    "name": "ipython",
    "version": 3
   },
   "file_extension": ".py",
   "mimetype": "text/x-python",
   "name": "python",
   "nbconvert_exporter": "python",
   "pygments_lexer": "ipython3",
   "version": "3.10.9"
  }
 },
 "nbformat": 4,
 "nbformat_minor": 4
}