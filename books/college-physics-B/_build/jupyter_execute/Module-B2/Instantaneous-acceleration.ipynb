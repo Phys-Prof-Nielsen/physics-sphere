{
 "cells": [
  {
   "cell_type": "markdown",
   "metadata": {},
   "source": [
    "# B2.5 Instantaneous Acceleration\n",
    "<hr style=\"height:2px;border-width:0;color:gray;background-color:gray\">"
   ]
  },
  {
   "cell_type": "markdown",
   "metadata": {},
   "source": [
    "## B2.5.1 Quick Background Review\n",
    "\n",
    "We have conceptually defined the acceleration as **the rate of change of the velocity**:\n",
    "\n",
    "$$ \\vec{a}_{av} = \\frac{\\Delta \\vec{v}}{\\Delta t} $$\n",
    "\n",
    "If we go back to the definition of the average velocity, we had ($\\vec{r}$ is the position vector)\n",
    "\n",
    "$$ \\vec{v}_{av} = \\frac{\\Delta \\vec{r}}{\\Delta t} $$\n",
    "\n",
    "We drew the analogy to the average velocity as the slope of the position vs. time graph. The analogy for the average acceleration is exactly the same:\n",
    "\n",
    "<div class=\"alert alert-success\">\n",
    "The average acceleration is the slope of the velocity vs. time graph.\n",
    "</div>\n",
    "\n",
    "When we defined the instantaneous velocity, we drew the similarities to the derivative as the representation of the instantaneous slope of a graph. \n",
    "\n",
    "With that in mind, we can define the instantaneous acceleration in a similar way.\n",
    "\n",
    "<hr style=\"height:2px;border-width:0;color:gray;background-color:gray\">"
   ]
  },
  {
   "cell_type": "markdown",
   "metadata": {},
   "source": [
    "## B2.5.2 Instantaneous Acceleration: Definition\n",
    "\n",
    "Since the average acceleration is equivalent to the slope of the velocity vs. time graph over some time interval, we will define the **instantaneous acceleration** as\n",
    "\n",
    "<div class=\"alert alert-success\">\n",
    "    \n",
    "$$ \\vec{a} = \\frac{d\\vec{v} }{dt} $$\n",
    "\n",
    "</div>\n",
    "\n",
    "<div class=\"alert alert-success\">\n",
    "    \n",
    "The instantaneous acceleration is the derivative of the velocity with respect to time.\n",
    "</div>\n",
    "\n",
    "<hr style=\"height:2px;border-width:0;color:gray;background-color:gray\">"
   ]
  },
  {
   "cell_type": "markdown",
   "metadata": {},
   "source": [
    "<div style=\"background-color: #D0D0D0 ; padding: 10px; border: 1px solid black;\">       \n",
    "<header>\n",
    "<h3> Example 1</h3>\n",
    "    </header>\n",
    "    \n",
    "A particle is moving along a straight line with a velocity given by\n",
    "\n",
    "$$\\vec{v}(t) = (A - Bt)~\\hat{i} $$\n",
    "\n",
    "where the constants are $A = 50.0$ m/s, $B = 5.0$ m/s$^2$. Find an expression for the instantaneous velocity and determine the implications of the constants.\n",
    "\n",
    "**Solution**\n",
    "    \n",
    "Since we know the analytic function for the velocity, we can take the derivative to find the instantaneous velocity:\n",
    "\n",
    "$$ \\vec{a}(t) = \\frac{d\\vec{v}}{dt} $$\n",
    "\n",
    "$$ \\vec{a}(t) = -B~\\hat{i}  $$\n",
    "\n",
    "Inserting our constant:\n",
    "\n",
    "$$ \\vec{a}(t) = \\left(-5.0~\\textrm{m/s}^2 \\right)~\\hat{i}  $$\n",
    "\n",
    "It should be obvious that the acceleration is constant (no time dependency) since the velocity function is linear in time, and the constant $B$ represents the acceleration. How about the constant $A$? \n",
    "\n",
    "Based on its unit, it must be a velocity but we can be more specific. For example, at t = 0 we have \n",
    "\n",
    "$$\\vec{v}(t = 0) = \\left[(50.0~\\textrm{m/s}) - (-5.0~\\textrm{m/s}^2)~(0)\\right]~\\hat{i} $$\n",
    "\n",
    "$$\\vec{v}(t = 0) = (50.0~\\textrm{m/s})~\\hat{i} $$\n",
    "\n",
    "We can then interpretate the constant $A$ as the velocity of the particle at $t = 0$. We often call this an **initial condition**.\n",
    "</div>\n",
    "\n",
    "<hr style=\"height:2px;border-width:0;color:gray;background-color:gray\">"
   ]
  },
  {
   "cell_type": "markdown",
   "metadata": {},
   "source": [
    "<div class=\"alert alert-warning\">\n",
    "<b>Box 1</b><br>\n",
    "    \n",
    "Find the instantaneous acceleration at t = 2 s for a particle with a velocity described by\n",
    "    \n",
    "$$ \\vec{v}(t) = \\left(t^3 - 4.0t^2 + 5.0\\right)~\\hat{i} $$\n",
    "   \n",
    "What is the meaning of the number $5$?\n",
    "</div>\n",
    "\n",
    "<hr style=\"height:2px;border-width:0;color:gray;background-color:gray\">"
   ]
  },
  {
   "cell_type": "markdown",
   "metadata": {},
   "source": [
    "## B2.5.3 Acceleration, Velocity, and Position\n",
    "\n",
    "We are now ready to put it all together! \n",
    "\n",
    "### Acceleration and Velocity\n",
    "\n",
    "We defined earlier the relationship between acceleration and velocity:\n",
    "\n",
    "$$ \\vec{a} = \\frac{d\\vec{v} }{dt} $$\n",
    "\n",
    "We will now write it slightly different to point out that we are dealing with an **operator** acting on a function:\n",
    "\n",
    "$$ \\vec{a} = \\frac{d}{dt}[\\vec{v}] $$\n",
    "\n",
    "This was the notation we used when we first introduced the derivative.\n",
    "\n",
    "### Velocity and Position\n",
    "\n",
    "Similarly, we have the relationship between velocity and position:\n",
    "\n",
    "$$ \\vec{v} = \\frac{d}{dt}[\\vec{r}] $$\n",
    "\n",
    "### Acceleration and Position\n",
    "\n",
    "We can substitite our velocity-position relationship into the acceleration-velocity relationship:\n",
    "\n",
    "$$ \\vec{a} = \\frac{d}{dt}\\left[\\frac{d}{dt}[\\vec{r}]\\right] $$\n",
    "\n",
    "\n",
    "<div class=\"alert alert-success\">\n",
    "    \n",
    "In words: if we have an analytical expression for the positon vector, we can apply the derivative twice and obtain the acceleration.\n",
    "</div>\n",
    "\n",
    "We call this the twice derivative and write it short as\n",
    "\n",
    "$$ \\vec{a} = \\frac{d^2}{dt^2}[\\vec{r}] $$\n",
    "\n",
    "<div class=\"alert alert-danger\">\n",
    "    \n",
    "This is <b>not</b> the square of the derivative: it is the derivative <b>applied</b> twice.\n",
    "</div>\n",
    "\n",
    "<hr style=\"height:2px;border-width:0;color:gray;background-color:gray\">"
   ]
  },
  {
   "cell_type": "markdown",
   "metadata": {},
   "source": [
    "<div style=\"background-color: #D0D0D0 ; padding: 10px; border: 1px solid black;\">       \n",
    "<header>\n",
    "<h3> Example 2</h3>\n",
    "    </header>\n",
    "    \n",
    "A particle has a position given by\n",
    "\n",
    "$$ x(t) = x_0 + v_{0}t + \\frac{1}{2}at^2 $$ \n",
    "\n",
    "where $x_0 = 3.0~\\textrm{m}$, $v_0 = 5.0~\\textrm{m/s}$, and $a = 0.2~\\textrm{m/s}^2$. Find the velocity and acceleration of the particle and interpretate the constants.\n",
    "\n",
    "**Solution**\n",
    "    \n",
    "To find the velocity, we take the first derivative:\n",
    "\n",
    "$$ v_{x}(t) = v_0 + at $$\n",
    "\n",
    "To find the acceleration, we apply the derivative a second time:\n",
    "\n",
    "$$ a_{x}(t) = a $$\n",
    "\n",
    "Inserting the numbers, we obtain:\n",
    "\n",
    "$$ \\vec{v}(t) = \\left[\\left(5.0~\\textrm{m/s}\\right) + \\left(0.2~\\textrm{m/s}^2\\right)t\\right]\\hat{i} $$\n",
    "\n",
    "and \n",
    "\n",
    "$$ \\vec{a}(t) = \\left(0.5~\\textrm{m/s}^2\\right)\\hat{i} $$\n",
    "\n",
    "* From inspection of the acceleration, we observe that the constant $a$ is the magnitude of the acceleration and it is constant. \n",
    "* From the velocity, we can analyze it at t = 0 s and infer that the constant $v_0$ is the velocity at t = 0.\n",
    "* from the position, we can analyze it at t = 0 s and infer that the constant $x_0$ is the position at t = 0.\n",
    "</div>\n",
    "\n",
    "<hr style=\"height:2px;border-width:0;color:gray;background-color:gray\">"
   ]
  },
  {
   "cell_type": "markdown",
   "metadata": {},
   "source": [
    "<div class=\"alert alert-warning\">\n",
    "<b>Box 2</b><br>\n",
    "    \n",
    "Consider a particle with a position described by\n",
    "\n",
    "$$ \\vec{r}(t) = \\left[\\left(3.0~\\textrm{m}\\right) + \\left(40.0~\\textrm{m/s}\\right)t - \\left(2.0~\\textrm{m/s}^2\\right)t^2\\right]~\\hat{i} $$\n",
    "  \n",
    "If we consider t = 0 s to be the initial state of this particle, what is the initial position, velocity, and acceleration? Is the acceleration constant or changing?\n",
    "</div>\n",
    "\n",
    "<hr style=\"height:2px;border-width:0;color:gray;background-color:gray\">"
   ]
  },
  {
   "cell_type": "markdown",
   "metadata": {},
   "source": [
    "<div class=\"alert alert-warning\">\n",
    "<b>Box 3</b><br>\n",
    "\n",
    "Consider a particle with a position described by\n",
    "\n",
    "$$ \\vec{r}(t) = \\left[\\left(3.0~\\textrm{m}\\right) + \\left(40.0~\\textrm{m/s}\\right)t - \\left(2.0~\\textrm{m/s}^2\\right)t^2\\right]~\\hat{i} $$\n",
    "  \n",
    "Find the position, velocity, and acceleration at t = 5 s. <br>\n",
    "    (HINT: take the derivatives to find the velocity and acceleration, then evaluate by substituting in t = 5 s.)\n",
    "</div>\n",
    "\n",
    "<hr style=\"height:2px;border-width:0;color:gray;background-color:gray\">"
   ]
  },
  {
   "cell_type": "markdown",
   "metadata": {},
   "source": [
    "<div class=\"alert alert-warning\">\n",
    "<b>Box 4</b><br>\n",
    "    \n",
    "Consider a particle with a position described by\n",
    "\n",
    "$$ \\vec{r}(t) = \\left[\\left(10.0~\\textrm{m}\\right) + \\left(20.0~\\textrm{m/s}\\right)t + \\left(5.0~\\textrm{m/s}^2\\right)t^2 - \\left(0.5~\\textrm{m/s}^3\\right)t^3\\right ]~\\hat{i} $$\n",
    " \n",
    "1. If we consider t = 0 s to be the initial state of this particle, what is the initial position, velocity, and acceleration? \n",
    "2. Is the acceleration constant or changing? \n",
    "3. What is the physical meaning of the constant $0.5~\\textrm{m/s}^3$? \n",
    "4. Find the acceleration at t = 4 s. \n",
    "</div>\n",
    "\n",
    "<hr style=\"height:2px;border-width:0;color:gray;background-color:gray\">"
   ]
  },
  {
   "cell_type": "markdown",
   "metadata": {},
   "source": [
    "<div style=\"background-color: #D0D0D0 ; padding: 10px; border: 1px solid black;\">       \n",
    "<header>\n",
    "<h3> Example 3: Graphical Relationships</h3>\n",
    "    </header>\n",
    "    \n",
    "We will use Example 2 from above to illustrate the graphical relationships between position, velocity, and acceleration. Recall, the position in Example 2 is\n",
    "\n",
    "$$ x(t) = x_0 + v_{0}t + \\frac{1}{2}at^2 $$ \n",
    "\n",
    "where $x_0 = 3.0~\\textrm{m}$, $v_0 = 5.0~\\textrm{m/s}$, and $a = 0.2~\\textrm{m/s}^2$. Let's do it!\n",
    "</div>"
   ]
  },
  {
   "cell_type": "code",
   "execution_count": 1,
   "metadata": {
    "tags": [
     "hide-input"
    ]
   },
   "outputs": [
    {
     "data": {
      "image/png": "[encoded data removed]",
      "text/plain": [
       "<Figure size 360x720 with 3 Axes>"
      ]
     },
     "metadata": {
      "needs_background": "light"
     },
     "output_type": "display_data"
    }
   ],
   "source": [
    "import numpy as np\n",
    "import matplotlib.pyplot as plt\n",
    "\n",
    "%matplotlib inline\n",
    "\n",
    "x0 = 3.0\n",
    "v0 = 5.0\n",
    "a = 0.2\n",
    "\n",
    "t = np.arange(0,11,0.1)\n",
    "x = x0 + v0*t + 0.5*a*t**2\n",
    "vx = v0 + a*t\n",
    "ax = a*np.ones(len(t))\n",
    "\n",
    "fig, (ax1,ax2,ax3) = plt.subplots(3,figsize=(5,10))\n",
    "\n",
    "ax1.set(ylabel='x-position (m)', xlabel='Time (s)')\n",
    "ax1.plot(t,x,'-')\n",
    "ax1.set_xlim([0, 10])\n",
    "ax1.set_ylim([np.min(x)-1, np.max(x)])\n",
    "\n",
    "ax2.set(ylabel=' Velocity (m/s)',xlabel='Time (s)')\n",
    "ax2.plot(t,vx,'-', color='r')   \n",
    "ax2.set_xlim([0, 10])\n",
    "ax2.set_ylim(np.min(vx)-1, np.max(vx)+1)\n",
    "\n",
    "ax3.set(ylabel=' Acceleration (m/s$^2$)',xlabel='Time (s)')\n",
    "ax3.plot(t,ax,'-', color='g')   \n",
    "ax3.set_xlim([0, 10])\n",
    "ax3.set_ylim(np.min(ax)-1, np.max(ax)+1)\n",
    "\n",
    "plt.show()"
   ]
  },
  {
   "cell_type": "markdown",
   "metadata": {},
   "source": [
    "<div style=\"background-color: #D0D0D0 ; padding: 10px; border: 1px solid black;\">    \n",
    "    \n",
    "* We observe that the acceleration is a horizontal graph in this example. This should make sense since we have a **constant** acceleration. \n",
    "* The velocity graph is a straight line, which we may have predicted since the rate of change (acceleration) is constant, with its slope being equal to the value of the acceleration graph. \n",
    "* We also notice that at t = 0, the velocity is 5.0 m/s, which is equivalent to our constant $v_0$.\n",
    "* The position graph may appear to be straight as well. However, there is a slight curvature to it as the rate of change of the position keeps increasing (not constant as for the velocity): we say it has a positive curvature and is associated with the **positive** acceleration. **The acceleratation dictates the curvature of the position graph**.\n",
    "</div>\n",
    "<hr style=\"height:2px;border-width:0;color:gray;background-color:gray\">"
   ]
  },
  {
   "cell_type": "markdown",
   "metadata": {},
   "source": [
    "<div class=\"alert alert-warning\">\n",
    "<b>Box 5</b><br>\n",
    "    \n",
    "Let us explore this curvature by changing the acceleration values. Create plots using the function and values in Example 3, but use the accelerations below.\n",
    " \n",
    "* 0 m/s$^2$\n",
    "* 30 m/s$^2$\n",
    "* -5 m/s$^2$\n",
    "    \n",
    "</div>\n",
    "\n",
    "<hr style=\"height:2px;border-width:0;color:gray;background-color:gray\">"
   ]
  }
 ],
 "metadata": {
  "celltoolbar": "Tags",
  "kernelspec": {
   "display_name": "Python 3 (ipykernel)",
   "language": "python",
   "name": "python3"
  },
  "language_info": {
   "codemirror_mode": {
    "name": "ipython",
    "version": 3
   },
   "file_extension": ".py",
   "mimetype": "text/x-python",
   "name": "python",
   "nbconvert_exporter": "python",
   "pygments_lexer": "ipython3",
   "version": "3.9.12"
  }
 },
 "nbformat": 4,
 "nbformat_minor": 4
}