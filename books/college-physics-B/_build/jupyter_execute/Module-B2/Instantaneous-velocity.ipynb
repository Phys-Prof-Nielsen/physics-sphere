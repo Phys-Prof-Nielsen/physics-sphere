{
 "cells": [
  {
   "cell_type": "markdown",
   "metadata": {},
   "source": [
    "# B2.4 Instantaneous Velocity\n",
    "<hr style=\"height:2px;border-width:0;color:gray;background-color:gray\">"
   ]
  },
  {
   "cell_type": "markdown",
   "metadata": {},
   "source": [
    "In our notes on derivatives, we argued that the average slope of a graph between two points could be turned into the instantaneous slope at a single point *if* the spacing between the independent variable points (in physics, typically $\\Delta x$ or $\\Delta t$) went towards zero. We can use this approach to define the instantaneous velocity at a given point. \n",
    "\n",
    "The instantaneous speed is actually easier to define in this case as compared to the average speed from previous note. We will get to the instantaneous speed in a little bit. This time, we will proceed with the velocity first.\n",
    "\n",
    "<hr style=\"height:2px;border-width:0;color:gray;background-color:gray\">"
   ]
  },
  {
   "cell_type": "markdown",
   "metadata": {},
   "source": [
    "## B2.4.1 Definition\n",
    "\n",
    "Since the average velocity is equivalent to the slope of the position vs. time graph, we will define the **instantaneous velocity** as\n",
    "\n",
    "$$ \\vec{v} = \\frac{d\\vec{r} }{dt} $$\n",
    "\n",
    "<div class=\"alert alert-success\">\n",
    "    \n",
    "The instantaneous velocity is the derivative of the position with respect to time.\n",
    "</div>\n",
    "\n",
    "### Short-cut for Cartesian Coordinates Only\n",
    "\n",
    "We can write the position vector as\n",
    "\n",
    "$$\\vec{r} = x\\hat{i} + y\\hat{j} + z\\hat{k} $$\n",
    "\n",
    "Taking the derivative requires the application of the product rule since the components are multiplied by the respective unit vectors. I will use Newton's notation here:\n",
    "\n",
    "$$ \\vec{v} = \\dot{x}\\hat{i} + x\\dot{\\hat{i}} + \\dot{y}\\hat{j} + y\\dot{\\hat{j}} + \\dot{z}\\hat{k} + z\\dot{\\hat{k}}$$\n",
    "\n",
    "Since the unit vectors in cartesian coordinates are fixed (constants), their derivatives are zero and we end up with:\n",
    "\n",
    "$$ \\vec{v} = \\dot{x}\\hat{i}  + \\dot{y}\\hat{j} + \\dot{z}\\hat{k} \\tag{1}$$\n",
    "\n",
    "We will soon explore polar coordinates and realize how nice and simple the cartesian coordinate system is.\n",
    "\n",
    "<hr style=\"height:2px;border-width:0;color:gray;background-color:gray\">"
   ]
  },
  {
   "cell_type": "markdown",
   "metadata": {},
   "source": [
    "<div style=\"background-color: #D0D0D0 ; padding: 10px; border: 1px solid black;\">       \n",
    "<header>\n",
    "<h3> Example 1</h3>\n",
    "    </header>\n",
    "    \n",
    "A particle is moving along a straight line with a position given by\n",
    "\n",
    "$$\\vec{r}(t) = (At^2 + Bt + C)~\\hat{i} $$\n",
    "\n",
    "where the constants are $A = 9.8$ m/s$^2$, $B = 5.0$ m/s, and $C = 2.0$ m. Find an expression for the instantaneous velocity.\n",
    "\n",
    "**Solution**\n",
    "\n",
    "The position vector only has a x-component:\n",
    "    \n",
    "$$ x(t) = At^2 + Bt + C $$\n",
    "    \n",
    "and the velocity will also only have a x-component given by\n",
    "      \n",
    "$$ v_{x}(t) = \\dot{x} $$\n",
    "\n",
    "We can now perform the calculations:\n",
    "    \n",
    "$$ v_{x}(t) = 2At + B $$\n",
    "\n",
    "Inserting our constants $A$ and $B$:\n",
    "\n",
    "$$ v_{x}(t) = (20t + 5.0)  $$\n",
    "    \n",
    "or\n",
    "    \n",
    "$$\\vec{v} = (20t + 5.0)\\hat{i} $$\n",
    "</div>\n",
    "\n",
    "<hr style=\"height:2px;border-width:0;color:gray;background-color:gray\">"
   ]
  },
  {
   "cell_type": "markdown",
   "metadata": {},
   "source": [
    "<div class=\"alert alert-warning\">\n",
    "<b>Box 1</b><br>\n",
    "    \n",
    "Find the instantaneous velocity for a particle following the path described by\n",
    "   \n",
    "$$ \\vec{r}(t) = \\left(3t^3 - 4t^2 + 5\\right)\\hat{i} $$\n",
    "</div>\n",
    "\n",
    "<hr style=\"height:2px;border-width:0;color:gray;background-color:gray\">"
   ]
  },
  {
   "cell_type": "markdown",
   "metadata": {},
   "source": [
    "<div style=\"background-color: #D0D0D0 ; padding: 10px; border: 1px solid black;\">       \n",
    "<header>\n",
    "<h3> Example 2</h3>\n",
    "    </header>\n",
    "    \n",
    "A particle is moving along a straight line with a position given by\n",
    "\n",
    "$$\\vec{r}(t) = (At^2 + Bt + C)~\\hat{i} $$\n",
    "\n",
    "where the constants are $A = 9.8$ m/s$^2$, $B = 5.0$ m/s, and $C = 2.0$ m. Find the instantaneous velocity at exactly $t = 3$ s and $t = 5$ s.\n",
    "\n",
    "**Solution**\n",
    "    \n",
    "This is the same position function from Example 1, so we already know that the instantaneous velocity is given by\n",
    "\n",
    "$$ \\vec{v}(t) = \\left(2At + B \\right)\\hat{i}  $$\n",
    "\n",
    "To find the instantaneous velocity at a given time, we simply evalute the velocity at that time. The notation for that is\n",
    "\n",
    "$$ \\vec{v}(t = t_0) = \\frac{d\\vec{r}}{dt}\\bigg|_{t=t_0} $$\n",
    "\n",
    "Applied to our example\n",
    "\n",
    "$$ \\vec{v}(t = 3) = \\left(2At + B \\right)\\hat{i}~\\bigg|_{t=3} $$\n",
    "\n",
    "$$ \\vec{v}(t = 3) = \\left[(2)(9.8)(3) + (5.0) \\right]\\hat{i}$$\n",
    "\n",
    "$$ \\vec{v}(t = 3) = \\left(64~\\textrm{m/s} \\right)\\hat{i}$$\n",
    "\n",
    "and \n",
    "\n",
    "$$ \\vec{v}(t = 5) = \\left(2At + B \\right)~\\hat{i}~\\bigg|_{t=5} $$\n",
    "\n",
    "$$ \\vec{v}(t = 5) = \\left[(2)(9.8)(5) + (5.0) \\right]~\\hat{i}$$\n",
    "\n",
    "$$ \\vec{v}(t = 5) = \\left(100~\\textrm{m/s} \\right)~\\hat{i}$$\n",
    "\n",
    "</div>\n",
    "<hr style=\"height:2px;border-width:0;color:gray;background-color:gray\">"
   ]
  },
  {
   "cell_type": "markdown",
   "metadata": {},
   "source": [
    "<div style=\"background-color: #D0D0D0 ; padding: 10px; border: 1px solid black;\">       \n",
    "<header>\n",
    "<h3> Example 3</h3>\n",
    "    </header>\n",
    "    \n",
    "A particle is moving in the 2D xy-plane according to the following trajectory:\n",
    "\n",
    "$$ \\vec{r}(t) = \\left(3.0t^3 - 4.0t^2 + 5.0\\right)\\hat{i} + \\left(5.0t\\right)\\hat{j} $$\n",
    "\n",
    "where the constants in the first term are in units of 3.0 m/s$^3$, -4.0 m/s$^2$, and 5.0 m, respectively, and in the last term it is 5.0 m/s.  \n",
    "\n",
    "Find an expression for its instantaneous velocity and calculate its value at exactly t = 3 s.\n",
    "\n",
    "**Solution**\n",
    "    \n",
    "This is an example of a **parametic equation** or trajectory, in the sense that we could write it in terms of two functions x(t) and y(t), which describes the x- and y-positions as a function of time.\n",
    "\n",
    " $$ \\vec{r}(t) = x(t)\\hat{i} + y(t)\\hat{j} $$\n",
    "\n",
    "If we follow Equation 1 we have\n",
    "\n",
    "$$ \\vec{v}(t) = \\dot{x}\\hat{i} + \\dot{y}\\hat{j} $$\n",
    "    \n",
    "Identifying our position components and taking the time derivative:\n",
    "\n",
    "$$ \\vec{v}(t) = (9.0t^2 - 8.0t)\\hat{i} + (5.0)\\hat{j} $$\n",
    "\n",
    "Evaluating it at t = 3 s, gives us\n",
    "\n",
    "$$ \\vec{v}(t) = \\left(57~\\textrm{m/s} \\right)\\hat{i} + \\left(5.0~\\textrm{m/s}\\right)\\hat{j} $$\n",
    "</div>\n",
    "\n",
    "<hr style=\"height:2px;border-width:0;color:gray;background-color:gray\">"
   ]
  },
  {
   "cell_type": "markdown",
   "metadata": {},
   "source": [
    "<div class=\"alert alert-warning\">\n",
    "<b>Box 2</b><br>\n",
    "    \n",
    "Find the instantaneous velocity for a particle following the path described by\n",
    "    \n",
    "$$ \\vec{r}(t) = \\left(-2.0t^2\\right)~\\hat{i} + \\left(5.0t^3 - 4.0t\\right)~\\hat{j} $$\n",
    "\n",
    "where the constant in the first term is in units of  -2.0 m/s$^2$, and in the last term they are 5.0 m/s$^3$ and -4.0 m/s, respectively. Evaluate the velocity at exactly t = 5 s.\n",
    "</div>\n",
    "\n",
    "<hr style=\"height:2px;border-width:0;color:gray;background-color:gray\">"
   ]
  },
  {
   "cell_type": "markdown",
   "metadata": {},
   "source": [
    "## B2.4.2 Instantaneous Speed\n",
    "<div class=\"alert alert-success\">\n",
    "    \n",
    "The instantaneous speed is simply the magnitude of the instantaneous velocity vector. \n",
    "</div>\n",
    "\n",
    "<hr style=\"height:2px;border-width:0;color:gray;background-color:gray\">"
   ]
  },
  {
   "cell_type": "markdown",
   "metadata": {},
   "source": [
    "<div style=\"background-color: #D0D0D0 ; padding: 10px; border: 1px solid black;\">       \n",
    "<header>\n",
    "<h3> Example 4</h3>\n",
    "    </header>\n",
    "    \n",
    "From Example 2, the instantaneous speeds at t = 3 s and t = 5 s, would be\n",
    "\n",
    "$$ v = 64~\\textrm{m/s} $$\n",
    "\n",
    "and\n",
    "\n",
    "$$ v = 1.0\\times 10^2~\\textrm{m/s} $$\n",
    "\n",
    "From Example 3, it is a little bit more complicated since we need to find the magnitude of the velocity vector. Since this was a 2D problem, we must find the magnitude through the Pythagorean theorem:\n",
    "\n",
    "$$ v = \\sqrt{ (57)^2 + (5.0)^2} = 57~\\textrm{m/s}$$ \n",
    "\n",
    "Since the x-component of the velocity is significantly larger than the y-component, the motion is almost along x-direction and the speed is the same as the magnitude of the x-velocity within the significant figures.\n",
    "</div>\n",
    "\n",
    "<hr style=\"height:2px;border-width:0;color:gray;background-color:gray\">"
   ]
  },
  {
   "cell_type": "markdown",
   "metadata": {},
   "source": [
    "<div style=\"background-color: #D0D0D0 ; padding: 10px; border: 1px solid black;\">       \n",
    "<header>\n",
    "<h3> Example 5</h3>\n",
    "    </header>\n",
    "    \n",
    "Later in the semester, we will discuss simple harmonic motion (SHM) as part of oscillations. An object is undergoing SHM and its position as a function of time is\n",
    "\n",
    "$$ x(t) = 0.5\\cos(3.0t) $$\n",
    "\n",
    "Determine its velocity as a function of time.\n",
    "\n",
    "**Solution**\n",
    "    \n",
    "We take the derivative of the position with respect to time:\n",
    "\n",
    "$$ v_{x}(t) = \\frac{d}{dt}[0.5\\cos(3.0~t)] $$\n",
    "\n",
    "We must be careful here. This is an example that involves a function ($\\cos$) multiplied by a constant (0.5), and a composite function between $\\cos$ and $3.0t$, so we must also employ the chain rule. First, let us move the constant factor outside the derivative:\n",
    "\n",
    "$$ v_{x}(t) = 0.5\\frac{d}{dt}[\\cos(3.0~t)] $$\n",
    "\n",
    "Now we emply the chain rule: derivative of the inside function multiplied by the derivative of the outside function:\n",
    "\n",
    "$$ v_{x}(t) = (0.5)~\\{(3.0)\\left[-\\sin(3.0t)\\right]\\} $$\n",
    "\n",
    "Making it pretty:\n",
    "\n",
    "$$ v_{x}(t) = -1.5~\\sin(3.0t) $$\n",
    "    \n",
    "</div>\n",
    "\n",
    "<hr style=\"height:2px;border-width:0;color:gray;background-color:gray\">"
   ]
  },
  {
   "cell_type": "markdown",
   "metadata": {},
   "source": [
    "<div style=\"background-color: #D0D0D0 ; padding: 10px; border: 1px solid black;\">       \n",
    "<header>\n",
    "<h3> Example 6</h3>\n",
    "    </header>\n",
    "    \n",
    "For this example, we will use a plot to showcase how we can use plots to conceptually provide information about position and velicity of an object. We will consider a particle with a postion given by \n",
    "\n",
    "$$ x(t) = 0.5\\cos(t) $$\n",
    "\n",
    "The velocity is the derivative with respect to time and is\n",
    "\n",
    "$$ v_{x}(t) = -0.5\\sin(t) $$ \n",
    "\n",
    "Now let us plot the two:\n",
    "    </div>"
   ]
  },
  {
   "cell_type": "code",
   "execution_count": 1,
   "metadata": {
    "tags": [
     "hide-input"
    ]
   },
   "outputs": [
    {
     "data": {
      "image/png": "[encoded data removed]",
      "text/plain": [
       "<Figure size 720x720 with 2 Axes>"
      ]
     },
     "metadata": {
      "needs_background": "light"
     },
     "output_type": "display_data"
    }
   ],
   "source": [
    "import numpy as np\n",
    "import matplotlib.pyplot as plt\n",
    "\n",
    "%matplotlib inline\n",
    "\n",
    "t = np.arange(0,11,0.1)\n",
    "x = 0.5*np.cos(t)\n",
    "vx = -0.5*np.sin(t)\n",
    "\n",
    "fig, (ax1,ax2) = plt.subplots(2,figsize=(10,10))\n",
    "\n",
    "ax1.set(ylabel='x-position (m)', xlabel='Time (s)')\n",
    "\n",
    "ax1.plot(t,x,'-')\n",
    "ax1.set_xlim([0, 10])\n",
    "ax1.set_ylim([-0.7, 0.7])\n",
    "ax1.grid()\n",
    "\n",
    "ax2.set(ylabel=' Velocity (m/s)',xlabel='Time (s)')\n",
    "\n",
    "ax2.plot(t,vx,'-', color='r')   \n",
    "ax2.set_xlim([0, 10])\n",
    "ax2.set_ylim(-0.7, 0.7)\n",
    "ax2.grid()\n",
    "plt.show()"
   ]
  },
  {
   "cell_type": "markdown",
   "metadata": {},
   "source": [
    "<div style=\"background-color: #D0D0D0 ; padding: 10px; border: 1px solid black;\"> \n",
    "What information can we gather from these graphs?\n",
    "\n",
    "1. The position is a cosine graph and the velocity is a sine graph. \n",
    "2. The slope of the position graph matches the velocity graph, which it should.\n",
    "3. When the position graph is at a maximum or a minimum, the velocity graph is zero.\n",
    "    * For an oscillating motion (for example an object attached to spring) these positions correspond to the endpoints, and that is when the object comes to a stop for an instant: velocity must be zero.\n",
    "4. When the position graph is zero, the velocity is either a maximum or a minimum (extreme values). \n",
    "    * For an oscillating motion (for example an object attached to spring) these positions correspond to the equilibrium points and where the object is moving fastest.\n",
    "5. When the object is moving in the positive direction, e.g. between t = ~3 s to t = ~6 s, the velocity is postive and when the object is moving in the negative direction, the velocity is negative.\n",
    "\n",
    "</div>\n",
    "<hr style=\"height:2px;border-width:0;color:gray;background-color:gray\">"
   ]
  }
 ],
 "metadata": {
  "celltoolbar": "Tags",
  "kernelspec": {
   "display_name": "Python 3 (ipykernel)",
   "language": "python",
   "name": "python3"
  },
  "language_info": {
   "codemirror_mode": {
    "name": "ipython",
    "version": 3
   },
   "file_extension": ".py",
   "mimetype": "text/x-python",
   "name": "python",
   "nbconvert_exporter": "python",
   "pygments_lexer": "ipython3",
   "version": "3.9.12"
  }
 },
 "nbformat": 4,
 "nbformat_minor": 4
}