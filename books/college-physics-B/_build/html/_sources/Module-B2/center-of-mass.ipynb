{
 "cells": [
  {
   "cell_type": "markdown",
   "metadata": {},
   "source": [
    "# B2.1 Center of Mass\n",
    "<hr style=\"height:2px;border-width:0;color:gray;background-color:gray\">"
   ]
  },
  {
   "cell_type": "markdown",
   "metadata": {},
   "source": [
    "## B2.1.1 Motivation\n",
    "\n",
    "We are now moving into the regime of investigating extended objects, that is, objects where size and shape may play a role. This is in contrast to the point particle concept. In doing so, explaining the dynamics quickly becomes complicated as we keep track of individual particles making up an object.\n",
    "\n",
    "Fortunately, in many instances, we do not worry about the dynamics of each particle in an object but instead interested in the **collective** dynamics. The **center of mass** or **CM** is a key parameter to describe such collective behavior.\n",
    "\n",
    "<hr style=\"height:2px;border-width:0;color:gray;background-color:gray\">"
   ]
  },
  {
   "cell_type": "markdown",
   "metadata": {},
   "source": [
    "## B2.1.2 Mass of a system\n",
    "\n",
    "In a classical, or everyday life, the mass $M$ of a discrete system of  $N$ particles is the sum of the masses $m_i$ of the individual particles\n",
    "\n",
    "$$ M = \\displaystyle\\sum_{i=1}^{N} m_i $$\n",
    "\n",
    "<hr style=\"height:2px;border-width:0;color:gray;background-color:gray\">"
   ]
  },
  {
   "cell_type": "markdown",
   "metadata": {},
   "source": [
    "## B2.1.3 Center of Mass\n",
    "\n",
    "The center of mass of a concept describing the statistically weighted distribution of mass in a system. In plain words: if all the mass of a system was concentrated in a single spatial point, that point/position would the be center of mass.\n",
    "\n",
    "For a system of discrete objects the center of mass is defined as\n",
    "\n",
    "<div class=\"alert alert-success\">\n",
    "    \n",
    "\n",
    "$$ \\vec{R}_{CM} = \\frac{\\displaystyle\\sum_{i=1}^{N} m_{i}\\vec{r}_i}{\\displaystyle\\sum_{i=1}^{N} m_i} $$\n",
    "\n",
    "</div>\n",
    "\n",
    "It may be helpful to write out the summations\n",
    "\n",
    "\n",
    "$$ \\vec{R}_{CM} = \\frac{m_{1}\\vec{r}_{1} + m_{2}\\vec{r}_{2} + \\dots + m_{N}\\vec{r}_{N}}{m_{1} + m_{2} + \\dots + m_{N}}$$\n",
    "\t\n",
    "\n",
    "\n",
    "\n",
    "<hr style=\"height:2px;border-width:0;color:gray;background-color:gray\">"
   ]
  },
  {
   "cell_type": "markdown",
   "metadata": {},
   "source": [
    "<div style=\"background-color: #D0D0D0 ; padding: 10px; border: 1px solid black;\">       \n",
    "<header>\n",
    "<h3> Example 1</h3>\n",
    "    </header>\n",
    "\n",
    "Consider three point masses ($m_1 = m_2 = 1.00$ kg and $m_3 = 2.00$ kg) located at $(x,y) = (1.0~\\textrm{m},0.0~\\textrm{m}),~(2.0~\\textrm{m},0.0~\\textrm{m})$, and $(0.0~\\textrm{m},2.0~\\textrm{m})$, respectively. Find the center of mass of this system.\n",
    "\n",
    "**Solution**\n",
    "    \n",
    "We have the individual masses and components of the particles, so we can plug into the equation defining the CM position vector:\n",
    "\n",
    "    \n",
    "$$ \\vec{R}_{CM} = \\frac{(1.00)\\left(\\begin{bmatrix} 1.0  \\\\ 0.0  \\end{bmatrix}\\right) + (1.00)\\left(\\begin{bmatrix} 2.0  \\\\ 0.0  \\end{bmatrix}\\right) + (2.00)\\left(\\begin{bmatrix} 0.0  \\\\ 2.0  \\end{bmatrix}\\right)}{(1.0) + (1.0) + (2.0)} = \\begin{bmatrix} 0.75~\\textrm{m}  \\\\ 1.0~\\textrm{m}  \\end{bmatrix}$$\n",
    "\n",
    "    \n",
    "</div>"
   ]
  },
  {
   "cell_type": "markdown",
   "metadata": {},
   "source": [
    "<hr style=\"height:2px;border-width:0;color:gray;background-color:gray\">"
   ]
  },
  {
   "cell_type": "markdown",
   "metadata": {},
   "source": [
    "<div class=\"alert alert-warning\">\n",
    "<b>Box 1</b><br>\n",
    "    \n",
    "The water molecule consist of an oxygen atom ($m_{O} = 16$ u) and two hydrogen atoms ($m_{H} = 1.0$ u), where $u$ is the atomic mass unit. The hydrogen atoms are  located at a distance of $d = 9.57\\times 10^{-11}$ m from the center of the oxygen atom and separated by an angle of $105^\\circ$. Find the center of mass of the water molecule and make a sketch to illustrate its location.\t\n",
    "    \n",
    "</div>\n",
    "\n",
    "<hr style=\"height:2px;border-width:0;color:gray;background-color:gray\">"
   ]
  },
  {
   "cell_type": "markdown",
   "metadata": {},
   "source": [
    "<div class=\"alert alert-warning\">\n",
    "<b>Box 2</b><br>\n",
    "    \n",
    "A $2000.0$ kg SUV is moving along a straight, flat highway at $+10.0$ m/s. At a given instant a sedan, with a mass of $1000.0$ kg and velocity of $+20.0$ m/s, has its center of mass $40.0$ m ahead of the center of mass of the SUV. Where is the center of mass of the system at this instant? Give your answer relative to the SUV.\n",
    "    \n",
    "</div>\n",
    "\n",
    "<hr style=\"height:2px;border-width:0;color:gray;background-color:gray\">"
   ]
  },
  {
   "cell_type": "markdown",
   "metadata": {},
   "source": [
    "## B2.1.4 Linear Velocity of Center of Mass\n",
    "\n",
    "The definitions and equations of kinematics can be applied to the CM as well. The linear velocity of the CM is\n",
    "\n",
    "<div class=\"alert alert-success\">\n",
    "    \n",
    "\n",
    "$$\\vec{V}_{CM} = \\frac{\\displaystyle\\sum_{i=1}^{N} m_{i}\\vec{v}_i}{\\displaystyle\\sum_{i=1}^{N} m_i}$$\n",
    "\n",
    "</div>\n",
    "\n",
    "It may be helpful to write out the summations\n",
    "\n",
    "$$ \\vec{V}_{CM} = \\frac{m_{1}\\vec{v}_{1} + m_{2}\\vec{v}_{2} + \\dots + m_{N}\\vec{v}_{N}}{m_{1} + m_{2} + \\dots + m_{N}}$$\n",
    "\n",
    "\n",
    "\n",
    "<hr style=\"height:2px;border-width:0;color:gray;background-color:gray\">"
   ]
  },
  {
   "cell_type": "markdown",
   "metadata": {},
   "source": [
    "<div class=\"alert alert-warning\">\n",
    "<b>Box 3</b><br>\n",
    "    \n",
    "A 2000.0 kg SUV is moving along a straight, flat highway at +10.0 m/s. A sedan, with a mass of 1000.0 kg and velocity of +20.0  m/s, has its center of mass 40.0 m ahead of the center of mass of the SUV. \n",
    "\n",
    "1. Find the velocity of the center of mass relative to the SUV.\n",
    "2. Find the velocity of the center of mass relative to a stationary ground-based observer.\n",
    "    \n",
    "</div>\n",
    "\n",
    "<hr style=\"height:2px;border-width:0;color:gray;background-color:gray\">"
   ]
  },
  {
   "cell_type": "markdown",
   "metadata": {},
   "source": [
    "## B2.1.5 Linear Acceleration of Center of Mass\n",
    "\n",
    "Similarly to velocity, the linear acceleration of the CM is\n",
    "\n",
    "<div class=\"alert alert-success\">\n",
    "    \n",
    "\n",
    "$$\\vec{A}_{CM} = \\frac{\\displaystyle\\sum_{i=1}^{N} m_{i}\\vec{a}_i}{\\displaystyle\\sum_{i=1}^{N} m_i}$$\n",
    "\n",
    "</div>\n",
    "\n",
    "It may be helpful to write out the summations\n",
    "\n",
    "$$ \\vec{A}_{CM} = \\frac{m_{1}\\vec{a}_{1} + m_{2}\\vec{a}_{2} + \\dots + m_{N}\\vec{a}_{N}}{m_{1} + m_{2} + \\dots + m_{N}}$$\n",
    "\n",
    "\n",
    "\n",
    "<hr style=\"height:2px;border-width:0;color:gray;background-color:gray\">"
   ]
  },
  {
   "cell_type": "markdown",
   "metadata": {},
   "source": [
    "## B2.1.6 Center of Mass vs. Center of Gravity\n",
    "\n",
    "We will often hear the term **Center of Gravity** (CG). For example, if you balance an object on your finger, the CG is located somewhere along a vertical line above your finger. Hence, when we disucss rotation and balanced objects, the CG play an important role. \n",
    "\n",
    "Center of Mass is the average location of all the mass in an object. Similarly, \n",
    "\n",
    "<div class=\"alert alert-success\">\n",
    "    \n",
    "The Center of Gravity is the average location of the weight (or force of gravity) acting on an object.\n",
    "\n",
    "</div>\n",
    "\n",
    "For all our purposes, the CG and CM are the exact same location. \n",
    "\n",
    "When is that not the case? It will require a change in the gravitational field across the body. This happens for very large distances/objects (like satellites and our solar system) or when we are in very strong gravitational systems (like close to a smaller black hole). \n",
    "\n",
    "<hr style=\"height:2px;border-width:0;color:gray;background-color:gray\">"
   ]
  }
 ],
 "metadata": {
  "kernelspec": {
   "display_name": "Python 3 (ipykernel)",
   "language": "python",
   "name": "python3"
  },
  "language_info": {
   "codemirror_mode": {
    "name": "ipython",
    "version": 3
   },
   "file_extension": ".py",
   "mimetype": "text/x-python",
   "name": "python",
   "nbconvert_exporter": "python",
   "pygments_lexer": "ipython3",
   "version": "3.9.12"
  }
 },
 "nbformat": 4,
 "nbformat_minor": 4
}
