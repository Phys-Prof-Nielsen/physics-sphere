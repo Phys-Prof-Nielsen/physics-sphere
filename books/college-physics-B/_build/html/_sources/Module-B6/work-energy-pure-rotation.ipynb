{
 "cells": [
  {
   "cell_type": "markdown",
   "metadata": {},
   "source": [
    "# B6.2 Work-Energy Theorem - Pure Rotation\n",
    "<hr style=\"height:2px;border-width:0;color:gray;background-color:gray\">"
   ]
  },
  {
   "cell_type": "markdown",
   "metadata": {},
   "source": [
    "## B6.2.1 Comment on Assumptions and Motivation\n",
    "\n",
    "We are restricting our discussion to objects undergoing pure rotation. That is, their center-of-mass (CM) does not move. This will simplify our discussion and help us gain some confidence through practice problems before moving on to more complicated dynamics where the CM is also moving.\n",
    "\n",
    "<hr style=\"height:2px;border-width:0;color:gray;background-color:gray\">"
   ]
  },
  {
   "cell_type": "markdown",
   "metadata": {},
   "source": [
    "## B6.2.2 Linear Review\n",
    "\n",
    "We defined the work-energy theorem as \n",
    "\n",
    "$$ w = \\Delta k $$\n",
    "\n",
    "where \n",
    "\n",
    "$$ w = \\vec{f}\\cdot \\Delta\\vec{r} $$\n",
    "\n",
    "and \n",
    "\n",
    "$$ k =\\frac{1}{2}mv^2 $$\n",
    "\n",
    "<hr style=\"height:2px;border-width:0;color:gray;background-color:gray\">"
   ]
  },
  {
   "cell_type": "markdown",
   "metadata": {},
   "source": [
    "## B6.2.3 Rotational Work \n",
    "\n",
    "In previous note we defined the rotational as\n",
    "\n",
    "$$ w = \\tau_{z}\\Delta\\theta $$\n",
    "\n",
    "<hr style=\"height:2px;border-width:0;color:gray;background-color:gray\">"
   ]
  },
  {
   "cell_type": "markdown",
   "metadata": {},
   "source": [
    "## B6.2.4  Rotational Kinetic Energy\n",
    "\n",
    "### Point Particle\n",
    "\n",
    "We can derive a kinetic energy for a point particle in a similar approach as we did in the linear case:\n",
    "\n",
    "<div class=\"alert alert-success\">\n",
    "    \n",
    "$$ k = \\frac{1}{2}i_{z}\\omega_{z}^2 $$\n",
    "</div>\n",
    "\n",
    "However, there is a **philosophical issue** with this!\n",
    "\n",
    "<div class=\"alert alert-danger\">\n",
    "    \n",
    "A point particle cannot rotate about an axis through its CM and defining rotational kinetic energy for a point particle makes no sense.\n",
    "</div>\n",
    "\n",
    "Ah, one may claim that a point particle can indeed move in a circular orbit around an axis. While true, that is actually a case of linear kinetic energy as the arch length can be stretched out to a linear segment and treated as a straight-line motion. We can see why that is:\n",
    "\n",
    "Let the particle move in a circular motion in the xy-plane with a distance $r$ to the z-axis. Using the moment of inertia of a point particle, we get\n",
    "\n",
    "$$ k = \\frac{1}{2}i_{z}\\omega_{z}^2 = \\frac{1}{2}mr^{2}\\frac{v_t^2}{r^2} = \\frac{1}{2}mv_{t}^2$$\n",
    "\n",
    "where we used $v_t = r\\omega$ and showed that this is actually just our linear kinetic energy.\n",
    "\n",
    "### Extended Object\n",
    "\n",
    "In this case, we have a spinning motion about the CM and a true rotational kinetic energy:\n",
    "\n",
    "<div class=\"alert alert-success\">\n",
    "    \n",
    "$$ K = \\frac{1}{2}I_{z}\\Omega_{z}^2 $$\n",
    "</div>\n",
    "<hr style=\"height:2px;border-width:0;color:gray;background-color:gray\">"
   ]
  },
  {
   "cell_type": "markdown",
   "metadata": {},
   "source": [
    "## B10.2.5 Work-Energy Theorem\n",
    "\n",
    "We can now establish the work-energy theorem for rotational motion. I will write it down for an extended object.\n",
    "\n",
    "The conceptual definition remains the same:\n",
    "\n",
    "$$ W_{net} = \\Delta K $$\n",
    "\n",
    "and the working equation is\n",
    "\n",
    "<div class=\"alert alert-success\">\n",
    "    \n",
    "$$ T_{net,z}\\Delta\\Theta_z = \\frac{1}{2}I_{z}\\Omega_{2z}^2 - \\frac{1}{2}I_{z}\\Omega_{1z}^2 $$\n",
    "    \n",
    "</div>"
   ]
  },
  {
   "cell_type": "markdown",
   "metadata": {},
   "source": [
    "<hr style=\"height:2px;border-width:0;color:gray;background-color:gray\">"
   ]
  }
 ],
 "metadata": {
  "celltoolbar": "Tags",
  "kernelspec": {
   "display_name": "Python 3 (ipykernel)",
   "language": "python",
   "name": "python3"
  },
  "language_info": {
   "codemirror_mode": {
    "name": "ipython",
    "version": 3
   },
   "file_extension": ".py",
   "mimetype": "text/x-python",
   "name": "python",
   "nbconvert_exporter": "python",
   "pygments_lexer": "ipython3",
   "version": "3.9.12"
  }
 },
 "nbformat": 4,
 "nbformat_minor": 4
}
