{
 "cells": [
  {
   "cell_type": "markdown",
   "metadata": {},
   "source": [
    "# B3.2 Equations of Kinematics\n",
    "<hr style=\"height:2px;border-width:0;color:gray;background-color:gray\">"
   ]
  },
  {
   "cell_type": "markdown",
   "metadata": {},
   "source": [
    "## B3.2.1 Review from Linear Kinematics\n",
    "\n",
    "Together with the definitions of displacement, velocity, and acceleration, we also had the derived equations of kinematics for **constant acceleration**:\n",
    "\n",
    "$$ x = x_0 + v_{0x}t + \\frac{1}{2}a_{x}t^2 $$\n",
    "\n",
    "and\n",
    "\n",
    "$$ v_x^2 = v_{0x}^2 +2a_{x}\\Delta x $$\n",
    "\n",
    "<hr style=\"height:2px;border-width:0;color:gray;background-color:gray\">"
   ]
  },
  {
   "cell_type": "markdown",
   "metadata": {},
   "source": [
    "## B3.2.2 Derived Equations of Kinematics\n",
    "\n",
    "We saw in previous note how rotational parameters could relate to linear parameters under **no slip condition**. Under such conditions, we can apply our derived equations to rotational kinematics as well:\n",
    "\n",
    "<div class=\"alert alert-success\">\n",
    "    \n",
    "$$ \\theta = \\theta_0 + \\omega_{0}t + \\frac{1}{2}\\alpha t^2$$\n",
    "</div>\n",
    "\n",
    "and\n",
    "\n",
    "<div class=\"alert alert-success\">\n",
    "    \n",
    "$$ \\omega^2 = \\omega_0^2 + 2\\alpha \\Delta\\theta$$\n",
    "</div>\n",
    "\n",
    "\n",
    "<hr style=\"height:2px;border-width:0;color:gray;background-color:gray\">"
   ]
  },
  {
   "cell_type": "markdown",
   "metadata": {},
   "source": [
    "<div style=\"background-color: #D0D0D0 ; padding: 10px; border: 1px solid black;\">       \n",
    "<header>\n",
    "<h3> Example 1</h3>\n",
    "    </header>\n",
    "\n",
    "A disk starting at rest is accelerating at a rate of 35 rad/s$^2$ for a total time of 5.0 s. How many revolutions did it turn during these 5.0 s?\n",
    "\n",
    "**Solution**\n",
    "    \n",
    "Plug in our numbers:\n",
    "    \n",
    "$$ \\theta - \\theta_0 = (0)(5.0) + (0.5)(35)(5.0)^2 = 440~\\textrm{rad} $$\n",
    "    \n",
    "We need to convert the answer to revolutions:\n",
    "    \n",
    "$$\\Delta\\theta = (440~\\textrm{rad})\\left(\\frac{1~\\textrm{rev}}{2\\pi~\\textrm{rad}}\\right) = 70~\\textrm{rev}$$\n",
    "\n",
    "    \n",
    "</div>"
   ]
  },
  {
   "cell_type": "markdown",
   "metadata": {},
   "source": [
    "<hr style=\"height:2px;border-width:0;color:gray;background-color:gray\">"
   ]
  }
 ],
 "metadata": {
  "kernelspec": {
   "display_name": "Python 3 (ipykernel)",
   "language": "python",
   "name": "python3"
  },
  "language_info": {
   "codemirror_mode": {
    "name": "ipython",
    "version": 3
   },
   "file_extension": ".py",
   "mimetype": "text/x-python",
   "name": "python",
   "nbconvert_exporter": "python",
   "pygments_lexer": "ipython3",
   "version": "3.9.12"
  }
 },
 "nbformat": 4,
 "nbformat_minor": 4
}
