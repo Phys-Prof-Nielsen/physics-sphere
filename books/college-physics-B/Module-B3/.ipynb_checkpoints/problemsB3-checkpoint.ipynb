{
 "cells": [
  {
   "cell_type": "markdown",
   "metadata": {},
   "source": [
    "# B3.3 Problems\n",
    "<hr style=\"height:2px;border-width:0;color:gray;background-color:gray\">"
   ]
  },
  {
   "cell_type": "markdown",
   "metadata": {},
   "source": [
    "<h2>Problem B3.1</h2>\n",
    "    </header>\n",
    "\n",
    "An ultracentrifuge accelerates from rest to 100,000 rpm in 2.00 min.\n",
    "\n",
    "1. What is its angular acceleration in  rad/s$^2$? \n",
    "2. What is the tangential acceleration of a point 9.50 cm from the axis of rotation?\n",
    "3. What is the radial acceleration in  m/s$^2$ and multiples of $g$ of this point at full rpm?\n",
    "\n",
    "This problem is a slightly modified version from OpenStax. Access for free at [https://openstax.org/books/college-physics-2e/pages/10-problems-exercises](https://openstax.org/books/college-physics-2e/pages/10-problems-exercises)"
   ]
  },
  {
   "cell_type": "markdown",
   "metadata": {},
   "source": [
    "<hr style=\"height:2px;border-width:0;color:gray;background-color:gray\">"
   ]
  },
  {
   "cell_type": "markdown",
   "metadata": {},
   "source": [
    "<h2>Problem B3.2</h2>\n",
    "    </header>\n",
    "\n",
    "During a very quick stop, a car decelerates at 7.00 m/s$^2$.\n",
    "\n",
    "1. What is the angular acceleration of its 0.280 m radius tires, assuming they do not slip on the pavement?\n",
    "2. How many revolutions do the tires make before coming to rest, given their initial angular velocity is  95.0 rad/s?3. How long does the car take to stop completely?\n",
    "4. What distance does the car travel in this time?\n",
    "5. What was the car’s initial velocity?\n",
    "6. Do the values obtained seem reasonable, considering that this stop happens very quickly?\n",
    "\n",
    "This problem is a slightly modified version from OpenStax. Access for free at [https://openstax.org/books/college-physics-2e/pages/10-problems-exercises](https://openstax.org/books/college-physics-2e/pages/10-problems-exercises)"
   ]
  },
  {
   "cell_type": "markdown",
   "metadata": {},
   "source": [
    "<hr style=\"height:2px;border-width:0;color:gray;background-color:gray\">"
   ]
  },
  {
   "cell_type": "markdown",
   "metadata": {},
   "source": [
    "<h2>Problem B3.3</h2>\n",
    "    </header>\n",
    "\n",
    "A wheel has a constant angular acceleration of 5.0 rad/s$^2$. Starting from rest, it turns through 300 rad. \n",
    "\n",
    "1. What is its final angular velocity? \n",
    "2. How much time elapses while it turns through the 300 radians?\n",
    "\n",
    "This problem is a slightly modified version from OpenStax. Access for free at [https://openstax.org/books/university-physics-volume-1/pages/10-problems](https://openstax.org/books/university-physics-volume-1/pages/10-problems)"
   ]
  },
  {
   "cell_type": "markdown",
   "metadata": {},
   "source": [
    "<hr style=\"height:2px;border-width:0;color:gray;background-color:gray\">"
   ]
  }
 ],
 "metadata": {
  "celltoolbar": "Tags",
  "kernelspec": {
   "display_name": "Python 3 (ipykernel)",
   "language": "python",
   "name": "python3"
  },
  "language_info": {
   "codemirror_mode": {
    "name": "ipython",
    "version": 3
   },
   "file_extension": ".py",
   "mimetype": "text/x-python",
   "name": "python",
   "nbconvert_exporter": "python",
   "pygments_lexer": "ipython3",
   "version": "3.9.12"
  }
 },
 "nbformat": 4,
 "nbformat_minor": 4
}
