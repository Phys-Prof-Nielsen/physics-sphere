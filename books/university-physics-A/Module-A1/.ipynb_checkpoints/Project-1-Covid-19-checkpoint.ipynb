{
 "cells": [
  {
   "cell_type": "markdown",
   "metadata": {},
   "source": [
    "# Realistic Projectile Motion Project 1: Covid-19 \n",
    "***"
   ]
  },
  {
   "cell_type": "markdown",
   "metadata": {},
   "source": [
    "## Objective\n",
    "The recommendation for safe physical distancing is 6 ft. I am not sure what to say about social distances and I am still puzzled about what a social distance of 6 ft is.\n",
    "\n",
    "The objective of this project is to find out of 6 ft really is a good distance or just soemthing put worth by scientists who barely passed physics.\n",
    "***"
   ]
  },
  {
   "cell_type": "markdown",
   "metadata": {},
   "source": [
    "## Background\n",
    "### Physics Background\n",
    "We have explored kinematics and numerical methods on how to solve first order differential equations that can not be solved through analytical integration. This allow us to study a realistic trajectory for the COVID-19 molecule.\n",
    "\n",
    "The trajectory of the molecule(s) can be parameterized by x- and y-positions (with y being our vertical direction) in a xy-plane, while these positions are dictated through accelerations and velocites. Obviously, we have the acceleration of gravity acting on the molecule(s) in the vertical direction, but we will go one step futher and include the acceleration due to air drag after the molecule(s) leave the host. \n",
    "\n",
    "#### Air Drag\n",
    "These molecules leave the host at relatively high speeds and the appropriate magnitude of the acceleration due to airg drag is\n",
    "\n",
    "$$a_{drag} = \\frac{1}{2}\\frac{\\rho C_{D}A}{m}v^{2} $$\n",
    "\n",
    "where $\\rho$ is the density of the gas/fluid the object moves in. In our case $\\rho = \\rho_{air} = 1.28$ kg/m$^3$. The speed of the particle is $v$, $C_D$ is a drag coefficient that depends on the shape of the object ($0.47$ for a sphere), $A$ is the cross-sectional area of the object as it moves through the gas/fluid, and $m$ is the mass of the object. \n",
    "\n",
    "For us to incorporate drag into our scheme, we must know these parameters as well as initial position and velocity.\n",
    "\n",
    "The numerical scheme will attempt to approximate the x- and y-positions from the accelerations in x- and y-directions through\n",
    "\n",
    "$$ \\vec{a} = \\frac{d^2\\vec{r}}{dt^2} $$\n",
    "\n",
    "or in component form:\n",
    "\n",
    "$$ a_x = \\frac{d^{2}x}{dt^2} $$\n",
    "\n",
    "$$ a_y = \\frac{d^{2}y}{dt^2} $$\n",
    "\n",
    "#### Covid-19 Molecule\n",
    "\n",
    "<img src=\"covid.jpeg\" width=\"300\">\n",
    "\n",
    "Before we can start our numerical scheme, we determine what we need to address our objective. We have two scenarios for spreading the molecule(s) through the air:\n",
    "\n",
    "1. Covid-19 molecules are embedded in a larger respiratory droplet through sneezing or coughing.\n",
    "2. Individual molecule(s) through breathing and talking.\n",
    "\n",
    "These two scenarios have very different initial velocity conditions:\n",
    "\n",
    "* Sneeze: initial velocity $\\sim 15$ m/s.\n",
    "* Breathing: initial velocity $\\sim 1$ m/s.\n",
    "\n",
    "For the parameters needed to estimate the air drag, we have\n",
    "\n",
    "* sneeze droplet: R = 30 $\\mu$m\n",
    "* Covid molecule: R = 0.05 $\\mu$m\n",
    "* density of droplet: $rho_{droplet} = 1.3$ g/mL . The mass is apparently really difficult to find online :)\n",
    "* mass of Covid-19 molecule: m = 30 kDa (kilo Dalton)\n",
    "\n",
    "\n",
    "https://en.wikipedia.org/wiki/Drag_coefficient"
   ]
  },
  {
   "cell_type": "code",
   "execution_count": null,
   "metadata": {},
   "outputs": [],
   "source": []
  }
 ],
 "metadata": {
  "kernelspec": {
   "display_name": "Python 3 (ipykernel)",
   "language": "python",
   "name": "python3"
  },
  "language_info": {
   "codemirror_mode": {
    "name": "ipython",
    "version": 3
   },
   "file_extension": ".py",
   "mimetype": "text/x-python",
   "name": "python",
   "nbconvert_exporter": "python",
   "pygments_lexer": "ipython3",
   "version": "3.10.9"
  }
 },
 "nbformat": 4,
 "nbformat_minor": 4
}
