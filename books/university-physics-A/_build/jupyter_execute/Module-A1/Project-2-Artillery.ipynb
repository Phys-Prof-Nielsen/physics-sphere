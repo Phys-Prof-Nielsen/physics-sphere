{
 "cells": [
  {
   "cell_type": "markdown",
   "metadata": {},
   "source": [
    "# A1.5 Realistic Projectile Motion Project 2: Artillery \n",
    "<hr style=\"height:2px;border-width:0;color:gray;background-color:gray\">"
   ]
  },
  {
   "cell_type": "markdown",
   "metadata": {},
   "source": [
    "## A1.5.1 Problem\n",
    "Explosive cannon shells launched from a small howitzer is a common tool to prevent avalanche danger by intentionally triggering smaller avalanches in areas prone to serious avalanche danger. \n",
    "\n",
    "<img src=\"howitzer1.jpg\" width=\"500\">\n",
    "\n",
    "Obviously, it is of great interest to make\n",
    "sure the cannon shell hits the target area. In fact, Utah is a dangeorus place to live:\n",
    "[Shell shocked: Errant avalanche bomb rips Pleasant Grove home](https://www.deseret.com/2005/3/29/19883755/shell-shocked-errant-avalanche-bomb-rips-pleasant-grove-home)\n",
    "\n",
    "Assume a muzzle velocity of 1000.0 m/s\n",
    "and a drag acceleration given by\n",
    "\n",
    "$$ a_{drag} = -\\frac{B}{m}v^2 $$\n",
    "\n",
    "where $\\frac{B}{m} = 4.00\\times 10^{-5}$ m$^{-1}$\n",
    "\n",
    "address the following objectives:\n",
    "1. Without air drag, what is the maximum range and altitude of the shell?\n",
    "2. Including air drag, what is the maximum range and altitude of the shell?\n",
    "3. One thing we notice from addressing objectives (1) and (2), is the high altitude the shell is reaching. One may therefore consider potential effects of atmospheric density on the frictional force. The atmospheric density can be modeled by the adiabatic approximation $ \\rho = \\rho_{0}\\left(1 - \\frac{ay}{T_0} \\right)^\\alpha $ Here $\\rho_0$ is the air density at sea level, $a = 6.5 \\times 10^{−3}$ K/m is the adiabatic lapse rate, $T_0$ is the temperature at sea level (pick an appropriate value), and $\\alpha = 2.5$ for air. The modified drag acceleration then becomes a function of altitude (or y): $ a_{drag} = \\frac{\\rho}{\\rho_0}a_{drag_0} $ where $a_{drag_0}$ is the original drag acceleration at sea level. Repeat the activity with the modified air drag.\n",
    "\n",
    "<hr style=\"height:2px;border-width:0;color:gray;background-color:gray\">"
   ]
  }
 ],
 "metadata": {
  "kernelspec": {
   "display_name": "Python 3 (ipykernel)",
   "language": "python",
   "name": "python3"
  },
  "language_info": {
   "codemirror_mode": {
    "name": "ipython",
    "version": 3
   },
   "file_extension": ".py",
   "mimetype": "text/x-python",
   "name": "python",
   "nbconvert_exporter": "python",
   "pygments_lexer": "ipython3",
   "version": "3.10.9"
  }
 },
 "nbformat": 4,
 "nbformat_minor": 4
}