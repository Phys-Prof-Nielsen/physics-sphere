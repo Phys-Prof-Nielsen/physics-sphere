{
 "cells": [
  {
   "cell_type": "markdown",
   "metadata": {},
   "source": [
    "# A2.x Problems\n",
    "<hr style=\"height:2px;border-width:0;color:gray;background-color:gray\">"
   ]
  },
  {
   "cell_type": "markdown",
   "metadata": {},
   "source": [
    "<h2>Problem A2.1</h2>\n",
    "    </header>\n",
    "\n",
    "A 2.0 kg solid sphere with radius of 0.25 m is released from rest from the top of a ramp inclined 12$^\\circ$. The height above the horizontal surface is 3.5 m. \n",
    "\n",
    "1. What is the linear acceleration of the CM of the sphere?\n",
    "2. What is the angular acceleration of the sphere about the CM?\n",
    "3. What is the linear speed of the CM of the sphere at the bottom of the ramp?\n",
    "4. How many revolutions did the sphere perform before getting to the bottom?"
   ]
  },
  {
   "cell_type": "code",
   "execution_count": 1,
   "metadata": {
    "tags": [
     "hide-input",
     "hide-output"
    ]
   },
   "outputs": [
    {
     "name": "stdout",
     "output_type": "stream",
     "text": [
      "Linear acceleration: 1.456866919230157 m/s^2\n",
      "Angular acceleration: 5.827467676920628 rad/s^2\n",
      "Linear speed: 7.003570517957253 m/s\n",
      "Revolutions: 10.716901942948414 rev\n"
     ]
    }
   ],
   "source": [
    "import sympy as sym\n",
    "import numpy as np\n",
    "\n",
    "M = 2.0\n",
    "R = 0.25\n",
    "angle = (12.0)*(np.pi/180.0)\n",
    "h = 3.5\n",
    "g = 9.81\n",
    "\n",
    "#------------\n",
    "# PART 1\n",
    "#------------\n",
    "\n",
    "#N2 linear\n",
    "# x positive down the ramp: from N2: Fg*sin(angle) - Ff = M*ax\n",
    "Ax = sym.Symbol('Ax')   #CM linear acceleration\n",
    "Ff = sym.Symbol('Ff')   #friction force (static)\n",
    "Fg = M*g\n",
    "Ffx = -Ff\n",
    "Eq1 = M*Ax - Fg*np.sin(angle) - Ffx\n",
    "\n",
    "# N2 rotational\n",
    "# +z is out of the plane if x is to the right and down the incline\n",
    "A_theta = sym.Symbol('A_theta')   #angular acceleration\n",
    "I = (2.0/5.0)*M*R**2\n",
    "Tfz = -R*Ff\n",
    "Eq2 = I*A_theta - Tfz\n",
    "\n",
    "#equation of constraint: Ax = -R*A_theta. (negative due to our choice of frame)\n",
    "Eq3 = Ax + R*A_theta\n",
    "\n",
    "sol1 = sym.solve((Eq1,Eq2,Eq3),(Ax,Ff,A_theta))\n",
    "Ax = float(sol1[Ax])\n",
    "print('Linear acceleration: '+str(Ax)+' m/s^2')\n",
    "\n",
    "# -----\n",
    "# PART 2\n",
    "# -----\n",
    "Alpha = Ax/R\n",
    "print('Angular acceleration: '+str(Alpha)+' rad/s^2')\n",
    "\n",
    "# -----\n",
    "# PART 3\n",
    "# -----\n",
    "#constant acceleration, so can use derived equations from kinematics\n",
    "v0 = 0\n",
    "dx = h/np.sin(angle)\n",
    "v = np.sqrt(v0**2 + 2*dx*Ax)\n",
    "\n",
    "print('Linear speed: '+str(v)+' m/s')\n",
    "\n",
    "# -----\n",
    "# PART 3\n",
    "# -----\n",
    "#constant acceleration, so can use derived equations from kinematics\n",
    "w0 = 0.0\n",
    "w = v/R\n",
    "dtheta = (w**2 - w0**2)/(2*Alpha) #in radians\n",
    "dtheta = dtheta*(1./(2*np.pi)) # in revolutions\n",
    "\n",
    "print('Revolutions: '+str(dtheta)+' rev')"
   ]
  },
  {
   "cell_type": "markdown",
   "metadata": {},
   "source": [
    "<hr style=\"height:2px;border-width:0;color:gray;background-color:gray\">"
   ]
  },
  {
   "cell_type": "markdown",
   "metadata": {},
   "source": [
    "<h2>Problem A2.2</h2>\n",
    "    </header>\n",
    "\n",
    "What is the moment of inertia of an object that rolls without slipping down a 2.00 m high incline starting from rest, and has a final velocity of 6.00 m/s? Express the moment of inertia as a multiple of $MR^2$, where $M$ is the mass of the object and $R$ is its radius.\n",
    "\n",
    "This problem is a slightly modified version from OpenStax. Access for free at [https://openstax.org/books/college-physics-2e/pages/10-problems-exercises](https://openstax.org/books/college-physics-2e/pages/10-problems-exercises)"
   ]
  },
  {
   "cell_type": "markdown",
   "metadata": {},
   "source": [
    "<hr style=\"height:2px;border-width:0;color:gray;background-color:gray\">"
   ]
  },
  {
   "cell_type": "markdown",
   "metadata": {},
   "source": [
    "<h2>Problem A2.3</h2>\n",
    "    </header>\n",
    "\n",
    "Consider two cylinders that start down identical inclines from rest except that one is frictionless. Thus one cylinder rolls without slipping, while the other slides frictionlessly without rolling. They both travel a short distance at the bottom and then start up another incline. \n",
    "\n",
    "1. Show that they both reach the same height on the other incline, and that this height is equal to their original height.\n",
    "\n",
    "2. Find the ratio of the time the rolling cylinder takes to reach the height on the second incline to the time the sliding cylinder takes to reach the height on the second incline. \n",
    "\n",
    "3. Explain why the time for the rolling motion is greater than that for the sliding motion.\n",
    "\n",
    "This problem is a slightly modified version from OpenStax. Access for free at [https://openstax.org/books/college-physics-2e/pages/10-problems-exercises](https://openstax.org/books/college-physics-2e/pages/10-problems-exercises)"
   ]
  },
  {
   "cell_type": "markdown",
   "metadata": {},
   "source": [
    "<hr style=\"height:2px;border-width:0;color:gray;background-color:gray\">"
   ]
  },
  {
   "cell_type": "markdown",
   "metadata": {},
   "source": [
    "<h2>Problem A2.4</h2>\n",
    "    </header>\n",
    "\n",
    "A bowling ball rolls up a ramp 0.5 m high without slipping to storage. It has an initial velocity of its center of mass of 3.0 m/s. \n",
    "\n",
    "1. What is its velocity at the top of the ramp? \n",
    "2. If the ramp is 1 m high does it make it to the top?\n",
    "\n",
    "This problem is a slightly modified version from OpenStax. Access for free at [https://openstax.org/books/university-physics-volume-1/pages/11-problems](https://openstax.org/books/university-physics-volume-1/pages/11-problems)"
   ]
  },
  {
   "cell_type": "markdown",
   "metadata": {},
   "source": [
    "<hr style=\"height:2px;border-width:0;color:gray;background-color:gray\">"
   ]
  },
  {
   "cell_type": "markdown",
   "metadata": {},
   "source": [
    "<h2>Problem A2.5</h2>\n",
    "    </header>\n",
    "\n",
    "A 40.0-kg solid cylinder is rolling across a horizontal surface at a speed of 6.0 m/s. How much work is required to stop it?\n",
    "\n",
    "This problem is a slightly modified version from OpenStax. Access for free at [https://openstax.org/books/university-physics-volume-1/pages/11-problems](https://openstax.org/books/university-physics-volume-1/pages/11-problems)"
   ]
  },
  {
   "cell_type": "markdown",
   "metadata": {},
   "source": [
    "<hr style=\"height:2px;border-width:0;color:gray;background-color:gray\">"
   ]
  },
  {
   "cell_type": "markdown",
   "metadata": {},
   "source": [
    "<h2>Problem A2.6</h2>\n",
    "    </header>\n",
    "\n",
    "A solid cylinder rolls up an incline at an angle of 20$^\\circ$. If it starts at the bottom with a speed of 10 m/s, how far up the incline does it travel?\n",
    "\n",
    "This problem is a slightly modified version from OpenStax. Access for free at [https://openstax.org/books/university-physics-volume-1/pages/11-problems](https://openstax.org/books/university-physics-volume-1/pages/11-problems)"
   ]
  },
  {
   "cell_type": "markdown",
   "metadata": {},
   "source": [
    "<hr style=\"height:2px;border-width:0;color:gray;background-color:gray\">"
   ]
  },
  {
   "cell_type": "markdown",
   "metadata": {},
   "source": [
    "<h2>Problem A2.7</h2>\n",
    "    </header>\n",
    "\n",
    "A solid cylindrical wheel of mass M and radius R is pulled by a force $\\vec{F}$ applied to the center of the wheel at $37^\\circ$ to the horizontal (see the following figure). If the wheel is to roll without slipping, what is the maximum value of $F$? The coefficients of static and kinetic friction are $\\mu_s = 0.40$ and $\\mu_k = 0.30$\n",
    " \n",
    "<img src=\"P7-A2.png\" width=\"300\">\n",
    "\n",
    "This problem is a slightly modified version from OpenStax. Access for free at [https://openstax.org/books/university-physics-volume-1/pages/11-problems](https://openstax.org/books/university-physics-volume-1/pages/11-problems)"
   ]
  },
  {
   "cell_type": "markdown",
   "metadata": {},
   "source": [
    "<hr style=\"height:2px;border-width:0;color:gray;background-color:gray\">"
   ]
  },
  {
   "cell_type": "markdown",
   "metadata": {},
   "source": [
    "<h2>Problem A2.8</h2>\n",
    "    </header>\n",
    "\n",
    "A hollow cylinder that is rolling without slipping is given a velocity of 5.0 m/s and rolls up an incline to a vertical height of 1.0 m. If a hollow sphere of the same mass and radius is given the same initial velocity, how high vertically does it roll up the incline?\n",
    "\n",
    "This problem is a slightly modified version from OpenStax. Access for free at [https://openstax.org/books/university-physics-volume-1/pages/11-problems](https://openstax.org/books/university-physics-volume-1/pages/11-problems)"
   ]
  },
  {
   "cell_type": "markdown",
   "metadata": {},
   "source": [
    "<hr style=\"height:2px;border-width:0;color:gray;background-color:gray\">"
   ]
  },
  {
   "cell_type": "markdown",
   "metadata": {},
   "source": [
    "<h2>Problem A2.9</h2>\n",
    "    </header>\n",
    "\n",
    "A yo-yo can be thought of a solid cylinder of mass m and radius r that has a light string wrapped around its circumference (see below). One end of the string is held fixed in space. If the cylinder falls as the string unwinds without slipping, what is the acceleration of the cylinder?\n",
    " \n",
    "<img src=\"P9-A2.png\" width=\"150\">\n",
    "\n",
    "This problem is a slightly modified version from OpenStax. Access for free at [https://openstax.org/books/university-physics-volume-1/pages/11-problems](https://openstax.org/books/university-physics-volume-1/pages/11-problems)"
   ]
  },
  {
   "cell_type": "markdown",
   "metadata": {},
   "source": [
    "<hr style=\"height:2px;border-width:0;color:gray;background-color:gray\">"
   ]
  }
 ],
 "metadata": {
  "celltoolbar": "Tags",
  "kernelspec": {
   "display_name": "Python 3 (ipykernel)",
   "language": "python",
   "name": "python3"
  },
  "language_info": {
   "codemirror_mode": {
    "name": "ipython",
    "version": 3
   },
   "file_extension": ".py",
   "mimetype": "text/x-python",
   "name": "python",
   "nbconvert_exporter": "python",
   "pygments_lexer": "ipython3",
   "version": "3.10.9"
  }
 },
 "nbformat": 4,
 "nbformat_minor": 4
}