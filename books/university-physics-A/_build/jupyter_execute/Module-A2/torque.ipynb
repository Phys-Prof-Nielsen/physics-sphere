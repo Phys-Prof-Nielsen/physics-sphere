{
 "cells": [
  {
   "cell_type": "markdown",
   "metadata": {},
   "source": [
    "# A2.3 Review Angular Force - Torque\n",
    "<hr style=\"height:2px;border-width:0;color:gray;background-color:gray\">"
   ]
  },
  {
   "cell_type": "markdown",
   "metadata": {},
   "source": [
    "## A2.3.1 Motivation\n",
    "\n",
    "We are simply doing a quick review here. A review never hurts.\n",
    "\n",
    "<hr style=\"height:2px;border-width:0;color:gray;background-color:gray\">"
   ]
  },
  {
   "cell_type": "markdown",
   "metadata": {},
   "source": [
    "## A2.3.2 Torque on Point Particle\n",
    "\n",
    "The torque on a point particle due to a force $\\vec{f}$ is defined as\n",
    "\n",
    "<div class=\"alert alert-success\">\n",
    "    \n",
    "$$ \\vec{\\tau} = \\vec{r}\\times\\vec{f}$$\n",
    "</div>\n",
    "\n",
    "where $\\vec{r}$ is the **directed line segment from a pivot point to the point of interaction**. We are free to choose our pivot point, however, in most applications it is clear which point is most suitable as a pivot point.\n",
    "\n",
    "The **net torque** is simply\n",
    "\n",
    "<div class=\"alert alert-success\">\n",
    "    \n",
    "$$ \\vec{\\tau}_{net} = \\vec{r}\\times\\vec{f}_{net}$$\n",
    "</div>\n",
    "\n",
    "since all forces acts at the same location for a point charge."
   ]
  },
  {
   "cell_type": "markdown",
   "metadata": {},
   "source": [
    "<hr style=\"height:2px;border-width:0;color:gray;background-color:gray\">"
   ]
  },
  {
   "cell_type": "markdown",
   "metadata": {},
   "source": [
    "<div class=\"alert alert-warning\">\n",
    "<b>Box 1</b><br>\n",
    "    \n",
    "What is the torque on a particle about the origin due to the force $\\vec{f} = 3.0\\hat{i} + 1.5\\hat{j} - 3.0\\hat{k}$ N if it is applied at the point whose position is $\\vec{r} = 1.5\\hat{i} - 2.0\\hat{k}$ m?\n",
    "    \n",
    "</div>"
   ]
  },
  {
   "cell_type": "code",
   "execution_count": 1,
   "metadata": {},
   "outputs": [],
   "source": [
    "# Try making a script here yourself"
   ]
  },
  {
   "cell_type": "code",
   "execution_count": 2,
   "metadata": {
    "tags": [
     "hide-input",
     "hide-ouput"
    ]
   },
   "outputs": [
    {
     "name": "stdout",
     "output_type": "stream",
     "text": [
      "Torque is [ 3.   -1.5   2.25] Nm\n"
     ]
    }
   ],
   "source": [
    "%reset -f\n",
    "\n",
    "import numpy as np\n",
    "\n",
    "def cross_product(v1, v2):\n",
    "    x = v1[1]*v2[2] - v1[2]*v2[1]\n",
    "    y = v1[2]*v2[0] - v1[0]*v2[2]\n",
    "    z = v1[0]*v2[1] - v1[1]*v2[0]\n",
    "    vector = np.array([x,y,z])\n",
    "    return vector\n",
    "\n",
    "f = np.array([3.0, 1.5, -3.0])\n",
    "r = np.array([1.5, 0, -2.0])\n",
    "\n",
    "tau = cross_product(r,f)\n",
    "print('Torque is '+str(tau)+' Nm')"
   ]
  },
  {
   "cell_type": "markdown",
   "metadata": {},
   "source": [
    "<hr style=\"height:2px;border-width:0;color:gray;background-color:gray\">"
   ]
  },
  {
   "cell_type": "markdown",
   "metadata": {},
   "source": [
    "<div class=\"alert alert-warning\">\n",
    "<b>Box 2</b><br>\n",
    "    \n",
    "What is the torque on a particle about the point P at $\\vec{r} = 1.5\\hat{i} +1.0\\hat{j} - 2.0\\hat{k}$ m  due to the force $\\vec{f} = 3.0\\hat{i} + 1.5\\hat{j} - 3.0\\hat{k}$ N if the particle is located at $\\vec{r} = -2.0\\hat{i} + 4.0\\hat{k}$ m?\n",
    "    \n",
    "</div>"
   ]
  },
  {
   "cell_type": "code",
   "execution_count": 3,
   "metadata": {},
   "outputs": [],
   "source": [
    "# Try making a script here yourself"
   ]
  },
  {
   "cell_type": "code",
   "execution_count": 4,
   "metadata": {
    "tags": [
     "hide-input",
     "hide-output"
    ]
   },
   "outputs": [
    {
     "name": "stdout",
     "output_type": "stream",
     "text": [
      "Torque is [-6.    7.5  -2.25] Nm\n"
     ]
    }
   ],
   "source": [
    "%reset -f\n",
    "\n",
    "import numpy as np\n",
    "\n",
    "def cross_product(v1, v2):\n",
    "    x = v1[1]*v2[2] - v1[2]*v2[1]\n",
    "    y = v1[2]*v2[0] - v1[0]*v2[2]\n",
    "    z = v1[0]*v2[1] - v1[1]*v2[0]\n",
    "    vector = np.array([x,y,z])\n",
    "    return vector\n",
    "\n",
    "f = np.array([3.0, 1.5, -3.0])\n",
    "r_pivot = np.array([1.5, 1.0, -2.0])\n",
    "r_particle = np.array([-2.0,0, 4.0])\n",
    "r = r_particle - r_pivot\n",
    "\n",
    "tau = cross_product(r,f)\n",
    "print('Torque is '+str(tau)+' Nm')"
   ]
  },
  {
   "cell_type": "markdown",
   "metadata": {},
   "source": [
    "## A2.3.3 Torque on Extended Object\n",
    "\n",
    "The torque on an extended object is more complex. In this case **we must be aware of the interaction points** as forces can act at different locations:\n",
    "\n",
    "<div class=\"alert alert-success\">\n",
    "    \n",
    "$$ \\vec{\\mathcal{T}}_{net} = \\sum\\vec{r}_{i}\\times\\vec{f}_{i}$$\n",
    "</div>"
   ]
  },
  {
   "cell_type": "markdown",
   "metadata": {},
   "source": [
    "<hr style=\"height:2px;border-width:0;color:gray;background-color:gray\">"
   ]
  }
 ],
 "metadata": {
  "celltoolbar": "Tags",
  "kernelspec": {
   "display_name": "Python 3 (ipykernel)",
   "language": "python",
   "name": "python3"
  },
  "language_info": {
   "codemirror_mode": {
    "name": "ipython",
    "version": 3
   },
   "file_extension": ".py",
   "mimetype": "text/x-python",
   "name": "python",
   "nbconvert_exporter": "python",
   "pygments_lexer": "ipython3",
   "version": "3.10.9"
  }
 },
 "nbformat": 4,
 "nbformat_minor": 2
}