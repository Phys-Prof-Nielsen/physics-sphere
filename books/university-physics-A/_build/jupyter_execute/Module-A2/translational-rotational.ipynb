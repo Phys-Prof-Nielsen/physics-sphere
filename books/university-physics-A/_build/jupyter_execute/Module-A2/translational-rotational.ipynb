{
 "cells": [
  {
   "cell_type": "markdown",
   "metadata": {},
   "source": [
    "# A2.2 A Note on Combined Translational and Rotational Angular Speed\n",
    "<hr style=\"height:2px;border-width:0;color:gray;background-color:gray\">"
   ]
  },
  {
   "cell_type": "markdown",
   "metadata": {},
   "source": [
    "## A2.2.1 Motivation\n",
    "\n",
    "We are familiar with the following relationship\n",
    "\n",
    "$$ V_t = r\\Omega $$\n",
    "\n",
    "which relates the **tangential speed** of a given location on an object to its distance from the center of rotation ($r$) and angular speed. \n",
    "\n",
    "We may also have noticed that we se the **exact** same relationship for the **linear speed of the center of mass**, despite that fact that the center of mass is not located at the edge. Shouldn't we be using $r = 0$ in that case? The answer is no and may not be intuitive, and these notes are to aid some understanding on that puzzle.\n",
    "\n",
    "<hr style=\"height:2px;border-width:0;color:gray;background-color:gray\">"
   ]
  },
  {
   "cell_type": "markdown",
   "metadata": {},
   "source": [
    "## D6.2.2 Superposition of Velocities\n",
    "\n",
    "Let us consider the figure below. [There is also a video on this topic](https://youtu.be/8fhPLowbfgs).\n",
    "\n",
    "<img src=\"D6-fig1.png\" width=\"800\">\n",
    "\n",
    "### Pure Translational Motion\n",
    "\n",
    "Consider the top left sketch in the figure above. If the (solid) object is undergoing **pure translational motion** all points on the object will more at the same velocity, including the center of mass point.\n",
    "\n",
    "### Pure Rotational Motion\n",
    "\n",
    "Consider the top middle sketch. If the object is undergoing **pure rotational motion** about the center of mass point, then the **magnitude** of any tangential velocity vectors are given by\n",
    "\n",
    "$$ v_t = r\\Omega $$\n",
    "\n",
    "where $r$ is the radial distance of the point from the center of mass and $\\omega$ is the angular speed of the object.\n",
    "\n",
    "### Combined Motion\n",
    "\n",
    "For the combined motion we simply add the velocity vectors as shown in the top left and simplified in the bottom sketches. We now see a more complicated pattern, but we notice that the speed of the center of mass is not zero and the speed of the top tangential point is greater than $R\\Omega$. The dashed line in the bottom sketch provides the answer or a hint. \n",
    "\n",
    "<div class=\"alert alert-success\">\n",
    "    \n",
    "**The point of rotation is the center of mass point but instead the contact point between the object and the surface it is rolling on**.\n",
    "</div>\n",
    "\n",
    "We can improve this image by considering the figure below, where we have drawn perpendicular lines from all velocity vectors: **lines drawn from the point of rotation to any velocity vector will always be perpendicular**.\n",
    "\n",
    "<img src=\"D6-fig2.png\" width=\"400\">\n",
    "\n",
    "It should now be evident that the point of rotation is at the contact point and not the center of mass point. This implies that when using\n",
    "\n",
    "$$ v_t = r\\Omega $$\n",
    "\n",
    "the distance from the contact point to the center of mass point is $R$ and the tangential speed of the center of mass is\n",
    "\n",
    "$$ V_{CM} = R\\Omega$$\n",
    "\n",
    "while the tangential speed of the top point is\n",
    "\n",
    "$$ V_{top} = 2R\\Omega$$\n",
    "\n",
    "and the tangential speed of the contact point is\n",
    "\n",
    "$$ V_{contact} = 0$$\n",
    "\n",
    "<div class=\"alert alert-success\">\n",
    "    \n",
    "The later result explains why it is **static** friction responsible for rotational motion.\n",
    "</div>"
   ]
  },
  {
   "cell_type": "markdown",
   "metadata": {},
   "source": [
    "<hr style=\"height:2px;border-width:0;color:gray;background-color:gray\">"
   ]
  },
  {
   "cell_type": "markdown",
   "metadata": {},
   "source": [
    "<div class=\"alert alert-warning\">\n",
    "<b>Box 1</b><br>\n",
    "    \n",
    "Consider a solid disk of mass $25.0$ kg and radius $0.25$ m. The disk is on the xy-plane and rolling such that the CM moves in the +x direction. At some instant, the x-coordinate of the CM is $x = 3.0$ m and the CM velocity is $+4.5$ m/s. Find the following\n",
    "    \n",
    "1. The orbital angular momentum relative to the origin?\n",
    "2. The sping orbital angular momentum?\n",
    "3. The total angular momentum?\n",
    "\n",
    "</div>"
   ]
  },
  {
   "cell_type": "markdown",
   "metadata": {},
   "source": [
    "<hr style=\"height:2px;border-width:0;color:gray;background-color:gray\">"
   ]
  }
 ],
 "metadata": {
  "celltoolbar": "Tags",
  "kernelspec": {
   "display_name": "Python 3 (ipykernel)",
   "language": "python",
   "name": "python3"
  },
  "language_info": {
   "codemirror_mode": {
    "name": "ipython",
    "version": 3
   },
   "file_extension": ".py",
   "mimetype": "text/x-python",
   "name": "python",
   "nbconvert_exporter": "python",
   "pygments_lexer": "ipython3",
   "version": "3.9.12"
  }
 },
 "nbformat": 4,
 "nbformat_minor": 2
}