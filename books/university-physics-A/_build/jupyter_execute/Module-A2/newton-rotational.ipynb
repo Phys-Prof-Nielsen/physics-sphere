{
 "cells": [
  {
   "cell_type": "markdown",
   "metadata": {},
   "source": [
    "# A2.3 Newton's 2nd Law - Rotational Dynamics\n",
    "<hr style=\"height:2px;border-width:0;color:gray;background-color:gray\">"
   ]
  },
  {
   "cell_type": "markdown",
   "metadata": {},
   "source": [
    "## A2.3.1 Motivation\n",
    "\n",
    "We are now ready to discuss dynamics of an object that spins but also exhibit translational motion of its CM. "
   ]
  },
  {
   "cell_type": "markdown",
   "metadata": {},
   "source": [
    "## A2.3.2 Newton's 2nd Law- Extended Object\n",
    "\n",
    "In our analysis of the angular momentum of an extended object, we considered two different kinds of motions: spin (rotation about an internal axis, typically through the CM) and orbital (rotation of the CM about an external axis).\n",
    "\n",
    "### Spin \n",
    "\n",
    "In this case, we defined the angular momentum as\n",
    "\n",
    "$$ L_z = I_{zz}\\Omega_z $$\n",
    "\n",
    "Applying Newton's 2nd law\n",
    "\n",
    "<div class=\"alert alert-success\">\n",
    "\n",
    "$$ \\mathcal{T}_{net_z} = I_{zz}\\mathcal{A}_z $$\n",
    "</div>\n",
    "\n",
    "### Orbital\n",
    "\n",
    "In this case, we defined the angular momentum as\n",
    "\n",
    "$$ L_{0_z} = (\\vec{R}\\times\\vec{P})_z $$\n",
    "\n",
    "Since it acts as a point particle located at the CM, applying Newton's 2nd law we get\n",
    "\n",
    "<div class=\"alert alert-success\">\n",
    "\n",
    "$$ \\mathcal{T}_{net_z} =  (\\vec{R}\\times\\vec{F}_{net})_z$$\n",
    "</div>\n",
    "\n",
    "### Combined Orbital and Spin\n",
    "\n",
    "Simply add the two together:\n",
    "\n",
    "$$ \\mathcal{T}_{net_z} = (I_{0}\\mathcal{A}_0)_z + (\\vec{R}\\times\\vec{F}_{net})_z$$\n",
    "\n",
    "where we made a clear distinction between the internal and external axes of rotation through the subscript $0$."
   ]
  },
  {
   "cell_type": "markdown",
   "metadata": {},
   "source": [
    "<hr style=\"height:2px;border-width:0;color:gray;background-color:gray\">"
   ]
  }
 ],
 "metadata": {
  "celltoolbar": "Tags",
  "kernelspec": {
   "display_name": "Python 3 (ipykernel)",
   "language": "python",
   "name": "python3"
  },
  "language_info": {
   "codemirror_mode": {
    "name": "ipython",
    "version": 3
   },
   "file_extension": ".py",
   "mimetype": "text/x-python",
   "name": "python",
   "nbconvert_exporter": "python",
   "pygments_lexer": "ipython3",
   "version": "3.10.9"
  }
 },
 "nbformat": 4,
 "nbformat_minor": 2
}