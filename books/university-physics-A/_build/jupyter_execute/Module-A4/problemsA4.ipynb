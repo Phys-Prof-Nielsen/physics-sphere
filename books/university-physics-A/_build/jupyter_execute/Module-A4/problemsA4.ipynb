{
 "cells": [
  {
   "cell_type": "markdown",
   "metadata": {},
   "source": [
    "# A4.x Problems\n",
    "<hr style=\"height:2px;border-width:0;color:gray;background-color:gray\">"
   ]
  },
  {
   "cell_type": "markdown",
   "metadata": {},
   "source": [
    "<h2>Problem A4.1</h2>\n",
    "    </header>\n",
    "\n",
    "A stroboscope is set to flash every  $8.00\\times 10^{−5}$ s. What is the frequency of the flashes?\n",
    "\n",
    "This problem is a slightly modified version from OpenStax. [Access for free here.](https://openstax.org/books/university-physics-volume-1/pages/15-problems)"
   ]
  },
  {
   "cell_type": "code",
   "execution_count": 1,
   "metadata": {},
   "outputs": [],
   "source": [
    "# DIY Cell"
   ]
  },
  {
   "cell_type": "markdown",
   "metadata": {},
   "source": [
    "<hr style=\"height:2px;border-width:0;color:gray;background-color:gray\">"
   ]
  },
  {
   "cell_type": "markdown",
   "metadata": {},
   "source": [
    "<h2>Problem A4.2</h2>\n",
    "    </header>\n",
    "\n",
    "Each piston of an engine makes a sharp sound every other revolution of the engine. \n",
    "\n",
    "1. How fast is a race car going if its eight-cylinder engine emits a sound of frequency 750 Hz, given that the engine makes 2000 revolutions per kilometer?\n",
    "2. At how many revolutions per minute is the engine rotating?\n",
    "\n",
    "This problem is a slightly modified version from OpenStax. [Access for free here.](https://openstax.org/books/university-physics-volume-1/pages/15-problems)"
   ]
  },
  {
   "cell_type": "code",
   "execution_count": 2,
   "metadata": {},
   "outputs": [],
   "source": [
    "# DIY Cell"
   ]
  },
  {
   "cell_type": "markdown",
   "metadata": {},
   "source": [
    "<hr style=\"height:2px;border-width:0;color:gray;background-color:gray\">"
   ]
  },
  {
   "cell_type": "markdown",
   "metadata": {},
   "source": [
    "<h2>Problem A4.3</h2>\n",
    "    </header>\n",
    "\n",
    "A student stands on the edge of a merry-go-round which rotates five times a minute and has a radius of two meters one evening as the sun is setting. The student produces a shadow on the nearby building. \n",
    "\n",
    "1. Write an equation for the position of the shadow. \n",
    "2. Write an equation for the velocity of the shadow.\n",
    "\n",
    "This problem is a slightly modified version from OpenStax. [Access for free here.](https://openstax.org/books/university-physics-volume-1/pages/15-problems)"
   ]
  },
  {
   "cell_type": "code",
   "execution_count": 3,
   "metadata": {},
   "outputs": [],
   "source": [
    "# DIY Cell"
   ]
  },
  {
   "cell_type": "markdown",
   "metadata": {},
   "source": [
    "<hr style=\"height:2px;border-width:0;color:gray;background-color:gray\">"
   ]
  },
  {
   "cell_type": "markdown",
   "metadata": {},
   "source": [
    "<h2>Problem A4.4</h2>\n",
    "    </header>\n",
    "\n",
    "What is the length of a pendulum that has a period of 0.500 s?\n",
    "\n",
    "This problem is a slightly modified version from OpenStax. [Access for free here.](https://openstax.org/books/university-physics-volume-1/pages/15-problems)"
   ]
  },
  {
   "cell_type": "code",
   "execution_count": 4,
   "metadata": {},
   "outputs": [],
   "source": [
    "# DIY Cell"
   ]
  },
  {
   "cell_type": "markdown",
   "metadata": {},
   "source": [
    "<hr style=\"height:2px;border-width:0;color:gray;background-color:gray\">"
   ]
  },
  {
   "cell_type": "markdown",
   "metadata": {},
   "source": [
    "<h2>Problem A4.5</h2>\n",
    "    </header>\n",
    "\n",
    "A pendulum with a period of 2.00000 s in one location ($g = 9.80$ m/s$^2$) is moved to a new location where the period is now 1.99796 s. What is the acceleration due to gravity at its new location?\n",
    "\n",
    "This problem is a slightly modified version from OpenStax. [Access for free here.](https://openstax.org/books/university-physics-volume-1/pages/15-problems)"
   ]
  },
  {
   "cell_type": "code",
   "execution_count": 5,
   "metadata": {},
   "outputs": [],
   "source": [
    "# DIY Cell"
   ]
  },
  {
   "cell_type": "markdown",
   "metadata": {},
   "source": [
    "<hr style=\"height:2px;border-width:0;color:gray;background-color:gray\">"
   ]
  },
  {
   "cell_type": "markdown",
   "metadata": {},
   "source": [
    "<h2>Problem A4.6</h2>\n",
    "    </header>\n",
    "\n",
    "The amplitude of a lightly damped oscillator decreases by $3.0\\%$ during each cycle. What percentage of the mechanical energy of the oscillator is lost in each cycle?\n",
    "\n",
    "This problem is a slightly modified version from OpenStax. [Access for free here.](https://openstax.org/books/university-physics-volume-1/pages/15-problems)"
   ]
  },
  {
   "cell_type": "code",
   "execution_count": 6,
   "metadata": {},
   "outputs": [],
   "source": [
    "# DIY Cell"
   ]
  },
  {
   "cell_type": "markdown",
   "metadata": {},
   "source": [
    "<hr style=\"height:2px;border-width:0;color:gray;background-color:gray\">"
   ]
  },
  {
   "cell_type": "markdown",
   "metadata": {},
   "source": [
    "<h2>Problem A4.7</h2>\n",
    "    </header>\n",
    "\n",
    "If a car has a suspension system with a force constant of $5.00\\times 10^4$ N/m, how much energy must the car’s shocks remove to dampen an oscillation starting with a maximum displacement of $0.0750$ m?\n",
    "\n",
    "This problem is a slightly modified version from OpenStax. [Access for free here.](https://openstax.org/books/university-physics-volume-1/pages/15-problems)"
   ]
  },
  {
   "cell_type": "code",
   "execution_count": 7,
   "metadata": {},
   "outputs": [],
   "source": [
    "# DIY Cell"
   ]
  },
  {
   "cell_type": "markdown",
   "metadata": {},
   "source": [
    "<hr style=\"height:2px;border-width:0;color:gray;background-color:gray\">"
   ]
  },
  {
   "cell_type": "markdown",
   "metadata": {},
   "source": [
    "<h2>Problem A4.8</h2>\n",
    "    </header>\n",
    "\n",
    "Suppose you have a $0.750$ kg object on a horizontal surface connected to a spring that has a force constant of $150$ N/m. There is simple friction between the object and surface with a static coefficient of friction $\\mu_s = 0.100$. \n",
    "\n",
    "1. How far can the spring be stretched without moving the mass? \n",
    "2. If the object is set into oscillation with an amplitude twice the distance found in part (a), and the kinetic coefficient of friction is $\\mu_k = 0.0850$, what total distance does it travel before stopping? Assume it starts at the maximum amplitude.\n",
    "\n",
    "This problem is a slightly modified version from OpenStax. [Access for free here.](https://openstax.org/books/university-physics-volume-1/pages/15-problems)"
   ]
  },
  {
   "cell_type": "code",
   "execution_count": 8,
   "metadata": {},
   "outputs": [],
   "source": [
    "# DIY Cell"
   ]
  },
  {
   "cell_type": "markdown",
   "metadata": {},
   "source": [
    "<hr style=\"height:2px;border-width:0;color:gray;background-color:gray\">"
   ]
  }
 ],
 "metadata": {
  "celltoolbar": "Tags",
  "kernelspec": {
   "display_name": "Python 3 (ipykernel)",
   "language": "python",
   "name": "python3"
  },
  "language_info": {
   "codemirror_mode": {
    "name": "ipython",
    "version": 3
   },
   "file_extension": ".py",
   "mimetype": "text/x-python",
   "name": "python",
   "nbconvert_exporter": "python",
   "pygments_lexer": "ipython3",
   "version": "3.9.12"
  }
 },
 "nbformat": 4,
 "nbformat_minor": 4
}