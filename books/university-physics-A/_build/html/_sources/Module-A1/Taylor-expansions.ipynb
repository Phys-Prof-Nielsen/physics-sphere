{
 "cells": [
  {
   "cell_type": "markdown",
   "metadata": {},
   "source": [
    "# A1.1 Taylor Expansions\n",
    "<hr style=\"height:2px;border-width:0;color:gray;background-color:gray\">"
   ]
  },
  {
   "cell_type": "markdown",
   "metadata": {},
   "source": [
    "## A1.1.1 Motivation\n",
    "\n",
    "Taylor expansions is a mathematical tool that is heavily utilized in the fields of physics and engineering. The topic is typically covered in Calculus II, but it is advantageous to illustrate the use of the expansions here in Physics I. We will not cover the rigorous mathematical treatment, but only show simple applications that will make our life easier in Physics I. Series expansions are often utilized when approximations may be required to solve a problem. With these expansions, we can justify our approximation and even gain information regarding the orders of magnitude of the ignored terms.\n",
    "\n",
    "<hr style=\"height:2px;border-width:0;color:gray;background-color:gray\">"
   ]
  },
  {
   "cell_type": "markdown",
   "metadata": {},
   "source": [
    "## A1.1.2 Taylor's Series\n",
    "\n",
    "A well-behaved function $f(x)$ can be approximated by an infinite (and convergent) power series around a point $a$\n",
    "\n",
    "$$ f(x) = f(a) + (x-a)\\left.\\frac{df}{dx}\\right |_{x = a} + \\frac{(x-a)^2}{2!}\\left.\\frac{d^{2}f}{dx^2}\\right|_{x = a}\n",
    "+ \\frac{(x-a)^3}{3!}\\left.\\frac{d^{3}f}{dx^3}\\right |_{x = a} + \\cdots $$\n",
    "\n",
    "or written more concisely\n",
    "\n",
    "$$ f(x) = \\sum^{\\infty}_{n=0}\\frac{(x-a)^n}{n!}\\left.\\frac{d^{n}f}{dx^n}\\right|_{x=a} $$\n",
    "\n",
    "We can truncate the Taylor series and obtain the **Taylor polynomial**\n",
    "\n",
    "<div class=\"alert alert-success\">\n",
    "    \n",
    "$$ f(x) = f(a) + (x-a)\\left.\\frac{df}{dx}\\right |_{x = a} + \\frac{(x-a)^2}{2!}\\left.\\frac{d^{2}f}{dx^2}\\right|_{x = a}\n",
    "+  \\cdots +  \\frac{(x-a)^n}{n!}\\left.\\frac{d^{n}f}{dx^n}\\right |_{x = a} \\label{eq:1} \\tag{1}$$\n",
    "</div>\n",
    "\n",
    "where we have neglected terms with orders greater of $(x-a)^{n+1}$. We may say that the error of approximating $f(x)$ with the Taylor polynomial is $\\mathcal{O}(x-a)^{n+1}$. The later should be read as \"...the order of $(x-a)^{n+1}$\".\n",
    "\n",
    "<div class=\"alert alert-info\">\n",
    "    \n",
    "The Taylor Polynomial is a method to approximate non-linear and/or complex functions with a sum of simple polynomials.\n",
    "</div>\n",
    "\n",
    "As with other Calculus element we are seeing in this class, I am not expecting you to master this concept at this time. We will be using it and through repetition and examples, I am hoping we will gain some sort of familiarity with it by the end of the semester.\n",
    "\n",
    "<hr style=\"height:2px;border-width:0;color:gray;background-color:gray\">"
   ]
  },
  {
   "cell_type": "markdown",
   "metadata": {},
   "source": [
    "<div style=\"background-color: #D0D0D0 ; padding: 10px; border: 1px solid black;\">       \n",
    "<header>\n",
    "<h3> Example 1</h3>\n",
    "    </header>\n",
    "    \n",
    "Let $f(x) = \\cos(x)$. Approximate this function with polynomials around the point $a = 0$ (we often say \" expand the function $f(x)$ around $a$) to include three non-zero terms.\n",
    "\n",
    "**Solution**\n",
    "    \n",
    "From Equation (1), we will calculate each term on the right side and recognize that $a = 0$:\n",
    "\n",
    "$$ f(a) = \\cos(0) = 1$$\n",
    "\n",
    "$$ (x - a)\\left.\\frac{df}{dx}\\right |_{x = a} = (x-0)[-\\sin(0)]  = 0 $$\n",
    "\n",
    "$$ \\frac{(x-a)^2}{2!}\\left.\\frac{d^{2}f}{dx^2}\\right|_{x = a} = \\frac{(x-0)^2}{2!}[-\\cos(0)] = -\\frac{x^2}{2}$$\n",
    "\n",
    "$$ \\frac{(x-a)^3}{3!}\\left.\\frac{d^{3}f}{dx^3}\\right|_{x = a} = \\frac{(x-0)^3}{3!}[\\sin(0)] = 0$$\n",
    "\n",
    "$$ \\frac{(x-a)^4}{4!}\\left.\\frac{d^{4}f}{dx^4}\\right|_{x = a} = \\frac{(x-0)^4}{4!}[\\cos(0)] = \\frac{x^4}{24}$$\n",
    "\n",
    "We now have 3 non-zero terms and the Taylor polynoimal (or approximation) is\n",
    "<div class=\"alert alert-success\">\n",
    "    \n",
    "$$ \\cos(x) = 1 -\\frac{x^2}{2} + \\frac{x^4}{24} $$\n",
    "</div>\n",
    "    \n",
    "The next term that is not zero is a polynomial to the power of $6$: $\\mathcal{O}(x)^{6}$. **We can then with confidence say that our error in approximating $f(x) = \\cos(x)$ with the above polynomial is of the order of $x^6$ or less**. For small $x$, we can thus approximate $\\cos(x) = 1 - \\frac{x^2}{2} +  \\frac{x^4}{24}$.\n",
    "\n",
    "We can estimate the error if we set a certain value. If $x = 2.0\\times 10^{-1}$~radians ($\\sim 11.5^\\circ$), then our error is on the order of $x^6 \\sim10^{-4}$, where we rounded $(2.0\\times 10^{-1})^6$ up to the nearest order of magnitude. If we truncate after the second term, then we have $\\cos(x) = 1 - \\frac{x^2}{2}$ and an error of $\\sim 10^{-3}$. In many of our applications for this course, we may be satisfied with just keeping the first term of the expansion. So when we say that cosine of a small angle is close to $1$, we can be a lot more specific now as we can inform about the error in that approximation.\n",
    "\n",
    "NOTE: this is how calculators and computers find the values of functions such as cosine and sine. The Taylor Polynomial is easy to program into a computer script and the computer can let $n$ become very large and achieve the accuracy needed for either 32- or 64-bit systems.\n",
    "\n",
    "A graphical representation may be beneficial to conceptualize what we are doing here. Below, I am plotting $f(x) = \\cos(x)$ from $x = [-2\\pi, +2\\pi]$, and each accumulative term in the series we found above.\n",
    "\n",
    "</div>"
   ]
  },
  {
   "cell_type": "code",
   "execution_count": 3,
   "metadata": {
    "tags": [
     "hide-input"
    ]
   },
   "outputs": [
    {
     "data": {
      "image/png": "[encoded data removed]",
      "text/plain": [
       "<Figure size 432x288 with 1 Axes>"
      ]
     },
     "metadata": {
      "needs_background": "light"
     },
     "output_type": "display_data"
    }
   ],
   "source": [
    "import numpy as np\n",
    "import matplotlib.pyplot as plt\n",
    "\n",
    "%matplotlib inline\n",
    "\n",
    "x = np.arange(-2*np.pi,2*np.pi,0.1)\n",
    "f = np.cos(x)\n",
    "\n",
    "f0 = 1*np.ones(len(x))\n",
    "f2 = 1 - x**2/2\n",
    "f4 = 1 - x**2/2 + x**4/24\n",
    "\n",
    "\n",
    "plt.figure()\n",
    "plt.ylabel('f(x)')\n",
    "plt.xlabel('x')\n",
    "ax = plt.gca()\n",
    "ax.plot(x,f,'k')\n",
    "ax.plot(x,f0, 'r')\n",
    "ax.plot(x,f2, 'b')\n",
    "ax.plot(x,f4, 'g')\n",
    "\n",
    "ax.set_xlim([np.min(x), np.max(x)])\n",
    "ax.set_ylim([-1.1, 1.1])\n",
    "\n",
    "ax.hlines(0, -2*np.pi, 2*np.pi, colors='k', linestyles='dotted')\n",
    "\n",
    "plt.show()"
   ]
  },
  {
   "cell_type": "markdown",
   "metadata": {},
   "source": [
    "<div style=\"background-color: #D0D0D0 ; padding: 10px; border: 1px solid black;\">  \n",
    "    \n",
    "**Reflection**: The black line is the actual function. \n",
    "* We see that the lowest order approximation (red) is just the constant value $1$ and is exact at $x = 0$, and may be an ok approximation in very close proximity to $x = 0$. In fact, within $\\pm 5^\\circ$, it is often an adequate approximation. We call this the **small angle approximation** and we will use that at time in this course. \n",
    "* The polynomial consisting of the first two terms of the expansion is shown in blue. This is a significantly better approximation and appears to be almost exact out to $\\pm 1$ radians (57$^\\circ$). Not too shappy at all!\n",
    "* The polynomial represented by the green graph has three terms included and appears to be almost exact out to $\\pm 2$ radians (115$^\\circ$), which is pretty outstanding! \n",
    "\n",
    "So if you need to calculate the sine of an angle, but do not have a calculator handy, who do you call? The Taylor Expansion! This is pretty hot stuff.\n",
    "</div>\n",
    "<hr style=\"height:2px;border-width:0;color:gray;background-color:gray\">"
   ]
  },
  {
   "cell_type": "markdown",
   "metadata": {},
   "source": [
    "<div class=\"alert alert-warning\">\n",
    "<b>Box 1</b><br>\n",
    "    \n",
    "Expand the function $f(x) = \\sin(x)$ around a = 0 using the approach above. Expand to the first three non-zero terms and describe the order of the truncation error. Make a similar plot of the polynomial approximations by considering the first term only, the first two terms, and finally the first three terms. \n",
    "</div>\n",
    "\n",
    "<hr style=\"height:2px;border-width:0;color:gray;background-color:gray\">"
   ]
  },
  {
   "cell_type": "markdown",
   "metadata": {},
   "source": [
    "<div class=\"alert alert-warning\">\n",
    "<b>Box 2</b><br>\n",
    "    \n",
    "Expand the function $f(x) = \\textrm{e}^x$ around a = 0 to the first three non-zero terms. Make a plot of the function and the approximate polynomial incl. the first term only, the first two terms, and finally the first three terms. \n",
    "  </div>\n",
    "  \n",
    "  <hr style=\"height:2px;border-width:0;color:gray;background-color:gray\">"
   ]
  },
  {
   "cell_type": "markdown",
   "metadata": {},
   "source": [
    "## A1.1.3 Binomial Series\n",
    "\n",
    "In physics we are often presented with a function of the form $f(x) = (1 + x)^n$. The Taylor series of this function around a = 0 is known as the **binomial series**:\n",
    "\n",
    "<div class=\"alert alert-success\">\n",
    "    \n",
    "$$ f(x) = 1 + nx + \\frac{n(n-1)}{2!}x^2 + \\frac{n(n-1)(n-2)}{3!}x^3 + \\cdots \\tag{2}$$\n",
    "</div>\n",
    "    \n",
    "We use it often enough that we will not derive it each time, but instead just apply Equation (2).\n",
    "\n",
    "<hr style=\"height:2px;border-width:0;color:gray;background-color:gray\">"
   ]
  },
  {
   "cell_type": "markdown",
   "metadata": {},
   "source": [
    "<div class=\"alert alert-warning\">\n",
    "<b>Box 3</b><br>\n",
    "Expand the function $f(x) = (1 + x)^{1/2}$ around a = 0 to the first three non-zero terms using the binomial\n",
    "expansion formula. Make a plot similarly to above. HINT: identify what $n$ is and insert into Equation (2).\n",
    "  </div>\n",
    "  \n",
    "<hr style=\"height:2px;border-width:0;color:gray;background-color:gray\">"
   ]
  },
  {
   "cell_type": "markdown",
   "metadata": {},
   "source": [
    "<div class=\"alert alert-warning\">\n",
    "<b>Box 4</b><br>\n",
    "Expand the function $f(x) = (1 + x)^{-1/2}$ around a = 0 to the first three non-zero terms using the binomial\n",
    "expansion formula. Make a plot similarly to above. HINT: identify what $n$ is and insert into Equation (2).\n",
    "  </div>\n",
    "  \n",
    "<hr style=\"height:2px;border-width:0;color:gray;background-color:gray\">"
   ]
  },
  {
   "cell_type": "markdown",
   "metadata": {},
   "source": [
    "<div class=\"alert alert-warning\">\n",
    "<b>Box 5</b><br>\n",
    "Expand the function $\\gamma = \\frac{1}{\\sqrt{1 - \\left(\\frac{v}{c}\\right)^2}}$ around a = 0 to the first three non-zero terms using the binomial\n",
    "expansion formula. Make a plot similarly to above. HINT: redefine $x$ such that the binomial expansion can be applied, identify what $n$ is and insert into Equation (2).\n",
    "  </div>\n",
    "  \n",
    "<hr style=\"height:2px;border-width:0;color:gray;background-color:gray\">"
   ]
  }
 ],
 "metadata": {
  "celltoolbar": "Tags",
  "kernelspec": {
   "display_name": "Python 3 (ipykernel)",
   "language": "python",
   "name": "python3"
  },
  "language_info": {
   "codemirror_mode": {
    "name": "ipython",
    "version": 3
   },
   "file_extension": ".py",
   "mimetype": "text/x-python",
   "name": "python",
   "nbconvert_exporter": "python",
   "pygments_lexer": "ipython3",
   "version": "3.10.9"
  }
 },
 "nbformat": 4,
 "nbformat_minor": 4
}
