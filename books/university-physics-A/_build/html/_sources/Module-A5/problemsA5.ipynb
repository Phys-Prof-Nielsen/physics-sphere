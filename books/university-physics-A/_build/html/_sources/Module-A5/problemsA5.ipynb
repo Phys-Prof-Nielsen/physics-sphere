{
 "cells": [
  {
   "cell_type": "markdown",
   "metadata": {},
   "source": [
    "# A5.x Problems\n",
    "<hr style=\"height:2px;border-width:0;color:gray;background-color:gray\">"
   ]
  },
  {
   "cell_type": "markdown",
   "metadata": {},
   "source": [
    "<h2>Problem A5.1</h2>\n",
    "    </header>\n",
    "\n",
    "Waves on a swimming pool propagate at $0.75$ m/s. You splash the water at one end of the pool and observe the wave go to the opposite end, reflect, and return in $30.00$ s. How far away is the other end of the pool?\n",
    "\n",
    "This problem is a slightly modified version from OpenStax. [Access for free here.](https://openstax.org/books/university-physics-volume-1/pages/16-problems)"
   ]
  },
  {
   "cell_type": "code",
   "execution_count": 1,
   "metadata": {},
   "outputs": [],
   "source": [
    "# DIY Cell"
   ]
  },
  {
   "cell_type": "markdown",
   "metadata": {},
   "source": [
    "<hr style=\"height:2px;border-width:0;color:gray;background-color:gray\">"
   ]
  },
  {
   "cell_type": "markdown",
   "metadata": {},
   "source": [
    "<h2>Problem A5.2</h2>\n",
    "    </header>\n",
    "\n",
    "A quality assurance engineer at a frying pan company is asked to qualify a new line of nonstick-coated frying pans. The coating needs to be $1.00$ mm thick. One method to test the thickness is for the engineer to pick a percentage of the pans manufactured, strip off the coating, and measure the thickness using a micrometer. This method is a destructive testing method. Instead, the engineer decides that every frying pan will be tested using a nondestructive method. An ultrasonic transducer is used that produces sound waves with a frequency of $f = 25$ kHz. The sound waves are sent through the coating and are reflected by the interface between the coating and the metal pan, and the time is recorded. The wavelength of the ultrasonic waves in the coating is $0.076$ m. What should be the time recorded if the coating is the correct thickness ($1.00$ mm)?\n",
    "\n",
    "This problem is a slightly modified version from OpenStax. [Access for free here.](https://openstax.org/books/university-physics-volume-1/pages/16-problems)"
   ]
  },
  {
   "cell_type": "code",
   "execution_count": 1,
   "metadata": {},
   "outputs": [],
   "source": [
    "# DIY Cell"
   ]
  },
  {
   "cell_type": "markdown",
   "metadata": {},
   "source": [
    "<hr style=\"height:2px;border-width:0;color:gray;background-color:gray\">"
   ]
  },
  {
   "cell_type": "markdown",
   "metadata": {},
   "source": [
    "<h2>Problem A5.3</h2>\n",
    "    </header>\n",
    "\n",
    "A transverse wave on a string is modeled with the wave function \n",
    "\n",
    "$$ y(x,t) = (0.20~\\textrm{cm})\\sin\\left[(2.00~\\textrm{m}^{-1})x - (3.00~\\textrm{s}^{-1})t + \\frac{\\pi}{16}\\right] $$\n",
    "\n",
    "What is the height of the string with respect to the equilibrium position at a position $x = 4.00$ m and a time  $t = 10.00$s?\n",
    "\n",
    "This problem is a slightly modified version from OpenStax. [Access for free here.](https://openstax.org/books/university-physics-volume-1/pages/16-problems)"
   ]
  },
  {
   "cell_type": "code",
   "execution_count": 1,
   "metadata": {},
   "outputs": [],
   "source": [
    "# DIY Cell"
   ]
  },
  {
   "cell_type": "markdown",
   "metadata": {},
   "source": [
    "<hr style=\"height:2px;border-width:0;color:gray;background-color:gray\">"
   ]
  },
  {
   "cell_type": "markdown",
   "metadata": {},
   "source": [
    "<h2>Problem A5.4</h2>\n",
    "    </header>\n",
    "\n",
    "A wave is modeled with the function \n",
    "\n",
    "$$ y(x,t) = (0.25~\\textrm{cm})\\cos\\left[(0.30~\\textrm{m}^{-1})x - (0.90~\\textrm{s}^{-1})t + \\frac{\\pi}{3}\\right] $$\n",
    "\n",
    "Find the \n",
    "\n",
    "1. amplitude\n",
    "2. wave number\n",
    "3. angular frequency\n",
    "4. wave speed\n",
    "5. initial phase shift\n",
    "6. wavelength\n",
    "7. period of the wave.\n",
    "\n",
    "This problem is a slightly modified version from OpenStax. [Access for free here.](https://openstax.org/books/university-physics-volume-1/pages/16-problems)"
   ]
  },
  {
   "cell_type": "code",
   "execution_count": 1,
   "metadata": {},
   "outputs": [],
   "source": [
    "# DIY Cell"
   ]
  },
  {
   "cell_type": "markdown",
   "metadata": {},
   "source": [
    "<hr style=\"height:2px;border-width:0;color:gray;background-color:gray\">"
   ]
  },
  {
   "cell_type": "markdown",
   "metadata": {},
   "source": [
    "<h2>Problem A5.5</h2>\n",
    "    </header>\n",
    "\n",
    "Consider two sinusoidal waves traveling along a string, modeled as \n",
    "\n",
    "$$ y1(x,t) = (0.3~\\textrm{cm})\\sin\\left[(4~\\textrm{m}^{-1})x + (3~\\textrm{s}^{-1})t\\right] $$\n",
    "\n",
    "and \n",
    "\n",
    "$$ y2(x,t) = (0.6~\\textrm{cm})\\sin\\left[(8~\\textrm{m}^{-1})x - (6~\\textrm{s}^{-1})t\\right] $$\n",
    "\n",
    "What is the height of the resultant wave formed by the interference of the two waves at the position $x = 0.5$ m at time $t = 0.2$ s?\n",
    "\n",
    "This problem is a slightly modified version from OpenStax. [Access for free here.](https://openstax.org/books/university-physics-volume-1/pages/16-problems)"
   ]
  },
  {
   "cell_type": "code",
   "execution_count": 1,
   "metadata": {},
   "outputs": [],
   "source": [
    "# DIY Cell"
   ]
  },
  {
   "cell_type": "markdown",
   "metadata": {},
   "source": [
    "<hr style=\"height:2px;border-width:0;color:gray;background-color:gray\">"
   ]
  }
 ],
 "metadata": {
  "celltoolbar": "Tags",
  "kernelspec": {
   "display_name": "Python 3 (ipykernel)",
   "language": "python",
   "name": "python3"
  },
  "language_info": {
   "codemirror_mode": {
    "name": "ipython",
    "version": 3
   },
   "file_extension": ".py",
   "mimetype": "text/x-python",
   "name": "python",
   "nbconvert_exporter": "python",
   "pygments_lexer": "ipython3",
   "version": "3.10.9"
  }
 },
 "nbformat": 4,
 "nbformat_minor": 4
}
