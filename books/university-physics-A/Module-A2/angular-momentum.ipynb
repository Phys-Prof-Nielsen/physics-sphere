{
 "cells": [
  {
   "cell_type": "markdown",
   "metadata": {},
   "source": [
    "# A2.1 Angular Momentum Revisited\n",
    "<hr style=\"height:2px;border-width:0;color:gray;background-color:gray\">"
   ]
  },
  {
   "cell_type": "markdown",
   "metadata": {},
   "source": [
    "## A2.1.1 Motivation\n",
    "\n",
    "We have previously introduced angular momentum for a point particle and for a solid object experiencing **pure** rotational motion. In this phase, we will explore more details about **combined translational and rotational motion**. \n",
    "\n",
    "In this module, we will simply refesh our *University Physics I PHASE B* rotational dynamics which is restricted to **rotation about a single, fixed axis**.\n",
    "\n",
    "First, we will define the angular momentum for a point particle and then move on to a rigid object by defining angular momentum about the center of mass (**spin**) as well as the **orbital** angular momentum.\n",
    "\n",
    "<hr style=\"height:2px;border-width:0;color:gray;background-color:gray\">"
   ]
  },
  {
   "cell_type": "markdown",
   "metadata": {},
   "source": [
    "## A2.1.2 Angular Momentum of a Point Particle\n",
    "\n",
    "A point particle is an object where size and shape does not play a role for the dynamics of it. By this definition it does not make sense to talk about a **spinning** motion of the particle. Instead, we can talk about the particle **rotating** or **orbiting** a point or axis. \n",
    "\n",
    "We define the **orbital angular momentum** as\n",
    "\n",
    "<div class=\"alert alert-success\">\n",
    "    \n",
    "$$ \\vec{l} = \\vec{r}\\times\\vec{p} $$\n",
    "</div>\n",
    "\n",
    "where $\\vec{r}$ is the directed line segment from a point of reference (sometimes called the **pivot point**) to the location of the particle, and $\\vec{p}$ is the linear momentum of the particle."
   ]
  },
  {
   "cell_type": "markdown",
   "metadata": {},
   "source": [
    "<hr style=\"height:2px;border-width:0;color:gray;background-color:gray\">"
   ]
  },
  {
   "cell_type": "markdown",
   "metadata": {},
   "source": [
    "<div class=\"alert alert-warning\">\n",
    "<b>Box 1</b><br>\n",
    "    \n",
    "Consider a $0.50$ kg particle traveling in a straight-line motion in the (x,y) plane with a velocity of $\\vec{v} = 25.0~\\hat{i}$ m/s. At a given instant, the particle is at $(x,y) = (5.0,3.0)$ m, find the particle's orbital angular momentum about the following points:\n",
    "    \n",
    "1. $(x,y,z) = (0.0, 0.0, 0.0)$ m.\n",
    "2. $(x,y,z) = (0.0 , 3.0, 0.0)$ m.\n",
    "\n",
    "</div>"
   ]
  },
  {
   "cell_type": "code",
   "execution_count": 13,
   "metadata": {
    "tags": [
     "hide-input",
     "hide-output"
    ]
   },
   "outputs": [
    {
     "name": "stdout",
     "output_type": "stream",
     "text": [
      "1. The orbital angular momentum is [  0.    0.  -37.5]\n",
      " \n",
      "2. The orbital angular momentum is [0. 0. 0.]\n"
     ]
    }
   ],
   "source": [
    "%reset -f\n",
    "\n",
    "import numpy as np\n",
    "\n",
    "def cross_product(v1, v2):\n",
    "    x = v1[1]*v2[2] - v1[2]*v2[1]\n",
    "    y = v1[2]*v2[0] - v1[0]*v2[2]\n",
    "    z = v1[0]*v2[1] - v1[1]*v2[0]\n",
    "    vector = np.array([x,y,z])\n",
    "    return vector\n",
    "\n",
    "m = 0.50\n",
    "v = np.array([25, 0, 0])\n",
    "r_particle = np.array([5.0,3.0,0.0])\n",
    "\n",
    "# Part 1\n",
    "r_pivot = np.array([0, 0, 0])\n",
    "r = r_particle - r_pivot\n",
    "\n",
    "p = m*v\n",
    "l = cross_product(r,p)\n",
    "print('1. The orbital angular momentum is '+str(l))\n",
    "print(' ')\n",
    "\n",
    "# Part 2\n",
    "r_pivot = np.array([0, 3.0, 0])\n",
    "r = r_particle - r_pivot\n",
    "\n",
    "l = cross_product(r,p)\n",
    "print('2. The orbital angular momentum is '+str(l))"
   ]
  },
  {
   "cell_type": "markdown",
   "metadata": {},
   "source": [
    "<hr style=\"height:2px;border-width:0;color:gray;background-color:gray\">"
   ]
  },
  {
   "cell_type": "markdown",
   "metadata": {},
   "source": [
    "<div class=\"alert alert-warning\">\n",
    "<b>Box 2</b><br>\n",
    "    \n",
    "1. Based on the previous Box, can a particle moving in straight-line motion have non-zero orbital angular momentum? \n",
    "2. Under what circumstances can the orbital angular momentum be zero for a particle moving in straight-line motion?\n",
    "\n",
    "</div>"
   ]
  },
  {
   "cell_type": "code",
   "execution_count": 14,
   "metadata": {
    "tags": [
     "hide-input",
     "hide-output"
    ]
   },
   "outputs": [
    {
     "name": "stdout",
     "output_type": "stream",
     "text": [
      "1. Yes, as shown in part 1 above.\n",
      " \n",
      "2. When the r-vector and p-vector are along the same line.\n"
     ]
    }
   ],
   "source": [
    "print('1. Yes, as shown in part 1 above.')\n",
    "print(' ')\n",
    "print('2. When the r-vector and p-vector are along the same line.')"
   ]
  },
  {
   "cell_type": "markdown",
   "metadata": {},
   "source": [
    "<hr style=\"height:2px;border-width:0;color:gray;background-color:gray\">"
   ]
  },
  {
   "cell_type": "markdown",
   "metadata": {},
   "source": [
    "## A2.1.3 Angular Momemtum for a Rigid Object\n",
    "\n",
    "A rigid object has the complexity that it can rotate about an internal axis, say an axis through the center of mass. In our following description, we will assume an axis through the CM and parallel to the z-axis. Rotational motion about this internal axis is referred to as the **spin angular momentum**. In addition to this **intrinsic** spinning, the object's center of mass may also move relative to a given point/axis just like a point particle, and we refer to the object's **orbital angular momentum**.\n",
    "\n",
    "### Spin Angular Momentum\n",
    "\n",
    "The spin angular momentum for rotation about an axis parallel to the z-axis is defined as\n",
    "\n",
    "<div class=\"alert alert-success\">\n",
    "    \n",
    "$$ L_{s_z} = I_{zz}\\Omega_z $$\n",
    "</div>\n",
    "\n",
    "where $I_{zz}$ is the **moment of inertia** about that axis (that is, the resistance to a change in rotational motion about that axis), and $\\omega_z$ is the angular speed about the z-axis. The associated direction of the spin angular momentum is determined from convention: CCW motion is + and CW motion is -.\n",
    "\n",
    "### Orbital Angular Momentum\n",
    "\n",
    "This is defined in a similar way as for the point particle, where the point particle is replaced by the **Center of Mass** concept of the object:\n",
    "\n",
    "<div class=\"alert alert-success\">\n",
    "    \n",
    "$$ \\vec{L}_o = \\vec{R}\\times\\vec{P} $$\n",
    "</div>"
   ]
  },
  {
   "cell_type": "markdown",
   "metadata": {},
   "source": [
    "<hr style=\"height:2px;border-width:0;color:gray;background-color:gray\">"
   ]
  },
  {
   "cell_type": "markdown",
   "metadata": {},
   "source": [
    "<div class=\"alert alert-warning\">\n",
    "<b>Box 3</b><br>\n",
    "    \n",
    "A solid disk with mass $5.0$ kg and radius $0.05$ m is laying in the xy-plane and is spinning in a CCW direction with an angular speed of $16$ rad/s. What is its spin angular momentum along the z-direction?\n",
    "</div>"
   ]
  },
  {
   "cell_type": "code",
   "execution_count": 15,
   "metadata": {
    "tags": [
     "hide-input",
     "hide-output"
    ]
   },
   "outputs": [
    {
     "name": "stdout",
     "output_type": "stream",
     "text": [
      "Spin angular momentum is 0.10000000000000002\n"
     ]
    }
   ],
   "source": [
    "%reset -f\n",
    "\n",
    "M = 5.0\n",
    "R = 0.05\n",
    "\n",
    "w = 16\n",
    "\n",
    "I = 0.5*M*R**2\n",
    "Lsz = I*w\n",
    "\n",
    "print('Spin angular momentum is '+str(Lsz))"
   ]
  },
  {
   "cell_type": "markdown",
   "metadata": {},
   "source": [
    "<hr style=\"height:2px;border-width:0;color:gray;background-color:gray\">"
   ]
  },
  {
   "cell_type": "markdown",
   "metadata": {},
   "source": [
    "## A2.1.4 Orbital and Spin Angular Momentum Combined\n",
    "\n",
    "When an object spins around an intrinsic axis through its CM **and** the CM is moving relative to an external reference frame, the object will have **both** orbital and spin angular momentums. \n",
    "\n",
    "For example, the Earth rotates around the Sun, which provides gives the Earth an **orbital** angular momentum In addition, the Earth has a **spin** angular momentum associated with is spinning motion around its axis through its CM.\n",
    "\n",
    "We could write the **total** angular momentum of the Earth with respect to a point at the center of the Sun as\n",
    "\n",
    "$$ \\vec{L} = \\vec{L}_{orb} + \\vec{L}_{spin} $$\n",
    "\n",
    "$$ \\vec{L} = \\vec{R}\\times\\vec{P} + I\\vec{\\Omega} $$\n",
    "\n",
    "where $\\vec{R}$ is the directed line segment from the center of the Sun to the CM of the Earth, $\\vec{P} = M_{Earth}\\vec{V}_{Earth}$ with $\\vec{V}_{Earth}$ being the tangential speed of the Earth, $I$ is the moment of inertia of the Earth around an axis through its CM, and $\\omega$ is the rotational velocity of the Earth.\n",
    "\n",
    "<img src=\"B8.4-fig8.png\" width=\"600\">\n",
    "\n",
    "A similar analogy is made in beginning quantum mechanics in respect to the electron orbiting the nucleus.\n",
    "\n",
    "<img src=\"B8.4-fig9.png\" width=\"600\">\n",
    "\n",
    "<hr style=\"height:2px;border-width:0;color:gray;background-color:gray\">"
   ]
  },
  {
   "cell_type": "markdown",
   "metadata": {},
   "source": [
    "<div class=\"alert alert-warning\">\n",
    "<b>Box 4</b><br>\n",
    "    \n",
    "Consider the Earth's motiong around the Sun. What is the Earth's **total** angular momentum? \n",
    "\n",
    "</div>"
   ]
  },
  {
   "cell_type": "code",
   "execution_count": 17,
   "metadata": {
    "tags": [
     "hide-input",
     "hide-output"
    ]
   },
   "outputs": [
    {
     "name": "stdout",
     "output_type": "stream",
     "text": [
      "Spin angular momentum is 7.051169042234388e+33\n",
      "Orbital angular momentum is 2.57955432231102e+34\n",
      "Total angular momentum is 3.284671226534459e+34\n"
     ]
    }
   ],
   "source": [
    "%reset -f\n",
    "\n",
    "import numpy as np\n",
    "\n",
    "M_e = 5.972E24\n",
    "R_e = 6.371E6\n",
    "\n",
    "#spin\n",
    "I = (2/5)*M_e*R_e**2\n",
    "T = 24*(60/1)*(60/1)\n",
    "w = 2*np.pi/T\n",
    "\n",
    "Ls = I*w\n",
    "\n",
    "#orbital\n",
    "R = 1.4724E11\n",
    "T = 365*(24/1)*(60/1)*(60/1)\n",
    "V = 2*np.pi*R/T\n",
    "P = M_e*V\n",
    "\n",
    "#R and P vectors are perpendicular and provides Lo same direction as Ls\n",
    "Lo = R*P\n",
    "\n",
    "L = Ls + Lo\n",
    "\n",
    "print('Spin angular momentum is '+str(Ls))\n",
    "print('Orbital angular momentum is '+str(Lo))\n",
    "print('Total angular momentum is '+str(L))"
   ]
  },
  {
   "cell_type": "markdown",
   "metadata": {},
   "source": [
    "<hr style=\"height:2px;border-width:0;color:gray;background-color:gray\">"
   ]
  }
 ],
 "metadata": {
  "celltoolbar": "Tags",
  "kernelspec": {
   "display_name": "Python 3 (ipykernel)",
   "language": "python",
   "name": "python3"
  },
  "language_info": {
   "codemirror_mode": {
    "name": "ipython",
    "version": 3
   },
   "file_extension": ".py",
   "mimetype": "text/x-python",
   "name": "python",
   "nbconvert_exporter": "python",
   "pygments_lexer": "ipython3",
   "version": "3.10.9"
  }
 },
 "nbformat": 4,
 "nbformat_minor": 2
}
