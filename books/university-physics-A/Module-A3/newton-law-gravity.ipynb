{
 "cells": [
  {
   "cell_type": "markdown",
   "metadata": {},
   "source": [
    "# A3.1 Newton's Law of Gravity\n",
    "<hr style=\"height:2px;border-width:0;color:gray;background-color:gray\">"
   ]
  },
  {
   "cell_type": "markdown",
   "metadata": {},
   "source": [
    "## A3.1.1 Motivation\n",
    "\n",
    "Newton's law of gravity is an **observational** result based on exceptionally detailed observations made by Galileo, Tycho Brahe, and Kepler. While it is based on interactions among planetary objects, the near-spherical nature of the objects implies that the law can be applied to **infinitesimal point masses** as well. From that perspective, we can derive a gravitational field from various mass distributions.\n",
    "\n",
    "<hr style=\"height:2px;border-width:0;color:gray;background-color:gray\">"
   ]
  },
  {
   "cell_type": "markdown",
   "metadata": {},
   "source": [
    "## A3.1.2 Newton's Law of Gravity\n",
    "\n",
    "Newton's law of gravity states:\n",
    "\n",
    "<div class=\"alert alert-success\">\n",
    "    \n",
    "$$\\vec{F}_{G} = -\\frac{GMm}{r^2}\\hat{r}$$\n",
    "</div>\n",
    "\n",
    "where $G = 6.67\\times 10^{-11}$ Nm$^2$/kg^$2$ is the **gravitational constant**, $M$ is the source mass, $m$ is the **test mass**, and $r$ is the distance between the two masses. If the masses are spherical systems, $r$ is the center-to-center distance.\n",
    "\n",
    "<hr style=\"height:2px;border-width:0;color:gray;background-color:gray\">"
   ]
  },
  {
   "cell_type": "markdown",
   "metadata": {},
   "source": [
    "<div class=\"alert alert-warning\">\n",
    "<b>Box 1</b><br>\n",
    "    \n",
    "The work done by gravity in moving an object from position $r_1$ to $r_2$ is \n",
    "    \n",
    "$$ W = \\int_{r_1}^{r^2} \\vec{F}_{G}\\cdot d\\vec{r}$$\n",
    "    \n",
    "If we consider an object with mass m outside the Earth’s surface, show that the gravitational potential energy function looks like \n",
    "    \n",
    "$$ U = −\\frac{GMm}{r} $$\n",
    "    \n",
    "NOTE: the zero reference point for potential energy is chosen when the object is infinitely far away from the Earth. \n",
    "   \n",
    "</div>"
   ]
  },
  {
   "cell_type": "code",
   "execution_count": 1,
   "metadata": {},
   "outputs": [],
   "source": [
    "# DIY Cell"
   ]
  },
  {
   "cell_type": "code",
   "execution_count": 9,
   "metadata": {
    "tags": [
     "hide-input",
     "hide-output"
    ]
   },
   "outputs": [
    {
     "name": "stdout",
     "output_type": "stream",
     "text": [
      "The potential energy function is: -G*M*m/r\n"
     ]
    }
   ],
   "source": [
    "%reset -f\n",
    "\n",
    "import sympy as sym\n",
    "from sympy.abc import G,M,m,x,U,W,r\n",
    "\n",
    "F = -G*M*m/x**2\n",
    "\n",
    "W = sym.integrate(F,(x,sym.oo,r))  \n",
    "\n",
    "U_oo = 0\n",
    "dU = -W\n",
    "\n",
    "U = U_oo + dU\n",
    "\n",
    "print('The potential energy function is: '+str(U))"
   ]
  },
  {
   "cell_type": "markdown",
   "metadata": {},
   "source": [
    "<hr style=\"height:2px;border-width:0;color:gray;background-color:gray\">"
   ]
  },
  {
   "cell_type": "markdown",
   "metadata": {},
   "source": [
    "<div class=\"alert alert-warning\">\n",
    "<b>Box 2</b><br>\n",
    "    \n",
    "Use conservation of energy to find the escape velocity of the Earth. That is, how fast should an object be launched at in order to just escape the gravitational pull of the Earth. \n",
    "    \n",
    "</div>"
   ]
  },
  {
   "cell_type": "code",
   "execution_count": 1,
   "metadata": {},
   "outputs": [],
   "source": [
    "# DIY Cell"
   ]
  },
  {
   "cell_type": "code",
   "execution_count": 17,
   "metadata": {
    "tags": [
     "hide-input",
     "hide-output"
    ]
   },
   "outputs": [
    {
     "name": "stdout",
     "output_type": "stream",
     "text": [
      "-62433207.9021637*m\n",
      "Escape speed: 1.117e+4 m/s\n"
     ]
    }
   ],
   "source": [
    "%reset -f\n",
    "\n",
    "import sympy as sym\n",
    "\n",
    "# K1 + U1 = K2 + U2\n",
    "\n",
    "K2 = 0.0   #to just escape it would have no speed left\n",
    "U2 = 0.0   #escaping gravitational pull means no longer experiencing potential energy\n",
    "\n",
    "R = 6378e3 \n",
    "M = 5.97e24\n",
    "G = 6.67e-11\n",
    "\n",
    "m,v = sym.symbols('m, v')\n",
    "\n",
    "U1 = -G*M*m/R\n",
    "K1 = 0.5*m*v**2\n",
    "\n",
    "eq = K1 + U1 - K2 - U2\n",
    "sol = sym.solve(eq,v)\n",
    "\n",
    "v = \"{:.3e}\".format(sol[1])\n",
    "print('Escape speed: '+str(v)+' m/s')"
   ]
  },
  {
   "cell_type": "markdown",
   "metadata": {},
   "source": [
    "<hr style=\"height:2px;border-width:0;color:gray;background-color:gray\">"
   ]
  },
  {
   "cell_type": "markdown",
   "metadata": {},
   "source": [
    "<div class=\"alert alert-warning\">\n",
    "    <b>Box 3</b><br>\n",
    "    \n",
    "How fast should an object be launched at in order to make it to the altitude of the International Space Station ($\\sim400$ km)?\n",
    "</div>\n"
   ]
  },
  {
   "cell_type": "code",
   "execution_count": null,
   "metadata": {},
   "outputs": [],
   "source": [
    "# DIY Cell"
   ]
  },
  {
   "cell_type": "code",
   "execution_count": 18,
   "metadata": {
    "tags": [
     "hide-input",
     "hide-output"
    ]
   },
   "outputs": [
    {
     "name": "stdout",
     "output_type": "stream",
     "text": [
      "Escape speed: 2.715e+3 m/s\n"
     ]
    }
   ],
   "source": [
    "%reset -f\n",
    "\n",
    "import sympy as sym\n",
    "\n",
    "# K1 + U1 = K2 + U2\n",
    "\n",
    "R1 = 6378e3 \n",
    "R2 = R1 + 400e3\n",
    "M = 5.97e24\n",
    "G = 6.67e-11\n",
    "v2 = 0.0\n",
    "\n",
    "m,v1 = sym.symbols('m, v1')\n",
    "\n",
    "U1 = -G*M*m/R1\n",
    "U2 = -G*M*m/R2\n",
    "K1 = 0.5*m*v1**2\n",
    "K2 = 0.5*m*v2**2\n",
    "\n",
    "eq = K1 + U1 - K2 - U2\n",
    "sol = sym.solve(eq,v1)\n",
    "\n",
    "v1 = \"{:.3e}\".format(sol[1])\n",
    "print('Escape speed: '+str(v1)+' m/s')"
   ]
  },
  {
   "cell_type": "markdown",
   "metadata": {},
   "source": [
    "<hr style=\"height:2px;border-width:0;color:gray;background-color:gray\">"
   ]
  },
  {
   "cell_type": "markdown",
   "metadata": {},
   "source": [
    "<div class=\"alert alert-warning\">\n",
    "    <b>Box 4</b><br>\n",
    "    \n",
    "Use Newton’s second law to derive an equation for the speed of an object orbiting the Earth in terms of the radius of its orbit.\n",
    "    \n",
    "</div>"
   ]
  },
  {
   "cell_type": "code",
   "execution_count": 15,
   "metadata": {},
   "outputs": [],
   "source": [
    "# DIY Cell"
   ]
  },
  {
   "cell_type": "code",
   "execution_count": 22,
   "metadata": {
    "tags": [
     "hide-input",
     "hide-output"
    ]
   },
   "outputs": [
    {
     "name": "stdout",
     "output_type": "stream",
     "text": [
      "speed: sqrt(G*M/r)\n"
     ]
    }
   ],
   "source": [
    "%reset -f\n",
    "\n",
    "import sympy as sym\n",
    "from sympy.abc import G,M,m,v,r\n",
    "\n",
    "# F_net = -mv**2/r\n",
    "# F = -GMm/r^2\n",
    "\n",
    "eq = m*v**2/r - G*M*m/r**2\n",
    "sol = sym.solve(eq,v)\n",
    "\n",
    "print('speed: '+str(sol[1]))"
   ]
  },
  {
   "cell_type": "markdown",
   "metadata": {},
   "source": [
    "<hr style=\"height:2px;border-width:0;color:gray;background-color:gray\">"
   ]
  },
  {
   "cell_type": "markdown",
   "metadata": {},
   "source": [
    "<div class=\"alert alert-warning\">\n",
    "    <b>Box 5</b><br>\n",
    "    \n",
    "Show that the orbital period of a satellite in circular motion is\n",
    "\n",
    "$$ T = \\frac{2\\pi r^{3/2}}{\\sqrt{GM}} $$\n",
    "    \n",
    "</div>"
   ]
  },
  {
   "cell_type": "code",
   "execution_count": null,
   "metadata": {},
   "outputs": [],
   "source": [
    "# DIY Cell"
   ]
  },
  {
   "cell_type": "code",
   "execution_count": 25,
   "metadata": {
    "tags": [
     "hide-input",
     "hide-output"
    ]
   },
   "outputs": [
    {
     "name": "stdout",
     "output_type": "stream",
     "text": [
      "2*pi*r/sqrt(G*M/r)\n"
     ]
    }
   ],
   "source": [
    "%reset -f\n",
    "\n",
    "import sympy as sym\n",
    "from sympy.abc import G,M,m,v,r\n",
    "\n",
    "# F_net = -mv**2/r\n",
    "# F = -GMm/r^2\n",
    "# d = 2*pi*r\n",
    "# t = d/v\n",
    "\n",
    "eq = m*v**2/r - G*M*m/r**2\n",
    "sol = sym.solve(eq,v)\n",
    "v = sol[1]\n",
    "\n",
    "d = 2*sym.pi*r\n",
    "t = d/v\n",
    "print(t)"
   ]
  },
  {
   "cell_type": "markdown",
   "metadata": {},
   "source": [
    "<hr style=\"height:2px;border-width:0;color:gray;background-color:gray\">"
   ]
  },
  {
   "cell_type": "markdown",
   "metadata": {},
   "source": [
    "<div class=\"alert alert-warning\">\n",
    "    <b>Box 6</b><br>\n",
    "    \n",
    "Find the orbital speed of the International Space Station and its orbital period.\n",
    "    \n",
    "</div>"
   ]
  },
  {
   "cell_type": "code",
   "execution_count": null,
   "metadata": {},
   "outputs": [],
   "source": [
    "# DIY Cell"
   ]
  },
  {
   "cell_type": "code",
   "execution_count": 31,
   "metadata": {
    "tags": [
     "hide-input",
     "hide-output"
    ]
   },
   "outputs": [
    {
     "name": "stdout",
     "output_type": "stream",
     "text": [
      "Orbital speed: 7.66e+3 m/s\n",
      "Orbital period: 9.26e+1 min\n"
     ]
    }
   ],
   "source": [
    "%reset -f\n",
    "\n",
    "import sympy as sym\n",
    "from sympy.abc import G,M,m,v,r\n",
    "\n",
    "R_E = 6378e3 \n",
    "R = R_E + 400e3 #space station ~ 400 km\n",
    "M = 5.97e24\n",
    "G = 6.67e-11\n",
    "\n",
    "# F_net = -mv**2/r\n",
    "# F = -GMm/r^2\n",
    "# d = 2*pi*r\n",
    "# t = d/v\n",
    "\n",
    "eq = m*v**2/r - G*M*m/r**2\n",
    "sol = sym.solve(eq,v)\n",
    "v = sol[1]\n",
    "\n",
    "v_st = sol[1].evalf(subs={r:R})\n",
    "v_st = \"{:.2e}\".format(v_st)\n",
    "print('Orbital speed: '+str(v_st)+' m/s')\n",
    "\n",
    "d = 2*sym.pi*r\n",
    "t = d/v\n",
    "t_st = t.evalf(subs={r:R})/60 # from s to min\n",
    "t_st = \"{:.2e}\".format(t_st)\n",
    "print('Orbital period: '+str(t_st)+' min')"
   ]
  },
  {
   "cell_type": "markdown",
   "metadata": {},
   "source": [
    "<hr style=\"height:2px;border-width:0;color:gray;background-color:gray\">"
   ]
  },
  {
   "cell_type": "markdown",
   "metadata": {},
   "source": [
    "<div class=\"alert alert-warning\">\n",
    "    <b>Box 7</b><br>\n",
    "    \n",
    "For a black hole the escape velocity is the speed of light. Show that this escape velocity is \n",
    "    \n",
    "$$ c = \\sqrt{\\frac{2GM}{R_S}} $$\n",
    "\n",
    "where $M$ is the mass of the black hole, and $R_S$ is the radius of the black hole. For this particular equation to be valid, the black hole must be a stationary black hole (also known as a Schwarzschild black hole).\n",
    "    \n",
    "</div>"
   ]
  },
  {
   "cell_type": "code",
   "execution_count": null,
   "metadata": {},
   "outputs": [],
   "source": [
    "# DIY Cell"
   ]
  },
  {
   "cell_type": "code",
   "execution_count": 34,
   "metadata": {
    "tags": [
     "hide-input",
     "hide-output"
    ]
   },
   "outputs": [
    {
     "name": "stdout",
     "output_type": "stream",
     "text": [
      "Escape speed: 1.4142135623731*sqrt(G*M/R)\n"
     ]
    }
   ],
   "source": [
    "%reset -f\n",
    "\n",
    "import sympy as sym\n",
    "from sympy.abc import G,M,m,c,R\n",
    "\n",
    "U2 = 0\n",
    "K2 = 0\n",
    "\n",
    "K1 = 0.5*m*c**2\n",
    "U1 = -G*M*m/R\n",
    "\n",
    "eq =  K1 + U1 - K2 - U2\n",
    "sol = sym.solve(eq,c)\n",
    "\n",
    "print('Escape speed: '+str(sol[1]))"
   ]
  },
  {
   "cell_type": "markdown",
   "metadata": {},
   "source": [
    "<hr style=\"height:2px;border-width:0;color:gray;background-color:gray\">"
   ]
  },
  {
   "cell_type": "markdown",
   "metadata": {},
   "source": [
    "<div class=\"alert alert-warning\">\n",
    "    <b>Box 8</b><br>\n",
    "    \n",
    "Use the result from Box 7 to find the equation for the radius of the black hole $R_S$. The surface of the sphere with radius $R_S$ is known as the event horizon, and nothing can escape from inside the event horizon.\n",
    "    \n",
    "</div>"
   ]
  },
  {
   "cell_type": "code",
   "execution_count": null,
   "metadata": {},
   "outputs": [],
   "source": [
    "# DIY Cell"
   ]
  },
  {
   "cell_type": "code",
   "execution_count": 36,
   "metadata": {
    "tags": [
     "hide-input",
     "hide-output"
    ]
   },
   "outputs": [
    {
     "name": "stdout",
     "output_type": "stream",
     "text": [
      "Radius of black hole: 2.0*G*M/c**2\n"
     ]
    }
   ],
   "source": [
    "%reset -f\n",
    "\n",
    "import sympy as sym\n",
    "from sympy.abc import G,M,m,c,R\n",
    "\n",
    "U2 = 0\n",
    "K2 = 0\n",
    "\n",
    "K1 = 0.5*m*c**2\n",
    "U1 = -G*M*m/R\n",
    "\n",
    "eq =  K1 + U1 - K2 - U2\n",
    "sol = sym.solve(eq,R)\n",
    "\n",
    "print('Radius of black hole: '+str(sol[0]))"
   ]
  },
  {
   "cell_type": "markdown",
   "metadata": {},
   "source": [
    "<hr style=\"height:2px;border-width:0;color:gray;background-color:gray\">"
   ]
  },
  {
   "cell_type": "markdown",
   "metadata": {},
   "source": [
    "<div class=\"alert alert-warning\">\n",
    "    <b>Box 9</b><br>\n",
    "    \n",
    "If a star with a mass of three solar masses collapse into a black hole, what would its radius of the event horizon be?\n",
    "    \n",
    "</div>"
   ]
  },
  {
   "cell_type": "code",
   "execution_count": null,
   "metadata": {},
   "outputs": [],
   "source": [
    "# DIY Cell"
   ]
  },
  {
   "cell_type": "code",
   "execution_count": 39,
   "metadata": {
    "tags": [
     "hide-input",
     "hide-output"
    ]
   },
   "outputs": [
    {
     "name": "stdout",
     "output_type": "stream",
     "text": [
      "Radius of event horizon 8.863e+04 m\n"
     ]
    }
   ],
   "source": [
    "%reset -f\n",
    "\n",
    "import numpy as np\n",
    "\n",
    "G = 6.67e-11\n",
    "c = 2.997e8\n",
    "M_sun = 1.9891e31\n",
    "M = 3*M_sun\n",
    "\n",
    "R = 2*G*M/c**2\n",
    "\n",
    "R = \"{:.3e}\".format(R)\n",
    "print('Radius of event horizon '+str(R)+' m')"
   ]
  },
  {
   "cell_type": "markdown",
   "metadata": {},
   "source": [
    "<hr style=\"height:2px;border-width:0;color:gray;background-color:gray\">"
   ]
  },
  {
   "cell_type": "markdown",
   "metadata": {},
   "source": [
    "<div class=\"alert alert-warning\">\n",
    "    <b>Box 10</b><br>\n",
    "    \n",
    "The mass of the observable universe is $~10^{53}$ kg. Calculate the event horizon for a black hole with such a mass. Compare that to the radius of the observable universe ($4.4 \\times 10^{26}$ m). If they are close (within a few orders of magnitude is considered extremely close on cosmological scale), it could imply that our universe is indeed inside a black hole, in which case we would be a 3D hologram of a 2D surface inside the black hole.\n",
    "    \n",
    "</div>"
   ]
  },
  {
   "cell_type": "code",
   "execution_count": null,
   "metadata": {},
   "outputs": [],
   "source": [
    "# DIY Cell"
   ]
  },
  {
   "cell_type": "code",
   "execution_count": 40,
   "metadata": {
    "tags": [
     "hide-input",
     "hide-output"
    ]
   },
   "outputs": [
    {
     "name": "stdout",
     "output_type": "stream",
     "text": [
      "Radius of event horizon 1.485e+27 m\n"
     ]
    }
   ],
   "source": [
    "%reset -f\n",
    "\n",
    "import numpy as np\n",
    "\n",
    "G = 6.67e-11\n",
    "c = 2.997e8\n",
    "M = 10e53\n",
    "\n",
    "R = 2*G*M/c**2\n",
    "\n",
    "R = \"{:.3e}\".format(R)\n",
    "print('Radius of event horizon '+str(R)+' m')"
   ]
  },
  {
   "cell_type": "markdown",
   "metadata": {},
   "source": [
    "<hr style=\"height:2px;border-width:0;color:gray;background-color:gray\">"
   ]
  },
  {
   "cell_type": "markdown",
   "metadata": {},
   "source": [
    "<div class=\"alert alert-warning\">\n",
    "    <b>Box 11</b><br>\n",
    "    \n",
    "An astronaut is orbiting a black hole at a distance of $120.0$ km from its center. The black hole is $5.00$ times the mass of the Sun and has a Schwarzschild radius of $15.0$ km. The astronaut is positioned inside a spaceship such that one of her $0.030$ kg ears is $6.00$ cm farther from the black hole than the center of mass of her and the spacecraft and the other ear is $6.00$ cm closer.\n",
    "    \n",
    "1. What is the tension between her ears?\n",
    "2. Is the center of gravity of her head at the same point as the center of mass? Explain.\n",
    "    \n",
    "</div>"
   ]
  },
  {
   "cell_type": "code",
   "execution_count": null,
   "metadata": {},
   "outputs": [],
   "source": [
    "# DIY Cell"
   ]
  },
  {
   "cell_type": "code",
   "execution_count": 45,
   "metadata": {},
   "outputs": [
    {
     "name": "stdout",
     "output_type": "stream",
     "text": [
      "Tension between ears 2.76e+04 N\n",
      "The gravitional force is varying significantly across her head such that CG and CM are NOT at the same location.\n"
     ]
    }
   ],
   "source": [
    "%reset -f\n",
    "\n",
    "import numpy as np\n",
    "\n",
    "G = 6.67e-11\n",
    "M_sun = 1.9891e31\n",
    "M = 5*M_sun\n",
    "\n",
    "R = 120e3\n",
    "R1 = R - 0.06\n",
    "R2 = R + 0.06\n",
    "m = 0.030\n",
    "\n",
    "F1 = -G*M*m/R1**2\n",
    "F2 = -G*M*m/R2**2\n",
    "\n",
    "dF = np.abs(F2-F1)\n",
    "dF = \"{:.2e}\".format(dF)\n",
    "print('Tension between ears '+str(dF)+' N')\n",
    "\n",
    "print('The gravitional force is varying significantly across her head such that CG and CM are NOT at the same location.')"
   ]
  },
  {
   "cell_type": "markdown",
   "metadata": {},
   "source": [
    "<hr style=\"height:2px;border-width:0;color:gray;background-color:gray\">"
   ]
  }
 ],
 "metadata": {
  "celltoolbar": "Tags",
  "kernelspec": {
   "display_name": "Python 3 (ipykernel)",
   "language": "python",
   "name": "python3"
  },
  "language_info": {
   "codemirror_mode": {
    "name": "ipython",
    "version": 3
   },
   "file_extension": ".py",
   "mimetype": "text/x-python",
   "name": "python",
   "nbconvert_exporter": "python",
   "pygments_lexer": "ipython3",
   "version": "3.10.9"
  }
 },
 "nbformat": 4,
 "nbformat_minor": 2
}
