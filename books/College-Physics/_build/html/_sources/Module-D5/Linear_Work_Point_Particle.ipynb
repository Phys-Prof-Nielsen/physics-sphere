{
 "cells": [
  {
   "cell_type": "markdown",
   "metadata": {},
   "source": [
    "# Linear Work: Point Particle\n",
    "<hr style=\"height:2px\">"
   ]
  },
  {
   "cell_type": "markdown",
   "metadata": {},
   "source": [
    "## 1. Comparative Concept\n",
    "We previously explored the concept of <b>linear impulse</b> ($j_x$) as a <b>change in linear momentum</b>. This is also referred to as <b>momentum transfer</b>. This transfer of momentum (or motion) required a net force ($f_{{net}_x}$) acting on the particle through some time and was quantified through\n",
    "\n",
    "$$ j_x = f_{{net}_x}\\Delta t $$\n",
    "\n",
    "The key here is: the interaction is recorded over some time interval and associated with impulse (or change in momentum).\n",
    "\n",
    "<hr style=\"height:2px\">"
   ]
  },
  {
   "cell_type": "markdown",
   "metadata": {},
   "source": [
    "## 2. Linear Work: Point Particle\n",
    "Sometimes we may not have knowledge of the interaction (force) recorded over some time interval, but instead over some distance. For example, we may know that we are pushing a box with a force of 50 N a total distance of 15 m across a floor but do not know the time it took to do so. \n",
    "\n",
    "We define the <b>linear work</b> done on the point particle as\n",
    "\n",
    "<div class=\"alert alert-success\">\n",
    "$$ w = f_{{net}_x}\\Delta x \\tag{1}$$\n",
    "</div>\n",
    "\n",
    "where $f_{{net}_x}$ is the net applied force on the particle and $\\Delta x$ is the directed distance the force is acting over.\n",
    "We notice that both the force and the distance are associated with directions through the $x$-subscript, and that will be clarified in more details in the next phase of the course. For now, we will apply the following rule:\n",
    "\n",
    "<div class=\"alert alert-success\">\n",
    "    <li>If the applied force and direction of the motion are in <b>same</b> directions, then work is <b>positive</b>.</li>\n",
    "    <li>If the applied force and direction of motion are in <b>opposite</b> directions then work is <b>negative</b>.</li>\n",
    "    \n",
    "</div>\n",
    "\n",
    "We will see later that work is related to energy: <b>work is transfer of energy</b>. This transfer can take place within a system or between systems. \n",
    "<div class=\"alert alert-success\">\n",
    "    <li>If work is positive: energy is transferred to the system by the net external force.</li>\n",
    "    <li>if work is negative: energy is removed from the system by the net external force.</li>    \n",
    "</div>\n",
    "\n",
    "<hr style=\"height:2px\">"
   ]
  },
  {
   "cell_type": "markdown",
   "metadata": {},
   "source": [
    "### Example 1\n",
    "A box is being pushed across the floor by a pushing force of 25 N. There is a frictional force of 5.0 N. After the box has been pushed a distance of 12 m, how much work was done on the box by the net force? \n",
    "\n",
    "#### Solution\n",
    "If we let the pushing force act in the $+x$-direction, then the net force is $f_{{net}_x} = (+25) + (-5.0) = +20$ N and the work is\n",
    "\n",
    "$$ w = f_{{net}_x}\\Delta x = (+20)(12) = +240~\\textrm{Nm}$$\n",
    "\n",
    "\n",
    "**Evaluation**: The since the net force and direction of motion are the same, the work is positive. \n",
    "\n",
    "<hr style=\"height:2px\">"
   ]
  },
  {
   "cell_type": "markdown",
   "metadata": {},
   "source": [
    "<div class=\"alert alert-warning\">\n",
    "<b>Box 1</b><br>\n",
    "Consider the example above. The person stops pushing the box at $x = 12$ m, and the box is now sliding across the floor but comes to a stop at $x = 15$ m due to the 5.0 N friction force.    \n",
    "    <ol>\n",
    "        <li>What is the net force?</li>\n",
    "        <li>How much work was done by the net force?</li>\n",
    "        <li>Is work positive or negative in this case?</li>\n",
    "    </ol>\n",
    "\n",
    "</div>\n",
    "\n",
    "<hr style=\"height:2px\">"
   ]
  }
 ],
 "metadata": {
  "kernelspec": {
   "display_name": "Python 3 (ipykernel)",
   "language": "python",
   "name": "python3"
  },
  "language_info": {
   "codemirror_mode": {
    "name": "ipython",
    "version": 3
   },
   "file_extension": ".py",
   "mimetype": "text/x-python",
   "name": "python",
   "nbconvert_exporter": "python",
   "pygments_lexer": "ipython3",
   "version": "3.10.9"
  }
 },
 "nbformat": 4,
 "nbformat_minor": 4
}
