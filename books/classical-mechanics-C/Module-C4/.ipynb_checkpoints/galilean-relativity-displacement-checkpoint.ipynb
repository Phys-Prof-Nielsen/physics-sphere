{
 "cells": [
  {
   "cell_type": "markdown",
   "metadata": {},
   "source": [
    "# C4.3 Galilean Relativity: Displacement Measurement\n",
    "<hr style=\"height:2px;border-width:0;color:gray;background-color:gray\">"
   ]
  },
  {
   "cell_type": "markdown",
   "metadata": {},
   "source": [
    "## C4.3.1 Introduction\n",
    "\n",
    "This may sound similar to length measurement, but it is fundamentally different. Displacement by nature of its definition is the directional distance an object moves over a certain time interval.\n",
    "\n",
    "<div class=\"alert alert-info\">\n",
    "    \n",
    "An observer in $S'$ will observe to different positions $x'_1$ and $x'_2$ at two different times $t'_1$ and $t'_2$, while an observer in $S$ will observe $x_{1}(t_1)$ and $x_{2}(t_2)$. Hence, we have **two** events happening now instead of one.\n",
    "</div>\n",
    "\t\n",
    "Here, we showed two different notations for the position/time sets of observations such that we can become comfortable with both.\n",
    "    \n",
    "Please discuss this concept with your fellow student(s), neighbor, family, and/or friends to make sure you understand itand can differentiate between measurements of length and displacement.\n",
    "\n",
    "<hr style=\"height:2px;border-width:0;color:gray;background-color:gray\">"
   ]
  },
  {
   "cell_type": "markdown",
   "metadata": {},
   "source": [
    "## C4.3.2 Derivation\n",
    "\n",
    "We will now proceed to measure these two events in similar fashion as the previous case (no relative motion in $y$ and $z$), no need for time synchronization, and a relative constant velocity $\\vec{u}$ in $x$-direction of $S'$ relative to $S$. The events are characterized by\n",
    "\n",
    "* Event 1: ($x_1$,$t_1$) and ($x'_1$,$t'_1$)\n",
    "* Event 2: ($x_2$,$t_2$) and ($x'_2$,$t'_2$)\n",
    "    \n",
    "<img src=\"C4-fig3.1.png\" width=\"600\">\n",
    "\n",
    "Per definition of displacement, we have the following:\n",
    "\n",
    "* Observer $S'$: $\\Delta \\vec{x}' = \\vec{x}'_{2}(t'_{2}) - \\vec{x}'_{1}(t'_{1})$\n",
    "* Observer $S$: $\\Delta \\vec{x} = \\vec{x}_{2}(t_2) - \\vec{x}_{1}(t_1)$\n",
    "    \n",
    "From Newtonian physics point of view, the elapsed time interval $\\Delta t$ must be the same for both observers: $\\Delta t = t_2 - t_1 = t'_2 - t'_1$. We can then, by virtue of geometric vector algebra write the following relationship:\n",
    "\n",
    "$$ \\vec{x}_2 - \\vec{x}_1 = \\vec{x}'_2 + (\\vec{u}\\Delta t - \\vec{x}'_1) $$\n",
    "\n",
    "or \n",
    "\n",
    "$$ \\Delta\\vec{x} = \\Delta\\vec{x}' + \\vec{u}\\Delta t $$\n",
    "\n",
    "We can extrapolate this into the other directions to come up with the general rule(s) for displacement transformation:\n",
    "\n",
    "<div class=\"alert alert-success\">\n",
    "    \n",
    "$$ \\Delta\\vec{r}_{S} = \\Delta\\vec{r}'_{S'} + \\vec{u}\\Delta t \\tag{1}$$\n",
    "    \n",
    "$$ \\Delta\\vec{r}'_{S'} = \\Delta\\vec{r}_{S} - \\vec{u}\\Delta t' \\tag{2}$$\n",
    "</div>\n",
    "\n",
    "where we have put back the subscripts of reference frames for clarification (this becomes increasingly important to understand when we dwell into special relativity).\n",
    "\n",
    "With the transformation of displacement, it becomes straightforward to show the **Galilean velocity transformation**.\n",
    "\n",
    "<hr style=\"height:2px;border-width:0;color:gray;background-color:gray\">"
   ]
  },
  {
   "cell_type": "code",
   "execution_count": null,
   "metadata": {},
   "outputs": [],
   "source": []
  }
 ],
 "metadata": {
  "kernelspec": {
   "display_name": "Python 3 (ipykernel)",
   "language": "python",
   "name": "python3"
  },
  "language_info": {
   "codemirror_mode": {
    "name": "ipython",
    "version": 3
   },
   "file_extension": ".py",
   "mimetype": "text/x-python",
   "name": "python",
   "nbconvert_exporter": "python",
   "pygments_lexer": "ipython3",
   "version": "3.10.9"
  }
 },
 "nbformat": 4,
 "nbformat_minor": 2
}
