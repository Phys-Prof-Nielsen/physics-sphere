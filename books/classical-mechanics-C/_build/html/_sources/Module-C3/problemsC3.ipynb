{
 "cells": [
  {
   "cell_type": "markdown",
   "metadata": {},
   "source": [
    "# C3.2 Problems\n",
    "<hr style=\"height:2px;border-width:0;color:gray;background-color:gray\">"
   ]
  },
  {
   "cell_type": "markdown",
   "metadata": {},
   "source": [
    "<h2>Problem C3.1</h2>\n",
    "    </header>\n",
    "\n",
    "Consider a box of mass $m$ sliding down a frictionless incline of angle $\\theta$. Use the Lagrangrian to deterime the equation of motion of the box."
   ]
  },
  {
   "cell_type": "code",
   "execution_count": null,
   "metadata": {},
   "outputs": [],
   "source": [
    "# DIY Cell"
   ]
  },
  {
   "cell_type": "code",
   "execution_count": 1,
   "metadata": {
    "tags": [
     "hide-input",
     "hide-output"
    ]
   },
   "outputs": [],
   "source": [
    "%reset -f\n",
    "import sympy as sym\n",
    "import numpy as np"
   ]
  },
  {
   "cell_type": "markdown",
   "metadata": {},
   "source": [
    "<hr style=\"height:2px;border-width:0;color:gray;background-color:gray\">"
   ]
  },
  {
   "cell_type": "markdown",
   "metadata": {},
   "source": [
    "<h2>Problem C3.2</h2>\n",
    "    </header>\n",
    "\n",
    "Consider a simple pendulum with length $l$ and mass of the bob $m$. Use the Lagrangian to determine the equation of motion."
   ]
  },
  {
   "cell_type": "code",
   "execution_count": null,
   "metadata": {},
   "outputs": [],
   "source": [
    "# DIY Cell"
   ]
  },
  {
   "cell_type": "code",
   "execution_count": 2,
   "metadata": {
    "tags": [
     "hide-input",
     "hide-output"
    ]
   },
   "outputs": [],
   "source": [
    "%reset -f\n",
    "import sympy as sym\n",
    "import numpy as np"
   ]
  },
  {
   "cell_type": "markdown",
   "metadata": {},
   "source": [
    "<hr style=\"height:2px;border-width:0;color:gray;background-color:gray\">"
   ]
  },
  {
   "cell_type": "markdown",
   "metadata": {},
   "source": [
    "<h2>Problem C3.3</h2>\n",
    "    </header>\n",
    "\n",
    "Find the acceleration of the Half Atwood Machine assuming no friction between the surfaces, massless rope, and no friction between the pulley and the rope. Let the two masses be $m_1$ and $m_2$."
   ]
  },
  {
   "cell_type": "code",
   "execution_count": null,
   "metadata": {},
   "outputs": [],
   "source": [
    "# DIY Cell"
   ]
  },
  {
   "cell_type": "code",
   "execution_count": 30,
   "metadata": {
    "tags": [
     "hide-input",
     "hide-output"
    ]
   },
   "outputs": [
    {
     "name": "stdout",
     "output_type": "stream",
     "text": [
      "-g*m2 - 1.0*m1*Derivative(v2y(t), t) - 1.0*m2*Derivative(v2y(t), t)\n"
     ]
    }
   ],
   "source": [
    "%reset -f\n",
    "import sympy as sym\n",
    "import numpy as np\n",
    "\n",
    "#assuming standard xy located on table\n",
    "\n",
    "m1,m2 = sym.symbols('m1,m2')\n",
    "g = sym.Symbol('g')\n",
    "x1,y1,x2,y2 = sym.symbols('x1,y1,x2,y2')\n",
    "v1x,v1y,v2x,v2y = sym.symbols('v1x,v1y,v2x,v2y')\n",
    "t = sym.Symbol('t')\n",
    "\n",
    "v2y = sym.Function('v2y')(t)\n",
    "# total kinetic and potential energies\n",
    "#k = 0.5*m1*v1x**2 + 0.5*m1*v1y**2 + 0.5*m2*v2x**2 + 0.5*m2*v2y**2\n",
    "#u = m1*g*y1 + m2*g*y2\n",
    "\n",
    "# Lagrangian\n",
    "#L = k + u\n",
    "\n",
    "# constraints\n",
    "#y1 = 0\n",
    "#x2 = D\n",
    "#l = (D - x1) - y2  # l: length of rope and D: length of table from origin\n",
    "\n",
    "#v1y = 0\n",
    "#v2x = 0\n",
    "#v2y = -v1x\n",
    "\n",
    "k = 0.5*m1*v2y**2 + 0.5*m2*v2y**2\n",
    "u = m2*g*y2\n",
    "L = k - u\n",
    "\n",
    "dum = sym.diff(L,v2y)\n",
    "\n",
    "eq = sym.diff(L,y2) - sym.diff(dum,t)\n",
    "print(eq)"
   ]
  },
  {
   "cell_type": "markdown",
   "metadata": {},
   "source": [
    "<hr style=\"height:2px;border-width:0;color:gray;background-color:gray\">"
   ]
  },
  {
   "cell_type": "markdown",
   "metadata": {},
   "source": [
    "<h2>Problem C3.4</h2>\n",
    "    </header>\n",
    "\n",
    "Find the acceleration of the Atwood Machine assuming no friction between the surfaces, massless rope, and no friction between the pulley and the rope. Let the two masses be $m_1$ and $m_2$."
   ]
  },
  {
   "cell_type": "code",
   "execution_count": null,
   "metadata": {},
   "outputs": [],
   "source": [
    "# DIY Cell"
   ]
  },
  {
   "cell_type": "markdown",
   "metadata": {},
   "source": [
    "<hr style=\"height:2px;border-width:0;color:gray;background-color:gray\">"
   ]
  }
 ],
 "metadata": {
  "celltoolbar": "Tags",
  "kernelspec": {
   "display_name": "Python 3 (ipykernel)",
   "language": "python",
   "name": "python3"
  },
  "language_info": {
   "codemirror_mode": {
    "name": "ipython",
    "version": 3
   },
   "file_extension": ".py",
   "mimetype": "text/x-python",
   "name": "python",
   "nbconvert_exporter": "python",
   "pygments_lexer": "ipython3",
   "version": "3.10.9"
  }
 },
 "nbformat": 4,
 "nbformat_minor": 4
}
