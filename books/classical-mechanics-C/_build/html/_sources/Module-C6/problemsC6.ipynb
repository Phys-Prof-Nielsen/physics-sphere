{
 "cells": [
  {
   "cell_type": "markdown",
   "metadata": {},
   "source": [
    "# C6.X Problems\n",
    "<hr style=\"height:2px;border-width:0;color:gray;background-color:gray\">"
   ]
  },
  {
   "cell_type": "markdown",
   "metadata": {},
   "source": [
    "<h2>Problem C6.1</h2>\n",
    "    </header>\n",
    "\n",
    "Consider a uniformly mass ring of radius $a$ with a total mass of $M$. The ring is situated in the $yz$-plane with the origin of reference frame at its center. \n",
    "\n",
    "1. Show that the gravitational field at a point $P$ along the x-axis is given by\n",
    "\n",
    "$$ \\vec{g} = -\\frac{GMx}{(x^2 + a^2)^{3/2}}\\hat{i}$$\n",
    "\n",
    "2. Show that the gtavitational field at a point P, where $x >> a$ is\n",
    "\n",
    "$$ \\vec{g} = -\\frac{GM}{x^2}\\hat{i}$$"
   ]
  },
  {
   "cell_type": "code",
   "execution_count": null,
   "metadata": {},
   "outputs": [],
   "source": [
    "# DIY Cell"
   ]
  },
  {
   "cell_type": "code",
   "execution_count": 1,
   "metadata": {
    "tags": [
     "hide-input",
     "hide-output"
    ]
   },
   "outputs": [],
   "source": [
    "%reset -f"
   ]
  },
  {
   "cell_type": "markdown",
   "metadata": {},
   "source": [
    "<hr style=\"height:2px;border-width:0;color:gray;background-color:gray\">"
   ]
  },
  {
   "cell_type": "markdown",
   "metadata": {},
   "source": [
    "<h2>Problem C6.2</h2>\n",
    "    </header>\n",
    "\n",
    "A mass charge $M$ is distributed uniformly along the y=axis between $y = +a$ and $y = -a$. \n",
    "\n",
    "1. Find the gravitational field at point P on the x-axis at a distance x from the origin.\n",
    "2. How does the gravitational field at P behave if the line charge is infinitely long?"
   ]
  },
  {
   "cell_type": "code",
   "execution_count": null,
   "metadata": {},
   "outputs": [],
   "source": [
    "# DIY Cell"
   ]
  },
  {
   "cell_type": "code",
   "execution_count": 16,
   "metadata": {
    "tags": [
     "hide-input",
     "hide-output"
    ]
   },
   "outputs": [
    {
     "name": "stdout",
     "output_type": "stream",
     "text": [
      "1.12837916709551*sqrt(pi)*a/(x**2.0*sqrt(a**2/x**2 + 1))\n",
      "0\n"
     ]
    }
   ],
   "source": [
    "%reset -f\n",
    "\n",
    "import sympy as sym\n",
    "from sympy.abc import a,x,y\n",
    "\n",
    "dEx = x/((x**2 + y**2)**(3/2))\n",
    "Ex = sym.integrate(dEx,(y,-a,a))\n",
    "print(Ex)\n",
    "\n",
    "dEy = y/((x**2 + y**2)**(3/2))\n",
    "Ey = sym.integrate(dEy,(y,-a,a))\n",
    "print(Ey)"
   ]
  },
  {
   "cell_type": "markdown",
   "metadata": {},
   "source": [
    "<hr style=\"height:2px;border-width:0;color:gray;background-color:gray\">"
   ]
  },
  {
   "cell_type": "markdown",
   "metadata": {},
   "source": [
    "<h2>Problem C6.3</h2>\n",
    "    </header>\n",
    "\n",
    "The mass charge per unit length on the thin semicircular wire shown below is $\\lambda$. What is the gravitational field at the point P?\n",
    "\n",
    "<img src=\"P-C6.3.png\" width=\"300\">"
   ]
  },
  {
   "cell_type": "code",
   "execution_count": null,
   "metadata": {},
   "outputs": [],
   "source": [
    "# DIY Cell"
   ]
  },
  {
   "cell_type": "code",
   "execution_count": null,
   "metadata": {},
   "outputs": [],
   "source": [
    "%reset -f"
   ]
  },
  {
   "cell_type": "markdown",
   "metadata": {},
   "source": [
    "<hr style=\"height:2px;border-width:0;color:gray;background-color:gray\">"
   ]
  }
 ],
 "metadata": {
  "celltoolbar": "Tags",
  "kernelspec": {
   "display_name": "Python 3 (ipykernel)",
   "language": "python",
   "name": "python3"
  },
  "language_info": {
   "codemirror_mode": {
    "name": "ipython",
    "version": 3
   },
   "file_extension": ".py",
   "mimetype": "text/x-python",
   "name": "python",
   "nbconvert_exporter": "python",
   "pygments_lexer": "ipython3",
   "version": "3.10.9"
  }
 },
 "nbformat": 4,
 "nbformat_minor": 4
}
