{
 "cells": [
  {
   "cell_type": "markdown",
   "metadata": {},
   "source": [
    "# C1.2 Galilean Relativity: Length Measurement\n",
    "<hr style=\"height:2px;border-width:0;color:gray;background-color:gray\">"
   ]
  },
  {
   "cell_type": "markdown",
   "metadata": {},
   "source": [
    "## C1.2.1 Motivation\n",
    "\n",
    "We may not put much effort into thinking about how to make a length measurements. However, over-thinking this problem will put us at an advantage when digging into special relativity. In physics, we actually have a very clear definition of what a length measurement is:\n",
    "\n",
    "<div class=\"alert alert-info\">\n",
    "    \n",
    "The length of an object at rest with respect to an observer is determined by measuring the difference between the spatial coordinates between the two end points. Since the object is at rest, we can perform the two measurements at **any** time. We call this length measurement the **proper lengt**.\n",
    "    \n",
    "In contrast, an observer moving relatively to the object must measure the positions of the two end points **simultaneously** in order to determine the correct length.\n",
    "</div>\n",
    "\n",
    "Please discuss this concept with your fellow student(s), neighbor, family, and/or friends to make sure you understand it. It would be great to explain it through examples.\n",
    "\n",
    "<hr style=\"height:2px;border-width:0;color:gray;background-color:gray\">"
   ]
  },
  {
   "cell_type": "markdown",
   "metadata": {},
   "source": [
    "## C1.2.2\n",
    "\n",
    "In the discussion below, we will label the two end points of the object with $A$ and $B$ and drop the subscripts $S$ and $S'$ as the primed coordinates give away which frame the measurements are observed. Instead, subscripts indicate which end points are measured. We are no longer concerning synchronizing the clocks, but we will consider the same orientation of reference frames.\n",
    "\n",
    "<img src=\"C4-fig2.1.png\" width=\"300\">\n",
    "\n",
    "From the above vector diagram (blue vectors), we have the following:\n",
    "\n",
    "* Observer $S'$: $L' = x'_{B} - x'_{A}$, where the two positions can be measured at **any time**.\n",
    "* Observer $S$: $L = x_{B} - x_{A}$, where the two positions **must** be taken **simultaneously**.\n",
    "\n",
    "<hr style=\"height:2px;border-width:0;color:gray;background-color:gray\">"
   ]
  },
  {
   "cell_type": "markdown",
   "metadata": {},
   "source": [
    "<div class=\"alert alert-warning\">\n",
    "    <b>Box 1</b><br>\n",
    "    \n",
    "Based on the above, show that the two observers will measure the same length, that is, show that\n",
    "\n",
    "$$L' = L$$\n",
    "    \n",
    "HINT: Express $x'_A$ in terms of $x_A$ and $u\\Delta t$ and similarly for $x'_B$.\n",
    "</div>\n",
    "<hr style=\"height:2px;border-width:0;color:gray;background-color:gray\">"
   ]
  }
 ],
 "metadata": {
  "kernelspec": {
   "display_name": "Python 3 (ipykernel)",
   "language": "python",
   "name": "python3"
  },
  "language_info": {
   "codemirror_mode": {
    "name": "ipython",
    "version": 3
   },
   "file_extension": ".py",
   "mimetype": "text/x-python",
   "name": "python",
   "nbconvert_exporter": "python",
   "pygments_lexer": "ipython3",
   "version": "3.10.9"
  }
 },
 "nbformat": 4,
 "nbformat_minor": 2
}