{
 "cells": [
  {
   "cell_type": "markdown",
   "metadata": {},
   "source": [
    "# C4.4 Galilean Relativity: Velocity Transformation\n",
    "<hr style=\"height:2px;border-width:0;color:gray;background-color:gray\">"
   ]
  },
  {
   "cell_type": "markdown",
   "metadata": {},
   "source": [
    "<div class=\"alert alert-warning\">\n",
    "    <b>Box 1</b><br>\n",
    "    \n",
    "Your teacher was waiting at Maibara Station to board the Kodama shinkansen for Osaka when the Nozomi shinkansen blasted through at $350.0$ km/hr. Exactly 3 seconds later a bird was seen tumbling through the air, due to the passage of the train, $30.0$ m down the tracks in the direction of the train motion. From the station, the bird was estimated to be at a height of $20.0$ m right above the tracks. Fortunately, the bird overcame its initial trauma and flew in a straight line down the track in the direction of the train while maintaining its altitude. After additional 5 seconds (exactly) passed, the bird was $80.0$ m down the tracks.\n",
    "\n",
    "1. What was the velocity of the bird as seen by your teacher?\n",
    "2. What was the velocity of the bird as seen by the passenger on the train?\n",
    "  \n",
    "</div>\n",
    "<hr style=\"height:2px;border-width:0;color:gray;background-color:gray\">"
   ]
  },
  {
   "cell_type": "markdown",
   "metadata": {},
   "source": [
    "## C4.4.1 Velocity Transformation\n",
    "\n",
    "The velocity transformation is required when an object is moving relative to an observer and a second observer is moving relative to the first observer. While this sounds more complicated, the transformation between velocities are straightforward when we have established the displacement transformation. Even better, as per Example 1 in <i>Galilean Relativity: Coordinate Transformation</i> notes, we have great intuitive understanding of how to transform these velocities. \n",
    "\n",
    "Let us consider Equation (1) from the notes on the displacement transformation:\n",
    "\n",
    "$$ \\Delta\\vec{r}_{S} = \\Delta\\vec{r}'_{S'} + \\vec{u}\\Delta t $$\n",
    "\n",
    "If we divide through by $\\Delta t$ we get:\n",
    "\n",
    "$$ \\frac{\\Delta\\vec{r}_{S}}{\\Delta t} = \\frac{\\Delta\\vec{r}'_{S'}}{\\Delta t} + \\vec{u} $$\n",
    "\n",
    "and take the limit $\\Delta t \\rightarrow 0$:\n",
    "\n",
    "$$ \\frac{d\\vec{r}_{S}}{dt} = \\frac{d\\vec{r}'_{S'}}{dt} + \\vec{u} $$\n",
    "\n",
    "The derivatives of the position vectors are the respective velocities and we have the Galilean velocity transformation:\n",
    "\n",
    "<div class=\"alert alert-success\">\n",
    "    \n",
    "$$ \\vec{v}_{S} = \\vec{v}'_{S'} + \\vec{u} $$<br>\n",
    "</div>\n",
    "\n",
    "<hr style=\"height:2px;border-width:0;color:gray;background-color:gray\">"
   ]
  },
  {
   "cell_type": "markdown",
   "metadata": {},
   "source": [
    "<div class=\"alert alert-info\">\n",
    "    <b>Example: Box 1</b><br>\n",
    "    \n",
    "In Box 1, you may have used the change in position approach to find the velocity of the bird as seen from the train. A more straightforward approach is to apply the velocity transformation directly. In this case, we have that station observed velocity of the bird is $v_S = +10.0$ m/s while the relative velocity between station observer and train observer is $u = +97.22$ m/s, yielding an answer of $v'_{S} = -87.2$ m/s.\n",
    "    </div>\n",
    "<hr style=\"height:2px;border-width:0;color:gray;background-color:gray\">"
   ]
  },
  {
   "cell_type": "markdown",
   "metadata": {},
   "source": [
    "<div class=\"alert alert-warning\">\n",
    "    <b>Box 2</b><br>\n",
    "    \n",
    "In an introductory laboratory experiment, students are colliding two objects head-on along (assume $x$-axis). The first object has a mass of $3.0$ kg and initial velocity $+4.0$ m/s. The second object has a mass of $1.0$ kg and initial velocity $-3.0$ m/s. After the collision, the second object has a velocity $+3.0$ m/s as measured in the laboratory frame.\n",
    "    \n",
    "1. The momentum of an object is defined as $\\vec{p} = m\\vec{v}$. What is the initial momentum of the system (add the momentum of each object to obtain the total momentum) in the laboratory frame?\n",
    "2. What is the velocity of the first object after the collision as measured in the laboratory frame assuming the total momentum stays constant?\n",
    "    \n",
    "</div>\n",
    "<hr style=\"border:1px solid gray\"> </hr>"
   ]
  },
  {
   "cell_type": "markdown",
   "metadata": {},
   "source": [
    "<div class=\"alert alert-warning\">\n",
    "    <b>Box 3</b><br>\n",
    "    \n",
    "Consider the problem from previous Box. A student is walking at a speed of $2.0$ m/s as measured with respect to the laboratory frame and in the same direction as the $+x$-axis for the experiment. What are system momenta before and after the collision as observed by this student? What can you say about conservation of momentum for this student in comparison to the previous box?  \n",
    "\n",
    "</div>\n",
    "<hr style=\"border:1px solid gray\"> </hr>"
   ]
  },
  {
   "cell_type": "markdown",
   "metadata": {},
   "source": [
    "<div class=\"alert alert-warning\">\n",
    "    <b>Box 4</b><br>\n",
    "    \n",
    "During a beta-decay, a radioactive material ejects two electrons in opposite directions. From the laboratory reference frame, the first electron is ejected with a velocity of $+0.6c$ while the second electron is ejected at a velocity of $-0.7c$. Here $c$ is the speed of light in vacuum. According to the Galilean velocity transformation, what is the velocity of the second electron as observed by the first electron? Comment on your result. \n",
    "\n",
    "</div>\n",
    "<hr style=\"border:1px solid gray\"> </hr>"
   ]
  }
 ],
 "metadata": {
  "kernelspec": {
   "display_name": "Python 3 (ipykernel)",
   "language": "python",
   "name": "python3"
  },
  "language_info": {
   "codemirror_mode": {
    "name": "ipython",
    "version": 3
   },
   "file_extension": ".py",
   "mimetype": "text/x-python",
   "name": "python",
   "nbconvert_exporter": "python",
   "pygments_lexer": "ipython3",
   "version": "3.10.9"
  }
 },
 "nbformat": 4,
 "nbformat_minor": 2
}