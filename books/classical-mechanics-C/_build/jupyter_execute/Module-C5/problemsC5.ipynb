{
 "cells": [
  {
   "cell_type": "markdown",
   "metadata": {},
   "source": [
    "# C5.X Problems\n",
    "<hr style=\"height:2px;border-width:0;color:gray;background-color:gray\">"
   ]
  },
  {
   "cell_type": "markdown",
   "metadata": {},
   "source": [
    "<h2>Problem C5.1</h2>\n",
    "    </header>\n",
    "\n",
    "Which of the following forces are conservative? If conservative, find the potential energy $U(r)$. \n",
    "\n",
    "1. $\\vec{F} = (ayz + bx + c)\\hat{i} + (axz + bz)\\hat{j} + (axy + by)\\hat{k}$\n",
    "\n",
    "2. $\\vec{F} = (-z\\textrm{e}^{-x})\\hat{i} + \\textrm{ln}(z)\\hat{j} + (\\textrm{e}^x + y/z)\\hat{k}$\n",
    "\n",
    "3. $\\vec{F} = \\frac{a}{r}\\hat{e}_r $\n",
    "\n",
    "(a, b, care constants).\n",
    "\n",
    "*This is Problem 2.53 in Marion and Thornton*"
   ]
  },
  {
   "cell_type": "code",
   "execution_count": 1,
   "metadata": {},
   "outputs": [],
   "source": [
    "# DIY Cell"
   ]
  },
  {
   "cell_type": "markdown",
   "metadata": {},
   "source": [
    "<hr style=\"height:2px;border-width:0;color:gray;background-color:gray\">"
   ]
  },
  {
   "cell_type": "markdown",
   "metadata": {},
   "source": [
    "<h2>Problem C5.2</h2>\n",
    "    </header>\n",
    "\n",
    "Consider a particle moving in the region $x >0$ under the influence of the potential $U(x) = U_{0}\\left( \\frac{a}{x} + \\frac{x}{a} \\right)$ where $U_0 = 1$ J and $a = 2$ m. Plot the potential, find the equilibrium points, and determine whether they are maxima or minima.\n",
    "\n",
    "*This is Problem 2.47 in Marion and Thornton*"
   ]
  },
  {
   "cell_type": "code",
   "execution_count": 2,
   "metadata": {},
   "outputs": [],
   "source": [
    "# DIY Cell"
   ]
  },
  {
   "cell_type": "markdown",
   "metadata": {},
   "source": [
    "<hr style=\"height:2px;border-width:0;color:gray;background-color:gray\">"
   ]
  },
  {
   "cell_type": "markdown",
   "metadata": {},
   "source": [
    "<h2>Problem C5.3</h2>\n",
    "    </header>\n",
    "    \n",
    "A commonly used potential energy function to describe the interaction between two atoms is the Lennard-Jones 6-12 potential given by\n",
    "\n",
    "$$ U = \\epsilon \\left[ \\left( \\frac{r_0}{r}\\right)^{12} - 2\\left( \\frac{r_0}{r}\\right)^6 \\right] $$\n",
    "\n",
    "\n",
    "where $\\epsilon$ and $r_0$ are constants.\n",
    "\n",
    "1. Find the position of the potential minimum and its value.\n",
    "2. Near the minimum the atoms execute simple harmonic motion. Find the frequency of oscillation.\n",
    "\n",
    "*This is Problem 5.12 in Kleppner and Kolenkow*"
   ]
  },
  {
   "cell_type": "code",
   "execution_count": 3,
   "metadata": {
    "collapsed": true
   },
   "outputs": [],
   "source": [
    "# DIY Cell"
   ]
  },
  {
   "cell_type": "markdown",
   "metadata": {},
   "source": [
    "<hr style=\"height:2px;border-width:0;color:gray;background-color:gray\">"
   ]
  },
  {
   "cell_type": "markdown",
   "metadata": {},
   "source": [
    "<h2>Problem C5.4</h2>\n",
    "    </header>\n",
    "    \n",
    "A particle is under the influence of a force $F_x = -kx + \\frac{kx^3}{\\alpha^2}$ where $k$ and $\\alpha$ are\n",
    "constants and $k$ is positive. \n",
    "\n",
    "1. Determine $U(x)$ and discuss the motion. \n",
    "2. What happens when $ E = \\frac{1}{4}k\\alpha^2$?\n",
    "\n",
    "*This is Problem 2.43 in Marion and Thornton*"
   ]
  },
  {
   "cell_type": "code",
   "execution_count": 4,
   "metadata": {},
   "outputs": [],
   "source": [
    "# DIY Cell"
   ]
  },
  {
   "cell_type": "markdown",
   "metadata": {},
   "source": [
    "<hr style=\"height:2px;border-width:0;color:gray;background-color:gray\">"
   ]
  },
  {
   "cell_type": "markdown",
   "metadata": {},
   "source": [
    "<h2>Problem C5.5</h2>\n",
    "    </header>\n",
    "\n",
    "A particle of mass m moving in one dimension has potential energy $U(x) = U_{0}\\left[ 2\\left( \\frac{x}{a} \\right)^2 - \\left( \\frac{x}{a} \\right)^4 \\right]$, where $U_0$ and $a$ are positive constants. \n",
    "\n",
    "1. Find the force $F_x(x)$, which acts on the particle. \n",
    "2. Sketch $U(x)$. Find the positions of stable and unstable equilibrium. \n",
    "3. What is the angular frequency $\\omega$ of oscillations about the point of stable equilibrium? \n",
    "4. What is the minimum speed the particle must have at the origin to escape to infinity? \n",
    "5. At $t = 0$ the particle is at the origin and its velocity is positive and equal in magnitude to the escape speed of part \n",
    "6. Find $x(t)$ and sketch the result.\n",
    "\n",
    "*This is Problem 2.52 in Marion and Thornton*"
   ]
  },
  {
   "cell_type": "code",
   "execution_count": 5,
   "metadata": {},
   "outputs": [],
   "source": [
    "# DIY Cell"
   ]
  },
  {
   "cell_type": "markdown",
   "metadata": {},
   "source": [
    "<hr style=\"height:2px;border-width:0;color:gray;background-color:gray\">"
   ]
  }
 ],
 "metadata": {
  "celltoolbar": "Tags",
  "kernelspec": {
   "display_name": "Python 3 (ipykernel)",
   "language": "python",
   "name": "python3"
  },
  "language_info": {
   "codemirror_mode": {
    "name": "ipython",
    "version": 3
   },
   "file_extension": ".py",
   "mimetype": "text/x-python",
   "name": "python",
   "nbconvert_exporter": "python",
   "pygments_lexer": "ipython3",
   "version": "3.10.9"
  }
 },
 "nbformat": 4,
 "nbformat_minor": 4
}