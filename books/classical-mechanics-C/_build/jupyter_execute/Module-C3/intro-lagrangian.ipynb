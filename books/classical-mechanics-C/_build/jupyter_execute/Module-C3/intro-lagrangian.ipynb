{
 "cells": [
  {
   "cell_type": "markdown",
   "id": "ff1b9979",
   "metadata": {},
   "source": [
    "# C3.1 Introduction to the Lagrangian\n",
    "<hr style=\"height:2px;border-width:0;color:gray;background-color:gray\">"
   ]
  },
  {
   "cell_type": "markdown",
   "id": "c2afaa7b",
   "metadata": {},
   "source": [
    "## C3.1.1 Motivation\n",
    "\n",
    "In contrast to the observation-based Newtonian formalism, modern physics is build around a single principle known as **Hamilton's principle**. This is the principle behind our four quantum field theories (including current hypotheses for quantum field theory). The equations come to form using a quantized action integral over the Lagrangian and it is therefore considered the classical piece leading to modern physics. In a pure mathematical consideration, the action integral is the integral on which a certain function is stationary (maxima or minima) under variations (calculus of variations). \n",
    "\n",
    "Path integrals are often difficult to solve, and thanks to Lagrange and Euler, we can show that the stationary action path integral is the equivalent of solving a differential equation known as the Euler-Lagrange Equation.\n",
    "\n",
    "The Euler-Lagrange equation can, for example, be used to show the shortest path between two points in a given space/surface (like a straight line in cartesian coordinates or a great circle on a sphere) or reveal the equation of motion.\n",
    "\n",
    "Newton's 2nd law is undoubtly one of the most applied tools in physics and engineering, but it quickly falls short when we try to solve problems not suitable for Cartesian coordinate system. We will see through applications, the beauty of the Lagrangian in that context.\n",
    "\n",
    "My own introduction to the Lagrangian at the University of Copenhagen was probably the single most exciting physics topic. It really allowed me to see E&M and Quantum Mechanics in a different perspective and significantly increased my understanding of those topics.\n",
    "\n",
    "The Lagrangian is a new topic and in most introductory textbooks it is presented together with **calculus of variaitons** and then directly applied to problems we would consider very difficult from a Newtonian standpoint. Instead, I will here present the Lagrangian without any background, and we will apply it to various problems we are used to from *University Physics I*. In this approach, we get to focus on how to use the Lagrangian instead of worrying about the problem itself. In Phase B we will go into more depth of the Lagrangian and hopefully then be able to focus more on the details rather than how to apply it \n",
    "\n",
    "<hr style=\"height:2px;border-width:0;color:gray;background-color:gray\">"
   ]
  },
  {
   "cell_type": "markdown",
   "id": "2bf9ec2d",
   "metadata": {},
   "source": [
    "## C3.2.2 Assumptions\n",
    "\n",
    "Before we define the Lagrangian and the Lagrange equation(s), we must establish the conditions under which we can apply it for now:\n",
    "\n",
    "1. Non-relativistic\n",
    "2. No electromagnetic fields\n",
    "3. No dissipative forces\n",
    "\n",
    "Under the three conditions above, we must modify the Lagrangian from what we will present now.\n",
    "\n",
    "<hr style=\"height:2px;border-width:0;color:gray;background-color:gray\">"
   ]
  },
  {
   "cell_type": "markdown",
   "id": "419ed445",
   "metadata": {},
   "source": [
    "## C3.2.3 Lagrangian and Lagrange Equation\n",
    "\n",
    "We define the **Lagrangian** as\n",
    "\n",
    "<div class=\"alert alert-success\">\n",
    "   \n",
    "$$ \\mathcal{L} = K - U $$\n",
    "</div>\n",
    "\n",
    "where $K$ is the kinetic energy and $U$ is the potential energy.\n",
    "\n",
    "The Lagrangian is a function of **generalized coordinates** $q_i$ and their associated time derivatives $\\dot{q}_i$. For most of our discussions, if not all, the generalized coordinates will be spatial coordinates but there is no requirement for them to be spatial coordinates.\n",
    "\n",
    "In this way, we can think of the Lagrangian as being a functional:\n",
    "\n",
    "$$ \\mathcal{L}(q_i,\\dot{q}_i, t) $$\n",
    "\n",
    "**Lagrange equations** are\n",
    "\n",
    "<div class=\"alert alert-success\">\n",
    "   \n",
    "$$ \\frac{\\partial\\mathcal{L}}{\\partial q_i} - \\frac{d}{dt}\\frac{\\partial\\mathcal{L}}{\\partial\\dot{q}_i} = 0 $$\n",
    "</div>\n",
    "\n",
    "Solving the Lagrange equation(s) will tell us the equation(s) of motion(s) just as Newton's 2nd law will. \n",
    "\n",
    "### A Note on Constraint\n",
    "<div class=\"alert alert-info\">\n",
    "   \n",
    "In the current application of Lagrangian we apply the equation(s) of constraint **before** inserting the Lagrangian into Lagrange equation(s).\n",
    "</div>\n",
    "\n",
    "<hr style=\"height:2px;border-width:0;color:gray;background-color:gray\">"
   ]
  },
  {
   "cell_type": "markdown",
   "id": "ade3df68",
   "metadata": {},
   "source": [
    "<div style=\"background-color: #D0D0D0 ; padding: 10px; border: 1px solid black;\">       \n",
    "<header>\n",
    "<h3> Example 1</h3>\n",
    "    </header>\n",
    "\n",
    "A block of mass $m$ is sliding with a constant velocity of $v$ along the +x direction. Find the equation of motion for the block in the x-direction.\n",
    "\n",
    "**Solution**\n",
    "    \n",
    "In this very simple case, the Lagrangian is simply:\n",
    "    \n",
    "$$ \\mathcal{L} = \\frac{1}{2}m\\dot{x}^2 $$\n",
    "    \n",
    "The generalized coordinate is $x$, and the Lagrange equation is\n",
    "    \n",
    "$$ \\frac{\\partial\\mathcal{L}}{\\partial x} - \\frac{d}{dt}\\frac{\\partial\\mathcal{L}}{\\partial\\dot{x}} = 0 $$\n",
    "\n",
    "Inserting the Lagrangian, we get:\n",
    "    \n",
    "$$ 0 - \\frac{d}{dt}(m\\dot{x}) = 0 $$\n",
    "    \n",
    "and finally,\n",
    "    \n",
    "$$ m\\ddot{x} = 0 $$\n",
    "    \n",
    "that is, the object is moving at a constant velocity as expected.\n",
    "    \n",
    "**NOTE**: We indirectly applied the equation of constraint: $y =$ constant here. This is an important feature and something we should be aware of.\n",
    "    \n",
    "</div>\n",
    "\n",
    "<hr style=\"height:2px;border-width:0;color:gray;background-color:gray\">"
   ]
  }
 ],
 "metadata": {
  "kernelspec": {
   "display_name": "Python 3 (ipykernel)",
   "language": "python",
   "name": "python3"
  },
  "language_info": {
   "codemirror_mode": {
    "name": "ipython",
    "version": 3
   },
   "file_extension": ".py",
   "mimetype": "text/x-python",
   "name": "python",
   "nbconvert_exporter": "python",
   "pygments_lexer": "ipython3",
   "version": "3.9.12"
  }
 },
 "nbformat": 4,
 "nbformat_minor": 5
}