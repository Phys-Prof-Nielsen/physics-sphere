{
 "cells": [
  {
   "cell_type": "markdown",
   "metadata": {},
   "source": [
    "# C1.2 Problems\n",
    "<hr style=\"height:2px;border-width:0;color:gray;background-color:gray\">"
   ]
  },
  {
   "cell_type": "markdown",
   "metadata": {},
   "source": [
    "<h2>Problem C1.1</h2>\n",
    "    </header>\n",
    "\n",
    "A particle moves in a plane with constant radial velocity $\\dot{r} = 4.0$ m/s, starting from the origin. The angular velocity is constant and has magnitude $\\dot\\theta = 2.0$ rad/s. When the particle is $3.0$ m from the origin, find the magnitude of \n",
    "\n",
    "1. the velocity \n",
    "2. the acceleration.\n",
    "\n",
    "This is Problem 1.21 in Kleppner and Kolenkov."
   ]
  },
  {
   "cell_type": "code",
   "execution_count": 1,
   "metadata": {},
   "outputs": [],
   "source": [
    "# Make your own script here"
   ]
  },
  {
   "cell_type": "code",
   "execution_count": 2,
   "metadata": {
    "tags": [
     "hide-input",
     "hide-output"
    ]
   },
   "outputs": [
    {
     "name": "stdout",
     "output_type": "stream",
     "text": [
      "The velocity is [4. 6.] m/s\n",
      " \n",
      "The speed is 7e+00 m/s\n",
      " \n",
      "The acceleration is [-12.  16.] m/s^2\n",
      " \n",
      "The magnitude of acceleration is 2e+01 m/s^2\n"
     ]
    }
   ],
   "source": [
    "%reset -f\n",
    "\n",
    "import numpy as np\n",
    "\n",
    "r_dot = 4.0\n",
    "theta_dot = 2.0\n",
    "r = 3.0\n",
    "r_ddot = 0.0\n",
    "theta_ddot = 0.0\n",
    "\n",
    "# Part 1\n",
    "v_r = r_dot\n",
    "v_theta = r*theta_dot\n",
    "v = np.array([v_r, v_theta])\n",
    "\n",
    "print('The velocity is '+str(v)+' m/s')\n",
    "\n",
    "v_mag = np.sqrt(v_r**2 + v_theta**2)\n",
    "v_mag = \"{:.0e}\".format(v_mag)\n",
    "print(' ')\n",
    "print('The speed is '+str(v_mag)+' m/s')\n",
    "\n",
    "# Part 2\n",
    "a_r = r_ddot - r*theta_dot**2\n",
    "a_theta = 2*r_dot*theta_dot + r*theta_ddot\n",
    "a = np.array([a_r, a_theta])\n",
    "\n",
    "print(' ')\n",
    "print('The acceleration is '+str(a)+' m/s^2')\n",
    "\n",
    "a_mag = np.sqrt(a_r**2 + a_theta**2)\n",
    "a_mag = \"{:.0e}\".format(a_mag)\n",
    "print(' ')\n",
    "print('The magnitude of acceleration is '+str(a_mag)+' m/s^2')"
   ]
  },
  {
   "cell_type": "markdown",
   "metadata": {},
   "source": [
    "<hr style=\"height:2px;border-width:0;color:gray;background-color:gray\">"
   ]
  }
 ],
 "metadata": {
  "celltoolbar": "Tags",
  "kernelspec": {
   "display_name": "Python 3 (ipykernel)",
   "language": "python",
   "name": "python3"
  },
  "language_info": {
   "codemirror_mode": {
    "name": "ipython",
    "version": 3
   },
   "file_extension": ".py",
   "mimetype": "text/x-python",
   "name": "python",
   "nbconvert_exporter": "python",
   "pygments_lexer": "ipython3",
   "version": "3.9.12"
  }
 },
 "nbformat": 4,
 "nbformat_minor": 4
}