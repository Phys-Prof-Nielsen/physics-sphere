{
 "cells": [
  {
   "cell_type": "markdown",
   "metadata": {},
   "source": [
    "# C2.2 Problems\n",
    "<hr style=\"height:2px;border-width:0;color:gray;background-color:gray\">"
   ]
  },
  {
   "cell_type": "markdown",
   "metadata": {},
   "source": [
    "<h2>Problem C2.1</h2>\n",
    "    </header>\n",
    "\n",
    "A fairground ride spins its occupants inside a flying saucer-shaped container. If the horizontal circular path the riders follow has an 8.00 m radius, at how many revolutions per minute are the riders subjected to a centripetal acceleration equal to that of gravity?\n",
    "\n",
    "This problem is a slightly modified version from OpenStax. [Access for free](https://openstax.org/books/university-physics-volume-1/pages/4-problems)"
   ]
  },
  {
   "cell_type": "code",
   "execution_count": 1,
   "metadata": {},
   "outputs": [],
   "source": [
    "# DIY Cell"
   ]
  },
  {
   "cell_type": "code",
   "execution_count": 2,
   "metadata": {
    "tags": [
     "hide-input",
     "hide-output"
    ]
   },
   "outputs": [
    {
     "name": "stdout",
     "output_type": "stream",
     "text": [
      "Angular velocity in rad/s = 1.10736172951751\n",
      "Angular velocity in rev/min = 10.5745255826101\n"
     ]
    }
   ],
   "source": [
    "%reset -f\n",
    "import sympy as sym\n",
    "import numpy as np\n",
    "\n",
    "a = -9.81\n",
    "R = 8.00\n",
    "\n",
    "#unknown variable: omega (angular speed)\n",
    "w = sym.Symbol('w')\n",
    "\n",
    "#equation to be solved: a = -rw^2 --> 0 = a + Rw^2\n",
    "eq1 = a + R*w**2\n",
    "\n",
    "sol1 = sym.solve(eq1,w)\n",
    "\n",
    "print('Angular velocity in rad/s = '+str(sol1[1]))\n",
    "\n",
    "w_rad = sol1[1]\n",
    "w_rev = w_rad*(1.0/(2*np.pi))*(60.0/1)\n",
    "print('Angular velocity in rev/min = '+str(w_rev))"
   ]
  },
  {
   "cell_type": "markdown",
   "metadata": {},
   "source": [
    "<hr style=\"height:2px;border-width:0;color:gray;background-color:gray\">"
   ]
  },
  {
   "cell_type": "markdown",
   "metadata": {},
   "source": [
    "<h2>Problem C2.2</h2>\n",
    "    </header>\n",
    "\n",
    "What is the ideal banking angle for a gentle turn of 1.20-km radius on a highway with a 105 km/h speed limit (about 65 mi/h), assuming everyone travels at the limit?\n",
    "\n",
    "This problem is a slightly modified version from OpenStax. [Access for free](https://openstax.org/books/university-physics-volume-1/pages/6-problems)"
   ]
  },
  {
   "cell_type": "code",
   "execution_count": 3,
   "metadata": {},
   "outputs": [],
   "source": [
    "# DIY Cell"
   ]
  },
  {
   "cell_type": "code",
   "execution_count": 4,
   "metadata": {
    "tags": [
     "hide-input",
     "hide-output"
    ]
   },
   "outputs": [
    {
     "name": "stdout",
     "output_type": "stream",
     "text": [
      "Ideal banking angle in degrees: 4.13325026089175\n"
     ]
    }
   ],
   "source": [
    "%reset -f\n",
    "import sympy as sym\n",
    "import numpy as np\n",
    "\n",
    "v = 105.0\n",
    "g = 9.81\n",
    "R = 1.20E3 #in meters\n",
    "\n",
    "#convert speed from km/hr to m/s\n",
    "v = v*(1000.0/1.0)*(1.0/3600.0)\n",
    "\n",
    "#unknown variables \n",
    "theta = sym.Symbol('theta')   #banking angle\n",
    "fn = sym.Symbol('fn')   #normal force\n",
    "m = sym.Symbol('m')   #mass\n",
    "\n",
    "#horizontal normal force provides the force for centripetal acceleration\n",
    "#vertical normal force is balanced by force of gravity\n",
    "\n",
    "eq1 = fn*sym.cos(theta) - m*g\n",
    "eq2 = -m*(v**2)/R + fn*sym.sin(theta)\n",
    "\n",
    "sol = sym.solve((eq1,eq2),(theta,fn))\n",
    "\n",
    "print('Ideal banking angle in degrees: '+str(sol[0][0]*180.0/np.pi))"
   ]
  },
  {
   "cell_type": "markdown",
   "metadata": {},
   "source": [
    "<hr style=\"height:2px;border-width:0;color:gray;background-color:gray\">"
   ]
  },
  {
   "cell_type": "markdown",
   "metadata": {},
   "source": [
    "<h2>Problem C2.3</h2>\n",
    "    </header>\n",
    "\n",
    "If a car takes a banked curve at less than the ideal speed, friction is needed to keep it from sliding toward the inside of the curve (a problem on icy mountain roads).\n",
    "\n",
    "1. Calculate the ideal speed to take a 100.0 m radius curve banked at 15.0$^\\circ$.\n",
    "2. What is the minimum coefficient of friction needed for a frightened driver to take the same curve at 20.0 km/h?\n",
    "\n",
    "This problem is a slightly modified version from OpenStax. [Access for free](https://openstax.org/books/university-physics-volume-1/pages/6-problems)"
   ]
  },
  {
   "cell_type": "code",
   "execution_count": 5,
   "metadata": {},
   "outputs": [],
   "source": [
    "# DIY Cell"
   ]
  },
  {
   "cell_type": "code",
   "execution_count": 6,
   "metadata": {
    "tags": [
     "hide-input",
     "hide-output"
    ]
   },
   "outputs": [
    {
     "name": "stdout",
     "output_type": "stream",
     "text": [
      "Ideal speed in m/s: 16.2129009672832\n",
      "Ideal speed in km/hr: 58.3664434822194\n"
     ]
    },
    {
     "name": "stdout",
     "output_type": "stream",
     "text": [
      "Coefficient of friction: 0.234510246558863\n"
     ]
    }
   ],
   "source": [
    "%reset -f\n",
    "import sympy as sym\n",
    "import numpy as np\n",
    "\n",
    "# PART 1\n",
    "#-------------------------\n",
    "# no friction\n",
    "g = 9.81\n",
    "R = 1.00E2 #in meters\n",
    "theta = 15.0*np.pi/180.0  #converted to radians\n",
    "\n",
    "#unknown variables \n",
    "v = sym.Symbol('v')   #speed\n",
    "fn = sym.Symbol('fn')   #normal force\n",
    "m = sym.Symbol('m')   #mass\n",
    "\n",
    "#horizontal forces provides the force for centripetal acceleration\n",
    "#vertical normal force is balanced by force of gravity\n",
    "\n",
    "eq1 = fn*sym.cos(theta) - m*g\n",
    "eq2 = -m*(v**2)/R + fn*sym.sin(theta)\n",
    "\n",
    "sol = sym.solve((eq1,eq2),(v,fn))\n",
    "\n",
    "print('Ideal speed in m/s: '+str(sol[1][0]))\n",
    "print('Ideal speed in km/hr: '+str(sol[1][0]*3600.0/1000.))\n",
    "#---------------------------\n",
    "\n",
    "# PART 1\n",
    "#-------------------------\n",
    "#with friction\n",
    "g = 9.81\n",
    "R = 1.00E2 #in meters\n",
    "theta = 15.0*np.pi/180.0  #converted to radians\n",
    "v = 20.0   #km/hr\n",
    "\n",
    "v = 20.0*(1000.0/1.0)*(1.0/3600.0)   #m/s\n",
    "\n",
    "#unknown variables \n",
    "mu = sym.Symbol('mu')   #coefficient of friction\n",
    "fn = sym.Symbol('fn')   #normal force\n",
    "ff = sym.Symbol('ff')   #friction force\n",
    "m = sym.Symbol('m')   #mass\n",
    "\n",
    "#horizontal forces provides the force for centripetal acceleration\n",
    "#vertical forces are balanced\n",
    "\n",
    "eq1 = fn*sym.cos(theta) - m*g + ff*sym.sin(theta)\n",
    "eq2 = -m*(v**2)/R + fn*sym.sin(theta) - ff*sym.cos(theta)\n",
    "eq3 = ff - fn*mu\n",
    "\n",
    "sol = sym.solve((eq1,eq2,eq3),(v,fn,ff,mu))\n",
    "\n",
    "print('Coefficient of friction: '+str(sol[0][3]))\n",
    "#---------------------------"
   ]
  },
  {
   "cell_type": "markdown",
   "metadata": {},
   "source": [
    "<hr style=\"height:2px;border-width:0;color:gray;background-color:gray\">"
   ]
  },
  {
   "cell_type": "markdown",
   "metadata": {},
   "source": [
    "<h2>Problem C2.4</h2>\n",
    "    </header>\n",
    "\n",
    "A car rounds an unbanked curve of radius 65 m. If the coefficient of static friction between the road and car is 0.70, what is the maximum speed at which the car can traverse the curve without slipping?\n",
    "\n",
    "This problem is a slightly modified version from OpenStax. [Access for free](https://openstax.org/books/university-physics-volume-1/pages/6-problems)"
   ]
  },
  {
   "cell_type": "code",
   "execution_count": 7,
   "metadata": {},
   "outputs": [],
   "source": [
    "# DIY Cell"
   ]
  },
  {
   "cell_type": "code",
   "execution_count": 8,
   "metadata": {
    "tags": [
     "hide-input",
     "hide-output"
    ]
   },
   "outputs": [
    {
     "name": "stdout",
     "output_type": "stream",
     "text": [
      "Speed: 21.1271152787123\n"
     ]
    }
   ],
   "source": [
    "%reset -f\n",
    "import sympy as sym\n",
    "import numpy as np\n",
    "\n",
    "\n",
    "g = 9.81\n",
    "R = 65.0\n",
    "mu = 0.70\n",
    "\n",
    "#unknown variables \n",
    "v = sym.Symbol('v')   #speed\n",
    "fn = sym.Symbol('fn')   #normal force\n",
    "ff = sym.Symbol('ff')   #friction force\n",
    "m = sym.Symbol('m')   #mass\n",
    "\n",
    "#horizontal frictional force provides the force for centripetal acceleration\n",
    "#vertical forces are balanced\n",
    "\n",
    "eq1 = fn - m*g \n",
    "eq2 = -m*(v**2)/R + ff\n",
    "eq3 = ff - fn*mu\n",
    "\n",
    "sol = sym.solve((eq1,eq2,eq3),(v,fn,ff))\n",
    "\n",
    "print('Speed: '+str(sol[1][0]))\n",
    "#---------------------------"
   ]
  },
  {
   "cell_type": "markdown",
   "metadata": {},
   "source": [
    "<hr style=\"height:2px;border-width:0;color:gray;background-color:gray\">"
   ]
  },
  {
   "cell_type": "markdown",
   "metadata": {},
   "source": [
    "<h2>Problem C2.5</h2>\n",
    "    </header>\n",
    "\n",
    "A particle of mass $m$ slides without friction on the inside of a cone. The axis of the cone is vertical, and gravity is directed downward. The apex half-angle of the cone is $\\theta$, as shown.\n",
    "The path of the particle happens to be a circle in a horizontal plane. The speed of the particle is $v_0$. Draw a force diagram and find the radius of the circular path in terms of $v_0$, $g$, and $\\theta$.\n",
    "\n",
    "<img src=\"P-C2.5.png\"  width=\"150\"/>\n",
    "\n",
    "This is Problem 2.6 in Kleppner and Kolenkow."
   ]
  },
  {
   "cell_type": "code",
   "execution_count": 9,
   "metadata": {},
   "outputs": [],
   "source": [
    "# DIY Cell"
   ]
  },
  {
   "cell_type": "markdown",
   "metadata": {},
   "source": [
    "<hr style=\"height:2px;border-width:0;color:gray;background-color:gray\">"
   ]
  },
  {
   "cell_type": "markdown",
   "metadata": {},
   "source": [
    "<h2>Problem C2.6</h2>\n",
    "    </header>\n",
    "\n",
    "Find the radius of the orbit of a synchronous satellite that circles the Earth. (A synchronous satellite goes around the Earth once every 24 h, so that its position appears stationary with respect to a ground station.) The simplest way to find the answer and give your results is by expressing all distances in terms of the Earth’s radius $R_e$.\n",
    "\n",
    "This is Problem 3.4 in Kleppner and Kolenkow."
   ]
  },
  {
   "cell_type": "code",
   "execution_count": 10,
   "metadata": {},
   "outputs": [],
   "source": [
    "# DIY Cell"
   ]
  },
  {
   "cell_type": "markdown",
   "metadata": {},
   "source": [
    "<hr style=\"height:2px;border-width:0;color:gray;background-color:gray\">"
   ]
  },
  {
   "cell_type": "markdown",
   "metadata": {},
   "source": [
    "<h2>Problem C2.7</h2>\n",
    "    </header>\n",
    "\n",
    "A mass $m$ is connected to a vertical revolving axle by two strings of length $l$, each making an angle of $45^\\circ$ with the axle, as shown. Both the axle and mass are revolving with angular velocity $\\omega$. Gravity is directed downward.\n",
    "\n",
    "1. Draw a clear force diagram for $m$.\n",
    "2. Find the tension in the upper string, $T_{up}$, and lower string, $T_{low}$.\n",
    "\n",
    "<img src=\"P-C2.7.png\"  width=\"150\"/>\n",
    "\n",
    "This is Problem 3.5 in Kleppner and Kolenkow."
   ]
  },
  {
   "cell_type": "code",
   "execution_count": 11,
   "metadata": {},
   "outputs": [],
   "source": [
    "# DIY Cell"
   ]
  },
  {
   "cell_type": "markdown",
   "metadata": {},
   "source": [
    "<hr style=\"height:2px;border-width:0;color:gray;background-color:gray\">"
   ]
  },
  {
   "cell_type": "markdown",
   "metadata": {},
   "source": [
    "<h2>Problem C2.8</h2>\n",
    "    </header>\n",
    "\n",
    "The gravitational force on a body located at distance $R$ from the center of a uniform spherical mass is due solely to the mass lying at distance $r \\le R$, measured from the center of the sphere. This mass exerts a force as if it were a point mass at the origin. Use this to show that if you drill a hole through the Earth and then fall in, you will execute simple harmonic motion about the Earth’s center. Find the time it takes you to return to your point of departure and show that this is the time needed for a satellite to circle the Earth in a low orbit with $r \\sim R_e$. In deriving this result, treat the Earth as a uniformly dense sphere, neglect friction, and neglect any effects due to the Earth’s rotation.\n",
    "\n",
    "This is Problem 3.15 in Kleppner and Kolenkow."
   ]
  },
  {
   "cell_type": "code",
   "execution_count": 12,
   "metadata": {},
   "outputs": [],
   "source": [
    "# DIY Cell"
   ]
  },
  {
   "cell_type": "markdown",
   "metadata": {},
   "source": [
    "<hr style=\"height:2px;border-width:0;color:gray;background-color:gray\">"
   ]
  },
  {
   "cell_type": "markdown",
   "metadata": {},
   "source": [
    "<h2>Problem C2.9</h2>\n",
    "    </header>\n",
    "\n",
    "A mass $m$ whirls around on a string which passes through a ring, as shown. Neglect gravity. Initially the mass is distance $r_0$ from the center and is revolving at angular velocity $\\omega_0$. The string is pulled with constant velocity $V$ starting at $t = 0$ so that the radial distance to the mass decreases. \n",
    "\n",
    "1. Draw a force diagram and obtain a differential equation for $\\omega$. This equation is quite simple and can be solved either by inspection or by formal integration. \n",
    "2. Find $\\omega(t)$\n",
    "3. Find the force needed to pull the string.\n",
    "\n",
    "This is Problem 3.22 in Kleppner and Kolenkow."
   ]
  },
  {
   "cell_type": "code",
   "execution_count": 13,
   "metadata": {},
   "outputs": [],
   "source": [
    "# DIY Cell"
   ]
  },
  {
   "cell_type": "markdown",
   "metadata": {},
   "source": [
    "<hr style=\"height:2px;border-width:0;color:gray;background-color:gray\">"
   ]
  }
 ],
 "metadata": {
  "celltoolbar": "Tags",
  "kernelspec": {
   "display_name": "Python 3 (ipykernel)",
   "language": "python",
   "name": "python3"
  },
  "language_info": {
   "codemirror_mode": {
    "name": "ipython",
    "version": 3
   },
   "file_extension": ".py",
   "mimetype": "text/x-python",
   "name": "python",
   "nbconvert_exporter": "python",
   "pygments_lexer": "ipython3",
   "version": "3.9.12"
  }
 },
 "nbformat": 4,
 "nbformat_minor": 4
}