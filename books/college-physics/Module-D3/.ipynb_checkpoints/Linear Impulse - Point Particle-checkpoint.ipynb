{
 "cells": [
  {
   "cell_type": "markdown",
   "metadata": {},
   "source": [
    "# Impulse: Point Particle\n",
    "<hr style=\"height:2px\">"
   ]
  },
  {
   "cell_type": "markdown",
   "metadata": {},
   "source": [
    "## 1. Review: Linear Momentum of a Point Particle\n",
    "We have seen that for most velocities related to everyday life, the magnitude of linear momentum for a point particle with mass $m$ and moving with a speed $v$ is\n",
    "\n",
    "<div class=\"alert alert-success\">\n",
    "$$ p = mv $$\n",
    "</div>\n",
    "\n",
    "and we define the momentum in 1D through a subscript such as \n",
    "\n",
    "<div class=\"alert alert-success\">\n",
    "$$p_x = mv_x$$\n",
    "</div>\n",
    "    \n",
    "The momentum in itself is really not that interesting. Instead, we are more interested in the change in momentum or the lack of change in momentum, which the following sections will explore.\n",
    "\n",
    "<hr style=\"height:2px\">"
   ]
  },
  {
   "cell_type": "markdown",
   "metadata": {},
   "source": [
    "## 2. Linear Impulse: Point Particle\n",
    "We will continue only discussing the topic in 1D motion, say $x$-direction. The linear impulse ($j_x$) of a point particle is defined as its change in linear momentum, or in layman's term <b>its change in motion</b>:\n",
    "\n",
    "<div class=\"alert alert-success\">\n",
    "$$ j_x = \\Delta p_x \\tag{1}$$\n",
    "</div>\n",
    "\n",
    "while the <b>magnitude</b> is simply given by \n",
    "\n",
    "$$j = |j_x|$$\n",
    "\n",
    "<hr style=\"height:2px\">"
   ]
  },
  {
   "cell_type": "markdown",
   "metadata": {},
   "source": [
    "### Example 1\n",
    "Calculate the impulse of a car (assuming it is a point particle for now) with a mass of $2000.0$ kg and initial speed $30.0$ m/s in the positive $x$-direction. At a later time, the speed of the car is $10.0$ m/s in the positive $x$-direction. Find its impulse (or change in motion).\n",
    "\n",
    "#### Solution\n",
    "From the definition of impulse, we have\n",
    "\n",
    "$$ j_x = \\Delta p_x $$\n",
    "\n",
    "$$ j_x = p_{x_f} - p_{x_i} $$\n",
    "\n",
    "where I used subscripts $f$ and $i$ to indicate final and initial momenta. Inserting our values and paying attention to the directions of motions:\n",
    "\n",
    "$$ j_x = (2000.0)(+10.0) - (2000.0)(+30.0) = -4.00\\times 10^4~\\textrm{kgm/s}$$\n",
    "\n",
    "\n",
    "**Evaluation**: The answer tells us that the impulse (or change in motion) is in the opposite direction of travel. That is, there is a loss of momentum. \n",
    "\n",
    "Later, we will introduce concepts of acceleration and force, and how they relate to impulse. Here, the impulse (or change in momentum) is caused by an interaction (force), which is in the same direction as the impulse. This is causing an acceleration in the the opposite direction of motion and causing the car to slow down in that direction.\n",
    "\n",
    "<hr style=\"height:2px\">"
   ]
  },
  {
   "cell_type": "markdown",
   "metadata": {},
   "source": [
    "<div class=\"alert alert-warning\">\n",
    "<b>Box 1</b><br>\n",
    "Calculate the impulse of a car (assuming it is a point particle for now) with a mass of $2000.0$ kg and initial speed $30.0$ m/s in the negative direction. At a later time, the speed of the car is $50.0$ m/s in the negative direction. <ol>\n",
    "    <li>Find its impulse (or change in motion). \n",
    "        <li>Find the magnitude of the impulse.\n",
    "    </ol>\n",
    "\n",
    "</div>\n",
    "\n",
    "<hr style=\"height:2px\">"
   ]
  },
  {
   "cell_type": "markdown",
   "metadata": {},
   "source": [
    "<div class=\"alert alert-warning\">\n",
    "<b>Box 2</b><br>\n",
    "Calculate the impulse of a car (assuming it is a point particle for now) with a mass of $2000.0$ kg and initial speed $30.0$ m/s in the negative direction. At a later time, the speed of the car is $30.0$ m/s in the positive direction. <ol>\n",
    "    <li>Find its impulse (or change in motion). \n",
    "        <li>Find the magnitude of the impulse.\n",
    "    </ol>\n",
    "\n",
    "</div>\n",
    "\n",
    "<hr style=\"height:2px\">"
   ]
  }
 ],
 "metadata": {
  "kernelspec": {
   "display_name": "Python 3 (ipykernel)",
   "language": "python",
   "name": "python3"
  },
  "language_info": {
   "codemirror_mode": {
    "name": "ipython",
    "version": 3
   },
   "file_extension": ".py",
   "mimetype": "text/x-python",
   "name": "python",
   "nbconvert_exporter": "python",
   "pygments_lexer": "ipython3",
   "version": "3.9.12"
  }
 },
 "nbformat": 4,
 "nbformat_minor": 4
}
