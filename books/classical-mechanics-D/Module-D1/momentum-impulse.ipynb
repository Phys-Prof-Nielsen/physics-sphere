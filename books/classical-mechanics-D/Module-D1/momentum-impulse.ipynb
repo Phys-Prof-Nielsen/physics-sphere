{
 "cells": [
  {
   "cell_type": "markdown",
   "metadata": {},
   "source": [
    "# D2.1 Linear Momentum and Impulse\n",
    "<hr style=\"height:2px;border-width:0;color:gray;background-color:gray\">"
   ]
  },
  {
   "cell_type": "markdown",
   "metadata": {},
   "source": [
    "## D2.1.1 Motivation\n",
    "\n",
    "Momentum is arguable the most fundamental concept in Newtonian mechanics. Newton's laws of motion talks about motion and change in motion, but does not specify what motion is.\n",
    "\n",
    "<div class=\"alert alert-success\">\n",
    "    \n",
    "Linear momentum <b>is</b> linear motion.\n",
    "</div>\n",
    "\n",
    "When motion, or momentum, for a particle is constant we know that the net interaction on it must be zero. Often we are more interested in the **change in motion** or change in momentum and that is where **impulse** comes in.\n",
    "    \n",
    "<hr style=\"height:2px;border-width:0;color:gray;background-color:gray\">"
   ]
  },
  {
   "cell_type": "markdown",
   "metadata": {},
   "source": [
    "## D2.1.2 Definition - Momentum\n",
    "\n",
    "We define the **classical linear momentum** of a particle with mass $m$ and moving with a velocity $\\vec{v}$ as\n",
    "\n",
    "<div class=\"alert alert-success\">\n",
    "    \n",
    "$$\\vec{p} = m\\vec{v} $$\n",
    "</div>\n",
    "\n",
    "Similarly, we define the **center of mass linear momentum** of an extended systme/object as\n",
    "\n",
    "<div class=\"alert alert-success\">\n",
    "    \n",
    "$$\\vec{P} = M\\vec{V} $$\n",
    "</div>\n",
    "\n",
    "where $M$ is the mass of the system and $\\vec{V}$ is the velocity of the center of mass.\n",
    "    \n",
    "<hr style=\"height:2px;border-width:0;color:gray;background-color:gray\">"
   ]
  },
  {
   "cell_type": "markdown",
   "metadata": {},
   "source": [
    "## D2.1.3 Definition - Impulse\n",
    "\n",
    "When a particle is subject to a force acting through some elapsed time, the force will **transfer momentum** to/from the particle depending on the interaction. The **momentum transfer** is also known as **impulse** and is defined as\n",
    "\n",
    "<div class=\"alert alert-success\">\n",
    "    \n",
    "$$\\vec{i} = \\int_{t_1}^{t_2}\\vec{f}dt $$\n",
    "</div>\n",
    "\n",
    "Similarly, we define the **center of mass impulse** of an extended systme/object as\n",
    "\n",
    "<div class=\"alert alert-success\">\n",
    "    \n",
    "$$\\vec{I} = \\int_{t_1}^{t_2}\\vec{F}dt $$\n",
    "</div>\n",
    "\n",
    "Notice that the definite integral implies a **change in** something, while the left side of the equations do not explicitly show a change. One should remember that the impulse is a **transfer** of momentum and therefore do represent changes.\n",
    "    \n",
    "<hr style=\"height:2px;border-width:0;color:gray;background-color:gray\">"
   ]
  },
  {
   "cell_type": "markdown",
   "metadata": {},
   "source": [
    "<div class=\"alert alert-warning\">\n",
    "<b>Box 1</b><br>\n",
    "    \n",
    "The area of a circle is $A(r) = \\pi r^2$. If we change the radius by a small amount $dr$, by how much will the area change?   \n",
    "</div>\n",
    "\n",
    "<hr style=\"height:2px;border-width:0;color:gray;background-color:gray\">"
   ]
  },
  {
   "cell_type": "markdown",
   "metadata": {},
   "source": [
    "## D2.1.4 Momentum-Impulse Theorem: Newton's 2nd Law\n",
    "\n",
    "Newton defined his 2nd law as: \"**A particle's motion will change upon a net interaction through some time**, and it is quantified in **differential form** as\n",
    "\n",
    "<div class=\"alert alert-success\">\n",
    "\n",
    "$$ d\\vec{p} = \\vec{f}_{net}dt \\tag{1}$$\n",
    "</div>\n",
    "\n",
    "We can then readily observe that the **net impulse** is the same as the particle's change in momentum in integral from:\n",
    "\n",
    "<div class=\"alert alert-success\">\n",
    "    \n",
    "$$\\Delta\\vec{p} = \\int_{t_1}^{t_2}\\vec{f}_{net}dt \\tag{2}$$\n",
    "</div>\n",
    "\n",
    "The **momentum-impulse theorem** is often stated in either form (1) or (2).\n",
    "\n",
    "In **derivative form**, we have the more common form of Newton's 2nd law:\n",
    "\n",
    "$$ \\vec{f} = \\frac{d\\vec{p}}{dt} $$\n",
    "\n",
    "<hr style=\"height:2px;border-width:0;color:gray;background-color:gray\">"
   ]
  }
 ],
 "metadata": {
  "celltoolbar": "Tags",
  "kernelspec": {
   "display_name": "Python 3 (ipykernel)",
   "language": "python",
   "name": "python3"
  },
  "language_info": {
   "codemirror_mode": {
    "name": "ipython",
    "version": 3
   },
   "file_extension": ".py",
   "mimetype": "text/x-python",
   "name": "python",
   "nbconvert_exporter": "python",
   "pygments_lexer": "ipython3",
   "version": "3.9.12"
  }
 },
 "nbformat": 4,
 "nbformat_minor": 2
}
