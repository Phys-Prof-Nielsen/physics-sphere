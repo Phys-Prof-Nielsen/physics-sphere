{
 "cells": [
  {
   "cell_type": "markdown",
   "id": "81a29136",
   "metadata": {},
   "source": [
    "# Block on Incline Plane Problem\n",
    "<hr style=\"height:2px;border-width:0;color:gray;background-color:gray\">"
   ]
  },
  {
   "cell_type": "markdown",
   "id": "4fb7066d",
   "metadata": {},
   "source": [
    "## Problem 1\n",
    "Consider a box sliding down a frictionless, inclined surface as shown in the figure. Find the acceleration of the block with respect to the given reference frame.\n",
    "<br>\n",
    "<img src=\"fig1.png\" width=\"400\">\n",
    "\n",
    "<hr style=\"height:2px;border-width:0;color:gray;background-color:gray\">"
   ]
  },
  {
   "cell_type": "markdown",
   "id": "35f4239e",
   "metadata": {},
   "source": [
    "## Problem 2\n",
    "Consider a box sliding down a frictionless, inclined surface as shown in the figure. Find the acceleration of the block with respect to the given reference frame.\n",
    "<br>\n",
    "<img src=\"fig2.png\" width=\"400\">\n",
    "\n",
    "<hr style=\"height:2px;border-width:0;color:gray;background-color:gray\">"
   ]
  },
  {
   "cell_type": "markdown",
   "id": "de90b630",
   "metadata": {},
   "source": [
    "## Problem 3\n",
    "Use your result from Problem 1, apply a coordinate transform to obtain the acceleration from Problem 2.\n",
    "\n",
    "<hr style=\"height:2px;border-width:0;color:gray;background-color:gray\">"
   ]
  }
 ],
 "metadata": {
  "kernelspec": {
   "display_name": "Python 3 (ipykernel)",
   "language": "python",
   "name": "python3"
  },
  "language_info": {
   "codemirror_mode": {
    "name": "ipython",
    "version": 3
   },
   "file_extension": ".py",
   "mimetype": "text/x-python",
   "name": "python",
   "nbconvert_exporter": "python",
   "pygments_lexer": "ipython3",
   "version": "3.10.9"
  }
 },
 "nbformat": 4,
 "nbformat_minor": 5
}
