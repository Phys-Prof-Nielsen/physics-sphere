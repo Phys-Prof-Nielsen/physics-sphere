{
 "cells": [
  {
   "cell_type": "markdown",
   "metadata": {},
   "source": [
    "# D Exam Practice\n",
    "<hr style=\"height:2px;border-width:0;color:gray;background-color:gray\">"
   ]
  },
  {
   "cell_type": "markdown",
   "metadata": {},
   "source": [
    "<h2>Problem 1</h2>\n",
    "    </header>\n",
    "\n",
    "A 0.5 kg particle is subject to a force given by $\\vec{f} = [(1.5t - 0.5y)\\hat{i} + (2.0t)\\hat{j}]$ N  from t = 0.0 s to t = 3.0 s. Let the initial position be $(x,y) = (0.0, 0.0)$ m and initial velocity be $\\vec{v} = [(1.0)\\hat{i} + (3.0)\\hat{j}]$ m/s.\n",
    "\n",
    "1. Use $\\vec{f} = m\\vec{a}$ to find the acceleration.\n",
    "\n",
    "2. Do the x- and y-components of the acceleration only depend on time?\n",
    "\n",
    "3. Would you need to know the y-position as a function of time before you can assess the x-position?\n",
    "\n",
    "4. Integrate the y-component of acceleration to obtain the general function of the y-position.\n",
    "\n",
    "5. Use the result from (4) to find the x-position as a function of time.\n",
    "\n",
    "6. Use the initial conditions given to find the final position of the particle.\n",
    "\n",
    "[This problem is a slightly modified version from OpenStax. Access for free](https://openstax.org/books/university-physics-volume-1/pages/10-problems)"
   ]
  },
  {
   "cell_type": "code",
   "execution_count": 11,
   "metadata": {},
   "outputs": [],
   "source": [
    "# Make your own script here"
   ]
  },
  {
   "cell_type": "markdown",
   "metadata": {},
   "source": [
    "<hr style=\"height:2px;border-width:0;color:gray;background-color:gray\">"
   ]
  },
  {
   "cell_type": "markdown",
   "metadata": {},
   "source": [
    "<h2>Problem 2</h2>\n",
    "    </header>\n",
    "\n",
    "A uniform 5.0 kg disk with a radius of 0.30 m iss initially spinning at a rate of 8.0 rad/s. After a tangential force is applied to the edge of the disk its spinning rate increased to 85.0 rad/s. The force is applied over 28.0 rev. \n",
    "\n",
    "1. What is the moment of inertia of the disk?\n",
    "\n",
    "2. Use the work-energy theorem to determine how much rotational work the applied force did on the disk.\n",
    "\n",
    "3. Write down an equation for the torque on the disk due to the applied force.\n",
    "\n",
    "4. Write down an equation for the rotational work on the disk due to the applied torque.\n",
    "\n",
    "5. Use (2) and (4) to find the applied force.\n",
    "\n",
    "[This problem is a slightly modified version from OpenStax. Access for free](https://openstax.org/books/university-physics-volume-1/pages/10-problems)"
   ]
  },
  {
   "cell_type": "code",
   "execution_count": null,
   "metadata": {},
   "outputs": [],
   "source": [
    "# Make your own script here"
   ]
  },
  {
   "cell_type": "markdown",
   "metadata": {},
   "source": [
    "<hr style=\"height:2px;border-width:0;color:gray;background-color:gray\">"
   ]
  },
  {
   "cell_type": "markdown",
   "metadata": {},
   "source": [
    "<h2>Problem D3</h2>\n",
    "    </header>\n",
    "\n",
    "A solid cylinder of radius 0.2 m and mass 25 kg is rolling along a horizontal floor. The CM speed is 0.50 m/s. Let the coordinate system be located such that +x is in the direction of cylinder motion and +y upward from the floor with the origin at the floor level. At some instant the cylinder is at x = +4.0 m. \n",
    "\n",
    "1. What is the position vector of the CM?\n",
    "\n",
    "2. What is the linear momentum vector of the CM\n",
    "\n",
    "3. Find the orbital angular momentum of the cylinder about the origin.\n",
    "\n",
    "4. What is the moment of inertia of the cylinder?\n",
    "\n",
    "5. What is the rotational speed of the cylinder?\n",
    "\n",
    "6. Find the spin angular momentum of the cylinder.\n",
    "\n",
    "7. What is the total angular momentum of the cylinder as measured from the origin?"
   ]
  },
  {
   "cell_type": "code",
   "execution_count": 6,
   "metadata": {},
   "outputs": [],
   "source": [
    "# DIY Cell"
   ]
  },
  {
   "cell_type": "markdown",
   "metadata": {},
   "source": [
    "<hr style=\"height:2px;border-width:0;color:gray;background-color:gray\">"
   ]
  },
  {
   "cell_type": "markdown",
   "metadata": {},
   "source": [
    "<h2>Problem D4</h2>\n",
    "    </header>\n",
    "\n",
    "A force acting on a particle is given by $\\vec{f} = [(0.5y)\\hat{i} + (2.0x^2)\\hat{j}]$ N and moves along a straight line from $(x,y) = (1,2)$ m to $(x,y) = (5,4)$ m\n",
    " \n",
    "1. Using a parameterization varaible $t$, parameterize $x$ as a function of $t$. HINT: Think of t being time, and recall from 1D kinematics with constant velocity we have: $x(t) = x_0 + v_{x}t$, which is a parameterizarion. Notice, in this case, t has no physical meaning as we could just as well have chosen any other letter for the parameterization variable.\n",
    "\n",
    "2. Repeat 1 but for $y$\n",
    "\n",
    "3. Express the force in terms of $t$ instead of $x$ and $y$ and establish the limits of t.\n",
    "\n",
    "4. Write down the differental $d\\vec{r}$ in terms of $dx$ and $dy$.\n",
    "\n",
    "5. Express the differentials $dx$ and $dy$ in terms of $dt$\n",
    "\n",
    "4. Write out the dot product $\\vec{f}\\cdot d\\vec{r}$ in terms of $f_x$, $f_y$, and $dt$.\n",
    "\n",
    "5. Perform the work integral to find the work done by this force along the given path. "
   ]
  },
  {
   "cell_type": "code",
   "execution_count": 1,
   "metadata": {},
   "outputs": [],
   "source": [
    "# DIY Cell"
   ]
  },
  {
   "cell_type": "markdown",
   "metadata": {},
   "source": [
    "<hr style=\"height:2px;border-width:0;color:gray;background-color:gray\">"
   ]
  }
 ],
 "metadata": {
  "celltoolbar": "Tags",
  "kernelspec": {
   "display_name": "Python 3 (ipykernel)",
   "language": "python",
   "name": "python3"
  },
  "language_info": {
   "codemirror_mode": {
    "name": "ipython",
    "version": 3
   },
   "file_extension": ".py",
   "mimetype": "text/x-python",
   "name": "python",
   "nbconvert_exporter": "python",
   "pygments_lexer": "ipython3",
   "version": "3.10.9"
  }
 },
 "nbformat": 4,
 "nbformat_minor": 4
}
