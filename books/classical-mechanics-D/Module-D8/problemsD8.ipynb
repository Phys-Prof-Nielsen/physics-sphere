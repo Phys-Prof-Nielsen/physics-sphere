{
 "cells": [
  {
   "cell_type": "markdown",
   "metadata": {},
   "source": [
    "# D8.2 Problems\n",
    "<hr style=\"height:2px;border-width:0;color:gray;background-color:gray\">"
   ]
  },
  {
   "cell_type": "markdown",
   "metadata": {},
   "source": [
    "<h2>Problem D8.1</h2>\n",
    "    </header>\n",
    "\n",
    "A uniform cylindrical grindstone has a mass of $10.0$ kg and a radius of $12$ cm. \n",
    "\n",
    "1. What is the rotational kinetic energy of the grindstone when it is rotating at $1.5\\times 10^3$ rev/min?\n",
    "2. After the grindstone’s motor is turned off, a knife blade is pressed against the outer edge of the grindstone with a perpendicular force of $5.0$ N. The coefficient of kinetic friction between the grindstone and the blade is $0.80$. Use the work energy theorem to determine how many turns the grindstone makes before it stops.\n",
    "\n",
    "[This problem is a slightly modified version from OpenStax. Access for free](https://openstax.org/books/university-physics-volume-1/pages/10-problems)"
   ]
  },
  {
   "cell_type": "code",
   "execution_count": 11,
   "metadata": {},
   "outputs": [],
   "source": [
    "# Make your own script here"
   ]
  },
  {
   "cell_type": "code",
   "execution_count": 1,
   "metadata": {
    "tags": [
     "hide-input",
     "hide-output"
    ]
   },
   "outputs": [],
   "source": [
    "%reset -f"
   ]
  },
  {
   "cell_type": "markdown",
   "metadata": {},
   "source": [
    "<hr style=\"height:2px;border-width:0;color:gray;background-color:gray\">"
   ]
  },
  {
   "cell_type": "markdown",
   "metadata": {},
   "source": [
    "<h2>Problem D8.2</h2>\n",
    "    </header>\n",
    "\n",
    "A $2.0$ kg block on a frictionless inclined plane at $40\\^circ$ has a cord attached to a pulley of mass $1.0$ kg and radius $20.0$ cm. The block slides a distance of $0.50$ m. \n",
    "\n",
    "1. What is the acceleration of the block down the plane? \n",
    "2. What is the work done by the cord on the pulley?\n",
    "\n",
    "<img src=\"D8-P8.2.png\"  width=\"400\"/>\n",
    "\n",
    "[This problem is a slightly modified version from OpenStax. Access for free](https://openstax.org/books/university-physics-volume-1/pages/10-problems)"
   ]
  },
  {
   "cell_type": "code",
   "execution_count": null,
   "metadata": {},
   "outputs": [],
   "source": [
    "# Make your own script here"
   ]
  },
  {
   "cell_type": "code",
   "execution_count": 52,
   "metadata": {
    "tags": [
     "hide-input",
     "hide-output"
    ]
   },
   "outputs": [
    {
     "name": "stdout",
     "output_type": "stream",
     "text": [
      "The mass must be 1.66666666666667 kg\n"
     ]
    }
   ],
   "source": [
    "%reset -f"
   ]
  },
  {
   "cell_type": "markdown",
   "metadata": {},
   "source": [
    "<hr style=\"height:2px;border-width:0;color:gray;background-color:gray\">"
   ]
  },
  {
   "cell_type": "markdown",
   "metadata": {},
   "source": [
    "<h2>Problem D8.3</h2>\n",
    "    </header>\n",
    "\n",
    "A thin plank of mass $M$ and length $l$ is pivoted at one end, as shown. The plank is released at $60.0^\\circ$ from the vertical. What is the magnitude and direction of the force on the pivot when the plank is horizontal?\n",
    "\n",
    "<img src=\"D8-P8.3.png\"  width=\"200\"/>\n",
    "\n",
    "This is Problem 7.20 in Kleppner and Kolenkov."
   ]
  },
  {
   "cell_type": "code",
   "execution_count": 6,
   "metadata": {
    "tags": [
     "hide-input",
     "hide-output"
    ]
   },
   "outputs": [],
   "source": [
    "%reset -f"
   ]
  },
  {
   "cell_type": "markdown",
   "metadata": {},
   "source": [
    "<hr style=\"height:2px;border-width:0;color:gray;background-color:gray\">"
   ]
  },
  {
   "cell_type": "markdown",
   "metadata": {},
   "source": [
    "<h2>Problem D8.4</h2>\n",
    "    </header>\n",
    "\n",
    "A marble of mass $M$ and radius $R$ is rolled up a plane of angle $\\theta$. If the initial velocity of the marble is $v_0$, what is the distance $l$ it travels up the plane before it begins to roll back down?\n",
    "\n",
    "This is Problem 7.25 in Kleppner and Kolenkov."
   ]
  },
  {
   "cell_type": "code",
   "execution_count": 7,
   "metadata": {},
   "outputs": [],
   "source": [
    "%reset -f"
   ]
  },
  {
   "cell_type": "markdown",
   "metadata": {},
   "source": [
    "<hr style=\"height:2px;border-width:0;color:gray;background-color:gray\">"
   ]
  }
 ],
 "metadata": {
  "celltoolbar": "Tags",
  "kernelspec": {
   "display_name": "Python 3 (ipykernel)",
   "language": "python",
   "name": "python3"
  },
  "language_info": {
   "codemirror_mode": {
    "name": "ipython",
    "version": 3
   },
   "file_extension": ".py",
   "mimetype": "text/x-python",
   "name": "python",
   "nbconvert_exporter": "python",
   "pygments_lexer": "ipython3",
   "version": "3.10.9"
  }
 },
 "nbformat": 4,
 "nbformat_minor": 4
}
