{
 "cells": [
  {
   "cell_type": "markdown",
   "metadata": {},
   "source": [
    "# D7.2 Newton's 2nd Law - Rotational Dynamics\n",
    "<hr style=\"height:2px;border-width:0;color:gray;background-color:gray\">"
   ]
  },
  {
   "cell_type": "markdown",
   "metadata": {},
   "source": [
    "## D7.2.1 Point Particle\n",
    "\n",
    "Newton's 2nd law for rotational motion is defined in a similar way as for linear motion: **force is rate of change of momentum**:\n",
    "\n",
    "<div class=\"alert alert-success\">\n",
    "    \n",
    "$$ \\vec{\\tau}_{net} = \\frac{d\\vec{l}}{dt}$$\n",
    "</div>\n",
    "\n",
    "The result of this depends on context. In general, we have\n",
    "\n",
    "$$ \\vec{\\tau}_{net} = \\frac{d\\vec{r}}{dt}\\times\\vec{p} + \\vec{r}\\times\\frac{d\\vec{p}}{dt} $$\n",
    "\n",
    "The first term is zero since the two vectors are in the same direction, and we are left with\n",
    "\n",
    "$$ \\vec{\\tau}_{net} = \\vec{r}\\times\\frac{d\\vec{p}}{dt} $$\n",
    "\n",
    "### Circular Motion\n",
    "\n",
    "If the particle is moving in a circular motion ($r = R = \\textrm{constant}$) in the xy-plane, then we can simplify further:\n",
    "\n",
    "$$ \\tau_{net_z} = mR^2\\alpha_z $$\n",
    "\n",
    "where we used that $a_t = R\\alpha_z$. "
   ]
  },
  {
   "cell_type": "markdown",
   "metadata": {},
   "source": [
    "## D7.2.2 Extended Object\n",
    "\n",
    "For the extended object it quickly becomes complicated, and for now we will only consider rotation limited to a fixed axis, say about the z-axis.\n",
    "\n",
    "In our analysis of the angular momentum of an extended object, we considered two different kinds of dynamics: spin (rotation about an internal axis) and orbital (rotation about an external axis).\n",
    "\n",
    "### Spin \n",
    "\n",
    "In this case, we defined the angular momentum as\n",
    "\n",
    "$$ L_z = I_{zz}\\Omega_z $$\n",
    "\n",
    "Applying Newton's 2nd law\n",
    "\n",
    "<div class=\"alert alert-success\">\n",
    "\n",
    "$$ \\mathcal{T}_{net_z} = I_{zz}\\mathcal{A}_z $$\n",
    "</div>\n",
    "\n",
    "### Orbital\n",
    "\n",
    "In this case, we defined the angular momentum as\n",
    "\n",
    "$$ L_{0_z} = (\\vec{R}\\times\\vec{P})_z $$\n",
    "\n",
    "Since it acts as a point particle located at the CM, applying Newton's 2nd law we get\n",
    "\n",
    "<div class=\"alert alert-success\">\n",
    "\n",
    "$$ \\mathcal{T}_{net_z} =  (\\vec{R}\\times\\vec{F}_{net})_z$$\n",
    "</div>\n",
    "\n",
    "### Combined Orbital and Spin\n",
    "\n",
    "Simply add the two together:\n",
    "\n",
    "$$ \\mathcal{T}_{net_z} = (I_{0}\\mathcal{A}_0)_z + (\\vec{R}\\times\\vec{F}_{net})_z$$\n",
    "\n",
    "where we made a clear distinction between the internal and external axes of rotation."
   ]
  },
  {
   "cell_type": "markdown",
   "metadata": {},
   "source": [
    "<hr style=\"height:2px;border-width:0;color:gray;background-color:gray\">"
   ]
  }
 ],
 "metadata": {
  "celltoolbar": "Tags",
  "kernelspec": {
   "display_name": "Python 3 (ipykernel)",
   "language": "python",
   "name": "python3"
  },
  "language_info": {
   "codemirror_mode": {
    "name": "ipython",
    "version": 3
   },
   "file_extension": ".py",
   "mimetype": "text/x-python",
   "name": "python",
   "nbconvert_exporter": "python",
   "pygments_lexer": "ipython3",
   "version": "3.10.9"
  }
 },
 "nbformat": 4,
 "nbformat_minor": 2
}