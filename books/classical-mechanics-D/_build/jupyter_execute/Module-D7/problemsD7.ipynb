{
 "cells": [
  {
   "cell_type": "markdown",
   "metadata": {},
   "source": [
    "# D7.3 Problems\n",
    "<hr style=\"height:2px;border-width:0;color:gray;background-color:gray\">"
   ]
  },
  {
   "cell_type": "markdown",
   "metadata": {},
   "source": [
    "<h2>Problem D7.1</h2>\n",
    "    </header>\n",
    "\n",
    "Two flywheels of negligible mass and different radii are bonded together and rotate about a common axis (see below). The smaller flywheel of radius 30 cm has a cord that has a pulling force of $50.0$ N on it. What pulling force needs to be applied to the cord connecting the larger flywheel of radius $50.0$ cm such that the combination does not rotate?\n",
    "\n",
    "<img src=\"D7-P7.1.png\"  width=\"400\"/>\n",
    "\n",
    "[This problem is a slightly modified version from OpenStax. Access for free](https://openstax.org/books/university-physics-volume-1/pages/10-problems)"
   ]
  },
  {
   "cell_type": "code",
   "execution_count": 1,
   "metadata": {},
   "outputs": [],
   "source": [
    "# Make your own script here"
   ]
  },
  {
   "cell_type": "code",
   "execution_count": 2,
   "metadata": {
    "tags": [
     "hide-input",
     "hide-output"
    ]
   },
   "outputs": [
    {
     "name": "stdout",
     "output_type": "stream",
     "text": [
      "F2 must be 30.0000000000000 N\n"
     ]
    }
   ],
   "source": [
    "%reset -f\n",
    "\n",
    "import sympy as sym\n",
    "\n",
    "#traditional xyz system (x to the right, y up, z out)\n",
    "R1 = 0.30\n",
    "R2 = 0.50\n",
    "\n",
    "F1 = 50.0\n",
    "\n",
    "F2 = sym.Symbol('F2')\n",
    "eq = R2*F2 - R1*F1\n",
    "sol = sym.solve(eq,F2)\n",
    "print('F2 must be '+str(sol[0])+' N')"
   ]
  },
  {
   "cell_type": "markdown",
   "metadata": {},
   "source": [
    "<hr style=\"height:2px;border-width:0;color:gray;background-color:gray\">"
   ]
  },
  {
   "cell_type": "markdown",
   "metadata": {},
   "source": [
    "<h2>Problem D7.2</h2>\n",
    "    </header>\n",
    "\n",
    "What hanging mass must be placed on the cord to keep the pulley from rotating (see the following figure)? The mass on the frictionless plane is $5.0$ kg. The mass on the plane is connected to a cord that wraps around the pulley’s inner radius of $20.0$ cm. The hanging mass is connected to a cord that wraps around the pulley’s outer radius of $30.0$ cm.\n",
    "\n",
    "<img src=\"D7-P7.2.png\"  width=\"400\"/>\n",
    "\n",
    "[This problem is a slightly modified version from OpenStax. Access for free](https://openstax.org/books/university-physics-volume-1/pages/10-problems)"
   ]
  },
  {
   "cell_type": "code",
   "execution_count": 3,
   "metadata": {},
   "outputs": [],
   "source": [
    "# Make your own script here"
   ]
  },
  {
   "cell_type": "code",
   "execution_count": 4,
   "metadata": {
    "tags": [
     "hide-input",
     "hide-output"
    ]
   },
   "outputs": [
    {
     "name": "stdout",
     "output_type": "stream",
     "text": [
      "The mass must be 1.66666666666667 kg\n"
     ]
    }
   ],
   "source": [
    "%reset -f\n",
    "\n",
    "import sympy as sym\n",
    "import numpy as np\n",
    "\n",
    "#traditional xyz system (x to the right, y up, z out)\n",
    "\n",
    "M1 = 5.0\n",
    "R1 = 0.20\n",
    "R2 = 0.30\n",
    "theta = np.radians(30.0)\n",
    "g = 9.81\n",
    "\n",
    "#unknowns\n",
    "F_T1 = sym.Symbol('F_T1') #tension force on 1\n",
    "F_T2 = sym.Symbol('F_T2') #tension force on 2\n",
    "F_N = sym.Symbol('F_N') # normal force on 1\n",
    "M2 = sym.Symbol('M2') #unknown mass of block 2\n",
    "\n",
    "\n",
    "#forces on 1\n",
    "# x\n",
    "F_T1x = F_T1*sym.cos(theta)\n",
    "F_Nx = -F_N*sym.sin(theta)\n",
    "#y\n",
    "F_T1y = F_T1*sym.sin(theta)\n",
    "F_Ny = F_N*sym.cos(theta)\n",
    "F_g1y = -M1*g \n",
    "\n",
    "#N2 for 1\n",
    "eq1x = F_T1x + F_Nx #net force = 0 since no acceleration\n",
    "eq1y = F_T1y + F_Ny + F_g1y\n",
    "\n",
    "#forces on 2\n",
    "#y\n",
    "F_T2y = F_T2\n",
    "F_g2y = -M2*g \n",
    "\n",
    "#N2 for 2\n",
    "eq2y = F_T2y + F_g2y #net force = 0\n",
    "\n",
    "#Torque on disk\n",
    "T2_z = F_T2*R2  #CW is +\n",
    "T1_z = -F_T1*R1 # CCW is -\n",
    " \n",
    "\n",
    "#N2 for disk\n",
    "eqDz = T2_z + T1_z #net torque = 0\n",
    "\n",
    "\n",
    "#solve\n",
    "sol = sym.solve((eq1x,eq1y,eq2y,eqDz),(F_T1, F_T2, F_N, M2))\n",
    "print('The mass must be '+str(sol[M2])+' kg')\n"
   ]
  },
  {
   "cell_type": "markdown",
   "metadata": {},
   "source": [
    "<hr style=\"height:2px;border-width:0;color:gray;background-color:gray\">"
   ]
  },
  {
   "cell_type": "markdown",
   "metadata": {},
   "source": [
    "<h2>Problem D7.3</h2>\n",
    "    </header>\n",
    "\n",
    "You have a grindstone (a disk) that is $90.0$ kg, has a $0.340$ m radius, and is turning at $90.0$ rpm, and you press a steel axe against it with a radial force of $20.0$ N. \n",
    "\n",
    "1. Assuming the kinetic coefficient of friction between steel and stone is $0.20$, calculate the angular acceleration of the grindstone. \n",
    "2. How many turns will the stone make before coming to rest?\n",
    "\n",
    "[This problem is a slightly modified version from OpenStax. Access for free](https://openstax.org/books/university-physics-volume-1/pages/10-problems)"
   ]
  },
  {
   "cell_type": "code",
   "execution_count": 5,
   "metadata": {
    "tags": [
     "hide-input",
     "hide-output"
    ]
   },
   "outputs": [],
   "source": [
    "%reset -f"
   ]
  },
  {
   "cell_type": "markdown",
   "metadata": {},
   "source": [
    "<hr style=\"height:2px;border-width:0;color:gray;background-color:gray\">"
   ]
  },
  {
   "cell_type": "markdown",
   "metadata": {},
   "source": [
    "<h2>Problem D7.4</h2>\n",
    "    </header>\n",
    "\n",
    "A pulley of moment of inertia $2.0$ kgm$^2$ is mounted on a wall as shown in the following figure. Light strings are wrapped around two circumferences of the pulley and weights are attached. Assume the following data: $r_1 = 50.0$ cm, $r_2 = 20.0$ cm, $m_1 = 1.0$ kg, and $m_2 = 2.0$ kg. What are \n",
    "\n",
    "1. the angular acceleration of the pulley \n",
    "2. the linear acceleration of the weights? \n",
    "\n",
    "<img src=\"D7-P7.4.png\"  width=\"200\"/>\n",
    "\n",
    "[This problem is a slightly modified version from OpenStax. Access for free](https://openstax.org/books/university-physics-volume-1/pages/10-problems)"
   ]
  },
  {
   "cell_type": "code",
   "execution_count": 6,
   "metadata": {
    "tags": [
     "hide-input",
     "hide-output"
    ]
   },
   "outputs": [],
   "source": [
    "%reset -f"
   ]
  },
  {
   "cell_type": "markdown",
   "metadata": {},
   "source": [
    "<hr style=\"height:2px;border-width:0;color:gray;background-color:gray\">"
   ]
  },
  {
   "cell_type": "markdown",
   "metadata": {},
   "source": [
    "<h2>Problem D7.5</h2>\n",
    "    </header>\n",
    "\n",
    "A uniform cylindrical drum of radius $R$ and mass $M$ rolls without slipping down and incline plane at angle $\\theta$. What is the linear acceleration of the the CM? Be very specific to the location/orientation of coordinate system.\n",
    "\n",
    "**Kleppner and Kolenkow has an excellent example of this problem, but try to not look at it before solving it yourself**."
   ]
  },
  {
   "cell_type": "code",
   "execution_count": 7,
   "metadata": {
    "tags": [
     "hide-input",
     "hide-output"
    ]
   },
   "outputs": [],
   "source": [
    "%reset -f"
   ]
  },
  {
   "cell_type": "markdown",
   "metadata": {},
   "source": [
    "<hr style=\"height:2px;border-width:0;color:gray;background-color:gray\">"
   ]
  },
  {
   "cell_type": "markdown",
   "metadata": {},
   "source": [
    "<h2>Problem D7.6</h2>\n",
    "    </header>\n",
    "\n",
    "A cylinder of mass $M$ and radius $R$ is rotated in a uniform V groove with constant angular speed $\\omega$. The coefficient of friction between the cylinder and each surface is $\\mu$. What torque must be applied to the cylinder to keep it rotating?\n",
    "\n",
    "<img src=\"D7-P7.6.png\"  width=\"200\"/>\n",
    "\n",
    "This is Problem 7.10 in Kleppner and Kolenkov."
   ]
  },
  {
   "cell_type": "code",
   "execution_count": 8,
   "metadata": {
    "tags": [
     "hide-input",
     "hide-output"
    ]
   },
   "outputs": [],
   "source": [
    "%reset -f"
   ]
  },
  {
   "cell_type": "markdown",
   "metadata": {},
   "source": [
    "<hr style=\"height:2px;border-width:0;color:gray;background-color:gray\">"
   ]
  },
  {
   "cell_type": "markdown",
   "metadata": {},
   "source": [
    "<h2>Problem D7.7</h2>\n",
    "    </header>\n",
    "\n",
    "A wheel is attached to a fixed shaft, and the system is free to rotate without friction. To measure the moment of inertia of the wheel–shaft system, a tape of negligible mass wrapped around the shaft is pulled with a known constant force $F$. When a length $L$ of tape has unwound, the system is rotating with angular speed $\\omega_0$. Find the moment of inertia $I_0$ of the system.\n",
    "\n",
    "<img src=\"D7-P7.7.png\"  width=\"200\"/>\n",
    "\n",
    "This is Problem 7.11 in Kleppner and Kolenkov."
   ]
  },
  {
   "cell_type": "code",
   "execution_count": 9,
   "metadata": {},
   "outputs": [],
   "source": [
    "%reset -f"
   ]
  },
  {
   "cell_type": "markdown",
   "metadata": {},
   "source": [
    "<hr style=\"height:2px;border-width:0;color:gray;background-color:gray\">"
   ]
  },
  {
   "cell_type": "markdown",
   "metadata": {},
   "source": [
    "<h2>Problem D7.8</h2>\n",
    "    </header>\n",
    "\n",
    "Drum A of mass $M$ and radius $R$ is suspended from a drum B also of mass $M$ and radius $R$, which is free to rotate around its axis. The suspension is in the form of a massless metal tape wound around the outside of each drum, and free to unwind, as shown. Gravity is directed downward. Both drums are initially at rest. Find the initial acceleration of drum A, assuming that it moves straight down.\n",
    "\n",
    "<img src=\"D7-P7.8.png\"  width=\"200\"/>\n",
    "\n",
    "This is Problem 7.24 in Kleppner and Kolenkov."
   ]
  },
  {
   "cell_type": "code",
   "execution_count": 10,
   "metadata": {},
   "outputs": [],
   "source": [
    "%reset -f"
   ]
  },
  {
   "cell_type": "markdown",
   "metadata": {},
   "source": [
    "<hr style=\"height:2px;border-width:0;color:gray;background-color:gray\">"
   ]
  },
  {
   "cell_type": "markdown",
   "metadata": {},
   "source": [
    "<h2>Problem D7.9</h2>\n",
    "    </header>\n",
    "\n",
    "A yo-yo of mass $M$ has an axle of radius $b$ and a spool of radius $R$. Its moment of inertia can be taken to be $\\frac{1}{2}MR^2$. The yo-yo is placed upright on a table and the string is pulled with a horizontal force $F$ as shown. The coefficient of friction between the yo-yo and the table is $\\mu$. What is the maximum value of $F$ for which the yo-yo will roll without slipping?\n",
    "\n",
    "<img src=\"D7-P7.9.png\"  width=\"200\"/>\n",
    "\n",
    "This is Problem 7.27 in Kleppner and Kolenkov."
   ]
  },
  {
   "cell_type": "code",
   "execution_count": 11,
   "metadata": {},
   "outputs": [],
   "source": [
    "%reset -f"
   ]
  },
  {
   "cell_type": "markdown",
   "metadata": {},
   "source": [
    "<hr style=\"height:2px;border-width:0;color:gray;background-color:gray\">"
   ]
  }
 ],
 "metadata": {
  "celltoolbar": "Tags",
  "kernelspec": {
   "display_name": "Python 3 (ipykernel)",
   "language": "python",
   "name": "python3"
  },
  "language_info": {
   "codemirror_mode": {
    "name": "ipython",
    "version": 3
   },
   "file_extension": ".py",
   "mimetype": "text/x-python",
   "name": "python",
   "nbconvert_exporter": "python",
   "pygments_lexer": "ipython3",
   "version": "3.10.9"
  }
 },
 "nbformat": 4,
 "nbformat_minor": 4
}