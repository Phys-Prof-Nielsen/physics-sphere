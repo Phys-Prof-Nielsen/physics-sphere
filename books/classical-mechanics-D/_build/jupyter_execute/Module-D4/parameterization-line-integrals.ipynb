{
 "cells": [
  {
   "cell_type": "markdown",
   "metadata": {},
   "source": [
    "## D4.3 Parameterization of Line Integrals\n",
    "<hr style=\"border:1px solid gray\"> </hr>"
   ]
  },
  {
   "cell_type": "markdown",
   "metadata": {},
   "source": [
    "## D4.3.1 Motivation\n",
    "\n",
    "In the *Introduction to Line Integrals*, we have been so fortunate that our paths were aligned well with the $xy$-directions in a cartesian coordinate system. However, often the world is not as nice and will serve us some humble pie when applying the approach above. For example, what if the path was part of a circle? Already then it appears messy to evaluate the dot product between our force and the line element. This is where **parameterization** comes in and saves us from mathematical humiliation (well, we may still be humiliated but then it is at least because of our own inability to do math). The approach of parameterization is a general approach to solving line integrals (or higher orders such surface and volume integrals as well. \n",
    "\n",
    "<hr style=\"height:2px;border-width:0;color:gray;background-color:gray\">"
   ]
  },
  {
   "cell_type": "markdown",
   "metadata": {},
   "source": [
    "## D4.3.2 Parameterization\n",
    "\n",
    "For simplicity, we will introduce the parameterization for a path in the $xy$-plane, but it should be evident how to extend it to the 3D plane. The starting point is to realize that **any** path can be described by some equation\n",
    "\n",
    "$$ g(x,y) = 0 $$\n",
    "\n",
    "This may not seem intuitive and we may just have to take the word of mathematicians on this one. An example is the equation of the unit circle, which can be represented by $g(x,y) = x^2 + y^2 - 1 = 0$. Each point along the path can be represented by some parameter $s$. This implies that we can write our $x$ and $y$ positions in terms of this parameter $s$: $x = x(s)$ and $y = y(s)$. When we are moving some distance $dl$, we will also change $s$ such that we have $ds$ as an infinitesimal change. The position differentials can then be written as (again, review those differentials if you are not confident on this matter):\n",
    "\n",
    "$$ dx = \\frac{dx}{ds}ds $$\n",
    "\n",
    "and \n",
    "\n",
    "$$ dy = \\frac{dy}{ds}ds $$\n",
    "\n",
    "Inserting this into our line integral for work:\n",
    "\n",
    "$$ w = \\int_L \\vec{f}\\cdot d\\vec{l} $$\n",
    "\n",
    "$$ w = \\int_L (f_{x}dx + f_{y}dy) $$\n",
    "\n",
    "$$ w = \\int_{s_{1}}^{s_{2}} \\left[f_{x}(s)\\frac{dx}{ds} + f_{y}(s)\\frac{dy}{ds}\\right]ds $$\n",
    "\n",
    "Below is an example broken into steps, which hopefully will demonstrate how to use this.\n",
    "<hr style=\"height:2px;border-width:0;color:gray;background-color:gray\">"
   ]
  },
  {
   "cell_type": "markdown",
   "metadata": {},
   "source": [
    "<div style=\"background-color: #D0D0D0 ; padding: 10px; border: 1px solid black;\">       \n",
    "<header>\n",
    "<h3> Example 1</h3>\n",
    "    </header>\n",
    "    \n",
    "Consider the force from before given by $\\vec{f} = 5.0(xy\\hat{i} + y^2\\hat{j})$ applied to an object. Now let us move the object around in a half--circle, counter-clockwise from $(x,y) = (R,0)$ to $(x,y) = (-R,0)$, where $R$ is the radius of the half--circle. Find the work done by this force.\n",
    "\n",
    "**Step 1**\n",
    "    \n",
    "Make a sketch and recognize the natural parameter $s$ to use in the problem. Although that will not always be easy, here in Physics II, we will make it relatively straightforward. We are just taking our first steps into the big world. The natural parameter to choose here is the angle $\\theta$ such that $s \\rightarrow \\theta$.\n",
    "\n",
    "<img src=\"fig1.png\" width=\"300\">\n",
    "\n",
    "**Step 2**\n",
    "    \n",
    "Write the cartesian coordinates $x$ and $y$ in terms of the new coordinate $\\theta$:\n",
    "\n",
    "$$ x = R\\cos\\theta $$\n",
    "\n",
    "and\n",
    "\n",
    "$$ y = R\\sin\\theta $$\n",
    "\n",
    "**Step 3**\n",
    "    \n",
    "Calculate the derivative of the cartesian coordinates with respect to the new variable:\n",
    "\n",
    "$$ \\frac{dx}{d\\theta} = -R\\sin\\theta $$\n",
    "\n",
    "and\n",
    "\n",
    "$$ \\frac{dy}{d\\theta} = -R\\sin\\theta $$\n",
    "\n",
    "**Step 4**\n",
    "    \n",
    "Express the vector field (in this case: force) in terms of the new variable:\n",
    "\n",
    "$$ f_x = 5.0xy = 5.0R^2\\sin\\theta\\cos\\theta $$\n",
    "\t\t\n",
    "and\n",
    "\n",
    "$$ f_y = 5.0y^2 = 5.0R^2\\sin^2\\theta $$\n",
    "\n",
    "\n",
    "**Step 5**\n",
    "    \n",
    "Substitute the results from steps 3 and 4 into our parameterized line integral\n",
    "\n",
    "$$ w = \\int_{s_{1}}^{s_{2}} \\left[f_{x}(s)\\frac{dx}{ds} + f_{y}(s)\\frac{dy}{ds}\\right]ds $$\n",
    "\n",
    "$$ w = \\int_{\\theta = 0}^{\\theta = \\pi} [(5.0R^2\\sin\\theta\\cos\\theta)(-R\\sin\\theta) + (5.0R^2\\sin^2\\theta)(R\\cos\\theta)]d\\theta $$\n",
    "\n",
    "<p style=\"color:red;\">NOTICE: we essentially re-wrote our line integral of two variables into a line integral of one variable. That is just some cool shit!</p>\n",
    "\n",
    "**Step 6**\n",
    "    \n",
    "Now, no one ever told us that parameterizing the line integral over our vector field was going to be pretty, but at least we can solve it. Solve it!\n",
    "\n",
    "$$ w = 5.0R^3\\int_{\\theta = 0}^{\\theta = \\pi} [(-\\sin^2\\theta\\cos\\theta) + (\\sin^2\\theta)\\cos\\theta]d\\theta$$\n",
    "\n",
    "Wow, I lucked out here. The integrand adds up to zero:\n",
    "\n",
    "$$ w = 0~\\textrm{J} $$\n",
    "\n",
    "</div>\n",
    "<hr style=\"border:1px solid gray\"> </hr>"
   ]
  },
  {
   "cell_type": "markdown",
   "metadata": {},
   "source": [
    "<div class=\"alert alert-warning\">\n",
    "    <b> Box 1 </b><br>\n",
    "    \n",
    "Consider a force given by $\\vec{f} = (x\\hat{i} + y^2\\hat{j})$ N acting on an object. The object moves clockwise from $\\vec{r}_i = (0,3)$ to $\\vec{r}_f = (3,0)$ along a quarter circle centered at $(x,y) = (0,0)$. What is the work done by the force along this path? \n",
    "</div>\n",
    "\n",
    "<hr style=\"border:1px solid gray\"> </hr>"
   ]
  },
  {
   "cell_type": "markdown",
   "metadata": {},
   "source": [
    "<div class=\"alert alert-warning\">\n",
    "    <b> Box 2 </b><br>\n",
    "    \n",
    "Consider a force given by $\\vec{f} = 2.0(x^3\\hat{i} + xy^2\\hat{j})$ acting on an object. The object moves counter-clockwise from $\\vec{r}_i = (0,0)$ to $\\vec{r}_f = (0,2)$ along a half--circle centered at $(x,y) = (0,1)$. What is the work done by the force along this path?  \n",
    "</div>\n",
    "\n",
    "<hr style=\"border:1px solid gray\"> </hr>"
   ]
  }
 ],
 "metadata": {
  "kernelspec": {
   "display_name": "Python 3 (ipykernel)",
   "language": "python",
   "name": "python3"
  },
  "language_info": {
   "codemirror_mode": {
    "name": "ipython",
    "version": 3
   },
   "file_extension": ".py",
   "mimetype": "text/x-python",
   "name": "python",
   "nbconvert_exporter": "python",
   "pygments_lexer": "ipython3",
   "version": "3.10.9"
  }
 },
 "nbformat": 4,
 "nbformat_minor": 2
}