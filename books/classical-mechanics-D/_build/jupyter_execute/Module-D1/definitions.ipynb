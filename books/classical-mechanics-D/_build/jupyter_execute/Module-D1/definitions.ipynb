{
 "cells": [
  {
   "cell_type": "markdown",
   "metadata": {},
   "source": [
    "# D1.1 Kinematics Definitions\n",
    "<hr style=\"height:2px;border-width:0;color:gray;background-color:gray\">"
   ]
  },
  {
   "cell_type": "markdown",
   "metadata": {},
   "source": [
    "## D1.1.1 Motivation\n",
    "\n",
    "Newton's laws as exposed to in University Physics I and II may appear relatively simple and straightforward to perform calculations with. Although that idyllic image will quickly turn into a horror show of worse kind when obejcts are no longer moving in straight lines and may be constrained to odd paths. The simplicity of the applicationa of Newton's laws lay in the coordinate system we traditionally have used: the cartesian coordinate system. With the axis, or more precisely, the unit vectors spanning the system being fixed allows for very simple calculations. In this course, we will explore other systems like polar and cylindrical, as well as introduce analytical mechanics that allows for elegant calculations when objects moves under more complex constraint motions.\n",
    "\n",
    "In this module, however, we will foucs on reviewing kinematics in cartesian coordinates.\n",
    "    \n",
    "<hr style=\"height:2px;border-width:0;color:gray;background-color:gray\">"
   ]
  },
  {
   "cell_type": "markdown",
   "metadata": {},
   "source": [
    "## D1.1.2 Cartesian Coordinate System\n",
    "\n",
    "The [Cartesian coordinate system](https://en.wikipedia.org/wiki/Cartesian_coordinate_system) is a reference frame characterized by **fixed, perpendicular** coordinate axes describing a point in a [Euclidean space](https://en.wikipedia.org/wiki/Euclidean_space) . In simple terms, a Euclidean space is a mathematical space defined through a set of axioms including a measure of length. This length can be found by using the **Pythagorean theorem** between two coordinate points. The Euclidean space is a **flat** space and you are familiar with Euclidean (or plane) geometry through, for example, triangles and trigonometry. You may also have heard of spherical geometry, which is an example of non-euclidean geomtry. \n",
    "\n",
    "If you are inclined to learn more about non-euclidean geometry and how it applies to space-time, check out the **General Relativity course**. \n",
    "\n",
    "In principle, we can have $n$ cartesian coordinates but Newtonian mechanics is only meaningful in 3 dimensions and can be represented in a $(x,y,z)$ frame of reference. In the following, I will utilize a 2D Cartesian frame.\n",
    "\n",
    "Many objects in physics are either scalars or vectors. The vectors are respresented by a directed line segment and we can utilize **unit vectors** to specify these directions in our Cartesian coordinate system. These unit vectors have a much more profound meaning in Euclidean space as one will see by taking **Linear Algrebra** courses. In these courses, we learn that these vectors can be used to **construct** any vector objects in the Euclidean space through **linear combinations**. Let us see how that works.\n",
    "\n",
    "First, let us create a 2D Cartesian reference frame and insert the unit vectors associated with the $x$- and $y$-directions, respectively (often labeled $\\hat{i}$ and $\\hat{j}$)."
   ]
  },
  {
   "cell_type": "code",
   "execution_count": 1,
   "metadata": {
    "tags": [
     "hide-input"
    ]
   },
   "outputs": [
    {
     "data": {
      "image/png": "[encoded data removed]",
      "text/plain": [
       "<Figure size 432x288 with 1 Axes>"
      ]
     },
     "metadata": {
      "needs_background": "light"
     },
     "output_type": "display_data"
    }
   ],
   "source": [
    "import numpy as np\n",
    "import matplotlib.pyplot as plt\n",
    "\n",
    "%matplotlib inline\n",
    "\n",
    "def draw(v1, v2): \n",
    "    array = np.array([[0, 0, v1[0], v1[1]], \n",
    "                      [0,0, v2[0], v2[1]]])\n",
    "    X, Y, U, V = zip(*array)\n",
    "    plt.figure()\n",
    "    plt.ylabel('y-position')\n",
    "    plt.xlabel('x-position')\n",
    "    ax = plt.gca()\n",
    "    ax.quiver(X, Y, U, V, angles='xy', scale_units='xy',color=['r','r'], scale=1)\n",
    "    ax.set_xlim([-0.5, 5])\n",
    "    ax.set_ylim([-0.5, 5])\n",
    "    ax.grid()\n",
    "    ax.set_axisbelow(True)\n",
    "    ax.set_aspect('equal', adjustable='box')\n",
    "    plt.draw()\n",
    "    plt.show()\n",
    "    \n",
    "draw([1,0],[0,1])"
   ]
  },
  {
   "cell_type": "markdown",
   "metadata": {},
   "source": [
    "These unit vectors can now used to create **any directed line segment** in our Cartesian reference frame.\n",
    "\n",
    "<hr style=\"height:2px;border-width:0;color:gray;background-color:gray\">"
   ]
  },
  {
   "cell_type": "markdown",
   "metadata": {},
   "source": [
    "## D1.1.3 The Position Vector\n",
    "\n",
    "The position vector is a **directed line segment** pointing **from** the origin of the reference frame **to** some point $P$. For example, say the point $P$ is given by $(x,y) = (4,3)$. The position vector is then the directed line segment from $(0,0)$ to $(4,3)$. The figure below illustrates the position vector."
   ]
  },
  {
   "cell_type": "code",
   "execution_count": 2,
   "metadata": {
    "tags": [
     "hide-input"
    ]
   },
   "outputs": [
    {
     "data": {
      "image/png": "[encoded data removed]",
      "text/plain": [
       "<Figure size 432x288 with 1 Axes>"
      ]
     },
     "metadata": {
      "needs_background": "light"
     },
     "output_type": "display_data"
    }
   ],
   "source": [
    "import numpy as np\n",
    "import matplotlib.pyplot as plt\n",
    "\n",
    "vec = [3,4]\n",
    "array = np.array([[0, 0, vec[0], vec[1]]])\n",
    "X, Y, U, V = zip(*array)\n",
    "\n",
    "plt.figure()\n",
    "plt.ylabel('y-position')\n",
    "plt.xlabel('x-position')\n",
    "ax = plt.gca()\n",
    "ax.quiver(X, Y, U, V,color='g', angles='xy', scale_units='xy',scale=1)\n",
    "ax.set_xlim([np.min(array), np.max(array)])\n",
    "ax.set_ylim([np.min(array), np.max(array)])\n",
    "ax.grid()\n",
    "ax.set_axisbelow(True)\n",
    "ax.axes.set_aspect('equal')\n",
    "plt.draw()\n",
    "plt.show()"
   ]
  },
  {
   "cell_type": "markdown",
   "metadata": {},
   "source": [
    "The position vector is often represented through $\\vec{r}$. The **vector components** of the position vector are the **projected directed line segments** onto the coordinate axes and are often expressed through the **components** $x$ and $y$ or $r_x$ and $r_y$ combined with unit vectors. Any position vector can be expressed as a linear combination of the directed components:\n",
    "\n",
    "$$ \\vec{r} = r_x\\hat{i} + r_y\\hat{j} $$\n",
    "\n",
    "or written in vector column format\n",
    "\n",
    "$$ \\vec{r} = \\begin{bmatrix} r_x  \\\\ r_y \\\\  \\end{bmatrix}$$\n",
    "\n",
    "We can illustrate this process in the following figure, where we show the vector components and how that add together to give us the position vector."
   ]
  },
  {
   "cell_type": "code",
   "execution_count": 3,
   "metadata": {
    "tags": [
     "hide-input"
    ]
   },
   "outputs": [
    {
     "data": {
      "image/png": "[encoded data removed]",
      "text/plain": [
       "<Figure size 432x288 with 1 Axes>"
      ]
     },
     "metadata": {
      "needs_background": "light"
     },
     "output_type": "display_data"
    }
   ],
   "source": [
    "import numpy as np\n",
    "import matplotlib.pyplot as plt\n",
    "\n",
    "def draw(v1, v2, v3, v4): \n",
    "    x_sum = v1[0] + v2[0]\n",
    "    y_sum = v1[1] + v2[1]\n",
    "    \n",
    "    array = np.array([[0, 0, v1[0], v1[1]], \n",
    "                      [v1[0],0, v2[0], v2[1]],\n",
    "                     [0,0, v3[0], v3[1]],\n",
    "                     [0,0, v4[0], v4[1]],\n",
    "                     [0,0, x_sum, y_sum]])\n",
    "    X, Y, U, V = zip(*array)\n",
    "    plt.figure()\n",
    "    plt.ylabel('y-position')\n",
    "    plt.xlabel('x-position')\n",
    "    ax = plt.gca()\n",
    "    ax.quiver(X, Y, U, V, angles='xy', scale_units='xy',color=['b','b','r','r','g'], scale=1)\n",
    "    ax.set_xlim([-0.05, 4.05])\n",
    "    ax.set_ylim([-0.05, 4.05])\n",
    "    ax.grid()\n",
    "    ax.set_aspect('equal', adjustable='box')\n",
    "    ax.set_axisbelow(True)\n",
    "    plt.draw()\n",
    "    plt.show()\n",
    "    \n",
    "draw([4,0],[0,3],[1,0],[0,1])"
   ]
  },
  {
   "cell_type": "markdown",
   "metadata": {},
   "source": [
    "<hr style=\"height:2px;border-width:0;color:gray;background-color:gray\">"
   ]
  },
  {
   "cell_type": "markdown",
   "metadata": {},
   "source": [
    "## D1.1.4 The Displacement Vector\n",
    "\n",
    "The displacement vector is defined as the directed line segment **from** some initial position $\\vec{r}_1$ to some final position $\\vec{r}_2$:\n",
    "\n",
    "$$ \\Delta\\vec{r} = \\vec{r}_2 - \\vec{r}_1 $$\n",
    "\n",
    "If we are dealing with small displacements we may consider using the **differential displacement** $d\\vec{r}$.\n",
    "\n",
    "<hr style=\"height:2px;border-width:0;color:gray;background-color:gray\">"
   ]
  },
  {
   "cell_type": "markdown",
   "metadata": {},
   "source": [
    "## D1.1.5 The Velocity Vector\n",
    "\n",
    "We can define the **instantaneous** velocity as the derivative of the position vector with respect to time (using Newton notation for time derivative):\n",
    "\n",
    "<div class=\"alert alert-success\">\n",
    "    \n",
    "$$ \\vec{v} = \\dot{r} $$\n",
    "</div>\n",
    "\n",
    "In general, this can be quite complex, but in Cartesian coordinates it is greatly simplified. If the position vector is\n",
    "\n",
    "$$\\vec{r} = x\\hat{i} + y\\hat{j} $$\n",
    "\n",
    "then the time derivative is \n",
    "\n",
    "$$ \\vec{v} = \\dot{x}\\hat{i} + x\\dot{\\hat{i}} + \\dot{y}\\hat{j} + y\\dot{\\hat{j}}$$\n",
    "\n",
    "Since the unit vectors are constant, we have\n",
    "\n",
    "$$ \\vec{v} = \\dot{x}\\hat{i} + \\dot{y}\\hat{j} $$\n",
    "\n",
    "A nice simple expression, however, this is not the case when we go to other coordinate systems like polar coordinates as we will see in PHASE C.\n",
    "\n",
    "<hr style=\"height:2px;border-width:0;color:gray;background-color:gray\">"
   ]
  },
  {
   "cell_type": "markdown",
   "metadata": {},
   "source": [
    "## D1.1.6 The Acceleration Vector\n",
    "\n",
    "We define the **instantaneous** acceleration as the derivative of the velocity with respect to time:\n",
    "\n",
    "<div class=\"alert alert-success\">\n",
    "\n",
    "$$ \\vec{a} = \\dot{v} $$\n",
    "</div>\n",
    "\n",
    "Similarly, in Cartesian coordinates we have a nice straightforward expression in terms of velocity and position components:\n",
    "\n",
    "$$ \\vec{a} = \\dot{v}_x\\hat{i} + \\dot{v}_y\\hat{j} $$\n",
    "\n",
    "and\n",
    "\n",
    "$$ \\vec{a} = \\ddot{x}\\hat{i} + \\ddot{y}\\hat{j} $$"
   ]
  },
  {
   "cell_type": "markdown",
   "metadata": {},
   "source": [
    "<div class=\"alert alert-warning\">\n",
    "    <b> Box 1 </b><br>\n",
    "    \n",
    "The position (in meters) of a particle is given by\n",
    "    \n",
    "$$ \\vec{r} = (2.5t^3)\\hat{i} + 1.5\\sin(3.0t^2)\\hat{j} $$\n",
    "    \n",
    "1. What are the units of the three numerical coefficients?\n",
    "2. What is the velocity at $t = 2.00$ s?\n",
    "3. What is the acceleration at $t = 2.00$ s?\n",
    "    \n",
    "\n",
    "</div>"
   ]
  },
  {
   "cell_type": "code",
   "execution_count": 4,
   "metadata": {
    "tags": [
     "hide-input",
     "hide-output"
    ]
   },
   "outputs": [
    {
     "name": "stdout",
     "output_type": "stream",
     "text": [
      "Units of: 2.5 is m/s^3; 1.5 is m; and 3.0 is rad/s^2\n",
      "Velocity at 2 s = [30.0000000000000, 15.1893712571849]\n",
      "Acceleration at 2 s = [30.0000000000000, 123.494435916686]\n"
     ]
    }
   ],
   "source": [
    "import sympy as sym\n",
    "import numpy as np\n",
    "\n",
    "# Part 1\n",
    "# ------------\n",
    "# all terms must have unit of meter and the argument of sin() must be radians\n",
    "# 2.5 must be m/s^3\n",
    "# 1.5 must be m\n",
    "# 3.0 must be in rad/t^2\n",
    "\n",
    "print('Units of: 2.5 is m/s^3; 1.5 is m; and 3.0 is rad/s^2' )\n",
    "\n",
    "# Part  2\n",
    "# ------------\n",
    "      \n",
    "#independent variable\n",
    "t = sym.Symbol('t')\n",
    "\n",
    "#position\n",
    "rx = 2.5*t**3\n",
    "ry = 1.5*sym.sin(3.0*t**2)\n",
    "\n",
    "# find first derivative: velocity\n",
    "vx = sym.diff(rx,t,1)\n",
    "vy = sym.diff(ry,t,1)\n",
    "\n",
    "# evaluate\n",
    "vx = vx.evalf(subs={t: 2.0})\n",
    "vy = vy.evalf(subs={t: 2.0})\n",
    "\n",
    "v = [vx, vy]\n",
    "\n",
    "print('Velocity at 2 s = '+str(v))\n",
    "\n",
    "# Part  3\n",
    "# ------------\n",
    "# find second derivative: acceleration\n",
    "ax = sym.diff(rx,t,2)\n",
    "ay = sym.diff(ry,t,2)\n",
    "\n",
    "# evaluate\n",
    "ax = ax.evalf(subs={t: 2.0})\n",
    "ay = ay.evalf(subs={t: 2.0})\n",
    "\n",
    "a = [ax, ay]\n",
    "\n",
    "print('Acceleration at 2 s = '+str(a))"
   ]
  },
  {
   "cell_type": "markdown",
   "metadata": {},
   "source": [
    "<hr style=\"height:2px;border-width:0;color:gray;background-color:gray\">"
   ]
  }
 ],
 "metadata": {
  "celltoolbar": "Tags",
  "kernelspec": {
   "display_name": "Python 3 (ipykernel)",
   "language": "python",
   "name": "python3"
  },
  "language_info": {
   "codemirror_mode": {
    "name": "ipython",
    "version": 3
   },
   "file_extension": ".py",
   "mimetype": "text/x-python",
   "name": "python",
   "nbconvert_exporter": "python",
   "pygments_lexer": "ipython3",
   "version": "3.9.12"
  }
 },
 "nbformat": 4,
 "nbformat_minor": 2
}