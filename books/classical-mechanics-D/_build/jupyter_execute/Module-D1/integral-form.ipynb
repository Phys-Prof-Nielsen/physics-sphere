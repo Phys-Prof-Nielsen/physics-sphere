{
 "cells": [
  {
   "cell_type": "markdown",
   "metadata": {},
   "source": [
    "# D1.3 Kinematics - Integral Form\n",
    "<hr style=\"height:2px;border-width:0;color:gray;background-color:gray\">"
   ]
  },
  {
   "cell_type": "markdown",
   "metadata": {},
   "source": [
    "## D1.3.1 Motivation\n",
    "\n",
    "The differential forms in previous section told us **how stuff change on a local time scale**, by *local* we imply an instantaneous change or over some very small time interval. Again, the concept of small is somewhat ambiguous. Integral form allows us to make prediction as it allows us to obtain **general functions** of position, velocity, acceleration, etc., as well as quantify changes in these parameters over any time scales. We say that differential calculus is **local** whereas integral calculus is **global**. You may have encountered that language in electricity when dealing with Maxwell's equations: differential forms vs. integral forms.\n",
    "    \n",
    "<hr style=\"height:2px;border-width:0;color:gray;background-color:gray\">"
   ]
  },
  {
   "cell_type": "markdown",
   "metadata": {},
   "source": [
    "## D1.3.2 Position \n",
    "\n",
    "We defined the **instantaneous** velocity in terms of a **differential equation** through the position and time differentials\n",
    "\n",
    "<div class=\"alert alert-success\">\n",
    "    \n",
    "$$ d\\vec{r} = \\vec{v}dt $$\n",
    "</div>\n",
    "\n",
    "If we perform **indefinite** integration on both sides, we get\n",
    "\n",
    "$$ \\vec{r} = \\int\\vec{v}dt + C$$\n",
    "\n",
    "Hence, we obtained a **general global function representation** for the position.\n",
    "\n",
    "If we are curious about the quantity of which the position changed (a.k.a. displacement) over the course of the elapsed time, we can perform the **definite** integration:\n",
    "\n",
    "$$ \\Delta\\vec{r} = \\int_{t_1}^{t_2}\\vec{v}dt$$\n",
    "\n",
    "<hr style=\"height:2px;border-width:0;color:gray;background-color:gray\">"
   ]
  },
  {
   "cell_type": "markdown",
   "metadata": {},
   "source": [
    "## D1.3.3 Velocity\n",
    "\n",
    "In a similar fashion, we have\n",
    "\n",
    "<div class=\"alert alert-success\">\n",
    "    \n",
    "$$ d\\vec{v} = \\vec{a}dt $$\n",
    "</div>\n",
    "\n",
    "If we perform **indefinite** integration on both sides, we get\n",
    "\n",
    "$$ \\vec{v} = \\int\\vec{a}dt + C$$\n",
    "\n",
    "Hence, we obtained a **general global function representation** for the velocity.\n",
    "\n",
    "If we are curious about the quantity of which the velocity changed over the course of the elapsed time, we can perform the **definite** integration:\n",
    "\n",
    "$$ \\Delta\\vec{v} = \\int_{t_1}^{t_2}\\vec{a}dt$$\n",
    "\n",
    "<hr style=\"height:2px;border-width:0;color:gray;background-color:gray\">"
   ]
  },
  {
   "cell_type": "markdown",
   "metadata": {},
   "source": [
    "<div class=\"alert alert-warning\">\n",
    "<b>Box 1</b><br>\n",
    "    \n",
    "A particle is moving in 1D with a velocity given by $\\vec{v}_{z}(t) = [At^3 + B]~\\hat{k}$, where A = 0.0050 m/s$^4$ and B = 1.8 m/s. At t = 5.0 s, the particle is located at z = 30.0 m. \n",
    "\n",
    "1. What is the particle's general position function?\n",
    "2. What is the particle's specific position function?\n",
    "3. Where was the particle at t = 1.00 s?\n",
    "\n",
    "</div>"
   ]
  },
  {
   "cell_type": "code",
   "execution_count": 1,
   "metadata": {
    "tags": [
     "hide-input",
     "hide-output"
    ]
   },
   "outputs": [
    {
     "name": "stdout",
     "output_type": "stream",
     "text": [
      "PART 1: NOTE: add a constant C to the answer since it is an indefinite integral\n",
      "r(t) = 0.00125*t**4 + 1.8*t + C\n",
      "Part 2: r(t) = 0.00125*t**4 + 1.8*t + 20.2187500000000\n",
      "Part 3: Position at t = 0.00 s: 22.0200000000000 m.\n"
     ]
    }
   ],
   "source": [
    "import sympy as sym\n",
    "\n",
    "# PART 1\n",
    "#-------------------\n",
    "\n",
    "#declare our independent variable and assign a symbol to it\n",
    "t = sym.Symbol('t')\n",
    "\n",
    "A = 0.0050\n",
    "B = 1.8\n",
    "t1 = 1.0\n",
    "t2 = 5.0\n",
    "r2 = 30.0\n",
    "\n",
    "#declare the dependent function f as a function of x\n",
    "v = A*t**3 + B\n",
    "\n",
    "#calculate the indefinite integral\n",
    "r = sym.integrate(v,t)\n",
    "\n",
    "#display the function f and its antiderivative (integral)\n",
    "print('PART 1: NOTE: add a constant C to the answer since it is an indefinite integral' )\n",
    "print('r(t) = '+str(r)+' + C')\n",
    "\n",
    "# Part 2\n",
    "# -------------\n",
    "# evaluate r(t=5.00) = 30.0 m = r2\n",
    "C = sym.Symbol('C')\n",
    "r_5 = r.evalf(subs={t: t2})\n",
    "eq = r2 - r_5 - C\n",
    "sol = sym.solve(eq,C)\n",
    "C = sol[0]\n",
    "\n",
    "print('Part 2: r(t) = '+str(r)+' + '+str(C))\n",
    "\n",
    "# Part 3\n",
    "# --------------\n",
    "\n",
    "# find displacement\n",
    "dr = sym.integrate(v,(t,t1,t2))\n",
    "\n",
    "r1 = r2 - dr\n",
    "print('Part 3: Position at t = 0.00 s: '+str(r1)+' m.')\n",
    "\n"
   ]
  },
  {
   "cell_type": "markdown",
   "metadata": {},
   "source": [
    "<hr style=\"height:2px;border-width:0;color:gray;background-color:gray\">"
   ]
  },
  {
   "cell_type": "markdown",
   "metadata": {},
   "source": [
    "<div class=\"alert alert-warning\">\n",
    "<b>Box 2</b><br>\n",
    "    \n",
    "A rocket is starting from rest at t = 0 s and experiences a net acceleration of $\\vec{a}(t) = [(4.0~\\textrm{m/s}^5)~t^3]~\\hat{k}$ for 5 s. \n",
    "\n",
    "1. What is the rocket's velocity after 5 s?\n",
    "2. The speed of sound in air is 343 m/s. Is this rocket traveling supersonic after 5 s?\n",
    "\n",
    "</div>"
   ]
  },
  {
   "cell_type": "code",
   "execution_count": 2,
   "metadata": {
    "tags": [
     "hide-input",
     "hide-output"
    ]
   },
   "outputs": [
    {
     "name": "stdout",
     "output_type": "stream",
     "text": [
      "Part 1: Velocity at t = 5.00 s: 625.000000000000 m/s.\n",
      "Part 2: The rocket is supersonic after 5 s.\n"
     ]
    }
   ],
   "source": [
    "import sympy as sym\n",
    "\n",
    "# PART 1\n",
    "#-------------------\n",
    "\n",
    "#declare our independent variable and assign a symbol to it\n",
    "t = sym.Symbol('t')\n",
    "\n",
    "t1 = 0.0\n",
    "t2 = 5.0\n",
    "v1 = 0.0\n",
    "\n",
    "#declare the dependent function f as a function of x\n",
    "a = 4.0*t**3\n",
    "\n",
    "# definite integral\n",
    "dv = sym.integrate(a,(t,t1,t2))\n",
    "\n",
    "v2= v1 + dv\n",
    "print('Part 1: Velocity at t = 5.00 s: '+str(v2)+' m/s.')\n",
    "\n",
    "# PART 2\n",
    "#----------------\n",
    "v_sound = 343.0\n",
    "\n",
    "if v2 > v_sound:\n",
    "    print('Part 2: The rocket is supersonic after 5 s.')\n",
    "else:\n",
    "    print('Part 2: The rocket is not supersonic after 5 s.')"
   ]
  },
  {
   "cell_type": "markdown",
   "metadata": {},
   "source": [
    "<hr style=\"height:2px;border-width:0;color:gray;background-color:gray\">"
   ]
  }
 ],
 "metadata": {
  "celltoolbar": "Tags",
  "kernelspec": {
   "display_name": "Python 3 (ipykernel)",
   "language": "python",
   "name": "python3"
  },
  "language_info": {
   "codemirror_mode": {
    "name": "ipython",
    "version": 3
   },
   "file_extension": ".py",
   "mimetype": "text/x-python",
   "name": "python",
   "nbconvert_exporter": "python",
   "pygments_lexer": "ipython3",
   "version": "3.10.9"
  }
 },
 "nbformat": 4,
 "nbformat_minor": 2
}