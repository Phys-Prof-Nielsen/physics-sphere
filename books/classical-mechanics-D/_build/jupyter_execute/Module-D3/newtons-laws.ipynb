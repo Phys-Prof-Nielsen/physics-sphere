{
 "cells": [
  {
   "cell_type": "markdown",
   "metadata": {},
   "source": [
    "# D3.1 Newton's Laws - Linear Motion\n",
    "<hr style=\"height:2px;border-width:0;color:gray;background-color:gray\">"
   ]
  },
  {
   "cell_type": "markdown",
   "metadata": {},
   "source": [
    "## D3.1.1 Motivation\n",
    "\n",
    "The concept of force is a fundamental component of physics and the core of Newtonian mechanics. Newton described the interactions between objects as forces and that an object would change its motion according to the net interaction (or force) acting upon it. Later, it was realized that forces arise from field interactions (quantum fields: electric, weak, strong, and gravity: note that we do not have a verified quantum gravity theory). \n",
    "\n",
    "Newton's Laws should be very familiar to you from *University Physics I and II*, however, it is also my experience that the majority of students have formed \"bad habits\" of solving these problems without paying to much attention to the solving process. While this work for simple problems, the lack of proper analysis becomes evident when presented with more complex problems. The main objective in this module is to make you aware of the bad habits and hopefully encourage you to change them. \n",
    "    \n",
    "<hr style=\"height:2px;border-width:0;color:gray;background-color:gray\">"
   ]
  },
  {
   "cell_type": "markdown",
   "metadata": {},
   "source": [
    "## D3.1.2 Newton's Laws\n",
    "\n",
    "### First Law: N1 :: Law of Inertia\n",
    "\n",
    "The first law is a conceptual law that states: *An object in motion will remain in the same state of motion unless a net external interaction is acting on the object*.\n",
    "\n",
    "In this context **momentum** is a measure of **motion** and **inertia** is a measure of the resistance an object has to a change in motion. For linear motion inertia is **mass**.\n",
    "\n",
    "### Second Law: N2\n",
    "\n",
    "This law is a way to quantify the first law. We saw it in previous section as the **momentum-impulse** theorem, and in differential form it is\n",
    "\n",
    "<div class=\"alert alert-success\">\n",
    "    \n",
    "$$ d\\vec{p} = \\vec{f}_{net}dt $$\n",
    "</div>\n",
    "\n",
    "For a point particle it can be written in its most common form:\n",
    "\n",
    "<div class=\"alert alert-success\">\n",
    "    \n",
    "$$ \\sum\\vec{f} = m\\vec{a} $$\n",
    "</div>\n",
    "\n",
    "### Third Law: N3 :: Law of Action and Re-action\n",
    "\n",
    "This law states that forces are consequences of objects interacting with each other and **always** occur in pairs with one force acting on one object and the other force acting on the other object. For example, the earth pulls on the moon and the moon pulls on the earth."
   ]
  },
  {
   "cell_type": "markdown",
   "metadata": {},
   "source": [
    "<hr style=\"height:2px;border-width:0;color:gray;background-color:gray\">"
   ]
  },
  {
   "cell_type": "markdown",
   "metadata": {},
   "source": [
    "## D3.1.3 Solving Strategy for N2\n",
    "\n",
    "The key is increased awareness of a solving strategy. Kleppner and Kolenkow have an excellent approach, and here is a modified version of it: [YouTube Video of the Solving Strategy](https://www.youtube.com/watch?v=hdFmHtGTmvk) \n",
    "\n",
    "1. Make a sketch of the problem: this demonstrate that you understand the problem. If not, the sketch may help you understand it.\n",
    "2. Free-Body-Diagram: this is the physics! Analyze all the interactions that takes place (contact and field interactions) for each object in the system. It may be helpful to identify the classical fields that are present (gravity and/or electric), and identify contact points.\n",
    "3. Set up a reference frame: this is the system that translates the FBD into algebraic (or differential) equations. Newtonian mechanics is usually solved in cartesian coordinates where its simplicity is to our advantage. \n",
    "4. Decompose the force vectors into their component forms.\n",
    "5. Establish Newton's 2nd Law in component form, for example $\\sum f_x = ma_x$ (keep in mind that the acceleration is only zero if the system is static or moving with constant velocity).\n",
    "6. Write down known auxiliary equations such as $f_g = mg$ and $f_s = kx$. Solve the problem if possible. If not proceeed to next step.\n",
    "7. Establish constraint equations: these are equations that dictate geometric relationships. Examples are length of rope in pulley systems (length = constant), marble rolling on a spherical surface (radius = constant). Solve if possible.\n",
    "\n",
    "The YouTube channel has a few examples of applying these steps. Note that the steps may be slightly different order or combined in the videos. \n"
   ]
  },
  {
   "cell_type": "markdown",
   "metadata": {},
   "source": [
    "<hr style=\"height:2px;border-width:0;color:gray;background-color:gray\">"
   ]
  },
  {
   "cell_type": "markdown",
   "metadata": {},
   "source": [
    "<div class=\"alert alert-warning\">\n",
    "<b>Box 1</b><br>\n",
    "    \n",
    "Consider a box sliding down a frictionless, inclined surface as shown in the figure. Find the acceleration of the block with respect to the given reference frame.\n",
    "<br>\n",
    "<img src=\"D3-fig1.1.png\" width=\"300\">\n",
    "</div>"
   ]
  },
  {
   "cell_type": "code",
   "execution_count": 1,
   "metadata": {
    "tags": [
     "hide-input",
     "hide-output"
    ]
   },
   "outputs": [
    {
     "name": "stdout",
     "output_type": "stream",
     "text": [
      "The acceleration of the block is: [g*sin(theta), 0.0] m/s^2\n"
     ]
    }
   ],
   "source": [
    "%reset -f\n",
    "import sympy as sym\n",
    "import numpy as np\n",
    "\n",
    "#forces acting: gravity, normal\n",
    "\n",
    "# unknown variables\n",
    "g = sym.Symbol('g')\n",
    "m = sym.Symbol('m')\n",
    "theta = sym.Symbol('theta')\n",
    "ax = sym.Symbol('ax')\n",
    "ay = sym.Symbol('ay')\n",
    "fn = sym.Symbol('fn')\n",
    "fg = sym.Symbol('fg')\n",
    "\n",
    "#helpful equation\n",
    "fg = m*g\n",
    "# component form\n",
    "fgx = fg*sym.sin(theta)\n",
    "fgy = -fg*sym.cos(theta)\n",
    "fnx = 0.0\n",
    "fny = fn\n",
    "\n",
    "#N2: 0 = ma - fnet\n",
    "# x\n",
    "eqx = m*ax - (fnx + fgx)\n",
    "# y\n",
    "eqy = m*ay - (fny + fgy)\n",
    "\n",
    "# constraint equation: y = 0 --> ay = 0\n",
    "ay = 0.0\n",
    "\n",
    "sol = sym.solve((eqx,eqy),(ax))\n",
    "\n",
    "a = [sol[ax],ay]\n",
    "\n",
    "print('The acceleration of the block is: '+str(a)+' m/s^2')"
   ]
  },
  {
   "cell_type": "markdown",
   "metadata": {},
   "source": [
    "<hr style=\"height:2px;border-width:0;color:gray;background-color:gray\">"
   ]
  },
  {
   "cell_type": "markdown",
   "metadata": {},
   "source": [
    "<div class=\"alert alert-warning\">\n",
    "<b>Box 2</b><br>\n",
    "    \n",
    "Consider a box sliding down a frictionless, inclined surface as shown in the figure. Find the acceleration of the block with respect to the given reference frame.\n",
    "<br>\n",
    "<img src=\"D3-fig1.2.png\" width=\"300\">\n",
    "</div>"
   ]
  },
  {
   "cell_type": "code",
   "execution_count": 2,
   "metadata": {},
   "outputs": [
    {
     "name": "stdout",
     "output_type": "stream",
     "text": [
      "The x-acceleration of the block is: g*sin(theta)/(sin(theta)*tan(theta) + cos(theta)) m/s^2\n",
      "The y-acceleration of the block is: -g*sin(theta)*tan(theta)/(sin(theta)*tan(theta) + cos(theta)) m/s^2\n",
      "NOTE: python does not provide the answers in simplified forms. These answers can be simplified.\n"
     ]
    }
   ],
   "source": [
    "%reset -f\n",
    "import sympy as sym\n",
    "import numpy as np\n",
    "\n",
    "#forces acting: gravity, normal\n",
    "\n",
    "# unknown variables\n",
    "g = sym.Symbol('g')\n",
    "m = sym.Symbol('m')\n",
    "theta = sym.Symbol('theta')\n",
    "ax = sym.Symbol('ax')\n",
    "ay = sym.Symbol('ay')\n",
    "fn = sym.Symbol('fn')\n",
    "fg = sym.Symbol('fg')\n",
    "h = sym.Symbol('h')\n",
    "\n",
    "#helpful equation\n",
    "fg = m*g\n",
    "# component form\n",
    "fgx = 0.0\n",
    "fgy = -fg\n",
    "fnx = fn*sym.sin(theta)\n",
    "fny = fn*sym.cos(theta)\n",
    "\n",
    "#N2: 0 = ma - fnet\n",
    "# x\n",
    "eqx = m*ax - (fnx + fgx)\n",
    "# y\n",
    "eqy = m*ay - (fny + fgy)\n",
    "\n",
    "# constraint equation: tan(theta) = (h-y)/x\n",
    "eq3 = ay + ax*sym.tan(theta)\n",
    "\n",
    "sol = sym.solve((eqx,eqy,eq3),(ax,ay,fn))\n",
    "\n",
    "ax = sol[ax]\n",
    "ay = sol[ay]\n",
    "\n",
    "print('The x-acceleration of the block is: '+str(ax)+' m/s^2')\n",
    "print('The y-acceleration of the block is: '+str(ay)+' m/s^2')\n",
    "print('NOTE: python does not provide the answers in simplified forms. These answers can be simplified.')"
   ]
  },
  {
   "cell_type": "markdown",
   "metadata": {},
   "source": [
    "<hr style=\"height:2px;border-width:0;color:gray;background-color:gray\">"
   ]
  },
  {
   "cell_type": "markdown",
   "metadata": {},
   "source": [
    "<div class=\"alert alert-warning\">\n",
    "<b>Box 3</b><br>\n",
    "    \n",
    "Use your result from Problem 1, apply a proper coordinate transform between the two coordinate systems to obtain the same acceleration as you did in Problem 2.\n",
    "\n",
    "</div>"
   ]
  },
  {
   "cell_type": "code",
   "execution_count": 3,
   "metadata": {},
   "outputs": [
    {
     "name": "stdout",
     "output_type": "stream",
     "text": [
      "The x-acceleration in Problem 2 is: g*sin(theta)*cos(theta)\n",
      "The x-acceleration in Problem 2 is: -g*sin(theta)**2\n"
     ]
    }
   ],
   "source": [
    "%reset -f\n",
    "import sympy as sym\n",
    "# let prime be the coordinate system oriented with the plane and the unprimed be out standard orientation. \n",
    "# the unit vectors transforms as\n",
    "# i' = cos(theta)i - sin(theta)j\n",
    "# j' = sin(theta)i + cos(theta)j\n",
    "\n",
    "# the reverse transformation is straightforward by letting theta --> - theta:\n",
    "\n",
    "# i = cos(theta)i' + sin(theta)j'\n",
    "# j = -sin(theta)i' + cos(theta)j'\n",
    "\n",
    "# KEY: since the unit vector transform that way --> ANY vector must transform that way\n",
    "g = sym.Symbol('g')\n",
    "theta = sym.Symbol('theta')\n",
    "\n",
    "ax_prime = g*sym.sin(theta)\n",
    "ay_prime = 0.0\n",
    "\n",
    "ax = sym.cos(theta)*ax_prime + sym.sin(theta)*ay_prime\n",
    "ay = -sym.sin(theta)*ax_prime + sym.cos(theta)*ay_prime\n",
    "\n",
    "print('The x-acceleration in Problem 2 is: '+str(ax))\n",
    "print('The x-acceleration in Problem 2 is: '+str(ay))"
   ]
  },
  {
   "cell_type": "markdown",
   "metadata": {},
   "source": [
    "<hr style=\"height:2px;border-width:0;color:gray;background-color:gray\">"
   ]
  }
 ],
 "metadata": {
  "celltoolbar": "Tags",
  "kernelspec": {
   "display_name": "Python 3 (ipykernel)",
   "language": "python",
   "name": "python3"
  },
  "language_info": {
   "codemirror_mode": {
    "name": "ipython",
    "version": 3
   },
   "file_extension": ".py",
   "mimetype": "text/x-python",
   "name": "python",
   "nbconvert_exporter": "python",
   "pygments_lexer": "ipython3",
   "version": "3.9.12"
  }
 },
 "nbformat": 4,
 "nbformat_minor": 2
}