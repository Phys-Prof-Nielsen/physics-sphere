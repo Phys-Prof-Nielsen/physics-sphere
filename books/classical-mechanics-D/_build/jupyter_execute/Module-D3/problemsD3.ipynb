{
 "cells": [
  {
   "cell_type": "markdown",
   "metadata": {},
   "source": [
    "# D3.2 Problems\n",
    "<hr style=\"height:2px;border-width:0;color:gray;background-color:gray\">"
   ]
  },
  {
   "cell_type": "markdown",
   "metadata": {},
   "source": [
    "<h2>Problem D3.1</h2>\n",
    "    </header>\n",
    "\n",
    "A 2.25 kg box is moving across a horizontal floor. There is a coefficient of kinetic friction between the box and the floor of 0.400. A time-dependent applied pushing force of $f_x = 11 + 3.00t^2 - 0.500t^3$ is applied over the time interval of $t = [0.00,3.00]$ s. Assume the box is initially at rest and starting at $x = 0.00$ m.\n",
    "\n",
    "1. What are the impulses delivered by each forces acting on the box during the first 3 seconds?\n",
    "2. What is the net acceleration of the box during the first three seconds?\n",
    "3. What is the velocity of the box at t = 3.00 s?\n",
    "4. What is the position of the box at t = 3.00 s?\n",
    "5. After 3 s, the pushing force is no longer applied. How long time from t = 0 s does it take the box to come to a stop?\n",
    "6. What is its position when it comes to a stop?"
   ]
  },
  {
   "cell_type": "code",
   "execution_count": 1,
   "metadata": {
    "tags": [
     "hide-input",
     "hide-output"
    ]
   },
   "outputs": [
    {
     "name": "stdout",
     "output_type": "stream",
     "text": [
      "Part 1\n",
      "Force of gravity impulse: -66.2175000000000\n",
      "Normal force impulse: 66.2175000000000\n",
      "Force of friction impulse: -26.4870000000000\n",
      "Push force impulse: 49.8750000000000\n",
      " \n",
      "Part 2\n",
      "a_x = -0.222222222222222*t**3 + 1.33333333333333*t**2 + 0.964888888888889\n",
      " \n",
      "Part 3\n",
      "v2_x = 10.3946666666667\n",
      " \n",
      "Part 4\n",
      "x = 10.6420000000000\n",
      " \n",
      "Part 5\n",
      "Elapsed time: 5.64899762147469\n",
      " \n",
      "Part 6\n",
      "Final position = 24.4097236380111\n"
     ]
    }
   ],
   "source": [
    "%reset -f\n",
    "import sympy as sym\n",
    "\n",
    "m = 2.25\n",
    "mu = 0.400\n",
    "t1 = 0.0\n",
    "t2 = 3.0\n",
    "x1 = 0.0\n",
    "v1x = 0.0\n",
    "g = 9.81\n",
    "\n",
    "\n",
    "# PART 1\n",
    "#integral variable\n",
    "t = sym.Symbol('t')\n",
    "\n",
    "#forces: standard coordinate system\n",
    "\n",
    "#gravity\n",
    "fgy = -m*g\n",
    "\n",
    "#normal\n",
    "fny = -fgy\n",
    "\n",
    "#friction \n",
    "ffx = -mu*fny\n",
    "\n",
    "#push force\n",
    "fpx = 11 + 3*t**2 - 0.500*t**3\n",
    "\n",
    "#impulse: integral of force with respect to time\n",
    "\n",
    "ifgy = sym.integrate(fgy,(t,t1,t2))\n",
    "ifny = sym.integrate(fny,(t,t1,t2))\n",
    "iffx = sym.integrate(ffx,(t,t1,t2))\n",
    "ifpx = sym.integrate(fpx,(t,t1,t2))\n",
    "print('Part 1')\n",
    "print('Force of gravity impulse: '+ str(ifgy))\n",
    "print('Normal force impulse: '+ str(ifny))\n",
    "print('Force of friction impulse: '+ str(iffx))\n",
    "print('Push force impulse: '+ str(ifpx))\n",
    "print(' ')\n",
    "\n",
    "# PART 2: Use f_net = ma --> 0 = ma - f_net\n",
    "\n",
    "# x-direction\n",
    "ax = sym.Symbol('ax')\n",
    "eqx = m*ax - fpx - ffx\n",
    "solx = sym.solve(eqx,ax)\n",
    "print('Part 2')\n",
    "print('a_x = '+str(solx[0]))\n",
    "print(' ')\n",
    "ax = solx[0]\n",
    "\n",
    "# PART 3: integrate acceleration to find change in velocity, then add initial to get final\n",
    "dvx = sym.integrate(ax,(t,t1,t2))\n",
    "v2x = v1x + dvx\n",
    "print('Part 3')\n",
    "print('v2_x = '+str(v2x))\n",
    "print(' ')\n",
    "\n",
    "# PART 4\n",
    "#integrate acceleration to get velocity (start from rest)\n",
    "vx = sym.integrate(ax,t)\n",
    "#integrate velocity to get position  (start at x = 0)\n",
    "x = sym.integrate(vx,t)\n",
    "x = x.evalf(subs={t: 3.0})\n",
    "print('Part 4')\n",
    "print('x = '+ str(x))\n",
    "print(' ')\n",
    "\n",
    "# Part 5: only force is friction and it is constant\n",
    "# find acceleration and use kinematics equation to find time\n",
    "a = sym.Symbol('a')\n",
    "eq1 = m*a - ffx\n",
    "sol1 = sym.solve(eq1,a)\n",
    "a = sol1[0]\n",
    "dt = (0.0 - v2x)/a\n",
    "t = 3.0 + dt\n",
    "print('Part 5')\n",
    "print('Elapsed time: '+str(t))\n",
    "print(' ')\n",
    "\n",
    "# Part 6: find the additional distance after t = 3 s. \n",
    "# acceleration is constant so we can use derived equation of kinematics\n",
    "dx = (0.0**2 - v2x**2)/(2*a)\n",
    "xf = x + dx\n",
    "print('Part 6')\n",
    "print('Final position = '+str(xf))"
   ]
  },
  {
   "cell_type": "markdown",
   "metadata": {},
   "source": [
    "<hr style=\"height:2px;border-width:0;color:gray;background-color:gray\">"
   ]
  },
  {
   "cell_type": "markdown",
   "metadata": {},
   "source": [
    "<h2>Problem D3.2</h2>\n",
    "    </header>\n",
    "\n",
    "A UVU student has been tasked with pulling a 10.0 kg box full of research equipment up a slick rock hill in Capitol Reef National Park. The hill is sloped with an angle of $12.0^\\circ$ from the horizontal. There is a coefficient of friction between the rock surface and the box of 0.55. The student is optimistic at first but quickly runs out of stamina as evidenced by the measured pulling force (in N) of $f(t) = 74 - 0.07t$ along the incline of the hill. The student and box starts out from rest.\n",
    "\n",
    "1. How long time did it take before the net acceleration is zero?\n",
    "2. What is the speed of the box at that time?\n",
    "3. How far up the incline hill is the box at that time?\n",
    "4. The student continues to move up the hill until the student can no longer pull at which the speed zero. At what time does that occur?\n",
    "5. What distance up the hill did the box make it before the student need to take a break?\n",
    "6. Create plots of the acceleration, velocity, and distance up the incline."
   ]
  },
  {
   "cell_type": "code",
   "execution_count": 2,
   "metadata": {
    "tags": [
     "hide-input",
     "hide-output"
    ]
   },
   "outputs": [
    {
     "name": "stdout",
     "output_type": "stream",
     "text": [
      "Time to zero acceleration: 11.8272761883619\n",
      "Speed: 4.89595617125276\n",
      "Distance up incline: 38.6038838956809\n",
      "Time to exhaustion: 23.6545523767239\n",
      "Distance to breaking point: 77.2077677913618\n"
     ]
    },
    {
     "data": {
      "image/png": "[encoded data removed]",
      "text/plain": [
       "<Figure size 500x1000 with 3 Axes>"
      ]
     },
     "metadata": {},
     "output_type": "display_data"
    }
   ],
   "source": [
    "%reset -f\n",
    "import sympy as sym\n",
    "import numpy as np\n",
    "from matplotlib import pyplot as plt \n",
    "\n",
    "m = 10.0\n",
    "mu = 0.55\n",
    "g = 9.81\n",
    "theta = 12.0*np.pi/180.0\n",
    "t1 = 0.0\n",
    "\n",
    "# PART 1\n",
    "# Use N2 in x and y. x positive up the incline\n",
    "\n",
    "ax = 0.0\n",
    "t = sym.Symbol('t')\n",
    "fny = sym.Symbol('fny')\n",
    "\n",
    "fgy = -m*g*np.cos(theta)\n",
    "fgx = -m*g*np.sin(theta)\n",
    "ffx = -mu*fny\n",
    "fpx = 74 - 0.07*t\n",
    "\n",
    "eqx = ax - fpx - ffx - fgx\n",
    "eqy = 0 - fny - fgy\n",
    "sol1 = sym.solve((eqx,eqy),(t,fny))\n",
    "\n",
    "t2 = sol1[t]\n",
    "print('Time to zero acceleration: '+str(t2))\n",
    "\n",
    "# PART 2\n",
    "del ax\n",
    "\n",
    "ax = sym.Symbol('ax')\n",
    "eqx = ax - fpx - ffx - fgx\n",
    "eqy = 0 - fny - fgy\n",
    "sol2 = sym.solve((eqx,eqy),(ax,fny))\n",
    "\n",
    "ax = sol2[ax]\n",
    "vx = sym.integrate(ax,t)\n",
    "v = vx.evalf(subs={t: t2})\n",
    "print('Speed: '+str(v))\n",
    "\n",
    "# Part 3\n",
    "x = sym.integrate(vx,t)\n",
    "d1 = x.evalf(subs={t: t2})\n",
    "print('Distance up incline: '+str(d1))\n",
    "\n",
    "# Part 4\n",
    "eq3 = vx\n",
    "sol2 = sym.solve(eq3,t)\n",
    "print('Time to exhaustion: '+str(sol2[1]))\n",
    "\n",
    "# Part 5\n",
    "t3 = sol2[1]\n",
    "d2 = x.evalf(subs={t: t3})\n",
    "print('Distance to breaking point: '+str(d2))\n",
    "\n",
    "\n",
    "t_array = np.arange(0,t3,1)\n",
    "a_array = []\n",
    "v_array = []\n",
    "x_array = []\n",
    "for i in range(len(t_array)):\n",
    "    a_result = ax.evalf(subs={t: t_array[i]})\n",
    "    a_array.append(a_result)\n",
    "    v_result = vx.evalf(subs={t: t_array[i]})\n",
    "    v_array.append(v_result)\n",
    "    x_result = x.evalf(subs={t: t_array[i]})\n",
    "    x_array.append(x_result)\n",
    "\n",
    "fig, (ax1,ax2,ax3) = plt.subplots(3,figsize=(5,10))\n",
    "\n",
    "ax1.set(ylabel='Acceleration (m/s$^2$)', xlabel='Time (s)')\n",
    "ax1.plot(t_array,a_array,'-')\n",
    "ax1.set_xlim([0, np.max(t_array)+0.5])\n",
    "\n",
    "ax2.set(ylabel='Velocity (m/s)', xlabel='Time (s)')\n",
    "ax2.plot(t_array,v_array,'-')\n",
    "ax2.set_xlim([0, np.max(t_array)+0.5])\n",
    "\n",
    "ax3.set(ylabel='Distance (m)', xlabel='Time (s)')\n",
    "ax3.plot(t_array,x_array,'-')\n",
    "ax3.set_xlim([0, np.max(t_array)+0.5])\n",
    "\n",
    "plt.show()"
   ]
  },
  {
   "cell_type": "markdown",
   "metadata": {},
   "source": [
    "<hr style=\"height:2px;border-width:0;color:gray;background-color:gray\">"
   ]
  },
  {
   "cell_type": "markdown",
   "metadata": {},
   "source": [
    "<h2>Problem D3.3</h2>\n",
    "    </header>\n",
    "\n",
    "A 1.0 kg particle is initially at rest at (x,y) = (0.00, 0.00) m. At t = 0.00 s a net force is applied. The force is given by $\\vec{f} = [(2.00 + 1.50y)\\hat{i} + (0.500t)\\hat{j}]~\\textrm{N}$. What is the x-position of the particle at t = 8.00 s?"
   ]
  },
  {
   "cell_type": "code",
   "execution_count": 3,
   "metadata": {
    "tags": [
     "hide-input",
     "hide-output"
    ]
   },
   "outputs": [
    {
     "name": "stdout",
     "output_type": "stream",
     "text": [
      "The position is 86.4000000000000 m.\n"
     ]
    }
   ],
   "source": [
    "%reset -f \n",
    "\n",
    "import sympy as sym\n",
    "\n",
    "m = 1.0\n",
    "x1 = 0.0\n",
    "y1 = 0.0\n",
    "t1 = 0.0\n",
    "t2 = 8.00\n",
    "\n",
    "t = sym.Symbol('t')\n",
    "x = sym.Symbol('x')\n",
    "y = sym.Symbol('y')\n",
    "\n",
    "fy = 0.550*t\n",
    "y = sym.integrate(fy,t)\n",
    "\n",
    "fx = 2.00 + 1.50*y\n",
    "x = sym.integrate(fx,t)\n",
    "x2 = x.subs(t,t2)\n",
    "print('The position is '+str(x2)+' m.')"
   ]
  },
  {
   "cell_type": "markdown",
   "metadata": {},
   "source": [
    "<hr style=\"height:2px;border-width:0;color:gray;background-color:gray\">"
   ]
  },
  {
   "cell_type": "markdown",
   "metadata": {},
   "source": [
    "<h2>Problem D3.4</h2>\n",
    "    </header>\n",
    "\n",
    "Mass $M_A = 4.0$ kg rests on top of mass $M_B = 5.0$ kg that rests on a frictionless table. The coefficient of friction between the two blocks is such that the blocks just start to slip when the horizontal force $F$ applied to the lower block is $27$ N. Suppose that now a horizontal force is applied to the upper block. What is its maximum value for the blocks to slide without slipping relative to each other?\n",
    "\n",
    "<img src=\"P-fig3.4.png\"  width=\"200\"/>\n",
    "\n",
    "**This is problem 3.2 in Kleppner and Kolenkow**."
   ]
  },
  {
   "cell_type": "code",
   "execution_count": 4,
   "metadata": {
    "tags": [
     "hide-input",
     "hide-output"
    ]
   },
   "outputs": [
    {
     "name": "stdout",
     "output_type": "stream",
     "text": [
      "The maximum force is 21.6000000000000 N\n"
     ]
    }
   ],
   "source": [
    "%reset -f\n",
    "\n",
    "import sympy as sym\n",
    "\n",
    "M_A = 4.0\n",
    "M_B = 5.0\n",
    "g = 9.81\n",
    "F = 27\n",
    "\n",
    "#First find coefficient of friction before a force is applied to A\n",
    "#Choose standard cartesian reference frame\n",
    "Fg_A = M_A*g\n",
    "Fg_B = M_B*g\n",
    "\n",
    "mu = sym.Symbol('mu')   #coeff of friction\n",
    "FN_AB = sym.Symbol('FN_AB')  #normal force on A due to B\n",
    "FN_B = sym.Symbol('FN_B')    #normal force on B due to table\n",
    "A_Ax = sym.Symbol('A_Ax')    #x-acc of A\n",
    "A_Ay = sym.Symbol('A_Ay')\n",
    "A_Bx = sym.Symbol('A_Bx')\n",
    "A_By = sym.Symbol('A_By')\n",
    "\n",
    "Ff = mu*FN_AB    #frictional force\n",
    "FN_BA = FN_AB  #normal force on B due to A\n",
    "\n",
    "#N2 on A:\n",
    "eqAx = M_A*A_Ax - Ff\n",
    "eqAy = M_A*A_Ay - FN_AB + Fg_A\n",
    "\n",
    "#N2 on B\n",
    "eqBx = M_B*A_Bx - F + Ff\n",
    "eqBy = M_B*A_By + FN_BA + Fg_B - FN_B\n",
    "\n",
    "#equation of constraint: x1 = x2 --> A_AX = A_Bx\n",
    "eq1 = A_Ax - A_Bx\n",
    "#equation of constraint: y1 = constant, y2 = constant --> A_Ay = A_By = 0\n",
    "eq2 = A_Ay\n",
    "eq3 = A_By\n",
    "\n",
    "sol = sym.solve((eqAx,eqAy,eqBx,eqBy,eq1,eq2,eq3),(mu, FN_AB,FN_B,A_Ax,A_Ay,A_Bx,A_By))\n",
    "mu = sol[0][0]\n",
    "\n",
    "#-------------------\n",
    "# Assume the force on block B is gone and a new horizontal, unknown force F_A is applied to A\n",
    "#-------------------\n",
    "F_A = sym.Symbol('F_A')\n",
    "Ff = mu*FN_AB    #frictional force but now mu is known\n",
    "\n",
    "#N2 on A:\n",
    "eqAx = M_A*A_Ax + Ff - F_A\n",
    "eqAy = M_A*A_Ay - FN_AB + Fg_A\n",
    "\n",
    "#N2 on B\n",
    "eqBx = M_B*A_Bx - Ff\n",
    "eqBy = M_B*A_By + FN_BA + Fg_B - FN_B\n",
    "\n",
    "#same equations of constraint\n",
    "sol1 = sym.solve((eqAx,eqAy,eqBx,eqBy,eq1,eq2,eq3),(F_A, FN_AB,FN_B,A_Ax,A_Ay,A_Bx,A_By))\n",
    "print('The maximum force is '+str(sol1[F_A])+' N')"
   ]
  },
  {
   "cell_type": "markdown",
   "metadata": {},
   "source": [
    "<hr style=\"height:2px;border-width:0;color:gray;background-color:gray\">"
   ]
  },
  {
   "cell_type": "markdown",
   "metadata": {},
   "source": [
    "<h2>Problem D3.5</h2>\n",
    "    </header>\n",
    "\n",
    "The system of masses $M_1$, $M_2$, and $M_3$ in the sketch uses massless pulleys and ropes. The horizontal table is frictionless. Gravity is directed downward.\n",
    "\n",
    "1. Draw force diagrams, and show all relevant coordinates.\n",
    "2. How are the accelerations related?\n",
    "\n",
    "<img src=\"P-fig3.5.png\"  width=\"200\"/>\n",
    "\n",
    "**This is part of problem 2.10 in Kleppner and Kolenkow**."
   ]
  },
  {
   "cell_type": "markdown",
   "metadata": {
    "tags": [
     "hide-output"
    ]
   },
   "source": [
    "```{admonition} Problem D2.1\n",
    ":class: tip, dropdown\n",
    "\n",
    "<div style=\"background-color: #D0D0D0 ; padding: 10px; border: 1px solid black;\">\n",
    "<header>\n",
    "\n",
    "#### Part 1\n",
    "\n",
    "My choice of coordinate system and respective non-zero coordinates are shown.  \n",
    "\n",
    "<img src=\"P-fig3.5a.png\"  width=\"400\"/>\n",
    "\n",
    "The free-body-diagram is shown below\n",
    "\n",
    "<img src=\"P-fig3.5b.png\"  width=\"400\"/>\n",
    "\n",
    "The red spots are all the interaction points. In this example, we took advantage of the fact that the pulleys and ropes are massless, which means that are just transmitting the forces and play no other role in the dynamics.\n",
    "\n",
    "#### Part 2\n",
    "\n",
    "The length of the rope, $l$ is constant. With the coordinates chosen, we then have the following equation of constraint\n",
    "\n",
    "$$ x_2 - x_1 + 2y_3 = l $$\n",
    "\n",
    "Take twice the time derivative provides us with the relationship between the accelerations\n",
    "\n",
    "$$ \\ddot{x}_2 - \\ddot{x}_1 + 2\\ddot{y}_2 = 0 $$ \n",
    "</div>\n",
    "```"
   ]
  },
  {
   "cell_type": "markdown",
   "metadata": {},
   "source": [
    "<hr style=\"height:2px;border-width:0;color:gray;background-color:gray\">"
   ]
  },
  {
   "cell_type": "markdown",
   "metadata": {},
   "source": [
    "<h2>Problem D3.6</h2>\n",
    "    </header>\n",
    "\n",
    "A $45^\\circ$ wedge is pushed along a table with constant acceleration $A$. A block of mass $m$ slides without friction on the wedge. Find the block’s acceleration.\n",
    "\n",
    "<img src=\"P-fig3.6.png\"  width=\"200\"/>\n",
    "\n",
    "**This is problem 2.11 in Kleppner and Kolenkow**."
   ]
  },
  {
   "cell_type": "markdown",
   "metadata": {},
   "source": [
    "<hr style=\"height:2px;border-width:0;color:gray;background-color:gray\">"
   ]
  },
  {
   "cell_type": "markdown",
   "metadata": {},
   "source": [
    "<h2>Problem D3.7</h2>\n",
    "    </header>\n",
    "\n",
    "A pole of negligible mass leans against a wall, at angle θ with the horizontal. Find the constraint relating the vertical acceleration of one end to the horizontal acceleration of the other.\n",
    "\n",
    "\n",
    "<img src=\"P-fig3.7a.png\"  width=\"200\"/>\n",
    "\n",
    "**This is part of problem 2.7 in Kleppner and Kolenkow**."
   ]
  },
  {
   "cell_type": "markdown",
   "metadata": {},
   "source": [
    "<hr style=\"height:2px;border-width:0;color:gray;background-color:gray\">"
   ]
  }
 ],
 "metadata": {
  "celltoolbar": "Tags",
  "kernelspec": {
   "display_name": "Python 3 (ipykernel)",
   "language": "python",
   "name": "python3"
  },
  "language_info": {
   "codemirror_mode": {
    "name": "ipython",
    "version": 3
   },
   "file_extension": ".py",
   "mimetype": "text/x-python",
   "name": "python",
   "nbconvert_exporter": "python",
   "pygments_lexer": "ipython3",
   "version": "3.10.9"
  }
 },
 "nbformat": 4,
 "nbformat_minor": 4
}