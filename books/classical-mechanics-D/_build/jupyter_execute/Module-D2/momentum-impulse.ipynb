{
 "cells": [
  {
   "cell_type": "markdown",
   "metadata": {},
   "source": [
    "# D2.1 Linear Momentum and Impulse\n",
    "<hr style=\"height:2px;border-width:0;color:gray;background-color:gray\">"
   ]
  },
  {
   "cell_type": "markdown",
   "metadata": {},
   "source": [
    "## D2.1.1 Motivation\n",
    "\n",
    "Momentum is arguable the most fundamental concept in Newtonian mechanics. Newton's laws of motion talks about motion and change in motion, but does not specify what motion is.\n",
    "\n",
    "<div class=\"alert alert-success\">\n",
    "    \n",
    "Linear momentum <b>is</b> linear motion.\n",
    "</div>\n",
    "\n",
    "When motion, or momentum, for a particle is constant we know that the net interaction on it must be zero. Often we are more interested in the **change in motion** or change in momentum and that is where **impulse** comes in.\n",
    "    \n",
    "<hr style=\"height:2px;border-width:0;color:gray;background-color:gray\">"
   ]
  },
  {
   "cell_type": "markdown",
   "metadata": {},
   "source": [
    "## D2.1.2 Definition - Momentum\n",
    "\n",
    "We define the **classical linear momentum** of a particle with mass $m$ and moving with a velocity $\\vec{v}$ as\n",
    "\n",
    "<div class=\"alert alert-success\">\n",
    "    \n",
    "$$\\vec{p} = m\\vec{v} $$\n",
    "</div>\n",
    "\n",
    "Similarly, we define the **center of mass linear momentum** of an extended systme/object as\n",
    "\n",
    "<div class=\"alert alert-success\">\n",
    "    \n",
    "$$\\vec{P} = M\\vec{V} $$\n",
    "</div>\n",
    "\n",
    "where $M$ is the mass of the system and $\\vec{V}$ is the velocity of the center of mass.\n",
    "    \n",
    "<hr style=\"height:2px;border-width:0;color:gray;background-color:gray\">"
   ]
  },
  {
   "cell_type": "markdown",
   "metadata": {},
   "source": [
    "## D2.1.3 Definition - Impulse\n",
    "\n",
    "When a particle is subject to a force acting through some elapsed time, the force will **transfer momentum** to/from the particle depending on the interaction. The **momentum transfer** is also known as **impulse** and is defined as\n",
    "\n",
    "<div class=\"alert alert-success\">\n",
    "    \n",
    "$$\\vec{i} = \\int_{t_1}^{t_2}\\vec{f}dt $$\n",
    "</div>\n",
    "\n",
    "Similarly, we define the **center of mass impulse** of an extended systme/object as\n",
    "\n",
    "<div class=\"alert alert-success\">\n",
    "    \n",
    "$$\\vec{I} = \\int_{t_1}^{t_2}\\vec{F}dt $$\n",
    "</div>\n",
    "\n",
    "Notice that the definite integral implies a **change in** something, while the left side of the equations do not explicitly show a change. One should remember that the impulse is a **transfer** of momentum and therefore do represent changes.\n",
    "    \n",
    "<hr style=\"height:2px;border-width:0;color:gray;background-color:gray\">"
   ]
  },
  {
   "cell_type": "markdown",
   "metadata": {},
   "source": [
    "## D2.1.4 Momentum-Impulse Theorem: Newton's 2nd Law\n",
    "\n",
    "Newton defined his 2nd law as: \"**A particle's motion will change upon a net interaction through some time**, and it is quantified in **differential form** as\n",
    "\n",
    "<div class=\"alert alert-success\">\n",
    "\n",
    "$$ d\\vec{p} = \\vec{f}_{net}dt \\tag{1}$$\n",
    "</div>\n",
    "\n",
    "We can then readily observe that the **net impulse** is the same as the particle's change in momentum in integral from:\n",
    "\n",
    "<div class=\"alert alert-success\">\n",
    "    \n",
    "$$\\Delta\\vec{p} = \\int_{t_1}^{t_2}\\vec{f}_{net}dt \\tag{2}$$\n",
    "</div>\n",
    "\n",
    "The **momentum-impulse theorem** is often stated in either form (1) or (2).\n",
    "\n",
    "In **derivative form**, we have the more common form of Newton's 2nd law:\n",
    "\n",
    "$$ \\vec{f} = \\frac{d\\vec{p}}{dt} $$\n",
    "\n",
    "<hr style=\"height:2px;border-width:0;color:gray;background-color:gray\">"
   ]
  },
  {
   "cell_type": "markdown",
   "metadata": {},
   "source": [
    "<div class=\"alert alert-warning\">\n",
    "<b>Box 1</b><br>\n",
    "    \n",
    "A particle of mass 2.5 kg is moving in the horizontal $xy$-plane with a speed of 45 m/s when hits a fixed wall at an angle of 65$^\\circ$ with respect to the normal of the wall. The particle rebounds at an angle of  50.0$^\\circ$ with respect to the normal and a speed of 20.0 m/s. The contact time between the particle and the wall is 0.010 s. Let x-direction be perpendicular to and away from the wall and the y-direction parallel to the wall in the direction of motion. \n",
    "    \n",
    "1. What is the impulse due to the impact force?\n",
    "2. What are the components of the impact force?\n",
    "3. What can you say about conservation of momentum and energy?\n",
    "</div>"
   ]
  },
  {
   "cell_type": "code",
   "execution_count": 1,
   "metadata": {
    "tags": [
     "hide-input",
     "hide-output"
    ]
   },
   "outputs": [
    {
     "name": "stdout",
     "output_type": "stream",
     "text": [
      "The impulse experienced by the particle is: [ 79.68393493 -63.65740389] kgm/s\n",
      "The force components acting on the particle are: [ 7968.39349302 -6365.74038857] N\n"
     ]
    }
   ],
   "source": [
    "%reset -f\n",
    "import numpy as np\n",
    "\n",
    "m = 2.5\n",
    "v1 = 45\n",
    "theta1 = np.radians(65)\n",
    "v2 = 20.0\n",
    "theta2 = np.radians(50.0)\n",
    "dt = 0.01\n",
    "\n",
    "v1x = -v1*np.cos(theta1)\n",
    "v1y = v1*np.sin(theta1)\n",
    "v2x = v2*np.cos(theta2)\n",
    "v2y = v2*np.sin(theta2)\n",
    "\n",
    "v1 = np.array([v1x, v1y])\n",
    "v2 = np.array([v2x, v2y])\n",
    "\n",
    "p1 = m*v1\n",
    "p2 = m*v2\n",
    "\n",
    "i = p2 - p1\n",
    "print('The impulse experienced by the particle is: '+str(i)+' kgm/s')\n",
    "\n",
    "f = i/dt\n",
    "print('The force components acting on the particle are: '+str(f)+' N')"
   ]
  },
  {
   "cell_type": "markdown",
   "metadata": {},
   "source": [
    "<hr style=\"height:2px;border-width:0;color:gray;background-color:gray\">"
   ]
  }
 ],
 "metadata": {
  "celltoolbar": "Tags",
  "kernelspec": {
   "display_name": "Python 3 (ipykernel)",
   "language": "python",
   "name": "python3"
  },
  "language_info": {
   "codemirror_mode": {
    "name": "ipython",
    "version": 3
   },
   "file_extension": ".py",
   "mimetype": "text/x-python",
   "name": "python",
   "nbconvert_exporter": "python",
   "pygments_lexer": "ipython3",
   "version": "3.10.9"
  }
 },
 "nbformat": 4,
 "nbformat_minor": 2
}