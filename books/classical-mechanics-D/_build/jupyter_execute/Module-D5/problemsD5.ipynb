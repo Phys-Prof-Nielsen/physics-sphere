{
 "cells": [
  {
   "cell_type": "markdown",
   "metadata": {},
   "source": [
    "# D5.3 Problems\n",
    "<hr style=\"height:2px;border-width:0;color:gray;background-color:gray\">"
   ]
  },
  {
   "cell_type": "markdown",
   "metadata": {},
   "source": [
    "<h2>Problem D5.1</h2>\n",
    "    </header>\n",
    "\n",
    "An ultracentrifuge accelerates from rest to 100,000 rpm in 2.00 min.\n",
    "\n",
    "1. What is its angular acceleration in  rad/s$^2$? \n",
    "2. What is the tangential acceleration of a point 9.50 cm from the axis of rotation?\n",
    "\n",
    "[This problem is a slightly modified version from OpenStax. Access for free](https://openstax.org/books/college-physics-2e/pages/10-problems-exercises)"
   ]
  },
  {
   "cell_type": "code",
   "execution_count": 1,
   "metadata": {
    "tags": [
     "hide-input",
     "hide-output"
    ]
   },
   "outputs": [
    {
     "name": "stdout",
     "output_type": "stream",
     "text": [
      "Angular acceleration is 87.26646259971648 rad/s^2.\n",
      "Tangential acceleration is 8.290313946973065 m/s^2.\n"
     ]
    }
   ],
   "source": [
    "%reset -f\n",
    "\n",
    "import numpy as np\n",
    "\n",
    "w0 = 0.0\n",
    "w1 = 1E5*(2*np.pi/1.0)*(1.0/60.0)  #angular speed from rev/min to rad/s\n",
    "dt = 2.00*(60.0/1.0)\n",
    "\n",
    "# Part 1\n",
    "# ------\n",
    "a = (w1 - w0)/dt\n",
    "print('Angular acceleration is '+str(a)+' rad/s^2.')\n",
    "\n",
    "# Part 2\n",
    "# ------\n",
    "R = 9.50E-2\n",
    "a_t = R*a\n",
    "print('Tangential acceleration is '+str(a_t)+' m/s^2.')\n"
   ]
  },
  {
   "cell_type": "markdown",
   "metadata": {},
   "source": [
    "<hr style=\"height:2px;border-width:0;color:gray;background-color:gray\">"
   ]
  },
  {
   "cell_type": "markdown",
   "metadata": {},
   "source": [
    "<h2>Problem D5.2</h2>\n",
    "    </header>\n",
    "\n",
    "During a very quick stop, a car decelerates at 7.00 m/s$^2$.\n",
    "\n",
    "1. What is the angular acceleration of its 0.280 m radius tires, assuming they do not slip on the pavement?\n",
    "2. How many revolutions do the tires make before coming to rest, given their initial angular velocity is  95.0 rad/s?\n",
    "3. How long does the car take to stop completely?\n",
    "4. What distance does the car travel in this time?\n",
    "5. What was the car’s initial velocity?\n",
    "6. Do the values obtained seem reasonable, considering that this stop happens very quickly?\n",
    "\n",
    "[This problem is a slightly modified version from OpenStax. Access for free](https://openstax.org/books/college-physics-2e/pages/10-problems-exercises)"
   ]
  },
  {
   "cell_type": "code",
   "execution_count": 2,
   "metadata": {
    "tags": [
     "hide-input",
     "hide-output"
    ]
   },
   "outputs": [
    {
     "name": "stdout",
     "output_type": "stream",
     "text": [
      "Angular acceleration is -24.999999999999996 rad/s^2.\n",
      "Number of revolutions are: 28.7274672280871 rev.\n",
      "Time to stop is 3.8000000000000007 s.\n",
      "The distance traveled is 50.5400000000000 m.\n",
      "Initial velocity was 26.6 m/s.\n",
      "Somewhat reasonable.\n"
     ]
    }
   ],
   "source": [
    "%reset -f\n",
    "\n",
    "import sympy as sym\n",
    "import numpy as np\n",
    "\n",
    "a_t = -7.00\n",
    "\n",
    "# Part 1\n",
    "R = 0.280\n",
    "a = a_t/R\n",
    "print('Angular acceleration is '+str(a)+' rad/s^2.')\n",
    "\n",
    "# Part 2\n",
    "w0 = 95.0\n",
    "w1 = 0.0\n",
    "dtheta = sym.Symbol('dtheta')\n",
    "eq = w1**2 - w0**2 - 2*dtheta*a\n",
    "sol = sym.solve(eq, dtheta)\n",
    "dtheta = sol[0]\n",
    "rev = dtheta*(1.0/(2*np.pi))\n",
    "print('Number of revolutions are: '+str(rev)+' rev.')\n",
    "\n",
    "# Part 3\n",
    "dt = (w1 - w0)/a\n",
    "print('Time to stop is '+str(dt)+' s.')\n",
    "\n",
    "# Part 4\n",
    "dx = R*dtheta\n",
    "print('The distance traveled is '+str(dx)+' m.')\n",
    "\n",
    "# Part 5\n",
    "v0 = R*w0\n",
    "print('Initial velocity was '+str(v0)+' m/s.')\n",
    "\n",
    "# Part 6\n",
    "print('Somewhat reasonable.')"
   ]
  },
  {
   "cell_type": "markdown",
   "metadata": {},
   "source": [
    "<hr style=\"height:2px;border-width:0;color:gray;background-color:gray\">"
   ]
  },
  {
   "cell_type": "markdown",
   "metadata": {},
   "source": [
    "<h2>Problem D5.3</h2>\n",
    "    </header>\n",
    "\n",
    "A wheel has a constant angular acceleration of 5.0 rad/s$^2$. Starting from rest, it turns through 300.0 rad. \n",
    "\n",
    "1. What is its final angular velocity? \n",
    "2. How much time elapses while it turns through the 300.0 radians?\n",
    "\n",
    "[This problem is a slightly modified version from OpenStax. Access for free](https://openstax.org/books/university-physics-volume-1/pages/10-problems)"
   ]
  },
  {
   "cell_type": "code",
   "execution_count": 3,
   "metadata": {
    "tags": [
     "hide-input",
     "hide-output"
    ]
   },
   "outputs": [
    {
     "name": "stdout",
     "output_type": "stream",
     "text": [
      "Final angular velocity is 54.7722557505166 rad/s^2.\n",
      "Elapsed time is 10.9544511501033 s.\n"
     ]
    }
   ],
   "source": [
    "%reset -f\n",
    "\n",
    "import sympy as sym\n",
    "\n",
    "a = 5.0\n",
    "dtheta = 300.0\n",
    "\n",
    "# Part 1\n",
    "w0 = 0.0\n",
    "w1 = sym.Symbol('w1')\n",
    "eq = w1**2 - w0**2 - 2*dtheta*a\n",
    "sol = sym.solve(eq,w1)\n",
    "w1 = sol[1]\n",
    "print('Final angular velocity is '+str(w1)+' rad/s^2.')\n",
    "\n",
    "# Part 2\n",
    "dt = (w1 - w0)/a\n",
    "print('Elapsed time is '+str(dt)+' s.')"
   ]
  },
  {
   "cell_type": "markdown",
   "metadata": {},
   "source": [
    "<hr style=\"height:2px;border-width:0;color:gray;background-color:gray\">"
   ]
  },
  {
   "cell_type": "markdown",
   "metadata": {},
   "source": [
    "<h2>Problem D5.4</h2>\n",
    "    </header>\n",
    "\n",
    "On takeoff, the propellers on a UAV (unmanned aerial vehicle) increase their angular velocity for 3.0 s from rest at a rate of $(25.0t)~\\textrm{rad/s}^2$ where t is measured in seconds. \n",
    "\n",
    "1. What is the instantaneous angular velocity of the propellers at t = 2.0s?\n",
    "2. What is the angular acceleration?\n",
    "\n",
    "[This problem is a slightly modified version from OpenStax. Access for free](https://openstax.org/books/university-physics-volume-1/pages/10-problems)"
   ]
  },
  {
   "cell_type": "code",
   "execution_count": 4,
   "metadata": {
    "tags": [
     "hide-input",
     "hide-output"
    ]
   },
   "outputs": [
    {
     "name": "stdout",
     "output_type": "stream",
     "text": [
      "The instantaneous velocity at t = 2.0 s is 66.6666666666667 rad/s.\n"
     ]
    }
   ],
   "source": [
    "%reset -f\n",
    "\n",
    "import sympy as sym\n",
    "\n",
    "t0 = 0.0\n",
    "t1 = 2.0\n",
    "w0 = 0.0\n",
    "\n",
    "t = sym.Symbol('t')\n",
    "a = 25.0*t**2\n",
    "\n",
    "w1 = sym.integrate(a,(t,t0,t1)) + w0\n",
    "print('The instantaneous velocity at t = 2.0 s is '+str(w1)+' rad/s.')"
   ]
  },
  {
   "cell_type": "markdown",
   "metadata": {},
   "source": [
    "<hr style=\"height:2px;border-width:0;color:gray;background-color:gray\">"
   ]
  },
  {
   "cell_type": "markdown",
   "metadata": {},
   "source": [
    "<h2>Problem D5.5</h2>\n",
    "    </header>\n",
    "\n",
    "The angular velocity vs. time for a fan on a hovercraft is shown below. \n",
    "\n",
    "1. What is the angle through which the fan blades rotate in the first 8 seconds? \n",
    "2. Verify your result using the kinematic equations.\n",
    "\n",
    "<img src=\"D5-P5.5.png\"  width=\"400\"/>\n",
    "\n",
    "[This problem is a slightly modified version from OpenStax. Access for free](https://openstax.org/books/university-physics-volume-1/pages/10-problems)"
   ]
  },
  {
   "cell_type": "code",
   "execution_count": 5,
   "metadata": {
    "tags": [
     "hide-input",
     "hide-output"
    ]
   },
   "outputs": [
    {
     "name": "stdout",
     "output_type": "stream",
     "text": [
      "The angular displacement is 1600.00000000000 rad.\n"
     ]
    }
   ],
   "source": [
    "%reset -f\n",
    "\n",
    "import sympy as sym\n",
    "\n",
    "#area bound by graph and horizontal t-axis is the angular displacement\n",
    "#find equation of line\n",
    "slope = (400 - 0)/(8 - 0)\n",
    "\n",
    "t0 = 0\n",
    "t1 = 8\n",
    "\n",
    "t = sym.Symbol('t')\n",
    "w = slope*t\n",
    "dtheta = sym.integrate(w,(t,t0,t1))\n",
    "print('The angular displacement is '+str(dtheta)+' rad.')"
   ]
  },
  {
   "cell_type": "markdown",
   "metadata": {},
   "source": [
    "<hr style=\"height:2px;border-width:0;color:gray;background-color:gray\">"
   ]
  },
  {
   "cell_type": "markdown",
   "metadata": {},
   "source": [
    "<h2>Problem D5.6</h2>\n",
    "    </header>\n",
    "\n",
    "The angular acceleration of a rotating rigid body is given by $\\alpha = (2.0 - 3.0t)~\\textrm{rad/s}^2$. If the body starts rotating from rest at t = 0 s and at $\\theta_0 = 0.15~\\textrm{rad}$, \n",
    "\n",
    "1. what is the angular speed as a function of time? \n",
    "2. Angular position as function of time? \n",
    "3. What angle does it rotate through in 10 s? \n",
    "\n",
    "[This problem is a slightly modified version from OpenStax. Access for free](https://openstax.org/books/university-physics-volume-1/pages/10-problems)"
   ]
  },
  {
   "cell_type": "code",
   "execution_count": 6,
   "metadata": {
    "tags": [
     "hide-input",
     "hide-output"
    ]
   },
   "outputs": [
    {
     "name": "stdout",
     "output_type": "stream",
     "text": [
      "Angular speed (in rad/s): -1.5*t**2 + 2.0*t\n",
      "Angular position (in rad): -0.5*t**3 + 1.0*t**2 + 0.15\n",
      "Angular distance (in rad): -400.000000000000\n"
     ]
    }
   ],
   "source": [
    "%reset -f\n",
    "import sympy as sym\n",
    "\n",
    "w0 = 0.0\n",
    "theta0 = 0.15\n",
    "\n",
    "#integral variable\n",
    "t = sym.Symbol('t')\n",
    "\n",
    "# PART 1\n",
    "#-------------------\n",
    "#function to integrate\n",
    "alpha = 2.0 - 3.0*t \n",
    "\n",
    "omega = sym.integrate(alpha,t)\n",
    "\n",
    "print('Angular speed (in rad/s): '+str(omega))\n",
    "#-------------------\n",
    "\n",
    "# PART 2\n",
    "#-------------------\n",
    "theta = sym.integrate(omega,t)\n",
    "print('Angular position (in rad): '+str(theta+theta0))\n",
    "#-------------------\n",
    "\n",
    "# PART 3\n",
    "#-------------------\n",
    "t1 = 0.0\n",
    "t2 = 10.0\n",
    "\n",
    "dtheta = sym.integrate(omega,(t,t1,t2))\n",
    "print('Angular distance (in rad): '+str(dtheta))\n",
    "#-------------------"
   ]
  },
  {
   "cell_type": "markdown",
   "metadata": {},
   "source": [
    "<hr style=\"height:2px;border-width:0;color:gray;background-color:gray\">"
   ]
  }
 ],
 "metadata": {
  "celltoolbar": "Tags",
  "kernelspec": {
   "display_name": "Python 3 (ipykernel)",
   "language": "python",
   "name": "python3"
  },
  "language_info": {
   "codemirror_mode": {
    "name": "ipython",
    "version": 3
   },
   "file_extension": ".py",
   "mimetype": "text/x-python",
   "name": "python",
   "nbconvert_exporter": "python",
   "pygments_lexer": "ipython3",
   "version": "3.9.12"
  }
 },
 "nbformat": 4,
 "nbformat_minor": 4
}