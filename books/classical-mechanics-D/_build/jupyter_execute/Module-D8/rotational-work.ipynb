{
 "cells": [
  {
   "cell_type": "markdown",
   "metadata": {},
   "source": [
    "# D8.1 Work - Energy - Rotational Dynamics\n",
    "<hr style=\"height:2px;border-width:0;color:gray;background-color:gray\">"
   ]
  },
  {
   "cell_type": "markdown",
   "metadata": {},
   "source": [
    "## D8.1.1 Point Particle\n",
    "\n",
    "The **linear kinetic energy** of a point particle is defined as\n",
    "\n",
    "$$ k = \\frac{1}{2}mv^2 $$\n",
    "\n",
    "If the point particle is traveling in a **circular** motion of radius $R$, then this is equivalent to\n",
    "\n",
    "$$ k = \\frac{1}{2}mR^2\\omega^2 $$\n",
    "\n",
    "where we used the constraint relationship $v_t = R\\omega$.\n",
    "\n",
    "<div class=\"alert alert-info\">\n",
    "    \n",
    "We notice that there is no **rotational energy** for a point particle per se since these two equations describe the **same** motion.\n",
    "</div>\n",
    "\n",
    "The above statement is reflected in the work of the point particle as the work is simply the linear work we defined previously in the course.\n",
    "\n",
    "<hr style=\"height:2px;border-width:0;color:gray;background-color:gray\">"
   ]
  },
  {
   "cell_type": "markdown",
   "metadata": {},
   "source": [
    "## D8.1.2 Extended Object\n",
    "\n",
    "As in previous module, we will only consider rotation limited to a fixed axis, say about the z-axis.\n",
    "\n",
    "In our analysis of the angular momentum of an extended object, we considered two different kinds of dynamics: spin (rotation about an internal axis) and orbital (rotation about an external axis). We should be now recognize that he orbital motion is a form of **translational** motion.\n",
    "\n",
    "### Orbital/Translational\n",
    "\n",
    "The result is the one stated for linear motion in Module 4, but we will show it here.\n",
    "\n",
    "We can start with Newton's 2nd law for CM translational motion (constant mass):\n",
    "\n",
    "$$ \\vec{F}_{net} = M\\ddot{\\vec{R}} $$\n",
    "\n",
    "The differential work done by displacing the CM by $d\\vec{R}$ is\n",
    "\n",
    "$$ \\vec{F}_{net}\\cdot d\\vec{R} = M\\ddot{\\vec{R}}\\cdot d\\vec{R} $$\n",
    "\n",
    "Since $\\ddot{\\vec{R}} = \\dot{\\vec{V}}$ and $d\\vec{R} = \\vec{V}dt $ we have\n",
    "\n",
    "$$ \\vec{F}_{net}\\cdot d\\vec{R} = M\\ddot{\\vec{R}}\\cdot d\\vec{R} $$\n",
    "\n",
    "Using the relation\n",
    "\n",
    "$$ \\dot{V^2} = \\dot{(\\vec{V}\\cdot\\vec{V})} = \\vec{V}\\dot{\\vec{V}} + \\dot{\\vec{V}}\\vec{V} = 2\\dot{\\vec{V}}\\vec{V}$$\n",
    "\n",
    "we have\n",
    "\n",
    "$$ \\vec{F}_{net}\\cdot d\\vec{R} = d\\left( \\frac{1}{2}MV^2 \\right) $$\n",
    "\n",
    "The net work along a path between points 1 and 2 is then\n",
    "\n",
    "<div class=\"alert alert-success\">\n",
    "\n",
    "$$ \\int_C\\vec{F}_{net}\\cdot d\\vec{R} = \\frac{1}{2}MV_{2}^2 - \\frac{1}{2}MV_{1}^2 $$\n",
    "</div>\n",
    "\n",
    "<div class=\"alert alert-danger\">\n",
    "    \n",
    "This is not the work done on the system, but simply the work done on the CM.\n",
    "</div>\n",
    "\n",
    "### Spin\n",
    "\n",
    "The kinetic energy of the spinning object can be evaluated by considering the **orbital kinetic energy** of each point particle about the **intrinsic** axis:\n",
    "\n",
    "$$ K = \\sum\\frac{1}{2}m_{i}v_{i}^2 $$\n",
    "\n",
    "Use the no-slip constraint equation:\n",
    "\n",
    "$$ K = \\sum\\frac{1}{2}m_{i}d_{i}^{2}\\omega_{i}^2 $$\n",
    "\n",
    "where $d_i$ is the perpendicular distance to axis of rotation.\n",
    "\n",
    "Since all particles in a solid object rotates at the same rate, we can write\n",
    "\n",
    "$$ K = \\sum\\frac{1}{2}m_{i}d_{i}^{2}\\Omega_{z}^2 $$\n",
    "\n",
    "Using the definition of the momentum of inertia, we have\n",
    "\n",
    "<div class=\"alert alert-success\">\n",
    "\n",
    "$$ K =  \\frac{1}{2}I_{zz}\\Omega_z$$\n",
    "</div>\n",
    "\n",
    "For the work-energy theorem, a similar approach to above can be made for the spin part of the motion. \n",
    "\n",
    "Consider Newton's second law for spinning motion about an intrinsic axis through the CM:\n",
    "\n",
    "$$ \\mathcal{T}_{z} = I_{zz}\\mathcal{A}_z $$ \n",
    "\n",
    "Applying a similar tactic as for the orbital/translational case, we have\n",
    "\n",
    "<div class=\"alert alert-success\">\n",
    "\n",
    "$$ \\int_{\\theta_1}^{\\theta_2}\\mathcal{T}_z d\\theta = \\frac{1}{2}I_{zz}\\Omega_{z,2}^2 - \\frac{1}{2}I_{zz}\\Omega_{z,1}^2 $$\n",
    "</div>\n",
    "\n",
    "\n",
    "\n",
    "### Combined Orbital and Spin\n",
    "\n",
    "Simply add the two together work-energies together."
   ]
  },
  {
   "cell_type": "markdown",
   "metadata": {},
   "source": [
    "<hr style=\"height:2px;border-width:0;color:gray;background-color:gray\">"
   ]
  },
  {
   "cell_type": "markdown",
   "metadata": {},
   "source": [
    "<div class=\"alert alert-warning\">\n",
    "<b>Box 1</b><br>\n",
    "    \n",
    "Work through Example 7.16 in **great detail**. This example is DEEEEEEP. We have often been told that the force of friction does no work in problems like this. That is a correct statement from the TRUE work-energy theorem. However, we are using the PSEUDO work of the CM and in that (mathematical) regard, friction does do work. \n",
    "    \n",
    "The reason why it works out by saying \"friction does no work\" is the fact that **friction is NOT a dissipative force here**. Pay attention to the last paragraph discussing how friction is not a dissipative force in this scenario\n",
    "    \n",
    "</div>"
   ]
  },
  {
   "cell_type": "markdown",
   "metadata": {},
   "source": [
    "<hr style=\"height:2px;border-width:0;color:gray;background-color:gray\">"
   ]
  }
 ],
 "metadata": {
  "celltoolbar": "Tags",
  "kernelspec": {
   "display_name": "Python 3 (ipykernel)",
   "language": "python",
   "name": "python3"
  },
  "language_info": {
   "codemirror_mode": {
    "name": "ipython",
    "version": 3
   },
   "file_extension": ".py",
   "mimetype": "text/x-python",
   "name": "python",
   "nbconvert_exporter": "python",
   "pygments_lexer": "ipython3",
   "version": "3.10.9"
  }
 },
 "nbformat": 4,
 "nbformat_minor": 2
}