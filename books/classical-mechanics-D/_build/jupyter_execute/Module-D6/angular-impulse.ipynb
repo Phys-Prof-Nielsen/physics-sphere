{
 "cells": [
  {
   "cell_type": "markdown",
   "metadata": {},
   "source": [
    "# D6.3 Angular Impulse\n",
    "<hr style=\"height:2px;border-width:0;color:gray;background-color:gray\">"
   ]
  },
  {
   "cell_type": "markdown",
   "metadata": {},
   "source": [
    "## D6.3.1 Motivation\n",
    "\n",
    "Just like linear impulse was essential to studying linear motion, the angular impulse is an important concept when applying Newton's laws for rotational motion. \n",
    "\n",
    "<hr style=\"height:2px;border-width:0;color:gray;background-color:gray\">"
   ]
  },
  {
   "cell_type": "markdown",
   "metadata": {},
   "source": [
    "## D6.3.2 Definition\n",
    "\n",
    "The **angular momentum transfer** experienced by a point particle due to a **single rotational force** acting upon the particle through some time interval is \n",
    "\n",
    "<div class=\"alert alert-success\">\n",
    "    \n",
    "$$ \\vec{j} = \\int_{t_1}^{t_2}\\vec{\\tau} dt$$\n",
    "</div>\n",
    "\n",
    "where $\\vec{\\tau}$ is single rotational force. Rotational force is more commonly known as **torque**.\n",
    "\n",
    "Similarly, we can write for the CM\n",
    "\n",
    "$$ \\vec{J} = \\int_{t_1}^{t_2}\\vec{\\mathcal{T}} dt$$\n"
   ]
  },
  {
   "cell_type": "markdown",
   "metadata": {},
   "source": [
    "<hr style=\"height:2px;border-width:0;color:gray;background-color:gray\">"
   ]
  },
  {
   "cell_type": "markdown",
   "metadata": {},
   "source": [
    "## D6.3.3 Angular Momentum - Impulse Theorem: Newton's 2nd Law\n",
    "\n",
    "In analogy to linear motion, the **net angular momentum transfer** is the net impulse:\n",
    "\n",
    "$$ \\Delta\\vec{l} = \\int_{t_1}^{t_2}\\vec{\\tau}_{net}dt $$\n",
    "\n",
    "or in differential form\n",
    "\n",
    "$$ d\\vec{l} = \\vec{\\tau}_{net}dt $$\n",
    "\n",
    "This is known as **Newton's 2nd law for rotational motion**."
   ]
  },
  {
   "cell_type": "markdown",
   "metadata": {},
   "source": [
    "<hr style=\"height:2px;border-width:0;color:gray;background-color:gray\">"
   ]
  },
  {
   "cell_type": "markdown",
   "metadata": {},
   "source": [
    "<div class=\"alert alert-warning\">\n",
    "<b>Box 1</b><br>\n",
    "    \n",
    "A net torque of $+125$ Nm is applied to a disk-shaped wheel. If the wheel has a mass of $25$ kg, radius $0.20$ m, and at $t = 0$ s is rotating at a rate of $12.0$ rad/s, what is its angular speed at $t = 3.0$ s?\n",
    "\n",
    "</div>"
   ]
  },
  {
   "cell_type": "markdown",
   "metadata": {},
   "source": [
    "<hr style=\"height:2px;border-width:0;color:gray;background-color:gray\">"
   ]
  },
  {
   "cell_type": "markdown",
   "metadata": {},
   "source": [
    "<div class=\"alert alert-warning\">\n",
    "<b>Box 2</b><br>\n",
    "    \n",
    "A net torque of $\\tau_z = +125t + 0.2t^2$ Nm is applied to a disk-shaped wheel over the time interval $t = [0,5]$ s. The wheel has a mass of $25$ kg, radius $0.20$ m, and the initial angular velocity component is $\\Omega_z = 8.0$ rad/s. \n",
    "    \n",
    "1. Make a plot of the torque vs. time.\n",
    "2. What does the area bounded by the graph and the horizontal t-axis at $\\tau_z = 0$ represents?\n",
    "3. What is the angular impulse?\n",
    "4. What is the angular velocity component at $t = 3$ s?\n",
    "\n",
    "</div>"
   ]
  },
  {
   "cell_type": "markdown",
   "metadata": {},
   "source": [
    "<hr style=\"height:2px;border-width:0;color:gray;background-color:gray\">"
   ]
  }
 ],
 "metadata": {
  "celltoolbar": "Tags",
  "kernelspec": {
   "display_name": "Python 3 (ipykernel)",
   "language": "python",
   "name": "python3"
  },
  "language_info": {
   "codemirror_mode": {
    "name": "ipython",
    "version": 3
   },
   "file_extension": ".py",
   "mimetype": "text/x-python",
   "name": "python",
   "nbconvert_exporter": "python",
   "pygments_lexer": "ipython3",
   "version": "3.10.9"
  }
 },
 "nbformat": 4,
 "nbformat_minor": 2
}