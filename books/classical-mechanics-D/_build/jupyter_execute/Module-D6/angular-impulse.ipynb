{
 "cells": [
  {
   "cell_type": "markdown",
   "metadata": {},
   "source": [
    "# D6.3 Angular Impulse\n",
    "<hr style=\"height:2px;border-width:0;color:gray;background-color:gray\">"
   ]
  },
  {
   "cell_type": "markdown",
   "metadata": {},
   "source": [
    "## D6.3.1 Motivation\n",
    "\n",
    "Just like linear impulse was essential to studying linear motion, the angular impulse is an important concept when applying Newton's laws for rotational motion. \n",
    "\n",
    "<hr style=\"height:2px;border-width:0;color:gray;background-color:gray\">"
   ]
  },
  {
   "cell_type": "markdown",
   "metadata": {},
   "source": [
    "## D6.3.2 Definition\n",
    "\n",
    "The **angular momentum transfer** experienced by a point particle due to a **single rotational force** acting upon the particle through some time interval is \n",
    "\n",
    "<div class=\"alert alert-success\">\n",
    "    \n",
    "$$ \\vec{j} = \\int_{t_1}^{t_2}\\vec{\\tau} dt$$\n",
    "</div>\n",
    "\n",
    "where $\\vec{\\tau}$ is single rotational force. Rotational force is more commonly known as **torque**.\n",
    "\n",
    "Similarly, we can write for the CM\n",
    "\n",
    "$$ \\vec{J} = \\int_{t_1}^{t_2}\\vec{\\mathcal{T}} dt$$\n"
   ]
  },
  {
   "cell_type": "markdown",
   "metadata": {},
   "source": [
    "<hr style=\"height:2px;border-width:0;color:gray;background-color:gray\">"
   ]
  },
  {
   "cell_type": "markdown",
   "metadata": {},
   "source": [
    "## D6.3.3 Angular Momentum - Impulse Theorem: Newton's 2nd Law\n",
    "\n",
    "In analogy to linear motion, the **net angular momentum transfer** is the net impulse:\n",
    "\n",
    "$$ \\Delta\\vec{l} = \\int_{t_1}^{t_2}\\vec{\\tau}_{net}dt $$\n",
    "\n",
    "or in differential form\n",
    "\n",
    "$$ d\\vec{l} = \\vec{\\tau}_{net}dt $$\n",
    "\n",
    "This is known as **Newton's 2nd law for rotational motion**."
   ]
  },
  {
   "cell_type": "markdown",
   "metadata": {},
   "source": [
    "<hr style=\"height:2px;border-width:0;color:gray;background-color:gray\">"
   ]
  },
  {
   "cell_type": "markdown",
   "metadata": {},
   "source": [
    "<div class=\"alert alert-warning\">\n",
    "<b>Box 1</b><br>\n",
    "    \n",
    "A net torque of $+125$ Nm is applied to a disk-shaped wheel. If the wheel has a mass of $25$ kg, radius $0.20$ m, and at $t = 0$ s is rotating at a rate of $12.0$ rad/s, what is its angular speed at $t = 3.0$ s?\n",
    "\n",
    "</div>"
   ]
  },
  {
   "cell_type": "code",
   "execution_count": 1,
   "metadata": {
    "tags": [
     "hide-input",
     "hide-output"
    ]
   },
   "outputs": [
    {
     "name": "stdout",
     "output_type": "stream",
     "text": [
      "The angular speed at t = 3 s is: 762.000000000000 rad/s.\n"
     ]
    }
   ],
   "source": [
    "%reset -f\n",
    "\n",
    "import sympy as sym\n",
    "\n",
    "T_net = 125\n",
    "M = 25\n",
    "R = 0.20\n",
    "\n",
    "t1 = 0\n",
    "t2 = 3\n",
    "w1 = 12.0\n",
    "\n",
    "I = 0.5*M*R**2\n",
    "\n",
    "w2 = sym.Symbol('w2')\n",
    "t = sym.Symbol('t')\n",
    "eq = I*(w2 - w1) - sym.integrate(T_net,(t,t1,t2))\n",
    "sol = sym.solve(eq,w2)\n",
    "print('The angular speed at t = 3 s is: '+str(sol[0])+' rad/s.')"
   ]
  },
  {
   "cell_type": "markdown",
   "metadata": {},
   "source": [
    "<hr style=\"height:2px;border-width:0;color:gray;background-color:gray\">"
   ]
  },
  {
   "cell_type": "markdown",
   "metadata": {},
   "source": [
    "<div class=\"alert alert-warning\">\n",
    "<b>Box 2</b><br>\n",
    "    \n",
    "A net torque of $\\tau_z = +125t + 0.2t^2$ Nm is applied to a disk-shaped wheel over the time interval $t = [0,5]$ s. The wheel has a mass of $25$ kg, radius $0.20$ m, and the initial angular velocity component is $\\Omega_z = 8.0$ rad/s. \n",
    "    \n",
    "1. Make a plot of the torque vs. time.\n",
    "2. What does the area bounded by the graph and the horizontal t-axis at $\\tau_z = 0$ represents?\n",
    "3. What is the angular impulse during the 5 s?\n",
    "4. What is the angular velocity component at $t = 3$ s?\n",
    "\n",
    "</div>"
   ]
  },
  {
   "cell_type": "code",
   "execution_count": 2,
   "metadata": {
    "tags": [
     "hide-input",
     "hide-output"
    ]
   },
   "outputs": [
    {
     "data": {
      "image/png": "[encoded data removed]",
      "text/plain": [
       "<Figure size 432x288 with 1 Axes>"
      ]
     },
     "metadata": {
      "needs_background": "light"
     },
     "output_type": "display_data"
    },
    {
     "name": "stdout",
     "output_type": "stream",
     "text": [
      "Area represents the angular impulse\n",
      " \n",
      "The angular impulse during the 5 s is: 1570.83333333333\n",
      "The angular speed at t = 3 s is: 1136.60000000000 rad/s.\n"
     ]
    }
   ],
   "source": [
    "%reset -f\n",
    "\n",
    "import sympy as sym\n",
    "import matplotlib.pyplot as plt\n",
    "import numpy as np\n",
    "\n",
    "# Part 1\n",
    "t = np.arange(0.0, 5.1, 0.1)\n",
    "T_net = 125*t + 0.2*t**2\n",
    "\n",
    "fig, ax = plt.subplots()\n",
    "ax.plot(t, T_net, color='r')\n",
    "ax.set(xlabel='Time (s)', ylabel='Torque (Nm)',\n",
    "       title='Net Torque')\n",
    "ax.set_xlim(0, 5)\n",
    "ax.set_ylim(np.min(T_net), np.max(T_net))\n",
    "ax.grid()\n",
    "plt.show()\n",
    "\n",
    "# Part 2\n",
    "print('Area represents the angular impulse')\n",
    "print(' ')\n",
    "\n",
    "\n",
    "# Part 3\n",
    "t1 = 0\n",
    "t2 = 5\n",
    "t = sym.Symbol('t')\n",
    "dl = sym.Symbol('dl')\n",
    "T_net = 125*t + 0.2*t**2\n",
    "eq1 = dl - sym.integrate(T_net,(t,t1,t2))\n",
    "sol1 = sym.solve(eq1,dl)\n",
    "print('The angular impulse during the 5 s is: '+str(sol1[0]))\n",
    "\n",
    "# Part 4\n",
    "\n",
    "M = 25\n",
    "R = 0.20\n",
    "\n",
    "t1 = 0\n",
    "t2 = 3\n",
    "w1 = 8.0\n",
    "\n",
    "I = 0.5*M*R**2\n",
    "\n",
    "w2 = sym.Symbol('w2')\n",
    "eq2 = I*(w2 - w1) - sym.integrate(T_net,(t,t1,t2))\n",
    "sol2 = sym.solve(eq2,w2)\n",
    "print('The angular speed at t = 3 s is: '+str(sol2[0])+' rad/s.')"
   ]
  },
  {
   "cell_type": "markdown",
   "metadata": {},
   "source": [
    "<hr style=\"height:2px;border-width:0;color:gray;background-color:gray\">"
   ]
  }
 ],
 "metadata": {
  "celltoolbar": "Tags",
  "kernelspec": {
   "display_name": "Python 3 (ipykernel)",
   "language": "python",
   "name": "python3"
  },
  "language_info": {
   "codemirror_mode": {
    "name": "ipython",
    "version": 3
   },
   "file_extension": ".py",
   "mimetype": "text/x-python",
   "name": "python",
   "nbconvert_exporter": "python",
   "pygments_lexer": "ipython3",
   "version": "3.9.12"
  }
 },
 "nbformat": 4,
 "nbformat_minor": 2
}