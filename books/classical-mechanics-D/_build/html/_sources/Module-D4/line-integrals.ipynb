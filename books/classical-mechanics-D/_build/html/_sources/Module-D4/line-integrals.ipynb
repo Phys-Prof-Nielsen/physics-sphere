{
 "cells": [
  {
   "cell_type": "markdown",
   "metadata": {},
   "source": [
    "# D4.2 Introduction to Line Integrals\n",
    "<hr style=\"height:2px;border-width:0;color:gray;background-color:gray\">"
   ]
  },
  {
   "cell_type": "markdown",
   "metadata": {},
   "source": [
    "## D4.2.1 Motivation\n",
    "\n",
    "These are notes I typically proivide an *University Physics* courses, but it may be useful to you as well as a refresher on how to calculate the work along a path. If the path consists of nice straight segments then it is relatively straight forward to calculate the line integral in Cartesian coordinates. On the other hand, if the path does not consists of straight segments, then we must employ more advanced technique as we will see here."
   ]
  },
  {
   "cell_type": "markdown",
   "metadata": {},
   "source": [
    "<hr style=\"height:2px;border-width:0;color:gray;background-color:gray\">"
   ]
  },
  {
   "cell_type": "markdown",
   "metadata": {},
   "source": [
    "## D4.2.2 Line Integral of Vector Fields\n",
    "From Calculus I, we have learned how to calculate the integral of a function as it varies with a single variable (in physics, often position $x$ or  time $t$). For the position variable, that implies we are integrating over a straight line segment. For example, the work done by a force $\\vec{F}$ acting on an object that is moving over a displacement $\\Delta \\vec{x} = \\vec{x}_2 - \\vec{x}_1$ is:\n",
    "\n",
    "$$ w = \\int_{x_{1}}^{x_{2}} \\vec{f}\\cdot d\\vec{x} $$\n",
    "\n",
    "or with the dot product written in geometric form using magnitudes of the vectors and relativive orientation:\n",
    "\n",
    "$$ w = \\int_{x_{1}}^{x_{2}} f\\cos\\theta dx $$\n",
    "\n",
    "where $f$ and $dx$ are the respective magnitudes and $\\theta$ is the angle between the two vectors. What this integral represent is actually a line integral over a vector field for a 1D line segment.\n",
    "\n",
    "In general, the line integral is defined as a scaled vector projection of a vector $\\vec{f}$ along some arbitrary path $L$. If an infinitesimal **directional path length** of $L$ is $d\\vec{l}$, then the line integral (or work) is:\n",
    "\n",
    "$$ w = \\int_L \\vec{f}\\cdot d\\vec{l} $$\n",
    "\n",
    "where $L$ simply implies that we are integrating along a path described by $L$.\n",
    "\n",
    "Since we are not familiar with integrating vectors, we can write the dot product out in two ways. First, using the **components** of the two vectors (assuming we are in cartesian coordinates), later, we will go outside the cartesian room and see how big the world really is):\n",
    "\n",
    "$$ w = \\int_L (f_{x}dx + f_{y}dy + f_{z}dz)$$\n",
    "\n",
    "We can consider this a sum of integrals along each cartesian direction and specify the limits of integration:\n",
    "\n",
    "$$ W = \\int_{x_{1}}^{x_{2}} f_{x}dx + \\int_{y_{1}}^{y_{2}} f_{y}dy + \\int_{z_{1}}^{z_{2}} f_{z}dz$$\n",
    "\n",
    "We note the following:\n",
    "\n",
    "* We converted our integrals involving vectors into three 1D scalar integrals. Yah for us!\n",
    "* The scalar quantities are the vector components of $\\vec{f}$ and $d\\vec{l}$, respectively, and <b>not</b> the magnitudes. \n",
    "\n",
    "<hr style=\"height:2px;border-width:0;color:gray;background-color:gray\">"
   ]
  },
  {
   "cell_type": "markdown",
   "metadata": {},
   "source": [
    "<div style=\"background-color: #D0D0D0 ; padding: 10px; border: 1px solid black;\">       \n",
    "<header>\n",
    "<h3> Example 1</h3>\n",
    "    </header>\n",
    "    \n",
    "Consider a massive physics textbook with a mass of $2.18$ kg. Its original position is $\\vec{r}_0 = (0,0)$. By applying a push force with a constant magnitude of $5.0$ N, we first slide it along $+x$ followed by motion along $+y$ to a final destination of $\\vec{r} = (0.3~\\textrm{m},0.2~\\textrm{m})$. Our path $L$ then takes the shape of two sides of a rectangle. What is the work done by our applied force?\n",
    "\n",
    "**Solution**\n",
    "    \n",
    "According to our definition of work\n",
    "\n",
    "$$ w =\\int_L  \\vec{f}\\cdot d\\vec{l} $$\n",
    "\n",
    "we can split this into vector component form:\n",
    "\n",
    "$$ w =\\int_L (f_{x}dx + f_{y}dy) $$\n",
    "\n",
    "and re-write it as two integrals with the explicit limits:\n",
    "\n",
    "$$ w =\\int_{x_{1}}^{x_{2}} f_{x}dx + \\int_{y_{1}}^{y_{2}} f_{y}dy $$\n",
    "\n",
    "Inserting the numbers provided, we get\n",
    "\n",
    "$$ w = \\int_{0}^{0.3} (5.0)dx + \\int_{0}^{0.2} (5.0)dy $$\n",
    "\n",
    "$$  = [(5.0)x]_{0}^{0.3} + [(5.0)y]_{0}^{0.2}$$\n",
    "\n",
    "and our final result is\n",
    "\n",
    "$$ w = +2.5~\\textrm{J} $$\n",
    "</div>\n",
    "<hr style=\"height:2px;border-width:0;color:gray;background-color:gray\">"
   ]
  },
  {
   "cell_type": "markdown",
   "metadata": {},
   "source": [
    "<div style=\"background-color: #D0D0D0 ; padding: 10px; border: 1px solid black;\">       \n",
    "<header>\n",
    "<h3> Example 2</h3>\n",
    "    </header>\n",
    "    \n",
    "Consider a force given by $\\vec{f} = 5.0(xy\\hat{i} + y^2\\hat{j})$ acting on an object. Over two experiments, the object moves from $\\vec{r}_i = (0,0)$ to $\\vec{r}_f = (1,1)$ along two paths: Path 1: along $+x$ followed by $+y$ and Path 2: along $+y$ followed by $+x$.\n",
    "\n",
    "**Solution**\n",
    "    \n",
    "**Path 1**\n",
    "    \n",
    "Writing out the line integral from definition and into component to gain experience. This step can be skipped as we gain experience:\n",
    "\n",
    "$$ w_1 = \\int_L  \\vec{f}\\cdot d\\vec{l} $$\n",
    "\n",
    "$$ w = \\int_L (f_{x}dx + f_{y}dy) $$\n",
    "\n",
    "$$ w = \\int_{x_{1}}^{x_{2}} f_{x}dx ~+~ \\int_{y_{1}}^{y_{2}} f_{y}dy $$\n",
    "\n",
    "It is now evident that we have broken our path *L* into two segments (integrals): one segment along the x-axis and a second segment along the y-axis.\n",
    "\n",
    "Now, we have to be careful as the $x$-componet of the force also depends on $y$. Hence, in the integral we must be aware of the $y$-value as we integrate **along** the $x$-direction. We notice, that the $y$-value will be **constant**. With that in mind, we can write it as\n",
    "\n",
    "$$ w_1 =\\int_{x_{1}=0, y = 0}^{x_{2} = 1, y =0} 5.0xydx ~+~ \\int_{y_{1} = 0, x =1}^{y_{2} = 1, x = 1} 5.0y^2dy $$\n",
    "\n",
    "Since $y$ is constant and equal to zero in the first term, we get\n",
    "\n",
    "$$ w_1 = 0 ~+~ \\frac{5}{3} $$\n",
    "\n",
    "and the final answer is\n",
    "\n",
    "$$ w_1 = + \\frac{5}{3}~\\textrm{J} $$\n",
    "\n",
    "**Path 2**\n",
    "    \n",
    "Similarly for Path 2:\n",
    "    \n",
    "$$ w_2 =\\int_{x_{1}=0, y = 1}^{x_{2} = 1, y =1} 5.0xydx ~+~ \\int_{y_{1} = 0, x = 0}^{y_{2} = 1, x = 0} 5.0y^2dy $$\n",
    "\n",
    "$$ = \\frac{5}{2} ~+~ \\frac{5}{3} $$\n",
    "\n",
    "and the final answer is \n",
    "\n",
    "$$ w_2 = \\frac{25}{6}~\\textrm{J} $$\n",
    "\n",
    "We notice that the amount of work required for each path is different, which is a characteristic of a **non-conservative** force.\n",
    "</div>\n",
    "<hr style=\"height:2px;border-width:0;color:gray;background-color:gray\">"
   ]
  },
  {
   "cell_type": "markdown",
   "metadata": {},
   "source": [
    "<div class=\"alert alert-info\">\n",
    "    <b>IMPORTANT</b>\n",
    "\n",
    "We notice in the above example, that the work done by the force in moving the object from point $A$ to point $B$ depended on the chosen path. Such forces are referred to as **non-conservative forces**. Forces where the work in going from point $A$ to point $B$ does **not** depend on the chosen path are referred to as <b>conservative forces</b>. Conservative forces are responsible for transferring energy from one form to another within a system and associated with potential energy functions (examples: gravity and spring forces), whereas non-conservative forces are responsible for transferring energy into or out of a system (examples: pushing/pull forces and friction).\n",
    "</div>\n",
    "<hr style=\"height:2px;border-width:0;color:gray;background-color:gray\">"
   ]
  },
  {
   "cell_type": "markdown",
   "metadata": {},
   "source": [
    "<div class=\"alert alert-warning\">\n",
    "    <b> Box 1 </b><br>\n",
    "   \n",
    "Consider a force given by $\\vec{f} = 5.0[x^2y^2\\hat{i} + (x^2 + y^2)\\hat{j}]$ acting on an object. Over two experiments, the object moves from $\\vec{r}_i = (0,0)$ to $\\vec{r}_f = (1~\\textrm{m},1~\\textrm{m})$ along two paths: Path 1: along $+x$ followed by $+y$ and Path 2: along $+y$ followed by $+x$. What is the work done by this force along the two different paths? Comment on your result. \n",
    "</div>\n",
    "\n",
    "<hr style=\"height:2px;border-width:0;color:gray;background-color:gray\">"
   ]
  },
  {
   "cell_type": "markdown",
   "metadata": {},
   "source": [
    "<div class=\"alert alert-warning\">\n",
    "    <b> Box 2 </b><br>\n",
    "\n",
    "Consider a force given by $\\vec{f} = 5.0(xy\\hat{i} + y^2\\hat{j})$ acting on an object. The object moves from $\\vec{r}_i = (0,0)$ to $\\vec{r}_f = (1~\\textrm{m},1~\\textrm{m})$ along $+x$ followed by $+y$. Then we bring it back to its original position along $-x$ and $-y$. What is the work done? Is the applied force conservative or non-conservative? Explain. \n",
    "</div>\n",
    "\n",
    "<hr style=\"height:2px;border-width:0;color:gray;background-color:gray\">"
   ]
  },
  {
   "cell_type": "markdown",
   "metadata": {},
   "source": [
    "In this last example, we integrated along a path  where the start and end points were the same location. This belongs to a special group of line integrals and we write them as:\n",
    "\n",
    "$$ W = \\oint_L \\vec{f}\\cdot d\\vec{l} $$\n",
    "\n",
    "where the circle indicates a **closed path** $L$."
   ]
  },
  {
   "cell_type": "markdown",
   "metadata": {},
   "source": [
    "<div class=\"alert alert-info\">\n",
    "    \n",
    "The message from our previous info Box was really important, so let us repeat it here <b>and</b> add to it:\n",
    "    \n",
    "Review from Physics I: We notice in the above example, that the work done by the force in moving the object from point $A$ to point $B$ depended on the chosen path. Such forces are referred to as **non-conservative forces**. Forces where the work in going from point $A$ to point $B$ does **not** depend on the chosen path are referred to as **conservative forces**. Conservative forces are responsible for transferring energy from one form to another within a system and associated with potential energy functions (examples: gravity and spring forces), whereas non-conservative forces are responsible for transferring energy into or out of a system (examples: pushing/pull forces and friction).\n",
    "\t\n",
    "Another way of defining a conservative force: <b>a conservative force is characterized by doing zero work along a closed path\t\n",
    "</div>\n",
    "\n",
    "This result has a very important consequence as it allows us to define a scalar function known as the **potential energy**. I hope you remember this from Physics I! If not, you may have realized that we are in the process of doing a mixture of introducing new calculus and refreshing concepts from Physics I.\n",
    "<hr style=\"height:2px;border-width:0;color:gray;background-color:gray\">"
   ]
  },
  {
   "cell_type": "code",
   "execution_count": null,
   "metadata": {},
   "outputs": [],
   "source": []
  }
 ],
 "metadata": {
  "kernelspec": {
   "display_name": "Python 3 (ipykernel)",
   "language": "python",
   "name": "python3"
  },
  "language_info": {
   "codemirror_mode": {
    "name": "ipython",
    "version": 3
   },
   "file_extension": ".py",
   "mimetype": "text/x-python",
   "name": "python",
   "nbconvert_exporter": "python",
   "pygments_lexer": "ipython3",
   "version": "3.10.9"
  }
 },
 "nbformat": 4,
 "nbformat_minor": 2
}
