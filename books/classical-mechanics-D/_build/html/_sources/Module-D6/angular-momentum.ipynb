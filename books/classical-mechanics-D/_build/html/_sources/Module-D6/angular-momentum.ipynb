{
 "cells": [
  {
   "cell_type": "markdown",
   "metadata": {},
   "source": [
    "# D6.1 Angular Momentum\n",
    "<hr style=\"height:2px;border-width:0;color:gray;background-color:gray\">"
   ]
  },
  {
   "cell_type": "markdown",
   "metadata": {},
   "source": [
    "## D6.1.1 Motivation\n",
    "\n",
    "Rotational dynamics is inherently a lot more complicated than linear motion. In *University Physics I*, rotational, or angular, dynamics is only briefly introduced and in this course we will see a more in-depth picture of it. In this module, we will simply refesh our *University Physics I* rotational dynamics which is restricted to **rotation about a single, fixed axis**.\n",
    "\n",
    "First, we will define the angular momentum for a point particle and then move on to a rigid object by defining angular momentum about the center of mass (**spin**) as well as the **orbital** angular momentum.\n",
    "\n",
    "<hr style=\"height:2px;border-width:0;color:gray;background-color:gray\">"
   ]
  },
  {
   "cell_type": "markdown",
   "metadata": {},
   "source": [
    "## D6.1.2 Angular Momentum of a Point Particle\n",
    "\n",
    "A point particle is an object where size and shape does not play a role for the dynamics of it. By this definition it does not make sense to talk about a **spinning** motion of the particle. Instead, we can talk about the particle **rotating** or **orbiting** a point or axis. \n",
    "\n",
    "We define the **orbital angular momentum** as\n",
    "\n",
    "<div class=\"alert alert-success\">\n",
    "    \n",
    "$$ \\vec{l} = \\vec{r}\\times\\vec{p} $$\n",
    "</div>\n",
    "\n",
    "where $\\vec{r}$ is the directed line segment from a point of reference (sometimes called the **pivot point**) to the location of the particle, and $\\vec{p}$ is the linear momentum of the particle."
   ]
  },
  {
   "cell_type": "markdown",
   "metadata": {},
   "source": [
    "<hr style=\"height:2px;border-width:0;color:gray;background-color:gray\">"
   ]
  },
  {
   "cell_type": "markdown",
   "metadata": {},
   "source": [
    "<div class=\"alert alert-warning\">\n",
    "<b>Box 1</b><br>\n",
    "    \n",
    "Consider a $0.50$ kg particle traveling in a straight-line motion in the (x,y) plane with a velocity of $\\vec{v} = 25.0~\\hat{i}$ m/s. At a given instant, the particle is at $(x,y) = (5.0,3.0)$ m, find the particle's orbital angular momentum about the following points:\n",
    "    \n",
    "1. $(x,y,z) = (0.0, 0.0, 0.0)$ m.\n",
    "2. $(x,y,z) = (0.0 , 3.0, 0.0)$ m.\n",
    "\n",
    "</div>"
   ]
  },
  {
   "cell_type": "markdown",
   "metadata": {},
   "source": [
    "<hr style=\"height:2px;border-width:0;color:gray;background-color:gray\">"
   ]
  },
  {
   "cell_type": "markdown",
   "metadata": {},
   "source": [
    "<div class=\"alert alert-warning\">\n",
    "<b>Box 2</b><br>\n",
    "    \n",
    "1. Based on the previous Box, can a particle moving in straight-line motion have non-zero orbital angular momentum? \n",
    "2. Under what circumstances can the orbital angular momentum be zero for a particle moving in straight-line motion?\n",
    "\n",
    "</div>"
   ]
  },
  {
   "cell_type": "markdown",
   "metadata": {},
   "source": [
    "<hr style=\"height:2px;border-width:0;color:gray;background-color:gray\">"
   ]
  },
  {
   "cell_type": "markdown",
   "metadata": {},
   "source": [
    "## D6.1.3 Angular Momemtum for a Rigid Object\n",
    "\n",
    "A rigid object has the complexity that it can rotate about an internal axis, say an axis through the center of mass. In our following description, we will assume an axis through the CM and parallel to the z-axis. Rotational motion about this internal axis is referred to as the **spin angular momentum**. In addition to this **intrinsic** spinning, the object's center of mass may also move relative to a given point/axis just like a point particle, and we refer to the object's **orbital angular momentum**.\n",
    "\n",
    "### Spin Angular Momentum\n",
    "\n",
    "The spin angular momentum for rotation about an axis parallel to the z-axis is defined as\n",
    "\n",
    "<div class=\"alert alert-success\">\n",
    "    \n",
    "$$ L_{s_z} = I_{zz}\\Omega_z $$\n",
    "</div>\n",
    "\n",
    "where $I_{zz}$ is the **moment of inertia** about that axis (that is, the resistance to a change in rotational motion about that axis), and $\\omega_z$ is the angular speed about the z-axis. The associated direction of the spin angular momentum is determined from convention: CCW motion is + and CW motion is -.\n",
    "\n",
    "### Orbital Angular Momentum\n",
    "\n",
    "This is defined in a similar way as for the point particle, where the point particle is replaced by the **Center of Mass** concept of the object:\n",
    "\n",
    "<div class=\"alert alert-success\">\n",
    "    \n",
    "$$ \\vec{L}_o = \\vec{R}\\times\\vec{P} $$\n",
    "</div>"
   ]
  },
  {
   "cell_type": "markdown",
   "metadata": {},
   "source": [
    "<hr style=\"height:2px;border-width:0;color:gray;background-color:gray\">"
   ]
  },
  {
   "cell_type": "markdown",
   "metadata": {},
   "source": [
    "<div class=\"alert alert-warning\">\n",
    "<b>Box 3</b><br>\n",
    "    \n",
    "A solid disk with mass $5.0$ kg and radius $0.05$ m is laying in the xy-plane and is spinning in a CCW direction with an angular speed of $16$ rad/s. What is its spin angular momentum along the z-direction?\n",
    "</div>"
   ]
  },
  {
   "cell_type": "markdown",
   "metadata": {},
   "source": [
    "<hr style=\"height:2px;border-width:0;color:gray;background-color:gray\">"
   ]
  },
  {
   "cell_type": "markdown",
   "metadata": {},
   "source": [
    "<div class=\"alert alert-warning\">\n",
    "<b>Box 4</b><br>\n",
    "    \n",
    "Consider the Earth's motiong around the Sun. What is the Earth's **total** angular momentum? HINT: Make sure to include both spin and orbital angular momentum.\n",
    "\n",
    "</div>"
   ]
  },
  {
   "cell_type": "markdown",
   "metadata": {},
   "source": [
    "<hr style=\"height:2px;border-width:0;color:gray;background-color:gray\">"
   ]
  }
 ],
 "metadata": {
  "celltoolbar": "Tags",
  "kernelspec": {
   "display_name": "Python 3 (ipykernel)",
   "language": "python",
   "name": "python3"
  },
  "language_info": {
   "codemirror_mode": {
    "name": "ipython",
    "version": 3
   },
   "file_extension": ".py",
   "mimetype": "text/x-python",
   "name": "python",
   "nbconvert_exporter": "python",
   "pygments_lexer": "ipython3",
   "version": "3.10.9"
  }
 },
 "nbformat": 4,
 "nbformat_minor": 2
}
