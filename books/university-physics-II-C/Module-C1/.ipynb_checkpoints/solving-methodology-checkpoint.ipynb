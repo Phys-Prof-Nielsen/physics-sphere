{
 "cells": [
  {
   "cell_type": "markdown",
   "metadata": {},
   "source": [
    "# C1.2 Solving Methodology - Charge Distributions\n",
    "<hr style=\"height:2px;border-width:0;color:gray;background-color:gray\">"
   ]
  },
  {
   "cell_type": "markdown",
   "metadata": {},
   "source": [
    "## C1.2.1 Set-Up\n",
    "\n",
    "There are various approaches to finding the electric from a charge distribution. Your textbooks will have some, on-line videos will have some and so forth. I am presented one here that I prefer using.\n",
    "\n",
    "First, let is write down the infinitesimal charge (behave like a point charge) in terms of the charge density and its infinitesimal spatial size:\n",
    "\n",
    "**Line Charge**\n",
    "\n",
    "$$ dq = \\lambda dl $$\n",
    "\n",
    "**Surface Charge**\n",
    "\n",
    "$$ dq = \\sigma dA $$\n",
    "\n",
    "**Volume Charge**\n",
    "\n",
    "$$ dq = \\rho dV $$\n",
    "\n",
    "The form of the electric field equation I will be using is:\n",
    "   \n",
    "$$ \\vec{E} = kq\\frac{\\vec{r} - \\vec{r}'}{|\\vec{r} - \\vec{r}'|^3} $$\n",
    "\n",
    "\n",
    "and the field contribution for the infinitesimal charge is \n",
    "<div class=\"alert alert-success\">\n",
    "    \n",
    "$$ d\\vec{E} = kdq\\frac{\\vec{r} - \\vec{r}'}{|\\vec{r} - \\vec{r}'|^3} \\tag{1}$$\n",
    "</div>\n",
    "\n",
    "<hr style=\"height:2px;border-width:0;color:gray;background-color:gray\">"
   ]
  },
  {
   "cell_type": "markdown",
   "metadata": {},
   "source": [
    "## C1.2.2 Methodology\n",
    "\n",
    "Below are the steps taken to obtain the electric field. The following sections will illustrate some examples of the approach.\n",
    "\n",
    "1. Make a sketch. Illustrate the infinitesimal charge, its size, the point P of which we want to know the electric field, and positions vectors for the charge as well as the point P.\n",
    "\n",
    "2. Write down the charge in terms of the density and spatial size (see section above).\n",
    "\n",
    "3. Write down the position vectors for the infinitesimal charge and the point P. This is usually done in a Cartesian $xyz$-coordinate system but could also be in cylindrical coordinates ($r$, $\\theta$, $z$).\n",
    "\n",
    "4. Write down the distance between the infinitesimal charge and the point P. Express this in terms of the coordinates using Pythagorean theorem.\n",
    "\n",
    "5. Insert all the information into Equation 1 above.\n",
    "\n",
    "6. Integrate to obtain the E-field. It is acceptable to look up the integral in a table or use computational methods.\n",
    "    \n",
    "<hr style=\"height:2px;border-width:0;color:gray;background-color:gray\">"
   ]
  }
 ],
 "metadata": {
  "celltoolbar": "Tags",
  "kernelspec": {
   "display_name": "Python 3 (ipykernel)",
   "language": "python",
   "name": "python3"
  },
  "language_info": {
   "codemirror_mode": {
    "name": "ipython",
    "version": 3
   },
   "file_extension": ".py",
   "mimetype": "text/x-python",
   "name": "python",
   "nbconvert_exporter": "python",
   "pygments_lexer": "ipython3",
   "version": "3.10.9"
  }
 },
 "nbformat": 4,
 "nbformat_minor": 2
}
