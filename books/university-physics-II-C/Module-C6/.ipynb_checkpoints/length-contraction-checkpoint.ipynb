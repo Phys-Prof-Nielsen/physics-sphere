{
 "cells": [
  {
   "cell_type": "markdown",
   "metadata": {},
   "source": [
    "# C6.3 Length Contraction\n",
    "<hr style=\"height:2px;border-width:0;color:gray;background-color:gray\">"
   ]
  },
  {
   "cell_type": "markdown",
   "metadata": {},
   "source": [
    "## C6.3.1 Motivtion\n",
    "\n",
    "The length contraction is slightly more complex to derive than the time dilation. We will postpone the excitement until Phase B, where we will utilize the Lorentz transformations to make the derivation. The basic issue is the idea of **simultaneity** as one observer must measure the end points at the same time in order to measure the length. \n",
    "\n",
    "For now, we will simple state the length contraction.\n",
    "\n",
    "<hr style=\"height:2px;border-width:0;color:gray;background-color:gray\">"
   ]
  },
  {
   "cell_type": "markdown",
   "metadata": {},
   "source": [
    "## C6.3.2 Length Contraction\n",
    "\n",
    "An observer moving relative to an object, will observe the length of the object as contracted in the direction of relative motion. The observed length is\n",
    "\n",
    "<div class=\"alert alert-success\">\n",
    "\n",
    "$$ l = \\frac{l_0}{\\gamma} $$    \n",
    "</div>\n",
    "\n",
    "where $l_0$ is the proper length. Recall, the proper length is measured by an observer where it does not matter **when** the end points are measured, that is, a reference frame at rest with the object.\n",
    "\n",
    "<hr style=\"height:2px;border-width:0;color:gray;background-color:gray\">"
   ]
  },
  {
   "cell_type": "markdown",
   "metadata": {},
   "source": [
    "<div class=\"alert alert-warning\">\n",
    "<b>Box 1</b><br>\n",
    "    \n",
    "A muon is moving at $0.990c$ ($c = 2.9979\\times 10^{8}$ m/s) relative to earth (laboratory frame). If the muon is created at an altitude of $5.00$ km and observed in a laboratory on the surface of the Earth, how thick is the atmosphere as seen from the muon's perspective?\n",
    "   \n",
    "</div>"
   ]
  },
  {
   "cell_type": "code",
   "execution_count": null,
   "metadata": {},
   "outputs": [],
   "source": [
    "# DIY Cell"
   ]
  },
  {
   "cell_type": "code",
   "execution_count": 1,
   "metadata": {
    "tags": [
     "hide-input",
     "hide-output"
    ]
   },
   "outputs": [],
   "source": [
    "%reset -f\n"
   ]
  },
  {
   "cell_type": "markdown",
   "metadata": {},
   "source": [
    "<hr style=\"height:2px;border-width:0;color:gray;background-color:gray\">"
   ]
  },
  {
   "cell_type": "markdown",
   "metadata": {},
   "source": [
    "## C6.3.3 Comment on Box 1\n",
    "\n",
    "The majority of secondary particles from cosmic ray interactions are created in an altitude of $\\sim 15$ km above the Earth's surface. However, a fraction is created at altitudes above and below as well. The fact that we can observe these particles at the ground is due to these relativistic effects of time dilation and length contraction. From the muon's perspective, it travels a relative short distance but the atmosphere is also a lot thinner. From the laboratory point of view, the atmosphere is its normal thickness, but the lifetime of the muon is considerably longer and it will therefore travel a greater distance. In both cases, the observed reality is the same :)"
   ]
  },
  {
   "cell_type": "markdown",
   "metadata": {},
   "source": [
    "<hr style=\"height:2px;border-width:0;color:gray;background-color:gray\">"
   ]
  }
 ],
 "metadata": {
  "celltoolbar": "Tags",
  "kernelspec": {
   "display_name": "Python 3 (ipykernel)",
   "language": "python",
   "name": "python3"
  },
  "language_info": {
   "codemirror_mode": {
    "name": "ipython",
    "version": 3
   },
   "file_extension": ".py",
   "mimetype": "text/x-python",
   "name": "python",
   "nbconvert_exporter": "python",
   "pygments_lexer": "ipython3",
   "version": "3.10.9"
  }
 },
 "nbformat": 4,
 "nbformat_minor": 2
}
