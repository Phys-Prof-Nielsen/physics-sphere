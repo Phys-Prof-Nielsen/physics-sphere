{
 "cells": [
  {
   "cell_type": "markdown",
   "metadata": {},
   "source": [
    "# C8.X Problems\n",
    "<hr style=\"height:2px;border-width:0;color:gray;background-color:gray\">"
   ]
  },
  {
   "cell_type": "markdown",
   "metadata": {},
   "source": [
    "<h2>Problem C8.1</h2>\n",
    "    </header>\n",
    "\n",
    "Calculate the wavelength of the first line in the Lyman series and show that this line lies in the ultraviolet part of the spectrum.\n",
    "\n",
    "[This problem is a slightly modified version from OpenStax. Access for free here](https://openstax.org/books/university-physics-volume-3/pages/6-problems)"
   ]
  },
  {
   "cell_type": "code",
   "execution_count": 1,
   "metadata": {},
   "outputs": [],
   "source": [
    "# DIY Cell"
   ]
  },
  {
   "cell_type": "code",
   "execution_count": 2,
   "metadata": {
    "tags": [
     "hide-input",
     "hide-output"
    ]
   },
   "outputs": [],
   "source": [
    "%reset -f"
   ]
  },
  {
   "cell_type": "markdown",
   "metadata": {},
   "source": [
    "<hr style=\"height:2px;border-width:0;color:gray;background-color:gray\">"
   ]
  },
  {
   "cell_type": "markdown",
   "metadata": {},
   "source": [
    "<h2>Problem C8.2</h2>\n",
    "    </header>\n",
    "\n",
    "Calculate the energy changes corresponding to the transitions of the hydrogen atom: \n",
    "\n",
    "1. from $n = 3$ to $n = 4$\n",
    "2. from $n = 2$ to $n = 1$\n",
    "3. from $n = 3$ to $n = \\infty$\n",
    "\n",
    "[This problem is a slightly modified version from OpenStax. Access for free here](https://openstax.org/books/university-physics-volume-3/pages/6-problems)"
   ]
  },
  {
   "cell_type": "code",
   "execution_count": 3,
   "metadata": {},
   "outputs": [],
   "source": [
    "# DIY Cell"
   ]
  },
  {
   "cell_type": "code",
   "execution_count": 4,
   "metadata": {
    "tags": [
     "hide-input",
     "hide-output"
    ]
   },
   "outputs": [],
   "source": [
    "%reset -f"
   ]
  },
  {
   "cell_type": "markdown",
   "metadata": {},
   "source": [
    "<hr style=\"height:2px;border-width:0;color:gray;background-color:gray\">"
   ]
  },
  {
   "cell_type": "markdown",
   "metadata": {},
   "source": [
    "<h2>Problem C8.3</h2>\n",
    "    </header>\n",
    "\n",
    "What is the frequency of the photon absorbed when the hydrogen atom makes the transition from the ground state to the $n = 4$ state?\n",
    "\n",
    "[This problem is a slightly modified version from OpenStax. Access for free here](https://openstax.org/books/university-physics-volume-3/pages/6-problems)"
   ]
  },
  {
   "cell_type": "code",
   "execution_count": 5,
   "metadata": {},
   "outputs": [],
   "source": [
    "# DIY Cell"
   ]
  },
  {
   "cell_type": "code",
   "execution_count": 6,
   "metadata": {
    "tags": [
     "hide-input",
     "hide-output"
    ]
   },
   "outputs": [],
   "source": [
    "%reset -f"
   ]
  },
  {
   "cell_type": "markdown",
   "metadata": {},
   "source": [
    "<hr style=\"height:2px;border-width:0;color:gray;background-color:gray\">"
   ]
  },
  {
   "cell_type": "markdown",
   "metadata": {},
   "source": [
    "<h2>Problem C8.4</h2>\n",
    "    </header>\n",
    "\n",
    "When a hydrogen atom is in its ground state, what are the shortest and longest wavelengths of the photons it can absorb without being ionized?\n",
    "\n",
    "[This problem is a slightly modified version from OpenStax. Access for free here](https://openstax.org/books/university-physics-volume-3/pages/6-problems)"
   ]
  },
  {
   "cell_type": "code",
   "execution_count": 7,
   "metadata": {},
   "outputs": [],
   "source": [
    "# DIY Cell"
   ]
  },
  {
   "cell_type": "code",
   "execution_count": 8,
   "metadata": {
    "tags": [
     "hide-input",
     "hide-output"
    ]
   },
   "outputs": [],
   "source": [
    "%reset -f"
   ]
  },
  {
   "cell_type": "markdown",
   "metadata": {},
   "source": [
    "<hr style=\"height:2px;border-width:0;color:gray;background-color:gray\">"
   ]
  },
  {
   "cell_type": "markdown",
   "metadata": {},
   "source": [
    "<h2>Problem C8.5</h2>\n",
    "    </header>\n",
    "    \n",
    "What is the longest wavelength that light can have if it is to be capable of ionizing the hydrogen atom in its ground state?\n",
    "\n",
    "[This problem is a slightly modified version from OpenStax. Access for free here](https://openstax.org/books/university-physics-volume-3/pages/6-problems)"
   ]
  },
  {
   "cell_type": "code",
   "execution_count": 9,
   "metadata": {},
   "outputs": [],
   "source": [
    "# DIY Cell"
   ]
  },
  {
   "cell_type": "code",
   "execution_count": 10,
   "metadata": {
    "tags": [
     "hide-input",
     "hide-output"
    ]
   },
   "outputs": [],
   "source": [
    "%reset -f"
   ]
  },
  {
   "cell_type": "markdown",
   "metadata": {},
   "source": [
    "<hr style=\"height:2px;border-width:0;color:gray;background-color:gray\">"
   ]
  },
  {
   "cell_type": "markdown",
   "metadata": {},
   "source": [
    "<h2>Problem C8.6</h2>\n",
    "    </header>\n",
    "    \n",
    "For an electron in a hydrogen atom in the $n = 2$ state, compute:\n",
    "\n",
    "1. the angular momentum; \n",
    "2. the kinetic energy; \n",
    "3. the potential energy; \n",
    "4. the total energy.\n",
    "\n",
    "[This problem is a slightly modified version from OpenStax. Access for free here](https://openstax.org/books/university-physics-volume-3/pages/6-problems)"
   ]
  },
  {
   "cell_type": "code",
   "execution_count": 11,
   "metadata": {},
   "outputs": [],
   "source": [
    "# DIY Cell"
   ]
  },
  {
   "cell_type": "code",
   "execution_count": 12,
   "metadata": {
    "tags": [
     "hide-input",
     "hide-output"
    ]
   },
   "outputs": [],
   "source": [
    "%reset -f"
   ]
  },
  {
   "cell_type": "markdown",
   "metadata": {},
   "source": [
    "<hr style=\"height:2px;border-width:0;color:gray;background-color:gray\">"
   ]
  },
  {
   "cell_type": "markdown",
   "metadata": {},
   "source": [
    "<h2>Problem C8.7</h2>\n",
    "    </header>\n",
    "    \n",
    "It has been measured that it required 0.850 eV to remove an electron from the hydrogen atom. In what state was the atom before the ionization happened?\n",
    "\n",
    "[This problem is a slightly modified version from OpenStax. Access for free here](https://openstax.org/books/university-physics-volume-3/pages/6-problems)"
   ]
  },
  {
   "cell_type": "code",
   "execution_count": 13,
   "metadata": {},
   "outputs": [],
   "source": [
    "# DIY Cell"
   ]
  },
  {
   "cell_type": "code",
   "execution_count": 14,
   "metadata": {
    "tags": [
     "hide-input",
     "hide-output"
    ]
   },
   "outputs": [],
   "source": [
    "%reset -f"
   ]
  },
  {
   "cell_type": "markdown",
   "metadata": {},
   "source": [
    "<hr style=\"height:2px;border-width:0;color:gray;background-color:gray\">"
   ]
  },
  {
   "cell_type": "markdown",
   "metadata": {},
   "source": [
    "<h2>Problem C8.8</h2>\n",
    "    </header>\n",
    "    \n",
    "What is the radius of a hydrogen atom when the electron is in the first excited state?\n",
    "\n",
    "[This problem is a slightly modified version from OpenStax. Access for free here](https://openstax.org/books/university-physics-volume-3/pages/6-problems)"
   ]
  },
  {
   "cell_type": "code",
   "execution_count": 15,
   "metadata": {},
   "outputs": [],
   "source": [
    "# DIY Cell"
   ]
  },
  {
   "cell_type": "code",
   "execution_count": 16,
   "metadata": {
    "tags": [
     "hide-input",
     "hide-output"
    ]
   },
   "outputs": [],
   "source": [
    "%reset -f"
   ]
  },
  {
   "cell_type": "markdown",
   "metadata": {},
   "source": [
    "<hr style=\"height:2px;border-width:0;color:gray;background-color:gray\">"
   ]
  },
  {
   "cell_type": "markdown",
   "metadata": {},
   "source": [
    "<h2>Problem C8.9</h2>\n",
    "    </header>\n",
    "    \n",
    "Find the shortest wavelength in the Balmer series. In what part of the spectrum does this line lie?"
   ]
  },
  {
   "cell_type": "code",
   "execution_count": 17,
   "metadata": {},
   "outputs": [],
   "source": [
    "# DIY Cell"
   ]
  },
  {
   "cell_type": "code",
   "execution_count": 18,
   "metadata": {
    "tags": [
     "hide-input",
     "hide-output"
    ]
   },
   "outputs": [],
   "source": [
    "%reset -f"
   ]
  },
  {
   "cell_type": "markdown",
   "metadata": {},
   "source": [
    "<hr style=\"height:2px;border-width:0;color:gray;background-color:gray\">"
   ]
  },
  {
   "cell_type": "markdown",
   "metadata": {},
   "source": [
    "<h2>Problem C8.10</h2>\n",
    "    </header>\n",
    "    \n",
    "A $4.653~\\mu$m emission line of atomic hydrogen corresponds to transition between the states $n_f = 5$ and $n_i$. Find $n_i$."
   ]
  },
  {
   "cell_type": "code",
   "execution_count": 19,
   "metadata": {},
   "outputs": [],
   "source": [
    "# DIY Cell"
   ]
  },
  {
   "cell_type": "code",
   "execution_count": 20,
   "metadata": {
    "tags": [
     "hide-input",
     "hide-output"
    ]
   },
   "outputs": [],
   "source": [
    "%reset -f"
   ]
  },
  {
   "cell_type": "markdown",
   "metadata": {},
   "source": [
    "<hr style=\"height:2px;border-width:0;color:gray;background-color:gray\">"
   ]
  },
  {
   "cell_type": "markdown",
   "metadata": {},
   "source": [
    "<h2>Problem C8.11</h2>\n",
    "    </header>\n",
    "    \n",
    "What is the de Broglie wavelength of an electron travelling at a speed of $5.0\\times 10^6$ m/s?\n",
    "\n",
    "[This problem is a slightly modified version from OpenStax. Access for free here](https://openstax.org/books/university-physics-volume-3/pages/6-problems)"
   ]
  },
  {
   "cell_type": "code",
   "execution_count": 21,
   "metadata": {},
   "outputs": [],
   "source": [
    "# DIY Cell"
   ]
  },
  {
   "cell_type": "code",
   "execution_count": 22,
   "metadata": {
    "tags": [
     "hide-input",
     "hide-output"
    ]
   },
   "outputs": [],
   "source": [
    "%reset -f"
   ]
  },
  {
   "cell_type": "markdown",
   "metadata": {},
   "source": [
    "<hr style=\"height:2px;border-width:0;color:gray;background-color:gray\">"
   ]
  },
  {
   "cell_type": "markdown",
   "metadata": {},
   "source": [
    "<h2>Problem C8.12</h2>\n",
    "    </header>\n",
    "    \n",
    "What is the velocity of a 0.400-kg billiard ball if its wavelength is 7.50 fm?\n",
    "\n",
    "[This problem is a slightly modified version from OpenStax. Access for free here](https://openstax.org/books/university-physics-volume-3/pages/6-problems)"
   ]
  },
  {
   "cell_type": "code",
   "execution_count": 23,
   "metadata": {},
   "outputs": [],
   "source": [
    "# DIY Cell"
   ]
  },
  {
   "cell_type": "code",
   "execution_count": 24,
   "metadata": {
    "tags": [
     "hide-input",
     "hide-output"
    ]
   },
   "outputs": [],
   "source": [
    "%reset -f"
   ]
  },
  {
   "cell_type": "markdown",
   "metadata": {},
   "source": [
    "<hr style=\"height:2px;border-width:0;color:gray;background-color:gray\">"
   ]
  },
  {
   "cell_type": "markdown",
   "metadata": {},
   "source": [
    "<h2>Problem C8.13</h2>\n",
    "    </header>\n",
    "    \n",
    "What is the wavelength of a 65-kg person running at 2.5 m/s?"
   ]
  },
  {
   "cell_type": "code",
   "execution_count": 25,
   "metadata": {},
   "outputs": [],
   "source": [
    "# DIY Cell"
   ]
  },
  {
   "cell_type": "code",
   "execution_count": 26,
   "metadata": {
    "tags": [
     "hide-input",
     "hide-output"
    ]
   },
   "outputs": [],
   "source": [
    "%reset -f"
   ]
  },
  {
   "cell_type": "markdown",
   "metadata": {},
   "source": [
    "<hr style=\"height:2px;border-width:0;color:gray;background-color:gray\">"
   ]
  },
  {
   "cell_type": "markdown",
   "metadata": {},
   "source": [
    "<h2>Problem C8.14</h2>\n",
    "    </header>\n",
    "    \n",
    "1. For what temperature is the peak of blackbody radiation spectrum at 400 nm?\n",
    "2. If the temperature of a blackbody is 800 K, at what wavelength does it radiate the most energy?\n",
    "\n",
    "[This problem is a slightly modified version from OpenStax. Access for free here](https://openstax.org/books/university-physics-volume-3/pages/6-problems)"
   ]
  },
  {
   "cell_type": "code",
   "execution_count": 27,
   "metadata": {},
   "outputs": [],
   "source": [
    "# DIY Cell"
   ]
  },
  {
   "cell_type": "markdown",
   "metadata": {},
   "source": [
    "<hr style=\"height:2px;border-width:0;color:gray;background-color:gray\">"
   ]
  },
  {
   "cell_type": "markdown",
   "metadata": {},
   "source": [
    "<h2>Problem C8.15</h2>\n",
    "    </header>\n",
    "    \n",
    "Interstellar space is filled with radiation of wavelength $970~\\mu$. This radiation is considered to be a remnant of the “big bang.” What is the corresponding blackbody temperature of this radiation?\n",
    "  \n",
    "[This problem is a slightly modified version from OpenStax. Access for free here](https://openstax.org/books/university-physics-volume-3/pages/6-problems)"
   ]
  },
  {
   "cell_type": "code",
   "execution_count": 28,
   "metadata": {},
   "outputs": [],
   "source": [
    "# DIY Cell"
   ]
  },
  {
   "cell_type": "markdown",
   "metadata": {},
   "source": [
    "<hr style=\"height:2px;border-width:0;color:gray;background-color:gray\">"
   ]
  }
 ],
 "metadata": {
  "celltoolbar": "Tags",
  "kernelspec": {
   "display_name": "Python 3 (ipykernel)",
   "language": "python",
   "name": "python3"
  },
  "language_info": {
   "codemirror_mode": {
    "name": "ipython",
    "version": 3
   },
   "file_extension": ".py",
   "mimetype": "text/x-python",
   "name": "python",
   "nbconvert_exporter": "python",
   "pygments_lexer": "ipython3",
   "version": "3.10.9"
  }
 },
 "nbformat": 4,
 "nbformat_minor": 4
}