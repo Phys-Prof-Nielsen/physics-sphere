{
 "cells": [
  {
   "cell_type": "markdown",
   "metadata": {},
   "source": [
    "# C6.2 Time Dilation\n",
    "<hr style=\"height:2px;border-width:0;color:gray;background-color:gray\">"
   ]
  },
  {
   "cell_type": "markdown",
   "metadata": {},
   "source": [
    "## C6.2.1 Prologue\n",
    "\n",
    "The time dilation based on special relativity is known as **kinematic time dilation** as it is a consequence of observers moving with respect to each other. The second form is **gravitational time dilation**, which is an effect of space-time curvature (or gravity) with clocks running slower in stronger gravitational fields. If you have watched the movie \"Interstellar\", that is the effect happening on Miller's planet as one hour on Miller's planet is seven years on Earth due to the presence of stronger gravitational pull (or greater space-time curvature) from the black hole, Gargantua.\n",
    "\n",
    "<hr style=\"height:2px;border-width:0;color:gray;background-color:gray\">"
   ]
  },
  {
   "cell_type": "markdown",
   "metadata": {},
   "source": [
    "## C6.2.2 Time Dilation Derived\n",
    "\n",
    "Now let us begin our endeavor into deriving the time dilation in baby steps. This approach is the most common approach in introductory physics courses.\n",
    "\n",
    "### Proper Time\n",
    "The concept of proper time is a difficult one grasp. We will later see in terms of **world-lines** how it becomes more clear. For now, we define the proper time as\n",
    "\n",
    "<div class=\"alert alert-success\">\n",
    "<b>Proper Time</b><br>\n",
    "\n",
    "The proper time for an observer or object, is the elapsed time measured with a clock following that observer or object.\n",
    "</div>\n",
    "\n",
    "When we talk about a proper time between events, we imply the measured time by a clock following the object subject to the events. I hope it becomes a little bit more clear as we work through the example below.\n",
    "\n",
    "In the following, we make use of **Langevin's light clock**, a thought experiment to geometrically derive the time dilation. Wikipedia has a nice [Langevin Light Clock simulation here](https://en.m.wikipedia.org/wiki/File:Langevin_Light_Clock.gif)"
   ]
  },
  {
   "cell_type": "markdown",
   "metadata": {},
   "source": [
    "<div class=\"alert alert-warning\">\n",
    "<b>Box 1</b><br>\n",
    "    \n",
    "Consider Optimus Prime in Starship, an observer at rest at the origin of a reference frame $S'$. As happens, a red light-emitting diode (LED) is placed on the floor with a mirror straight above it a distance $d$ from the floor. A single light pulse is emitted (event 1), reflected at the mirror (event 2) and then detected by the LED (event 3). \n",
    "    \n",
    "**Important**: The proper time between the emission (event 1) and detection (event 3) is measured by a clock attached to the LED since the LED is **both** the emitter and the detector. The LED is fixed relative to Optimus Prime and he must therefore also measure the proper time $\\Delta t_0$.\n",
    "    \n",
    "<img src=\"C6-fig2.1.png\" width=\"1000\">\n",
    "    \n",
    "1. From the definition of speed = (distance traveled)/(elapsed time), establish an equation for the proper time interval between events 1 and 2 as seen by Optimus Prime.\n",
    "2. If the height of the train is $d = 2.20$ m, what proper time interval does Optimus Prime observe between event 1 and event 2? \n",
    "   \n",
    "</div>"
   ]
  },
  {
   "cell_type": "code",
   "execution_count": 1,
   "metadata": {
    "tags": [
     "hide-input",
     "hide-output"
    ]
   },
   "outputs": [
    {
     "name": "stdout",
     "output_type": "stream",
     "text": [
      "dt0 = 2d/c\n",
      " \n",
      "Proper time measured by Optimus Prime: 1.4676450967311543e-08 s\n"
     ]
    }
   ],
   "source": [
    "%reset -f\n",
    "\n",
    "print('dt0 = 2d/c')\n",
    "\n",
    "c = 2.998e8\n",
    "d = 2.20\n",
    "dt0 = 2*d/c\n",
    "print(' ')\n",
    "print('Proper time measured by Optimus Prime: '+str(dt0)+' s')"
   ]
  },
  {
   "cell_type": "markdown",
   "metadata": {},
   "source": [
    "<div class=\"alert alert-warning\">\n",
    "<b>Box 2</b><br>\n",
    "    \n",
    "Optimus is standing on the ground as he observes Optimus Prime passing by with a speed of $u$. Optimus's reference frame is $S$. The instant that there origins overlap is when the LED emits its pulse of light.\n",
    "    \n",
    "Optimus also see events 1 and event 3 but, as argued in the concept of **simultaneity**, Optimus and Optimus Prime can not agree on when these events happened as we will show here. \n",
    "    \n",
    "**Important**: Since Optimus is **NOT** traveling with the LED he is not measuring the proper time between the events. Instead, Optimus measures an elapsed time $\\Delta t$.\n",
    "        \n",
    "<img src=\"C6-fig2.2.png\" width=\"1000\">\n",
    "   \n",
    "Since we are focused on Optimus, let us remove Optimus Prime.\n",
    "    \n",
    "<img src=\"C6-fig2.3.png\" width=\"1000\">   \n",
    "    \n",
    "Show that the elapsed time interval for the light to travel the path observed by Optimus is \n",
    "\t\n",
    "$$ \\Delta t = \\frac{2}{c}\\sqrt{ d^2 +  \\left( \\frac{u\\Delta t}{2} \\right)^2 } $$\n",
    "\n",
    "HINT: Form a triangle with sides $d$, $\\frac{u\\Delta t}{2}$ and $l$, where $l$ is the hypothenuse but also the apparent pathlength of the light as seen by Optimus. That path length must follow $l = c\\Delta t$. Combine it all and obtain the equation shown.\n",
    "   \n",
    "</div>"
   ]
  },
  {
   "cell_type": "markdown",
   "metadata": {},
   "source": [
    "<div class=\"alert alert-warning\">\n",
    "<b>Box 3</b><br>\n",
    "    \n",
    "Take your results from Boxes 1 and 2 and solve for $\\Delta t$ to show that\n",
    "\t\n",
    "$$ \\Delta t = \\frac{\\Delta t_0}{\\sqrt{ 1 - \\frac{u^2}{c^2} }} $$\n",
    "\n",
    "HINT: square both sides of the equation from Box 2, isolate $\\Delta t$ and only consider the positive root. It is common to write $\\gamma = \\frac{1}{\\sqrt{ 1 - \\frac{u^2}{c^2} }}$ to simplify the equation.\n",
    "    \n",
    "This result is known as the **time dilation**.\n",
    "   \n",
    "</div>"
   ]
  },
  {
   "cell_type": "markdown",
   "metadata": {},
   "source": [
    "<hr style=\"height:2px;border-width:0;color:gray;background-color:gray\">"
   ]
  },
  {
   "cell_type": "markdown",
   "metadata": {},
   "source": [
    "## C6.2.3 Time Dilation\n",
    "\n",
    "Box 3 revealed the time dilation equation. Using the short notation for the radical, we have\n",
    "\n",
    "<div class=\"alert alert-success\">\n",
    "\n",
    "$$ \\Delta t = \\gamma\\Delta t_0 $$\n",
    "</div>\n"
   ]
  },
  {
   "cell_type": "markdown",
   "metadata": {},
   "source": [
    "<hr style=\"height:2px;border-width:0;color:gray;background-color:gray\">"
   ]
  },
  {
   "cell_type": "markdown",
   "metadata": {},
   "source": [
    "<div class=\"alert alert-warning\">\n",
    "<b>Box 4</b><br>\n",
    "    \n",
    "1. If Optimus Prime is moving at $u = 1.00\\textrm{e}5$ m/s relative to Optimus, what time interval does Optimus observe between events 1 and 3?\n",
    "    \n",
    "2. How does the elapsed time for Optimus compare to the elapsed time by Optimus Prime?\n",
    "   \n",
    "</div>"
   ]
  },
  {
   "cell_type": "code",
   "execution_count": 2,
   "metadata": {},
   "outputs": [],
   "source": [
    "# DIY Cell"
   ]
  },
  {
   "cell_type": "code",
   "execution_count": 3,
   "metadata": {
    "tags": [
     "hide-input",
     "hide-output"
    ]
   },
   "outputs": [
    {
     "name": "stdout",
     "output_type": "stream",
     "text": [
      "Optimus will observe the time interval to be: 1.467645178375823e-08 s\n",
      " \n",
      "Optimus prime will observe the time interval to be: 1.4676450967311543e-08 s\n",
      " \n",
      "Optimus observes a longer interval than Optimus Prime (not considering significant figures)\n"
     ]
    }
   ],
   "source": [
    "%reset -f\n",
    "\n",
    "import numpy as np\n",
    "\n",
    "c = 2.998e8\n",
    "u = 1.00e5\n",
    "d = 2.20\n",
    "\n",
    "dt0 = 2*d/c\n",
    "\n",
    "gamma = 1/np.sqrt(1 - (u**2/c**2))\n",
    "\n",
    "dt = gamma*dt0\n",
    "\n",
    "print('Optimus will observe the time interval to be: '+str(dt)+' s')\n",
    "print(' ')\n",
    "print('Optimus prime will observe the time interval to be: '+str(dt0)+' s')\n",
    "print(' ')\n",
    "print('Optimus observes a longer interval than Optimus Prime (not considering significant figures)')"
   ]
  },
  {
   "cell_type": "markdown",
   "metadata": {},
   "source": [
    "<div class=\"alert alert-warning\">\n",
    "<b>Box 5</b><br>\n",
    "    \n",
    "An Boeing 787 flies from San Francisco to Tokyo ($8260.0$ km) at a ground speed of $300.0$ m/s.\n",
    "\t \n",
    "1. How long time elapses for a person standing on the ground?\n",
    "2. Will a passenger on-board the plane measure a shorter or longer time interval?\n",
    "3. How much shorter or longer is the time interval for the passenger on-board the plane? Give your answer to 4 significant figures.\n",
    "   \n",
    "</div>"
   ]
  },
  {
   "cell_type": "code",
   "execution_count": 4,
   "metadata": {},
   "outputs": [],
   "source": [
    "# DIY Cell"
   ]
  },
  {
   "cell_type": "code",
   "execution_count": 5,
   "metadata": {
    "tags": [
     "hide-input",
     "hide-output"
    ]
   },
   "outputs": [
    {
     "name": "stdout",
     "output_type": "stream",
     "text": [
      "Elapsed time by ground-observer: 2.753333333333333212067373096943e+04 s\n",
      " \n",
      "Elapsed time by on-board passenger: 2.753333333331954588925802084000e+4 s. It is shorter.\n",
      "The flight is 1.378623141571012943E-8 s shorter.\n"
     ]
    }
   ],
   "source": [
    "%reset -f\n",
    "\n",
    "import numpy as np\n",
    "import decimal\n",
    "\n",
    "c = 2.998e8\n",
    "d = 8260.0e3\n",
    "u = 300.0\n",
    "\n",
    "# Part 1\n",
    "dt = (d/u)\n",
    "dt = \"{:.30e}\".format(dt)\n",
    "print('Elapsed time by ground-observer: '+dt+' s')\n",
    "dt = decimal.Decimal(dt)\n",
    "\n",
    "# Part 2\n",
    "gamma = decimal.Decimal(1/np.sqrt(1 - (u**2/c**2)))\n",
    "dt0 = dt/gamma\n",
    "dt0 = \"{:.30e}\".format(dt0)\n",
    "print(' ')\n",
    "print('Elapsed time by on-board passenger: '+dt0+' s. It is shorter.')\n",
    "dt0 = decimal.Decimal(dt0)\n",
    "\n",
    "diff = dt - dt0\n",
    "\n",
    "print('The flight is '+str(diff)+' s shorter.')"
   ]
  },
  {
   "cell_type": "markdown",
   "metadata": {},
   "source": [
    "<hr style=\"height:2px;border-width:0;color:gray;background-color:gray\">"
   ]
  },
  {
   "cell_type": "markdown",
   "metadata": {},
   "source": [
    "## C6.2.4 Time Dilation Verified - The Hafele-Keating Experiment\n",
    "\n",
    "The time dilation between two observers, one on-board an aircraft and one on the ground was actually verified in 1971. The experiment is known as the [Hafele-Keating Experiment](https://en.wikipedia.org/wiki/Hafele%E2%80%93Keating_experiment) and consisted of two atomic clocks: one on the ground and one on-board a commercial aircraft flying around the world twice. \n",
    "\n",
    "Both kinematic and gravitational time dilations were observed during the Hafele-Keating experiment and agreed with predictions. A great victory for special and general relativity theories!   \n",
    "\n",
    "The experiment is detailed in two papers:\n",
    "[Around-the-World Atomic Clocks: Predicted Relativistic Time Gains](https://web.archive.org/web/20170331121014/http://www.personal.psu.edu/rq9/HOW/Atomic_Clocks_Predictions.pdf)\n",
    "[Around-the-World Atomic Clocks: Observed Relativistic Time Gains](https://web.archive.org/web/20170331121107/http://www.personal.psu.edu/rq9/HOW/Atomic_Clocks_Experiment.pdf)"
   ]
  },
  {
   "cell_type": "markdown",
   "metadata": {},
   "source": [
    "<hr style=\"height:2px;border-width:0;color:gray;background-color:gray\">"
   ]
  },
  {
   "cell_type": "markdown",
   "metadata": {},
   "source": [
    "<div class=\"alert alert-warning\">\n",
    "<b>Box 6</b><br>\n",
    "    \n",
    "High-energy subatomic particles (cosmic rays) coming from space interact with atoms in the earth's atmosphere, in some cases producing unstable particles called **muons**. A muon has a mean life time of $2.20~\\mu$s as measured in its own reference frame before decaying into other particles. If a muon is moving at $0.990c$ ($c = 2.9979\\times 10^{8}$ m/s) relative to earth (laboratory frame), what will an observer on earth measure its lifetime to be?\n",
    "    \n",
    "<img src=\"C6-fig2.4.png\" width=\"200\">\n",
    "    \n",
    "A Feynman diagram showing a $\\mu^{-}$ muon decaying into a muon neutrino, an anti electron neutrino, and an electron through the weak interaction via an intermediate heavy $W^{-}$ boson. Cosmic rays and the atmosphere provides a natural environment to study particle physics.  \n",
    "  \n",
    "</div>"
   ]
  },
  {
   "cell_type": "code",
   "execution_count": 6,
   "metadata": {},
   "outputs": [],
   "source": [
    "# DIY Cell"
   ]
  },
  {
   "cell_type": "code",
   "execution_count": 7,
   "metadata": {
    "tags": [
     "hide-input",
     "hide-output"
    ]
   },
   "outputs": [
    {
     "name": "stdout",
     "output_type": "stream",
     "text": [
      "An observer on earth see a life time of 1.559538651018338e-05 s\n"
     ]
    }
   ],
   "source": [
    "%reset -f\n",
    "\n",
    "import numpy as np\n",
    "\n",
    "c = 2.9979e8\n",
    "u = 0.990*c\n",
    "\n",
    "dt0 = 2.20e-6\n",
    "\n",
    "gamma = 1/np.sqrt(1 - (u**2/c**2))\n",
    "\n",
    "dt = gamma*dt0\n",
    "\n",
    "print('An observer on earth see a life time of '+str(dt)+' s')"
   ]
  },
  {
   "cell_type": "markdown",
   "metadata": {},
   "source": [
    "<hr style=\"height:2px;border-width:0;color:gray;background-color:gray\">"
   ]
  },
  {
   "cell_type": "markdown",
   "metadata": {},
   "source": [
    "<div class=\"alert alert-warning\">\n",
    "<b>Box 7</b><br>\n",
    "    \n",
    "For the muon in Box 6, what is the greatest distance the muon potentially could travel in its reference frame before decaying? \n",
    "  \n",
    "</div>"
   ]
  },
  {
   "cell_type": "code",
   "execution_count": 8,
   "metadata": {},
   "outputs": [],
   "source": [
    "# DIY Cell"
   ]
  },
  {
   "cell_type": "code",
   "execution_count": 9,
   "metadata": {
    "tags": [
     "hide-input",
     "hide-output"
    ]
   },
   "outputs": [
    {
     "name": "stdout",
     "output_type": "stream",
     "text": [
      "Distance traveled as observed by Muon: 652.94262 m\n"
     ]
    }
   ],
   "source": [
    "%reset -f\n",
    "\n",
    "import numpy as np\n",
    "\n",
    "c = 2.9979e8\n",
    "u = 0.990*c\n",
    "\n",
    "dt0 = 2.20e-6\n",
    "\n",
    "dx_prime = u*dt0\n",
    "print('Distance traveled as observed by Muon: '+str(dx_prime)+' m')"
   ]
  },
  {
   "cell_type": "markdown",
   "metadata": {},
   "source": [
    "<hr style=\"height:2px;border-width:0;color:gray;background-color:gray\">"
   ]
  },
  {
   "cell_type": "markdown",
   "metadata": {},
   "source": [
    "<div class=\"alert alert-warning\">\n",
    "<b>Box 8</b><br>\n",
    "    \n",
    "For the muon in Box 6, how far does the muon travel in the laboratory frame before decaying? \n",
    "  \n",
    "</div>"
   ]
  },
  {
   "cell_type": "code",
   "execution_count": 10,
   "metadata": {},
   "outputs": [],
   "source": [
    "# DIY Cell"
   ]
  },
  {
   "cell_type": "code",
   "execution_count": 11,
   "metadata": {
    "tags": [
     "hide-input",
     "hide-output"
    ]
   },
   "outputs": [
    {
     "name": "stdout",
     "output_type": "stream",
     "text": [
      "Distance traveled as observed from ground: 4628.587512668996 m\n"
     ]
    }
   ],
   "source": [
    "%reset -f\n",
    "\n",
    "import numpy as np\n",
    "\n",
    "c = 2.9979e8\n",
    "u = 0.990*c\n",
    "\n",
    "dt0 = 2.20e-6\n",
    "\n",
    "gamma = 1/np.sqrt(1 - (u**2/c**2))\n",
    "\n",
    "dt = gamma*dt0\n",
    "\n",
    "dx = u*dt\n",
    "\n",
    "print('Distance traveled as observed from ground: '+str(dx)+' m')"
   ]
  },
  {
   "cell_type": "markdown",
   "metadata": {},
   "source": [
    "<hr style=\"height:2px;border-width:0;color:gray;background-color:gray\">"
   ]
  }
 ],
 "metadata": {
  "celltoolbar": "Tags",
  "kernelspec": {
   "display_name": "Python 3 (ipykernel)",
   "language": "python",
   "name": "python3"
  },
  "language_info": {
   "codemirror_mode": {
    "name": "ipython",
    "version": 3
   },
   "file_extension": ".py",
   "mimetype": "text/x-python",
   "name": "python",
   "nbconvert_exporter": "python",
   "pygments_lexer": "ipython3",
   "version": "3.10.9"
  }
 },
 "nbformat": 4,
 "nbformat_minor": 2
}