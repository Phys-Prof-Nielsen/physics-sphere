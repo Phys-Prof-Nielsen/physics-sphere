{
 "cells": [
  {
   "cell_type": "markdown",
   "metadata": {},
   "source": [
    "# C4.X Problems\n",
    "<hr style=\"height:2px;border-width:0;color:gray;background-color:gray\">"
   ]
  },
  {
   "cell_type": "markdown",
   "metadata": {},
   "source": [
    "<h2>Problem C4.1</h2>\n",
    "    </header>\n",
    "\n",
    "What are the largest and smallest resistances you can obtain by connecting a $36.0~\\Omega$, a $50.0~\\Omega$, and a $700.0~\\Omega$ resistor together?\n",
    "\n",
    "[This problem is a slightly modified version from OpenStax. Access for free here](https://openstax.org/books/university-physics-volume-2/pages/10-problems)"
   ]
  },
  {
   "cell_type": "code",
   "execution_count": 1,
   "metadata": {},
   "outputs": [],
   "source": [
    "# DIY Cell"
   ]
  },
  {
   "cell_type": "markdown",
   "metadata": {},
   "source": [
    "<hr style=\"height:2px;border-width:0;color:gray;background-color:gray\">"
   ]
  },
  {
   "cell_type": "markdown",
   "metadata": {},
   "source": [
    "<h2>Problem C4.2</h2>\n",
    "    </header>\n",
    "\n",
    "1. Given a 48.0 V battery and $24.0~\\Omega$ and $96.0~\\Omega$ resistors, find the current and power for each when connected in series.\n",
    "\n",
    "2. Repeat when the resistances are in parallel.\n",
    "\n",
    "[This problem is a slightly modified version from OpenStax. Access for free here](https://openstax.org/books/university-physics-volume-2/pages/10-problems)"
   ]
  },
  {
   "cell_type": "code",
   "execution_count": 2,
   "metadata": {},
   "outputs": [],
   "source": [
    "# DIY Cell"
   ]
  },
  {
   "cell_type": "markdown",
   "metadata": {},
   "source": [
    "<hr style=\"height:2px;border-width:0;color:gray;background-color:gray\">"
   ]
  },
  {
   "cell_type": "markdown",
   "metadata": {},
   "source": [
    "<h2>Problem C4.3</h2>\n",
    "    </header>\n",
    "\n",
    "Find the total resistance of this combination of series and parallel resistors shown below.\n",
    "\n",
    "<img src=\"P-C4.3.png\" width=\"350\">"
   ]
  },
  {
   "cell_type": "code",
   "execution_count": 3,
   "metadata": {},
   "outputs": [],
   "source": [
    "# DIY Cell"
   ]
  },
  {
   "cell_type": "markdown",
   "metadata": {},
   "source": [
    "<hr style=\"height:2px;border-width:0;color:gray;background-color:gray\">"
   ]
  },
  {
   "cell_type": "markdown",
   "metadata": {},
   "source": [
    "<h2>Problem C4.4</h2>\n",
    "    </header>\n",
    "\n",
    "Consider the circuit shown below. The terminal voltage of the battery is 18.00 V.\n",
    "\n",
    "1. Find the equivalent resistance of the circuit. \n",
    "2. Find the current through each resistor. \n",
    "3. Find the potential drop across each resistor. \n",
    "4. Find the power dissipated by each resistor. \n",
    "5. Find the power supplied by the battery.\n",
    "\n",
    "<img src=\"P-C4.4.png\" width=\"350\">\n",
    "\n",
    "[This problem is a slightly modified version from OpenStax. Access for free here](https://openstax.org/books/university-physics-volume-2/pages/10-problems)"
   ]
  },
  {
   "cell_type": "code",
   "execution_count": 4,
   "metadata": {},
   "outputs": [],
   "source": [
    "# DIY Cell"
   ]
  },
  {
   "cell_type": "markdown",
   "metadata": {},
   "source": [
    "<hr style=\"height:2px;border-width:0;color:gray;background-color:gray\">"
   ]
  },
  {
   "cell_type": "markdown",
   "metadata": {},
   "source": [
    "<h2>Problem C4.5</h2>\n",
    "    </header>\n",
    "\n",
    "Consider the circuit shown below. \n",
    "\n",
    "1. Find the voltage across each resistor. \n",
    "2. What is the power supplied to the circuit and the power dissipated or consumed by the circuit?\n",
    "\n",
    "<img src=\"P-C4.5.png\" width=\"350\">\n",
    "\n",
    "[This problem is a slightly modified version from OpenStax. Access for free here](https://openstax.org/books/university-physics-volume-2/pages/10-problems)"
   ]
  },
  {
   "cell_type": "code",
   "execution_count": 5,
   "metadata": {},
   "outputs": [],
   "source": [
    "# DIY Cell"
   ]
  },
  {
   "cell_type": "markdown",
   "metadata": {},
   "source": [
    "<hr style=\"height:2px;border-width:0;color:gray;background-color:gray\">"
   ]
  },
  {
   "cell_type": "markdown",
   "metadata": {},
   "source": [
    "<h2>Problem C4.6</h2>\n",
    "    </header>\n",
    "\n",
    "Consider the circuit shown below. Find $V_1$, $V_2$, AND $R_4$.\n",
    " \n",
    "\n",
    "<img src=\"P-C4.6.png\" width=\"350\">\n",
    "\n",
    "[This problem is a slightly modified version from OpenStax. Access for free here](https://openstax.org/books/university-physics-volume-2/pages/10-problems)"
   ]
  },
  {
   "cell_type": "code",
   "execution_count": 6,
   "metadata": {},
   "outputs": [],
   "source": [
    "# DIY Cell"
   ]
  },
  {
   "cell_type": "markdown",
   "metadata": {},
   "source": [
    "<hr style=\"height:2px;border-width:0;color:gray;background-color:gray\">"
   ]
  },
  {
   "cell_type": "markdown",
   "metadata": {},
   "source": [
    "<h2>Problem C4.7</h2>\n",
    "    </header>\n",
    "\n",
    "Consider the circuit shown below. \n",
    "\n",
    "1. Find $I_1$, $I_2$, $I_3$, $I_4$, AND $I_5$.\n",
    "2. Find the power supplied by the voltage sources. \n",
    "3. Find the power dissipated by the resistors.\n",
    "\n",
    "<img src=\"P-C4.7.png\" width=\"350\">\n",
    "\n",
    "[This problem is a slightly modified version from OpenStax. Access for free here](https://openstax.org/books/university-physics-volume-2/pages/10-problems)"
   ]
  },
  {
   "cell_type": "code",
   "execution_count": 7,
   "metadata": {},
   "outputs": [],
   "source": [
    "# DIY Cell"
   ]
  },
  {
   "cell_type": "markdown",
   "metadata": {},
   "source": [
    "<hr style=\"height:2px;border-width:0;color:gray;background-color:gray\">"
   ]
  }
 ],
 "metadata": {
  "celltoolbar": "Tags",
  "kernelspec": {
   "display_name": "Python 3 (ipykernel)",
   "language": "python",
   "name": "python3"
  },
  "language_info": {
   "codemirror_mode": {
    "name": "ipython",
    "version": 3
   },
   "file_extension": ".py",
   "mimetype": "text/x-python",
   "name": "python",
   "nbconvert_exporter": "python",
   "pygments_lexer": "ipython3",
   "version": "3.9.12"
  }
 },
 "nbformat": 4,
 "nbformat_minor": 4
}