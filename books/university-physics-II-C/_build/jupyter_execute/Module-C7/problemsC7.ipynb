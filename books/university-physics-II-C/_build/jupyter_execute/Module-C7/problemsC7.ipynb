{
 "cells": [
  {
   "cell_type": "markdown",
   "metadata": {},
   "source": [
    "# C7.X Problems\n",
    "<hr style=\"height:2px;border-width:0;color:gray;background-color:gray\">"
   ]
  },
  {
   "cell_type": "markdown",
   "metadata": {},
   "source": [
    "<h2>Problem C7.1</h2>\n",
    "    </header>\n",
    "\n",
    "A photon has energy 20.0 keV. What are its frequency and wavelength?\n",
    "\n",
    "[This problem is a slightly modified version from OpenStax. Access for free here](https://openstax.org/books/university-physics-volume-3/pages/6-problems)"
   ]
  },
  {
   "cell_type": "code",
   "execution_count": 1,
   "metadata": {},
   "outputs": [],
   "source": [
    "# DIY Cell"
   ]
  },
  {
   "cell_type": "code",
   "execution_count": 2,
   "metadata": {
    "tags": [
     "hide-input",
     "hide-output"
    ]
   },
   "outputs": [
    {
     "name": "stdout",
     "output_type": "stream",
     "text": [
      "Photon frequency: 4.835940711366879e+18 Hz\n",
      " \n",
      "Photon wavelength: 6.199414299999999e-11 m\n"
     ]
    }
   ],
   "source": [
    "%reset -f\n",
    "\n",
    "E_photon = 20.0e3\n",
    "\n",
    "h_ev = 4.1357e-15\n",
    "c = 2.998e8\n",
    "\n",
    "wave_f = E_photon/h_ev\n",
    "wave_l = c/wave_f\n",
    "\n",
    "print('Photon frequency: '+str(wave_f)+' Hz')\n",
    "print(' ')\n",
    "print('Photon wavelength: '+str(wave_l)+' m')"
   ]
  },
  {
   "cell_type": "markdown",
   "metadata": {},
   "source": [
    "<hr style=\"height:2px;border-width:0;color:gray;background-color:gray\">"
   ]
  },
  {
   "cell_type": "markdown",
   "metadata": {},
   "source": [
    "<h2>Problem C7.2</h2>\n",
    "    </header>\n",
    "\n",
    "1. What is the longest wavelength of radiation that can eject a photoelectron from silver? Use [Table of work functions from OpenStax](https://openstax.org/books/university-physics-volume-3/pages/6-2-photoelectric-effect#fs-id1163709723864) \n",
    "2. Is it in the visible range?\n",
    "\n",
    "[This problem is a slightly modified version from OpenStax. Access for free here](https://openstax.org/books/university-physics-volume-3/pages/6-problems)"
   ]
  },
  {
   "cell_type": "code",
   "execution_count": 3,
   "metadata": {},
   "outputs": [],
   "source": [
    "# DIY Cell"
   ]
  },
  {
   "cell_type": "code",
   "execution_count": 4,
   "metadata": {
    "tags": [
     "hide-input",
     "hide-output"
    ]
   },
   "outputs": [
    {
     "name": "stdout",
     "output_type": "stream",
     "text": [
      "Wavelength of photon: 2.62e-07 m\n",
      " \n",
      "This is not visible light, it is UV light.\n"
     ]
    }
   ],
   "source": [
    "%reset -f\n",
    "\n",
    "import sympy as sym\n",
    "\n",
    "\n",
    "# Part 1\n",
    "phi = 4.73\n",
    "\n",
    "k_electron = 0.0 #minimum kinetic energy\n",
    "\n",
    "h_ev = 4.1357e-15\n",
    "c = 2.998e8\n",
    "\n",
    "wave_l = sym.Symbol('wave_l')\n",
    "\n",
    "E_photon = h_ev*c/wave_l\n",
    "\n",
    "eq = k_electron - E_photon + phi\n",
    "sol = sym.solve(eq, wave_l)\n",
    "wave_l = float(sol[0])\n",
    "\n",
    "wave_l = \"{:.2e}\".format(wave_l)\n",
    "print('Wavelength of photon: '+wave_l+' m')\n",
    "\n",
    "# Part 2\n",
    "print(' ')\n",
    "print('This is not visible light, it is UV light.')"
   ]
  },
  {
   "cell_type": "markdown",
   "metadata": {},
   "source": [
    "<hr style=\"height:2px;border-width:0;color:gray;background-color:gray\">"
   ]
  },
  {
   "cell_type": "markdown",
   "metadata": {},
   "source": [
    "<h2>Problem C7.3</h2>\n",
    "    </header>\n",
    "\n",
    "Estimate the binding energy of electrons in magnesium, given that the wavelength of 337 nm is the longest wavelength that a photon may have to eject a photoelectron from magnesium photoelectrode.\n",
    "\n",
    "[This problem is a slightly modified version from OpenStax. Access for free here](https://openstax.org/books/university-physics-volume-3/pages/6-problems)"
   ]
  },
  {
   "cell_type": "code",
   "execution_count": 5,
   "metadata": {},
   "outputs": [],
   "source": [
    "# DIY Cell"
   ]
  },
  {
   "cell_type": "code",
   "execution_count": 6,
   "metadata": {
    "tags": [
     "hide-input",
     "hide-output"
    ]
   },
   "outputs": [
    {
     "name": "stdout",
     "output_type": "stream",
     "text": [
      "Binding energy (work function) of magnesium is: 3.68 eV\n"
     ]
    }
   ],
   "source": [
    "%reset -f\n",
    "\n",
    "import sympy as sym\n",
    "\n",
    "wave_l = 337e-9\n",
    "\n",
    "k_electron = 0.0 #minimum kinetic energy\n",
    "\n",
    "h_ev = 4.1357e-15\n",
    "c = 2.998e8\n",
    "\n",
    "# binding energy is the work function\n",
    "phi = sym.Symbol('phi')\n",
    "\n",
    "E_photon = h_ev*c/wave_l\n",
    "\n",
    "eq = k_electron - E_photon + phi\n",
    "sol = sym.solve(eq, phi)\n",
    "\n",
    "phi = \"{:.3}\".format(float(sol[0]))\n",
    "print('Binding energy (work function) of magnesium is: '+phi+' eV')"
   ]
  },
  {
   "cell_type": "markdown",
   "metadata": {},
   "source": [
    "<hr style=\"height:2px;border-width:0;color:gray;background-color:gray\">"
   ]
  },
  {
   "cell_type": "markdown",
   "metadata": {},
   "source": [
    "<h2>Problem C7.4</h2>\n",
    "    </header>\n",
    "\n",
    "The work function for potassium is 2.24 eV. \n",
    "\n",
    "1. What is the cutoff frequency when this metal is used as photoelectrode? \n",
    "2. What is the stopping potential for the emitted electrons when this photoelectrode is exposed to radiation of frequency 1200.0 THz?\n",
    "\n",
    "[This problem is a slightly modified version from OpenStax. Access for free here](https://openstax.org/books/university-physics-volume-3/pages/6-problems)"
   ]
  },
  {
   "cell_type": "code",
   "execution_count": 7,
   "metadata": {},
   "outputs": [],
   "source": [
    "# DIY Cell"
   ]
  },
  {
   "cell_type": "code",
   "execution_count": 8,
   "metadata": {
    "tags": [
     "hide-input",
     "hide-output"
    ]
   },
   "outputs": [
    {
     "name": "stdout",
     "output_type": "stream",
     "text": [
      "Cut-off frequency is: 5.42e+14 Hz\n",
      " \n",
      "Stopping potential: 2.7228399999999997 eV\n"
     ]
    }
   ],
   "source": [
    "%reset -f\n",
    "\n",
    "import sympy as sym\n",
    "\n",
    "phi = 2.24\n",
    "\n",
    "# Part 1\n",
    "k_electron = 0.0 #no photo electrons\n",
    "\n",
    "h_ev = 4.1357e-15\n",
    "\n",
    "# frequency\n",
    "f = sym.Symbol('f')\n",
    "\n",
    "E_photon = h_ev*f\n",
    "\n",
    "eq = k_electron - E_photon + phi\n",
    "sol = sym.solve(eq, f)\n",
    "\n",
    "f = \"{:.3}\".format(float(sol[0]))\n",
    "print('Cut-off frequency is: '+f+' Hz')\n",
    "\n",
    "# Part 2\n",
    "e = 1  \n",
    "f = 1200.0e12\n",
    "\n",
    "E_photon = h_ev*f\n",
    "k_max = E_photon - phi   # in eV\n",
    "V_stop = k_max\n",
    "\n",
    "print(' ')\n",
    "print('Stopping potential: '+str(V_stop)+' eV')"
   ]
  },
  {
   "cell_type": "markdown",
   "metadata": {},
   "source": [
    "<hr style=\"height:2px;border-width:0;color:gray;background-color:gray\">"
   ]
  },
  {
   "cell_type": "markdown",
   "metadata": {},
   "source": [
    "<h2>Problem C7.5</h2>\n",
    "    </header>\n",
    "    \n",
    "Find the maximum velocity of photoelectrons ejected by an 80.0 nm radiation, if the work function of photoelectrode is 4.73 eV.\n",
    "\n",
    "[This problem is a slightly modified version from OpenStax. Access for free here](https://openstax.org/books/university-physics-volume-3/pages/6-problems)"
   ]
  },
  {
   "cell_type": "code",
   "execution_count": 9,
   "metadata": {},
   "outputs": [],
   "source": [
    "# DIY Cell"
   ]
  },
  {
   "cell_type": "code",
   "execution_count": 10,
   "metadata": {
    "tags": [
     "hide-input",
     "hide-output"
    ]
   },
   "outputs": [
    {
     "name": "stdout",
     "output_type": "stream",
     "text": [
      "Max. speed is: 1.946e+06 m/s\n"
     ]
    }
   ],
   "source": [
    "%reset -f\n",
    "\n",
    "import sympy as sym\n",
    "\n",
    "phi = 4.73\n",
    "wave_l = 80.0e-9\n",
    "\n",
    "h_ev = 4.1357e-15\n",
    "c = 2.998e8\n",
    "m = 9.109e-31\n",
    "\n",
    "E_photon = h_ev*c/wave_l\n",
    "\n",
    "v = sym.Symbol('v')\n",
    "\n",
    "k_electron = (0.5*m*v**2)/1.602e-19  #in eV\n",
    "\n",
    "eq = k_electron - E_photon + phi\n",
    "sol = sym.solve(eq, v)\n",
    "\n",
    "v = \"{:.3e}\".format(float(sol[1]))\n",
    "print('Max. speed is: '+v+' m/s')"
   ]
  },
  {
   "cell_type": "markdown",
   "metadata": {},
   "source": [
    "<hr style=\"height:2px;border-width:0;color:gray;background-color:gray\">"
   ]
  },
  {
   "cell_type": "markdown",
   "metadata": {},
   "source": [
    "<h2>Problem C7.6</h2>\n",
    "    </header>\n",
    "    \n",
    "A sodium lamp emits 2.0 W of radiant energy, most of which has a wavelength of about 589 nm. Estimate the number of photons emitted per second by the lamp.\n",
    "\n",
    "[This problem is a slightly modified version from OpenStax. Access for free here](https://openstax.org/books/university-physics-volume-3/pages/6-problems)"
   ]
  },
  {
   "cell_type": "code",
   "execution_count": 11,
   "metadata": {},
   "outputs": [],
   "source": [
    "# DIY Cell"
   ]
  },
  {
   "cell_type": "code",
   "execution_count": 12,
   "metadata": {
    "tags": [
     "hide-input",
     "hide-output"
    ]
   },
   "outputs": [
    {
     "name": "stdout",
     "output_type": "stream",
     "text": [
      "Number of photons: 5.930102913965987e+18\n"
     ]
    }
   ],
   "source": [
    "%reset -f\n",
    "\n",
    "wave_l = 589e-9\n",
    "P = 2.0\n",
    "h = 6.626e-34\n",
    "c = 2.998e8\n",
    "dt = 1.0\n",
    "\n",
    "E_photon = h*c/wave_l\n",
    "\n",
    "N = P*dt/E_photon\n",
    "print('Number of photons: '+str(N))"
   ]
  },
  {
   "cell_type": "markdown",
   "metadata": {},
   "source": [
    "<hr style=\"height:2px;border-width:0;color:gray;background-color:gray\">"
   ]
  },
  {
   "cell_type": "markdown",
   "metadata": {},
   "source": [
    "<h2>Problem C7.7</h2>\n",
    "    </header>\n",
    "    \n",
    "A 400.0 nm laser beam is projected onto a calcium electrode. The power of the laser beam is 2.00 mW and the work function of calcium is 2.31 eV.\n",
    "\n",
    "1. How many photoelectrons per second are ejected?\n",
    "2. What net power is carried away by photoelectrons?\n",
    "\n",
    "[This problem is a slightly modified version from OpenStax. Access for free here](https://openstax.org/books/university-physics-volume-3/pages/6-problems)"
   ]
  },
  {
   "cell_type": "code",
   "execution_count": 13,
   "metadata": {},
   "outputs": [],
   "source": [
    "# DIY Cell"
   ]
  },
  {
   "cell_type": "code",
   "execution_count": 14,
   "metadata": {
    "tags": [
     "hide-input",
     "hide-output"
    ]
   },
   "outputs": [
    {
     "name": "stdout",
     "output_type": "stream",
     "text": [
      "Number of electrons: 4.03e+15\n",
      "Net power carried by electrons: 5.10e-04 W\n"
     ]
    }
   ],
   "source": [
    "%reset -f\n",
    "\n",
    "wave_l = 400.0e-9\n",
    "P = 2.0e-3\n",
    "phi = 2.31\n",
    "\n",
    "# Part 1\n",
    "dt = 1\n",
    "h = 6.626e-34\n",
    "c = 2.998e8\n",
    "\n",
    "E_photon = h*c/wave_l\n",
    "\n",
    "N = P*dt/E_photon\n",
    "N = \"{:.2e}\".format(N)\n",
    "print('Number of electrons: '+str(N))\n",
    "\n",
    "# Part 2\n",
    "h_ev = 4.1357e-15\n",
    "k_max = h_ev*c/wave_l - phi\n",
    "\n",
    "E_electrons = float(N)*k_max*1.602e-19  #convert from eV to Joules\n",
    "\n",
    "E_electrons = \"{:.2e}\".format(E_electrons)\n",
    "print('Net power carried by electrons: '+str(E_electrons)+' W')"
   ]
  },
  {
   "cell_type": "markdown",
   "metadata": {},
   "source": [
    "<hr style=\"height:2px;border-width:0;color:gray;background-color:gray\">"
   ]
  },
  {
   "cell_type": "markdown",
   "metadata": {},
   "source": [
    "<h2>Problem C7.8</h2>\n",
    "    </header>\n",
    "    \n",
    "1. Calculate the number of photoelectrons per second that are ejected from a 1.00 mm$^2$ area of sodium metal by a 500.0 nm radiation with intensity 1.30 kW/m$^2$ (the intensity of sunlight above Earth’s atmosphere). \n",
    "\n",
    "2. Given the work function of the metal as 2.28 eV, what power is carried away by these photoelectrons?\n",
    "\n",
    "[This problem is a slightly modified version from OpenStax. Access for free here](https://openstax.org/books/university-physics-volume-3/pages/6-problems)"
   ]
  },
  {
   "cell_type": "code",
   "execution_count": 15,
   "metadata": {},
   "outputs": [],
   "source": [
    "# DIY Cell"
   ]
  },
  {
   "cell_type": "code",
   "execution_count": 16,
   "metadata": {
    "tags": [
     "hide-input",
     "hide-output"
    ]
   },
   "outputs": [
    {
     "name": "stdout",
     "output_type": "stream",
     "text": [
      "Number of electrons: 3.27e+15\n",
      "Net power carried by electrons: 1.05e-04 W\n"
     ]
    }
   ],
   "source": [
    "%reset -f\n",
    "\n",
    "# Part 1\n",
    "A = 1.00*(1/1000)**2  # in m^2\n",
    "wave_l = 500.0e-9\n",
    "I = 1.30e3\n",
    "dt = 1.0\n",
    "\n",
    "h = 6.626e-34\n",
    "c = 2.998e8\n",
    "\n",
    "E_photon = h*c/wave_l\n",
    "P = I*A\n",
    "E = P*dt\n",
    "\n",
    "N = E/E_photon\n",
    "N = \"{:.2e}\".format(N)\n",
    "print('Number of electrons: '+N)\n",
    "\n",
    "# Part 2\n",
    "phi = 2.28*1.602e-19  # work function in Joules\n",
    "\n",
    "k_max = E_photon - phi\n",
    "E_electrons = float(N)*k_max\n",
    "\n",
    "E_electrons = \"{:.2e}\".format(E_electrons)\n",
    "print('Net power carried by electrons: '+str(E_electrons)+' W')\n"
   ]
  },
  {
   "cell_type": "markdown",
   "metadata": {},
   "source": [
    "<hr style=\"height:2px;border-width:0;color:gray;background-color:gray\">"
   ]
  },
  {
   "cell_type": "markdown",
   "metadata": {},
   "source": [
    "<h2>Problem C7.9</h2>\n",
    "    </header>\n",
    "    \n",
    "Ancient records have shown humans gathering around large rectangular boxes where the depth is almost as large as the height of the box. Inside these boxes were cathode-ray tubes used to accelerate electrons to very large energies before striking a coated surface resulting in colorful images. \n",
    "\n",
    "1. If the voltage used to accelerate the electrons was 20.0 kV, what are the highest frequency photon produced?\n",
    "2. Is the photon produced an x-ray?"
   ]
  },
  {
   "cell_type": "code",
   "execution_count": 17,
   "metadata": {},
   "outputs": [],
   "source": [
    "# DIY Cell"
   ]
  },
  {
   "cell_type": "code",
   "execution_count": 18,
   "metadata": {
    "tags": [
     "hide-input",
     "hide-output"
    ]
   },
   "outputs": [
    {
     "name": "stdout",
     "output_type": "stream",
     "text": [
      "Frequency is: 4.835496528825838e+18 Hz\n",
      "Wavelength: 6.20e-11 m\n",
      "The photon is an x-ray photon.\n"
     ]
    }
   ],
   "source": [
    "%reset -f\n",
    "\n",
    "import sympy as sym\n",
    "\n",
    "V_acc = 20.0e3\n",
    "\n",
    "h = 6.626e-34\n",
    "e = 1.602e-19\n",
    "\n",
    "# Part 1\n",
    "f = sym.Symbol('f')\n",
    "eq = h*f - e*V_acc\n",
    "sol = sym.solve(eq,f)\n",
    "f = float(sol[0])\n",
    "print('Frequency is: '+str(f)+' Hz')\n",
    "      \n",
    "# Part 2\n",
    "c = 2.998e8\n",
    "wave_l = (c/f)\n",
    "wave_l = \"{:.2e}\".format(wave_l)\n",
    "print('Wavelength: '+wave_l+' m')\n",
    " \n",
    "# This is in the x-ray domain\n",
    "print('The photon is an x-ray photon.')"
   ]
  },
  {
   "cell_type": "markdown",
   "metadata": {},
   "source": [
    "<hr style=\"height:2px;border-width:0;color:gray;background-color:gray\">"
   ]
  },
  {
   "cell_type": "markdown",
   "metadata": {},
   "source": [
    "<h2>Problem C7.10</h2>\n",
    "    </header>\n",
    "    \n",
    "What is the minimum accelerating potential required to produce a 75.0 keV x-ray? "
   ]
  },
  {
   "cell_type": "code",
   "execution_count": 19,
   "metadata": {},
   "outputs": [],
   "source": [
    "# DIY Cell"
   ]
  },
  {
   "cell_type": "code",
   "execution_count": 20,
   "metadata": {
    "tags": [
     "hide-input",
     "hide-output"
    ]
   },
   "outputs": [
    {
     "name": "stdout",
     "output_type": "stream",
     "text": [
      "Accelerating potential is: 7.50e+4 V\n"
     ]
    }
   ],
   "source": [
    "%reset -f\n",
    "\n",
    "import sympy as sym\n",
    "\n",
    "E_photon = 75.0e3*(1.602e-19/1) #convert from eV to J\n",
    "\n",
    "e = 1.602e-19\n",
    "\n",
    "V_acc = sym.Symbol('V_acc')\n",
    "eq = E_photon - e*V_acc\n",
    "sol = sym.solve(eq,V_acc)\n",
    "\n",
    "V_acc = \"{:.2e}\".format(sol[0])\n",
    "print('Accelerating potential is: '+V_acc+' V')"
   ]
  },
  {
   "cell_type": "markdown",
   "metadata": {},
   "source": [
    "<hr style=\"height:2px;border-width:0;color:gray;background-color:gray\">"
   ]
  },
  {
   "cell_type": "markdown",
   "metadata": {},
   "source": [
    "<h2>Problem C7.11</h2>\n",
    "    </header>\n",
    "    \n",
    "What is the momentum of a 589 nm yellow photon?\n",
    "\n",
    "[This problem is a slightly modified version from OpenStax. Access for free here](https://openstax.org/books/university-physics-volume-3/pages/6-problems)"
   ]
  },
  {
   "cell_type": "code",
   "execution_count": 21,
   "metadata": {},
   "outputs": [],
   "source": [
    "# DIY Cell"
   ]
  },
  {
   "cell_type": "code",
   "execution_count": 22,
   "metadata": {
    "tags": [
     "hide-input",
     "hide-output"
    ]
   },
   "outputs": [
    {
     "name": "stdout",
     "output_type": "stream",
     "text": [
      "Momentum of yellow photon: 1.1249575551782682e-27 Jm/s\n"
     ]
    }
   ],
   "source": [
    "%reset -f\n",
    "\n",
    "wave_l = 589e-9\n",
    "\n",
    "h = 6.626e-34\n",
    "\n",
    "p = h/wave_l\n",
    "\n",
    "print('Momentum of yellow photon: '+str(p)+ ' Jm/s')"
   ]
  },
  {
   "cell_type": "markdown",
   "metadata": {},
   "source": [
    "<hr style=\"height:2px;border-width:0;color:gray;background-color:gray\">"
   ]
  },
  {
   "cell_type": "markdown",
   "metadata": {},
   "source": [
    "<h2>Problem C7.12</h2>\n",
    "    </header>\n",
    "    \n",
    "For collisions with free electrons, compare the Compton shift of a photon scattered as an angle of $30.0^\\circ$ to that of a photon scattered at $45.0^\\circ$.\n",
    "\n",
    "[This problem is a slightly modified version from OpenStax. Access for free here](https://openstax.org/books/university-physics-volume-3/pages/6-problems)"
   ]
  },
  {
   "cell_type": "code",
   "execution_count": 23,
   "metadata": {},
   "outputs": [],
   "source": [
    "# DIY Cell"
   ]
  },
  {
   "cell_type": "code",
   "execution_count": 24,
   "metadata": {
    "tags": [
     "hide-input",
     "hide-output"
    ]
   },
   "outputs": [
    {
     "name": "stdout",
     "output_type": "stream",
     "text": [
      "Wavelength shift ratio: 0.457417883412629\n"
     ]
    }
   ],
   "source": [
    "%reset -f\n",
    "\n",
    "import numpy as np\n",
    "import sympy as sym\n",
    "\n",
    "theta1 = np.radians(30.0)\n",
    "theta2 = np.radians(45.0)\n",
    "\n",
    "h = 6.626e-34\n",
    "c = 2.998e8\n",
    "m_e = 9.109e-31\n",
    "\n",
    "diff1,diff2 = sym.symbols('diff1, diff2')\n",
    "\n",
    "eq1 = diff1 - h/(m_e*c)*(1 - sym.cos(theta1))\n",
    "eq2 = diff2 - h/(m_e*c)*(1 - sym.cos(theta2))\n",
    "\n",
    "sol = sym.solve((eq1,eq2),(diff1,diff2))\n",
    "\n",
    "diff_ratio = sol[diff1]/sol[diff2]\n",
    "print('Wavelength shift ratio: '+str(diff_ratio))"
   ]
  },
  {
   "cell_type": "markdown",
   "metadata": {},
   "source": [
    "<hr style=\"height:2px;border-width:0;color:gray;background-color:gray\">"
   ]
  },
  {
   "cell_type": "markdown",
   "metadata": {},
   "source": [
    "<h2>Problem C7.13</h2>\n",
    "    </header>\n",
    "    \n",
    "X-rays of wavelength 12.5 pm are scattered from a block of carbon. What are the wavelengths of photons scattered at\n",
    "\n",
    "1. $30.0^\\circ$?\n",
    "2. $90.0^\\circ$?\n",
    "3. $180.0^\\circ$?\n",
    "\n",
    "[This problem is a slightly modified version from OpenStax. Access for free here](https://openstax.org/books/university-physics-volume-3/pages/6-problems)"
   ]
  },
  {
   "cell_type": "code",
   "execution_count": 25,
   "metadata": {},
   "outputs": [],
   "source": [
    "# DIY Cell"
   ]
  },
  {
   "cell_type": "code",
   "execution_count": 26,
   "metadata": {
    "tags": [
     "hide-input",
     "hide-output"
    ]
   },
   "outputs": [
    {
     "name": "stdout",
     "output_type": "stream",
     "text": [
      "The wavelengths are: 1.28e-11, 1.49e-11, 1.74e-11 m, respectivele\n"
     ]
    }
   ],
   "source": [
    "%reset -f\n",
    "\n",
    "import numpy as np\n",
    "import sympy as sym\n",
    "\n",
    "lambda0 = 12.5e-12\n",
    "\n",
    "theta1 = np.radians(30.0)\n",
    "theta2 = np.radians(90.0)\n",
    "theta3 = np.radians(180.0)\n",
    "\n",
    "h = 6.626e-34\n",
    "c = 2.998e8\n",
    "m_e = 9.109e-31\n",
    "\n",
    "lambda1, lambda2, lambda3 = sym.symbols('lambda0, lambda1, lambda3')\n",
    "\n",
    "eq1 = lambda1 - lambda0 - h/(m_e*c)*(1 - sym.cos(theta1))\n",
    "eq2 = lambda2 - lambda0 - h/(m_e*c)*(1 - sym.cos(theta2))\n",
    "eq3 = lambda3 - lambda0 - h/(m_e*c)*(1 - sym.cos(theta3))\n",
    "\n",
    "sol = sym.solve((eq1, eq2, eq3),(lambda1, lambda2, lambda3))\n",
    "\n",
    "lambda1 = \"{:.2e}\".format(sol[lambda1])\n",
    "lambda2 = \"{:.2e}\".format(sol[lambda2])\n",
    "lambda3 = \"{:.2e}\".format(sol[lambda3])\n",
    "\n",
    "print('The wavelengths are: '+lambda1+', '+lambda2+', '+lambda3+' m, respectivele')"
   ]
  },
  {
   "cell_type": "markdown",
   "metadata": {},
   "source": [
    "<hr style=\"height:2px;border-width:0;color:gray;background-color:gray\">"
   ]
  },
  {
   "cell_type": "markdown",
   "metadata": {},
   "source": [
    "<h2>Problem C7.14</h2>\n",
    "    </header>\n",
    "    \n",
    "X-rays form ionizing radiation that is dangerous to living tissue and undetectable to the human eye. Suppose that a student researcher working in an X-ray diffraction laboratory is accidentally exposed to a fatal dose of radiation. Calculate the temperature increase of the researcher under the following conditions: the energy of X-ray photons is 200.0 keV and the researcher absorbs  $4.00\\times 10^{13}$ photons per each kilogram of body weight during the exposure. Assume that the specific heat of the student’s body is $3.47$ kJ/(kg$\\cdot$C).\n",
    "\n",
    "[This problem is a slightly modified version from OpenStax. Access for free here](https://openstax.org/books/university-physics-volume-3/pages/6-problems)"
   ]
  },
  {
   "cell_type": "code",
   "execution_count": 27,
   "metadata": {},
   "outputs": [],
   "source": [
    "# DIY Cell"
   ]
  },
  {
   "cell_type": "code",
   "execution_count": 28,
   "metadata": {
    "tags": [
     "hide-input",
     "hide-output"
    ]
   },
   "outputs": [
    {
     "name": "stdout",
     "output_type": "stream",
     "text": [
      "Temperature increase is: 0.00036933717579250725 degrees C\n"
     ]
    }
   ],
   "source": [
    "%reset -f\n",
    "\n",
    "E_photon = 200.0e3*(1.602e-19/1) #convert to joules\n",
    "n = 4.00e13  #photons/kg\n",
    "c = 3.47e3\n",
    "\n",
    "E_per_kg = E_photon*n\n",
    "\n",
    "#Q = mc*dT --> Q/m = c*dT\n",
    "\n",
    "dT = E_per_kg/c\n",
    "print('Temperature increase is: '+str(dT)+' degrees C')"
   ]
  },
  {
   "cell_type": "markdown",
   "metadata": {},
   "source": [
    "<hr style=\"height:2px;border-width:0;color:gray;background-color:gray\">"
   ]
  }
 ],
 "metadata": {
  "celltoolbar": "Tags",
  "kernelspec": {
   "display_name": "Python 3 (ipykernel)",
   "language": "python",
   "name": "python3"
  },
  "language_info": {
   "codemirror_mode": {
    "name": "ipython",
    "version": 3
   },
   "file_extension": ".py",
   "mimetype": "text/x-python",
   "name": "python",
   "nbconvert_exporter": "python",
   "pygments_lexer": "ipython3",
   "version": "3.9.12"
  }
 },
 "nbformat": 4,
 "nbformat_minor": 4
}