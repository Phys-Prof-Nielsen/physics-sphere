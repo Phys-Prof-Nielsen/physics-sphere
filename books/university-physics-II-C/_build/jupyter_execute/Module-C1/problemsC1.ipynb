{
 "cells": [
  {
   "cell_type": "markdown",
   "metadata": {},
   "source": [
    "# C1.X Problems\n",
    "<hr style=\"height:2px;border-width:0;color:gray;background-color:gray\">"
   ]
  },
  {
   "cell_type": "markdown",
   "metadata": {},
   "source": [
    "<h2>Problem C1.1</h2>\n",
    "    </header>\n",
    "\n",
    "Consider a uniformly conducting ring of radius $a$ with a total charge of $Q$. The ring is situated in the $yz$-plane with the origin of reference frame at its center. \n",
    "\n",
    "1. Show that the electric field at a point $P$ along the x-axis is given by\n",
    "\n",
    "$$ \\vec{E} = \\frac{kQx}{(x^2 + a^2)^{3/2}}\\hat{i}$$\n",
    "\n",
    "2. Show that the electric field at a point P, where $x >> a$ is\n",
    "\n",
    "$$ \\vec{E} = \\frac{kQ}{x^2}\\hat{i}$$\n",
    "\n",
    "HINTS:\n",
    "\n",
    "1. Consider the ring to consists of an infinite number of point charges dq.\n",
    "2. Find the electric field at P due to a single point charge on the ring.\n",
    "3. Express the point charge in terms of the linear charge density.\n",
    "4. Integrate."
   ]
  },
  {
   "cell_type": "code",
   "execution_count": 1,
   "metadata": {},
   "outputs": [],
   "source": [
    "# DIY Cell"
   ]
  },
  {
   "cell_type": "code",
   "execution_count": 2,
   "metadata": {
    "tags": [
     "hide-input",
     "hide-output"
    ]
   },
   "outputs": [],
   "source": [
    "%reset -f"
   ]
  },
  {
   "cell_type": "markdown",
   "metadata": {},
   "source": [
    "<hr style=\"height:2px;border-width:0;color:gray;background-color:gray\">"
   ]
  },
  {
   "cell_type": "markdown",
   "metadata": {},
   "source": [
    "<h2>Problem C1.2</h2>\n",
    "    </header>\n",
    "\n",
    "Consider a uniformly conducting ring of radius $0.25$ m with a total charge of $+4.50$ nC. The ring is situated in the $yz$-plane with the origin of reference frame at its center. Find the electric field at points\n",
    "\n",
    "1. $x = 8.00$ cm\n",
    "2. $x = 10.0$ m\n",
    "\n"
   ]
  },
  {
   "cell_type": "code",
   "execution_count": 3,
   "metadata": {},
   "outputs": [],
   "source": [
    "# DIY Cell"
   ]
  },
  {
   "cell_type": "code",
   "execution_count": 4,
   "metadata": {},
   "outputs": [],
   "source": [
    "%reset -f"
   ]
  },
  {
   "cell_type": "markdown",
   "metadata": {},
   "source": [
    "<hr style=\"height:2px;border-width:0;color:gray;background-color:gray\">"
   ]
  },
  {
   "cell_type": "markdown",
   "metadata": {},
   "source": [
    "<h2>Problem C1.3</h2>\n",
    "    </header>\n",
    "\n",
    "A positive charge $Q$ is distributed uniformly along the y=axis between $y = +a$ and $y = -a$. \n",
    "\n",
    "1. Find the electric field at point P on the x-axis at a distance x from the origin.\n",
    "2. How does the electric field at P behave if the line charge is infinitely long?"
   ]
  },
  {
   "cell_type": "code",
   "execution_count": 5,
   "metadata": {},
   "outputs": [],
   "source": [
    "# DIY Cell"
   ]
  },
  {
   "cell_type": "code",
   "execution_count": 6,
   "metadata": {
    "tags": [
     "hide-input",
     "hide-output"
    ]
   },
   "outputs": [
    {
     "name": "stdout",
     "output_type": "stream",
     "text": [
      "1.12837916709551*sqrt(pi)*a/(x**2.0*sqrt(a**2/x**2 + 1))\n",
      "0\n"
     ]
    }
   ],
   "source": [
    "%reset -f\n",
    "\n",
    "import sympy as sym\n",
    "from sympy.abc import a,x,y\n",
    "\n",
    "dEx = x/((x**2 + y**2)**(3/2))\n",
    "Ex = sym.integrate(dEx,(y,-a,a))\n",
    "print(Ex)\n",
    "\n",
    "dEy = y/((x**2 + y**2)**(3/2))\n",
    "Ey = sym.integrate(dEy,(y,-a,a))\n",
    "print(Ey)"
   ]
  },
  {
   "cell_type": "markdown",
   "metadata": {},
   "source": [
    "<hr style=\"height:2px;border-width:0;color:gray;background-color:gray\">"
   ]
  },
  {
   "cell_type": "markdown",
   "metadata": {},
   "source": [
    "<h2>Problem C1.4</h2>\n",
    "    </header>\n",
    "\n",
    "Calculate the magnitude and direction of the electric field $2.0$ m from a long wire that is charged uniformly at $\\lambda = 4.0\\times 10^{-6}$ C/m.\n",
    "\n",
    "[This problem is a slightly modified version from OpenStax. Access for free here](https://openstax.org/books/university-physics-volume-2/pages/5-problems)"
   ]
  },
  {
   "cell_type": "code",
   "execution_count": 7,
   "metadata": {},
   "outputs": [],
   "source": [
    "# DIY Cell"
   ]
  },
  {
   "cell_type": "code",
   "execution_count": 8,
   "metadata": {},
   "outputs": [],
   "source": [
    "%reset -f"
   ]
  },
  {
   "cell_type": "markdown",
   "metadata": {},
   "source": [
    "<hr style=\"height:2px;border-width:0;color:gray;background-color:gray\">"
   ]
  },
  {
   "cell_type": "markdown",
   "metadata": {},
   "source": [
    "<h2>Problem C1.5</h2>\n",
    "    </header>\n",
    "\n",
    "The charge per unit length on the thin semicircular wire shown below is $\\lambda$. What is the electric field at the point P?\n",
    "\n",
    "<img src=\"P-C1.2.png\" width=\"250\">\n",
    "\n",
    "[This problem is a slightly modified version from OpenStax. Access for free here](https://openstax.org/books/university-physics-volume-2/pages/5-problems)"
   ]
  },
  {
   "cell_type": "code",
   "execution_count": 9,
   "metadata": {},
   "outputs": [],
   "source": [
    "# DIY Cell"
   ]
  },
  {
   "cell_type": "code",
   "execution_count": 10,
   "metadata": {},
   "outputs": [],
   "source": [
    "%reset -f"
   ]
  },
  {
   "cell_type": "markdown",
   "metadata": {},
   "source": [
    "<hr style=\"height:2px;border-width:0;color:gray;background-color:gray\">"
   ]
  }
 ],
 "metadata": {
  "celltoolbar": "Tags",
  "kernelspec": {
   "display_name": "Python 3 (ipykernel)",
   "language": "python",
   "name": "python3"
  },
  "language_info": {
   "codemirror_mode": {
    "name": "ipython",
    "version": 3
   },
   "file_extension": ".py",
   "mimetype": "text/x-python",
   "name": "python",
   "nbconvert_exporter": "python",
   "pygments_lexer": "ipython3",
   "version": "3.10.9"
  }
 },
 "nbformat": 4,
 "nbformat_minor": 4
}