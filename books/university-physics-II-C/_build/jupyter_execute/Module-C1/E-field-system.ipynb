{
 "cells": [
  {
   "cell_type": "markdown",
   "metadata": {},
   "source": [
    "# C1.1 Electric Field - System of Charges\n",
    "<hr style=\"height:2px;border-width:0;color:gray;background-color:gray\">"
   ]
  },
  {
   "cell_type": "markdown",
   "metadata": {},
   "source": [
    "## C1.1.1 Motivation\n",
    "\n",
    "In Phase D we saw how to obtain the electric field from a point charge. Often we are presented with objects that are not point charges or point charge like, for example a wire or a conducting disk with a net non-zero charge as use in capacitors. To find electric fields surrounding these objects, we must develop new skills and/or tools. \n",
    "\n",
    "In Phase B we will be presented with **Gauss's law for electric fields**, which under certain geometrically configuration allows for a somewhat convenient way of finding the electric fields. Gauss's law is more of a conceptual approach and is really only applicable in a few cases where the calculations are simple enough. \n",
    "\n",
    "In cases where Gauss's law is too difficult to solve, we rely on the electric field from a point charge and will consider the system as being constructed of a finite (or infinite) number of point charges.\n",
    "\n",
    "This section details the later approach.\n",
    "\n",
    "<hr style=\"height:2px;border-width:0;color:gray;background-color:gray\">"
   ]
  },
  {
   "cell_type": "markdown",
   "metadata": {},
   "source": [
    "## C1.1.2 Review: Electric Field - Point Charge\n",
    "\n",
    "We saw in previous Phase that the electric field from a point charge could be described through\n",
    "\n",
    "<div class=\"alert alert-success\">\n",
    "    \n",
    "$$ \\vec{E} = \\frac{kq}{r^2}\\hat{r} \\tag{1}$$\n",
    "</div>\n",
    "\n",
    "where $\\hat{r}$ is a unit vector of $\\vec{r}$, which is the **directed line segment from the source charge $q$ to the point of interest**\n",
    "\n",
    "Alternatively, and often more useful, we can use the definition of the unit vector:\n",
    "\n",
    "<div class=\"alert alert-success\">\n",
    "    \n",
    "$$ \\vec{E} = \\frac{kq}{r^3}\\vec{r} \\tag{2}$$\n",
    "</div>\n",
    "\n",
    "<div class=\"alert alert-danger\">\n",
    "    \n",
    "We must be careful applying the above equations as there is no direct connection to the positions of the source charge and the point of interest.\n",
    "</div>\n",
    "\n",
    "A more general approach that directly ties the position vectors into the electric field calculation is often preferred. If we use Equation (2) and insert the actual position vectors for the source $\\vec{r}'$ and the point of interest $P$ $\\vec{r}$:\n",
    "\n",
    "<div class=\"alert alert-success\">\n",
    "    \n",
    "$$ \\vec{E} = kq\\frac{\\vec{r} - \\vec{r}'}{|\\vec{r} - \\vec{r}'|^3} \\tag{3}$$\n",
    "</div>\n",
    "    \n",
    "<hr style=\"height:2px;border-width:0;color:gray;background-color:gray\">"
   ]
  },
  {
   "cell_type": "markdown",
   "metadata": {},
   "source": [
    "<div class=\"alert alert-warning\">\n",
    "    <b> Box 1 </b><br>\n",
    "    \n",
    "A 5.00 mC point charge is located at the origin. What is the electric field at a point P at $(x, y) = (5.00~\\textrm{m}, 2.00~\\textrm{m})$?\n",
    "\n",
    "</div>"
   ]
  },
  {
   "cell_type": "code",
   "execution_count": 1,
   "metadata": {
    "tags": [
     "hide-input",
     "hide-output"
    ]
   },
   "outputs": [
    {
     "name": "stdout",
     "output_type": "stream",
     "text": [
      "The electric field components are: [Ex, Ey] = ['1.44e+06', '5.76e+05'] N/C\n"
     ]
    }
   ],
   "source": [
    "%reset -f\n",
    "\n",
    "import numpy as np\n",
    "\n",
    "# Input parameters\n",
    "# ---------------\n",
    "q = 5.00E-3\n",
    "k = 8.99E9\n",
    "\n",
    "xp = 5.00\n",
    "yp = 2.00\n",
    "\n",
    "#magnitude of the distance away from the source:\n",
    "\n",
    "r = np.sqrt(xp**2 + yp**2)\n",
    "\n",
    "# component form of Equation 2\n",
    "Ex = k*q*xp/r**3\n",
    "Ey = k*q*yp/r**3\n",
    "\n",
    "Ex = \"{:.2e}\".format(Ex)\n",
    "Ey = \"{:.2e}\".format(Ey)\n",
    "\n",
    "# combine the components into an array (easier to print, that's all)\n",
    "E = [Ex,Ey]\n",
    "\n",
    "print('The electric field components are: [Ex, Ey] = '+str(E)+' N/C')"
   ]
  },
  {
   "cell_type": "markdown",
   "metadata": {},
   "source": [
    "<hr style=\"height:2px;border-width:0;color:gray;background-color:gray\">"
   ]
  },
  {
   "cell_type": "markdown",
   "metadata": {},
   "source": [
    "<div class=\"alert alert-warning\">\n",
    "    <b> Box 2 </b><br>\n",
    "    \n",
    "A 5.00 mC point charge is located at $(x,y) = (2.00~\\textrm{m}, 3.00~\\textrm{m})$. What is the electric field at a point P at $(x, y) = (5.00~\\textrm{m}, 2.00~\\textrm{m})$?\n",
    "\n",
    "</div>"
   ]
  },
  {
   "cell_type": "code",
   "execution_count": 2,
   "metadata": {
    "tags": [
     "hide-input",
     "hide-output"
    ]
   },
   "outputs": [
    {
     "name": "stdout",
     "output_type": "stream",
     "text": [
      "The electric field components are: [Ex, Ey] = ['4.26e+06', '-1.42e+06'] N/C\n"
     ]
    }
   ],
   "source": [
    "%reset -f\n",
    "\n",
    "import numpy as np\n",
    "\n",
    "# Input parameters\n",
    "# ---------------\n",
    "q = 5.00E-3\n",
    "k = 8.99E9\n",
    "\n",
    "x1 = 2.00\n",
    "y1 = 3.00\n",
    "xp = 5.00\n",
    "yp = 2.00\n",
    "\n",
    "# magnitiude of directed line segment from source charge (1) to point P\n",
    "r = np.sqrt((xp - x1)**2 + (yp - y1)**2)\n",
    "\n",
    "# component form of Equation 3 \n",
    "Ex = k*q*(xp - x1)/r**3\n",
    "Ey = k*q*(yp - y1)/r**3\n",
    "\n",
    "Ex = \"{:.2e}\".format(Ex)\n",
    "Ey = \"{:.2e}\".format(Ey)\n",
    "\n",
    "# combine the components into an array (easier to print, that's all)\n",
    "E = [Ex,Ey]\n",
    "\n",
    "print('The electric field components are: [Ex, Ey] = '+str(E)+' N/C')"
   ]
  },
  {
   "cell_type": "markdown",
   "metadata": {},
   "source": [
    "<hr style=\"height:2px;border-width:0;color:gray;background-color:gray\">"
   ]
  },
  {
   "cell_type": "markdown",
   "metadata": {},
   "source": [
    "## C1.1.3 Discrete Charge Distribution\n",
    "\n",
    "The total electric field from a system of point charges is the **vector sum** of the individual fields:\n",
    "\n",
    "<div class=\"alert alert-success\">\n",
    "    \n",
    "$$ \\vec{E} = \\sum\\frac{kq_i}{r_{i}^2}\\hat{r}_i \\tag{4}$$\n",
    "</div>\n",
    "\n",
    "where $\\hat{r}_i$ is a unit vector of $\\vec{r}_i$, which is the **directed line segment from the source charge $q_i$ to the point of interest** for each **individual** charge.\n",
    "\n",
    "Similarly to above, we can write it in various forms:\n",
    "\n",
    "<div class=\"alert alert-success\">\n",
    "    \n",
    "$$ \\vec{E} = \\frac{kq_i}{r_{i}^3}\\vec{r}_i \\tag{5}$$\n",
    "</div>\n",
    "\n",
    "<div class=\"alert alert-success\">\n",
    "    \n",
    "$$ \\vec{E} = kq_i\\frac{\\vec{r} - \\vec{r}_{i}'}{|\\vec{r} - \\vec{r}_{i}'|^3} \\tag{6}$$\n",
    "</div>\n",
    "    \n",
    "\n",
    "<hr style=\"height:2px;border-width:0;color:gray;background-color:gray\">"
   ]
  },
  {
   "cell_type": "markdown",
   "metadata": {},
   "source": [
    "<div class=\"alert alert-warning\">\n",
    "    <b> Box 3 </b><br>\n",
    "    \n",
    "A 5.00 mC point charge is located at the origin. A second charge of -7.00 mC is positioned at $(x, y) = (1.00~\\textrm{m}, 3.00~\\textrm{m})$. What is the electric field at a point P at $(x, y) = (5.00~\\textrm{m}, 2.00~\\textrm{m})$?\n",
    "\n",
    "</div>"
   ]
  },
  {
   "cell_type": "code",
   "execution_count": 3,
   "metadata": {
    "tags": [
     "hide-input",
     "hide-output"
    ]
   },
   "outputs": [
    {
     "name": "stdout",
     "output_type": "stream",
     "text": [
      "The electric field components are: [Ex, Ey] = ['-2.15e+06', '1.47e+06'] N/C\n"
     ]
    }
   ],
   "source": [
    "%reset -f\n",
    "\n",
    "import numpy as np\n",
    "\n",
    "# Input parameters\n",
    "# ---------------\n",
    "q1 = 5.00e-3\n",
    "q2 = -7.00e-3\n",
    "k = 8.99e9\n",
    "\n",
    "x1 = 0.00\n",
    "y1 = 0.00\n",
    "x2 = 1.00\n",
    "y2 = 3.00\n",
    "xp = 5.00\n",
    "yp = 2.00\n",
    "\n",
    "# magnitiude of directed line segment from source charge (1) to Point\n",
    "r1 = np.sqrt((xp - x1)**2 + (yp - y1)**2)\n",
    "# magnitiude of directed line segment from source charge (2) to Point\n",
    "r2 = np.sqrt((xp - x2)**2 + (yp - y2)**2)\n",
    "\n",
    "# component form of Equation 3 - source 1\n",
    "E1x = k*q1*(xp - x1)/r1**3\n",
    "E1y = k*q1*(yp - y1)/r1**3\n",
    "\n",
    "# component form of Equation 3 - source 2\n",
    "E2x = k*q2*(xp - x2)/r2**3\n",
    "E2y = k*q2*(yp - y2)/r2**3\n",
    "\n",
    "Ex = E1x + E2x\n",
    "Ey = E1y + E2y\n",
    "\n",
    "Ex = \"{:.2e}\".format(Ex)\n",
    "Ey = \"{:.2e}\".format(Ey)\n",
    "\n",
    "# combine the components into an array (easier to print, that's all)\n",
    "E = [Ex,Ey]\n",
    "\n",
    "print('The electric field components are: [Ex, Ey] = '+str(E)+' N/C')"
   ]
  },
  {
   "cell_type": "markdown",
   "metadata": {},
   "source": [
    "<hr style=\"height:2px;border-width:0;color:gray;background-color:gray\">"
   ]
  },
  {
   "cell_type": "markdown",
   "metadata": {},
   "source": [
    "## C1.1.4 Continuous Charge Distriction\n",
    "\n",
    "At some point the number of charges become too large to for these type of calculations and instead we will consider the number of particles $N$ approach $\\infty$ and the sums above becomes integrals over discrete point-like charges $dq$. Often we will express the continuos charge distributions in terms of the charge densities:\n",
    "\n",
    "**Line Charge**\n",
    "\n",
    "$$ dq = \\lambda dl $$\n",
    "\n",
    "**Surface Charge**\n",
    "\n",
    "$$ dq = \\sigma dA $$\n",
    "\n",
    "**Volume Charge**\n",
    "\n",
    "$$ dq = \\rho dV $$\n",
    "\n",
    "and the fields are\n",
    "\n",
    "<div class=\"alert alert-success\">\n",
    "\n",
    "$$\n",
    "\\begin{align}\n",
    "    \\vec{E} &= \\int_{Line}\\frac{k\\lambda}{r^2}dl~\\hat{r}\\\\\n",
    "    \\\\\n",
    "    \\vec{E} &= \\int_{Surface}\\frac{k\\sigma}{r^2}dA~\\hat{r}\\\\\n",
    "    \\\\\n",
    "    \\vec{E} &= \\int_{Volume}\\frac{k\\rho}{r^2}dV~\\hat{r}\n",
    "\\end{align}\n",
    "$$\n",
    "</div>\n",
    "\n",
    "where $\\hat{r}$ is the direction of the **net field**.\n",
    "    \n",
    "The above integrals often involve multivariable calculus and we will wait until Phase B to explore that topic in more detail. For now we will consider cases, where we can break the system into integrals of the components and use our more comfortable 1D integral system.\n",
    "\n",
    "<hr style=\"height:2px;border-width:0;color:gray;background-color:gray\">"
   ]
  },
  {
   "cell_type": "code",
   "execution_count": null,
   "metadata": {},
   "outputs": [],
   "source": []
  }
 ],
 "metadata": {
  "celltoolbar": "Tags",
  "kernelspec": {
   "display_name": "Python 3 (ipykernel)",
   "language": "python",
   "name": "python3"
  },
  "language_info": {
   "codemirror_mode": {
    "name": "ipython",
    "version": 3
   },
   "file_extension": ".py",
   "mimetype": "text/x-python",
   "name": "python",
   "nbconvert_exporter": "python",
   "pygments_lexer": "ipython3",
   "version": "3.9.12"
  }
 },
 "nbformat": 4,
 "nbformat_minor": 2
}