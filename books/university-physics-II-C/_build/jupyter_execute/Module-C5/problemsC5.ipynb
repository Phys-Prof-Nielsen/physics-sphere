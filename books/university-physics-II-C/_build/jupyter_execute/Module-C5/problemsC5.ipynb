{
 "cells": [
  {
   "cell_type": "markdown",
   "metadata": {},
   "source": [
    "# C5.X Problems\n",
    "<hr style=\"height:2px;border-width:0;color:gray;background-color:gray\">"
   ]
  },
  {
   "cell_type": "markdown",
   "metadata": {},
   "source": [
    "<h2>Problem C5.1</h2>\n",
    "    </header>\n",
    "\n",
    "The coordinate axes of the reference frame $S'$ remain parallel to those of $S$, as $S'$ moves away from $S$ at a constant velocity $\\vec{u} = (4.0~\\hat{i} + 3.0~\\hat{j} + 5.0~\\hat{k})$ m/s.\n",
    "\n",
    "1. If at time $t = 0$ the origins coincide, what is the position of the origin $O'$ in the $S$ frame as a function of time? \n",
    "2. How is particle position for $\\vec{r}(t)$ and  $\\vec{r}'(t)$, as measured in $S$ and $S'$, respectively, related? \n",
    "3. What is the relationship between particle velocities $\\vec{v}(t)$ and $\\vec{v}'(t)$?\n",
    "4. How are accelerations $\\vec{a}(t)$ and $\\vec{a}'(t)$ related?\n",
    "\n",
    "[This problem is a slightly modified version from OpenStax. Access for free here](https://openstax.org/books/university-physics-volume-1/pages/4-problems)"
   ]
  },
  {
   "cell_type": "code",
   "execution_count": 1,
   "metadata": {},
   "outputs": [],
   "source": [
    "# DIY Cell"
   ]
  },
  {
   "cell_type": "code",
   "execution_count": 2,
   "metadata": {
    "tags": [
     "hide-input",
     "hide-output"
    ]
   },
   "outputs": [
    {
     "name": "stdout",
     "output_type": "stream",
     "text": [
      "Position of O' as seen by S: [4.0*t 3.0*t 5.0*t] m\n",
      " \n",
      "The relationship is: r = r' + ut\n",
      " \n",
      "The relationship is: v = v' + ut\n",
      " \n",
      "The relationship is: a = a'\n"
     ]
    }
   ],
   "source": [
    "%reset -f\n",
    "\n",
    "import numpy as np\n",
    "import sympy as sym\n",
    "from sympy.abc import t\n",
    "\n",
    "u = np.array([4.0, 3.0, 5.0])\n",
    "\n",
    "# Part 1\n",
    "#point P is O'\n",
    "\n",
    "r_prime = np.array([0,0,0])\n",
    "r = r_prime + u*t\n",
    "\n",
    "print('Position of O\\' as seen by S: '+str(r)+' m')\n",
    "\n",
    "# Part 2\n",
    "# This is simply the Galiean Coordinate transformation\n",
    "print(' ')\n",
    "print('The relationship is: r = r\\' + ut')\n",
    "\n",
    "# Part 3\n",
    "# This is simply the Galiean velocity transformation\n",
    "print(' ')\n",
    "print('The relationship is: v = v\\' + ut')\n",
    "\n",
    "# Part 4\n",
    "# This is simply the Galiean acceleration transformation\n",
    "# there is not acceleration between the systems\n",
    "A = 0 \n",
    "print(' ')\n",
    "print('The relationship is: a = a\\'')"
   ]
  },
  {
   "cell_type": "markdown",
   "metadata": {},
   "source": [
    "<hr style=\"height:2px;border-width:0;color:gray;background-color:gray\">"
   ]
  },
  {
   "cell_type": "markdown",
   "metadata": {},
   "source": [
    "<h2>Problem C5.2</h2>\n",
    "    </header>\n",
    "\n",
    "Raindrops fall vertically at 4.5 m/s relative to the earth. What does an observer in a car moving at 22.0 m/s in a straight line measure as the velocity of the raindrops?\n",
    "\n",
    "[This problem is a slightly modified version from OpenStax. Access for free here](https://openstax.org/books/university-physics-volume-1/pages/4-problems)"
   ]
  },
  {
   "cell_type": "code",
   "execution_count": 3,
   "metadata": {},
   "outputs": [],
   "source": [
    "# DIY Cell"
   ]
  },
  {
   "cell_type": "code",
   "execution_count": 4,
   "metadata": {
    "tags": [
     "hide-input",
     "hide-output"
    ]
   },
   "outputs": [
    {
     "name": "stdout",
     "output_type": "stream",
     "text": [
      "Velocity as seen by observer in the car: [-22.    0.   -4.5] m/s\n"
     ]
    }
   ],
   "source": [
    "%reset -f\n",
    "\n",
    "import numpy as np\n",
    "\n",
    "# reference frame: xyz --> East, North, Up\n",
    "\n",
    "v = np.array([0, 0, -4.5])\n",
    "u = np.array([22,0,0]) # assuming straigh line in east direction\n",
    "v_prime = v - u\n",
    "\n",
    "print('Velocity as seen by observer in the car: '+str(v_prime)+' m/s')"
   ]
  },
  {
   "cell_type": "markdown",
   "metadata": {},
   "source": [
    "<hr style=\"height:2px;border-width:0;color:gray;background-color:gray\">"
   ]
  },
  {
   "cell_type": "markdown",
   "metadata": {},
   "source": [
    "<h2>Problem C5.3</h2>\n",
    "    </header>\n",
    "\n",
    "A small plane flies at 200.0 km/h in still air. If the wind blows directly out of the west at 50.0 km/h, \n",
    "\n",
    "1. in what direction must the pilot head her plane to move directly north across land and \n",
    "2. how long does it take her to reach a point 300.0 km directly north of her starting point?\n",
    "\n",
    "[This problem is a slightly modified version from OpenStax. Access for free here](https://openstax.org/books/university-physics-volume-1/pages/4-problems)"
   ]
  },
  {
   "cell_type": "code",
   "execution_count": 5,
   "metadata": {},
   "outputs": [],
   "source": [
    "# DIY Cell"
   ]
  },
  {
   "cell_type": "code",
   "execution_count": 6,
   "metadata": {
    "tags": [
     "hide-input",
     "hide-output"
    ]
   },
   "outputs": [
    {
     "name": "stdout",
     "output_type": "stream",
     "text": [
      "Direction is: 14.477512185929925 west of north"
     ]
    },
    {
     "name": "stdout",
     "output_type": "stream",
     "text": [
      "\n",
      " \n",
      "Time: 92.951600308978 minutes\n"
     ]
    }
   ],
   "source": [
    "%reset -f\n",
    "\n",
    "import numpy as np\n",
    "import sympy as sym\n",
    "\n",
    "# S is observer on earth\n",
    "# S' is observer moving with the air\n",
    "# u is wind velocity relative to ground\n",
    "# v' is speed relative to wind: still air speed\n",
    "\n",
    "u_x = 50.0*(1000/1)*(1/3600)  # + to the east\n",
    "u_y = 0.0\n",
    "\n",
    "speed_prime = 200.0*(1000/1)*(1/3600)\n",
    "\n",
    "theta = sym.Symbol('theta')\n",
    "v_prime_x = speed_prime*sym.cos(theta) \n",
    "v_prime_y = speed_prime*sym.sin(theta)\n",
    "\n",
    "v_x = 0.0 # no east velocity relative to ground\n",
    "v_y = sym.Symbol('v_y')\n",
    "\n",
    "eqx = v_x - v_prime_x - u_x\n",
    "eqy = v_y - v_prime_y - u_y\n",
    "sol = sym.solve((eqx,eqy),(theta,v_y))\n",
    "\n",
    "theta = float(sol[0][0])*180/np.pi\n",
    "v_y = float(sol[0][1])\n",
    "# angle measured CCWfrom east direction\n",
    "# make it measured CCW from north\n",
    "angle = theta - 90\n",
    "print('Direction is: '+str(angle)+' west of north')\n",
    "\n",
    "d_y = 300.0e3\n",
    "t = d_y/v_y\n",
    "t = t/60\n",
    "print(' ')\n",
    "print('Time: '+str(t)+' minutes')"
   ]
  },
  {
   "cell_type": "markdown",
   "metadata": {},
   "source": [
    "<hr style=\"height:2px;border-width:0;color:gray;background-color:gray\">"
   ]
  },
  {
   "cell_type": "markdown",
   "metadata": {},
   "source": [
    "<h2>Problem C5.4</h2>\n",
    "    </header>\n",
    "\n",
    "Two speedboats are traveling at the same speed relative to the water in opposite directions in a moving river. An observer on the riverbank sees the boats moving at 4.0 m/s and 5.0 m/s.\n",
    "\n",
    "1. What is the speed of the boats relative to the river? \n",
    "2. How fast is the river moving relative to the shore?\n",
    "\n",
    "[This problem is a slightly modified version from OpenStax. Access for free here](https://openstax.org/books/university-physics-volume-1/pages/4-problems)"
   ]
  },
  {
   "cell_type": "code",
   "execution_count": 7,
   "metadata": {},
   "outputs": [],
   "source": [
    "# DIY Cell"
   ]
  },
  {
   "cell_type": "code",
   "execution_count": 8,
   "metadata": {
    "tags": [
     "hide-input",
     "hide-output"
    ]
   },
   "outputs": [
    {
     "name": "stdout",
     "output_type": "stream",
     "text": [
      "Boat A speed relative to river: 4.50000000000000 m/s\n",
      "Boat B speed relative to river: -4.50000000000000 m/s\n",
      "River speed relative to shore: -0.500000000000000 m/s\n"
     ]
    }
   ],
   "source": [
    "%reset -f\n",
    "\n",
    "import sympy as sym\n",
    "\n",
    "# Let boat A move  +x and boat B in -x\n",
    "vA = 4.0\n",
    "vB = -5.0\n",
    "\n",
    "vA_prime, vB_prime, u = sym.symbols('vA_prime,vB_prime,u')\n",
    "# Boat A\n",
    "eqA = vA - vA_prime - u\n",
    "\n",
    "# Boat B\n",
    "eqB = vB - vB_prime - u\n",
    "\n",
    "eq3 = vA_prime + vB_prime #same speed --> opposite velocity\n",
    "\n",
    "sol = sym.solve((eqA,eqB,eq3),(vA_prime, vB_prime, u))\n",
    "\n",
    "print('Boat A speed relative to river: '+str(sol[vA_prime])+' m/s')\n",
    "print('Boat B speed relative to river: '+str(sol[vB_prime])+' m/s')\n",
    "print('River speed relative to shore: '+str(sol[u])+' m/s')"
   ]
  },
  {
   "cell_type": "markdown",
   "metadata": {},
   "source": [
    "<hr style=\"height:2px;border-width:0;color:gray;background-color:gray\">"
   ]
  }
 ],
 "metadata": {
  "celltoolbar": "Tags",
  "kernelspec": {
   "display_name": "Python 3 (ipykernel)",
   "language": "python",
   "name": "python3"
  },
  "language_info": {
   "codemirror_mode": {
    "name": "ipython",
    "version": 3
   },
   "file_extension": ".py",
   "mimetype": "text/x-python",
   "name": "python",
   "nbconvert_exporter": "python",
   "pygments_lexer": "ipython3",
   "version": "3.10.9"
  }
 },
 "nbformat": 4,
 "nbformat_minor": 4
}