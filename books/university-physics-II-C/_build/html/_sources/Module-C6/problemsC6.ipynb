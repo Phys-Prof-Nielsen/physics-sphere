{
 "cells": [
  {
   "cell_type": "markdown",
   "metadata": {},
   "source": [
    "# C6.4 Problems\n",
    "<hr style=\"height:2px;border-width:0;color:gray;background-color:gray\">"
   ]
  },
  {
   "cell_type": "markdown",
   "metadata": {},
   "source": [
    "<h2>Problem C6.1</h2>\n",
    "    </header>\n",
    "\n",
    "What is $\\gamma$ if\n",
    "\n",
    "1. $v = 0.250c$ ?\n",
    "2. $v = 0.500c$ ?\n",
    "\n",
    "[This problem is a slightly modified version from OpenStax. Access for free here](https://openstax.org/books/university-physics-volume-3/pages/5-problems)"
   ]
  },
  {
   "cell_type": "code",
   "execution_count": null,
   "metadata": {},
   "outputs": [],
   "source": [
    "# DIY Cell"
   ]
  },
  {
   "cell_type": "code",
   "execution_count": 6,
   "metadata": {
    "tags": [
     "hide-input",
     "hide-output"
    ]
   },
   "outputs": [
    {
     "name": "stdout",
     "output_type": "stream",
     "text": [
      "Gammafactor is: 1.0327955589886444\n",
      "Gammafactor is: 1.1547005383792517\n"
     ]
    }
   ],
   "source": [
    "%reset -f\n",
    "\n",
    "import numpy as np\n",
    "\n",
    "def gamma(u):\n",
    "    return 1/np.sqrt(1 - (u**2/c**2))\n",
    "\n",
    "c = 2.9979e8\n",
    "\n",
    "# Part 1\n",
    "v = 0.250*c\n",
    "print('Gammafactor is: '+str(gamma(v)))\n",
    "\n",
    "# Part 2\n",
    "v = 0.500*c\n",
    "print('Gammafactor is: '+str(gamma(v)))\n"
   ]
  },
  {
   "cell_type": "markdown",
   "metadata": {},
   "source": [
    "<hr style=\"height:2px;border-width:0;color:gray;background-color:gray\">"
   ]
  },
  {
   "cell_type": "markdown",
   "metadata": {},
   "source": [
    "<h2>Problem C6.2</h2>\n",
    "    </header>\n",
    "\n",
    "Particles called $\\pi$-mesons are produced by accelerator beams. If these particles travel at $2.70\\times 10^8$ m/s and live $2.60\\times 10^{−8}$ s when at rest relative to an observer, how long do they live as viewed in the laboratory?\n",
    "\n",
    "[This problem is a slightly modified version from OpenStax. Access for free here](https://openstax.org/books/university-physics-volume-3/pages/5-problems)"
   ]
  },
  {
   "cell_type": "code",
   "execution_count": null,
   "metadata": {},
   "outputs": [],
   "source": [
    "# DIY Cell"
   ]
  },
  {
   "cell_type": "code",
   "execution_count": 7,
   "metadata": {
    "tags": [
     "hide-input",
     "hide-output"
    ]
   },
   "outputs": [
    {
     "name": "stdout",
     "output_type": "stream",
     "text": [
      "Laboratory life time: 5.982708281133304e-08 s\n"
     ]
    }
   ],
   "source": [
    "%reset -f\n",
    "\n",
    "import numpy as np\n",
    "\n",
    "c = 2.9979e8\n",
    "u = 2.70e8\n",
    "dt0 = 2.60e-8\n",
    "\n",
    "gamma = 1/np.sqrt(1 - (u**2/c**2))\n",
    "dt = gamma*dt0\n",
    "\n",
    "print('Laboratory life time: '+str(dt)+' s')"
   ]
  },
  {
   "cell_type": "markdown",
   "metadata": {},
   "source": [
    "<hr style=\"height:2px;border-width:0;color:gray;background-color:gray\">"
   ]
  },
  {
   "cell_type": "markdown",
   "metadata": {},
   "source": [
    "<h2>Problem C6.3</h2>\n",
    "    </header>\n",
    "\n",
    "A neutral $\\pi$-meson is a particle that can be created by accelerator beams. If one such particle lives  $1.40\\times 10^{−16}$ s as measured in the laboratory, and  $0.840\\times 10^{−16}$ s when at rest relative to an observer, what is its velocity relative to the laboratory?\n",
    "\n",
    "[This problem is a slightly modified version from OpenStax. Access for free here](https://openstax.org/books/university-physics-volume-3/pages/5-problems)"
   ]
  },
  {
   "cell_type": "code",
   "execution_count": null,
   "metadata": {},
   "outputs": [],
   "source": [
    "# DIY Cell"
   ]
  },
  {
   "cell_type": "code",
   "execution_count": 14,
   "metadata": {
    "tags": [
     "hide-input",
     "hide-output"
    ]
   },
   "outputs": [
    {
     "name": "stdout",
     "output_type": "stream",
     "text": [
      "Relative speed: 2.40e+8 m/s\n"
     ]
    }
   ],
   "source": [
    "%reset -f\n",
    "\n",
    "import sympy as sym\n",
    "\n",
    "c = 2.9979e8\n",
    "dt = 1.40e-16\n",
    "dt0 = 0.840e-16\n",
    "\n",
    "u = sym.Symbol('u')\n",
    "\n",
    "gamma = 1/sym.sqrt(1 - (u**2/c**2))\n",
    "eq = dt - gamma*dt0\n",
    "sol = sym.solve(eq,u)\n",
    "\n",
    "u = \"{:.2e}\".format(sol[1])\n",
    "\n",
    "print('Relative speed: '+str(u)+' m/s')"
   ]
  },
  {
   "cell_type": "markdown",
   "metadata": {},
   "source": [
    "<hr style=\"height:2px;border-width:0;color:gray;background-color:gray\">"
   ]
  },
  {
   "cell_type": "markdown",
   "metadata": {},
   "source": [
    "<h2>Problem C6.4</h2>\n",
    "    </header>\n",
    "\n",
    "If relativistic effects are to be less than $1\\%$, then $\\gamma$ must be less than 1.01. At what relative velocity is $\\gamma =1.01$?\n",
    "\n",
    "[This problem is a slightly modified version from OpenStax. Access for free here](https://openstax.org/books/university-physics-volume-3/pages/5-problems)"
   ]
  },
  {
   "cell_type": "code",
   "execution_count": null,
   "metadata": {},
   "outputs": [],
   "source": [
    "# DIY Cell"
   ]
  },
  {
   "cell_type": "code",
   "execution_count": 17,
   "metadata": {
    "tags": [
     "hide-input",
     "hide-output"
    ]
   },
   "outputs": [
    {
     "name": "stdout",
     "output_type": "stream",
     "text": [
      "Relative speed: 4.21e+7 m/s\n"
     ]
    }
   ],
   "source": [
    "%reset -f\n",
    "\n",
    "import sympy as sym\n",
    "\n",
    "c = 2.9979e8\n",
    "val = 1.01\n",
    "\n",
    "u = sym.Symbol('u')\n",
    "\n",
    "gamma = 1/sym.sqrt(1 - (u**2/c**2))\n",
    "eq = val - gamma\n",
    "sol = sym.solve(eq,u)\n",
    "\n",
    "u = \"{:.2e}\".format(sol[1])\n",
    "\n",
    "print('Relative speed: '+str(u)+' m/s')"
   ]
  },
  {
   "cell_type": "markdown",
   "metadata": {},
   "source": [
    "<hr style=\"height:2px;border-width:0;color:gray;background-color:gray\">"
   ]
  },
  {
   "cell_type": "markdown",
   "metadata": {},
   "source": [
    "<h2>Problem C6.5</h2>\n",
    "    </header>\n",
    "\n",
    "A spaceship, $200.0$ m long as seen on board, moves by the Earth at $0.970c$. What is its length as measured by an earthbound observer?\n",
    "\n",
    "[This problem is a slightly modified version from OpenStax. Access for free here](https://openstax.org/books/university-physics-volume-3/pages/5-problems)"
   ]
  },
  {
   "cell_type": "code",
   "execution_count": null,
   "metadata": {},
   "outputs": [],
   "source": [
    "# DIY Cell"
   ]
  },
  {
   "cell_type": "code",
   "execution_count": 19,
   "metadata": {
    "tags": [
     "hide-input",
     "hide-output"
    ]
   },
   "outputs": [
    {
     "name": "stdout",
     "output_type": "stream",
     "text": [
      "Length of spaceship from Earth: 48.62098312457288 m\n"
     ]
    }
   ],
   "source": [
    "%reset -f\n",
    "\n",
    "import numpy as np\n",
    "\n",
    "c = 2.9979e8\n",
    "u = 0.970*c\n",
    "\n",
    "l0 = 200.0\n",
    "\n",
    "gamma = 1/np.sqrt(1 - (u**2/c**2))\n",
    "\n",
    "l = l0/gamma\n",
    "\n",
    "print('Length of spaceship from Earth: '+str(l)+' m')"
   ]
  },
  {
   "cell_type": "markdown",
   "metadata": {},
   "source": [
    "<hr style=\"height:2px;border-width:0;color:gray;background-color:gray\">"
   ]
  },
  {
   "cell_type": "markdown",
   "metadata": {},
   "source": [
    "<h2>Problem C6.6</h2>\n",
    "    </header>\n",
    "\n",
    "1. How far does the muon in [OpenStax Example 5.3](https://openstax.org/books/university-physics-volume-3/pages/5-3-time-dilation#fs-id1167793912924) travel according to the earthbound observer? \n",
    "\n",
    "2. How far does it travel as viewed by an observer moving with it? Base your calculation on its velocity relative to the Earth and the time it lives (proper time). \n",
    "\n",
    "3. Verify that these two distances are related through length contraction with $\\gamma=3.20$.\n",
    "\n",
    "[This problem is a slightly modified version from OpenStax. Access for free here](https://openstax.org/books/university-physics-volume-3/pages/5-problems)"
   ]
  },
  {
   "cell_type": "code",
   "execution_count": null,
   "metadata": {},
   "outputs": [],
   "source": [
    "# DIY Cell"
   ]
  },
  {
   "cell_type": "code",
   "execution_count": 29,
   "metadata": {
    "tags": [
     "hide-input",
     "hide-output"
    ]
   },
   "outputs": [
    {
     "name": "stdout",
     "output_type": "stream",
     "text": [
      "Distance traveled according to earthbound observer: 2007.843525 m\n",
      "Distance traveled according to muon observer: 626.5611 m\n",
      "Gamma based on length contraction: 3.2045454545454546\n"
     ]
    }
   ],
   "source": [
    "%reset -f\n",
    "\n",
    "import numpy as np\n",
    "\n",
    "c = 2.9979e8\n",
    "u = 0.950*c\n",
    "\n",
    "# Part 1\n",
    "dt = 7.05e-6  #found in example\n",
    "dx = u*dt  #proper length\n",
    "print('Distance traveled according to earthbound observer: '+str(dx)+' m')\n",
    "\n",
    "# Part 2\n",
    "dt_prime = 2.20e-6  #given in example\n",
    "dx_prime = u*dt0\n",
    "print('Distance traveled according to muon observer: '+str(dx_prime)+' m')\n",
    "\n",
    "# Part 3\n",
    "gamma = dx/dx_prime\n",
    "print('Gamma based on length contraction: '+str(gamma))\n"
   ]
  },
  {
   "cell_type": "markdown",
   "metadata": {},
   "source": [
    "<hr style=\"height:2px;border-width:0;color:gray;background-color:gray\">"
   ]
  },
  {
   "cell_type": "markdown",
   "metadata": {},
   "source": [
    "<h2>Problem C6.7</h2>\n",
    "    </header>\n",
    "\n",
    "1. How long does it take the astronaut in [OpenStax Example 5.5](https://openstax.org/books/university-physics-volume-3/pages/5-4-length-contraction#fs-id1167793997754) to travel $4.30$ ly at $0.9994c$ (as measured by the earthbound observer)? \n",
    "\n",
    "2. How long does it take according to the astronaut? \n",
    "\n",
    "3. Verify that these two times are related through time dilation with $\\gamma=30.00$ as given.\n",
    "\n",
    "[This problem is a slightly modified version from OpenStax. Access for free here](https://openstax.org/books/university-physics-volume-3/pages/5-problems)"
   ]
  },
  {
   "cell_type": "code",
   "execution_count": null,
   "metadata": {},
   "outputs": [],
   "source": [
    "# DIY Cell"
   ]
  },
  {
   "cell_type": "code",
   "execution_count": 32,
   "metadata": {
    "tags": [
     "hide-input",
     "hide-output"
    ]
   },
   "outputs": [
    {
     "name": "stdout",
     "output_type": "stream",
     "text": [
      "Elapsed time as measured by earthbound observer : 4.302581548929358 years\n",
      "Elapsed time as measured by astronaut : 0.14338603161897137 years\n",
      "Gamma based on time dilation: 30.00697836706211\n"
     ]
    }
   ],
   "source": [
    "%reset -f\n",
    "\n",
    "import numpy as np\n",
    "\n",
    "c = 2.9979e8\n",
    "u = 0.9994*c\n",
    "\n",
    "# Part 1\n",
    "dx = 4.30*c\n",
    "dt = dx/u\n",
    "print('Elapsed time as measured by earthbound observer : '+str(dt)+' years')\n",
    "\n",
    "# Part 2\n",
    "dx_prime = 0.1433*c\n",
    "dt_prime = dx_prime/u  #proper time\n",
    "print('Elapsed time as measured by astronaut : '+str(dt_prime)+' years')\n",
    "\n",
    "# Part 3\n",
    "gamma = dt/dt_prime\n",
    "print('Gamma based on time dilation: '+str(gamma))"
   ]
  },
  {
   "cell_type": "markdown",
   "metadata": {},
   "source": [
    "<hr style=\"height:2px;border-width:0;color:gray;background-color:gray\">"
   ]
  }
 ],
 "metadata": {
  "celltoolbar": "Tags",
  "kernelspec": {
   "display_name": "Python 3 (ipykernel)",
   "language": "python",
   "name": "python3"
  },
  "language_info": {
   "codemirror_mode": {
    "name": "ipython",
    "version": 3
   },
   "file_extension": ".py",
   "mimetype": "text/x-python",
   "name": "python",
   "nbconvert_exporter": "python",
   "pygments_lexer": "ipython3",
   "version": "3.10.9"
  }
 },
 "nbformat": 4,
 "nbformat_minor": 4
}
