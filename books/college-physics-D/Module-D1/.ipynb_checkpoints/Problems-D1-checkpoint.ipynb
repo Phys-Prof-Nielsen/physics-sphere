{
 "cells": [
  {
   "cell_type": "markdown",
   "metadata": {},
   "source": [
    "# D1.5 Problems\n",
    "<hr style=\"height:2px;border-width:0;color:gray;background-color:gray\">"
   ]
  },
  {
   "cell_type": "markdown",
   "metadata": {},
   "source": [
    "## Solution Format\n",
    "It is expected that all solutions are written out in detail, including both essay and equations. The essay should detail the concept(s) and solving methodology, and as well as explaining crucial steps in the mathematical approach.\n",
    "<hr style=\"height:2px;border-width:0;color:gray;background-color:gray\">"
   ]
  },
  {
   "cell_type": "markdown",
   "metadata": {},
   "source": [
    "<h2>Problem D1</h2>\n",
    "    </header>\n",
    "\n",
    "Write the following numbers in scientific notation using standard metric units and 3 significant units. \n",
    "<ol>\n",
    "    <li>Earth's radius: 3,958.8 mi.</li>\n",
    "    <li>Speed of sound: 1234.8 km/hr.</li>\n",
    "    <li>Acceleration of gravity: 32.17 ft/s$^2$.</li>\n",
    "    <li>Density of water: 62.416 lbs/ft$^3$.</li>\n",
    "    </ol>\n",
    "    \n",
    "<hr style=\"height:2px;border-width:0;color:gray;background-color:gray\">"
   ]
  },
  {
   "cell_type": "markdown",
   "metadata": {},
   "source": [
    "<h2>Problem D2</h2>\n",
    "    </header>\n",
    "\n",
    "UVU students launched a high-altitude weather balloon for student research projects. To reach the peak altitude of 120,000 ft, the balloon had to be filled with 6447 L of Helium (launch volume). Using the relationships between L and m$^3$, m and cm, and cm and in, express the volume of the balloon at launch in cubic inches and surface area in cubic feet (assuming a perfect sphere). \n",
    "\n",
    "<img src=\"P2.png\" width=\"400\">\n",
    "   \n",
    "<hr style=\"height:2px;border-width:0;color:gray;background-color:gray\">"
   ]
  },
  {
   "cell_type": "markdown",
   "metadata": {},
   "source": [
    "<h2>Problem D3</h2>\n",
    "    </header>\n",
    "\n",
    "During a procedure a 85-kg patient is to receive oxycodone through an IV. The suggested dosage per bodyweight is 0.165 mg/kg. Oxycodone is available in bottles with a strength of 100.0 mg/2.00 mL solution. In addition to oxycodone, a variety of other drugs are co-administered, among them Robinul available in bottles with a solution strength of 200.0 $\\mu$g/mL. The required volume of Robinul for this patient is 1.60 mg. The syringe used have its own units such that 1 unit is equivalent of 0.0100 mL. \n",
    "\n",
    "<ol>\n",
    "    <li>How many syringe units are needed for each drug?</li>\n",
    "    <li>Is a 30-units syringe appropriate to use for the oxycodone?</li>\n",
    "    </ol>\n",
    "    \n",
    "<hr style=\"height:2px;border-width:0;color:gray;background-color:gray\">"
   ]
  },
  {
   "cell_type": "markdown",
   "metadata": {},
   "source": [
    "<h2>Problem D4</h2>\n",
    "    </header>\n",
    "\n",
    "The length and width of a rectangle are given to you as 23 cm by 8.45 cm. Use the correct significant figures to express the following: \n",
    "\n",
    "<ol>\n",
    "    <li>the ratio of the width to length.</li>\n",
    "    <li>the difference between the length and width.</li>\n",
    "    <li>the perimeter of the rectangle.</li>\n",
    "    <li>the area of the rectangle.</li>\n",
    "    </ol>\n",
    "    \n",
    "<hr style=\"height:2px;border-width:0;color:gray;background-color:gray\">"
   ]
  },
  {
   "cell_type": "markdown",
   "metadata": {},
   "source": [
    "<h2>Problem D5</h2>\n",
    "    </header>\n",
    "\n",
    "A 55 gl barrell is used to collect water. The heigth is 33.5 in. What is the radius of the barrell in cm?\n",
    "    \n",
    "<hr style=\"height:2px;border-width:0;color:gray;background-color:gray\">"
   ]
  }
 ],
 "metadata": {
  "kernelspec": {
   "display_name": "Python 3 (ipykernel)",
   "language": "python",
   "name": "python3"
  },
  "language_info": {
   "codemirror_mode": {
    "name": "ipython",
    "version": 3
   },
   "file_extension": ".py",
   "mimetype": "text/x-python",
   "name": "python",
   "nbconvert_exporter": "python",
   "pygments_lexer": "ipython3",
   "version": "3.10.9"
  }
 },
 "nbformat": 4,
 "nbformat_minor": 4
}
