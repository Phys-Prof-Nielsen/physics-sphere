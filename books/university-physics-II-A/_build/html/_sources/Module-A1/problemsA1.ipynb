{
 "cells": [
  {
   "cell_type": "markdown",
   "metadata": {},
   "source": [
    "# A1.X Problems\n",
    "<hr style=\"height:2px;border-width:0;color:gray;background-color:gray\">"
   ]
  },
  {
   "cell_type": "markdown",
   "metadata": {},
   "source": [
    "<h2>Problem A1.1</h2>\n",
    "    </header>\n",
    "\n",
    "Show that the magnetic field at a distance $r$ from the axis of two circular parallel plates, produced by placing charge $Q(t)$ on the plates is\n",
    "\n",
    "$$ B_{ind} = \\frac{\\mu_0}{2\\pi r}\\frac{dQ}{dt} $$\n",
    "\n",
    "[This problem is a slightly modified version from OpenStax. Access for free here](https://openstax.org/books/university-physics-volume-2/pages/16-problems)"
   ]
  },
  {
   "cell_type": "code",
   "execution_count": null,
   "metadata": {},
   "outputs": [],
   "source": [
    "# DIY Cell"
   ]
  },
  {
   "cell_type": "markdown",
   "metadata": {},
   "source": [
    "<hr style=\"height:2px;border-width:0;color:gray;background-color:gray\">"
   ]
  },
  {
   "cell_type": "markdown",
   "metadata": {},
   "source": [
    "<h2>Problem A1.2</h2>\n",
    "    </header>\n",
    "\n",
    "The potential difference $V(t)$ between parallel plates shown above is instantaneously increasing at a rate of  $10^7$ V/s. What is the displacement current between the plates if the separation of the plates is $1.00$ cm and they have an area of $0.200$ m$^2$?\n",
    "\n",
    "[This problem is a slightly modified version from OpenStax. Access for free here](https://openstax.org/books/university-physics-volume-2/pages/16-problems)"
   ]
  },
  {
   "cell_type": "code",
   "execution_count": null,
   "metadata": {},
   "outputs": [],
   "source": [
    "# DIY Cell"
   ]
  },
  {
   "cell_type": "markdown",
   "metadata": {},
   "source": [
    "<hr style=\"height:2px;border-width:0;color:gray;background-color:gray\">"
   ]
  },
  {
   "cell_type": "markdown",
   "metadata": {},
   "source": [
    "<h2>Problem A1.3</h2>\n",
    "    </header>\n",
    "\n",
    "The electric field of an electromagnetic wave traveling in vacuum is described by the following wave function:\n",
    "\n",
    "$$ \\vec{E} = (5.00~\\textrm{V/m})\\cos\\left[ kx - (6.00\\times 10^{9}~\\textrm{s}^{-1})t + 0.40\\right]\\hat{j} $$\n",
    " \n",
    "where $k$ is the wavenumber in rad/m, $x$ is in m, $t$ is in s.\n",
    "Find the following quantities:\n",
    "\n",
    "1. amplitude\n",
    "2. frequency\n",
    "3. wavelength\n",
    "4. the direction of the travel of the wave\n",
    "5. the associated magnetic field wave\n",
    "\n",
    "[This problem is a slightly modified version from OpenStax. Access for free here](https://openstax.org/books/university-physics-volume-2/pages/16-problems)"
   ]
  },
  {
   "cell_type": "code",
   "execution_count": null,
   "metadata": {},
   "outputs": [],
   "source": [
    "# DIY Cell"
   ]
  },
  {
   "cell_type": "markdown",
   "metadata": {},
   "source": [
    "<hr style=\"height:2px;border-width:0;color:gray;background-color:gray\">"
   ]
  }
 ],
 "metadata": {
  "celltoolbar": "Tags",
  "kernelspec": {
   "display_name": "Python 3 (ipykernel)",
   "language": "python",
   "name": "python3"
  },
  "language_info": {
   "codemirror_mode": {
    "name": "ipython",
    "version": 3
   },
   "file_extension": ".py",
   "mimetype": "text/x-python",
   "name": "python",
   "nbconvert_exporter": "python",
   "pygments_lexer": "ipython3",
   "version": "3.10.9"
  }
 },
 "nbformat": 4,
 "nbformat_minor": 4
}
