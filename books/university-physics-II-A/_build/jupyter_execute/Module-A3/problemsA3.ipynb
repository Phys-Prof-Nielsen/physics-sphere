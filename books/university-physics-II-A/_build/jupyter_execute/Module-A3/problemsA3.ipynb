{
 "cells": [
  {
   "cell_type": "markdown",
   "metadata": {},
   "source": [
    "# A3.X Problems\n",
    "<hr style=\"height:2px;border-width:0;color:gray;background-color:gray\">"
   ]
  },
  {
   "cell_type": "markdown",
   "metadata": {},
   "source": [
    "<h2>Problem A3.1</h2>\n",
    "    </header>\n",
    "\n",
    "In a frame $S$, two events are observed: event 1: a pion is created at rest at the origin and event 2: the pion disintegrates after time $\\tau$. Another observer in a frame $S'$ is moving in the positive direction along the positive x-axis with a constant speed $v$ and observes the same two events in his frame. The origins of the two frames coincide at $t = t'=0$ s.\n",
    "\n",
    "Find the positions and timings of these two events in the frame $S'$\n",
    " \n",
    "1. according to the Galilean transformation\n",
    "2. according to the Lorentz transformation.\n",
    "\n",
    "[This problem is a slightly modified version from OpenStax. Access for free here](https://openstax.org/books/university-physics-volume-3/pages/5-problems)"
   ]
  },
  {
   "cell_type": "code",
   "execution_count": 1,
   "metadata": {},
   "outputs": [],
   "source": [
    "# DIY Cell"
   ]
  },
  {
   "cell_type": "code",
   "execution_count": 2,
   "metadata": {
    "tags": [
     "hide-input",
     "hide-output"
    ]
   },
   "outputs": [
    {
     "name": "stdout",
     "output_type": "stream",
     "text": [
      "Galilean Transformation\n",
      "Event 1\n",
      "At t = t' = 0: x' = 0 m\n",
      "Event 2\n",
      "At t = t' = τ: x' = - vτ\n",
      " \n",
      "Lorentz Transformation\n",
      "Event 1\n",
      "At t = t' = 0: x' = 0 m\n",
      "Event 2\n",
      "At t = τ: t' = γτ\n",
      "At t = τ: x' = -γvτ\n"
     ]
    }
   ],
   "source": [
    "%reset -f\n",
    "\n",
    "# Part 1\n",
    "print('Galilean Transformation')\n",
    "\n",
    "#x' = x - vt \n",
    "#x = 0 and t = t' at all times\n",
    "print('Event 1')\n",
    "print('At t = t\\' = 0: x\\' = 0 m'  )\n",
    "print('Event 2')\n",
    "print('At t = t\\' = \\u03C4: x\\' = - v\\u03C4'  )\n",
    "print(' ')\n",
    "\n",
    "# Part 2\n",
    "print('Lorentz Transformation')\n",
    "\n",
    "# x' = gamma*(x - vt)\n",
    "# t' = gamma*(t - vx/c^2)\n",
    "\n",
    "#event 1\n",
    "print('Event 1')\n",
    "#t' = 0 and x' = 0\n",
    "print('At t = t\\' = 0: x\\' = 0 m'  )\n",
    "\n",
    "#event 2\n",
    "print('Event 2')\n",
    "# x = 0 at all times and t = tau\n",
    "print('At t = \\u03C4: t\\' = \\u03B3\\u03C4')\n",
    "print('At t = \\u03C4: x\\' = -\\u03B3v\\u03C4')"
   ]
  },
  {
   "cell_type": "markdown",
   "metadata": {},
   "source": [
    "<hr style=\"height:2px;border-width:0;color:gray;background-color:gray\">"
   ]
  },
  {
   "cell_type": "markdown",
   "metadata": {},
   "source": [
    "<h2>Problem A3.2</h2>\n",
    "    </header>\n",
    "\n",
    "Two planets are on a collision course, heading directly toward each other at $0.250c$. A spaceship sent from one planet approaches the second at $0.750c$ as seen by the second planet. What is the velocity of the ship relative to the first planet?\n",
    "\n",
    "[This problem is a slightly modified version from OpenStax. Access for free here](https://openstax.org/books/university-physics-volume-3/pages/5-problems)"
   ]
  },
  {
   "cell_type": "code",
   "execution_count": 3,
   "metadata": {},
   "outputs": [],
   "source": [
    "# DIY Cell"
   ]
  },
  {
   "cell_type": "code",
   "execution_count": 4,
   "metadata": {
    "scrolled": true,
    "tags": [
     "hide-input",
     "hide-output"
    ]
   },
   "outputs": [
    {
     "name": "stdout",
     "output_type": "stream",
     "text": [
      "0.615384615384615*c\n"
     ]
    }
   ],
   "source": [
    "%reset -f\n",
    "\n",
    "import sympy as sym\n",
    "\n",
    "# Let Planet 1 be S and Planet 2 be S'\n",
    "# Spaceship is launched from Planet 2\n",
    "# Then u = -.250c and vx' = 0.750c\n",
    "\n",
    "c = sym.Symbol('c')\n",
    "\n",
    "vx_prime = 0.750*c\n",
    "u = -0.250*c\n",
    "\n",
    "\n",
    "vx = (vx_prime + u)/(1 + u*vx_prime/c**2)\n",
    "print(vx)"
   ]
  },
  {
   "cell_type": "markdown",
   "metadata": {},
   "source": [
    "Alternatively:"
   ]
  },
  {
   "cell_type": "code",
   "execution_count": 5,
   "metadata": {
    "tags": [
     "hide-input",
     "hide-output"
    ]
   },
   "outputs": [
    {
     "name": "stdout",
     "output_type": "stream",
     "text": [
      "-0.615384615384615*c\n"
     ]
    }
   ],
   "source": [
    "%reset -f\n",
    "\n",
    "import sympy as sym\n",
    "\n",
    "# Let Planet 1 be S and Planet 2 be S'\n",
    "# Spaceship is launched from Planet 2\n",
    "# then vx = -0.750c and u = -0.250c\n",
    "\n",
    "c = sym.Symbol('c')\n",
    "\n",
    "vx = -0.750*c\n",
    "u = -0.250*c\n",
    "\n",
    "\n",
    "vx_prime = (vx - u)/(1 - u*vx/c**2)\n",
    "print(vx_prime)"
   ]
  },
  {
   "cell_type": "markdown",
   "metadata": {},
   "source": [
    "<hr style=\"height:2px;border-width:0;color:gray;background-color:gray\">"
   ]
  },
  {
   "cell_type": "markdown",
   "metadata": {},
   "source": [
    "<h2>Problem A3.3</h2>\n",
    "    </header>\n",
    "\n",
    "What is the relative velocity of two spaceships if one fires a missile at the other at $0.750c$ and the other observes it to approach at $0.950c$?\n",
    "\n",
    "[This problem is a slightly modified version from OpenStax. Access for free here](https://openstax.org/books/university-physics-volume-3/pages/5-problems)"
   ]
  },
  {
   "cell_type": "code",
   "execution_count": 6,
   "metadata": {},
   "outputs": [],
   "source": [
    "# DIY Cell"
   ]
  },
  {
   "cell_type": "code",
   "execution_count": 7,
   "metadata": {
    "tags": [
     "hide-input",
     "hide-output"
    ]
   },
   "outputs": [
    {
     "name": "stdout",
     "output_type": "stream",
     "text": [
      "[-0.695652173913043*c]\n"
     ]
    }
   ],
   "source": [
    "%reset -f\n",
    "\n",
    "import sympy as sym\n",
    "\n",
    "c,u = sym.symbols('c,u')\n",
    "\n",
    "vx_prime = -0.750*c\n",
    "vx = -0.950*c\n",
    "\n",
    "eq = vx_prime - (vx-u)/(1 - u*vx/c**2)\n",
    "sol = sym.solve(eq,u)\n",
    "print(sol)"
   ]
  },
  {
   "cell_type": "markdown",
   "metadata": {},
   "source": [
    "<hr style=\"height:2px;border-width:0;color:gray;background-color:gray\">"
   ]
  },
  {
   "cell_type": "markdown",
   "metadata": {},
   "source": [
    "<h2>Problem A3.4</h2>\n",
    "    </header>\n",
    "\n",
    "Find the momentum of a helium nucleus having a mass of $6.68\\times 10^{−27}$ kg that is moving at $0.200c$.\n",
    "\n",
    "[This problem is a slightly modified version from OpenStax. Access for free here](https://openstax.org/books/university-physics-volume-3/pages/5-problems)"
   ]
  },
  {
   "cell_type": "code",
   "execution_count": 8,
   "metadata": {},
   "outputs": [],
   "source": [
    "# DIY Cell"
   ]
  },
  {
   "cell_type": "code",
   "execution_count": 9,
   "metadata": {
    "tags": [
     "hide-input",
     "hide-output"
    ]
   },
   "outputs": [
    {
     "name": "stdout",
     "output_type": "stream",
     "text": [
      "4.0865572225774603e-19\n"
     ]
    }
   ],
   "source": [
    "%reset -f\n",
    "\n",
    "import numpy as np\n",
    "\n",
    "c = 2.997e8\n",
    "v = 0.200*c\n",
    "m = 6.68e-27\n",
    "\n",
    "gamma = 1/(np.sqrt(1 - (v/c)**2))\n",
    "\n",
    "p = gamma*m*v\n",
    "\n",
    "print(p)"
   ]
  },
  {
   "cell_type": "markdown",
   "metadata": {},
   "source": [
    "<hr style=\"height:2px;border-width:0;color:gray;background-color:gray\">"
   ]
  },
  {
   "cell_type": "markdown",
   "metadata": {},
   "source": [
    "<h2>Problem A3.5</h2>\n",
    "    </header>\n",
    "\n",
    "If the rest energies of a proton and a neutron (the two constituents of nuclei) are $938.3$ and $939.6$ MeV, respectively, what is the difference in their mass in kilograms?\n",
    "\n",
    "[This problem is a slightly modified version from OpenStax. Access for free here](https://openstax.org/books/university-physics-volume-3/pages/5-problems)"
   ]
  },
  {
   "cell_type": "code",
   "execution_count": 10,
   "metadata": {},
   "outputs": [],
   "source": [
    "# DIY Cell"
   ]
  },
  {
   "cell_type": "code",
   "execution_count": 11,
   "metadata": {
    "tags": [
     "hide-input",
     "hide-output"
    ]
   },
   "outputs": [
    {
     "name": "stdout",
     "output_type": "stream",
     "text": [
      "2.3186349512675006e-30\n"
     ]
    }
   ],
   "source": [
    "%reset -f\n",
    "\n",
    "import sympy as sym\n",
    "\n",
    "c = 2.997e8\n",
    "E1 = 938.3e6*1.602e-19\n",
    "E2 = 939.6e6*1.602e-19\n",
    "\n",
    "m1,m2 = sym.symbols('m1,m2')\n",
    "\n",
    "eq1 = E1 - m1*c**2\n",
    "sol1 = sym.solve(eq1,m1)\n",
    "\n",
    "eq2 = E2 - m2*c**2\n",
    "sol2 = sym.solve(eq2,m2)\n",
    "\n",
    "m1 = float(sol1[0])\n",
    "m2 = float(sol2[0])\n",
    "\n",
    "dm = m2 - m1\n",
    "print(dm)"
   ]
  },
  {
   "cell_type": "markdown",
   "metadata": {},
   "source": [
    "<hr style=\"height:2px;border-width:0;color:gray;background-color:gray\">"
   ]
  },
  {
   "cell_type": "markdown",
   "metadata": {},
   "source": [
    "<h2>Problem A3.6</h2>\n",
    "    </header>\n",
    "\n",
    "A muon has a rest mass energy of $105.7$ MeV, and it decays into an electron and a massless particle. \n",
    "\n",
    "1. If all the lost mass is converted into the electron’s kinetic energy, find $\\gamma$ for the electron.\n",
    "2. What is the electron’s velocity?\n",
    "\n",
    "[This problem is a slightly modified version from OpenStax. Access for free here](https://openstax.org/books/university-physics-volume-3/pages/5-problems)"
   ]
  },
  {
   "cell_type": "code",
   "execution_count": 12,
   "metadata": {},
   "outputs": [],
   "source": [
    "# DIY Cell"
   ]
  },
  {
   "cell_type": "markdown",
   "metadata": {},
   "source": [
    "<hr style=\"height:2px;border-width:0;color:gray;background-color:gray\">"
   ]
  },
  {
   "cell_type": "markdown",
   "metadata": {},
   "source": [
    "<h2>Problem A3.6</h2>\n",
    "    </header>\n",
    "\n",
    "1. Show that the relativistic form of Newton’s second law (linear) is \n",
    "\n",
    "$$ F= m\\frac{du}{dt}\\frac{1}{\\left( 1 - \\frac{u^2}{c^2}\\right)^{3/2}} $$\n",
    "\n",
    "2. Find the force needed to accelerate a mass of $1$ kg by $1$ m/s$^2$ when it is traveling at a velocity of $c/2$.\n",
    "\n",
    "[This problem is a slightly modified version from OpenStax. Access for free here](https://openstax.org/books/university-physics-volume-3/pages/5-problems)"
   ]
  },
  {
   "cell_type": "code",
   "execution_count": 13,
   "metadata": {},
   "outputs": [],
   "source": [
    "# DIY Cell"
   ]
  },
  {
   "cell_type": "markdown",
   "metadata": {},
   "source": [
    "<hr style=\"height:2px;border-width:0;color:gray;background-color:gray\">"
   ]
  },
  {
   "cell_type": "markdown",
   "metadata": {},
   "source": [
    "<h2>Problem A3.7</h2>\n",
    "    </header>\n",
    "\n",
    "1. Show that \n",
    "\n",
    "$$ \\frac{(pc)^2}{(mc^2)^2} = \\gamma^2 -1 $$\n",
    "\n",
    "This means that at large velocities $pc >> mc^2 $.\n",
    "\n",
    "2. Is $E \\sim pc$ when $\\gamma =30.0$?\n",
    "\n",
    "[This problem is a slightly modified version from OpenStax. Access for free here](https://openstax.org/books/university-physics-volume-3/pages/5-problems)"
   ]
  },
  {
   "cell_type": "code",
   "execution_count": 14,
   "metadata": {},
   "outputs": [],
   "source": [
    "# DIY Cell"
   ]
  },
  {
   "cell_type": "markdown",
   "metadata": {},
   "source": [
    "<hr style=\"height:2px;border-width:0;color:gray;background-color:gray\">"
   ]
  }
 ],
 "metadata": {
  "celltoolbar": "Tags",
  "kernelspec": {
   "display_name": "Python 3 (ipykernel)",
   "language": "python",
   "name": "python3"
  },
  "language_info": {
   "codemirror_mode": {
    "name": "ipython",
    "version": 3
   },
   "file_extension": ".py",
   "mimetype": "text/x-python",
   "name": "python",
   "nbconvert_exporter": "python",
   "pygments_lexer": "ipython3",
   "version": "3.9.12"
  }
 },
 "nbformat": 4,
 "nbformat_minor": 4
}