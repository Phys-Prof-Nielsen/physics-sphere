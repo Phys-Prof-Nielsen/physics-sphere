{
 "cells": [
  {
   "cell_type": "markdown",
   "metadata": {},
   "source": [
    "# B1.4 Field Flux\n",
    "<hr style=\"height:2px;border-width:0;color:gray;background-color:gray\">"
   ]
  },
  {
   "cell_type": "markdown",
   "metadata": {},
   "source": [
    "# B1.4.1 Motivation\n",
    "\n",
    "As we have seen in University Physics I, we have four fundamental forces in physics due to the following interactions\n",
    "\n",
    "* gravity \n",
    "* electric \n",
    "* strong \n",
    "* weak\n",
    "\n",
    "Every known force we encounter can be explained in terms of these four interactions and they all arise from what we know as field interactions. Hence, the fields are more fundamental than the force interactions. In University Physics I we encountered the gravitational field, but focused more on its interactions through Newton’s law. In University Physics II we are more concerned with the electric field and will need concepts associated with fields. The **field flux**, or simply **flux**, is such a concept. \n",
    "\n",
    "The flux concept are essential to **Gauss's Law**, which exist for both gravitational and electric fields. Since we are familair with Nerwtonian gravity, we will introduce the flux concept through the gravitational field.\n",
    "\n",
    "<hr style=\"height:2px;border-width:0;color:gray;background-color:gray\">"
   ]
  },
  {
   "cell_type": "markdown",
   "metadata": {},
   "source": [
    "## B 1.4.2 Field Flux\n",
    "\n",
    "<div class=\"alert alert-success\">\n",
    "    \n",
    "In general, the **flux** is defined in terms of a vector field passing through a surface per unit time. We can say that the flux is a measure of how much of a field quantity is passing through a given surface.\n",
    "    </div>\n",
    "    \n",
    "<hr style=\"height:2px;border-width:0;color:gray;background-color:gray\">"
   ]
  },
  {
   "cell_type": "markdown",
   "metadata": {},
   "source": [
    "<div style=\"background-color: #D0D0D0 ; padding: 10px; border: 1px solid black;\">       \n",
    "<header>\n",
    "<h3> Example 1</h3>\n",
    "    </header>\n",
    "    \n",
    "Let us consider the gravitational flux through a letter–sized paper (8.5 in by 11 in) laying flat on your table. We will assume that the gravitational field is directed straight down with a field strength of $g = 9.8$ m/s$^2$. Since the field is present everywhere, the total flux through the paper is\n",
    "    \n"
   ]
  },
  {
   "cell_type": "markdown",
   "metadata": {},
   "source": [
    "We have previously labeled the acceleration of gravity at the Earth's surface as $g = 9.81$~m/s$^2$. However, we know that it changes as we move away from Earth. The objective of these notes is to learn how to calculate the gravitational field (the acceleration) as we move away from the Earth's surface but also from other mass distributions that are not spherical. \n",
    "\n",
    "The tool to perform these calculations is Gauss's law for gravity (in PHYS2220 you will encounter Gauss's law for electric and magnetic fields as well):\n",
    "\n",
    "<div class=\"alert alert-success\">\n",
    "$$ \\oint \\vec{g}\\cdot d\\vec{A} = -4\\pi Gm_{\\textrm{enclosed}} \\tag{1}$$\n",
    "</div>\n",
    "\n",
    "where $\\vec{g}$ is the gravitational field, $d\\vec{A}$ is an area element with a direction pointing **out** of the closed surface, known as the **Gaussian surface**, that we are integrating over (the circle on the integration symbol indicates that we are integrating over a closed surface), $G$ is a constant known as the universal constant of gravity, and $m_{enclosed}$ is the mass that is inside the closed surface. We can understand the $m_{enclosed}$ to be **the source of the gravitational field**. \n",
    "\n",
    "We can re-write the integral in terms of the vector magnitudes using the definition of the dot product:\n",
    "\n",
    "<div class=\"alert alert-success\">\n",
    "$$  \\oint g\\cos\\theta dA = -4\\pi Gm_{\\textrm{enclosed}} \\tag{2}$$\n",
    "</div>\n",
    "\n",
    "where $\\theta$ is the angle between the gravitational field and the area vector (unit vector pointing out of the closed surface).\n",
    "\n",
    "For a spherical symmetric source such as the Earth (the blue planet in the Figure below), the obvious surface to integrate over is a sphere. Any point on the sphere is the same distance away from the source and the field strength is therefore the same at any point on the sphere ($g = constant$). Furthermore, since the normal area element $d\\vec{A}$ is pointing away from the sphere, the angle between $\\vec{g}$ and  $d\\vec{A}$ is $180^\\circ$.\n",
    "\n",
    "<img src=\"fig1.png\" width=\"300\">\n",
    "\n",
    "<hr style=\"border:1px solid gray\"> </hr>"
   ]
  },
  {
   "cell_type": "markdown",
   "metadata": {},
   "source": [
    "<div class=\"alert alert-warning\">\n",
    "    <b> Box 1 </b><br>\n",
    "\tConsider the Earth to be a perfect sphere. Imagine we are enclosing a closed spherical surface encapsulating the Earth. Using equation 1, show that the gravitational field at the surface of the Earth or outside the Earth is \n",
    "\t\n",
    "$$ g = \\frac{GM_{Earth}}{r^2} $$\n",
    "\t\n",
    "where $M_{Earth}$ is the mass of the Earth (the mass inside the imaginary Gaussian sphere) and $r$ is the distance away from the center of the Earth (the radius of the Gaussian sphere) with the condition that $r \\geq R_{Earth}$. The surface area of a sphere with radius $r$ is $A_{sphere} = 4\\pi r^2$.\n",
    "</div>\n",
    "\n",
    "<hr style=\"border:1px solid gray\"> </hr>"
   ]
  },
  {
   "cell_type": "markdown",
   "metadata": {},
   "source": [
    "<div class=\"alert alert-warning\">\n",
    "    <b> Box 2 </b><br>\n",
    "\tUse your result from Box 1 to calculate the acceleration of gravity at the surface of the Earth. Use $G = 6.67 \\times 10^{-11}$ Nm$^2$/kg$^2$, mass of Earth ($M_E = 5.97 \\times 10^{24}$ kg), and radius of Earth ($R_E = 6.37 \\times 10^6$ m).\n",
    "</div>\n",
    "\n",
    "<hr style=\"border:1px solid gray\"> </hr>"
   ]
  },
  {
   "cell_type": "markdown",
   "metadata": {},
   "source": [
    "<div class=\"alert alert-warning\">\n",
    "    <b> Box 3 </b><br>\n",
    "\tUse your result from Box 1 to calculate the acceleration of gravity on the international space station (its altitude above surface of the Earth is $\\sim 400$ km). Use $G = 6.67 \\times 10^{-11}$ Nm$^2$/kg$^2$, mass of Earth ($M_E = 5.97 \\times 10^{24}$ kg), and radius of Earth ($R_E = 6.37 \\times 10^6$ m).\n",
    "</div>\n",
    "\n",
    "<hr style=\"border:1px solid gray\"> </hr>"
   ]
  },
  {
   "cell_type": "markdown",
   "metadata": {},
   "source": [
    "<div class=\"alert alert-warning\">\n",
    "    <b> Box 4 </b><br>\n",
    "\tUse your result from Box 1 to calculate the acceleration of gravity on a geostationary satellite (its altitude above surface of the Earth is $\\sim 40,000$ km). Use $G = 6.67 \\times 10^{-11}$ Nm$^2$/kg$^2$, mass of Earth ($M_E = 5.97 \\times 10^{24}$ kg), and radius of Earth ($R_E = 6.37 \\times 10^6$ m).\n",
    "</div>\n",
    "\n",
    "<hr style=\"border:1px solid gray\"> </hr>"
   ]
  },
  {
   "cell_type": "markdown",
   "metadata": {},
   "source": [
    "<div class=\"alert alert-warning\">\n",
    "    <b> Box 5 </b><br>\n",
    "Show that the gravitational field inside the Earth is\n",
    "\t\n",
    "$$ g = \\frac{GM_{E}r}{R_{E}^3} $$\n",
    "\t\n",
    "where $M_E$ is the mass of the Earth, $R_E$ is the radius of the Earth, and $r$ is the distance from the center of the Earth to the point of interest ($r < R_E$). \n",
    "\tHINT: Write the density of the Earth as $\\rho = \\frac{M_E}{\\frac{4}{3}\\pi R_{E}^{3}}$ and use that to find the mass enclosed inside the Gaussian surface.\n",
    "</div>\n",
    "\n",
    "<hr style=\"border:1px solid gray\"> </hr>"
   ]
  },
  {
   "cell_type": "markdown",
   "metadata": {},
   "source": [
    "<div class=\"alert alert-warning\">\n",
    "    <b> Box 6 </b><br>\n",
    "Summarize the above boxes by writing down two equations: one for the gravitational field  outside the surface of the Earth and one for the gravitational field inside the Earth.\n",
    "</div>\n",
    "\n",
    "<hr style=\"border:1px solid gray\"> </hr>"
   ]
  },
  {
   "cell_type": "markdown",
   "metadata": {},
   "source": [
    "<div class=\"alert alert-warning\">\n",
    "    <b> Box 7 </b><br>\n",
    "Make a plot of the gravitational field of the Earth ranging from $r = 0$ to $r = 400,000$ km (the approximate distance to the moon) using a code box below here. I have made a template code but you will need to enter the equstions. If you need further help, let me know!\n",
    "</div>\n"
   ]
  },
  {
   "cell_type": "code",
   "execution_count": 1,
   "metadata": {},
   "outputs": [
    {
     "data": {
      "text/plain": [
       "Text(0, 0.5, 'Gravitational Field (m/s^2)')"
      ]
     },
     "execution_count": 1,
     "metadata": {},
     "output_type": "execute_result"
    },
    {
     "data": {
      "image/png": "[encoded data removed]",
      "text/plain": [
       "<Figure size 640x480 with 1 Axes>"
      ]
     },
     "metadata": {},
     "output_type": "display_data"
    }
   ],
   "source": [
    "# Template code for making a plot\n",
    "\n",
    "#import functions we will need\n",
    "from matplotlib import pyplot as plt\n",
    "import numpy as np\n",
    "\n",
    "#given constants\n",
    "G = 6.67E-11\n",
    "M_E = 5.97E24\n",
    "\n",
    "#create a list/array of r-values for both inside and outside the Earth\n",
    "R_E = 6.37E6\n",
    "r_in = np.arange(0,R_E,1000)\n",
    "R = R_E + 4.0E7\n",
    "r_out = np.arange(R_E,R,1000)\n",
    "\n",
    "########### INSERT YOUR TWO EQUATIONS HERE ###############\n",
    "g_in = G*M_E*r_in/R_E**3\n",
    "g_out = G*M_E/r_out**2\n",
    "##########################################################\n",
    "\n",
    "\n",
    "#set up plotting environment\n",
    "# UNCOMMENT EVERYTHING BELOW TO CREATE THE PLOT\n",
    "fig = plt.figure()\n",
    "ax = fig.add_axes([0,0,1,1])  #fit to plotting canvas\n",
    "ax.plot(r_in,g_in)\n",
    "ax.plot(r_out,g_out)\n",
    "\n",
    "ax.set_title('Gravity Field of Earth')\n",
    "ax.set_xlabel('Distance from center of Earth (m)')\n",
    "ax.set_ylabel('Gravitational Field (m/s^2)')\n",
    "\n"
   ]
  },
  {
   "cell_type": "markdown",
   "metadata": {},
   "source": []
  }
 ],
 "metadata": {
  "kernelspec": {
   "display_name": "Python 3 (ipykernel)",
   "language": "python",
   "name": "python3"
  },
  "language_info": {
   "codemirror_mode": {
    "name": "ipython",
    "version": 3
   },
   "file_extension": ".py",
   "mimetype": "text/x-python",
   "name": "python",
   "nbconvert_exporter": "python",
   "pygments_lexer": "ipython3",
   "version": "3.10.9"
  }
 },
 "nbformat": 4,
 "nbformat_minor": 2
}