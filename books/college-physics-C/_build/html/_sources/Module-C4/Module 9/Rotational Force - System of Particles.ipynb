{
 "cells": [
  {
   "cell_type": "markdown",
   "metadata": {},
   "source": [
    "# Rotational Force: System of Particles\n",
    "***"
   ]
  },
  {
   "cell_type": "markdown",
   "metadata": {},
   "source": [
    "One may think that extending the discussion from the linear case to the rotational case is straightforward, however, that is not the case. The reason why is beyond this class and covered in *Classical Mechanics*. The textbook attempts with a short paragraph to explain why only external torque is important for the dynamics of a system but it fails on the fundamental level as it requires a field theory approach. Instead, we will go ahead a list the result without the in-depth analysis.\n",
    "***"
   ]
  },
  {
   "cell_type": "markdown",
   "metadata": {},
   "source": [
    "## 1. Recall Angular Momentum of a System\n",
    "The total angular (or rotational) momentum of a system consisted of two parts:\n",
    "1. an orbital angular momentum, which was the rotation of the CM of a system around some axis: $\\vec{L}_{orbital} = \\vec{R} \\times \\vec{P}$.\n",
    "2. a spin angular momentum, which was the rotation of the system around an axis through its CM: $\\vec{L}_{spin} = I_{CM}\\vec{\\omega}$.\n",
    "\n",
    "Hence, the total angular momentum is\n",
    "\n",
    "$$\\vec{L}_{tot} = \\vec{R} \\times \\vec{P} + I_{CM}\\vec{\\omega} \\tag{1}$$\n",
    "\n",
    "The example we used was the Earth traveling around the Sun. With a reference frame with the origin at the center of the Sun, the Earth's motion around the Sun is the orbital angular momentum and the rotation of the Earth around its own axis is the spin angular momentum.\n",
    "\n",
    "***"
   ]
  },
  {
   "cell_type": "markdown",
   "metadata": {},
   "source": [
    "## 2. Torque on a System\n",
    "To find the torque exerted on a system, we take the time derivate of Equation (1) and with similar process and assumptions as for the point particle, we get\n",
    "\n",
    "<div class=\"alert alert-success\">\n",
    "$$\\vec{\\tau}_{tot} = \\vec{R} \\times \\vec{F} + I_{CM}\\vec{\\alpha} \\tag{2}$$\n",
    "    </div>\n",
    "    \n",
    "In principle, we can calculate the spin angular momentum as the sum of the torques due to all forces acting on the object around the CM of the object. If we denote $\\vec{r}_{CM}$ as the directed line segment from the system's CM to the point of interaction, we have:\n",
    "\n",
    "<div class=\"alert alert-success\">\n",
    "$$\\vec{\\tau}_{tot} = \\vec{R} \\times \\vec{F} + \\sum_{i =1}^{N}\\vec{r}_{CM,i}\\times \\vec{F}_i \\tag{3}$$\n",
    "    </div>\n",
    "    \n",
    "When to use Equation (2) or (3) will depend on the problem presented. Equations (2) and (3) tells the same story:\n",
    "\n",
    "**the net torque on a system gives arise to an angular acceleration of the CM with respect to a pivot point (usually the origin) and an angular acceleration of the spinning motion of the object around an axis through its CM**.\n",
    "\n",
    "***"
   ]
  },
  {
   "cell_type": "markdown",
   "metadata": {},
   "source": [
    "## 3. Special Cases\n",
    "Equations (2) and (3) are rarely encountered at the introductory physics level. The reason I present them is their importance at the next level of physics and seeing them a second time at that level simply makes it easier to understand.\n",
    "\n",
    "I will present a few examples where we use Equations (2) and (3) on the TEAMS channel, but for now we will focus on special cases.\n",
    "\n",
    "### 3.1 No Spin \n",
    "In this case, the object is not spinning around an axis through its CM and its torque is simply related to the force acting through its CM.\n",
    "\n",
    "$$\\vec{\\tau}_{tot} = \\vec{R} \\times \\vec{F} $$ \n",
    "\n",
    "\n",
    "#### Example 1\n",
    "A solid cylinder of mass 2.0 kg and radius 0.5 m is sliding (not rolling) on a frictionless surface in the +x direction. At some instant, the position vector of the CM has a length of 1.5 m. There is a net horizontal force of 20.0 N acting on the cylinder. What is the torque of the cylinder around the origin?\n",
    "\n",
    "#### Solution\n",
    "Using trigonometry, the CM position vector makes an angle with respect to the +x axis of\n",
    "\n",
    "$$ \\theta = \\sin^{-1}\\left(\\frac{0.5}{1.5}\\right) = 19.5^\\circ $$\n",
    "\n",
    "This angle is the same angle as between the CM position vector and the force vector, and the magnitude of the torque is\n",
    "\n",
    "$$ \\tau = RF\\sin\\theta = (1.5)(20.0)\\sin(19.5) = 10~\\textrm{Nm} $$\n",
    "\n",
    "If the screen is the plane of the motion, and to the right is the +x direction, then the direction given by the right-hand rule is into the screen.\n",
    "\n",
    "If you have a hard time understanding this example, try and make a sketch of the vectors and the cylinder.\n",
    "\n",
    "### 3.2 No Orbital Torque\n",
    "In this case, the torque is only due to the spinning motion of the object: \n",
    "\n",
    "$$\\vec{\\tau}_{tot} = I\\vec{\\omega} $$\n",
    "\n",
    "or \n",
    "\n",
    "$$\\vec{\\tau}_{tot} = \\sum_{i =1}^{N}\\vec{r}_{CM,i}\\times \\vec{F}_i $$\n",
    "\n",
    "#### Example 2\n",
    "A solid cylinder of mass 2.0 kg and radius 0.5 m spinning around an axis through its CM and its long principal axis, say the z-axis. A force of 2.0 N is applied tangential to the side of the cylinder in a positive x-direction to make it spin. What is the torque on the sphere due to this force about its CM?\n",
    "\n",
    "#### Solution\n",
    "Let us put a reference system with the origin at the CM of the sphere. Figure below shows the system with the cylinder seen along its main axis and the z-axis coming out of the screen.\n",
    "\n",
    "<img src=\"fig8.png\" width=\"300\">\n",
    "\n",
    "The directed line segment from the CM to the point of interaction is the radius vector of the cylinder. Since it is perpendicular to the interaction (or force), we have\n",
    "\n",
    "$$ \\tau = (0.5)(2.0)\\sin(90^\\circ) = 1~\\textrm{Nm} $$\n",
    "\n",
    "The direction using the right-hand rule is in the negative z-direction.\n",
    "\n",
    "***"
   ]
  },
  {
   "cell_type": "markdown",
   "metadata": {},
   "source": [
    "## Final Note\n",
    "This is usually one of the most difficult subjects of the course, and I will provide several examples through on-line videos\n",
    "\n",
    "***"
   ]
  },
  {
   "cell_type": "code",
   "execution_count": null,
   "metadata": {},
   "outputs": [],
   "source": []
  }
 ],
 "metadata": {
  "kernelspec": {
   "display_name": "Python 3",
   "language": "python",
   "name": "python3"
  },
  "language_info": {
   "codemirror_mode": {
    "name": "ipython",
    "version": 3
   },
   "file_extension": ".py",
   "mimetype": "text/x-python",
   "name": "python",
   "nbconvert_exporter": "python",
   "pygments_lexer": "ipython3",
   "version": "3.7.6"
  }
 },
 "nbformat": 4,
 "nbformat_minor": 4
}
