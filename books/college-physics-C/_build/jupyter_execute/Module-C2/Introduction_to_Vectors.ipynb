{
 "cells": [
  {
   "cell_type": "markdown",
   "metadata": {},
   "source": [
    "# C2.2 Introduction to Vectors\n",
    "<hr style=\"height:2px;border-width:0;color:gray;background-color:gray\">"
   ]
  },
  {
   "cell_type": "markdown",
   "metadata": {},
   "source": [
    "## 2.2.1 Scalars vs. Vectors\n",
    "A <b>scalar</b> in physics is a quantity that can be described by a <span style=\"color:red\">number only</span> (and in most cases an associated unit). Examples are:\n",
    "\n",
    "* Distance: a car traveled 50 miles.\n",
    "* Speed: a car traveled at 50 miles per hour.\n",
    "* Energy: the kinetic energy of a running cat is 500 J.\n",
    "* Temperature: the temperature is 293 K.\n",
    "\n",
    "The key point is that the number (and the unit) on its own makes sense without any other specifications.\n",
    "\n",
    "A <b>vector</b> in physics is a quantity that is described by both a <span style=\"color:red\">magnitude and direction</span> (and an associated unit). The most common vectors we will encounter in this course are:\n",
    "\n",
    "* Displacement: a car traveled 50 miles due east.\n",
    "* Velocity: a car traveled at 50 miles per hour due east.\n",
    "* Acceleration: the ball accelerated 9.81 m/s$^2$ downwards.\n",
    "* Momentum: the momentum of the car is 20,000 kgm/s to the right.\n",
    "* Force: The person pulls the crate with a force of 20 N to the left.\n",
    "\n",
    "It can be advantageous to visualize a vector in a geometric sense. In this case, we will say that a vector is a <span style=\"color:red\">directed line segment</span>.\n",
    "\n",
    "<hr style=\"height:2px;border-width:0;color:gray;background-color:gray\">"
   ]
  },
  {
   "cell_type": "markdown",
   "metadata": {},
   "source": [
    "## 2.2.2. Beyond Scalars and Vectors\n",
    "While the above definition of a vector appears straightforward, it is because you are not been provided all the information. In fact, you are only being provided enough information that is needed to succeed in PHYS2210 and we will try to not scare you too much. \n",
    "\n",
    "<img src=\"C2-truth.jpeg\"  width=\"400\"/>\n",
    "\n",
    "Ok, if you want a little bit of the truth: a vector can be characterized as either <i>covariant</i> or <i>contravariant</i> depending on how it transforms under a coordinate transform from one coordinate basis to another. This is some hot stuff and typically covered in a course such as <i>differential geometry</i>. The issue is not important when dealing with rectangular coordinate systems such as our standard cartesian $xyz$-system (there is no distinction between covariant and contravariant components), but becomes essential in non-orthogonal coordinate transformations (for example: spherical). Fields such as quantum mechanics and general relatively, and even advanced classical Newtonian mechanics, will need an understanding of these concepts.\n",
    "\n",
    "There are physical quantities that are not scalars nor vectors, but instead belong to a higher order of geometric objects (really difficult to visualize). In fact, a scalar is a 0th rank tensor, a vector is a tensor of rank 1. As we proceed to higher orders, we do not have special words for the tensors and simply refer to them as tensors of rank 2, 3, etc. \n",
    "\n",
    "Now, we will not directly use tensors in our course, and you will have to wait until more advanced physics courses to fully experience tensors (but then I am sure you will be really excited as the cool-factor is off the chart!). However, we will consider components of a few tensors, which in our cases reduce to scalar quantities. Examples of tensors are\n",
    "\n",
    "* Stress tensor: pressure is the normal component of the stress tensor\n",
    "* Moment of Inertia: we will only learn about the normal component in this class\n",
    "\n",
    "<span style=\"color:red\">I strongly recommend taking courses in Linear and Abstract Algebra as well as Differential Geometry to learn more about vectors</span>.\n",
    "\n",
    "<hr style=\"height:2px;border-width:0;color:gray;background-color:gray\">"
   ]
  },
  {
   "cell_type": "markdown",
   "metadata": {},
   "source": [
    "## 2.2.3. Geometrical Representation of a Vector"
   ]
  },
  {
   "cell_type": "markdown",
   "metadata": {},
   "source": [
    "In a very concise form: <span style=\"color:red\">a vector is a directed line segment</span>. Consider two points, A and B, with a line drawn from A (initial point) to B (terminal point). We can specify the direction of the line segment with an arrowhead.\n",
    "\n",
    "The length of the line represents the magnitude of the vector and the arrowhead indicates the direction. A vector is usually represented in the text as a letter with an arrow above: $\\vec{A}$.\n",
    "<br>\n",
    "<br>\n",
    "<img src=\"C2-fig1.png\"  width=\"200\"/>\n",
    "\n",
    "<hr style=\"height:2px;border-width:0;color:gray;background-color:gray\">"
   ]
  },
  {
   "cell_type": "markdown",
   "metadata": {},
   "source": [
    "## 2.2.4. Vectors Characterized by Magnitude and Direction Only\n",
    "Two vectors with the same lengths and directions are identical as a vector is uniquely characterized by those two parameters.<br>\n",
    "\n",
    "<img src=\"C2-fig2.png\"  width=\"300\"/><br>\n",
    "\n",
    "Above, the vectors $\\vec{A}$ and $\\vec{B}$ are the same vector since they have the same magnitude and direction despite the fact that they in different locations.\n",
    "\n",
    "<hr style=\"height:2px;border-width:0;color:gray;background-color:gray\">"
   ]
  }
 ],
 "metadata": {
  "kernelspec": {
   "display_name": "Python 3 (ipykernel)",
   "language": "python",
   "name": "python3"
  },
  "language_info": {
   "codemirror_mode": {
    "name": "ipython",
    "version": 3
   },
   "file_extension": ".py",
   "mimetype": "text/x-python",
   "name": "python",
   "nbconvert_exporter": "python",
   "pygments_lexer": "ipython3",
   "version": "3.9.12"
  }
 },
 "nbformat": 4,
 "nbformat_minor": 4
}