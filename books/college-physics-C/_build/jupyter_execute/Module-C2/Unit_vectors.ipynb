{
 "cells": [
  {
   "cell_type": "markdown",
   "metadata": {},
   "source": [
    "# C2.9 Unit Vectors\n",
    "<hr style=\"height:2px;border-width:0;color:gray;background-color:gray\">"
   ]
  },
  {
   "cell_type": "markdown",
   "metadata": {},
   "source": [
    "## C2.9.1 Unit Vector Representation in 1D\n",
    "We saw in a previous note that we can scale a vector by multiplying it by a scalar. In mathematical terms, it is\n",
    "very useful to define a vector with a length of 1 unit. We call such a vector for a <span style=\"color:red\">unit vector</span>. Remember from our conversation about unit conversions how important the number \"1\" is, in fact, in Linear Algebra, it is required that such a number exists in number space, and similarly, we require that such a vector exists in a vector space.\n",
    "\n",
    "### 1D Analytic Representation\n",
    "Let us first consider 1D space (say, x-axis and consider a unit vector $\\hat{e}_x$. This unit vector has a length (or magnitude equal to 1) and is directed along the positive x-axis. Hence, we can represent it analytically as\n",
    "\n",
    "$$\\hat{e}_x = \\begin{bmatrix} 1  \\end{bmatrix}$$\n",
    "\n",
    "The symbol ^ above the letter is the standard notation for a unit vector and is used to differentiate it from other vectors. From the unit vector, we can create any other vectors directed along (parallel or anti parallel to) the x-axis by applying <i>multiplication by a scalar</i> to the unit vector. For example, a vector $\\vec{A} = [5]$ can be created by multiplying the unit vector by the number 5:\n",
    "\n",
    "$$\\vec{A} = 5~\\hat{e}_x $$\n",
    "\n",
    "### 1D Geometrical Representation\n",
    "The figure below illustrates how was can create 4 different vectors from the unit vector through geometric representation.\n",
    "\n",
    "<img src=\"C2-fig13.png\"  width=\"400\"/>\n",
    "\n",
    "<span style=\"color:red\">We should by now get the idea that we can obtain <i>any</i> vector aligned with the x-axis simply by multiplying the unit vector $\\hat{e}_x$ by a suitable scalar</span>.\n",
    "\n",
    "<hr style=\"height:2px;border-width:0;color:gray;background-color:gray\">"
   ]
  },
  {
   "cell_type": "markdown",
   "metadata": {},
   "source": [
    "## C2.9.2 Scaling\n",
    "<div class=\"alert alert-info\">\n",
    "    \n",
    "Any vector in 1D can be written in terms of the unit vector $\\hat{e}_x$ multiplied by a scalar.        \n",
    "</div>\n",
    "\n",
    "The scalar provides the component of a given vector while the unit vector specify a direction with respect to a certain reference frame. In previous notes we wrote the component of vector $\\vec{A}$ as $A_x$. Hence, we can formally wrote our vector $\\vec{A}$ as\n",
    "\n",
    "<div class=\"alert alert-success\">\n",
    "    \n",
    "$$ \\vec{A} = A_{x}\\hat{e}_x $$\n",
    "</div>\n",
    "\n",
    "<hr style=\"height:2px;border-width:0;color:gray;background-color:gray\">"
   ]
  },
  {
   "cell_type": "markdown",
   "metadata": {},
   "source": [
    "## Unit Vector Representation in 2D\n",
    "\n",
    "### 2D Analytic Representation and Scaling\n",
    "In a 2D reference frame, we need to add the y-axis as well. In that case, we would define a unit vector $\\hat{e}_y$ and make similar scaling to obtain the desired vectors. We define the two unit vectors as\n",
    "\n",
    "$$\\hat{e}_x = \\begin{bmatrix} 1 \\\\ 0  \\end{bmatrix} ~, ~ \\hat{e}_y = \\begin{bmatrix} 0 \\\\ 1  \\end{bmatrix}$$\n",
    "\n",
    "Any vector $\\vec{A}$ in 2D can be written as a **linear combination** of scaled version of the unit vectors. Mathematically, we can write that as\n",
    "\n",
    "$$\\vec{A} = A_{x}\\begin{bmatrix} 1 \\\\ 0  \\end{bmatrix} + A_{y}\\begin{bmatrix} 0 \\\\ 1  \\end{bmatrix}$$\n",
    "\n",
    "or \n",
    "<div class=\"alert alert-success\">\n",
    "    \n",
    "$$\\vec{A} = A_{x}\\hat{e}_x  +  A_{y}\\hat{e}_y $$\n",
    "</div>\n",
    "\n",
    "Hence, we can conclude that\n",
    "<div class=\"alert alert-info\">\n",
    " \n",
    "Any vector in 2D can be written in terms of the unit vectors $\\hat{e}_x$ and $\\hat{e}_y$ multiplied by scalars.        \n",
    "</div>\n",
    "\n",
    "<div style=\"background-color: #D0D0D0 ; padding: 10px; border: 1px solid black;\">       \n",
    "<header>\n",
    "<h3> Example 1</h3>\n",
    "    </header>\n",
    "    \n",
    "Consider the vector $\\vec{A} = \\begin{bmatrix} 2  \\\\ 5  \\end{bmatrix}$. We identify $A_x = 2$ and $A_y = 5$. Hence, we can express the vector in terms of the unit vectors as\n",
    "\n",
    "$$ \\vec{A} = 2\\begin{bmatrix} 1  \\\\ 0  \\end{bmatrix} + 5\\begin{bmatrix} 0  \\\\ 1  \\end{bmatrix}$$\n",
    "\n",
    "or \n",
    "\n",
    "$$ \\vec{A} = 2\\hat{e}_x + 5\\hat{e}_y$$\n",
    "\n",
    "</div>\n",
    "<hr style=\"height:2px;border-width:0;color:gray;background-color:gray\">"
   ]
  },
  {
   "cell_type": "markdown",
   "metadata": {},
   "source": [
    "<div class=\"alert alert-warning\">\n",
    "<b>Box 1</b><br>\n",
    "    \n",
    "Write the following vector in terms of the unit vectors $\\hat{e}_x$ and $\\hat{e}_y$: $\\vec{A} = \\begin{bmatrix} -1  \\\\ 4 \\\\  \\end{bmatrix}$\n",
    "    \n",
    "</div>\n",
    "\n",
    "<hr style=\"height:2px;border-width:0;color:gray;background-color:gray\">"
   ]
  },
  {
   "cell_type": "markdown",
   "metadata": {},
   "source": [
    "<div class=\"alert alert-warning\">\n",
    "<b>Box 2</b><br>\n",
    "    \n",
    "Let us try and expand it to 3D: Write the following vector in terms of the unit vectors $\\hat{e}_x$, $\\hat{e}_y$, and $\\hat{e}_z$: $\\vec{A} = \\begin{bmatrix} -1  \\\\ 4 \\\\ -3  \\end{bmatrix}$\n",
    "    \n",
    "</div>\n",
    "\n",
    "<hr style=\"height:2px;border-width:0;color:gray;background-color:gray\">"
   ]
  },
  {
   "cell_type": "markdown",
   "metadata": {},
   "source": [
    "### 2D Geometrical Representation and Scaling\n",
    "For the 2D geometrical approach, we will illustrate it through our beloved Python code from previous notes. First, let us just plot the unti vectors so we can visualize how they look like. \n",
    "\n",
    "The code below is the first code we had in the mentioned notes. I have added a grid for improved visulization by adding *ax.grid()* to the code. I also added a line in the code to make sure that the aspect ratio between the x- and y-axis is 1. Otherwise, the unit vectors appear to be different sizes since the units are not of the same length along the two axis. This is done by adding *ax.set_aspect('equal', adjustable='box')* to the code. You can try to see what happens if we do not use that line of code (comment it out by putting # in front of that line)."
   ]
  },
  {
   "cell_type": "code",
   "execution_count": 1,
   "metadata": {
    "tags": [
     "hide-input"
    ]
   },
   "outputs": [
    {
     "data": {
      "image/png": "[encoded data removed]",
      "text/plain": [
       "<Figure size 640x480 with 1 Axes>"
      ]
     },
     "metadata": {},
     "output_type": "display_data"
    }
   ],
   "source": [
    "import numpy as np\n",
    "import matplotlib.pyplot as plt\n",
    "\n",
    "%matplotlib inline\n",
    "\n",
    "def draw(v1, v2): \n",
    "    array = np.array([[0, 0, v1[0], v1[1]], \n",
    "                      [0,0, v2[0], v2[1]]])\n",
    "    X, Y, U, V = zip(*array)\n",
    "    plt.figure()\n",
    "    plt.ylabel('y-position')\n",
    "    plt.xlabel('x-position')\n",
    "    ax = plt.gca()\n",
    "    ax.quiver(X, Y, U, V, angles='xy', scale_units='xy',color=['r','r'], scale=1)\n",
    "    ax.set_xlim([-0.5, 5])\n",
    "    ax.set_ylim([-0.5, 5])\n",
    "    ax.grid()\n",
    "    ax.set_aspect('equal', adjustable='box')\n",
    "    plt.draw()\n",
    "    plt.show()\n",
    "    \n",
    "draw([1,0],[0,1])"
   ]
  },
  {
   "cell_type": "markdown",
   "metadata": {},
   "source": [
    "So far so good. We now have a visulization of these unit vectors: length equal to 1 and directed along the positive x- and y-axes, respectively. Now let us create two vectors: $\\vec{A}_x = [4] = 4\\hat{e}_x$ and $\\vec{A}_y = [3] = 3\\hat{e}_y$ and plot them together with the unit vectors. You may feel this is familiar: if you completed Boxes 2 and 3 in the notes: <i>Basic Vector Arithmetic: Analytic Approach</i>, then that was a precursor to this. &#129299;\n",
    "\n",
    "For this purpose, I am doing a quick hack of the code to supply four vectors instead of two. Also, I am listing the unit vectors last so they will be plotted on top of the longer vectors."
   ]
  },
  {
   "cell_type": "code",
   "execution_count": 2,
   "metadata": {
    "tags": [
     "hide-input"
    ]
   },
   "outputs": [
    {
     "data": {
      "image/png": "[encoded data removed]",
      "text/plain": [
       "<Figure size 640x480 with 1 Axes>"
      ]
     },
     "metadata": {},
     "output_type": "display_data"
    }
   ],
   "source": [
    "import numpy as np\n",
    "import matplotlib.pyplot as plt\n",
    "\n",
    "%matplotlib inline\n",
    "\n",
    "def draw(v1, v2, v3, v4): \n",
    "    array = np.array([[0, 0, v1[0], v1[1]], \n",
    "                      [0,0, v2[0], v2[1]],\n",
    "                     [0,0, v3[0], v3[1]],\n",
    "                     [0,0, v4[0], v4[1]]])\n",
    "    X, Y, U, V = zip(*array)\n",
    "    plt.figure()\n",
    "    plt.ylabel('y-position')\n",
    "    plt.xlabel('x-position')\n",
    "    ax = plt.gca()\n",
    "    ax.quiver(X, Y, U, V, angles='xy', scale_units='xy',color=['b','b','r','r'], scale=1)\n",
    "    ax.set_xlim([-0.5, 5])\n",
    "    ax.set_ylim([-0.5, 5])\n",
    "    ax.grid()\n",
    "    ax.set_aspect('equal', adjustable='box')\n",
    "    plt.draw()\n",
    "    plt.show()\n",
    "    \n",
    "draw([4,0],[0,3],[1,0],[0,1])"
   ]
  },
  {
   "cell_type": "markdown",
   "metadata": {},
   "source": [
    "If we were to add the two vectors $\\vec{A}_x = [4] = 4\\hat{e}_x$ and $\\vec{A}_y = [3] = 3\\hat{e}_y$ together, we would get a new vector $\\vec{B} = 4\\hat{e}_x + 3\\hat{e}_y$. Again, I am going to hack the code: I will move the vector $\\vec{A}_y$ to the tip of vector $\\vec{A}_x$ per rules of vector addition by geometrical means, then I will follow the **head-to-tail rule** for the resulting vector. "
   ]
  },
  {
   "cell_type": "code",
   "execution_count": 3,
   "metadata": {
    "tags": [
     "hide-input"
    ]
   },
   "outputs": [
    {
     "data": {
      "image/png": "[encoded data removed]",
      "text/plain": [
       "<Figure size 640x480 with 1 Axes>"
      ]
     },
     "metadata": {},
     "output_type": "display_data"
    }
   ],
   "source": [
    "import numpy as np\n",
    "import matplotlib.pyplot as plt\n",
    "\n",
    "%matplotlib inline\n",
    "\n",
    "def draw(v1, v2, v3, v4): \n",
    "    x_sum = v1[0] + v2[0]\n",
    "    y_sum = v1[1] + v2[1]\n",
    "    \n",
    "    array = np.array([[0, 0, v1[0], v1[1]], \n",
    "                      [v1[0],0, v2[0], v2[1]],\n",
    "                     [0,0, v3[0], v3[1]],\n",
    "                     [0,0, v4[0], v4[1]],\n",
    "                     [0,0, x_sum, y_sum]])\n",
    "    X, Y, U, V = zip(*array)\n",
    "    plt.figure()\n",
    "    plt.ylabel('y-position')\n",
    "    plt.xlabel('x-position')\n",
    "    ax = plt.gca()\n",
    "    ax.quiver(X, Y, U, V, angles='xy', scale_units='xy',color=['b','b','r','r','g'], scale=1)\n",
    "    ax.set_xlim([-0.5, 5])\n",
    "    ax.set_ylim([-0.5, 5])\n",
    "    ax.grid()\n",
    "    ax.set_aspect('equal', adjustable='box')\n",
    "    plt.draw()\n",
    "    plt.show()\n",
    "    \n",
    "draw([4,0],[0,3],[1,0],[0,1])"
   ]
  },
  {
   "cell_type": "markdown",
   "metadata": {},
   "source": [
    "We can now see that (geometrically) by scaling the unit vectors, we can create **any** vector in 2D. \n",
    "<hr style=\"height:2px;border-width:0;color:gray;background-color:gray\">"
   ]
  },
  {
   "cell_type": "markdown",
   "metadata": {},
   "source": [
    "<div class=\"alert alert-warning\">\n",
    "<b>Box 3</b><br>\n",
    "    \n",
    "Geometrically create the following vector in terms of the unit vectors $\\hat{e}_x$ and $\\hat{e}_y$: $\\vec{A} = \\begin{bmatrix} -1  \\\\ 4 \\\\  \\end{bmatrix}$\n",
    "    \n",
    "</div>\n",
    "\n",
    "<hr style=\"height:2px;border-width:0;color:gray;background-color:gray\">"
   ]
  },
  {
   "cell_type": "markdown",
   "metadata": {},
   "source": [
    "## C2.9.3 Final Notes\n",
    "\n",
    "### Notation\n",
    "The unit vectors are often written as\n",
    "\n",
    "$$\\hat{e}_x, \\hat{e}_y, \\hat{e}_z $$ \n",
    "\n",
    "or as (in most introductory textbooks)\n",
    "\n",
    "$$\\hat{i}, \\hat{j}, \\hat{k} $$\n",
    "\n",
    "In more abstract mathematics or theoretical physics, we are not limited to 3D and we often use\n",
    "\n",
    "$$\\hat{e}_1, \\hat{e}_2, \\hat{e}_3, \\cdots $$ \n",
    "\n",
    "### Basis Vectors \n",
    "Since every vector in 1D along the x-direction can be written as a scaled version of $\\hat{e}_x$, we call $\\hat{e}_x$ a <span style=\"color:red\">basis vector</span>. It is not possible to create a vector along x-direction using the $\\hat{e}_y$ vector or vice versa. This is a consequence of the two basis vectors being perpendicular (or orthogonal) to each other. In Linear Algebra jargon we say that the two basis vectors are <i>linear independent</i> of each other.\n",
    "\n",
    "Finally, [wikipedia](https://en.wikipedia.org/wiki/Standard_basis) has a nice 3D illustration on how to create a 3D vector from the three basis vectors.\n",
    "\n",
    "<hr style=\"height:2px;border-width:0;color:gray;background-color:gray\">"
   ]
  }
 ],
 "metadata": {
  "celltoolbar": "Tags",
  "kernelspec": {
   "display_name": "Python 3 (ipykernel)",
   "language": "python",
   "name": "python3"
  },
  "language_info": {
   "codemirror_mode": {
    "name": "ipython",
    "version": 3
   },
   "file_extension": ".py",
   "mimetype": "text/x-python",
   "name": "python",
   "nbconvert_exporter": "python",
   "pygments_lexer": "ipython3",
   "version": "3.10.9"
  }
 },
 "nbformat": 4,
 "nbformat_minor": 4
}