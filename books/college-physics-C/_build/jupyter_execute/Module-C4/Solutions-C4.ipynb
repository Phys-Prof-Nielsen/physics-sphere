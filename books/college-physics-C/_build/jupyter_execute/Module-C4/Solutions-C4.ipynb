{
 "cells": [
  {
   "cell_type": "markdown",
   "id": "93b67830",
   "metadata": {},
   "source": [
    "## Problem C4.1\n",
    "\n",
    "We will be using the definition of impulse.\n",
    "\n",
    "Using a standard xy-coordinate system with the force vector having positive components, we can write\n",
    "\n",
    "$$ \\vec{j} =\n",
    "\\begin{bmatrix}\n",
    " f_x\\Delta t\n",
    " \\\\\n",
    " f_y\\Delta t \n",
    "\\end{bmatrix} =\n",
    "\\begin{bmatrix}\n",
    " f\\cos\\theta\\Delta t\n",
    " \\\\\n",
    " f\\cos\\theta\\Delta t\n",
    "\\end{bmatrix} $$\n",
    "\n",
    "We can now insert our numbers into a calculator or use the Jupyter notebook build-in Python to our advantage."
   ]
  },
  {
   "cell_type": "code",
   "execution_count": 1,
   "id": "c8589a8d",
   "metadata": {},
   "outputs": [
    {
     "name": "stdout",
     "output_type": "stream",
     "text": [
      "4.914912265733951 3.4414586181062767\n"
     ]
    }
   ],
   "source": [
    "import numpy as np\n",
    "\n",
    "f = 300.0\n",
    "angle = 35.\n",
    "dt = 0.020\n",
    "\n",
    "jx = f*np.cos(angle*np.pi/180.)*dt\n",
    "jy = f*np.sin(angle*np.pi/180.)*dt\n",
    "\n",
    "print(jx,jy)"
   ]
  },
  {
   "cell_type": "markdown",
   "id": "0c999ded",
   "metadata": {},
   "source": [
    "To proper significant figures, our answer is\n",
    "\n",
    "$$ \\vec{j} =\n",
    "\\begin{bmatrix}\n",
    " 4.9~\\textrm{kgm/s}\n",
    " \\\\\n",
    " 3.4~\\textrm{kgm/s} \n",
    "\\end{bmatrix} \n",
    "$$\n",
    "\n",
    "If we want to provide the answer in same format as the problem, then we use the Pythagorean theorem to obtain the magnitude of the impulse followed by trigonometry to obtain the direction.\n",
    "\n",
    "$$ j = \\sqrt{j_x^2 + j_y^2} $$\n",
    "\n",
    "and\n",
    "\n",
    "$$ \\theta = \\tan^{-1}\\left({\\frac{j_y}{j_x}}\\right) $$"
   ]
  },
  {
   "cell_type": "code",
   "execution_count": 2,
   "id": "7a5c231c",
   "metadata": {},
   "outputs": [
    {
     "name": "stdout",
     "output_type": "stream",
     "text": [
      "6.0 35.0\n"
     ]
    }
   ],
   "source": [
    "import numpy as np\n",
    "\n",
    "f = 300.0\n",
    "angle = 35.\n",
    "dt = 0.020\n",
    "\n",
    "jx = f*np.cos(angle*np.pi/180.)*dt\n",
    "jy = f*np.sin(angle*np.pi/180.)*dt\n",
    "\n",
    "j = np.sqrt(jx**2 + jy**2)\n",
    "theta = np.arctan(jy/jx)*180./np.pi\n",
    "\n",
    "print(j,theta)"
   ]
  },
  {
   "cell_type": "markdown",
   "id": "49bbf591",
   "metadata": {},
   "source": [
    "The impulse has a magnitude of 6.0 kgm/s and is directed at an angle 35 degrees above the +x-axis. The latter we could directly infer from the problem: since the initial velocity of the ball is zero, the final velocity must be in the same direction as the applied force."
   ]
  },
  {
   "cell_type": "markdown",
   "id": "35d396c4",
   "metadata": {},
   "source": [
    "## Problem C4.2\n",
    "We will use same approach as in previous problem.\n",
    "\n",
    "$$ \\vec{j} = \\vec{f}_{net}\\Delta t $$\n"
   ]
  },
  {
   "cell_type": "code",
   "execution_count": 3,
   "id": "5b8e5823",
   "metadata": {},
   "outputs": [
    {
     "name": "stdout",
     "output_type": "stream",
     "text": [
      "6.0 82.0\n"
     ]
    }
   ],
   "source": [
    "fx = 3.0\n",
    "fy = 41\n",
    "dt = 2.00\n",
    "\n",
    "jx = fx*dt\n",
    "jy = fy*dt\n",
    "\n",
    "print(jx, jy)"
   ]
  },
  {
   "cell_type": "markdown",
   "id": "d80f96b8",
   "metadata": {},
   "source": [
    "The impulse is\n",
    "\n",
    "$$ \\vec{j} = (6.0~\\textrm{kgm/s})~\\hat{i} + (82~\\textrm{kgm/s})~\\hat{j} $$"
   ]
  },
  {
   "cell_type": "markdown",
   "id": "499238a6",
   "metadata": {},
   "source": [
    "## Problem C4.3\n",
    "\n",
    "We assume that friction is negligible and there is no net horizontal force. As a consequence, the momentum is conserved in the plane of motion.\n",
    "\n",
    "Let eastward (or x) be positive:\n",
    "\n",
    "$$ p_{1_x,i} + p_{2_x,i} = p_{1_x,f} + p_{2_x,f}$$\n",
    "\n",
    "The second puck is stationary before the collision, and we have\n",
    "\n",
    "$$ m_{1}v_{1_x,i} = m_{1}v_{1_x,f} + m_{2}v_{2_x,f} $$\n",
    "\n",
    "Plug in values and solve for $v_{2_x,f}$. If we solve the equation using Symbolic Python, it is convenient to cast the equation in the following form:\n",
    "\n",
    "$$ 0 = m_{1}v_{1_x,f} + m_{2}v_{2_x,f} - m_{1}v_{1_x,i}$$"
   ]
  },
  {
   "cell_type": "code",
   "execution_count": 4,
   "id": "cc6909f8",
   "metadata": {},
   "outputs": [
    {
     "name": "stdout",
     "output_type": "stream",
     "text": [
      "[14.0000000000000]\n"
     ]
    }
   ],
   "source": [
    "import sympy as sym\n",
    "\n",
    "m1 = 0.20\n",
    "m2 = 0.10\n",
    "v1i = 5.0\n",
    "v1f = -2.0\n",
    "\n",
    "v2f = sym.Symbol('v2f')\n",
    "\n",
    "eq = m1*v1f + m2*v2f - m1*v1i\n",
    "\n",
    "sol = sym.solve(eq)\n",
    "\n",
    "print(sol)"
   ]
  },
  {
   "cell_type": "markdown",
   "id": "430adf6d",
   "metadata": {},
   "source": [
    "The second particle moves with a speed of $14$ m/s eastward after the collision."
   ]
  },
  {
   "cell_type": "markdown",
   "id": "12e58029",
   "metadata": {},
   "source": [
    "## Problem C4.4\n",
    "\n",
    "Assuming the frictional force is negligible for a small amount of time right before and after the collision, momentum is conserved during the collision for the system. If we let the plane of the table be our xy-plane with eastward aligned with +x, we can consider the x- and y-components of the momentum to be conserved.\n",
    "\n",
    "$$ m_{1}v_{1_x,i} + m_{2}v_{2_x,i} = m_{1}v_{1_x,f} + m_{2}v_{2_x,f} $$\n",
    "\n",
    "and\n",
    "\n",
    "$$ m_{1}v_{1_y,i} + m_{2}v_{2_y,i} = m_{1}v_{1_y,f} + m_{2}v_{2_y,f} $$\n",
    "\n",
    "The velocity components can be determined using trigonometry.\n",
    "\n",
    "Inserting the velocity components in terms of magnitude and direction:\n",
    "\n",
    "\n",
    "$$ m_{1}v_{1,i} + 0 = m_{1}v_{1,f}\\cos\\theta_1 + m_{2}v_{2,f}\\cos\\theta_2 $$\n",
    "\n",
    "and\n",
    "\n",
    "$$ 0 + 0 = m_{1}v_{1,f}\\sin\\theta_1 - m_{2}v_{2,f}\\sin\\theta_2 $$\n",
    "\n",
    "We now have two equations and two unknowns. Choose your favorite method to solve the system of equations. I chose Symbolic Python and will cast the equations into a more suitable form:\n",
    "\n",
    "$$ 0 = m_{1}v_{1,f}\\cos\\theta_1 + m_{2}v_{2,f}\\cos\\theta_2 - m_{1}v_{1,i}$$\n",
    "\n",
    "and\n",
    "\n",
    "$$ 0 = m_{1}v_{1,f}\\sin\\theta_1 - m_{2}v_{2,f}\\sin\\theta_2 $$\n",
    "\n",
    "where we in the last step recognized that the 9-ball moves with a component in the negative y-direction."
   ]
  },
  {
   "cell_type": "code",
   "execution_count": 5,
   "id": "ce143531",
   "metadata": {},
   "outputs": [
    {
     "name": "stdout",
     "output_type": "stream",
     "text": [
      "{v1f: 1.73205080756887, v2f: 1.06250000000000}\n"
     ]
    }
   ],
   "source": [
    "import sympy as sym\n",
    "import numpy as np\n",
    "\n",
    "m1 = 0.17\n",
    "m2 = 0.16\n",
    "v1i = 2.0\n",
    "theta1 = 30.0\n",
    "theta2 = 60.0\n",
    "\n",
    "v1f = sym.Symbol('v1f')\n",
    "v2f = sym.Symbol('v2f')\n",
    "\n",
    "eq1 = m1*v1f*np.cos(theta1*np.pi/180.0) + m2*v2f*np.cos(theta2*np.pi/180.0) - m1*v1i\n",
    "eq2 = m1*v1f*np.sin(theta1*np.pi/180.0) - m2*v2f*np.sin(theta2*np.pi/180.0)\n",
    "\n",
    "sol = sym.solve((eq1,eq2),(v1f,v2f))\n",
    "\n",
    "print(sol)"
   ]
  },
  {
   "cell_type": "markdown",
   "id": "aa93926f",
   "metadata": {},
   "source": [
    "After the collision the velocities are: 1.7 m/s in a direction 30.0 degrees north of east (cue ball) and 1.1 m/s in a direction 60.0 degrees south of east (9-ball)."
   ]
  },
  {
   "cell_type": "markdown",
   "id": "f201e2e1",
   "metadata": {},
   "source": [
    "## Problem C4.5\n",
    "The momentum before the collision is the combined momentum of the two particles. Choose a reference system such that P2 is traveling in +x-direction.\n",
    "\n",
    "$$ \\vec{P_i} =\n",
    "\\begin{bmatrix}\n",
    " p_{1_i,x} + p_{2_i,x}\n",
    " \\\\\n",
    " p_{1_i,y} + p_{2_i,y} \n",
    "\\end{bmatrix} =\n",
    "\\begin{bmatrix}\n",
    " 0 + m_{2}v_{2,i,x}\n",
    " \\\\\n",
    " 0\n",
    "\\end{bmatrix} $$"
   ]
  },
  {
   "cell_type": "code",
   "execution_count": 6,
   "id": "3b814ada",
   "metadata": {},
   "outputs": [
    {
     "name": "stdout",
     "output_type": "stream",
     "text": [
      "4.505994000000001e-19\n"
     ]
    }
   ],
   "source": [
    "m2 = 1.67E-27\n",
    "c = 2.998E8\n",
    "\n",
    "Pi = m2*0.9*c\n",
    "print(Pi)"
   ]
  },
  {
   "cell_type": "markdown",
   "id": "3091fb07",
   "metadata": {},
   "source": [
    "The initial momentum is \n",
    "\n",
    "$$ \\vec{P_i} =\n",
    "\\begin{bmatrix}\n",
    " 5\\times 10^{-19}~\\textrm{kgm/s}\n",
    " \\\\\n",
    " 0~\\textrm{kgm/s}\n",
    "\\end{bmatrix} $$"
   ]
  },
  {
   "cell_type": "markdown",
   "id": "c8b9f40f",
   "metadata": {},
   "source": [
    "Since there is no net external force acting on the system in the plane of motion, momentum is conserved and we have\n",
    "\n",
    "$$ \\vec{P_f} =\n",
    "\\begin{bmatrix}\n",
    " 5\\times 10^{-19}~\\textrm{kgm/s}\n",
    " \\\\\n",
    " 0~\\textrm{kgm/s}\n",
    "\\end{bmatrix} $$"
   ]
  },
  {
   "cell_type": "markdown",
   "id": "5b6a50ed",
   "metadata": {},
   "source": [
    "Since we know the final momentum of system, we can use that value to find the unknown mass of particle B and its unknown speed.\n",
    "\n",
    "After the collision the system is moving in the xy-plane and we must use trigonometry to infer the components of each new particle:\n",
    "\n",
    "$$ \\vec{P_f} =\n",
    "\\begin{bmatrix}\n",
    " p_{A_f,x} + p_{B_f,x}\n",
    " \\\\\n",
    " p_{A_f,y} + p_{B_f,y} \n",
    "\\end{bmatrix} =\n",
    "\\begin{bmatrix}\n",
    " m_{A}v_{A,f,x} + m_{B}v_{B,f,x}\n",
    " \\\\\n",
    " m_{A}v_{A,f,y} + m_{B}v_{B,f,y}\n",
    "\\end{bmatrix} =\n",
    "\\begin{bmatrix}\n",
    " m_{A}v_{A,f}\\cos\\theta_A + m_{B}v_{B,f}\\cos\\theta_B\n",
    " \\\\\n",
    " m_{A}v_{A,f}\\sin\\theta_A - m_{B}v_{B,f}\\sin\\theta_B\n",
    "\\end{bmatrix} $$\n",
    "\n",
    "This is a system of two equations and two unknowns. As usual, I am too lazy to do this on paper (and I make way too many algebraic mistakes), so I will cast the two equations into forms suitable for Symbolic Python:\n",
    "\n",
    "$$ 0 = m_{A}v_{A,f}\\cos\\theta_A + m_{B}v_{B,f}\\cos\\theta_B - 4.50599\\times 10^{-19} $$\n",
    "\n",
    "and \n",
    "\n",
    "$$ 0 = m_{A}v_{A,f}\\sin\\theta_A - m_{B}v_{B,f}\\sin\\theta_B $$"
   ]
  },
  {
   "cell_type": "code",
   "execution_count": 7,
   "id": "03e399a1",
   "metadata": {},
   "outputs": [
    {
     "name": "stdout",
     "output_type": "stream",
     "text": [
      "{mA: 1.25249888814765e-27, mB: 1.85947860916737e-27}\n"
     ]
    }
   ],
   "source": [
    "import sympy as sym\n",
    "import numpy as np\n",
    "\n",
    "#mA = 2.0E-27\n",
    "#mB = 2.6E-27\n",
    "c = 2.998E8\n",
    "vAf = 0.6*c\n",
    "vBf = 0.7*c\n",
    "thetaA = 60.0\n",
    "thetaB = 30.0\n",
    "\n",
    "mA = sym.Symbol('mA')\n",
    "mB = sym.Symbol('mB')\n",
    "\n",
    "eq1 = mA*vAf*np.cos(thetaA*np.pi/180.0) + mB*vBf*np.cos(thetaB*np.pi/180.0) - 4.50599E-19\n",
    "eq2 = mA*vAf*np.sin(thetaA*np.pi/180.0) - mB*vBf*np.sin(thetaB*np.pi/180.0)\n",
    "\n",
    "sol = sym.solve((eq1,eq2),(mA,mB))\n",
    "\n",
    "print(sol)"
   ]
  },
  {
   "cell_type": "code",
   "execution_count": null,
   "id": "78f32aad",
   "metadata": {},
   "outputs": [],
   "source": []
  }
 ],
 "metadata": {
  "kernelspec": {
   "display_name": "Python 3 (ipykernel)",
   "language": "python",
   "name": "python3"
  },
  "language_info": {
   "codemirror_mode": {
    "name": "ipython",
    "version": 3
   },
   "file_extension": ".py",
   "mimetype": "text/x-python",
   "name": "python",
   "nbconvert_exporter": "python",
   "pygments_lexer": "ipython3",
   "version": "3.9.12"
  }
 },
 "nbformat": 4,
 "nbformat_minor": 5
}