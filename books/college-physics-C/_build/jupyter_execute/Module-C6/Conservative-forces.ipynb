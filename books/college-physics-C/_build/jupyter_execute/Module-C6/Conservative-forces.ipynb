{
 "cells": [
  {
   "cell_type": "markdown",
   "metadata": {},
   "source": [
    "# C6.2 Conservative Forces\n",
    "<hr style=\"height:2px;border-width:0;color:gray;background-color:gray\">"
   ]
  },
  {
   "cell_type": "markdown",
   "metadata": {},
   "source": [
    "## C6.2.1 Motivation\n",
    "\n",
    "In principle we do not need any more tools to fully solve a problem within the work-energy regime. However, work deals with force and displacement, which both are vectors and adds some complexity as need to consider respective directions. It turns out that vector calculus tells us that under certain conditions, some forces can be written in terms of a scalar function, which we call the **potential energy**. The forces associated with potential energies are called **conservative forces**. By introducing the potential energy concept, we can solve many problems using work-energy without having to deal with vectors.\n",
    "\n",
    "<hr style=\"height:2px;border-width:0;color:gray;background-color:gray\">"
   ]
  },
  {
   "cell_type": "markdown",
   "metadata": {},
   "source": [
    "## C6.2.2 Conceptual Definition of Conservative Force\n",
    "\n",
    "A conservative force is commonly described in two ways:\n",
    "\n",
    "<div class=\"alert alert-success\">\n",
    "In displacing an object from position A to position B, the work by a conservative force only depends on the start and end positions but does not depend on the path to get from A to B. \n",
    "</div>\n",
    "\n",
    "The above statement then also define a **non-conservative force** as a force whose work depends on the path taken. \n",
    "\n",
    "Another way of defining a conservative force:\n",
    "<div class=\"alert alert-success\">\n",
    "In moving an object from position A to some other position(s) and back to A, the work done by a conservative force is zero.\n",
    "</div>\n",
    "\n",
    "In other words, if an object moves along **closed path** the work done by a conservative force is zero.\n",
    "\n",
    "The two most common conservative forces are the forces of gravity and linear spring.\n",
    "\n",
    "<hr style=\"height:2px;border-width:0;color:gray;background-color:gray\">"
   ]
  },
  {
   "cell_type": "markdown",
   "metadata": {},
   "source": [
    "## C6.2.2 Qualitiative Definition of Conservative Force\n",
    "\n",
    "This will require vector calculus and is beyond the scope of this module. While we can not definitively prove a force is conservative, we can test the premise by calculating the work done along a closed path. If the work is zero, it **may** be a conservative force. If it is not zero, we can conclude that it is not conservative. \n",
    "\n",
    "Hence, we will use the following definition to test whether a force may be conservative or not:\n",
    "\n",
    "<div class=\"alert alert-success\">\n",
    "<b>Linear Work on Point Particle</b>\n",
    "    \n",
    "$$ w = \\vec{f}\\cdot\\Delta \\vec{r}$$\n",
    "</div>\n",
    "\n",
    "<hr style=\"height:2px;border-width:0;color:gray;background-color:gray\">"
   ]
  },
  {
   "cell_type": "markdown",
   "metadata": {},
   "source": [
    "<div style=\"background-color: #D0D0D0 ; padding: 10px; border: 1px solid black;\">\n",
    "<header>\n",
    "<h3> Example 1: Force of Gravity</h3>\n",
    "    </header>\n",
    "    \n",
    "Consider a particle of mass $m$ that we move along a square path in a vertical 2D $(x,y)$ plane. \n",
    "  \n",
    "<img src=\"C6-fig1.png\" width=\"200\">    \n",
    "    \n",
    "The initial location A is given by $(x_A, y_A)$. We then move the particle straight upward to a new position B: $(x_A, y_B)$ During that process the work done by gravity is\n",
    "    \n",
    "$$ w_{g,A\\rightarrow B} = \\vec{f}_g\\cdot\\Delta\\vec{r} = (mg)(\\Delta r)\\cos(\\theta) = (mg)(\\Delta y)(-1) = -mgy_A + mgy_B $$\n",
    "    \n",
    "The particle is then moved horizontally to point C given by $x_C,y_B)$. The overlab between the force of gravity and the displacement is zero, so the work is zero:\n",
    "    \n",
    "$$ w_{g,B\\rightarrow C} = \\vec{f}_g\\cdot\\Delta\\vec{r} = (mg)(\\Delta r)\\cos(\\theta) = (mg)(\\Delta x)(0) = 0$$   \n",
    "    \n",
    "Moving the particle down to point D given by $(x_C, y_A)$:\n",
    "    \n",
    "$$ w_{g,C\\rightarrow D} = \\vec{f}_g\\cdot\\Delta\\vec{r} = (mg)(\\Delta r)\\cos(\\theta) = (mg)(\\Delta y)(1) = mgy_A - mgy_B $$\n",
    "    \n",
    "and finally back to where we started:\n",
    "    \n",
    "$$ w_{g,D\\rightarrow A} = \\vec{f}_g\\cdot\\Delta\\vec{r} = (mg)(\\Delta r)\\cos(\\theta) = (mg)(\\Delta x)(0) = 0$$\n",
    "    \n",
    "We then sum the work for the entire path:\n",
    "    \n",
    "$$ w_{net} = w_{g,A\\rightarrow B} + w_{g,B\\rightarrow C} + w_{g,C\\rightarrow D} + w_{g,D\\rightarrow A} = 0 $$\n",
    "    \n",
    "Since the net work along the closed path is zero, the force of gravity could potentially be a conservative force. It turns out that the work done along <b>any</b> closed path by force of gravity is zero, and <b>force of gravity is a conservative force</b>.\n",
    "    \n",
    "</div>\n",
    "<hr style=\"height:2px;border-width:0;color:gray;background-color:gray\">"
   ]
  },
  {
   "cell_type": "markdown",
   "metadata": {},
   "source": [
    "<hr style=\"height:2px;border-width:0;color:gray;background-color:gray\">"
   ]
  }
 ],
 "metadata": {
  "celltoolbar": "Tags",
  "kernelspec": {
   "display_name": "Python 3 (ipykernel)",
   "language": "python",
   "name": "python3"
  },
  "language_info": {
   "codemirror_mode": {
    "name": "ipython",
    "version": 3
   },
   "file_extension": ".py",
   "mimetype": "text/x-python",
   "name": "python",
   "nbconvert_exporter": "python",
   "pygments_lexer": "ipython3",
   "version": "3.10.9"
  }
 },
 "nbformat": 4,
 "nbformat_minor": 4
}