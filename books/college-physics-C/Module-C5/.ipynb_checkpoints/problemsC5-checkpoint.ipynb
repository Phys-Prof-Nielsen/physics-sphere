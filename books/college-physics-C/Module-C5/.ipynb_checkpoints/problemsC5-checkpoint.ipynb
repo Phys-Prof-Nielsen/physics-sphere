{
 "cells": [
  {
   "cell_type": "markdown",
   "metadata": {},
   "source": [
    "# C5.X Problems\n",
    "<hr style=\"height:2px;border-width:0;color:gray;background-color:gray\">"
   ]
  },
  {
   "cell_type": "markdown",
   "metadata": {},
   "source": [
    "<h2>Problem C5.1</h2>\n",
    "    </header>\n",
    "\n",
    "A car accelerates from rest at a constant rate of 3.0 m/s$^2$ for 10.0 seconds. Calculate its final velocity and the distance it travels during this time."
   ]
  },
  {
   "cell_type": "markdown",
   "metadata": {
    "tags": [
     "hide-input"
    ]
   },
   "source": [
    "```{admonition} Solution C5.1\n",
    ":class: tip, dropdown\n",
    "<div style=\"background-color: #D0D0D0 ; padding: 10px; border: 1px solid black;\">\n",
    "\n",
    "**Solving Methodology**\n",
    "    \n",
    "We will be using the defining relationship between acceleration and change in velocity, followed by one of the derived equations of kinematics.\n",
    "\n",
    "**Solution**\n",
    "\n",
    "From $\\vec{a}_{av} = \\frac{\\Delta\\vec{v}}{\\Delta t} $ we have for a single component, say x:\n",
    "\n",
    "$$ v_x = v_{0x} + a_{av,x}\\Delta t $$\n",
    "\n",
    "Inserting our numbers:\n",
    "\n",
    "$$ v_x = (0) + (+3.0)(10.0) = +3.0\\times 10^1~\\textrm{m/s} $$\n",
    "    \n",
    "Using Toricelli's equation of kinematics:\n",
    "    \n",
    "$$ v_x^2 = v_{0x}^2 + 2a_{x}\\Delta x $$\n",
    "    \n",
    "we can solve for the distance travelled:\n",
    "    \n",
    "$$ \\Delta x = \\frac{v_x^2 - v_{0x}^2}{2a_x} = \\frac{(30)^2 - (0)^2}{(2)(3.0)} = 1.5\\times 10^2~\\textrm{m} $$\n",
    "\n",
    "The later, we could also have found by using $v_{av,x} = \\frac{\\Delta x}{\\Delta t}$ and recognizing that the average velocity over the 10.0 s is 15 m/s.\n",
    "</div>\n",
    "<hr style=\"height:2px;border-width:0;color:gray;background-color:gray\">\n",
    "```"
   ]
  },
  {
   "cell_type": "markdown",
   "metadata": {},
   "source": [
    "<h2>Problem C5.2</h2>\n",
    "    </header>\n",
    "\n",
    "A UVU rocket is launched vertically upward. After the engine burn-out the speed of the rocket is 740.0 m/s. How high above the burn-out altitude is the speed 120.0 m/s?"
   ]
  },
  {
   "cell_type": "markdown",
   "metadata": {},
   "source": [
    "```{admonition} Solution C5.2\n",
    ":class: tip, dropdown\n",
    "\n",
    "<div style=\"background-color: #D0D0D0 ; padding: 10px; border: 1px solid black;\">\n",
    "\n",
    "**Solving Methodology**\n",
    "We will be using Toricelli's equation of motion (using z as the vertical coordinate):\n",
    "\n",
    "$$ v_z^2 = v_{0z}^2 + 2a_{z}\\Delta z $$\n",
    "\n",
    "**Solution**\n",
    "\n",
    "If we let upward be positive direction, then the acceleration of the rocket after the burn-out is $a_z = -9.81~\\textrm{m/s}^2$. Solving for our displacement and inserting our numbers:\n",
    "\n",
    "$$ \\Delta z = \\frac{v_z^2 - v_{0z}^2}{2a_z} = \\frac{(120.0)^2 - (740.0)^2}{(2)(-9.81)} = 2.7\\times 10^4~\\textrm{m} $$\n",
    "\n",
    "</div>\n",
    "<hr style=\"height:2px;border-width:0;color:gray;background-color:gray\">\n",
    "```"
   ]
  },
  {
   "cell_type": "markdown",
   "metadata": {},
   "source": [
    "## Problem C5.3\n",
    "\n",
    "A block with a mass of 2.5 kg is being pulled across a horizontal surface. The coefficient of friction between the block and the surface is 0.20. The pulling force is 12 N and parallel to the surface. \n",
    "\n",
    "1. Use Newton's 2nd law to find the acceleration of the block.\n",
    "2. If the block starts from rest, what is the speed of the block after being pulled a distance of 5.0 m?\n",
    "3. How long time did it take to pull it a distance of 5.0 m?\n",
    "\n",
    "[Video Solution](https://youtu.be/osQuyibIRYs?si=02zMpJbx5U88ESWr)\n",
    "\n",
    "<hr style=\"height:2px;border-width:0;color:gray;background-color:gray\">"
   ]
  },
  {
   "cell_type": "code",
   "execution_count": 14,
   "metadata": {
    "tags": [
     "hide-input",
     "hide-output"
    ]
   },
   "outputs": [
    {
     "name": "stdout",
     "output_type": "stream",
     "text": [
      "Acceleration = 2.83800000000000\n"
     ]
    }
   ],
   "source": [
    "import sympy as sym\n",
    "\n",
    "#part 1\n",
    "ax = sym.Symbol('ax')\n",
    "fn = sym.Symbol('fn')\n",
    "\n",
    "m = 2.5\n",
    "fp = 12\n",
    "g = 9.81\n",
    "mu = 0.20\n",
    "\n",
    "eq1 = m*ax -fp + mu*fn\n",
    "eq2 = fn - m*g\n",
    "\n",
    "sol = sym.solve((eq1,eq2),(ax,fn))\n",
    "\n",
    "print('Acceleration = '+str(sol[ax]))"
   ]
  },
  {
   "cell_type": "code",
   "execution_count": 16,
   "metadata": {
    "tags": [
     "hide-input",
     "hide-output"
    ]
   },
   "outputs": [
    {
     "name": "stdout",
     "output_type": "stream",
     "text": [
      "Speed = 5.32728824074688\n"
     ]
    }
   ],
   "source": [
    "import sympy as sym\n",
    "\n",
    "#part 2\n",
    "vx = sym.Symbol('vx')\n",
    "\n",
    "v0x = 0.0\n",
    "ax = 2.838\n",
    "dx = 5.0\n",
    "\n",
    "eq = vx**2 - v0x**2 - 2*ax*dx\n",
    "\n",
    "sol = sym.solve(eq,vx)\n",
    "\n",
    "print('Speed = '+str(sol[1]))"
   ]
  },
  {
   "cell_type": "code",
   "execution_count": 26,
   "metadata": {
    "tags": [
     "hide-input",
     "hide-output"
    ]
   },
   "outputs": [
    {
     "name": "stdout",
     "output_type": "stream",
     "text": [
      "Time = 1.87702607470049\n"
     ]
    }
   ],
   "source": [
    "import sympy as sym\n",
    "\n",
    "#part 3\n",
    "dt = sym.Symbol('dt')\n",
    "\n",
    "v0x = 0.0\n",
    "vx = 5.327\n",
    "ax = 2.838\n",
    "\n",
    "eq = dt - (vx - v0x)/ax\n",
    "\n",
    "sol = sym.solve(eq,dt)\n",
    "\n",
    "print('Time = '+str(sol[0]))"
   ]
  },
  {
   "cell_type": "markdown",
   "metadata": {},
   "source": [
    "## Problem C5.4\n",
    "\n",
    "A 2.0 kg box is being pulled up a 15$^\\circ$ incline by a 15 N pulling force that is parallel to the incline. The coefficient of friction between the box and the surface is 0.25.\n",
    "\n",
    "1. Use Newton's 2nd law to find the acceleration of the block.\n",
    "2. If the incline is 12 m long and the box starts from rest, what is its speed at the top?\n",
    "3. How long time did it take to pull the box from the bottom to the top of the incline?\n",
    "4. What is the work done by the diligent student worker who pulled the box?\n",
    "\n",
    "[Video Solution](https://youtu.be/TdsksfDjbMQ)\n",
    "\n",
    "<hr style=\"height:2px;border-width:0;color:gray;background-color:gray\">"
   ]
  },
  {
   "cell_type": "code",
   "execution_count": 21,
   "metadata": {
    "tags": [
     "hide-input",
     "hide-output"
    ]
   },
   "outputs": [
    {
     "name": "stdout",
     "output_type": "stream",
     "text": [
      "Acceleration = 2.59205207857033\n"
     ]
    }
   ],
   "source": [
    "import sympy as sym\n",
    "import numpy as np\n",
    "\n",
    "#part 1\n",
    "ax = sym.Symbol('ax')\n",
    "fn = sym.Symbol('fn')\n",
    "\n",
    "m = 2.0\n",
    "fp = 15\n",
    "g = 9.81\n",
    "mu = 0.25\n",
    "angle = 15.0\n",
    "\n",
    "eq1 = m*ax -fp + mu*fn + m*g*np.sin(angle*np.pi/180.0)\n",
    "eq2 = fn - m*g*np.cos(angle*np.pi/180.0)\n",
    "\n",
    "sol = sym.solve((eq1,eq2),(ax,fn))\n",
    "\n",
    "print('Acceleration = '+str(sol[ax]))"
   ]
  },
  {
   "cell_type": "code",
   "execution_count": 23,
   "metadata": {
    "tags": [
     "hide-input",
     "hide-output"
    ]
   },
   "outputs": [
    {
     "name": "stdout",
     "output_type": "stream",
     "text": [
      "Speed = 7.88720482807439\n"
     ]
    }
   ],
   "source": [
    "import sympy as sym\n",
    "\n",
    "#part 2\n",
    "vx = sym.Symbol('vx')\n",
    "\n",
    "v0x = 0.0\n",
    "ax = 2.592\n",
    "dx = 12.0\n",
    "\n",
    "eq = vx**2 - v0x**2 - 2*ax*dx\n",
    "\n",
    "sol = sym.solve(eq,vx)\n",
    "\n",
    "print('Speed = '+str(sol[1]))"
   ]
  },
  {
   "cell_type": "code",
   "execution_count": 25,
   "metadata": {
    "tags": [
     "hide-input",
     "hide-output"
    ]
   },
   "outputs": [
    {
     "name": "stdout",
     "output_type": "stream",
     "text": [
      "Time = 3.04282407407407\n"
     ]
    }
   ],
   "source": [
    "import sympy as sym\n",
    "\n",
    "#part 3\n",
    "dt = sym.Symbol('dt')\n",
    "\n",
    "v0x = 0.0\n",
    "vx = 7.887\n",
    "ax = 2.592\n",
    "\n",
    "eq = dt - (vx - v0x)/ax\n",
    "\n",
    "sol = sym.solve(eq,dt)\n",
    "\n",
    "print('Time = '+str(sol[0]))"
   ]
  },
  {
   "cell_type": "code",
   "execution_count": 27,
   "metadata": {
    "tags": [
     "hide-input",
     "hide-output"
    ]
   },
   "outputs": [
    {
     "name": "stdout",
     "output_type": "stream",
     "text": [
      "Work = 180.0\n"
     ]
    }
   ],
   "source": [
    "fp = 15.0\n",
    "dx = 12.0\n",
    "\n",
    "work = fp*dx\n",
    "\n",
    "print('Work = '+str(work))"
   ]
  },
  {
   "cell_type": "markdown",
   "metadata": {},
   "source": [
    "## Problem C5.5\n",
    "\n",
    "Consider two blocks A and B connected by a massless rope and a massless disk as shown in the Figure.\n",
    "\n",
    "<img src=\"P-C5.5.png\" width=\"400\">\n",
    "\n",
    "Block A has a mass of 2.0 kg and is placed on the table top. The coefficient of kinetic friction between the block and the table surface is 0.30. Block B has a mass of 1.5 kg. The blocks are held in place until $t = 0$ s when they are released.\n",
    "\n",
    "1. Draw a free-body-diagram of each block.\n",
    "2. What is an equation of constraint in this problem?\n",
    "3. Find the acceleration of block B using Newton's 2nd law.\n",
    "4. If the initial distance between Block B and the floor is 1.2 m, how long time does it take to reach the floor?\n",
    "5. What is the speed of block B right before it hits the floor?\n",
    "6. What should the static friction be to prevent the system from accelerating?\n",
    "\n",
    "[Video Solution](https://www.youtube.com/watch?v=TE3Z9hrHOy4)\n",
    "\n",
    "<hr style=\"height:2px;border-width:0;color:gray;background-color:gray\">"
   ]
  },
  {
   "cell_type": "code",
   "execution_count": 33,
   "metadata": {
    "tags": [
     "hide-input",
     "hide-output"
    ]
   },
   "outputs": [
    {
     "name": "stdout",
     "output_type": "stream",
     "text": [
      "Acceleration = 2.52257142857143\n"
     ]
    }
   ],
   "source": [
    "import sympy as sym\n",
    "\n",
    "#values giving\n",
    "mA = 2.0\n",
    "mB = 1.5\n",
    "mu = 0.30\n",
    "g = 9.81\n",
    "\n",
    "#unknowns\n",
    "a = sym.Symbol('a')\n",
    "fn = sym.Symbol('fn')\n",
    "ft = sym.Symbol('ft')\n",
    "\n",
    "#coupled equations\n",
    "eq1 = mA*a - ft + mu*fn\n",
    "eq2 = fn - mA*g\n",
    "eq3 = mB*a + ft - mB*g\n",
    "\n",
    "sol = sym.solve((eq1,eq2,eq3),(a,fn,ft))\n",
    "\n",
    "print('Acceleration = '+str(sol[a]))"
   ]
  },
  {
   "cell_type": "code",
   "execution_count": 35,
   "metadata": {
    "tags": [
     "hide-input",
     "hide-output"
    ]
   },
   "outputs": [
    {
     "name": "stdout",
     "output_type": "stream",
     "text": [
      "Time = 0.975402821669441\n"
     ]
    }
   ],
   "source": [
    "import sympy as sym\n",
    "\n",
    "dy = -1.2\n",
    "ay = -2.52257\n",
    "v0y = 0.0\n",
    "\n",
    "t = sym.Symbol('t')\n",
    "\n",
    "eq = dy - v0y*t - 0.5*ay*t**2\n",
    "\n",
    "sol = sym.solve(eq,t)\n",
    "\n",
    "print('Time = '+str(sol[1]))"
   ]
  },
  {
   "cell_type": "code",
   "execution_count": 38,
   "metadata": {
    "tags": [
     "hide-input",
     "hide-output"
    ]
   },
   "outputs": [
    {
     "name": "stdout",
     "output_type": "stream",
     "text": [
      "Speed = 2.46051477800000\n"
     ]
    }
   ],
   "source": [
    "import sympy as sym\n",
    "\n",
    "dt = 0.9754\n",
    "ay = 2.52257\n",
    "v0y = 0.0\n",
    "\n",
    "vy = sym.Symbol('vy')\n",
    "\n",
    "eq = vy - v0y - ay*dt\n",
    "\n",
    "sol = sym.solve(eq,vy)\n",
    "\n",
    "print('Speed = '+str(sol[0]))"
   ]
  },
  {
   "cell_type": "code",
   "execution_count": 40,
   "metadata": {
    "tags": [
     "hide-input",
     "hide-output"
    ]
   },
   "outputs": [
    {
     "name": "stdout",
     "output_type": "stream",
     "text": [
      "Force of friction (magnitude) = 14.7150000000000\n"
     ]
    }
   ],
   "source": [
    "import sympy as sym\n",
    "\n",
    "#values giving\n",
    "mA = 2.0\n",
    "mB = 1.5\n",
    "mu = 0.30\n",
    "g = 9.81\n",
    "a = 0.0\n",
    "\n",
    "#unknowns\n",
    "ff = sym.Symbol('ff')\n",
    "fn = sym.Symbol('fn')\n",
    "ft = sym.Symbol('ft')\n",
    "\n",
    "#coupled equations\n",
    "eq1 = mA*a - ft + ff\n",
    "eq2 = fn - mA*g\n",
    "eq3 = mB*a + ft - mB*g\n",
    "\n",
    "sol = sym.solve((eq1,eq2,eq3),(ff,fn,ft))\n",
    "\n",
    "print('Force of friction (magnitude) = '+str(sol[ff]))"
   ]
  },
  {
   "cell_type": "markdown",
   "metadata": {},
   "source": [
    "## Problem C5.6\n",
    "\n",
    "A UVU rocket had a little mishap and instead of being launched near vertically, it launched at an angle of 40.0$^\\circ$ with respect to the vertical at 32 m/s and the parachute failed to deploy. Assume no air drag.\n",
    "\n",
    "1. What was the maximum altitude above the launch point?\n",
    "2. How long time after launch did it take to reach peak altitude?\n",
    "3. How far away from the launch point did the rocket land?\n",
    "4. How long time did it take the rocket to land measured from the launch time? \n",
    "\n",
    "<hr style=\"height:2px;border-width:0;color:gray;background-color:gray\">"
   ]
  },
  {
   "cell_type": "code",
   "execution_count": 28,
   "metadata": {
    "tags": [
     "hide-input",
     "hide-output"
    ]
   },
   "outputs": [
    {
     "name": "stdout",
     "output_type": "stream",
     "text": [
      "Peak Altitude = 30.6273122816243\n",
      "Time to peak altitude = 2.49881979406802\n",
      "Range = 101.235741268337\n"
     ]
    }
   ],
   "source": [
    "import sympy as sym\n",
    "import numpy as np\n",
    "\n",
    "#launch angle is measured from horizontal (and converted to radians)\n",
    "angle = (90.0 - 40.0)*np.pi/180.0\n",
    "v0 = 32.0\n",
    "g = 9.81\n",
    "\n",
    "#part 1\n",
    "hpeak = sym.Symbol('hpeak')\n",
    "eq1 = hpeak - (v0**2)*(np.sin(angle)**2)/(2*g)\n",
    "sol1 = sym.solve(eq1,hpeak)\n",
    "print('Peak Altitude = '+str(sol1[0]))\n",
    "\n",
    "#part 2\n",
    "tpeak = sym.Symbol('tpeak')\n",
    "eq2 = tpeak - v0*np.sin(angle)/g\n",
    "sol2 = sym.solve(eq2,tpeak)\n",
    "print('Time to peak altitude = '+str(sol2[0]))\n",
    "\n",
    "#part 3\n",
    "r = sym.Symbol('r')\n",
    "eq3 = r - (v0**2)*(np.sin(2*angle)**2)/g\n",
    "sol3 = sym.solve(eq3,r)\n",
    "print('Range = '+str(sol3[0]))"
   ]
  },
  {
   "cell_type": "markdown",
   "metadata": {},
   "source": [
    "## Problem C5.7\n",
    "\n",
    "An attempted UVU rocket launch turned into a missile testing event. The spectacular rocket was launched at an angle of 55.0$^\\circ$ with respect to the vertical and a launch velocity of 255 m/s. A distance of 4150.0 m  away was a moutain with a slope of 12.0$^\\circ$. What vertical distance up the mountain did the rocket land?\n",
    "\n",
    "<hr style=\"height:2px;border-width:0;color:gray;background-color:gray\">"
   ]
  },
  {
   "cell_type": "code",
   "execution_count": 29,
   "metadata": {
    "tags": [
     "hide-input",
     "hide-output"
    ]
   },
   "outputs": [
    {
     "name": "stdout",
     "output_type": "stream",
     "text": [
      "Vertical distance = 331.951719382340\n"
     ]
    }
   ],
   "source": [
    "import sympy as sym\n",
    "import numpy as np\n",
    "\n",
    "#launch angle in radians\n",
    "launch_angle = (90.0-55.0)*np.pi/180.0\n",
    "v0 = 255.0\n",
    "#launch coordinates\n",
    "x0 = 0.0\n",
    "y0 = 0.0\n",
    "\n",
    "g = 9.81\n",
    "\n",
    "L = 4150.0\n",
    "slope = 12.0*np.pi/180.0\n",
    "\n",
    "#unknowns\n",
    "ym = sym.Symbol('ym')\n",
    "xm = sym.Symbol('xm')\n",
    "t = sym.Symbol('t')\n",
    "\n",
    "#xm horizontal distance along the mountain\n",
    "#total horizontal distance from launch point\n",
    "x = L + xm\n",
    "y = ym\n",
    "\n",
    "#equations of projectile motion\n",
    "eq1 = x - (x0 + v0*np.cos(launch_angle)*t )\n",
    "eq2 = y - (y0 + v0*np.sin(launch_angle)*t - 0.5*g*t**2)\n",
    "\n",
    "#three unknowns but only two equations. \n",
    "#Third equation comes from the relationships between mountain coordites\n",
    "eq3 = (ym/xm) - np.tan(slope)\n",
    "\n",
    "sol = sym.solve((eq1,eq2,eq3),(ym,xm,t))\n",
    "#print(sol[1])\n",
    "print('Vertical distance = '+str(sol[1][0]))"
   ]
  },
  {
   "cell_type": "markdown",
   "metadata": {},
   "source": [
    "## Problem C5.8\n",
    "\n",
    "Consider two blocks A and B connected by a massless rope and two massless disks as shown in the Figure.\n",
    "\n",
    "<img src=\"P-C5.8.png\" width=\"400\">\n",
    "\n",
    "Block A has a mass of 2.0 kg and is placed on a frictionless table top. Block B has a mass of 1.5 kg. The blocks are held in place until $t = 0$ s when they are released.\n",
    "\n",
    "1. Draw a free-body-diagram of each block.\n",
    "2. What is an equation of constraint in this problem?\n",
    "3. Find the acceleration of block B using Newton's 2nd law.\n",
    "4. If the initial distance between Block B and the floor is 1.2 m, how long time does it take to reach the floor?\n",
    "5. What is the speed of block B right before it hits the floor?\n",
    "\n",
    "<hr style=\"height:2px;border-width:0;color:gray;background-color:gray\">"
   ]
  },
  {
   "cell_type": "code",
   "execution_count": 30,
   "metadata": {
    "tags": [
     "hide-input",
     "hide-output"
    ]
   },
   "outputs": [
    {
     "name": "stdout",
     "output_type": "stream",
     "text": [
      "Part 3: Acceleration = 1.54894736842105\n",
      "Part 4: Time = 1.24478380955082\n",
      "Part 5: speed = 1.92838050000000\n"
     ]
    }
   ],
   "source": [
    "import sympy as sym\n",
    "import numpy as np\n",
    "\n",
    "#part 3\n",
    "#masses of blocks \n",
    "mA = 2.0\n",
    "mB = 1.5\n",
    "\n",
    "g = 9.81\n",
    "\n",
    "#unknowns\n",
    "aAx = sym.Symbol('aAx')\n",
    "aBy = sym.Symbol('aBy')\n",
    "fTA = sym.Symbol('fTA')\n",
    "fTB = sym.Symbol('fTB')\n",
    "\n",
    "#coordinate system steup:\n",
    "# x positive to the right\n",
    "# y positive downwards\n",
    "\n",
    "#N2 block A \n",
    "#x direction\n",
    "eq1 = mA*aAx - fTA\n",
    "#y direction for block A is not needed to solve the problem\n",
    "\n",
    "#N2 block B\n",
    "#y direction\n",
    "eq2 = mB*aBy + fTB - mB*g\n",
    "\n",
    "#N2 disk (massless)\n",
    "#eq3 = mD*aDy + 2*fTA - fTB - mD*g if not massless\n",
    "eq3 =  2*fTA - fTB   #since it is massless\n",
    "\n",
    "#Equation of constrain for long rope gives us \n",
    "#the accelerations of the two objects are\n",
    "eq4 = aAx - 2*aBy\n",
    "\n",
    "sol1 = sym.solve((eq1,eq2,eq3,eq4),(aAx, aBy, fTA, fTB))\n",
    "print('Part 3: Acceleration = '+str(sol1[aBy]))\n",
    "#part 4\n",
    "y0 = 0.0\n",
    "y = 1.2\n",
    "v0y = 0.0 \n",
    "aBy = 1.5489\n",
    "\n",
    "t = sym.Symbol('t')\n",
    "eq5 = y - y0 - v0y*t - 0.5*aBy*t**2\n",
    "sol2 = sym.solve(eq5,t)\n",
    "print('Part 4: Time = '+str(sol2[1]))\n",
    "\n",
    "#part 5\n",
    "t = 1.245\n",
    "\n",
    "vy = sym.Symbol('vy')\n",
    "eq6 = vy - v0y - aBy*t\n",
    "sol3 = sym.solve(eq6,vy)\n",
    "print('Part 5: speed = '+str(sol3[0]))"
   ]
  }
 ],
 "metadata": {
  "celltoolbar": "Tags",
  "kernelspec": {
   "display_name": "Python 3 (ipykernel)",
   "language": "python",
   "name": "python3"
  },
  "language_info": {
   "codemirror_mode": {
    "name": "ipython",
    "version": 3
   },
   "file_extension": ".py",
   "mimetype": "text/x-python",
   "name": "python",
   "nbconvert_exporter": "python",
   "pygments_lexer": "ipython3",
   "version": "3.10.9"
  }
 },
 "nbformat": 4,
 "nbformat_minor": 4
}
