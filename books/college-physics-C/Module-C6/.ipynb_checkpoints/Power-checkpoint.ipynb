{
 "cells": [
  {
   "cell_type": "markdown",
   "metadata": {},
   "source": [
    "# B6.5 Power\n",
    "<hr style=\"height:2px;border-width:0;color:gray;background-color:gray\">"
   ]
  },
  {
   "cell_type": "markdown",
   "metadata": {},
   "source": [
    "## C6.5.1 Motivation\n",
    "\n",
    "Power is a concept that is often used in everyday language, but not necessarily with a proper physical understanding of it. We will try and get that understanding here.\n",
    "\n",
    "<hr style=\"height:2px;border-width:0;color:gray;background-color:gray\">"
   ]
  },
  {
   "cell_type": "markdown",
   "metadata": {},
   "source": [
    "## C6.5.2  Average Power\n",
    "\n",
    "The average power is the energy transfer over some period of time:\n",
    "\n",
    "$$ p_{av} = \\frac{w}{\\Delta t} $$\n",
    "\n",
    "This equation should upset all of us: we only have one difference factor and that is mathematically not acceptable and is the pickle I have with this definition. Sometimes it is written in terms of $\\Delta W$ which is the change of the energy transfer and does not make sense per definition of power. \n",
    "\n",
    "Instead, we can save our mathematical ass by writing the work as $ w = \\vec{f}\\cdot\\Delta\\vec{r} $. In this case, we then have\n",
    "\n",
    "<div class=\"alert alert-success\">\n",
    "    \n",
    "$$ p_{av} = \\frac{\\vec{f}\\cdot\\Delta\\vec{r}}{\\Delta t} $$\n",
    "</div>\n",
    "\n",
    "We now have as a proper ratio of differences suggesting that the result is an **average** parameter. Since $\\Delta\\vec{r}/\\Delta t = \\vec{v}_{av}$, we can also write it as\n",
    "\n",
    "<div class=\"alert alert-success\">\n",
    "    \n",
    "$$ p_{av} = \\vec{f}\\cdot\\vec{v}_{av} $$\n",
    "</div>\n",
    "\n",
    "<hr style=\"height:2px;border-width:0;color:gray;background-color:gray\">"
   ]
  }
 ],
 "metadata": {
  "celltoolbar": "Tags",
  "kernelspec": {
   "display_name": "Python 3 (ipykernel)",
   "language": "python",
   "name": "python3"
  },
  "language_info": {
   "codemirror_mode": {
    "name": "ipython",
    "version": 3
   },
   "file_extension": ".py",
   "mimetype": "text/x-python",
   "name": "python",
   "nbconvert_exporter": "python",
   "pygments_lexer": "ipython3",
   "version": "3.9.12"
  }
 },
 "nbformat": 4,
 "nbformat_minor": 4
}
