{
 "cells": [
  {
   "cell_type": "markdown",
   "metadata": {},
   "source": [
    "#  C2.8 Addition of Vectors: Geometric Approach\n",
    "<hr style=\"height:2px;border-width:0;color:gray;background-color:gray\">"
   ]
  },
  {
   "cell_type": "markdown",
   "metadata": {},
   "source": [
    "##  C2.8.1 A Visual Approach\n",
    "\n",
    "We will learn two methods of adding vectors: geometric and analytic. The geometric is a quick approach to adding vectors for visualization but may often lack quantitative information, which is provided by the analytic approach. We will be using both approaches throughout the semester.\n",
    "\n",
    "From the previous notes, <b>Concept of Displacement Vector</b>, we applied our understanding of a change in position to geometrically explain it through vectors. In fact, we inferred the following (quote from previous notes):\n",
    "\n",
    "<div class=\"alert alert-info\">\n",
    "    \n",
    "\"In this example, we may conclude the following. If we follow the initial position vector $\\vec{x}_A$ from tail to head, then continue along the displacement $\\Delta\\vec{x}$, we end up at the tip of the final position vector $\\vec{x}_B$. This is a general rule for geometric addition of vectors, which we will cover in the next segment.\"\n",
    "</div>\n",
    "\n",
    "<hr style=\"height:2px;border-width:0;color:gray;background-color:gray\">"
   ]
  },
  {
   "cell_type": "markdown",
   "metadata": {},
   "source": [
    "## C2.8.2 Addition of Vectors\n",
    "While the above was inferred from vectors in 1D, we will take this as a methodology to add two vectors in 2D and higher:\n",
    "\n",
    "<div class=\"alert alert-success\">\n",
    "Consider two vectors. Place the initial point (a.k.a. the tail) of the second vector at the terminal point (a.k.a. the head) of the first vector. The resulting vector is the directed line segment from the initial point of the first vector to the terminal point of the second vector.\n",
    "</div>\n",
    "\n",
    "It is important here to remember that a <b>true</b> vector depends only on its length and direction, not where it is otherwise located. That implies we are free to move them around as long as the length and direction does not change.\n",
    "\n",
    "Below I will try and illustrate the process explained above through a Python script.\n",
    "<hr style=\"height:2px;border-width:0;color:gray;background-color:gray\">"
   ]
  },
  {
   "cell_type": "markdown",
   "metadata": {},
   "source": [
    "### Visualization\n",
    "First, let us copy and paste the last bit of code from the *Position Vector* notes. It was the code that could plot two (or more) position vectors. I will plot two position vectors: \n",
    "\n",
    "$$ \\vec{r}_1 = \\begin{bmatrix} 1  \\\\ 2  \\end{bmatrix} $$\n",
    "\n",
    "and\n",
    "\n",
    "$$ \\vec{r}_2 = \\begin{bmatrix} 3  \\\\ 1  \\end{bmatrix} $$"
   ]
  },
  {
   "cell_type": "code",
   "execution_count": 44,
   "metadata": {
    "tags": [
     "hide-input"
    ]
   },
   "outputs": [
    {
     "data": {
      "image/png": "[encoded data removed]",
      "text/plain": [
       "<Figure size 432x288 with 1 Axes>"
      ]
     },
     "metadata": {
      "needs_background": "light"
     },
     "output_type": "display_data"
    }
   ],
   "source": [
    "import numpy as np\n",
    "import matplotlib.pyplot as plt\n",
    "\n",
    "%matplotlib inline\n",
    "\n",
    "def draw(v1, v2): \n",
    "    array = np.array([[0, 0, v1[0], v1[1]], \n",
    "                      [0,0, v2[0], v2[1]]])\n",
    "    X, Y, U, V = zip(*array)\n",
    "    plt.figure()\n",
    "    plt.ylabel('y-position')\n",
    "    plt.xlabel('x-position')\n",
    "    ax = plt.gca()\n",
    "    ax.quiver(X, Y, U, V, angles='xy', scale_units='xy',color=['r','b'], scale=1)\n",
    "    ax.set_xlim([0,5])\n",
    "    ax.set_ylim([0,5])\n",
    "    plt.draw()\n",
    "    plt.show()\n",
    "    \n",
    "draw([1,2],[3,1])"
   ]
  },
  {
   "cell_type": "markdown",
   "metadata": {},
   "source": [
    "We notice that these are position vectors and <b>always</b> have their initial point at the origin of the coordinate system. This is a feature that suggest that they are not a real vector, but instead a pseudo vector as they behave differently under a coordinate transformation (that is just sexy linear algebra talk that we will not worry about in this class). \n",
    "\n",
    "Now, instead let us consider the two vectors to be real vectors. That implies that <b>we can move them around as we want to as long as we do not change their length and direction</b>."
   ]
  },
  {
   "cell_type": "code",
   "execution_count": 35,
   "metadata": {
    "tags": [
     "hide-input"
    ]
   },
   "outputs": [
    {
     "data": {
      "image/png": "[encoded data removed]",
      "text/plain": [
       "<Figure size 432x288 with 1 Axes>"
      ]
     },
     "metadata": {
      "needs_background": "light"
     },
     "output_type": "display_data"
    }
   ],
   "source": [
    "import numpy as np\n",
    "import matplotlib.pyplot as plt\n",
    "\n",
    "%matplotlib inline\n",
    "\n",
    "def draw(v1, v2): \n",
    "    array = np.array([[1, 2, v1[0], v1[1]], \n",
    "                      [2,3, v2[0], v2[1]]])\n",
    "    X, Y, U, V = zip(*array)\n",
    "    \n",
    "    plt.figure()\n",
    "    plt.ylabel('y-position')\n",
    "    plt.xlabel('x-position')\n",
    "    ax = plt.gca()\n",
    "    ax.quiver(X, Y, U, V, angles='xy', scale_units='xy',color=['r','b'], scale=1)\n",
    "    ax.set_xlim([0,5])\n",
    "    ax.set_ylim([0,5])\n",
    "    plt.draw()\n",
    "    plt.show()\n",
    "    \n",
    "draw([1,2],[3,1])"
   ]
  },
  {
   "cell_type": "markdown",
   "metadata": {},
   "source": [
    "The vectors are now just somewhere else, but they are indeed the same vectors since they have the same length and direction as before (of course, they are no longer position vectors).\n",
    "\n",
    "Now we are ready to employ our observation/definition from the top of the notes. Let us put them head to tail: <b>the second vector (blue) is positioned such that its tail is at the same location as the arrowhead of the first (red) vector</b>."
   ]
  },
  {
   "cell_type": "code",
   "execution_count": 9,
   "metadata": {
    "tags": [
     "hide-input"
    ]
   },
   "outputs": [
    {
     "data": {
      "image/png": "[encoded data removed]",
      "text/plain": [
       "<Figure size 432x288 with 1 Axes>"
      ]
     },
     "metadata": {
      "needs_background": "light"
     },
     "output_type": "display_data"
    }
   ],
   "source": [
    "import numpy as np\n",
    "import matplotlib.pyplot as plt\n",
    "\n",
    "%matplotlib inline\n",
    "\n",
    "def draw(v1, v2): \n",
    "    array = np.array([[1, 1, v1[0], v1[1]], \n",
    "                      [2,3, v2[0], v2[1]]])\n",
    "    X, Y, U, V = zip(*array)\n",
    "    plt.figure()\n",
    "    plt.ylabel('y-position')\n",
    "    plt.xlabel('x-position')\n",
    "    ax = plt.gca()\n",
    "    ax.quiver(X, Y, U, V, angles='xy', scale_units='xy',color=['r','b'], scale=1)\n",
    "    ax.set_xlim([0, 5])\n",
    "    ax.set_ylim([0, 5])\n",
    "    plt.draw()\n",
    "    plt.show()\n",
    "    \n",
    "draw([1,2],[3,1])"
   ]
  },
  {
   "cell_type": "markdown",
   "metadata": {},
   "source": [
    "If we go back to our interpretation of the displament vector, then we had the first vector being our initial position vector (red), our second vector is the displacement vector (blue), and the directed line segment from the initial position (tail of first vector) to the final position (arrow head of second vector) was the new position: or the result of the adding the two vectors. Hence, if we draw this directed line segment, we will get the result of adding the two vectors:"
   ]
  },
  {
   "cell_type": "code",
   "execution_count": 23,
   "metadata": {
    "tags": [
     "hide-input"
    ]
   },
   "outputs": [
    {
     "data": {
      "image/png": "[encoded data removed]",
      "text/plain": [
       "<Figure size 432x288 with 1 Axes>"
      ]
     },
     "metadata": {
      "needs_background": "light"
     },
     "output_type": "display_data"
    }
   ],
   "source": [
    "import numpy as np\n",
    "import matplotlib.pyplot as plt\n",
    "\n",
    "%matplotlib inline\n",
    "\n",
    "def draw(v1, v2): \n",
    "    x_sum = v1[0]+v2[0]\n",
    "    y_sum = v1[1]+v2[1]\n",
    "            \n",
    "    array = np.array([[1, 1, v1[0], v1[1]], \n",
    "                      [v1[0]+1, v1[1]+1, v2[0], v2[1]], \n",
    "                      [1, 1, x_sum, y_sum]])\n",
    "    \n",
    "    X, Y, U, V = zip(*array)\n",
    "    plt.figure()\n",
    "    plt.ylabel('y-axis')\n",
    "    plt.xlabel('x-axis')\n",
    "    ax = plt.gca()\n",
    "    ax.quiver(X, Y, U, V, angles='xy', scale_units='xy',color=['r','b','g'],scale=1)\n",
    "    ax.set_xlim([0, 5])\n",
    "    ax.set_ylim([0, 5])\n",
    "    plt.draw()\n",
    "    plt.show()\n",
    "\n",
    "draw([1,2],[3,1])"
   ]
  },
  {
   "cell_type": "markdown",
   "metadata": {},
   "source": [
    "In the above plot, the green arrow (or vector) is the result of adding the two vectors (the red and blue). Pretty awesome, don't ya think?\n",
    "<hr style=\"height:2px;border-width:0;color:gray;background-color:gray\">"
   ]
  },
  {
   "cell_type": "markdown",
   "metadata": {},
   "source": [
    "### Script Clean-Up and Comments\n",
    "At this point, I would like to clear up the code a little bit and provide some comments to the code for those of you who may be inclined to learn a bit more about what we did. We should notice that we rely heavily on the components of the vectors!"
   ]
  },
  {
   "cell_type": "code",
   "execution_count": 38,
   "metadata": {
    "tags": [
     "hide-input"
    ]
   },
   "outputs": [
    {
     "data": {
      "image/png": "[encoded data removed]",
      "text/plain": [
       "<Figure size 432x288 with 1 Axes>"
      ]
     },
     "metadata": {
      "needs_background": "light"
     },
     "output_type": "display_data"
    }
   ],
   "source": [
    "# Import functions from NUMerical PYthon (use for arrays)\n",
    "import numpy as np\n",
    "# Import functions from MatPlotLib (use for plotting)\n",
    "import matplotlib.pyplot as plt\n",
    "\n",
    "###############################\n",
    "\n",
    "# The next line make the plot appear in the Jupyter code cell \n",
    "# instead of opening a separate window\n",
    "%matplotlib inline\n",
    "\n",
    "##############################\n",
    "# Define a function to take two vectors v1 and v2, and the location of the first vector\n",
    "# as input, add them together and plot it\n",
    "# We will call the function \"add_vectors\"\n",
    "\n",
    "def add_vectors(v1, v2, location): \n",
    "    # the input vectors have components \n",
    "    # v1_x = v1[0], v1_y = v1[1]\n",
    "    # v2_x = v2[0], v2_y = v2[1]\n",
    "    # adding vectors simply means we are adding the vector components together: \n",
    "    \n",
    "    x_sum = v1[0]+v2[0]\n",
    "    y_sum = v1[1]+v2[1]\n",
    "    \n",
    "    #take the location of the first vector and split into its x and y locations \n",
    "    x_loc = location[0]\n",
    "    y_loc = location[1]\n",
    "           \n",
    "    # tricky part: put the information into an array: \n",
    "    # three vectors separated by [start_x, start_y, length in x, length in y],[...],[...]\n",
    "    # where the length in x and y are the vector components.\n",
    "    array = np.array([[x_loc, y_loc, v1[0], v1[1]], \n",
    "                      [v1[0]+x_loc, v1[1]+y_loc, v2[0], v2[1]], \n",
    "                      [x_loc, x_loc, x_sum, y_sum]])\n",
    "    \n",
    "    # unzipping the array and store information into variables X, Y, U, V which is used \n",
    "    # by the plotting function \"quiver\"\n",
    "    X, Y, U, V = zip(*array)\n",
    "    \n",
    "    #Define plotting environment\n",
    "    plt.figure()\n",
    "    plt.ylabel('y-axis')\n",
    "    plt.xlabel('x-axis')\n",
    "    ax = plt.gca()\n",
    "    ax.quiver(X, Y, U, V, angles='xy', scale_units='xy',color=['r','b','g'],scale=1)\n",
    "    ax.set_xlim([0, 5])\n",
    "    ax.set_ylim([0, 5])\n",
    "    plt.draw()\n",
    "    plt.show()\n",
    "    \n",
    "    #end of definition\n",
    "\n",
    "# MAIN PROGRAM\n",
    "\n",
    "# define the location of vector 1\n",
    "vec1_loc = [1,1]\n",
    "\n",
    "# define our two vectors to add\n",
    "vec1 = [1,2]\n",
    "vec2 = [3,1]\n",
    "\n",
    "# call the definition we created\n",
    "add_vectors(vec1,vec2,vec1_loc)"
   ]
  },
  {
   "cell_type": "markdown",
   "metadata": {},
   "source": [
    "**PHEW** Give your self a pad on the back, go and cool down, let the frustration loose, grab you favorite drink and come back! Holy smoke, **this is not a programming class**. No, and if you are not comfortable with the code or it is completely nonsense, do not worry. I am just providing it to you to be able to illustrate the process of adding vectors. Now, we can change the numbers in the code to visualize any vector additions of two vectors. Can your textbook do that? &#129322;\n",
    "\n",
    "<hr style=\"height:2px;border-width:0;color:gray;background-color:gray\">"
   ]
  },
  {
   "cell_type": "markdown",
   "metadata": {},
   "source": [
    "<div class=\"alert alert-warning\">\n",
    "    <b>Box 1</b><br>\n",
    "    \n",
    "Consider two vectors: $\\vec{A} = (2,2)$ and $\\vec{B} = (3,0)$. Let $\\vec{A}$ be located at (0, 0). Make a hand-drawn sketch showing the two vectors and the sum of the two vectors. \n",
    "</div>\n",
    "\n",
    "<hr style=\"height:2px;border-width:0;color:gray;background-color:gray\">"
   ]
  },
  {
   "cell_type": "markdown",
   "metadata": {},
   "source": [
    "## C2.8.3 Subtraction of Vectors\n",
    "This one is actually easy! Again, it is a consequence of axioms in algebra. For each element in the algebra, there exist an element with opposite sign such that the addition of the element and its \"negative\" is zero. For example: 2 + (-2) = 0. We call this subtraction: \n",
    "\n",
    "<span style=\"color:red\">subtraction is the same as addition with the negative element</span>\n",
    "\n",
    "Hence, if we have two vectors $\\vec{A}$ and $\\vec{B}$, then the subtraction $\\vec{A} - \\vec{B}$ is the equivalent of $\\vec{A} + (-\\vec{B})$. To create the negative of a vector, we simply multiply all its components by (-1).\n",
    "\n",
    "We can take our code and show how it works with subtraction. \n",
    "<hr style=\"height:2px;border-width:0;color:gray;background-color:gray\">"
   ]
  },
  {
   "cell_type": "markdown",
   "metadata": {},
   "source": [
    "<div style=\"background-color: #D0D0D0 ; padding: 10px; border: 1px solid black;\">\n",
    "<header>\n",
    "<h3> Example 1</h3>\n",
    "    </header>\n",
    "    \n",
    "Let us consider the following two vectors:\n",
    "    \n",
    "$$ \\vec{r}_1 = \\begin{bmatrix} 1  \\\\ 2  \\end{bmatrix} $$\n",
    "    \n",
    "and\n",
    "    \n",
    "$$ \\vec{r}_2 = \\begin{bmatrix} 3  \\\\ 1  \\end{bmatrix} $$\n",
    "    \n",
    "and find the vector $\\vec{r}_2 - \\vec{r}_1$.\n",
    "\n",
    "To do that, we will first find the negative of $\\vec{r}_1$:\n",
    "    \n",
    "$$ -\\vec{r}_1 = \\begin{bmatrix} -1  \\\\ -2  \\end{bmatrix} $$\n",
    "    \n",
    "and then we will perform the *addition*: $\\vec{r}_2 + (-\\vec{r}_1)$.\n",
    "</div>"
   ]
  },
  {
   "cell_type": "code",
   "execution_count": 36,
   "metadata": {
    "tags": [
     "hide-input"
    ]
   },
   "outputs": [
    {
     "data": {
      "image/png": "[encoded data removed]",
      "text/plain": [
       "<Figure size 432x288 with 1 Axes>"
      ]
     },
     "metadata": {
      "needs_background": "light"
     },
     "output_type": "display_data"
    }
   ],
   "source": [
    "# Import functions from NUMerical PYthon (use for arrays)\n",
    "import numpy as np\n",
    "# Import functions from MatPlotLib (use for plotting)\n",
    "import matplotlib.pyplot as plt\n",
    "\n",
    "###############################\n",
    "\n",
    "# The next line make the plot appear in the Jupyter code cell \n",
    "# instead of opening a separate window\n",
    "%matplotlib inline\n",
    "\n",
    "##############################\n",
    "# Define a function to take two vectors v1 and v2, and the location of the first vector\n",
    "# as input, add them together and plot it\n",
    "# We will call the function \"add_vectors\"\n",
    "\n",
    "def add_vectors(v1, v2, location): \n",
    "    # the input vectors have components \n",
    "    # v1_x = v1[0], v1_y = v1[1]\n",
    "    # v2_x = v2[0], v2_y = v2[1]\n",
    "    # adding vectors simply means we are adding the vector components together: \n",
    "    \n",
    "    x_sum = v1[0]+v2[0]\n",
    "    y_sum = v1[1]+v2[1]\n",
    "    \n",
    "    #take the location of the first vector and split into its x and y locations \n",
    "    x_loc = location[0]\n",
    "    y_loc = location[1]\n",
    "           \n",
    "    # tricky part: put the information into an array: \n",
    "    # three vectors separated by [start_x, start_y, length in x, length in y],[...],[...]\n",
    "    # where the length in x and y are the vector components.\n",
    "    array = np.array([[x_loc, y_loc, v1[0], v1[1]], \n",
    "                      [v1[0]+x_loc, v1[1]+y_loc, v2[0], v2[1]], \n",
    "                      [x_loc, x_loc, x_sum, y_sum]])\n",
    "    \n",
    "    # unzipping the array and store information into variables X, Y, U, V which is used \n",
    "    # by the plotting function \"quiver\"\n",
    "    X, Y, U, V = zip(*array)\n",
    "    \n",
    "    #Define plotting environment\n",
    "    plt.figure()\n",
    "    plt.ylabel('y-axis')\n",
    "    plt.xlabel('x-axis')\n",
    "    ax = plt.gca()\n",
    "    ax.quiver(X, Y, U, V, angles='xy', scale_units='xy',color=['r','b','g'],scale=1)\n",
    "    ax.set_xlim([0, 5])\n",
    "    ax.set_ylim([-5, 5])\n",
    "    plt.draw()\n",
    "    plt.show()\n",
    "    \n",
    "    #end of definition\n",
    "\n",
    "# MAIN PROGRAM\n",
    "\n",
    "# define the location of vector 1\n",
    "vec1_loc = [0,0]\n",
    "\n",
    "# define our two vectors to add\n",
    "vec1 = [3,1]\n",
    "vec2 = [-1,-2]\n",
    "\n",
    "# call the definition we created\n",
    "add_vectors(vec1,vec2,vec1_loc)"
   ]
  },
  {
   "cell_type": "markdown",
   "metadata": {},
   "source": [
    "<hr style=\"height:2px;border-width:0;color:gray;background-color:gray\">"
   ]
  },
  {
   "cell_type": "markdown",
   "metadata": {},
   "source": [
    "<div class=\"alert alert-warning\">\n",
    "    <b>Box 5</b><br>\n",
    "    \n",
    "Consider two vectors: $\\vec{A} = (5,0)$ and $\\vec{B} = (3,0)$. Let $\\vec{A}$ be located at (0, 0). Make plots/sketches of the following: \n",
    "    <br>\n",
    "    <br>\n",
    "    $\\vec{A} - \\vec{B}$<br>\n",
    "    <br>\n",
    "    $\\vec{B} - \\vec{A}$\n",
    "</div>\n",
    "\n",
    "<hr style=\"height:2px;border-width:0;color:gray;background-color:gray\">"
   ]
  },
  {
   "cell_type": "markdown",
   "metadata": {},
   "source": [
    "## 2.8.4 Useful Axioms of Algebra\n",
    "I have now touted linear algebra several times, so let us just throw some familiar (I hope) terms out there. In Linear Algebra, you will learn about the axioms of vector spaces. Some of them are similar to the axioms that\n",
    "we are familiar with from elementary school algebra (it is a travesty that they are not termed axioms at that stage\n",
    "and their importance highlighted). The axioms we may encounter in the course relates to the following:\n",
    "\n",
    "* Commutative Law of Addition: $\\vec{A} + \\vec{B} = \\vec{B} + \\vec{A}$\n",
    "* Associative Law of Addition: $\\vec{A} + (\\vec{B} + \\vec{C}) = (\\vec{A} + \\vec{B}) + \\vec{C}$\n",
    "* Distributive Law(s) : \n",
    "    *  $a(b\\vec{A}) = (ab)\\vec{A}$\n",
    "    *  $(a + b)\\vec{A} = a\\vec{A} + b\\vec{A}$\n",
    "    *  $a(\\vec{A} + \\vec{B}) = a\\vec{A} + a\\vec{B}$\n",
    "\n",
    "where $a$ and $b$ are scalars.\n",
    "\n",
    "<hr style=\"height:2px;border-width:0;color:gray;background-color:gray\">"
   ]
  },
  {
   "cell_type": "markdown",
   "metadata": {},
   "source": [
    "<div class=\"alert alert-warning\">\n",
    "    <b>Box 6</b><br>\n",
    "    \n",
    "An ant is walking from a position of (x$_0$, y$_0$) = (3, 1) to a final position of (x, y) = (-2, 5).\n",
    "\n",
    "1. Make a sketch of the two position vectors $\\vec{r}_0$ and $\\vec{r}$, and the displacement vector $\\Delta\\vec{r}$.\n",
    "2. Make a geometrical sketch showing the vector subtraction $\\Delta\\vec{r} = \\vec{r} - \\vec{r}_0$.\n",
    "3. Find the components $\\Delta r_x$ and $\\Delta r_y$ of the displacement vector.\n",
    "4. Find the magnitude and direction of the displacement.\n",
    "\n",
    "</div>\n",
    "\n",
    "\n",
    "<hr style=\"height:2px;border-width:0;color:gray;background-color:gray\">"
   ]
  }
 ],
 "metadata": {
  "celltoolbar": "Tags",
  "kernelspec": {
   "display_name": "Python 3 (ipykernel)",
   "language": "python",
   "name": "python3"
  },
  "language_info": {
   "codemirror_mode": {
    "name": "ipython",
    "version": 3
   },
   "file_extension": ".py",
   "mimetype": "text/x-python",
   "name": "python",
   "nbconvert_exporter": "python",
   "pygments_lexer": "ipython3",
   "version": "3.10.9"
  }
 },
 "nbformat": 4,
 "nbformat_minor": 4
}
