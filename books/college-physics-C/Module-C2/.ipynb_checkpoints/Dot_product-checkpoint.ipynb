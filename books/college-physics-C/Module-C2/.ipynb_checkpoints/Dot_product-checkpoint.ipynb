{
 "cells": [
  {
   "cell_type": "markdown",
   "metadata": {},
   "source": [
    "# C2.10 Dot Product\n",
    "<hr style=\"height:2px;border-width:0;color:gray;background-color:gray\">"
   ]
  },
  {
   "cell_type": "markdown",
   "metadata": {},
   "source": [
    "## C2.10.1 Why We Need the Dot Product\n",
    "The <span style=\"color:red\">dot product</span> is one of two vector operations aside from the arithmetic operations we have seen so far that we will use in PHYS2210. The dot product is also known as the <span style=\"color:red\">scalar product</span> since it returns a <i>scalar value</i>.\n",
    "\n",
    "The dot product is a very important operation in physics. For example, one of the most important concepts in Newtonian physics is the <i>mechanical work</i> or <i>energy transfer</i> by a force acting over a distance. This quantity is defined mathematically through a dot product.\n",
    "\n",
    "As we have done so far with vectors, we will define the dot product in two forms: geometrically and analytically.\n",
    "<hr style=\"height:2px;border-width:0;color:gray;background-color:gray\">"
   ]
  },
  {
   "cell_type": "markdown",
   "metadata": {},
   "source": [
    "## C2.10.2 Geometrical Defintion\n",
    "As the subtitle says, this definition relies on vector quantities we associate with the geometry of the vectors such as length and angle. We define the dot product between two vectors $\\vec{A}$ and $\\vec{B}$ as\n",
    "\n",
    "<div class=\"alert alert-success\">\n",
    "    \n",
    "$$ \\vec{A} \\cdot \\vec{B} = |\\vec{A}|~|\\vec{B}|~\\cos\\theta $$\n",
    "</div>\n",
    "\n",
    "where $|\\vec{A}|$ and $|\\vec{B}|$ are the magnitudes (or lengths) of the two vectors and $\\theta$ is the angle between the two vectors. From the notation, it may be evident why it is called the dot product. \n",
    "\n",
    "<div class=\"alert alert-danger\">\n",
    "Taking the dot product between two vectors results in a scalar value.\n",
    " \n",
    "</div>\n",
    "<hr style=\"height:2px;border-width:0;color:gray;background-color:gray\">"
   ]
  },
  {
   "cell_type": "markdown",
   "metadata": {},
   "source": [
    "<div style=\"background-color: #D0D0D0 ; padding: 10px; border: 1px solid black;\">       \n",
    "<header>\n",
    "<h3> Example 1</h3>\n",
    "    </header>\n",
    "    \n",
    "Consider a vector $\\vec{A}$ with a length of 5.0 units and a vector $\\vec{B}$ with a length of 3.0 units (let us ignore the units for now). The angle between the two vectors is $\\theta = 15^\\circ$. The dot product between the two vectors is\n",
    "\n",
    "$$ \\vec{A} \\cdot \\vec{B} = |\\vec{A}|~|\\vec{B}|~\\cos\\theta $$\n",
    "\n",
    "$$ \\vec{A} \\cdot \\vec{B} = (5.0)~(3.0)~\\cos(15^\\circ) $$\n",
    "\n",
    "$$ \\vec{A} \\cdot \\vec{B} = 14 $$\n",
    "\n",
    "We notice that this is just a number. There is no direction associated with this answer, and it is therefore a scalar value.\n",
    "</div>\n",
    "<hr style=\"height:2px;border-width:0;color:gray;background-color:gray\">"
   ]
  },
  {
   "cell_type": "markdown",
   "metadata": {},
   "source": [
    "<div style=\"background-color: #D0D0D0 ; padding: 10px; border: 1px solid black;\">       \n",
    "<header>\n",
    "<h3> Example 2</h3>\n",
    "    </header>\n",
    "    \n",
    "Let us calculate the dot product between unit vectors. The magnitude of each unit vector is 1, and we know that $\\hat{e}_x$ and $\\hat{e}_y$ are perpendicular. With that in mind, we have the following relationships for the dot products between unit vectors:\n",
    "\n",
    "$$\\hat{e}_x \\cdot \\hat{e}_x = (1)~(1)~\\cos(0) = 1 $$\n",
    "\n",
    "since the angle between a vector and itself is $0^\\circ$. \n",
    "\n",
    "$$\\hat{e}_x \\cdot \\hat{e}_y = (1)~(1)~\\cos(90) = 0 $$\n",
    "\n",
    "$$\\hat{e}_y \\cdot \\hat{e}_x = (1)~(1)~\\cos(90) = 0 $$\n",
    "\n",
    "The dot product is commutative!\n",
    "\n",
    "and finally,\n",
    "\n",
    "$$\\hat{e}_y \\cdot \\hat{e}_y = (1)~(1)~\\cos(0) = 1 $$\n",
    "</div>\n",
    "<hr style=\"height:2px;border-width:0;color:gray;background-color:gray\">"
   ]
  },
  {
   "cell_type": "markdown",
   "metadata": {},
   "source": [
    "<div class=\"alert alert-warning\">\n",
    "<b>Box 1</b><br>\n",
    "    \n",
    "A vector is directed along the positive x-axis and has a magnitude of 5.0. A second vector has a magnitude of 8.0 and is directed at an angle of 32$^\\circ$ above the positive x-axis. Find the dot product between the two vectors. \n",
    "    \n",
    "</div>\n",
    "\n",
    "<hr style=\"height:2px;border-width:0;color:gray;background-color:gray\">"
   ]
  },
  {
   "cell_type": "markdown",
   "metadata": {},
   "source": [
    "## C2.10.3 Interpretation\n",
    "The dot product is for most students relatively straightforward to calculate. However, the interpretation or its meaning is often missed in the process, or happily forgotten as it may not be important for the exam. Well, welcome to Doc Nielsen's class where concept and understanding is a priority &#129299;\n",
    "\n",
    "I will try and explain it in two ways: a more mathematical form using geometric representation, and a word example using physics. I hope they together will provide you with a conceptual understanding of the dot product.\n",
    "\n",
    "### Approach 1\n",
    "First, let us consider the definition of the dot product:\n",
    "\n",
    "$$ \\vec{A} \\cdot \\vec{B} = |\\vec{A}|~|\\vec{B}|~\\cos\\theta $$\n",
    "\n",
    "but now let us put some parantheses around part of the equation:\n",
    "\n",
    "$$ \\vec{A} \\cdot \\vec{B} = |\\vec{A}|~\\left(|\\vec{B}|~\\cos\\theta \\right)$$\n",
    "\n",
    "From a trigonometric point of view, the value in the parantheses is the <span style=\"color:red\">projection of vector $\\vec{B}$ onto the line of $\\vec{A}$</span> as shown in the figure below.\n",
    "\n",
    "<img src=\"C2-fig14.png\"  width=\"300\"/>\n",
    "\n",
    "The dot product is this projection multiplied by the lenght of vector $\\vec{A}$. We can therefore interpretate the dot product as: \n",
    "\n",
    "<div class=\"alert alert-info\">\n",
    "The dot project is a scaled projection or a measure of how much overlap there is between two vectors.\n",
    "</div>\n",
    "\n",
    "We could also have grouped the factors in the definition equation as (remember, the order of multiplication does not matter):\n",
    "\n",
    "$$ \\vec{A} \\cdot \\vec{B} = |\\vec{B}|~\\left(|\\vec{A}|~\\cos\\theta \\right)$$\n",
    "\n",
    "From a trigonometric point of view, the value in the parantheses is now the <span style=\"color:red\">projection of vector $\\vec{A}$ onto the line of $\\vec{B}$</span> as shown in the figure below.\n",
    "\n",
    "<img src=\"C2-fig15.png\"  width=\"300\"/>\n",
    "\n",
    "Obviously, these two result in the same number as it is the same equation, however, we can make the following observation: the projection of $\\vec{B}$ onto the line of $\\vec{A}$ is less than the projection of $\\vec{A}$ onto the line of $\\vec{B}$, but the scaling is larger in the former case than in the later case, resulting in exactly the same number.\n",
    "\n",
    "### Approach 2\n",
    "The work done by a mechanical force on an object is the dot product between the force acting on the object and the displacement of the object of which the force is acting over. Work is also a measure of energy transfer, in layman's term we may say how much effort is done by the applied force.\n",
    "\n",
    "Imagine we are pushing a box across a horizontal floor, but we are applying a force at an angle with respect to the horizontal. The dot product between the force and the displacement is a measure of the overlap between the two vectors: or how much effort is put into the horizontal displacement of the box by the force. We can imagine two scenarios: \n",
    "\n",
    "(1) a person supplying a larger force applied over a shorter distance or (2) a person supplying a smaller force applied over a larger distance, both can have put equal amount of effort (or transferred the same amount of energy) into moving the box. These scenarios are equivalent to the projection of vectors onto each other as in the previous example.\n",
    "\n",
    "NOTE: when we in daily life say something like: \"it takes a lot of effort\", we are actually referring to that it requires a lot of energy transfer &#129299;\n",
    "<hr style=\"height:2px;border-width:0;color:gray;background-color:gray\">"
   ]
  },
  {
   "cell_type": "markdown",
   "metadata": {},
   "source": [
    "## C2.10.4 Analytic Definition\n",
    "In the analytic definition, we work in terms of the components of the vectors. To derive an equation, we will write the two vectors in terms of their components and unit vectors. We will restrict ourself to 2D for simplicity, but it is straightforward to extend into 3D. Take a deep breath!\n",
    "\n",
    "Consider the vectors\n",
    "\n",
    "$$\\vec{A} = A_{x}\\hat{e}_x  +  A_{y}\\hat{e}_y $$ \n",
    "\n",
    "and \n",
    "\n",
    "$$\\vec{B} = B_{x}\\hat{e}_x  +  B_{y}\\hat{e}_y $$\n",
    "\n",
    "The dot product is then\n",
    "\n",
    "$$\\vec{A} \\cdot \\vec{B} = \\left(A_{x}\\hat{e}_x  +  A_{y}\\hat{e}_y\\right) \\cdot \\left(B_{x}\\hat{e}_x  +  B_{y}\\hat{e}_y\\right) $$\n",
    "\n",
    "Now we distribute the factors through the dot product:\n",
    "\n",
    "$$\\vec{A} \\cdot \\vec{B} = (A_{x}\\hat{e}_x)\\cdot(B_{x}\\hat{e}_x) + (A_{x}\\hat{e}_x)\\cdot(B_{y}\\hat{e}_y)  +  (A_{y}\\hat{e}_y)\\cdot(B_{x}\\hat{e}_x) + (A_{y}\\hat{e}_y)\\cdot(B_{y}\\hat{e}_y) $$\n",
    "\n",
    "Since the dot product is an operation between vectors only, it will only act between the unit vectors and we can move the components outside the dot products:\n",
    "\n",
    "$$\\vec{A} \\cdot \\vec{B} = (A_{x}B_{x})(\\hat{e}_x\\cdot\\hat{e}_x) + (A_{x}B_{y})(\\hat{e}_x\\cdot\\hat{e}_y)  +  (A_{y}B_{x})(\\hat{e}_y\\cdot\\hat{e}_x) + (A_{y}B_{y})(\\hat{e}_y\\cdot\\hat{e}_y) $$\n",
    "\n",
    "We can use the results from Example 2 above regarding the dot products among unit vectors, and we get\n",
    "\n",
    "$$\\vec{A} \\cdot \\vec{B} = (A_{x}B_{x})(1) + (A_{x}B_{y})(0)  +  (A_{y}B_{x})(0) + (A_{y}B_{y})(1) $$\n",
    "\n",
    "We can then write the final result as \n",
    "\n",
    "<div class=\"alert alert-success\">\n",
    "    \n",
    "$$ \\vec{A} \\cdot \\vec{B} = A_{x}B_{x} + A_{y}B_{y} $$\n",
    "</div>\n",
    "\n",
    "<div class=\"alert alert-info\">\n",
    "The dot product in component form is the addition of the products between common components.\n",
    "</div>\n",
    "\n",
    "<hr style=\"height:2px;border-width:0;color:gray;background-color:gray\">"
   ]
  },
  {
   "cell_type": "markdown",
   "metadata": {},
   "source": [
    "<div class=\"alert alert-warning\">\n",
    "<b>Box 2</b><br>\n",
    "    \n",
    "Given two vectors: $\\vec{A} = \\begin{bmatrix} -1.0  \\\\ 4.0 \\\\  \\end{bmatrix}$ and $\\vec{B} = \\begin{bmatrix} 2.0  \\\\ 5.0 \\\\  \\end{bmatrix}$, calculate the dot product between the two vectors.\n",
    "    \n",
    "</div>\n",
    "\n",
    "<hr style=\"height:2px;border-width:0;color:gray;background-color:gray\">"
   ]
  },
  {
   "cell_type": "markdown",
   "metadata": {},
   "source": [
    "<div class=\"alert alert-warning\">\n",
    "<b>Box 3</b><br>\n",
    "    \n",
    "Given two vectors: $\\vec{A} = -3.0\\hat{i} + 2.0\\hat{j}$ and $\\vec{B} = -1.0\\hat{i} + 2.0\\hat{j}$, calculate the dot product between the two vectors.\n",
    "    \n",
    "</div>\n",
    "\n",
    "<hr style=\"height:2px;border-width:0;color:gray;background-color:gray\">"
   ]
  },
  {
   "cell_type": "markdown",
   "metadata": {},
   "source": [
    "## C2.10.5 Important Observations\n",
    "We can make a few observations regarding the dot product that will be very useful throughout the rest of the semester.\n",
    "\n",
    "### 1. Importance of Projection\n",
    "We notice that only the projected component of one vector onto the other vector is important while the perpendicular component plays no role in the dot product. \n",
    "\n",
    "### 2. Magnitude of a Vector\n",
    "If we take the dot product between a vector and itself, we get the square of the magnitude of the vector:\n",
    "\n",
    "$$ \\vec{A}\\cdot\\vec{A} = |\\vec{A}|^2 $$\n",
    "\n",
    "since $|\\vec{A}|^2 = A^2_x + A^2_y$.\n",
    "\n",
    "### 3. Angle between Two Vectors\n",
    "The dot product becomes a tool to find the angle between two vectors\n",
    "\n",
    "$$ \\cos\\theta = \\frac{\\vec{A}\\cdot\\vec{B}}{|\\vec{A}|~|\\vec{B}|} $$\n",
    "\n",
    "<hr style=\"height:2px;border-width:0;color:gray;background-color:gray\">"
   ]
  },
  {
   "cell_type": "markdown",
   "metadata": {},
   "source": [
    "<div class=\"alert alert-warning\">\n",
    "<b>Box 4</b><br>\n",
    "    \n",
    "Apply **Important Observation 1** to the following problem. Consider the three cases. Based on the observation determine, by inspection only, whether the dot product will be: negative, zero, or positive.\n",
    "    <img src=\"C2-fig16.png\"  width=\"600\"/>\n",
    "    \n",
    "</div>\n",
    "\n",
    "<hr style=\"height:2px;border-width:0;color:gray;background-color:gray\">"
   ]
  },
  {
   "cell_type": "markdown",
   "metadata": {},
   "source": [
    "<div class=\"alert alert-warning\">\n",
    "<b>Box 5</b><br>\n",
    "    \n",
    "Apply **Important Observation 1** to the following problem. Consider the three sketches. Based on the observation determine, by inspection only, the ranking of the dot product from smallest to largest.\n",
    "    <img src=\"C2-fig17.png\"  width=\"600\"/>\n",
    "    \n",
    "</div>\n",
    "\n",
    "<hr style=\"height:2px;border-width:0;color:gray;background-color:gray\">"
   ]
  },
  {
   "cell_type": "markdown",
   "metadata": {},
   "source": [
    "<div class=\"alert alert-warning\">\n",
    "<b>Box 6</b><br>\n",
    "    \n",
    "Apply **Important Observation 3** to the following problem. Given two vectors: $\\vec{A} = \\begin{bmatrix} -1.0  \\\\ 4.0  \\end{bmatrix}$ and $\\vec{B} = \\begin{bmatrix} 2.0  \\\\ 5.0  \\end{bmatrix}$, find the angle between the two vectors. HINT: find the dot product first, then the magnitudes, and then apply the observation. As an after thought: how would you have found the angle between them if you did not know of the dot product?\n",
    "    \n",
    "</div>\n",
    "\n",
    "<hr style=\"height:2px;border-width:0;color:gray;background-color:gray\">"
   ]
  },
  {
   "cell_type": "markdown",
   "metadata": {},
   "source": [
    "## C2.10.6 Applications\n"
   ]
  },
  {
   "cell_type": "markdown",
   "metadata": {},
   "source": [
    "<div class=\"alert alert-warning\">\n",
    "<b>Box 7</b><br>\n",
    "    \n",
    "Work (or transfer of energy) done by a force is defined as the dot product between the applied force to an object and the displacement of the object. \n",
    "    \n",
    "$$ w = \\vec{f}\\cdot\\Delta\\vec{r} $$\n",
    "    \n",
    "Consider you are out shopping and are pushing a shopping cart across a distance of 30.0 m along a horizontal floor. You are applying a force of 20.0 N on the handle of the shopping cart that is directed in the same direction as motion, but angled 20.0$^\\circ$ downwards as well.\n",
    "    \n",
    "Make a skecth of the two vectors: force and displacement, and calculate how much work, or energy you transferred to the shopping cart during this distance. NOTE: the unit Nm (Newton meter) is defined as J (Joule).\n",
    "    \n",
    "</div>\n",
    "\n",
    "<hr style=\"height:2px;border-width:0;color:gray;background-color:gray\">"
   ]
  },
  {
   "cell_type": "markdown",
   "metadata": {},
   "source": [
    "<div class=\"alert alert-warning\">\n",
    "<b>Box 8</b><br>\n",
    "    \n",
    "The power is a measure of the rate of energy transfer (or how much work done over a certain time interval). One way to calculate instantaneous power is the dot product between the applied force $\\vec{F}$ and the velocity $\\vec{v}$ of the object:\n",
    "    \n",
    "$$ p = \\vec{f}\\cdot\\vec{v} $$\n",
    "    \n",
    "Consider the box problem above. If you move the shopping cart at 2.0 m/s. What is the instantanous power delivered to the shopping cart? \n",
    "   \n",
    "    \n",
    "</div>\n",
    "\n",
    "<hr style=\"height:2px;border-width:0;color:gray;background-color:gray\">"
   ]
  }
 ],
 "metadata": {
  "kernelspec": {
   "display_name": "Python 3 (ipykernel)",
   "language": "python",
   "name": "python3"
  },
  "language_info": {
   "codemirror_mode": {
    "name": "ipython",
    "version": 3
   },
   "file_extension": ".py",
   "mimetype": "text/x-python",
   "name": "python",
   "nbconvert_exporter": "python",
   "pygments_lexer": "ipython3",
   "version": "3.10.9"
  }
 },
 "nbformat": 4,
 "nbformat_minor": 4
}
