{
 "cells": [
  {
   "cell_type": "markdown",
   "metadata": {},
   "source": [
    "# C2.4 Analytic Representation of a Vector\n",
    "<hr style=\"height:2px;border-width:0;color:gray;background-color:gray\">"
   ]
  },
  {
   "cell_type": "markdown",
   "metadata": {},
   "source": [
    "## C2.4.1 Motivation\n",
    "In most cases in this class, we are using vectors to quantify physical objects and thus require an analytic approach.\n",
    "\n",
    "<hr style=\"height:2px;border-width:0;color:gray;background-color:gray\">"
   ]
  },
  {
   "cell_type": "markdown",
   "metadata": {},
   "source": [
    "## C2.4.2 Vector Components\n",
    "Consider a vector $\\vec{A}$ in a 2D reference frame as shown in the figure below. If we project the two end points of the vector (or arrow) onto the x and y-axis, respectively, then the directed line segments of the projections are the <span style=\"color:red\">components</span> of $\\vec{A}$. We can write them as $A_x$ and $A_y$. \n",
    "\n",
    "<img src=\"C2-fig6.png\"  width=\"500\"/>\n",
    "\n",
    "We can now describe the vector $\\vec{A}$ through its components (or in component form):\n",
    "\n",
    "$$ \\vec{A} = \\begin{bmatrix} A_x  \\\\ A_y  \\end{bmatrix} $$\n",
    "\n",
    "Other ways of writing the same thing:\n",
    "\n",
    "$$ \\vec{A} = ~< A_x , A_y > $$\n",
    "or\n",
    "$$ \\vec{A} = ( A_x, A_y ) $$\n",
    "\n",
    "When we discuss unit vectors, we will see one more way of writing a vector.\n",
    "\n",
    "<hr style=\"height:2px;border-width:0;color:gray;background-color:gray\">"
   ]
  },
  {
   "cell_type": "markdown",
   "metadata": {},
   "source": [
    "## 2. Magnitude of a Vector\n",
    "Since the two projected components and the length of the vector itself form a right-angle triangle, we calculate the\n",
    "magnitude of the vector by applying the Pythagorean theorem:\n",
    "\n",
    "$$ |\\vec{A}| = \\sqrt{ A^{2}_{x} + A^{2}_{y} } $$\n",
    "\n",
    "It can be extended beyond 2D, so in a 3D coordinate\n",
    "system the magnitude of a the vector would be\n",
    "\n",
    "$$ |\\vec{A}| = \\sqrt{ A^{2}_{x} + A^{2}_{y} + A^{2}_{z} } $$\n",
    "\n",
    "<div class=\"alert alert-info\">\n",
    "Side-note: in linear algebra this is called a norm or a metric. These are cool things! In a Minkowski space (most of our Physics 2210 content is limited to Euclidean space), a metric is defined slightly different and it is the realm of special relativity: local space-time. &#10084;</div>\n",
    "\n",
    "<hr style=\"height:2px;border-width:0;color:gray;background-color:gray\">"
   ]
  },
  {
   "cell_type": "markdown",
   "metadata": {},
   "source": [
    "<div class=\"alert alert-warning\">\n",
    "    <b>Box 1</b><br>   \n",
    "    Determine the x and y-components of vector $\\vec{A}$ and its magnitude.\n",
    "    <img src=\"C2-fig7.png\"  width=\"300\"/>\n",
    "</div>\n",
    "\n",
    "<hr style=\"height:2px;border-width:0;color:gray;background-color:gray\">"
   ]
  },
  {
   "cell_type": "markdown",
   "metadata": {},
   "source": [
    "<div class=\"alert alert-warning\">\n",
    "    <b>Box 2</b><br>   \n",
    "    Determine the x and y-components of vector $\\vec{A}$ and its magnitude.\n",
    "    <img src=\"C2-fig8.png\"  width=\"300\"/>\n",
    "</div>\n",
    "\n",
    "<hr style=\"height:2px;border-width:0;color:gray;background-color:gray\">"
   ]
  },
  {
   "cell_type": "markdown",
   "metadata": {},
   "source": [
    "## C2.4.3 Direction of a Vector\n",
    "Above, we saw how we can find the magnitude of a vector if we have knowledge of the vector components. In order to fully describe the vector, we still need to find its direction. The direction can be provided through an angle measured with respect to some reference line. If we draw the vector and its components, we can identify a right-angle triangle and apply trigonometric functions to specify an angle.\n",
    "\n",
    "<img src=\"C2-fig9.png\"  width=\"200\"/>\n",
    "\n",
    "The relation between the angle $\\theta$ and the components $A_x$ (adjacent side) and $A_y$ (opposite side) is\n",
    "\n",
    "$$ \\tan\\theta = \\frac{A_y}{A_x} $$\n",
    "or\n",
    "$$ \\theta = \\tan^{-1}\\left(\\frac{A_y}{A_x}\\right) $$\n",
    "\n",
    "Similar relations exists if we include the magnitude of the vector itself (hypotenuse):\n",
    "\n",
    "$$ \\sin\\theta = \\frac{A_y}{|\\vec{A}|} $$\n",
    "and\n",
    "$$ \\cos\\theta = \\frac{A_x}{|\\vec{A}|} $$\n",
    "\n",
    "<div class=\"alert alert-danger\">\n",
    "Here, we identified x- and y-components based on a standard Cartesion coordinate system for the given triangle. One should avoid associating cosine with x-component and sine with y-component as it depends on choice and orientation of the coordinate axis. Instead, it is advisable to consider each case by itself and go back to basic trigonometric function definition using adjacent and opposite side terminology.</div>\n",
    "\n",
    "<hr style=\"height:2px;border-width:0;color:gray;background-color:gray\">"
   ]
  },
  {
   "cell_type": "markdown",
   "metadata": {},
   "source": [
    "<div class=\"alert alert-warning\">\n",
    "    <b>Box 3</b><br>   \n",
    "    Consider two vectors: $\\vec{A} = \\begin{bmatrix} 3  \\\\ 5  \\end{bmatrix}$ and $\\vec{B} = \\begin{bmatrix} 4  \\\\ 2  \\end{bmatrix}$.\n",
    "  Make a sketch of each vector, and find the magnitude and direction of each vector.\n",
    "</div>\n",
    "\n",
    "<hr style=\"height:2px;border-width:0;color:gray;background-color:gray\">"
   ]
  },
  {
   "cell_type": "markdown",
   "metadata": {},
   "source": [
    "<div class=\"alert alert-warning\">\n",
    "    <b>Box 4</b><br>   \n",
    "    Consider a position vector $\\vec{r}$ with a length of 8.0 m and directed 30$^\\circ$ in counterclockwise direction from the\n",
    "positive x-axis. Find its components $r_x$ and $r_y$.\n",
    "</div>\n",
    "\n",
    "<hr style=\"height:2px;border-width:0;color:gray;background-color:gray\">"
   ]
  }
 ],
 "metadata": {
  "kernelspec": {
   "display_name": "Python 3 (ipykernel)",
   "language": "python",
   "name": "python3"
  },
  "language_info": {
   "codemirror_mode": {
    "name": "ipython",
    "version": 3
   },
   "file_extension": ".py",
   "mimetype": "text/x-python",
   "name": "python",
   "nbconvert_exporter": "python",
   "pygments_lexer": "ipython3",
   "version": "3.10.9"
  }
 },
 "nbformat": 4,
 "nbformat_minor": 4
}
