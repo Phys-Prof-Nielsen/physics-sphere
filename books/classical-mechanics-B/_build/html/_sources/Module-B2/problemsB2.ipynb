{
 "cells": [
  {
   "cell_type": "markdown",
   "metadata": {},
   "source": [
    "# B2.X Problems\n",
    "<hr style=\"height:2px;border-width:0;color:gray;background-color:gray\">"
   ]
  },
  {
   "cell_type": "markdown",
   "metadata": {},
   "source": [
    "<h2>Problem B2.1</h2>\n",
    "    </header>\n",
    "\n",
    "A freight car of mass $M$ contains a mass of sand $m$. At $t = 0$ a constant horizontal force $F$ is applied in the direction of rolling and at the same time a port in the bottom is opened to let the sand flow out at constant rate $dm/dt$. Find the speed of the freight car when all the sand is gone. Assume the freight car is at rest at $t = 0$.\n",
    "\n",
    "*This is Problem 4.10 in Kleppner and Kolenkow*."
   ]
  },
  {
   "cell_type": "code",
   "execution_count": null,
   "metadata": {},
   "outputs": [],
   "source": [
    "# DIY Cell"
   ]
  },
  {
   "cell_type": "code",
   "execution_count": 1,
   "metadata": {
    "tags": [
     "hide-input",
     "hide-output"
    ]
   },
   "outputs": [],
   "source": [
    "%reset -f\n",
    "import sympy as sym\n",
    "import numpy as np"
   ]
  },
  {
   "cell_type": "markdown",
   "metadata": {},
   "source": [
    "<hr style=\"height:2px;border-width:0;color:gray;background-color:gray\">"
   ]
  },
  {
   "cell_type": "markdown",
   "metadata": {},
   "source": [
    "<h2>Problem B2.2</h2>\n",
    "    </header>\n",
    "\n",
    "A sand-spraying locomotive sprays sand horizontally into a freight car as shown in the sketch. The locomotive and freight car are not attached. The engineer in the locomotive maintains his speed so that the distance to the freight car is constant. The sand is transferred at a rate $dm/dt = 10.0$ kg/s with a velocity $5.0$ m/s relative to the locomotive. The freight car starts from rest with an initial mass of $2000.0$ kg. Find its speed after $100.0$ s.\n",
    "\n",
    "<img src=\"P-B2.2.png\" width=\"250\">\n",
    "\n",
    "*This is Problem 4.13 in Kleppner and Kolenkow*."
   ]
  },
  {
   "cell_type": "code",
   "execution_count": null,
   "metadata": {},
   "outputs": [],
   "source": [
    "# DIY Cell"
   ]
  },
  {
   "cell_type": "code",
   "execution_count": 2,
   "metadata": {
    "tags": [
     "hide-input",
     "hide-output"
    ]
   },
   "outputs": [],
   "source": [
    "%reset -f\n",
    "import sympy as sym\n",
    "import numpy as np"
   ]
  },
  {
   "cell_type": "markdown",
   "metadata": {},
   "source": [
    "<hr style=\"height:2px;border-width:0;color:gray;background-color:gray\">"
   ]
  },
  {
   "cell_type": "markdown",
   "metadata": {},
   "source": [
    "<h2>Problem B2.3</h2>\n",
    "    </header>\n",
    "\n",
    "Water shoots out of a fire hydrant having nozzle diameter $D$, with nozzle speed $V_0$. What is the reaction force on the hydrant?\n",
    "\n",
    "*This is Problem 4.22 in Kleppner and Kolenkow*."
   ]
  },
  {
   "cell_type": "code",
   "execution_count": null,
   "metadata": {},
   "outputs": [],
   "source": [
    "# DIY Cell"
   ]
  },
  {
   "cell_type": "code",
   "execution_count": 1,
   "metadata": {
    "tags": [
     "hide-input",
     "hide-output"
    ]
   },
   "outputs": [],
   "source": [
    "%reset -f\n",
    "import sympy as sym\n",
    "import numpy as np"
   ]
  },
  {
   "cell_type": "markdown",
   "metadata": {},
   "source": [
    "<hr style=\"height:2px;border-width:0;color:gray;background-color:gray\">"
   ]
  },
  {
   "cell_type": "markdown",
   "metadata": {},
   "source": [
    "<h2>Problem B2.4</h2>\n",
    "    </header>\n",
    "\n",
    "An inverted garbage can of weight $W$ is suspended in air by water from a geyser. The water shoots up from the ground with a speed $v_0$, at a constant rate $K$ kg/s. The problem is to find the maximum height at which the garbage can rides. Neglect the effect of the water falling away from the garbage can.\n",
    "\n",
    "<img src=\"P-B2.4.png\" width=\"150\">\n",
    "\n",
    "*This is Problem 4.23 in Kleppner and Kolenkow*."
   ]
  },
  {
   "cell_type": "code",
   "execution_count": null,
   "metadata": {},
   "outputs": [],
   "source": [
    "# DIY Cell"
   ]
  },
  {
   "cell_type": "markdown",
   "metadata": {},
   "source": [
    "<hr style=\"height:2px;border-width:0;color:gray;background-color:gray\">"
   ]
  }
 ],
 "metadata": {
  "celltoolbar": "Tags",
  "kernelspec": {
   "display_name": "Python 3 (ipykernel)",
   "language": "python",
   "name": "python3"
  },
  "language_info": {
   "codemirror_mode": {
    "name": "ipython",
    "version": 3
   },
   "file_extension": ".py",
   "mimetype": "text/x-python",
   "name": "python",
   "nbconvert_exporter": "python",
   "pygments_lexer": "ipython3",
   "version": "3.10.9"
  }
 },
 "nbformat": 4,
 "nbformat_minor": 4
}
