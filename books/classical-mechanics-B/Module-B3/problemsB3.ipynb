{
 "cells": [
  {
   "cell_type": "markdown",
   "metadata": {},
   "source": [
    "# B3.X Problems\n",
    "<hr style=\"height:2px;border-width:0;color:gray;background-color:gray\">"
   ]
  },
  {
   "cell_type": "markdown",
   "metadata": {},
   "source": [
    "<h2>Problem B3.1</h2>\n",
    "    </header>\n",
    "\n",
    "A sphere of radius $rho$ is constrained to roll without slipping on the lower half of the inner surface of a hollow cylinder of inside raidus $R$. \n",
    "\n",
    "1. Determine the lagrangian function.\n",
    "2. Determine the equation of constraint.\n",
    "3. Determine lagrange's equations of motion.\n",
    "4. Find the frequency of small oscillations.\n",
    "\n",
    "*This is Problem 7.3 in Marion and Thornton*."
   ]
  },
  {
   "cell_type": "code",
   "execution_count": null,
   "metadata": {},
   "outputs": [],
   "source": [
    "# DIY Cell"
   ]
  },
  {
   "cell_type": "markdown",
   "metadata": {},
   "source": [
    "<hr style=\"height:2px;border-width:0;color:gray;background-color:gray\">"
   ]
  },
  {
   "cell_type": "markdown",
   "metadata": {},
   "source": [
    "<h2>Problem B3.2</h2>\n",
    "    </header>\n",
    "\n",
    "A particle moves in a plane under the influence of a force $f = -Ar^{\\alpha -1}$ directed toward the origin; $A$ and $\\alpha$ are constants. Choose appropriate generalized coordinates, and let the potential energy be zero at the origin. \n",
    "\n",
    "1. Find the Lagrangian equations of motion.\n",
    "2. Is the angular momentum about the origin conserved?\n",
    "3. Is the total energy conserved?\n",
    "\n",
    "\n",
    "*This is Problem 7.4 in Marion and Thornton*."
   ]
  },
  {
   "cell_type": "code",
   "execution_count": null,
   "metadata": {},
   "outputs": [],
   "source": [
    "# DIY Cell"
   ]
  },
  {
   "cell_type": "markdown",
   "metadata": {},
   "source": [
    "<hr style=\"height:2px;border-width:0;color:gray;background-color:gray\">"
   ]
  },
  {
   "cell_type": "markdown",
   "metadata": {},
   "source": [
    "<h2>Problem 3.3</h2>\n",
    "    </header>\n",
    "\n",
    "A disk of mass $M$ and radius $R$ rolls without slipping down a plane inclined from the horizontal by an angle $\\alpha$. The disk has a short weightless axle of negligible radius. From this axis is suspended a simple pendulum of length $l /lt R$ and whose bob has a mass $m$. Consider that the motion of the pendulum takes place in the plane of the disk, and find Lagrange's equations for the system.\n",
    "\n",
    "*This is Problem 7.9 in Marion and Thornton*."
   ]
  },
  {
   "cell_type": "code",
   "execution_count": null,
   "metadata": {},
   "outputs": [],
   "source": [
    "# DIY Cell"
   ]
  },
  {
   "cell_type": "markdown",
   "metadata": {},
   "source": [
    "<hr style=\"height:2px;border-width:0;color:gray;background-color:gray\">"
   ]
  },
  {
   "cell_type": "markdown",
   "metadata": {},
   "source": [
    "<h2>Problem B3.4</h2>\n",
    "    </header>\n",
    "\n",
    "A pendulum consists of a mass $m$ suspended by a massless spring with unextended length $b$ and spring constant $k$. Find Lagrange's equations of motion.\n",
    "\n",
    "*This is Problem 7.15 in Marion and Thornton*."
   ]
  },
  {
   "cell_type": "code",
   "execution_count": null,
   "metadata": {},
   "outputs": [],
   "source": [
    "# DIY Cell"
   ]
  },
  {
   "cell_type": "markdown",
   "metadata": {},
   "source": [
    "<hr style=\"height:2px;border-width:0;color:gray;background-color:gray\">"
   ]
  },
  {
   "cell_type": "markdown",
   "metadata": {},
   "source": [
    "<h2>Problem B3.5</h2>\n",
    "    </header>\n",
    "\n",
    "A particle of mass $m$ moves in one dimension under the influence of a force \n",
    "\n",
    "$$ F(x,t) = \\frac{k}{x^2}\\textrm{e}^{-(t/\\tau)} $$\n",
    "\n",
    "where $k$ and $\\tau$ are positive constants. \n",
    "\n",
    "1. Compute the Lagrangian and Hamiltonian fucntions. \n",
    "2. Comapre the Hamiltonian and the total energy, and discuss the conservation of energy for the system.\n",
    "\n",
    "*This is Problem 7.22 in Marion and Thornton*."
   ]
  },
  {
   "cell_type": "code",
   "execution_count": null,
   "metadata": {},
   "outputs": [],
   "source": [
    "# DIY Cell"
   ]
  },
  {
   "cell_type": "markdown",
   "metadata": {},
   "source": [
    "<hr style=\"height:2px;border-width:0;color:gray;background-color:gray\">"
   ]
  },
  {
   "cell_type": "markdown",
   "metadata": {},
   "source": [
    "<h2>Problem B3.6</h2>\n",
    "    </header>\n",
    "\n",
    "Determine the Hamiltonian and Hamilton's equations of motion for \n",
    "\n",
    "1. a simple pendulum\n",
    "2. a simple Atwood machine\n",
    "\n",
    "*This is Problem 7.26 in Marion and Thornton*."
   ]
  },
  {
   "cell_type": "code",
   "execution_count": null,
   "metadata": {},
   "outputs": [],
   "source": [
    "# DIY Cell"
   ]
  },
  {
   "cell_type": "markdown",
   "metadata": {},
   "source": [
    "<hr style=\"height:2px;border-width:0;color:gray;background-color:gray\">"
   ]
  },
  {
   "cell_type": "markdown",
   "metadata": {},
   "source": [
    "<h2>Problem B3.7</h2>\n",
    "    </header>\n",
    "    \n",
    "A particle of mass $m$ slides down a smooth circular wedge of mass $M$ as shown in the Figure. The wedge rests on a smooth horizontal table. Find\n",
    "\n",
    "1. the equation of motion of $m$ and $M$.\n",
    "2. the reaction of the wedge on $m$.\n",
    "\n",
    "<img src=\"P-B3.7.png\" width=\"250\">\n",
    "\n",
    "*This is Problem 7.26 in Marion and Thornton*."
   ]
  },
  {
   "cell_type": "code",
   "execution_count": null,
   "metadata": {},
   "outputs": [],
   "source": [
    "# DIY Cell"
   ]
  },
  {
   "cell_type": "markdown",
   "metadata": {},
   "source": [
    "<hr style=\"height:2px;border-width:0;color:gray;background-color:gray\">"
   ]
  }
 ],
 "metadata": {
  "celltoolbar": "Tags",
  "kernelspec": {
   "display_name": "Python 3 (ipykernel)",
   "language": "python",
   "name": "python3"
  },
  "language_info": {
   "codemirror_mode": {
    "name": "ipython",
    "version": 3
   },
   "file_extension": ".py",
   "mimetype": "text/x-python",
   "name": "python",
   "nbconvert_exporter": "python",
   "pygments_lexer": "ipython3",
   "version": "3.10.9"
  }
 },
 "nbformat": 4,
 "nbformat_minor": 4
}
