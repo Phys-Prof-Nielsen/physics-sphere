{
 "cells": [
  {
   "cell_type": "markdown",
   "metadata": {},
   "source": [
    "# B6.X Problems\n",
    "<hr style=\"height:2px;border-width:0;color:gray;background-color:gray\">"
   ]
  },
  {
   "cell_type": "markdown",
   "metadata": {},
   "source": [
    "<h2>Problem B6.1</h2>\n",
    "    </header>\n",
    "\n",
    "A 50-turn coil has a diameter of $15$ cm. The coil is placed in a spatially uniform magnetic field of magnitude $0.50$ T so that the face of the coil and the magnetic field are perpendicular. Find the magnitude of the emf induced in the coil if the magnetic field is reduced to zero uniformly in \n",
    "\n",
    "1. 0.10 s\n",
    "2. 1.0 s\n",
    "3. 60 s.\n",
    "\n",
    "[This problem is a slightly modified version from OpenStax. Access for free here](https://openstax.org/books/university-physics-volume-2/pages/13-problems)"
   ]
  },
  {
   "cell_type": "code",
   "execution_count": null,
   "metadata": {},
   "outputs": [],
   "source": [
    "# DIY Cell"
   ]
  },
  {
   "cell_type": "code",
   "execution_count": 9,
   "metadata": {
    "tags": [
     "hide-input",
     "hide-output"
    ]
   },
   "outputs": [
    {
     "name": "stdout",
     "output_type": "stream",
     "text": [
      "Induced EMF: 4.417864669110647 V\n",
      " \n",
      "Induced EMF: 0.44178646691106466 V\n",
      " \n",
      "Induced EMF: 0.007363107781851078 V\n"
     ]
    }
   ],
   "source": [
    "%reset -f\n",
    "\n",
    "import numpy as np\n",
    "\n",
    "N = 50\n",
    "D = 0.15\n",
    "B1 = 0.50\n",
    "B2 = 0\n",
    "theta = 0\n",
    "\n",
    "R = D/2\n",
    "A = np.pi*R**2\n",
    "\n",
    "flux1 = B1*A*np.cos(theta)\n",
    "flux2 = B2*A*np.cos(theta)\n",
    "\n",
    "dt = 0.10\n",
    "emf = -N*(flux2 - flux1)/dt\n",
    "print('Induced EMF: '+str(emf)+' V')\n",
    "\n",
    "dt = 1.0\n",
    "emf = -N*(flux2 - flux1)/dt\n",
    "print(' ')\n",
    "print('Induced EMF: '+str(emf)+' V')\n",
    "\n",
    "dt = 60\n",
    "emf = -N*(flux2 - flux1)/dt\n",
    "print(' ')\n",
    "print('Induced EMF: '+str(emf)+' V')\n"
   ]
  },
  {
   "cell_type": "markdown",
   "metadata": {},
   "source": [
    "<hr style=\"height:2px;border-width:0;color:gray;background-color:gray\">"
   ]
  },
  {
   "cell_type": "markdown",
   "metadata": {},
   "source": [
    "<h2>Problem B6.2</h2>\n",
    "    </header>\n",
    "\n",
    "Repeat your calculations of the preceding problem’s time of 0.1 s with the plane of the coil making an angle of \n",
    "\n",
    "1. $30.0^\\circ$\n",
    "2. $60.0^\\circ$\n",
    "3. $90.0^\\circ$\n",
    "\n",
    "with the magnetic field.\n",
    "\n",
    "[This problem is a slightly modified version from OpenStax. Access for free here](https://openstax.org/books/university-physics-volume-2/pages/13-problems)"
   ]
  },
  {
   "cell_type": "code",
   "execution_count": null,
   "metadata": {},
   "outputs": [],
   "source": [
    "# DIY Cell"
   ]
  },
  {
   "cell_type": "code",
   "execution_count": 8,
   "metadata": {
    "tags": [
     "hide-input",
     "hide-output"
    ]
   },
   "outputs": [
    {
     "name": "stdout",
     "output_type": "stream",
     "text": [
      "Induced EMF: 2.208932334555324 V\n",
      "Induced EMF: 3.8259830339315535 V\n",
      "Induced EMF: 4.417864669110647 V\n"
     ]
    }
   ],
   "source": [
    "%reset -f\n",
    "\n",
    "import numpy as np\n",
    "\n",
    "N = 50\n",
    "D = 0.15\n",
    "B1 = 0.50\n",
    "B2 = 0\n",
    "\n",
    "R = D/2\n",
    "A = np.pi*R**2\n",
    "\n",
    "theta = np.radians(90 - 30.0)\n",
    "flux1 = B1*A*np.cos(theta)\n",
    "flux2 = B2*A*np.cos(theta)\n",
    "\n",
    "dt = 0.10\n",
    "emf = -N*(flux2 - flux1)/dt\n",
    "print('Induced EMF: '+str(emf)+' V')\n",
    "\n",
    "theta = np.radians(90 - 60.0)\n",
    "flux1 = B1*A*np.cos(theta)\n",
    "flux2 = B2*A*np.cos(theta)\n",
    "\n",
    "dt = 0.10\n",
    "emf = -N*(flux2 - flux1)/dt\n",
    "print('Induced EMF: '+str(emf)+' V')\n",
    "\n",
    "\n",
    "theta = np.radians(90 - 90.0)\n",
    "flux1 = B1*A*np.cos(theta)\n",
    "flux2 = B2*A*np.cos(theta)\n",
    "\n",
    "dt = 0.10\n",
    "emf = -N*(flux2 - flux1)/dt\n",
    "print('Induced EMF: '+str(emf)+' V')"
   ]
  },
  {
   "cell_type": "markdown",
   "metadata": {},
   "source": [
    "<hr style=\"height:2px;border-width:0;color:gray;background-color:gray\">"
   ]
  },
  {
   "cell_type": "markdown",
   "metadata": {},
   "source": [
    "<h2>Problem B6.3</h2>\n",
    "    </header>\n",
    "\n",
    "The magnetic field through a circular loop of radius $10.0$ cm varies with time as shown below. The field is perpendicular to the loop. Plot the magnitude of the induced emf in the loop as a function of time.\n",
    "\n",
    "<img src=\"P-B6.3.png\" width=\"350\">\n",
    "\n",
    "[This problem is a slightly modified version from OpenStax. Access for free here](https://openstax.org/books/university-physics-volume-2/pages/13-problems)"
   ]
  },
  {
   "cell_type": "code",
   "execution_count": null,
   "metadata": {},
   "outputs": [],
   "source": [
    "# DIY Cell"
   ]
  },
  {
   "cell_type": "code",
   "execution_count": 14,
   "metadata": {
    "tags": [
     "hide-input",
     "hide-output"
    ]
   },
   "outputs": [
    {
     "name": "stdout",
     "output_type": "stream",
     "text": [
      "Induced EMF: -0.0471238898038469 V\n",
      " \n",
      "Induced EMF: -0.0 V\n",
      " \n",
      "Induced EMF: 0.0942477796076938 V\n"
     ]
    }
   ],
   "source": [
    "%reset -f\n",
    "\n",
    "import numpy as np\n",
    "\n",
    "N = 1\n",
    "R = 0.10\n",
    "theta = 0\n",
    "\n",
    "A = np.pi*R**2\n",
    "\n",
    "#first segment\n",
    "B1 = 0\n",
    "B2 = 3.0e-3\n",
    "dt = 2.0e-3\n",
    "flux1 = B1*A*np.cos(theta)\n",
    "flux2 = B2*A*np.cos(theta)\n",
    "emf = -N*(flux2 - flux1)/dt\n",
    "print('Induced EMF: '+str(emf)+' V')\n",
    "\n",
    "#second segment\n",
    "B1 = 3.0e-3\n",
    "B2 = 3.0e-3\n",
    "dt = 3.0e-3\n",
    "flux1 = B1*A*np.cos(theta)\n",
    "flux2 = B2*A*np.cos(theta)\n",
    "emf = -N*(flux2 - flux1)/dt\n",
    "print(' ')\n",
    "print('Induced EMF: '+str(emf)+' V')\n",
    "\n",
    "#thrid segment\n",
    "B1 = 3.0e-3\n",
    "B2 = 0\n",
    "dt = 1.0e-3\n",
    "flux1 = B1*A*np.cos(theta)\n",
    "flux2 = B2*A*np.cos(theta)\n",
    "emf = -N*(flux2 - flux1)/dt\n",
    "print(' ')\n",
    "print('Induced EMF: '+str(emf)+' V')"
   ]
  },
  {
   "cell_type": "markdown",
   "metadata": {},
   "source": [
    "<hr style=\"height:2px;border-width:0;color:gray;background-color:gray\">"
   ]
  },
  {
   "cell_type": "markdown",
   "metadata": {},
   "source": [
    "<h2>Problem B6.4</h2>\n",
    "    </header>\n",
    "\n",
    "The accompanying figure shows a single-turn rectangular coil that has a resistance of $2.0~\\Omega$. The magnetic field at all points inside the coil varies according to $B = B_{0}\\textrm{e}^{-\\alpha t}$, where $B_0 = 0.25$ T and $\\alpha = 200.0$ Hz. What is the current induced in the coil at \n",
    "\n",
    "1. $t = 0.0010$ s\n",
    "2. $t = 0.0020$ s\n",
    "3. $t = 2.0$ s?\n",
    "\n",
    "<img src=\"P-B6.4.png\" width=\"350\">\n",
    "\n",
    "[This problem is a slightly modified version from OpenStax. Access for free here](https://openstax.org/books/university-physics-volume-2/pages/13-problems)"
   ]
  },
  {
   "cell_type": "code",
   "execution_count": null,
   "metadata": {},
   "outputs": [],
   "source": [
    "# DIY Cell"
   ]
  },
  {
   "cell_type": "code",
   "execution_count": 11,
   "metadata": {
    "tags": [
     "hide-input",
     "hide-output"
    ]
   },
   "outputs": [
    {
     "name": "stdout",
     "output_type": "stream",
     "text": [
      "Induced current: 0.0204682688269495 A\n",
      " \n",
      "Induced current: 0.0167580011508910 A\n",
      " \n",
      "Induced current: 4.78792399178501e-176 A\n"
     ]
    }
   ],
   "source": [
    "%reset -f\n",
    "\n",
    "import sympy as sym\n",
    "\n",
    "R = 2.0\n",
    "B0 = 0.25\n",
    "alpha = 200.0\n",
    "theta = 0.0\n",
    "N = 1\n",
    "\n",
    "L = 0.05\n",
    "W = 0.02\n",
    "\n",
    "A = L*W\n",
    "\n",
    "t = sym.Symbol('t')\n",
    "B = B0*sym.exp(-alpha*t)\n",
    "\n",
    "flux = B*A*sym.cos(theta)\n",
    "emf = -N*sym.diff(flux,t)\n",
    "\n",
    "I = emf/R\n",
    "\n",
    "t1 = 0.001\n",
    "I1 = I.evalf(subs={t:t1})\n",
    "print('Induced current: '+str(I1)+' A')\n",
    "\n",
    "t1 = 0.002\n",
    "I1 = I.evalf(subs={t:t1})\n",
    "print(' ')\n",
    "print('Induced current: '+str(I1)+' A')\n",
    "\n",
    "t1 = 2.0\n",
    "I1 = I.evalf(subs={t:t1})\n",
    "print(' ')\n",
    "print('Induced current: '+str(I1)+' A')"
   ]
  },
  {
   "cell_type": "markdown",
   "metadata": {},
   "source": [
    "<hr style=\"height:2px;border-width:0;color:gray;background-color:gray\">"
   ]
  },
  {
   "cell_type": "markdown",
   "metadata": {},
   "source": [
    "<h2>Problem B6.5</h2>\n",
    "    </header>\n",
    "\n",
    "A rectangular wire loop with length a and width b lies in the $xy$-plane, as shown below. Within the loop there is a time-dependent magnetic field given by $\\vec{B}(t) = C\\left[x\\cos(\\omega t)~\\hat{i} + y\\sin(\\omega t)~\\hat{k}\\right]$ T. Determine the emf induced in the loop as a function of time.\n",
    "\n",
    "<img src=\"P-B6.5.png\" width=\"350\">\n",
    "\n",
    "[This problem is a slightly modified version from OpenStax. Access for free here](https://openstax.org/books/university-physics-volume-2/pages/13-problems)"
   ]
  },
  {
   "cell_type": "code",
   "execution_count": null,
   "metadata": {},
   "outputs": [],
   "source": [
    "# DIY Cell"
   ]
  },
  {
   "cell_type": "code",
   "execution_count": 16,
   "metadata": {
    "tags": [
     "hide-input",
     "hide-output"
    ]
   },
   "outputs": [
    {
     "name": "stdout",
     "output_type": "stream",
     "text": [
      "Induced emf: -C*a*b*w*y*cos(t*w) V\n"
     ]
    }
   ],
   "source": [
    "%reset -f\n",
    "\n",
    "import sympy as sym\n",
    "from sympy.abc import a,b,w,t,x,y,C\n",
    "\n",
    "B = [C*x*sym.cos(w*t),0,C*y*sym.sin(w*t)]\n",
    "\n",
    "N = 1\n",
    "\n",
    "A = [0,0,a*b]\n",
    "\n",
    "flux = B[0]*A[0] + B[1]*A[1] + B[2]*A[2]\n",
    "emf = -N*sym.diff(flux,t)\n",
    "print('Induced emf: '+str(emf)+' V')"
   ]
  },
  {
   "cell_type": "markdown",
   "metadata": {},
   "source": [
    "<hr style=\"height:2px;border-width:0;color:gray;background-color:gray\">"
   ]
  },
  {
   "cell_type": "markdown",
   "metadata": {},
   "source": [
    "<h2>Problem B6.6</h2>\n",
    "    </header>\n",
    "\n",
    "A single-turn circular loop of wire of radius $50.0$ mm lies in a plane perpendicular to a spatially uniform magnetic field. During a $0.10$ s time interval, the magnitude of the field increases uniformly from $200.0$ mT to $300.0$ mT. \n",
    "\n",
    "1. Determine the emf induced in the loop. \n",
    "2. If the magnetic field is directed out of the page, what is the direction of the current induced in the loop?\n",
    "\n",
    "[This problem is a slightly modified version from OpenStax. Access for free here](https://openstax.org/books/university-physics-volume-2/pages/13-problems)"
   ]
  },
  {
   "cell_type": "code",
   "execution_count": null,
   "metadata": {},
   "outputs": [],
   "source": [
    "# DIY Cell"
   ]
  },
  {
   "cell_type": "code",
   "execution_count": 18,
   "metadata": {
    "tags": [
     "hide-input",
     "hide-output"
    ]
   },
   "outputs": [
    {
     "name": "stdout",
     "output_type": "stream",
     "text": [
      "Induced EMF: -0.00785398163397448 V\n",
      " \n",
      "The B-field created by the induced current will act to impose the change.\n",
      "Since the external field is getting stronger, the induced field will be opposite direction: into the page\n",
      "An induced field into the page requires a clockwise current.\n"
     ]
    }
   ],
   "source": [
    "%reset -f\n",
    "\n",
    "import numpy as np\n",
    "\n",
    "N = 1\n",
    "R = 50.0e-3\n",
    "theta = 0\n",
    "dt = 0.10\n",
    "B1 = 200.0e-3\n",
    "B2 = 300.0e-3\n",
    "\n",
    "A = np.pi*R**2\n",
    "\n",
    "flux1 = B1*A*np.cos(theta)\n",
    "flux2 = B2*A*np.cos(theta)\n",
    "\n",
    "emf = -N*(flux2 - flux1)/dt\n",
    "print('Induced EMF: '+str(emf)+' V')\n",
    "\n",
    "print(' ')\n",
    "\n",
    "print('The B-field created by the induced current will act to impose the change.')\n",
    "print('Since the external field is getting stronger, the induced field will be opposite direction: into the page')\n",
    "print('An induced field into the page requires a clockwise current.')"
   ]
  },
  {
   "cell_type": "markdown",
   "metadata": {},
   "source": [
    "<hr style=\"height:2px;border-width:0;color:gray;background-color:gray\">"
   ]
  },
  {
   "cell_type": "markdown",
   "metadata": {},
   "source": [
    "<h2>Problem B6.7</h2>\n",
    "    </header>\n",
    "\n",
    "When a magnetic field is first turned on, the flux through a 20-turn loop varies with time according to $\\phi_m = 5.0t^2 - 2.0t$, where $\\phi_m$ is in milliwebers, $t$ is in seconds, and the loop is in the plane of the page with the unit normal pointing outward. \n",
    "\n",
    "1. What is the emf induced in the loop as a function of time? \n",
    "2. What is the direction of the induced current at t = 0 s?\n",
    "3. What is the direction of the induced current at t = 0.10 s?\n",
    "4. What is the direction of the induced current at t = 1.0 s?, and (e) 2.0 s?\n",
    "5. What is the direction of the induced current at t = 2.0 s?\n",
    "\n",
    "[This problem is a slightly modified version from OpenStax. Access for free here](https://openstax.org/books/university-physics-volume-2/pages/13-problems)"
   ]
  },
  {
   "cell_type": "code",
   "execution_count": null,
   "metadata": {},
   "outputs": [],
   "source": [
    "# DIY Cell"
   ]
  },
  {
   "cell_type": "code",
   "execution_count": 22,
   "metadata": {},
   "outputs": [
    {
     "name": "stdout",
     "output_type": "stream",
     "text": [
      "Induced emf: 0.04 - 0.2*t V\n",
      "Induced emf: 0.0400000000000000 V\n"
     ]
    }
   ],
   "source": [
    "%reset -f\n",
    "\n",
    "import sympy as sym\n",
    "from sympy.abc import t\n",
    "\n",
    "N = 20\n",
    "flux = (5.0*t**2 - 2.0*t)/1000  #/1000 since it is given in mW\n",
    "\n",
    "emf = -N*sym.diff(flux,t)\n",
    "\n",
    "print('Induced emf: '+str(emf)+' V')\n",
    "\n",
    "t2 = 0\n",
    "emf1 = emf.evalf(subs={t:t2})\n",
    "print('Induced emf: '+str(emf1)+' V')\n",
    "print('Flux is decreasing, so ')"
   ]
  },
  {
   "cell_type": "markdown",
   "metadata": {},
   "source": [
    "<hr style=\"height:2px;border-width:0;color:gray;background-color:gray\">"
   ]
  },
  {
   "cell_type": "markdown",
   "metadata": {},
   "source": [
    "<h2>Problem B6.8</h2>\n",
    "    </header>\n",
    "\n",
    "Use Lenz’s law to determine the direction of induced current in each case.\n",
    "\n",
    "<img src=\"P-B6.8.png\" width=\"350\">\n",
    "\n",
    "[This problem is a slightly modified version from OpenStax. Access for free here](https://openstax.org/books/university-physics-volume-2/pages/13-problems)"
   ]
  },
  {
   "cell_type": "code",
   "execution_count": null,
   "metadata": {},
   "outputs": [],
   "source": [
    "# DIY Cell"
   ]
  },
  {
   "cell_type": "markdown",
   "metadata": {},
   "source": [
    "<hr style=\"height:2px;border-width:0;color:gray;background-color:gray\">"
   ]
  },
  {
   "cell_type": "markdown",
   "metadata": {},
   "source": [
    "<h2>Problem B6.9</h2>\n",
    "    </header>\n",
    "\n",
    "Shown in the following figure is a long, straight wire and a single-turn rectangular loop, both of which lie in the plane of the page. The wire is parallel to the long sides of the loop and is $0.50$ m away from the closer side. At an instant when the emf induced in the loop is $2.0$ V, what is the time rate of change of the current in the wire?\n",
    "\n",
    "<img src=\"P-B6.9.png\" width=\"350\">\n",
    "\n",
    "[This problem is a slightly modified version from OpenStax. Access for free here](https://openstax.org/books/university-physics-volume-2/pages/13-problems)"
   ]
  },
  {
   "cell_type": "code",
   "execution_count": null,
   "metadata": {},
   "outputs": [],
   "source": [
    "# DIY Cell"
   ]
  },
  {
   "cell_type": "markdown",
   "metadata": {},
   "source": [
    "<hr style=\"height:2px;border-width:0;color:gray;background-color:gray\">"
   ]
  },
  {
   "cell_type": "markdown",
   "metadata": {},
   "source": [
    "<h2>Problem B6.10</h2>\n",
    "    </header>\n",
    "\n",
    "A current is induced in a circular loop of radius $1.5$ cm between two poles of a horseshoe electromagnet when the current in the electromagnet is varied. The magnetic field in the area of the loop is perpendicular to the area and has a uniform magnitude. If the rate of change of magnetic field is $10.0$ T/s, find the magnitude and direction of the induced current if resistance of the loop is $25~\\Omega$.\n",
    "\n",
    "[This problem is a slightly modified version from OpenStax. Access for free here](https://openstax.org/books/university-physics-volume-2/pages/13-problems)"
   ]
  },
  {
   "cell_type": "code",
   "execution_count": null,
   "metadata": {},
   "outputs": [],
   "source": [
    "# DIY Cell"
   ]
  },
  {
   "cell_type": "markdown",
   "metadata": {},
   "source": [
    "<hr style=\"height:2px;border-width:0;color:gray;background-color:gray\">"
   ]
  }
 ],
 "metadata": {
  "celltoolbar": "Tags",
  "kernelspec": {
   "display_name": "Python 3 (ipykernel)",
   "language": "python",
   "name": "python3"
  },
  "language_info": {
   "codemirror_mode": {
    "name": "ipython",
    "version": 3
   },
   "file_extension": ".py",
   "mimetype": "text/x-python",
   "name": "python",
   "nbconvert_exporter": "python",
   "pygments_lexer": "ipython3",
   "version": "3.9.12"
  }
 },
 "nbformat": 4,
 "nbformat_minor": 4
}
