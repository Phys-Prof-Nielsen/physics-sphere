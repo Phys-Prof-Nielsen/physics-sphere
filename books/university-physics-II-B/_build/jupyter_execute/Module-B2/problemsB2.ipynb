{
 "cells": [
  {
   "cell_type": "markdown",
   "metadata": {},
   "source": [
    "# B2.X Problems\n",
    "<hr style=\"height:2px;border-width:0;color:gray;background-color:gray\">"
   ]
  },
  {
   "cell_type": "markdown",
   "metadata": {},
   "source": [
    "<h2>Problem B2.1</h2>\n",
    "    </header>\n",
    "\n",
    "A uniform electric field of magnitude  $1.1\\times 10^4$ N/C is perpendicular to a square sheet with sides $2.0$ m long. What is the electric flux through the sheet?\n",
    "\n",
    "[This problem is a slightly modified version from OpenStax. Access for free here](https://openstax.org/books/university-physics-volume-2/pages/6-problems)"
   ]
  },
  {
   "cell_type": "code",
   "execution_count": 1,
   "metadata": {},
   "outputs": [],
   "source": [
    "# DIY Cell"
   ]
  },
  {
   "cell_type": "markdown",
   "metadata": {},
   "source": [
    "<hr style=\"height:2px;border-width:0;color:gray;background-color:gray\">"
   ]
  },
  {
   "cell_type": "markdown",
   "metadata": {},
   "source": [
    "<h2>Problem B2.2</h2>\n",
    "    </header>\n",
    "\n",
    "Calculate the flux through the sheet of the previous problem if the plane of the sheet is at an angle of $60.0^\\circ$ to the field. Find the flux for both directions of the unit normal to the sheet.\n",
    "\n",
    "[This problem is a slightly modified version from OpenStax. Access for free here](https://openstax.org/books/university-physics-volume-2/pages/6-problems)"
   ]
  },
  {
   "cell_type": "code",
   "execution_count": 2,
   "metadata": {},
   "outputs": [],
   "source": [
    "# DIY Cell"
   ]
  },
  {
   "cell_type": "markdown",
   "metadata": {},
   "source": [
    "<hr style=\"height:2px;border-width:0;color:gray;background-color:gray\">"
   ]
  },
  {
   "cell_type": "markdown",
   "metadata": {},
   "source": [
    "<h2>Problem B2.3</h2>\n",
    "    </header>\n",
    "\n",
    "The electric flux through a square-shaped area of side $5.0$ cm near a large charged sheet is found to be  $3.0\\times 10^{−5}$ N·m$^2$/C when the area is parallel to the plate. Find the charge density on the sheet.\n",
    "\n",
    "[This problem is a slightly modified version from OpenStax. Access for free here](https://openstax.org/books/university-physics-volume-2/pages/6-problems)"
   ]
  },
  {
   "cell_type": "code",
   "execution_count": 3,
   "metadata": {},
   "outputs": [],
   "source": [
    "# DIY Cell"
   ]
  },
  {
   "cell_type": "markdown",
   "metadata": {},
   "source": [
    "<hr style=\"height:2px;border-width:0;color:gray;background-color:gray\">"
   ]
  },
  {
   "cell_type": "markdown",
   "metadata": {},
   "source": [
    "<h2>Problem B2.4</h2>\n",
    "    </header>\n",
    "\n",
    "Consider the uniform electric field $\\vec{E} = (4.0\\hat{i} + 3.0\\hat{k})\\times 10^3$ N/C. What is its electric flux through a circular area of radius $2.0$ m that lies in the xy-plane?\n",
    "\n",
    "[This problem is a slightly modified version from OpenStax. Access for free here](https://openstax.org/books/university-physics-volume-2/pages/6-problems)"
   ]
  },
  {
   "cell_type": "code",
   "execution_count": 4,
   "metadata": {},
   "outputs": [],
   "source": [
    "# DIY Cell"
   ]
  },
  {
   "cell_type": "markdown",
   "metadata": {},
   "source": [
    "<hr style=\"height:2px;border-width:0;color:gray;background-color:gray\">"
   ]
  },
  {
   "cell_type": "markdown",
   "metadata": {},
   "source": [
    "<h2>Problem B2.5</h2>\n",
    "    </header>\n",
    "\n",
    "Determine the electric flux through each closed surface where the cross-section inside the surface is shown below.\n",
    "\n",
    "<img src=\"P-B2.5.png\" width=\"350\">\n",
    "\n",
    "[This problem is a slightly modified version from OpenStax. Access for free here](https://openstax.org/books/university-physics-volume-2/pages/6-problems)"
   ]
  },
  {
   "cell_type": "code",
   "execution_count": 5,
   "metadata": {},
   "outputs": [],
   "source": [
    "# DIY Cell"
   ]
  },
  {
   "cell_type": "markdown",
   "metadata": {},
   "source": [
    "<hr style=\"height:2px;border-width:0;color:gray;background-color:gray\">"
   ]
  },
  {
   "cell_type": "markdown",
   "metadata": {},
   "source": [
    "<h2>Problem B2.6</h2>\n",
    "    </header>\n",
    "\n",
    "A point charge of $10.0~\\mu$C is at an unspecified location inside a cube of side $2.0$ cm. Find the net electric flux though the surfaces of the cube.\n",
    "\n",
    "[This problem is a slightly modified version from OpenStax. Access for free here](https://openstax.org/books/university-physics-volume-2/pages/6-problems)"
   ]
  },
  {
   "cell_type": "code",
   "execution_count": 6,
   "metadata": {},
   "outputs": [],
   "source": [
    "# DIY Cell"
   ]
  },
  {
   "cell_type": "markdown",
   "metadata": {},
   "source": [
    "<hr style=\"height:2px;border-width:0;color:gray;background-color:gray\">"
   ]
  },
  {
   "cell_type": "markdown",
   "metadata": {},
   "source": [
    "<h2>Problem B2.7</h2>\n",
    "    </header>\n",
    "\n",
    "A net flux of $1.0\\times 10^4$ Nm$^2$/C passes inward through the surface of a sphere of radius $5.0$ cm. \n",
    "\n",
    "1. How much charge is inside the sphere? \n",
    "2. How precisely can we determine the location of the charge from this information?\n",
    "\n",
    "[This problem is a slightly modified version from OpenStax. Access for free here](https://openstax.org/books/university-physics-volume-2/pages/6-problems)"
   ]
  },
  {
   "cell_type": "code",
   "execution_count": 7,
   "metadata": {},
   "outputs": [],
   "source": [
    "# DIY Cell"
   ]
  },
  {
   "cell_type": "markdown",
   "metadata": {},
   "source": [
    "<hr style=\"height:2px;border-width:0;color:gray;background-color:gray\">"
   ]
  },
  {
   "cell_type": "markdown",
   "metadata": {},
   "source": [
    "<h2>Problem B2.8</h2>\n",
    "    </header>\n",
    "\n",
    "A very long, thin wire has a uniform linear charge density of $50.0~\\mu$C/m. What is the electric field at a distance $2.0$ cm from the wire?\n",
    "\n",
    "[This problem is a slightly modified version from OpenStax. Access for free here](https://openstax.org/books/university-physics-volume-2/pages/6-problems)"
   ]
  },
  {
   "cell_type": "code",
   "execution_count": 8,
   "metadata": {},
   "outputs": [],
   "source": [
    "# DIY Cell"
   ]
  },
  {
   "cell_type": "markdown",
   "metadata": {},
   "source": [
    "<hr style=\"height:2px;border-width:0;color:gray;background-color:gray\">"
   ]
  },
  {
   "cell_type": "markdown",
   "metadata": {},
   "source": [
    "<h2>Problem B2.9</h2>\n",
    "    </header>\n",
    "\n",
    "A charge of $-30.0~\\mu$C is distributed uniformly throughout a spherical volume of radius $10.0$ cm. Determine the electric field due to this charge at a distance of \n",
    "\n",
    "1. 2.0 cm, \n",
    "2. 5.0 cm, and \n",
    "3. 20.0 cm from the center of the sphere.\n",
    "\n",
    "[This problem is a slightly modified version from OpenStax. Access for free here](https://openstax.org/books/university-physics-volume-2/pages/6-problems)"
   ]
  },
  {
   "cell_type": "code",
   "execution_count": 9,
   "metadata": {},
   "outputs": [],
   "source": [
    "# DIY Cell"
   ]
  },
  {
   "cell_type": "markdown",
   "metadata": {},
   "source": [
    "<hr style=\"height:2px;border-width:0;color:gray;background-color:gray\">"
   ]
  },
  {
   "cell_type": "markdown",
   "metadata": {},
   "source": [
    "<h2>Problem B2.10</h2>\n",
    "    </header>\n",
    "\n",
    "When a charge is placed on a metal sphere, it ends up in equilibrium at the outer surface. Use this information to determine the electric field of $3.0~\\mu$C charge put on a $5.0$ cm aluminum spherical ball at the following two points in space: \n",
    "\n",
    "1. a point 1.0 cm from the center of the ball (an inside point) and \n",
    "2. a point 10 cm from the center of the ball (an outside point).\n",
    "\n",
    "[This problem is a slightly modified version from OpenStax. Access for free here](https://openstax.org/books/university-physics-volume-2/pages/6-problems)"
   ]
  },
  {
   "cell_type": "code",
   "execution_count": 10,
   "metadata": {},
   "outputs": [],
   "source": [
    "# DIY Cell"
   ]
  },
  {
   "cell_type": "markdown",
   "metadata": {},
   "source": [
    "<hr style=\"height:2px;border-width:0;color:gray;background-color:gray\">"
   ]
  },
  {
   "cell_type": "markdown",
   "metadata": {},
   "source": [
    "<h2>Problem B2.11</h2>\n",
    "    </header>\n",
    "\n",
    "Charge is distributed uniformly with a density $\\rho$ throughout an infinitely long cylindrical volume of radius $R$. Show that the field of this charge distribution is directed radially with respect to the cylinder and that\n",
    "\n",
    "$$\n",
    "\\begin{align*} \n",
    "E &= \\frac{\\rho r}{2\\varepsilon_0}, ~~(r \\le R) \\\\ \n",
    "E &= \\frac{\\rho R^2}{2\\varepsilon_0 r}, ~~(r \\ge R)\n",
    "\\end{align*}\n",
    "$$ \n",
    "  \n",
    "\n",
    "[This problem is a slightly modified version from OpenStax. Access for free here](https://openstax.org/books/university-physics-volume-2/pages/6-problems)"
   ]
  },
  {
   "cell_type": "code",
   "execution_count": 11,
   "metadata": {},
   "outputs": [],
   "source": [
    "# DIY Cell"
   ]
  },
  {
   "cell_type": "markdown",
   "metadata": {},
   "source": [
    "<hr style=\"height:2px;border-width:0;color:gray;background-color:gray\">"
   ]
  },
  {
   "cell_type": "markdown",
   "metadata": {},
   "source": [
    "<h2>Problem B2.11</h2>\n",
    "    </header>\n",
    "\n",
    "Shown below are two concentric conducting spherical shells of radii $R_1$ and $R_2$, each of finite thickness much less than either radius. The inner and outer shell carry net charges $q_1$ and $q_2$, respectively, where both $q_1$ and $q_2$ are positive. What is the electric field for\n",
    "\n",
    "1. $r < R_1$\n",
    "2. $ R_1 < r < R_2$\n",
    "3. $ r > R_2$\n",
    "4. What is the net charge on the inner surface of the inner shell, the outer surface of the inner shell, the inner surface of the outer shell, and the outer surface of the outer shell?\n",
    "\n",
    "<img src=\"P-B2.11.png\" width=\"350\">\n",
    "\n",
    "[This problem is a slightly modified version from OpenStax. Access for free here](https://openstax.org/books/university-physics-volume-2/pages/6-problems)"
   ]
  },
  {
   "cell_type": "code",
   "execution_count": 12,
   "metadata": {},
   "outputs": [],
   "source": [
    "# DIY Cell"
   ]
  },
  {
   "cell_type": "markdown",
   "metadata": {},
   "source": [
    "<hr style=\"height:2px;border-width:0;color:gray;background-color:gray\">"
   ]
  }
 ],
 "metadata": {
  "celltoolbar": "Tags",
  "kernelspec": {
   "display_name": "Python 3 (ipykernel)",
   "language": "python",
   "name": "python3"
  },
  "language_info": {
   "codemirror_mode": {
    "name": "ipython",
    "version": 3
   },
   "file_extension": ".py",
   "mimetype": "text/x-python",
   "name": "python",
   "nbconvert_exporter": "python",
   "pygments_lexer": "ipython3",
   "version": "3.9.12"
  }
 },
 "nbformat": 4,
 "nbformat_minor": 4
}