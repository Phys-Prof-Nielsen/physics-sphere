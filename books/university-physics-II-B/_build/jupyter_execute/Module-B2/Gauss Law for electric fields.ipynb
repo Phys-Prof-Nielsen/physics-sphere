{
 "cells": [
  {
   "cell_type": "markdown",
   "metadata": {},
   "source": [
    "# Gauss's Law for Electric Fields\n",
    "<hr style=\"border:1px solid gray\"> </hr>"
   ]
  },
  {
   "cell_type": "markdown",
   "metadata": {},
   "source": [
    "We have reviewed Gauss's law for gravitional fields and introduced Gauss' law for electric fields when we discussed Coulomb's law. Now, we will see it a third time. Gauss's law for electric fields states: **the net electric flux through a closed surface is proportional to the net charge inside the closed surface**. In equation form:\n",
    "\n",
    "<div class=\"alert alert-success\">\n",
    "$$ \\oint \\vec{E}\\cdot d\\vec{A} = \\frac{Q_{enclosed}}{\\varepsilon_0} \\tag{1}$$\n",
    "    </div>\n",
    "    \n",
    "or in scalar integral form\n",
    "\n",
    "<div class=\"alert alert-success\">\n",
    "$$ \\oint E\\cos\\theta dA = \\frac{Q_{enclosed}}{\\varepsilon_0} \\tag{2}$$\n",
    "    </div>\n",
    "    \n",
    "We may briefly review the concept of charge densities here as well in equation form (linear, surface, and volume charge densities, respectively):\n",
    "\n",
    "$$ Q = \\int\\lambda dx $$\n",
    "\n",
    "$$ Q = \\int\\sigma  dA $$\n",
    "\n",
    "$$ Q = \\int\\rho  dV $$\n",
    "\n",
    "<img src=\"fig13.png\" width=\"400\">\n",
    "\n",
    "We now have all the tools to find electric fields within the scope of Introductory physics. Let us apply it to a few guided problems.\n",
    "\n",
    "For the gravitational field, we applied Gauss's law to find the field both inside and outside of the Earth. We noticed that outside the Earth, the gravitational field looked like as if all the mass of the Earth was at the center: a point mass. Let us try and work through for a uniformly charged sphere and see how the electric field behave. Section 22.4 in your textbook titled **Applications of Gauss's Law** does a few examples that are great to go through.\n",
    "\n",
    "<hr style=\"border:1px solid gray\"> </hr>"
   ]
  },
  {
   "cell_type": "markdown",
   "metadata": {},
   "source": [
    "<div class=\"alert alert-warning\">\n",
    "    <b> Box 1 </b><br>\n",
    "Consider a positively, uniformly charged solid sphere as the source of an electric field. The total charge is $Q$ and the radius of the sphere is $R$.\n",
    "    \n",
    "<img src=\"fig14.png\" width=\"=100\">\n",
    "   \n",
    "   \n",
    "Place a Gaussian sphere (radius $r$) around the charged sphere such that $r \\ge R$. Apply Gauss's law to find the electric field outside the sphere.\n",
    "\n",
    "</div>\n",
    "\n",
    "<hr style=\"border:1px solid gray\"> </hr>"
   ]
  },
  {
   "cell_type": "markdown",
   "metadata": {},
   "source": [
    "<div class=\"alert alert-warning\">\n",
    "    <b> Box 2 </b><br>\n",
    "Consider a positively, uniformly charged solid sphere as the source of an electric field. The total charge is $Q$ and the radius of the sphere is $R$.\n",
    "    \n",
    "<img src=\"fig14.png\" width=\"=100\">\n",
    "   \n",
    "   \n",
    "Place a Gaussian sphere (radius $r$) inside the charged sphere such that $r < R$. Apply Gauss's law to find the electric field inside the sphere.\n",
    "\n",
    "</div>\n",
    "\n",
    "<hr style=\"border:1px solid gray\"> </hr>"
   ]
  },
  {
   "cell_type": "markdown",
   "metadata": {},
   "source": [
    "A conductor is characterized by the ability of individual charges to move freely under the influence of a force. Imagine a solid spherical conductor. If a net positive charge is placed on the conductor, each charge will feel a repulsive force from the other charges and will accelerate until an equilibrium is reached. This static equilibrium is reached relatively quick within a time known as the **relaxation time**. The electric force arises due to the electric fields set up by the charges. When the system is in equilibrium, the net electric field must be zero. If it was not zero, charges would accelerate. Hence, **inside a conductor the electric field must be zero**.\n",
    "<hr style=\"border:1px solid gray\"> </hr>"
   ]
  },
  {
   "cell_type": "markdown",
   "metadata": {},
   "source": [
    "<div class=\"alert alert-warning\">\n",
    "    <b> Box 3 </b><br>\n",
    "Use Gauss's law to show that the charges on a solid <b>conductor</b> must reside on the <b>surface</b> of the conductor. You can illustrate the process by considering a solid, spherical conductor. HINT: you can place a Gassiuan surface <b>anywhere</b> inside the conductor.\n",
    "\n",
    "</div>\n",
    "\n",
    "<hr style=\"border:1px solid gray\"> </hr>"
   ]
  },
  {
   "cell_type": "markdown",
   "metadata": {},
   "source": [
    "<div class=\"alert alert-warning\">\n",
    "    <b> Box 4 </b><br>\n",
    "Use Gauss's law to find the electric field from a long, straight wire with length $L$ and charge density $\\lambda$. HINT: the symmetry suggest using a cylinder as a Gaussian surface and the field is perpendicular to the wire, which means that no flux is passing through the ends of the cylinder.\n",
    "\n",
    "</div>\n",
    "\n",
    "<hr style=\"border:1px solid gray\"> </hr>"
   ]
  }
 ],
 "metadata": {
  "kernelspec": {
   "display_name": "Python 3 (ipykernel)",
   "language": "python",
   "name": "python3"
  },
  "language_info": {
   "codemirror_mode": {
    "name": "ipython",
    "version": 3
   },
   "file_extension": ".py",
   "mimetype": "text/x-python",
   "name": "python",
   "nbconvert_exporter": "python",
   "pygments_lexer": "ipython3",
   "version": "3.9.12"
  }
 },
 "nbformat": 4,
 "nbformat_minor": 2
}