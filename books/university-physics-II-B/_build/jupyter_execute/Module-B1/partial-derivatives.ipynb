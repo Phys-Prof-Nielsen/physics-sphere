{
 "cells": [
  {
   "cell_type": "markdown",
   "metadata": {},
   "source": [
    "# B1.3 Partial Derivatives\n",
    "<hr style=\"height:2px;border-width:0;color:gray;background-color:gray\">"
   ]
  },
  {
   "cell_type": "markdown",
   "metadata": {},
   "source": [
    "## B1.3.1 Conceptual Meaning\n",
    "\n",
    "In the previous notes, we encountered integration of more than one variable through line integrals. This time, we will explore derivatives when a function depends on more than one independent variable. For graphical simplicity, we will restrict ourself to two independent variables $x$ and $y$ and consider a function $f(x,y)$. An example of such a function is shown in the figure below where the vertical axis represents \n",
    "\n",
    "$$ f(x,y) = \\textrm{e}^{-y^2}\\sin(x) $$\n",
    "\n",
    "<img src=\"fig2.png\" width=\"300\">\n",
    "\n",
    "Also shown in this plot are the projections onto the $x-f$, $y-f$, and $x-y$ planes, respectively, for a number of cross-sections (not shown). For example, a single profile in the $x-f$ plane represent a cross section of the function in that plane for a given value of $y$ (that is, $y$ =  constant).\n",
    "\n",
    "Hence, the projection is our familiar single-variable function, and we know how to take the derivative of such a function. Let us consider the projection for $y = 0$:\n",
    "\n",
    "$$ f(x) = \\textrm{e}^{-(0)^2}\\sin(x) = \\sin(x) $$\n",
    "\n",
    "The derivative of this function is \n",
    "\n",
    "$$ \\frac{df}{dx} = \\cos(x) $$\n",
    "\n",
    "In other words, we know how the function $f(x,y)$ changes along $x$ if $y = 0$. \n",
    "\n",
    "In hindsight, it would have been more appropriate to write the above derivatives as:\n",
    "\n",
    "$$ \\frac{df(x,y)}{dx}\\bigg\\rvert_{y = 0} = \\cos(x) $$\n",
    "\n",
    "<hr style=\"height:2px;border-width:0;color:gray;background-color:gray\">"
   ]
  },
  {
   "cell_type": "markdown",
   "metadata": {},
   "source": [
    "<div class=\"alert alert-warning\">\n",
    "<b> Box 1 </b><br>\n",
    "    \n",
    "What is the derivative of $f(x,y = 1)$ with respect to $x$? <br><b>Answer</b>: $\\textrm{e}^{-1}\\sin(x)$ \n",
    "</div>\n",
    "\n",
    "<hr style=\"height:2px;border-width:0;color:gray;background-color:gray\">"
   ]
  },
  {
   "cell_type": "markdown",
   "metadata": {},
   "source": [
    "## B1.3.2 Partial Derivative Notation\n",
    "\n",
    "We should notice by now, that in the derivatives above, we have just treated $y$ as a constant. This is our **partial derivative**. The partial derivative of a function is a measure of how the function varies as a function of one variable while the other variable(s) remains constant. We use a slightly different notation to express partial derivatives: \n",
    "\n",
    "$$  \\frac{df}{dx} \\rightarrow \\frac{\\partial f}{\\partial x} $$\n",
    "\n",
    "<hr style=\"height:2px;border-width:0;color:gray;background-color:gray\">"
   ]
  },
  {
   "cell_type": "markdown",
   "metadata": {},
   "source": [
    "<div style=\"background-color: #D0D0D0 ; padding: 10px; border: 1px solid black;\">       \n",
    "<header>\n",
    "<h3> Example 1</h3>\n",
    "    </header>\n",
    "    \n",
    "What is the partial derivative of $f(x,y) = \\textrm{e}^{-y^2}\\sin(x)$ with respect to $x$?\n",
    "\n",
    "### Answer\n",
    "    \n",
    "Since we are considering $y$ to be a constant, our exponential factor is simply treated as a constant value. The partial derivative with respect to $x$ is then\n",
    "\t\n",
    "$$ \\frac{\\partial f}{\\partial x} = \\textrm{e}^{-y^2}\\cos (x) $$\n",
    "</div>\n",
    "<hr style=\"height:2px;border-width:0;color:gray;background-color:gray\">"
   ]
  },
  {
   "cell_type": "markdown",
   "metadata": {},
   "source": [
    "<div class=\"alert alert-warning\">\n",
    "    <b> Box 2 </b><br>\n",
    "    \n",
    "What is the partial derivative of $f(x,y) = e^{-y^2}\\sin(x)$ with respect to $y$? <br><b>Answer</b>: $-2y\\textrm{e}^{-y^2}\\sin(x)$\n",
    "</div>\n",
    "\n",
    "<hr style=\"height:2px;border-width:0;color:gray;background-color:gray\">"
   ]
  },
  {
   "cell_type": "markdown",
   "metadata": {},
   "source": [
    "<div class=\"alert alert-warning\">\n",
    "    <b> Box 3 </b><br>\n",
    "    \n",
    "A function is given by $f(x,y) = xy^2 - 2y$. Find the partial derivatives with respect to $x$ and $y$. <br><b>Answers</b>: $\\frac{\\partial f}{\\partial x} = y^2$ and $\\frac{\\partial f}{\\partial y} = 2xy - 2$\n",
    "</div>\n",
    "\n",
    "<hr style=\"height:2px;border-width:0;color:gray;background-color:gray\">"
   ]
  },
  {
   "cell_type": "markdown",
   "metadata": {},
   "source": [
    "<div class=\"alert alert-warning\">\n",
    "    <b> Box 4 </b><br>\n",
    "    \n",
    "A function is given by $f(x,y) = \\frac{y^2}{x^3}$. Is the function increasing or decreasing at $(x,y) = (2,3)$ and at what rates?\n",
    "\n",
    "* if $x$ is varying and $y$ is fixed.\n",
    "* if $y$ is varying and $x$ is fixed.\n",
    "\n",
    "**Answers**: decreasing at a rate of $1.7$ and increasing at a rate of $0.75$, respectively.\n",
    "</div>\n",
    "\n",
    "<hr style=\"height:2px;border-width:0;color:gray;background-color:gray\">"
   ]
  },
  {
   "cell_type": "markdown",
   "metadata": {},
   "source": [
    "## B1.3.3 Vector Operators: Gradient and Curl\n",
    "\n",
    "### Gradient\n",
    "From Box 4, we saw that at a single point of the function, we could assign two different slopes depending on which direction we considered. This is similar to when you are hiking a hill or mountain. You may consider the slope in one direction, but turn to another direction and the slope is different. The fact that we can assign a a slope to a direction, implies that we are talking about a **vector**. This vector is known as the **gradient**, and we define the gradient of a function $f(x,y,z)$ as\n",
    "\n",
    "<div class=\"alert alert-success\">\n",
    "    \n",
    "$$ \\nabla f = \\frac{\\partial f}{\\partial x}\\hat{i} + \\frac{\\partial f}{\\partial y}\\hat{j} + \\frac{\\partial f}{\\partial z}\\hat{k}$$\n",
    "</div>\n",
    "\n",
    "Of course, if we are considering three spatial dimensions, we would add a $z$ term. Here we introduced the symbol **nabla** for the **differential operator** (named **del**):\n",
    "\n",
    "$$ \\nabla = \\frac{\\partial}{\\partial x}\\hat{i} + \\frac{\\partial}{\\partial y}\\hat{j} + \\frac{\\partial}{\\partial z}\\hat{k}$$\n",
    "\n",
    "which you are likely to become quite familiar with in this course.\n",
    "\n",
    "### Curl\n",
    "The curl of a vector field is related to the rotation or circulation of a vector field. We will not get into the conceptual meaning of it yet, but simply define it.\n",
    "\n",
    "The curl of a vector field $\\vec{f}$  is defined as\n",
    "\n",
    "<div class=\"alert alert-success\">\n",
    "    \n",
    "$$ \\nabla \\times \\vec{f} $$\n",
    "</div>\n",
    "<hr style=\"height:2px;border-width:0;color:gray;background-color:gray\">"
   ]
  },
  {
   "cell_type": "markdown",
   "metadata": {},
   "source": [
    "<div class=\"alert alert-warning\">\n",
    "    <b> Box 5 </b><br>\n",
    "    \n",
    "A function is given by $f(x,y) = x^2 + y^2$. Find the gradient of this function and evaluate it at a point $P = (2,3)$\n",
    "    <br><b>Answers</b>: $\\nabla f = 2x\\hat{i} + 2y\\hat{j}$, $\\nabla f\\big|_{x = 2, y = 3} = 4\\hat{i} + 6\\hat{j}$\n",
    "</div>\n",
    "\n",
    "<hr style=\"height:2px;border-width:0;color:gray;background-color:gray\">"
   ]
  },
  {
   "cell_type": "markdown",
   "metadata": {},
   "source": [
    "## B1.3.4 Applications: Conservative Force and Potential Energy\n",
    "\n",
    "From Physics I, we learned that if a force is **conservative**, then we could assign a scalar function to that force, which we called the **potential energy**. There existed a derivative relations between the conservative force $F$ and the potential energy $U$:\n",
    "\n",
    "$$ \\vec{F} = -\\frac{dU}{dx}\\hat{i} $$\n",
    "\n",
    "We only learned the one-dimensional version of it, but now we are ready for the grown-up version.\n",
    "\n",
    "### Conservative Force\n",
    "\n",
    "A force is conservative if\n",
    "\n",
    "<div class=\"alert alert-success\">\n",
    "    \n",
    "$$ \\nabla\\times\\vec{F} = 0 $$\n",
    "</div>\n",
    "\n",
    "### Potential Energy\n",
    "\n",
    "The potential energy associated with a conservative force is defined through\n",
    "\n",
    "<div class=\"alert alert-success\">\n",
    "    \n",
    "$$ \\vec{F} = -\\nabla U $$\n",
    "</div>\n",
    "\n",
    "<hr style=\"height:2px;border-width:0;color:gray;background-color:gray\">"
   ]
  },
  {
   "cell_type": "markdown",
   "metadata": {},
   "source": [
    "<div class=\"alert alert-warning\">\n",
    "    <b> Box 6 </b><br>\n",
    "    \n",
    "Consider a potential energy function given by $U(x,y) = k(x^2 + y^2)$ (a spring stretched in the $xy$-plane). Find the force associated with this function.\n",
    "</div>\n",
    "\n",
    "<hr style=\"height:2px;border-width:0;color:gray;background-color:gray\">"
   ]
  },
  {
   "cell_type": "markdown",
   "metadata": {},
   "source": [
    "<div class=\"alert alert-warning\">\n",
    "    <b> Box 7 </b><br>\n",
    "    \n",
    "Consider a potential energy function given by $U(x,y,z) = 5x +2y^2 + z^3$. Find the force associated with this function.\n",
    "</div>\n",
    "\n",
    "<hr style=\"height:2px;border-width:0;color:gray;background-color:gray\">"
   ]
  },
  {
   "cell_type": "markdown",
   "metadata": {},
   "source": [
    "<div class=\"alert alert-warning\">\n",
    "    <b> Box 8 </b><br>\n",
    "    \n",
    "Consider a potential energy function given by $U(x,y) = -k \\left(\\frac{1}{x} + \\frac{1}{y} \\right)$, where $k$ is a constant. Find the force associated with this function.\n",
    "</div>\n",
    "\n",
    "<hr style=\"height:2px;border-width:0;color:gray;background-color:gray\">"
   ]
  },
  {
   "cell_type": "markdown",
   "metadata": {},
   "source": [
    "<div class=\"alert alert-warning\">\n",
    "    <b> Box 9 </b><br>\n",
    "\n",
    "Which of the following forces are conservative? If conservative, find the potential energy $U(r)$. \n",
    "\n",
    "1. $\\vec{F} = (ayz + bx + c)\\hat{i} + (axz + bz)\\hat{j} + (axy + by)\\hat{k}$\n",
    "\n",
    "2. $\\vec{F} = (-z\\textrm{e}^{-x})\\hat{i} + \\textrm{ln}(z)\\hat{j} + (\\textrm{e}^x + y/z)\\hat{k}$\n",
    "\n",
    "(a, b, care constants).\n",
    "</div>\n",
    "\n",
    "<hr style=\"height:2px;border-width:0;color:gray;background-color:gray\">"
   ]
  },
  {
   "cell_type": "code",
   "execution_count": null,
   "metadata": {},
   "outputs": [],
   "source": []
  }
 ],
 "metadata": {
  "kernelspec": {
   "display_name": "Python 3 (ipykernel)",
   "language": "python",
   "name": "python3"
  },
  "language_info": {
   "codemirror_mode": {
    "name": "ipython",
    "version": 3
   },
   "file_extension": ".py",
   "mimetype": "text/x-python",
   "name": "python",
   "nbconvert_exporter": "python",
   "pygments_lexer": "ipython3",
   "version": "3.9.12"
  }
 },
 "nbformat": 4,
 "nbformat_minor": 2
}