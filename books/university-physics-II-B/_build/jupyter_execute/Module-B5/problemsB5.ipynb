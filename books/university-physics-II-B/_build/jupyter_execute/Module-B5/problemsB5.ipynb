{
 "cells": [
  {
   "cell_type": "markdown",
   "metadata": {},
   "source": [
    "# B5.X Problems\n",
    "<hr style=\"height:2px;border-width:0;color:gray;background-color:gray\">"
   ]
  },
  {
   "cell_type": "markdown",
   "metadata": {},
   "source": [
    "<h2>Problem B5.1</h2>\n",
    "    </header>\n",
    "\n",
    "A typical current in a lightning bolt is $10^4$ A. Estimate the magnetic field 1 m from the bolt.\n",
    "\n",
    "[This problem is a slightly modified version from OpenStax. Access for free here](https://openstax.org/books/university-physics-volume-2/pages/12-problems)"
   ]
  },
  {
   "cell_type": "code",
   "execution_count": 1,
   "metadata": {},
   "outputs": [],
   "source": [
    "# DIY Cell"
   ]
  },
  {
   "cell_type": "markdown",
   "metadata": {},
   "source": [
    "<hr style=\"height:2px;border-width:0;color:gray;background-color:gray\">"
   ]
  },
  {
   "cell_type": "markdown",
   "metadata": {},
   "source": [
    "<h2>Problem B5.2</h2>\n",
    "    </header>\n",
    "\n",
    "The magnitude of the magnetic field $50.0$ cm from a long, thin, straight wire is $8.0~\\mu$T. What is the current through the long wire?\n",
    "\n",
    "[This problem is a slightly modified version from OpenStax. Access for free here](https://openstax.org/books/university-physics-volume-2/pages/12-problems)"
   ]
  },
  {
   "cell_type": "code",
   "execution_count": 2,
   "metadata": {},
   "outputs": [],
   "source": [
    "# DIY Cell"
   ]
  },
  {
   "cell_type": "markdown",
   "metadata": {},
   "source": [
    "<hr style=\"height:2px;border-width:0;color:gray;background-color:gray\">"
   ]
  },
  {
   "cell_type": "markdown",
   "metadata": {},
   "source": [
    "<h2>Problem B5.3</h2>\n",
    "    </header>\n",
    "\n",
    "A transmission line strung $7.0$ m above the ground carries a current of $500.0$ A. What is the magnetic field on the ground directly below the wire? Compare your answer with the magnetic field of Earth.\n",
    "\n",
    "[This problem is a slightly modified version from OpenStax. Access for free here](https://openstax.org/books/university-physics-volume-2/pages/12-problems)"
   ]
  },
  {
   "cell_type": "code",
   "execution_count": 3,
   "metadata": {},
   "outputs": [],
   "source": [
    "# DIY Cell"
   ]
  },
  {
   "cell_type": "markdown",
   "metadata": {},
   "source": [
    "<hr style=\"height:2px;border-width:0;color:gray;background-color:gray\">"
   ]
  },
  {
   "cell_type": "markdown",
   "metadata": {},
   "source": [
    "<h2>Problem B5.4</h2>\n",
    "    </header>\n",
    "\n",
    "The accompanying figure shows two long, straight, horizontal wires that are parallel and a distance $2a$ apart. If both wires carry current $I$ in the same direction, \n",
    "\n",
    "1. what is the magnetic field at P1?\n",
    "2. what is the magnetic field at P2?\n",
    "\n",
    "<img src=\"P-B5.4.png\" width=\"350\">\n",
    "\n",
    "\n",
    "[This problem is a slightly modified version from OpenStax. Access for free here](https://openstax.org/books/university-physics-volume-2/pages/12-problems)"
   ]
  },
  {
   "cell_type": "code",
   "execution_count": 4,
   "metadata": {},
   "outputs": [],
   "source": [
    "# DIY Cell"
   ]
  },
  {
   "cell_type": "markdown",
   "metadata": {},
   "source": [
    "<hr style=\"height:2px;border-width:0;color:gray;background-color:gray\">"
   ]
  },
  {
   "cell_type": "markdown",
   "metadata": {},
   "source": [
    "<h2>Problem B5.5</h2>\n",
    "    </header>\n",
    "\n",
    "Two long, straight wires are parallel and $10.0$ cm apart. One carries a current of $2.0$ A, the other a current of $5.0$ A. \n",
    "\n",
    "1. If the two currents flow in opposite directions, what is the magnitude and direction of the force per unit length of one wire on the other? \n",
    "2. What is the magnitude and direction of the force per unit length if the currents flow in the same direction?\n",
    "\n",
    "\n",
    "[This problem is a slightly modified version from OpenStax. Access for free here](https://openstax.org/books/university-physics-volume-2/pages/12-problems)"
   ]
  },
  {
   "cell_type": "code",
   "execution_count": 5,
   "metadata": {},
   "outputs": [],
   "source": [
    "# DIY Cell"
   ]
  },
  {
   "cell_type": "markdown",
   "metadata": {},
   "source": [
    "<hr style=\"height:2px;border-width:0;color:gray;background-color:gray\">"
   ]
  },
  {
   "cell_type": "markdown",
   "metadata": {},
   "source": [
    "<h2>Problem B5.6</h2>\n",
    "    </header>\n",
    "\n",
    "Two long, parallel wires are hung by cords of length $5.0$ cm, as shown in the accompanying figure. Each wire has a mass per unit length of $30.0$ g/m, and they carry the same current in opposite directions. What is the current if the cords hang at $6.0^\\circ$ with respect to the vertical?\n",
    "\n",
    "<img src=\"P-B5.6.png\" width=\"350\">\n",
    "\n",
    "\n",
    "[This problem is a slightly modified version from OpenStax. Access for free here](https://openstax.org/books/university-physics-volume-2/pages/12-problems)"
   ]
  },
  {
   "cell_type": "code",
   "execution_count": 6,
   "metadata": {},
   "outputs": [],
   "source": [
    "# DIY Cell"
   ]
  },
  {
   "cell_type": "markdown",
   "metadata": {},
   "source": [
    "<hr style=\"height:2px;border-width:0;color:gray;background-color:gray\">"
   ]
  },
  {
   "cell_type": "markdown",
   "metadata": {},
   "source": [
    "<h2>Problem B5.7</h2>\n",
    "    </header>\n",
    "\n",
    "When the current through a circular loop is $6.0$ A, the magnetic field at its center is $2.0\\times 10^{−4}$ T. What is the radius of the loop?\n",
    "\n",
    "\n",
    "[This problem is a slightly modified version from OpenStax. Access for free here](https://openstax.org/books/university-physics-volume-2/pages/12-problems)"
   ]
  },
  {
   "cell_type": "code",
   "execution_count": 7,
   "metadata": {},
   "outputs": [],
   "source": [
    "# DIY Cell"
   ]
  },
  {
   "cell_type": "markdown",
   "metadata": {},
   "source": [
    "<hr style=\"height:2px;border-width:0;color:gray;background-color:gray\">"
   ]
  },
  {
   "cell_type": "markdown",
   "metadata": {},
   "source": [
    "<h2>Problem B5.8</h2>\n",
    "    </header>\n",
    "\n",
    "A flat, circular loop has $20$ turns. The radius of the loop is $10.0$ cm and the current through the wire is $0.50$ A. Determine the magnitude of the magnetic field at the center of the loop.\n",
    "\n",
    "\n",
    "[This problem is a slightly modified version from OpenStax. Access for free here](https://openstax.org/books/university-physics-volume-2/pages/12-problems)"
   ]
  },
  {
   "cell_type": "code",
   "execution_count": 8,
   "metadata": {},
   "outputs": [],
   "source": [
    "# DIY Cell"
   ]
  },
  {
   "cell_type": "markdown",
   "metadata": {},
   "source": [
    "<hr style=\"height:2px;border-width:0;color:gray;background-color:gray\">"
   ]
  },
  {
   "cell_type": "markdown",
   "metadata": {},
   "source": [
    "<h2>Problem B5.9</h2>\n",
    "    </header>\n",
    "\n",
    "A current $I$ flows around the rectangular loop shown in the accompanying figure. Evaluate $\\oint\\vec{B}\\cdot d\\vec{l}$ for the paths A, B, C, and D.\n",
    "\n",
    "<img src=\"P-B5.9.png\" width=\"350\">\n",
    "\n",
    "\n",
    "[This problem is a slightly modified version from OpenStax. Access for free here](https://openstax.org/books/university-physics-volume-2/pages/12-problems)"
   ]
  },
  {
   "cell_type": "code",
   "execution_count": 9,
   "metadata": {},
   "outputs": [],
   "source": [
    "# DIY Cell"
   ]
  },
  {
   "cell_type": "markdown",
   "metadata": {},
   "source": [
    "<hr style=\"height:2px;border-width:0;color:gray;background-color:gray\">"
   ]
  },
  {
   "cell_type": "markdown",
   "metadata": {},
   "source": [
    "<h2>Problem B5.10</h2>\n",
    "    </header>\n",
    "\n",
    "A portion of a long, cylindrical coaxial cable is shown in the accompanying figure. A current $I$ flows down the center conductor, and this current is returned in the outer conductor. Determine the magnetic field in the regions \n",
    "\n",
    "1. $r \\le r_1$\n",
    "2. $r_2 \\ge r \\ge r_1$\n",
    "3. $r_3 \\ge r \\ge r_2$\n",
    "4. $r_3 \\le r $\n",
    "\n",
    "Assume that the current is distributed uniformly over the cross sections of the two parts of the cable.\n",
    "  \n",
    "<img src=\"P-B5.10.png\" width=\"350\">\n",
    "\n",
    "\n",
    "[This problem is a slightly modified version from OpenStax. Access for free here](https://openstax.org/books/university-physics-volume-2/pages/12-problems)"
   ]
  },
  {
   "cell_type": "code",
   "execution_count": 10,
   "metadata": {},
   "outputs": [],
   "source": [
    "# DIY Cell"
   ]
  },
  {
   "cell_type": "markdown",
   "metadata": {},
   "source": [
    "<hr style=\"height:2px;border-width:0;color:gray;background-color:gray\">"
   ]
  }
 ],
 "metadata": {
  "celltoolbar": "Tags",
  "kernelspec": {
   "display_name": "Python 3 (ipykernel)",
   "language": "python",
   "name": "python3"
  },
  "language_info": {
   "codemirror_mode": {
    "name": "ipython",
    "version": 3
   },
   "file_extension": ".py",
   "mimetype": "text/x-python",
   "name": "python",
   "nbconvert_exporter": "python",
   "pygments_lexer": "ipython3",
   "version": "3.10.9"
  }
 },
 "nbformat": 4,
 "nbformat_minor": 4
}