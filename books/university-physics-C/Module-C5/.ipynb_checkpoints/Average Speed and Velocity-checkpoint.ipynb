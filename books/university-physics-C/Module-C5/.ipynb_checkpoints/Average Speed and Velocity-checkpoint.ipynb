{
 "cells": [
  {
   "cell_type": "markdown",
   "metadata": {},
   "source": [
    "# C5.1 Average Speed and Velocity: Definitions\n",
    "<hr style=\"height:2px;border-width:0;color:gray;background-color:gray\">"
   ]
  },
  {
   "cell_type": "markdown",
   "metadata": {},
   "source": [
    "## C5.1.1 Recap Basic Concepts\n",
    "\n",
    "The concept that most people are familiar with is the speed. For example, the speedometer in a car shows how fast the car is moving. However, the speedometer does not provide *any* information about the direction the car is moving: <span style=\"color:red\">the speed is a scalar</span>.\n",
    "\n",
    "In contrast, many people may use the the concept of velocity but not understanding the difference between speed and velocity. If we have information about how fast an object is moving *and* its direction, then we have the velocity: <span style=\"color:red\">the velocity is a vector</span>.\n",
    "\n",
    "<hr style=\"height:2px;border-width:0;color:gray;background-color:gray\">"
   ]
  },
  {
   "cell_type": "markdown",
   "metadata": {},
   "source": [
    "# C5.1.2 Average Speed: Definition\n",
    "The speed is a measure of the rate of change of the distance traveled by an object. I personally prefer to state it as \n",
    "\n",
    "<div class=\"alert alert-success\">\n",
    "The average speed is the path length traveled by an object over an elapsed time interval.\n",
    "</div>\n",
    "\n",
    "If we let $\\Delta s$ be the path length traveled and $\\Delta t$ be the elapsed time interval, then the average speed is\n",
    "\n",
    "$$ v_{av} = \\frac{\\Delta s}{\\Delta t} $$\n",
    "\n",
    "<hr style=\"height:2px;border-width:0;color:gray;background-color:gray\">"
   ]
  },
  {
   "cell_type": "markdown",
   "metadata": {},
   "source": [
    "<div style=\"background-color: #D0D0D0 ; padding: 10px; border: 1px solid black;\">       \n",
    "<header>\n",
    "<h3> Example 1</h3>\n",
    "    </header>\n",
    "    \n",
    "We are traveling from Orem to Las Vegas. Our travel distance is 385 miles and it takes us exactly 6 hours to get there. What is our average speed?\n",
    "\n",
    "<b>Solution</b><br>\n",
    "Inserting into the equation:\n",
    "\n",
    "$$ v_{av} = \\frac{(385)}{(6)} = 64.2~\\textrm{mph} $$\n",
    "\n",
    "We notice the following:\n",
    "1. There is no indication of a direction.\n",
    "2. We have no information about how the speed varied during this time interval. We can only say something about the average speed.\n",
    "\n",
    "</div>\n",
    "\n",
    "<hr style=\"height:2px;border-width:0;color:gray;background-color:gray\">"
   ]
  },
  {
   "cell_type": "markdown",
   "metadata": {},
   "source": [
    "<div style=\"background-color: #D0D0D0 ; padding: 10px; border: 1px solid black;\">       \n",
    "<header>\n",
    "<h3> Example 2</h3>\n",
    "    </header>\n",
    "    \n",
    "During a 400.0 m spring event, a runner is finishing in a time of 45 s. What was the average speed of the runner assuming a circular 400.0-m track?\n",
    "\n",
    "<b>Solution</b><br>\n",
    "Inserting into the equation:\n",
    "\n",
    "$$ v_{av} = \\frac{(400.0)}{(45)} = 8.9~\\textrm{m/s} $$\n",
    "\n",
    "We notice the following:\n",
    "1. The initial and final positions do not play a role. The fact that the track was circular played no role in the problem. \n",
    "2. This person is pretty fast.\n",
    "    \n",
    "</div>\n",
    "\n",
    "<hr style=\"height:2px;border-width:0;color:gray;background-color:gray\">"
   ]
  },
  {
   "cell_type": "markdown",
   "metadata": {},
   "source": [
    "<div class=\"alert alert-warning\">\n",
    "<b>Box 1</b><br>\n",
    "    \n",
    "The <a href=\"https://home.cern/science/accelerators/large-hadron-collider\">Large Hadron Collider</a> (LHC) is a circular particle accelerator/collider with a radius of 4.3 km. A proton is moving at an average speed of 95% of the speed of light ($c = 2.998\\times 10^8$ m/s). \n",
    "    <ol>\n",
    "        <li>How long time does it take the proton to move around the LHC once?\n",
    "        <li>How many times does the proton move around in 1 s?\n",
    "    </ol>\n",
    "</div>\n",
    "\n",
    "<hr style=\"height:2px;border-width:0;color:gray;background-color:gray\">"
   ]
  },
  {
   "cell_type": "markdown",
   "metadata": {},
   "source": [
    "# 2. Average Velocity: Definition\n",
    "\n",
    "Velocity is the rate of change of position of an object. This may sound like the same as the definition for speed, however, path lenght (or distance traveled) is *not* the same as a change in position. The change in position is what we call *displacement*, so we can also say that *the velocity is the displacement over some elapsed time*. Since the displacement is a vector, the velocity must also be a vector.\n",
    "\n",
    "<div class=\"alert alert-success\">\n",
    "The average velocity is the displacement experienced by an object over an elapsed time interval.\n",
    "</div>\n",
    "\n",
    "If we let $\\Delta \\vec{r}$ be the displacement and $\\Delta t$ be the elapsed time interval, then the average velocity is\n",
    "\n",
    "$$ \\vec{v}_{av} = \\frac{\\Delta \\vec{r}}{\\Delta t} $$\n",
    "\n",
    "For objects moving in 1D, we often use $\\vec{x}$ instead of $\\vec{r}$:\n",
    "\n",
    "$$ \\vec{v}_{av} = \\frac{\\Delta \\vec{x}}{\\Delta t} $$\n",
    "\n",
    "<hr style=\"height:2px;border-width:0;color:gray;background-color:gray\">"
   ]
  },
  {
   "cell_type": "markdown",
   "metadata": {},
   "source": [
    "<div style=\"background-color: #D0D0D0 ; padding: 10px; border: 1px solid black;\">       \n",
    "<header>\n",
    "<h3> Example 3</h3>\n",
    "    </header>\n",
    "    \n",
    "We are traveling from Orem to Las Vegas. Our travel distance is 385 miles southbound and it takes us exactly 6 hours to get there. What is our average velocity?\n",
    "\n",
    "<b>Solution</b><br>\n",
    "Inserting into the equation:\n",
    "\n",
    "$$ \\vec{v}_{av} = \\frac{(385)}{(6)} = 64.2~\\textrm{mph} + \\textrm{direction} $$\n",
    "\n",
    "We notice the following:\n",
    "1. There is no direct indication of a direction.\n",
    "2. We have no information about how the velocity varied during this time interval. We can only say something about the average velocity.\n",
    "\n",
    "Since average velocity is a vector, we must address the direction as well. The magnitude of the average velocity is 64.2 mph and from the problem it stated we were southbound. Hence, we can say\n",
    "\n",
    "The average velocity is 64.2 mph southbound.\n",
    "\n",
    "\n",
    "</div>\n",
    "\n",
    "<hr style=\"height:2px;border-width:0;color:gray;background-color:gray\">"
   ]
  },
  {
   "cell_type": "markdown",
   "metadata": {},
   "source": [
    "<div style=\"background-color: #D0D0D0 ; padding: 10px; border: 1px solid black;\">       \n",
    "<header>\n",
    "<h3> Example 3 Redo</h3>\n",
    "    </header>\n",
    "    \n",
    "Let us redo this example but now in a more rigorous manner instead of the handwaving approach above.\n",
    "\n",
    "We are traveling from Orem to Las Vegas. Our travel distance is 385 miles southbound and it takes us exactly 6 hours to get there. What is our average velocity?\n",
    "\n",
    "<b>Solution</b><br>\n",
    "Let southbound be the positive direction and let $x$ be our position and the direction indicated by the unit vector $\\hat{i}$. Then our displacement is\n",
    "\n",
    "$$ \\Delta \\vec{x} = (385~~\\textrm{miles})~\\hat{i} $$\n",
    "\n",
    "Inserting into the equation:\n",
    "\n",
    "$$ \\vec{v}_{av} = \\frac{385~\\hat{i}}{6} = (64.2~\\textrm{mph})~\\hat{i}  $$\n",
    "\n",
    "We notice the following:\n",
    "1. There is a direct indication of a direction.\n",
    "2. We still do not have information about how the velocity varied during this time interval. We can only say something about the average velocity.\n",
    "    \n",
    "</div>\n",
    "\n",
    "<hr style=\"height:2px;border-width:0;color:gray;background-color:gray\">"
   ]
  },
  {
   "cell_type": "markdown",
   "metadata": {},
   "source": [
    "<div style=\"background-color: #D0D0D0 ; padding: 10px; border: 1px solid black;\">       \n",
    "<header>\n",
    "<h3> Example 4</h3>\n",
    "    </header>\n",
    "    \n",
    "During a 400.0 m spring event, a runner is finishing in a time of 45 s. What was the average velocity of the runner assuming a circular 400.0-m track?\n",
    "\n",
    "<b>Solution</b><br>\n",
    "In this case, our initial and final positions are the same position, and our displacement is therefore:\n",
    "\n",
    "$$ \\Delta \\vec{r} = \\vec{r}_{final} - \\vec{r}_{initial} = 0 $$\n",
    "\n",
    "Inserting into the equation:\n",
    "\n",
    "$$ \\vec{v}_{av} = \\frac{0}{45} = 0.0~\\textrm{m/s} $$\n",
    "\n",
    "We notice the following:\n",
    "1. The initial and final positions are important! The fact that the track was circular played a major role in the problem. \n",
    "2. This person is still pretty fast although his average velocity is zero.\n",
    "    \n",
    "</div>\n",
    "\n",
    "<hr style=\"height:2px;border-width:0;color:gray;background-color:gray\">"
   ]
  },
  {
   "cell_type": "markdown",
   "metadata": {},
   "source": [
    "<div class=\"alert alert-danger\">\n",
    "We must be very mindful of distinguishing between speed and velocity.\n",
    "</div>\n",
    "\n",
    "<hr style=\"height:2px;border-width:0;color:gray;background-color:gray\">"
   ]
  },
  {
   "cell_type": "markdown",
   "metadata": {},
   "source": [
    "<div class=\"alert alert-warning\">\n",
    "<b>Box 2</b><br>\n",
    "The <a href=\"https://home.cern/science/accelerators/large-hadron-collider\">Large Hadron Collider</a> (LHC) is a circular particle accelerator/collider with a radius of 4.3 km. A proton is moving at an average speed of 95% of the speed of light ($c = 2.998\\times 10^8$ m/s). What is the average velocity of the proton as it moves around the LHC once?\n",
    "</div>\n",
    "\n",
    "<hr style=\"height:2px;border-width:0;color:gray;background-color:gray\">"
   ]
  },
  {
   "cell_type": "markdown",
   "metadata": {},
   "source": [
    "<div class=\"alert alert-warning\">\n",
    "<b>Box 3</b><br>\n",
    "An object is traveling from $x = 3.0$ m to $x = -4.0$ m in 3.0 s. \n",
    "    <ol>\n",
    "        <li>What is the object's displacement?\n",
    "        <li>What is the object's average velocity?\n",
    "        <li>What is the object's distance traveled?\n",
    "        <li>What is the object's average speed?\n",
    "    </ol>\n",
    "</div>\n",
    "\n",
    "<hr style=\"height:2px;border-width:0;color:gray;background-color:gray\">"
   ]
  },
  {
   "cell_type": "markdown",
   "metadata": {},
   "source": [
    "<div class=\"alert alert-warning\">\n",
    "<b>Box 4</b><br>\n",
    "On a standard 100-m track a runner runs out and back in a total time of 25.0 seconds.\n",
    "    <ol>\n",
    "        <li>What is the runner's average velocity?\n",
    "        <li>What is the runner's average speed?\n",
    "    </ol>\n",
    "</div>\n",
    "\n",
    "<hr style=\"height:2px;border-width:0;color:gray;background-color:gray\">"
   ]
  },
  {
   "cell_type": "markdown",
   "metadata": {},
   "source": [
    "<div class=\"alert alert-warning\">\n",
    "<b>Box 5</b><br>\n",
    "A proton in a linear particle accelerator travels with an average velocity of $2.4\\times 10^6$ m/s in a direction considered to be positive and starting at $x = 0.2$ m. \n",
    "    <ol>\n",
    "        <li>What is the displacement during a time interval of $5.0$ $\\mu$s? </li>\n",
    "        <li>What is the final position of the particle?</li>\n",
    "    </ol>\n",
    "</div>\n",
    "\n",
    "<hr style=\"height:2px;border-width:0;color:gray;background-color:gray\">"
   ]
  }
 ],
 "metadata": {
  "kernelspec": {
   "display_name": "Python 3 (ipykernel)",
   "language": "python",
   "name": "python3"
  },
  "language_info": {
   "codemirror_mode": {
    "name": "ipython",
    "version": 3
   },
   "file_extension": ".py",
   "mimetype": "text/x-python",
   "name": "python",
   "nbconvert_exporter": "python",
   "pygments_lexer": "ipython3",
   "version": "3.9.12"
  }
 },
 "nbformat": 4,
 "nbformat_minor": 4
}
