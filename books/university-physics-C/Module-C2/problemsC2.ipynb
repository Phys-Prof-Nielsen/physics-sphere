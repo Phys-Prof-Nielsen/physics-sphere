{
 "cells": [
  {
   "cell_type": "markdown",
   "metadata": {},
   "source": [
    "# C2.X Problems\n",
    "<hr style=\"height:2px;border-width:0;color:gray;background-color:gray\">"
   ]
  },
  {
   "cell_type": "markdown",
   "metadata": {},
   "source": [
    "<h2>Problem C2.1</h2>\n",
    "    </header>\n",
    "\n",
    "The hypotenuse of a right-angle triangle has a length of 8.6 cm. The opposite side is 4.30 cm. What is the length of the adjacent side?"
   ]
  },
  {
   "cell_type": "code",
   "execution_count": 1,
   "metadata": {},
   "outputs": [],
   "source": [
    "# DIY Cell"
   ]
  },
  {
   "cell_type": "code",
   "execution_count": 10,
   "metadata": {
    "tags": [
     "hide-input",
     "hide-output"
    ]
   },
   "outputs": [
    {
     "name": "stdout",
     "output_type": "stream",
     "text": [
      "The adjacent side is 7.4e+0 cm.\n"
     ]
    }
   ],
   "source": [
    "%reset -f\n",
    "\n",
    "import sympy as sym\n",
    "\n",
    "hyp = 8.6\n",
    "opp = 4.30\n",
    "\n",
    "adj = sym.Symbol('adj')\n",
    "\n",
    "eq = hyp**2 - opp**2 - adj**2\n",
    "sol = sym.solve(eq,adj)\n",
    "\n",
    "answer = \"{:.1e}\".format(sol[1])\n",
    "print('The adjacent side is '+str(answer)+' cm.')"
   ]
  },
  {
   "cell_type": "markdown",
   "metadata": {},
   "source": [
    "<hr style=\"height:2px;border-width:0;color:gray;background-color:gray\">"
   ]
  },
  {
   "cell_type": "markdown",
   "metadata": {},
   "source": [
    "<h2>Problem C2.2</h2>\n",
    "    </header>\n",
    "\n",
    "Consider the triangle shown in the figure.\n",
    "<br>\n",
    "<img src=\"C2-fig1p.png\"  width=\"300\"/>\n",
    "<br>\n",
    "If $b = 10.0$ m and $\\alpha = 26.6^\\circ $, find the following:\n",
    "\n",
    "1. the length of $a$.\n",
    "2. the length of $c$.\n",
    "3. the angle $\\beta$ in radians.\n"
   ]
  },
  {
   "cell_type": "code",
   "execution_count": null,
   "metadata": {},
   "outputs": [],
   "source": [
    "# DIY Cell"
   ]
  },
  {
   "cell_type": "code",
   "execution_count": 19,
   "metadata": {
    "tags": [
     "hide-input",
     "hide-output"
    ]
   },
   "outputs": [
    {
     "name": "stdout",
     "output_type": "stream",
     "text": [
      "Lenght \"a\" is 1.12e+1 m.\n",
      "Lenght \"c\" is 5.01e+0 m.\n",
      "Angle \"beta\" is 6.34e+1 degrees or 1.11e+0 radians\n"
     ]
    }
   ],
   "source": [
    "%reset -f\n",
    "\n",
    "import sympy as sym\n",
    "import numpy as np\n",
    "\n",
    "b = 10.0\n",
    "alpha = 26.6*np.pi/180.0\n",
    "\n",
    "a = sym.Symbol('a')\n",
    "c = sym.Symbol('c')\n",
    "beta = sym.Symbol('beta')\n",
    "\n",
    "eq1 = sym.cos(alpha) - b/a\n",
    "sol1 = sym.solve(eq1,a)\n",
    "a = sol1[0]\n",
    "answer = \"{:.2e}\".format(a)\n",
    "print('Lenght \"a\" is '+str(answer)+' m.')\n",
    "\n",
    "eq2 = sym.sin(alpha) - c/a\n",
    "sol2 = sym.solve(eq2,c)\n",
    "c = sol2[0]\n",
    "answer = \"{:.2e}\".format(c)\n",
    "print('Lenght \"c\" is '+str(answer)+' m.')\n",
    "\n",
    "eq3 = sym.sin(beta) - b/a\n",
    "sol3 = sym.solve(eq3,beta)\n",
    "beta = sol3[0]*180/np.pi\n",
    "answer1 = \"{:.2e}\".format(beta)\n",
    "answer2 = \"{:.2e}\".format(sol3[0])\n",
    "print('Angle \"beta\" is '+str(answer1)+' degrees or '+str(answer2)+' radians')"
   ]
  },
  {
   "cell_type": "markdown",
   "metadata": {},
   "source": [
    "<hr style=\"height:2px;border-width:0;color:gray;background-color:gray\">"
   ]
  },
  {
   "cell_type": "markdown",
   "metadata": {},
   "source": [
    "<h2>Problem C2.3</h2>\n",
    "    </header>\n",
    "\n",
    "Consider the triangle shown in the figure.\n",
    "<br>\n",
    "<img src=\"C2-fig2p.png\"  width=\"150\"/>\n",
    "<br>\n",
    "If $c = 5.0$ m and $\\beta = 14.3^\\circ $, find the following:\n",
    "\n",
    "1. the length of $a$.\n",
    "2. the length of $b$."
   ]
  },
  {
   "cell_type": "code",
   "execution_count": null,
   "metadata": {},
   "outputs": [],
   "source": [
    "# DIY Cell"
   ]
  },
  {
   "cell_type": "code",
   "execution_count": 21,
   "metadata": {
    "tags": [
     "hide-input",
     "hide-output"
    ]
   },
   "outputs": [
    {
     "name": "stdout",
     "output_type": "stream",
     "text": [
      "Lenght \"a\" is 5.2e+0 m.\n",
      "Lenght \"b\" is 1.3e+0 m.\n"
     ]
    }
   ],
   "source": [
    "%reset -f\n",
    "\n",
    "import sympy as sym\n",
    "import numpy as np\n",
    "\n",
    "c = 5\n",
    "beta = 14.3*np.pi/180.0\n",
    "\n",
    "a = sym.Symbol('a')\n",
    "b = sym.Symbol('b')\n",
    "\n",
    "eq1 = sym.cos(beta) - c/a\n",
    "sol1 = sym.solve(eq1,a)\n",
    "a = sol1[0]\n",
    "answer = \"{:.1e}\".format(a)\n",
    "print('Lenght \"a\" is '+str(answer)+' m.')\n",
    "\n",
    "eq1 = sym.tan(beta) - b/c\n",
    "sol1 = sym.solve(eq1,b)\n",
    "b = sol1[0]\n",
    "answer = \"{:.1e}\".format(b)\n",
    "print('Lenght \"b\" is '+str(answer)+' m.')"
   ]
  },
  {
   "cell_type": "markdown",
   "metadata": {},
   "source": [
    "<hr style=\"height:2px;border-width:0;color:gray;background-color:gray\">"
   ]
  },
  {
   "cell_type": "markdown",
   "metadata": {},
   "source": [
    "<h2>Problem C2.4</h2>\n",
    "    </header>\n",
    "    \n",
    "An adventurous dog strays from home, runs three blocks east, two blocks north, one block east, one block north, and two blocks west. Assuming that each block is about 100 m, how far from home and in what direction is the dog? Use a graphical method.\n",
    "\n",
    "[This problem is a slightly modified version from OpenStax. Access for free](https://openstax.org/books/university-physics-volume-1/pages/2-problems)"
   ]
  },
  {
   "cell_type": "code",
   "execution_count": 7,
   "metadata": {},
   "outputs": [],
   "source": [
    "# DIY Cell"
   ]
  },
  {
   "cell_type": "code",
   "execution_count": 28,
   "metadata": {
    "tags": [
     "hide-input",
     "hide-output"
    ]
   },
   "outputs": [
    {
     "name": "stdout",
     "output_type": "stream",
     "text": [
      "Displacement in x is: 200 m.\n",
      "Displacement in y is: 300 m.\n",
      "Distance from home: 361 m.\n",
      "Direction: 56 degrees north of east.\n"
     ]
    }
   ],
   "source": [
    "%reset -f\n",
    "\n",
    "import numpy as np\n",
    "\n",
    "# let +x be east, +y be north\n",
    "\n",
    "dx1 = 300\n",
    "dx2 = 100\n",
    "dx3 = -200\n",
    "\n",
    "dy1 = 200\n",
    "dy2 = 100\n",
    "\n",
    "# x-direction\n",
    "dx = dx1 + dx2 + dx3\n",
    "dy = dy1 + dy2\n",
    "\n",
    "print('Displacement in x is: '+str(dx)+' m.')\n",
    "print('Displacement in y is: '+str(dy)+' m.')\n",
    "\n",
    "d = np.sqrt(dx**2 + dy**2)\n",
    "answer = round(d)\n",
    "print('Distance from home: '+str(answer)+' m.')\n",
    "\n",
    "theta = np.arctan(dy/dx)*180/np.pi  #first quadrant\n",
    "answer = round(theta)\n",
    "print('Direction: '+str(answer)+' degrees north of east.')"
   ]
  },
  {
   "cell_type": "markdown",
   "metadata": {},
   "source": [
    "<hr style=\"height:2px;border-width:0;color:gray;background-color:gray\">"
   ]
  },
  {
   "cell_type": "markdown",
   "metadata": {},
   "source": [
    "<h2>Problem C2.5</h2>\n",
    "    </header>\n",
    "\n",
    "Assuming the +x-axis is horizontal and points to the right, resolve the vectors given in the following figure to their scalar components and express them in vector component form.\n",
    "<img src=\"C2-P2.5.png\"  width=\"400\"/>\n",
    "\n",
    "[This problem is a slightly modified version from OpenStax. Access for free](https://openstax.org/books/university-physics-volume-1/pages/2-problems)"
   ]
  },
  {
   "cell_type": "code",
   "execution_count": 8,
   "metadata": {},
   "outputs": [],
   "source": [
    "# DIY Cell"
   ]
  },
  {
   "cell_type": "code",
   "execution_count": 14,
   "metadata": {
    "tags": [
     "hide-input",
     "hide-output"
    ]
   },
   "outputs": [
    {
     "name": "stdout",
     "output_type": "stream",
     "text": [
      "Ax = +8.660254037844387\n",
      "Ay = +4.999999999999999\n",
      " \n",
      "Bx = +3.009075115760242\n",
      "By = +3.993177550236464\n",
      " \n",
      "Cx = +6.000000000000002\n",
      "Cy = -10.392304845413264\n",
      " \n",
      "Dx = -15.972710200945857\n",
      "Dy = +12.036300463040966\n",
      " \n",
      "Fx = -17.320508075688775\n",
      "Fy = -9.999999999999998\n",
      " \n"
     ]
    }
   ],
   "source": [
    "%reset -f\n",
    "\n",
    "import numpy as np\n",
    "\n",
    "#vector A\n",
    "A = 10.0\n",
    "thetaA = 30*np.pi/180.0\n",
    "Ax = A*np.cos(thetaA)\n",
    "Ay = A*np.sin(thetaA)\n",
    "print('Ax = +'+str(Ax))\n",
    "print('Ay = +'+str(Ay))\n",
    "print(' ')\n",
    "\n",
    "#vector B\n",
    "B = 5.0\n",
    "thetaB = 53*np.pi/180.0\n",
    "Bx = B*np.cos(thetaB)\n",
    "By = B*np.sin(thetaB)\n",
    "print('Bx = +'+str(Bx))\n",
    "print('By = +'+str(By))\n",
    "print(' ')\n",
    "\n",
    "#vector C\n",
    "C = 12.0\n",
    "thetaC = 60*np.pi/180.0\n",
    "Cx = C*np.cos(thetaC)\n",
    "Cy = -C*np.sin(thetaC)\n",
    "print('Cx = +'+str(Cx))\n",
    "print('Cy = '+str(Cy))\n",
    "print(' ')\n",
    "\n",
    "#vector D\n",
    "D = 20.0\n",
    "thetaD = 37*np.pi/180.0\n",
    "Dx = -D*np.cos(thetaD)\n",
    "Dy = D*np.sin(thetaD)\n",
    "print('Dx = '+str(Dx))\n",
    "print('Dy = +'+str(Dy))\n",
    "print(' ')\n",
    "\n",
    "#vector F\n",
    "F = 20.0\n",
    "thetaF = 30*np.pi/180.0\n",
    "Fx = -F*np.cos(thetaF)\n",
    "Fy = -F*np.sin(thetaF)\n",
    "print('Fx = '+str(Fx))\n",
    "print('Fy = '+str(Fy))\n",
    "print(' ')"
   ]
  },
  {
   "cell_type": "markdown",
   "metadata": {},
   "source": [
    "<hr style=\"height:2px;border-width:0;color:gray;background-color:gray\">"
   ]
  },
  {
   "cell_type": "markdown",
   "metadata": {},
   "source": [
    "<h2>Problem C2.6</h2>\n",
    "    </header>\n",
    "\n",
    "A sledge is being pulled by two horses on a flat terrain. The net force on the sledge can be expressed in the Cartesian coordinate system as vector $\\vec{F} = (-2980.0~\\hat{i} + 8200.0~\\hat{j})$ N, where $\\hat{i}$ and $\\hat{j}$ denote directions to the east and north, respectively. Find the magnitude and direction of the pull.\n",
    "\n",
    "[This problem is a slightly modified version from OpenStax. Access for free](https://openstax.org/books/university-physics-volume-1/pages/2-problems)"
   ]
  },
  {
   "cell_type": "code",
   "execution_count": null,
   "metadata": {},
   "outputs": [],
   "source": [
    "# DIY Cell"
   ]
  },
  {
   "cell_type": "code",
   "execution_count": 18,
   "metadata": {
    "tags": [
     "hide-input",
     "hide-output"
    ]
   },
   "outputs": [
    {
     "name": "stdout",
     "output_type": "stream",
     "text": [
      "Magnitude is 8724.700567927819 N.\n",
      "Direction is 70.02811474303941 degrees clockwise from the -x axis.\n"
     ]
    }
   ],
   "source": [
    "%reset -f\n",
    "\n",
    "import numpy as np\n",
    "\n",
    "Fx = -2980.0\n",
    "Fy = 8200.0\n",
    "\n",
    "F = np.sqrt(Fx**2 + Fy**2)\n",
    "angle = np.arctan(np.abs(Fy/Fx))*180.0/np.pi\n",
    "\n",
    "print('Magnitude is '+str(F)+' N.')\n",
    "print('Direction is '+str(angle)+' degrees clockwise from the -x axis.')"
   ]
  },
  {
   "cell_type": "markdown",
   "metadata": {},
   "source": [
    "<hr style=\"height:2px;border-width:0;color:gray;background-color:gray\">"
   ]
  },
  {
   "cell_type": "markdown",
   "metadata": {},
   "source": [
    "<h2>Problem C2.7</h2>\n",
    "    </header>\n",
    "\n",
    "Given two displacement vectors $\\vec{A} = (3.00~\\hat{i} - 4.00~\\hat{j} + 4.00~\\hat{k})$ m and $\\vec{B} = (2.00~\\hat{i} + 3.00~\\hat{j} - 7.00~\\hat{k})$ m, find the displacements and their magnitudes for \n",
    "\n",
    "1. $\\vec{C} = \\vec{A} + \\vec{B}$\n",
    "2. $\\vec{D} = 2\\vec{A} - \\vec{B}$\n",
    "\n",
    "[This problem is a slightly modified version from OpenStax. Access for free](https://openstax.org/books/university-physics-volume-1/pages/2-problems)"
   ]
  },
  {
   "cell_type": "code",
   "execution_count": null,
   "metadata": {},
   "outputs": [],
   "source": [
    "# DIY Cell"
   ]
  },
  {
   "cell_type": "code",
   "execution_count": 30,
   "metadata": {
    "tags": [
     "hide-input",
     "hide-output"
    ]
   },
   "outputs": [
    {
     "name": "stdout",
     "output_type": "stream",
     "text": [
      "C = [ 5. -1. -3.]\n",
      "D = [  4. -11.  15.]\n"
     ]
    }
   ],
   "source": [
    "%reset -f\n",
    "\n",
    "import numpy as np\n",
    "\n",
    "A = np.array([3.00, -4.00, 4.00])\n",
    "B = np.array([2.00, 3.00, -7.00])\n",
    "\n",
    "C = A + B\n",
    "D = 2*A - B\n",
    "\n",
    "print('C = '+str(C))\n",
    "print('D = '+str(D))"
   ]
  },
  {
   "cell_type": "markdown",
   "metadata": {},
   "source": [
    "<hr style=\"height:2px;border-width:0;color:gray;background-color:gray\">"
   ]
  },
  {
   "cell_type": "markdown",
   "metadata": {},
   "source": [
    "<h2>Problem C2.8</h2>\n",
    "    </header>\n",
    "\n",
    "A barge is pulled by the two tugboats shown in the following figure. One tugboat pulls on the barge with a force of magnitude $4000.0$ units of force at $15^\\circ$ above the line AB (see the figure) and the other tugboat pulls on the barge with a force of magnitude $5000.0$ units of force at $12^\\circ$ below the line AB. \n",
    "\n",
    "1. Resolve the pulling forces to their scalar components and find the components of the resultant force pulling on the barge. \n",
    "2. What is the magnitude of the resultant pull? \n",
    "3. What is its direction relative to the line AB?\n",
    "\n",
    "<img src=\"C2-P2.8.png\"  width=\"300\"/>\n",
    "\n",
    "[This problem is a slightly modified version from OpenStax. Access for free](https://openstax.org/books/university-physics-volume-1/pages/2-problems)"
   ]
  },
  {
   "cell_type": "code",
   "execution_count": null,
   "metadata": {},
   "outputs": [],
   "source": [
    "# DIY Cell"
   ]
  },
  {
   "cell_type": "code",
   "execution_count": 9,
   "metadata": {
    "tags": [
     "hide-input",
     "hide-output"
    ]
   },
   "outputs": [
    {
     "name": "stdout",
     "output_type": "stream",
     "text": [
      "The components of the resultant force are fx = -4.282273678713636, fy = 8754.441308825302\n",
      "The magnitude of the resultant force is 8754.442356171792\n",
      "The direction is 0.028026481677814463 counterclockwise from the AB line.\n"
     ]
    }
   ],
   "source": [
    "%reset -f\n",
    "\n",
    "import numpy as np\n",
    "\n",
    "#let +x be to the right on the figure and +y up\n",
    "\n",
    "#boat 1\n",
    "f1 = 5000.0\n",
    "theta1 = 12*np.pi/180.0\n",
    "f1x = -f1*np.sin(theta1)\n",
    "f1y = f1*np.cos(theta1)\n",
    "\n",
    "#boat 2\n",
    "f2 = 4000.0\n",
    "theta2 = 15*np.pi/180.0\n",
    "f2x = f2*np.sin(theta2)\n",
    "f2y = f2*np.cos(theta2)\n",
    "\n",
    "fx = f1x + f2x\n",
    "fy = f1y + f2y\n",
    "\n",
    "print('The components of the resultant force are '+'fx = '+str(fx)+', fy = '+str(fy))\n",
    "\n",
    "f = np.sqrt(fx**2 + fy**2)\n",
    "print('The magnitude of the resultant force is '+str(f))\n",
    "\n",
    "theta = np.arctan(np.abs(fx/fy))*180.0/np.pi\n",
    "print('The direction is '+str(theta)+' counterclockwise from the AB line.')"
   ]
  },
  {
   "cell_type": "markdown",
   "metadata": {},
   "source": [
    "<hr style=\"height:2px;border-width:0;color:gray;background-color:gray\">"
   ]
  },
  {
   "cell_type": "markdown",
   "metadata": {},
   "source": [
    "<h2>Problem C2.9</h2>\n",
    "    </header>\n",
    "\n",
    "Assuming the +x-axis is horizontal to the right for the vectors in the following figure, find the following scalar products\n",
    "\n",
    "1. $\\vec{A}\\cdot\\vec{C}$\n",
    "2. $\\vec{A}\\cdot\\vec{F}$\n",
    "3. $\\vec{D}\\cdot\\vec{C}$\n",
    "4. $\\vec{A}\\cdot(\\vec{F} + 2\\vec{C})$\n",
    "5. $\\hat{i}\\cdot\\vec{B}$\n",
    "6. $\\hat{j}\\cdot\\vec{B}$\n",
    "7. $(3\\hat{i} - \\hat{j})\\cdot\\vec{B}$\n",
    "8. $\\vec{B}\\cdot\\vec{B}$\n",
    "\n",
    "<img src=\"C2-P2.5.png\"  width=\"400\"/>\n",
    "\n",
    "[This problem is a slightly modified version from OpenStax. Access for free](https://openstax.org/books/university-physics-volume-1/pages/2-problems)"
   ]
  },
  {
   "cell_type": "code",
   "execution_count": null,
   "metadata": {},
   "outputs": [],
   "source": [
    "# DIY Cell"
   ]
  },
  {
   "cell_type": "code",
   "execution_count": 27,
   "metadata": {
    "tags": [
     "hide-input",
     "hide-output"
    ]
   },
   "outputs": [
    {
     "name": "stdout",
     "output_type": "stream",
     "text": [
      "The dot product AC is 7.34788079488412e-15 NOTE: is zero.\n",
      "The dot product AF is -200.0\n",
      "The dot product DC is -220.9211648285857\n",
      "The dot product AF + 2AC is -199.99999999999997\n",
      "The dot product iB is 3.0090751157602416\n",
      "The dot product jB is 3.993177550236464\n",
      "The dot product 3iB - jB is 5.034047797044261\n",
      "The dot product BB is 25.0 NOTE: the dot product of a vector withitself is its magnitude.\n"
     ]
    }
   ],
   "source": [
    "%reset -f\n",
    "\n",
    "import numpy as np\n",
    "\n",
    "def dotproduct(A,B,theta):\n",
    "    theta = np.radians(theta)\n",
    "    return A*B*np.cos(theta)\n",
    "\n",
    "# Part 1\n",
    "A = 10.0\n",
    "C = 12.0\n",
    "thetaAC = 90.0\n",
    "print('The dot product AC is '+str(dotproduct(A,C,thetaAC))+' NOTE: is zero.')\n",
    "\n",
    "# Part 2\n",
    "A = 10.0\n",
    "F = 20.0\n",
    "thetaAF = 180.0\n",
    "print('The dot product AF is '+str(dotproduct(A,F,thetaAF)))\n",
    "\n",
    "# Part 3\n",
    "D = 20.0\n",
    "C = 12.0\n",
    "thetaDC = 37+90+30\n",
    "print('The dot product DC is '+str(dotproduct(D,C,thetaDC)))\n",
    "\n",
    "# Part 4\n",
    "D = 20.0\n",
    "C = 12.0\n",
    "AF = dotproduct(A,F,thetaAF)\n",
    "AC = dotproduct(A,C,thetaAC)\n",
    "print('The dot product AF + 2AC is '+str(AF + 2*AC))\n",
    "\n",
    "# Part 5\n",
    "i = 1.0\n",
    "B = 5.0\n",
    "thetaiB = 53\n",
    "print('The dot product iB is '+str(dotproduct(i,B,thetaiB)))\n",
    "\n",
    "# Part 6\n",
    "j = 1.0\n",
    "B = 5.0\n",
    "thetajB = 90 - 53\n",
    "print('The dot product jB is '+str(dotproduct(j,B,thetajB)))\n",
    "\n",
    "# Part 7\n",
    "iB = dotproduct(i,B,thetaiB)\n",
    "jB = dotproduct(j,B,thetajB)\n",
    "print('The dot product 3iB - jB is '+str(3*iB - jB))\n",
    "\n",
    "# Part 8\n",
    "thetaBB = 0.0\n",
    "print('The dot product BB is '+str(dotproduct(B,B,thetaBB))+' NOTE: the dot product of a vector withitself is its magnitude.')"
   ]
  },
  {
   "cell_type": "markdown",
   "metadata": {},
   "source": [
    "<hr style=\"height:2px;border-width:0;color:gray;background-color:gray\">"
   ]
  },
  {
   "cell_type": "markdown",
   "metadata": {},
   "source": [
    "<h2>Problem C2.10</h2>\n",
    "    </header>\n",
    "\n",
    "Find the angle between vectors for \n",
    "\n",
    "1. $\\vec{D} = (-3.0~\\hat{i} - 4.0~\\hat{j})$ m and $\\vec{A} = (-3.0~\\hat{i} + 4.0~\\hat{j})$ m.\n",
    "2. $\\vec{C} = (2.0~\\hat{i} - 4.0~\\hat{j} + \\hat{k})$ m and $\\vec{B} = (-2.0~\\hat{i} + 3.0~\\hat{j} + 2.0~\\hat{k})$ m.\n",
    "\n",
    "[This problem is a slightly modified version from OpenStax. Access for free](https://openstax.org/books/university-physics-volume-1/pages/2-problems)"
   ]
  },
  {
   "cell_type": "code",
   "execution_count": null,
   "metadata": {},
   "outputs": [],
   "source": [
    "# DIY Cell"
   ]
  },
  {
   "cell_type": "code",
   "execution_count": 29,
   "metadata": {
    "tags": [
     "hide-input",
     "hide-output"
    ]
   },
   "outputs": [
    {
     "name": "stdout",
     "output_type": "stream",
     "text": [
      "The angle between D and A is 106.26020470831196\n",
      "The angle between C and B is 137.81313547305282\n"
     ]
    }
   ],
   "source": [
    "%reset -f\n",
    "\n",
    "import numpy as np\n",
    "\n",
    "def angle_vectors(V1, V2):\n",
    "    V1_mag = np.sqrt(V1[0]**2 + V1[1]**2 + V1[2]**2)\n",
    "    V2_mag = np.sqrt(V2[0]**2 + V2[1]**2 + V2[2]**2)\n",
    "    \n",
    "    dotproduct = V1[0]*V2[0] + V1[1]*V2[1] + V1[2]*V2[2]\n",
    "    \n",
    "    theta = np.arccos(dotproduct/(V1_mag*V2_mag))*180.0/np.pi\n",
    "    \n",
    "    return theta\n",
    "\n",
    "D = np.array([-3.0, -4.0, 0])\n",
    "A = np.array([-3.0, 4.0, 0])\n",
    "\n",
    "print('The angle between D and A is '+str(angle_vectors(D, A)))\n",
    "\n",
    "C = np.array([2.0, -4.0, 1.0])\n",
    "B = np.array([-2.0, 3.0, 2.0])\n",
    "\n",
    "print('The angle between C and B is '+str(angle_vectors(C, B)))"
   ]
  },
  {
   "cell_type": "markdown",
   "metadata": {},
   "source": [
    "<hr style=\"height:2px;border-width:0;color:gray;background-color:gray\">"
   ]
  },
  {
   "cell_type": "markdown",
   "metadata": {},
   "source": [
    "<h2>Problem C2.11</h2>\n",
    "    </header>\n",
    "\n",
    "Find the angles that vector $\\vec{D} = (2.0~\\hat{i} - 4.0~\\hat{j} + \\hat{k})$ m makes with the x-, y-, and z- axes.\n",
    "\n",
    "[This problem is a slightly modified version from OpenStax. Access for free](https://openstax.org/books/university-physics-volume-1/pages/2-problems)"
   ]
  },
  {
   "cell_type": "code",
   "execution_count": null,
   "metadata": {},
   "outputs": [],
   "source": [
    "# DIY Cell"
   ]
  },
  {
   "cell_type": "code",
   "execution_count": 31,
   "metadata": {
    "tags": [
     "hide-input",
     "hide-output"
    ]
   },
   "outputs": [
    {
     "name": "stdout",
     "output_type": "stream",
     "text": [
      "The angle between D and i is 64.1233099391725\n",
      "The angle between D and j is 150.7940677526006\n",
      "The angle between D and k is 77.39561735162083\n"
     ]
    }
   ],
   "source": [
    "%reset -f\n",
    "\n",
    "import numpy as np\n",
    "\n",
    "def angle_vectors(V1, V2):\n",
    "    V1_mag = np.sqrt(V1[0]**2 + V1[1]**2 + V1[2]**2)\n",
    "    V2_mag = np.sqrt(V2[0]**2 + V2[1]**2 + V2[2]**2)\n",
    "    \n",
    "    dotproduct = V1[0]*V2[0] + V1[1]*V2[1] + V1[2]*V2[2]\n",
    "    \n",
    "    theta = np.arccos(dotproduct/(V1_mag*V2_mag))*180.0/np.pi\n",
    "    \n",
    "    return theta\n",
    "\n",
    "D = np.array([2.0, -4.0, 1.0])\n",
    "i = np.array([1,0,0])\n",
    "j = np.array([0,1,0])\n",
    "k = np.array([0,0,1])\n",
    "\n",
    "print('The angle between D and i is '+str(angle_vectors(D, i)))\n",
    "print('The angle between D and j is '+str(angle_vectors(D, j)))\n",
    "print('The angle between D and k is '+str(angle_vectors(D, k)))"
   ]
  },
  {
   "cell_type": "markdown",
   "metadata": {},
   "source": [
    "<hr style=\"height:2px;border-width:0;color:gray;background-color:gray\">"
   ]
  }
 ],
 "metadata": {
  "celltoolbar": "Tags",
  "kernelspec": {
   "display_name": "Python 3 (ipykernel)",
   "language": "python",
   "name": "python3"
  },
  "language_info": {
   "codemirror_mode": {
    "name": "ipython",
    "version": 3
   },
   "file_extension": ".py",
   "mimetype": "text/x-python",
   "name": "python",
   "nbconvert_exporter": "python",
   "pygments_lexer": "ipython3",
   "version": "3.10.9"
  }
 },
 "nbformat": 4,
 "nbformat_minor": 4
}
