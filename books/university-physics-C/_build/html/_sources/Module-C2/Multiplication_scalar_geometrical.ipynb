{
 "cells": [
  {
   "cell_type": "markdown",
   "metadata": {},
   "source": [
    "# C2.5 Multiplication of a Vector by a Scalar: Geometric Approach\n",
    "<hr style=\"height:2px;border-width:0;color:gray;background-color:gray\">\n",
    "\n",
    "## C2.5.1 Approach\n",
    "\n",
    "We can scale a vector $\\vec{A}$ by multiplying it by a scalar $c$ (where do you think the name \"scalar\" comes from?). The scaled vector is a new vector $\\vec{B} = c\\vec{A}$. If $c$ is positive, then $\\vec{A}$ and $\\vec{B}$ are in the same directions. If $c$ is negative then the two vectors are in opposite directions.\n",
    "\n",
    "<hr style=\"height:2px;border-width:0;color:gray;background-color:gray\">"
   ]
  },
  {
   "cell_type": "markdown",
   "metadata": {},
   "source": [
    "<div style=\"background-color: #D0D0D0 ; padding: 10px; border: 1px solid black;\">\n",
    "<header>\n",
    "<h3> Example 1</h3>\n",
    "    </header>\n",
    "    \n",
    "In this example, we are multiplying the vector by $c = 1.5$ and $c = -1$. The scalar multiplication scales the length of the vector, and the sign determines if it remains in the same direction or opposite direction.\n",
    "\n",
    "<img src=\"C2-fig10.png\"  width=\"400\"/>\n",
    "</div>\n",
    "<hr style=\"height:2px;border-width:0;color:gray;background-color:gray\">"
   ]
  },
  {
   "cell_type": "markdown",
   "metadata": {},
   "source": [
    "## Important Application\n",
    "Later in this module we will introduce the concept of unit vectors. These are extremely important vectors and we will see how multiplication of these unit vectors by a scalar and subsequent addition allows us to create **any** vector.\n",
    "\n",
    "<hr style=\"height:2px;border-width:0;color:gray;background-color:gray\">"
   ]
  }
 ],
 "metadata": {
  "kernelspec": {
   "display_name": "Python 3 (ipykernel)",
   "language": "python",
   "name": "python3"
  },
  "language_info": {
   "codemirror_mode": {
    "name": "ipython",
    "version": 3
   },
   "file_extension": ".py",
   "mimetype": "text/x-python",
   "name": "python",
   "nbconvert_exporter": "python",
   "pygments_lexer": "ipython3",
   "version": "3.10.9"
  }
 },
 "nbformat": 4,
 "nbformat_minor": 4
}
