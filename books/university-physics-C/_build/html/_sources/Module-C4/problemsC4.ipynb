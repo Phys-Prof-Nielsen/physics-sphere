{
 "cells": [
  {
   "cell_type": "markdown",
   "metadata": {},
   "source": [
    "# C4.X Problems\n",
    "<hr style=\"height:2px;border-width:0;color:gray;background-color:gray\">"
   ]
  },
  {
   "cell_type": "markdown",
   "metadata": {},
   "source": [
    "<h2>Problem C4.1</h2>\n",
    "    </header>\n",
    "\n",
    "<b>Soccer Kick</b>: A soccer player kicks a ball initially at rest with a force of 300.0 N at an angle of 35 degrees above the horizontal. If the contact time between the foot and the ball is 0.020 seconds, calculate the impulse applied to the ball."
   ]
  },
  {
   "cell_type": "markdown",
   "metadata": {},
   "source": [
    "```{admonition} Solution C4.1\n",
    ":class: tip, dropdown\n",
    "\n",
    "<div style=\"background-color: #D0D0D0 ; padding: 10px; border: 1px solid black;\">\n",
    "\n",
    "**Solving Methodology**\n",
    "We will be using the definition of impulse\n",
    "\n",
    "$$ \\vec{j} = \\vec{f}\\Delta t $$\n",
    "\n",
    "to find the impulse due to the kicking force.\n",
    "\n",
    "**Solution**\n",
    "\n",
    "Using a standard xy-coordinate system with the force vector having positive components, we can write\n",
    "\n",
    "$$ \\vec{j} =\n",
    "\\begin{bmatrix}\n",
    " f_x\\Delta t\n",
    " \\\\\n",
    " f_y\\Delta t \n",
    "\\end{bmatrix} =\n",
    "\\begin{bmatrix}\n",
    " f\\cos\\theta\\Delta t\n",
    " \\\\\n",
    " f\\cos\\theta\\Delta t\n",
    "\\end{bmatrix} $$\n",
    "\n",
    "We can now insert our numbers into a calculator or use the Jupyter notebook build-in Python to our advantage. The calculations are below this cell.\n",
    "\n",
    "To proper significant figures, our answer is\n",
    "\n",
    "$$ \\vec{j} =\n",
    "\\begin{bmatrix}\n",
    " 4.9~\\textrm{kgm/s}\n",
    " \\\\\n",
    " 3.4~\\textrm{kgm/s} \n",
    "\\end{bmatrix} \n",
    "$$\n",
    "\n",
    "If we want to provide the answer in same format as the problem, then we use the Pythagorean theorem to obtain the magnitude of the impulse followed by trigonometry to obtain the direction.\n",
    "\n",
    "$$ j = \\sqrt{j_x^2 + j_y^2} $$\n",
    "\n",
    "and\n",
    "\n",
    "$$ \\theta = \\tan^{-1}\\left({\\frac{j_y}{j_x}}\\right) $$\n",
    "\n",
    "Calculations are in cell below.\n",
    "\n",
    "The impulse has a magnitude of 6.0 kgm/s and is directed at an angle 35 degrees above the +x-axis. The latter we could directly infer from the problem: since the initial velocity of the ball is zero, the final velocity must be in the same direction as the applied force.\n",
    "\n",
    "</div>\n",
    "\n",
    "```"
   ]
  },
  {
   "cell_type": "code",
   "execution_count": null,
   "metadata": {
    "tags": [
     "hide-input",
     "hide-output"
    ]
   },
   "outputs": [],
   "source": [
    "import numpy as np\n",
    "\n",
    "f = 300.0\n",
    "angle = 35.\n",
    "dt = 0.020\n",
    "\n",
    "jx = f*np.cos(angle*np.pi/180.)*dt\n",
    "jy = f*np.sin(angle*np.pi/180.)*dt\n",
    "\n",
    "print(jx,jy)"
   ]
  },
  {
   "cell_type": "code",
   "execution_count": null,
   "metadata": {
    "tags": [
     "hide-input",
     "hide-output"
    ]
   },
   "outputs": [],
   "source": [
    "import numpy as np\n",
    "\n",
    "f = 300.0\n",
    "angle = 35.\n",
    "dt = 0.020\n",
    "\n",
    "jx = f*np.cos(angle*np.pi/180.)*dt\n",
    "jy = f*np.sin(angle*np.pi/180.)*dt\n",
    "\n",
    "j = np.sqrt(jx**2 + jy**2)\n",
    "theta = np.arctan(jy/jx)*180./np.pi\n",
    "\n",
    "print(j,theta)"
   ]
  },
  {
   "cell_type": "markdown",
   "metadata": {},
   "source": [
    "<hr style=\"height:2px;border-width:0;color:gray;background-color:gray\">"
   ]
  },
  {
   "cell_type": "markdown",
   "metadata": {},
   "source": [
    "<h2>Problem C4.2</h2>\n",
    "    </header>\n",
    "\n",
    "A 0.50 kg particle is subjected to a net force given by $\\vec{F}_{net} = (3.0\\textrm{N})\\hat{i} + (41~\\textrm{N})\\hat{j}$ for 2.00 seconds. Calculate the\n",
    "impulse experienced by the particle during this time."
   ]
  },
  {
   "cell_type": "markdown",
   "metadata": {},
   "source": [
    "```{admonition} Solution C4.2\n",
    ":class: tip, dropdown\n",
    "\n",
    "<div style=\"background-color: #D0D0D0 ; padding: 10px; border: 1px solid black;\">\n",
    "\n",
    "**Solving Methodology**\n",
    "We will be using the definition of impulse with the net force\n",
    "\n",
    "$$ \\vec{j} = \\vec{f}_{net}\\Delta t $$\n",
    "\n",
    "to find the net impulse.\n",
    "\n",
    "**Solution**\n",
    "\n",
    "We simply perform vector multiplication by a scalar by multiplying both components with the elapsed time (see cell below for the calculations in Symbolic Python):\n",
    "\n",
    "The impulse is\n",
    "\n",
    "$$ \\vec{j} = (6.0~\\textrm{kgm/s})~\\hat{i} + (82~\\textrm{kgm/s})~\\hat{j} $$\n",
    "\n",
    "</div>\n",
    "```"
   ]
  },
  {
   "cell_type": "code",
   "execution_count": null,
   "metadata": {
    "tags": [
     "hide-output",
     "hide-input"
    ]
   },
   "outputs": [],
   "source": [
    "fx = 3.0\n",
    "fy = 41\n",
    "dt = 2.00\n",
    "\n",
    "jx = fx*dt\n",
    "jy = fy*dt\n",
    "\n",
    "print(jx, jy)"
   ]
  },
  {
   "cell_type": "markdown",
   "metadata": {},
   "source": [
    "<hr style=\"height:2px;border-width:0;color:gray;background-color:gray\">"
   ]
  },
  {
   "cell_type": "markdown",
   "metadata": {},
   "source": [
    "<h2>Problem C4.3</h2>\n",
    "    </header>\n",
    "\n",
    "<b>Air Hockey Collision</b>: On an air hockey table, a 0.20 kg puck moving eastward at 5.0 m/s collides with a stationary 0.10 kg puck. After the collision, the first puck moves westward at 2.0 m/s. Calculate the final velocity of the second puck."
   ]
  },
  {
   "cell_type": "markdown",
   "metadata": {},
   "source": [
    "```{admonition} Solution C4.3\n",
    ":class: tip, dropdown\n",
    "\n",
    "<div style=\"background-color: #D0D0D0 ; padding: 10px; border: 1px solid black;\">\n",
    "\n",
    "**Solving Methodology**\n",
    "The nature of air hockey is to provide a near-frictionless surface. Hence, we can to a good approximation say that the net externation force on the system of pucks is zero and momentum is conserved.\n",
    "\n",
    "$$ \\vec{P}_i = \\vec{P}_f $$\n",
    "\n",
    "This approach will allow us to solve for the one unknown variable of interest.\n",
    "\n",
    "**Solution**\n",
    "\n",
    "Let eastward (or x) be positive:\n",
    "\n",
    "$$ p_{1_x,i} + p_{2_x,i} = p_{1_x,f} + p_{2_x,f}$$\n",
    "\n",
    "The second puck is stationary before the collision, and we have\n",
    "\n",
    "$$ m_{1}v_{1_x,i} = m_{1}v_{1_x,f} + m_{2}v_{2_x,f} $$\n",
    "\n",
    "Plug in values and solve for $v_{2_x,f}$. If we solve the equation using Symbolic Python (see cell below), it is convenient to cast the equation in the following form:\n",
    "\n",
    "$$ 0 = m_{1}v_{1_x,f} + m_{2}v_{2_x,f} - m_{1}v_{1_x,i}$$\n",
    "\n",
    "The second particle moves with a speed of $14$ m/s eastward after the collision.\n",
    "\n",
    "</div>\n",
    "```"
   ]
  },
  {
   "cell_type": "code",
   "execution_count": null,
   "metadata": {
    "tags": [
     "hide-input",
     "hide-output"
    ]
   },
   "outputs": [],
   "source": [
    "import sympy as sym\n",
    "\n",
    "m1 = 0.20\n",
    "m2 = 0.10\n",
    "v1i = 5.0\n",
    "v1f = -2.0\n",
    "\n",
    "v2f = sym.Symbol('v2f')\n",
    "\n",
    "eq = m1*v1f + m2*v2f - m1*v1i\n",
    "\n",
    "sol = sym.solve(eq)\n",
    "\n",
    "print(sol)"
   ]
  },
  {
   "cell_type": "markdown",
   "metadata": {},
   "source": [
    "<hr style=\"height:2px;border-width:0;color:gray;background-color:gray\">"
   ]
  },
  {
   "cell_type": "markdown",
   "metadata": {},
   "source": [
    "## Problem C4.4\n",
    "\n",
    "<b>Pool Table Collision</b>: On a pool table, a cue-ball (mass 0.17 kg) moving at 2.0 m/s in the east direction collides with a stationary 9-ball (mass 0.16 kg). After the collision, the cue-ball moves at an angle of 30.0 degrees north of east, while the 9-ball moves at an angle of 60.0 degrees south of east. Calculate the final velocity of each ball."
   ]
  },
  {
   "cell_type": "markdown",
   "metadata": {},
   "source": [
    "```{admonition} Solution C4.4\n",
    ":class: tip, dropdown\n",
    "\n",
    "<div style=\"background-color: #D0D0D0 ; padding: 10px; border: 1px solid black;\">\n",
    "\n",
    "**Solving Methodology**\n",
    "While a pool table is not even close to be frictionless, if we can consider the external forces small during the collisions compared to the collision force. This allows us to apply conservation of momentum to estimate the velocities right before and after the collision.\n",
    "\n",
    "$$ \\vec{P}_i = \\vec{P}_f $$\n",
    "\n",
    "We have two unknowns here, but the 2D nature of the problem implies that conservation of momentum will give is two equations. This approach will allow us to solve for the unknown variables of interest.\n",
    "\n",
    "**Solution**\n",
    "\n",
    "If we let the plane of the table be our xy-plane with eastward aligned with +x, we can consider the x- and y-components of the momentum to be conserved.\n",
    "\n",
    "$$ m_{1}v_{1_x,i} + m_{2}v_{2_x,i} = m_{1}v_{1_x,f} + m_{2}v_{2_x,f} $$\n",
    "\n",
    "and\n",
    "\n",
    "$$ m_{1}v_{1_y,i} + m_{2}v_{2_y,i} = m_{1}v_{1_y,f} + m_{2}v_{2_y,f} $$\n",
    "\n",
    "The velocity components can be determined using trigonometry.\n",
    "\n",
    "Inserting the velocity components in terms of magnitude and direction:\n",
    "\n",
    "\n",
    "$$ m_{1}v_{1,i} + 0 = m_{1}v_{1,f}\\cos\\theta_1 + m_{2}v_{2,f}\\cos\\theta_2 $$\n",
    "\n",
    "and\n",
    "\n",
    "$$ 0 + 0 = m_{1}v_{1,f}\\sin\\theta_1 - m_{2}v_{2,f}\\sin\\theta_2 $$\n",
    "\n",
    "We now have two equations and two unknowns. Choose your favorite method to solve the system of equations. I chose Symbolic Python (see cell below) and will cast the equations into a more suitable form:\n",
    "\n",
    "$$ 0 = m_{1}v_{1,f}\\cos\\theta_1 + m_{2}v_{2,f}\\cos\\theta_2 - m_{1}v_{1,i}$$\n",
    "\n",
    "and\n",
    "\n",
    "$$ 0 = m_{1}v_{1,f}\\sin\\theta_1 - m_{2}v_{2,f}\\sin\\theta_2 $$\n",
    "\n",
    "where we in the last step recognized that the 9-ball moves with a component in the negative y-direction.\n",
    "\n",
    "After the collision the velocities are: 1.7 m/s in a direction 30.0 degrees north of east (cue ball) and 1.1 m/s in a direction 60.0 degrees south of east (9-ball).\n",
    "\n",
    "</div>\n",
    "```"
   ]
  },
  {
   "cell_type": "code",
   "execution_count": null,
   "metadata": {
    "tags": [
     "hide-input",
     "hide-output"
    ]
   },
   "outputs": [],
   "source": [
    "import sympy as sym\n",
    "import numpy as np\n",
    "\n",
    "m1 = 0.17\n",
    "m2 = 0.16\n",
    "v1i = 2.0\n",
    "theta1 = 30.0\n",
    "theta2 = 60.0\n",
    "\n",
    "v1f = sym.Symbol('v1f')\n",
    "v2f = sym.Symbol('v2f')\n",
    "\n",
    "eq1 = m1*v1f*np.cos(theta1*np.pi/180.0) + m2*v2f*np.cos(theta2*np.pi/180.0) - m1*v1i\n",
    "eq2 = m1*v1f*np.sin(theta1*np.pi/180.0) - m2*v2f*np.sin(theta2*np.pi/180.0)\n",
    "\n",
    "sol = sym.solve((eq1,eq2),(v1f,v2f))\n",
    "\n",
    "print(sol)"
   ]
  },
  {
   "cell_type": "markdown",
   "metadata": {},
   "source": [
    "<hr style=\"height:2px;border-width:0;color:gray;background-color:gray\">"
   ]
  },
  {
   "cell_type": "markdown",
   "metadata": {},
   "source": [
    "## Problem C4.5\n",
    "\n",
    "<b>Particle Collision in a Particle Accelerator</b><br>\n",
    "In a high-energy particle accelerator experiment, two protons, P1 and P2, with identical masses of $1.67 \\times 10^{-27}$ kg collides. P2 is accelerated towards towards P1. Initially, P1 is at rest, while P2 is moving with a velocity of 0.90$c$ (where $c$ is the speed of light) in the positive x-direction.\n",
    "They collide head-on and annihilate each other, producing two new particles, A and B.\n",
    "Particle A moves off at an angle of 60.0 degrees north of the x-axis with a speed of 0.60$c$. Particle Bmoves off at an angle of 30.0 degrees south of the x-axis with a speed of 0.70$c$.\n",
    "\n",
    "1. Calculate the total momentum of the system before the collision.\n",
    "2. Calculate the total momentum of the system after the collision.\n",
    "3. Determine the masses of particles A and  B.\n",
    "5. Verify whether kinetic energy is conserved in this collision. "
   ]
  },
  {
   "cell_type": "markdown",
   "metadata": {},
   "source": [
    "```{admonition} Solution C4.5\n",
    ":class: tip, dropdown\n",
    "\n",
    "<div style=\"background-color: #D0D0D0 ; padding: 10px; border: 1px solid black;\">\n",
    "\n",
    "**Solving Methodology**\n",
    "We use the defition of momentum for a particle to find the total momentum of the system before and after.\n",
    "Next, we assume conservation of momentum and ignore relativistic effects to determine the masses. Finally, we can find the combined kinetic energies before and after using the definition of kinetic energy.\n",
    "\n",
    "**Solution**\n",
    "\n",
    "Part 1.\n",
    "\n",
    "The momentum before the collision is the combined momentum of the two particles. Choose a reference system such that P2 is traveling in +x-direction.\n",
    "\n",
    "$$ \\vec{P_i} =\n",
    "\\begin{bmatrix}\n",
    " p_{1_i,x} + p_{2_i,x}\n",
    " \\\\\n",
    " p_{1_i,y} + p_{2_i,y} \n",
    "\\end{bmatrix} =\n",
    "\\begin{bmatrix}\n",
    " 0 + m_{2}v_{2,i,x}\n",
    " \\\\\n",
    " 0\n",
    "\\end{bmatrix} $$\n",
    "\n",
    "From the calculation (see cell below), we find that the initial momentum is \n",
    "\n",
    "$$ \\vec{P_i} =\n",
    "\\begin{bmatrix}\n",
    " 5\\times 10^{-19}~\\textrm{kgm/s}\n",
    " \\\\\n",
    " 0~\\textrm{kgm/s}\n",
    "\\end{bmatrix} $$\n",
    "\n",
    "Part 2.\n",
    "\n",
    "Since there is no net external force acting on the system in the plane of motion, momentum is conserved and we have\n",
    "\n",
    "$$ \\vec{P_f} =\n",
    "\\begin{bmatrix}\n",
    " 5\\times 10^{-19}~\\textrm{kgm/s}\n",
    " \\\\\n",
    " 0~\\textrm{kgm/s}\n",
    "\\end{bmatrix} $$\n",
    "\n",
    "Part 3.\n",
    "\n",
    "Since we know the final momentum of system, we can use that value to find the unknown mass of particle B and its unknown speed.\n",
    "\n",
    "After the collision the system is moving in the xy-plane and we must use trigonometry to infer the components of each new particle:\n",
    "\n",
    "$$ \\vec{P_f} =\n",
    "\\begin{bmatrix}\n",
    " p_{A_f,x} + p_{B_f,x}\n",
    " \\\\\n",
    " p_{A_f,y} + p_{B_f,y} \n",
    "\\end{bmatrix} =\n",
    "\\begin{bmatrix}\n",
    " m_{A}v_{A,f,x} + m_{B}v_{B,f,x}\n",
    " \\\\\n",
    " m_{A}v_{A,f,y} + m_{B}v_{B,f,y}\n",
    "\\end{bmatrix} =\n",
    "\\begin{bmatrix}\n",
    " m_{A}v_{A,f}\\cos\\theta_A + m_{B}v_{B,f}\\cos\\theta_B\n",
    " \\\\\n",
    " m_{A}v_{A,f}\\sin\\theta_A - m_{B}v_{B,f}\\sin\\theta_B\n",
    "\\end{bmatrix} $$\n",
    "\n",
    "This is a system of two equations and two unknowns. As usual, I am too lazy to do this on paper (and I make way too many algebraic mistakes), so I will cast the two equations into forms suitable for Symbolic Python:\n",
    "\n",
    "$$ 0 = m_{A}v_{A,f}\\cos\\theta_A + m_{B}v_{B,f}\\cos\\theta_B - 4.50599\\times 10^{-19} $$\n",
    "\n",
    "and \n",
    "\n",
    "$$ 0 = m_{A}v_{A,f}\\sin\\theta_A - m_{B}v_{B,f}\\sin\\theta_B $$\n",
    "\n",
    "Solving for the masses, we get that $m_A = 1.3\\times 10^{-27}$ kg and $m_B = 1.9\\times 10^{-27}$ kg\n",
    "\n",
    "Part 4.\n",
    "\n",
    "Knowing the masses and speeds before and after, allow us to calculate the before and after kinetic energies of the particle systems:\n",
    "\n",
    "$$ K_i = \\frac{1}{2}m_{1}v_{1_i}^2 + \\frac{1}{2}m_{2}v_{2_i}^2 = 6.1\\times 10^{-11}~\\textrm{J} $$\n",
    "\n",
    "and \n",
    "\n",
    "$$ K_f = \\frac{1}{2}m_{A}v_{A_i}^2 + \\frac{1}{2}m_{B}v_{B_i}^2 = 6.1\\times 10^{-11}~\\textrm{J} $$\n",
    "\n",
    "From the two energies calculated we notice that prior to attending to significant figures, the energies are not the same. However, when considering significant figures the energies are the same. In particle physics precise measurements are instrumental to the experiments.\n",
    "\n",
    "</div>\n",
    "```"
   ]
  },
  {
   "cell_type": "code",
   "execution_count": null,
   "metadata": {
    "tags": [
     "hide-input",
     "hide-output"
    ]
   },
   "outputs": [],
   "source": [
    "m2 = 1.67E-27\n",
    "c = 2.998E8\n",
    "\n",
    "Pi = m2*0.9*c\n",
    "print(Pi)"
   ]
  },
  {
   "cell_type": "code",
   "execution_count": null,
   "metadata": {
    "tags": [
     "hide-input",
     "hide-output"
    ]
   },
   "outputs": [],
   "source": [
    "import sympy as sym\n",
    "import numpy as np\n",
    "\n",
    "c = 2.998E8\n",
    "vAf = 0.6*c\n",
    "vBf = 0.7*c\n",
    "thetaA = 60.0\n",
    "thetaB = 30.0\n",
    "\n",
    "mA = sym.Symbol('mA')\n",
    "mB = sym.Symbol('mB')\n",
    "\n",
    "eq1 = mA*vAf*np.cos(thetaA*np.pi/180.0) + mB*vBf*np.cos(thetaB*np.pi/180.0) - 4.50599E-19\n",
    "eq2 = mA*vAf*np.sin(thetaA*np.pi/180.0) - mB*vBf*np.sin(thetaB*np.pi/180.0)\n",
    "\n",
    "sol = sym.solve((eq1,eq2),(mA,mB))\n",
    "\n",
    "print(sol)"
   ]
  },
  {
   "cell_type": "code",
   "execution_count": null,
   "metadata": {
    "tags": [
     "hide-input",
     "hide-output"
    ]
   },
   "outputs": [],
   "source": [
    "m1 = 1.67E-27\n",
    "m2 = 1.67E-27\n",
    "\n",
    "c = 2.998E8\n",
    "v1i = 0.90*c\n",
    "v2i = 0.0\n",
    "\n",
    "mA = 1.252E-27\n",
    "mB = 1.859E-27\n",
    "vAf = 0.60*c\n",
    "vBf = 0.70*c\n",
    "\n",
    "Ki = 0.5*m1*v1i**2 + 0.5*m2*v2i**2\n",
    "Kf = 0.5*mA*vAf**2 + 0.5*mB*vBf**2\n",
    "\n",
    "print(Ki, Kf)"
   ]
  },
  {
   "cell_type": "markdown",
   "metadata": {},
   "source": [
    "<hr style=\"height:2px;border-width:0;color:gray;background-color:gray\">"
   ]
  },
  {
   "cell_type": "markdown",
   "metadata": {},
   "source": [
    "## Problem C4.6\n",
    "\n",
    "A 10.0 kg block is on a horizontal plane with a coefficient of kinetic friction of 0.30. A horizontal force of 50.0 N is applied to the block. Determine the acceleration of the block.\n",
    "\n",
    "[Video Solution](https://youtu.be/_CucT9E1yRg?si=wF6ryW-R8hNPlBDW)"
   ]
  },
  {
   "cell_type": "code",
   "execution_count": null,
   "metadata": {
    "tags": [
     "hide-input",
     "hide-output"
    ]
   },
   "outputs": [],
   "source": [
    "import sympy as sym\n",
    "\n",
    "ax = sym.Symbol('ax')\n",
    "fn = sym.Symbol('fn')\n",
    "\n",
    "m = 10.0\n",
    "g = 9.81\n",
    "fp = 50.0\n",
    "mu = 0.30\n",
    "\n",
    "eq1 = m*ax - fp + mu*fn\n",
    "eq2 = fn - m*g\n",
    "\n",
    "sol = sym.solve((eq1,eq2),(ax,fn))\n",
    "\n",
    "print(sol)"
   ]
  },
  {
   "cell_type": "markdown",
   "metadata": {},
   "source": [
    "<hr style=\"height:2px;border-width:0;color:gray;background-color:gray\">"
   ]
  },
  {
   "cell_type": "markdown",
   "metadata": {},
   "source": [
    "## Problem C4.7\n",
    "A dog walker is enjoying a quiet stroll in a park with three dogs: Fisher, Jack, and Luke. The relaxing walk takes a turn for the worse as a squirrel runs across the path, a tennis ball appears out of nowhere, and another dog barks. Fisher pulls with a force of 75 N directed 24 degrees east of north, Jack pulls with a force of 55 N directed 35 degrees south of west, and Luke muster 18 N directed 58 degrees south of east. What is the magnitude and direction of the net force?\n",
    "\n",
    "[Video Solution](https://youtu.be/_sEe9b0V5ew)"
   ]
  },
  {
   "cell_type": "code",
   "execution_count": 1,
   "metadata": {
    "tags": [
     "hide-input",
     "hide-output"
    ]
   },
   "outputs": [
    {
     "name": "stdout",
     "output_type": "stream",
     "text": [
      "fx = -5.00956744901185\n",
      "fy = 21.7043395930719\n",
      "f = 22.27496628948263\n",
      "Direction is 77.00319343226477 CW from the -x axis\n"
     ]
    }
   ],
   "source": [
    "import sympy as sym\n",
    "import numpy as np\n",
    "\n",
    "#declare constants given\n",
    "fF = 75.0\n",
    "fJ = 55.0\n",
    "fL = 18.0\n",
    "angleF = 24*np.pi/180.0 #angle in radians\n",
    "angleJ = 35*np.pi/180.0 #angle in radians\n",
    "angleL = 58*np.pi/180.0 #angle in radians\n",
    "\n",
    "#referece frame\n",
    "#standard: N positive and E postive\n",
    "\n",
    "fx = sym.Symbol('fx')\n",
    "fy = sym.Symbol('fy')\n",
    "\n",
    "eq1 = fx - fF*np.sin(angleF) - fL*np.cos(angleL) + fJ*np.cos(angleJ) \n",
    "eq2 = fy - fF*np.cos(angleF) + fL*np.sin(angleL) + fJ*np.sin(angleJ) \n",
    "\n",
    "sol1 = sym.solve((eq1,eq2),(fx,fy), dic=True)\n",
    "\n",
    "fx = float(sol1[fx])\n",
    "fy = float(sol1[fy])\n",
    "\n",
    "print('fx = '+str(fx))\n",
    "print('fy = '+str(fy))\n",
    "\n",
    "f = np.sqrt(fx**2 + fy**2)\n",
    "theta = np.arctan(abs(fy/fx))*180.0/np.pi\n",
    "\n",
    "print('f = '+str(f))\n",
    "\n",
    "#since fx is negative, theta is cw from -x\n",
    "print('Direction is '+str(theta)+' CW from the -x axis')"
   ]
  },
  {
   "cell_type": "markdown",
   "metadata": {},
   "source": [
    "<hr style=\"height:2px;border-width:0;color:gray;background-color:gray\">"
   ]
  },
  {
   "cell_type": "markdown",
   "metadata": {},
   "source": [
    "## Problem C4.8\n",
    "\n",
    "You are pushing a shopping cart at the local grocery store with a constant velocity. The cart has a mass of 18 kg and the coefficient of kinetic friction between the cart and the floor is 0.40. \n",
    "\n",
    "1. What force must you apply if you push with a horizontal force?\n",
    "2. What force must you apply if you push with a force directed 32 degrees below the horizontal? "
   ]
  },
  {
   "cell_type": "code",
   "execution_count": null,
   "metadata": {
    "tags": [
     "hide-input",
     "hide-output"
    ]
   },
   "outputs": [],
   "source": [
    "import sympy as sym\n",
    "import numpy as np\n",
    "\n",
    "#declare constants given\n",
    "m = 18.0   #mass of cart\n",
    "mu = 0.40  #coefficient of friction\n",
    "g = 9.81   #acceleration of gravity\n",
    "ax = 0.0   #constant velocity implies zero acceleration\n",
    "ay = 0.0   #no motion in y direction\n",
    "angle = 32*np.pi/180.0 #angle in radians\n",
    "\n",
    "#referece frame\n",
    "#standard: y positive up and x postive in direction of motion, say right\n",
    "\n",
    "fp = sym.Symbol('fp')\n",
    "fn = sym.Symbol('fn')\n",
    "\n",
    "#PART 1\n",
    "#N2 in x\n",
    "eq1 = m*ax - fp + mu*fn \n",
    "#N2 in y\n",
    "eq2 = fn - m*g\n",
    "\n",
    "sol1 = sym.solve((eq1,eq2),(fp,fn))\n",
    "\n",
    "print('Part 1: '+str(sol1))\n",
    "\n",
    "#PART 2\n",
    "#N2 in x\n",
    "eq3 = m*ax - fp*np.cos(angle) + mu*fn \n",
    "#N2 in y\n",
    "eq4 = fn - m*g - fp*np.sin(angle)\n",
    "\n",
    "sol2 = sym.solve((eq3,eq4),(fp,fn))\n",
    "\n",
    "print('Part 2: '+str(sol2))\n"
   ]
  },
  {
   "cell_type": "markdown",
   "metadata": {},
   "source": [
    "<hr style=\"height:2px;border-width:0;color:gray;background-color:gray\">"
   ]
  },
  {
   "cell_type": "markdown",
   "metadata": {},
   "source": [
    "## Problem C4.9\n",
    "A block of mass 2.0 kg is placed on a frictionless inclined plane that makes an angle of 30.0 degrees with the horizontal. Calculate the acceleration of the block down the incline."
   ]
  },
  {
   "cell_type": "code",
   "execution_count": null,
   "metadata": {
    "tags": [
     "hide-input",
     "hide-output"
    ]
   },
   "outputs": [],
   "source": [
    "import sympy as sym\n",
    "import numpy as np\n",
    "\n",
    "ax = sym.Symbol('ax')\n",
    "fn = sym.Symbol('fn')\n",
    "\n",
    "m = 2.0\n",
    "angle = 30.0\n",
    "g = 9.81\n",
    "\n",
    "eq1 = m*ax - m*g*np.sin(angle*np.pi/180.)\n",
    "eq2 = fn - m*g*np.cos(angle*np.pi/180.)\n",
    "\n",
    "sol = sym.solve((eq1,eq2),(ax,fn))\n",
    "\n",
    "print(sol)"
   ]
  },
  {
   "cell_type": "markdown",
   "metadata": {},
   "source": [
    "<hr style=\"height:2px;border-width:0;color:gray;background-color:gray\">"
   ]
  },
  {
   "cell_type": "markdown",
   "metadata": {},
   "source": [
    "## Problem C4.10\n",
    "\n",
    "\n",
    "A block of mass 2.0 kg is placed on a frictionless inclined plane that makes an angle of 30.0 degrees with the horizontal. \n",
    "1. Calculate the acceleration of the block down the incline when a force of 5.0 N is applied horizontally on the block and resisting the motion of the block. \n",
    "2. What minimum force must be applied to keep the box from sliding down and what is the normal force in that situation?\n",
    "\n",
    "[Video Solution](https://www.youtube.com/watch?v=jTJeCQSGH3w&t=414s)"
   ]
  },
  {
   "cell_type": "code",
   "execution_count": null,
   "metadata": {
    "tags": [
     "hide-input",
     "hide-output"
    ]
   },
   "outputs": [],
   "source": [
    "import sympy as sym\n",
    "import numpy as np\n",
    "\n",
    "ax = sym.Symbol('ax')\n",
    "fn = sym.Symbol('fn')\n",
    "\n",
    "m = 2.0\n",
    "fp = 5.0\n",
    "g = 9.81\n",
    "angle = 30.0\n",
    "\n",
    "eq1 = m*ax + fp*np.cos(angle*np.pi/180.)  - m*g*np.sin(angle*np.pi/180.)\n",
    "eq2 = fn - m*g*np.cos(angle*np.pi/180.) - fp*np.sin(angle*np.pi/180.)\n",
    "\n",
    "sol = sym.solve((eq1,eq2),(ax,fn))\n",
    "\n",
    "print(sol)"
   ]
  },
  {
   "cell_type": "code",
   "execution_count": null,
   "metadata": {
    "tags": [
     "hide-input",
     "hide-output"
    ]
   },
   "outputs": [],
   "source": [
    "import sympy as sym\n",
    "import numpy as np\n",
    "\n",
    "fp = sym.Symbol('fp')\n",
    "fn = sym.Symbol('fn')\n",
    "\n",
    "m = 2.0\n",
    "ax = 0.0\n",
    "g = 9.81\n",
    "angle = 30.0\n",
    "\n",
    "eq1 = m*ax + fp*np.cos(angle*np.pi/180.)  - m*g*np.sin(angle*np.pi/180.)\n",
    "eq2 = fn - m*g*np.cos(angle*np.pi/180.) - fp*np.sin(angle*np.pi/180.)\n",
    "\n",
    "sol = sym.solve((eq1,eq2),(fp,fn))\n",
    "\n",
    "print(sol)"
   ]
  },
  {
   "cell_type": "markdown",
   "metadata": {},
   "source": [
    "<hr style=\"height:2px;border-width:0;color:gray;background-color:gray\">"
   ]
  },
  {
   "cell_type": "markdown",
   "metadata": {},
   "source": [
    "## Problem C4.11\n",
    "\n",
    "An elevator with a mass of 800 kg is moving upward at a constant speed of 4 m/s when it suddenly starts accelerating upward at a rate of 2 m/s$^2$. Determine the force experienced by a 70 kg passenger inside the elevator during this acceleration."
   ]
  },
  {
   "cell_type": "code",
   "execution_count": null,
   "metadata": {
    "tags": [
     "hide-input",
     "hide-output"
    ]
   },
   "outputs": [],
   "source": [
    "import sympy as sym\n",
    "\n",
    "m = 70.0\n",
    "a = 2.0\n",
    "g = 9.81\n",
    "\n",
    "#unknown\n",
    "fn = sym.Symbol('fn')\n",
    "\n",
    "#reference frame: + upward\n",
    "\n",
    "#N2: +fn - mg = ma\n",
    "eq = m*a - fn + m*g\n",
    "\n",
    "sol = sym.solve(eq,fn)\n",
    "print('Normal force = '+str(sol[0]))"
   ]
  },
  {
   "cell_type": "markdown",
   "metadata": {},
   "source": [
    "<hr style=\"height:2px;border-width:0;color:gray;background-color:gray\">"
   ]
  },
  {
   "cell_type": "markdown",
   "metadata": {},
   "source": [
    "## Problem C4.12\n",
    "\n",
    "Consider the 52.0 kg mountain climber shown below.\n",
    "1. Find the tension in the rope and the force that the mountain climber must exert with her feet on the vertical rock face to remain stationary. Assume that the force is exerted parallel to her legs. Also, assume negligible force exerted by her arms. \n",
    "2. What is the minimum coefficient of friction between her shoes and the cliff?\n",
    "\n",
    "<img src=\"P-C4.12.png\" width=\"200\">\n",
    "\n",
    "This problem is a slightly modified version from OpenStax. Access for free at [https://openstax.org/books/university-physics-volume-1/pages/6-problems](https://openstax.org/books/university-physics-volume-1/pages/6-problems)"
   ]
  },
  {
   "cell_type": "code",
   "execution_count": 38,
   "metadata": {
    "tags": [
     "hide-input",
     "hide-output"
    ]
   },
   "outputs": [
    {
     "name": "stdout",
     "output_type": "stream",
     "text": [
      "Tension force = 512.595149259122\n",
      "Leg force = 273.319142834102\n",
      "Coefficient of static friction = 0.267949192431123\n"
     ]
    }
   ],
   "source": [
    "import sympy as sym\n",
    "import numpy as np\n",
    "\n",
    "m = 52.0\n",
    "g = 9.81\n",
    "theta1 = 31.0*np.pi/180.0\n",
    "theta2 = 15.0*np.pi/180.\n",
    "\n",
    "#unknown\n",
    "ft = sym.Symbol('ft')\n",
    "fl = sym.Symbol('fl')\n",
    "\n",
    "#reference frame: + up and +right\n",
    "\n",
    "#N2: \n",
    "eqX = -ft*np.sin(theta1) + fl*np.cos(theta2)\n",
    "eqY = ft*np.cos(theta1) + fl*np.sin(theta2) - m*g\n",
    "\n",
    "sol = sym.solve((eqX,eqY),(ft,fl))\n",
    "print('Tension force = '+str(sol[ft]))\n",
    "print('Leg force = '+str(sol[fl]))\n",
    "\n",
    "#the leg force is the reaction force: combined normal and friction\n",
    "fn = fl*np.cos(theta2)\n",
    "ff = fl*np.sin(theta2)\n",
    "mu = ff/fn\n",
    "print('Coefficient of static friction = '+str(mu))"
   ]
  },
  {
   "cell_type": "markdown",
   "metadata": {},
   "source": [
    "<hr style=\"height:2px;border-width:0;color:gray;background-color:gray\">"
   ]
  },
  {
   "cell_type": "markdown",
   "metadata": {},
   "source": [
    "## Problem C4.13\n",
    "\n",
    "A machine at a post office sends packages out a chute and down a ramp to be loaded into delivery vehicles. \n",
    "1. Calculate the acceleration of a box heading down a 10.0$^\\circ$ slope, assuming the coefficient of friction for a parcel on waxed wood is 0.100. \n",
    "2. Find the angle of the slope down which this box could move at a constant velocity. You can neglect air resistance in both parts.\n",
    " \n",
    "This problem is a slightly modified version from OpenStax. Access for free at [https://openstax.org/books/university-physics-volume-1/pages/6-problems](https://openstax.org/books/university-physics-volume-1/pages/6-problems)"
   ]
  },
  {
   "cell_type": "code",
   "execution_count": 52,
   "metadata": {
    "tags": [
     "hide-input",
     "hide-output"
    ]
   },
   "outputs": [
    {
     "name": "stdout",
     "output_type": "stream",
     "text": [
      "Acceleration = 0.737392217207614\n",
      "Angle of slope = 5.710593137499643\n"
     ]
    }
   ],
   "source": [
    "import sympy as sym\n",
    "import numpy as np\n",
    "\n",
    "g = 9.81\n",
    "theta = 10.0*np.pi/180.0\n",
    "mu = 0.100\n",
    "\n",
    "#unknowns\n",
    "fn = sym.Symbol('fn')   #normal force\n",
    "ax = sym.Symbol('ax')   #acceleration\n",
    "m = sym.Symbol('m')   #mass\n",
    "\n",
    "#reference frame: +down the ramp, +up and perpendicular to the ramp\n",
    "\n",
    "#part 1\n",
    "#N2:\n",
    "eqX = m*ax - m*g*np.sin(theta) + mu*fn \n",
    "eqY = fn - m*g*np.cos(theta)\n",
    "\n",
    "sol = sym.solve((eqX,eqY),(fn,ax))\n",
    "print('Acceleration = '+str(sol[ax]))\n",
    "\n",
    "#part 2\n",
    "#mu = tan(phi)\n",
    "phi = np.arctan(mu)*180.0/np.pi\n",
    "print('Angle of slope = '+str(phi))\n"
   ]
  },
  {
   "cell_type": "markdown",
   "metadata": {},
   "source": [
    "<hr style=\"height:2px;border-width:0;color:gray;background-color:gray\">"
   ]
  }
 ],
 "metadata": {
  "celltoolbar": "Tags",
  "kernelspec": {
   "display_name": "Python 3 (ipykernel)",
   "language": "python",
   "name": "python3"
  },
  "language_info": {
   "codemirror_mode": {
    "name": "ipython",
    "version": 3
   },
   "file_extension": ".py",
   "mimetype": "text/x-python",
   "name": "python",
   "nbconvert_exporter": "python",
   "pygments_lexer": "ipython3",
   "version": "3.9.12"
  }
 },
 "nbformat": 4,
 "nbformat_minor": 4
}
