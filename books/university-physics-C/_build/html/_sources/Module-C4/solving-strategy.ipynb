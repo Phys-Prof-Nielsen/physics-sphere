{
 "cells": [
  {
   "cell_type": "markdown",
   "metadata": {},
   "source": [
    "# C4.4 Newton's Laws: Solving Strategy\n",
    "<hr style=\"height:2px;border-width:0;color:gray;background-color:gray\">"
   ]
  },
  {
   "cell_type": "markdown",
   "metadata": {},
   "source": [
    "## C4.4.1 Usual Purpose of Newton's Laws\n",
    "The most common application of Newton's laws is to be able to make prediction about a particle's future (or its past). This is done by finding its acceleration and applying rules of kinematics, which allows us to say something about the particle's motion and location at any time.\n",
    "\n",
    "For us to determine the acceleration, we must recognize the interactions (or forces) acting on the particle and add them together according to the rules of vector addition. In most cases, we want to quantify the acceleration in analytic form and must work with Newton's second law in component form. \n",
    "\n",
    "For simple applications, we may be able to almost intuitively determine the acceleration while more complicated cases requires a more careful approach. It is recommended that we take a careful approach to begin with until we develop convidence and good habits to solve these kind of problems. Below is outlined such an approach.\n",
    "\n",
    "<hr style=\"height:2px;border-width:0;color:gray;background-color:gray\">"
   ]
  },
  {
   "cell_type": "markdown",
   "metadata": {},
   "source": [
    "## C4.4.2 Solving Strategy to Newton's Second Law\n",
    "\n",
    "1. Make a sketch of the problem to be solved: This enforce the understanding of the problem.\n",
    "2. Draw a Free-Body-Diagram (FBD) of the particle: This is a sketch where all forces acting on the particle is drawn. Although the size and shape of the particle does not matter, it is recommended to draw the particle with correct shape and draw forces where they interact. This becomes important when we deal with problems of extended objects.\n",
    "3. Establish a reference frame. This allows us to break the vectors into their respective components.\n",
    "4. Decompose the force vectors into components. This allows us to utilize Newton's second law in component form.\n",
    "5. Establish helpful force equations. These are equations that allow us to write forces in terms of known equations. \n",
    "6. Write down Newton's second law (N2) in component form and insert the components from previous step.\n",
    "    - Question: Can we solve for the needed parameter(s)? \n",
    "        - Yes: Solve it.\n",
    "        - No: Proceed to step 7.\n",
    "7. Apply equation(s) of constraint(s). If the particle is constrained to move in a certain way, these equations will provide additional information that allow us to solved the problem.\n",
    "    - Question: Can we solve for the needed parameter(s)? \n",
    "        - Yes: Solve it.\n",
    "        - No: Shit...move on to next problem for now.\n",
    "        \n",
    "        \n",
    "<img src=\"newton.png\" width=\"400\">\n",
    "        \n",
    "<hr style=\"height:2px;border-width:0;color:gray;background-color:gray\">"
   ]
  }
 ],
 "metadata": {
  "kernelspec": {
   "display_name": "Python 3 (ipykernel)",
   "language": "python",
   "name": "python3"
  },
  "language_info": {
   "codemirror_mode": {
    "name": "ipython",
    "version": 3
   },
   "file_extension": ".py",
   "mimetype": "text/x-python",
   "name": "python",
   "nbconvert_exporter": "python",
   "pygments_lexer": "ipython3",
   "version": "3.10.9"
  }
 },
 "nbformat": 4,
 "nbformat_minor": 4
}
