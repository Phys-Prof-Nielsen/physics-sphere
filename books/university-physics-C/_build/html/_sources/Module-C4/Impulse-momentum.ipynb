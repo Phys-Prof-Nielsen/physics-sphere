{
 "cells": [
  {
   "cell_type": "markdown",
   "metadata": {},
   "source": [
    "# C4.1 Impulse-Momentum Theorem: Point Particle\n",
    "<hr style=\"height:2px;border-width:0;color:gray;background-color:gray\">"
   ]
  },
  {
   "cell_type": "markdown",
   "metadata": {},
   "source": [
    "## C4.1.1 Recall: 1D\n",
    "It is appropriate to just review what we learned in PHASE D. According to Newton, the linear motion of a point particle/object is\n",
    "\n",
    "$$ p_x = mv_x $$\n",
    "\n",
    "A change in momentum required an interaction (force) acting through time and we defined the **impulse** as\n",
    "\n",
    "$$ j_x = f_{x}\\Delta t $$\n",
    "\n",
    "as the momentum transfer to/from the particle due to the force $f_x$ acting on the particle during the elapsed time $\\Delta t$. If the force is the net force, then the net impulse is\n",
    "\n",
    "$$ j_{net,x} = f_{net,x}\\Delta t $$\n",
    "\n",
    "and is equal to the net momentum transfer to/from the particle. This can be written in its most concise form as\n",
    "\n",
    "$$ j_{net,x} = \\Delta p_x $$\n",
    "\n",
    "and is known as the **Impulse-Momentum Theorem**\n",
    "\n",
    "<div class=\"alert alert-success\">\n",
    "    A net force acting on a particle through some elapsed time will <b>cause</b> a net momentum transfer (or net impulse) to/from the particle as the <b>effect</b>.\n",
    "</div>\n",
    "\n",
    "<hr style=\"height:2px;border-width:0;color:gray;background-color:gray\">"
   ]
  },
  {
   "cell_type": "markdown",
   "metadata": {},
   "source": [
    "## C4.1.2 Extended to 2D and 3D\n",
    "The subscript $x$ in the parameters above indicates an object with a spatial direction. We have now seen that such objects can be desribed as vectors, and we can extend the equations into their vector forms:\n",
    "\n",
    "<div class=\"alert alert-success\">\n",
    "<b>Impulse from single force</b>\n",
    "    \n",
    "$$ \\vec{j} = \\vec{f}\\Delta t $$\n",
    "</div>\n",
    "\n",
    "<div class=\"alert alert-success\">\n",
    "<b>Net impulse from net force</b>\n",
    "    \n",
    "$$ \\vec{j}_{net} = \\vec{f}_{net}\\Delta t $$\n",
    "</div>\n",
    "\n",
    "<div class=\"alert alert-success\">\n",
    "<b>Impulse-momentum Theorem</b>\n",
    "    \n",
    "$$ \\vec{j}_{net} = \\Delta \\vec{p} \\tag{1}$$\n",
    "</div>\n",
    "\n",
    "The net interaction acting on a particle described through the net linear force $\\vec{f}_{net}$ is sometimes referred to as an **unbalanced linear force** if the net linear force is zero. \n",
    "\n",
    "While the Impulse-momentum theorem is super important, Equation (1) better serve as a concept equation and is not the most practical in that form. Instead, we can combine the above concepts/equations and rewrite it.\n",
    "\n",
    "<div class=\"alert alert-success\">\n",
    "<b>Practical form</b>\n",
    "    \n",
    "$$ \\vec{f}_{net}\\Delta t = m\\vec{v}_2 - m\\vec{v}_1 \\tag{2}$$\n",
    "</div>\n",
    "\n",
    "<hr style=\"height:2px;border-width:0;color:gray;background-color:gray\">"
   ]
  },
  {
   "cell_type": "markdown",
   "metadata": {},
   "source": [
    "<div class=\"alert alert-warning\">\n",
    "<b>Box 1</b><br>\n",
    "    \n",
    "A force is given by $\\vec{f} = (+35~\\textrm{N})\\hat{i} + (-25~\\textrm{N})\\hat{j}$. The force acts on a particle through an elapsed time of 5.0 s. What is the impulse experienced by the particle during this interaction?\n",
    "</div>\n",
    "    \n",
    "<hr style=\"height:2px;border-width:0;color:gray;background-color:gray\">"
   ]
  },
  {
   "cell_type": "markdown",
   "metadata": {},
   "source": [
    "<div class=\"alert alert-warning\">\n",
    "<b>Box 2</b><br>\n",
    "    \n",
    "Consider the problem in Box 1. How much momentum transfer did the particle experience?\n",
    "</div>\n",
    "    \n",
    "<hr style=\"height:2px;border-width:0;color:gray;background-color:gray\">"
   ]
  },
  {
   "cell_type": "markdown",
   "metadata": {},
   "source": [
    "<div class=\"alert alert-warning\">\n",
    "<b>Box 3</b><br>\n",
    "    \n",
    "Consider the problem in Box 1. If the particle has a mass of 0.25 kg and is initially at rest. What is its velocity after the interaction?\n",
    "</div>\n",
    "    \n",
    "<hr style=\"height:2px;border-width:0;color:gray;background-color:gray\">"
   ]
  },
  {
   "cell_type": "markdown",
   "metadata": {},
   "source": [
    "<div class=\"alert alert-warning\">\n",
    "<b>Box 4</b><br>\n",
    "    \n",
    "Consider the problem in Box 3. What is the speed and direction of the particle after the interaction?\n",
    "</div>\n",
    "    \n",
    "<hr style=\"height:2px;border-width:0;color:gray;background-color:gray\">"
   ]
  },
  {
   "cell_type": "markdown",
   "metadata": {},
   "source": [
    "<div class=\"alert alert-warning\">\n",
    "<b>Box 5</b><br>\n",
    "    \n",
    "Consider a 2D (xy-plane) scenario. A net force of 45 N is acting on a 0.25 kg particle. The force is directed 32$^\\circ$ CCW from the +y-axis and is in contact with the particle for 0.1 s. If the initial velocity of the particle is $\\vec{v} = (35~\\textrm{m/s})\\hat{i} - (25~\\textrm{m/s})\\hat{j}$, what is the velocity of the particle after the interaction?\n",
    "</div>\n",
    "    \n",
    "<hr style=\"height:2px;border-width:0;color:gray;background-color:gray\">"
   ]
  },
  {
   "cell_type": "markdown",
   "metadata": {},
   "source": [
    "## C4.1.3 Conservation of Momentum\n",
    "If there is no net force acting on the particle, then the momentum transfer is zero: its momentum is conserved.\n",
    "\n",
    "This consequence is not too interesting for a single particle. However, if we consider a collection of particles, it becomes a lot more useful. \n",
    "\n",
    "### Internal vs. external forces\n",
    "For a system of particles, only the net external force is capable of changing the system's total momentum. We won't prove that here, but it relates to Newton's 3rd law: action and re-action. This is helpful in colliding systems as the collision forces are often unknown. If there is no net external force acting on the system, then the total momentum of the system is conserved. \n",
    "\n",
    "### Two-particle system\n",
    "For a two-particle system that implies that\n",
    "\n",
    "$$ m_1\\vec{v}_{1i} + m_2\\vec{v}_{2i} = m_1\\vec{v}_{1f} + m_2\\vec{v}_{2f} $$ \n",
    "\n",
    "<hr style=\"height:2px;border-width:0;color:gray;background-color:gray\">"
   ]
  },
  {
   "cell_type": "markdown",
   "metadata": {},
   "source": [
    "<div class=\"alert alert-warning\">\n",
    "<b>Box 6</b><br>\n",
    "    \n",
    "1D Problem: An astronaut with a mass of 75 kg is holding a 5.0 kg space rock. They are both at rest. Suddenly the astronaut throws the rock at a velocity of +5.0 m/s. What is the velocity of the astronaut after throwing the rock?\n",
    "</div>\n",
    "    \n",
    "<hr style=\"height:2px;border-width:0;color:gray;background-color:gray\">"
   ]
  },
  {
   "cell_type": "markdown",
   "metadata": {},
   "source": [
    "<div class=\"alert alert-warning\">\n",
    "<b>Box 7</b><br>\n",
    "    \n",
    "1D Problem: Consider two ice skaters A and B (ignore friction as they glide). Skater A has a mass of 75 kg and is traveling with a velocity of +3.0 m/s. Skater B has a mass of 55 kg and is traveling at a velocity of -3.5 m/s. In a love-struck collision they stick together afterwards. What is the final velocity of the newly formed skating pair?\n",
    "</div>\n",
    "    \n",
    "<hr style=\"height:2px;border-width:0;color:gray;background-color:gray\">"
   ]
  },
  {
   "cell_type": "markdown",
   "metadata": {},
   "source": [
    "<div class=\"alert alert-warning\">\n",
    "<b>Box 8</b><br>\n",
    "    \n",
    "Consider a 2D (xy-plane) scenario. Particle A has a mass of 1.5 kg and is traveling with a velocity of $\\vec{v} = (4.5~\\textrm{m/s})\\hat{i}$ when it strikes Particle B (mass 0.50 kg and at rest before the collision). After the collision Particle A has a velocity of $\\vec{v} = (0.50~\\textrm{m/s})\\hat{i} + (0.75~\\textrm{m/s})\\hat{j}$. What is the velocity of Particle B after the collision. Assume the particles move on a frictionless surface. \n",
    "    \n",
    "</div>\n",
    "    \n",
    "<hr style=\"height:2px;border-width:0;color:gray;background-color:gray\">"
   ]
  }
 ],
 "metadata": {
  "celltoolbar": "Tags",
  "kernelspec": {
   "display_name": "Python 3 (ipykernel)",
   "language": "python",
   "name": "python3"
  },
  "language_info": {
   "codemirror_mode": {
    "name": "ipython",
    "version": 3
   },
   "file_extension": ".py",
   "mimetype": "text/x-python",
   "name": "python",
   "nbconvert_exporter": "python",
   "pygments_lexer": "ipython3",
   "version": "3.9.12"
  }
 },
 "nbformat": 4,
 "nbformat_minor": 4
}
