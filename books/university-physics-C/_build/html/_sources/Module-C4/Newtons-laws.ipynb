{
 "cells": [
  {
   "cell_type": "markdown",
   "metadata": {},
   "source": [
    "# C4.2 Newton's Laws: Point Particle\n",
    "<hr style=\"height:2px;border-width:0;color:gray;background-color:gray\">"
   ]
  },
  {
   "cell_type": "markdown",
   "metadata": {},
   "source": [
    "In this note, we will simply establish Newton's laws and in later notes explore applications.\n",
    "<hr style=\"height:2px;border-width:0;color:gray;background-color:gray\">"
   ]
  },
  {
   "cell_type": "markdown",
   "metadata": {},
   "source": [
    "## C4.2.1 Newton's First Law: Law of Inertia\n",
    "We have already used this law several times to establish the definition of momentum as well as to introduce the force concept. One can say that the impulse-momentum theorem is a consequence of this law and the impulse-momentum equation quantifies the law.\n",
    "\n",
    "<div class=\"alert alert-success\">\n",
    "    <b>Newton's 1st law</b><br>\n",
    "    <br>\n",
    "    A particle in motion will remain in its same state of motion unless acted upon by a net non-zero force.\n",
    "</div>\n",
    "\n",
    "<hr style=\"height:2px;border-width:0;color:gray;background-color:gray\">"
   ]
  },
  {
   "cell_type": "markdown",
   "metadata": {},
   "source": [
    "## C4.2.2 Newton's Second Law\n",
    "Newton's second law for a point particle is arguably one of the most recognizable equations in science. However, in that form, it only applies to point particles. To obtain it, we will repeat what we have done before as repetition never hurts:\n",
    "\n",
    "$$ \\Delta\\vec{p} = \\vec{f}_{net}\\Delta t $$\n",
    "\n",
    "and isolate the force factor:\n",
    "\n",
    "$$ \\vec{f}_{net} = \\frac{\\Delta \\vec{p}}{\\Delta t} $$\n",
    "\n",
    "We can write out the momentum:\n",
    "\n",
    "$$ \\vec{f}_{net} = \\frac{\\Delta(m\\vec{v})}{\\Delta t} $$\n",
    "\n",
    "Since a point particle have constant mass (or we can make the assumption that mass is constant), then this reduces to\n",
    "\n",
    "$$ \\vec{f}_{net} = m\\frac{\\Delta\\vec{v}}{\\Delta t} $$\n",
    "\n",
    "The change of velocity with respect to time is the acceleration and we get:\n",
    "\n",
    "<div class=\"alert alert-success\">\n",
    "    <b>Newton's 2nd law</b><br>\n",
    "    \n",
    "$$ \\vec{f}_{net} = m\\vec{a}$$\n",
    "</div>\n",
    "    \n",
    "Personally, I prefer using the summation symbol to show a sum of individual forces as the net force is not a force in itself. \n",
    "\n",
    "$$ \\sum\\vec{f} = m\\vec{a} $$\n",
    "\n",
    "Newton's second law is a classis example of <b>cause</b> (force) and effect (change in motion). \n",
    "\n",
    "<hr style=\"height:2px;border-width:0;color:gray;background-color:gray\">"
   ]
  },
  {
   "cell_type": "markdown",
   "metadata": {},
   "source": [
    "## C4.2.3 Newton's Third Law: Action and Re-action\n",
    "The third law is known to not hold true even in Newtonian mechanics. For example, if we include electromagnetic forces, then it is easily violated. However, for a first semester course focusing it will be assumed to be true. The law conceptualize the interaction forces between two particles.\n",
    "\n",
    "<div class=\"alert alert-success\">\n",
    "    <b>Newton's 3rd law</b><br>\n",
    "    <br>\n",
    "    A particle exerting a force on a second particle will experience the same force in magnitude but opposite direction upon itself. If the two particles are labeled 1 and 2, we have\n",
    "    \n",
    "$$ \\vec{f}_{12} = - \\vec{f}_{21} $$\n",
    "</div>\n",
    "\n",
    "The law tells us that forces always appear in pairs but acting on different particles.\n",
    "\n",
    "<hr style=\"height:2px;border-width:0;color:gray;background-color:gray\">"
   ]
  }
 ],
 "metadata": {
  "kernelspec": {
   "display_name": "Python 3 (ipykernel)",
   "language": "python",
   "name": "python3"
  },
  "language_info": {
   "codemirror_mode": {
    "name": "ipython",
    "version": 3
   },
   "file_extension": ".py",
   "mimetype": "text/x-python",
   "name": "python",
   "nbconvert_exporter": "python",
   "pygments_lexer": "ipython3",
   "version": "3.10.9"
  }
 },
 "nbformat": 4,
 "nbformat_minor": 4
}
