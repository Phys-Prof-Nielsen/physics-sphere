{
 "cells": [
  {
   "cell_type": "markdown",
   "metadata": {},
   "source": [
    "# Displacement Vector\n",
    "<hr style=\"height:2px\">"
   ]
  },
  {
   "cell_type": "markdown",
   "metadata": {},
   "source": [
    "Consider an object located at x$_A$ = 3.0 m with position vector $\\vec{x}_A$.\n",
    "Now imagine that the object moves to a new position x$_B$ = 4.5 m with a new position vector $\\vec{x}_B$ by moving a distance $\\Delta$x = 1.5 m in the positive direction (NOTE: distance changed + direction = vector : $\\Delta\\vec{x}$). This can be illustrated as\n",
    "\n",
    "<img src=\"C2-fig6.png\"  width=\"600\"/>\n",
    "\n",
    "Note, the final position vector can be visualized by adding the two arrows representing $\\vec{x}_A$ and $\\Delta\\vec{x}$ together. In Layman's terms, we will say that a starting position plus a change results in a new position. In the mathematical language,\n",
    "we would say:\n",
    "\n",
    "$$ \\vec{x}_B = \\vec{x}_A + \\Delta\\vec{x}$$\n",
    "\n",
    "The change in position vector, $\\Delta\\vec{x}$, is known as the <span style=\"color:red\">displacement vector</span>:\n",
    "\n",
    "$$ \\Delta\\vec{x} = \\vec{x}_B - \\vec{x}_A$$\n",
    "\n",
    "which in words is stated as: <span style=\"color:red\">the displacement vector is the final position vector subtracted by the initial position vector</span>. We can state that the displacement vector is describing a change (magnitude and/or direction) in the position of an object.\n",
    "\n",
    "<hr style=\"height:2px\">"
   ]
  },
  {
   "cell_type": "markdown",
   "metadata": {},
   "source": [
    "## Example 1\n",
    "Consider the object located at x$_A$ = 3.0 with position vector $\\vec{x}_A$. Now imagine that object moves to a new\n",
    "position x$_B$ = 1.5 with a new position vector $\\vec{x}_B$ by moving a distance $\\Delta $x = 1.5 in the negative direction. We can illustrate this change in position through the following vector diagram\n",
    "\n",
    "<img src=\"C2-fig7.png\"  width=\"600\"/>\n"
   ]
  },
  {
   "cell_type": "markdown",
   "metadata": {},
   "source": [
    "<div class=\"alert alert-info\">In this example, we may conclude the following: if we follow the initial position vector $\\vec{x}_A$ from tail to head, then continue along the displacement $\\Delta\\vec{x}$, we end up at the tip of the final position vector $\\vec{x}_B$. This is a general rule for geometric addition of vectors, which we will cover in the next segment.\n",
    "</div>\n",
    "\n",
    "<hr style=\"height:2px\">"
   ]
  },
  {
   "cell_type": "markdown",
   "metadata": {},
   "source": [
    "<div class=\"alert alert-warning\">\n",
    "    <b>Box 1</b><br>   \n",
    "    Draw (by hand is ok) a suitable 1D reference system and draw position vectors for the following points: A : x = 3, B : x = -2, and C : x = 1, similarly to the skecth in Example 1. Draw the displacement vectors for the following displacements:<br> \n",
    "    <br>\n",
    "    $\\vec{x}_B - \\vec{x}_A$<br>\n",
    "    $\\vec{x}_B - \\vec{x}_C$<br>\n",
    "    $\\vec{x}_A - \\vec{x}_C$<br>\n",
    "    $\\vec{x}_A - \\vec{x}_B$<br>\n",
    "    $\\vec{x}_C - \\vec{x}_A$<br>\n",
    "    <br>\n",
    "    Take a picture of your sketch in insert into this box.\n",
    "</div>"
   ]
  },
  {
   "cell_type": "markdown",
   "metadata": {},
   "source": [
    "<hr style=\"height:2px\">"
   ]
  }
 ],
 "metadata": {
  "kernelspec": {
   "display_name": "Python 3 (ipykernel)",
   "language": "python",
   "name": "python3"
  },
  "language_info": {
   "codemirror_mode": {
    "name": "ipython",
    "version": 3
   },
   "file_extension": ".py",
   "mimetype": "text/x-python",
   "name": "python",
   "nbconvert_exporter": "python",
   "pygments_lexer": "ipython3",
   "version": "3.10.9"
  }
 },
 "nbformat": 4,
 "nbformat_minor": 4
}