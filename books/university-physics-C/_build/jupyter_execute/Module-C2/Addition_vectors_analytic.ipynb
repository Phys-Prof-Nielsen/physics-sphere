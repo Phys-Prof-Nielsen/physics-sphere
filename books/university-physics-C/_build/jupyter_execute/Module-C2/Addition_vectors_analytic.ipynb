{
 "cells": [
  {
   "cell_type": "markdown",
   "metadata": {},
   "source": [
    "# C2.5 Basic Vector Arithmetic: Analytic Approach\n",
    "<hr style=\"height:2px;border-width:0;color:gray;background-color:gray\">"
   ]
  },
  {
   "cell_type": "markdown",
   "metadata": {},
   "source": [
    "## C2.5.1 Motivation\n",
    "The most usage of addition/subtraction of vectors comes when we work with Newton's second law as it relateds a sum of vectors (forces) to the acceleration of an object. Fortunately, the skills we developed in PHASE D where we dealt with objects with direction (e.g. $v_x$). In fact, in 2D and 3D, we will break the problem down to 1D cases for each Cartesian coordinate.\n",
    "\n",
    "The standard rules for number arithmetic that we are familiar with from elementary school applies to the <b>vector components</b> as well since each component is treated as a scalar: A 3D vector equation represents three scalar equations. In other words, we have separate scalar equations for the x, y, and z-components. We will go through this by using illustrative examples.\n",
    "<hr style=\"height:2px;border-width:0;color:gray;background-color:gray\">"
   ]
  },
  {
   "cell_type": "markdown",
   "metadata": {},
   "source": [
    "## C2.5.2 Vector Addition and Subtraction\n",
    "The rule is the same for both addition and subtraction:\n",
    "\n",
    "<div class=\"alert alert-success\">\n",
    "Consider the addition of two vectors:<br> \n",
    "    <br>\n",
    "    \n",
    "$\\vec{A} = \\begin{bmatrix} A_x  \\\\ A_y \\\\ A_z  \\end{bmatrix}$ and $\\vec{B} = \\begin{bmatrix} B_x  \\\\ B_y \\\\ B_z  \\end{bmatrix}$. \n",
    "    \n",
    "The sum of the two vectors is: \n",
    "\n",
    "$$ \\vec{A} + \\vec{B} = \\begin{bmatrix} A_x + B_x  \\\\ A_y + B_y \\\\ A_z + B_z  \\end{bmatrix} $$\n",
    "    \n",
    "while the subtraction is:\n",
    "  \n",
    "$$ \\vec{A} - \\vec{B} = \\begin{bmatrix} A_x - B_x  \\\\ A_y - B_y \\\\ A_z - B_z  \\end{bmatrix} $$\n",
    "    \n",
    "</div>\n",
    "<br>\n",
    "<div style=\"background-color: #D0D0D0 ; padding: 10px; border: 1px solid black;\">\n",
    "<header>\n",
    "<h3> Example 1</h3>\n",
    "    </header>\n",
    "    \n",
    "<b>Problem</b>\n",
    "    <br>\n",
    "Consider the addition of two vectors: $\\vec{A} = \\begin{bmatrix} 2  \\\\ 3 \\\\ 4  \\end{bmatrix}$ and $\\vec{B} = \\begin{bmatrix} 2  \\\\ 1 \\\\ -4  \\end{bmatrix}$.\n",
    "\n",
    "For vector addition, we simply add the respective components together:\n",
    "    \n",
    "$$ \\vec{A} + \\vec{B} = \\begin{bmatrix} 2  \\\\ 3 \\\\ 4  \\end{bmatrix} + \\begin{bmatrix} 2  \\\\ 1 \\\\ -4  \\end{bmatrix}$$\n",
    "\n",
    "$$ \\vec{A} + \\vec{B} = \\begin{bmatrix} (2) + (2)  \\\\ (3) + (1) \\\\ (4) + (-4)  \\end{bmatrix} $$\n",
    "\n",
    "$$ \\vec{A} + \\vec{B} = \\begin{bmatrix} 4  \\\\ 4 \\\\ 0  \\end{bmatrix} $$\n",
    "\n",
    "</div>\n",
    "<hr style=\"height:2px;border-width:0;color:gray;background-color:gray\">"
   ]
  },
  {
   "cell_type": "markdown",
   "metadata": {},
   "source": [
    "<div class=\"alert alert-warning\">\n",
    "<b>Box 1</b><br>\n",
    " Consider the addition of two vectors:<br> \n",
    "    <br>\n",
    "    \n",
    "$\\vec{A} = \\begin{bmatrix} -1  \\\\ 5 \\\\ 12  \\end{bmatrix}$ and $\\vec{B} = \\begin{bmatrix} -2  \\\\ 6 \\\\ -4  \\end{bmatrix}$.\n",
    "\n",
    "<br>\n",
    "    \n",
    "Calculate $\\vec{A} + \\vec{B}$ and $\\vec{A} - \\vec{B}$\n",
    "    \n",
    "</div>\n",
    "\n",
    "<hr style=\"height:2px;border-width:0;color:gray;background-color:gray\">"
   ]
  },
  {
   "cell_type": "markdown",
   "metadata": {},
   "source": [
    "## C2.5.3 Multiplication by a Scalar\n",
    "When a vector is multiplied by a scalar, the scalar is distributed to be multiplied by each vector component.\n",
    "\n",
    "<div class=\"alert alert-success\">\n",
    "    \n",
    " Consider the multiplication between a scalar $c$ and a vector $\\vec{A} = \\begin{bmatrix} A_x  \\\\ A_y \\\\ A_z  \\end{bmatrix}$: \n",
    "    \n",
    "$$ c\\vec{A}  = \\begin{bmatrix} c\\times A_x \\\\ c\\times A_y \\\\ c \\times A_z  \\end{bmatrix} $$\n",
    "        \n",
    "</div>\n",
    "<br>\n",
    "\n",
    "<div style=\"background-color: #D0D0D0 ; padding: 10px; border: 1px solid black;\">\n",
    "<header>\n",
    "<h3> Example 1</h3>\n",
    "    </header>\n",
    "    \n",
    "<b>Problem</b>\n",
    "    <br>\n",
    "Consider the multiplication $5\\times \\vec{A}$ where $\\vec{A} = \\begin{bmatrix} 2  \\\\ 3 \\\\ 4  \\end{bmatrix}$.\n",
    "\n",
    "We distribute the multiplication through all components:\n",
    "    \n",
    "$$5\\times \\vec{A} =  5\\times \\begin{bmatrix} 2  \\\\ 3 \\\\ 4  \\end{bmatrix}$$\n",
    "\n",
    "$$5\\times \\vec{A} =  \\begin{bmatrix} (5)(2)  \\\\ (5)(3) \\\\ (5)(4)  \\end{bmatrix}$$\n",
    "\n",
    "$$5\\times \\vec{A} = \\begin{bmatrix} 10  \\\\ 15 \\\\ 20  \\end{bmatrix}$$\n",
    "</div>\n",
    "<hr style=\"height:2px;border-width:0;color:gray;background-color:gray\">"
   ]
  },
  {
   "cell_type": "markdown",
   "metadata": {},
   "source": [
    "<div class=\"alert alert-warning\">\n",
    "    <b>Box 2</b><br>\n",
    "  \n",
    "Given two vectors: $\\vec{A} = \\begin{bmatrix} 1  \\\\ 0  \\end{bmatrix}$ and $\\vec{B} = \\begin{bmatrix} 0  \\\\ 1  \\end{bmatrix}$.\n",
    "   \n",
    "1. Make a sketch (hand drawn is ok) of each vectors in a traditional xy coordinate system.\n",
    "2. Calculate $\\vec{C} = 3\\times\\vec{A}$ and $\\vec{D} = 2\\times\\vec{B}$.\n",
    "3. Make a sketch (hand drawn is ok) of vectors $\\vec{C}$ and $\\vec{D}$ in the same coordinate system as in (1).\n",
    "4. Find $\\vec{C} + \\vec{D}$ using both geometrical and analytical approaches. Comment on your results.\n",
    "   \n",
    "</div>\n",
    "\n",
    "<hr style=\"height:2px\">"
   ]
  },
  {
   "cell_type": "markdown",
   "metadata": {},
   "source": [
    "<b>Comment</b>: The two vectors in Box 2 are examples of unit vectors.\n",
    "\n",
    "<hr style=\"height:2px\">"
   ]
  },
  {
   "cell_type": "markdown",
   "metadata": {},
   "source": [
    "<div class=\"alert alert-warning\">\n",
    "    <b>Box 3</b><br>\n",
    "    \n",
    "An ant is positioned at an initial point $P = (2,2)$ in a 2D reference system where there are two vectors called: $\\vec{e}_x = \\begin{bmatrix} 1  \\\\ 0  \\end{bmatrix}$ and $\\vec{e}_y = \\begin{bmatrix} 0  \\\\ 1  \\end{bmatrix}$.\n",
    "    <br>\n",
    "    \n",
    "The ant decides to walk 4 times the length of $\\vec{e}_x$ in the same direction as $\\vec{e}_x$ and 5 times the length of $\\vec{e}_y$, but in opposite direction of $\\vec{e}_y$.\n",
    "    \n",
    "1. Make a sketch (by hand is ok) of the ant's initial position vector in a traditional xy coordinate system.\n",
    "2. In the same reference frame, make a sketch of the ant's displacement.\n",
    "3. In the same reference frame, make a sketch of the ant's final position vector.\n",
    "4. In the same reference frame, make a sketch of $\\vec{e}_x$ and $\\vec{e}_y$.\n",
    "5. In the same reference frame, make a sketch of the x and y components of the displacement.\n",
    "6. What can you say about the relationship between the component vectors of the displacement vector and the vectors $\\vec{e}_x$ and $\\vec{e}_x$?</li>\n",
    "7. Can you use vector addition and multiplication rules to write an equation for the displacement vector in terms of the vectors $\\vec{e}_x$ and $\\vec{e}_y$?\n",
    "  \n",
    "</div>\n",
    "\n",
    "<hr style=\"height:2px\">"
   ]
  }
 ],
 "metadata": {
  "kernelspec": {
   "display_name": "Python 3 (ipykernel)",
   "language": "python",
   "name": "python3"
  },
  "language_info": {
   "codemirror_mode": {
    "name": "ipython",
    "version": 3
   },
   "file_extension": ".py",
   "mimetype": "text/x-python",
   "name": "python",
   "nbconvert_exporter": "python",
   "pygments_lexer": "ipython3",
   "version": "3.10.9"
  }
 },
 "nbformat": 4,
 "nbformat_minor": 4
}