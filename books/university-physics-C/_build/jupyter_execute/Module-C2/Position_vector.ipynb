{
 "cells": [
  {
   "cell_type": "markdown",
   "metadata": {},
   "source": [
    "# C.2.3 Position Vector\n",
    "<hr style=\"height:2px;border-width:0;color:gray;background-color:gray\">"
   ]
  },
  {
   "cell_type": "markdown",
   "metadata": {},
   "source": [
    "## 2.3.1 Position\n",
    "The position is the location of a point within a certain reference frame or coordinate system and is specified by a set of numbers indicating the distance from the origin of the frame. As we saw in PHASE D, x = 3 m describes the point in a 1D Cartesian coordinate system that is 3 meters away from the origin in the positive direction. For a 2D system, we will need two numbers to describe a point: example $(x,y) = (3~\\textrm{m},4~\\textrm{m})$ is the point that is 3 meters away from the origin along the positive $x$-axis and 4 meters away from the origin along the positive $y$-axis."
   ]
  },
  {
   "cell_type": "markdown",
   "metadata": {},
   "source": [
    "### Example: Plotting 2D Cartesian Reference Frame and Point Position\n",
    "We can make a plot to create a visual interpretation of a reference frame and a point (using Python script below). In the first example, we have a 2D Cartesian reference frame and two points given by $(x_1,y_1) = (3~\\textrm{m},4~\\textrm{m})$ and $(x_2,y_2) = (-2~\\textrm{m},-1~\\textrm{m})$"
   ]
  },
  {
   "cell_type": "code",
   "execution_count": 1,
   "metadata": {
    "tags": [
     "hide-input"
    ]
   },
   "outputs": [
    {
     "data": {
      "image/png": "[encoded data removed]",
      "text/plain": [
       "<Figure size 360x360 with 1 Axes>"
      ]
     },
     "metadata": {
      "needs_background": "light"
     },
     "output_type": "display_data"
    }
   ],
   "source": [
    "import numpy as np                 \n",
    "import matplotlib.pyplot as plt    \n",
    "\n",
    "# enter the x- and y-values of two data points\n",
    "xs = [3,-2]\n",
    "ys = [4,-1]\n",
    "\n",
    "# make them different colors in the plot\n",
    "colors = ['r', 'b']\n",
    "\n",
    "# Plot points\n",
    "fig, ax = plt.subplots(figsize=(5, 5))\n",
    "ax.scatter(xs, ys, c=colors)\n",
    "\n",
    "# Draw lines connecting points to axes\n",
    "#for x, y, c in zip(xs, ys, colors):\n",
    "#    ax.plot([x, x], [0, y], c=c, ls='--', lw=1.5, alpha=0.5)\n",
    "#    ax.plot([0, x], [y, y], c=c, ls='--', lw=1.5, alpha=0.5)\n",
    "\n",
    "#Set axes scales\n",
    "xmin = np.min(xs)\n",
    "xmax = np.max(xs)\n",
    "ymin = np.min(ys)\n",
    "ymax = np.max(ys)\n",
    "ax.set(xlim=(xmin-1, xmax+1), ylim=(ymin-1, ymax+1), aspect='equal')\n",
    "\n",
    "# By default there is a box around a plot. These lines are called spines.\n",
    "# Set bottom and left spines as x and y axes of coordinate system\n",
    "ax.spines['bottom'].set_position('zero')\n",
    "ax.spines['left'].set_position('zero')\n",
    "\n",
    "# Remove top and right spines\n",
    "ax.spines['top'].set_visible(False)\n",
    "ax.spines['right'].set_visible(False)\n",
    "\n",
    "# Create labels and place them at the end of the axes\n",
    "ax.set_xlabel('x', size=14, labelpad=-24, x=1.03)\n",
    "ax.set_ylabel('y', size=14, labelpad=-21, y=1.02, rotation=0)\n",
    "\n",
    "# Create custom major ticks to determine position of tick labels\n",
    "# frequency of tick labels\n",
    "ticks_frequency = 1\n",
    "x_ticks = np.arange(xmin, xmax+1, ticks_frequency)\n",
    "y_ticks = np.arange(ymin, ymax+1, ticks_frequency)\n",
    "ax.set_xticks(x_ticks[x_ticks != 0])\n",
    "ax.set_yticks(y_ticks[y_ticks != 0])\n",
    "\n",
    "# Create minor ticks placed at each integer to enable drawing of minor grid\n",
    "# lines: note that this has no effect if ticks_frequency=1\n",
    "ax.set_xticks(np.arange(xmin, xmax+1), minor=True)\n",
    "ax.set_yticks(np.arange(ymin, ymax+1), minor=True)\n",
    "\n",
    "# Draw major and minor grid lines\n",
    "ax.grid(which='both', color='grey', linewidth=1, linestyle='-', alpha=0.2)\n",
    "\n",
    "# Draw arrows\n",
    "arrow_fmt = dict(markersize=4, color='black', clip_on=False)\n",
    "ax.plot((1), (0), marker='>', transform=ax.get_yaxis_transform(), **arrow_fmt)\n",
    "ax.plot((0), (1), marker='^', transform=ax.get_xaxis_transform(), **arrow_fmt)\n",
    "\n",
    "plt.show()"
   ]
  },
  {
   "cell_type": "markdown",
   "metadata": {},
   "source": [
    "### Example: Plotting 2D Polar Reference Frame and Point Position\n",
    "In a polar reference frame, the position is given by a set of numbers (r,$\\theta$) indicating the distance away from the origin and the angle of rotation away from the positive x-axis (or horizontal axis). Example (r,$\\theta$) = (3 m,$\\frac{\\pi}{4}$ rad), where the angle here is given in radians. "
   ]
  },
  {
   "cell_type": "code",
   "execution_count": 2,
   "metadata": {
    "tags": [
     "hide-input"
    ]
   },
   "outputs": [
    {
     "data": {
      "image/png": "[encoded data removed]",
      "text/plain": [
       "<Figure size 432x288 with 1 Axes>"
      ]
     },
     "metadata": {
      "needs_background": "light"
     },
     "output_type": "display_data"
    }
   ],
   "source": [
    "import numpy as np\n",
    "import matplotlib.pyplot as plt\n",
    "\n",
    "r = 3\n",
    "theta = np.pi / 4.\n",
    "\n",
    "ax = plt.subplot(111, projection='polar')\n",
    "ax.scatter(theta, r)\n",
    "ax.set_rmax(r+1)\n",
    "ax.set_rticks([1, 2, 3, 4])  # Less radial ticks\n",
    "ax.scatter(theta, r)\n",
    "ax.set_title(\"A position plot on a polar axis\", va='bottom')\n",
    "plt.show()"
   ]
  },
  {
   "cell_type": "markdown",
   "metadata": {},
   "source": [
    "<hr style=\"height:2px;border-width:0;color:gray;background-color:gray\">\n",
    "\n",
    "## 2.3.2 Position Vector \n",
    "The position vector is the first vector we encounter in our physics course. Consider a 1D number line (1D Cartesian reference frame with units of meters), where we consider a point $x_A = +3$ m. The directed line segment pointing <b>from</b> $x = 0$ <b>to</b> $x_A$ is a vector $\\vec{x}_{A}$. We refer to this vector as the <span style=\"color:red\">position vector</span> for point A.\n",
    "\n",
    "<img src=\"C2-fig3.png\"  width=\"600\"/>"
   ]
  },
  {
   "cell_type": "markdown",
   "metadata": {},
   "source": [
    "<div class=\"alert alert-info\">The position vector is the directed line segment from the origin of a given reference system to a point in the coordinate space.\n",
    "</div>\n",
    "\n",
    "NOTE: if we pursue further knowledge in algebra, we will learn that the position vector is not a true vector, but a quantity known as a <i>pseudo vector</i>. "
   ]
  },
  {
   "cell_type": "markdown",
   "metadata": {},
   "source": [
    "To fully explore vector nature, we will establish a 2D reference system, where we consider a point $A$ located at $(x, y) = (3,4)$, specified in some sort of distance unit. The <b>directed line segment</b> pointing from $(x, y) = (0, 0)$ to  $A$ is a position vector $\\vec{r}_{A}$. \n",
    "\n",
    "<img src=\"C2-fig4.png\"  width=\"600\"/>"
   ]
  },
  {
   "cell_type": "markdown",
   "metadata": {},
   "source": [
    "### Position Vectors Using Python\n",
    "We can write a small Python script to plot a vector for us (for those of you interested in it): "
   ]
  },
  {
   "cell_type": "code",
   "execution_count": 3,
   "metadata": {
    "tags": [
     "hide-input"
    ]
   },
   "outputs": [
    {
     "data": {
      "image/png": "[encoded data removed]",
      "text/plain": [
       "<Figure size 432x288 with 1 Axes>"
      ]
     },
     "metadata": {
      "needs_background": "light"
     },
     "output_type": "display_data"
    }
   ],
   "source": [
    "import numpy as np\n",
    "import matplotlib.pyplot as plt\n",
    "\n",
    "%matplotlib inline\n",
    "\n",
    "vec = [3,4]\n",
    "array = np.array([[0, 0, vec[0], vec[1]]])\n",
    "X, Y, U, V = zip(*array)\n",
    "\n",
    "plt.figure()\n",
    "plt.ylabel('y-position')\n",
    "plt.xlabel('x-position')\n",
    "ax = plt.gca()\n",
    "ax.quiver(X, Y, U, V,color='b', angles='xy', scale_units='xy',scale=1)\n",
    "ax.set_xlim([np.min(array)-0.1, np.max(array)+0.1])\n",
    "ax.set_ylim([np.min(array)-0.1, np.max(array)+0.1])\n",
    "plt.draw()\n",
    "plt.show()"
   ]
  },
  {
   "cell_type": "markdown",
   "metadata": {},
   "source": [
    "Below is a code that can plot two position vectors. This code is a little more complex, but if we wanted to plot many position vectors, this code would be more appropriate to use as a starting point."
   ]
  },
  {
   "cell_type": "code",
   "execution_count": 4,
   "metadata": {
    "tags": [
     "hide-input"
    ]
   },
   "outputs": [
    {
     "data": {
      "image/png": "[encoded data removed]",
      "text/plain": [
       "<Figure size 432x288 with 1 Axes>"
      ]
     },
     "metadata": {
      "needs_background": "light"
     },
     "output_type": "display_data"
    }
   ],
   "source": [
    "import numpy as np\n",
    "import matplotlib.pyplot as plt\n",
    "\n",
    "%matplotlib inline\n",
    "\n",
    "def draw(v1, v2): \n",
    "    array = np.array([[0, 0, v1[0], v1[1]], \n",
    "                      [0,0, v2[0], v2[1]]])\n",
    "    X, Y, U, V = zip(*array)\n",
    "    plt.figure()\n",
    "    plt.ylabel('y-position')\n",
    "    plt.xlabel('x-position')\n",
    "    ax = plt.gca()\n",
    "    ax.quiver(X, Y, U, V, angles='xy', scale_units='xy',color=['r','b'], scale=1)\n",
    "    ax.set_xlim([np.min(array)-0.1, np.max(array)+0.1])\n",
    "    ax.set_ylim([np.min(array)-0.1, np.max(array)+0.1])\n",
    "    plt.draw()\n",
    "    plt.show()\n",
    "    \n",
    "draw([-3,4],[1,-3])"
   ]
  },
  {
   "cell_type": "markdown",
   "metadata": {},
   "source": [
    "<hr style=\"height:2px;border-width:0;color:gray;background-color:gray\">"
   ]
  },
  {
   "cell_type": "markdown",
   "metadata": {},
   "source": [
    "<div style=\"background-color: #D0D0D0 ; padding: 10px; border: 1px solid black;\">\n",
    "<header>\n",
    "<h3> Example 1</h3>\n",
    "    </header>\n",
    "    \n",
    "<b>Problem</b>\n",
    "    <br>\n",
    "Make a sketch of two position vectors representative of the positions\n",
    "    \n",
    "$$ \\vec{r}_1 = (-3,-1) $$\n",
    "    \n",
    "and\n",
    "\n",
    "$$ \\vec{r}_2 = (1,4) $$\n",
    "    \n",
    "<b>Methodology</b>\n",
    "    <br>\n",
    "We will mark the two data points in a 2D Cartesion coordinate system and draw a **directed line segment** from the origin to each data point.\n",
    "\n",
    "<b>Solution</b>\n",
    "    <br>\n",
    "<img src=\"C2-fig5.png\"  width=\"600\"/>\n",
    "    </div>\n",
    "<hr style=\"height:2px;border-width:0;color:gray;background-color:gray\">"
   ]
  }
 ],
 "metadata": {
  "celltoolbar": "Tags",
  "kernelspec": {
   "display_name": "Python 3 (ipykernel)",
   "language": "python",
   "name": "python3"
  },
  "language_info": {
   "codemirror_mode": {
    "name": "ipython",
    "version": 3
   },
   "file_extension": ".py",
   "mimetype": "text/x-python",
   "name": "python",
   "nbconvert_exporter": "python",
   "pygments_lexer": "ipython3",
   "version": "3.9.12"
  }
 },
 "nbformat": 4,
 "nbformat_minor": 4
}