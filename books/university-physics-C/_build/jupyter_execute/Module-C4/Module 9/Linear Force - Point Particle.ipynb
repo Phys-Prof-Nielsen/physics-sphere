{
 "cells": [
  {
   "cell_type": "markdown",
   "metadata": {},
   "source": [
    "# Linear Force: Point Particle\n",
    "***"
   ]
  },
  {
   "cell_type": "markdown",
   "metadata": {},
   "source": [
    "In Newtonian mechanics, force is a concept used to describe interactions between objects and as such, it is a measure of these interactions. Newton found through observations and experiments that an objects motion would change linearly according to the sum of all interactions on said object. If there were not net interaction on the object, its motion would remain unchanged. This came to be known as Newton's first law and it can be divided into two parts: one for linear motion and one for rotational motion.\n",
    "\n",
    "In this module, we will only concern ourselves with the net interaction on an object. The discussion on identifying individual interactions is an integral part of Newton's laws and subject of the next module.\n",
    "\n",
    "***"
   ]
  },
  {
   "cell_type": "markdown",
   "metadata": {},
   "source": [
    "## 1. Recall: Linear Motion\n",
    "It is appropriate to just re-iterate what we mean by linear motion. According to Newton, the linear motion of a point particle/object is\n",
    "\n",
    "$$ \\vec{p} = m\\vec{v} $$\n",
    "\n",
    "and the change in linear momentum is the linear impulse\n",
    "\n",
    "$$ \\vec{J} = \\Delta \\vec{p} $$\n",
    "\n",
    "***"
   ]
  },
  {
   "cell_type": "markdown",
   "metadata": {},
   "source": [
    "## 2. Linear Force on Point Particle \n",
    "The net interaction acting on a particle can be described through a net linear force $\\vec{F}_{net}$. This is sometimes referred to as an **unbalanced linear force** if the net linear force is zero. The net interaction acting on the particle over a time interval $dt$ causes a change in motion $d\\vec{p}$ (we consider infinitesimal changes here):\n",
    "\n",
    "$$ d\\vec{p} = \\vec{F}_{net}dt $$\n",
    "\n",
    "If we consider the net interaction to act from some time $t_{1}$ when the object has some linear momentum $\\vec{p}_1$ to some time $t_{2}$ when the object has some linear momentum $\\vec{p}_2$, then the total change in linear momentum (motion) during this time interval is \n",
    "\n",
    "$$ \\int_{p_1}^{p_2}d\\vec{p} = \\int_{t_1}^{t_2}\\vec{F}_{net}dt \\tag{1}$$\n",
    "\n",
    "This is integrating a vector, something we may not be comfortable with. However, we can break it Equation into component form using the x-,y-, and z-components. The x-component is\n",
    "\n",
    "$$ \\int_{p_{1,x}}^{p_{2,x}}dp_x = \\int_{t_1}^{t_2}F_{net,x}dt$$\n",
    "\n",
    "We can write the exact same equation for the y- and z-components by replacing the subscript $x$ with $y$ and $z$, respectively.\n",
    "\n",
    "Since we have no functional information about the net force, we can not do anything about the integration on the right side of the equation. The integral on the left side of the equation is similar to integrating $\\int_{x_1}^{x_2}dx$ and we get\n",
    "\n",
    "$$ \\left[p_x\\right]_{p_{1,x}}^{p_{2,x}} = \\int_{t_1}^{t_2}F_{net,x}dt$$\n",
    "\n",
    "$$ p_{2,x} - p_{1,x} = \\int_{t_1}^{t_2}F_{net,x}dt$$\n",
    "\n",
    "The left side of the equation is the **change in momentum** and we get\n",
    "\n",
    "$$ \\Delta p_x = \\int_{t_1}^{t_2}F_{net,x}dt \\tag{2}$$\n",
    "\n",
    "Since we can write the same for the remaining two components, we can then regroup back into the vector expression:\n",
    "\n",
    "<div class=\"alert alert-success\">\n",
    "    $$ \\Delta\\vec{p} = \\int_{t_1}^{t_2}\\vec{F}_{net}dt \\tag{3}$$\n",
    "</div>\n",
    "\n",
    "What it tells is that a net interaction acting on an object over an elapsed time is causing the object to experience an impulse or a change in motion. This equation is sometimes referred to as the **Impulse-momentum theorem**.\n",
    "\n",
    "<div class=\"alert alert-info\">\n",
    " While Equation (3) is a tool to qualitiative defining the net interaction, it is often more useful to us to use Equation (2) in textbook problems.   \n",
    "</div>\n",
    "\n",
    " \n",
    "\n",
    "### Unit\n",
    "The standard metric unit of force is kgm/s$^2$, which is commonly defined as a Newton (N).\n",
    "\n",
    "***"
   ]
  },
  {
   "cell_type": "markdown",
   "metadata": {},
   "source": [
    "### Example 1\n",
    "A particle, with mass 1.5 kg and intially at rest at t = 0 s, is subject to a net force expressed by $\\vec{F}(t) = (2.0 - t^2)~\\hat{i}$ with all constants in units such each term has unit of N. What is the velocity of the particle at t = 3 s?\n",
    "\n",
    "#### Solution\n",
    "We can find the impulse from Equation (3):\n",
    "\n",
    "$$ \\Delta \\vec{p} = \\int_{t_1}^{t_2}\\vec{F}_{net}dt $$\n",
    "\n",
    "Inserting in our expression for the force and the limits of integration, we get\n",
    "\n",
    "$$ \\Delta \\vec{p} = \\int_{0}^{3}(2.0 - t^2)~\\hat{i}dt $$\n",
    "\n",
    "The unit vector is a constant and after integrating each terms in the force, we have\n",
    "\n",
    "$$ \\Delta \\vec{p} = \\left(\\left[2.0t\\right]_0^3 - \\left[\\frac{1}{3}t^3\\right]_0^3\\right)~\\hat{i} $$\n",
    "\n",
    "$$ \\Delta \\vec{p} = (-1.0~\\textrm{N})~\\hat{i} $$\n",
    "\n",
    "While this is the impulse or change in momentum of the object, it is not what we were asked to find. The final velocity can be found from the impulse since we know the initial velocity is zero:\n",
    "\n",
    "$$ \\Delta \\vec{p} = \\vec{p}_f - \\vec{p}_i = m\\vec{v}_f - m\\vec{v}_i $$\n",
    "\n",
    "Inserting our values:\n",
    "\n",
    "$$ (-1.0)~\\hat{i} = (1.5)\\vec{v}_f - (1.5)(0) $$\n",
    "\n",
    "and solving for the final velocity to get\n",
    "\n",
    "$$ \\vec{v}_f = \\left(-\\frac{2}{3}~\\textrm{N}\\right)~\\hat{i} $$\n",
    "\n",
    "***"
   ]
  },
  {
   "cell_type": "markdown",
   "metadata": {},
   "source": [
    "<div class=\"alert alert-warning\">\n",
    "<b>Box 1</b><br>\n",
    "A particle of mass 0.5 kg is subject to a force according to $F(t) = 0.5t^3 - 2.0t^2$ with all constants in units to make each terms have unit of N and acting in the positive x-direction. The particle is initially moving with a velcoity of +2.0 m/s in the positive x-direction.\n",
    "    <ol>\n",
    "        <li> Find the impulse of the particle during the time period from t = 0 s to t = 5 s.\n",
    "        <li> What is the final velocity of the particle?\n",
    "        <li> What is the average acceleration of the particle?\n",
    "    </ol>\n",
    "</div>\n",
    "\n",
    "***"
   ]
  },
  {
   "cell_type": "markdown",
   "metadata": {},
   "source": [
    "<div class=\"alert alert-warning\">\n",
    "<b>Box 2</b><br>\n",
    "A particle of mass 2.0 kg is subject to a constant force $\\vec{F} = 5.0~\\textrm{N}~\\hat{i}$. If starting from rest at t = 0 s, find the particle's impulse after 5 seconds has elapsed and its final velocity. \n",
    "</div>\n",
    "    \n",
    "***"
   ]
  },
  {
   "cell_type": "markdown",
   "metadata": {},
   "source": [
    "## 3. Special Case: Constant Force\n",
    "Box 2 showed a case with a constant force and if you paid attention to the process, you noticed that the constant force factor could be pulled outside the integral (since it is a constant):\n",
    "\n",
    "$$ \\Delta\\vec{p} = \\vec{F}_{net}\\int_{t_1}^{t_2}dt $$\n",
    "\n",
    "and the integral gives us the elapsed time over which the force is acting:\n",
    "\n",
    "<div class=\"alert alert-success\">\n",
    "    $$ \\Delta\\vec{p} = \\vec{F}_{net}\\Delta t \\tag{4}$$\n",
    "</div>\n",
    "\n",
    "**This equation can only be applied when the force is constant**. However, there are times where we may not know the instantaneous force but have knowledge of the average force over a time interval. The average force is a constant as well, and we can apply Equation (4) when considering an average force as well:\n",
    "\n",
    "<div class=\"alert alert-success\">\n",
    "    $$ \\Delta\\vec{p} = \\vec{F}_{net,av}\\Delta t \\tag{5}$$\n",
    "</div>\n",
    "\n",
    "***"
   ]
  },
  {
   "cell_type": "markdown",
   "metadata": {},
   "source": [
    "## 4. Newton's Second Law for Point Particle\n",
    "We can proceed to write the relationship between the net force (cause) and the change in momentum (effect) in a form that is most likely more familiar to you, but also simplified to hide certain assumptions. We will start with Equation (5):\n",
    "\n",
    "$$ \\Delta\\vec{p} = \\vec{F}_{net,av}\\Delta t $$\n",
    "\n",
    "and isolate the force factor:\n",
    "\n",
    "$$ \\vec{F}_{net,av} = \\frac{\\Delta \\vec{p}}{\\Delta t} $$\n",
    "\n",
    "Similar to our discussion with e.g. average velocity vs. instantaneous velocity, we can take the limit of $\\Delta t \\rightarrow 0$ and obtain an expression for the **instantaenous change in linear momentum due to an instantneous net force**:\n",
    "\n",
    "<div class=\"alert alert-success\">\n",
    "$$ \\vec{F}_{net} = \\frac{d\\vec{p}}{dt} \\tag{6}$$\n",
    "</div>\n",
    "\n",
    "This equation is known as **Newton's 2nd Law for a point particle**. \n",
    "\n",
    "We can write out the definition of momentum:\n",
    "\n",
    "$$ \\vec{F}_{net} = \\frac{d(m\\vec{v})}{dt} $$\n",
    "\n",
    "and apply the product rule to obtain:\n",
    "\n",
    "$$ \\vec{F}_{net} = m\\frac{d\\vec{v}}{dt} +  \\vec{v}\\frac{dm}{dt}$$\n",
    "\n",
    "If a point particle have constant constant (or we can make the assumption that mass is constant), then this reduces to\n",
    "\n",
    "$$ \\vec{F}_{net} = m\\frac{d\\vec{v}}{dt} $$\n",
    "\n",
    "The derivative of the velocity with respect to time is the acceleration:\n",
    "\n",
    "<div class=\"alert alert-success\">\n",
    "$$ \\vec{F}_{net} = m\\vec{a} \\tag{7}$$\n",
    "</div>\n",
    "\n",
    "**which is the most famous version of Newton's 2nd law, but it only applies to a point particle with constant mass**.\n",
    "\n",
    "<img src=\"n2meme.jpg\" width=\"500\">\n",
    "\n",
    "***"
   ]
  },
  {
   "cell_type": "code",
   "execution_count": null,
   "metadata": {},
   "outputs": [],
   "source": []
  }
 ],
 "metadata": {
  "kernelspec": {
   "display_name": "Python 3",
   "language": "python",
   "name": "python3"
  },
  "language_info": {
   "codemirror_mode": {
    "name": "ipython",
    "version": 3
   },
   "file_extension": ".py",
   "mimetype": "text/x-python",
   "name": "python",
   "nbconvert_exporter": "python",
   "pygments_lexer": "ipython3",
   "version": "3.10.9"
  }
 },
 "nbformat": 4,
 "nbformat_minor": 4
}