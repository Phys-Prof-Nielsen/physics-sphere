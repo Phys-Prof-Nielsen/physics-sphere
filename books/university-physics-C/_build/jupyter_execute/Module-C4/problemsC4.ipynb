{
 "cells": [
  {
   "cell_type": "markdown",
   "metadata": {},
   "source": [
    "# C4.X Problems\n",
    "<hr style=\"height:2px;border-width:0;color:gray;background-color:gray\">"
   ]
  },
  {
   "cell_type": "markdown",
   "metadata": {},
   "source": [
    "<h2>Problem C4.1</h2>\n",
    "    </header>\n",
    "\n",
    "<b>Soccer Kick</b>: A soccer player kicks a ball initially at rest with a force of 300.0 N at an angle of 35 degrees above the horizontal. If the contact time between the foot and the ball is 0.020 seconds, calculate the impulse applied to the ball.\n",
    "   \n",
    "<hr style=\"height:2px;border-width:0;color:gray;background-color:gray\">"
   ]
  },
  {
   "cell_type": "markdown",
   "metadata": {},
   "source": [
    "<h2>Problem C4.2</h2>\n",
    "    </header>\n",
    "\n",
    "A 0.50 kg particle is subjected to a net force given by $\\vec{F}_{net} = (3.0\\textrm{N})\\hat{i} + (41~\\textrm{N})\\hat{j}$ for 2.00 seconds. Calculate the\n",
    "impulse experienced by the particle during this time.\n",
    "   \n",
    "<hr style=\"height:2px;border-width:0;color:gray;background-color:gray\">"
   ]
  },
  {
   "cell_type": "markdown",
   "metadata": {},
   "source": [
    "<h2>Problem C4.3</h2>\n",
    "    </header>\n",
    "\n",
    "<b>Air Hockey Collision</b>: On an air hockey table, a 0.20 kg puck moving eastward at 5.0 m/s collides with a stationary 0.10 kg puck. After the collision, the first puck moves westward at 2.0 m/s. Calculate the final velocity of the second puck.\n",
    "   \n",
    "<hr style=\"height:2px;border-width:0;color:gray;background-color:gray\">"
   ]
  },
  {
   "cell_type": "markdown",
   "metadata": {},
   "source": [
    "## Problem C4.4\n",
    "\n",
    "<b>Pool Table Collision</b>: On a pool table, a cue-ball (mass 0.17 kg) moving at 2.0 m/s in the east direction collides with a stationary 9-ball (mass 0.16 kg). After the collision, the cue-ball moves at an angle of 30.0 degrees north of east, while the 9-ball moves at an angle of 60.0 degrees south of east. Calculate the final velocity of each ball.\n",
    "\n",
    "<hr style=\"height:2px;border-width:0;color:gray;background-color:gray\">"
   ]
  },
  {
   "cell_type": "markdown",
   "metadata": {},
   "source": [
    "## Problem C4.5\n",
    "\n",
    "<b>Particle Collision in a Particle Accelerator</b><br>\n",
    "In a high-energy particle accelerator experiment, two protons, P1 and P2, with identical masses of $1.67 \\times 10^{-27}$ kg collides. P2 is accelerated towards towards P1. Initially, P1 is at rest, while P2 is moving with a velocity of 0.9c (where c is the speed of light) in the positive x-direction.\n",
    "They collide head-on and annihilate each other, producing two new particles, A and B.\n",
    "Particle A, with a mass of $2.0 \\times 10^{-27}$ kg, moves off at an angle of 60.0 degrees north of the x-axis with a velocity of 0.6c. Particle B, with an unknown mass, moves off at an angle of 30.0 degrees south of the x-axis with an unknown velocity.\n",
    "\n",
    "1. Calculate the total momentum of the system before the collision.\n",
    "2. Calculate the total momentum of the system after the collision.\n",
    "3. Determine the mass of particle B.\n",
    "4. Calculate the velocity of particle B after the collision.\n",
    "5. Verify whether kinetic energy is conserved in this collision. Calculate the initial and final kinetic energies of the system.\n",
    "\n",
    "<hr style=\"height:2px;border-width:0;color:gray;background-color:gray\">"
   ]
  },
  {
   "cell_type": "markdown",
   "metadata": {},
   "source": [
    "## Problem C4.6\n",
    "\n",
    "A 10.0 kg block is on a horizontal plane with a coefficient of kinetic friction of 0.30. A horizontal force of 50.0 N is applied to the block. Determine the acceleration of the block.\n",
    "\n",
    "<hr style=\"height:2px;border-width:0;color:gray;background-color:gray\">"
   ]
  },
  {
   "cell_type": "code",
   "execution_count": 1,
   "metadata": {
    "tags": [
     "hide-input",
     "hide-output"
    ]
   },
   "outputs": [
    {
     "name": "stdout",
     "output_type": "stream",
     "text": [
      "{ax: 2.05700000000000, fn: 98.1000000000000}\n"
     ]
    }
   ],
   "source": [
    "import sympy as sym\n",
    "\n",
    "ax = sym.Symbol('ax')\n",
    "fn = sym.Symbol('fn')\n",
    "\n",
    "m = 10.0\n",
    "g = 9.81\n",
    "fp = 50.0\n",
    "mu = 0.30\n",
    "\n",
    "eq1 = m*ax - fp + mu*fn\n",
    "eq2 = fn - m*g\n",
    "\n",
    "sol = sym.solve((eq1,eq2),(ax,fn))\n",
    "\n",
    "print(sol)"
   ]
  },
  {
   "cell_type": "markdown",
   "metadata": {},
   "source": [
    "## Problem C4.7\n",
    "\n",
    "A block of mass 2.0 kg is placed on a frictionless inclined plane that makes an angle of 30.0 degrees with the horizontal. Calculate the acceleration of the block down the incline.\n",
    "\n",
    "<hr style=\"height:2px;border-width:0;color:gray;background-color:gray\">"
   ]
  },
  {
   "cell_type": "code",
   "execution_count": 2,
   "metadata": {
    "tags": [
     "hide-input",
     "hide-output"
    ]
   },
   "outputs": [
    {
     "name": "stdout",
     "output_type": "stream",
     "text": [
      "{ax: 4.90500000000000, fn: 16.9914184222507}\n"
     ]
    }
   ],
   "source": [
    "import sympy as sym\n",
    "import numpy as np\n",
    "\n",
    "ax = sym.Symbol('ax')\n",
    "fn = sym.Symbol('fn')\n",
    "\n",
    "m = 2.0\n",
    "angle = 30.0\n",
    "g = 9.81\n",
    "\n",
    "eq1 = m*ax - m*g*np.sin(angle*np.pi/180.)\n",
    "eq2 = fn - m*g*np.cos(angle*np.pi/180.)\n",
    "\n",
    "sol = sym.solve((eq1,eq2),(ax,fn))\n",
    "\n",
    "print(sol)"
   ]
  },
  {
   "cell_type": "markdown",
   "metadata": {},
   "source": [
    "## Problem C4.8\n",
    "\n",
    "A block of mass 2.0 kg is placed on a frictionless inclined plane that makes an angle of 30.0 degrees with the horizontal. \n",
    "1. Calculate the acceleration of the block down the incline when a force of 5.0 N is applied parallel to the incline and resisting the motion of the block. \n",
    "2. What minimum force must be applied to keep the box from sliding down and what is the normal force in that situation?\n",
    "\n",
    "<hr style=\"height:2px;border-width:0;color:gray;background-color:gray\">"
   ]
  },
  {
   "cell_type": "code",
   "execution_count": 3,
   "metadata": {
    "tags": [
     "hide-input",
     "hide-output"
    ]
   },
   "outputs": [
    {
     "name": "stdout",
     "output_type": "stream",
     "text": [
      "{ax: 2.73993649053891, fn: 21.3215454411729}\n"
     ]
    }
   ],
   "source": [
    "import sympy as sym\n",
    "import numpy as np\n",
    "\n",
    "ax = sym.Symbol('ax')\n",
    "fn = sym.Symbol('fn')\n",
    "\n",
    "m = 2.0\n",
    "fp = 5.0\n",
    "g = 9.81\n",
    "angle = 30.0\n",
    "\n",
    "eq1 = m*ax + fp*np.cos(angle*np.pi/180.)  - m*g*np.sin(angle*np.pi/180.)\n",
    "eq2 = fn - m*g*np.cos(angle*np.pi/180.) - fp*np.cos(angle*np.pi/180.)\n",
    "\n",
    "sol = sym.solve((eq1,eq2),(ax,fn))\n",
    "\n",
    "print(sol)"
   ]
  },
  {
   "cell_type": "code",
   "execution_count": 4,
   "metadata": {
    "tags": [
     "hide-input",
     "hide-output"
    ]
   },
   "outputs": [
    {
     "name": "stdout",
     "output_type": "stream",
     "text": [
      "{fp: 11.3276122815005, fn: 26.8014184222507}\n"
     ]
    }
   ],
   "source": [
    "import sympy as sym\n",
    "import numpy as np\n",
    "\n",
    "fp = sym.Symbol('fp')\n",
    "fn = sym.Symbol('fn')\n",
    "\n",
    "m = 2.0\n",
    "ax = 0.0\n",
    "g = 9.81\n",
    "angle = 30.0\n",
    "\n",
    "eq1 = m*ax + fp*np.cos(angle*np.pi/180.)  - m*g*np.sin(angle*np.pi/180.)\n",
    "eq2 = fn - m*g*np.cos(angle*np.pi/180.) - fp*np.cos(angle*np.pi/180.)\n",
    "\n",
    "sol = sym.solve((eq1,eq2),(fp,fn))\n",
    "\n",
    "print(sol)"
   ]
  },
  {
   "cell_type": "markdown",
   "metadata": {},
   "source": [
    "## Problem C4.9\n",
    "\n",
    "An elevator with a mass of 800 kg is moving upward at a constant speed of 4 m/s when it suddenly starts accelerating upward at a rate of 2 m/s?. Determine the force experienced by a 70 kg passenger inside the elevator during this acceleration.\n",
    "<hr style=\"height:2px;border-width:0;color:gray;background-color:gray\">"
   ]
  }
 ],
 "metadata": {
  "celltoolbar": "Tags",
  "kernelspec": {
   "display_name": "Python 3 (ipykernel)",
   "language": "python",
   "name": "python3"
  },
  "language_info": {
   "codemirror_mode": {
    "name": "ipython",
    "version": 3
   },
   "file_extension": ".py",
   "mimetype": "text/x-python",
   "name": "python",
   "nbconvert_exporter": "python",
   "pygments_lexer": "ipython3",
   "version": "3.10.9"
  }
 },
 "nbformat": 4,
 "nbformat_minor": 4
}