{
 "cells": [
  {
   "cell_type": "markdown",
   "metadata": {},
   "source": [
    "# C5.X Problems\n",
    "<hr style=\"height:2px;border-width:0;color:gray;background-color:gray\">"
   ]
  },
  {
   "cell_type": "markdown",
   "metadata": {},
   "source": [
    "<h2>Problem C5.1</h2>\n",
    "    </header>\n",
    "\n",
    "A car accelerates from rest at a constant rate of 3.0 m/s$^2$ for 10.0 seconds. Calculate its final velocity and the distance it travels during this time."
   ]
  },
  {
   "cell_type": "markdown",
   "metadata": {
    "tags": [
     "hide-input"
    ]
   },
   "source": [
    "```{admonition} Solution C5.1\n",
    ":class: tip, dropdown\n",
    "<div style=\"background-color: #D0D0D0 ; padding: 10px; border: 1px solid black;\">\n",
    "\n",
    "**Solving Methodology**\n",
    "    \n",
    "We will be using the defining relationship between acceleration and change in velocity, followed by one of the derived equations of kinematics.\n",
    "\n",
    "**Solution**\n",
    "\n",
    "From $\\vec{a}_{av} = \\frac{\\Delta\\vec{v}}{\\Delta t} $ we have for a single component, say x:\n",
    "\n",
    "$$ v_x = v_{0x} + a_{av,x}\\Delta t $$\n",
    "\n",
    "Inserting our numbers:\n",
    "\n",
    "$$ v_x = (0) + (+3.0)(10.0) = +3.0\\times 10^1~\\textrm{m/s} $$\n",
    "    \n",
    "Using Toricelli's equation of kinematics:\n",
    "    \n",
    "$$ v_x^2 = v_{0x}^2 + 2a_{x}\\Delta x $$\n",
    "    \n",
    "we can solve for the distance travelled:\n",
    "    \n",
    "$$ \\Delta x = \\frac{v_x^2 - v_{0x}^2}{2a_x} = \\frac{(30)^2 - (0)^2}{(2)(3.0)} = 1.5\\times 10^2~\\textrm{m} $$\n",
    "\n",
    "The later, we could also have found by using $v_{av,x} = \\frac{\\Delta x}{\\Delta t}$ and recognizing that the average velocity over the 10.0 s is 15 m/s.\n",
    "</div>\n",
    "<hr style=\"height:2px;border-width:0;color:gray;background-color:gray\">\n",
    "```"
   ]
  },
  {
   "cell_type": "markdown",
   "metadata": {},
   "source": [
    "<h2>Problem C5.2</h2>\n",
    "    </header>\n",
    "\n",
    "A UVU rocket is launched vertically upward. After the engine burn-out the speed of the rocket is 740.0 m/s. How high above the burn-out altitude is the speed 120.0 m/s?"
   ]
  },
  {
   "cell_type": "markdown",
   "metadata": {},
   "source": [
    "```{admonition} Solution C5.2\n",
    ":class: tip, dropdown\n",
    "\n",
    "<div style=\"background-color: #D0D0D0 ; padding: 10px; border: 1px solid black;\">\n",
    "\n",
    "**Solving Methodology**\n",
    "We will be using Toricelli's equation of motion (using z as the vertical coordinate):\n",
    "\n",
    "$$ v_z^2 = v_{0z}^2 + 2a_{z}\\Delta z $$\n",
    "\n",
    "**Solution**\n",
    "\n",
    "If we let upward be positive direction, then the acceleration of the rocket after the burn-out is $a_z = -9.81~\\textrm{m/s}^2$. Solving for our displacement and inserting our numbers:\n",
    "\n",
    "$$ \\Delta z = \\frac{v_z^2 - v_{0z}^2}{2a_z} = \\frac{(120.0)^2 - (740.0)^2}{(2)(-9.81)} = 2.7\\times 10^4~\\textrm{m} $$\n",
    "\n",
    "</div>\n",
    "<hr style=\"height:2px;border-width:0;color:gray;background-color:gray\">\n",
    "```"
   ]
  },
  {
   "cell_type": "markdown",
   "metadata": {},
   "source": [
    "## Problem C5.3\n",
    "\n",
    "A block with a mass of 2.5 kg is being pulled across a horizontal surface. The coefficient of friction between the block and the surface is 0.20. The pulling force is 12 N and parallel to the surface. \n",
    "\n",
    "1. Use Newton's 2nd law to find the acceleration of the block.\n",
    "2. If the block starts from rest, what is the speed of the block after being pulled a distance of 5.0 m?\n",
    "3. How long time did it take to pull it a distance of 5.0 m?\n",
    "\n",
    "[Video Solution](https://youtu.be/osQuyibIRYs?si=02zMpJbx5U88ESWr)\n",
    "\n",
    "<hr style=\"height:2px;border-width:0;color:gray;background-color:gray\">"
   ]
  },
  {
   "cell_type": "code",
   "execution_count": 1,
   "metadata": {
    "tags": [
     "hide-input",
     "hide-output"
    ]
   },
   "outputs": [
    {
     "name": "stdout",
     "output_type": "stream",
     "text": [
      "{ax: -1.56200000000000, fn: 24.5250000000000}\n"
     ]
    }
   ],
   "source": [
    "import sympy as sym\n",
    "\n",
    "#part 1\n",
    "ax = sym.Symbol('ax')\n",
    "fn = sym.Symbol('fn')\n",
    "\n",
    "m = 2.5\n",
    "fp = 1\n",
    "g = 9.81\n",
    "mu = 0.20\n",
    "\n",
    "eq1 = m*ax -fp + mu*fn\n",
    "eq2 = fn - m*g\n",
    "\n",
    "sol = sym.solve((eq1,eq2),(ax,fn))\n",
    "\n",
    "print(sol)"
   ]
  },
  {
   "cell_type": "code",
   "execution_count": 2,
   "metadata": {
    "tags": [
     "hide-input",
     "hide-output"
    ]
   },
   "outputs": [
    {
     "name": "stdout",
     "output_type": "stream",
     "text": [
      "[-5.32728824074688, 5.32728824074688]\n"
     ]
    }
   ],
   "source": [
    "import sympy as sym\n",
    "\n",
    "#part 2\n",
    "vx = sym.Symbol('vx')\n",
    "\n",
    "v0x = 0.0\n",
    "ax = 2.838\n",
    "dx = 5.0\n",
    "\n",
    "eq = vx**2 - v0x**2 - 2*ax*dx\n",
    "\n",
    "sol = sym.solve(eq,vx)\n",
    "\n",
    "print(sol)"
   ]
  },
  {
   "cell_type": "code",
   "execution_count": 3,
   "metadata": {
    "tags": [
     "hide-input",
     "hide-output"
    ]
   },
   "outputs": [
    {
     "name": "stdout",
     "output_type": "stream",
     "text": [
      "[1.87702607470049]\n"
     ]
    }
   ],
   "source": [
    "import sympy as sym\n",
    "\n",
    "#part 3\n",
    "dt = sym.Symbol('dt')\n",
    "\n",
    "v0x = 0.0\n",
    "vx = 5.327\n",
    "ax = 2.838\n",
    "\n",
    "eq = dt - (vx - v0x)/ax\n",
    "\n",
    "sol = sym.solve(eq,dt)\n",
    "\n",
    "print(sol)"
   ]
  },
  {
   "cell_type": "markdown",
   "metadata": {},
   "source": [
    "## Problem C5.4\n",
    "\n",
    "A 2.0 kg box is being pulled up a 15$^\\circ$ incline by a 15 N pulling force that is parallel to the incline. The coefficient of friction between the box and the surface is 0.25.\n",
    "\n",
    "1. Use Newton's 2nd law to find the acceleration of the block.\n",
    "2. If the incline is 12 m long and the box starts from rest, what is its speed at the top?\n",
    "3. How long time did it take to pull the box from the botton to the top of the incline?\n",
    "4. What is the work done by the dilligent student worker who pulled the box?\n",
    "\n",
    "<hr style=\"height:2px;border-width:0;color:gray;background-color:gray\">"
   ]
  },
  {
   "cell_type": "markdown",
   "metadata": {},
   "source": [
    "## Problem C5.5\n",
    "\n",
    "Consider two blocks A and B connected by a massless rope and a massless disk as shown in the Figure.\n",
    "\n",
    "<img src=\"P-C5.5.png\" width=\"400\">\n",
    "\n",
    "Block A has a mass of 2.0 kg and is placed on the table top. The coefficient of kinetic friction between the block and the table surface is 0.30. Block B has a mass of 1.5 kg. The blocks are held in place until $t = 0$ s when they are released.\n",
    "\n",
    "1. Draw a free-body-diagram of each block.\n",
    "2. What is an equation of constraint in this problem?\n",
    "3. Find the acceleration of block B using Newton's 2nd law.\n",
    "4. If the initial distance between Block B and the floor is 1.2 m, how long time does it take to reach the floor?\n",
    "5. What is the speed of block B right before it hits the floor?\n",
    "6. What should the static friction be to prevent the system from accelerating?\n",
    "\n",
    "<hr style=\"height:2px;border-width:0;color:gray;background-color:gray\">"
   ]
  }
 ],
 "metadata": {
  "celltoolbar": "Tags",
  "kernelspec": {
   "display_name": "Python 3 (ipykernel)",
   "language": "python",
   "name": "python3"
  },
  "language_info": {
   "codemirror_mode": {
    "name": "ipython",
    "version": 3
   },
   "file_extension": ".py",
   "mimetype": "text/x-python",
   "name": "python",
   "nbconvert_exporter": "python",
   "pygments_lexer": "ipython3",
   "version": "3.10.9"
  }
 },
 "nbformat": 4,
 "nbformat_minor": 4
}