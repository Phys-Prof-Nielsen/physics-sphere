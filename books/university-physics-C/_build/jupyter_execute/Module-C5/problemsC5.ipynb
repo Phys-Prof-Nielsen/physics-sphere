{
 "cells": [
  {
   "cell_type": "markdown",
   "metadata": {},
   "source": [
    "# C5.X Problems\n",
    "<hr style=\"height:2px;border-width:0;color:gray;background-color:gray\">"
   ]
  },
  {
   "cell_type": "markdown",
   "metadata": {},
   "source": [
    "<h2>Problem C5.1</h2>\n",
    "    </header>\n",
    "\n",
    "A car accelerates from rest at a constant rate of 3.0 m/s$^2$ for 10.0 seconds. Calculate its final velocity and the distance it travels during this time."
   ]
  },
  {
   "cell_type": "code",
   "execution_count": 1,
   "metadata": {},
   "outputs": [],
   "source": [
    "# DIY Cell"
   ]
  },
  {
   "cell_type": "code",
   "execution_count": 2,
   "metadata": {
    "tags": [
     "hide-input",
     "hide-output"
    ]
   },
   "outputs": [
    {
     "name": "stdout",
     "output_type": "stream",
     "text": [
      "The final velocity is 30.0 m/s\n",
      " \n",
      "The distance traveled is 150.0 m\n"
     ]
    }
   ],
   "source": [
    "%reset -f\n",
    "\n",
    "import numpy as np\n",
    "\n",
    "ax = 3.0\n",
    "t = 10.0\n",
    "v0x = 0.0\n",
    "\n",
    "vx = v0x + ax*t\n",
    "print('The final velocity is '+str(vx)+' m/s')\n",
    "\n",
    "dx = v0x*t + 0.5*ax*t**2\n",
    "d = np.abs(dx)   #distance is the magnitude of displacement\n",
    "print(' ')\n",
    "print('The distance traveled is '+str(d)+' m')"
   ]
  },
  {
   "cell_type": "markdown",
   "metadata": {},
   "source": [
    "<h2>Problem C5.2</h2>\n",
    "    </header>\n",
    "\n",
    "A UVU rocket is launched vertically upward. After the engine burn-out the speed of the rocket is 740.0 m/s. How high above the burn-out altitude is the speed 120.0 m/s?"
   ]
  },
  {
   "cell_type": "code",
   "execution_count": 3,
   "metadata": {},
   "outputs": [],
   "source": [
    "# DIU Cell"
   ]
  },
  {
   "cell_type": "code",
   "execution_count": 4,
   "metadata": {
    "tags": [
     "hide-input",
     "hide-output"
    ]
   },
   "outputs": [
    {
     "name": "stdout",
     "output_type": "stream",
     "text": [
      "Altitude above burn-out height is 27176.3506625892 m\n"
     ]
    }
   ],
   "source": [
    "%reset -f\n",
    "\n",
    "import sympy as sym\n",
    "\n",
    "v1y = 740.0\n",
    "v2y = 120.0\n",
    "ay = -9.81\n",
    "\n",
    "dy = sym.Symbol('dy')\n",
    "\n",
    "eq = v2y**2 - v1y**2 - 2*ay*dy\n",
    "sol = sym.solve(eq,dy)\n",
    "\n",
    "print('Altitude above burn-out height is '+str(sol[0])+' m')"
   ]
  },
  {
   "cell_type": "markdown",
   "metadata": {},
   "source": [
    "## Problem C5.3\n",
    "\n",
    "A block with a mass of 2.5 kg is being pulled across a horizontal surface. The coefficient of friction between the block and the surface is 0.20. The pulling force is 12 N and parallel to the surface. \n",
    "\n",
    "1. Use Newton's 2nd law to find the acceleration of the block.\n",
    "2. If the block starts from rest, what is the speed of the block after being pulled a distance of 5.0 m?\n",
    "3. How long time did it take to pull it a distance of 5.0 m?\n",
    "\n",
    "[Video Solution](https://youtu.be/osQuyibIRYs?si=02zMpJbx5U88ESWr)\n",
    "\n"
   ]
  },
  {
   "cell_type": "code",
   "execution_count": 5,
   "metadata": {},
   "outputs": [],
   "source": [
    "# DIY Cell"
   ]
  },
  {
   "cell_type": "code",
   "execution_count": 6,
   "metadata": {
    "tags": [
     "hide-input",
     "hide-output"
    ]
   },
   "outputs": [
    {
     "name": "stdout",
     "output_type": "stream",
     "text": [
      "Acceleration = 2.83800000000000\n",
      " \n",
      "Speed = 5.32728824074688\n",
      " \n",
      "Time = 1.87702607470049\n"
     ]
    }
   ],
   "source": [
    "%reset -f\n",
    "\n",
    "import sympy as sym\n",
    "\n",
    "#part 1\n",
    "ax = sym.Symbol('ax')\n",
    "fn = sym.Symbol('fn')\n",
    "\n",
    "m = 2.5\n",
    "fp = 12\n",
    "g = 9.81\n",
    "mu = 0.20\n",
    "\n",
    "eq1 = m*ax -fp + mu*fn\n",
    "eq2 = fn - m*g\n",
    "\n",
    "sol = sym.solve((eq1,eq2),(ax,fn))\n",
    "\n",
    "print('Acceleration = '+str(sol[ax]))\n",
    "\n",
    "#part 2\n",
    "vx = sym.Symbol('vx')\n",
    "\n",
    "v0x = 0.0\n",
    "ax = 2.838\n",
    "dx = 5.0\n",
    "\n",
    "eq = vx**2 - v0x**2 - 2*ax*dx\n",
    "\n",
    "sol = sym.solve(eq,vx)\n",
    "print(' ')\n",
    "print('Speed = '+str(sol[1]))\n",
    "\n",
    "#part 3\n",
    "dt = sym.Symbol('dt')\n",
    "\n",
    "v0x = 0.0\n",
    "vx = 5.327\n",
    "ax = 2.838\n",
    "\n",
    "eq = dt - (vx - v0x)/ax\n",
    "\n",
    "sol = sym.solve(eq,dt)\n",
    "print(' ')\n",
    "print('Time = '+str(sol[0]))"
   ]
  },
  {
   "cell_type": "markdown",
   "metadata": {},
   "source": [
    "<hr style=\"height:2px;border-width:0;color:gray;background-color:gray\">"
   ]
  },
  {
   "cell_type": "markdown",
   "metadata": {},
   "source": [
    "## Problem C5.4\n",
    "\n",
    "A 2.0 kg box is being pulled up a 15$^\\circ$ incline by a 15 N pulling force that is parallel to the incline. The coefficient of friction between the box and the surface is 0.25.\n",
    "\n",
    "1. Use Newton's 2nd law to find the acceleration of the block.\n",
    "2. If the incline is 12 m long and the box starts from rest, what is its speed at the top?\n",
    "3. How long time did it take to pull the box from the bottom to the top of the incline?\n",
    "4. What is the work done by the diligent student worker who pulled the box?\n",
    "\n",
    "[Video Solution](https://youtu.be/TdsksfDjbMQ)\n"
   ]
  },
  {
   "cell_type": "code",
   "execution_count": 7,
   "metadata": {},
   "outputs": [],
   "source": [
    "# DIY Cell"
   ]
  },
  {
   "cell_type": "code",
   "execution_count": 8,
   "metadata": {
    "tags": [
     "hide-input",
     "hide-output"
    ]
   },
   "outputs": [
    {
     "name": "stdout",
     "output_type": "stream",
     "text": [
      "Acceleration = 2.59205207857033\n",
      " \n",
      "Speed = 7.88720482807439\n"
     ]
    },
    {
     "name": "stdout",
     "output_type": "stream",
     "text": [
      " \n",
      "Time = 3.04282407407407\n",
      " \n",
      "Work = 180.0\n"
     ]
    }
   ],
   "source": [
    "%reset -f\n",
    "\n",
    "import sympy as sym\n",
    "import numpy as np\n",
    "\n",
    "#part 1\n",
    "ax = sym.Symbol('ax')\n",
    "fn = sym.Symbol('fn')\n",
    "\n",
    "m = 2.0\n",
    "fp = 15\n",
    "g = 9.81\n",
    "mu = 0.25\n",
    "angle = 15.0\n",
    "\n",
    "eq1 = m*ax -fp + mu*fn + m*g*np.sin(angle*np.pi/180.0)\n",
    "eq2 = fn - m*g*np.cos(angle*np.pi/180.0)\n",
    "\n",
    "sol = sym.solve((eq1,eq2),(ax,fn))\n",
    "\n",
    "print('Acceleration = '+str(sol[ax]))\n",
    "\n",
    "#part 2\n",
    "vx = sym.Symbol('vx')\n",
    "\n",
    "v0x = 0.0\n",
    "ax = 2.592\n",
    "dx = 12.0\n",
    "\n",
    "eq = vx**2 - v0x**2 - 2*ax*dx\n",
    "\n",
    "sol = sym.solve(eq,vx)\n",
    "print(' ')\n",
    "print('Speed = '+str(sol[1]))\n",
    "\n",
    "#part 3\n",
    "dt = sym.Symbol('dt')\n",
    "\n",
    "v0x = 0.0\n",
    "vx = 7.887\n",
    "ax = 2.592\n",
    "\n",
    "eq = dt - (vx - v0x)/ax\n",
    "\n",
    "sol = sym.solve(eq,dt)\n",
    "print(' ')\n",
    "print('Time = '+str(sol[0]))\n",
    "\n",
    "# Part 4\n",
    "fp = 15.0\n",
    "dx = 12.0\n",
    "\n",
    "work = fp*dx\n",
    "print(' ')\n",
    "print('Work = '+str(work))"
   ]
  },
  {
   "cell_type": "markdown",
   "metadata": {},
   "source": [
    "<hr style=\"height:2px;border-width:0;color:gray;background-color:gray\">"
   ]
  },
  {
   "cell_type": "markdown",
   "metadata": {},
   "source": [
    "## Problem C5.5\n",
    "\n",
    "Consider two blocks A and B connected by a massless rope and a massless disk as shown in the Figure.\n",
    "\n",
    "<img src=\"P-C5.5.png\" width=\"400\">\n",
    "\n",
    "Block A has a mass of 2.0 kg and is placed on the table top. The coefficient of kinetic friction between the block and the table surface is 0.30. Block B has a mass of 1.5 kg. The blocks are held in place until $t = 0$ s when they are released.\n",
    "\n",
    "1. Draw a free-body-diagram of each block.\n",
    "2. What is an equation of constraint in this problem?\n",
    "3. Find the acceleration of block B using Newton's 2nd law.\n",
    "4. If the initial distance between Block B and the floor is 1.2 m, how long time does it take to reach the floor?\n",
    "5. What is the speed of block B right before it hits the floor?\n",
    "6. What should the static friction be to prevent the system from accelerating?\n",
    "\n",
    "[Video Solution](https://youtu.be/uhDLsmPvd3g?si=a9rw0bilUdZLFejp)\n"
   ]
  },
  {
   "cell_type": "code",
   "execution_count": 9,
   "metadata": {},
   "outputs": [],
   "source": [
    "# DIY Cell"
   ]
  },
  {
   "cell_type": "code",
   "execution_count": 10,
   "metadata": {
    "tags": [
     "hide-input",
     "hide-output"
    ]
   },
   "outputs": [
    {
     "name": "stdout",
     "output_type": "stream",
     "text": [
      "Acceleration = -2.52257142857143 m/s^2\n",
      " \n",
      "Time = 0.975402545476510 s\n",
      " \n",
      "Speed = 2.46052259257489 m/s\n",
      " \n",
      "Force of friction (magnitude) = 14.7150000000000 N\n"
     ]
    }
   ],
   "source": [
    "%reset -f\n",
    "\n",
    "import sympy as sym\n",
    "import numpy as np\n",
    "\n",
    "# Part 2\n",
    "# Let the origin of the referecen be at the table and to the left of Block A\n",
    "# Let the x-distance from origin to edge (or pulley) be D\n",
    "# Let the length of the rop be L\n",
    "\n",
    "#equation of constraint:\n",
    "# (D - xA) - yB = L\n",
    "# That means that accelerations relate as: aAx = -aBy\n",
    "\n",
    "#values giving\n",
    "mA = 2.0\n",
    "mB = 1.5\n",
    "mu = 0.30\n",
    "g = 9.81\n",
    "\n",
    "\n",
    "# Part 3\n",
    "#unknowns\n",
    "aAx = sym.Symbol('aAx')\n",
    "aBy = sym.Symbol('aBy')\n",
    "fn = sym.Symbol('fn')\n",
    "ft = sym.Symbol('ft')\n",
    "\n",
    "#coupled equations\n",
    "eq1 = mA*aAx - ft + mu*fn\n",
    "eq2 = fn - mA*g\n",
    "eq3 = mB*aBy - ft + mB*g\n",
    "eq4 = aAx + aBy\n",
    "\n",
    "sol1 = sym.solve((eq1,eq2,eq3,eq4),(aAx,aBy,fn,ft))\n",
    "\n",
    "print('Acceleration = '+str(sol1[aBy])+' m/s^2')\n",
    "\n",
    "# Part 4\n",
    "dy = -1.2\n",
    "aBy = sol1[aBy]\n",
    "v0y = 0.0\n",
    "\n",
    "t = sym.Symbol('t')\n",
    "\n",
    "eq = dy - v0y*t - 0.5*aBy*t**2\n",
    "\n",
    "sol = sym.solve(eq,t)\n",
    "print(' ')\n",
    "print('Time = '+str(sol[1])+' s')\n",
    "\n",
    "# Part 5\n",
    "v0y = 0.0\n",
    "vy = sym.Symbol('vy')\n",
    "dt = sol[1]\n",
    "\n",
    "eq = vy - v0y - aBy*dt\n",
    "\n",
    "sol = sym.solve(eq,vy)\n",
    "vy = sol[0]\n",
    "v = np.abs(vy) # velocity to speed\n",
    "print(' ')\n",
    "print('Speed = '+str(v)+' m/s')\n",
    "\n",
    "# Part 6\n",
    "aAx = 0.0\n",
    "aBy = 0.0\n",
    "\n",
    "#unknowns\n",
    "ff = sym.Symbol('ff')\n",
    "\n",
    "#coupled equations\n",
    "eq1 = mA*aAx - ft + ff\n",
    "eq2 = fn - mA*g\n",
    "eq3 = mB*aBy - ft + mB*g\n",
    "\n",
    "sol = sym.solve((eq1,eq2,eq3),(ff,fn,ft))\n",
    "print(' ')\n",
    "print('Force of friction (magnitude) = '+str(sol[ff])+' N')"
   ]
  },
  {
   "cell_type": "markdown",
   "metadata": {},
   "source": [
    "<hr style=\"height:2px;border-width:0;color:gray;background-color:gray\">"
   ]
  },
  {
   "cell_type": "markdown",
   "metadata": {},
   "source": [
    "## Problem C5.6\n",
    "\n",
    "A UVU rocket had a little mishap and instead of being launched near vertically, it launched at an angle of 40.0$^\\circ$ with respect to the vertical at 32 m/s and the parachute failed to deploy. Assume no air drag.\n",
    "\n",
    "1. What was the maximum altitude above the launch point?\n",
    "2. How long time after launch did it take to reach peak altitude?\n",
    "3. How far away from the launch point did the rocket land?\n",
    "4. How long time did it take the rocket to land measured from the launch time? "
   ]
  },
  {
   "cell_type": "code",
   "execution_count": 11,
   "metadata": {},
   "outputs": [],
   "source": [
    "# DIY Cell"
   ]
  },
  {
   "cell_type": "code",
   "execution_count": 12,
   "metadata": {
    "tags": [
     "hide-input",
     "hide-output"
    ]
   },
   "outputs": [
    {
     "name": "stdout",
     "output_type": "stream",
     "text": [
      "Peak Altitude = 30.6273122816243\n",
      "Time to peak altitude = 2.49881979406802\n",
      "Range = 101.235741268337\n"
     ]
    }
   ],
   "source": [
    "%reset -f\n",
    "\n",
    "import sympy as sym\n",
    "import numpy as np\n",
    "\n",
    "#launch angle is measured from horizontal (and converted to radians)\n",
    "angle = (90.0 - 40.0)*np.pi/180.0\n",
    "v0 = 32.0\n",
    "g = 9.81\n",
    "\n",
    "#part 1\n",
    "hpeak = sym.Symbol('hpeak')\n",
    "eq1 = hpeak - (v0**2)*(np.sin(angle)**2)/(2*g)\n",
    "sol1 = sym.solve(eq1,hpeak)\n",
    "print('Peak Altitude = '+str(sol1[0]))\n",
    "\n",
    "#part 2\n",
    "tpeak = sym.Symbol('tpeak')\n",
    "eq2 = tpeak - v0*np.sin(angle)/g\n",
    "sol2 = sym.solve(eq2,tpeak)\n",
    "print('Time to peak altitude = '+str(sol2[0]))\n",
    "\n",
    "#part 3\n",
    "r = sym.Symbol('r')\n",
    "eq3 = r - (v0**2)*(np.sin(2*angle)**2)/g\n",
    "sol3 = sym.solve(eq3,r)\n",
    "print('Range = '+str(sol3[0]))"
   ]
  },
  {
   "cell_type": "markdown",
   "metadata": {},
   "source": [
    "<hr style=\"height:2px;border-width:0;color:gray;background-color:gray\">"
   ]
  },
  {
   "cell_type": "markdown",
   "metadata": {},
   "source": [
    "## Problem C5.7\n",
    "\n",
    "An attempted UVU rocket launch turned into a missile testing event. The spectacular rocket was launched at an angle of 55.0$^\\circ$ with respect to the vertical and a launch velocity of 255 m/s. A distance of 4150.0 m  away was a moutain with a slope of 12.0$^\\circ$. What vertical distance up the mountain did the rocket land?"
   ]
  },
  {
   "cell_type": "code",
   "execution_count": 13,
   "metadata": {},
   "outputs": [],
   "source": [
    "# DIY Cell"
   ]
  },
  {
   "cell_type": "code",
   "execution_count": 14,
   "metadata": {
    "tags": [
     "hide-input",
     "hide-output"
    ]
   },
   "outputs": [
    {
     "name": "stdout",
     "output_type": "stream",
     "text": [
      "Vertical distance = 331.951719382340"
     ]
    },
    {
     "name": "stdout",
     "output_type": "stream",
     "text": [
      "\n"
     ]
    }
   ],
   "source": [
    "%reset -f\n",
    "\n",
    "import sympy as sym\n",
    "import numpy as np\n",
    "\n",
    "#launch angle in radians\n",
    "launch_angle = (90.0-55.0)*np.pi/180.0\n",
    "v0 = 255.0\n",
    "#launch coordinates\n",
    "x0 = 0.0\n",
    "y0 = 0.0\n",
    "\n",
    "g = 9.81\n",
    "\n",
    "L = 4150.0\n",
    "slope = 12.0*np.pi/180.0\n",
    "\n",
    "#unknowns\n",
    "ym = sym.Symbol('ym')\n",
    "xm = sym.Symbol('xm')\n",
    "t = sym.Symbol('t')\n",
    "\n",
    "#xm horizontal distance along the mountain\n",
    "#total horizontal distance from launch point\n",
    "x = L + xm\n",
    "y = ym\n",
    "\n",
    "#equations of projectile motion\n",
    "eq1 = x - (x0 + v0*np.cos(launch_angle)*t )\n",
    "eq2 = y - (y0 + v0*np.sin(launch_angle)*t - 0.5*g*t**2)\n",
    "\n",
    "#three unknowns but only two equations. \n",
    "#Third equation comes from the relationships between mountain coordites\n",
    "eq3 = (ym/xm) - np.tan(slope)\n",
    "\n",
    "sol = sym.solve((eq1,eq2,eq3),(ym,xm,t))\n",
    "#print(sol[1])\n",
    "print('Vertical distance = '+str(sol[1][0]))"
   ]
  },
  {
   "cell_type": "markdown",
   "metadata": {},
   "source": [
    "<hr style=\"height:2px;border-width:0;color:gray;background-color:gray\">"
   ]
  },
  {
   "cell_type": "markdown",
   "metadata": {},
   "source": [
    "## Problem C5.8\n",
    "\n",
    "Consider two blocks A and B connected by a massless rope and two massless disks as shown in the Figure.\n",
    "\n",
    "<img src=\"P-C5.8.png\" width=\"400\">\n",
    "\n",
    "Block A has a mass of 2.0 kg and is placed on a frictionless table top. Block B has a mass of 1.5 kg. The blocks are held in place until $t = 0$ s when they are released.\n",
    "\n",
    "1. Draw a free-body-diagram of each block.\n",
    "2. What is an equation of constraint in this problem?\n",
    "3. Find the acceleration of block B using Newton's 2nd law.\n",
    "4. If the initial distance between Block B and the floor is 1.2 m, how long time does it take to reach the floor?\n",
    "5. What is the speed of block B right before it hits the floor?"
   ]
  },
  {
   "cell_type": "code",
   "execution_count": 15,
   "metadata": {},
   "outputs": [],
   "source": [
    "# DIY Cell"
   ]
  },
  {
   "cell_type": "code",
   "execution_count": 16,
   "metadata": {
    "tags": [
     "hide-input",
     "hide-output"
    ]
   },
   "outputs": [
    {
     "name": "stdout",
     "output_type": "stream",
     "text": [
      "Part 3: Acceleration = 1.54894736842105\n",
      "Part 4: Time = 1.24478380955082\n",
      "Part 5: speed = 1.92838050000000\n"
     ]
    }
   ],
   "source": [
    "%reset -f \n",
    "\n",
    "import sympy as sym\n",
    "import numpy as np\n",
    "\n",
    "#part 3\n",
    "#masses of blocks \n",
    "mA = 2.0\n",
    "mB = 1.5\n",
    "\n",
    "g = 9.81\n",
    "\n",
    "#unknowns\n",
    "aAx = sym.Symbol('aAx')\n",
    "aBy = sym.Symbol('aBy')\n",
    "fTA = sym.Symbol('fTA')\n",
    "fTB = sym.Symbol('fTB')\n",
    "\n",
    "#coordinate system steup:\n",
    "# x positive to the right\n",
    "# y positive downwards\n",
    "\n",
    "#N2 block A \n",
    "#x direction\n",
    "eq1 = mA*aAx - fTA\n",
    "#y direction for block A is not needed to solve the problem\n",
    "\n",
    "#N2 block B\n",
    "#y direction\n",
    "eq2 = mB*aBy + fTB - mB*g\n",
    "\n",
    "#N2 disk (massless)\n",
    "#eq3 = mD*aDy + 2*fTA - fTB - mD*g if not massless\n",
    "eq3 =  2*fTA - fTB   #since it is massless\n",
    "\n",
    "#Equation of constrain for long rope gives us \n",
    "#the accelerations of the two objects are\n",
    "eq4 = aAx - 2*aBy\n",
    "\n",
    "sol1 = sym.solve((eq1,eq2,eq3,eq4),(aAx, aBy, fTA, fTB))\n",
    "print('Part 3: Acceleration = '+str(sol1[aBy]))\n",
    "#part 4\n",
    "y0 = 0.0\n",
    "y = 1.2\n",
    "v0y = 0.0 \n",
    "aBy = 1.5489\n",
    "\n",
    "t = sym.Symbol('t')\n",
    "eq5 = y - y0 - v0y*t - 0.5*aBy*t**2\n",
    "sol2 = sym.solve(eq5,t)\n",
    "print('Part 4: Time = '+str(sol2[1]))\n",
    "\n",
    "#part 5\n",
    "t = 1.245\n",
    "\n",
    "vy = sym.Symbol('vy')\n",
    "eq6 = vy - v0y - aBy*t\n",
    "sol3 = sym.solve(eq6,vy)\n",
    "print('Part 5: speed = '+str(sol3[0]))"
   ]
  },
  {
   "cell_type": "markdown",
   "metadata": {},
   "source": [
    "<hr style=\"height:2px;border-width:0;color:gray;background-color:gray\">"
   ]
  },
  {
   "cell_type": "markdown",
   "metadata": {},
   "source": [
    "## Problem C5.9\n",
    "\n",
    "An elevator filled with passengers has a mass of $1.70\\times 10^3$ kg. \n",
    "1. The elevator accelerates upward from rest at a rate of 1.20 m/s$^2$ for 1.50 s. Calculate the tension in the cable supporting the elevator. \n",
    "2. The elevator continues upward at constant velocity for 8.50 s. What is the tension in the cable during this time?\n",
    "3. The elevator accelerates opposite to the motion at a rate of  0.600 m/s$^2$ for 3.00 s. What is the tension in the cable during acceleration opposite to the motion? \n",
    "4. How high has the elevator moved above its original starting point, and what is its final velocity?\n",
    "\n",
    "This problem is from OpenStax. Access for free at [https://openstax.org/books/university-physics-volume-1/pages/6-problems](https://openstax.org/books/university-physics-volume-1/pages/6-problems)"
   ]
  },
  {
   "cell_type": "code",
   "execution_count": 17,
   "metadata": {},
   "outputs": [],
   "source": [
    "# DIY Cell"
   ]
  },
  {
   "cell_type": "code",
   "execution_count": 18,
   "metadata": {
    "tags": [
     "hide-input",
     "hide-output"
    ]
   },
   "outputs": [
    {
     "name": "stdout",
     "output_type": "stream",
     "text": [
      "Tension force = 18717.0000000000\n",
      "Tension force = 16677.0000000000\n",
      "Tension force = 15657.0000000000\n",
      "Distance traveled = 19.349999999999998\n",
      "Final velocity = 0.0\n"
     ]
    }
   ],
   "source": [
    "%reset -f\n",
    "\n",
    "import sympy as sym\n",
    "\n",
    "m = 1.7E3\n",
    "g = 9.81\n",
    "\n",
    "#part 1\n",
    "a1 = 1.20\n",
    "t1 = 1.50\n",
    "ft = sym.Symbol('ft')\n",
    "eq1 = m*a1 + m*g - ft\n",
    "sol1 = sym.solve(eq1,ft)\n",
    "print('Tension force = '+str(sol1[0]))\n",
    "d1 = 0.5*a1*t1**2\n",
    "v1 = a1*t1\n",
    "\n",
    "#part 2\n",
    "a2 = 0.0\n",
    "t2 = 8.50\n",
    "ft = sym.Symbol('ft')\n",
    "eq2 = m*a2 + m*g - ft\n",
    "sol2 = sym.solve(eq2,ft)\n",
    "print('Tension force = '+str(sol2[0]))\n",
    "d2 = v1*t2 + 0.5*a2*t2**2\n",
    "v2 = v1 + a2*t2\n",
    "\n",
    "#part 3\n",
    "a3 = -0.600\n",
    "t3 = 3.0\n",
    "ft = sym.Symbol('ft')\n",
    "eq3 = m*a3 + m*g - ft\n",
    "sol3 = sym.solve(eq3,ft)\n",
    "print('Tension force = '+str(sol3[0]))\n",
    "d3 = v2*t3 + 0.5*a3*t3**2\n",
    "v3 = v2 + a3*t3\n",
    "\n",
    "#part 4\n",
    "d = d1 + d2 + d3\n",
    "v = v3\n",
    "print('Distance traveled = '+str(d))\n",
    "print('Final velocity = '+str(v))"
   ]
  },
  {
   "cell_type": "markdown",
   "metadata": {},
   "source": [
    "<hr style=\"height:2px;border-width:0;color:gray;background-color:gray\">"
   ]
  },
  {
   "cell_type": "markdown",
   "metadata": {},
   "source": [
    "## Problem C5.10\n",
    "\n",
    "A box rests on the (horizontal) back of a truck. The coefficient of static friction between the box and the surface on which it rests is 0.24. What maximum distance can the truck travel (starting from rest and moving horizontally with constant acceleration) in 3.0 s without having the box slide?\n",
    "\n",
    "This problem is from OpenStax. Access for free at [https://openstax.org/books/university-physics-volume-1/pages/6-problems](https://openstax.org/books/university-physics-volume-1/pages/6-problems)"
   ]
  },
  {
   "cell_type": "code",
   "execution_count": 19,
   "metadata": {},
   "outputs": [],
   "source": [
    "# DIY Cell"
   ]
  },
  {
   "cell_type": "code",
   "execution_count": 20,
   "metadata": {
    "tags": [
     "hide-input",
     "hide-output"
    ]
   },
   "outputs": [
    {
     "name": "stdout",
     "output_type": "stream",
     "text": [
      "Distance traveled = 10.5948000000000\n"
     ]
    }
   ],
   "source": [
    "%reset -f\n",
    "\n",
    "import sympy as sym\n",
    "\n",
    "mu = 0.24\n",
    "g = 9.81\n",
    "ay = 0.0\n",
    "\n",
    "ax = sym.Symbol('ax')\n",
    "fn = sym.Symbol('fn')\n",
    "m = sym.Symbol('m')\n",
    "ff = sym.Symbol('ff')\n",
    "\n",
    "eqX = m*ax - ff\n",
    "eqY = m*ay - fn + m*g\n",
    "eq1 = ff - mu*fn\n",
    "\n",
    "sol1 = sym.solve((eqX, eqY, eq1),(ax,fn,m,ff))\n",
    "a = sol1[0][0]\n",
    "\n",
    "v0 = 0.0\n",
    "t = 3.0\n",
    "d = v0 + 0.5*a*t**2\n",
    "print('Distance traveled = '+str(d))"
   ]
  },
  {
   "cell_type": "markdown",
   "metadata": {},
   "source": [
    "<hr style=\"height:2px;border-width:0;color:gray;background-color:gray\">"
   ]
  }
 ],
 "metadata": {
  "celltoolbar": "Tags",
  "kernelspec": {
   "display_name": "Python 3 (ipykernel)",
   "language": "python",
   "name": "python3"
  },
  "language_info": {
   "codemirror_mode": {
    "name": "ipython",
    "version": 3
   },
   "file_extension": ".py",
   "mimetype": "text/x-python",
   "name": "python",
   "nbconvert_exporter": "python",
   "pygments_lexer": "ipython3",
   "version": "3.10.9"
  }
 },
 "nbformat": 4,
 "nbformat_minor": 4
}