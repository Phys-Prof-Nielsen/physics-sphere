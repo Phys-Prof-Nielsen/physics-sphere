{
 "cells": [
  {
   "cell_type": "markdown",
   "metadata": {},
   "source": [
    "# C5.3 Equations of Kinematics\n",
    "<hr style=\"height:2px;border-width:0;color:gray;background-color:gray\">"
   ]
  },
  {
   "cell_type": "markdown",
   "metadata": {},
   "source": [
    "## C5.3.1 Average definitions\n",
    "\n",
    "In the previous notes we defined the average velocity and average acceleration. Let us summarize the equations here:\n",
    "\n",
    "<div class=\"alert alert-success\">\n",
    "    \n",
    "$$ \\vec{v}_{av} = \\frac{\\Delta \\vec{r}}{\\Delta t} \\tag{1}$$\n",
    "</div>\n",
    "\n",
    "<div class=\"alert alert-success\">\n",
    "    \n",
    "$$ \\vec{a}_{av} = \\frac{\\Delta \\vec{v}}{\\Delta t} \\tag{2}$$\n",
    "</div>\n",
    "\n",
    "<hr style=\"height:2px;border-width:0;color:gray;background-color:gray\">"
   ]
  },
  {
   "cell_type": "markdown",
   "metadata": {},
   "source": [
    "## C5.3.1 Position with constant velocity\n",
    "\n",
    "We can use the definition of average velocity (since an average velocity is a **constant** velocity) to investigate the position of a particle as a function of time. Rewriting Equation 91) from above:\n",
    "\n",
    "$$ \\Delta\\vec{r}= \\vec{v}_{av}\\Delta $$\n",
    "\n",
    "If we write out the differences and re-arrange the terms, we get the postion at **any**:\n",
    "\n",
    "$$\\vec{r}_2 = \\vec{r}_1 + \\vec{v}_{av}(t_2 - t_1) $$\n",
    "    \n",
    "We observe that to determine the position at **any** time, we **must** know the initial position and time as well as the velocity. We call this **an initial condition**. Often the initial conditions are at $t = 0$ and the above is then written as \n",
    "\n",
    "<div class=\"alert alert-success\">\n",
    "    \n",
    "$$ \\vec{r}(t) = \\vec{r}_0 + \\vec{v}_{av}t \\tag{3}$$\n",
    "</div>\n",
    "\n",
    "Where we have made clear that the position is a function of time.\n",
    "\n",
    "\n",
    "<div class=\"alert alert-danger\">\n",
    "    The above relation is <i>only</i> valid for cases with a <i>constant</i> velocity. If you apply the above equation to a problem with non-constant velocity, you will get a wrong answer. Plain out wrong!\n",
    "</div>"
   ]
  },
  {
   "cell_type": "markdown",
   "metadata": {},
   "source": [
    "<div style=\"background-color: #D0D0D0 ; padding: 10px; border: 1px solid black;\">       \n",
    "<header>\n",
    "<h3> Example 1</h3>\n",
    "    </header>\n",
    "    \n",
    "Consider a cosmic ray traveling through the Earth's atmospheric with an average speed of $3.0\\times 10^6$ m/s. It is initially located 10.0 km above the Earth's surface. How far above the surface is it at t = 1.0 ms?\n",
    "\n",
    "<b>Solution</b><br>\n",
    "There are several ways of interpretating this problem as the values are not given as vectors, and we are free to choose our reference system. I will choose the following:\n",
    "\n",
    "My reference frame is a 1D reference frame in the z-direction with positive being upward (I know, I am so boring) and the origin at the surface. With this reference frame, we have\n",
    "\n",
    "$z_0 = 10.0~\\textrm{km} = 1.00\\times 10^4~\\textrm{m}$,  \n",
    "$v_{z} = -3.0\\times 10^6~\\textrm{m/s}$: since the particle is moving in the negative direction,<br> \n",
    "$t = 1.0\\times 10^{-3}$ s<br>.\n",
    "\n",
    "Using Equation (3) from above but for the z-direction, we have\n",
    "\n",
    "$$ z(t) = z_0 + v_{z}t $$\n",
    "\n",
    "Inserting our values, we get the new position above the surface:\n",
    "\n",
    "$$ z(t = 1.0~\\textrm{ms}) = (1.00\\times 10^4~\\textrm{m}) + (-3.0\\times 10^6~\\textrm{m/s})~(1.0\\times 10^{-3}~\\textrm{s}) $$\n",
    "\n",
    "$$ z(t = 1.0~\\textrm{ms}) = (1.00\\times 10^4~\\textrm{m}) + (-3.0\\times 10^3~\\textrm{m}) $$\n",
    "\n",
    "$$ z(t = 1.0~\\textrm{ms}) = 7.0\\times 10^3~\\textrm{m} $$\n",
    "\n",
    "or in vector notation\n",
    "\n",
    "$$ \\vec{r}(t = 1.0~\\textrm{ms}) = (7.0\\times 10^3~\\textrm{m})~\\hat{k} $$\n",
    "\n",
    "The particle is located 7.0 km above the surface after 1 ms has elapsed from its initial position at t = 0 s.\n",
    "    \n",
    "</div>\n",
    "\n",
    "<hr style=\"height:2px;border-width:0;color:gray;background-color:gray\">"
   ]
  },
  {
   "cell_type": "markdown",
   "metadata": {},
   "source": [
    "<div class=\"alert alert-warning\">\n",
    "<b>Box 1</b><br>\n",
    "    \n",
    "Consider the example above. How long time will it take for the particle to reach the ground, assuming a starting altitude of 10 km and the speed given above?  \n",
    "</div>\n",
    "\n",
    "<hr style=\"height:2px\">"
   ]
  },
  {
   "cell_type": "markdown",
   "metadata": {},
   "source": [
    "<div style=\"background-color: #D0D0D0 ; padding: 10px; border: 1px solid black;\">       \n",
    "<header>\n",
    "<h3> Example 2</h3>\n",
    "    </header>\n",
    "\n",
    "Consider a car traveling with an average velocity given by 30.0 m/s in a North-East direction. Its initial position is (x, y) = (50.0 m, 200.0 m). What is its position at t = 20.0 s?\n",
    "\n",
    "<b>Solution</b><br>\n",
    "This is a 2D problem and considering a traditional xy (or North-East) reference system, then we are given the following:\n",
    "\n",
    "$x_0 = 50.0~\\textrm{m}$ <br>\n",
    "$y_0 = 50.0~\\textrm{m}$ <br>\n",
    "$t = 20.0$ s\n",
    "\n",
    "The velocity components can be obtained using trigonometry:\n",
    "\n",
    "$$v_{x} = (30.0~\\textrm{m/s})\\cos(45^\\circ) = 21.2~\\textrm{m/s}$$\n",
    "\n",
    "$$v_{y} = (30.0~\\textrm{m/s})\\sin(45^\\circ) = 21.2~\\textrm{m/s}$$\n",
    "\n",
    "Applying Equation (3) in both x- and y-directions:\n",
    "\n",
    "$$ x(t = 20.0) = x_0 + v_{x}t = 474~\\textrm{m}$$\n",
    "\n",
    "$$ y(t = 20.0) = y_0 + v_{y}t = 624~\\textrm{m}$$\n",
    "\n",
    "Hence, the car is located at (x, y) = (474 m, 624 m) at t = 20.0 seconds.\n",
    "\n",
    "</div>\n",
    "<hr style=\"height:2px;border-width:0;color:gray;background-color:gray\">"
   ]
  },
  {
   "cell_type": "markdown",
   "metadata": {},
   "source": [
    "<div class=\"alert alert-warning\">\n",
    "<b>Box 2</b><br>\n",
    "    \n",
    "A human pawn in the Matrix is located at the origin of a 2D Matrix grid at t = 0.0 s. The human is moving with a constant velocity of 3.0 m/s in a direction 20$^\\circ$ counterclockwise from the negative x-axis. What is the location of the human after 90.0 s, assuming the human must follow the laws of physics as we currently understand them?\n",
    "</div>\n",
    "\n",
    "<hr style=\"height:2px;border-width:0;color:gray;background-color:gray\">"
   ]
  },
  {
   "cell_type": "markdown",
   "metadata": {},
   "source": [
    "## C5.3.2  Velocity with constant acceleration\n",
    "We can follow the same approach as above to find a function for the velocity, provided we have information about the initial velocity, and a constant acceleration. Without further ado:\n",
    "\n",
    "<div class=\"alert alert-success\">\n",
    "    \n",
    "$$ \\vec{v}(t) = \\vec{v}_0 + \\vec{a}_{av}t$$\n",
    "</div>\n",
    "\n",
    "<div class=\"alert alert-danger\">\n",
    "    The above relation is <i>only</i> valid for cases with a <i>constant</i> acceleration. If you apply the above equation to a problem with non-constant acceleration, you will get a wrong answer. Plain out wrong!\n",
    "</div>\n",
    "\n",
    "<hr style=\"height:2px;border-width:0;color:gray;background-color:gray\">"
   ]
  },
  {
   "cell_type": "markdown",
   "metadata": {},
   "source": [
    "<div class=\"alert alert-warning\">\n",
    "<b>Box 3</b><br>\n",
    "    \n",
    "A baseball is thrown straight up in the air with an initial velocity of 5 m/s. If we ignore friction, the only interaction is due to gravity and the acceleration of gravity is 9.81 m/s$^2$ downwards and constant. \n",
    "    <ol>\n",
    "    <li> How long does it take for the baseball to reach its maximum height?\n",
    "    <li> What is the velocity of the baseball after 0.7 s?\n",
    "    <li> What direction does the baseball move after 0.7 s? Explain your answer.\n",
    "    </ol>\n",
    "</div>\n",
    "\n",
    "<hr style=\"height:2px;border-width:0;color:gray;background-color:gray\">"
   ]
  },
  {
   "cell_type": "markdown",
   "metadata": {},
   "source": [
    "## 5.3.3 Position with constant acceleration\n",
    "Two derived equations are the most essential to kinematics and they are:\n",
    "<div class=\"alert alert-success\">\n",
    "    \n",
    "$$ \\vec{r}(t)  = \\vec{r}_0 +  \\vec{v}_{0}t +  \\frac{1}{2}\\vec{a}t^2 \\tag{4}$$\n",
    "\n",
    "and \n",
    "\n",
    "$$ v_{fx}^2 = v_{0x}^2 + 2a_{x}\\Delta x \\tag{5}$$\n",
    "</div>\n",
    "\n",
    "The first equation is most useful in its component form\n",
    "\n",
    "$$ x = x_0 + v_{0x}t + \\frac{1}{2}a_{x}t^2 $$\n",
    "\n",
    "while the second equation is not a vector equation but equally valid if motion is along $y$ or $z$ directions.\n",
    "\n",
    "<hr style=\"height:2px;border-width:0;color:gray;background-color:gray\">"
   ]
  },
  {
   "cell_type": "markdown",
   "metadata": {},
   "source": [
    "<div style=\"background-color: #D0D0D0 ; padding: 10px; border: 1px solid black;\">       \n",
    "<header>\n",
    "<h3> Example 3</h3>\n",
    "    </header>\n",
    "\n",
    "A rocket is launched vertically with an initial speed of 0.0 m/s. The rocket accelerates at a rate of 50.0-g's (g = 9.81 m/s$^2$). How high is the rocket above its launch point at t = 2.0 s?\n",
    "\n",
    "<b>Solution</b><br>\n",
    "\n",
    "Let the launch point be $z_0 = 0$ m, and insert our given numbers into equation (5) and the z-component instead:\n",
    "\n",
    "$$ z(t = 2)  = (0) +  (0)(2.0) +  \\frac{1}{2}(50.0)(9.81)(2.0)^2 = 980~\\textrm{m} $$\n",
    "\n",
    "</div>\n",
    "<hr style=\"height:2px;border-width:0;color:gray;background-color:gray\">"
   ]
  },
  {
   "cell_type": "markdown",
   "metadata": {},
   "source": [
    "<div class=\"alert alert-warning\">\n",
    "<b>Box 4</b><br>\n",
    "    \n",
    "Consider the rocket above to be a dual-stage rocket.\n",
    "    <ol>\n",
    "        <li> If the first stage engine provides the 50.0g acceleration for 5.0 s, how fast is the rocket moving after 5.0 s?\n",
    "            <li>\n",
    "                If the first stage engine provides the 50.0g acceleration for 5.0 s, how high is the rocket above the launch point after 5.0 s?\n",
    "                <li>\n",
    "                    A second stage engine ignites at t = 5.0 s and produces an acceleration of 30.0g for 3.0 seconds. How high above the launch point is the rocket at t = 8.0 s?\n",
    "                    <li> After the second stage engine, the rocket is in free fall (but still moving up) under the influence of gravity. How long time does it take to reach apogee (maximum altitude)?\n",
    "                        <li> \n",
    "                            How high is the rocket above the launch point at apogee?\n",
    "    </ol>\n",
    "</div> \n",
    "\n",
    "<hr style=\"height:2px;border-width:0;color:gray;background-color:gray\">"
   ]
  }
 ],
 "metadata": {
  "kernelspec": {
   "display_name": "Python 3 (ipykernel)",
   "language": "python",
   "name": "python3"
  },
  "language_info": {
   "codemirror_mode": {
    "name": "ipython",
    "version": 3
   },
   "file_extension": ".py",
   "mimetype": "text/x-python",
   "name": "python",
   "nbconvert_exporter": "python",
   "pygments_lexer": "ipython3",
   "version": "3.9.12"
  }
 },
 "nbformat": 4,
 "nbformat_minor": 4
}