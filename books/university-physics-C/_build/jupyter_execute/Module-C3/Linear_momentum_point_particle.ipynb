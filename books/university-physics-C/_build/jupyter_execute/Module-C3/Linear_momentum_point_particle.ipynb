{
 "cells": [
  {
   "cell_type": "markdown",
   "metadata": {},
   "source": [
    "# C3.1 Linear Momentum: Point Particle\n",
    "<hr style=\"height:2px;border-width:0;color:gray;background-color:gray\">"
   ]
  },
  {
   "cell_type": "markdown",
   "metadata": {},
   "source": [
    "## C3.1.1 Recap: 1D Momentum\n",
    "\n",
    "We covered concept of motion in PHASE D (see Module D2.2 Section 1) and concluded that according to Newton **motion is momentum**, that is, momentum is a measure of how much motion a particle has.\n",
    "\n",
    "We also calculably defined the momentum of a particle moving in 1D as\n",
    "\n",
    "$$ p_x = mv_x $$\n",
    "\n",
    "where the subscript $x$ suggests that the quantity is associated with a direction ($\\pm$).\n",
    "\n",
    "<hr style=\"height:2px;border-width:0;color:gray;background-color:gray\">"
   ]
  },
  {
   "cell_type": "markdown",
   "metadata": {},
   "source": [
    "## 3.1.2 Momentum Vector\n",
    "With the introduction of a vector, we can define the momentum vector of point particle with mass $m$ and moving with a velocity $\\vec{v}$ as\n",
    "\n",
    "<div class=\"alert alert-success\">\n",
    "<b>Linear Momentum</b>\n",
    "    \n",
    "$$ \\vec{p} = m\\vec{v} $$\n",
    "</div>\n",
    "\n",
    "with components in a 3D Cartesian coordinate system given by\n",
    "\n",
    "\\begin{align}\n",
    "p_x &= mv_x \\\\\n",
    "p_y &= mv_y\\\\\n",
    "p_z &= mv_z\n",
    "\\end{align}\n",
    "\n",
    "<hr style=\"height:2px;border-width:0;color:gray;background-color:gray\">"
   ]
  },
  {
   "cell_type": "markdown",
   "metadata": {},
   "source": [
    "<div style=\"background-color: #D0D0D0 ; padding: 10px; border: 1px solid black;\">       \n",
    "<header>\n",
    "<h3> Example 1</h3>\n",
    "    </header>\n",
    "    \n",
    "Calculate the impulse of a car (assuming it is a point particle for now) with a mass of $2000.0$ kg and initial velocity $+30.0$ m/s $\\hat{i}$. At a later time, the velocity of the car is $+10.0$ m/s $\\hat{i}$. Find the change in momentum of the car.\n",
    "\n",
    "**Solution**\n",
    "\n",
    "The change in momentum is\n",
    "    \n",
    "$$ \\Delta\\vec{p} = \\vec{p}_f - \\vec{p}_i $$\n",
    "\n",
    "where I used subscripts $f$ and $i$ to indicate final and initial momenta. Using $\\vec{p} = m\\vec{v}$ we can insert our values and pay attention to the directions since they are vectors:\n",
    "\n",
    "$$ \\Delta\\vec{p} = (2000.0)(+10.0\\hat{i}) - (2000.0)(+30.0\\hat{i}) = (-4.00\\times 10^4~\\textrm{kgm/s})~\\hat{i}$$\n",
    "\n",
    "**Evaluation**: The answer tells us that the impulse (or change in motion) is in the opposite direction of motion, which is expected as the object is slowing down.\n",
    "\n",
    "</div>\n",
    "<hr style=\"height:2px;border-width:0;color:gray;background-color:gray\">"
   ]
  },
  {
   "cell_type": "markdown",
   "metadata": {},
   "source": [
    "<div class=\"alert alert-warning\">\n",
    "<b>Box 1</b><br>\n",
    "    \n",
    "Calculate the impulse of a car (assuming it is a point particle for now) with a mass of $2000.0$ kg and initial velocity $(-30.0~\\textrm{m/s})\\hat{i}$. At a later time, the velocity of the car is $(30.0~\\textrm{m/s})\\hat{i}$. Find its change in momentum. HINT: it is not zero.\n",
    "\n",
    "</div>\n",
    "\n",
    "<hr style=\"height:2px;border-width:0;color:gray;background-color:gray\">"
   ]
  },
  {
   "cell_type": "markdown",
   "metadata": {},
   "source": [
    "<div class=\"alert alert-warning\">\n",
    "<b>Box 2</b><br>\n",
    "    \n",
    "A picther is sending off a horizontal fastball with a speed of 45 m/s. The batter hits the ball such that it leaves back towards the picther, but at an angle of 45$^\\circ$ with respect to the horizontal. The mass of a baseball is \n",
    "0.145 kg. Find the change in momentum of the baseball (remember both magnitude and direction).\n",
    "\n",
    "</div>\n",
    "\n",
    "<hr style=\"height:2px;border-width:0;color:gray;background-color:gray\">"
   ]
  }
 ],
 "metadata": {
  "kernelspec": {
   "display_name": "Python 3 (ipykernel)",
   "language": "python",
   "name": "python3"
  },
  "language_info": {
   "codemirror_mode": {
    "name": "ipython",
    "version": 3
   },
   "file_extension": ".py",
   "mimetype": "text/x-python",
   "name": "python",
   "nbconvert_exporter": "python",
   "pygments_lexer": "ipython3",
   "version": "3.10.9"
  }
 },
 "nbformat": 4,
 "nbformat_minor": 4
}