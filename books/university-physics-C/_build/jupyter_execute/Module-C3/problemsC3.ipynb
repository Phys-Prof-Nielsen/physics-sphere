{
 "cells": [
  {
   "cell_type": "markdown",
   "metadata": {},
   "source": [
    "# C3.2 Problems\n",
    "<hr style=\"height:2px;border-width:0;color:gray;background-color:gray\">"
   ]
  },
  {
   "cell_type": "markdown",
   "metadata": {},
   "source": [
    "<h2>Problem C3.1</h2>\n",
    "    </header>\n",
    "\n",
    "A 0.50 kg particle is intially traveling with a velocity of $\\vec{v} = (450~\\textrm{m/s})\\hat{i} + (25~\\textrm{m/s})\\hat{j} - (275~\\textrm{m/s})\\hat{k}$. After an interaction, the particle is traveling with a speed of 455 m/s in a direction of 23$^\\circ$ clockwise from the -x-axis in the xy-plane.\n",
    "\n",
    "1. What is the initial momentum of particle?\n",
    "2. What is the magnitude of the initial momentum?\n",
    "2. What are the x,y, and z momentum components of the particle after the interaction?\n",
    "3. What is the change in momemtum of the particle?"
   ]
  },
  {
   "cell_type": "code",
   "execution_count": 1,
   "metadata": {
    "tags": [
     "hide-input",
     "hide-output"
    ]
   },
   "outputs": [
    {
     "name": "stdout",
     "output_type": "stream",
     "text": [
      "Initial momentum is [ 225.    12.5 -137.5] kgm/s\n",
      "Magnitude of initial momentum is 263.98390102428596 kgm/s\n",
      "The final momentum components are [-209.41485416   88.89133173    0.        ] kgm/s\n",
      "The change in momentum is [-434.41485416   76.39133173  137.5       ] kgm/s\n"
     ]
    }
   ],
   "source": [
    "%reset -f\n",
    "\n",
    "import numpy as np\n",
    "\n",
    "m = 0.50\n",
    "vi = np.array([450, 25, -275])\n",
    "\n",
    "speed_f = 455\n",
    "theta = np.radians(23)  #clock-wise from -x axis --> 2nd quadrant\n",
    "\n",
    "# Part 1\n",
    "pi = m*vi\n",
    "\n",
    "print('Initial momentum is '+str(pi)+' kgm/s')\n",
    "\n",
    "# Part 2\n",
    "p = np.sqrt(pi[0]**2 + pi[1]**2 + pi[2]**2)\n",
    "print('Magnitude of initial momentum is '+str(p)+' kgm/s')\n",
    "\n",
    "# Part 3\n",
    "vfx = -speed_f*np.cos(theta)\n",
    "vfy = speed_f*np.sin(theta)\n",
    "vfz = 0\n",
    "\n",
    "pf = m*np.array([vfx, vfy, vfz])\n",
    "print('The final momentum components are '+str(pf)+' kgm/s')\n",
    "\n",
    "# Part 4\n",
    "dp = pf - pi\n",
    "print('The change in momentum is '+str(dp)+' kgm/s')"
   ]
  },
  {
   "cell_type": "markdown",
   "metadata": {},
   "source": [
    "<hr style=\"height:2px;border-width:0;color:gray;background-color:gray\">"
   ]
  },
  {
   "cell_type": "markdown",
   "metadata": {},
   "source": [
    "<h2>Problem C3.2</h2>\n",
    "    </header>\n",
    "\n",
    "Consider the two particles shown in the figure.\n",
    "<br>\n",
    "<img src=\"C3-fig1p.png\"  width=\"300\"/>\n",
    "<br>\n",
    "Let $p_1 = 675~\\textrm{kgm/s}$ and $p_2 = 485~\\textrm{kgm/s}$.\n",
    "\n",
    "1. Determine the components of the two momentum vectors. \n",
    "2. Write the momentum vectors in a proper vector notation.\n",
    "3. If we consider the two particle to be one system, what is the total momentum of the system?"
   ]
  },
  {
   "cell_type": "code",
   "execution_count": 2,
   "metadata": {
    "tags": [
     "hide-input",
     "hide-output"
    ]
   },
   "outputs": [
    {
     "name": "stdout",
     "output_type": "stream",
     "text": [
      "p1x = 406.2251406276326 kgm/s\n",
      "p1y = 539.0789692819227 kgm/s\n",
      "p1z = 0 kgm/s\n",
      " \n",
      "p2x = 149.8732422718495 kgm/s\n",
      "p2y = -461.2624104031495 kgm/s\n",
      "p2z = 0 kgm/s\n",
      " \n",
      "p1 = [406.22514063 539.07896928   0.        ] kgm/s\n",
      "p2 = [ 149.87324227 -461.2624104     0.        ] kgm/s\n",
      " \n",
      "Total momentum = [556.0983829   77.81655888   0.        ] kgm/s\n"
     ]
    }
   ],
   "source": [
    "%reset -f\n",
    "\n",
    "import numpy as np\n",
    "\n",
    "p1_mag = 675\n",
    "p2_mag = 485\n",
    "theta1 = np.radians(53)\n",
    "theta2 = np.radians(72)\n",
    "\n",
    "# Part 1\n",
    "p1x = p1_mag*np.cos(theta1)\n",
    "p1y = p1_mag*np.sin(theta1)\n",
    "p1z = 0\n",
    "\n",
    "print('p1x = '+str(p1x)+' kgm/s')\n",
    "print('p1y = '+str(p1y)+' kgm/s')\n",
    "print('p1z = '+str(p1z)+' kgm/s')\n",
    "print(' ')\n",
    "p2x = p2_mag*np.cos(theta2)\n",
    "p2y = -p2_mag*np.sin(theta2)\n",
    "p2z = 0\n",
    "\n",
    "print('p2x = '+str(p2x)+' kgm/s')\n",
    "print('p2y = '+str(p2y)+' kgm/s')\n",
    "print('p2z = '+str(p2z)+' kgm/s')\n",
    "print(' ')\n",
    "\n",
    "# Part 2\n",
    "p1 = np.array([p1x, p1y, p1z])\n",
    "p2 = np.array([p2x, p2y, p2z])\n",
    "\n",
    "print('p1 = '+str(p1)+' kgm/s')\n",
    "print('p2 = '+str(p2)+' kgm/s')\n",
    "print(' ')\n",
    "\n",
    "# Part 3\n",
    "p_tot = p1 + p2\n",
    "print('Total momentum = '+str(p_tot)+' kgm/s')"
   ]
  },
  {
   "cell_type": "markdown",
   "metadata": {},
   "source": [
    "<hr style=\"height:2px;border-width:0;color:gray;background-color:gray\">"
   ]
  },
  {
   "cell_type": "markdown",
   "metadata": {},
   "source": [
    "<h2>Problem C3.3</h2>\n",
    "    </header>\n",
    "\n",
    "A 0.25 kg particle is traveling (in the xy-plane) with an initial velocity (in m/s) of \n",
    "\n",
    "$$ \\vec{v}_i = \\begin{bmatrix} 75.0  \\\\ -63.0  \\end{bmatrix} $$\n",
    "\n",
    "Sometime later, its velocity (in m/s) is \n",
    "\n",
    "$$ \\vec{v}_f = \\begin{bmatrix} 24.5  \\\\ 5.0  \\end{bmatrix} $$\n",
    "\n",
    "What are the magnitudes and directions of the:\n",
    "\n",
    "1. the initial momentum?\n",
    "2. the final momentum?\n",
    "3. the change in momentum?"
   ]
  },
  {
   "cell_type": "code",
   "execution_count": 3,
   "metadata": {
    "tags": [
     "hide-input",
     "hide-output"
    ]
   },
   "outputs": [
    {
     "name": "stdout",
     "output_type": "stream",
     "text": [
      "The initial momentum magnitude is 24.487241575971762 kgm/s\n",
      "The direction is 40.0302592718897 CW from +x-axis\n",
      " \n",
      "The final momentum magnitude is 6.251249875024993 kgm/s\n",
      "The direction is 11.534620653644716 CCW from +x-axis\n",
      " \n",
      "The change in momentum magnitude is 21.175236126192313 kgm/s\n",
      "The direction is 53.4006825363179 CW from -x-axis\n"
     ]
    }
   ],
   "source": [
    "%reset -f\n",
    "\n",
    "import numpy as np\n",
    "\n",
    "def magnitude(vec):\n",
    "    return(np.sqrt(vec[0]**2 + vec[1]**2))\n",
    "\n",
    "m = 0.25\n",
    "vi = np.array([75.0, -63.0])\n",
    "vf = np.array([24.5, 5.0])\n",
    "\n",
    "# Part 1\n",
    "pi = m*vi\n",
    "pi_mag = magnitude(pi)\n",
    "print('The initial momentum magnitude is '+str(pi_mag)+' kgm/s')\n",
    "\n",
    "#pi is in 4th quadrant\n",
    "angle = np.degrees(np.arctan(np.abs(pi[1]/pi[0])))\n",
    "print('The direction is '+str(angle)+' CW from +x-axis')\n",
    "\n",
    "print(' ')\n",
    "# Part 2\n",
    "pf = m*vf\n",
    "pf_mag = magnitude(pf)\n",
    "print('The final momentum magnitude is '+str(pf_mag)+' kgm/s')\n",
    "\n",
    "#pf is in 1th quadrant\n",
    "angle = np.degrees(np.arctan(np.abs(pf[1]/pf[0])))\n",
    "print('The direction is '+str(angle)+' CCW from +x-axis')\n",
    "\n",
    "print(' ')\n",
    "# Part 3\n",
    "dp = pf - pi\n",
    "dp_mag = magnitude(dp)\n",
    "print('The change in momentum magnitude is '+str(dp_mag)+' kgm/s')\n",
    "\n",
    "#dp is in 2th quadrant\n",
    "angle = np.degrees(np.arctan(np.abs(dp[1]/dp[0])))\n",
    "print('The direction is '+str(angle)+' CW from -x-axis')"
   ]
  },
  {
   "cell_type": "markdown",
   "metadata": {},
   "source": [
    "<hr style=\"height:2px;border-width:0;color:gray;background-color:gray\">"
   ]
  }
 ],
 "metadata": {
  "celltoolbar": "Tags",
  "kernelspec": {
   "display_name": "Python 3 (ipykernel)",
   "language": "python",
   "name": "python3"
  },
  "language_info": {
   "codemirror_mode": {
    "name": "ipython",
    "version": 3
   },
   "file_extension": ".py",
   "mimetype": "text/x-python",
   "name": "python",
   "nbconvert_exporter": "python",
   "pygments_lexer": "ipython3",
   "version": "3.10.9"
  }
 },
 "nbformat": 4,
 "nbformat_minor": 4
}