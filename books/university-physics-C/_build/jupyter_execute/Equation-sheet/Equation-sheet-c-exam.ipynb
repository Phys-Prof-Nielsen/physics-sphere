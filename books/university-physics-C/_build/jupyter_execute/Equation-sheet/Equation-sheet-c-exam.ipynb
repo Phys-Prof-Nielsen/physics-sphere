{
 "cells": [
  {
   "cell_type": "markdown",
   "id": "a1f4c56f",
   "metadata": {},
   "source": [
    "# Equation Sheet for C Exam\n",
    "<hr style=\"height:2px;border-width:0;color:gray;background-color:gray\">"
   ]
  },
  {
   "cell_type": "markdown",
   "id": "0f05ba99",
   "metadata": {},
   "source": [
    "These are the basic concepts and equations you will need for the C exam, not including mathematical tools such as trigonometry and dot product.\n",
    "\n",
    "## Restrictions/Assumptions\n",
    "\n",
    "* We are only considering point mass/particle objects.\n",
    "* We are only using differences (quantities with $\\Delta$ in front), and quantities calculated from differences are <b>averages</b>. For example: $\\vec{v} = \\frac{\\Delta \\vec{r}}{\\Delta t}$ is the <b>average</b> velocity during the time interval $\\Delta t$.\n",
    "\n",
    "|    Concept  |   Equation   |  Component Example  |  Comments\n",
    "| :------------ | ------------- | ------------- | -------------: |\n",
    "|        Point mass/particle     |  | | An object where size and shape does not play a role in the dynamics of the object. |\n",
    "| Inertial Mass | $m$ <img width=250/> |  <img width=200/>   |  Resistance to a change in <b>linear</b> motion. |\n",
    "| Position | $\\vec{r}$ |  $x$   |  Location of an object specified with respect to a given reference frame. |\n",
    "| Linear Displacement | $\\Delta\\vec{r}$ |  $\\Delta x$   |  Change in position between events 1 and 2. Can be either positive or negative.  |\n",
    "|  |  |    |  Directed line segment <b>pointing</b> from location of event 1 to location of event 2.   |\n",
    "| Linear Path Length | $\\Delta s$ |     |  Distance traveled between events 1 and 2. Not a vector and always positive.  |\n",
    "| Elapsed Time | $\\Delta t$ |     |  Difference in time between events 1 and 2.  |\n",
    "| Average Linear Velocity | $\\vec{v} = \\frac{\\Delta \\vec{r}}{\\Delta t}$ |  $v_x = \\frac{\\Delta x}{\\Delta t}$   |  Linear displacement over an elapsed time interval. How fast an object is moving in a certain direction. Can be positive or negative.  |\n",
    "| Average Linear Speed | $v = \\frac{\\Delta s}{\\Delta t}$ |     |  Linear path length between events 1 and 2 over an elapsed time interval. How fast an object is moving. Always positive.  |\n",
    "| Average Linear Acceleration | $\\vec{a} = \\frac{\\Delta \\vec{v}}{\\Delta t}$ |  $a_x = \\frac{\\Delta v_{x}}{\\Delta t}$   |  Change in linear velocity over an elapsed time interval. Can be positive or negative.  |\n",
    "| 1st Derived Equation of Motion | $\\vec{r} = \\vec{r}_{0} + \\vec{v}_{0}t + \\frac{1}{2}\\vec{a}t^2  $ |  $x = x_0 + v_{0x}t + \\frac{1}{2}a_{x}t^2$   |  Change in linear velocity over an elapsed time interval. Can be positive or negative.  |\n",
    "| 2nd Derived Equation of Motion | $v_{x}^2 = v_{0x}^2 + 2a_{x}\\Delta x$  |     |  Torrecilli's Equation. Only valid for constant acceleration and not a vector equation.   |\n",
    "| Linear Momentum | $\\vec{p} = m\\vec{v}$  |  $p_x = mv_x$   |  Definition of <b>linear motion</b> in x-direcion (or y or z). Can be positive or negative.   |\n",
    "| Change in Linear Momentum | $\\Delta \\vec{p} = \\vec{p}_{2} - \\vec{p}_{1}$  |  $\\Delta p_x = p_{2_{x}} - p_{1_{x}}$  |  Change in linear motion between events 1 and 2.   |\n",
    "|  | $\\Delta \\vec{p} = m\\Delta \\vec{v}$  |  $\\Delta p_x = m\\Delta v_x$  |  Only true for a point particle or object that does not change mass between events 1 and 2. |\n",
    "| Impulse | $\\vec{j} = \\vec{f}\\Delta t$   |  $ j_x = f_{x}\\Delta t$  |  Impulse delivered by a single force. |\n",
    "| Impulse-Momentum Theorem | $\\vec{j}_{net} = \\Delta\\vec{p}$   |  $ j_{net,x} = \\Delta p_x$  |  Impulse delivered by net force is the change in momentum of the particle. |\n",
    "|  | $ \\vec{f}_{net}\\Delta t = m\\vec{v}_2 + m\\vec{v}_1$ |  $ f_{net,x}\\Delta t =  mv_{2x} - mv_{1x} $  |  Cause and Effect: Cause (force) acting on an object through some time interval will change the motion (transfer momentum) of the object between events 1 and 2. |\n",
    "| Average Linear Net Force | $\\vec{f}_{net} = \\frac{\\Delta \\vec{p}}{\\Delta t}$   |  $f_{{net}_{x}} = \\frac{\\Delta p_{x}}{\\Delta t}$  |  Cause and Effect: Cause (force) of change in motion (effect) between events 1 and 2. |\n",
    "| |    |   |  Also known as Newton's 2nd Law.  |\n",
    "|  | $\\vec{f}_{net} = m\\vec{a}$   |  $f_{net_{x}} = ma_x$  |  Only true for a point particle or object that does not change mass between events 1 and 2. |\n",
    "|  |    |   |  Probably the one most people associate with Newton's 2nd Law from everyday life. |\n",
    "| Kinetic Energy | $k = \\frac{1}{2}m\\vec{v}\\cdot\\vec{v}$   |  $k = \\frac{1}{2}m\\sqrt{v_{x}^2 + v_{y}^2}$  |  Measure of energy related to motion. Not a vector. |\n",
    "| Mechanical Work | $w = \\vec{f}\\cdot\\Delta\\vec{r}$   |  $w = f_{x}\\Delta x + f_{y}\\Delta y  $  |  Transfer of particle/system energy between events 1 and 2 due to force $\\vec{f}$. Work is **not** energy, but transfer of energy. |\n",
    "|  |   |    |  Positive: Energy input to particle. Negative: Energy out from particle. |\n",
    "| Work-Energy Theorem | $w_{net} = \\Delta k$   |   |  Net energy transfer is changing the kinetic energy of a particle. |\n",
    "|  | $\\vec{f}_{net}\\cdot\\Delta\\vec{r} = \\frac{1}{2}mv_{2}^2 - \\frac{1}{2}mv_{1}^2$   |   |  Example working equation of work-energy theorem. |\n",
    "| Conservative Force | $w_{closed~path} = 0$  |   |  Energy transfer along a closed path is zero if the force is conservative. |\n",
    "| Potential Energy | $\\Delta u = -w_C$  |   |  Only defined for conservative forces. |\n",
    "| Gravitational Potential Energy | $u_g = mgh$  |   |  $h$ is some height above a reference point. |\n",
    "| Mechanical Energy | $e = k + u$  |   |  Total mechanical energy. |\n",
    "| Work-Energy Theorem Again | $w_{NC} = e_2 - e_1$  |   | Only non-conservative forces can change the mechanical energy of a particle. |\n",
    "| Working Equation for Work-Energy | $\\frac{1}{2}mv_{1}^2 + mgh_1 + w_{NC} = \\frac{1}{2}mv_{2}^2 + mgh_2$  |   |  |\n",
    "\n",
    "\n",
    "<hr style=\"height:2px;border-width:0;color:gray;background-color:gray\">"
   ]
  },
  {
   "cell_type": "code",
   "execution_count": null,
   "id": "1bcf5042",
   "metadata": {},
   "outputs": [],
   "source": []
  }
 ],
 "metadata": {
  "kernelspec": {
   "display_name": "Python 3 (ipykernel)",
   "language": "python",
   "name": "python3"
  },
  "language_info": {
   "codemirror_mode": {
    "name": "ipython",
    "version": 3
   },
   "file_extension": ".py",
   "mimetype": "text/x-python",
   "name": "python",
   "nbconvert_exporter": "python",
   "pygments_lexer": "ipython3",
   "version": "3.10.9"
  }
 },
 "nbformat": 4,
 "nbformat_minor": 5
}