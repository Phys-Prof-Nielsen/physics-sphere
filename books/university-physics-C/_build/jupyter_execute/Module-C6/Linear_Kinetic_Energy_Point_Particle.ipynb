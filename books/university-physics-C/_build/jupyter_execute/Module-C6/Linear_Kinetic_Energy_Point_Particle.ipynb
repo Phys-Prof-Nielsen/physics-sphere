{
 "cells": [
  {
   "cell_type": "markdown",
   "metadata": {},
   "source": [
    "# D5.1 Linear Kinetic Energy: Point Particle\n",
    "<hr style=\"height:2px;border-width:0;color:gray;background-color:gray\">"
   ]
  },
  {
   "cell_type": "markdown",
   "metadata": {},
   "source": [
    "## D5.1.1 Concept of Energy\n",
    "Before we get to kinetic energy, let us establish what energy is. In its most basic conceptual definition\n",
    "<div class=\"alert alert-success\">\n",
    "    <b>Concept</b><br>\n",
    "Energy is the ability to do work.\n",
    "    </div>\n",
    "    \n",
    "Some simple examples are:\n",
    "<li>Sliding across a hardwood gym floor. <b>Energy of motion</b> (kinetic) is being converted into heat, and it increases the temperature of the floor and skin resulting in a burn mark.</li>\n",
    "<li>The wind hitting a blade on a wind turbine is changing the <b>energy of motion</b> (kinetic) of the wind to <b>energy of motion</b> of the blade, which is then converted into electrical energy by the turbine. </li>\n",
    "<li>In a reservoir, water level is raised to a higher elevation compared to a turbine. The <b>energy of position</b> (potential) is then transferred into <b>energy of motion</b> by gravity, and then turned into electrical energy by a turbine.</li>\n",
    "\n",
    "Kinetic energy is by far the simplest energy to calculate, while potential energy can become very complex. In Phases C and B we will see two simple examples of potential energy: gravitational and spring. Here in Phase D, we will only concern ourselves about kinetic energy.\n",
    "        \n",
    "<hr style=\"height:2px;border-width:0;color:gray;background-color:gray\">"
   ]
  },
  {
   "cell_type": "markdown",
   "metadata": {},
   "source": [
    "## D5.1.2 Linear Kinetic Energy: Energy of Motion\n",
    "We define the <b>linear kinetic energy</b> stored in a point particle as\n",
    "\n",
    "<div class=\"alert alert-success\">\n",
    "    <b>Kinetic Energy of Point Particle</b>\n",
    "  \n",
    "$$ k = \\frac{1}{2}mv^2 \\tag{1}$$\n",
    "</div>\n",
    "\n",
    "where $v$ is the <b>speed</b> of the particle. In Phase C, we will see how we can write the kinetic energy in terms of the <b>velocity</b> of the particle.\n",
    "\n",
    "We observe a few key points:\n",
    "1. kinetic energy is always positive.\n",
    "2. if two observers are moving relative to each other in inertial reference frames (non-accelerating), then they will observe different values of kinetic energy, suggesting that kinetic energy in itself is not important but instead the change may be the important concept (similar to momentum, where impulse is the important concept).\n",
    "3. kinetic energy is linear in mass but non-linear in speed: double the mass $\\rightarrow$ double the kinetic energy; double the speed $\\rightarrow$ quadruple the kinetic energy. The later is responsible for the 4x breaking distance of we double our speed in a car.\n",
    "\n",
    "\n",
    "### Unit\n",
    "Unit of energy is kgm$^2$/s$^2$, which we define as a Joule (J).\n",
    "\n",
    "<hr style=\"height:2px;border-width:0;color:gray;background-color:gray\">"
   ]
  },
  {
   "cell_type": "markdown",
   "metadata": {},
   "source": [
    "<div style=\"background-color: #D0D0D0 ; padding: 10px; border: 1px solid black;\">\n",
    "<header>\n",
    "<h3> Example 1</h3>\n",
    "    </header>\n",
    "\n",
    "<b>Problem</b>\n",
    "<br>\n",
    "A 798 kg Haas F1 race car is capable of a top speed around 220 mph during race on straight segments. How much kinetic energy does the car have at that instant?\n",
    "\n",
    "<img src=\"https://fluidideas.s3.eu-west-1.amazonaws.com/haas/s3fs-public/styles/landscape_desktop_1x/public/2023-03/sunday_web.jpg?VersionId=hQUy1vIy.2OtEgm_u5utp5QzFUAiQM9H\" width=\"400\">\n",
    "\n",
    "<b>Solution</b>\n",
    "<br>\n",
    "First, we need to convert the speed into SI units: 220 mph = 98.35 m/s. We note that 220 mph is presented to 2 significant figures, but do not adjust until the after the calculations.\n",
    "\n",
    "The kinetic energy is then:\n",
    "\n",
    "$$ k = \\frac{1}{2}mv^2 = (0.5)(798)(98.35)^2 = 3.859\\times 10^6~\\textrm{J} $$\n",
    "    \n",
    "<b>Answer</b>\n",
    "<br>\n",
    "The correct answer to proper significant figures is\n",
    "\n",
    "$$ 3.9\\times 10^6~\\textrm{J} $$\n",
    "    \n",
    "</div>\n",
    "<hr style=\"height:2px;border-width:0;color:gray;background-color:gray\">"
   ]
  },
  {
   "cell_type": "markdown",
   "metadata": {},
   "source": [
    "## D5.1.3 Test Yourself"
   ]
  },
  {
   "cell_type": "code",
   "execution_count": 1,
   "metadata": {},
   "outputs": [
    {
     "ename": "FileNotFoundError",
     "evalue": "[Errno 2] No such file or directory: 'quiz-kinetic-energy.json'",
     "output_type": "error",
     "traceback": [
      "\u001b[0;31m---------------------------------------------------------------------------\u001b[0m",
      "\u001b[0;31mFileNotFoundError\u001b[0m                         Traceback (most recent call last)",
      "Cell \u001b[0;32mIn[1], line 3\u001b[0m\n\u001b[1;32m      1\u001b[0m \u001b[38;5;28;01mfrom\u001b[39;00m \u001b[38;5;21;01mjupyterquiz\u001b[39;00m \u001b[38;5;28;01mimport\u001b[39;00m display_quiz\n\u001b[1;32m      2\u001b[0m \u001b[38;5;28;01mimport\u001b[39;00m \u001b[38;5;21;01mjson\u001b[39;00m\n\u001b[0;32m----> 3\u001b[0m \u001b[38;5;28;01mwith\u001b[39;00m \u001b[38;5;28;43mopen\u001b[39;49m\u001b[43m(\u001b[49m\u001b[38;5;124;43m\"\u001b[39;49m\u001b[38;5;124;43mquiz-kinetic-energy.json\u001b[39;49m\u001b[38;5;124;43m\"\u001b[39;49m\u001b[43m,\u001b[49m\u001b[43m \u001b[49m\u001b[38;5;124;43m\"\u001b[39;49m\u001b[38;5;124;43mr\u001b[39;49m\u001b[38;5;124;43m\"\u001b[39;49m\u001b[43m)\u001b[49m \u001b[38;5;28;01mas\u001b[39;00m file:\n\u001b[1;32m      4\u001b[0m     questions\u001b[38;5;241m=\u001b[39mjson\u001b[38;5;241m.\u001b[39mload(file)\n\u001b[1;32m      6\u001b[0m display_quiz(questions)\n",
      "File \u001b[0;32m~/anaconda3/lib/python3.10/site-packages/IPython/core/interactiveshell.py:282\u001b[0m, in \u001b[0;36m_modified_open\u001b[0;34m(file, *args, **kwargs)\u001b[0m\n\u001b[1;32m    275\u001b[0m \u001b[38;5;28;01mif\u001b[39;00m file \u001b[38;5;129;01min\u001b[39;00m {\u001b[38;5;241m0\u001b[39m, \u001b[38;5;241m1\u001b[39m, \u001b[38;5;241m2\u001b[39m}:\n\u001b[1;32m    276\u001b[0m     \u001b[38;5;28;01mraise\u001b[39;00m \u001b[38;5;167;01mValueError\u001b[39;00m(\n\u001b[1;32m    277\u001b[0m         \u001b[38;5;124mf\u001b[39m\u001b[38;5;124m\"\u001b[39m\u001b[38;5;124mIPython won\u001b[39m\u001b[38;5;124m'\u001b[39m\u001b[38;5;124mt let you open fd=\u001b[39m\u001b[38;5;132;01m{\u001b[39;00mfile\u001b[38;5;132;01m}\u001b[39;00m\u001b[38;5;124m by default \u001b[39m\u001b[38;5;124m\"\u001b[39m\n\u001b[1;32m    278\u001b[0m         \u001b[38;5;124m\"\u001b[39m\u001b[38;5;124mas it is likely to crash IPython. If you know what you are doing, \u001b[39m\u001b[38;5;124m\"\u001b[39m\n\u001b[1;32m    279\u001b[0m         \u001b[38;5;124m\"\u001b[39m\u001b[38;5;124myou can use builtins\u001b[39m\u001b[38;5;124m'\u001b[39m\u001b[38;5;124m open.\u001b[39m\u001b[38;5;124m\"\u001b[39m\n\u001b[1;32m    280\u001b[0m     )\n\u001b[0;32m--> 282\u001b[0m \u001b[38;5;28;01mreturn\u001b[39;00m \u001b[43mio_open\u001b[49m\u001b[43m(\u001b[49m\u001b[43mfile\u001b[49m\u001b[43m,\u001b[49m\u001b[43m \u001b[49m\u001b[38;5;241;43m*\u001b[39;49m\u001b[43margs\u001b[49m\u001b[43m,\u001b[49m\u001b[43m \u001b[49m\u001b[38;5;241;43m*\u001b[39;49m\u001b[38;5;241;43m*\u001b[39;49m\u001b[43mkwargs\u001b[49m\u001b[43m)\u001b[49m\n",
      "\u001b[0;31mFileNotFoundError\u001b[0m: [Errno 2] No such file or directory: 'quiz-kinetic-energy.json'"
     ]
    }
   ],
   "source": [
    "from jupyterquiz import display_quiz\n",
    "import json\n",
    "with open(\"quiz-kinetic-energy.json\", \"r\") as file:\n",
    "    questions=json.load(file)\n",
    "\n",
    "display_quiz(questions)"
   ]
  },
  {
   "cell_type": "markdown",
   "metadata": {},
   "source": [
    "<hr style=\"height:2px;border-width:0;color:gray;background-color:gray\">"
   ]
  }
 ],
 "metadata": {
  "kernelspec": {
   "display_name": "Python 3 (ipykernel)",
   "language": "python",
   "name": "python3"
  },
  "language_info": {
   "codemirror_mode": {
    "name": "ipython",
    "version": 3
   },
   "file_extension": ".py",
   "mimetype": "text/x-python",
   "name": "python",
   "nbconvert_exporter": "python",
   "pygments_lexer": "ipython3",
   "version": "3.10.9"
  }
 },
 "nbformat": 4,
 "nbformat_minor": 4
}