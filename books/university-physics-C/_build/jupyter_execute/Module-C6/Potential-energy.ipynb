{
 "cells": [
  {
   "cell_type": "markdown",
   "metadata": {},
   "source": [
    "# C6.3 Potential Energy\n",
    "<hr style=\"height:2px;border-width:0;color:gray;background-color:gray\">"
   ]
  },
  {
   "cell_type": "markdown",
   "metadata": {},
   "source": [
    "## C6.3.1 Background\n",
    "\n",
    "If a force is conservative the work done by the force can be written in terms of a scalar function. This result is obtained through vector calculus and beyond the scope of this module and phase. Instead, we will show how they relate in 1D and determine the gravitational potential energy function associated with the conservative force of gravity.\n",
    "\n",
    "<hr style=\"height:2px;border-width:0;color:gray;background-color:gray\">"
   ]
  },
  {
   "cell_type": "markdown",
   "metadata": {},
   "source": [
    "## C6.3.2 Conservative Force and Potential Energy in 1D\n",
    "\n",
    "The defining relationship between the work done by a conservative force $\\vec{f}_C$ and potential energy $u$ in 1D is \n",
    "\n",
    "<div class=\"alert alert-success\">\n",
    "\n",
    "$$ w_C = -\\Delta u \\tag{1}$$\n",
    "</div>\n",
    "\n",
    "where the subscript enforces that we are talking about a conservative force. \n",
    "\n",
    "From a conceptual view point, it is important to recognize that the importance is not the potential energy itself, but **the change in potential energy**. We also saw that with kinetic energy and momentum.\n",
    "\n",
    "Since work in 1D is also\n",
    "\n",
    "$$ w_C = f_{Cx}\\Delta x $$\n",
    "\n",
    "we can relate the conservative force and the change in potential energy across the displacement as\n",
    "\n",
    "<div class=\"alert alert-success\">\n",
    "    \n",
    "$$ f_{Cx} = -\\frac{\\Delta u}{\\Delta x} \\tag{2}$$\n",
    "</div>\n",
    "\n",
    "\n",
    "\n",
    "\n",
    "\n",
    "<hr style=\"height:2px;border-width:0;color:gray;background-color:gray\">"
   ]
  },
  {
   "cell_type": "markdown",
   "metadata": {},
   "source": [
    "## C6.3.3 Gravitational Potential Energy\n",
    "\n",
    "We determined in the previous note that the force of gravity is a conservative force. So how does the gravitational potential energy look like?\n",
    "\n",
    "We can use Example 1 from previous note to determine the potential energy function associated with the force of gravity. Consider the displacement a block from some vertical position $y_A$ to a new vertical position $y_B$ upwards and let positive be upwards as well. The work done by gravity is then\n",
    "\n",
    "$$ w_g = f_{gy}\\Delta y $$\n",
    "\n",
    "Using the definition Equation (1) to write work in terms of change in potential energy:\n",
    "\n",
    "$$ -\\Delta u = f_{gy}\\Delta y $$\n",
    "\n",
    "Let us write out the differences and use the helpful equation for force of gravity:\n",
    "\n",
    "$$ -u_B + u_A = -mgy_B + mgy_A $$\n",
    "\n",
    "Upon inspection, we can define the **gravitational potential energy** as\n",
    "\n",
    "<div class=\"alert alert-success\">\n",
    "    \n",
    "$$ u_g = mgy$$\n",
    "</div>\n",
    "\n",
    "Often the $h$ is used instead of $y$ and it is written as\n",
    "\n",
    "$$ u_g = mgh $$\n",
    "\n",
    "<hr style=\"height:2px;border-width:0;color:gray;background-color:gray\">"
   ]
  }
 ],
 "metadata": {
  "celltoolbar": "Tags",
  "kernelspec": {
   "display_name": "Python 3 (ipykernel)",
   "language": "python",
   "name": "python3"
  },
  "language_info": {
   "codemirror_mode": {
    "name": "ipython",
    "version": 3
   },
   "file_extension": ".py",
   "mimetype": "text/x-python",
   "name": "python",
   "nbconvert_exporter": "python",
   "pygments_lexer": "ipython3",
   "version": "3.9.12"
  }
 },
 "nbformat": 4,
 "nbformat_minor": 4
}