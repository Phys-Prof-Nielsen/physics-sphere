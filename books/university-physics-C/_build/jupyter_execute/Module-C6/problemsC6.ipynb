{
 "cells": [
  {
   "cell_type": "markdown",
   "metadata": {},
   "source": [
    "# C6.X Problems\n",
    "<hr style=\"height:2px;border-width:0;color:gray;background-color:gray\">"
   ]
  },
  {
   "cell_type": "markdown",
   "metadata": {},
   "source": [
    "<h2>Problem C6.1</h2>\n",
    "    </header>\n",
    "\n",
    "A cat’s crinkle ball toy of mass 15 g is thrown straight up with an initial speed of 3.0 m/s. Assume in this problem that air drag is negligible. \n",
    "1. What is the kinetic energy of the ball as it leaves the hand? \n",
    "2. How much work is done by the gravitational force during the ball’s rise to its peak? \n",
    "3. What is the change in the gravitational potential energy of the ball during the rise to its peak? \n",
    "4. If the gravitational potential energy is taken to be zero at the point where it leaves your hand, what is the gravitational potential energy when it reaches the maximum height? \n",
    "5. What if the gravitational potential energy is taken to be zero at the maximum height the ball reaches, what would the gravitational potential energy be when it leaves the hand? \n",
    "6. What is the maximum height the ball reaches?\n",
    "\n",
    "This problem is a slightly modified version from OpenStax. Access for free at [https://openstax.org/books/university-physics-volume-1/pages/8-problems](https://openstax.org/books/university-physics-volume-1/pages/8-problems)"
   ]
  },
  {
   "cell_type": "code",
   "execution_count": 1,
   "metadata": {},
   "outputs": [],
   "source": [
    "# DIY Cell"
   ]
  },
  {
   "cell_type": "code",
   "execution_count": 2,
   "metadata": {
    "tags": [
     "hide-input",
     "hide-output"
    ]
   },
   "outputs": [
    {
     "name": "stdout",
     "output_type": "stream",
     "text": [
      "Kinetic energy when it leaves hand: 0.0675 J\n",
      " \n",
      "The work done by gravity: -0.0675 J\n",
      " \n",
      "Change in gravitational potential energy: 0.0675 J\n",
      " \n",
      "Gravitational potential energy at max. height: 0.0675 J\n",
      " \n",
      "Gravitational potential energy leaving hand: -0.0675 J\n",
      " \n",
      "Maximum height: 0.458715596330275 m\n"
     ]
    }
   ],
   "source": [
    "%reset -f\n",
    "\n",
    "import numpy as np\n",
    "import sympy as sym\n",
    "\n",
    "m = 15E-3\n",
    "v1 = 3.0\n",
    "g = 9.81\n",
    "\n",
    "# Part 1\n",
    "k1 = 0.5*m*v1**2\n",
    "print('Kinetic energy when it leaves hand: '+str(k1)+' J')\n",
    "\n",
    "# Part 2\n",
    "# w_net = dk\n",
    "# w_net = fg\n",
    "k2 = 0.0\n",
    "dk = k2 - k1\n",
    "w_net = dk\n",
    "w_g = w_net\n",
    "print(' ')\n",
    "print('The work done by gravity: '+str(w_g)+' J')\n",
    "\n",
    "# Part 3\n",
    "# w_g = -du\n",
    "du = -w_g\n",
    "print(' ')\n",
    "print('Change in gravitational potential energy: '+str(du)+' J')\n",
    "\n",
    "# Part 4\n",
    "u1 = 0.0\n",
    "u2 = u1 + du\n",
    "print(' ')\n",
    "print('Gravitational potential energy at max. height: '+str(u2)+' J')\n",
    "\n",
    "# Part 5\n",
    "u2 = 0.0\n",
    "u1 = u2 - du\n",
    "print(' ')\n",
    "print('Gravitational potential energy leaving hand: '+str(u1)+' J')\n",
    "\n",
    "# Part 6\n",
    "# No dissipative forces so mechanical energy is conserved:\n",
    "# k1 + u1 + w_nc = k2 + u2\n",
    "w_nc = 0.0\n",
    "h1 = 0  #we are free to choose reference height.\n",
    "h2 = sym.Symbol('h2')\n",
    "v2 = 0\n",
    "\n",
    "eq = 0.5*m*v2**2 + m*g*h2 - 0.5*m*v1**2 - m*g*h1 - w_nc\n",
    "sol = sym.solve(eq, h2)\n",
    "print(' ')\n",
    "print('Maximum height: '+str(sol[0])+' m')"
   ]
  },
  {
   "cell_type": "markdown",
   "metadata": {},
   "source": [
    "<hr style=\"height:2px;border-width:0;color:gray;background-color:gray\">"
   ]
  },
  {
   "cell_type": "markdown",
   "metadata": {},
   "source": [
    "<h2>Problem C6.2</h2>\n",
    "    </header>\n",
    "\n",
    "A boy throws a ball of mass  0.25 kg straight upward with an initial speed of 20.0 m/s. When the ball returns to the boy, its speed is  17 m/s. How much much work does air resistance do on the ball during its flight?\n",
    "\n",
    "This problem is a slightly modified version from OpenStax. Access for free at [https://openstax.org/books/university-physics-volume-1/pages/8-problems](https://openstax.org/books/university-physics-volume-1/pages/8-problems)"
   ]
  },
  {
   "cell_type": "code",
   "execution_count": 3,
   "metadata": {},
   "outputs": [],
   "source": [
    "# DIY Cell"
   ]
  },
  {
   "cell_type": "code",
   "execution_count": 4,
   "metadata": {
    "tags": [
     "hide-input",
     "hide-output"
    ]
   },
   "outputs": [
    {
     "name": "stdout",
     "output_type": "stream",
     "text": [
      "Work done by air drag = -13.8750000000000\n"
     ]
    }
   ],
   "source": [
    "%reset -f\n",
    "import sympy as sym\n",
    "\n",
    "#values giving\n",
    "m = 0.25\n",
    "v1 = 20.0  \n",
    "v2 = 17\n",
    "g = 9.81\n",
    "\n",
    "\n",
    "#unknown\n",
    "w_air = sym.Symbol('w_air')\n",
    "\n",
    "#let y = 0 m be the initial and final height\n",
    "y1 = 0\n",
    "y2 = 0\n",
    "\n",
    "e1 = 0.5*m*v1**2 + m*g*y1\n",
    "e2 = 0.5*m*v2**2 + m*g*y2\n",
    "\n",
    "#equation to be solved: e1 + w_air = e2\n",
    "eq1 = e2 - e1 - w_air\n",
    "\n",
    "sol = sym.solve(eq1,w_air)\n",
    "\n",
    "print('Work done by air drag = '+str(sol[0]))"
   ]
  },
  {
   "cell_type": "markdown",
   "metadata": {},
   "source": [
    "<hr style=\"height:2px;border-width:0;color:gray;background-color:gray\">"
   ]
  },
  {
   "cell_type": "markdown",
   "metadata": {},
   "source": [
    "<h2>Problem C6.3</h2>\n",
    "    </header>\n",
    "\n",
    "Using energy considerations and assuming negligible air resistance, show that a rock thrown from a bridge 20.0 m above water with an initial speed of 15.0 m/s strikes the water with a speed of 24.8 m/s independent of the direction thrown. \n",
    "\n",
    "This problem is a slightly modified version from OpenStax. Access for free at [https://openstax.org/books/university-physics-volume-1/pages/8-problems](https://openstax.org/books/university-physics-volume-1/pages/8-problems)"
   ]
  },
  {
   "cell_type": "code",
   "execution_count": 5,
   "metadata": {},
   "outputs": [],
   "source": [
    "# DIY Cell"
   ]
  },
  {
   "cell_type": "code",
   "execution_count": 6,
   "metadata": {
    "tags": [
     "hide-input",
     "hide-output"
    ]
   },
   "outputs": [
    {
     "name": "stdout",
     "output_type": "stream",
     "text": [
      "Speed upon impact = 24.8475350890184\n"
     ]
    }
   ],
   "source": [
    "%reset -f\n",
    "import sympy as sym\n",
    "\n",
    "#values giving\n",
    "h1 = 20.0\n",
    "h2 = 0.0\n",
    "v1 = 15.0\n",
    "g = 9.81\n",
    "\n",
    "#unknown\n",
    "v2 = sym.Symbol('v2')\n",
    "\n",
    "#conservation of energy: k1 + u1 = k2 + u2 :: mass divideds out in all terms\n",
    "eq1 = 0.5*v2**2 + g*h2 - 0.5*v1**2 - g*h1\n",
    "\n",
    "sol = sym.solve(eq1,v2)\n",
    "\n",
    "print('Speed upon impact = '+str(sol[1]))"
   ]
  },
  {
   "cell_type": "markdown",
   "metadata": {},
   "source": [
    "<hr style=\"height:2px;border-width:0;color:gray;background-color:gray\">"
   ]
  },
  {
   "cell_type": "markdown",
   "metadata": {},
   "source": [
    "<h2>Problem C6.4</h2>\n",
    "    </header>\n",
    "\n",
    "A 100.0 kg man is skiing across level ground at a speed of  8.0 m/s when he comes to the small slope 1.8 m higher than ground level shown in the following figure.\n",
    "1. If the skier coasts up the hill, what is his speed when he reaches the top plateau? Assume friction between the snow and skis is negligible. \n",
    "2. What is his speed when he reaches the upper level if an  80.0 N frictional force acts on the skis?\n",
    "\n",
    "<img src=\"P-C6-fig1.png\" width=\"400\">\n",
    "\n",
    "This problem is a slightly modified version from OpenStax. Access for free at [https://openstax.org/books/university-physics-volume-1/pages/8-problems](https://openstax.org/books/university-physics-volume-1/pages/8-problems)"
   ]
  },
  {
   "cell_type": "code",
   "execution_count": 7,
   "metadata": {},
   "outputs": [],
   "source": [
    "# DIY Cell"
   ]
  },
  {
   "cell_type": "code",
   "execution_count": 8,
   "metadata": {
    "tags": [
     "hide-input",
     "hide-output"
    ]
   },
   "outputs": [
    {
     "name": "stdout",
     "output_type": "stream",
     "text": [
      "Part 1: Speed at top plateau = 5.35574457942124\n",
      "Part 2: Speed at top plateau = 3.98547362304658\n"
     ]
    }
   ],
   "source": [
    "%reset -f\n",
    "import sympy as sym\n",
    "import numpy as np\n",
    "\n",
    "#values giving\n",
    "m = 100.0\n",
    "v1 = 8.0\n",
    "dh = 1.8\n",
    "ff = 80.0\n",
    "d = 8.0\n",
    "g = 9.81\n",
    "\n",
    "#unknown\n",
    "v2 = sym.Symbol('v2')\n",
    "\n",
    "#Part 1\n",
    "#conservation of energy: k1 + u1 = k2 + u2 :: mass divideds out in all terms\n",
    "eq1 = 0.5*v2**2 + g*dh - 0.5*v1**2 \n",
    "\n",
    "sol = sym.solve(eq1,v2)\n",
    "\n",
    "print('Part 1: Speed at top plateau = '+str(sol[1]))\n",
    "\n",
    "#Part 2\n",
    "\n",
    "#work done by friction\n",
    "theta = 180.0*np.pi/180.0  #angle between friction and displacement vectors\n",
    "w_f = ff*d*np.cos(theta)\n",
    "\n",
    "#work-energy: k1 + u1 + W_NC = k2 + u2 \n",
    "eq1 = 0.5*m*v2**2 + m*g*dh - 0.5*m*v1**2 - w_f\n",
    "\n",
    "sol = sym.solve(eq1,v2)\n",
    "\n",
    "print('Part 2: Speed at top plateau = '+str(sol[1]))"
   ]
  },
  {
   "cell_type": "markdown",
   "metadata": {},
   "source": [
    "<hr style=\"height:2px;border-width:0;color:gray;background-color:gray\">"
   ]
  },
  {
   "cell_type": "markdown",
   "metadata": {},
   "source": [
    "<h2>Problem C6.5</h2>\n",
    "    </header>\n",
    "\n",
    "A baseball of mass 0.25 kg is hit at home plate with a speed of 40 m/s. When it lands in a seat in the left-field bleachers a horizontal distance 120 m from home plate, it is moving at 30.0 m/s. If the ball lands 20.0 m above the spot where it was hit, how much work is done on it by air resistance?\n",
    "\n",
    "This problem is a slightly modified version from OpenStax. Access for free at [https://openstax.org/books/university-physics-volume-1/pages/8-problems](https://openstax.org/books/university-physics-volume-1/pages/8-problems)"
   ]
  },
  {
   "cell_type": "code",
   "execution_count": 9,
   "metadata": {},
   "outputs": [],
   "source": [
    "# DIY Cell"
   ]
  },
  {
   "cell_type": "code",
   "execution_count": 10,
   "metadata": {
    "tags": [
     "hide-input",
     "hide-output"
    ]
   },
   "outputs": [
    {
     "name": "stdout",
     "output_type": "stream",
     "text": [
      "Work done by air drag = -38.4500000000000\n"
     ]
    }
   ],
   "source": [
    "%reset -f\n",
    "import sympy as sym\n",
    "\n",
    "#values giving\n",
    "m = 0.25\n",
    "v1 = 40.0\n",
    "dx = 120.0\n",
    "v2 = 30.0\n",
    "dy = 20.0\n",
    "g = 9.81\n",
    "\n",
    "#unknown\n",
    "w_air = sym.Symbol('w_air')\n",
    "\n",
    "#work-energy: k1 + u1 + w_air = k2 + u2 \n",
    "eq1 = 0.5*m*v2**2 + m*g*dy - 0.5*m*v1**2 - w_air\n",
    "\n",
    "sol = sym.solve(eq1,w_air)\n",
    "\n",
    "print('Work done by air drag = '+str(sol[0]))"
   ]
  },
  {
   "cell_type": "markdown",
   "metadata": {},
   "source": [
    "<hr style=\"height:2px;border-width:0;color:gray;background-color:gray\">"
   ]
  },
  {
   "cell_type": "markdown",
   "metadata": {},
   "source": [
    "<h2>Problem C6.6</h2>\n",
    "    </header>\n",
    "\n",
    "A 60.0 kg skier with an initial speed of 12.0 m/s coasts up a 2.50 m high rise as shown. Find her final speed at the top, given that the coefficient of friction between her skis and the snow is 0.80.\n",
    "\n",
    "<img src=\"P-C6-fig2.png\" width=\"400\">\n",
    "\n",
    "This problem is a slightly modified version from OpenStax. Access for free at [https://openstax.org/books/university-physics-volume-1/pages/8-problems](https://openstax.org/books/university-physics-volume-1/pages/8-problems)"
   ]
  },
  {
   "cell_type": "code",
   "execution_count": 11,
   "metadata": {},
   "outputs": [],
   "source": [
    "# DIY Cell"
   ]
  },
  {
   "cell_type": "code",
   "execution_count": 12,
   "metadata": {
    "tags": [
     "hide-input",
     "hide-output"
    ]
   },
   "outputs": [
    {
     "name": "stdout",
     "output_type": "stream",
     "text": [
      "Speed  at top = 6.23774576393102\n"
     ]
    }
   ],
   "source": [
    "%reset -f\n",
    "import sympy as sym\n",
    "import numpy as np\n",
    "\n",
    "#values giving\n",
    "m = 60.0\n",
    "v1 = 12.0\n",
    "dy = 2.5\n",
    "theta = 35*np.pi/180.\n",
    "mu = 0.80\n",
    "g = 9.81\n",
    "\n",
    "#unknown\n",
    "v2 = sym.Symbol('v2')\n",
    "\n",
    "#work done by friction\n",
    "#normal force\n",
    "fn = m*g*np.cos(theta)\n",
    "#force of friction\n",
    "ff = mu*fn\n",
    "#length of incline\n",
    "d = 2.5/np.sin(theta)\n",
    "#angle between friction and displacement vectors\n",
    "phi = 180.0*np.pi/180.0\n",
    "#work by friction\n",
    "wf = ff*d*np.cos(phi)\n",
    "\n",
    "\n",
    "#work-energy: k1 + u1 + w_NC = k2 + u2 \n",
    "eq1 = 0.5*m*v2**2 + m*g*dy - 0.5*m*v1**2 - wf\n",
    "\n",
    "sol = sym.solve(eq1,v2)\n",
    "print('Speed  at top = '+str(sol[1]))"
   ]
  },
  {
   "cell_type": "markdown",
   "metadata": {},
   "source": [
    "<hr style=\"height:2px;border-width:0;color:gray;background-color:gray\">"
   ]
  },
  {
   "cell_type": "markdown",
   "metadata": {},
   "source": [
    "<h2>Problem C6.7</h2>\n",
    "    </header>\n",
    "\n",
    "1. How high a hill can a car coast up (engines disengaged) if work done by friction is negligible and its initial speed is 110 km/h? \n",
    "2. If, in actuality, a 750 kg car with an initial speed of 110 km/h is observed to coast up a hill to a height 22.0 m above its starting point, how much thermal energy was generated by friction? \n",
    "3. What is the average force of friction if the hill has a slope of 2.5$^\\circ$ above the horizontal?\n",
    "\n",
    "This problem is a slightly modified version from OpenStax. Access for free at [https://openstax.org/books/university-physics-volume-1/pages/8-problems](https://openstax.org/books/university-physics-volume-1/pages/8-problems)"
   ]
  },
  {
   "cell_type": "code",
   "execution_count": 13,
   "metadata": {},
   "outputs": [],
   "source": [
    "# DIY Cell"
   ]
  },
  {
   "cell_type": "code",
   "execution_count": 14,
   "metadata": {
    "tags": [
     "hide-input",
     "hide-output"
    ]
   },
   "outputs": [
    {
     "name": "stdout",
     "output_type": "stream",
     "text": [
      "Height of hill = 47.5862372736311"
     ]
    },
    {
     "name": "stdout",
     "output_type": "stream",
     "text": [
      "\n",
      "Work done by friction = -188250.740740741\n",
      "Thermal energy transferred = 188250.740740741\n"
     ]
    }
   ],
   "source": [
    "%reset -f\n",
    "import sympy as sym\n",
    "import numpy as np\n",
    "\n",
    "#given parameters\n",
    "v1 = 110.0*(1000.0/1.0)*(1.0/3600) #convert from km/hr to m/s\n",
    "m = 750.0\n",
    "\n",
    "g = 9.81\n",
    "\n",
    "#Part 1\n",
    "v2 = 0.0  #final speed will be zero\n",
    "#unknown\n",
    "dh = sym.Symbol('dh')\n",
    "\n",
    "#work-energy: k1 + u1 = k2 + u2 \n",
    "eq1 = 0.5*m*v2**2 + m*g*dh - 0.5*m*v1**2 \n",
    "sol = sym.solve(eq1,dh)\n",
    "\n",
    "print('Height of hill = '+str(sol[0]))\n",
    "\n",
    "#Part 2\n",
    "dh = 22.0\n",
    "slope = 2.5*np.pi/180.0\n",
    "\n",
    "wf = sym.Symbol('wf')\n",
    "#work-energy: k1 + u1 + w_NC = k2 + u2 \n",
    "eq2 = 0.5*m*v2**2 + m*g*dh - 0.5*m*v1**2 - wf\n",
    "sol = sym.solve(eq2,wf)\n",
    "\n",
    "print('Work done by friction = '+str(sol[0]))\n",
    "print('Thermal energy transferred = '+str(-1.0*sol[0]))"
   ]
  },
  {
   "cell_type": "markdown",
   "metadata": {},
   "source": [
    "<hr style=\"height:2px;border-width:0;color:gray;background-color:gray\">"
   ]
  },
  {
   "cell_type": "markdown",
   "metadata": {},
   "source": [
    "<h2>Problem C6.8</h2>\n",
    "    </header>\n",
    "\n",
    "A block leaves a frictionless inclined surface horizontally after dropping off by a height h. Find the horizontal distance D where it will land on the floor, in terms of h, H, and g.\n",
    "\n",
    "<img src=\"P-C6-fig3.png\" width=\"400\">\n",
    "\n",
    "This problem is from OpenStax. Access for free at [https://openstax.org/books/university-physics-volume-1/pages/8-additional-problems](https://openstax.org/books/university-physics-volume-1/pages/8-additional-problems)"
   ]
  },
  {
   "cell_type": "code",
   "execution_count": 15,
   "metadata": {},
   "outputs": [],
   "source": [
    "# DIY Cell"
   ]
  },
  {
   "cell_type": "markdown",
   "metadata": {},
   "source": [
    "<hr style=\"height:2px;border-width:0;color:gray;background-color:gray\">"
   ]
  },
  {
   "cell_type": "markdown",
   "metadata": {},
   "source": [
    "<h2>Problem C6.9</h2>\n",
    "    </header>\n",
    "\n",
    "A skier starts from rest and slides downhill. What will be the speed of the skier if he drops by 20.0 meters in vertical height? Ignore any air resistance (which will, in reality, be quite a lot), and any friction between the skis and the snow.\n",
    "\n",
    "This problem is a slightly modified version from OpenStax. Access for free at [https://openstax.org/books/university-physics-volume-1/pages/8-additional-problems](https://openstax.org/books/university-physics-volume-1/pages/8-additional-problems)"
   ]
  },
  {
   "cell_type": "code",
   "execution_count": 16,
   "metadata": {},
   "outputs": [],
   "source": [
    "# DIY Cell"
   ]
  },
  {
   "cell_type": "code",
   "execution_count": 17,
   "metadata": {
    "tags": [
     "hide-input",
     "hide-output"
    ]
   },
   "outputs": [
    {
     "name": "stdout",
     "output_type": "stream",
     "text": [
      "Final speed = 19.8090888230630"
     ]
    },
    {
     "name": "stdout",
     "output_type": "stream",
     "text": [
      "\n"
     ]
    }
   ],
   "source": [
    "%reset -f\n",
    "import sympy as sym\n",
    "\n",
    "#values giving\n",
    "v1 = 0.0\n",
    "dh = -20.0\n",
    "g = 9.81\n",
    "\n",
    "#unknown\n",
    "v2 = sym.Symbol('v2')\n",
    "\n",
    "#conservation of energy: k1 + u1 = k2 + u2 \n",
    "eq1 = 0.5*v2**2 + g*dh - 0.5*v1**2 \n",
    "\n",
    "sol = sym.solve(eq1,v2)\n",
    "\n",
    "print('Final speed = '+str(sol[1]))"
   ]
  },
  {
   "cell_type": "markdown",
   "metadata": {},
   "source": [
    "<hr style=\"height:2px;border-width:0;color:gray;background-color:gray\">"
   ]
  },
  {
   "cell_type": "markdown",
   "metadata": {},
   "source": [
    "<h2>Problem C6.10</h2>\n",
    "    </header>\n",
    "\n",
    "Repeat the preceding problem, but this time, suppose that the work done by air resistance cannot be ignored. Let the work done by the air resistance when the skier goes from A to B along the given hilly path be −2000.0 J. The work done by air resistance is negative since the air resistance acts in the opposite direction to the displacement. Supposing the mass of the skier is 50.0 kg, what is the speed of the skier at point B?\n",
    "\n",
    "This problem is a slightly modified version from OpenStax. Access for free at [https://openstax.org/books/university-physics-volume-1/pages/8-additional-problems](https://openstax.org/books/university-physics-volume-1/pages/8-additional-problems)"
   ]
  },
  {
   "cell_type": "code",
   "execution_count": 18,
   "metadata": {},
   "outputs": [],
   "source": [
    "# DIY Cell"
   ]
  },
  {
   "cell_type": "code",
   "execution_count": 19,
   "metadata": {
    "tags": [
     "hide-input",
     "hide-output"
    ]
   },
   "outputs": [
    {
     "name": "stdout",
     "output_type": "stream",
     "text": [
      "Final speed = 17.6748408762286\n"
     ]
    }
   ],
   "source": [
    "%reset -f\n",
    "import sympy as sym\n",
    "\n",
    "#values giving\n",
    "v1 = 0.0\n",
    "dh = -20.0\n",
    "g = 9.81\n",
    "wf = -2000.0\n",
    "m = 50.0\n",
    "\n",
    "#unknown\n",
    "v2 = sym.Symbol('v2')\n",
    "\n",
    "#work-energy: k1 + u1 +w_NC = k2 + u2 \n",
    "eq1 = 0.5*m*v2**2 + m*g*dh - 0.5*m*v1**2 - wf\n",
    "\n",
    "sol = sym.solve(eq1,v2)\n",
    "\n",
    "print('Final speed = '+str(sol[1]))"
   ]
  },
  {
   "cell_type": "markdown",
   "metadata": {},
   "source": [
    "<hr style=\"height:2px;border-width:0;color:gray;background-color:gray\">"
   ]
  },
  {
   "cell_type": "markdown",
   "metadata": {},
   "source": [
    "<h2>Problem C6.11</h2>\n",
    "    </header>\n",
    "\n",
    "In an amusement park, a car rolls in a track as shown below. Find the speed of the car at A, B, and C. Note that the work done by the rolling friction is zero since the displacement of the point at which the rolling friction acts on the tires is momentarily at rest and therefore has a zero displacement. Assume the heights are given to two significant figures.\n",
    "\n",
    "<img src=\"P-C6-fig4.png\" width=\"400\">\n",
    "\n",
    "This problem is a slightly modified version from OpenStax. Access for free at [https://openstax.org/books/university-physics-volume-1/pages/8-additional-problems](https://openstax.org/books/university-physics-volume-1/pages/8-additional-problems)"
   ]
  },
  {
   "cell_type": "code",
   "execution_count": 20,
   "metadata": {},
   "outputs": [],
   "source": [
    "# DIY Cell"
   ]
  },
  {
   "cell_type": "code",
   "execution_count": 21,
   "metadata": {
    "tags": [
     "hide-input",
     "hide-output"
    ]
   },
   "outputs": [
    {
     "name": "stdout",
     "output_type": "stream",
     "text": [
      "Speed at A = 24.2610799429869"
     ]
    },
    {
     "name": "stdout",
     "output_type": "stream",
     "text": [
      "\n",
      "Speed at B = 14.0071410359145\n",
      "Speed at C = 31.3209195267317\n"
     ]
    }
   ],
   "source": [
    "%reset -f\n",
    "import sympy as sym\n",
    "\n",
    "#values giving\n",
    "v1 = 0.0\n",
    "y1 = 50.0\n",
    "yA = 20.0\n",
    "yB = 40.0\n",
    "yC = 0.0\n",
    "g = 9.81\n",
    "\n",
    "#unknown\n",
    "v2 = sym.Symbol('v2')\n",
    "\n",
    "#Point A\n",
    "#work-energy: k1 + u1  = k2 + u2 \n",
    "eq1 = 0.5*v2**2 + g*yA - 0.5*v1**2 - g*y1\n",
    "sol = sym.solve(eq1,v2)\n",
    "print('Speed at A = '+str(sol[1]))\n",
    "\n",
    "#Point B\n",
    "#work-energy: k1 + u1  = k2 + u2 \n",
    "eq2 = 0.5*v2**2 + g*yB - 0.5*v1**2 - g*y1\n",
    "sol = sym.solve(eq2,v2)\n",
    "print('Speed at B = '+str(sol[1]))\n",
    "\n",
    "#Point C\n",
    "#work-energy: k1 + u1  = k2 + u2 \n",
    "eq3 = 0.5*v2**2 + g*yC - 0.5*v1**2 - g*y1\n",
    "sol = sym.solve(eq3,v2)\n",
    "print('Speed at C = '+str(sol[1]))"
   ]
  },
  {
   "cell_type": "markdown",
   "metadata": {},
   "source": [
    "<hr style=\"height:2px;border-width:0;color:gray;background-color:gray\">"
   ]
  },
  {
   "cell_type": "markdown",
   "metadata": {},
   "source": [
    "<h2>Problem C6.12</h2>\n",
    "    </header>\n",
    "\n",
    "A 200.0 g steel ball is tied to a 2.00 m “massless” string and hung from the ceiling to make a pendulum, and then, the ball is brought to a position making a 30.0$^\\circ$ angle with the vertical direction and released from rest. Ignoring the effects of the air resistance, find the speed of the ball when the string \n",
    "1. is vertically down.\n",
    "2. makes an angle of 20.0$^\\circ$ with the vertical. \n",
    "3. makes an angle of 10.0$^\\circ$ with the vertical.\n",
    "\n",
    "This problem is a slightly modified version from OpenStax. Access for free at [https://openstax.org/books/university-physics-volume-1/pages/8-additional-problems](https://openstax.org/books/university-physics-volume-1/pages/8-additional-problems)"
   ]
  },
  {
   "cell_type": "code",
   "execution_count": 22,
   "metadata": {},
   "outputs": [],
   "source": [
    "# DIY Cell"
   ]
  },
  {
   "cell_type": "code",
   "execution_count": 23,
   "metadata": {
    "tags": [
     "hide-input",
     "hide-output"
    ]
   },
   "outputs": [
    {
     "name": "stdout",
     "output_type": "stream",
     "text": [
      "Speed  = 2.29285044333437\n"
     ]
    },
    {
     "name": "stdout",
     "output_type": "stream",
     "text": [
      "Speed  = 1.70020633898879\n",
      "Speed  = 2.15893941177090\n"
     ]
    }
   ],
   "source": [
    "%reset -f\n",
    "import sympy as sym\n",
    "import numpy as np\n",
    "\n",
    "#given parameters\n",
    "v1 = 0.0\n",
    "m = 0.200  #in kg, but is not needed for the problem\n",
    "l = 2.00\n",
    "h1 = 2.00 - 2.00*np.cos(30.0*np.pi/180.0)  #launch height above bottom...so bottom is h = 0\n",
    "g = 9.81\n",
    "\n",
    "#Part 1\n",
    "h2 = 0.0\n",
    "\n",
    "#unknown\n",
    "v2 = sym.Symbol('v2')\n",
    "\n",
    "#work-energy: k1 + u1 = k2 + u2 \n",
    "eq1 = 0.5*v2**2 + g*h2 - 0.5*v1**2 - g*h1\n",
    "sol = sym.solve(eq1,v2)\n",
    "print('Speed  = '+str(sol[1]))\n",
    "\n",
    "#Part 2\n",
    "h2 = 2.00 - 2.00*np.cos(20.0*np.pi/180.0)\n",
    "\n",
    "#unknown\n",
    "v2 = sym.Symbol('v2')\n",
    "\n",
    "#work-energy: k1 + u1 = k2 + u2 \n",
    "eq2 = 0.5*v2**2 + g*h2 - 0.5*v1**2 - g*h1\n",
    "sol = sym.solve(eq2,v2)\n",
    "print('Speed  = '+str(sol[1]))\n",
    "\n",
    "#Part 3\n",
    "h2 = 2.00 - 2.00*np.cos(10.0*np.pi/180.0)\n",
    "\n",
    "#unknown\n",
    "v2 = sym.Symbol('v2')\n",
    "\n",
    "#work-energy: k1 + u1 = k2 + u2 \n",
    "eq3 = 0.5*v2**2 + g*h2 - 0.5*v1**2 - g*h1\n",
    "sol = sym.solve(eq3,v2)\n",
    "print('Speed  = '+str(sol[1]))"
   ]
  },
  {
   "cell_type": "markdown",
   "metadata": {},
   "source": [
    "<hr style=\"height:2px;border-width:0;color:gray;background-color:gray\">"
   ]
  },
  {
   "cell_type": "markdown",
   "metadata": {},
   "source": [
    "<h2>Problem C6.13</h2>\n",
    "    </header>\n",
    "\n",
    "Consider a horiontal and frictionless surface. Block A has a mass of 0.25 kg and is moving with a velocity of +12 m/s when it hits block B. Block is at rest and has a mass of 0.125 kg. After the collision, the two blocks are stuck together. Shortly after the collision, the blocks encounter a $5.00^\\circ$ incline surface with a coefficient of friction of 0.35. \n",
    "\n",
    "1. Use conservation of momentum to find the combined velocity after the collision.\n",
    "2. What is the normal force of the combined block system on the incline surface?\n",
    "3. What is the frictional force on the combined block system on the incline surface?\n",
    "4. What is the mechanical energy at the bottom of the incline?\n",
    "5. How high (vertical distance) up the incline do they travel before coming to a stop?"
   ]
  },
  {
   "cell_type": "code",
   "execution_count": 24,
   "metadata": {},
   "outputs": [],
   "source": [
    "# DIY Cell"
   ]
  },
  {
   "cell_type": "code",
   "execution_count": 25,
   "metadata": {
    "tags": [
     "hide-input",
     "hide-output"
    ]
   },
   "outputs": [
    {
     "name": "stdout",
     "output_type": "stream",
     "text": [
      "Final velocity  = 8.00000000000000\n",
      "Normal force  = 3.664751245605009\n",
      "Frictional force  = -1.2826629359617532\n",
      "Mechanical energy  = 12.0000000000000\n",
      "Final height = 0.652327893692958\n"
     ]
    }
   ],
   "source": [
    "%reset -f\n",
    "import sympy as sym\n",
    "import numpy as np\n",
    "\n",
    "#-----------------------\n",
    "# Part 1\n",
    "#-----------------------\n",
    "# Conservation of momentum: stick together after collision\n",
    "# m1*v1i + m2*v2i = (m1 + m2)*vf\n",
    "\n",
    "m1 = 0.25\n",
    "v1i = 12.0\n",
    "m2 = 0.125\n",
    "v2i = 0.0\n",
    "\n",
    "# unknown\n",
    "vf = sym.Symbol('vf')\n",
    "\n",
    "eq1 = (m1 + m2)*vf - m1*v1i - m2*v2i\n",
    "sol = sym.solve(eq1,vf)\n",
    "vf = sol[0]\n",
    "print('Final velocity  = '+str(vf))\n",
    "\n",
    "#-----------------------\n",
    "# Part 2\n",
    "#-----------------------\n",
    "# Use free-body-diagram to determine normal force:\n",
    "m = m1 + m2\n",
    "g = 9.81\n",
    "angle = 5.00*np.pi/180.0\n",
    "\n",
    "fg = m*g\n",
    "fn = fg*np.cos(angle)\n",
    "\n",
    "print('Normal force  = '+str(fn))\n",
    "\n",
    "#-----------------------\n",
    "# Part 3\n",
    "#-----------------------\n",
    "# friction force relate to normal force: ff = mu*fn\n",
    "mu = 0.35\n",
    "ff = -mu*fn  #negative as if positive up along the incline\n",
    "\n",
    "print('Frictional force  = '+str(ff))\n",
    "\n",
    "#-----------------------\n",
    "# Part 4\n",
    "#-----------------------\n",
    "# let h1 = 0 be at the bottom of the incline plane:\n",
    "# e1 = k1 + u1\n",
    "h1 = 0.0\n",
    "e1 = 0.5*m*vf**2 + m*g*h1\n",
    "\n",
    "print('Mechanical energy  = '+str(e1))\n",
    "\n",
    "#-----------------------\n",
    "# Part 5\n",
    "#-----------------------\n",
    "# work-energy theorem\n",
    "# k1 + u1 + wnc = k2 + u2 : wnc = work done by non-conservative forces\n",
    "# k2 = 0 as it comes to a stop. u1 = 0 since h1 = 0. wnc = work done by friction\n",
    "# unknown\n",
    "dx = sym.Symbol('dx')\n",
    "h2 = sym.Symbol('h2')\n",
    "\n",
    "#relate distance up incline to height\n",
    "# h2 = dx*sin(theta)\n",
    "eq2 = h2 - dx*np.sin(angle)\n",
    "eq3 = m*g*h2 - ff*dx - 0.5*m*vf**2\n",
    "sol = sym.solve((eq2,eq3),dx,h2)\n",
    "print('Final height = '+str(sol[h2]))"
   ]
  },
  {
   "cell_type": "markdown",
   "metadata": {},
   "source": [
    "<hr style=\"height:2px;border-width:0;color:gray;background-color:gray\">"
   ]
  }
 ],
 "metadata": {
  "celltoolbar": "Tags",
  "kernelspec": {
   "display_name": "Python 3 (ipykernel)",
   "language": "python",
   "name": "python3"
  },
  "language_info": {
   "codemirror_mode": {
    "name": "ipython",
    "version": 3
   },
   "file_extension": ".py",
   "mimetype": "text/x-python",
   "name": "python",
   "nbconvert_exporter": "python",
   "pygments_lexer": "ipython3",
   "version": "3.10.9"
  }
 },
 "nbformat": 4,
 "nbformat_minor": 4
}