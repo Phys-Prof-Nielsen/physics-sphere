{
 "cells": [
  {
   "cell_type": "markdown",
   "metadata": {},
   "source": [
    "# C6.4 Conservation of Energy\n",
    "<hr style=\"height:2px;border-width:0;color:gray;background-color:gray\">"
   ]
  },
  {
   "cell_type": "markdown",
   "metadata": {},
   "source": [
    "## C6.4.1 Brief Comment\n",
    "\n",
    "For now by conservation of energy, we mean conservation of **mechanical energy**. There are work associated with temperature differences known as heat and the first law of thermodynamics is the actual conservation of energy concept.\n",
    "\n",
    "<hr style=\"height:2px;border-width:0;color:gray;background-color:gray\">"
   ]
  },
  {
   "cell_type": "markdown",
   "metadata": {},
   "source": [
    "## C6.4.2 Work-Energy Theorem\n",
    "\n",
    "The work-energy theorem states that the net work done on a particle will cause a change in the particle's kinetic energy:\n",
    "\n",
    "$$ w_{net} = \\Delta k$$\n",
    "\n",
    "The net work can be broken into work done by **conservative** and **non-conservative** forces:\n",
    "\n",
    "$$ w_{C} + w_{NC} = \\Delta k $$\n",
    "\n",
    "\n",
    "The work by conservative forces can be expressed in terms of their associated **potential energy** functions:\n",
    "\n",
    "$$ -\\Delta u + w_{NC} = \\Delta k $$\n",
    "\n",
    "Collect the energy terms on the right side of the equation:\n",
    "\n",
    "$$ w_{NC} = \\Delta k + \\Delta u $$\n",
    "\n",
    "The sum of differences is the same as the difference of the sum:\n",
    "\n",
    "$$ w_{NC} = \\Delta (k + u) $$\n",
    "\n",
    "We now define the **mechanical energy** $e$ as the sum of the kinetic and potential energies:\n",
    "\n",
    "<div class=\"alert alert-success\">\n",
    "    \n",
    "$$ w_{NC} = \\Delta e \\tag{1}$$\n",
    "</div>\n",
    "\n",
    "This is another version of the conceptual work-energy equation and it has some deep insight to it:\n",
    "\n",
    "<div class=\"alert alert-success\">\n",
    "    \n",
    "<ol>\n",
    "    <li>Only non-conservative forces can change the mechanical energy of a particle.</li>\n",
    "    <li>That implies that conservative forces plays the role of transferring energy from one form to another for the particle without changing the mechanical energy of the particle.</li>\n",
    "    </ol>\n",
    "</div>\n",
    "\n",
    "We note that the work done by non-conservative forces must be calculated through the work definition:\n",
    "\n",
    "$$ w_{NC} = \\vec{f}_{NC}\\cdot\\Delta\\vec{r} $$\n",
    "\n",
    "Equation (1) is a great expression for the conceptual understanding. However, for practical purposes we can write it is\n",
    "\n",
    "$$ e_1 + w_{NC} = e_2 $$\n",
    "\n",
    "This tells us that the particles initial energy and whatever energy is transferred to or from it will equal the final energy. Writing out the kinetica and gravitational potential energyes (remember, for now we only have gravitational potential energy):\n",
    "\n",
    "<div class=\"alert alert-success\">\n",
    "    \n",
    "$$ \\frac{1}{2}mv_{1}^2 + mgh_1 + w_{NC} = \\frac{1}{2}mv_{2}^2 + mgh_2 \\tag{2}$$\n",
    "</div>\n",
    "\n",
    "This equation is our work horse for using the mechanical energy equation.\n",
    "\n",
    "<hr style=\"height:2px;border-width:0;color:gray;background-color:gray\">"
   ]
  },
  {
   "cell_type": "markdown",
   "metadata": {},
   "source": [
    "## C6.4.3 Conservation of Energy\n",
    "\n",
    "While the work-energy equation above (Equation 1), accounts for all the energy transfer, conservation of energy usually imply that there is **no net energy transfer to or from the particle**, which implies that there cannot be any net non-conservative work done:\n",
    "\n",
    "$$ w_{NC} = 0 $$\n",
    "\n",
    "and the **mechanical energy is conserved**:\n",
    "\n",
    "$$ \\Delta e = 0 $$\n",
    "\n",
    "For practical purposes, this implies that we have\n",
    "    \n",
    "$$ \\Delta (k + u)_1 = \\Delta (k + u)_2 $$\n",
    "\n",
    "\n",
    "If the only conservative force acting on the particle is gravity, we the working equation (Equation 2 from above) reduces to:\n",
    "    \n",
    "$$ \\frac{1}{2}mv_{1}^2 + mgh_1 = \\frac{1}{2}mv_{2}^2 + mgh_2 $$\n",
    "\n",
    "Diving the mass out:\n",
    "\n",
    "<div class=\"alert alert-success\">\n",
    "    \n",
    "$$ \\frac{1}{2}v_{1}^2 + gh_1 = \\frac{1}{2}v_{2}^2 + gh_2 $$\n",
    "</div>\n",
    "   \n",
    "\n",
    "\n",
    "<hr style=\"height:2px;border-width:0;color:gray;background-color:gray\">"
   ]
  }
 ],
 "metadata": {
  "celltoolbar": "Tags",
  "kernelspec": {
   "display_name": "Python 3 (ipykernel)",
   "language": "python",
   "name": "python3"
  },
  "language_info": {
   "codemirror_mode": {
    "name": "ipython",
    "version": 3
   },
   "file_extension": ".py",
   "mimetype": "text/x-python",
   "name": "python",
   "nbconvert_exporter": "python",
   "pygments_lexer": "ipython3",
   "version": "3.9.12"
  }
 },
 "nbformat": 4,
 "nbformat_minor": 4
}
