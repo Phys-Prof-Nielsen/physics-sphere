{
 "cells": [
  {
   "cell_type": "markdown",
   "metadata": {},
   "source": [
    "# Work-Energy Theorem: Point Particle\n",
    "<hr style=\"height:2px\">"
   ]
  },
  {
   "cell_type": "markdown",
   "metadata": {},
   "source": [
    "## 1. Review Concept\n",
    "Together with the <b>Impulse-Momentum Theorem</b>, the <b>Work-Energy Theorem</b> are the cornerstones of physics. While the former is identical to Newton's second law, the later can be derived from Newton's second law. From a conceptual point of view, it is preferable to distinguish the two from Newton's law.\n",
    "\n",
    "Before we move on, let us review the Impulse-Momentum Theorem (it never hurts to repeat important stuff):\n",
    "\n",
    "<div class=\"alert alert-success\">\n",
    "$$ f_{{net}_x}\\Delta t = \\Delta p_x \\tag{1}$$\n",
    "</div>\n",
    "\n",
    "where the impulse is \n",
    "\n",
    "<div class=\"alert alert-success\">\n",
    "$$ f_{{net}_x}\\Delta t = j_x \\tag{2}$$\n",
    "</div>\n",
    "\n",
    "With that, we can simply write the Impulse-Momentum Theorem as\n",
    "<div class=\"alert alert-success\">\n",
    "$$ j_x = \\Delta p_x \\tag{3}$$\n",
    "</div>\n",
    "\n",
    "In words: \n",
    "<div class=\"alert alert-success\">\n",
    "A force acting on an object throughout a time interval will change the momentum (or the motion) of the object. <b>The force is causing impulse, which is momentum transfer from one system to another (or within a system). </b>\n",
    "</div>\n",
    "\n",
    "<hr style=\"height:2px\">"
   ]
  },
  {
   "cell_type": "markdown",
   "metadata": {},
   "source": [
    "## 2. Work-Energy Theorem\n",
    "Now let us define the Work-Energy Theorem and pay close attention to the similarities to the Impulse-Momentum Theorem.\n",
    "\n",
    "We define the Work-Energy Theorem as\n",
    "\n",
    "<div class=\"alert alert-success\">\n",
    "$$ f_{{net}_x}\\Delta x = \\Delta k \\tag{4}$$\n",
    "</div>\n",
    "\n",
    "where the work is \n",
    "\n",
    "<div class=\"alert alert-success\">\n",
    "$$ f_{{net}_x}\\Delta x = w \\tag{5}$$\n",
    "</div>\n",
    "\n",
    "With that, we can simply write the Work-Energy Theorem as\n",
    "<div class=\"alert alert-success\">\n",
    "$$ w = \\Delta k \\tag{3}$$\n",
    "</div>\n",
    "\n",
    "In words: \n",
    "<div class=\"alert alert-success\">\n",
    "A force acting on an object throughout a directed distance will change the kinetic energy of the object. <b>The force is doing work, which is energy transfer from one system to another (or within a system). </b>\n",
    "</div>\n",
    "\n",
    "\n",
    "<hr style=\"height:2px\">"
   ]
  },
  {
   "cell_type": "markdown",
   "metadata": {},
   "source": [
    "### Example 1\n",
    "A 2.0-kg box initially at rest is being pushed across the floor by a pushing force of 25 N. There is a frictional force of 5.0 N. After the box has been pushed a distance of 12 m, how fast is it moving?? \n",
    "\n",
    "#### Solution\n",
    "If we let the pushing force act in the $+x$-direction, then the net force is $f_{{net}_x} = (+25) + (-5.0) = +20$ N and the work is\n",
    "\n",
    "$$ w = f_{{net}_x}\\Delta x = (+20)(12) = +240~\\textrm{Nm}$$\n",
    "\n",
    "Since the work is energy transfer, the kinetic energy of the box increased by 240 J. We then have:\n",
    "\n",
    "$$k_f = k_i + \\Delta k = (0) + 240 = 240~\\textrm{J}$$\n",
    "\n",
    "Since $k_f = \\frac{1}{2}mv^{2}_{f}$, we can solve for the final speed to obtain:\n",
    "\n",
    "$$v_f = \\sqrt{\\frac{2k_f}{m}} = \\sqrt{\\frac{(2)(240)}{(2)}} = 15~\\textrm{m/s} $$\n",
    "\n",
    "<hr style=\"height:2px\">"
   ]
  },
  {
   "cell_type": "code",
   "execution_count": 1,
   "metadata": {},
   "outputs": [
    {
     "name": "stdout",
     "output_type": "stream",
     "text": [
      "15.491933384829668\n"
     ]
    }
   ],
   "source": [
    "import numpy as np\n",
    "v = np.sqrt((2)*(240)/(2))\n",
    "print(v)"
   ]
  },
  {
   "cell_type": "markdown",
   "metadata": {},
   "source": [
    "<div class=\"alert alert-warning\">\n",
    "<b>Box 1</b><br>\n",
    "A 1.5-kg box is being pushed across a horizontal floor. At some location, the person pushing the box stops pushing. At that instant the box is moving with a speed of 4.0 m/s. After traveling 3.0 m further, the box comes to a stop. What is the frictional force that causes the box to stop?   \n",
    "</div>\n",
    "\n",
    "<hr style=\"height:2px\">"
   ]
  }
 ],
 "metadata": {
  "kernelspec": {
   "display_name": "Python 3 (ipykernel)",
   "language": "python",
   "name": "python3"
  },
  "language_info": {
   "codemirror_mode": {
    "name": "ipython",
    "version": 3
   },
   "file_extension": ".py",
   "mimetype": "text/x-python",
   "name": "python",
   "nbconvert_exporter": "python",
   "pygments_lexer": "ipython3",
   "version": "3.10.9"
  }
 },
 "nbformat": 4,
 "nbformat_minor": 4
}