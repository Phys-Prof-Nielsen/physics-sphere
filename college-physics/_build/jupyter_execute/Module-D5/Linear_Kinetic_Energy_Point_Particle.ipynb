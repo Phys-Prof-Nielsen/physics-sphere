{
 "cells": [
  {
   "cell_type": "markdown",
   "metadata": {},
   "source": [
    "# Linear Kinetic Energy: Point Particle\n",
    "<hr style=\"height:2px\">"
   ]
  },
  {
   "cell_type": "markdown",
   "metadata": {},
   "source": [
    "## 1. Concept of Energy\n",
    "Before we get to kinetic energy, let us establish what energy is. In its most basic conceptual definition\n",
    "<div class=\"alert alert-success\">\n",
    "energy is the ability to do work.\n",
    "    </div>\n",
    "    \n",
    "Some examples simple examples are\n",
    "<li>Sliding across a hardwood gym floor. <b>Energy of motion</b> (kinetic) is being converted into heat, and it increases the temperature of the floor and skin resulting in a burn mark.</li>\n",
    "<li>The wind hitting a blade on a wind turbine is changing the <b>energy of motion</b> (kinetic) of the wind to <b>energy of motion</b> of the blade, which is then converted into electrical energy by the turbine. </li>\n",
    "<li>In a reservoir, water level is raised to a higher elevation compared to a turbine. The <b>energy of position</b> (potential) is then transferred into <b>energy of motion</b> by gravity, and then turned into electrical energy by a turbine.</li>\n",
    "\n",
    "Kinetic energy is by far the simplest energy to calculate, while potential energy can become very complex. In Phases C adn B we will see two simple examples of potential energy: gravitational and spring. Here in Phase D, we will only concern ourselves about kinetic energy.\n",
    "        \n",
    "<hr style=\"height:2px\">"
   ]
  },
  {
   "cell_type": "markdown",
   "metadata": {},
   "source": [
    "## 2. Linear Kinetic Energy: Energy of Motion\n",
    "Any object that is in motion possesses the ability to do work through its non-zero kinetic energy.\n",
    "\n",
    "We define the <b>linear kinetic energy</b> stored in a point particle as\n",
    "\n",
    "<div class=\"alert alert-success\">\n",
    "$$ k = \\frac{1}{2}mv^2 \\tag{1}$$\n",
    "</div>\n",
    "\n",
    "where $v$ is the <b>speed</b> of the particle. In Phase C, we will see how we can write the kinetic energy in terms of the <b>velocity</b> of the particle.\n",
    "\n",
    "We observe a few key points:\n",
    "<li>kinetic energy is always positive.</li>\n",
    "<li>if two observers are moving relative to each other in inertial reference frames (non-accelerating), then they will observe different values of kinetic energy, suggesting that kinetic energy in itself is not important but instead the change may be (similar to momentum).</li>\n",
    "<li>kinetic energy is linear in mass but non-linear in speed: double the mass --> double the kinetic energy; double the speed --> quadruple the kinetic energy. The later is responsible for the 4x breaking distance of we double our speed in a car.</li>\n",
    "<li>Unit of energy is kgm$^2$/s$^2$, which we define as a Joule (J).</li>\n",
    "\n",
    "\n",
    "<hr style=\"height:2px\">"
   ]
  },
  {
   "cell_type": "markdown",
   "metadata": {},
   "source": [
    "### Example 1\n",
    "\n",
    "A 798 kg Haas F1 race car is capable of a top speed around 220 mph during race on straight segments. How much kinetic energy does the car have at that instant?\n",
    "\n",
    "<img src=\"fig-D6.1.jpg\" width=\"400\">\n",
    "\n",
    "#### Solution\n",
    "First, we need to convert the speed into SI units (see script below): 220 mph = 98 m/s.\n",
    "\n",
    "The kinetic energy is then:\n",
    "\n",
    "$$ k = \\frac{1}{2}mv^2 = (0.5)(798)(98)^2 = 3.8\\times 10^6~\\textrm{J} $$\n",
    "\n",
    "<hr style=\"height:2px\">"
   ]
  },
  {
   "cell_type": "code",
   "execution_count": 1,
   "metadata": {},
   "outputs": [
    {
     "name": "stdout",
     "output_type": "stream",
     "text": [
      "98.34855555555555\n",
      "3831996.0\n"
     ]
    }
   ],
   "source": [
    "#convert from mph (miles/hour) to m/s (meter/second):\n",
    "x = (220)*(1./3600)*(1609.34/1.)\n",
    "print(x)\n",
    "\n",
    "k = (0.5)*(798)*(98)**2\n",
    "print(k)"
   ]
  },
  {
   "cell_type": "markdown",
   "metadata": {},
   "source": [
    "<div class=\"alert alert-warning\">\n",
    "<b>Box 1: Relate Kinetic Energy and Momemtum</b><br>\n",
    "Since kinetic energy is energy of motion and motion is momemtum, it would be natural to think that the two can be related to each other in terms of an equation. Using $k = \\frac{1}{2}mv^2$ and $p = mv$, derive an equation that expresses $k$ in terms of $p$ and $m$.\n",
    "</div>\n",
    "\n",
    "<hr style=\"height:2px\">"
   ]
  }
 ],
 "metadata": {
  "kernelspec": {
   "display_name": "Python 3 (ipykernel)",
   "language": "python",
   "name": "python3"
  },
  "language_info": {
   "codemirror_mode": {
    "name": "ipython",
    "version": 3
   },
   "file_extension": ".py",
   "mimetype": "text/x-python",
   "name": "python",
   "nbconvert_exporter": "python",
   "pygments_lexer": "ipython3",
   "version": "3.10.9"
  }
 },
 "nbformat": 4,
 "nbformat_minor": 4
}