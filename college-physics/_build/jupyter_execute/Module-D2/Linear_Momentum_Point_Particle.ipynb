{
 "cells": [
  {
   "cell_type": "markdown",
   "metadata": {},
   "source": [
    "# Linear Momentum: Point Particle\n",
    "<hr style=\"height:2px;border-width:0;color:gray;background-color:gray\">"
   ]
  },
  {
   "cell_type": "markdown",
   "metadata": {},
   "source": [
    "We are often using the term <b>motion</b> in daily language, and we seem rather unbothered by the fact that we really don't know what it means. I often ask the class the following question:\n",
    "\n",
    "<i>Which of the following has more motion? A sedan traveling at 70 mph or a semi-truck traveling at 70 mph?</i>\n",
    "\n",
    "The majority of students will answer incorrectly that they have the same motion since they are traveling at the same speed. We equate motion to speed, but that is not correct from a physics point of view.\n",
    "\n",
    "The exact definition of motion comes from Newton's vision of how objects interact. He showed through demonstrations that in order to change the motion of an object, an <b>unbalanced force</b> had to be applied to that object. \n",
    "\n",
    "Now consider Newton's formulation of motion applied to this scenario: \n",
    "\n",
    "<i>A sedan and a semi-truck are both traveling at 70 mph. Which one requires a greater interaction to come to a complete stop?</i>\n",
    "\n",
    "Without having to put much thought into this, everybody will naturally say the semi-truck requires greater interaction. <b>This should leave us to conclude that the more massive object of the two has more motion than the object with less mass. Hence, motion of the object depends not only on how fast it moves, but also its mass.</b>\n",
    "\n",
    "<hr style=\"height:2px;border-width:0;color:gray;background-color:gray\">"
   ]
  },
  {
   "cell_type": "markdown",
   "metadata": {},
   "source": [
    "## 2. Reference Frame\n",
    "From our encounter with momentum, we used the example of a sedan vs. a semi-truck to argue our case that motion was more than just speed, but also depended on the mass of the moving object: \n",
    "\n",
    "<i>A sedan and a semi-truck are both traveling at 70 mph. Which one requires a greater interaction to come to a complete stop?</i>\n",
    "\n",
    "Let us take it one step further now. Imagine a sail boat moving across Utah Lake with a certain speed (or momentum). There is an interaction on the sail boat due to strong winds and the change in momentum will depend on the <b>directions</b> of  both the sail boat and the wind: a tail wind will speed up the sail boat and increase its momentum, while a headwind will reduce its speed and its momentum. \n",
    "\n",
    "This example tells us that in order to say something about momentum, we will also need to know something about the direction of travel of the object. For those of you who are already familiar with vectors, you will recognize that momentum is indeed a vector. We will introduce the concept of a vector in Phase C. Until now the magnitude of momentum depends on mass and speed, however, mass is not associated with direction. Speed is not associated with a direction either (think of a speedometer in car, it does not say anything about direction of travel). We can attach a direction to the speed and that gives us a new quantity: <b>velocity</b>. \n",
    "\n",
    "<div class=\"alert alert-success\">\n",
    "    Velocity is describing <b>how fast</b> an object is traveling in a given <b>direction</b>: speed + direction.\n",
    "    </div>\n",
    "\n",
    "For us to be able to specify a direction that is useful in physics and mathematics languages, we need to introduce a <b>reference frame</b> or <b>coordinate system</b>. In physics, we encounter both simple and advanced coordinate systems, and in this course we will apply two systems: <b>cartesian system</b> and <b>polar system</b>. In Phase D, we will only use 1D Cartesian system, while the 2D and 3D Cartesian system will be utilized in Phase C. Polar system will be introduced in Phase A. \n",
    "\n",
    "While the reference frame provides us with a sense of direction, it also provides a reference point of which we can relate certain measurements. This reference point is the <b>origin</b> of the reference system.\n",
    "\n",
    "While we may think of these reference frames being simple, they are indeed more complex than we may think and relates to the algebra they are formulated in. Fortunately, we do not have to worry about that in this course. I suggest you read the wikipedia page on [Cartesian Coordinate System](https://en.wikipedia.org/wiki/Cartesian_coordinate_system)\n",
    "\n",
    "<hr style=\"height:2px;border-width:0;color:gray;background-color:gray\">"
   ]
  },
  {
   "cell_type": "markdown",
   "metadata": {},
   "source": [
    "## 3. 1D Cartesian System\n",
    "\n",
    "The 1D cartesian system is represented just like a number line in elementary school. The difference here is that the positive and negative numbers now represents a sense of direction to us. For example, in the sketch below, positive numbers will represent parameters that directed to the right, whereas negative numbers indicate parameters directed to the left. \n",
    "\n",
    "<img src=\"fig2.png\"  width=\"600\"/>\n",
    "\n",
    "The 1D system could also be directed in the vertical direction on the page (or screen), and we then often label it $y$ or $z$ instead of $x$.\n",
    "\n",
    "<hr style=\"height:2px;border-width:0;color:gray;background-color:gray\">"
   ]
  },
  {
   "cell_type": "markdown",
   "metadata": {},
   "source": [
    "## 4. Momentum \n",
    "Based on our sedan vs. semi-truck, we could reason to define momentum (without a sense of direction) as\n",
    "\n",
    "$$ p = mv \\tag{1}$$\n",
    "\n",
    "where $m$ is the mass of the particle and $v$ is its speed. However, we argued with the sail boat example that momemtum must be associated with a direction as well. For 1D motion, we will now be more specific to indicate the direction of momentum (or motion) by using a subscript:\n",
    "\n",
    "<div class=\"alert alert-success\">  \n",
    "    <b>Linear Momentum for a Point Particle</b>\n",
    "    \n",
    "$$p_x = mv_x \\tag{2}$$\n",
    "</div>\n",
    "\n",
    "The measure of momentum without direction (Equation 1) is referred to as the <b>magnitude</b> of the momentum.\n",
    "\n",
    "Now we are ready to explore that in 1D motion.\n",
    "<hr style=\"height:1px;border-width:0;color:gray;background-color:gray\">"
   ]
  },
  {
   "cell_type": "markdown",
   "metadata": {},
   "source": [
    "### Example 1\n",
    "\n",
    "<b>Problem</b>: A Subaru Outback (a particle) has a mass of 1648 kg and is traveling in the $+x$ direction with a speed of 32 m/s. What is the momentum of the Subaru?\n",
    "\n",
    "<b>Methodology</b> We are given the mass, the speed, and the direction of the vehicle. The combination of speed and direction allows us to determine the velocity of the vehicle. With that information we can calculate the momentum of the Subaru simply by <i>plug and chuck</i> approach.\n",
    "\n",
    "<b>Solution</b>\n",
    "The magnitude of the momentum is \n",
    "\n",
    "$$ p = mv = (1648)(32) = 5.3\\times 10^4~\\textrm{kgm/s} $$\n",
    "\n",
    "The Subaru is traveling in the <b>positive</b> direction, and its momentum must therefore be signed as positive:\n",
    "\n",
    "$$ p_x = +5.3\\times 10^4~\\textrm{kgm/s} $$\n",
    "\n",
    "<b>Answer</b>\n",
    "\\begin{align*}\n",
    "\\require{color}\n",
    "\\colorbox{lightgreen}{\\(p_x = +5.3\\times 10^4~\\textrm{kgm/s}\\)}\n",
    "\\end{align*} \n",
    "<hr style=\"height:1px;border-width:0;color:gray;background-color:gray\">"
   ]
  },
  {
   "cell_type": "markdown",
   "metadata": {},
   "source": [
    "### Example 2\n",
    "<b>Problem</b>: A Subaru Outback (a particle) has a mass of 1648 kg and is traveling in the $-x$ direction with a speed of 32 m/s. What is the momentum of the Subaru?\n",
    "\n",
    "<b>Methodology</b> We are given the mass, the speed, and the direction of the vehicle. The combination of speed and direction allows us to determine the velocity of the vehicle. With that information we can calculate the momentum of the Subaru simply by <i>plug and chuck</i> approach.\n",
    "\n",
    "<b>Solution</b>\n",
    "The magnitude of the momentum is the same as in Example 1 since a magnitude does not carry direction: \n",
    "\n",
    "$$ p = mv = (1648)(32) = 5.3\\times 10^4~\\textrm{kgm/s} $$\n",
    "\n",
    "However, the momentum <b>does</b> carry direction and since the object travels in the established <b>negative</b> direction with a <b>velocity</b> of $v_x = -32$ m/s, the momentum is therefore\n",
    "\n",
    "$$ p_x = mv_x = (1648)(-32) = -5.3\\times 10^4~\\textrm{kgm/s} $$\n",
    "\n",
    "<b>Answer</b>\n",
    "\\begin{align*}\n",
    "\\require{color}\n",
    "\\colorbox{lightgreen}{\\(p_x = -5.3\\times 10^4~\\textrm{kgm/s}\\)}\n",
    "\\end{align*} \n",
    "<hr style=\"height:2px;border-width:0;color:gray;background-color:gray\">"
   ]
  }
 ],
 "metadata": {
  "kernelspec": {
   "display_name": "Python 3 (ipykernel)",
   "language": "python",
   "name": "python3"
  },
  "language_info": {
   "codemirror_mode": {
    "name": "ipython",
    "version": 3
   },
   "file_extension": ".py",
   "mimetype": "text/x-python",
   "name": "python",
   "nbconvert_exporter": "python",
   "pygments_lexer": "ipython3",
   "version": "3.10.9"
  }
 },
 "nbformat": 4,
 "nbformat_minor": 4
}