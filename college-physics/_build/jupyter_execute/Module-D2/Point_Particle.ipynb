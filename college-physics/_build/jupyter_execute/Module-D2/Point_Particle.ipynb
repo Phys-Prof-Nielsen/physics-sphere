{
 "cells": [
  {
   "cell_type": "markdown",
   "metadata": {},
   "source": [
    "# D2.1 Point Particle\n",
    "<hr style=\"height:2px;border-width:0;color:gray;background-color:gray\">"
   ]
  },
  {
   "cell_type": "markdown",
   "metadata": {},
   "source": [
    "## D2.1.1 Definition\n",
    "\n",
    "The core concepts of Newtonian physics are often listed as being forces and energy. Forces detail interactions between objects or systems, while energy details the state of an object or a system, and both can become quite complicated depending on the interaction(s),object(s), and/or system(s). To gain some basic understanding of the concepts and develop foundation skills, we employ the concept of a <b>point particle</b>.\n",
    "\n",
    "A point particle is a <b>hypothetical object</b> in the physics world that is useful for introducing the concepts used in Newtonian mechanics. The characteristics of a point particle are:\n",
    "<br>\n",
    "<ul>\n",
    "    <li>It has mass (we will discuss later what mass is).</li>\n",
    "    <li>Its size and shape plays no role in the context of the dynamics of the particle.</li><br>\n",
    "</ul>        \n",
    "The later is often formulated as <b>it has no spatial extension</b>, which I think is a disservice to students. I prefer the former charateristic as it allows us to consider well-known object as point particles as long as their size/shape does not influence the dynamics of object/system. For example, we may treat a car or a basketball as point objects as long as the dynamics we are considering are independent of the size/shape. \n",
    "\n",
    "<a href=\"https://en.wikipedia.org/wiki/Point_particle#:~:text=A%20point%20particle%20(ideal%20particle,does%20not%20take%20up%20space)\">Wikipedia has a nice short page on the point particle</a>\n",
    "\n",
    "<hr style=\"height:2px;border-width:0;color:gray;background-color:gray\">"
   ]
  },
  {
   "cell_type": "markdown",
   "metadata": {},
   "source": [
    "## D2.1.2 Point Mass\n",
    "\n",
    "### About Mass\n",
    "Mass is one of the fundamental concepts in physics that we all feel like we have a good understanding of, yet surprisingly, also one of the concepts we know very little about. The concept of mass reveals itself through various definitions depending on the physical approach:\n",
    "\n",
    "1. A measure of resistance to change in <b>linear motion</b> (Newtonian definition of <b>inertial mass</b>).\n",
    "2. A measure of amount of matter (also used as the chemistry approach).\n",
    "3. Energy and mass equivalence in general relativity where mass and energy dictates how space-time curves.\n",
    "4. A constant arising from a field, such as the Dirac field, interacting with the Higgs field in standard model of particle physics.\t\n",
    "\n",
    "For our purpose, we will restrict the discussion of mass to the first two in the above list as we are dealing with introductory physics. However, just to make you aware: the others are fundamental ways of defining mass and make physics absolutely fascinating!\n",
    "\n",
    "Before moving on, we may ask ourselves if the concept of a point mass even make sense. In our everyday macroscopic world it does not make sense at all. In fact, even electrons and quarks, which are some of the smallest particles we know of, are larger than a point in space. So what is a point mass? Well, according to symmetry breaking in the standard model of physics, the Higgs field interacts with bosonic and fermionic fields to provide mass to bosons and fermions (our two classes of particles). Interestingly, the broken symmetry also allows for massless particles which are known as photons. These field interactions can indeed take place at a single point, but for our purpose, the point mass or point particle is more of a conceptual feature as defined in section 1.\n",
    "\n",
    "<img src=\"fig1.png\" width=\"300\">\n",
    "\n",
    "For more information:<br>\n",
    "[Wiki](https://en.wikipedia.org/wiki/Higgs_mechanism)<br>\n",
    "[The CMS experiment at CERN](https://cms.cern/)<br>\n",
    "[The True Nature of Matter and Mass](https://www.youtube.com/watch?v=gSKzgpt4HBU)<br>\n",
    "[The Higgs Mechanism Explained](https://www.youtube.com/watch?v=kixAljyfdqU)\n",
    "\n",
    "<div class=\"alert alert-success\">\n",
    "FUN FACT: It is the two definitions that we are not going to dicuss that are the real physical explanations of mass. In fact, the mass of everyday objects, including you and I, arises 1% from Higgs field interactions and 99% from binding energy among particles.\n",
    "</div>\n",
    "\n",
    "The vast majority of introductory textbooks will introduce the concept of mass together with Newton’s laws of physics for a point particle/object. In doing so, these textbooks will then swiftly apply the point particle/mass to systems like cars, balls, etc., which are obviously not point objects but without explaining why we can get away with it. From our definition of a point particle, we should now understand the implication: <b>every object can be considered a point particle as long as its size and shape does not affect the dynamical analysis</b>.\n",
    "\n",
    "Later on, we will introduce the concept of a distributed mass system and the **center of mass**. At that point, we will also introduce the concept of mass as a measure of amount of matter in a substance through density and volume. For now, let us briefle define inertial mass according to Newton.\n",
    "\n",
    "###  Definition of Mass: Newtonian Approach\n",
    "Mass of a point particle is defined through Newton's famous second law (with assumptions)\n",
    "\n",
    "$$ m = \\frac{\\sum F}{a}$$\n",
    "\n",
    "where $\\sum F$ is the magnitude of the net force acting on an object with mass $m$, and $a$ is the magnitude of the resulting acceleration. Hence, mass can be interpreted as **resistance to a change in motion**, and we refer to this mass as **inertial mass**. To date, there has been no experiment showing that inertial mass differ from other definitions of mass (like the amount of substance in an object or gravitational mass, which we will define later in the semester). While classical physics does allow for differences between e.g. gravitational and inertial mass, general relativity shows us that they are indeed the same thing and that the definition of inertial mass is a proper definition.\n",
    "\n",
    "The standard notation for the mass of a point particle is $m$ (lower case $m$).\n",
    "\n",
    "<hr style=\"height:2px;border-width:0;color:gray;background-color:gray\">"
   ]
  },
  {
   "cell_type": "markdown",
   "metadata": {},
   "source": [
    "<div style=\"background-color: #D0D0D0 ; padding: 10px; border: 1px solid black;\">\n",
    "<header>\n",
    "<h3> Example 1</h3>\n",
    "    </header>\n",
    "A point particle is subjected to a net force of $2.0$ N and experiences an acceleration of $5.0$ m/s$^2$. What is the inertial mass of the particle?\n",
    "\n",
    "#### Solution\n",
    "Inserting into Newton's definition of mass, we have\n",
    "\n",
    "$$ m = \\frac{\\sum F}{a} = \\frac{(2.0)}{(5.0)} = 0.40~\\textrm{kg}$$\n",
    "\n",
    "</div>\n",
    "<hr style=\"height:2px;border-width:0;color:gray;background-color:gray\">"
   ]
  }
 ],
 "metadata": {
  "kernelspec": {
   "display_name": "Python 3 (ipykernel)",
   "language": "python",
   "name": "python3"
  },
  "language_info": {
   "codemirror_mode": {
    "name": "ipython",
    "version": 3
   },
   "file_extension": ".py",
   "mimetype": "text/x-python",
   "name": "python",
   "nbconvert_exporter": "python",
   "pygments_lexer": "ipython3",
   "version": "3.10.9"
  }
 },
 "nbformat": 4,
 "nbformat_minor": 4
}