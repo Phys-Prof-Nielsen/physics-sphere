{
 "cells": [
  {
   "cell_type": "markdown",
   "metadata": {},
   "source": [
    "# Scientific Notation\n",
    "<hr style=\"height:2px;border-width:0;color:gray;background-color:gray\">"
   ]
  },
  {
   "cell_type": "markdown",
   "metadata": {},
   "source": [
    "## Motivation\n",
    "Scientific notation is the notation preferred by physicists as it directly clarifies the number of significant figures and avoid any misunderstandings in communicating these figures.\n",
    "\n",
    "In scientific notation, a number is written by its leading digit followed by decimal digit(s) and then multiplied by ten raised to an exponent. In other words, the number is represented by a number $$x: 1 \\le |x| < 10$$ multiplied by 10 raised to the power of n, where n is an integer.\n",
    "<hr style=\"height:2px;border-width:0;color:gray;background-color:gray\">"
   ]
  },
  {
   "cell_type": "markdown",
   "metadata": {},
   "source": [
    "## Example 1\n",
    "<b>Problem</b>: Write 12.5 in scientific notation. \n",
    "\n",
    "<b>Methodology</b> \n",
    "We need to change 12.5 into a single leading digit followed by decimal digits. Since the leading digit is in the tens place value, we must divide by 10 to move the leading digit to the ones place value. However, since we cannot change the actual value, we must also multiply by 10.\n",
    "\n",
    "<b>Solution</b>\n",
    "\n",
    "$$ 12.5 = 12.5 \\times \\frac{10}{10} $$\n",
    "\n",
    "$$ 12.5 = \\frac{12.5}{10}\\times 10 $$\n",
    "\n",
    "$$ 12.5 = 1.25 \\times 10 $$\n",
    "\n",
    "We can write $10 = 10^1$ to follow the guidelines for scientific notation, and our number written in scientific notion is:\n",
    "\n",
    "<b>Answer</b>\n",
    "\\begin{align*}\n",
    "\\require{color}\n",
    "\\colorbox{lightgreen}{\\(12.5 = 1.25 \\times 10^1\\)}\n",
    "\\end{align*}\n",
    "       \n",
    "<hr style=\"height:2px;border-width:0;color:gray;background-color:gray\">"
   ]
  },
  {
   "cell_type": "markdown",
   "metadata": {},
   "source": [
    "## Example 2\n",
    "<b>Problem</b>: Write $0.0025 = 2.5 \\times 10^{-3}$ in scientific notation.\n",
    "\n",
    "<b>Methodology</b> \n",
    "As in example 1, we need to have a single leading digit followed by decimal digits. In this case, the leading non-zero digit is $2$. It currently sits in the $\\frac{1}{1000}$ decimal spot, so we must multiple (and divide) by \\(1000\\) to bring it to a leading digit in the ones place.\n",
    "\n",
    "<b>Solution</b>\n",
    "\n",
    "\\begin{align*}\n",
    "0.0025 &=& 0.0025 \\times \\frac{1000}{1000}\\\\\n",
    "\\\\ \n",
    "&=& 2.5 \\times 10^{-3}\\\\\n",
    "\\end{align*}\n",
    "where we in the last step used that $1000 = 10^3$ in scientific notation.\n",
    "\n",
    "<b>Answer</b>\n",
    "\\begin{align*}\n",
    "\\require{color}\n",
    "\\colorbox{lightgreen}{\\(0.0025 = 2.5 \\times 10^{-3}\\)}\n",
    "\\end{align*}\n",
    "       \n",
    "<hr style=\"height:2px;border-width:0;color:gray;background-color:gray\">"
   ]
  }
 ],
 "metadata": {
  "kernelspec": {
   "display_name": "Python 3 (ipykernel)",
   "language": "python",
   "name": "python3"
  },
  "language_info": {
   "codemirror_mode": {
    "name": "ipython",
    "version": 3
   },
   "file_extension": ".py",
   "mimetype": "text/x-python",
   "name": "python",
   "nbconvert_exporter": "python",
   "pygments_lexer": "ipython3",
   "version": "3.10.9"
  }
 },
 "nbformat": 4,
 "nbformat_minor": 4
}