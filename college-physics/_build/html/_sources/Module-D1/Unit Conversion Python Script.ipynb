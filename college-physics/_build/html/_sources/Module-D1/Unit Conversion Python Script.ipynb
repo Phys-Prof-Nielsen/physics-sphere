{
 "cells": [
  {
   "cell_type": "markdown",
   "metadata": {},
   "source": [
    "# Unit Conversion Using Python\n",
    "<hr style=\"height:2px;border-width:0;color:gray;background-color:gray\">\n",
    "Since converting units appear to be a standard operation that is used often, it may be time saving to write a small code that can do it for us (sure, we could also use Google, but what do we learn from that?). There is an additional benefit to have a computer convert for you. Although we know the unit conversion number to be used and can use our calculators to perform the task, we are prone to enter numbers incorrectly. A computer, once the result has been verified, will perform the same calculation each time with no error in the conversion number. \n",
    "\n",
    "<hr style=\"height:2px;border-width:0;color:gray;background-color:gray\">"
   ]
  },
  {
   "cell_type": "markdown",
   "metadata": {},
   "source": [
    "## Example 1: Simple code to convert from meters to feet"
   ]
  },
  {
   "cell_type": "code",
   "execution_count": 1,
   "metadata": {},
   "outputs": [
    {
     "name": "stdout",
     "output_type": "stream",
     "text": [
      "Enter numeric value: 25\n",
      "82.025\n",
      "Done\n"
     ]
    }
   ],
   "source": [
    "#Establish the unit conversion factor (it is our number \"1\")\n",
    "m_to_ft = 3.281/1.\n",
    "\n",
    "#ask the user for the numeric value to be converted\n",
    "value = float(input('Enter numeric value: '))\n",
    "\n",
    "#convert\n",
    "new_value = value * m_to_ft\n",
    "\n",
    "print(new_value)\n",
    "\n",
    "print('Done')"
   ]
  },
  {
   "cell_type": "markdown",
   "metadata": {},
   "source": [
    "## Example 2: Slightly more advanced by adding options:"
   ]
  },
  {
   "cell_type": "code",
   "execution_count": 2,
   "metadata": {},
   "outputs": [
    {
     "name": "stdout",
     "output_type": "stream",
     "text": [
      "Conversion Options\n",
      "a. meter to feet\n",
      "b. feet to meter\n",
      "Choose option: b\n",
      "Enter numeric value: 300\n",
      "91.43553794574824\n",
      "Done\n"
     ]
    }
   ],
   "source": [
    "#Establish the unit conversions\n",
    "m_to_ft = 3.281/1.\n",
    "ft_to_m = 1./3.281\n",
    "\n",
    "#print conversion options \n",
    "print('Conversion Options')\n",
    "print('a. meter to feet')\n",
    "print('b. feet to meter')\n",
    "\n",
    "#ask the user which options they want\n",
    "option = input('Choose option: ')\n",
    "#ask the user for the numeric value to be converted\n",
    "value = float(input('Enter numeric value: '))\n",
    "\n",
    "#convert\n",
    "if option == 'a':\n",
    "    new_value = value * m_to_ft\n",
    "    print(new_value)\n",
    "if option == 'b':\n",
    "    new_value = value * ft_to_m\n",
    "    print(new_value)\n",
    "\n",
    "print('Done')"
   ]
  },
  {
   "cell_type": "markdown",
   "metadata": {},
   "source": [
    "## Explore on your own\n",
    "We can add more options for conversions. Try and add options to convert from mph to m/s and test the results of your script with answers provided by Google. You can copy and paste the above code into the code box below and modify it as necessary. \n",
    "\n",
    "<div class=\"alert alert-block alert-info\">\n",
    "NOTE: there are better and more elegant ways of programming this task, but this is a straightforward and simple approach that I think is more suitable for students that may never have done programming before.\n",
    "</div>\n",
    "\n",
    "<hr style=\"height:2px;border-width:0;color:gray;background-color:gray\">"
   ]
  },
  {
   "cell_type": "markdown",
   "metadata": {},
   "source": [
    "<div class=\"alert alert-block alert-warning\">\n",
    "<h2>Box 1</h2>\n",
    "    Extend the Python script above to convert back and forth between mph and m/s.\n",
    "</div>\n",
    "\n",
    "<hr style=\"height:2px;border-width:0;color:gray;background-color:gray\">"
   ]
  }
 ],
 "metadata": {
  "kernelspec": {
   "display_name": "Python 3 (ipykernel)",
   "language": "python",
   "name": "python3"
  },
  "language_info": {
   "codemirror_mode": {
    "name": "ipython",
    "version": 3
   },
   "file_extension": ".py",
   "mimetype": "text/x-python",
   "name": "python",
   "nbconvert_exporter": "python",
   "pygments_lexer": "ipython3",
   "version": "3.10.9"
  }
 },
 "nbformat": 4,
 "nbformat_minor": 4
}
