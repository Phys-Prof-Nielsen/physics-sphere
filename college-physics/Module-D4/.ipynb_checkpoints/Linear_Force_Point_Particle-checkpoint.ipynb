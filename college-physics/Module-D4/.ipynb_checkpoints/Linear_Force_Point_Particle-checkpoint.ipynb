{
 "cells": [
  {
   "cell_type": "markdown",
   "metadata": {},
   "source": [
    "# Linear Force: Point Particle\n",
    "<hr style=\"height:2px;border-width:0;color:gray;background-color:gray\">"
   ]
  },
  {
   "cell_type": "markdown",
   "metadata": {},
   "source": [
    "In Newtonian mechanics force is a concept used to describe and quantify interactions between objects. Newton found through observations and experiments that <b>an object's motion would change linearly according to the sum of all external interactions</b> on said object. If there was no net external interaction on the object, its motion would remain unchanged. This came to be known as <b>Newton's first law</b> and it can be divided into two parts: one for linear motion and one for rotational motion.\n",
    "\n",
    "In Phase D, we will only concern ourselves with a <b>constant net external linear interaction</b> on a single point particle (we should know by now what we mean by a point particle). The discussion on identifying individual interactions is an integral part of Newton's laws and will be explored in Phase C, while varying forces will be topic of Phase B when we approach it using calculus. For now we are still restricted to 1D dynamics.\n",
    "\n",
    "<hr style=\"height:2px;border-width:0;color:gray;background-color:gray\">"
   ]
  },
  {
   "cell_type": "markdown",
   "metadata": {},
   "source": [
    "## 1. Recall: Linear Motion\n",
    "It is appropriate to just re-iterate what we mean by linear motion. According to Newton, the <b>magnitude</b> of linear motion (or momentum) of a point particle is\n",
    "\n",
    "$$ p = mv $$\n",
    "\n",
    "where $m$ and $v$ are the mass and speed of the particle, respectively.\n",
    "\n",
    "The direction of the momentum is specified through the mass and the velocity (directional speed):\n",
    "\n",
    "$$p_x = mv_x$$\n",
    "\n",
    "The change in linear momentum in a given direction (say $x$) is the linear impulse between two events 1 and 2:\n",
    "\n",
    "$$ j_x = \\Delta p_x $$\n",
    "\n",
    "<hr style=\"height:2px;border-width:0;color:gray;background-color:gray\">"
   ]
  },
  {
   "cell_type": "markdown",
   "metadata": {},
   "source": [
    "## 2. Linear Force on Point Particle \n",
    "The net interaction acting on a particle can be described through a <b>net</b> linear force $F_{x_{net}}$ <b>assumed to be constant</b> in this discussion. This is sometimes referred to as an **unbalanced linear force** if the net linear force is non-zero. The net average interaction acting on the particle over a time interval $\\Delta t$ causes a change in motion $\\Delta p_x$:\n",
    "\n",
    "<div class=\"alert alert-success\">\n",
    "    <b>Defining force through impulse</b>\n",
    "    \n",
    "$$ \\Delta p_{x} = f_{{net}_{{av}_{x}}}\\Delta t \\tag{1}$$\n",
    "</div>\n",
    "\n",
    "We can understand this equation as being the mathematical representation of <b>Newton's First Law</b>: \n",
    "<div class=\"alert alert-success\">\n",
    "an object will remain in its same state of motion unless acted upon by a net external force.\n",
    "</div>\n",
    "\n",
    "Another verbal representation is: a net interaction acting on an object over an elapsed time is causing the object to experience an impulse or a change in motion. The equation is sometimes referred to as the <b>Impulse-momentum theorem</b>.\n",
    "\n",
    "### Unit\n",
    "The standard metric unit of force is kgm/s$^2$, which is commonly defined as a Newton (N).\n",
    "\n",
    "<hr style=\"height:2px;border-width:0;color:gray;background-color:gray\">"
   ]
  },
  {
   "cell_type": "markdown",
   "metadata": {},
   "source": [
    "### Example 1\n",
    "\n",
    "<b>Problem</b>: \n",
    "A particle, with mass 1.5 kg and intially at rest at t = 0 s, is subject to a net force expressed by $f_x = 2.5$ N. What is the speed of the particle at t = 3 s? Assume exact times.\n",
    "\n",
    "<b>Methodology</b>Since we know the net force and the elapsed time it is applied to the particle, we can find the impulse (or change in momentum) of the particle. Knowning the initial momentum is zero (at rest initially), we can solve for the final momentum and the velocity speed since mass is given as well.\n",
    "\n",
    "<b>Solution</b>\n",
    "We can find the impulse from Equation (1):\n",
    "\n",
    "$$ \\Delta p_x = f_{x_{net}}\\Delta t $$\n",
    "\n",
    "Inserting the values provided to us, we get:\n",
    "\n",
    "$$ \\Delta p_x = (2.5)(3.0 - 0) = 7.5~\\textrm{kgm/s}$$\n",
    "\n",
    "While this is the impulse (or change in momentum) of the object, it is not what we were asked to find. The final speed can be found from the impulse since we know the initial speed is zero:\n",
    "\n",
    "$$ \\Delta p_x = p_{x_f} - p_{x_i} = mv_{x_f} - mv_{x_i} $$\n",
    "\n",
    "Inserting our values:\n",
    "\n",
    "$$ (7.5) = (1.5)v_{x_f} - (1.5)(0) $$\n",
    "\n",
    "The final <b>velocity</b> is then\n",
    "\n",
    "$$ v_{x_f} = +5.0~\\textrm{m/s} $$\n",
    "\n",
    "Since we are asked to solve for the speed, the more appropriate answer is (remember the difference between velocity and speed?)\n",
    "\n",
    "\\begin{align*}\n",
    "\\require{color}\n",
    "\\colorbox{lightgreen}{\\(v_f = 5.0~\\textrm{m/s}\\)}\n",
    "\\end{align*}\n",
    "\n",
    "\n",
    "<b>Evaluation</b>: The answer tells us that the applied force acting through some time is causing a change in motion of the particle. The net effect is a change in velocity from 0 m/s to +5 m/s. \n",
    "\n",
    "<hr style=\"height:2px;border-width:0;color:gray;background-color:gray\">"
   ]
  }
 ],
 "metadata": {
  "kernelspec": {
   "display_name": "Python 3 (ipykernel)",
   "language": "python",
   "name": "python3"
  },
  "language_info": {
   "codemirror_mode": {
    "name": "ipython",
    "version": 3
   },
   "file_extension": ".py",
   "mimetype": "text/x-python",
   "name": "python",
   "nbconvert_exporter": "python",
   "pygments_lexer": "ipython3",
   "version": "3.10.9"
  }
 },
 "nbformat": 4,
 "nbformat_minor": 4
}
