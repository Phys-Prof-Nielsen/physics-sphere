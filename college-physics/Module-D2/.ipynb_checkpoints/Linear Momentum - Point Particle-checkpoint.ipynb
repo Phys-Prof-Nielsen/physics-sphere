{
 "cells": [
  {
   "cell_type": "markdown",
   "metadata": {},
   "source": [
    "# Linear Momentum: Point Particle\n",
    "<hr style=\"height:2px;border-width:0;color:gray;background-color:gray\">"
   ]
  },
  {
   "cell_type": "markdown",
   "metadata": {},
   "source": [
    "We are often using the term <b>motion</b> in daily language, and we seem rather unbothered by the fact that we really don't know what it means. I often ask the class the following question:\n",
    "\n",
    "<i>Which of the following has more motion? A sedan traveling at 70 mph or a semi-trucl traveling at 70 mph?</i>\n",
    "\n",
    "The majority of students will answer incorrectly that they have the same motion since they are traveling at the same speed. We equate motion to speed, but that is not correct from a physics point of view.\n",
    "\n",
    "The exact definition of motion comes from Newton's vision of how objects interact. He showed through demonstrations that in order to change the motion of an object, an <b>unbalanced force</b> had to be applied to that object. \n",
    "\n",
    "Now consider Newton's formulation of motion applied to this scenario: \n",
    "\n",
    "<i>A sedan and a semi-truck are both traveling at 70 mph. Which one requires a greater interaction to come to a complete stop?</i>\n",
    "\n",
    "Without having to put much thought into this, everybody will naturally say the semi-truck requires greater interaction. <b>This should leave us to conclude that the more massive object of the two has more motion than the object with less mass. Hence, motion of the object depends not only on how fast it moves, but also its mass.</b>\n",
    "\n",
    "<hr style=\"height:2px;border-width:0;color:gray;background-color:gray\">"
   ]
  },
  {
   "cell_type": "markdown",
   "metadata": {},
   "source": [
    "## 1. Relativistic Linear Momentum: Point Particle\n",
    "In physics, **motion** is the concept known as **momentum**. We define the **magnitude of relativistic linear momentum** for a point particle of mass $m$ and moving at a speed $v$ as\n",
    "\n",
    "<div class=\"alert alert-success\">\n",
    "    $$p = \\gamma mv \\tag{1}$$\n",
    "</div>\n",
    "\n",
    "where $\\gamma = \\left[1 - \\left(\\frac{v}{c}\\right)^2 \\right]^{-\\frac{1}{2}}$ is the Lorentz factor and $c = 2.998 \\times 10^8$ is the speed of light.\n",
    "\n",
    "<hr style=\"height:2px;border-width:0;color:gray;background-color:gray\">"
   ]
  },
  {
   "cell_type": "markdown",
   "metadata": {},
   "source": [
    "### Example 1\n",
    "Find the magnitude of the relativistic momentum of a muon moving at a speed of $0.99c$. The mass of a muon is $1.88\\times 10^{-28}$ kg\n",
    "\n",
    "#### Solution\n",
    "This is a plug'n'chug problem. Insert the values into Eq. (1):\n",
    "\n",
    "$$ p = \\gamma mv = \\frac{mv}{\\left[1 - \\left(\\frac{v}{c}\\right)^2 \\right]^{\\frac{1}{2}}} $$\n",
    "\n",
    "$$ p = \\frac{(1.88\\times 10^{-28})(0.99)(2.998\\times 10^8)}{\\left[(1) - \\left(\\frac{(0.99c}{c}\\right)^2 \\right]^{\\frac{1}{2}}} = 4.0\\times 10^{-19}~\\textrm{kgm/s}$$"
   ]
  },
  {
   "cell_type": "code",
   "execution_count": 3,
   "metadata": {},
   "outputs": [
    {
     "name": "stdout",
     "output_type": "stream",
     "text": [
      "3.955470356887019e-19\n"
     ]
    }
   ],
   "source": [
    "print((1.88*10**(-28)*0.99*2.998*10**8)/(1 - 0.99**2)**0.5)"
   ]
  },
  {
   "cell_type": "markdown",
   "metadata": {},
   "source": [
    "<hr style=\"height:2px;border-width:0;color:gray;background-color:gray\">"
   ]
  },
  {
   "cell_type": "markdown",
   "metadata": {},
   "source": [
    "### Example 2\n",
    "Calculate the magnitude of relativistic momentum of a car (assuming it is a point particle for now) with a mass of $2000.0$ kg and speed of $30.0$ m/s. Use $c = 3.00\\times 10^8$ m/s for the speed of light. \n",
    "\n",
    "#### Solution\n",
    "This is another plug'n'chug problem, but with a hidden agenda :)\n",
    "\n",
    "Insert the values into Eq. (1):\n",
    "\n",
    "$$ p = \\gamma mv = \\frac{mv}{\\left[1 - \\left(\\frac{v}{c}\\right)^2 \\right]^{\\frac{1}{2}}} $$\n",
    "\n",
    "$$ p = \\frac{(2000.0)(30.0)}{\\left[(1) - \\left(\\frac{(30.0}{3.00\\times 10^8}\\right)^2 \\right]^{\\frac{1}{2}}} = 6.00\\times 10^4~\\textrm{kgm/s}$$\n",
    "\n",
    "**NOTE**: The momentum appears to be just the mass times the speed since the radical is approximately equal to 1 within our significant figure range. \n",
    "\n",
    "<hr style=\"height:2px;border-width:0;color:gray;background-color:gray\">"
   ]
  },
  {
   "cell_type": "markdown",
   "metadata": {},
   "source": [
    "## 2. ADVANCED MATH: Binomial Expansion\n",
    "The result from Example 2 should provide us with a hint that maybe we can approximate the magnitude of the momentum with just $mv$, so let us check if that is true. The relativistic correction factor is the Lorentz factor $\\gamma$, and we can expand it according to the binomial expansion $f(x) = (1+x)^n = 1 + nx + \\frac{n(n-1)}{2!}x^2 + \\frac{n(n-1)(n-2)}{3!}x^3 + \\cdots$. We identify $n = -\\frac{1}{2}$ and $x = -\\left(\\frac{v}{c}\\right)^2$ and expand to the first two non-zero terms to get:\n",
    "\n",
    "$$ \\gamma \\approx 1 + \\left(-\\frac{1}{2}\\right)\\left[ -\\left(\\frac{v}{c}\\right)^2\\right]  $$\n",
    "\n",
    "$$ \\gamma \\approx 1 + \\frac{1}{2}\\left(\\frac{v}{c}\\right)^2  $$\n",
    "\n",
    "The order of the last term is controlled by the factor $\\left(\\frac{v}{c}\\right)^2$, where $c = 2.998\\times 10^8$ is the speed of light in vacuum. For a speed of $v = 10^6~\\textrm{m/s} = 2.2\\times 10^6~\\textrm{mph}$, this term is\n",
    "\n",
    "$$ \\frac{1}{2}\\left(\\frac{v}{c}\\right)^2 = 5.7\\times 10^{-6} $$\n",
    "\n",
    "which means that our error is in the 6th decimal place if we were to ignore it!\n",
    "\n",
    "<b>For everyday speeds, we can ignore any terms beyond the first term in our Binomial expansion</b>.\n",
    "\n",
    "With that observation, we can say that $\\gamma \\approx 1$ and write the magnitude of linear momentum as\n",
    "\n",
    "$$ p = \\gamma mv \\approx mv $$\n",
    "\n",
    "<b>This is the classical linear momentum as defined by Newton</b>. \n",
    "\n",
    "We can make a graphical interpretation of our approximation by plotting the relativistic and classical momentum as a function of speed. In fact, we will plot the momentum per unit mass:"
   ]
  },
  {
   "cell_type": "code",
   "execution_count": 4,
   "metadata": {},
   "outputs": [
    {
     "data": {
      "image/png": "[encoded data removed]",
      "text/plain": [
       "<Figure size 432x288 with 1 Axes>"
      ]
     },
     "metadata": {
      "needs_background": "light"
     },
     "output_type": "display_data"
    }
   ],
   "source": [
    "import numpy as np\n",
    "import matplotlib.pyplot as plt\n",
    "\n",
    "%matplotlib inline\n",
    "\n",
    "c = 2.998E8\n",
    "\n",
    "v = np.arange(0,2.9E8,100)\n",
    "p_rel = v*(1-(v/c)**2)**(-0.5)\n",
    "p_clas = v\n",
    "\n",
    "# Plotting\n",
    "\n",
    "plt.figure()\n",
    "plt.ylabel('Momentum per unit mass (m/s)')\n",
    "plt.xlabel('Speed (m/s)')\n",
    "ax = plt.gca()\n",
    "ax.plot(v,p_rel,'b', label='Relativistic')\n",
    "ax.plot(v,p_clas, 'r', label='Classical')\n",
    "\n",
    "ax.set_xlim([np.min(v), np.max(v)])\n",
    "ax.set_ylim([np.min(p_rel), np.max(p_rel)])\n",
    "\n",
    "ax.legend(loc=\"upper left\")\n",
    "\n",
    "plt.show()"
   ]
  },
  {
   "cell_type": "markdown",
   "metadata": {},
   "source": [
    "Above I limited the speed ($v$) to $2.9\\times 10^8~\\textrm{m/s}$ since letting it become exactly the speed of light would cause a division by zero. We notice that the relativistic momentum approaches infinity as the speed approaches the speed of light. This has an important consequence for the force concept but is beyond the scope of this course. Another observation is that the classical and relativistic graphs seem to follow each other quite closely until $\\sim 1.2\\times 10^8$ m/s, suggesting that we can reach such speeds before relativistic effects becomes important.\n",
    "\n",
    "<hr style=\"height:2px;border-width:0;color:gray;background-color:gray\">"
   ]
  },
  {
   "cell_type": "markdown",
   "metadata": {},
   "source": [
    "<div class=\"alert alert-warning\">\n",
    "<b>Box 1</b><br>\n",
    "The nonrelativistic expression for the momentum of a particle, $p = mv$, can be used if $v << c$. For what speed\n",
    "does the use of this formula give the following errors in the momentum? Hint: percent error is \n",
    "    $$ \\%~\\textrm{error} = \\frac{|p_{rel} - p_{clas}|}{p_{rel}}\\times 100$$\n",
    "<ol>\n",
    "    <li>2.00%\n",
    "<li>10.0%\n",
    "<li>50.0%\n",
    "    </ol>\n",
    "</div>\n",
    "\n",
    "<hr style=\"height:2px;border-width:0;color:gray;background-color:gray\">"
   ]
  },
  {
   "cell_type": "markdown",
   "metadata": {},
   "source": [
    "<div class=\"alert alert-warning\">\n",
    "<b>Box 2</b><br>\n",
    "An electron moves with a speed of $0.750c$. Find the magnitude of its relativistic momentum and compare this\n",
    "value with the momentum obtained from the classical expression.\n",
    "</div>\n",
    "\n",
    "<hr style=\"height:2px;border-width:0;color:gray;background-color:gray\">"
   ]
  },
  {
   "cell_type": "markdown",
   "metadata": {},
   "source": [
    "## 3. Classical Momentum: Point Particle\n",
    "We have seen above that for most speeds related to everyday life, the magnitude of the momentum for a point particle with mass $m$ and moving with a speed $v$ is\n",
    "\n",
    "<div class=\"alert alert-success\">\n",
    "$$ p = mv \\tag{2}$$\n",
    "</div>\n",
    "The momentum in itself is really not that interesting. Instead, we are more interested in the change in momentum or the lack of change in momentum, which the following topics will explore.\n",
    "<img src=\"nuffsaid.jpg\" width=\"300\">\n",
    "\n",
    "<hr style=\"height:2px;border-width:0;color:gray;background-color:gray\">"
   ]
  }
 ],
 "metadata": {
  "kernelspec": {
   "display_name": "Python 3 (ipykernel)",
   "language": "python",
   "name": "python3"
  },
  "language_info": {
   "codemirror_mode": {
    "name": "ipython",
    "version": 3
   },
   "file_extension": ".py",
   "mimetype": "text/x-python",
   "name": "python",
   "nbconvert_exporter": "python",
   "pygments_lexer": "ipython3",
   "version": "3.9.12"
  }
 },
 "nbformat": 4,
 "nbformat_minor": 4
}
