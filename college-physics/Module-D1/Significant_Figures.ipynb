{
 "cells": [
  {
   "cell_type": "markdown",
   "metadata": {},
   "source": [
    "# D1.3 Significant Figures\n",
    "<hr style=\"height:2px;border-width:0;color:gray;background-color:gray\">"
   ]
  },
  {
   "cell_type": "markdown",
   "metadata": {},
   "source": [
    "## D1.3.1 Motivation\n",
    "Actual measurements will always have uncertainties associated with them. For example, using a common ruler (see\n",
    "below) and use the centimeter (cm) scale to measure the diameter of the moon, we would say it is a little bit more\n",
    "than 8 cm. A confident person may estimate it to be 8.2 cm. If we include the millimeter (mm) scale as well, we can\n",
    "say that the diameter is somewhere between 8.1 cm and 8.2 cm. We may say it is 8.15 cm.\n",
    "<br>\n",
    "<img src=\"fig1.png\" width=\"400\">\n",
    "\n",
    "<div class=\"alert alert-info\">\n",
    "In reporting the measurement, we should include the measurable digit (cm in the first case and mm in the second\n",
    "case) as well as the one estimated position beyond the smallest measurable digit.\n",
    "</div>\n",
    "\n",
    "In the example above, that would imply reporting the numbers as 8.2 cm and 8.15 cm, respectively, knowing that\n",
    "our uncertainties (or errors) are in the last digits.\n",
    "\n",
    "The above measurements does not state the uncertainty explicitly but it is suggested by the significant figures used.\n",
    "For example, 8.15 cm has three significant figures (we will see the rules later) in the reported value. This measurement tells us that we are correct to the first two number (8.1 cm), while the third digit is uncertain.\n",
    "\n",
    "<div class=\"alert alert-danger\">\n",
    "In the following, we will learn how to deal with significant numbers in arithmetic. It is important to understand\n",
    "that the adjustment for proper number of significant figures should take place at the end of our calculations.\n",
    "We do not adjust for significant figures prior to the final results.\n",
    "</div>\n",
    "<hr style=\"height:2px;border-width:0;color:gray;background-color:gray\">"
   ]
  },
  {
   "cell_type": "markdown",
   "metadata": {},
   "source": [
    "## 1.3.2 A Note on Accuracy and Precission\n",
    "Is our measurement above accurate or precise? In layman term, these two words are often used interchangeable, but\n",
    "in science they have very different meanings. To best illustrate the difference, let us consider the figure below.\n",
    "<br>\n",
    "<img src=\"fig2.png\" width=\"600\">\n",
    "\n",
    "If we circulated an object and a severely flawed ruler in the class, we would get X students measurements,\n",
    "and we would expect the measurements to be close but way off the actual value: the result would be precise but not\n",
    "accurate. On the other hand, if the ruler was a high-quality ruler, we would expect both an accurate and precise\n",
    "result.\n",
    "\n",
    "If you want to gain a better understanding of uncertainty/errors, how these errors propagate in calculations, and\n",
    "accuracy vs. precision, I recommend you take courses in experimental physics and statistics (the figure below\n",
    "is to excite those of you who are into sexy statistical language and plots).\n",
    "<br>\n",
    "<img src=\"fig3.png\" width=\"400\">\n",
    "[From Wikipedia: Accuracy and precision](https://en.wikipedia.org/wiki/Accuracy_and_precision)\n",
    "\n",
    "<hr style=\"height:2px;border-width:0;color:gray;background-color:gray\">"
   ]
  },
  {
   "cell_type": "markdown",
   "metadata": {},
   "source": [
    "<div class=\"alert alert-success\">\n",
    "A mathematician, a physicist and a statistician went hunting for deer. When they chanced upon one buck lounging\n",
    "about, the mathematician fired first, missing the buck's nose by a few inches. The physicist then tried his hand, and\n",
    "missed the tail by a wee bit. The statistician started jumping up and down saying \"We got him! We got him!\"\n",
    "<br>\n",
    "<br>\n",
    "A group of physicists were at a conference being held in Central Australia. As part of the conference entertainment,\n",
    "they were taken on a tour of the famous rock, Uluru. \"This rock\", announced the guide,\"is 50,000,004 years old.\"\n",
    "The physicists - always impressed by precision in measurement - were astounded. \"How do you know the age of the\n",
    "rock so precisely?\" \"Easy!\", came the reply. \"When I first came here, they told me it was 50 million years old. I've\n",
    "been working here for four years now.\"\n",
    "</div>\n",
    "\n",
    "It should hopefully be quite obvious that the above are jokes. Simply adding the estimated age of the rock and the\n",
    "surpassed 4 years is faulty in terms of the age of the rock. In the following, we will see how we deal with significant numbers in terms of basic arithmetic operations.\n",
    "<hr style=\"height:2px;border-width:0;color:gray;background-color:gray\">"
   ]
  },
  {
   "cell_type": "markdown",
   "metadata": {},
   "source": [
    "## D1.3.3 General Rules\n",
    "Only measured numbers and numbers derived from measured numbers are subject to determination of significant\n",
    "figures. Mathematical number such as $\\pi$ and $e$ have no influence in the determination of significant figures. The\n",
    "same goes for exact and counted numbers such as the number of hours in a day or number of people in a room etc.\n",
    "\n",
    "* All non-zero digits are significant.\n",
    "* Zeros placed between non-zero digits are significant.\n",
    "* Leading zeros are not significant.\n",
    "* Trailing zeros:\n",
    "    * Significant in numbers containing decimal point.\n",
    "    * If a number does not contain a decimal, then the significance of the trailing zero(s) must be determined in terms of the context of the number. If that cannot be determined, then they should not be considered significant.\n",
    "    \n",
    "<hr style=\"height:2px;border-width:0;color:gray;background-color:gray\">\n"
   ]
  },
  {
   "cell_type": "markdown",
   "metadata": {},
   "source": [
    "<div style=\"background-color: #D0D0D0 ; padding: 10px; border: 1px solid black;\">\n",
    "<header>\n",
    "<h3> Example 1</h3>\n",
    "    </header>\n",
    "\n",
    "|    Number   |   Significant Figures   |  Explanation  |\n",
    "| :------------ | ------------- | -------------: |\n",
    "|        123.45      |        5       | All non-zero digits are significant.  |\n",
    "|     1001.013     |      7      | All zeros are between non-zero digits, so they are significant. |\n",
    "| 0.0025 | 2 | Leading zeros are not significant. |\n",
    "| 12.500 | 5 | Trailing zeros after the decimal point are significant. |\n",
    "| 100 | 1 | The trailing zeros are before the non-existent decimal point and we have no information on how they were measured or otherwise obtained. Hence, we must be conservative and assume they are not significant. |\n",
    "\n",
    "</div>\n",
    "    \n",
    "<hr style=\"height:2px;border-width:0;color:gray;background-color:gray\">"
   ]
  },
  {
   "cell_type": "markdown",
   "metadata": {},
   "source": [
    "## D1.3.4 Significant Figures: Multiplication and Division\n",
    "Significant figures in a result obtained through multiplication and/or division is equal to the number of significant\n",
    "figures of the factor with the smallest number of significant figures.\n",
    "<hr style=\"height:2px;border-width:0;color:gray;background-color:gray\">"
   ]
  },
  {
   "cell_type": "markdown",
   "metadata": {},
   "source": [
    "<div style=\"background-color: #D0D0D0 ; padding: 10px; border: 1px solid black;\">\n",
    "<header>\n",
    "<h3> Example 2</h3>\n",
    "    </header>\n",
    "\n",
    "$$ 12.50 \\times 2.0 = 25 $$\n",
    "\n",
    "The smallest number of significant figures of the the two factors is 2 (from the 2.0 factor), so the answer must\n",
    "be reported to no more than 2 significant figures.\n",
    "    \n",
    "</div>\n",
    "\n",
    "<hr style=\"height:2px;border-width:0;color:gray;background-color:gray\">"
   ]
  },
  {
   "cell_type": "markdown",
   "metadata": {},
   "source": [
    "<div style=\"background-color: #D0D0D0 ; padding: 10px; border: 1px solid black;\">\n",
    "<header>\n",
    "<h3> Example 3</h3>\n",
    "    </header>\n",
    "\n",
    "**Special Case Examples: Determine Significant Figures From Context**\n",
    "\n",
    "Say we take two exact numbers $10$ and $20$ and multiply them: $10 \\times 20 = 200$. Since they are both exact\n",
    "numbers, they have no influence on the number of significant numbers of the result. Hence, the result will\n",
    "be exact as well.\n",
    "\n",
    "Now, let us say that someone provided us with two measured numbers, $10$ and $20$, and both were measured\n",
    "to 2 significant figures. Then the answer would be still be $200$, but now the significant figures would\n",
    "be 2.\n",
    "\n",
    "Finally, the values could have been reported as $10$ with 2 significant figures and $20$ measured to 1 significant\n",
    "figure. In this case, the answer is still $200$, but now reported to only 1 significant figure.\n",
    "    \n",
    "</div>\n",
    "\n",
    "<hr style=\"height:2px;border-width:0;color:gray;background-color:gray\">"
   ]
  },
  {
   "cell_type": "markdown",
   "metadata": {},
   "source": [
    "<div style=\"background-color: #D0D0D0 ; padding: 10px; border: 1px solid black;\">\n",
    "<header>\n",
    "<h3> Example 4</h3>\n",
    "    </header>\n",
    "\n",
    "In this example, we will assume that the number $100$ is exact.\n",
    "\n",
    "|    Number   |   Significant Figures   |  Explanation  |\n",
    "| :------------ | ------------- | -------------: |\n",
    "|        100 x 2 = 200     |        1       | 2 has one significant figure.  |\n",
    "|     100 x 2.0 = 200     |      2      | 2.0 has two significant figures. |\n",
    "| 100 x 2.00 = 200 | 3 | 2.00 has three significant figures. |\n",
    "\n",
    "</div>\n",
    "\n",
    "<hr style=\"height:2px;border-width:0;color:gray;background-color:gray\">"
   ]
  },
  {
   "cell_type": "markdown",
   "metadata": {},
   "source": [
    "## D.1.3.5 Significant Figure: Addition and Subtraction\n",
    "In this case, it is not the number of significant figures in the terms that matter, but instead it is the location of the significant figures. The calculated result should be reported to the location of the least significant decimal point.\n",
    "\n",
    "<hr style=\"height:2px;border-width:0;color:gray;background-color:gray\">"
   ]
  },
  {
   "cell_type": "markdown",
   "metadata": {},
   "source": [
    "<div style=\"background-color: #D0D0D0 ; padding: 10px; border: 1px solid black;\">\n",
    "<header>\n",
    "<h3> Example 5</h3>\n",
    "    </header>\n",
    "\n",
    "Which one is correct?<br> \n",
    "    \n",
    "$$ 12.1 + 7.22 + 8.300 = 27.620 $$\n",
    "  \n",
    "or \n",
    "    <br>\n",
    "    \n",
    "$$ 12.1 + 7.22 + 8.300 = 27.6 $$\n",
    "\n",
    "We can add <b>leading zeros</b> to the last two numbers without changing the significance\n",
    "of these numbers: $7.22 \\rightarrow 07.22$ and $8.300 \\rightarrow 08.300$. However, we cannot add <b>trailing zeros</b> to $12.1$ and $7.22$ without changing the significance of the numbers! Hence, our answer must be $27.6$ since 12.1 is only reported to the tenth decimal place.\n",
    "    \n",
    "<div>\n",
    "<hr style=\"height:2px;border-width:0;color:gray;background-color:gray\">"
   ]
  },
  {
   "cell_type": "markdown",
   "metadata": {},
   "source": [
    "## D.1.3.6 Rounding\n",
    "Although this is known to the most of us (I hope), let us take an example to illustrate the concept.\n",
    "\n",
    "Let us round the number 12.5678 to four significant figures. The number to the right of \"6\" is not significant and\n",
    "since it is greater than 5, we add one to the \"6\" to obtain $12.57$ as our answer.\n",
    "\n",
    "We are custom to the rule that if the number to the right is greater than 5 or if it is 5 followed by a non-zero digit\n",
    "then we add 1 to round up. If it is less than 5, then we leave it number as is.\n",
    "\n",
    "### Tie-Breaking Rules in Rounding\n",
    "In the above example, if we wanted the number rounded to 2 significant figures,\n",
    "then it would 13 according to the above standard rule.\n",
    "\n",
    "However, if the number was 12.5 instead, and we still wanted it to 2 significant figures, then we need a tie-break rule. The most common rule is known as \"round half up\" and it is the rule we will stick to in this class. Under this rule, 12.5 is rounded to 13 whereas -12.5 is rounded to -12.\n",
    "The last result reveals a common mistake that most people unaware of rounding schemes do, as they would round\n",
    "-12.5 to -13 instead of -12.\n",
    "\n",
    "Other tie-breaking rules exists such as: round-half down, round half toward/away zero, and round half to even/odd,\n",
    "and stochastic rounding. If you are into computer science, you may have heard of functions such as floor/ceil etc. for\n",
    "rounding numbers. The *IEEE Standard for Floating-Point Arithmetic* use the round to half even rounding scheme.\n",
    "<hr style=\"height:2px;border-width:0;color:gray;background-color:gray\">"
   ]
  },
  {
   "cell_type": "markdown",
   "metadata": {},
   "source": [
    "## D1.3.7 Scientific Notation to the Rescue\n",
    "We saw in Example 4 how a number with different significant figures can have the same representation and all information about of its significance is lost withouth knowing the context. Scientif notation is the representation of a number that allows us to represent both number and significant figures at once."
   ]
  },
  {
   "cell_type": "markdown",
   "metadata": {},
   "source": [
    "<div style=\"background-color: #D0D0D0 ; padding: 10px; border: 1px solid black;\">\n",
    "<header>\n",
    "<h3> Example 6</h3>\n",
    "    </header>\n",
    "Let us try the scientific notation on the ambiguous numbers that we saw earlier in example 4.\n",
    "\n",
    "|    Number   |   Significant Figures   |  Scientific Notation  |\n",
    "| :------------ | ------------- | -------------: |\n",
    "|        100 x 2 = 200     |        1       | 2 x 10$^2$  |\n",
    "|     100 x 2.0 = 200     |      2      | 2.0 x 10$^2$  |\n",
    "| 100 x 2.00 = 200 | 3 | 2.00 x 10$^2$ |\n",
    "\n",
    "\n",
    "We can see that the leading factor (the coeffcient) shows the correct number of significant numbers and the\n",
    "ambiguity is gone.\n",
    "</div>\n",
    "<hr style=\"height:2px;border-width:0;color:gray;background-color:gray\">"
   ]
  },
  {
   "cell_type": "markdown",
   "metadata": {},
   "source": [
    "<p style=\"color:red\">Representing numbers in scientific notation removes the ambiguity that may occur in communicating numbers where the number of significant figures may be ambiguous.\n",
    "Scientific notation rocks! If we can just get the rest of the 99.99% of the worlds population to use this notation we\n",
    "would be better off!</p>\n",
    "<hr style=\"height:2px;border-width:0;color:gray;background-color:gray\">"
   ]
  }
 ],
 "metadata": {
  "kernelspec": {
   "display_name": "Python 3 (ipykernel)",
   "language": "python",
   "name": "python3"
  },
  "language_info": {
   "codemirror_mode": {
    "name": "ipython",
    "version": 3
   },
   "file_extension": ".py",
   "mimetype": "text/x-python",
   "name": "python",
   "nbconvert_exporter": "python",
   "pygments_lexer": "ipython3",
   "version": "3.10.9"
  }
 },
 "nbformat": 4,
 "nbformat_minor": 4
}
