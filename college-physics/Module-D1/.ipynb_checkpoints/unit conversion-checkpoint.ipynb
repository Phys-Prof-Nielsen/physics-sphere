{
 "cells": [
  {
   "cell_type": "markdown",
   "metadata": {},
   "source": [
    "# Units and Conversion\n",
    "<hr style=\"height:2px;border-width:0;color:gray;background-color:gray\">\n",
    "\n",
    "## Why Units Are Important\n",
    "\n",
    "Units are means of communicating quantities of measurements (or numbers) or otherwise related physical quantities. For example, consider the following statements:\n",
    "* The car drove 50.\n",
    "* The car drove 50 mph. \n",
    "* The car drove 50 km.\n",
    "\n",
    "Obviously, the first statement provides us with a quantity, but we are left clueless in regards to what physical parameters we are speaking off: the sentence is grammatical correct but makes absolutely no sense in terms of physics. The last two statements, on the other hand, clearly defines the measurement and the unit: we can make sense of the statements.\n",
    "     \n",
    "<span style=\"color:red\">Well-defined units allow us to relate measured quantities/amounts</span>.\n",
    " \n",
    "<hr style=\"height:2px;border-width:0;color:gray;background-color:gray\">"
   ]
  },
  {
   "cell_type": "markdown",
   "metadata": {},
   "source": [
    "## Standard Metric Units\n",
    "An almost unlimited number of units exists, and we can even make up our own units. In the US it is custom to use the <b>British Imperical Units</b>. The majority of the rest of the world is using a standard-based set of units known as the <b>International System of Units</b> or <b>SI</b> units for short (abbreviated from the French word). This metric system consists of 7 units from which all our physical units can be expressed or derived.\n",
    "\n",
    "<img src=\"https://upload.wikimedia.org/wikipedia/commons/thumb/3/38/SI_base_units.svg/1200px-SI_base_units.svg.png\"  width=\"200\"/>\n",
    "\n",
    "For the interested student, more details can be found [here](https://en.wikipedia.org/wiki/SI_base_unit) and [here](https://en.wikipedia.org/wiki/Metric_system)\n",
    "\n",
    "In mechanics, we use three fundamental units: kilogram (kg), meter (m), and second (s).\n",
    "\n",
    "Other units can be derived from these. For example: Unit of Force:: Newton (N) = kgm/s$^2$ and Unit of Energy :: Joules (J) = kgm$^2$/s$^2$\n",
    "\n",
    "### Metric vs. Standard Metric Units\n",
    "We often see units such as millimeter (mm), centimeter (cm), and kilometer (km) as units of length measurements. These are all <b>metric</b> units but not standard metric unit. The <b>standard metric unit</b> for length is the meter (m). Similarly, units of mass can be in grams (g) which is a metric unit, but the standard metric unit is the kilogram (kg).\n",
    "\n",
    "<hr style=\"height:2px;border-width:0;color:gray;background-color:gray\">"
   ]
  },
  {
   "cell_type": "markdown",
   "metadata": {},
   "source": [
    "## Unit Conversions\n",
    "\n",
    "Often times we are given quantities in units that are not standard or in Imperial units, and we may need to be convert them into standard metric units for analysis or improved understanding.\n",
    "\n",
    "The cognitive understanding of units and unit conversion is imperative to science. A great example of a professional team of scientists not being cognitive of units and unit conversions is the [Mars Climate Orbiter](https://en.wikipedia.org/wiki/Mars_Climate_Orbiter), which burned up in the atmosphere of Mars and lead to several funny science jokes:\n",
    "\n",
    "![](https://www.scst.org/wp-content/uploads/2019/01/standard-nasa-metrics.gif)\n",
    "![]()\n",
    "\n",
    "\n",
    "NASA lost the <b>Mars Climate Orbiter</b> (worth &#36;125 million) because one engineering team used metric units while another used English units for a key space craft operation. The unit used was in <b>lbs of force</b> instead of the anticipated <b>Newton</b>.\n",
    "\n",
    "There are many approaches to convert units from one system to another. You should use the approach that you are comfortable with. I am a huge fan of Algebra, and in particularly Linear and Abstract Algebra. The foundations of algebra are axioms that defince certain elements and operations that are allowed in a mathematical realm such as number space, vector space, Hilber Space, Banach space, Minkowski Space, etc. I could go on a long, very long, spiel on the importance of teaching Linear Algebra, and how an understanding of Linear Algebra greatly enhances our understanding of the physics we learn. In fact, basic arithmetic learned in elementary school is Linear Algebra, but unfortunately turned into some sort of memorization approach instead of understanding of the subject matter. The \"common core math standard\" is an attempt to get back to the fundamental understanding of algebra.\n",
    "\n",
    "My approach to unit conversion that I cover below, is taken straight out of principles in Linear Algebra.\n",
    "\n",
    "<hr style=\"height:2px;border-width:0;color:gray;background-color:gray\">"
   ]
  },
  {
   "cell_type": "markdown",
   "metadata": {},
   "source": [
    "### Number 1\n",
    "In Linear Algebra, numbers belong to a certain set, group, or *algebra*. In that algebra, there are axioms, which are rules that must be followed for every action within that algebra. For example, there is an axiom that says that if $2 + 3 = 5$ then $3 + 2 = 5$ must also be true, which is known as the <b>commutative rule</b>. It may seem simple, but that is only because we have been taught that is true. There are other algebras where that is not true! Another example is the distributive rule $(A + B)C = AC + BC$.\n",
    "\n",
    "The axiom (or rule) we are going to use here is the rule that:\n",
    "\n",
    "<span style=\"color:red\">In our algebra exists a number $1$ such that any other number (or element) $x$ multiplied by one is unaffected by this multiplication</span>, or such that\n",
    "\n",
    "$$ (x)(1) = x $$\n",
    "\n",
    "<hr style=\"height:2px;border-width:0;color:gray;background-color:gray\">"
   ]
  },
  {
   "cell_type": "markdown",
   "metadata": {},
   "source": [
    "### How to Write \"1\"\n",
    "There are many ways we can write the number \"1\". Here are three examples:\n",
    "$$1$$\n",
    "\n",
    "$$\\frac{2}{2}$$\n",
    "\n",
    "$$\\frac{\\sqrt{2x}}{\\sqrt{2x}}$$\n",
    "\n",
    "We will use the relationships between units to write \"1\". For example, 3.281 ft is equivalent to 1 m. That means that we can write\n",
    "\n",
    "$$\\frac{3.281~ft}{1~m} = 1$$\n",
    "\n",
    "or \n",
    "\n",
    "$$\\frac{1~m}{3.281~ft} = 1$$\n",
    "\n",
    "We have now written the number \"1\" in terms of numbers and units.\n",
    "<hr style=\"height:2px;border-width:0;color:gray;background-color:gray\">"
   ]
  },
  {
   "cell_type": "markdown",
   "metadata": {},
   "source": [
    "### Unit Conversion Example\n",
    "We will now use the above result for \"1\" to convert units between ft and m. \n",
    "\n",
    "### Problem\n",
    "Convert 2.6 m to ft.\n",
    "\n",
    "<div class=\"alert alert-block alert-success\">\n",
    "    <b> Solution </b>\n",
    "\n",
    "We are going to multiply 2.6 m by 1:\n",
    "\n",
    "$$(2.6~m)(1)$$\n",
    "\n",
    "Since we want to get rid of the meter unit \"m\", we should find something that can divide it out. Great, we have a result from above for \"1\" where \"m\" is in the denominator. Let us try that out:\n",
    "\n",
    "$$(2.6~m)\\left(\\frac{3.281~ft}{1~m}\\right)$$\n",
    "\n",
    "We can deal with the numericals and units separately. The units will divide \"m\" out and leave \"ft\", while the numericals results in 8.5306:\n",
    "\n",
    "$$(2.6~m)\\left(\\frac{3.281~ft}{1~m}\\right) = 8.5~ft$$\n",
    "    \n",
    "Hence, 2.6 m is the same as 8.5 ft. Notice that we left the answer with 2 significant figures.\n",
    "</div>\n",
    "\n",
    "<hr style=\"height:2px;border-width:0;color:gray;background-color:gray\">"
   ]
  },
  {
   "cell_type": "markdown",
   "metadata": {},
   "source": [
    "Now you guys try the following problem:\n",
    "<div class=\"alert alert-warning\">\n",
    "    <h2>Box 1</h2>\n",
    "    \n",
    "Convert 3.0 ft to m.\n",
    "</div>\n",
    "\n",
    "<hr style=\"height:2px;border-width:0;color:gray;background-color:gray\">"
   ]
  }
 ],
 "metadata": {
  "kernelspec": {
   "display_name": "Python 3 (ipykernel)",
   "language": "python",
   "name": "python3"
  },
  "language_info": {
   "codemirror_mode": {
    "name": "ipython",
    "version": 3
   },
   "file_extension": ".py",
   "mimetype": "text/x-python",
   "name": "python",
   "nbconvert_exporter": "python",
   "pygments_lexer": "ipython3",
   "version": "3.10.9"
  }
 },
 "nbformat": 4,
 "nbformat_minor": 2
}
